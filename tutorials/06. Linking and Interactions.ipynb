{
 "cells": [
  {
   "cell_type": "markdown",
   "metadata": {},
   "source": [
    "# 06. Linking and Interactions\n",
    "http://nbviewer.jupyter.org/github/bokeh/bokeh-notebooks/blob/master/tutorial/06%20-%20Linking%20and%20Interactions.ipynb"
   ]
  },
  {
   "cell_type": "code",
   "execution_count": 1,
   "metadata": {},
   "outputs": [
    {
     "data": {
      "text/html": [
       "\n",
       "    <div class=\"bk-root\">\n",
       "        <a href=\"https://bokeh.pydata.org\" target=\"_blank\" class=\"bk-logo bk-logo-small bk-logo-notebook\"></a>\n",
       "        <span id=\"31be937e-79eb-4e96-b1af-af8556de6fb8\">Loading BokehJS ...</span>\n",
       "    </div>"
      ]
     },
     "metadata": {},
     "output_type": "display_data"
    },
    {
     "data": {
      "application/javascript": [
       "\n",
       "(function(root) {\n",
       "  function now() {\n",
       "    return new Date();\n",
       "  }\n",
       "\n",
       "  var force = true;\n",
       "\n",
       "  if (typeof (root._bokeh_onload_callbacks) === \"undefined\" || force === true) {\n",
       "    root._bokeh_onload_callbacks = [];\n",
       "    root._bokeh_is_loading = undefined;\n",
       "  }\n",
       "\n",
       "  var JS_MIME_TYPE = 'application/javascript';\n",
       "  var HTML_MIME_TYPE = 'text/html';\n",
       "  var EXEC_MIME_TYPE = 'application/vnd.bokehjs_exec.v0+json';\n",
       "  var CLASS_NAME = 'output_bokeh rendered_html';\n",
       "\n",
       "  /**\n",
       "   * Render data to the DOM node\n",
       "   */\n",
       "  function render(props, node) {\n",
       "    var script = document.createElement(\"script\");\n",
       "    node.appendChild(script);\n",
       "  }\n",
       "\n",
       "  /**\n",
       "   * Handle when an output is cleared or removed\n",
       "   */\n",
       "  function handleClearOutput(event, handle) {\n",
       "    var cell = handle.cell;\n",
       "\n",
       "    var id = cell.output_area._bokeh_element_id;\n",
       "    var server_id = cell.output_area._bokeh_server_id;\n",
       "    // Clean up Bokeh references\n",
       "    if (id !== undefined) {\n",
       "      Bokeh.index[id].model.document.clear();\n",
       "      delete Bokeh.index[id];\n",
       "    }\n",
       "\n",
       "    if (server_id !== undefined) {\n",
       "      // Clean up Bokeh references\n",
       "      var cmd = \"from bokeh.io.state import curstate; print(curstate().uuid_to_server['\" + server_id + \"'].get_sessions()[0].document.roots[0]._id)\";\n",
       "      cell.notebook.kernel.execute(cmd, {\n",
       "        iopub: {\n",
       "          output: function(msg) {\n",
       "            var element_id = msg.content.text.trim();\n",
       "            Bokeh.index[element_id].model.document.clear();\n",
       "            delete Bokeh.index[element_id];\n",
       "          }\n",
       "        }\n",
       "      });\n",
       "      // Destroy server and session\n",
       "      var cmd = \"import bokeh.io.notebook as ion; ion.destroy_server('\" + server_id + \"')\";\n",
       "      cell.notebook.kernel.execute(cmd);\n",
       "    }\n",
       "  }\n",
       "\n",
       "  /**\n",
       "   * Handle when a new output is added\n",
       "   */\n",
       "  function handleAddOutput(event, handle) {\n",
       "    var output_area = handle.output_area;\n",
       "    var output = handle.output;\n",
       "\n",
       "    // limit handleAddOutput to display_data with EXEC_MIME_TYPE content only\n",
       "    if ((output.output_type != \"display_data\") || (!output.data.hasOwnProperty(EXEC_MIME_TYPE))) {\n",
       "      return\n",
       "    }\n",
       "\n",
       "    var toinsert = output_area.element.find(\".\" + CLASS_NAME.split(' ')[0]);\n",
       "\n",
       "    if (output.metadata[EXEC_MIME_TYPE][\"id\"] !== undefined) {\n",
       "      toinsert[0].firstChild.textContent = output.data[JS_MIME_TYPE];\n",
       "      // store reference to embed id on output_area\n",
       "      output_area._bokeh_element_id = output.metadata[EXEC_MIME_TYPE][\"id\"];\n",
       "    }\n",
       "    if (output.metadata[EXEC_MIME_TYPE][\"server_id\"] !== undefined) {\n",
       "      var bk_div = document.createElement(\"div\");\n",
       "      bk_div.innerHTML = output.data[HTML_MIME_TYPE];\n",
       "      var script_attrs = bk_div.children[0].attributes;\n",
       "      for (var i = 0; i < script_attrs.length; i++) {\n",
       "        toinsert[0].firstChild.setAttribute(script_attrs[i].name, script_attrs[i].value);\n",
       "      }\n",
       "      // store reference to server id on output_area\n",
       "      output_area._bokeh_server_id = output.metadata[EXEC_MIME_TYPE][\"server_id\"];\n",
       "    }\n",
       "  }\n",
       "\n",
       "  function register_renderer(events, OutputArea) {\n",
       "\n",
       "    function append_mime(data, metadata, element) {\n",
       "      // create a DOM node to render to\n",
       "      var toinsert = this.create_output_subarea(\n",
       "        metadata,\n",
       "        CLASS_NAME,\n",
       "        EXEC_MIME_TYPE\n",
       "      );\n",
       "      this.keyboard_manager.register_events(toinsert);\n",
       "      // Render to node\n",
       "      var props = {data: data, metadata: metadata[EXEC_MIME_TYPE]};\n",
       "      render(props, toinsert[0]);\n",
       "      element.append(toinsert);\n",
       "      return toinsert\n",
       "    }\n",
       "\n",
       "    /* Handle when an output is cleared or removed */\n",
       "    events.on('clear_output.CodeCell', handleClearOutput);\n",
       "    events.on('delete.Cell', handleClearOutput);\n",
       "\n",
       "    /* Handle when a new output is added */\n",
       "    events.on('output_added.OutputArea', handleAddOutput);\n",
       "\n",
       "    /**\n",
       "     * Register the mime type and append_mime function with output_area\n",
       "     */\n",
       "    OutputArea.prototype.register_mime_type(EXEC_MIME_TYPE, append_mime, {\n",
       "      /* Is output safe? */\n",
       "      safe: true,\n",
       "      /* Index of renderer in `output_area.display_order` */\n",
       "      index: 0\n",
       "    });\n",
       "  }\n",
       "\n",
       "  // register the mime type if in Jupyter Notebook environment and previously unregistered\n",
       "  if (root.Jupyter !== undefined) {\n",
       "    var events = require('base/js/events');\n",
       "    var OutputArea = require('notebook/js/outputarea').OutputArea;\n",
       "\n",
       "    if (OutputArea.prototype.mime_types().indexOf(EXEC_MIME_TYPE) == -1) {\n",
       "      register_renderer(events, OutputArea);\n",
       "    }\n",
       "  }\n",
       "\n",
       "  \n",
       "  if (typeof (root._bokeh_timeout) === \"undefined\" || force === true) {\n",
       "    root._bokeh_timeout = Date.now() + 5000;\n",
       "    root._bokeh_failed_load = false;\n",
       "  }\n",
       "\n",
       "  var NB_LOAD_WARNING = {'data': {'text/html':\n",
       "     \"<div style='background-color: #fdd'>\\n\"+\n",
       "     \"<p>\\n\"+\n",
       "     \"BokehJS does not appear to have successfully loaded. If loading BokehJS from CDN, this \\n\"+\n",
       "     \"may be due to a slow or bad network connection. Possible fixes:\\n\"+\n",
       "     \"</p>\\n\"+\n",
       "     \"<ul>\\n\"+\n",
       "     \"<li>re-rerun `output_notebook()` to attempt to load from CDN again, or</li>\\n\"+\n",
       "     \"<li>use INLINE resources instead, as so:</li>\\n\"+\n",
       "     \"</ul>\\n\"+\n",
       "     \"<code>\\n\"+\n",
       "     \"from bokeh.resources import INLINE\\n\"+\n",
       "     \"output_notebook(resources=INLINE)\\n\"+\n",
       "     \"</code>\\n\"+\n",
       "     \"</div>\"}};\n",
       "\n",
       "  function display_loaded() {\n",
       "    var el = document.getElementById(\"31be937e-79eb-4e96-b1af-af8556de6fb8\");\n",
       "    if (el != null) {\n",
       "      el.textContent = \"BokehJS is loading...\";\n",
       "    }\n",
       "    if (root.Bokeh !== undefined) {\n",
       "      if (el != null) {\n",
       "        el.textContent = \"BokehJS \" + root.Bokeh.version + \" successfully loaded.\";\n",
       "      }\n",
       "    } else if (Date.now() < root._bokeh_timeout) {\n",
       "      setTimeout(display_loaded, 100)\n",
       "    }\n",
       "  }\n",
       "\n",
       "\n",
       "  function run_callbacks() {\n",
       "    try {\n",
       "      root._bokeh_onload_callbacks.forEach(function(callback) { callback() });\n",
       "    }\n",
       "    finally {\n",
       "      delete root._bokeh_onload_callbacks\n",
       "    }\n",
       "    console.info(\"Bokeh: all callbacks have finished\");\n",
       "  }\n",
       "\n",
       "  function load_libs(js_urls, callback) {\n",
       "    root._bokeh_onload_callbacks.push(callback);\n",
       "    if (root._bokeh_is_loading > 0) {\n",
       "      console.log(\"Bokeh: BokehJS is being loaded, scheduling callback at\", now());\n",
       "      return null;\n",
       "    }\n",
       "    if (js_urls == null || js_urls.length === 0) {\n",
       "      run_callbacks();\n",
       "      return null;\n",
       "    }\n",
       "    console.log(\"Bokeh: BokehJS not loaded, scheduling load and callback at\", now());\n",
       "    root._bokeh_is_loading = js_urls.length;\n",
       "    for (var i = 0; i < js_urls.length; i++) {\n",
       "      var url = js_urls[i];\n",
       "      var s = document.createElement('script');\n",
       "      s.src = url;\n",
       "      s.async = false;\n",
       "      s.onreadystatechange = s.onload = function() {\n",
       "        root._bokeh_is_loading--;\n",
       "        if (root._bokeh_is_loading === 0) {\n",
       "          console.log(\"Bokeh: all BokehJS libraries loaded\");\n",
       "          run_callbacks()\n",
       "        }\n",
       "      };\n",
       "      s.onerror = function() {\n",
       "        console.warn(\"failed to load library \" + url);\n",
       "      };\n",
       "      console.log(\"Bokeh: injecting script tag for BokehJS library: \", url);\n",
       "      document.getElementsByTagName(\"head\")[0].appendChild(s);\n",
       "    }\n",
       "  };var element = document.getElementById(\"31be937e-79eb-4e96-b1af-af8556de6fb8\");\n",
       "  if (element == null) {\n",
       "    console.log(\"Bokeh: ERROR: autoload.js configured with elementid '31be937e-79eb-4e96-b1af-af8556de6fb8' but no matching script tag was found. \")\n",
       "    return false;\n",
       "  }\n",
       "\n",
       "  var js_urls = [\"https://cdn.pydata.org/bokeh/release/bokeh-0.12.13.min.js\", \"https://cdn.pydata.org/bokeh/release/bokeh-widgets-0.12.13.min.js\", \"https://cdn.pydata.org/bokeh/release/bokeh-tables-0.12.13.min.js\", \"https://cdn.pydata.org/bokeh/release/bokeh-gl-0.12.13.min.js\"];\n",
       "\n",
       "  var inline_js = [\n",
       "    function(Bokeh) {\n",
       "      Bokeh.set_log_level(\"info\");\n",
       "    },\n",
       "    \n",
       "    function(Bokeh) {\n",
       "      \n",
       "    },\n",
       "    function(Bokeh) {\n",
       "      console.log(\"Bokeh: injecting CSS: https://cdn.pydata.org/bokeh/release/bokeh-0.12.13.min.css\");\n",
       "      Bokeh.embed.inject_css(\"https://cdn.pydata.org/bokeh/release/bokeh-0.12.13.min.css\");\n",
       "      console.log(\"Bokeh: injecting CSS: https://cdn.pydata.org/bokeh/release/bokeh-widgets-0.12.13.min.css\");\n",
       "      Bokeh.embed.inject_css(\"https://cdn.pydata.org/bokeh/release/bokeh-widgets-0.12.13.min.css\");\n",
       "      console.log(\"Bokeh: injecting CSS: https://cdn.pydata.org/bokeh/release/bokeh-tables-0.12.13.min.css\");\n",
       "      Bokeh.embed.inject_css(\"https://cdn.pydata.org/bokeh/release/bokeh-tables-0.12.13.min.css\");\n",
       "    }\n",
       "  ];\n",
       "\n",
       "  function run_inline_js() {\n",
       "    \n",
       "    if ((root.Bokeh !== undefined) || (force === true)) {\n",
       "      for (var i = 0; i < inline_js.length; i++) {\n",
       "        inline_js[i].call(root, root.Bokeh);\n",
       "      }if (force === true) {\n",
       "        display_loaded();\n",
       "      }} else if (Date.now() < root._bokeh_timeout) {\n",
       "      setTimeout(run_inline_js, 100);\n",
       "    } else if (!root._bokeh_failed_load) {\n",
       "      console.log(\"Bokeh: BokehJS failed to load within specified timeout.\");\n",
       "      root._bokeh_failed_load = true;\n",
       "    } else if (force !== true) {\n",
       "      var cell = $(document.getElementById(\"31be937e-79eb-4e96-b1af-af8556de6fb8\")).parents('.cell').data().cell;\n",
       "      cell.output_area.append_execute_result(NB_LOAD_WARNING)\n",
       "    }\n",
       "\n",
       "  }\n",
       "\n",
       "  if (root._bokeh_is_loading === 0) {\n",
       "    console.log(\"Bokeh: BokehJS loaded, going straight to plotting\");\n",
       "    run_inline_js();\n",
       "  } else {\n",
       "    load_libs(js_urls, function() {\n",
       "      console.log(\"Bokeh: BokehJS plotting callback run at\", now());\n",
       "      run_inline_js();\n",
       "    });\n",
       "  }\n",
       "}(window));"
      ],
      "application/vnd.bokehjs_load.v0+json": "\n(function(root) {\n  function now() {\n    return new Date();\n  }\n\n  var force = true;\n\n  if (typeof (root._bokeh_onload_callbacks) === \"undefined\" || force === true) {\n    root._bokeh_onload_callbacks = [];\n    root._bokeh_is_loading = undefined;\n  }\n\n  \n\n  \n  if (typeof (root._bokeh_timeout) === \"undefined\" || force === true) {\n    root._bokeh_timeout = Date.now() + 5000;\n    root._bokeh_failed_load = false;\n  }\n\n  var NB_LOAD_WARNING = {'data': {'text/html':\n     \"<div style='background-color: #fdd'>\\n\"+\n     \"<p>\\n\"+\n     \"BokehJS does not appear to have successfully loaded. If loading BokehJS from CDN, this \\n\"+\n     \"may be due to a slow or bad network connection. Possible fixes:\\n\"+\n     \"</p>\\n\"+\n     \"<ul>\\n\"+\n     \"<li>re-rerun `output_notebook()` to attempt to load from CDN again, or</li>\\n\"+\n     \"<li>use INLINE resources instead, as so:</li>\\n\"+\n     \"</ul>\\n\"+\n     \"<code>\\n\"+\n     \"from bokeh.resources import INLINE\\n\"+\n     \"output_notebook(resources=INLINE)\\n\"+\n     \"</code>\\n\"+\n     \"</div>\"}};\n\n  function display_loaded() {\n    var el = document.getElementById(\"31be937e-79eb-4e96-b1af-af8556de6fb8\");\n    if (el != null) {\n      el.textContent = \"BokehJS is loading...\";\n    }\n    if (root.Bokeh !== undefined) {\n      if (el != null) {\n        el.textContent = \"BokehJS \" + root.Bokeh.version + \" successfully loaded.\";\n      }\n    } else if (Date.now() < root._bokeh_timeout) {\n      setTimeout(display_loaded, 100)\n    }\n  }\n\n\n  function run_callbacks() {\n    try {\n      root._bokeh_onload_callbacks.forEach(function(callback) { callback() });\n    }\n    finally {\n      delete root._bokeh_onload_callbacks\n    }\n    console.info(\"Bokeh: all callbacks have finished\");\n  }\n\n  function load_libs(js_urls, callback) {\n    root._bokeh_onload_callbacks.push(callback);\n    if (root._bokeh_is_loading > 0) {\n      console.log(\"Bokeh: BokehJS is being loaded, scheduling callback at\", now());\n      return null;\n    }\n    if (js_urls == null || js_urls.length === 0) {\n      run_callbacks();\n      return null;\n    }\n    console.log(\"Bokeh: BokehJS not loaded, scheduling load and callback at\", now());\n    root._bokeh_is_loading = js_urls.length;\n    for (var i = 0; i < js_urls.length; i++) {\n      var url = js_urls[i];\n      var s = document.createElement('script');\n      s.src = url;\n      s.async = false;\n      s.onreadystatechange = s.onload = function() {\n        root._bokeh_is_loading--;\n        if (root._bokeh_is_loading === 0) {\n          console.log(\"Bokeh: all BokehJS libraries loaded\");\n          run_callbacks()\n        }\n      };\n      s.onerror = function() {\n        console.warn(\"failed to load library \" + url);\n      };\n      console.log(\"Bokeh: injecting script tag for BokehJS library: \", url);\n      document.getElementsByTagName(\"head\")[0].appendChild(s);\n    }\n  };var element = document.getElementById(\"31be937e-79eb-4e96-b1af-af8556de6fb8\");\n  if (element == null) {\n    console.log(\"Bokeh: ERROR: autoload.js configured with elementid '31be937e-79eb-4e96-b1af-af8556de6fb8' but no matching script tag was found. \")\n    return false;\n  }\n\n  var js_urls = [\"https://cdn.pydata.org/bokeh/release/bokeh-0.12.13.min.js\", \"https://cdn.pydata.org/bokeh/release/bokeh-widgets-0.12.13.min.js\", \"https://cdn.pydata.org/bokeh/release/bokeh-tables-0.12.13.min.js\", \"https://cdn.pydata.org/bokeh/release/bokeh-gl-0.12.13.min.js\"];\n\n  var inline_js = [\n    function(Bokeh) {\n      Bokeh.set_log_level(\"info\");\n    },\n    \n    function(Bokeh) {\n      \n    },\n    function(Bokeh) {\n      console.log(\"Bokeh: injecting CSS: https://cdn.pydata.org/bokeh/release/bokeh-0.12.13.min.css\");\n      Bokeh.embed.inject_css(\"https://cdn.pydata.org/bokeh/release/bokeh-0.12.13.min.css\");\n      console.log(\"Bokeh: injecting CSS: https://cdn.pydata.org/bokeh/release/bokeh-widgets-0.12.13.min.css\");\n      Bokeh.embed.inject_css(\"https://cdn.pydata.org/bokeh/release/bokeh-widgets-0.12.13.min.css\");\n      console.log(\"Bokeh: injecting CSS: https://cdn.pydata.org/bokeh/release/bokeh-tables-0.12.13.min.css\");\n      Bokeh.embed.inject_css(\"https://cdn.pydata.org/bokeh/release/bokeh-tables-0.12.13.min.css\");\n    }\n  ];\n\n  function run_inline_js() {\n    \n    if ((root.Bokeh !== undefined) || (force === true)) {\n      for (var i = 0; i < inline_js.length; i++) {\n        inline_js[i].call(root, root.Bokeh);\n      }if (force === true) {\n        display_loaded();\n      }} else if (Date.now() < root._bokeh_timeout) {\n      setTimeout(run_inline_js, 100);\n    } else if (!root._bokeh_failed_load) {\n      console.log(\"Bokeh: BokehJS failed to load within specified timeout.\");\n      root._bokeh_failed_load = true;\n    } else if (force !== true) {\n      var cell = $(document.getElementById(\"31be937e-79eb-4e96-b1af-af8556de6fb8\")).parents('.cell').data().cell;\n      cell.output_area.append_execute_result(NB_LOAD_WARNING)\n    }\n\n  }\n\n  if (root._bokeh_is_loading === 0) {\n    console.log(\"Bokeh: BokehJS loaded, going straight to plotting\");\n    run_inline_js();\n  } else {\n    load_libs(js_urls, function() {\n      console.log(\"Bokeh: BokehJS plotting callback run at\", now());\n      run_inline_js();\n    });\n  }\n}(window));"
     },
     "metadata": {},
     "output_type": "display_data"
    }
   ],
   "source": [
    "from bokeh.io import output_notebook, show\n",
    "from bokeh.plotting import figure\n",
    "\n",
    "output_notebook()"
   ]
  },
  {
   "cell_type": "markdown",
   "metadata": {},
   "source": [
    "## Linked panning"
   ]
  },
  {
   "cell_type": "code",
   "execution_count": 3,
   "metadata": {},
   "outputs": [
    {
     "data": {
      "text/html": [
       "\n",
       "<div class=\"bk-root\">\n",
       "    <div class=\"bk-plotdiv\" id=\"4fd12373-0ab9-43cd-a0e1-7be2c581a440\"></div>\n",
       "</div>"
      ]
     },
     "metadata": {},
     "output_type": "display_data"
    },
    {
     "data": {
      "application/javascript": [
       "(function(root) {\n",
       "  function embed_document(root) {\n",
       "    \n",
       "  var docs_json = {\"51447191-6eda-4567-b927-834f0130482e\":{\"roots\":{\"references\":[{\"attributes\":{\"plot\":null,\"text\":\"\"},\"id\":\"2e7d097e-e0f8-40e8-a38a-bc23523f0905\",\"type\":\"Title\"},{\"attributes\":{\"plot\":null,\"text\":\"\"},\"id\":\"5dc9257d-e6ea-4007-8da4-c4e16e288c4f\",\"type\":\"Title\"},{\"attributes\":{},\"id\":\"4f9582ca-0c91-43e3-b728-b7e830dfa518\",\"type\":\"BasicTickFormatter\"},{\"attributes\":{},\"id\":\"d58bb549-d7a3-4a6e-8f36-458a797c2d3d\",\"type\":\"BasicTickFormatter\"},{\"attributes\":{},\"id\":\"79b5c5a8-418d-4655-8e94-25d7a9e53afe\",\"type\":\"BasicTickFormatter\"},{\"attributes\":{\"data_source\":{\"id\":\"f7f8a654-1afa-4838-8980-966c67e8d113\",\"type\":\"ColumnDataSource\"},\"glyph\":{\"id\":\"40fc3535-83ca-4b48-9acd-2e11bd1493ae\",\"type\":\"Circle\"},\"hover_glyph\":null,\"muted_glyph\":null,\"nonselection_glyph\":{\"id\":\"cb9d0957-488e-4919-b1d5-28c3fd032f88\",\"type\":\"Circle\"},\"selection_glyph\":null,\"view\":{\"id\":\"2c8f8264-09c5-4bdc-950c-65ed1fdb4e29\",\"type\":\"CDSView\"}},\"id\":\"11a6a267-baf3-4ea7-a75d-e7cae3601909\",\"type\":\"GlyphRenderer\"},{\"attributes\":{\"children\":[{\"id\":\"38d95e99-dbd5-4f72-a86a-5df75284c708\",\"type\":\"ToolbarBox\"},{\"id\":\"9dabed68-ddea-40f9-9959-8cc18ee491fc\",\"type\":\"Column\"}]},\"id\":\"f0f8e349-d7e9-4325-9b57-3c71741072b8\",\"type\":\"Column\"},{\"attributes\":{\"below\":[{\"id\":\"dab39e07-7447-4837-950d-0b3e5f87548e\",\"type\":\"LinearAxis\"}],\"left\":[{\"id\":\"b76d7900-56e0-485c-98a0-8ad8fad73c5b\",\"type\":\"LinearAxis\"}],\"plot_height\":250,\"plot_width\":250,\"renderers\":[{\"id\":\"dab39e07-7447-4837-950d-0b3e5f87548e\",\"type\":\"LinearAxis\"},{\"id\":\"25073787-4106-4313-9626-9c8f046869d0\",\"type\":\"Grid\"},{\"id\":\"b76d7900-56e0-485c-98a0-8ad8fad73c5b\",\"type\":\"LinearAxis\"},{\"id\":\"2ddcd190-1684-4173-96d4-6b1006a47943\",\"type\":\"Grid\"},{\"id\":\"11a6a267-baf3-4ea7-a75d-e7cae3601909\",\"type\":\"GlyphRenderer\"}],\"title\":{\"id\":\"2e7d097e-e0f8-40e8-a38a-bc23523f0905\",\"type\":\"Title\"},\"toolbar\":{\"id\":\"535cc7de-dfc2-4e46-8935-0af3566be09f\",\"type\":\"Toolbar\"},\"toolbar_location\":null,\"x_range\":{\"id\":\"75d33d39-d908-42dc-bcd3-77c816dc3d9c\",\"type\":\"DataRange1d\"},\"x_scale\":{\"id\":\"72355544-3bd8-4d73-9790-ab44cea423d6\",\"type\":\"LinearScale\"},\"y_range\":{\"id\":\"825f214d-0b96-4b41-b10a-1b54d21fe0df\",\"type\":\"DataRange1d\"},\"y_scale\":{\"id\":\"5efe3959-d387-4b42-aa61-5399eacd89bd\",\"type\":\"LinearScale\"}},\"id\":\"1a1ed559-d278-44cf-9325-41f069e7f940\",\"subtype\":\"Figure\",\"type\":\"Plot\"},{\"attributes\":{\"active_drag\":\"auto\",\"active_inspect\":\"auto\",\"active_scroll\":\"auto\",\"active_tap\":\"auto\",\"tools\":[{\"id\":\"76f0df80-4be0-45bc-bbb7-bd0965b16a9c\",\"type\":\"PanTool\"},{\"id\":\"2a1af280-c08d-4a4d-84bc-1323d6c351cc\",\"type\":\"WheelZoomTool\"}]},\"id\":\"535cc7de-dfc2-4e46-8935-0af3566be09f\",\"type\":\"Toolbar\"},{\"attributes\":{\"callback\":null},\"id\":\"75d33d39-d908-42dc-bcd3-77c816dc3d9c\",\"type\":\"DataRange1d\"},{\"attributes\":{\"callback\":null},\"id\":\"825f214d-0b96-4b41-b10a-1b54d21fe0df\",\"type\":\"DataRange1d\"},{\"attributes\":{},\"id\":\"72355544-3bd8-4d73-9790-ab44cea423d6\",\"type\":\"LinearScale\"},{\"attributes\":{},\"id\":\"5efe3959-d387-4b42-aa61-5399eacd89bd\",\"type\":\"LinearScale\"},{\"attributes\":{\"tools\":[{\"id\":\"76f0df80-4be0-45bc-bbb7-bd0965b16a9c\",\"type\":\"PanTool\"},{\"id\":\"2a1af280-c08d-4a4d-84bc-1323d6c351cc\",\"type\":\"WheelZoomTool\"},{\"id\":\"445edf36-7a2c-4f72-86e7-f65a87833f92\",\"type\":\"PanTool\"},{\"id\":\"a57b9fbf-bbeb-4d3d-bb04-239cbc82b73b\",\"type\":\"WheelZoomTool\"},{\"id\":\"e39ea1be-5a04-44ca-9f0f-660cbe279137\",\"type\":\"PanTool\"},{\"id\":\"e35f5f16-7604-4e4e-a47a-817f2ce42a03\",\"type\":\"WheelZoomTool\"}]},\"id\":\"0007cdfa-e993-427c-a153-c743e6a4ed6b\",\"type\":\"ProxyToolbar\"},{\"attributes\":{\"below\":[{\"id\":\"4162b904-cac2-4877-8679-ddedc85c09ac\",\"type\":\"LinearAxis\"}],\"left\":[{\"id\":\"7898f199-b63c-4036-9daf-71f5bd037cab\",\"type\":\"LinearAxis\"}],\"plot_height\":250,\"plot_width\":250,\"renderers\":[{\"id\":\"4162b904-cac2-4877-8679-ddedc85c09ac\",\"type\":\"LinearAxis\"},{\"id\":\"457e6c22-a7ec-46e0-9f55-709c699b60f4\",\"type\":\"Grid\"},{\"id\":\"7898f199-b63c-4036-9daf-71f5bd037cab\",\"type\":\"LinearAxis\"},{\"id\":\"b38773c6-bbc1-4c85-9dcf-31fbdfc1b0f3\",\"type\":\"Grid\"},{\"id\":\"23b91ccf-7145-4631-a9ca-aaae82812be9\",\"type\":\"GlyphRenderer\"}],\"title\":{\"id\":\"6911118c-2b57-4a7a-bf91-b4506ce19f9a\",\"type\":\"Title\"},\"toolbar\":{\"id\":\"d0fd9861-73aa-42c8-93e4-6c9bac7f1f69\",\"type\":\"Toolbar\"},\"toolbar_location\":null,\"x_range\":{\"id\":\"75d33d39-d908-42dc-bcd3-77c816dc3d9c\",\"type\":\"DataRange1d\"},\"x_scale\":{\"id\":\"50e7438f-b6d8-4b17-8f78-4d2ddcf1406d\",\"type\":\"LinearScale\"},\"y_range\":{\"id\":\"825f214d-0b96-4b41-b10a-1b54d21fe0df\",\"type\":\"DataRange1d\"},\"y_scale\":{\"id\":\"e7282457-c4a5-40cd-99ad-207cdf3928ca\",\"type\":\"LinearScale\"}},\"id\":\"042605a3-094f-4361-aa8e-3396ec0d688e\",\"subtype\":\"Figure\",\"type\":\"Plot\"},{\"attributes\":{\"formatter\":{\"id\":\"4f9582ca-0c91-43e3-b728-b7e830dfa518\",\"type\":\"BasicTickFormatter\"},\"plot\":{\"id\":\"1a1ed559-d278-44cf-9325-41f069e7f940\",\"subtype\":\"Figure\",\"type\":\"Plot\"},\"ticker\":{\"id\":\"7f9dba48-d517-400e-9d91-af92efaddb1b\",\"type\":\"BasicTicker\"}},\"id\":\"dab39e07-7447-4837-950d-0b3e5f87548e\",\"type\":\"LinearAxis\"},{\"attributes\":{},\"id\":\"7f9dba48-d517-400e-9d91-af92efaddb1b\",\"type\":\"BasicTicker\"},{\"attributes\":{\"plot\":{\"id\":\"1a1ed559-d278-44cf-9325-41f069e7f940\",\"subtype\":\"Figure\",\"type\":\"Plot\"},\"ticker\":{\"id\":\"7f9dba48-d517-400e-9d91-af92efaddb1b\",\"type\":\"BasicTicker\"}},\"id\":\"25073787-4106-4313-9626-9c8f046869d0\",\"type\":\"Grid\"},{\"attributes\":{\"formatter\":{\"id\":\"77b62351-8192-403b-bf1d-732a8cb4a184\",\"type\":\"BasicTickFormatter\"},\"plot\":{\"id\":\"1a1ed559-d278-44cf-9325-41f069e7f940\",\"subtype\":\"Figure\",\"type\":\"Plot\"},\"ticker\":{\"id\":\"074f71d6-4868-46f1-a98f-58a3807de7d1\",\"type\":\"BasicTicker\"}},\"id\":\"b76d7900-56e0-485c-98a0-8ad8fad73c5b\",\"type\":\"LinearAxis\"},{\"attributes\":{},\"id\":\"074f71d6-4868-46f1-a98f-58a3807de7d1\",\"type\":\"BasicTicker\"},{\"attributes\":{\"dimension\":1,\"plot\":{\"id\":\"1a1ed559-d278-44cf-9325-41f069e7f940\",\"subtype\":\"Figure\",\"type\":\"Plot\"},\"ticker\":{\"id\":\"074f71d6-4868-46f1-a98f-58a3807de7d1\",\"type\":\"BasicTicker\"}},\"id\":\"2ddcd190-1684-4173-96d4-6b1006a47943\",\"type\":\"Grid\"},{\"attributes\":{},\"id\":\"76f0df80-4be0-45bc-bbb7-bd0965b16a9c\",\"type\":\"PanTool\"},{\"attributes\":{\"toolbar\":{\"id\":\"0007cdfa-e993-427c-a153-c743e6a4ed6b\",\"type\":\"ProxyToolbar\"},\"toolbar_location\":\"above\"},\"id\":\"38d95e99-dbd5-4f72-a86a-5df75284c708\",\"type\":\"ToolbarBox\"},{\"attributes\":{},\"id\":\"2a1af280-c08d-4a4d-84bc-1323d6c351cc\",\"type\":\"WheelZoomTool\"},{\"attributes\":{},\"id\":\"77b62351-8192-403b-bf1d-732a8cb4a184\",\"type\":\"BasicTickFormatter\"},{\"attributes\":{\"active_drag\":\"auto\",\"active_inspect\":\"auto\",\"active_scroll\":\"auto\",\"active_tap\":\"auto\",\"tools\":[{\"id\":\"445edf36-7a2c-4f72-86e7-f65a87833f92\",\"type\":\"PanTool\"},{\"id\":\"a57b9fbf-bbeb-4d3d-bb04-239cbc82b73b\",\"type\":\"WheelZoomTool\"}]},\"id\":\"d0fd9861-73aa-42c8-93e4-6c9bac7f1f69\",\"type\":\"Toolbar\"},{\"attributes\":{},\"id\":\"50e7438f-b6d8-4b17-8f78-4d2ddcf1406d\",\"type\":\"LinearScale\"},{\"attributes\":{},\"id\":\"e7282457-c4a5-40cd-99ad-207cdf3928ca\",\"type\":\"LinearScale\"},{\"attributes\":{\"plot\":{\"id\":\"042605a3-094f-4361-aa8e-3396ec0d688e\",\"subtype\":\"Figure\",\"type\":\"Plot\"},\"ticker\":{\"id\":\"5e8578f0-5d69-4390-832d-5c0780e208d7\",\"type\":\"BasicTicker\"}},\"id\":\"457e6c22-a7ec-46e0-9f55-709c699b60f4\",\"type\":\"Grid\"},{\"attributes\":{\"callback\":null,\"column_names\":[\"x\",\"y\"],\"data\":{\"x\":[0,1,2,3,4,5,6,7,8,9,10],\"y\":[10,9,8,7,6,5,4,3,2,1,0]}},\"id\":\"19581ad9-7edd-4591-9e6e-1a2379f8cabd\",\"type\":\"ColumnDataSource\"},{\"attributes\":{\"formatter\":{\"id\":\"cf343c6d-59f8-48d2-9129-a9cacab891b8\",\"type\":\"BasicTickFormatter\"},\"plot\":{\"id\":\"042605a3-094f-4361-aa8e-3396ec0d688e\",\"subtype\":\"Figure\",\"type\":\"Plot\"},\"ticker\":{\"id\":\"5e8578f0-5d69-4390-832d-5c0780e208d7\",\"type\":\"BasicTicker\"}},\"id\":\"4162b904-cac2-4877-8679-ddedc85c09ac\",\"type\":\"LinearAxis\"},{\"attributes\":{\"fill_color\":{\"value\":\"firebrick\"},\"line_color\":{\"value\":\"firebrick\"},\"size\":{\"units\":\"screen\",\"value\":10},\"x\":{\"field\":\"x\"},\"y\":{\"field\":\"y\"}},\"id\":\"384c34b4-ebc2-4210-94ee-70c28711bea7\",\"type\":\"Triangle\"},{\"attributes\":{},\"id\":\"5e8578f0-5d69-4390-832d-5c0780e208d7\",\"type\":\"BasicTicker\"},{\"attributes\":{\"formatter\":{\"id\":\"4c2319ab-27f5-43b0-bfa9-142c9fa22e1c\",\"type\":\"BasicTickFormatter\"},\"plot\":{\"id\":\"042605a3-094f-4361-aa8e-3396ec0d688e\",\"subtype\":\"Figure\",\"type\":\"Plot\"},\"ticker\":{\"id\":\"8a5f22ce-9704-4788-9222-213e5ea97cb5\",\"type\":\"BasicTicker\"}},\"id\":\"7898f199-b63c-4036-9daf-71f5bd037cab\",\"type\":\"LinearAxis\"},{\"attributes\":{},\"id\":\"8a5f22ce-9704-4788-9222-213e5ea97cb5\",\"type\":\"BasicTicker\"},{\"attributes\":{\"dimension\":1,\"plot\":{\"id\":\"042605a3-094f-4361-aa8e-3396ec0d688e\",\"subtype\":\"Figure\",\"type\":\"Plot\"},\"ticker\":{\"id\":\"8a5f22ce-9704-4788-9222-213e5ea97cb5\",\"type\":\"BasicTicker\"}},\"id\":\"b38773c6-bbc1-4c85-9dcf-31fbdfc1b0f3\",\"type\":\"Grid\"},{\"attributes\":{\"callback\":null},\"id\":\"e29e2d27-168b-4a17-8f9a-957274c648c0\",\"type\":\"DataRange1d\"},{\"attributes\":{},\"id\":\"445edf36-7a2c-4f72-86e7-f65a87833f92\",\"type\":\"PanTool\"},{\"attributes\":{\"source\":{\"id\":\"45da7361-55d1-48bb-8617-a6416cd06aca\",\"type\":\"ColumnDataSource\"}},\"id\":\"cf4488d6-d8a5-4534-978a-3c33f7d842ec\",\"type\":\"CDSView\"},{\"attributes\":{},\"id\":\"a57b9fbf-bbeb-4d3d-bb04-239cbc82b73b\",\"type\":\"WheelZoomTool\"},{\"attributes\":{\"fill_color\":{\"value\":\"navy\"},\"line_color\":{\"value\":\"navy\"},\"size\":{\"units\":\"screen\",\"value\":10},\"x\":{\"field\":\"x\"},\"y\":{\"field\":\"y\"}},\"id\":\"40fc3535-83ca-4b48-9acd-2e11bd1493ae\",\"type\":\"Circle\"},{\"attributes\":{\"fill_alpha\":{\"value\":0.1},\"fill_color\":{\"value\":\"#1f77b4\"},\"line_alpha\":{\"value\":0.1},\"line_color\":{\"value\":\"#1f77b4\"},\"size\":{\"units\":\"screen\",\"value\":10},\"x\":{\"field\":\"x\"},\"y\":{\"field\":\"y\"}},\"id\":\"6456bad2-2e37-40d4-bd6e-83b114886e58\",\"type\":\"Triangle\"},{\"attributes\":{\"data_source\":{\"id\":\"19581ad9-7edd-4591-9e6e-1a2379f8cabd\",\"type\":\"ColumnDataSource\"},\"glyph\":{\"id\":\"384c34b4-ebc2-4210-94ee-70c28711bea7\",\"type\":\"Triangle\"},\"hover_glyph\":null,\"muted_glyph\":null,\"nonselection_glyph\":{\"id\":\"6456bad2-2e37-40d4-bd6e-83b114886e58\",\"type\":\"Triangle\"},\"selection_glyph\":null,\"view\":{\"id\":\"e897e48f-93dc-4926-a9e7-111b224dd53a\",\"type\":\"CDSView\"}},\"id\":\"23b91ccf-7145-4631-a9ca-aaae82812be9\",\"type\":\"GlyphRenderer\"},{\"attributes\":{\"source\":{\"id\":\"19581ad9-7edd-4591-9e6e-1a2379f8cabd\",\"type\":\"ColumnDataSource\"}},\"id\":\"e897e48f-93dc-4926-a9e7-111b224dd53a\",\"type\":\"CDSView\"},{\"attributes\":{},\"id\":\"cf343c6d-59f8-48d2-9129-a9cacab891b8\",\"type\":\"BasicTickFormatter\"},{\"attributes\":{\"plot\":null,\"text\":\"\"},\"id\":\"6911118c-2b57-4a7a-bf91-b4506ce19f9a\",\"type\":\"Title\"},{\"attributes\":{},\"id\":\"4c2319ab-27f5-43b0-bfa9-142c9fa22e1c\",\"type\":\"BasicTickFormatter\"},{\"attributes\":{\"active_drag\":\"auto\",\"active_inspect\":\"auto\",\"active_scroll\":\"auto\",\"active_tap\":\"auto\",\"tools\":[{\"id\":\"e39ea1be-5a04-44ca-9f0f-660cbe279137\",\"type\":\"PanTool\"},{\"id\":\"e35f5f16-7604-4e4e-a47a-817f2ce42a03\",\"type\":\"WheelZoomTool\"}]},\"id\":\"d0d3b02b-ef84-4fb7-994c-be4841648979\",\"type\":\"Toolbar\"},{\"attributes\":{},\"id\":\"94c6aa77-edd7-4feb-a44f-223356fb65b5\",\"type\":\"LinearScale\"},{\"attributes\":{},\"id\":\"37707119-a371-4640-bc1a-ae6345ca00f0\",\"type\":\"LinearScale\"},{\"attributes\":{\"fill_alpha\":{\"value\":0.1},\"fill_color\":{\"value\":\"#1f77b4\"},\"line_alpha\":{\"value\":0.1},\"line_color\":{\"value\":\"#1f77b4\"},\"size\":{\"units\":\"screen\",\"value\":10},\"x\":{\"field\":\"x\"},\"y\":{\"field\":\"y\"}},\"id\":\"cb9d0957-488e-4919-b1d5-28c3fd032f88\",\"type\":\"Circle\"},{\"attributes\":{\"callback\":null,\"column_names\":[\"x\",\"y\"],\"data\":{\"x\":[0,1,2,3,4,5,6,7,8,9,10],\"y\":[5,4,3,2,1,0,1,2,3,4,5]}},\"id\":\"45da7361-55d1-48bb-8617-a6416cd06aca\",\"type\":\"ColumnDataSource\"},{\"attributes\":{\"plot\":{\"id\":\"b1ca0b5d-4137-463a-8204-e88abfff3d0a\",\"subtype\":\"Figure\",\"type\":\"Plot\"},\"ticker\":{\"id\":\"a42d1d9f-31ca-49fa-af9a-e43a3ca78b93\",\"type\":\"BasicTicker\"}},\"id\":\"ef2afb01-6da5-4739-989d-e30f2e482287\",\"type\":\"Grid\"},{\"attributes\":{\"fill_color\":{\"value\":\"olive\"},\"line_color\":{\"value\":\"olive\"},\"size\":{\"units\":\"screen\",\"value\":10},\"x\":{\"field\":\"x\"},\"y\":{\"field\":\"y\"}},\"id\":\"7a90f45a-d3b9-4825-b302-f7ada7d0209b\",\"type\":\"Square\"},{\"attributes\":{\"formatter\":{\"id\":\"d58bb549-d7a3-4a6e-8f36-458a797c2d3d\",\"type\":\"BasicTickFormatter\"},\"plot\":{\"id\":\"b1ca0b5d-4137-463a-8204-e88abfff3d0a\",\"subtype\":\"Figure\",\"type\":\"Plot\"},\"ticker\":{\"id\":\"a42d1d9f-31ca-49fa-af9a-e43a3ca78b93\",\"type\":\"BasicTicker\"}},\"id\":\"0118975e-0054-4d34-94f4-f77c9af6a2c6\",\"type\":\"LinearAxis\"},{\"attributes\":{},\"id\":\"a42d1d9f-31ca-49fa-af9a-e43a3ca78b93\",\"type\":\"BasicTicker\"},{\"attributes\":{\"below\":[{\"id\":\"0118975e-0054-4d34-94f4-f77c9af6a2c6\",\"type\":\"LinearAxis\"}],\"left\":[{\"id\":\"0e88da7a-3e33-4106-b79b-0459f083bca0\",\"type\":\"LinearAxis\"}],\"plot_height\":250,\"plot_width\":250,\"renderers\":[{\"id\":\"0118975e-0054-4d34-94f4-f77c9af6a2c6\",\"type\":\"LinearAxis\"},{\"id\":\"ef2afb01-6da5-4739-989d-e30f2e482287\",\"type\":\"Grid\"},{\"id\":\"0e88da7a-3e33-4106-b79b-0459f083bca0\",\"type\":\"LinearAxis\"},{\"id\":\"fb9efee4-5293-4079-86e3-4edf4bdea36b\",\"type\":\"Grid\"},{\"id\":\"0a01462b-f3b2-4883-94b9-c0540375a266\",\"type\":\"GlyphRenderer\"}],\"title\":{\"id\":\"5dc9257d-e6ea-4007-8da4-c4e16e288c4f\",\"type\":\"Title\"},\"toolbar\":{\"id\":\"d0d3b02b-ef84-4fb7-994c-be4841648979\",\"type\":\"Toolbar\"},\"toolbar_location\":null,\"x_range\":{\"id\":\"75d33d39-d908-42dc-bcd3-77c816dc3d9c\",\"type\":\"DataRange1d\"},\"x_scale\":{\"id\":\"94c6aa77-edd7-4feb-a44f-223356fb65b5\",\"type\":\"LinearScale\"},\"y_range\":{\"id\":\"e29e2d27-168b-4a17-8f9a-957274c648c0\",\"type\":\"DataRange1d\"},\"y_scale\":{\"id\":\"37707119-a371-4640-bc1a-ae6345ca00f0\",\"type\":\"LinearScale\"}},\"id\":\"b1ca0b5d-4137-463a-8204-e88abfff3d0a\",\"subtype\":\"Figure\",\"type\":\"Plot\"},{\"attributes\":{\"formatter\":{\"id\":\"79b5c5a8-418d-4655-8e94-25d7a9e53afe\",\"type\":\"BasicTickFormatter\"},\"plot\":{\"id\":\"b1ca0b5d-4137-463a-8204-e88abfff3d0a\",\"subtype\":\"Figure\",\"type\":\"Plot\"},\"ticker\":{\"id\":\"0c007aac-00c1-4f4b-9011-c78f6eb5ac01\",\"type\":\"BasicTicker\"}},\"id\":\"0e88da7a-3e33-4106-b79b-0459f083bca0\",\"type\":\"LinearAxis\"},{\"attributes\":{},\"id\":\"0c007aac-00c1-4f4b-9011-c78f6eb5ac01\",\"type\":\"BasicTicker\"},{\"attributes\":{\"dimension\":1,\"plot\":{\"id\":\"b1ca0b5d-4137-463a-8204-e88abfff3d0a\",\"subtype\":\"Figure\",\"type\":\"Plot\"},\"ticker\":{\"id\":\"0c007aac-00c1-4f4b-9011-c78f6eb5ac01\",\"type\":\"BasicTicker\"}},\"id\":\"fb9efee4-5293-4079-86e3-4edf4bdea36b\",\"type\":\"Grid\"},{\"attributes\":{\"callback\":null,\"column_names\":[\"x\",\"y\"],\"data\":{\"x\":[0,1,2,3,4,5,6,7,8,9,10],\"y\":[0,1,2,3,4,5,6,7,8,9,10]}},\"id\":\"f7f8a654-1afa-4838-8980-966c67e8d113\",\"type\":\"ColumnDataSource\"},{\"attributes\":{\"children\":[{\"id\":\"1a1ed559-d278-44cf-9325-41f069e7f940\",\"subtype\":\"Figure\",\"type\":\"Plot\"},{\"id\":\"042605a3-094f-4361-aa8e-3396ec0d688e\",\"subtype\":\"Figure\",\"type\":\"Plot\"},{\"id\":\"b1ca0b5d-4137-463a-8204-e88abfff3d0a\",\"subtype\":\"Figure\",\"type\":\"Plot\"}]},\"id\":\"c1597115-b4a1-414f-b133-9db189ee0113\",\"type\":\"Row\"},{\"attributes\":{},\"id\":\"e39ea1be-5a04-44ca-9f0f-660cbe279137\",\"type\":\"PanTool\"},{\"attributes\":{\"children\":[{\"id\":\"c1597115-b4a1-414f-b133-9db189ee0113\",\"type\":\"Row\"}]},\"id\":\"9dabed68-ddea-40f9-9959-8cc18ee491fc\",\"type\":\"Column\"},{\"attributes\":{\"source\":{\"id\":\"f7f8a654-1afa-4838-8980-966c67e8d113\",\"type\":\"ColumnDataSource\"}},\"id\":\"2c8f8264-09c5-4bdc-950c-65ed1fdb4e29\",\"type\":\"CDSView\"},{\"attributes\":{},\"id\":\"e35f5f16-7604-4e4e-a47a-817f2ce42a03\",\"type\":\"WheelZoomTool\"},{\"attributes\":{\"fill_alpha\":{\"value\":0.1},\"fill_color\":{\"value\":\"#1f77b4\"},\"line_alpha\":{\"value\":0.1},\"line_color\":{\"value\":\"#1f77b4\"},\"size\":{\"units\":\"screen\",\"value\":10},\"x\":{\"field\":\"x\"},\"y\":{\"field\":\"y\"}},\"id\":\"f346808a-8f32-485a-8d5a-894ffaa031a5\",\"type\":\"Square\"},{\"attributes\":{\"data_source\":{\"id\":\"45da7361-55d1-48bb-8617-a6416cd06aca\",\"type\":\"ColumnDataSource\"},\"glyph\":{\"id\":\"7a90f45a-d3b9-4825-b302-f7ada7d0209b\",\"type\":\"Square\"},\"hover_glyph\":null,\"muted_glyph\":null,\"nonselection_glyph\":{\"id\":\"f346808a-8f32-485a-8d5a-894ffaa031a5\",\"type\":\"Square\"},\"selection_glyph\":null,\"view\":{\"id\":\"cf4488d6-d8a5-4534-978a-3c33f7d842ec\",\"type\":\"CDSView\"}},\"id\":\"0a01462b-f3b2-4883-94b9-c0540375a266\",\"type\":\"GlyphRenderer\"}],\"root_ids\":[\"f0f8e349-d7e9-4325-9b57-3c71741072b8\"]},\"title\":\"Bokeh Application\",\"version\":\"0.12.13\"}};\n",
       "  var render_items = [{\"docid\":\"51447191-6eda-4567-b927-834f0130482e\",\"elementid\":\"4fd12373-0ab9-43cd-a0e1-7be2c581a440\",\"modelid\":\"f0f8e349-d7e9-4325-9b57-3c71741072b8\"}];\n",
       "  root.Bokeh.embed.embed_items_notebook(docs_json, render_items);\n",
       "\n",
       "  }\n",
       "  if (root.Bokeh !== undefined) {\n",
       "    embed_document(root);\n",
       "  } else {\n",
       "    var attempts = 0;\n",
       "    var timer = setInterval(function(root) {\n",
       "      if (root.Bokeh !== undefined) {\n",
       "        embed_document(root);\n",
       "        clearInterval(timer);\n",
       "      }\n",
       "      attempts++;\n",
       "      if (attempts > 100) {\n",
       "        console.log(\"Bokeh: ERROR: Unable to run BokehJS code because BokehJS library is missing\")\n",
       "        clearInterval(timer);\n",
       "      }\n",
       "    }, 10, root)\n",
       "  }\n",
       "})(window);"
      ],
      "application/vnd.bokehjs_exec.v0+json": ""
     },
     "metadata": {
      "application/vnd.bokehjs_exec.v0+json": {
       "id": "f0f8e349-d7e9-4325-9b57-3c71741072b8"
      }
     },
     "output_type": "display_data"
    }
   ],
   "source": [
    "from bokeh.layouts import gridplot\n",
    "\n",
    "x = list(range(11))\n",
    "y0, y1, y2 = x, [10-i for i in x], [abs(i-5) for i in x]\n",
    "\n",
    "plot_options = dict(width=250, plot_height=250, tools='pan,wheel_zoom')\n",
    "\n",
    "# create a new plot\n",
    "s1 = figure(**plot_options)\n",
    "s1.circle(x, y0, size=10, color=\"navy\")\n",
    "\n",
    "# create a new plot and share both ranges\n",
    "s2 = figure(x_range=s1.x_range, y_range=s1.y_range, **plot_options)\n",
    "s2.triangle(x, y1, size=10, color=\"firebrick\")\n",
    "\n",
    "# create a new plot and share only one range\n",
    "s3 = figure(x_range=s1.x_range, **plot_options)\n",
    "s3.square(x, y2, size=10, color=\"olive\")\n",
    "\n",
    "p = gridplot([[s1, s2, s3]])\n",
    "\n",
    "# show the results\n",
    "show(p) "
   ]
  },
  {
   "cell_type": "markdown",
   "metadata": {},
   "source": [
    "## Linked brushing"
   ]
  },
  {
   "cell_type": "code",
   "execution_count": 5,
   "metadata": {},
   "outputs": [
    {
     "data": {
      "text/html": [
       "\n",
       "<div class=\"bk-root\">\n",
       "    <div class=\"bk-plotdiv\" id=\"623502e1-2b47-4194-af36-55b9f01e5e7a\"></div>\n",
       "</div>"
      ]
     },
     "metadata": {},
     "output_type": "display_data"
    },
    {
     "data": {
      "application/javascript": [
       "(function(root) {\n",
       "  function embed_document(root) {\n",
       "    \n",
       "  var docs_json = {\"f6541832-c7dc-4f94-852d-42bd904854fd\":{\"roots\":{\"references\":[{\"attributes\":{},\"id\":\"5338b8df-e118-4457-925c-ab59c40b5f70\",\"type\":\"HelpTool\"},{\"attributes\":{\"plot\":{\"id\":\"f427b63a-8543-4585-a4d5-85f041cc69cb\",\"subtype\":\"Figure\",\"type\":\"Plot\"},\"ticker\":{\"id\":\"418f1505-ae39-4abc-9231-b250a75eb6c3\",\"type\":\"BasicTicker\"}},\"id\":\"3f0a9132-8d82-4846-9b4d-866d163ed4b3\",\"type\":\"Grid\"},{\"attributes\":{\"bottom_units\":\"screen\",\"fill_alpha\":{\"value\":0.5},\"fill_color\":{\"value\":\"lightgrey\"},\"left_units\":\"screen\",\"level\":\"overlay\",\"line_alpha\":{\"value\":1.0},\"line_color\":{\"value\":\"black\"},\"line_dash\":[4,4],\"line_width\":{\"value\":2},\"plot\":null,\"render_mode\":\"css\",\"right_units\":\"screen\",\"top_units\":\"screen\"},\"id\":\"eda97072-4e77-493b-81b2-d4e43948d9ae\",\"type\":\"BoxAnnotation\"},{\"attributes\":{\"toolbar\":{\"id\":\"cb852b63-671d-4931-b951-2ea5b65a3c77\",\"type\":\"ProxyToolbar\"},\"toolbar_location\":\"above\"},\"id\":\"b2518386-c210-4efd-a759-e99a72bac705\",\"type\":\"ToolbarBox\"},{\"attributes\":{\"callback\":null},\"id\":\"59faa40d-9715-4224-9c91-6e3a98d2fa0e\",\"type\":\"DataRange1d\"},{\"attributes\":{\"children\":[{\"id\":\"b2518386-c210-4efd-a759-e99a72bac705\",\"type\":\"ToolbarBox\"},{\"id\":\"a5725a83-0219-4bb1-8594-317d830cb91c\",\"type\":\"Column\"}]},\"id\":\"1d8b02e8-6b28-4bef-9364-2eefc6cac861\",\"type\":\"Column\"},{\"attributes\":{},\"id\":\"6247458f-df6f-47a8-9334-42c5e9620b53\",\"type\":\"LinearScale\"},{\"attributes\":{\"tools\":[{\"id\":\"16264a42-a6f4-4d32-b220-f924945cbb11\",\"type\":\"BoxSelectTool\"},{\"id\":\"f10d4ee7-4d1e-4434-b82b-f65ccc26c0db\",\"type\":\"LassoSelectTool\"},{\"id\":\"5338b8df-e118-4457-925c-ab59c40b5f70\",\"type\":\"HelpTool\"},{\"id\":\"a614a825-4e9c-40f3-8628-e25b42e58525\",\"type\":\"BoxSelectTool\"},{\"id\":\"a2ae88fe-ee26-45a7-a7b7-1cdd72ed1c6c\",\"type\":\"LassoSelectTool\"},{\"id\":\"017bda25-3a30-4cbd-b60b-513cbfdd2ea3\",\"type\":\"HelpTool\"}]},\"id\":\"cb852b63-671d-4931-b951-2ea5b65a3c77\",\"type\":\"ProxyToolbar\"},{\"attributes\":{},\"id\":\"1757f36e-aa13-4502-bb60-b27ef7fb2d5e\",\"type\":\"LinearScale\"},{\"attributes\":{\"callback\":null,\"overlay\":{\"id\":\"b684a28a-792f-4051-b0fa-2b3589854c5f\",\"type\":\"PolyAnnotation\"}},\"id\":\"f10d4ee7-4d1e-4434-b82b-f65ccc26c0db\",\"type\":\"LassoSelectTool\"},{\"attributes\":{\"formatter\":{\"id\":\"3d29dbc2-de25-4f0b-a7dc-aac9ce914401\",\"type\":\"BasicTickFormatter\"},\"plot\":{\"id\":\"f427b63a-8543-4585-a4d5-85f041cc69cb\",\"subtype\":\"Figure\",\"type\":\"Plot\"},\"ticker\":{\"id\":\"418f1505-ae39-4abc-9231-b250a75eb6c3\",\"type\":\"BasicTicker\"}},\"id\":\"af5f0606-38b3-4798-9ae2-ec3b949b5a9b\",\"type\":\"LinearAxis\"},{\"attributes\":{},\"id\":\"418f1505-ae39-4abc-9231-b250a75eb6c3\",\"type\":\"BasicTicker\"},{\"attributes\":{\"active_drag\":\"auto\",\"active_inspect\":\"auto\",\"active_scroll\":\"auto\",\"active_tap\":\"auto\",\"tools\":[{\"id\":\"a614a825-4e9c-40f3-8628-e25b42e58525\",\"type\":\"BoxSelectTool\"},{\"id\":\"a2ae88fe-ee26-45a7-a7b7-1cdd72ed1c6c\",\"type\":\"LassoSelectTool\"},{\"id\":\"017bda25-3a30-4cbd-b60b-513cbfdd2ea3\",\"type\":\"HelpTool\"}]},\"id\":\"7a319a4f-7bf7-4f9e-b325-570a80134f01\",\"type\":\"Toolbar\"},{\"attributes\":{},\"id\":\"99d496db-4fb4-41a2-8fa8-47f7db8d75b5\",\"type\":\"BasicTickFormatter\"},{\"attributes\":{\"dimension\":1,\"plot\":{\"id\":\"f427b63a-8543-4585-a4d5-85f041cc69cb\",\"subtype\":\"Figure\",\"type\":\"Plot\"},\"ticker\":{\"id\":\"e232f4c2-dcf1-4250-a208-5e66ebe993eb\",\"type\":\"BasicTicker\"}},\"id\":\"42cdb7c2-4a4b-414e-9a81-4d22065d9c6d\",\"type\":\"Grid\"},{\"attributes\":{\"plot\":null,\"text\":\"\"},\"id\":\"58803fb8-5f66-4342-94f2-15a063bbcbac\",\"type\":\"Title\"},{\"attributes\":{\"fill_color\":{\"value\":\"#1f77b4\"},\"line_color\":{\"value\":\"#1f77b4\"},\"x\":{\"field\":\"x\"},\"y\":{\"field\":\"y1\"}},\"id\":\"ad001965-e2bf-4322-b1d0-1de397156f80\",\"type\":\"Circle\"},{\"attributes\":{\"callback\":null,\"overlay\":{\"id\":\"51a6056a-eddc-47b9-934d-b8f4c1274985\",\"type\":\"BoxAnnotation\"},\"renderers\":[{\"id\":\"935376ce-af70-4bb9-87ae-1f70614f275c\",\"type\":\"GlyphRenderer\"}]},\"id\":\"16264a42-a6f4-4d32-b220-f924945cbb11\",\"type\":\"BoxSelectTool\"},{\"attributes\":{},\"id\":\"29c00b0e-a1ee-4442-8928-6f6c0e718cc1\",\"type\":\"BasicTickFormatter\"},{\"attributes\":{},\"id\":\"34caf4dc-bdf5-4588-a403-7d686a732355\",\"type\":\"BasicTickFormatter\"},{\"attributes\":{\"source\":{\"id\":\"06fb8b50-80e1-4124-a5e1-6f9558b1aa13\",\"type\":\"ColumnDataSource\"}},\"id\":\"8d998cf8-ec1a-4c44-81c4-1777a017c6ff\",\"type\":\"CDSView\"},{\"attributes\":{\"below\":[{\"id\":\"af5f0606-38b3-4798-9ae2-ec3b949b5a9b\",\"type\":\"LinearAxis\"}],\"left\":[{\"id\":\"5769ccc3-eae5-433c-af08-34cfa5269a6e\",\"type\":\"LinearAxis\"}],\"plot_height\":300,\"plot_width\":300,\"renderers\":[{\"id\":\"af5f0606-38b3-4798-9ae2-ec3b949b5a9b\",\"type\":\"LinearAxis\"},{\"id\":\"3f0a9132-8d82-4846-9b4d-866d163ed4b3\",\"type\":\"Grid\"},{\"id\":\"5769ccc3-eae5-433c-af08-34cfa5269a6e\",\"type\":\"LinearAxis\"},{\"id\":\"42cdb7c2-4a4b-414e-9a81-4d22065d9c6d\",\"type\":\"Grid\"},{\"id\":\"51a6056a-eddc-47b9-934d-b8f4c1274985\",\"type\":\"BoxAnnotation\"},{\"id\":\"b684a28a-792f-4051-b0fa-2b3589854c5f\",\"type\":\"PolyAnnotation\"},{\"id\":\"935376ce-af70-4bb9-87ae-1f70614f275c\",\"type\":\"GlyphRenderer\"}],\"title\":{\"id\":\"eb365ff0-74bd-4d94-9282-b021098d863d\",\"type\":\"Title\"},\"toolbar\":{\"id\":\"987159ac-02ca-4127-afdc-e9fd71be22ed\",\"type\":\"Toolbar\"},\"toolbar_location\":null,\"x_range\":{\"id\":\"cbde65ea-9511-4254-b131-b2bb094e5390\",\"type\":\"DataRange1d\"},\"x_scale\":{\"id\":\"6247458f-df6f-47a8-9334-42c5e9620b53\",\"type\":\"LinearScale\"},\"y_range\":{\"id\":\"59faa40d-9715-4224-9c91-6e3a98d2fa0e\",\"type\":\"DataRange1d\"},\"y_scale\":{\"id\":\"1757f36e-aa13-4502-bb60-b27ef7fb2d5e\",\"type\":\"LinearScale\"}},\"id\":\"f427b63a-8543-4585-a4d5-85f041cc69cb\",\"subtype\":\"Figure\",\"type\":\"Plot\"},{\"attributes\":{\"fill_alpha\":{\"value\":0.1},\"fill_color\":{\"value\":\"#1f77b4\"},\"line_alpha\":{\"value\":0.1},\"line_color\":{\"value\":\"#1f77b4\"},\"x\":{\"field\":\"x\"},\"y\":{\"field\":\"y0\"}},\"id\":\"863806c1-0f73-4af3-aa96-7ed15fdb2bf1\",\"type\":\"Circle\"},{\"attributes\":{\"data_source\":{\"id\":\"06fb8b50-80e1-4124-a5e1-6f9558b1aa13\",\"type\":\"ColumnDataSource\"},\"glyph\":{\"id\":\"ad001965-e2bf-4322-b1d0-1de397156f80\",\"type\":\"Circle\"},\"hover_glyph\":null,\"muted_glyph\":null,\"nonselection_glyph\":{\"id\":\"e157cde9-71b6-4ba9-a9d7-36134431d5b5\",\"type\":\"Circle\"},\"selection_glyph\":null,\"view\":{\"id\":\"8d998cf8-ec1a-4c44-81c4-1777a017c6ff\",\"type\":\"CDSView\"}},\"id\":\"4e8da3e8-4f2f-460c-a40b-ae5665c23644\",\"type\":\"GlyphRenderer\"},{\"attributes\":{\"fill_alpha\":{\"value\":0.5},\"fill_color\":{\"value\":\"lightgrey\"},\"level\":\"overlay\",\"line_alpha\":{\"value\":1.0},\"line_color\":{\"value\":\"black\"},\"line_dash\":[4,4],\"line_width\":{\"value\":2},\"plot\":null,\"xs_units\":\"screen\",\"ys_units\":\"screen\"},\"id\":\"b684a28a-792f-4051-b0fa-2b3589854c5f\",\"type\":\"PolyAnnotation\"},{\"attributes\":{\"below\":[{\"id\":\"46a52c0f-47e4-4c36-b834-7fc799e55124\",\"type\":\"LinearAxis\"}],\"left\":[{\"id\":\"eefaec4a-73b2-48ca-96b1-d9c01b327d5f\",\"type\":\"LinearAxis\"}],\"plot_height\":300,\"plot_width\":300,\"renderers\":[{\"id\":\"46a52c0f-47e4-4c36-b834-7fc799e55124\",\"type\":\"LinearAxis\"},{\"id\":\"8c2c8228-10b9-4307-a1ad-1a665f6b26fc\",\"type\":\"Grid\"},{\"id\":\"eefaec4a-73b2-48ca-96b1-d9c01b327d5f\",\"type\":\"LinearAxis\"},{\"id\":\"9c7c3cce-9d06-45c2-a90a-09f65618ab1d\",\"type\":\"Grid\"},{\"id\":\"eda97072-4e77-493b-81b2-d4e43948d9ae\",\"type\":\"BoxAnnotation\"},{\"id\":\"e73db2e3-5c0d-40e8-aebd-7201b2bf7fcb\",\"type\":\"PolyAnnotation\"},{\"id\":\"4e8da3e8-4f2f-460c-a40b-ae5665c23644\",\"type\":\"GlyphRenderer\"}],\"title\":{\"id\":\"58803fb8-5f66-4342-94f2-15a063bbcbac\",\"type\":\"Title\"},\"toolbar\":{\"id\":\"7a319a4f-7bf7-4f9e-b325-570a80134f01\",\"type\":\"Toolbar\"},\"toolbar_location\":null,\"x_range\":{\"id\":\"e686e111-1be2-4eb4-9695-ebb9ae43a966\",\"type\":\"DataRange1d\"},\"x_scale\":{\"id\":\"20acfff6-2fe7-4273-b501-7a1fae0f3555\",\"type\":\"LinearScale\"},\"y_range\":{\"id\":\"9a8213db-5ebc-41af-9faf-cea5beb1d245\",\"type\":\"DataRange1d\"},\"y_scale\":{\"id\":\"487dc49e-42fd-4056-8bda-8970713589a9\",\"type\":\"LinearScale\"}},\"id\":\"2f66c19b-b4ff-4354-b15d-a7b07b889870\",\"subtype\":\"Figure\",\"type\":\"Plot\"},{\"attributes\":{\"formatter\":{\"id\":\"99d496db-4fb4-41a2-8fa8-47f7db8d75b5\",\"type\":\"BasicTickFormatter\"},\"plot\":{\"id\":\"2f66c19b-b4ff-4354-b15d-a7b07b889870\",\"subtype\":\"Figure\",\"type\":\"Plot\"},\"ticker\":{\"id\":\"c57890a6-219f-4dc2-93c7-e4816575f343\",\"type\":\"BasicTicker\"}},\"id\":\"46a52c0f-47e4-4c36-b834-7fc799e55124\",\"type\":\"LinearAxis\"},{\"attributes\":{\"callback\":null},\"id\":\"9a8213db-5ebc-41af-9faf-cea5beb1d245\",\"type\":\"DataRange1d\"},{\"attributes\":{\"data_source\":{\"id\":\"06fb8b50-80e1-4124-a5e1-6f9558b1aa13\",\"type\":\"ColumnDataSource\"},\"glyph\":{\"id\":\"2e59ea0a-ca72-4dde-9b85-2f8250b4d2df\",\"type\":\"Circle\"},\"hover_glyph\":null,\"muted_glyph\":null,\"nonselection_glyph\":{\"id\":\"863806c1-0f73-4af3-aa96-7ed15fdb2bf1\",\"type\":\"Circle\"},\"selection_glyph\":null,\"view\":{\"id\":\"9ca9533f-b93c-4ce3-9367-9b264d2fb0fc\",\"type\":\"CDSView\"}},\"id\":\"935376ce-af70-4bb9-87ae-1f70614f275c\",\"type\":\"GlyphRenderer\"},{\"attributes\":{\"plot\":{\"id\":\"2f66c19b-b4ff-4354-b15d-a7b07b889870\",\"subtype\":\"Figure\",\"type\":\"Plot\"},\"ticker\":{\"id\":\"c57890a6-219f-4dc2-93c7-e4816575f343\",\"type\":\"BasicTicker\"}},\"id\":\"8c2c8228-10b9-4307-a1ad-1a665f6b26fc\",\"type\":\"Grid\"},{\"attributes\":{\"fill_color\":{\"value\":\"#1f77b4\"},\"line_color\":{\"value\":\"#1f77b4\"},\"x\":{\"field\":\"x\"},\"y\":{\"field\":\"y0\"}},\"id\":\"2e59ea0a-ca72-4dde-9b85-2f8250b4d2df\",\"type\":\"Circle\"},{\"attributes\":{},\"id\":\"3d29dbc2-de25-4f0b-a7dc-aac9ce914401\",\"type\":\"BasicTickFormatter\"},{\"attributes\":{\"children\":[{\"id\":\"00ec9a82-b117-4472-89ec-45b8179f24fc\",\"type\":\"Row\"}]},\"id\":\"a5725a83-0219-4bb1-8594-317d830cb91c\",\"type\":\"Column\"},{\"attributes\":{},\"id\":\"20acfff6-2fe7-4273-b501-7a1fae0f3555\",\"type\":\"LinearScale\"},{\"attributes\":{\"callback\":null},\"id\":\"e686e111-1be2-4eb4-9695-ebb9ae43a966\",\"type\":\"DataRange1d\"},{\"attributes\":{\"active_drag\":\"auto\",\"active_inspect\":\"auto\",\"active_scroll\":\"auto\",\"active_tap\":\"auto\",\"tools\":[{\"id\":\"16264a42-a6f4-4d32-b220-f924945cbb11\",\"type\":\"BoxSelectTool\"},{\"id\":\"f10d4ee7-4d1e-4434-b82b-f65ccc26c0db\",\"type\":\"LassoSelectTool\"},{\"id\":\"5338b8df-e118-4457-925c-ab59c40b5f70\",\"type\":\"HelpTool\"}]},\"id\":\"987159ac-02ca-4127-afdc-e9fd71be22ed\",\"type\":\"Toolbar\"},{\"attributes\":{},\"id\":\"487dc49e-42fd-4056-8bda-8970713589a9\",\"type\":\"LinearScale\"},{\"attributes\":{},\"id\":\"c57890a6-219f-4dc2-93c7-e4816575f343\",\"type\":\"BasicTicker\"},{\"attributes\":{\"formatter\":{\"id\":\"34caf4dc-bdf5-4588-a403-7d686a732355\",\"type\":\"BasicTickFormatter\"},\"plot\":{\"id\":\"2f66c19b-b4ff-4354-b15d-a7b07b889870\",\"subtype\":\"Figure\",\"type\":\"Plot\"},\"ticker\":{\"id\":\"696fa547-d0ef-4cea-94a5-920ea36fadd2\",\"type\":\"BasicTicker\"}},\"id\":\"eefaec4a-73b2-48ca-96b1-d9c01b327d5f\",\"type\":\"LinearAxis\"},{\"attributes\":{},\"id\":\"696fa547-d0ef-4cea-94a5-920ea36fadd2\",\"type\":\"BasicTicker\"},{\"attributes\":{\"callback\":null},\"id\":\"cbde65ea-9511-4254-b131-b2bb094e5390\",\"type\":\"DataRange1d\"},{\"attributes\":{\"dimension\":1,\"plot\":{\"id\":\"2f66c19b-b4ff-4354-b15d-a7b07b889870\",\"subtype\":\"Figure\",\"type\":\"Plot\"},\"ticker\":{\"id\":\"696fa547-d0ef-4cea-94a5-920ea36fadd2\",\"type\":\"BasicTicker\"}},\"id\":\"9c7c3cce-9d06-45c2-a90a-09f65618ab1d\",\"type\":\"Grid\"},{\"attributes\":{\"children\":[{\"id\":\"f427b63a-8543-4585-a4d5-85f041cc69cb\",\"subtype\":\"Figure\",\"type\":\"Plot\"},{\"id\":\"2f66c19b-b4ff-4354-b15d-a7b07b889870\",\"subtype\":\"Figure\",\"type\":\"Plot\"}]},\"id\":\"00ec9a82-b117-4472-89ec-45b8179f24fc\",\"type\":\"Row\"},{\"attributes\":{\"callback\":null,\"overlay\":{\"id\":\"eda97072-4e77-493b-81b2-d4e43948d9ae\",\"type\":\"BoxAnnotation\"},\"renderers\":[{\"id\":\"4e8da3e8-4f2f-460c-a40b-ae5665c23644\",\"type\":\"GlyphRenderer\"}]},\"id\":\"a614a825-4e9c-40f3-8628-e25b42e58525\",\"type\":\"BoxSelectTool\"},{\"attributes\":{},\"id\":\"e232f4c2-dcf1-4250-a208-5e66ebe993eb\",\"type\":\"BasicTicker\"},{\"attributes\":{\"fill_alpha\":{\"value\":0.1},\"fill_color\":{\"value\":\"#1f77b4\"},\"line_alpha\":{\"value\":0.1},\"line_color\":{\"value\":\"#1f77b4\"},\"x\":{\"field\":\"x\"},\"y\":{\"field\":\"y1\"}},\"id\":\"e157cde9-71b6-4ba9-a9d7-36134431d5b5\",\"type\":\"Circle\"},{\"attributes\":{\"formatter\":{\"id\":\"29c00b0e-a1ee-4442-8928-6f6c0e718cc1\",\"type\":\"BasicTickFormatter\"},\"plot\":{\"id\":\"f427b63a-8543-4585-a4d5-85f041cc69cb\",\"subtype\":\"Figure\",\"type\":\"Plot\"},\"ticker\":{\"id\":\"e232f4c2-dcf1-4250-a208-5e66ebe993eb\",\"type\":\"BasicTicker\"}},\"id\":\"5769ccc3-eae5-433c-af08-34cfa5269a6e\",\"type\":\"LinearAxis\"},{\"attributes\":{\"plot\":null,\"text\":\"\"},\"id\":\"eb365ff0-74bd-4d94-9282-b021098d863d\",\"type\":\"Title\"},{\"attributes\":{\"callback\":null,\"overlay\":{\"id\":\"e73db2e3-5c0d-40e8-aebd-7201b2bf7fcb\",\"type\":\"PolyAnnotation\"}},\"id\":\"a2ae88fe-ee26-45a7-a7b7-1cdd72ed1c6c\",\"type\":\"LassoSelectTool\"},{\"attributes\":{\"source\":{\"id\":\"06fb8b50-80e1-4124-a5e1-6f9558b1aa13\",\"type\":\"ColumnDataSource\"}},\"id\":\"9ca9533f-b93c-4ce3-9367-9b264d2fb0fc\",\"type\":\"CDSView\"},{\"attributes\":{\"bottom_units\":\"screen\",\"fill_alpha\":{\"value\":0.5},\"fill_color\":{\"value\":\"lightgrey\"},\"left_units\":\"screen\",\"level\":\"overlay\",\"line_alpha\":{\"value\":1.0},\"line_color\":{\"value\":\"black\"},\"line_dash\":[4,4],\"line_width\":{\"value\":2},\"plot\":null,\"render_mode\":\"css\",\"right_units\":\"screen\",\"top_units\":\"screen\"},\"id\":\"51a6056a-eddc-47b9-934d-b8f4c1274985\",\"type\":\"BoxAnnotation\"},{\"attributes\":{},\"id\":\"017bda25-3a30-4cbd-b60b-513cbfdd2ea3\",\"type\":\"HelpTool\"},{\"attributes\":{\"fill_alpha\":{\"value\":0.5},\"fill_color\":{\"value\":\"lightgrey\"},\"level\":\"overlay\",\"line_alpha\":{\"value\":1.0},\"line_color\":{\"value\":\"black\"},\"line_dash\":[4,4],\"line_width\":{\"value\":2},\"plot\":null,\"xs_units\":\"screen\",\"ys_units\":\"screen\"},\"id\":\"e73db2e3-5c0d-40e8-aebd-7201b2bf7fcb\",\"type\":\"PolyAnnotation\"},{\"attributes\":{\"callback\":null,\"column_names\":[\"x\",\"y0\",\"y1\"],\"data\":{\"x\":[-20,-19,-18,-17,-16,-15,-14,-13,-12,-11,-10,-9,-8,-7,-6,-5,-4,-3,-2,-1,0,1,2,3,4,5,6,7,8,9,10,11,12,13,14,15,16,17,18,19,20],\"y0\":[20,19,18,17,16,15,14,13,12,11,10,9,8,7,6,5,4,3,2,1,0,1,2,3,4,5,6,7,8,9,10,11,12,13,14,15,16,17,18,19,20],\"y1\":[400,361,324,289,256,225,196,169,144,121,100,81,64,49,36,25,16,9,4,1,0,1,4,9,16,25,36,49,64,81,100,121,144,169,196,225,256,289,324,361,400]}},\"id\":\"06fb8b50-80e1-4124-a5e1-6f9558b1aa13\",\"type\":\"ColumnDataSource\"}],\"root_ids\":[\"1d8b02e8-6b28-4bef-9364-2eefc6cac861\"]},\"title\":\"Bokeh Application\",\"version\":\"0.12.13\"}};\n",
       "  var render_items = [{\"docid\":\"f6541832-c7dc-4f94-852d-42bd904854fd\",\"elementid\":\"623502e1-2b47-4194-af36-55b9f01e5e7a\",\"modelid\":\"1d8b02e8-6b28-4bef-9364-2eefc6cac861\"}];\n",
       "  root.Bokeh.embed.embed_items_notebook(docs_json, render_items);\n",
       "\n",
       "  }\n",
       "  if (root.Bokeh !== undefined) {\n",
       "    embed_document(root);\n",
       "  } else {\n",
       "    var attempts = 0;\n",
       "    var timer = setInterval(function(root) {\n",
       "      if (root.Bokeh !== undefined) {\n",
       "        embed_document(root);\n",
       "        clearInterval(timer);\n",
       "      }\n",
       "      attempts++;\n",
       "      if (attempts > 100) {\n",
       "        console.log(\"Bokeh: ERROR: Unable to run BokehJS code because BokehJS library is missing\")\n",
       "        clearInterval(timer);\n",
       "      }\n",
       "    }, 10, root)\n",
       "  }\n",
       "})(window);"
      ],
      "application/vnd.bokehjs_exec.v0+json": ""
     },
     "metadata": {
      "application/vnd.bokehjs_exec.v0+json": {
       "id": "1d8b02e8-6b28-4bef-9364-2eefc6cac861"
      }
     },
     "output_type": "display_data"
    }
   ],
   "source": [
    "from bokeh.models import ColumnDataSource\n",
    "\n",
    "x = list(range(-20, 21))\n",
    "y0, y1 = [abs(xx) for xx in x], [xx**2 for xx in x]\n",
    "\n",
    "# create a column data source for the plots to share\n",
    "source = ColumnDataSource(data=dict(x=x, y0=y0, y1=y1))\n",
    "\n",
    "TOOLS = \"box_select,lasso_select,help\"\n",
    "\n",
    "# create a new plot and add a renderer\n",
    "left = figure(tools=TOOLS, width=300, height=300)\n",
    "left.circle('x', 'y0', source=source)\n",
    "\n",
    "# create another new plot and add a renderer\n",
    "right = figure(tools=TOOLS, width=300, height=300)\n",
    "right.circle('x', 'y1', source=source)\n",
    "\n",
    "p = gridplot([[left, right]])\n",
    "\n",
    "show(p)"
   ]
  },
  {
   "cell_type": "markdown",
   "metadata": {},
   "source": [
    "## Hover Tools"
   ]
  },
  {
   "cell_type": "code",
   "execution_count": 6,
   "metadata": {},
   "outputs": [
    {
     "data": {
      "text/html": [
       "\n",
       "<div class=\"bk-root\">\n",
       "    <div class=\"bk-plotdiv\" id=\"891883fe-e503-49b3-8c9f-c9ae5f3b3f6a\"></div>\n",
       "</div>"
      ]
     },
     "metadata": {},
     "output_type": "display_data"
    },
    {
     "data": {
      "application/javascript": [
       "(function(root) {\n",
       "  function embed_document(root) {\n",
       "    \n",
       "  var docs_json = {\"5ca98257-522a-47e5-835f-fe6e14d9f182\":{\"roots\":{\"references\":[{\"attributes\":{\"formatter\":{\"id\":\"9fb3bfc3-1c86-4dda-95ba-ec65570f437c\",\"type\":\"BasicTickFormatter\"},\"plot\":{\"id\":\"b31cce57-a0b6-4753-ba5c-f463235eaee9\",\"subtype\":\"Figure\",\"type\":\"Plot\"},\"ticker\":{\"id\":\"f4767131-f524-45b7-883c-fac0f6e231eb\",\"type\":\"BasicTicker\"}},\"id\":\"b539e9b7-f6cc-42de-bb30-875d33493e8e\",\"type\":\"LinearAxis\"},{\"attributes\":{\"fill_color\":{\"value\":\"#1f77b4\"},\"line_color\":{\"value\":\"#1f77b4\"},\"size\":{\"units\":\"screen\",\"value\":20},\"x\":{\"field\":\"x\"},\"y\":{\"field\":\"y\"}},\"id\":\"ff92fc01-a5ea-434f-8acf-ea25cd61461b\",\"type\":\"Circle\"},{\"attributes\":{\"below\":[{\"id\":\"b539e9b7-f6cc-42de-bb30-875d33493e8e\",\"type\":\"LinearAxis\"}],\"left\":[{\"id\":\"3b1504f9-e5a2-45c4-8c37-0a58b1fa7d6e\",\"type\":\"LinearAxis\"}],\"plot_height\":300,\"plot_width\":300,\"renderers\":[{\"id\":\"b539e9b7-f6cc-42de-bb30-875d33493e8e\",\"type\":\"LinearAxis\"},{\"id\":\"6230aec5-d092-4e70-8ee7-390a42b8ce55\",\"type\":\"Grid\"},{\"id\":\"3b1504f9-e5a2-45c4-8c37-0a58b1fa7d6e\",\"type\":\"LinearAxis\"},{\"id\":\"5be5f0a5-7945-4bf0-ad4c-55a7db6ca6e0\",\"type\":\"Grid\"},{\"id\":\"17f0fcca-0630-4ff2-9b12-ac8e6f588150\",\"type\":\"GlyphRenderer\"}],\"title\":{\"id\":\"bbe80d81-f99a-4937-8c95-531a458c7191\",\"type\":\"Title\"},\"toolbar\":{\"id\":\"67324834-b8b0-41d3-9628-628d77d3e7cb\",\"type\":\"Toolbar\"},\"x_range\":{\"id\":\"f0a16a5c-d323-4a68-921c-870ad018f20d\",\"type\":\"DataRange1d\"},\"x_scale\":{\"id\":\"134eb20d-5aec-4f2b-877e-66e0566a1ed9\",\"type\":\"LinearScale\"},\"y_range\":{\"id\":\"6f9fdb91-161d-435a-8acf-8fd0afe063b6\",\"type\":\"DataRange1d\"},\"y_scale\":{\"id\":\"1850648c-e131-4615-a44f-9a848c81c5fb\",\"type\":\"LinearScale\"}},\"id\":\"b31cce57-a0b6-4753-ba5c-f463235eaee9\",\"subtype\":\"Figure\",\"type\":\"Plot\"},{\"attributes\":{\"callback\":null},\"id\":\"6f9fdb91-161d-435a-8acf-8fd0afe063b6\",\"type\":\"DataRange1d\"},{\"attributes\":{\"active_drag\":\"auto\",\"active_inspect\":\"auto\",\"active_scroll\":\"auto\",\"active_tap\":\"auto\",\"tools\":[{\"id\":\"3b8b8d5c-87c8-46fd-a430-6a0fc970dad3\",\"type\":\"HoverTool\"}]},\"id\":\"67324834-b8b0-41d3-9628-628d77d3e7cb\",\"type\":\"Toolbar\"},{\"attributes\":{\"fill_alpha\":{\"value\":0.1},\"fill_color\":{\"value\":\"#1f77b4\"},\"line_alpha\":{\"value\":0.1},\"line_color\":{\"value\":\"#1f77b4\"},\"size\":{\"units\":\"screen\",\"value\":20},\"x\":{\"field\":\"x\"},\"y\":{\"field\":\"y\"}},\"id\":\"2bdc7a48-919d-4717-92e7-b3a0d3081734\",\"type\":\"Circle\"},{\"attributes\":{\"callback\":null},\"id\":\"f0a16a5c-d323-4a68-921c-870ad018f20d\",\"type\":\"DataRange1d\"},{\"attributes\":{\"callback\":null,\"column_names\":[\"x\",\"y\",\"desc\"],\"data\":{\"desc\":[\"A\",\"b\",\"C\",\"d\",\"E\"],\"x\":[1,2,3,4,5],\"y\":[2,5,8,2,7]}},\"id\":\"f3500789-c1b5-4e43-b08d-ce24f24d2b91\",\"type\":\"ColumnDataSource\"},{\"attributes\":{\"data_source\":{\"id\":\"f3500789-c1b5-4e43-b08d-ce24f24d2b91\",\"type\":\"ColumnDataSource\"},\"glyph\":{\"id\":\"ff92fc01-a5ea-434f-8acf-ea25cd61461b\",\"type\":\"Circle\"},\"hover_glyph\":null,\"muted_glyph\":null,\"nonselection_glyph\":{\"id\":\"2bdc7a48-919d-4717-92e7-b3a0d3081734\",\"type\":\"Circle\"},\"selection_glyph\":null,\"view\":{\"id\":\"93e2f364-ea3c-4ab6-8fc7-39b00fb45455\",\"type\":\"CDSView\"}},\"id\":\"17f0fcca-0630-4ff2-9b12-ac8e6f588150\",\"type\":\"GlyphRenderer\"},{\"attributes\":{\"source\":{\"id\":\"f3500789-c1b5-4e43-b08d-ce24f24d2b91\",\"type\":\"ColumnDataSource\"}},\"id\":\"93e2f364-ea3c-4ab6-8fc7-39b00fb45455\",\"type\":\"CDSView\"},{\"attributes\":{},\"id\":\"f4767131-f524-45b7-883c-fac0f6e231eb\",\"type\":\"BasicTicker\"},{\"attributes\":{},\"id\":\"f28b4db9-aee1-41f0-8e6d-e206a9dee643\",\"type\":\"BasicTickFormatter\"},{\"attributes\":{\"dimension\":1,\"plot\":{\"id\":\"b31cce57-a0b6-4753-ba5c-f463235eaee9\",\"subtype\":\"Figure\",\"type\":\"Plot\"},\"ticker\":{\"id\":\"8420f745-8436-4937-96c4-1ee09848ff24\",\"type\":\"BasicTicker\"}},\"id\":\"5be5f0a5-7945-4bf0-ad4c-55a7db6ca6e0\",\"type\":\"Grid\"},{\"attributes\":{\"callback\":null,\"tooltips\":[[\"index\",\"$index\"],[\"(x,y)\",\"($x, $y)\"],[\"desc\",\"@desc\"]]},\"id\":\"3b8b8d5c-87c8-46fd-a430-6a0fc970dad3\",\"type\":\"HoverTool\"},{\"attributes\":{\"plot\":null,\"text\":\"Mouse over the dots\"},\"id\":\"bbe80d81-f99a-4937-8c95-531a458c7191\",\"type\":\"Title\"},{\"attributes\":{},\"id\":\"1850648c-e131-4615-a44f-9a848c81c5fb\",\"type\":\"LinearScale\"},{\"attributes\":{},\"id\":\"9fb3bfc3-1c86-4dda-95ba-ec65570f437c\",\"type\":\"BasicTickFormatter\"},{\"attributes\":{},\"id\":\"8420f745-8436-4937-96c4-1ee09848ff24\",\"type\":\"BasicTicker\"},{\"attributes\":{},\"id\":\"134eb20d-5aec-4f2b-877e-66e0566a1ed9\",\"type\":\"LinearScale\"},{\"attributes\":{\"formatter\":{\"id\":\"f28b4db9-aee1-41f0-8e6d-e206a9dee643\",\"type\":\"BasicTickFormatter\"},\"plot\":{\"id\":\"b31cce57-a0b6-4753-ba5c-f463235eaee9\",\"subtype\":\"Figure\",\"type\":\"Plot\"},\"ticker\":{\"id\":\"8420f745-8436-4937-96c4-1ee09848ff24\",\"type\":\"BasicTicker\"}},\"id\":\"3b1504f9-e5a2-45c4-8c37-0a58b1fa7d6e\",\"type\":\"LinearAxis\"},{\"attributes\":{\"plot\":{\"id\":\"b31cce57-a0b6-4753-ba5c-f463235eaee9\",\"subtype\":\"Figure\",\"type\":\"Plot\"},\"ticker\":{\"id\":\"f4767131-f524-45b7-883c-fac0f6e231eb\",\"type\":\"BasicTicker\"}},\"id\":\"6230aec5-d092-4e70-8ee7-390a42b8ce55\",\"type\":\"Grid\"}],\"root_ids\":[\"b31cce57-a0b6-4753-ba5c-f463235eaee9\"]},\"title\":\"Bokeh Application\",\"version\":\"0.12.13\"}};\n",
       "  var render_items = [{\"docid\":\"5ca98257-522a-47e5-835f-fe6e14d9f182\",\"elementid\":\"891883fe-e503-49b3-8c9f-c9ae5f3b3f6a\",\"modelid\":\"b31cce57-a0b6-4753-ba5c-f463235eaee9\"}];\n",
       "  root.Bokeh.embed.embed_items_notebook(docs_json, render_items);\n",
       "\n",
       "  }\n",
       "  if (root.Bokeh !== undefined) {\n",
       "    embed_document(root);\n",
       "  } else {\n",
       "    var attempts = 0;\n",
       "    var timer = setInterval(function(root) {\n",
       "      if (root.Bokeh !== undefined) {\n",
       "        embed_document(root);\n",
       "        clearInterval(timer);\n",
       "      }\n",
       "      attempts++;\n",
       "      if (attempts > 100) {\n",
       "        console.log(\"Bokeh: ERROR: Unable to run BokehJS code because BokehJS library is missing\")\n",
       "        clearInterval(timer);\n",
       "      }\n",
       "    }, 10, root)\n",
       "  }\n",
       "})(window);"
      ],
      "application/vnd.bokehjs_exec.v0+json": ""
     },
     "metadata": {
      "application/vnd.bokehjs_exec.v0+json": {
       "id": "b31cce57-a0b6-4753-ba5c-f463235eaee9"
      }
     },
     "output_type": "display_data"
    }
   ],
   "source": [
    "from bokeh.models import HoverTool\n",
    "\n",
    "source = ColumnDataSource(\n",
    "        data=dict(\n",
    "            x=[1, 2, 3, 4, 5],\n",
    "            y=[2, 5, 8, 2, 7],\n",
    "            desc=['A', 'b', 'C', 'd', 'E'],\n",
    "        )\n",
    "    )\n",
    "\n",
    "hover = HoverTool(\n",
    "        tooltips=[\n",
    "            (\"index\", \"$index\"),\n",
    "            (\"(x,y)\", \"($x, $y)\"),\n",
    "            (\"desc\", \"@desc\"),\n",
    "        ]\n",
    "    )\n",
    "\n",
    "p = figure(plot_width=300, plot_height=300, tools=[hover], title=\"Mouse over the dots\")\n",
    "\n",
    "p.circle('x', 'y', size=20, source=source)\n",
    "\n",
    "show(p)"
   ]
  },
  {
   "cell_type": "markdown",
   "metadata": {},
   "source": [
    "## Widgets"
   ]
  },
  {
   "cell_type": "code",
   "execution_count": 7,
   "metadata": {},
   "outputs": [
    {
     "data": {
      "text/html": [
       "\n",
       "<div class=\"bk-root\">\n",
       "    <div class=\"bk-plotdiv\" id=\"f79f3b76-8d82-4d05-9148-a4d4bc7170c0\"></div>\n",
       "</div>"
      ]
     },
     "metadata": {},
     "output_type": "display_data"
    },
    {
     "data": {
      "application/javascript": [
       "(function(root) {\n",
       "  function embed_document(root) {\n",
       "    \n",
       "  var docs_json = {\"2c39c69b-7d3d-4f85-b02b-1baebe82ee09\":{\"roots\":{\"references\":[{\"attributes\":{\"callback\":null,\"end\":10,\"start\":0,\"step\":0.1,\"title\":\"foo\",\"value\":1},\"id\":\"3e288056-a7cb-44b4-b36a-67eb32906518\",\"type\":\"Slider\"},{\"attributes\":{\"children\":[{\"id\":\"3e288056-a7cb-44b4-b36a-67eb32906518\",\"type\":\"Slider\"}]},\"id\":\"024c7469-81e9-4adc-946f-4b9632282064\",\"type\":\"WidgetBox\"}],\"root_ids\":[\"024c7469-81e9-4adc-946f-4b9632282064\"]},\"title\":\"Bokeh Application\",\"version\":\"0.12.13\"}};\n",
       "  var render_items = [{\"docid\":\"2c39c69b-7d3d-4f85-b02b-1baebe82ee09\",\"elementid\":\"f79f3b76-8d82-4d05-9148-a4d4bc7170c0\",\"modelid\":\"024c7469-81e9-4adc-946f-4b9632282064\"}];\n",
       "  root.Bokeh.embed.embed_items_notebook(docs_json, render_items);\n",
       "\n",
       "  }\n",
       "  if (root.Bokeh !== undefined) {\n",
       "    embed_document(root);\n",
       "  } else {\n",
       "    var attempts = 0;\n",
       "    var timer = setInterval(function(root) {\n",
       "      if (root.Bokeh !== undefined) {\n",
       "        embed_document(root);\n",
       "        clearInterval(timer);\n",
       "      }\n",
       "      attempts++;\n",
       "      if (attempts > 100) {\n",
       "        console.log(\"Bokeh: ERROR: Unable to run BokehJS code because BokehJS library is missing\")\n",
       "        clearInterval(timer);\n",
       "      }\n",
       "    }, 10, root)\n",
       "  }\n",
       "})(window);"
      ],
      "application/vnd.bokehjs_exec.v0+json": ""
     },
     "metadata": {
      "application/vnd.bokehjs_exec.v0+json": {
       "id": "024c7469-81e9-4adc-946f-4b9632282064"
      }
     },
     "output_type": "display_data"
    }
   ],
   "source": [
    "from bokeh.layouts import widgetbox\n",
    "from bokeh.models.widgets import Slider\n",
    "\n",
    "\n",
    "slider = Slider(start=0, end=10, value=1, step=.1, title=\"foo\")\n",
    "\n",
    "show(widgetbox(slider))"
   ]
  },
  {
   "cell_type": "markdown",
   "metadata": {},
   "source": [
    "## CustomJS Callbacks"
   ]
  },
  {
   "cell_type": "code",
   "execution_count": 8,
   "metadata": {},
   "outputs": [
    {
     "data": {
      "text/html": [
       "\n",
       "<div class=\"bk-root\">\n",
       "    <div class=\"bk-plotdiv\" id=\"6df0de1a-4024-4cef-be53-405499f85461\"></div>\n",
       "</div>"
      ]
     },
     "metadata": {},
     "output_type": "display_data"
    },
    {
     "data": {
      "application/javascript": [
       "(function(root) {\n",
       "  function embed_document(root) {\n",
       "    \n",
       "  var docs_json = {\"5b35e610-6b31-4d63-98ab-09d7fefbdbe1\":{\"roots\":{\"references\":[{\"attributes\":{\"callback\":null},\"id\":\"1a614d3b-8aaf-404a-9b25-514c5f741127\",\"type\":\"DataRange1d\"},{\"attributes\":{\"callback\":null},\"id\":\"8b975bfc-e351-4ed6-a41f-0f24c3c75e2e\",\"type\":\"DataRange1d\"},{\"attributes\":{\"dimension\":1,\"plot\":{\"id\":\"74494dd2-b6e6-4dcb-9da7-5598e51930e1\",\"subtype\":\"Figure\",\"type\":\"Plot\"},\"ticker\":{\"id\":\"09b21b5c-b52e-43c3-9056-957305bd2bc3\",\"type\":\"BasicTicker\"}},\"id\":\"9bf14011-6f97-433f-9c72-3860c7298df5\",\"type\":\"Grid\"},{\"attributes\":{\"callback\":{\"id\":\"1a03a66e-6a6c-4b54-b4f7-461496061f68\",\"type\":\"CustomJS\"}},\"id\":\"9b785127-3e8b-4716-859b-9c449c97f8d7\",\"type\":\"TapTool\"},{\"attributes\":{},\"id\":\"09b21b5c-b52e-43c3-9056-957305bd2bc3\",\"type\":\"BasicTicker\"},{\"attributes\":{\"data_source\":{\"id\":\"d8e8bd0a-3027-483c-b1e3-c2f20eb93eec\",\"type\":\"ColumnDataSource\"},\"glyph\":{\"id\":\"b68199ff-353f-4ab2-bedd-1670f4df84a2\",\"type\":\"Circle\"},\"hover_glyph\":null,\"muted_glyph\":null,\"nonselection_glyph\":{\"id\":\"0695869d-bd75-4151-8085-0ddb444d1733\",\"type\":\"Circle\"},\"selection_glyph\":null,\"view\":{\"id\":\"95db9d3f-620e-4533-bb38-0cb9aeaafdc1\",\"type\":\"CDSView\"}},\"id\":\"7106673d-41ea-4b4d-a1cf-b6d12255e5e5\",\"type\":\"GlyphRenderer\"},{\"attributes\":{\"active_drag\":\"auto\",\"active_inspect\":\"auto\",\"active_scroll\":\"auto\",\"active_tap\":\"auto\",\"tools\":[{\"id\":\"9b785127-3e8b-4716-859b-9c449c97f8d7\",\"type\":\"TapTool\"}]},\"id\":\"c3ba4a61-f1ca-4342-971f-68b3ae446483\",\"type\":\"Toolbar\"},{\"attributes\":{},\"id\":\"5bd441f9-93a3-4e4e-a755-61bd09ec0b76\",\"type\":\"BasicTicker\"},{\"attributes\":{\"fill_color\":{\"value\":\"#1f77b4\"},\"line_color\":{\"value\":\"#1f77b4\"},\"size\":{\"units\":\"screen\",\"value\":20},\"x\":{\"field\":\"x\"},\"y\":{\"field\":\"y\"}},\"id\":\"b68199ff-353f-4ab2-bedd-1670f4df84a2\",\"type\":\"Circle\"},{\"attributes\":{},\"id\":\"79821929-1f9d-46c2-baca-63b924b15629\",\"type\":\"LinearScale\"},{\"attributes\":{},\"id\":\"154c4dba-a049-4ac1-a846-fe64ef132315\",\"type\":\"BasicTickFormatter\"},{\"attributes\":{\"formatter\":{\"id\":\"b19d9c87-e6ca-4b05-b967-5261051372c7\",\"type\":\"BasicTickFormatter\"},\"plot\":{\"id\":\"74494dd2-b6e6-4dcb-9da7-5598e51930e1\",\"subtype\":\"Figure\",\"type\":\"Plot\"},\"ticker\":{\"id\":\"5bd441f9-93a3-4e4e-a755-61bd09ec0b76\",\"type\":\"BasicTicker\"}},\"id\":\"b7500d94-35b0-4ccf-b638-05628070d427\",\"type\":\"LinearAxis\"},{\"attributes\":{\"callback\":null,\"column_names\":[\"x\",\"y\"],\"data\":{\"x\":[1,2,3,4,5],\"y\":[2,5,8,2,7]}},\"id\":\"d8e8bd0a-3027-483c-b1e3-c2f20eb93eec\",\"type\":\"ColumnDataSource\"},{\"attributes\":{\"plot\":null,\"text\":\"\"},\"id\":\"de818472-9eb4-406f-bdd2-7fe6cacb3517\",\"type\":\"Title\"},{\"attributes\":{\"source\":{\"id\":\"d8e8bd0a-3027-483c-b1e3-c2f20eb93eec\",\"type\":\"ColumnDataSource\"}},\"id\":\"95db9d3f-620e-4533-bb38-0cb9aeaafdc1\",\"type\":\"CDSView\"},{\"attributes\":{\"plot\":{\"id\":\"74494dd2-b6e6-4dcb-9da7-5598e51930e1\",\"subtype\":\"Figure\",\"type\":\"Plot\"},\"ticker\":{\"id\":\"5bd441f9-93a3-4e4e-a755-61bd09ec0b76\",\"type\":\"BasicTicker\"}},\"id\":\"48cb3cba-f1ae-4660-a484-82fc1c5a10a7\",\"type\":\"Grid\"},{\"attributes\":{},\"id\":\"b19d9c87-e6ca-4b05-b967-5261051372c7\",\"type\":\"BasicTickFormatter\"},{\"attributes\":{},\"id\":\"106ce2da-04dc-4497-916c-d789084896cb\",\"type\":\"LinearScale\"},{\"attributes\":{\"below\":[{\"id\":\"b7500d94-35b0-4ccf-b638-05628070d427\",\"type\":\"LinearAxis\"}],\"left\":[{\"id\":\"5d004217-d9e6-4eb8-a0bf-e72900f481d9\",\"type\":\"LinearAxis\"}],\"plot_height\":300,\"renderers\":[{\"id\":\"b7500d94-35b0-4ccf-b638-05628070d427\",\"type\":\"LinearAxis\"},{\"id\":\"48cb3cba-f1ae-4660-a484-82fc1c5a10a7\",\"type\":\"Grid\"},{\"id\":\"5d004217-d9e6-4eb8-a0bf-e72900f481d9\",\"type\":\"LinearAxis\"},{\"id\":\"9bf14011-6f97-433f-9c72-3860c7298df5\",\"type\":\"Grid\"},{\"id\":\"7106673d-41ea-4b4d-a1cf-b6d12255e5e5\",\"type\":\"GlyphRenderer\"}],\"title\":{\"id\":\"de818472-9eb4-406f-bdd2-7fe6cacb3517\",\"type\":\"Title\"},\"toolbar\":{\"id\":\"c3ba4a61-f1ca-4342-971f-68b3ae446483\",\"type\":\"Toolbar\"},\"x_range\":{\"id\":\"1a614d3b-8aaf-404a-9b25-514c5f741127\",\"type\":\"DataRange1d\"},\"x_scale\":{\"id\":\"106ce2da-04dc-4497-916c-d789084896cb\",\"type\":\"LinearScale\"},\"y_range\":{\"id\":\"8b975bfc-e351-4ed6-a41f-0f24c3c75e2e\",\"type\":\"DataRange1d\"},\"y_scale\":{\"id\":\"79821929-1f9d-46c2-baca-63b924b15629\",\"type\":\"LinearScale\"}},\"id\":\"74494dd2-b6e6-4dcb-9da7-5598e51930e1\",\"subtype\":\"Figure\",\"type\":\"Plot\"},{\"attributes\":{\"fill_alpha\":{\"value\":0.1},\"fill_color\":{\"value\":\"#1f77b4\"},\"line_alpha\":{\"value\":0.1},\"line_color\":{\"value\":\"#1f77b4\"},\"size\":{\"units\":\"screen\",\"value\":20},\"x\":{\"field\":\"x\"},\"y\":{\"field\":\"y\"}},\"id\":\"0695869d-bd75-4151-8085-0ddb444d1733\",\"type\":\"Circle\"},{\"attributes\":{\"code\":\"alert('hello world')\"},\"id\":\"1a03a66e-6a6c-4b54-b4f7-461496061f68\",\"type\":\"CustomJS\"},{\"attributes\":{\"formatter\":{\"id\":\"154c4dba-a049-4ac1-a846-fe64ef132315\",\"type\":\"BasicTickFormatter\"},\"plot\":{\"id\":\"74494dd2-b6e6-4dcb-9da7-5598e51930e1\",\"subtype\":\"Figure\",\"type\":\"Plot\"},\"ticker\":{\"id\":\"09b21b5c-b52e-43c3-9056-957305bd2bc3\",\"type\":\"BasicTicker\"}},\"id\":\"5d004217-d9e6-4eb8-a0bf-e72900f481d9\",\"type\":\"LinearAxis\"}],\"root_ids\":[\"74494dd2-b6e6-4dcb-9da7-5598e51930e1\"]},\"title\":\"Bokeh Application\",\"version\":\"0.12.13\"}};\n",
       "  var render_items = [{\"docid\":\"5b35e610-6b31-4d63-98ab-09d7fefbdbe1\",\"elementid\":\"6df0de1a-4024-4cef-be53-405499f85461\",\"modelid\":\"74494dd2-b6e6-4dcb-9da7-5598e51930e1\"}];\n",
       "  root.Bokeh.embed.embed_items_notebook(docs_json, render_items);\n",
       "\n",
       "  }\n",
       "  if (root.Bokeh !== undefined) {\n",
       "    embed_document(root);\n",
       "  } else {\n",
       "    var attempts = 0;\n",
       "    var timer = setInterval(function(root) {\n",
       "      if (root.Bokeh !== undefined) {\n",
       "        embed_document(root);\n",
       "        clearInterval(timer);\n",
       "      }\n",
       "      attempts++;\n",
       "      if (attempts > 100) {\n",
       "        console.log(\"Bokeh: ERROR: Unable to run BokehJS code because BokehJS library is missing\")\n",
       "        clearInterval(timer);\n",
       "      }\n",
       "    }, 10, root)\n",
       "  }\n",
       "})(window);"
      ],
      "application/vnd.bokehjs_exec.v0+json": ""
     },
     "metadata": {
      "application/vnd.bokehjs_exec.v0+json": {
       "id": "74494dd2-b6e6-4dcb-9da7-5598e51930e1"
      }
     },
     "output_type": "display_data"
    }
   ],
   "source": [
    "from bokeh.models import TapTool, CustomJS, ColumnDataSource\n",
    "\n",
    "callback = CustomJS(code=\"alert('hello world')\")\n",
    "tap = TapTool(callback=callback)\n",
    "\n",
    "p = figure(plot_width=600, plot_height=300, tools=[tap])\n",
    "\n",
    "p.circle(x=[1, 2, 3, 4, 5], y=[2, 5, 8, 2, 7], size=20)\n",
    "\n",
    "show(p)"
   ]
  },
  {
   "cell_type": "markdown",
   "metadata": {},
   "source": [
    "## Callbacks for widgets"
   ]
  },
  {
   "cell_type": "code",
   "execution_count": 9,
   "metadata": {},
   "outputs": [
    {
     "data": {
      "text/html": [
       "\n",
       "<div class=\"bk-root\">\n",
       "    <div class=\"bk-plotdiv\" id=\"02d3abdc-2820-4aba-8bb1-e6f5806eb4b8\"></div>\n",
       "</div>"
      ]
     },
     "metadata": {},
     "output_type": "display_data"
    },
    {
     "data": {
      "application/javascript": [
       "(function(root) {\n",
       "  function embed_document(root) {\n",
       "    \n",
       "  var docs_json = {\"58eb836c-0220-4f04-98c0-3dc27f715778\":{\"roots\":{\"references\":[{\"attributes\":{\"callback\":null,\"column_names\":[\"x\",\"y\"],\"data\":{\"x\":[0.0,0.005,0.01,0.015,0.02,0.025,0.03,0.035,0.04,0.045,0.05,0.055,0.06,0.065,0.07,0.075,0.08,0.085,0.09,0.095,0.1,0.105,0.11,0.115,0.12,0.125,0.13,0.135,0.14,0.145,0.15,0.155,0.16,0.165,0.17,0.17500000000000002,0.18,0.185,0.19,0.195,0.2,0.20500000000000002,0.21,0.215,0.22,0.225,0.23,0.23500000000000001,0.24,0.245,0.25,0.255,0.26,0.265,0.27,0.275,0.28,0.28500000000000003,0.29,0.295,0.3,0.305,0.31,0.315,0.32,0.325,0.33,0.335,0.34,0.34500000000000003,0.35000000000000003,0.355,0.36,0.365,0.37,0.375,0.38,0.385,0.39,0.395,0.4,0.405,0.41000000000000003,0.41500000000000004,0.42,0.425,0.43,0.435,0.44,0.445,0.45,0.455,0.46,0.465,0.47000000000000003,0.47500000000000003,0.48,0.485,0.49,0.495,0.5,0.505,0.51,0.515,0.52,0.525,0.53,0.535,0.54,0.545,0.55,0.555,0.56,0.5650000000000001,0.5700000000000001,0.5750000000000001,0.58,0.585,0.59,0.595,0.6,0.605,0.61,0.615,0.62,0.625,0.63,0.635,0.64,0.645,0.65,0.655,0.66,0.665,0.67,0.675,0.68,0.685,0.6900000000000001,0.6950000000000001,0.7000000000000001,0.705,0.71,0.715,0.72,0.725,0.73,0.735,0.74,0.745,0.75,0.755,0.76,0.765,0.77,0.775,0.78,0.785,0.79,0.795,0.8,0.805,0.81,0.8150000000000001,0.8200000000000001,0.8250000000000001,0.8300000000000001,0.835,0.84,0.845,0.85,0.855,0.86,0.865,0.87,0.875,0.88,0.885,0.89,0.895,0.9,0.905,0.91,0.915,0.92,0.925,0.93,0.935,0.9400000000000001,0.9450000000000001,0.9500000000000001,0.9550000000000001,0.96,0.965,0.97,0.975,0.98,0.985,0.99,0.995,1.0],\"y\":[0.0,0.005,0.01,0.015,0.02,0.025,0.03,0.035,0.04,0.045,0.05,0.055,0.06,0.065,0.07,0.075,0.08,0.085,0.09,0.095,0.1,0.105,0.11,0.115,0.12,0.125,0.13,0.135,0.14,0.145,0.15,0.155,0.16,0.165,0.17,0.17500000000000002,0.18,0.185,0.19,0.195,0.2,0.20500000000000002,0.21,0.215,0.22,0.225,0.23,0.23500000000000001,0.24,0.245,0.25,0.255,0.26,0.265,0.27,0.275,0.28,0.28500000000000003,0.29,0.295,0.3,0.305,0.31,0.315,0.32,0.325,0.33,0.335,0.34,0.34500000000000003,0.35000000000000003,0.355,0.36,0.365,0.37,0.375,0.38,0.385,0.39,0.395,0.4,0.405,0.41000000000000003,0.41500000000000004,0.42,0.425,0.43,0.435,0.44,0.445,0.45,0.455,0.46,0.465,0.47000000000000003,0.47500000000000003,0.48,0.485,0.49,0.495,0.5,0.505,0.51,0.515,0.52,0.525,0.53,0.535,0.54,0.545,0.55,0.555,0.56,0.5650000000000001,0.5700000000000001,0.5750000000000001,0.58,0.585,0.59,0.595,0.6,0.605,0.61,0.615,0.62,0.625,0.63,0.635,0.64,0.645,0.65,0.655,0.66,0.665,0.67,0.675,0.68,0.685,0.6900000000000001,0.6950000000000001,0.7000000000000001,0.705,0.71,0.715,0.72,0.725,0.73,0.735,0.74,0.745,0.75,0.755,0.76,0.765,0.77,0.775,0.78,0.785,0.79,0.795,0.8,0.805,0.81,0.8150000000000001,0.8200000000000001,0.8250000000000001,0.8300000000000001,0.835,0.84,0.845,0.85,0.855,0.86,0.865,0.87,0.875,0.88,0.885,0.89,0.895,0.9,0.905,0.91,0.915,0.92,0.925,0.93,0.935,0.9400000000000001,0.9450000000000001,0.9500000000000001,0.9550000000000001,0.96,0.965,0.97,0.975,0.98,0.985,0.99,0.995,1.0]}},\"id\":\"fc380868-ba16-4fe9-a270-33955f43e22a\",\"type\":\"ColumnDataSource\"},{\"attributes\":{\"source\":{\"id\":\"fc380868-ba16-4fe9-a270-33955f43e22a\",\"type\":\"ColumnDataSource\"}},\"id\":\"c674093d-490b-45d5-aa91-be10fadc2875\",\"type\":\"CDSView\"},{\"attributes\":{},\"id\":\"883daf45-f2b9-4e69-bf5f-a60062587958\",\"type\":\"BasicTicker\"},{\"attributes\":{\"children\":[{\"id\":\"c68c9bca-4ae8-46a6-ab10-cabc31c5ad26\",\"type\":\"WidgetBox\"},{\"id\":\"2eee14fd-bd16-418a-9ed0-4c58cfc3a147\",\"subtype\":\"Figure\",\"type\":\"Plot\"}]},\"id\":\"25d845d5-be8a-486d-83e7-2b1a08b0700d\",\"type\":\"Column\"},{\"attributes\":{},\"id\":\"a3c4423e-3723-4c07-8434-c41083cf867a\",\"type\":\"BasicTickFormatter\"},{\"attributes\":{},\"id\":\"fd2a0058-4737-4f4d-b386-229a0c9ddc17\",\"type\":\"BasicTickFormatter\"},{\"attributes\":{\"bottom_units\":\"screen\",\"fill_alpha\":{\"value\":0.5},\"fill_color\":{\"value\":\"lightgrey\"},\"left_units\":\"screen\",\"level\":\"overlay\",\"line_alpha\":{\"value\":1.0},\"line_color\":{\"value\":\"black\"},\"line_dash\":[4,4],\"line_width\":{\"value\":2},\"plot\":null,\"render_mode\":\"css\",\"right_units\":\"screen\",\"top_units\":\"screen\"},\"id\":\"1e06f350-59bb-4363-8018-0bdb1c465440\",\"type\":\"BoxAnnotation\"},{\"attributes\":{\"below\":[{\"id\":\"6df837da-f337-4b1b-967e-6c1131755dbe\",\"type\":\"LinearAxis\"}],\"left\":[{\"id\":\"419b8067-e82d-495d-91bc-98417462da4e\",\"type\":\"LinearAxis\"}],\"plot_height\":400,\"plot_width\":400,\"renderers\":[{\"id\":\"6df837da-f337-4b1b-967e-6c1131755dbe\",\"type\":\"LinearAxis\"},{\"id\":\"7006fb2a-a57e-4494-aa52-09d7fdcc3faa\",\"type\":\"Grid\"},{\"id\":\"419b8067-e82d-495d-91bc-98417462da4e\",\"type\":\"LinearAxis\"},{\"id\":\"c1ad2669-f342-4c9a-ad1e-e6c2a2b773b5\",\"type\":\"Grid\"},{\"id\":\"1e06f350-59bb-4363-8018-0bdb1c465440\",\"type\":\"BoxAnnotation\"},{\"id\":\"7597ef11-b614-4a92-932e-77583c8edfdc\",\"type\":\"GlyphRenderer\"}],\"title\":{\"id\":\"c3d79314-69cb-40f1-b1bf-0659c1b6a6a9\",\"type\":\"Title\"},\"toolbar\":{\"id\":\"3c46c0fa-aa70-48e0-a415-64097887bb8c\",\"type\":\"Toolbar\"},\"x_range\":{\"id\":\"f10c3a43-e14e-42bb-aa40-ff609bb46367\",\"type\":\"DataRange1d\"},\"x_scale\":{\"id\":\"af9ce377-a688-4c8a-9808-fe36f70edc1a\",\"type\":\"LinearScale\"},\"y_range\":{\"id\":\"3e17653c-ad74-4497-991c-172b8328629a\",\"type\":\"DataRange1d\"},\"y_scale\":{\"id\":\"0c5232b7-a288-44ee-89a2-074e1c683264\",\"type\":\"LinearScale\"}},\"id\":\"2eee14fd-bd16-418a-9ed0-4c58cfc3a147\",\"subtype\":\"Figure\",\"type\":\"Plot\"},{\"attributes\":{},\"id\":\"962c74e7-4cec-4cb6-95eb-da9e79569337\",\"type\":\"PanTool\"},{\"attributes\":{\"callback\":null},\"id\":\"3e17653c-ad74-4497-991c-172b8328629a\",\"type\":\"DataRange1d\"},{\"attributes\":{\"formatter\":{\"id\":\"a3c4423e-3723-4c07-8434-c41083cf867a\",\"type\":\"BasicTickFormatter\"},\"plot\":{\"id\":\"2eee14fd-bd16-418a-9ed0-4c58cfc3a147\",\"subtype\":\"Figure\",\"type\":\"Plot\"},\"ticker\":{\"id\":\"883daf45-f2b9-4e69-bf5f-a60062587958\",\"type\":\"BasicTicker\"}},\"id\":\"419b8067-e82d-495d-91bc-98417462da4e\",\"type\":\"LinearAxis\"},{\"attributes\":{},\"id\":\"7842028e-8973-4895-9d47-6b54d3abeceb\",\"type\":\"WheelZoomTool\"},{\"attributes\":{},\"id\":\"af9ce377-a688-4c8a-9808-fe36f70edc1a\",\"type\":\"LinearScale\"},{\"attributes\":{\"overlay\":{\"id\":\"1e06f350-59bb-4363-8018-0bdb1c465440\",\"type\":\"BoxAnnotation\"}},\"id\":\"04bc2e0c-3463-451d-a1e7-7b9f0592e67e\",\"type\":\"BoxZoomTool\"},{\"attributes\":{\"plot\":{\"id\":\"2eee14fd-bd16-418a-9ed0-4c58cfc3a147\",\"subtype\":\"Figure\",\"type\":\"Plot\"},\"ticker\":{\"id\":\"ec7510e0-9cd2-435e-9c72-798ef6ea3c4c\",\"type\":\"BasicTicker\"}},\"id\":\"7006fb2a-a57e-4494-aa52-09d7fdcc3faa\",\"type\":\"Grid\"},{\"attributes\":{},\"id\":\"e24b66ff-6cd0-4b9b-a8e9-ab0cf2418c3e\",\"type\":\"SaveTool\"},{\"attributes\":{},\"id\":\"ec7510e0-9cd2-435e-9c72-798ef6ea3c4c\",\"type\":\"BasicTicker\"},{\"attributes\":{},\"id\":\"471ca868-eac5-4da1-9b3b-6e262da35a62\",\"type\":\"ResetTool\"},{\"attributes\":{\"line_alpha\":0.6,\"line_color\":\"#1f77b4\",\"line_width\":3,\"x\":{\"field\":\"x\"},\"y\":{\"field\":\"y\"}},\"id\":\"3ea43a63-937a-414c-83e7-b0a16e606f24\",\"type\":\"Line\"},{\"attributes\":{},\"id\":\"9969f17d-89d2-4329-9e69-e653cf9fa9ef\",\"type\":\"HelpTool\"},{\"attributes\":{\"callback\":null},\"id\":\"f10c3a43-e14e-42bb-aa40-ff609bb46367\",\"type\":\"DataRange1d\"},{\"attributes\":{\"data_source\":{\"id\":\"fc380868-ba16-4fe9-a270-33955f43e22a\",\"type\":\"ColumnDataSource\"},\"glyph\":{\"id\":\"3ea43a63-937a-414c-83e7-b0a16e606f24\",\"type\":\"Line\"},\"hover_glyph\":null,\"muted_glyph\":null,\"nonselection_glyph\":{\"id\":\"84cc5193-d71d-474c-91c2-0540466310dd\",\"type\":\"Line\"},\"selection_glyph\":null,\"view\":{\"id\":\"c674093d-490b-45d5-aa91-be10fadc2875\",\"type\":\"CDSView\"}},\"id\":\"7597ef11-b614-4a92-932e-77583c8edfdc\",\"type\":\"GlyphRenderer\"},{\"attributes\":{\"dimension\":1,\"plot\":{\"id\":\"2eee14fd-bd16-418a-9ed0-4c58cfc3a147\",\"subtype\":\"Figure\",\"type\":\"Plot\"},\"ticker\":{\"id\":\"883daf45-f2b9-4e69-bf5f-a60062587958\",\"type\":\"BasicTicker\"}},\"id\":\"c1ad2669-f342-4c9a-ad1e-e6c2a2b773b5\",\"type\":\"Grid\"},{\"attributes\":{\"plot\":null,\"text\":\"\"},\"id\":\"c3d79314-69cb-40f1-b1bf-0659c1b6a6a9\",\"type\":\"Title\"},{\"attributes\":{\"args\":{\"slider\":{\"id\":\"625bbce4-ce7c-4175-a4bb-fca5d4a5dc7f\",\"type\":\"Slider\"},\"source\":{\"id\":\"fc380868-ba16-4fe9-a270-33955f43e22a\",\"type\":\"ColumnDataSource\"}},\"code\":\"\\n    var data = source.get('data');\\n    var f = slider.value;\\n    x = data['x']\\n    y = data['y']\\n    for (i = 0; i < x.length; i++) {\\n        y[i] = Math.pow(x[i], f)\\n    }\\n    source.change.emit();\\n\"},\"id\":\"48d07945-0c55-4244-ba05-fccc3c4922cb\",\"type\":\"CustomJS\"},{\"attributes\":{\"formatter\":{\"id\":\"fd2a0058-4737-4f4d-b386-229a0c9ddc17\",\"type\":\"BasicTickFormatter\"},\"plot\":{\"id\":\"2eee14fd-bd16-418a-9ed0-4c58cfc3a147\",\"subtype\":\"Figure\",\"type\":\"Plot\"},\"ticker\":{\"id\":\"ec7510e0-9cd2-435e-9c72-798ef6ea3c4c\",\"type\":\"BasicTicker\"}},\"id\":\"6df837da-f337-4b1b-967e-6c1131755dbe\",\"type\":\"LinearAxis\"},{\"attributes\":{\"line_alpha\":0.1,\"line_color\":\"#1f77b4\",\"line_width\":3,\"x\":{\"field\":\"x\"},\"y\":{\"field\":\"y\"}},\"id\":\"84cc5193-d71d-474c-91c2-0540466310dd\",\"type\":\"Line\"},{\"attributes\":{\"active_drag\":\"auto\",\"active_inspect\":\"auto\",\"active_scroll\":\"auto\",\"active_tap\":\"auto\",\"tools\":[{\"id\":\"962c74e7-4cec-4cb6-95eb-da9e79569337\",\"type\":\"PanTool\"},{\"id\":\"7842028e-8973-4895-9d47-6b54d3abeceb\",\"type\":\"WheelZoomTool\"},{\"id\":\"04bc2e0c-3463-451d-a1e7-7b9f0592e67e\",\"type\":\"BoxZoomTool\"},{\"id\":\"e24b66ff-6cd0-4b9b-a8e9-ab0cf2418c3e\",\"type\":\"SaveTool\"},{\"id\":\"471ca868-eac5-4da1-9b3b-6e262da35a62\",\"type\":\"ResetTool\"},{\"id\":\"9969f17d-89d2-4329-9e69-e653cf9fa9ef\",\"type\":\"HelpTool\"}]},\"id\":\"3c46c0fa-aa70-48e0-a415-64097887bb8c\",\"type\":\"Toolbar\"},{\"attributes\":{\"children\":[{\"id\":\"625bbce4-ce7c-4175-a4bb-fca5d4a5dc7f\",\"type\":\"Slider\"}]},\"id\":\"c68c9bca-4ae8-46a6-ab10-cabc31c5ad26\",\"type\":\"WidgetBox\"},{\"attributes\":{},\"id\":\"0c5232b7-a288-44ee-89a2-074e1c683264\",\"type\":\"LinearScale\"},{\"attributes\":{\"callback\":null,\"end\":6,\"js_property_callbacks\":{\"change:value\":[{\"id\":\"48d07945-0c55-4244-ba05-fccc3c4922cb\",\"type\":\"CustomJS\"}]},\"start\":0.1,\"step\":0.1,\"title\":\"power\",\"value\":1},\"id\":\"625bbce4-ce7c-4175-a4bb-fca5d4a5dc7f\",\"type\":\"Slider\"}],\"root_ids\":[\"25d845d5-be8a-486d-83e7-2b1a08b0700d\"]},\"title\":\"Bokeh Application\",\"version\":\"0.12.13\"}};\n",
       "  var render_items = [{\"docid\":\"58eb836c-0220-4f04-98c0-3dc27f715778\",\"elementid\":\"02d3abdc-2820-4aba-8bb1-e6f5806eb4b8\",\"modelid\":\"25d845d5-be8a-486d-83e7-2b1a08b0700d\"}];\n",
       "  root.Bokeh.embed.embed_items_notebook(docs_json, render_items);\n",
       "\n",
       "  }\n",
       "  if (root.Bokeh !== undefined) {\n",
       "    embed_document(root);\n",
       "  } else {\n",
       "    var attempts = 0;\n",
       "    var timer = setInterval(function(root) {\n",
       "      if (root.Bokeh !== undefined) {\n",
       "        embed_document(root);\n",
       "        clearInterval(timer);\n",
       "      }\n",
       "      attempts++;\n",
       "      if (attempts > 100) {\n",
       "        console.log(\"Bokeh: ERROR: Unable to run BokehJS code because BokehJS library is missing\")\n",
       "        clearInterval(timer);\n",
       "      }\n",
       "    }, 10, root)\n",
       "  }\n",
       "})(window);"
      ],
      "application/vnd.bokehjs_exec.v0+json": ""
     },
     "metadata": {
      "application/vnd.bokehjs_exec.v0+json": {
       "id": "25d845d5-be8a-486d-83e7-2b1a08b0700d"
      }
     },
     "output_type": "display_data"
    }
   ],
   "source": [
    "from bokeh.layouts import column\n",
    "from bokeh.models import CustomJS, ColumnDataSource, Slider\n",
    "\n",
    "x = [x*0.005 for x in range(0, 201)]\n",
    "\n",
    "source = ColumnDataSource(data=dict(x=x, y=x))\n",
    "\n",
    "plot = figure(plot_width=400, plot_height=400)\n",
    "plot.line('x', 'y', source=source, line_width=3, line_alpha=0.6)\n",
    "\n",
    "slider = Slider(start=0.1, end=6, value=1, step=.1, title=\"power\")\n",
    "\n",
    "update_curve = CustomJS(args=dict(source=source, slider=slider), code=\"\"\"\n",
    "    var data = source.get('data');\n",
    "    var f = slider.value;\n",
    "    x = data['x']\n",
    "    y = data['y']\n",
    "    for (i = 0; i < x.length; i++) {\n",
    "        y[i] = Math.pow(x[i], f)\n",
    "    }\n",
    "    source.change.emit();\n",
    "\"\"\")\n",
    "slider.js_on_change('value', update_curve)\n",
    "\n",
    "\n",
    "show(column(slider, plot))"
   ]
  },
  {
   "cell_type": "markdown",
   "metadata": {},
   "source": [
    "## Calbacks for selections"
   ]
  },
  {
   "cell_type": "code",
   "execution_count": 10,
   "metadata": {},
   "outputs": [
    {
     "data": {
      "text/html": [
       "\n",
       "<div class=\"bk-root\">\n",
       "    <div class=\"bk-plotdiv\" id=\"6bc98369-b481-4853-8d34-05ca7aca5c6c\"></div>\n",
       "</div>"
      ]
     },
     "metadata": {},
     "output_type": "display_data"
    },
    {
     "data": {
      "application/javascript": [
       "(function(root) {\n",
       "  function embed_document(root) {\n",
       "    \n",
       "  var docs_json = {\"6ff549bb-0f65-4b3b-b027-6a684c70dbe8\":{\"roots\":{\"references\":[{\"attributes\":{\"plot\":{\"id\":\"d412ef64-d72b-46e2-9e2c-fb3490afb38a\",\"subtype\":\"Figure\",\"type\":\"Plot\"},\"ticker\":{\"id\":\"9bad76ab-6eac-4769-8c05-a1a357e5a6f6\",\"type\":\"BasicTicker\"}},\"id\":\"dafdc11f-6659-44e2-9d2c-eab1e2b6adc5\",\"type\":\"Grid\"},{\"attributes\":{\"line_alpha\":0.1,\"line_color\":\"#1f77b4\",\"line_width\":5,\"x\":{\"field\":\"xm\"},\"y\":{\"field\":\"ym\"}},\"id\":\"edc87325-ae88-4f68-a5d4-5ced09f1edba\",\"type\":\"Line\"},{\"attributes\":{},\"id\":\"3479c94d-a57d-4602-9b27-af66b0c9c4da\",\"type\":\"LinearScale\"},{\"attributes\":{\"formatter\":{\"id\":\"7c9085d9-c2aa-4381-8cb6-6b74f1104b4d\",\"type\":\"BasicTickFormatter\"},\"plot\":{\"id\":\"d412ef64-d72b-46e2-9e2c-fb3490afb38a\",\"subtype\":\"Figure\",\"type\":\"Plot\"},\"ticker\":{\"id\":\"9bad76ab-6eac-4769-8c05-a1a357e5a6f6\",\"type\":\"BasicTicker\"}},\"id\":\"8756bc45-67b3-4261-9971-295837322887\",\"type\":\"LinearAxis\"},{\"attributes\":{},\"id\":\"8251574f-6fdd-4d22-8af0-38ea77ae8d06\",\"type\":\"BasicTicker\"},{\"attributes\":{\"source\":{\"id\":\"c36aa1cb-6d9d-4de4-8568-7dc81e18dcca\",\"type\":\"ColumnDataSource\"}},\"id\":\"8c7900b3-7490-4c1a-96fb-64ccc77465d5\",\"type\":\"CDSView\"},{\"attributes\":{\"callback\":{\"id\":\"bc8b1ecc-462e-4e98-ac94-2bbb2a274c89\",\"type\":\"CustomJS\"},\"column_names\":[\"x\",\"y\",\"color\"],\"data\":{\"color\":[\"navy\",\"navy\",\"navy\",\"navy\",\"navy\",\"navy\",\"navy\",\"navy\",\"navy\",\"navy\",\"navy\",\"navy\",\"navy\",\"navy\",\"navy\",\"navy\",\"navy\",\"navy\",\"navy\",\"navy\",\"navy\",\"navy\",\"navy\",\"navy\",\"navy\",\"navy\",\"navy\",\"navy\",\"navy\",\"navy\",\"navy\",\"navy\",\"navy\",\"navy\",\"navy\",\"navy\",\"navy\",\"navy\",\"navy\",\"navy\",\"navy\",\"navy\",\"navy\",\"navy\",\"navy\",\"navy\",\"navy\",\"navy\",\"navy\",\"navy\",\"navy\",\"navy\",\"navy\",\"navy\",\"navy\",\"navy\",\"navy\",\"navy\",\"navy\",\"navy\",\"navy\",\"navy\",\"navy\",\"navy\",\"navy\",\"navy\",\"navy\",\"navy\",\"navy\",\"navy\",\"navy\",\"navy\",\"navy\",\"navy\",\"navy\",\"navy\",\"navy\",\"navy\",\"navy\",\"navy\",\"navy\",\"navy\",\"navy\",\"navy\",\"navy\",\"navy\",\"navy\",\"navy\",\"navy\",\"navy\",\"navy\",\"navy\",\"navy\",\"navy\",\"navy\",\"navy\",\"navy\",\"navy\",\"navy\",\"navy\",\"navy\",\"navy\",\"navy\",\"navy\",\"navy\",\"navy\",\"navy\",\"navy\",\"navy\",\"navy\",\"navy\",\"navy\",\"navy\",\"navy\",\"navy\",\"navy\",\"navy\",\"navy\",\"navy\",\"navy\",\"navy\",\"navy\",\"navy\",\"navy\",\"navy\",\"navy\",\"navy\",\"navy\",\"navy\",\"navy\",\"navy\",\"navy\",\"navy\",\"navy\",\"navy\",\"navy\",\"navy\",\"navy\",\"navy\",\"navy\",\"navy\",\"navy\",\"navy\",\"navy\",\"navy\",\"navy\",\"navy\",\"navy\",\"navy\",\"navy\",\"navy\",\"navy\",\"navy\",\"navy\",\"navy\",\"navy\",\"navy\",\"navy\",\"navy\",\"navy\",\"navy\",\"navy\",\"navy\",\"navy\",\"navy\",\"navy\",\"navy\",\"navy\",\"navy\",\"navy\",\"navy\",\"navy\",\"navy\",\"navy\",\"navy\",\"navy\",\"navy\",\"navy\",\"navy\",\"navy\",\"navy\",\"navy\",\"navy\",\"navy\",\"navy\",\"navy\",\"navy\",\"navy\",\"navy\",\"navy\",\"navy\",\"navy\",\"navy\",\"navy\",\"navy\",\"navy\",\"navy\",\"navy\",\"navy\",\"navy\",\"navy\",\"navy\",\"navy\",\"navy\",\"navy\",\"navy\",\"navy\",\"navy\",\"navy\",\"navy\",\"navy\",\"navy\",\"navy\",\"navy\",\"navy\",\"navy\",\"navy\",\"navy\",\"navy\",\"navy\",\"navy\",\"navy\",\"navy\",\"navy\",\"navy\",\"navy\",\"navy\",\"navy\",\"navy\",\"navy\",\"navy\",\"navy\",\"navy\",\"navy\",\"navy\",\"navy\",\"navy\",\"navy\",\"navy\",\"navy\",\"navy\",\"navy\",\"navy\",\"navy\",\"navy\",\"navy\",\"navy\",\"navy\",\"navy\",\"navy\",\"navy\",\"navy\",\"navy\",\"navy\",\"navy\",\"navy\",\"navy\",\"navy\",\"navy\",\"navy\",\"navy\",\"navy\",\"navy\",\"navy\",\"navy\",\"navy\",\"navy\",\"navy\",\"navy\",\"navy\",\"navy\",\"navy\",\"navy\",\"navy\",\"navy\",\"navy\",\"navy\",\"navy\",\"navy\",\"navy\",\"navy\",\"navy\",\"navy\",\"navy\",\"navy\",\"navy\",\"navy\",\"navy\",\"navy\",\"navy\",\"navy\",\"navy\",\"navy\",\"navy\",\"navy\",\"navy\",\"navy\",\"navy\",\"navy\",\"navy\",\"navy\",\"navy\",\"navy\",\"navy\",\"navy\",\"navy\",\"navy\",\"navy\",\"navy\",\"navy\",\"navy\",\"navy\",\"navy\",\"navy\",\"navy\",\"navy\",\"navy\",\"navy\",\"navy\",\"navy\",\"navy\",\"navy\",\"navy\",\"navy\",\"navy\",\"navy\",\"navy\",\"navy\",\"navy\",\"navy\",\"navy\",\"navy\",\"navy\",\"navy\",\"navy\",\"navy\",\"navy\",\"navy\",\"navy\",\"navy\",\"navy\",\"navy\",\"navy\",\"navy\",\"navy\",\"navy\",\"navy\",\"navy\",\"navy\",\"navy\",\"navy\",\"navy\",\"navy\",\"navy\",\"navy\",\"navy\",\"navy\",\"navy\",\"navy\",\"navy\",\"navy\",\"navy\",\"navy\",\"navy\",\"navy\",\"navy\",\"navy\",\"navy\",\"navy\",\"navy\",\"navy\",\"navy\",\"navy\",\"navy\",\"navy\",\"navy\",\"navy\",\"navy\",\"navy\",\"navy\",\"navy\",\"navy\",\"navy\",\"navy\",\"navy\",\"navy\",\"navy\",\"navy\",\"navy\",\"navy\",\"navy\",\"navy\",\"navy\",\"navy\",\"navy\",\"navy\",\"navy\",\"navy\",\"navy\",\"navy\",\"navy\",\"navy\",\"navy\",\"navy\",\"navy\",\"navy\",\"navy\",\"navy\",\"navy\",\"navy\",\"navy\",\"navy\",\"navy\",\"navy\",\"navy\",\"navy\",\"navy\",\"navy\",\"navy\",\"navy\",\"navy\",\"navy\",\"navy\",\"navy\",\"navy\",\"navy\",\"navy\",\"navy\",\"navy\",\"navy\",\"navy\",\"navy\",\"navy\",\"navy\",\"navy\",\"navy\",\"navy\",\"navy\",\"navy\",\"navy\",\"navy\",\"navy\",\"navy\",\"navy\",\"navy\",\"navy\",\"navy\",\"navy\",\"navy\",\"navy\",\"navy\",\"navy\",\"navy\",\"navy\",\"navy\",\"navy\",\"navy\",\"navy\",\"navy\",\"navy\",\"navy\",\"navy\",\"navy\",\"navy\",\"navy\",\"navy\",\"navy\",\"navy\",\"navy\",\"navy\",\"navy\",\"navy\",\"navy\",\"navy\",\"navy\",\"navy\",\"navy\",\"navy\",\"navy\",\"navy\",\"navy\",\"navy\",\"navy\",\"navy\",\"navy\",\"navy\",\"navy\",\"navy\",\"navy\",\"navy\",\"navy\",\"navy\",\"navy\",\"navy\",\"navy\",\"navy\",\"navy\",\"navy\",\"navy\",\"navy\"],\"x\":[0.6794205635267676,0.14189912462167587,0.14579354549558032,0.4787272795946076,0.9539700836478594,0.46744845857203066,0.4842763945788412,0.043263852309607165,0.25841678656047007,0.7921604440686002,0.09822544551306056,0.1564358066922963,0.8825061086543483,0.5618400030876219,0.23749144583834148,0.8097891405437143,0.32605328565446956,0.8233767367614843,0.27795437763901143,0.37912751910507025,0.9054912221236912,0.4842464886127269,0.8819893956278055,0.7294963581631198,0.3477582951049879,0.6003288003013694,0.04211929463985731,0.7404439587844416,0.46331427390867697,0.17633859211747993,0.04397077946927952,0.9742377642924581,0.37698173100412913,0.23538696380950286,0.5282714462174709,0.5398566376985887,0.24923491797815978,0.1401170897794174,0.08682653270011398,0.04490402102320834,0.3188850734497938,0.6634857860406734,0.8073602748295416,0.13323426656320048,0.9046947898224068,0.47938077382591604,0.7617210574194067,0.2197407467523972,0.0475486721683932,0.055659697560289656,0.18501588186345286,0.7033733803090759,0.7362492709839049,0.28960275641106836,0.0050539283167351234,0.43685591146262737,0.9783915377560477,0.0668299261572255,0.7363071325284225,0.8218568067610641,0.8828850044663182,0.5063747947321369,0.6356955148210935,0.8116925704717576,0.806547380683449,0.7218361630156994,0.5257872972197127,0.997868910026618,0.9268758807564659,0.5602195462706601,0.7836479749774772,0.5572618435356165,0.6381245437668374,0.01652024397809948,0.5263595223630797,0.711697152817048,0.3289602315524963,0.7745474596730186,0.7555588454974358,0.9975293670836585,0.5480672069983851,0.5649652404634832,0.13574289812188745,0.13695742279955936,0.6189411254589684,0.30823449607034004,0.21639818158851853,0.9188669188185514,0.4950723498703097,0.022606314854181075,0.016013685840734593,0.6263695060539148,0.5003706113538595,0.2994672128022444,0.5045414598232288,0.24222698890170202,0.0392201997145899,0.8423819824076654,0.01835967807751382,0.2388513605687257,0.13113502637750463,0.5979380206609767,0.6295975760124053,0.4542896509160389,0.14144283600142338,0.9742689625884764,0.4173843058930792,0.08971127245775468,0.8971255497811298,0.9652790877851531,0.9664761583738243,0.1252089201472809,0.9345885819927119,0.09668013311853496,0.840087353365063,0.36346085345903545,0.04118709502202611,0.5791468328758361,0.7142851290324576,0.8442758597897584,0.48433901786911693,0.8703931297502215,0.1807544092677843,0.15491522960755688,0.4737681299753892,0.44478316180081356,0.9887193393654372,0.04354153210648881,0.39081550044455216,0.39976781203500256,0.045374046928078116,0.2237600272766176,0.7321654172573085,0.5517717815032547,0.4347590532287827,0.05149698020202986,0.5733196777002225,0.9030198136506676,0.527823836300668,0.04936272813499798,0.15611818497517616,0.9355414567165361,0.2863081183671179,0.9635194081684755,0.02970009490579706,0.9468750662256054,0.31309946166006886,0.40654737773677196,0.2475088195436036,0.3346653512664325,0.45588595345085625,0.7560910668630224,0.8939699592618278,0.6087041586876156,0.9745343401145558,0.49744141453567514,0.9089229713173173,0.1918904388808742,0.1566973207703296,0.48007021105025716,0.19744153389575037,0.13736802059209297,0.522439355429953,0.04932566795033255,0.3952510587682837,0.7989785025466976,0.02643067685410483,0.15019659740765878,0.8922237194055102,0.36065379783447504,0.6313146070687705,0.9253105771855793,0.8287303274045094,0.7366581774741546,0.0829756272354738,0.3680258988318499,0.31257486350696595,0.18433543347860382,0.10375230057575036,0.37666480969646254,0.10724769497866637,0.9216002216097342,0.6488686438630433,0.5609487701508302,0.01805109744172584,0.30437233959524723,0.332426267750074,0.35751508431582135,0.4271067073323559,0.006978459857990282,0.5037943679361083,0.6823329091129012,0.34613767611624446,0.8715224359478142,0.689358599131406,0.6995493443434784,0.390307448676533,0.6670760345404735,0.5825882309665025,0.10732989126255965,0.30775542556947477,0.8362579615283547,0.7561863844177592,0.9808648235637983,0.2668586727901753,0.6725315353014095,0.5912347765428604,0.9390170192093209,0.1863919389070865,0.9549296863656107,0.7517290003473516,0.08401312595760324,0.3105854714158953,0.5243306560665605,0.7485097780515096,0.7014188909940373,0.1431081069611121,0.39400717112901906,0.12046537148328473,0.49560038387627914,0.7569756750073752,0.11203711813410344,0.38058344263507726,0.5785832826797215,0.8808813365845884,0.761460905378066,0.33057270526710114,0.2835702018747519,0.3742221143945772,0.1782605449671204,0.4849720839569053,0.19076882832045172,0.4329450973210719,0.7680263572299111,0.11813179077348313,0.03391481885061842,0.3548976366629598,0.6452328947714725,0.38622216235933704,0.49310443688668193,0.2644330592688192,0.7349088080075808,0.85455818466385,0.06770923116974858,0.8075454524151726,0.9020550566172186,0.582497326368221,0.7706939120329899,0.2834990894231838,0.9586221944723086,0.2494707919666178,0.9398710984444614,0.6798129697727637,0.4782106105435471,0.5129890729498459,0.5019761055826184,0.40739152892042274,0.3666012477002737,0.5226245859148854,0.38185370582296696,0.45999212042414817,0.3051491229639086,0.6800411409530549,0.14105580315446165,0.8938037266511051,0.3454681186297558,0.6120686013083804,0.4446221204475279,0.6717634050124457,0.5629761634258165,0.3365817827301111,0.3517342849986863,0.7297822297282761,0.06026431974165902,0.9108960195064137,0.12428549261121802,0.6025689805551818,0.05282326682271732,0.4638616159162774,0.8126736569194719,0.3591489027698608,0.016812971981563507,0.8686976812952371,0.9414177076993648,0.1564199634021125,0.3631317219181096,0.005780963227942415,0.18486172101253562,0.685343960356684,0.8311039874094645,0.3984440532576691,0.49293001885202026,0.32450388733692814,0.14735951247077994,0.4769303295981039,0.03971617758227941,0.19562579034411898,0.850922545337037,0.4194238959616753,0.15263176990763683,0.32502974141236496,0.8526930438340459,0.06689318596192084,0.048347968710175215,0.5051049754023174,0.5231330593358504,0.2974456245226448,0.8373013921868233,0.5237297363365901,0.6687583764149412,0.7638007524102215,0.6638888399995961,0.031172565677745512,0.7956113584949284,0.07312208259600184,0.5756652257926196,0.9443690390166363,0.9115603398272085,0.9055417868206065,0.30049986471079493,0.3845801168899773,0.8411342145269893,0.9662149157517268,0.10457391445494202,0.6618403632942902,0.5591410828630506,0.9536251985976419,0.6037542868810701,0.3606100003230698,0.9130618770277346,0.436957327078066,0.8199386066025749,0.3057317439599695,0.5920931084641542,0.9305753029653008,0.43612214880766764,0.04252788931998741,0.3952469051987002,0.11147951480287799,0.2763120978797302,0.39236270352909564,0.7050753630938262,0.6837750717660515,0.7156673604250158,0.5501367733384942,0.15658856884086214,0.7530107588969701,0.9003848938247879,0.8906268120381452,0.1306981807414953,0.5046660095498073,0.19311485323735433,0.7803878523646821,0.5152573276054222,0.8667237643586796,0.2822362974145005,0.718263142420481,0.7892771334443008,0.22241503713484123,0.7730854968615195,0.6106412197618176,0.3235100122437685,0.3808909837502481,0.49683074713832887,0.48373022581170844,0.7020380915964202,0.7350921447995196,0.7560518282376255,0.6340360859316685,0.262617008496442,0.4993786973155424,0.8599850363834729,0.24652661108658935,0.9537828322202562,0.6249353754213828,0.9659083762612781,0.49971798933003664,0.4773393970191716,0.9735994667347576,0.5252085685732714,0.028682782406920793,0.09951310137520353,0.18999526775019737,0.6298684078185791,0.2645127083313765,0.3155679148305123,0.9784465868949738,0.04783277001027819,0.8635824928050133,0.511214150036549,0.1318859038631478,0.06030064246141953,0.09993196774414859,0.7606214783378822,0.9307840787534188,0.9295647927550744,0.604804707668395,0.17070476661204015,0.9513010403639658,0.36156954255131,0.08226373823801147,0.41140618573158894,0.8281665237480088,0.5619418433903856,0.8913501416854787,0.4391194993843325,0.0325302735087204,0.4319379477037373,0.8958401738513758,0.649759032467772,0.05875193799795242,0.8934137120866896,0.02160583710139885,0.6030339188028504,0.9068146780734613,0.8915809988073897,0.6577907760692271,0.7294815288114909,0.08917445435377236,0.9173099229055254,0.4197349891882125,0.11957121768890522,0.12960757557610092,0.778940856759455,0.5008733637598696,0.01683843247289163,0.9924363679552888,0.20360103491504689,0.6521541963955451,0.9445941105211347,0.32576937144299456,0.854833782219145,0.17532797543656875,0.3757999896479064,0.5928892234906419,0.7807208693589809,0.19357014225174107,0.47422898166382166,0.5006710095128301,0.45119891685983204,0.877559301216624,0.22718739103059005,0.6385472040351781,0.47711052490278627,0.9816558543312167,0.8906108786229585,0.5774238287517456,0.62321740325224,0.49709633336212566,0.343774499079465,0.06974081246520158,0.5318853694622003,0.8036806919644134,0.7250554569701417,0.4398952734145094,0.38571994331214843,0.6791044319634836,0.9195166722070207,0.7228903591540156,0.23536444532847323,0.8632214177320797,0.06927042623221136,0.05763137097275117,0.6303109236284367,0.16906315361662183,0.5148132539676017,0.9335562529370582,0.5120472606787019,0.5561996362065668,0.7619658050109204,0.3640575063840924,0.09556946985407222,0.42940179493206254,0.7923558799524585,0.5634540199081417,0.6764947695725031,0.8906313775296336,0.1104903887855413,0.7300668715325903,0.24851203430964208,0.5591744791806768,0.9937674265845988,0.3096719415640683,0.22659798167644896,0.17243714402467658,0.2686719352274354,0.11592376951097194,0.4167622333431258,0.1199961362906925,0.848801240550721,0.5041473919188089,0.040590361168126754,0.39674611696424833,0.15162493786159192,0.5791753814821858,0.46255232324664586,0.32936317960024286,0.1432936691066813,0.24896612294303277,0.8299482617727607],\"y\":[0.20932858335627968,0.5449137049038424,0.20277456871781507,0.8060075696013821,0.7863893272177059,0.1915873852131902,0.2832216057487358,0.36079155600222157,0.9436829128921509,0.17512487527158105,0.9385825811398739,0.7212941298061913,0.04543095818858123,0.4171975750809426,0.4733559451299807,0.7870876221338626,0.16027787193097887,0.29000783381525086,0.4277631163154426,0.06251221342318147,0.38143272736753764,0.08544703225388572,0.01604527482073692,0.32807152802354,0.9642993561173081,0.05500827915724549,0.7266179258610399,0.35502755340664005,0.4130246358609704,0.29521493916121677,0.6990508177167439,0.5961756064346784,0.5304679311140531,0.6772811342895085,0.05915891623313074,0.21533007736232934,0.23285986619112597,0.17156172802173086,0.9296693004055511,0.79742469151175,0.15729671997440353,0.6211818985524479,0.8206523921989595,0.9113024376031409,0.17368579498048742,0.6591848982144347,0.8485137471954839,0.1217152834275409,0.720715126905321,0.380369708189099,0.8344752618838784,0.34218254658640035,0.20921974367974416,0.8264230112806596,0.1057528759865034,0.4943761478647085,0.1750835326486223,0.595271583485281,0.6782113591918335,0.7000933492601139,0.02091057191924217,0.3207454070528444,0.587995087939911,0.7470192531018588,0.2750805141724494,0.37078208599863616,0.6184250823678658,0.5173126548031544,0.9727560207803431,0.3252113413832739,0.8084400738984112,0.8831294300817512,0.5523716999473871,0.6514250945353237,0.8047382114490673,0.3037180943647091,0.38714282419877943,0.06943857249143393,0.7768895264341853,0.5506760775960268,0.5311075549673424,0.6273596401751788,0.32917087830466074,0.24248665356521348,0.5239451255932297,0.48006484050451914,0.25138099336605935,0.7677732503712855,0.48523047019488397,0.2919877268185507,0.37878254952671364,0.2222918235954885,0.6875187513624019,0.27256321915558746,0.07394652882862418,0.08772678942417045,0.32487693793241423,0.07432677659895648,0.24171934351375124,0.06642401828813682,0.7415624386295154,0.948268786259036,0.4954766300172291,0.11971659396649326,0.28911376496784114,0.3165130963894135,0.3721138948671173,0.1547562172061766,0.7379076082152898,0.18912795990262932,0.7324574484919998,0.1015039793502811,0.09662201547709892,0.2216517684271544,0.42310547853943437,0.10762086671853854,0.7786185998319255,0.9689806027776491,0.946247489126333,0.8804698297325388,0.9453952023735195,0.3154904704324244,0.7358017646071731,0.6856509101642004,0.21266929957157776,0.41066976100333774,0.6403050017420922,0.3807865366570009,0.7097619156692812,0.1918524986214648,0.9585793187692143,0.07471205273923531,0.5016140262374894,0.44779514968238376,0.046512299465944595,0.6752350480033479,0.6366653173102966,0.6383845864845732,0.8235290448595667,0.28705030673144805,0.7693875357400775,0.3008258770776304,0.5492440577362446,0.1982816465540418,0.9840109942118278,0.020559598578175353,0.5872079784873342,0.9105005415435979,0.8297469235567304,0.7293986550668733,0.5129628492917059,0.27298629814535513,0.8438280805646579,0.9048069070276015,0.4716193624970044,0.012391189784652368,0.370934419568684,0.5249460732839148,0.3631533175586583,0.5361306242757976,0.13447632271671306,0.5294583049204599,0.28816710454481054,0.16196580024013174,0.7859554450824202,0.011761133215896002,0.5173350201964045,0.9147058846102294,0.1353382569005176,0.6975373293071492,0.8130780429533574,0.17239670802940454,0.4712074868399503,0.6198921264016851,0.4310207024500181,0.43349973401792385,0.9967492405493008,0.46036182831153616,0.8650438367979973,0.9776176845655079,0.9152871510374048,0.32634417669854665,0.8467202568752343,0.7133315875051471,0.9948134227571708,0.9227087258024039,0.07448740504912965,0.28985656751640276,0.21583928361439864,0.4928518487155299,0.2845263167369827,0.9443538961569136,0.8724631252870478,0.609200074787177,0.028786925447683576,0.20706504545660886,0.384757970473001,0.27949271426230915,0.3246278140551814,0.6966568306502412,0.25749599617037455,0.6883551659129521,0.7210438842796786,0.2754250702343447,0.7437867605758707,0.007447302021893476,0.835933267677598,0.7616839059688404,0.8550574954199311,0.8268390017991103,0.9527284762646413,0.6290421876573531,0.7145384375690849,0.8934748165493386,0.027340091640102315,0.2273034349813483,0.2442143378413536,0.5182832690553598,0.12765254681912996,0.0910906720610315,0.6322562531721195,0.2008353385444276,0.1196754880143418,0.11275086897837405,0.19262259668074022,0.7548268349153195,0.19939199496602344,0.8311709761740852,0.37229085836303877,0.26549528523301913,0.5290227530527543,0.27044115378447453,0.35423585075105213,0.8769673536217686,0.16613312803309976,0.5929477668171284,0.015177470575678753,0.24412533416165505,0.39102074847581714,0.47132948708085987,0.23351033022471113,0.058568269327762046,0.2706669339930038,0.3119370346056084,0.6141399111081738,0.25403014593686246,0.23202761101250147,0.47315502692142675,0.2629281789597534,0.14119687118770397,0.31280560500594046,0.5173111080662574,0.9651433928813926,0.6626664702074958,0.36602783975159614,0.7813088700992958,0.6275479953205094,0.7929496394173116,0.47049291932826975,0.46504301297190465,0.46307304598804144,0.8454194632660155,0.6213132052995763,0.387176067282773,0.1151026257333716,0.5969815087433498,0.21116569367050553,0.5445930028462271,0.14225636305636224,0.1749188833659523,0.39226130230022493,0.5887662027046158,0.12540215330752047,0.8463977417698455,0.061736658690798696,0.2720828074669609,0.623188554078017,0.4402090425787549,0.5019710343264547,0.8057792912047071,0.7229730603256991,0.6188418408518096,0.2632642717447725,0.6511241858716077,0.519150841214547,0.7405150478952025,0.688265708258728,0.4242622327922222,0.7655652560457186,0.5083135210928356,0.464821876526886,0.07252531164246023,0.16813855408140888,0.9612114352262291,0.36195351266769227,0.4176311448445851,0.7427300136364272,0.1752351956216619,0.15120830153230258,0.284262646285782,0.8436648282801328,0.7817865920226568,0.20971147634318743,0.9371116816335887,0.2160811660347407,0.018940633564999754,0.08711522886983514,0.8978967105324767,0.7693668396698071,0.07680747308189717,0.5324853069876702,0.847224585489802,0.7819549052706481,0.49030508452427013,0.5808462901050815,0.3113027294351288,0.8617370158122355,0.1954351446002529,0.1658268611356093,0.012654472948031792,0.6991962304473613,0.8567344432032429,0.312178698370274,0.8124135108585491,0.24207742555743728,0.6197422039235898,0.7678975775408868,0.3733635969996295,0.47729263141711076,0.28942965146806754,0.49634792853400456,0.3204157170701628,0.29514093403275277,0.48685210114871114,0.2186606922997325,0.7956335100342887,0.9247991081821669,0.7501220721019304,0.8298846420691952,0.46947229180763195,0.18576574872157814,0.6294615248292496,0.2696647497115341,0.56665108678926,0.20300165786144664,0.26676201746673245,0.8720192689889721,0.2678681178475424,0.6885915627303525,0.18690815217456935,0.1400974152682558,0.6686940434893959,0.493652261468174,0.7766345695329823,0.04195675202622795,0.8883656679839312,0.10021542761144131,0.9354227088307716,0.6949280422238279,0.8199448777407011,0.7650401096118912,0.8239708520319774,0.3319598815308419,0.9352458835898257,0.20688616902406454,0.0170269273478576,0.09508483732124562,0.09837946915021056,0.28098601235732534,0.6436723380077409,0.7700232453354717,0.44427622125952515,0.609590353256744,0.2928462290777665,0.8453334408018288,0.8373616658631646,0.9108552482851802,0.24824822055907048,0.866160962011567,0.6401475367098143,0.18355033147335975,0.8640573212591317,0.34485651965959363,0.2299962960055162,0.24211753006792225,0.8502715660802611,0.43795991056869465,0.30721074283714633,0.8714710130746158,0.9138080976284003,0.9397940945281195,0.15183957174985951,0.34148802518689814,0.9756944720854908,0.9446561237715463,0.8526332265798491,0.22510455495347548,0.264892702426754,0.6297684616250867,0.46120282156968273,0.6348336062369652,0.7561265615828252,0.5684158620040732,0.09254845436429227,0.683644473350555,0.5960496455071654,0.8203135851085168,0.597382317899756,0.49755206171683297,0.22616055592881545,0.7312375187834191,0.1659435338225197,0.2483268064160331,0.5613400171504555,0.9437068003149106,0.881019403621277,0.5609543368492561,0.2118033057669798,0.133452858068961,0.9133083215077886,0.39014014441422085,0.8126244022051696,0.4292839129291548,0.09915107848269966,0.8734011276716158,0.4170406310563328,0.02769614751255467,0.9080635672026827,0.027312929730439084,0.8354686795359345,0.8755516100822137,0.44670411858220294,0.7990625027174639,0.6356274574275713,0.34554961305153986,0.24371864794592868,0.8675219298413823,0.753097875216458,0.6824351865543915,0.39872102048045677,0.6004992212980025,0.5316892238125711,0.7494433059964789,0.802205656899374,0.5340587034495183,0.10662800571146358,0.665742435224629,0.8351268658167664,0.920718121062828,0.7489373364335545,0.08791534483461505,0.8355090027786573,0.21396898672340792,0.22862029699394826,0.20069714998022192,0.6035507977999717,0.06880395163421427,0.5794923428182256,0.30303229203761906,0.43115935323583987,0.9311984595760605,0.12461141584248836,0.4203988214639435,0.6774695385665169,0.6016387423265701,0.7578310630174916,0.8888186433544952,0.3421165953962839,0.7602377465639543,0.6731728310790344,0.5745855600267286,0.9534009979233325,0.7282010535104694,0.8522589330920649,0.8286650291697665,0.9164006197958525,0.8194306491053021,0.7413407591908158,0.8578410567175997,0.2750511709050232,0.3725809883318729,0.280084444351831,0.006307547705453054,0.295675622295578,0.34336000440443626,0.04263947947894642,0.9924145535911102,0.9544129566268543,0.7856370118617543,0.3219515727082761,0.11978243554063639,0.2862511945035645,0.03546179149759743,0.4331925901006568,0.959285999618715,0.18086100687716422,0.16237943896447726,0.07090470179196262,0.02250566277624566,0.597917501073754]}},\"id\":\"c36aa1cb-6d9d-4de4-8568-7dc81e18dcca\",\"type\":\"ColumnDataSource\"},{\"attributes\":{\"line_alpha\":0.6,\"line_color\":\"orange\",\"line_width\":5,\"x\":{\"field\":\"xm\"},\"y\":{\"field\":\"ym\"}},\"id\":\"da1ba835-e53f-4e7a-b259-48ec782b2fc3\",\"type\":\"Line\"},{\"attributes\":{\"callback\":null},\"id\":\"55302119-ae55-42c2-a567-4f875ac429a0\",\"type\":\"DataRange1d\"},{\"attributes\":{\"formatter\":{\"id\":\"59e55ff1-04b3-4a89-93d5-d9bb5ab43b3a\",\"type\":\"BasicTickFormatter\"},\"plot\":{\"id\":\"d412ef64-d72b-46e2-9e2c-fb3490afb38a\",\"subtype\":\"Figure\",\"type\":\"Plot\"},\"ticker\":{\"id\":\"8251574f-6fdd-4d22-8af0-38ea77ae8d06\",\"type\":\"BasicTicker\"}},\"id\":\"e2f74503-4c25-483e-9eca-1215c8d65feb\",\"type\":\"LinearAxis\"},{\"attributes\":{},\"id\":\"7c9085d9-c2aa-4381-8cb6-6b74f1104b4d\",\"type\":\"BasicTickFormatter\"},{\"attributes\":{},\"id\":\"59e55ff1-04b3-4a89-93d5-d9bb5ab43b3a\",\"type\":\"BasicTickFormatter\"},{\"attributes\":{\"data_source\":{\"id\":\"4be8dd8e-6854-4c14-9148-3fefa694479a\",\"type\":\"ColumnDataSource\"},\"glyph\":{\"id\":\"da1ba835-e53f-4e7a-b259-48ec782b2fc3\",\"type\":\"Line\"},\"hover_glyph\":null,\"muted_glyph\":null,\"nonselection_glyph\":{\"id\":\"edc87325-ae88-4f68-a5d4-5ced09f1edba\",\"type\":\"Line\"},\"selection_glyph\":null,\"view\":{\"id\":\"935b05a3-c315-4e7f-8690-319fbaefbf12\",\"type\":\"CDSView\"}},\"id\":\"061db785-c78a-43aa-8557-2c00e84e3347\",\"type\":\"GlyphRenderer\"},{\"attributes\":{},\"id\":\"b42b814d-875f-4a83-80b3-d4955e94a814\",\"type\":\"LinearScale\"},{\"attributes\":{\"fill_alpha\":{\"value\":0.5},\"fill_color\":{\"value\":\"lightgrey\"},\"level\":\"overlay\",\"line_alpha\":{\"value\":1.0},\"line_color\":{\"value\":\"black\"},\"line_dash\":[4,4],\"line_width\":{\"value\":2},\"plot\":null,\"xs_units\":\"screen\",\"ys_units\":\"screen\"},\"id\":\"af201121-3e29-4520-a297-d7f27b35e593\",\"type\":\"PolyAnnotation\"},{\"attributes\":{},\"id\":\"9bad76ab-6eac-4769-8c05-a1a357e5a6f6\",\"type\":\"BasicTicker\"},{\"attributes\":{\"args\":{\"s2\":{\"id\":\"4be8dd8e-6854-4c14-9148-3fefa694479a\",\"type\":\"ColumnDataSource\"}},\"code\":\"\\n    var inds = cb_obj.get('selected')['1d'].indices;\\n    var d = cb_obj.get('data');\\n    var ym = 0\\n    \\n    if (inds.length == 0) { return; }\\n    \\n    for (i = 0; i < d['color'].length; i++) {\\n        d['color'][i] = \\\"navy\\\"\\n    }\\n    for (i = 0; i < inds.length; i++) {\\n        d['color'][inds[i]] = \\\"firebrick\\\"\\n        ym += d['y'][inds[i]]\\n    }\\n    \\n    ym /= inds.length\\n    s2.get('data')['ym'] = [ym, ym]\\n    \\n    cb_obj.trigger('change');\\n    s2.trigger('change');\\n\"},\"id\":\"bc8b1ecc-462e-4e98-ac94-2bbb2a274c89\",\"type\":\"CustomJS\"},{\"attributes\":{\"dimension\":1,\"plot\":{\"id\":\"d412ef64-d72b-46e2-9e2c-fb3490afb38a\",\"subtype\":\"Figure\",\"type\":\"Plot\"},\"ticker\":{\"id\":\"8251574f-6fdd-4d22-8af0-38ea77ae8d06\",\"type\":\"BasicTicker\"}},\"id\":\"61ba090c-006b-4ba4-8ea1-d735507d0809\",\"type\":\"Grid\"},{\"attributes\":{\"source\":{\"id\":\"4be8dd8e-6854-4c14-9148-3fefa694479a\",\"type\":\"ColumnDataSource\"}},\"id\":\"935b05a3-c315-4e7f-8690-319fbaefbf12\",\"type\":\"CDSView\"},{\"attributes\":{\"fill_alpha\":{\"value\":0.4},\"fill_color\":{\"field\":\"color\"},\"line_alpha\":{\"value\":0.4},\"line_color\":{\"field\":\"color\"},\"size\":{\"units\":\"screen\",\"value\":8},\"x\":{\"field\":\"x\"},\"y\":{\"field\":\"y\"}},\"id\":\"d9635536-7c0d-4877-b81c-9422bdfa4c48\",\"type\":\"Circle\"},{\"attributes\":{\"plot\":null,\"text\":\"Select Here\"},\"id\":\"f56c102d-1ae9-404d-9d7c-eac1563b3ece\",\"type\":\"Title\"},{\"attributes\":{\"callback\":null},\"id\":\"af68981c-b6e1-4e0b-a9ca-31319d0c5261\",\"type\":\"DataRange1d\"},{\"attributes\":{\"callback\":null,\"overlay\":{\"id\":\"af201121-3e29-4520-a297-d7f27b35e593\",\"type\":\"PolyAnnotation\"}},\"id\":\"38e211d0-b3ca-4b35-8ec0-ad7f91bec6be\",\"type\":\"LassoSelectTool\"},{\"attributes\":{\"data_source\":{\"id\":\"c36aa1cb-6d9d-4de4-8568-7dc81e18dcca\",\"type\":\"ColumnDataSource\"},\"glyph\":{\"id\":\"d9635536-7c0d-4877-b81c-9422bdfa4c48\",\"type\":\"Circle\"},\"hover_glyph\":null,\"muted_glyph\":null,\"nonselection_glyph\":{\"id\":\"d9f3207b-866f-4ce3-9526-86c5ac4a4c80\",\"type\":\"Circle\"},\"selection_glyph\":null,\"view\":{\"id\":\"8c7900b3-7490-4c1a-96fb-64ccc77465d5\",\"type\":\"CDSView\"}},\"id\":\"38c62c68-797c-4702-8ee8-cd5a1fcfaf64\",\"type\":\"GlyphRenderer\"},{\"attributes\":{\"below\":[{\"id\":\"8756bc45-67b3-4261-9971-295837322887\",\"type\":\"LinearAxis\"}],\"left\":[{\"id\":\"e2f74503-4c25-483e-9eca-1215c8d65feb\",\"type\":\"LinearAxis\"}],\"plot_height\":400,\"plot_width\":400,\"renderers\":[{\"id\":\"8756bc45-67b3-4261-9971-295837322887\",\"type\":\"LinearAxis\"},{\"id\":\"dafdc11f-6659-44e2-9d2c-eab1e2b6adc5\",\"type\":\"Grid\"},{\"id\":\"e2f74503-4c25-483e-9eca-1215c8d65feb\",\"type\":\"LinearAxis\"},{\"id\":\"61ba090c-006b-4ba4-8ea1-d735507d0809\",\"type\":\"Grid\"},{\"id\":\"af201121-3e29-4520-a297-d7f27b35e593\",\"type\":\"PolyAnnotation\"},{\"id\":\"38c62c68-797c-4702-8ee8-cd5a1fcfaf64\",\"type\":\"GlyphRenderer\"},{\"id\":\"061db785-c78a-43aa-8557-2c00e84e3347\",\"type\":\"GlyphRenderer\"}],\"title\":{\"id\":\"f56c102d-1ae9-404d-9d7c-eac1563b3ece\",\"type\":\"Title\"},\"toolbar\":{\"id\":\"a78781c1-99eb-4bfd-b4e9-10912e14d852\",\"type\":\"Toolbar\"},\"x_range\":{\"id\":\"af68981c-b6e1-4e0b-a9ca-31319d0c5261\",\"type\":\"DataRange1d\"},\"x_scale\":{\"id\":\"3479c94d-a57d-4602-9b27-af66b0c9c4da\",\"type\":\"LinearScale\"},\"y_range\":{\"id\":\"55302119-ae55-42c2-a567-4f875ac429a0\",\"type\":\"DataRange1d\"},\"y_scale\":{\"id\":\"b42b814d-875f-4a83-80b3-d4955e94a814\",\"type\":\"LinearScale\"}},\"id\":\"d412ef64-d72b-46e2-9e2c-fb3490afb38a\",\"subtype\":\"Figure\",\"type\":\"Plot\"},{\"attributes\":{\"active_drag\":\"auto\",\"active_inspect\":\"auto\",\"active_scroll\":\"auto\",\"active_tap\":\"auto\",\"tools\":[{\"id\":\"38e211d0-b3ca-4b35-8ec0-ad7f91bec6be\",\"type\":\"LassoSelectTool\"}]},\"id\":\"a78781c1-99eb-4bfd-b4e9-10912e14d852\",\"type\":\"Toolbar\"},{\"attributes\":{\"fill_alpha\":{\"value\":0.1},\"fill_color\":{\"value\":\"#1f77b4\"},\"line_alpha\":{\"value\":0.1},\"line_color\":{\"value\":\"#1f77b4\"},\"size\":{\"units\":\"screen\",\"value\":8},\"x\":{\"field\":\"x\"},\"y\":{\"field\":\"y\"}},\"id\":\"d9f3207b-866f-4ce3-9526-86c5ac4a4c80\",\"type\":\"Circle\"},{\"attributes\":{\"callback\":null,\"column_names\":[\"xm\",\"ym\"],\"data\":{\"xm\":[0,1],\"ym\":[0.5,0.5]}},\"id\":\"4be8dd8e-6854-4c14-9148-3fefa694479a\",\"type\":\"ColumnDataSource\"}],\"root_ids\":[\"d412ef64-d72b-46e2-9e2c-fb3490afb38a\"]},\"title\":\"Bokeh Application\",\"version\":\"0.12.13\"}};\n",
       "  var render_items = [{\"docid\":\"6ff549bb-0f65-4b3b-b027-6a684c70dbe8\",\"elementid\":\"6bc98369-b481-4853-8d34-05ca7aca5c6c\",\"modelid\":\"d412ef64-d72b-46e2-9e2c-fb3490afb38a\"}];\n",
       "  root.Bokeh.embed.embed_items_notebook(docs_json, render_items);\n",
       "\n",
       "  }\n",
       "  if (root.Bokeh !== undefined) {\n",
       "    embed_document(root);\n",
       "  } else {\n",
       "    var attempts = 0;\n",
       "    var timer = setInterval(function(root) {\n",
       "      if (root.Bokeh !== undefined) {\n",
       "        embed_document(root);\n",
       "        clearInterval(timer);\n",
       "      }\n",
       "      attempts++;\n",
       "      if (attempts > 100) {\n",
       "        console.log(\"Bokeh: ERROR: Unable to run BokehJS code because BokehJS library is missing\")\n",
       "        clearInterval(timer);\n",
       "      }\n",
       "    }, 10, root)\n",
       "  }\n",
       "})(window);"
      ],
      "application/vnd.bokehjs_exec.v0+json": ""
     },
     "metadata": {
      "application/vnd.bokehjs_exec.v0+json": {
       "id": "d412ef64-d72b-46e2-9e2c-fb3490afb38a"
      }
     },
     "output_type": "display_data"
    }
   ],
   "source": [
    "from random import random\n",
    "\n",
    "x = [random() for x in range(500)]\n",
    "y = [random() for y in range(500)]\n",
    "color = [\"navy\"] * len(x)\n",
    "\n",
    "s = ColumnDataSource(data=dict(x=x, y=y, color=color))\n",
    "p = figure(plot_width=400, plot_height=400, tools=\"lasso_select\", title=\"Select Here\")\n",
    "p.circle('x', 'y', color='color', size=8, source=s, alpha=0.4)\n",
    "\n",
    "s2 = ColumnDataSource(data=dict(xm=[0,1],ym=[0.5, 0.5]))\n",
    "p.line(x='xm', y='ym', color=\"orange\", line_width=5, alpha=0.6, source=s2)\n",
    "\n",
    "s.callback = CustomJS(args=dict(s2=s2), code=\"\"\"\n",
    "    var inds = cb_obj.get('selected')['1d'].indices;\n",
    "    var d = cb_obj.get('data');\n",
    "    var ym = 0\n",
    "    \n",
    "    if (inds.length == 0) { return; }\n",
    "    \n",
    "    for (i = 0; i < d['color'].length; i++) {\n",
    "        d['color'][i] = \"navy\"\n",
    "    }\n",
    "    for (i = 0; i < inds.length; i++) {\n",
    "        d['color'][inds[i]] = \"firebrick\"\n",
    "        ym += d['y'][inds[i]]\n",
    "    }\n",
    "    \n",
    "    ym /= inds.length\n",
    "    s2.get('data')['ym'] = [ym, ym]\n",
    "    \n",
    "    cb_obj.trigger('change');\n",
    "    s2.trigger('change');\n",
    "\"\"\")\n",
    "\n",
    "show(p)"
   ]
  }
 ],
 "metadata": {
  "kernelspec": {
   "display_name": "Python 3",
   "language": "python",
   "name": "python3"
  },
  "language_info": {
   "codemirror_mode": {
    "name": "ipython",
    "version": 3
   },
   "file_extension": ".py",
   "mimetype": "text/x-python",
   "name": "python",
   "nbconvert_exporter": "python",
   "pygments_lexer": "ipython3",
   "version": "3.6.4"
  }
 },
 "nbformat": 4,
 "nbformat_minor": 2
}
