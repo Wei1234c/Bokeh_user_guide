{
 "cells": [
  {
   "cell_type": "markdown",
   "metadata": {},
   "source": [
    "# Bokeh 5-minute Overview\n",
    "http://nbviewer.jupyter.org/github/bokeh/bokeh-notebooks/blob/master/quickstart/quickstart.ipynb"
   ]
  },
  {
   "cell_type": "markdown",
   "metadata": {},
   "source": [
    "## Simple Example\n",
    "Here is a simple first example. First we'll import the figure function from bokeh.plotting, which will let us create all sorts of interesting plots easily. We also import the show and ouptut_notebook functions from bokeh.io — these let us display our results inline in the notebook."
   ]
  },
  {
   "cell_type": "code",
   "execution_count": 1,
   "metadata": {},
   "outputs": [],
   "source": [
    "from bokeh.plotting import figure \n",
    "from bokeh.io import output_notebook, show"
   ]
  },
  {
   "cell_type": "markdown",
   "metadata": {},
   "source": [
    "Next, we'll tell Bokeh to display its plots directly into the notebook. This will cause all of the Javascript and data to be embedded directly into the HTML of the notebook itself. (Bokeh can output straight to HTML files, or use a server, which we'll look at later.)"
   ]
  },
  {
   "cell_type": "code",
   "execution_count": 2,
   "metadata": {},
   "outputs": [
    {
     "data": {
      "text/html": [
       "\n",
       "    <div class=\"bk-root\">\n",
       "        <a href=\"https://bokeh.pydata.org\" target=\"_blank\" class=\"bk-logo bk-logo-small bk-logo-notebook\"></a>\n",
       "        <span id=\"3c05cfd9-f0e0-469a-a483-978874afbb56\">Loading BokehJS ...</span>\n",
       "    </div>"
      ]
     },
     "metadata": {},
     "output_type": "display_data"
    },
    {
     "data": {
      "application/javascript": [
       "\n",
       "(function(root) {\n",
       "  function now() {\n",
       "    return new Date();\n",
       "  }\n",
       "\n",
       "  var force = true;\n",
       "\n",
       "  if (typeof (root._bokeh_onload_callbacks) === \"undefined\" || force === true) {\n",
       "    root._bokeh_onload_callbacks = [];\n",
       "    root._bokeh_is_loading = undefined;\n",
       "  }\n",
       "\n",
       "  var JS_MIME_TYPE = 'application/javascript';\n",
       "  var HTML_MIME_TYPE = 'text/html';\n",
       "  var EXEC_MIME_TYPE = 'application/vnd.bokehjs_exec.v0+json';\n",
       "  var CLASS_NAME = 'output_bokeh rendered_html';\n",
       "\n",
       "  /**\n",
       "   * Render data to the DOM node\n",
       "   */\n",
       "  function render(props, node) {\n",
       "    var script = document.createElement(\"script\");\n",
       "    node.appendChild(script);\n",
       "  }\n",
       "\n",
       "  /**\n",
       "   * Handle when an output is cleared or removed\n",
       "   */\n",
       "  function handleClearOutput(event, handle) {\n",
       "    var cell = handle.cell;\n",
       "\n",
       "    var id = cell.output_area._bokeh_element_id;\n",
       "    var server_id = cell.output_area._bokeh_server_id;\n",
       "    // Clean up Bokeh references\n",
       "    if (id !== undefined) {\n",
       "      Bokeh.index[id].model.document.clear();\n",
       "      delete Bokeh.index[id];\n",
       "    }\n",
       "\n",
       "    if (server_id !== undefined) {\n",
       "      // Clean up Bokeh references\n",
       "      var cmd = \"from bokeh.io.state import curstate; print(curstate().uuid_to_server['\" + server_id + \"'].get_sessions()[0].document.roots[0]._id)\";\n",
       "      cell.notebook.kernel.execute(cmd, {\n",
       "        iopub: {\n",
       "          output: function(msg) {\n",
       "            var element_id = msg.content.text.trim();\n",
       "            Bokeh.index[element_id].model.document.clear();\n",
       "            delete Bokeh.index[element_id];\n",
       "          }\n",
       "        }\n",
       "      });\n",
       "      // Destroy server and session\n",
       "      var cmd = \"import bokeh.io.notebook as ion; ion.destroy_server('\" + server_id + \"')\";\n",
       "      cell.notebook.kernel.execute(cmd);\n",
       "    }\n",
       "  }\n",
       "\n",
       "  /**\n",
       "   * Handle when a new output is added\n",
       "   */\n",
       "  function handleAddOutput(event, handle) {\n",
       "    var output_area = handle.output_area;\n",
       "    var output = handle.output;\n",
       "\n",
       "    // limit handleAddOutput to display_data with EXEC_MIME_TYPE content only\n",
       "    if ((output.output_type != \"display_data\") || (!output.data.hasOwnProperty(EXEC_MIME_TYPE))) {\n",
       "      return\n",
       "    }\n",
       "\n",
       "    var toinsert = output_area.element.find(\".\" + CLASS_NAME.split(' ')[0]);\n",
       "\n",
       "    if (output.metadata[EXEC_MIME_TYPE][\"id\"] !== undefined) {\n",
       "      toinsert[0].firstChild.textContent = output.data[JS_MIME_TYPE];\n",
       "      // store reference to embed id on output_area\n",
       "      output_area._bokeh_element_id = output.metadata[EXEC_MIME_TYPE][\"id\"];\n",
       "    }\n",
       "    if (output.metadata[EXEC_MIME_TYPE][\"server_id\"] !== undefined) {\n",
       "      var bk_div = document.createElement(\"div\");\n",
       "      bk_div.innerHTML = output.data[HTML_MIME_TYPE];\n",
       "      var script_attrs = bk_div.children[0].attributes;\n",
       "      for (var i = 0; i < script_attrs.length; i++) {\n",
       "        toinsert[0].firstChild.setAttribute(script_attrs[i].name, script_attrs[i].value);\n",
       "      }\n",
       "      // store reference to server id on output_area\n",
       "      output_area._bokeh_server_id = output.metadata[EXEC_MIME_TYPE][\"server_id\"];\n",
       "    }\n",
       "  }\n",
       "\n",
       "  function register_renderer(events, OutputArea) {\n",
       "\n",
       "    function append_mime(data, metadata, element) {\n",
       "      // create a DOM node to render to\n",
       "      var toinsert = this.create_output_subarea(\n",
       "        metadata,\n",
       "        CLASS_NAME,\n",
       "        EXEC_MIME_TYPE\n",
       "      );\n",
       "      this.keyboard_manager.register_events(toinsert);\n",
       "      // Render to node\n",
       "      var props = {data: data, metadata: metadata[EXEC_MIME_TYPE]};\n",
       "      render(props, toinsert[0]);\n",
       "      element.append(toinsert);\n",
       "      return toinsert\n",
       "    }\n",
       "\n",
       "    /* Handle when an output is cleared or removed */\n",
       "    events.on('clear_output.CodeCell', handleClearOutput);\n",
       "    events.on('delete.Cell', handleClearOutput);\n",
       "\n",
       "    /* Handle when a new output is added */\n",
       "    events.on('output_added.OutputArea', handleAddOutput);\n",
       "\n",
       "    /**\n",
       "     * Register the mime type and append_mime function with output_area\n",
       "     */\n",
       "    OutputArea.prototype.register_mime_type(EXEC_MIME_TYPE, append_mime, {\n",
       "      /* Is output safe? */\n",
       "      safe: true,\n",
       "      /* Index of renderer in `output_area.display_order` */\n",
       "      index: 0\n",
       "    });\n",
       "  }\n",
       "\n",
       "  // register the mime type if in Jupyter Notebook environment and previously unregistered\n",
       "  if (root.Jupyter !== undefined) {\n",
       "    var events = require('base/js/events');\n",
       "    var OutputArea = require('notebook/js/outputarea').OutputArea;\n",
       "\n",
       "    if (OutputArea.prototype.mime_types().indexOf(EXEC_MIME_TYPE) == -1) {\n",
       "      register_renderer(events, OutputArea);\n",
       "    }\n",
       "  }\n",
       "\n",
       "  \n",
       "  if (typeof (root._bokeh_timeout) === \"undefined\" || force === true) {\n",
       "    root._bokeh_timeout = Date.now() + 5000;\n",
       "    root._bokeh_failed_load = false;\n",
       "  }\n",
       "\n",
       "  var NB_LOAD_WARNING = {'data': {'text/html':\n",
       "     \"<div style='background-color: #fdd'>\\n\"+\n",
       "     \"<p>\\n\"+\n",
       "     \"BokehJS does not appear to have successfully loaded. If loading BokehJS from CDN, this \\n\"+\n",
       "     \"may be due to a slow or bad network connection. Possible fixes:\\n\"+\n",
       "     \"</p>\\n\"+\n",
       "     \"<ul>\\n\"+\n",
       "     \"<li>re-rerun `output_notebook()` to attempt to load from CDN again, or</li>\\n\"+\n",
       "     \"<li>use INLINE resources instead, as so:</li>\\n\"+\n",
       "     \"</ul>\\n\"+\n",
       "     \"<code>\\n\"+\n",
       "     \"from bokeh.resources import INLINE\\n\"+\n",
       "     \"output_notebook(resources=INLINE)\\n\"+\n",
       "     \"</code>\\n\"+\n",
       "     \"</div>\"}};\n",
       "\n",
       "  function display_loaded() {\n",
       "    var el = document.getElementById(\"3c05cfd9-f0e0-469a-a483-978874afbb56\");\n",
       "    if (el != null) {\n",
       "      el.textContent = \"BokehJS is loading...\";\n",
       "    }\n",
       "    if (root.Bokeh !== undefined) {\n",
       "      if (el != null) {\n",
       "        el.textContent = \"BokehJS \" + root.Bokeh.version + \" successfully loaded.\";\n",
       "      }\n",
       "    } else if (Date.now() < root._bokeh_timeout) {\n",
       "      setTimeout(display_loaded, 100)\n",
       "    }\n",
       "  }\n",
       "\n",
       "\n",
       "  function run_callbacks() {\n",
       "    try {\n",
       "      root._bokeh_onload_callbacks.forEach(function(callback) { callback() });\n",
       "    }\n",
       "    finally {\n",
       "      delete root._bokeh_onload_callbacks\n",
       "    }\n",
       "    console.info(\"Bokeh: all callbacks have finished\");\n",
       "  }\n",
       "\n",
       "  function load_libs(js_urls, callback) {\n",
       "    root._bokeh_onload_callbacks.push(callback);\n",
       "    if (root._bokeh_is_loading > 0) {\n",
       "      console.log(\"Bokeh: BokehJS is being loaded, scheduling callback at\", now());\n",
       "      return null;\n",
       "    }\n",
       "    if (js_urls == null || js_urls.length === 0) {\n",
       "      run_callbacks();\n",
       "      return null;\n",
       "    }\n",
       "    console.log(\"Bokeh: BokehJS not loaded, scheduling load and callback at\", now());\n",
       "    root._bokeh_is_loading = js_urls.length;\n",
       "    for (var i = 0; i < js_urls.length; i++) {\n",
       "      var url = js_urls[i];\n",
       "      var s = document.createElement('script');\n",
       "      s.src = url;\n",
       "      s.async = false;\n",
       "      s.onreadystatechange = s.onload = function() {\n",
       "        root._bokeh_is_loading--;\n",
       "        if (root._bokeh_is_loading === 0) {\n",
       "          console.log(\"Bokeh: all BokehJS libraries loaded\");\n",
       "          run_callbacks()\n",
       "        }\n",
       "      };\n",
       "      s.onerror = function() {\n",
       "        console.warn(\"failed to load library \" + url);\n",
       "      };\n",
       "      console.log(\"Bokeh: injecting script tag for BokehJS library: \", url);\n",
       "      document.getElementsByTagName(\"head\")[0].appendChild(s);\n",
       "    }\n",
       "  };var element = document.getElementById(\"3c05cfd9-f0e0-469a-a483-978874afbb56\");\n",
       "  if (element == null) {\n",
       "    console.log(\"Bokeh: ERROR: autoload.js configured with elementid '3c05cfd9-f0e0-469a-a483-978874afbb56' but no matching script tag was found. \")\n",
       "    return false;\n",
       "  }\n",
       "\n",
       "  var js_urls = [\"https://cdn.pydata.org/bokeh/release/bokeh-0.12.13.min.js\", \"https://cdn.pydata.org/bokeh/release/bokeh-widgets-0.12.13.min.js\", \"https://cdn.pydata.org/bokeh/release/bokeh-tables-0.12.13.min.js\", \"https://cdn.pydata.org/bokeh/release/bokeh-gl-0.12.13.min.js\"];\n",
       "\n",
       "  var inline_js = [\n",
       "    function(Bokeh) {\n",
       "      Bokeh.set_log_level(\"info\");\n",
       "    },\n",
       "    \n",
       "    function(Bokeh) {\n",
       "      \n",
       "    },\n",
       "    function(Bokeh) {\n",
       "      console.log(\"Bokeh: injecting CSS: https://cdn.pydata.org/bokeh/release/bokeh-0.12.13.min.css\");\n",
       "      Bokeh.embed.inject_css(\"https://cdn.pydata.org/bokeh/release/bokeh-0.12.13.min.css\");\n",
       "      console.log(\"Bokeh: injecting CSS: https://cdn.pydata.org/bokeh/release/bokeh-widgets-0.12.13.min.css\");\n",
       "      Bokeh.embed.inject_css(\"https://cdn.pydata.org/bokeh/release/bokeh-widgets-0.12.13.min.css\");\n",
       "      console.log(\"Bokeh: injecting CSS: https://cdn.pydata.org/bokeh/release/bokeh-tables-0.12.13.min.css\");\n",
       "      Bokeh.embed.inject_css(\"https://cdn.pydata.org/bokeh/release/bokeh-tables-0.12.13.min.css\");\n",
       "    }\n",
       "  ];\n",
       "\n",
       "  function run_inline_js() {\n",
       "    \n",
       "    if ((root.Bokeh !== undefined) || (force === true)) {\n",
       "      for (var i = 0; i < inline_js.length; i++) {\n",
       "        inline_js[i].call(root, root.Bokeh);\n",
       "      }if (force === true) {\n",
       "        display_loaded();\n",
       "      }} else if (Date.now() < root._bokeh_timeout) {\n",
       "      setTimeout(run_inline_js, 100);\n",
       "    } else if (!root._bokeh_failed_load) {\n",
       "      console.log(\"Bokeh: BokehJS failed to load within specified timeout.\");\n",
       "      root._bokeh_failed_load = true;\n",
       "    } else if (force !== true) {\n",
       "      var cell = $(document.getElementById(\"3c05cfd9-f0e0-469a-a483-978874afbb56\")).parents('.cell').data().cell;\n",
       "      cell.output_area.append_execute_result(NB_LOAD_WARNING)\n",
       "    }\n",
       "\n",
       "  }\n",
       "\n",
       "  if (root._bokeh_is_loading === 0) {\n",
       "    console.log(\"Bokeh: BokehJS loaded, going straight to plotting\");\n",
       "    run_inline_js();\n",
       "  } else {\n",
       "    load_libs(js_urls, function() {\n",
       "      console.log(\"Bokeh: BokehJS plotting callback run at\", now());\n",
       "      run_inline_js();\n",
       "    });\n",
       "  }\n",
       "}(window));"
      ],
      "application/vnd.bokehjs_load.v0+json": "\n(function(root) {\n  function now() {\n    return new Date();\n  }\n\n  var force = true;\n\n  if (typeof (root._bokeh_onload_callbacks) === \"undefined\" || force === true) {\n    root._bokeh_onload_callbacks = [];\n    root._bokeh_is_loading = undefined;\n  }\n\n  \n\n  \n  if (typeof (root._bokeh_timeout) === \"undefined\" || force === true) {\n    root._bokeh_timeout = Date.now() + 5000;\n    root._bokeh_failed_load = false;\n  }\n\n  var NB_LOAD_WARNING = {'data': {'text/html':\n     \"<div style='background-color: #fdd'>\\n\"+\n     \"<p>\\n\"+\n     \"BokehJS does not appear to have successfully loaded. If loading BokehJS from CDN, this \\n\"+\n     \"may be due to a slow or bad network connection. Possible fixes:\\n\"+\n     \"</p>\\n\"+\n     \"<ul>\\n\"+\n     \"<li>re-rerun `output_notebook()` to attempt to load from CDN again, or</li>\\n\"+\n     \"<li>use INLINE resources instead, as so:</li>\\n\"+\n     \"</ul>\\n\"+\n     \"<code>\\n\"+\n     \"from bokeh.resources import INLINE\\n\"+\n     \"output_notebook(resources=INLINE)\\n\"+\n     \"</code>\\n\"+\n     \"</div>\"}};\n\n  function display_loaded() {\n    var el = document.getElementById(\"3c05cfd9-f0e0-469a-a483-978874afbb56\");\n    if (el != null) {\n      el.textContent = \"BokehJS is loading...\";\n    }\n    if (root.Bokeh !== undefined) {\n      if (el != null) {\n        el.textContent = \"BokehJS \" + root.Bokeh.version + \" successfully loaded.\";\n      }\n    } else if (Date.now() < root._bokeh_timeout) {\n      setTimeout(display_loaded, 100)\n    }\n  }\n\n\n  function run_callbacks() {\n    try {\n      root._bokeh_onload_callbacks.forEach(function(callback) { callback() });\n    }\n    finally {\n      delete root._bokeh_onload_callbacks\n    }\n    console.info(\"Bokeh: all callbacks have finished\");\n  }\n\n  function load_libs(js_urls, callback) {\n    root._bokeh_onload_callbacks.push(callback);\n    if (root._bokeh_is_loading > 0) {\n      console.log(\"Bokeh: BokehJS is being loaded, scheduling callback at\", now());\n      return null;\n    }\n    if (js_urls == null || js_urls.length === 0) {\n      run_callbacks();\n      return null;\n    }\n    console.log(\"Bokeh: BokehJS not loaded, scheduling load and callback at\", now());\n    root._bokeh_is_loading = js_urls.length;\n    for (var i = 0; i < js_urls.length; i++) {\n      var url = js_urls[i];\n      var s = document.createElement('script');\n      s.src = url;\n      s.async = false;\n      s.onreadystatechange = s.onload = function() {\n        root._bokeh_is_loading--;\n        if (root._bokeh_is_loading === 0) {\n          console.log(\"Bokeh: all BokehJS libraries loaded\");\n          run_callbacks()\n        }\n      };\n      s.onerror = function() {\n        console.warn(\"failed to load library \" + url);\n      };\n      console.log(\"Bokeh: injecting script tag for BokehJS library: \", url);\n      document.getElementsByTagName(\"head\")[0].appendChild(s);\n    }\n  };var element = document.getElementById(\"3c05cfd9-f0e0-469a-a483-978874afbb56\");\n  if (element == null) {\n    console.log(\"Bokeh: ERROR: autoload.js configured with elementid '3c05cfd9-f0e0-469a-a483-978874afbb56' but no matching script tag was found. \")\n    return false;\n  }\n\n  var js_urls = [\"https://cdn.pydata.org/bokeh/release/bokeh-0.12.13.min.js\", \"https://cdn.pydata.org/bokeh/release/bokeh-widgets-0.12.13.min.js\", \"https://cdn.pydata.org/bokeh/release/bokeh-tables-0.12.13.min.js\", \"https://cdn.pydata.org/bokeh/release/bokeh-gl-0.12.13.min.js\"];\n\n  var inline_js = [\n    function(Bokeh) {\n      Bokeh.set_log_level(\"info\");\n    },\n    \n    function(Bokeh) {\n      \n    },\n    function(Bokeh) {\n      console.log(\"Bokeh: injecting CSS: https://cdn.pydata.org/bokeh/release/bokeh-0.12.13.min.css\");\n      Bokeh.embed.inject_css(\"https://cdn.pydata.org/bokeh/release/bokeh-0.12.13.min.css\");\n      console.log(\"Bokeh: injecting CSS: https://cdn.pydata.org/bokeh/release/bokeh-widgets-0.12.13.min.css\");\n      Bokeh.embed.inject_css(\"https://cdn.pydata.org/bokeh/release/bokeh-widgets-0.12.13.min.css\");\n      console.log(\"Bokeh: injecting CSS: https://cdn.pydata.org/bokeh/release/bokeh-tables-0.12.13.min.css\");\n      Bokeh.embed.inject_css(\"https://cdn.pydata.org/bokeh/release/bokeh-tables-0.12.13.min.css\");\n    }\n  ];\n\n  function run_inline_js() {\n    \n    if ((root.Bokeh !== undefined) || (force === true)) {\n      for (var i = 0; i < inline_js.length; i++) {\n        inline_js[i].call(root, root.Bokeh);\n      }if (force === true) {\n        display_loaded();\n      }} else if (Date.now() < root._bokeh_timeout) {\n      setTimeout(run_inline_js, 100);\n    } else if (!root._bokeh_failed_load) {\n      console.log(\"Bokeh: BokehJS failed to load within specified timeout.\");\n      root._bokeh_failed_load = true;\n    } else if (force !== true) {\n      var cell = $(document.getElementById(\"3c05cfd9-f0e0-469a-a483-978874afbb56\")).parents('.cell').data().cell;\n      cell.output_area.append_execute_result(NB_LOAD_WARNING)\n    }\n\n  }\n\n  if (root._bokeh_is_loading === 0) {\n    console.log(\"Bokeh: BokehJS loaded, going straight to plotting\");\n    run_inline_js();\n  } else {\n    load_libs(js_urls, function() {\n      console.log(\"Bokeh: BokehJS plotting callback run at\", now());\n      run_inline_js();\n    });\n  }\n}(window));"
     },
     "metadata": {},
     "output_type": "display_data"
    }
   ],
   "source": [
    "output_notebook()"
   ]
  },
  {
   "cell_type": "markdown",
   "metadata": {},
   "source": [
    "Next, we'll import NumPy and create some simple data."
   ]
  },
  {
   "cell_type": "code",
   "execution_count": 3,
   "metadata": {},
   "outputs": [],
   "source": [
    "from numpy import cos, linspace\n",
    "x = linspace(-6, 6, 100)\n",
    "y = cos(x)"
   ]
  },
  {
   "cell_type": "markdown",
   "metadata": {},
   "source": [
    "Now we'll call Bokeh's figure functtion to create a plot p. Then we call the circle() method of the plot to render a red circle at each of the points in x and y.\n",
    "\n",
    "We can immediately interact with the plot:\n",
    "\n",
    "click-drag will pan the plot around.\n",
    "mousewheel will zoom in and out (after enabling in the toolbar)\n",
    "The toolbar below is the default one that is available for all plots. It can be configured further via the tools keyword argument."
   ]
  },
  {
   "cell_type": "code",
   "execution_count": 4,
   "metadata": {},
   "outputs": [
    {
     "data": {
      "text/html": [
       "\n",
       "<div class=\"bk-root\">\n",
       "    <div class=\"bk-plotdiv\" id=\"26369d85-f1ea-4192-8dc2-920ed7506b45\"></div>\n",
       "</div>"
      ]
     },
     "metadata": {},
     "output_type": "display_data"
    },
    {
     "data": {
      "application/javascript": [
       "(function(root) {\n",
       "  function embed_document(root) {\n",
       "    \n",
       "  var docs_json = {\"89df4fb5-74cf-4749-88f2-7d5c0d0b404a\":{\"roots\":{\"references\":[{\"attributes\":{\"fill_alpha\":{\"value\":0.1},\"fill_color\":{\"value\":\"#1f77b4\"},\"line_alpha\":{\"value\":0.1},\"line_color\":{\"value\":\"#1f77b4\"},\"size\":{\"units\":\"screen\",\"value\":7},\"x\":{\"field\":\"x\"},\"y\":{\"field\":\"y\"}},\"id\":\"ca3a93d2-9d4c-42cd-969e-f907c6a9b5da\",\"type\":\"Circle\"},{\"attributes\":{\"active_drag\":\"auto\",\"active_inspect\":\"auto\",\"active_scroll\":\"auto\",\"active_tap\":\"auto\",\"tools\":[{\"id\":\"1dd0ae85-e4bc-4bcc-9ce0-9765daaf5c6e\",\"type\":\"PanTool\"},{\"id\":\"e1bc6d18-5bf5-432b-a58c-409970a43ff7\",\"type\":\"WheelZoomTool\"},{\"id\":\"c4a77247-08db-41ca-89ad-5fdc5790e189\",\"type\":\"BoxZoomTool\"},{\"id\":\"61b350be-f93f-45d1-9283-8dd77720117f\",\"type\":\"SaveTool\"},{\"id\":\"750fe4ff-f948-49c1-bf15-94b020ae3e40\",\"type\":\"ResetTool\"},{\"id\":\"5835f357-1e39-4a72-ba3d-822649f29919\",\"type\":\"HelpTool\"}]},\"id\":\"823f7ea4-d9cc-4a78-8027-7829f42f9958\",\"type\":\"Toolbar\"},{\"attributes\":{\"bottom_units\":\"screen\",\"fill_alpha\":{\"value\":0.5},\"fill_color\":{\"value\":\"lightgrey\"},\"left_units\":\"screen\",\"level\":\"overlay\",\"line_alpha\":{\"value\":1.0},\"line_color\":{\"value\":\"black\"},\"line_dash\":[4,4],\"line_width\":{\"value\":2},\"plot\":null,\"render_mode\":\"css\",\"right_units\":\"screen\",\"top_units\":\"screen\"},\"id\":\"c36d5c7f-40fe-4e99-8990-c9d768c1fbaf\",\"type\":\"BoxAnnotation\"},{\"attributes\":{\"callback\":null},\"id\":\"a4a9835e-0fdc-4fc1-a178-0e5d53eff9ef\",\"type\":\"DataRange1d\"},{\"attributes\":{\"fill_alpha\":{\"value\":0.5},\"fill_color\":{\"value\":\"firebrick\"},\"line_alpha\":{\"value\":0.5},\"line_color\":{\"value\":\"firebrick\"},\"size\":{\"units\":\"screen\",\"value\":7},\"x\":{\"field\":\"x\"},\"y\":{\"field\":\"y\"}},\"id\":\"c8d943af-3d65-4bdb-85d5-43391aa4ef41\",\"type\":\"Circle\"},{\"attributes\":{},\"id\":\"1dd0ae85-e4bc-4bcc-9ce0-9765daaf5c6e\",\"type\":\"PanTool\"},{\"attributes\":{},\"id\":\"59bda748-f48a-4896-8eb0-f7607cbc1a0b\",\"type\":\"BasicTickFormatter\"},{\"attributes\":{\"callback\":null},\"id\":\"a1267b9f-4011-4548-aa54-b0167b45545e\",\"type\":\"DataRange1d\"},{\"attributes\":{},\"id\":\"e1bc6d18-5bf5-432b-a58c-409970a43ff7\",\"type\":\"WheelZoomTool\"},{\"attributes\":{},\"id\":\"5a9f27ab-95f9-4265-9391-1e6f2515e6a4\",\"type\":\"LinearScale\"},{\"attributes\":{\"overlay\":{\"id\":\"c36d5c7f-40fe-4e99-8990-c9d768c1fbaf\",\"type\":\"BoxAnnotation\"}},\"id\":\"c4a77247-08db-41ca-89ad-5fdc5790e189\",\"type\":\"BoxZoomTool\"},{\"attributes\":{\"plot\":null,\"text\":\"\"},\"id\":\"45d4b905-5f96-48bc-b8d7-fe6f653caa53\",\"type\":\"Title\"},{\"attributes\":{},\"id\":\"9c76c5fc-5219-4f68-8ed3-1bb5fe1ae1ff\",\"type\":\"LinearScale\"},{\"attributes\":{},\"id\":\"61b350be-f93f-45d1-9283-8dd77720117f\",\"type\":\"SaveTool\"},{\"attributes\":{\"data_source\":{\"id\":\"21e456f8-a845-4de7-ac0f-5f879ad4a810\",\"type\":\"ColumnDataSource\"},\"glyph\":{\"id\":\"c8d943af-3d65-4bdb-85d5-43391aa4ef41\",\"type\":\"Circle\"},\"hover_glyph\":null,\"muted_glyph\":null,\"nonselection_glyph\":{\"id\":\"ca3a93d2-9d4c-42cd-969e-f907c6a9b5da\",\"type\":\"Circle\"},\"selection_glyph\":null,\"view\":{\"id\":\"995bb32d-142c-4e37-b427-f884251788d9\",\"type\":\"CDSView\"}},\"id\":\"bc5c8167-0682-48fd-837c-53488a7b5b46\",\"type\":\"GlyphRenderer\"},{\"attributes\":{},\"id\":\"750fe4ff-f948-49c1-bf15-94b020ae3e40\",\"type\":\"ResetTool\"},{\"attributes\":{\"formatter\":{\"id\":\"2f87e687-f1d9-413e-9341-83308c7d20f1\",\"type\":\"BasicTickFormatter\"},\"plot\":{\"id\":\"db06e2eb-f3e1-4f8c-b4e6-c70527a75453\",\"subtype\":\"Figure\",\"type\":\"Plot\"},\"ticker\":{\"id\":\"d5f2cf32-a33b-4b0a-92af-1dc81e5f6ff2\",\"type\":\"BasicTicker\"}},\"id\":\"4e224591-6ac2-43fc-baa2-cb4d37b00f8b\",\"type\":\"LinearAxis\"},{\"attributes\":{},\"id\":\"5835f357-1e39-4a72-ba3d-822649f29919\",\"type\":\"HelpTool\"},{\"attributes\":{},\"id\":\"d5f2cf32-a33b-4b0a-92af-1dc81e5f6ff2\",\"type\":\"BasicTicker\"},{\"attributes\":{\"plot\":{\"id\":\"db06e2eb-f3e1-4f8c-b4e6-c70527a75453\",\"subtype\":\"Figure\",\"type\":\"Plot\"},\"ticker\":{\"id\":\"d5f2cf32-a33b-4b0a-92af-1dc81e5f6ff2\",\"type\":\"BasicTicker\"}},\"id\":\"e374b4cf-f980-4ae8-ada3-346f54ab5703\",\"type\":\"Grid\"},{\"attributes\":{\"formatter\":{\"id\":\"59bda748-f48a-4896-8eb0-f7607cbc1a0b\",\"type\":\"BasicTickFormatter\"},\"plot\":{\"id\":\"db06e2eb-f3e1-4f8c-b4e6-c70527a75453\",\"subtype\":\"Figure\",\"type\":\"Plot\"},\"ticker\":{\"id\":\"6c7ce881-2151-4e3a-ba6a-e3e866c14180\",\"type\":\"BasicTicker\"}},\"id\":\"6796acf3-2aed-44c4-94ff-772b574368d1\",\"type\":\"LinearAxis\"},{\"attributes\":{},\"id\":\"6c7ce881-2151-4e3a-ba6a-e3e866c14180\",\"type\":\"BasicTicker\"},{\"attributes\":{\"source\":{\"id\":\"21e456f8-a845-4de7-ac0f-5f879ad4a810\",\"type\":\"ColumnDataSource\"}},\"id\":\"995bb32d-142c-4e37-b427-f884251788d9\",\"type\":\"CDSView\"},{\"attributes\":{\"dimension\":1,\"plot\":{\"id\":\"db06e2eb-f3e1-4f8c-b4e6-c70527a75453\",\"subtype\":\"Figure\",\"type\":\"Plot\"},\"ticker\":{\"id\":\"6c7ce881-2151-4e3a-ba6a-e3e866c14180\",\"type\":\"BasicTicker\"}},\"id\":\"ed087784-f6f7-4265-8da9-55b01f4e661d\",\"type\":\"Grid\"},{\"attributes\":{\"below\":[{\"id\":\"4e224591-6ac2-43fc-baa2-cb4d37b00f8b\",\"type\":\"LinearAxis\"}],\"left\":[{\"id\":\"6796acf3-2aed-44c4-94ff-772b574368d1\",\"type\":\"LinearAxis\"}],\"plot_height\":500,\"plot_width\":500,\"renderers\":[{\"id\":\"4e224591-6ac2-43fc-baa2-cb4d37b00f8b\",\"type\":\"LinearAxis\"},{\"id\":\"e374b4cf-f980-4ae8-ada3-346f54ab5703\",\"type\":\"Grid\"},{\"id\":\"6796acf3-2aed-44c4-94ff-772b574368d1\",\"type\":\"LinearAxis\"},{\"id\":\"ed087784-f6f7-4265-8da9-55b01f4e661d\",\"type\":\"Grid\"},{\"id\":\"c36d5c7f-40fe-4e99-8990-c9d768c1fbaf\",\"type\":\"BoxAnnotation\"},{\"id\":\"bc5c8167-0682-48fd-837c-53488a7b5b46\",\"type\":\"GlyphRenderer\"}],\"title\":{\"id\":\"45d4b905-5f96-48bc-b8d7-fe6f653caa53\",\"type\":\"Title\"},\"toolbar\":{\"id\":\"823f7ea4-d9cc-4a78-8027-7829f42f9958\",\"type\":\"Toolbar\"},\"x_range\":{\"id\":\"a4a9835e-0fdc-4fc1-a178-0e5d53eff9ef\",\"type\":\"DataRange1d\"},\"x_scale\":{\"id\":\"5a9f27ab-95f9-4265-9391-1e6f2515e6a4\",\"type\":\"LinearScale\"},\"y_range\":{\"id\":\"a1267b9f-4011-4548-aa54-b0167b45545e\",\"type\":\"DataRange1d\"},\"y_scale\":{\"id\":\"9c76c5fc-5219-4f68-8ed3-1bb5fe1ae1ff\",\"type\":\"LinearScale\"}},\"id\":\"db06e2eb-f3e1-4f8c-b4e6-c70527a75453\",\"subtype\":\"Figure\",\"type\":\"Plot\"},{\"attributes\":{},\"id\":\"2f87e687-f1d9-413e-9341-83308c7d20f1\",\"type\":\"BasicTickFormatter\"},{\"attributes\":{\"callback\":null,\"column_names\":[\"x\",\"y\"],\"data\":{\"x\":{\"__ndarray__\":\"AAAAAAAAGMCEDz744IMXwAgffPDBBxfAjC666KKLFsAQPvjggw8WwJNNNtlkkxXAF1100UUXFcCbbLLJJpsUwB988MEHHxTAo4suuuiiE8Anm2yyySYTwKqqqqqqqhLALrrooosuEsCyySabbLIRwDbZZJNNNhHAuuiiiy66EMA++OCDDz4QwIQPPvjggw/AjC666KKLDsCTTTbZZJMNwJtssskmmwzAo4suuuiiC8CqqqqqqqoKwLLJJptssgnAuuiiiy66CMDCBx988MEHwMomm2yyyQbA0UUXXXTRBcDZZJNNNtkEwOGDDz744APA6KKLLrroAsDwwQcffPABwPjggw8++ADAAAAAAAAAAMAQPvjggw/+vyB88MEHH/y/MLrooosu+r88+OCDDz74v0w22WSTTfa/XHTRRRdd9L9ssskmm2zyv3zwwQcffPC/GF100UUX7b842WSTTTbpv1BVVVVVVeW/cNFFF1104b8gm2yyySbbv2CTTTbZZNO/QBdddNFFx78AH3zwwQevvwAffPDBB68/QBdddNFFxz9gk0022WTTPzCbbLLJJts/eNFFF1104T9YVVVVVVXlPzjZZJNNNuk/GF100UUX7T988MEHH3zwP2yyySabbPI/YHTRRRdd9D9QNtlkk032P0D44IMPPvg/MLrooosu+j8gfPDBBx/8PxA++OCDD/4/AAAAAAAAAED44IMPPvgAQPDBBx988AFA6KKLLrroAkDggw8++OADQNhkk0022QRA0EUXXXTRBUDMJptssskGQMQHH3zwwQdAvOiiiy66CEC0ySabbLIJQKyqqqqqqgpApIsuuuiiC0CcbLLJJpsMQJRNNtlkkw1AjC666KKLDkCEDz744IMPQD744IMPPhBAuuiiiy66EEA22WSTTTYRQLLJJptsshFALrrooosuEkCsqqqqqqoSQCibbLLJJhNApIsuuuiiE0AgfPDBBx8UQJxssskmmxRAGF100UUXFUCUTTbZZJMVQBA++OCDDxZAjC666KKLFkAIH3zwwQcXQIQPPvjggxdAAAAAAAAAGEA=\",\"dtype\":\"float64\",\"shape\":[100]},\"y\":{\"__ndarray__\":\"9SJ4Cbe57j8JY+r+OmvtP60Tvck6rus/WLzTHz6J6T/x0bJaUwTnP6I1+zPxKOQ/oScYONMB4T8ZPFzpojXbP8HygfRnAdQ/fGjcYAsEyT8z6888mk6zP+5YV8fTZqe/pYFip7xExb9PFf407y/Svy7Wz2Mtedm/GSzA6Fwx4L8zrWZ2Tmnjv1qZMxdUWOa/yEpIeGjz6L+BKUaewTDrv4rmZKv1B+2/pq/Cehpy7r9tKDKa32nvv7My8UCi6++/lWFJ+Hr1779ggMrCRIfvv13mP6edou6/+5JWneBK7b/O+cbyGIXrv36TXFjvV+m/wpQK3pDL5r8HDQc8kOnjv6yITtzBvOC/BXJTVyai2r/ACBWWu2bTv4h0TibdxMe/sSQZ5fDFsL8tuK+mtnmsP79vCY4VhcY//tyFCJLL0j9AaSfs/Q3aPzoevIFEd+A/HBvGyK6p4z+YiDpMO5LmPxkpbAr9Jek/+alUikVb6z85RlM6ySntP8nZq5m+iu4/fMS1t/d47z+hS/Ko9fDvP6FL8qj18O8/fMS1t/d47z/J2auZvoruPzZGUzrJKe0/9KlUikVb6z8UKWwK/SXpP5iIOkw7kuY/HBvGyK6p4z86HryBRHfgP0BpJ+z9Ddo/79yFCJLL0j+fbwmOFYXGP623r6a2eaw/sSQZ5fDFsL+IdE4m3cTHv8AIFZa7ZtO/BXJTVyai2r+siE7cwbzgvwcNBzyQ6eO/wpQK3pDL5r98k1xY71fpv8z5xvIYheu/+pJWneBK7b9f5j+nnaLuv2KAysJEh++/lWFJ+Hr177+zMvFAouvvv2soMprfae+/pK/Cehpy7r+I5mSr9Qftv38pRp7BMOu/yEpIeGjz6L9amTMXVFjmvzOtZnZOaeO/GSzA6Fwx4L8u1s9jLXnZv08V/jTvL9K/pYFip7xExb/uV1fH02anv3PrzzyaTrM/nGjcYAsEyT/Q8oH0ZwHUPyc8XOmiNds/pycYONMB4T+oNfsz8SjkP/HRslpTBOc/WLzTHz6J6T+tE73JOq7rPwlj6v46a+0/9SJ4Cbe57j8=\",\"dtype\":\"float64\",\"shape\":[100]}}},\"id\":\"21e456f8-a845-4de7-ac0f-5f879ad4a810\",\"type\":\"ColumnDataSource\"}],\"root_ids\":[\"db06e2eb-f3e1-4f8c-b4e6-c70527a75453\"]},\"title\":\"Bokeh Application\",\"version\":\"0.12.13\"}};\n",
       "  var render_items = [{\"docid\":\"89df4fb5-74cf-4749-88f2-7d5c0d0b404a\",\"elementid\":\"26369d85-f1ea-4192-8dc2-920ed7506b45\",\"modelid\":\"db06e2eb-f3e1-4f8c-b4e6-c70527a75453\"}];\n",
       "  root.Bokeh.embed.embed_items_notebook(docs_json, render_items);\n",
       "\n",
       "  }\n",
       "  if (root.Bokeh !== undefined) {\n",
       "    embed_document(root);\n",
       "  } else {\n",
       "    var attempts = 0;\n",
       "    var timer = setInterval(function(root) {\n",
       "      if (root.Bokeh !== undefined) {\n",
       "        embed_document(root);\n",
       "        clearInterval(timer);\n",
       "      }\n",
       "      attempts++;\n",
       "      if (attempts > 100) {\n",
       "        console.log(\"Bokeh: ERROR: Unable to run BokehJS code because BokehJS library is missing\")\n",
       "        clearInterval(timer);\n",
       "      }\n",
       "    }, 10, root)\n",
       "  }\n",
       "})(window);"
      ],
      "application/vnd.bokehjs_exec.v0+json": ""
     },
     "metadata": {
      "application/vnd.bokehjs_exec.v0+json": {
       "id": "db06e2eb-f3e1-4f8c-b4e6-c70527a75453"
      }
     },
     "output_type": "display_data"
    }
   ],
   "source": [
    "p = figure(width=500, height=500)\n",
    "\n",
    "p.circle(x, y, \n",
    "         size=7,\n",
    "         color=\"firebrick\"\n",
    "         , alpha=0.5)\n",
    "show(p)"
   ]
  },
  {
   "cell_type": "markdown",
   "metadata": {},
   "source": [
    "## Bar Plot Example\n",
    "Bokeh's core display model relies on composing graphical primitives which are bound to data series. This is similar in spirit to Protovis and D3, and different than most other Python plotting libraries.\n",
    "\n",
    "A slightly more sophisticated example demonstrates this idea.\n",
    "\n",
    "Bokeh ships with a small set of interesting \"sample data\" in the bokeh.sampledata package. We'll load up some historical automobile mileage data, which is returned as a Pandas DataFrame."
   ]
  },
  {
   "cell_type": "code",
   "execution_count": 5,
   "metadata": {},
   "outputs": [],
   "source": [
    "from bokeh.sampledata.autompg import autompg\n",
    "\n",
    "grouped = autompg.groupby(\"yr\")\n",
    "mpg = grouped[\"mpg\"]\n",
    "avg = mpg.mean()\n",
    "std = mpg.std()\n",
    "years = list(grouped.groups.keys())\n",
    "american = autompg[autompg[\"origin\"]==1]\n",
    "japanese = autompg[autompg[\"origin\"]==3]"
   ]
  },
  {
   "cell_type": "markdown",
   "metadata": {},
   "source": [
    "For each year, we want to plot the distribution of MPG within that year."
   ]
  },
  {
   "cell_type": "code",
   "execution_count": 6,
   "metadata": {},
   "outputs": [
    {
     "data": {
      "text/html": [
       "\n",
       "<div class=\"bk-root\">\n",
       "    <div class=\"bk-plotdiv\" id=\"cf5a9701-c114-46c6-8f3a-e4f738f098b3\"></div>\n",
       "</div>"
      ]
     },
     "metadata": {},
     "output_type": "display_data"
    },
    {
     "data": {
      "application/javascript": [
       "(function(root) {\n",
       "  function embed_document(root) {\n",
       "    \n",
       "  var docs_json = {\"8a1a81ba-bc3f-4794-82eb-2953760ab05e\":{\"roots\":{\"references\":[{\"attributes\":{\"callback\":null,\"column_names\":[\"x\",\"top\",\"bottom\"],\"data\":{\"bottom\":{\"__ndarray__\":\"gvFgx2qzKECcKci59t4sQJZdRzm5jipAzvVtn6zMKECki7kXNjswQIpnc6D2pi5ApAV4qVNeL0DtFQi6+rIwQBxLQL6+KTFAWBwW2YNMMkBnDzEy+Oo6QAq856zmjDhAfzfsSXnEOkA=\",\"dtype\":\"float64\",\"shape\":[13]},\"top\":{\"__ndarray__\":\"55jlF2UHN0DAzlQxaMk7QBEIyj5aJjhATTh849zMNUD6TNCFok49QMPUTjgNNTlA1KLp0Ht2O0AT6vdFBQ0+QNr+XjaL9T5AVt48aCfjP0AojYptQ1hEQPSsO6IX6UFAQOQJW8OdQkA=\",\"dtype\":\"float64\",\"shape\":[13]},\"x\":[70,71,72,73,74,75,76,77,78,79,80,81,82]}},\"id\":\"8a59a471-6e3f-4990-8f15-e28f48acf9da\",\"type\":\"ColumnDataSource\"},{\"attributes\":{\"below\":[{\"id\":\"b09bcec9-b779-4463-8df6-92914da25085\",\"type\":\"LinearAxis\"}],\"left\":[{\"id\":\"fe646c25-539a-406b-9e1d-0a10f90efa1a\",\"type\":\"LinearAxis\"}],\"renderers\":[{\"id\":\"b09bcec9-b779-4463-8df6-92914da25085\",\"type\":\"LinearAxis\"},{\"id\":\"95d8998b-7bee-4e3a-b5da-6f6c9aefb18b\",\"type\":\"Grid\"},{\"id\":\"fe646c25-539a-406b-9e1d-0a10f90efa1a\",\"type\":\"LinearAxis\"},{\"id\":\"367f5726-6959-4e8a-a6ca-7b39ebd08acd\",\"type\":\"Grid\"},{\"id\":\"a8e41b97-f98a-4f58-abeb-e2fe03898bb7\",\"type\":\"BoxAnnotation\"},{\"id\":\"49b4c091-6f02-42f7-9aa6-5284ba30c7e4\",\"type\":\"Legend\"},{\"id\":\"156fd6fb-915f-4b1f-b47d-5494cf5f88c9\",\"type\":\"GlyphRenderer\"},{\"id\":\"f290eb67-7cbf-4168-a9fa-6bbe3397575a\",\"type\":\"GlyphRenderer\"},{\"id\":\"ce35ad3f-6280-4603-ac79-9255b1c9f1c9\",\"type\":\"GlyphRenderer\"}],\"title\":{\"id\":\"f788e463-12af-4c3c-a607-3ddd2ca4de8c\",\"type\":\"Title\"},\"toolbar\":{\"id\":\"3a8eb426-e2b2-4715-9045-88e0bce5e020\",\"type\":\"Toolbar\"},\"x_range\":{\"id\":\"556e5f04-09ce-40a9-8982-3181204ac048\",\"type\":\"DataRange1d\"},\"x_scale\":{\"id\":\"f7cbb8fd-9101-475a-b896-0e482b7270ec\",\"type\":\"LinearScale\"},\"y_range\":{\"id\":\"b8824005-7a7e-473e-9766-1f6c9b6fcad1\",\"type\":\"DataRange1d\"},\"y_scale\":{\"id\":\"33bfc48b-fc07-4bad-affc-b4404efb4a12\",\"type\":\"LinearScale\"}},\"id\":\"8ced21cc-c200-4072-a976-9ba383dcc27a\",\"subtype\":\"Figure\",\"type\":\"Plot\"},{\"attributes\":{\"bottom\":{\"field\":\"bottom\"},\"fill_alpha\":{\"value\":0.2},\"fill_color\":{\"value\":\"#1f77b4\"},\"line_color\":{\"value\":null},\"top\":{\"field\":\"top\"},\"width\":{\"value\":0.8},\"x\":{\"field\":\"x\"}},\"id\":\"f952dbec-9e6c-4ae0-a1c5-a86b43ab2572\",\"type\":\"VBar\"},{\"attributes\":{\"plot\":null,\"text\":\"MPG by Year (Japan and US)\"},\"id\":\"f788e463-12af-4c3c-a607-3ddd2ca4de8c\",\"type\":\"Title\"},{\"attributes\":{\"callback\":null},\"id\":\"556e5f04-09ce-40a9-8982-3181204ac048\",\"type\":\"DataRange1d\"},{\"attributes\":{\"callback\":null,\"column_names\":[\"x\",\"y\"],\"data\":{\"x\":[70,70,70,70,70,70,70,70,70,70,70,70,70,70,70,70,70,70,70,70,70,70,71,71,71,71,71,71,71,71,71,71,71,71,71,71,71,71,71,71,71,72,72,72,72,72,72,72,72,72,72,72,72,72,72,72,72,72,72,73,73,73,73,73,73,73,73,73,73,73,73,73,73,73,73,73,73,73,73,73,73,73,73,73,73,73,73,73,74,74,74,74,74,74,74,74,74,74,74,74,74,74,75,75,75,75,75,75,75,75,75,75,75,75,75,75,75,75,75,75,75,75,76,76,76,76,76,76,76,76,76,76,76,76,76,76,76,76,76,76,76,76,76,76,77,77,77,77,77,77,77,77,77,77,77,77,77,77,77,77,77,77,78,78,78,78,78,78,78,78,78,78,78,78,78,78,78,78,78,78,78,78,78,78,79,79,79,79,79,79,79,79,79,79,79,79,79,79,79,79,79,79,79,79,79,79,79,80,80,80,80,80,80,81,81,81,81,81,81,81,81,81,81,81,81,81,82,82,82,82,82,82,82,82,82,82,82,82,82,82,82,82,82,82,82],\"y\":{\"__ndarray__\":\"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\",\"dtype\":\"float64\",\"shape\":[245]}}},\"id\":\"ad30f9dc-d97c-4770-88c7-411026659dfb\",\"type\":\"ColumnDataSource\"},{\"attributes\":{\"active_drag\":\"auto\",\"active_inspect\":\"auto\",\"active_scroll\":\"auto\",\"active_tap\":\"auto\",\"tools\":[{\"id\":\"53ac4450-0e39-4e6a-9ac0-8f74ce6e929b\",\"type\":\"PanTool\"},{\"id\":\"89df7cad-e608-4d3f-9063-91773e65014d\",\"type\":\"WheelZoomTool\"},{\"id\":\"6e5a4696-8f08-45b3-aecf-97062427b510\",\"type\":\"BoxZoomTool\"},{\"id\":\"2197f469-46e8-4cb9-907b-c50c916c1b84\",\"type\":\"SaveTool\"},{\"id\":\"8dacf71e-912a-4133-b612-ce5826f4436d\",\"type\":\"ResetTool\"},{\"id\":\"76a62a7c-1c7d-40d9-9811-f1fbf3551aba\",\"type\":\"HelpTool\"}]},\"id\":\"3a8eb426-e2b2-4715-9045-88e0bce5e020\",\"type\":\"Toolbar\"},{\"attributes\":{\"items\":[{\"id\":\"4442c915-147f-4be7-83c0-0ebb49bb62d0\",\"type\":\"LegendItem\"},{\"id\":\"954983ff-f1a2-4159-b10c-f9839bc86f88\",\"type\":\"LegendItem\"},{\"id\":\"b4f4d079-1b03-4d36-af14-0219c1b5c67d\",\"type\":\"LegendItem\"}],\"location\":\"top_left\",\"plot\":{\"id\":\"8ced21cc-c200-4072-a976-9ba383dcc27a\",\"subtype\":\"Figure\",\"type\":\"Plot\"}},\"id\":\"49b4c091-6f02-42f7-9aa6-5284ba30c7e4\",\"type\":\"Legend\"},{\"attributes\":{\"fill_alpha\":{\"value\":0.1},\"fill_color\":{\"value\":\"#1f77b4\"},\"line_alpha\":{\"value\":0.1},\"line_color\":{\"value\":\"#1f77b4\"},\"size\":{\"units\":\"screen\",\"value\":10},\"x\":{\"field\":\"x\"},\"y\":{\"field\":\"y\"}},\"id\":\"7aa80322-1321-4b09-ac75-db43aa775eb5\",\"type\":\"Triangle\"},{\"attributes\":{\"fill_alpha\":{\"value\":0.3},\"fill_color\":{\"value\":\"blue\"},\"line_alpha\":{\"value\":0.3},\"line_color\":{\"value\":\"blue\"},\"size\":{\"units\":\"screen\",\"value\":10},\"x\":{\"field\":\"x\"},\"y\":{\"field\":\"y\"}},\"id\":\"9408b222-03f4-4826-9a3e-f17c4ea94653\",\"type\":\"Triangle\"},{\"attributes\":{\"data_source\":{\"id\":\"ad30f9dc-d97c-4770-88c7-411026659dfb\",\"type\":\"ColumnDataSource\"},\"glyph\":{\"id\":\"9408b222-03f4-4826-9a3e-f17c4ea94653\",\"type\":\"Triangle\"},\"hover_glyph\":null,\"muted_glyph\":null,\"nonselection_glyph\":{\"id\":\"7aa80322-1321-4b09-ac75-db43aa775eb5\",\"type\":\"Triangle\"},\"selection_glyph\":null,\"view\":{\"id\":\"7f68e5be-a68a-4c5e-a283-d3c7910bc7fa\",\"type\":\"CDSView\"}},\"id\":\"ce35ad3f-6280-4603-ac79-9255b1c9f1c9\",\"type\":\"GlyphRenderer\"},{\"attributes\":{},\"id\":\"f7cbb8fd-9101-475a-b896-0e482b7270ec\",\"type\":\"LinearScale\"},{\"attributes\":{\"callback\":null},\"id\":\"b8824005-7a7e-473e-9766-1f6c9b6fcad1\",\"type\":\"DataRange1d\"},{\"attributes\":{\"source\":{\"id\":\"02357443-a7e0-4ef1-83ba-fce5ab4bb49e\",\"type\":\"ColumnDataSource\"}},\"id\":\"d53f2f65-6365-4d96-a2fb-ec4845cea1e8\",\"type\":\"CDSView\"},{\"attributes\":{},\"id\":\"33bfc48b-fc07-4bad-affc-b4404efb4a12\",\"type\":\"LinearScale\"},{\"attributes\":{\"label\":{\"value\":\"Japanese\"},\"renderers\":[{\"id\":\"f290eb67-7cbf-4168-a9fa-6bbe3397575a\",\"type\":\"GlyphRenderer\"}]},\"id\":\"954983ff-f1a2-4159-b10c-f9839bc86f88\",\"type\":\"LegendItem\"},{\"attributes\":{\"plot\":{\"id\":\"8ced21cc-c200-4072-a976-9ba383dcc27a\",\"subtype\":\"Figure\",\"type\":\"Plot\"},\"ticker\":{\"id\":\"a98642b5-84f6-413a-9c75-4de23ab25d0e\",\"type\":\"BasicTicker\"}},\"id\":\"95d8998b-7bee-4e3a-b5da-6f6c9aefb18b\",\"type\":\"Grid\"},{\"attributes\":{\"data_source\":{\"id\":\"02357443-a7e0-4ef1-83ba-fce5ab4bb49e\",\"type\":\"ColumnDataSource\"},\"glyph\":{\"id\":\"6e3834ac-4c17-41c8-8e40-c0d8f8d0ac45\",\"type\":\"Circle\"},\"hover_glyph\":null,\"muted_glyph\":null,\"nonselection_glyph\":{\"id\":\"7399b2be-f5ee-475a-812d-a861dfa45a7d\",\"type\":\"Circle\"},\"selection_glyph\":null,\"view\":{\"id\":\"d53f2f65-6365-4d96-a2fb-ec4845cea1e8\",\"type\":\"CDSView\"}},\"id\":\"f290eb67-7cbf-4168-a9fa-6bbe3397575a\",\"type\":\"GlyphRenderer\"},{\"attributes\":{\"formatter\":{\"id\":\"e3cef149-cd7a-4915-a674-f1a6133f82ee\",\"type\":\"BasicTickFormatter\"},\"plot\":{\"id\":\"8ced21cc-c200-4072-a976-9ba383dcc27a\",\"subtype\":\"Figure\",\"type\":\"Plot\"},\"ticker\":{\"id\":\"a98642b5-84f6-413a-9c75-4de23ab25d0e\",\"type\":\"BasicTicker\"}},\"id\":\"b09bcec9-b779-4463-8df6-92914da25085\",\"type\":\"LinearAxis\"},{\"attributes\":{},\"id\":\"a98642b5-84f6-413a-9c75-4de23ab25d0e\",\"type\":\"BasicTicker\"},{\"attributes\":{\"formatter\":{\"id\":\"2c3cce84-56ac-4ef4-ac44-6c979cb8cc71\",\"type\":\"BasicTickFormatter\"},\"plot\":{\"id\":\"8ced21cc-c200-4072-a976-9ba383dcc27a\",\"subtype\":\"Figure\",\"type\":\"Plot\"},\"ticker\":{\"id\":\"746d9d60-65e1-4da6-bf0b-7399f536a5f9\",\"type\":\"BasicTicker\"}},\"id\":\"fe646c25-539a-406b-9e1d-0a10f90efa1a\",\"type\":\"LinearAxis\"},{\"attributes\":{},\"id\":\"746d9d60-65e1-4da6-bf0b-7399f536a5f9\",\"type\":\"BasicTicker\"},{\"attributes\":{\"label\":{\"value\":\"American\"},\"renderers\":[{\"id\":\"ce35ad3f-6280-4603-ac79-9255b1c9f1c9\",\"type\":\"GlyphRenderer\"}]},\"id\":\"b4f4d079-1b03-4d36-af14-0219c1b5c67d\",\"type\":\"LegendItem\"},{\"attributes\":{\"dimension\":1,\"plot\":{\"id\":\"8ced21cc-c200-4072-a976-9ba383dcc27a\",\"subtype\":\"Figure\",\"type\":\"Plot\"},\"ticker\":{\"id\":\"746d9d60-65e1-4da6-bf0b-7399f536a5f9\",\"type\":\"BasicTicker\"}},\"id\":\"367f5726-6959-4e8a-a6ca-7b39ebd08acd\",\"type\":\"Grid\"},{\"attributes\":{},\"id\":\"2c3cce84-56ac-4ef4-ac44-6c979cb8cc71\",\"type\":\"BasicTickFormatter\"},{\"attributes\":{\"bottom\":{\"field\":\"bottom\"},\"fill_alpha\":{\"value\":0.1},\"fill_color\":{\"value\":\"#1f77b4\"},\"line_alpha\":{\"value\":0.1},\"line_color\":{\"value\":\"#1f77b4\"},\"top\":{\"field\":\"top\"},\"width\":{\"value\":0.8},\"x\":{\"field\":\"x\"}},\"id\":\"aee331b8-76a5-4b75-b7a4-b8867b57a130\",\"type\":\"VBar\"},{\"attributes\":{\"bottom_units\":\"screen\",\"fill_alpha\":{\"value\":0.5},\"fill_color\":{\"value\":\"lightgrey\"},\"left_units\":\"screen\",\"level\":\"overlay\",\"line_alpha\":{\"value\":1.0},\"line_color\":{\"value\":\"black\"},\"line_dash\":[4,4],\"line_width\":{\"value\":2},\"plot\":null,\"render_mode\":\"css\",\"right_units\":\"screen\",\"top_units\":\"screen\"},\"id\":\"a8e41b97-f98a-4f58-abeb-e2fe03898bb7\",\"type\":\"BoxAnnotation\"},{\"attributes\":{\"data_source\":{\"id\":\"8a59a471-6e3f-4990-8f15-e28f48acf9da\",\"type\":\"ColumnDataSource\"},\"glyph\":{\"id\":\"f952dbec-9e6c-4ae0-a1c5-a86b43ab2572\",\"type\":\"VBar\"},\"hover_glyph\":null,\"muted_glyph\":null,\"nonselection_glyph\":{\"id\":\"aee331b8-76a5-4b75-b7a4-b8867b57a130\",\"type\":\"VBar\"},\"selection_glyph\":null,\"view\":{\"id\":\"4f3f95f1-6ee1-4b93-b1ad-f6acd2a59f7e\",\"type\":\"CDSView\"}},\"id\":\"156fd6fb-915f-4b1f-b47d-5494cf5f88c9\",\"type\":\"GlyphRenderer\"},{\"attributes\":{},\"id\":\"53ac4450-0e39-4e6a-9ac0-8f74ce6e929b\",\"type\":\"PanTool\"},{\"attributes\":{\"source\":{\"id\":\"ad30f9dc-d97c-4770-88c7-411026659dfb\",\"type\":\"ColumnDataSource\"}},\"id\":\"7f68e5be-a68a-4c5e-a283-d3c7910bc7fa\",\"type\":\"CDSView\"},{\"attributes\":{\"source\":{\"id\":\"8a59a471-6e3f-4990-8f15-e28f48acf9da\",\"type\":\"ColumnDataSource\"}},\"id\":\"4f3f95f1-6ee1-4b93-b1ad-f6acd2a59f7e\",\"type\":\"CDSView\"},{\"attributes\":{},\"id\":\"89df7cad-e608-4d3f-9063-91773e65014d\",\"type\":\"WheelZoomTool\"},{\"attributes\":{\"overlay\":{\"id\":\"a8e41b97-f98a-4f58-abeb-e2fe03898bb7\",\"type\":\"BoxAnnotation\"}},\"id\":\"6e5a4696-8f08-45b3-aecf-97062427b510\",\"type\":\"BoxZoomTool\"},{\"attributes\":{\"fill_alpha\":{\"value\":0.5},\"fill_color\":{\"value\":\"red\"},\"line_alpha\":{\"value\":0.5},\"line_color\":{\"value\":\"red\"},\"size\":{\"units\":\"screen\",\"value\":10},\"x\":{\"field\":\"x\"},\"y\":{\"field\":\"y\"}},\"id\":\"6e3834ac-4c17-41c8-8e40-c0d8f8d0ac45\",\"type\":\"Circle\"},{\"attributes\":{},\"id\":\"2197f469-46e8-4cb9-907b-c50c916c1b84\",\"type\":\"SaveTool\"},{\"attributes\":{},\"id\":\"e3cef149-cd7a-4915-a674-f1a6133f82ee\",\"type\":\"BasicTickFormatter\"},{\"attributes\":{},\"id\":\"8dacf71e-912a-4133-b612-ce5826f4436d\",\"type\":\"ResetTool\"},{\"attributes\":{},\"id\":\"76a62a7c-1c7d-40d9-9811-f1fbf3551aba\",\"type\":\"HelpTool\"},{\"attributes\":{\"callback\":null,\"column_names\":[\"x\",\"y\"],\"data\":{\"x\":[70,70,71,71,71,71,72,72,72,72,72,73,73,73,73,74,74,74,74,74,74,75,75,75,75,76,76,76,76,77,77,77,77,77,77,78,78,78,78,78,78,78,78,79,79,80,80,80,80,80,80,80,80,80,80,80,80,80,81,81,81,81,81,81,81,81,81,81,81,81,82,82,82,82,82,82,82,82,82],\"y\":{\"__ndarray__\":\"AAAAAAAAOEAAAAAAAAA7QAAAAAAAADtAAAAAAAAAOUAAAAAAAAA/QAAAAAAAgEFAAAAAAAAAOEAAAAAAAAAzQAAAAAAAADxAAAAAAAAAN0AAAAAAAAA7QAAAAAAAADRAAAAAAAAANkAAAAAAAAAyQAAAAAAAADRAAAAAAAAAP0AAAAAAAABAQAAAAAAAAD9AAAAAAAAAQEAAAAAAAAA4QAAAAAAAADpAAAAAAAAAPUAAAAAAAAA4QAAAAAAAADhAAAAAAACAQEAAAAAAAIBAQAAAAAAAAEBAAAAAAAAAPEAAAAAAAAAzQAAAAAAAgD9AAAAAAADAQEAAAAAAAAA6QAAAAAAAAD5AAAAAAAAANkAAAAAAAIA1QGZmZmZmZkBAMzMzMzOzQ0DNzMzMzAxCQAAAAAAAgDtAMzMzMzMzO0CamZmZmRk1QGZmZmZm5jdAAAAAAACAPUDNzMzMzAxBQM3MzMzMzD9AzczMzMwMQ0CamZmZmZlCQM3MzMzMzD1AzczMzMxMP0AAAAAAAIBCQJqZmZmZGUBAzczMzMxMR0BmZmZmZmZEQM3MzMzMTEZAZmZmZmbmQECamZmZmVlAQDMzMzMzszdAMzMzMzMzQEDNzMzMzIxDQM3MzMzMjEFAZmZmZmYmQEAAAAAAAIBCQJqZmZmZ2UJAzczMzMwMQUCamZmZmdlAQDMzMzMzM0BAMzMzMzNzQECamZmZmZk/QGZmZmZmZjlAMzMzMzMzOEAAAAAAAIBCQAAAAAAAAD9AAAAAAAAAQkAAAAAAAABCQAAAAAAAAEFAAAAAAAAAQ0AAAAAAAABAQAAAAAAAAENAAAAAAAAAQEA=\",\"dtype\":\"float64\",\"shape\":[79]}}},\"id\":\"02357443-a7e0-4ef1-83ba-fce5ab4bb49e\",\"type\":\"ColumnDataSource\"},{\"attributes\":{\"fill_alpha\":{\"value\":0.1},\"fill_color\":{\"value\":\"#1f77b4\"},\"line_alpha\":{\"value\":0.1},\"line_color\":{\"value\":\"#1f77b4\"},\"size\":{\"units\":\"screen\",\"value\":10},\"x\":{\"field\":\"x\"},\"y\":{\"field\":\"y\"}},\"id\":\"7399b2be-f5ee-475a-812d-a861dfa45a7d\",\"type\":\"Circle\"},{\"attributes\":{\"label\":{\"value\":\"MPG 1 stddev\"},\"renderers\":[{\"id\":\"156fd6fb-915f-4b1f-b47d-5494cf5f88c9\",\"type\":\"GlyphRenderer\"}]},\"id\":\"4442c915-147f-4be7-83c0-0ebb49bb62d0\",\"type\":\"LegendItem\"}],\"root_ids\":[\"8ced21cc-c200-4072-a976-9ba383dcc27a\"]},\"title\":\"Bokeh Application\",\"version\":\"0.12.13\"}};\n",
       "  var render_items = [{\"docid\":\"8a1a81ba-bc3f-4794-82eb-2953760ab05e\",\"elementid\":\"cf5a9701-c114-46c6-8f3a-e4f738f098b3\",\"modelid\":\"8ced21cc-c200-4072-a976-9ba383dcc27a\"}];\n",
       "  root.Bokeh.embed.embed_items_notebook(docs_json, render_items);\n",
       "\n",
       "  }\n",
       "  if (root.Bokeh !== undefined) {\n",
       "    embed_document(root);\n",
       "  } else {\n",
       "    var attempts = 0;\n",
       "    var timer = setInterval(function(root) {\n",
       "      if (root.Bokeh !== undefined) {\n",
       "        embed_document(root);\n",
       "        clearInterval(timer);\n",
       "      }\n",
       "      attempts++;\n",
       "      if (attempts > 100) {\n",
       "        console.log(\"Bokeh: ERROR: Unable to run BokehJS code because BokehJS library is missing\")\n",
       "        clearInterval(timer);\n",
       "      }\n",
       "    }, 10, root)\n",
       "  }\n",
       "})(window);"
      ],
      "application/vnd.bokehjs_exec.v0+json": ""
     },
     "metadata": {
      "application/vnd.bokehjs_exec.v0+json": {
       "id": "8ced21cc-c200-4072-a976-9ba383dcc27a"
      }
     },
     "output_type": "display_data"
    }
   ],
   "source": [
    "p = figure(title=\"MPG by Year (Japan and US)\")\n",
    "\n",
    "p.vbar(x=years,\n",
    "       bottom=avg-std, top=avg+std, width=0.8, \n",
    "       fill_alpha=0.2, \n",
    "       line_color=None,\n",
    "       legend=\"MPG 1 stddev\")\n",
    "\n",
    "p.circle(x=japanese[\"yr\"], y=japanese[\"mpg\"],\n",
    "         size=10, \n",
    "         alpha=0.5,\n",
    "         color=\"red\", \n",
    "         legend=\"Japanese\")\n",
    "\n",
    "p.triangle(x=american[\"yr\"], y=american[\"mpg\"],\n",
    "           size=10, \n",
    "           alpha=0.3,\n",
    "           color=\"blue\", \n",
    "           legend=\"American\")\n",
    "\n",
    "p.legend.location = \"top_left\"\n",
    "\n",
    "show(p)"
   ]
  },
  {
   "cell_type": "markdown",
   "metadata": {},
   "source": [
    "### This kind of approach can be used to generate other kinds of interesting plots. See many more examples in the [Bokeh Documentation Gallery](https://bokeh.pydata.org/en/latest/docs/gallery.html).\n",
    "## Linked Brushing\n",
    "To link plots together at a data level, we can explicitly wrap the data in a ColumnDataSource. This allows us to reference columns by name.\n",
    "\n",
    "We can use a \"select\" tool to select points on one plot, and the linked points on the other plots will highlight."
   ]
  },
  {
   "cell_type": "code",
   "execution_count": 7,
   "metadata": {},
   "outputs": [
    {
     "data": {
      "text/html": [
       "\n",
       "<div class=\"bk-root\">\n",
       "    <div class=\"bk-plotdiv\" id=\"27dd11f9-c206-4e26-a873-649e796b2795\"></div>\n",
       "</div>"
      ]
     },
     "metadata": {},
     "output_type": "display_data"
    },
    {
     "data": {
      "application/javascript": [
       "(function(root) {\n",
       "  function embed_document(root) {\n",
       "    \n",
       "  var docs_json = {\"fec9b4a2-f787-4385-be62-4e8ffc44e3db\":{\"roots\":{\"references\":[{\"attributes\":{\"formatter\":{\"id\":\"f55ed932-580a-44d2-a492-eb9a2d9c5ae5\",\"type\":\"BasicTickFormatter\"},\"plot\":{\"id\":\"a6802794-1b77-4607-8e16-979c910c74a0\",\"subtype\":\"Figure\",\"type\":\"Plot\"},\"ticker\":{\"id\":\"99c6e8b3-1cbf-4340-aaca-f65ebbfa8255\",\"type\":\"BasicTicker\"}},\"id\":\"bbbb0704-64fb-49bc-950e-666add59c376\",\"type\":\"LinearAxis\"},{\"attributes\":{\"children\":[{\"id\":\"a6802794-1b77-4607-8e16-979c910c74a0\",\"subtype\":\"Figure\",\"type\":\"Plot\"},{\"id\":\"d07a97d5-5c6a-493b-90c1-c0007ed47f84\",\"subtype\":\"Figure\",\"type\":\"Plot\"},{\"id\":\"e1067ba4-171c-4018-89f4-abd31fdb90c0\",\"subtype\":\"Figure\",\"type\":\"Plot\"}]},\"id\":\"d9d1f58f-74e1-42ab-86c0-bc2960272bd9\",\"type\":\"Row\"},{\"attributes\":{\"bottom_units\":\"screen\",\"fill_alpha\":{\"value\":0.5},\"fill_color\":{\"value\":\"lightgrey\"},\"left_units\":\"screen\",\"level\":\"overlay\",\"line_alpha\":{\"value\":1.0},\"line_color\":{\"value\":\"black\"},\"line_dash\":[4,4],\"line_width\":{\"value\":2},\"plot\":null,\"render_mode\":\"css\",\"right_units\":\"screen\",\"top_units\":\"screen\"},\"id\":\"2fe9ba63-8838-408f-b4c8-11df54651488\",\"type\":\"BoxAnnotation\"},{\"attributes\":{\"tools\":[{\"id\":\"d7dc1a0b-59bf-45a4-abed-071eea1fca1f\",\"type\":\"PanTool\"},{\"id\":\"b3f9909a-3f1b-46d1-a8d0-e1132e79b8fa\",\"type\":\"WheelZoomTool\"},{\"id\":\"8cddc823-8d84-4bb4-b718-6f0be968daef\",\"type\":\"BoxZoomTool\"},{\"id\":\"2d449b4c-f6c3-4610-85f7-cbcfb68f2b8d\",\"type\":\"BoxSelectTool\"},{\"id\":\"fa194ca8-2bd0-436c-99b9-1bfd0a5a060c\",\"type\":\"LassoSelectTool\"},{\"id\":\"78e41d7b-bec1-4b31-9b91-c5564d952832\",\"type\":\"PanTool\"},{\"id\":\"9dce78f9-adf4-40fe-a622-4d5b4a9da8e8\",\"type\":\"WheelZoomTool\"},{\"id\":\"570410df-0ea4-4c26-92d1-b4166079693e\",\"type\":\"BoxZoomTool\"},{\"id\":\"4231493c-6e52-4839-ad90-046ed3d9e43f\",\"type\":\"BoxSelectTool\"},{\"id\":\"5fb8c18c-32e6-47ce-862a-3860deffb65b\",\"type\":\"LassoSelectTool\"},{\"id\":\"9b44ce56-f265-4c62-ab55-59e0c045cbf9\",\"type\":\"PanTool\"},{\"id\":\"f0958cb8-4212-456f-a135-384e7e3a9f54\",\"type\":\"WheelZoomTool\"},{\"id\":\"8c3e2508-379d-45f2-aa1b-1148ecbaba4f\",\"type\":\"BoxZoomTool\"},{\"id\":\"c1bee2b2-2252-472c-9bf4-00bcab56a728\",\"type\":\"BoxSelectTool\"},{\"id\":\"aa06124c-4b62-4879-8e25-83606acd5eab\",\"type\":\"LassoSelectTool\"}]},\"id\":\"6b74b5b8-9bc1-493f-989d-ce4746c00aa8\",\"type\":\"ProxyToolbar\"},{\"attributes\":{},\"id\":\"99c6e8b3-1cbf-4340-aaca-f65ebbfa8255\",\"type\":\"BasicTicker\"},{\"attributes\":{\"plot\":{\"id\":\"a6802794-1b77-4607-8e16-979c910c74a0\",\"subtype\":\"Figure\",\"type\":\"Plot\"},\"ticker\":{\"id\":\"99c6e8b3-1cbf-4340-aaca-f65ebbfa8255\",\"type\":\"BasicTicker\"}},\"id\":\"83609fc4-32a8-49af-894b-43050af9d820\",\"type\":\"Grid\"},{\"attributes\":{\"toolbar\":{\"id\":\"6b74b5b8-9bc1-493f-989d-ce4746c00aa8\",\"type\":\"ProxyToolbar\"}},\"id\":\"67065e1b-f4d7-40ce-8cc9-5937cb926989\",\"type\":\"ToolbarBox\"},{\"attributes\":{\"formatter\":{\"id\":\"1e0b9d49-d944-4c5f-940e-9d9e4f0c856c\",\"type\":\"BasicTickFormatter\"},\"plot\":{\"id\":\"a6802794-1b77-4607-8e16-979c910c74a0\",\"subtype\":\"Figure\",\"type\":\"Plot\"},\"ticker\":{\"id\":\"09d0f58e-2846-4382-89e2-5fb892f35db8\",\"type\":\"BasicTicker\"}},\"id\":\"0420198a-0454-4692-8bc6-525a8a7d7e5a\",\"type\":\"LinearAxis\"},{\"attributes\":{},\"id\":\"09d0f58e-2846-4382-89e2-5fb892f35db8\",\"type\":\"BasicTicker\"},{\"attributes\":{\"children\":[{\"id\":\"96c332d2-122a-4ef6-9f30-4b22e0bc32f8\",\"type\":\"Column\"},{\"id\":\"67065e1b-f4d7-40ce-8cc9-5937cb926989\",\"type\":\"ToolbarBox\"}]},\"id\":\"6fbb1292-b841-4200-a60d-f0a0a0fd2b37\",\"type\":\"Row\"},{\"attributes\":{\"dimension\":1,\"plot\":{\"id\":\"a6802794-1b77-4607-8e16-979c910c74a0\",\"subtype\":\"Figure\",\"type\":\"Plot\"},\"ticker\":{\"id\":\"09d0f58e-2846-4382-89e2-5fb892f35db8\",\"type\":\"BasicTicker\"}},\"id\":\"bc205787-6b7c-4516-bcd0-3daf9366e55d\",\"type\":\"Grid\"},{\"attributes\":{\"below\":[{\"id\":\"8f89ba2b-a54f-4107-b7fb-a7eeebde9fa4\",\"type\":\"LinearAxis\"}],\"left\":[{\"id\":\"cd7dfc5b-22c9-40d4-b9d4-0ea78df10aa8\",\"type\":\"LinearAxis\"}],\"plot_height\":300,\"plot_width\":300,\"renderers\":[{\"id\":\"8f89ba2b-a54f-4107-b7fb-a7eeebde9fa4\",\"type\":\"LinearAxis\"},{\"id\":\"2291bdc9-18e2-4f2b-867b-093cdc36f7db\",\"type\":\"Grid\"},{\"id\":\"cd7dfc5b-22c9-40d4-b9d4-0ea78df10aa8\",\"type\":\"LinearAxis\"},{\"id\":\"96254e66-c96f-46e5-b107-c616b3808171\",\"type\":\"Grid\"},{\"id\":\"0ab5353c-1790-4130-89b9-608710f52f68\",\"type\":\"BoxAnnotation\"},{\"id\":\"c3427953-ebd7-4233-935a-8863a095b14c\",\"type\":\"BoxAnnotation\"},{\"id\":\"57e4a594-2162-4976-aa98-8a502ada7ba2\",\"type\":\"PolyAnnotation\"},{\"id\":\"6ba13de2-b98a-4260-b248-a7d0e5008247\",\"type\":\"GlyphRenderer\"}],\"title\":{\"id\":\"ee640091-dc99-4d48-bc93-cc718f23cf2d\",\"type\":\"Title\"},\"toolbar\":{\"id\":\"02720eb8-7405-4a61-89e8-ff8804003634\",\"type\":\"Toolbar\"},\"toolbar_location\":null,\"x_range\":{\"id\":\"30ed24ba-f087-4ee3-a3f8-88b06dc22b1e\",\"type\":\"DataRange1d\"},\"x_scale\":{\"id\":\"68f8b043-e2ba-4dd3-bdf9-702979dfa65e\",\"type\":\"LinearScale\"},\"y_range\":{\"id\":\"7eef5a87-369d-4fce-9217-74f5cc30bd73\",\"type\":\"DataRange1d\"},\"y_scale\":{\"id\":\"246de2a3-c42c-4c36-bb2f-f856e8efa94b\",\"type\":\"LinearScale\"}},\"id\":\"e1067ba4-171c-4018-89f4-abd31fdb90c0\",\"subtype\":\"Figure\",\"type\":\"Plot\"},{\"attributes\":{},\"id\":\"d7dc1a0b-59bf-45a4-abed-071eea1fca1f\",\"type\":\"PanTool\"},{\"attributes\":{\"source\":{\"id\":\"d71c3e37-ec53-467e-bc09-7eb5157a22d6\",\"type\":\"ColumnDataSource\"}},\"id\":\"07c200a2-d9f8-476c-b58c-a7beec9dc672\",\"type\":\"CDSView\"},{\"attributes\":{},\"id\":\"b3f9909a-3f1b-46d1-a8d0-e1132e79b8fa\",\"type\":\"WheelZoomTool\"},{\"attributes\":{\"overlay\":{\"id\":\"2fe9ba63-8838-408f-b4c8-11df54651488\",\"type\":\"BoxAnnotation\"}},\"id\":\"8cddc823-8d84-4bb4-b718-6f0be968daef\",\"type\":\"BoxZoomTool\"},{\"attributes\":{\"callback\":null,\"overlay\":{\"id\":\"8483f0d0-90c8-4d18-8958-f23eb2d2c814\",\"type\":\"BoxAnnotation\"},\"renderers\":[{\"id\":\"f54fa2aa-0201-458b-8738-ee58573b0a2c\",\"type\":\"GlyphRenderer\"}]},\"id\":\"2d449b4c-f6c3-4610-85f7-cbcfb68f2b8d\",\"type\":\"BoxSelectTool\"},{\"attributes\":{\"callback\":null,\"overlay\":{\"id\":\"d64dc540-aa36-4e7a-9f3a-e2e87ee01984\",\"type\":\"PolyAnnotation\"}},\"id\":\"fa194ca8-2bd0-436c-99b9-1bfd0a5a060c\",\"type\":\"LassoSelectTool\"},{\"attributes\":{},\"id\":\"1e0b9d49-d944-4c5f-940e-9d9e4f0c856c\",\"type\":\"BasicTickFormatter\"},{\"attributes\":{\"data_source\":{\"id\":\"d71c3e37-ec53-467e-bc09-7eb5157a22d6\",\"type\":\"ColumnDataSource\"},\"glyph\":{\"id\":\"f1e3752a-b47a-4bba-b352-f0880282d1a6\",\"type\":\"Circle\"},\"hover_glyph\":null,\"muted_glyph\":null,\"nonselection_glyph\":{\"id\":\"68482e82-a520-43cc-a8db-2d43566adcec\",\"type\":\"Circle\"},\"selection_glyph\":null,\"view\":{\"id\":\"07c200a2-d9f8-476c-b58c-a7beec9dc672\",\"type\":\"CDSView\"}},\"id\":\"f54fa2aa-0201-458b-8738-ee58573b0a2c\",\"type\":\"GlyphRenderer\"},{\"attributes\":{},\"id\":\"f55ed932-580a-44d2-a492-eb9a2d9c5ae5\",\"type\":\"BasicTickFormatter\"},{\"attributes\":{\"callback\":null},\"id\":\"7eef5a87-369d-4fce-9217-74f5cc30bd73\",\"type\":\"DataRange1d\"},{\"attributes\":{\"fill_alpha\":{\"value\":0.1},\"fill_color\":{\"value\":\"#1f77b4\"},\"line_alpha\":{\"value\":0.1},\"line_color\":{\"value\":\"#1f77b4\"},\"x\":{\"field\":\"yr\"},\"y\":{\"field\":\"mpg\"}},\"id\":\"68482e82-a520-43cc-a8db-2d43566adcec\",\"type\":\"Circle\"},{\"attributes\":{\"plot\":null,\"text\":\"HP vs. Displacement\"},\"id\":\"e3694e6e-d7a8-4367-b0d6-fa9b15334ff7\",\"type\":\"Title\"},{\"attributes\":{\"plot\":null,\"text\":\"MPG vs. Displacement\"},\"id\":\"ee640091-dc99-4d48-bc93-cc718f23cf2d\",\"type\":\"Title\"},{\"attributes\":{\"callback\":null},\"id\":\"c5a1590f-fce4-4ac9-ba7f-7079e71c9bf9\",\"type\":\"DataRange1d\"},{\"attributes\":{\"callback\":null},\"id\":\"eda673f6-5c07-4d72-b3b5-bd63f283d8ff\",\"type\":\"DataRange1d\"},{\"attributes\":{},\"id\":\"5168ce12-cbbf-4b33-9efd-c117ce377e43\",\"type\":\"LinearScale\"},{\"attributes\":{\"active_drag\":\"auto\",\"active_inspect\":\"auto\",\"active_scroll\":\"auto\",\"active_tap\":\"auto\",\"tools\":[{\"id\":\"78e41d7b-bec1-4b31-9b91-c5564d952832\",\"type\":\"PanTool\"},{\"id\":\"9dce78f9-adf4-40fe-a622-4d5b4a9da8e8\",\"type\":\"WheelZoomTool\"},{\"id\":\"570410df-0ea4-4c26-92d1-b4166079693e\",\"type\":\"BoxZoomTool\"},{\"id\":\"4231493c-6e52-4839-ad90-046ed3d9e43f\",\"type\":\"BoxSelectTool\"},{\"id\":\"5fb8c18c-32e6-47ce-862a-3860deffb65b\",\"type\":\"LassoSelectTool\"}]},\"id\":\"44f7b6bf-82e5-4fa5-b96f-8ec10c9135aa\",\"type\":\"Toolbar\"},{\"attributes\":{\"bottom_units\":\"screen\",\"fill_alpha\":{\"value\":0.5},\"fill_color\":{\"value\":\"lightgrey\"},\"left_units\":\"screen\",\"level\":\"overlay\",\"line_alpha\":{\"value\":1.0},\"line_color\":{\"value\":\"black\"},\"line_dash\":[4,4],\"line_width\":{\"value\":2},\"plot\":null,\"render_mode\":\"css\",\"right_units\":\"screen\",\"top_units\":\"screen\"},\"id\":\"d85888c9-977c-46e9-8395-a3d66ae2a33f\",\"type\":\"BoxAnnotation\"},{\"attributes\":{},\"id\":\"fdc6f336-5614-4dd6-b5c5-0ca09d9d6ac5\",\"type\":\"LinearScale\"},{\"attributes\":{\"plot\":{\"id\":\"d07a97d5-5c6a-493b-90c1-c0007ed47f84\",\"subtype\":\"Figure\",\"type\":\"Plot\"},\"ticker\":{\"id\":\"16d1b724-9002-4875-b6f1-4d2e285fe952\",\"type\":\"BasicTicker\"}},\"id\":\"9b01022a-fc10-4370-ac4b-e691fc7145c7\",\"type\":\"Grid\"},{\"attributes\":{\"formatter\":{\"id\":\"78d3a576-ebef-4bba-895e-8adf61b6a26d\",\"type\":\"BasicTickFormatter\"},\"plot\":{\"id\":\"d07a97d5-5c6a-493b-90c1-c0007ed47f84\",\"subtype\":\"Figure\",\"type\":\"Plot\"},\"ticker\":{\"id\":\"16d1b724-9002-4875-b6f1-4d2e285fe952\",\"type\":\"BasicTicker\"}},\"id\":\"2f6bb08c-3615-45f9-b3e6-c02fa7e8d437\",\"type\":\"LinearAxis\"},{\"attributes\":{\"bottom_units\":\"screen\",\"fill_alpha\":{\"value\":0.5},\"fill_color\":{\"value\":\"lightgrey\"},\"left_units\":\"screen\",\"level\":\"overlay\",\"line_alpha\":{\"value\":1.0},\"line_color\":{\"value\":\"black\"},\"line_dash\":[4,4],\"line_width\":{\"value\":2},\"plot\":null,\"render_mode\":\"css\",\"right_units\":\"screen\",\"top_units\":\"screen\"},\"id\":\"8483f0d0-90c8-4d18-8958-f23eb2d2c814\",\"type\":\"BoxAnnotation\"},{\"attributes\":{},\"id\":\"16d1b724-9002-4875-b6f1-4d2e285fe952\",\"type\":\"BasicTicker\"},{\"attributes\":{\"formatter\":{\"id\":\"384b9967-dfa6-4634-a3f1-f7bf148559f3\",\"type\":\"BasicTickFormatter\"},\"plot\":{\"id\":\"d07a97d5-5c6a-493b-90c1-c0007ed47f84\",\"subtype\":\"Figure\",\"type\":\"Plot\"},\"ticker\":{\"id\":\"59f6d4c1-5630-4763-bf52-6328cd0c8031\",\"type\":\"BasicTicker\"}},\"id\":\"a136759e-0e58-4f22-b3dd-2d6f29eb6586\",\"type\":\"LinearAxis\"},{\"attributes\":{},\"id\":\"59f6d4c1-5630-4763-bf52-6328cd0c8031\",\"type\":\"BasicTicker\"},{\"attributes\":{\"dimension\":1,\"plot\":{\"id\":\"d07a97d5-5c6a-493b-90c1-c0007ed47f84\",\"subtype\":\"Figure\",\"type\":\"Plot\"},\"ticker\":{\"id\":\"59f6d4c1-5630-4763-bf52-6328cd0c8031\",\"type\":\"BasicTicker\"}},\"id\":\"fc932b01-9290-4c78-8e5b-fa880d3f7655\",\"type\":\"Grid\"},{\"attributes\":{\"callback\":null},\"id\":\"1bce0556-da4b-4a25-9774-3b3182a01d5c\",\"type\":\"DataRange1d\"},{\"attributes\":{\"fill_color\":{\"value\":null},\"line_color\":{\"value\":\"red\"},\"size\":{\"field\":\"cyl\",\"units\":\"screen\"},\"x\":{\"field\":\"mpg\"},\"y\":{\"field\":\"displ\"}},\"id\":\"bcdf5168-629b-4eb8-840d-935d4b1a48e7\",\"type\":\"Circle\"},{\"attributes\":{\"fill_alpha\":{\"value\":0.5},\"fill_color\":{\"value\":\"lightgrey\"},\"level\":\"overlay\",\"line_alpha\":{\"value\":1.0},\"line_color\":{\"value\":\"black\"},\"line_dash\":[4,4],\"line_width\":{\"value\":2},\"plot\":null,\"xs_units\":\"screen\",\"ys_units\":\"screen\"},\"id\":\"d64dc540-aa36-4e7a-9f3a-e2e87ee01984\",\"type\":\"PolyAnnotation\"},{\"attributes\":{},\"id\":\"78e41d7b-bec1-4b31-9b91-c5564d952832\",\"type\":\"PanTool\"},{\"attributes\":{\"fill_alpha\":{\"value\":0.5},\"fill_color\":{\"value\":\"lightgrey\"},\"level\":\"overlay\",\"line_alpha\":{\"value\":1.0},\"line_color\":{\"value\":\"black\"},\"line_dash\":[4,4],\"line_width\":{\"value\":2},\"plot\":null,\"xs_units\":\"screen\",\"ys_units\":\"screen\"},\"id\":\"45e44f8b-24eb-4ffe-aaf2-98c54ae3922b\",\"type\":\"PolyAnnotation\"},{\"attributes\":{\"below\":[{\"id\":\"2f6bb08c-3615-45f9-b3e6-c02fa7e8d437\",\"type\":\"LinearAxis\"}],\"left\":[{\"id\":\"a136759e-0e58-4f22-b3dd-2d6f29eb6586\",\"type\":\"LinearAxis\"}],\"plot_height\":300,\"plot_width\":300,\"renderers\":[{\"id\":\"2f6bb08c-3615-45f9-b3e6-c02fa7e8d437\",\"type\":\"LinearAxis\"},{\"id\":\"9b01022a-fc10-4370-ac4b-e691fc7145c7\",\"type\":\"Grid\"},{\"id\":\"a136759e-0e58-4f22-b3dd-2d6f29eb6586\",\"type\":\"LinearAxis\"},{\"id\":\"fc932b01-9290-4c78-8e5b-fa880d3f7655\",\"type\":\"Grid\"},{\"id\":\"d85888c9-977c-46e9-8395-a3d66ae2a33f\",\"type\":\"BoxAnnotation\"},{\"id\":\"53dfe716-4538-4cff-8f89-48dceb8e9ea1\",\"type\":\"BoxAnnotation\"},{\"id\":\"45e44f8b-24eb-4ffe-aaf2-98c54ae3922b\",\"type\":\"PolyAnnotation\"},{\"id\":\"6793e9b8-bac0-4147-8d51-b4186fc29cac\",\"type\":\"GlyphRenderer\"}],\"title\":{\"id\":\"e3694e6e-d7a8-4367-b0d6-fa9b15334ff7\",\"type\":\"Title\"},\"toolbar\":{\"id\":\"44f7b6bf-82e5-4fa5-b96f-8ec10c9135aa\",\"type\":\"Toolbar\"},\"toolbar_location\":null,\"x_range\":{\"id\":\"eda673f6-5c07-4d72-b3b5-bd63f283d8ff\",\"type\":\"DataRange1d\"},\"x_scale\":{\"id\":\"fdc6f336-5614-4dd6-b5c5-0ca09d9d6ac5\",\"type\":\"LinearScale\"},\"y_range\":{\"id\":\"c5a1590f-fce4-4ac9-ba7f-7079e71c9bf9\",\"type\":\"DataRange1d\"},\"y_scale\":{\"id\":\"5168ce12-cbbf-4b33-9efd-c117ce377e43\",\"type\":\"LinearScale\"}},\"id\":\"d07a97d5-5c6a-493b-90c1-c0007ed47f84\",\"subtype\":\"Figure\",\"type\":\"Plot\"},{\"attributes\":{},\"id\":\"9dce78f9-adf4-40fe-a622-4d5b4a9da8e8\",\"type\":\"WheelZoomTool\"},{\"attributes\":{\"plot\":null,\"text\":\"MPG by Year\"},\"id\":\"902fb26f-95c8-4541-84e4-868c6b0ec623\",\"type\":\"Title\"},{\"attributes\":{\"overlay\":{\"id\":\"d85888c9-977c-46e9-8395-a3d66ae2a33f\",\"type\":\"BoxAnnotation\"}},\"id\":\"570410df-0ea4-4c26-92d1-b4166079693e\",\"type\":\"BoxZoomTool\"},{\"attributes\":{\"callback\":null,\"overlay\":{\"id\":\"53dfe716-4538-4cff-8f89-48dceb8e9ea1\",\"type\":\"BoxAnnotation\"},\"renderers\":[{\"id\":\"6793e9b8-bac0-4147-8d51-b4186fc29cac\",\"type\":\"GlyphRenderer\"}]},\"id\":\"4231493c-6e52-4839-ad90-046ed3d9e43f\",\"type\":\"BoxSelectTool\"},{\"attributes\":{\"callback\":null,\"overlay\":{\"id\":\"45e44f8b-24eb-4ffe-aaf2-98c54ae3922b\",\"type\":\"PolyAnnotation\"}},\"id\":\"5fb8c18c-32e6-47ce-862a-3860deffb65b\",\"type\":\"LassoSelectTool\"},{\"attributes\":{\"active_drag\":\"auto\",\"active_inspect\":\"auto\",\"active_scroll\":\"auto\",\"active_tap\":\"auto\",\"tools\":[{\"id\":\"d7dc1a0b-59bf-45a4-abed-071eea1fca1f\",\"type\":\"PanTool\"},{\"id\":\"b3f9909a-3f1b-46d1-a8d0-e1132e79b8fa\",\"type\":\"WheelZoomTool\"},{\"id\":\"8cddc823-8d84-4bb4-b718-6f0be968daef\",\"type\":\"BoxZoomTool\"},{\"id\":\"2d449b4c-f6c3-4610-85f7-cbcfb68f2b8d\",\"type\":\"BoxSelectTool\"},{\"id\":\"fa194ca8-2bd0-436c-99b9-1bfd0a5a060c\",\"type\":\"LassoSelectTool\"}]},\"id\":\"267fddde-2a9d-479f-a1de-7b260c631c9b\",\"type\":\"Toolbar\"},{\"attributes\":{\"fill_color\":{\"value\":\"green\"},\"line_color\":{\"value\":\"green\"},\"x\":{\"field\":\"hp\"},\"y\":{\"field\":\"displ\"}},\"id\":\"dd88e805-0b38-448f-8a8e-b4e03e8b3914\",\"type\":\"Circle\"},{\"attributes\":{\"data_source\":{\"id\":\"d71c3e37-ec53-467e-bc09-7eb5157a22d6\",\"type\":\"ColumnDataSource\"},\"glyph\":{\"id\":\"dd88e805-0b38-448f-8a8e-b4e03e8b3914\",\"type\":\"Circle\"},\"hover_glyph\":null,\"muted_glyph\":null,\"nonselection_glyph\":{\"id\":\"863c1abc-6d77-4a3d-a698-8b6fc9397bd3\",\"type\":\"Circle\"},\"selection_glyph\":null,\"view\":{\"id\":\"7cf9205b-60b1-476b-b6d2-f3e4f953682d\",\"type\":\"CDSView\"}},\"id\":\"6793e9b8-bac0-4147-8d51-b4186fc29cac\",\"type\":\"GlyphRenderer\"},{\"attributes\":{\"fill_color\":{\"value\":\"blue\"},\"line_color\":{\"value\":\"blue\"},\"x\":{\"field\":\"yr\"},\"y\":{\"field\":\"mpg\"}},\"id\":\"f1e3752a-b47a-4bba-b352-f0880282d1a6\",\"type\":\"Circle\"},{\"attributes\":{\"bottom_units\":\"screen\",\"fill_alpha\":{\"value\":0.5},\"fill_color\":{\"value\":\"lightgrey\"},\"left_units\":\"screen\",\"level\":\"overlay\",\"line_alpha\":{\"value\":1.0},\"line_color\":{\"value\":\"black\"},\"line_dash\":[4,4],\"line_width\":{\"value\":2},\"plot\":null,\"render_mode\":\"css\",\"right_units\":\"screen\",\"top_units\":\"screen\"},\"id\":\"53dfe716-4538-4cff-8f89-48dceb8e9ea1\",\"type\":\"BoxAnnotation\"},{\"attributes\":{\"source\":{\"id\":\"d71c3e37-ec53-467e-bc09-7eb5157a22d6\",\"type\":\"ColumnDataSource\"}},\"id\":\"7cf9205b-60b1-476b-b6d2-f3e4f953682d\",\"type\":\"CDSView\"},{\"attributes\":{\"callback\":null},\"id\":\"0fa132fd-2bcf-485b-b5b2-0fbaff44431c\",\"type\":\"DataRange1d\"},{\"attributes\":{},\"id\":\"384b9967-dfa6-4634-a3f1-f7bf148559f3\",\"type\":\"BasicTickFormatter\"},{\"attributes\":{},\"id\":\"246de2a3-c42c-4c36-bb2f-f856e8efa94b\",\"type\":\"LinearScale\"},{\"attributes\":{},\"id\":\"78d3a576-ebef-4bba-895e-8adf61b6a26d\",\"type\":\"BasicTickFormatter\"},{\"attributes\":{},\"id\":\"9995e6b4-7b08-4eac-8a8f-7039f9d8a62e\",\"type\":\"LinearScale\"},{\"attributes\":{\"fill_alpha\":{\"value\":0.1},\"fill_color\":{\"value\":\"#1f77b4\"},\"line_alpha\":{\"value\":0.1},\"line_color\":{\"value\":\"#1f77b4\"},\"x\":{\"field\":\"hp\"},\"y\":{\"field\":\"displ\"}},\"id\":\"863c1abc-6d77-4a3d-a698-8b6fc9397bd3\",\"type\":\"Circle\"},{\"attributes\":{\"callback\":null},\"id\":\"30ed24ba-f087-4ee3-a3f8-88b06dc22b1e\",\"type\":\"DataRange1d\"},{\"attributes\":{\"callback\":null,\"column_names\":[\"mpg\",\"cyl\",\"displ\",\"hp\",\"weight\",\"accel\",\"yr\",\"origin\",\"name\",\"index\"],\"data\":{\"accel\":{\"__ndarray__\":\"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\",\"dtype\":\"float64\",\"shape\":[392]},\"cyl\":[8,8,8,8,8,8,8,8,8,8,8,8,8,8,4,6,6,6,4,4,4,4,4,4,6,8,8,8,8,4,4,4,6,6,6,6,6,8,8,8,8,8,8,8,6,4,6,6,4,4,4,4,4,4,4,4,4,4,4,4,4,8,8,8,8,8,8,8,8,8,3,8,8,8,8,4,4,4,4,4,4,4,4,4,8,8,8,8,8,8,8,8,8,8,8,8,6,6,6,6,6,4,8,8,8,8,6,4,4,4,3,4,6,4,8,8,4,4,4,4,8,4,6,8,6,6,6,4,4,4,4,6,6,6,8,8,8,8,8,4,4,4,4,4,4,4,4,4,4,4,6,6,6,6,8,8,8,8,6,6,6,6,6,8,8,4,4,6,4,4,4,4,6,4,6,4,4,4,4,4,4,4,4,4,4,8,8,8,8,6,6,6,6,4,4,4,4,6,6,6,6,4,4,4,4,4,8,4,6,6,8,8,8,8,4,4,4,4,4,8,8,8,8,6,6,6,6,8,8,8,8,4,4,4,4,4,4,4,4,6,4,3,4,4,4,4,4,8,8,8,6,6,6,4,6,6,6,6,6,6,8,6,8,8,4,4,4,4,4,4,4,4,5,6,4,6,4,4,6,6,4,6,6,8,8,8,8,8,8,8,8,4,4,4,4,5,8,4,8,4,4,4,4,4,6,6,4,4,4,4,4,4,4,4,6,4,4,4,4,4,4,4,4,4,4,5,4,4,4,4,6,3,4,4,4,4,4,6,4,4,4,4,4,4,4,4,4,4,4,4,4,4,4,4,4,6,6,6,6,8,6,6,4,4,4,4,4,4,4,4,4,4,4,4,4,4,4,4,4,4,6,6,4,6,4,4,4,4,4,4,4,4],\"displ\":{\"__ndarray__\":\"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\",\"dtype\":\"float64\",\"shape\":[392]},\"hp\":[130,165,150,150,140,198,220,215,225,190,170,160,150,225,95,95,97,85,88,46,87,90,95,113,90,215,200,210,193,88,90,95,100,105,100,88,100,165,175,153,150,180,170,175,110,72,100,88,86,90,70,76,65,69,60,70,95,80,54,90,86,165,175,150,153,150,208,155,160,190,97,150,130,140,150,112,76,87,69,86,92,97,80,88,175,150,145,137,150,198,150,158,150,215,225,175,105,100,100,88,95,46,150,167,170,180,100,88,72,94,90,85,107,90,145,230,49,75,91,112,150,110,122,180,95,100,100,67,80,65,75,100,110,105,140,150,150,140,150,83,67,78,52,61,75,75,75,97,93,67,95,105,72,72,170,145,150,148,110,105,110,95,110,110,129,75,83,100,78,96,71,97,97,70,90,95,88,98,115,53,86,81,92,79,83,140,150,120,152,100,105,81,90,52,60,70,53,100,78,110,95,71,70,75,72,102,150,88,108,120,180,145,130,150,68,80,58,96,70,145,110,145,130,110,105,100,98,180,170,190,149,78,88,75,89,63,83,67,78,97,110,110,48,66,52,70,60,110,140,139,105,95,85,88,100,90,105,85,110,120,145,165,139,140,68,95,97,75,95,105,85,97,103,125,115,133,71,68,115,85,88,90,110,130,129,138,135,155,142,125,150,71,65,80,80,77,125,71,90,70,70,65,69,90,115,115,90,76,60,70,65,90,88,90,90,78,90,75,92,75,65,105,65,48,48,67,67,67,67,62,132,100,88,72,84,84,92,110,84,58,64,60,67,65,62,68,63,65,65,74,75,75,100,74,80,76,116,120,110,105,88,85,88,88,88,85,84,90,92,74,68,68,63,70,88,75,70,67,67,67,110,85,92,112,96,84,90,86,52,84,79,82],\"index\":[0,1,2,3,4,5,6,7,8,9,10,11,12,13,14,15,16,17,18,19,20,21,22,23,24,25,26,27,28,29,30,31,32,33,34,35,36,37,38,39,40,41,42,43,44,45,46,47,48,49,50,51,52,53,54,55,56,57,58,59,60,61,62,63,64,65,66,67,68,69,70,71,72,73,74,75,76,77,78,79,80,81,82,83,84,85,86,87,88,89,90,91,92,93,94,95,96,97,98,99,100,101,102,103,104,105,106,107,108,109,110,111,112,113,114,115,116,117,118,119,120,121,122,123,124,125,126,127,128,129,130,131,132,133,134,135,136,137,138,139,140,141,142,143,144,145,146,147,148,149,150,151,152,153,154,155,156,157,158,159,160,161,162,163,164,165,166,167,168,169,170,171,172,173,174,175,176,177,178,179,180,181,182,183,184,185,186,187,188,189,190,191,192,193,194,195,196,197,198,199,200,201,202,203,204,205,206,207,208,209,210,211,212,213,214,215,216,217,218,219,220,221,222,223,224,225,226,227,228,229,230,231,232,233,234,235,236,237,238,239,240,241,242,243,244,245,246,247,248,249,250,251,252,253,254,255,256,257,258,259,260,261,262,263,264,265,266,267,268,269,270,271,272,273,274,275,276,277,278,279,280,281,282,283,284,285,286,287,288,289,290,291,292,293,294,295,296,297,298,299,300,301,302,303,304,305,306,307,308,309,310,311,312,313,314,315,316,317,318,319,320,321,322,323,324,325,326,327,328,329,330,331,332,333,334,335,336,337,338,339,340,341,342,343,344,345,346,347,348,349,350,351,352,353,354,355,356,357,358,359,360,361,362,363,364,365,366,367,368,369,370,371,372,373,374,375,376,377,378,379,380,381,382,383,384,385,386,387,388,389,390,391],\"mpg\":{\"__ndarray__\":\"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\",\"dtype\":\"float64\",\"shape\":[392]},\"name\":[\"chevrolet chevelle malibu\",\"buick skylark 320\",\"plymouth satellite\",\"amc rebel sst\",\"ford torino\",\"ford galaxie 500\",\"chevrolet impala\",\"plymouth fury iii\",\"pontiac catalina\",\"amc ambassador dpl\",\"dodge challenger se\",\"plymouth 'cuda 340\",\"chevrolet monte carlo\",\"buick estate wagon (sw)\",\"toyota corona mark ii\",\"plymouth duster\",\"amc hornet\",\"ford maverick\",\"datsun pl510\",\"volkswagen 1131 deluxe sedan\",\"peugeot 504\",\"audi 100 ls\",\"saab 99e\",\"bmw 2002\",\"amc gremlin\",\"ford f250\",\"chevy c20\",\"dodge d200\",\"hi 1200d\",\"datsun pl510\",\"chevrolet vega 2300\",\"toyota corona\",\"amc gremlin\",\"plymouth satellite custom\",\"chevrolet chevelle malibu\",\"ford torino 500\",\"amc matador\",\"chevrolet impala\",\"pontiac catalina brougham\",\"ford galaxie 500\",\"plymouth fury iii\",\"dodge monaco (sw)\",\"ford country squire (sw)\",\"pontiac safari (sw)\",\"amc hornet sportabout (sw)\",\"chevrolet vega (sw)\",\"pontiac firebird\",\"ford mustang\",\"mercury capri 2000\",\"opel 1900\",\"peugeot 304\",\"fiat 124b\",\"toyota corolla 1200\",\"datsun 1200\",\"volkswagen model 111\",\"plymouth cricket\",\"toyota corona hardtop\",\"dodge colt hardtop\",\"volkswagen type 3\",\"chevrolet vega\",\"ford pinto runabout\",\"chevrolet impala\",\"pontiac catalina\",\"plymouth fury iii\",\"ford galaxie 500\",\"amc ambassador sst\",\"mercury marquis\",\"buick lesabre custom\",\"oldsmobile delta 88 royale\",\"chrysler newport royal\",\"mazda rx2 coupe\",\"amc matador (sw)\",\"chevrolet chevelle concours (sw)\",\"ford gran torino (sw)\",\"plymouth satellite custom (sw)\",\"volvo 145e (sw)\",\"volkswagen 411 (sw)\",\"peugeot 504 (sw)\",\"renault 12 (sw)\",\"ford pinto (sw)\",\"datsun 510 (sw)\",\"toyouta corona mark ii (sw)\",\"dodge colt (sw)\",\"toyota corolla 1600 (sw)\",\"buick century 350\",\"amc matador\",\"chevrolet malibu\",\"ford gran torino\",\"dodge coronet custom\",\"mercury marquis brougham\",\"chevrolet caprice classic\",\"ford ltd\",\"plymouth fury gran sedan\",\"chrysler new yorker brougham\",\"buick electra 225 custom\",\"amc ambassador brougham\",\"plymouth valiant\",\"chevrolet nova custom\",\"amc hornet\",\"ford maverick\",\"plymouth duster\",\"volkswagen super beetle\",\"chevrolet impala\",\"ford country\",\"plymouth custom suburb\",\"oldsmobile vista cruiser\",\"amc gremlin\",\"toyota carina\",\"chevrolet vega\",\"datsun 610\",\"maxda rx3\",\"ford pinto\",\"mercury capri v6\",\"fiat 124 sport coupe\",\"chevrolet monte carlo s\",\"pontiac grand prix\",\"fiat 128\",\"opel manta\",\"audi 100ls\",\"volvo 144ea\",\"dodge dart custom\",\"saab 99le\",\"toyota mark ii\",\"oldsmobile omega\",\"plymouth duster\",\"amc hornet\",\"chevrolet nova\",\"datsun b210\",\"ford pinto\",\"toyota corolla 1200\",\"chevrolet vega\",\"chevrolet chevelle malibu classic\",\"amc matador\",\"plymouth satellite sebring\",\"ford gran torino\",\"buick century luxus (sw)\",\"dodge coronet custom (sw)\",\"ford gran torino (sw)\",\"amc matador (sw)\",\"audi fox\",\"volkswagen dasher\",\"opel manta\",\"toyota corona\",\"datsun 710\",\"dodge colt\",\"fiat 128\",\"fiat 124 tc\",\"honda civic\",\"subaru\",\"fiat x1.9\",\"plymouth valiant custom\",\"chevrolet nova\",\"mercury monarch\",\"ford maverick\",\"pontiac catalina\",\"chevrolet bel air\",\"plymouth grand fury\",\"ford ltd\",\"buick century\",\"chevroelt chevelle malibu\",\"amc matador\",\"plymouth fury\",\"buick skyhawk\",\"chevrolet monza 2+2\",\"ford mustang ii\",\"toyota corolla\",\"ford pinto\",\"amc gremlin\",\"pontiac astro\",\"toyota corona\",\"volkswagen dasher\",\"datsun 710\",\"ford pinto\",\"volkswagen rabbit\",\"amc pacer\",\"audi 100ls\",\"peugeot 504\",\"volvo 244dl\",\"saab 99le\",\"honda civic cvcc\",\"fiat 131\",\"opel 1900\",\"capri ii\",\"dodge colt\",\"renault 12tl\",\"chevrolet chevelle malibu classic\",\"dodge coronet brougham\",\"amc matador\",\"ford gran torino\",\"plymouth valiant\",\"chevrolet nova\",\"ford maverick\",\"amc hornet\",\"chevrolet chevette\",\"chevrolet woody\",\"vw rabbit\",\"honda civic\",\"dodge aspen se\",\"ford granada ghia\",\"pontiac ventura sj\",\"amc pacer d/l\",\"volkswagen rabbit\",\"datsun b-210\",\"toyota corolla\",\"ford pinto\",\"volvo 245\",\"plymouth volare premier v8\",\"peugeot 504\",\"toyota mark ii\",\"mercedes-benz 280s\",\"cadillac seville\",\"chevy c10\",\"ford f108\",\"dodge d100\",\"honda accord cvcc\",\"buick opel isuzu deluxe\",\"renault 5 gtl\",\"plymouth arrow gs\",\"datsun f-10 hatchback\",\"chevrolet caprice classic\",\"oldsmobile cutlass supreme\",\"dodge monaco brougham\",\"mercury cougar brougham\",\"chevrolet concours\",\"buick skylark\",\"plymouth volare custom\",\"ford granada\",\"pontiac grand prix lj\",\"chevrolet monte carlo landau\",\"chrysler cordoba\",\"ford thunderbird\",\"volkswagen rabbit custom\",\"pontiac sunbird coupe\",\"toyota corolla liftback\",\"ford mustang ii 2+2\",\"chevrolet chevette\",\"dodge colt m/m\",\"subaru dl\",\"volkswagen dasher\",\"datsun 810\",\"bmw 320i\",\"mazda rx-4\",\"volkswagen rabbit custom diesel\",\"ford fiesta\",\"mazda glc deluxe\",\"datsun b210 gx\",\"honda civic cvcc\",\"oldsmobile cutlass salon brougham\",\"dodge diplomat\",\"mercury monarch ghia\",\"pontiac phoenix lj\",\"chevrolet malibu\",\"ford fairmont (auto)\",\"ford fairmont (man)\",\"plymouth volare\",\"amc concord\",\"buick century special\",\"mercury zephyr\",\"dodge aspen\",\"amc concord d/l\",\"chevrolet monte carlo landau\",\"buick regal sport coupe (turbo)\",\"ford futura\",\"dodge magnum xe\",\"chevrolet chevette\",\"toyota corona\",\"datsun 510\",\"dodge omni\",\"toyota celica gt liftback\",\"plymouth sapporo\",\"oldsmobile starfire sx\",\"datsun 200-sx\",\"audi 5000\",\"volvo 264gl\",\"saab 99gle\",\"peugeot 604sl\",\"volkswagen scirocco\",\"honda accord lx\",\"pontiac lemans v6\",\"mercury zephyr 6\",\"ford fairmont 4\",\"amc concord dl 6\",\"dodge aspen 6\",\"chevrolet caprice classic\",\"ford ltd landau\",\"mercury grand marquis\",\"dodge st. regis\",\"buick estate wagon (sw)\",\"ford country squire (sw)\",\"chevrolet malibu classic (sw)\",\"chrysler lebaron town @ country (sw)\",\"vw rabbit custom\",\"maxda glc deluxe\",\"dodge colt hatchback custom\",\"amc spirit dl\",\"mercedes benz 300d\",\"cadillac eldorado\",\"peugeot 504\",\"oldsmobile cutlass salon brougham\",\"plymouth horizon\",\"plymouth horizon tc3\",\"datsun 210\",\"fiat strada custom\",\"buick skylark limited\",\"chevrolet citation\",\"oldsmobile omega brougham\",\"pontiac phoenix\",\"vw rabbit\",\"toyota corolla tercel\",\"chevrolet chevette\",\"datsun 310\",\"chevrolet citation\",\"ford fairmont\",\"amc concord\",\"dodge aspen\",\"audi 4000\",\"toyota corona liftback\",\"mazda 626\",\"datsun 510 hatchback\",\"toyota corolla\",\"mazda glc\",\"dodge colt\",\"datsun 210\",\"vw rabbit c (diesel)\",\"vw dasher (diesel)\",\"audi 5000s (diesel)\",\"mercedes-benz 240d\",\"honda civic 1500 gl\",\"subaru dl\",\"vokswagen rabbit\",\"datsun 280-zx\",\"mazda rx-7 gs\",\"triumph tr7 coupe\",\"honda accord\",\"plymouth reliant\",\"buick skylark\",\"dodge aries wagon (sw)\",\"chevrolet citation\",\"plymouth reliant\",\"toyota starlet\",\"plymouth champ\",\"honda civic 1300\",\"subaru\",\"datsun 210 mpg\",\"toyota tercel\",\"mazda glc 4\",\"plymouth horizon 4\",\"ford escort 4w\",\"ford escort 2h\",\"volkswagen jetta\",\"honda prelude\",\"toyota corolla\",\"datsun 200sx\",\"mazda 626\",\"peugeot 505s turbo diesel\",\"volvo diesel\",\"toyota cressida\",\"datsun 810 maxima\",\"buick century\",\"oldsmobile cutlass ls\",\"ford granada gl\",\"chrysler lebaron salon\",\"chevrolet cavalier\",\"chevrolet cavalier wagon\",\"chevrolet cavalier 2-door\",\"pontiac j2000 se hatchback\",\"dodge aries se\",\"pontiac phoenix\",\"ford fairmont futura\",\"volkswagen rabbit l\",\"mazda glc custom l\",\"mazda glc custom\",\"plymouth horizon miser\",\"mercury lynx l\",\"nissan stanza xe\",\"honda accord\",\"toyota corolla\",\"honda civic\",\"honda civic (auto)\",\"datsun 310 gx\",\"buick century limited\",\"oldsmobile cutlass ciera (diesel)\",\"chrysler lebaron medallion\",\"ford granada l\",\"toyota celica gt\",\"dodge charger 2.2\",\"chevrolet camaro\",\"ford mustang gl\",\"vw pickup\",\"dodge rampage\",\"ford ranger\",\"chevy s-10\"],\"origin\":[1,1,1,1,1,1,1,1,1,1,1,1,1,1,3,1,1,1,3,2,2,2,2,2,1,1,1,1,1,3,1,3,1,1,1,1,1,1,1,1,1,1,1,1,1,1,1,1,1,2,2,2,3,3,2,1,3,1,2,1,1,1,1,1,1,1,1,1,1,1,3,1,1,1,1,2,2,2,2,1,3,3,1,3,1,1,1,1,1,1,1,1,1,1,1,1,1,1,1,1,1,2,1,1,1,1,1,3,1,3,3,1,1,2,1,1,2,2,2,2,1,2,3,1,1,1,1,3,1,3,1,1,1,1,1,1,1,1,1,2,2,2,3,3,1,2,2,3,3,2,1,1,1,1,1,1,1,1,1,1,1,1,1,1,1,3,1,1,1,3,2,3,1,2,1,2,2,2,2,3,2,2,1,1,2,1,1,1,1,1,1,1,1,1,1,2,3,1,1,1,1,2,3,3,1,2,1,2,3,2,1,1,1,1,3,1,2,1,3,1,1,1,1,1,1,1,1,1,1,1,1,2,1,3,1,1,1,3,2,3,2,3,2,1,3,3,3,1,1,1,1,1,1,1,1,1,1,1,1,1,1,1,1,1,1,3,3,1,3,1,1,3,2,2,2,2,2,3,1,1,1,1,1,1,1,1,1,1,1,1,1,2,3,1,1,2,1,2,1,1,1,3,2,1,1,1,1,2,3,1,3,1,1,1,1,2,3,3,3,3,3,1,3,2,2,2,2,3,3,2,3,3,2,3,1,1,1,1,1,3,1,3,3,3,3,3,1,1,1,2,3,3,3,3,2,2,3,3,1,1,1,1,1,1,1,1,1,1,1,2,3,3,1,1,3,3,3,3,3,3,1,1,1,1,3,1,1,1,2,1,1,1],\"weight\":[3504,3693,3436,3433,3449,4341,4354,4312,4425,3850,3563,3609,3761,3086,2372,2833,2774,2587,2130,1835,2672,2430,2375,2234,2648,4615,4376,4382,4732,2130,2264,2228,2634,3439,3329,3302,3288,4209,4464,4154,4096,4955,4746,5140,2962,2408,3282,3139,2220,2123,2074,2065,1773,1613,1834,1955,2278,2126,2254,2408,2226,4274,4385,4135,4129,3672,4633,4502,4456,4422,2330,3892,4098,4294,4077,2933,2511,2979,2189,2395,2288,2506,2164,2100,4100,3672,3988,4042,3777,4952,4464,4363,4237,4735,4951,3821,3121,3278,2945,3021,2904,1950,4997,4906,4654,4499,2789,2279,2401,2379,2124,2310,2472,2265,4082,4278,1867,2158,2582,2868,3399,2660,2807,3664,3102,2901,3336,1950,2451,1836,2542,3781,3632,3613,4141,4699,4457,4638,4257,2219,1963,2300,1649,2003,2125,2108,2246,2489,2391,2000,3264,3459,3432,3158,4668,4440,4498,4657,3907,3897,3730,3785,3039,3221,3169,2171,2639,2914,2592,2702,2223,2545,2984,1937,3211,2694,2957,2945,2671,1795,2464,2220,2572,2255,2202,4215,4190,3962,4215,3233,3353,3012,3085,2035,2164,1937,1795,3651,3574,3645,3193,1825,1990,2155,2565,3150,3940,3270,2930,3820,4380,4055,3870,3755,2045,2155,1825,2300,1945,3880,4060,4140,4295,3520,3425,3630,3525,4220,4165,4325,4335,1940,2740,2265,2755,2051,2075,1985,2190,2815,2600,2720,1985,1800,1985,2070,1800,3365,3735,3570,3535,3155,2965,2720,3430,3210,3380,3070,3620,3410,3425,3445,3205,4080,2155,2560,2300,2230,2515,2745,2855,2405,2830,3140,2795,3410,1990,2135,3245,2990,2890,3265,3360,3840,3725,3955,3830,4360,4054,3605,3940,1925,1975,1915,2670,3530,3900,3190,3420,2200,2150,2020,2130,2670,2595,2700,2556,2144,1968,2120,2019,2678,2870,3003,3381,2188,2711,2542,2434,2265,2110,2800,2110,2085,2335,2950,3250,1850,2145,1845,2910,2420,2500,2290,2490,2635,2620,2725,2385,1755,1875,1760,2065,1975,2050,1985,2215,2045,2380,2190,2210,2350,2615,2635,3230,3160,2900,2930,3415,3725,3060,3465,2605,2640,2395,2575,2525,2735,2865,1980,2025,1970,2125,2125,2160,2205,2245,1965,1965,1995,2945,3015,2585,2835,2665,2370,2950,2790,2130,2295,2625,2720],\"yr\":[70,70,70,70,70,70,70,70,70,70,70,70,70,70,70,70,70,70,70,70,70,70,70,70,70,70,70,70,70,71,71,71,71,71,71,71,71,71,71,71,71,71,71,71,71,71,71,71,71,71,71,71,71,71,71,71,72,72,72,72,72,72,72,72,72,72,72,72,72,72,72,72,72,72,72,72,72,72,72,72,72,72,72,72,73,73,73,73,73,73,73,73,73,73,73,73,73,73,73,73,73,73,73,73,73,73,73,73,73,73,73,73,73,73,73,73,73,73,73,73,73,73,73,73,74,74,74,74,74,74,74,74,74,74,74,74,74,74,74,74,74,74,74,74,74,74,74,74,74,74,75,75,75,75,75,75,75,75,75,75,75,75,75,75,75,75,75,75,75,75,75,75,75,75,75,75,75,75,75,75,76,76,76,76,76,76,76,76,76,76,76,76,76,76,76,76,76,76,76,76,76,76,76,76,76,76,76,76,76,76,76,76,76,76,77,77,77,77,77,77,77,77,77,77,77,77,77,77,77,77,77,77,77,77,77,77,77,77,77,77,77,77,78,78,78,78,78,78,78,78,78,78,78,78,78,78,78,78,78,78,78,78,78,78,78,78,78,78,78,78,78,78,78,78,78,78,78,78,79,79,79,79,79,79,79,79,79,79,79,79,79,79,79,79,79,79,79,79,79,79,79,79,79,79,79,79,79,80,80,80,80,80,80,80,80,80,80,80,80,80,80,80,80,80,80,80,80,80,80,80,80,80,80,80,81,81,81,81,81,81,81,81,81,81,81,81,81,81,81,81,81,81,81,81,81,81,81,81,81,81,81,81,82,82,82,82,82,82,82,82,82,82,82,82,82,82,82,82,82,82,82,82,82,82,82,82,82,82,82,82,82,82]}},\"id\":\"d71c3e37-ec53-467e-bc09-7eb5157a22d6\",\"type\":\"ColumnDataSource\"},{\"attributes\":{\"active_drag\":\"auto\",\"active_inspect\":\"auto\",\"active_scroll\":\"auto\",\"active_tap\":\"auto\",\"tools\":[{\"id\":\"9b44ce56-f265-4c62-ab55-59e0c045cbf9\",\"type\":\"PanTool\"},{\"id\":\"f0958cb8-4212-456f-a135-384e7e3a9f54\",\"type\":\"WheelZoomTool\"},{\"id\":\"8c3e2508-379d-45f2-aa1b-1148ecbaba4f\",\"type\":\"BoxZoomTool\"},{\"id\":\"c1bee2b2-2252-472c-9bf4-00bcab56a728\",\"type\":\"BoxSelectTool\"},{\"id\":\"aa06124c-4b62-4879-8e25-83606acd5eab\",\"type\":\"LassoSelectTool\"}]},\"id\":\"02720eb8-7405-4a61-89e8-ff8804003634\",\"type\":\"Toolbar\"},{\"attributes\":{},\"id\":\"fc8a344e-bb3d-4eae-8581-bb9c7a4a97ba\",\"type\":\"BasicTickFormatter\"},{\"attributes\":{},\"id\":\"6237e722-bfe9-41df-a680-2b2c02b21601\",\"type\":\"LinearScale\"},{\"attributes\":{\"bottom_units\":\"screen\",\"fill_alpha\":{\"value\":0.5},\"fill_color\":{\"value\":\"lightgrey\"},\"left_units\":\"screen\",\"level\":\"overlay\",\"line_alpha\":{\"value\":1.0},\"line_color\":{\"value\":\"black\"},\"line_dash\":[4,4],\"line_width\":{\"value\":2},\"plot\":null,\"render_mode\":\"css\",\"right_units\":\"screen\",\"top_units\":\"screen\"},\"id\":\"0ab5353c-1790-4130-89b9-608710f52f68\",\"type\":\"BoxAnnotation\"},{\"attributes\":{},\"id\":\"68f8b043-e2ba-4dd3-bdf9-702979dfa65e\",\"type\":\"LinearScale\"},{\"attributes\":{\"plot\":{\"id\":\"e1067ba4-171c-4018-89f4-abd31fdb90c0\",\"subtype\":\"Figure\",\"type\":\"Plot\"},\"ticker\":{\"id\":\"d81c66dc-1fce-4141-9af9-013be148992b\",\"type\":\"BasicTicker\"}},\"id\":\"2291bdc9-18e2-4f2b-867b-093cdc36f7db\",\"type\":\"Grid\"},{\"attributes\":{\"formatter\":{\"id\":\"345d563e-e51c-44ad-9025-976de8d76566\",\"type\":\"BasicTickFormatter\"},\"plot\":{\"id\":\"e1067ba4-171c-4018-89f4-abd31fdb90c0\",\"subtype\":\"Figure\",\"type\":\"Plot\"},\"ticker\":{\"id\":\"d81c66dc-1fce-4141-9af9-013be148992b\",\"type\":\"BasicTicker\"}},\"id\":\"8f89ba2b-a54f-4107-b7fb-a7eeebde9fa4\",\"type\":\"LinearAxis\"},{\"attributes\":{},\"id\":\"d81c66dc-1fce-4141-9af9-013be148992b\",\"type\":\"BasicTicker\"},{\"attributes\":{\"formatter\":{\"id\":\"fc8a344e-bb3d-4eae-8581-bb9c7a4a97ba\",\"type\":\"BasicTickFormatter\"},\"plot\":{\"id\":\"e1067ba4-171c-4018-89f4-abd31fdb90c0\",\"subtype\":\"Figure\",\"type\":\"Plot\"},\"ticker\":{\"id\":\"10104274-5ad6-40bf-9545-915def3ba41c\",\"type\":\"BasicTicker\"}},\"id\":\"cd7dfc5b-22c9-40d4-b9d4-0ea78df10aa8\",\"type\":\"LinearAxis\"},{\"attributes\":{},\"id\":\"10104274-5ad6-40bf-9545-915def3ba41c\",\"type\":\"BasicTicker\"},{\"attributes\":{\"dimension\":1,\"plot\":{\"id\":\"e1067ba4-171c-4018-89f4-abd31fdb90c0\",\"subtype\":\"Figure\",\"type\":\"Plot\"},\"ticker\":{\"id\":\"10104274-5ad6-40bf-9545-915def3ba41c\",\"type\":\"BasicTicker\"}},\"id\":\"96254e66-c96f-46e5-b107-c616b3808171\",\"type\":\"Grid\"},{\"attributes\":{\"children\":[{\"id\":\"d9d1f58f-74e1-42ab-86c0-bc2960272bd9\",\"type\":\"Row\"}]},\"id\":\"96c332d2-122a-4ef6-9f30-4b22e0bc32f8\",\"type\":\"Column\"},{\"attributes\":{},\"id\":\"9b44ce56-f265-4c62-ab55-59e0c045cbf9\",\"type\":\"PanTool\"},{\"attributes\":{\"fill_alpha\":{\"value\":0.5},\"fill_color\":{\"value\":\"lightgrey\"},\"level\":\"overlay\",\"line_alpha\":{\"value\":1.0},\"line_color\":{\"value\":\"black\"},\"line_dash\":[4,4],\"line_width\":{\"value\":2},\"plot\":null,\"xs_units\":\"screen\",\"ys_units\":\"screen\"},\"id\":\"57e4a594-2162-4976-aa98-8a502ada7ba2\",\"type\":\"PolyAnnotation\"},{\"attributes\":{},\"id\":\"f0958cb8-4212-456f-a135-384e7e3a9f54\",\"type\":\"WheelZoomTool\"},{\"attributes\":{\"overlay\":{\"id\":\"0ab5353c-1790-4130-89b9-608710f52f68\",\"type\":\"BoxAnnotation\"}},\"id\":\"8c3e2508-379d-45f2-aa1b-1148ecbaba4f\",\"type\":\"BoxZoomTool\"},{\"attributes\":{\"callback\":null,\"overlay\":{\"id\":\"c3427953-ebd7-4233-935a-8863a095b14c\",\"type\":\"BoxAnnotation\"},\"renderers\":[{\"id\":\"6ba13de2-b98a-4260-b248-a7d0e5008247\",\"type\":\"GlyphRenderer\"}]},\"id\":\"c1bee2b2-2252-472c-9bf4-00bcab56a728\",\"type\":\"BoxSelectTool\"},{\"attributes\":{\"callback\":null,\"overlay\":{\"id\":\"57e4a594-2162-4976-aa98-8a502ada7ba2\",\"type\":\"PolyAnnotation\"}},\"id\":\"aa06124c-4b62-4879-8e25-83606acd5eab\",\"type\":\"LassoSelectTool\"},{\"attributes\":{\"fill_alpha\":{\"value\":0.1},\"fill_color\":{\"value\":\"#1f77b4\"},\"line_alpha\":{\"value\":0.1},\"line_color\":{\"value\":\"#1f77b4\"},\"size\":{\"field\":\"cyl\",\"units\":\"screen\"},\"x\":{\"field\":\"mpg\"},\"y\":{\"field\":\"displ\"}},\"id\":\"83c57267-7823-4b32-b6ed-6499a61d4d7c\",\"type\":\"Circle\"},{\"attributes\":{\"data_source\":{\"id\":\"d71c3e37-ec53-467e-bc09-7eb5157a22d6\",\"type\":\"ColumnDataSource\"},\"glyph\":{\"id\":\"bcdf5168-629b-4eb8-840d-935d4b1a48e7\",\"type\":\"Circle\"},\"hover_glyph\":null,\"muted_glyph\":null,\"nonselection_glyph\":{\"id\":\"83c57267-7823-4b32-b6ed-6499a61d4d7c\",\"type\":\"Circle\"},\"selection_glyph\":null,\"view\":{\"id\":\"0b5cf53d-4cf4-4409-b46c-cf882a09906f\",\"type\":\"CDSView\"}},\"id\":\"6ba13de2-b98a-4260-b248-a7d0e5008247\",\"type\":\"GlyphRenderer\"},{\"attributes\":{\"bottom_units\":\"screen\",\"fill_alpha\":{\"value\":0.5},\"fill_color\":{\"value\":\"lightgrey\"},\"left_units\":\"screen\",\"level\":\"overlay\",\"line_alpha\":{\"value\":1.0},\"line_color\":{\"value\":\"black\"},\"line_dash\":[4,4],\"line_width\":{\"value\":2},\"plot\":null,\"render_mode\":\"css\",\"right_units\":\"screen\",\"top_units\":\"screen\"},\"id\":\"c3427953-ebd7-4233-935a-8863a095b14c\",\"type\":\"BoxAnnotation\"},{\"attributes\":{\"source\":{\"id\":\"d71c3e37-ec53-467e-bc09-7eb5157a22d6\",\"type\":\"ColumnDataSource\"}},\"id\":\"0b5cf53d-4cf4-4409-b46c-cf882a09906f\",\"type\":\"CDSView\"},{\"attributes\":{\"below\":[{\"id\":\"bbbb0704-64fb-49bc-950e-666add59c376\",\"type\":\"LinearAxis\"}],\"left\":[{\"id\":\"0420198a-0454-4692-8bc6-525a8a7d7e5a\",\"type\":\"LinearAxis\"}],\"plot_height\":300,\"plot_width\":300,\"renderers\":[{\"id\":\"bbbb0704-64fb-49bc-950e-666add59c376\",\"type\":\"LinearAxis\"},{\"id\":\"83609fc4-32a8-49af-894b-43050af9d820\",\"type\":\"Grid\"},{\"id\":\"0420198a-0454-4692-8bc6-525a8a7d7e5a\",\"type\":\"LinearAxis\"},{\"id\":\"bc205787-6b7c-4516-bcd0-3daf9366e55d\",\"type\":\"Grid\"},{\"id\":\"2fe9ba63-8838-408f-b4c8-11df54651488\",\"type\":\"BoxAnnotation\"},{\"id\":\"8483f0d0-90c8-4d18-8958-f23eb2d2c814\",\"type\":\"BoxAnnotation\"},{\"id\":\"d64dc540-aa36-4e7a-9f3a-e2e87ee01984\",\"type\":\"PolyAnnotation\"},{\"id\":\"f54fa2aa-0201-458b-8738-ee58573b0a2c\",\"type\":\"GlyphRenderer\"}],\"title\":{\"id\":\"902fb26f-95c8-4541-84e4-868c6b0ec623\",\"type\":\"Title\"},\"toolbar\":{\"id\":\"267fddde-2a9d-479f-a1de-7b260c631c9b\",\"type\":\"Toolbar\"},\"toolbar_location\":null,\"x_range\":{\"id\":\"1bce0556-da4b-4a25-9774-3b3182a01d5c\",\"type\":\"DataRange1d\"},\"x_scale\":{\"id\":\"9995e6b4-7b08-4eac-8a8f-7039f9d8a62e\",\"type\":\"LinearScale\"},\"y_range\":{\"id\":\"0fa132fd-2bcf-485b-b5b2-0fbaff44431c\",\"type\":\"DataRange1d\"},\"y_scale\":{\"id\":\"6237e722-bfe9-41df-a680-2b2c02b21601\",\"type\":\"LinearScale\"}},\"id\":\"a6802794-1b77-4607-8e16-979c910c74a0\",\"subtype\":\"Figure\",\"type\":\"Plot\"},{\"attributes\":{},\"id\":\"345d563e-e51c-44ad-9025-976de8d76566\",\"type\":\"BasicTickFormatter\"}],\"root_ids\":[\"6fbb1292-b841-4200-a60d-f0a0a0fd2b37\"]},\"title\":\"Bokeh Application\",\"version\":\"0.12.13\"}};\n",
       "  var render_items = [{\"docid\":\"fec9b4a2-f787-4385-be62-4e8ffc44e3db\",\"elementid\":\"27dd11f9-c206-4e26-a873-649e796b2795\",\"modelid\":\"6fbb1292-b841-4200-a60d-f0a0a0fd2b37\"}];\n",
       "  root.Bokeh.embed.embed_items_notebook(docs_json, render_items);\n",
       "\n",
       "  }\n",
       "  if (root.Bokeh !== undefined) {\n",
       "    embed_document(root);\n",
       "  } else {\n",
       "    var attempts = 0;\n",
       "    var timer = setInterval(function(root) {\n",
       "      if (root.Bokeh !== undefined) {\n",
       "        embed_document(root);\n",
       "        clearInterval(timer);\n",
       "      }\n",
       "      attempts++;\n",
       "      if (attempts > 100) {\n",
       "        console.log(\"Bokeh: ERROR: Unable to run BokehJS code because BokehJS library is missing\")\n",
       "        clearInterval(timer);\n",
       "      }\n",
       "    }, 10, root)\n",
       "  }\n",
       "})(window);"
      ],
      "application/vnd.bokehjs_exec.v0+json": ""
     },
     "metadata": {
      "application/vnd.bokehjs_exec.v0+json": {
       "id": "6fbb1292-b841-4200-a60d-f0a0a0fd2b37"
      }
     },
     "output_type": "display_data"
    }
   ],
   "source": [
    "from bokeh.models import ColumnDataSource\n",
    "from bokeh.layouts import gridplot\n",
    "\n",
    "source = ColumnDataSource(autompg)\n",
    "\n",
    "options = dict(plot_width=300, plot_height=300,\n",
    "               tools=\"pan,wheel_zoom,box_zoom,box_select,lasso_select\")\n",
    "\n",
    "p1 = figure(title=\"MPG by Year\", **options)\n",
    "p1.circle(\"yr\", \"mpg\", color=\"blue\",\n",
    "          source=source)\n",
    "\n",
    "p2 = figure(title=\"HP vs. Displacement\", **options)\n",
    "p2.circle(\"hp\", \"displ\", color=\"green\", \n",
    "          source=source)\n",
    "\n",
    "p3 = figure(title=\"MPG vs. Displacement\", **options)\n",
    "p3.circle(\"mpg\", \"displ\", size=\"cyl\", line_color=\"red\", fill_color=None,\n",
    "          source=source)\n",
    "\n",
    "p = gridplot([[ p1, p2, p3]], toolbar_location=\"right\")\n",
    "\n",
    "show(p)"
   ]
  },
  {
   "cell_type": "markdown",
   "metadata": {},
   "source": [
    "You can read more about the ColumnDataSource and other Bokeh data structures in Providing Data for Plots and Tables\n",
    "\n",
    "## Standalone HTML\n",
    "In addition to working well with the Notebook, Bokeh can also save plots out into their own HTML files. Here is the bar plot example from above, but saving into its own standalone file.\n",
    "\n",
    "Now when we call show(), a new browser tab is also opened with the plot. If we just wanted to save the file, we would use save() instead."
   ]
  },
  {
   "cell_type": "code",
   "execution_count": 8,
   "metadata": {},
   "outputs": [
    {
     "data": {
      "text/html": [
       "\n",
       "<div class=\"bk-root\">\n",
       "    <div class=\"bk-plotdiv\" id=\"1d58d4bd-e8db-4321-aa3e-b7e3a80f0c84\"></div>\n",
       "</div>"
      ]
     },
     "metadata": {},
     "output_type": "display_data"
    },
    {
     "data": {
      "application/javascript": [
       "(function(root) {\n",
       "  function embed_document(root) {\n",
       "    \n",
       "  var docs_json = {\"67d90de6-ea5e-475a-8d5f-cc77c0dcac75\":{\"roots\":{\"references\":[{\"attributes\":{\"callback\":null,\"column_names\":[\"x\",\"top\",\"bottom\"],\"data\":{\"bottom\":{\"__ndarray__\":\"gvFgx2qzKECcKci59t4sQJZdRzm5jipAzvVtn6zMKECki7kXNjswQIpnc6D2pi5ApAV4qVNeL0DtFQi6+rIwQBxLQL6+KTFAWBwW2YNMMkBnDzEy+Oo6QAq856zmjDhAfzfsSXnEOkA=\",\"dtype\":\"float64\",\"shape\":[13]},\"top\":{\"__ndarray__\":\"55jlF2UHN0DAzlQxaMk7QBEIyj5aJjhATTh849zMNUD6TNCFok49QMPUTjgNNTlA1KLp0Ht2O0AT6vdFBQ0+QNr+XjaL9T5AVt48aCfjP0AojYptQ1hEQPSsO6IX6UFAQOQJW8OdQkA=\",\"dtype\":\"float64\",\"shape\":[13]},\"x\":[70,71,72,73,74,75,76,77,78,79,80,81,82]}},\"id\":\"688c492e-0c24-4a77-9ac7-2b864f261839\",\"type\":\"ColumnDataSource\"},{\"attributes\":{\"source\":{\"id\":\"e894d004-146e-4ee4-9c75-f34126020891\",\"type\":\"ColumnDataSource\"}},\"id\":\"4b501dfc-e914-4214-aa40-39fe68da6113\",\"type\":\"CDSView\"},{\"attributes\":{\"plot\":null,\"text\":\"MPG by Year (Japan and US)\"},\"id\":\"250227c9-def7-4de4-afa2-22843fb2d2e1\",\"type\":\"Title\"},{\"attributes\":{\"label\":{\"value\":\"MPG 1 stddev\"},\"renderers\":[{\"id\":\"cfe80289-f1e1-4805-9c5a-9b079d94869e\",\"type\":\"GlyphRenderer\"}]},\"id\":\"c3f28e1a-ac5e-4441-b4c9-e3a66aefe8ff\",\"type\":\"LegendItem\"},{\"attributes\":{\"fill_alpha\":{\"value\":0.3},\"fill_color\":{\"value\":\"red\"},\"line_alpha\":{\"value\":0.3},\"line_color\":{\"value\":\"red\"},\"size\":{\"units\":\"screen\",\"value\":10},\"x\":{\"field\":\"x\"},\"y\":{\"field\":\"y\"}},\"id\":\"851f8248-cac4-4b1a-b3fc-abdad2018f49\",\"type\":\"Circle\"},{\"attributes\":{\"label\":{\"value\":\"American\"},\"renderers\":[{\"id\":\"f2a86298-ee4f-4ec7-8e78-2d12d80533cf\",\"type\":\"GlyphRenderer\"}]},\"id\":\"6d9aa5b8-0130-456b-ab9e-1c1f188428e4\",\"type\":\"LegendItem\"},{\"attributes\":{\"fill_alpha\":{\"value\":0.1},\"fill_color\":{\"value\":\"#1f77b4\"},\"line_alpha\":{\"value\":0.1},\"line_color\":{\"value\":\"#1f77b4\"},\"size\":{\"units\":\"screen\",\"value\":10},\"x\":{\"field\":\"x\"},\"y\":{\"field\":\"y\"}},\"id\":\"a1aa95f3-94c4-402a-8d29-47df1bf347b6\",\"type\":\"Circle\"},{\"attributes\":{\"source\":{\"id\":\"74397de4-92b9-4b3c-a3e7-4d7a26e4d655\",\"type\":\"ColumnDataSource\"}},\"id\":\"bbb1286e-d59e-4780-a071-5d4359cad2a6\",\"type\":\"CDSView\"},{\"attributes\":{},\"id\":\"e8e34616-a9ee-417d-a36b-adb84b31839e\",\"type\":\"LinearScale\"},{\"attributes\":{\"callback\":null,\"column_names\":[\"x\",\"y\"],\"data\":{\"x\":[70,70,71,71,71,71,72,72,72,72,72,73,73,73,73,74,74,74,74,74,74,75,75,75,75,76,76,76,76,77,77,77,77,77,77,78,78,78,78,78,78,78,78,79,79,80,80,80,80,80,80,80,80,80,80,80,80,80,81,81,81,81,81,81,81,81,81,81,81,81,82,82,82,82,82,82,82,82,82],\"y\":{\"__ndarray__\":\"AAAAAAAAOEAAAAAAAAA7QAAAAAAAADtAAAAAAAAAOUAAAAAAAAA/QAAAAAAAgEFAAAAAAAAAOEAAAAAAAAAzQAAAAAAAADxAAAAAAAAAN0AAAAAAAAA7QAAAAAAAADRAAAAAAAAANkAAAAAAAAAyQAAAAAAAADRAAAAAAAAAP0AAAAAAAABAQAAAAAAAAD9AAAAAAAAAQEAAAAAAAAA4QAAAAAAAADpAAAAAAAAAPUAAAAAAAAA4QAAAAAAAADhAAAAAAACAQEAAAAAAAIBAQAAAAAAAAEBAAAAAAAAAPEAAAAAAAAAzQAAAAAAAgD9AAAAAAADAQEAAAAAAAAA6QAAAAAAAAD5AAAAAAAAANkAAAAAAAIA1QGZmZmZmZkBAMzMzMzOzQ0DNzMzMzAxCQAAAAAAAgDtAMzMzMzMzO0CamZmZmRk1QGZmZmZm5jdAAAAAAACAPUDNzMzMzAxBQM3MzMzMzD9AzczMzMwMQ0CamZmZmZlCQM3MzMzMzD1AzczMzMxMP0AAAAAAAIBCQJqZmZmZGUBAzczMzMxMR0BmZmZmZmZEQM3MzMzMTEZAZmZmZmbmQECamZmZmVlAQDMzMzMzszdAMzMzMzMzQEDNzMzMzIxDQM3MzMzMjEFAZmZmZmYmQEAAAAAAAIBCQJqZmZmZ2UJAzczMzMwMQUCamZmZmdlAQDMzMzMzM0BAMzMzMzNzQECamZmZmZk/QGZmZmZmZjlAMzMzMzMzOEAAAAAAAIBCQAAAAAAAAD9AAAAAAAAAQkAAAAAAAABCQAAAAAAAAEFAAAAAAAAAQ0AAAAAAAABAQAAAAAAAAENAAAAAAAAAQEA=\",\"dtype\":\"float64\",\"shape\":[79]}}},\"id\":\"74397de4-92b9-4b3c-a3e7-4d7a26e4d655\",\"type\":\"ColumnDataSource\"},{\"attributes\":{\"below\":[{\"id\":\"355bd90c-0ce5-46b5-8448-94711cf1b8f1\",\"type\":\"LinearAxis\"}],\"left\":[{\"id\":\"6ed31388-f380-4653-87db-287e0bc443ee\",\"type\":\"LinearAxis\"}],\"renderers\":[{\"id\":\"355bd90c-0ce5-46b5-8448-94711cf1b8f1\",\"type\":\"LinearAxis\"},{\"id\":\"88a736ae-69bb-4ce8-a687-3ed6e06830a4\",\"type\":\"Grid\"},{\"id\":\"6ed31388-f380-4653-87db-287e0bc443ee\",\"type\":\"LinearAxis\"},{\"id\":\"f28df754-ac97-47e6-9381-ae8adda2623c\",\"type\":\"Grid\"},{\"id\":\"18173f9e-8984-4bca-85dd-c5d7b84c3ff4\",\"type\":\"BoxAnnotation\"},{\"id\":\"b4178be9-b31e-4753-b253-2958950bce85\",\"type\":\"Legend\"},{\"id\":\"cfe80289-f1e1-4805-9c5a-9b079d94869e\",\"type\":\"GlyphRenderer\"},{\"id\":\"7fb189ba-78a8-4f14-a8c9-a18f297e7d14\",\"type\":\"GlyphRenderer\"},{\"id\":\"f2a86298-ee4f-4ec7-8e78-2d12d80533cf\",\"type\":\"GlyphRenderer\"}],\"title\":{\"id\":\"250227c9-def7-4de4-afa2-22843fb2d2e1\",\"type\":\"Title\"},\"toolbar\":{\"id\":\"f631ecb4-1353-4e5a-8bb6-c97f88fee22e\",\"type\":\"Toolbar\"},\"x_range\":{\"id\":\"e347f0d1-72d0-40f1-b0b2-763d65000f81\",\"type\":\"DataRange1d\"},\"x_scale\":{\"id\":\"e8e34616-a9ee-417d-a36b-adb84b31839e\",\"type\":\"LinearScale\"},\"y_range\":{\"id\":\"2be34ed9-62c7-486d-b1b6-672004a17ebf\",\"type\":\"DataRange1d\"},\"y_scale\":{\"id\":\"9db1eaa5-6a71-4cb3-a915-05093d0b2caf\",\"type\":\"LinearScale\"}},\"id\":\"7fa14c70-7d83-4284-af9a-3584a6147988\",\"subtype\":\"Figure\",\"type\":\"Plot\"},{\"attributes\":{\"label\":{\"value\":\"Japanese\"},\"renderers\":[{\"id\":\"7fb189ba-78a8-4f14-a8c9-a18f297e7d14\",\"type\":\"GlyphRenderer\"}]},\"id\":\"53341271-e0a1-4edf-bc9f-5eefe006369a\",\"type\":\"LegendItem\"},{\"attributes\":{\"formatter\":{\"id\":\"8e5363b3-bd1e-478e-a19a-9d8d834233ec\",\"type\":\"BasicTickFormatter\"},\"plot\":{\"id\":\"7fa14c70-7d83-4284-af9a-3584a6147988\",\"subtype\":\"Figure\",\"type\":\"Plot\"},\"ticker\":{\"id\":\"a0cb5d9c-d7bb-4670-a970-3de3cdb06eff\",\"type\":\"BasicTicker\"}},\"id\":\"355bd90c-0ce5-46b5-8448-94711cf1b8f1\",\"type\":\"LinearAxis\"},{\"attributes\":{\"fill_alpha\":{\"value\":0.3},\"fill_color\":{\"value\":\"blue\"},\"line_alpha\":{\"value\":0.3},\"line_color\":{\"value\":\"blue\"},\"size\":{\"units\":\"screen\",\"value\":10},\"x\":{\"field\":\"x\"},\"y\":{\"field\":\"y\"}},\"id\":\"a562aeb5-b7f7-4e0d-ad24-0d58abfe54ca\",\"type\":\"Triangle\"},{\"attributes\":{},\"id\":\"ad1ee4fb-30e6-4753-9d13-86504b4144e8\",\"type\":\"BasicTicker\"},{\"attributes\":{\"plot\":{\"id\":\"7fa14c70-7d83-4284-af9a-3584a6147988\",\"subtype\":\"Figure\",\"type\":\"Plot\"},\"ticker\":{\"id\":\"a0cb5d9c-d7bb-4670-a970-3de3cdb06eff\",\"type\":\"BasicTicker\"}},\"id\":\"88a736ae-69bb-4ce8-a687-3ed6e06830a4\",\"type\":\"Grid\"},{\"attributes\":{\"fill_alpha\":{\"value\":0.1},\"fill_color\":{\"value\":\"#1f77b4\"},\"line_alpha\":{\"value\":0.1},\"line_color\":{\"value\":\"#1f77b4\"},\"size\":{\"units\":\"screen\",\"value\":10},\"x\":{\"field\":\"x\"},\"y\":{\"field\":\"y\"}},\"id\":\"4e2f6e84-4dd5-4ece-aa21-754ed8f38dfe\",\"type\":\"Triangle\"},{\"attributes\":{\"active_drag\":\"auto\",\"active_inspect\":\"auto\",\"active_scroll\":\"auto\",\"active_tap\":\"auto\",\"tools\":[{\"id\":\"da90d6a7-346d-40d8-99b0-dbdd7e95b4c6\",\"type\":\"PanTool\"},{\"id\":\"53d4f64f-2b0d-4a78-be4c-1be01cc652a1\",\"type\":\"WheelZoomTool\"},{\"id\":\"c5413a3f-22a6-4c8e-90e6-cdc73f14519b\",\"type\":\"BoxZoomTool\"},{\"id\":\"e8eab518-48b9-4c64-8883-fdf1770b43c9\",\"type\":\"SaveTool\"},{\"id\":\"800f7f09-1352-4676-a4b1-1ab11fd834ee\",\"type\":\"ResetTool\"},{\"id\":\"50dfac82-98dc-4b9f-8e69-05d201ee5dcd\",\"type\":\"HelpTool\"}]},\"id\":\"f631ecb4-1353-4e5a-8bb6-c97f88fee22e\",\"type\":\"Toolbar\"},{\"attributes\":{},\"id\":\"a0cb5d9c-d7bb-4670-a970-3de3cdb06eff\",\"type\":\"BasicTicker\"},{\"attributes\":{\"callback\":null},\"id\":\"2be34ed9-62c7-486d-b1b6-672004a17ebf\",\"type\":\"DataRange1d\"},{\"attributes\":{},\"id\":\"53d4f64f-2b0d-4a78-be4c-1be01cc652a1\",\"type\":\"WheelZoomTool\"},{\"attributes\":{\"dimension\":1,\"plot\":{\"id\":\"7fa14c70-7d83-4284-af9a-3584a6147988\",\"subtype\":\"Figure\",\"type\":\"Plot\"},\"ticker\":{\"id\":\"ad1ee4fb-30e6-4753-9d13-86504b4144e8\",\"type\":\"BasicTicker\"}},\"id\":\"f28df754-ac97-47e6-9381-ae8adda2623c\",\"type\":\"Grid\"},{\"attributes\":{},\"id\":\"9db1eaa5-6a71-4cb3-a915-05093d0b2caf\",\"type\":\"LinearScale\"},{\"attributes\":{\"formatter\":{\"id\":\"bcb3b401-495f-4082-9e00-d502a1964624\",\"type\":\"BasicTickFormatter\"},\"plot\":{\"id\":\"7fa14c70-7d83-4284-af9a-3584a6147988\",\"subtype\":\"Figure\",\"type\":\"Plot\"},\"ticker\":{\"id\":\"ad1ee4fb-30e6-4753-9d13-86504b4144e8\",\"type\":\"BasicTicker\"}},\"id\":\"6ed31388-f380-4653-87db-287e0bc443ee\",\"type\":\"LinearAxis\"},{\"attributes\":{\"bottom_units\":\"screen\",\"fill_alpha\":{\"value\":0.5},\"fill_color\":{\"value\":\"lightgrey\"},\"left_units\":\"screen\",\"level\":\"overlay\",\"line_alpha\":{\"value\":1.0},\"line_color\":{\"value\":\"black\"},\"line_dash\":[4,4],\"line_width\":{\"value\":2},\"plot\":null,\"render_mode\":\"css\",\"right_units\":\"screen\",\"top_units\":\"screen\"},\"id\":\"18173f9e-8984-4bca-85dd-c5d7b84c3ff4\",\"type\":\"BoxAnnotation\"},{\"attributes\":{\"bottom\":{\"field\":\"bottom\"},\"fill_alpha\":{\"value\":0.2},\"fill_color\":{\"value\":\"#1f77b4\"},\"line_color\":{\"value\":null},\"top\":{\"field\":\"top\"},\"width\":{\"value\":0.8},\"x\":{\"field\":\"x\"}},\"id\":\"df6865dd-0010-4d16-a794-de3186d8c091\",\"type\":\"VBar\"},{\"attributes\":{},\"id\":\"da90d6a7-346d-40d8-99b0-dbdd7e95b4c6\",\"type\":\"PanTool\"},{\"attributes\":{\"overlay\":{\"id\":\"18173f9e-8984-4bca-85dd-c5d7b84c3ff4\",\"type\":\"BoxAnnotation\"}},\"id\":\"c5413a3f-22a6-4c8e-90e6-cdc73f14519b\",\"type\":\"BoxZoomTool\"},{\"attributes\":{\"data_source\":{\"id\":\"74397de4-92b9-4b3c-a3e7-4d7a26e4d655\",\"type\":\"ColumnDataSource\"},\"glyph\":{\"id\":\"851f8248-cac4-4b1a-b3fc-abdad2018f49\",\"type\":\"Circle\"},\"hover_glyph\":null,\"muted_glyph\":null,\"nonselection_glyph\":{\"id\":\"a1aa95f3-94c4-402a-8d29-47df1bf347b6\",\"type\":\"Circle\"},\"selection_glyph\":null,\"view\":{\"id\":\"bbb1286e-d59e-4780-a071-5d4359cad2a6\",\"type\":\"CDSView\"}},\"id\":\"7fb189ba-78a8-4f14-a8c9-a18f297e7d14\",\"type\":\"GlyphRenderer\"},{\"attributes\":{\"items\":[{\"id\":\"c3f28e1a-ac5e-4441-b4c9-e3a66aefe8ff\",\"type\":\"LegendItem\"},{\"id\":\"53341271-e0a1-4edf-bc9f-5eefe006369a\",\"type\":\"LegendItem\"},{\"id\":\"6d9aa5b8-0130-456b-ab9e-1c1f188428e4\",\"type\":\"LegendItem\"}],\"location\":\"top_left\",\"plot\":{\"id\":\"7fa14c70-7d83-4284-af9a-3584a6147988\",\"subtype\":\"Figure\",\"type\":\"Plot\"}},\"id\":\"b4178be9-b31e-4753-b253-2958950bce85\",\"type\":\"Legend\"},{\"attributes\":{\"callback\":null},\"id\":\"e347f0d1-72d0-40f1-b0b2-763d65000f81\",\"type\":\"DataRange1d\"},{\"attributes\":{},\"id\":\"8e5363b3-bd1e-478e-a19a-9d8d834233ec\",\"type\":\"BasicTickFormatter\"},{\"attributes\":{\"data_source\":{\"id\":\"688c492e-0c24-4a77-9ac7-2b864f261839\",\"type\":\"ColumnDataSource\"},\"glyph\":{\"id\":\"df6865dd-0010-4d16-a794-de3186d8c091\",\"type\":\"VBar\"},\"hover_glyph\":null,\"muted_glyph\":null,\"nonselection_glyph\":{\"id\":\"d15b8d84-2698-451e-8fd1-22907876fa24\",\"type\":\"VBar\"},\"selection_glyph\":null,\"view\":{\"id\":\"919a8da2-e258-480e-928f-0e3163c9b785\",\"type\":\"CDSView\"}},\"id\":\"cfe80289-f1e1-4805-9c5a-9b079d94869e\",\"type\":\"GlyphRenderer\"},{\"attributes\":{\"data_source\":{\"id\":\"e894d004-146e-4ee4-9c75-f34126020891\",\"type\":\"ColumnDataSource\"},\"glyph\":{\"id\":\"a562aeb5-b7f7-4e0d-ad24-0d58abfe54ca\",\"type\":\"Triangle\"},\"hover_glyph\":null,\"muted_glyph\":null,\"nonselection_glyph\":{\"id\":\"4e2f6e84-4dd5-4ece-aa21-754ed8f38dfe\",\"type\":\"Triangle\"},\"selection_glyph\":null,\"view\":{\"id\":\"4b501dfc-e914-4214-aa40-39fe68da6113\",\"type\":\"CDSView\"}},\"id\":\"f2a86298-ee4f-4ec7-8e78-2d12d80533cf\",\"type\":\"GlyphRenderer\"},{\"attributes\":{\"source\":{\"id\":\"688c492e-0c24-4a77-9ac7-2b864f261839\",\"type\":\"ColumnDataSource\"}},\"id\":\"919a8da2-e258-480e-928f-0e3163c9b785\",\"type\":\"CDSView\"},{\"attributes\":{\"bottom\":{\"field\":\"bottom\"},\"fill_alpha\":{\"value\":0.1},\"fill_color\":{\"value\":\"#1f77b4\"},\"line_alpha\":{\"value\":0.1},\"line_color\":{\"value\":\"#1f77b4\"},\"top\":{\"field\":\"top\"},\"width\":{\"value\":0.8},\"x\":{\"field\":\"x\"}},\"id\":\"d15b8d84-2698-451e-8fd1-22907876fa24\",\"type\":\"VBar\"},{\"attributes\":{},\"id\":\"bcb3b401-495f-4082-9e00-d502a1964624\",\"type\":\"BasicTickFormatter\"},{\"attributes\":{},\"id\":\"50dfac82-98dc-4b9f-8e69-05d201ee5dcd\",\"type\":\"HelpTool\"},{\"attributes\":{},\"id\":\"800f7f09-1352-4676-a4b1-1ab11fd834ee\",\"type\":\"ResetTool\"},{\"attributes\":{},\"id\":\"e8eab518-48b9-4c64-8883-fdf1770b43c9\",\"type\":\"SaveTool\"},{\"attributes\":{\"callback\":null,\"column_names\":[\"x\",\"y\"],\"data\":{\"x\":[70,70,70,70,70,70,70,70,70,70,70,70,70,70,70,70,70,70,70,70,70,70,71,71,71,71,71,71,71,71,71,71,71,71,71,71,71,71,71,71,71,72,72,72,72,72,72,72,72,72,72,72,72,72,72,72,72,72,72,73,73,73,73,73,73,73,73,73,73,73,73,73,73,73,73,73,73,73,73,73,73,73,73,73,73,73,73,73,74,74,74,74,74,74,74,74,74,74,74,74,74,74,75,75,75,75,75,75,75,75,75,75,75,75,75,75,75,75,75,75,75,75,76,76,76,76,76,76,76,76,76,76,76,76,76,76,76,76,76,76,76,76,76,76,77,77,77,77,77,77,77,77,77,77,77,77,77,77,77,77,77,77,78,78,78,78,78,78,78,78,78,78,78,78,78,78,78,78,78,78,78,78,78,78,79,79,79,79,79,79,79,79,79,79,79,79,79,79,79,79,79,79,79,79,79,79,79,80,80,80,80,80,80,81,81,81,81,81,81,81,81,81,81,81,81,81,82,82,82,82,82,82,82,82,82,82,82,82,82,82,82,82,82,82,82],\"y\":{\"__ndarray__\":\"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\",\"dtype\":\"float64\",\"shape\":[245]}}},\"id\":\"e894d004-146e-4ee4-9c75-f34126020891\",\"type\":\"ColumnDataSource\"}],\"root_ids\":[\"7fa14c70-7d83-4284-af9a-3584a6147988\"]},\"title\":\"Bokeh Application\",\"version\":\"0.12.13\"}};\n",
       "  var render_items = [{\"docid\":\"67d90de6-ea5e-475a-8d5f-cc77c0dcac75\",\"elementid\":\"1d58d4bd-e8db-4321-aa3e-b7e3a80f0c84\",\"modelid\":\"7fa14c70-7d83-4284-af9a-3584a6147988\"}];\n",
       "  root.Bokeh.embed.embed_items_notebook(docs_json, render_items);\n",
       "\n",
       "  }\n",
       "  if (root.Bokeh !== undefined) {\n",
       "    embed_document(root);\n",
       "  } else {\n",
       "    var attempts = 0;\n",
       "    var timer = setInterval(function(root) {\n",
       "      if (root.Bokeh !== undefined) {\n",
       "        embed_document(root);\n",
       "        clearInterval(timer);\n",
       "      }\n",
       "      attempts++;\n",
       "      if (attempts > 100) {\n",
       "        console.log(\"Bokeh: ERROR: Unable to run BokehJS code because BokehJS library is missing\")\n",
       "        clearInterval(timer);\n",
       "      }\n",
       "    }, 10, root)\n",
       "  }\n",
       "})(window);"
      ],
      "application/vnd.bokehjs_exec.v0+json": ""
     },
     "metadata": {
      "application/vnd.bokehjs_exec.v0+json": {
       "id": "7fa14c70-7d83-4284-af9a-3584a6147988"
      }
     },
     "output_type": "display_data"
    }
   ],
   "source": [
    "from bokeh.plotting import output_file \n",
    "\n",
    "p = figure(title=\"MPG by Year (Japan and US)\")\n",
    "\n",
    "p.vbar(x=years, bottom=avg-std, top=avg+std, width=0.8, \n",
    "       fill_alpha=0.2, line_color=None, legend=\"MPG 1 stddev\")\n",
    "\n",
    "p.circle(x=japanese[\"yr\"], y=japanese[\"mpg\"], size=10, alpha=0.3,\n",
    "         color=\"red\", legend=\"Japanese\")\n",
    "\n",
    "p.triangle(x=american[\"yr\"], y=american[\"mpg\"], size=10, alpha=0.3,\n",
    "           color=\"blue\", legend=\"American\")\n",
    "\n",
    "p.legend.location = \"top_left\"\n",
    "show(p)"
   ]
  },
  {
   "cell_type": "markdown",
   "metadata": {},
   "source": [
    "## Bokeh Applications\n",
    "Bokeh also has a server component that can be used to build interactive web applications that eqsily connect the powerful constellation of PyData tools to sophisticated Bokeh visualizations. The Bokeh server can be used to:\n",
    "\n",
    "respond to UI and tool events generated in a browser with computations or queries using the full power of python\n",
    "automatically push server-side updates to the UI (i.e. widgets or plots in a browser)\n",
    "use periodic, timeout, and asynchronous callbacks to drive streaming updates\n",
    "Click on any of the thumbnails below to launch a live Bokeh applications.\n",
    "\n",
    "     \n",
    "Find more details and information about developing and deploying Bokeh server applications in the User's Guide chapter Running a Bokeh Server."
   ]
  },
  {
   "cell_type": "markdown",
   "metadata": {},
   "source": [
    "## BokehJS\n",
    "At its core, Bokeh consists of a Javascript library, BokehJS, and a Python binding which provides classes and objects that ultimately generate a JSON representation of the plot structure.\n",
    "\n",
    "You can read more about design and usage in the Developing with JavaScript section of the Bokeh User's Guide.\n",
    "\n",
    "## More Information\n",
    "Find more details and information at the resources listed below:\n",
    "\n",
    "Documentation: https://bokeh.pydata.org/en/latest\n",
    "\n",
    "GitHub: https://github.com/bokeh/bokeh\n",
    "\n",
    "Mailing list: bokeh@anaconda.com\n",
    "\n",
    "Gitter Chat: https://gitter.im/bokeh/bokeh\n",
    "\n",
    "Be sure to follow us on Twitter @bokehplots and on Youtube!"
   ]
  }
 ],
 "metadata": {
  "kernelspec": {
   "display_name": "Python 3",
   "language": "python",
   "name": "python3"
  },
  "language_info": {
   "codemirror_mode": {
    "name": "ipython",
    "version": 3
   },
   "file_extension": ".py",
   "mimetype": "text/x-python",
   "name": "python",
   "nbconvert_exporter": "python",
   "pygments_lexer": "ipython3",
   "version": "3.6.4"
  }
 },
 "nbformat": 4,
 "nbformat_minor": 2
}
