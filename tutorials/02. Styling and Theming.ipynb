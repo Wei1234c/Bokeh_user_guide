{
 "cells": [
  {
   "cell_type": "markdown",
   "metadata": {},
   "source": [
    "# 02. Styling and Theming\n",
    "http://nbviewer.jupyter.org/github/bokeh/bokeh-notebooks/blob/master/tutorial/02%20-%20Styling%20and%20Theming.ipynb"
   ]
  },
  {
   "cell_type": "code",
   "execution_count": 1,
   "metadata": {},
   "outputs": [
    {
     "data": {
      "text/html": [
       "\n",
       "    <div class=\"bk-root\">\n",
       "        <a href=\"https://bokeh.pydata.org\" target=\"_blank\" class=\"bk-logo bk-logo-small bk-logo-notebook\"></a>\n",
       "        <span id=\"fb970e01-9b39-4633-9204-10a2f02b1365\">Loading BokehJS ...</span>\n",
       "    </div>"
      ]
     },
     "metadata": {},
     "output_type": "display_data"
    },
    {
     "data": {
      "application/javascript": [
       "\n",
       "(function(root) {\n",
       "  function now() {\n",
       "    return new Date();\n",
       "  }\n",
       "\n",
       "  var force = true;\n",
       "\n",
       "  if (typeof (root._bokeh_onload_callbacks) === \"undefined\" || force === true) {\n",
       "    root._bokeh_onload_callbacks = [];\n",
       "    root._bokeh_is_loading = undefined;\n",
       "  }\n",
       "\n",
       "  var JS_MIME_TYPE = 'application/javascript';\n",
       "  var HTML_MIME_TYPE = 'text/html';\n",
       "  var EXEC_MIME_TYPE = 'application/vnd.bokehjs_exec.v0+json';\n",
       "  var CLASS_NAME = 'output_bokeh rendered_html';\n",
       "\n",
       "  /**\n",
       "   * Render data to the DOM node\n",
       "   */\n",
       "  function render(props, node) {\n",
       "    var script = document.createElement(\"script\");\n",
       "    node.appendChild(script);\n",
       "  }\n",
       "\n",
       "  /**\n",
       "   * Handle when an output is cleared or removed\n",
       "   */\n",
       "  function handleClearOutput(event, handle) {\n",
       "    var cell = handle.cell;\n",
       "\n",
       "    var id = cell.output_area._bokeh_element_id;\n",
       "    var server_id = cell.output_area._bokeh_server_id;\n",
       "    // Clean up Bokeh references\n",
       "    if (id !== undefined) {\n",
       "      Bokeh.index[id].model.document.clear();\n",
       "      delete Bokeh.index[id];\n",
       "    }\n",
       "\n",
       "    if (server_id !== undefined) {\n",
       "      // Clean up Bokeh references\n",
       "      var cmd = \"from bokeh.io.state import curstate; print(curstate().uuid_to_server['\" + server_id + \"'].get_sessions()[0].document.roots[0]._id)\";\n",
       "      cell.notebook.kernel.execute(cmd, {\n",
       "        iopub: {\n",
       "          output: function(msg) {\n",
       "            var element_id = msg.content.text.trim();\n",
       "            Bokeh.index[element_id].model.document.clear();\n",
       "            delete Bokeh.index[element_id];\n",
       "          }\n",
       "        }\n",
       "      });\n",
       "      // Destroy server and session\n",
       "      var cmd = \"import bokeh.io.notebook as ion; ion.destroy_server('\" + server_id + \"')\";\n",
       "      cell.notebook.kernel.execute(cmd);\n",
       "    }\n",
       "  }\n",
       "\n",
       "  /**\n",
       "   * Handle when a new output is added\n",
       "   */\n",
       "  function handleAddOutput(event, handle) {\n",
       "    var output_area = handle.output_area;\n",
       "    var output = handle.output;\n",
       "\n",
       "    // limit handleAddOutput to display_data with EXEC_MIME_TYPE content only\n",
       "    if ((output.output_type != \"display_data\") || (!output.data.hasOwnProperty(EXEC_MIME_TYPE))) {\n",
       "      return\n",
       "    }\n",
       "\n",
       "    var toinsert = output_area.element.find(\".\" + CLASS_NAME.split(' ')[0]);\n",
       "\n",
       "    if (output.metadata[EXEC_MIME_TYPE][\"id\"] !== undefined) {\n",
       "      toinsert[0].firstChild.textContent = output.data[JS_MIME_TYPE];\n",
       "      // store reference to embed id on output_area\n",
       "      output_area._bokeh_element_id = output.metadata[EXEC_MIME_TYPE][\"id\"];\n",
       "    }\n",
       "    if (output.metadata[EXEC_MIME_TYPE][\"server_id\"] !== undefined) {\n",
       "      var bk_div = document.createElement(\"div\");\n",
       "      bk_div.innerHTML = output.data[HTML_MIME_TYPE];\n",
       "      var script_attrs = bk_div.children[0].attributes;\n",
       "      for (var i = 0; i < script_attrs.length; i++) {\n",
       "        toinsert[0].firstChild.setAttribute(script_attrs[i].name, script_attrs[i].value);\n",
       "      }\n",
       "      // store reference to server id on output_area\n",
       "      output_area._bokeh_server_id = output.metadata[EXEC_MIME_TYPE][\"server_id\"];\n",
       "    }\n",
       "  }\n",
       "\n",
       "  function register_renderer(events, OutputArea) {\n",
       "\n",
       "    function append_mime(data, metadata, element) {\n",
       "      // create a DOM node to render to\n",
       "      var toinsert = this.create_output_subarea(\n",
       "        metadata,\n",
       "        CLASS_NAME,\n",
       "        EXEC_MIME_TYPE\n",
       "      );\n",
       "      this.keyboard_manager.register_events(toinsert);\n",
       "      // Render to node\n",
       "      var props = {data: data, metadata: metadata[EXEC_MIME_TYPE]};\n",
       "      render(props, toinsert[0]);\n",
       "      element.append(toinsert);\n",
       "      return toinsert\n",
       "    }\n",
       "\n",
       "    /* Handle when an output is cleared or removed */\n",
       "    events.on('clear_output.CodeCell', handleClearOutput);\n",
       "    events.on('delete.Cell', handleClearOutput);\n",
       "\n",
       "    /* Handle when a new output is added */\n",
       "    events.on('output_added.OutputArea', handleAddOutput);\n",
       "\n",
       "    /**\n",
       "     * Register the mime type and append_mime function with output_area\n",
       "     */\n",
       "    OutputArea.prototype.register_mime_type(EXEC_MIME_TYPE, append_mime, {\n",
       "      /* Is output safe? */\n",
       "      safe: true,\n",
       "      /* Index of renderer in `output_area.display_order` */\n",
       "      index: 0\n",
       "    });\n",
       "  }\n",
       "\n",
       "  // register the mime type if in Jupyter Notebook environment and previously unregistered\n",
       "  if (root.Jupyter !== undefined) {\n",
       "    var events = require('base/js/events');\n",
       "    var OutputArea = require('notebook/js/outputarea').OutputArea;\n",
       "\n",
       "    if (OutputArea.prototype.mime_types().indexOf(EXEC_MIME_TYPE) == -1) {\n",
       "      register_renderer(events, OutputArea);\n",
       "    }\n",
       "  }\n",
       "\n",
       "  \n",
       "  if (typeof (root._bokeh_timeout) === \"undefined\" || force === true) {\n",
       "    root._bokeh_timeout = Date.now() + 5000;\n",
       "    root._bokeh_failed_load = false;\n",
       "  }\n",
       "\n",
       "  var NB_LOAD_WARNING = {'data': {'text/html':\n",
       "     \"<div style='background-color: #fdd'>\\n\"+\n",
       "     \"<p>\\n\"+\n",
       "     \"BokehJS does not appear to have successfully loaded. If loading BokehJS from CDN, this \\n\"+\n",
       "     \"may be due to a slow or bad network connection. Possible fixes:\\n\"+\n",
       "     \"</p>\\n\"+\n",
       "     \"<ul>\\n\"+\n",
       "     \"<li>re-rerun `output_notebook()` to attempt to load from CDN again, or</li>\\n\"+\n",
       "     \"<li>use INLINE resources instead, as so:</li>\\n\"+\n",
       "     \"</ul>\\n\"+\n",
       "     \"<code>\\n\"+\n",
       "     \"from bokeh.resources import INLINE\\n\"+\n",
       "     \"output_notebook(resources=INLINE)\\n\"+\n",
       "     \"</code>\\n\"+\n",
       "     \"</div>\"}};\n",
       "\n",
       "  function display_loaded() {\n",
       "    var el = document.getElementById(\"fb970e01-9b39-4633-9204-10a2f02b1365\");\n",
       "    if (el != null) {\n",
       "      el.textContent = \"BokehJS is loading...\";\n",
       "    }\n",
       "    if (root.Bokeh !== undefined) {\n",
       "      if (el != null) {\n",
       "        el.textContent = \"BokehJS \" + root.Bokeh.version + \" successfully loaded.\";\n",
       "      }\n",
       "    } else if (Date.now() < root._bokeh_timeout) {\n",
       "      setTimeout(display_loaded, 100)\n",
       "    }\n",
       "  }\n",
       "\n",
       "\n",
       "  function run_callbacks() {\n",
       "    try {\n",
       "      root._bokeh_onload_callbacks.forEach(function(callback) { callback() });\n",
       "    }\n",
       "    finally {\n",
       "      delete root._bokeh_onload_callbacks\n",
       "    }\n",
       "    console.info(\"Bokeh: all callbacks have finished\");\n",
       "  }\n",
       "\n",
       "  function load_libs(js_urls, callback) {\n",
       "    root._bokeh_onload_callbacks.push(callback);\n",
       "    if (root._bokeh_is_loading > 0) {\n",
       "      console.log(\"Bokeh: BokehJS is being loaded, scheduling callback at\", now());\n",
       "      return null;\n",
       "    }\n",
       "    if (js_urls == null || js_urls.length === 0) {\n",
       "      run_callbacks();\n",
       "      return null;\n",
       "    }\n",
       "    console.log(\"Bokeh: BokehJS not loaded, scheduling load and callback at\", now());\n",
       "    root._bokeh_is_loading = js_urls.length;\n",
       "    for (var i = 0; i < js_urls.length; i++) {\n",
       "      var url = js_urls[i];\n",
       "      var s = document.createElement('script');\n",
       "      s.src = url;\n",
       "      s.async = false;\n",
       "      s.onreadystatechange = s.onload = function() {\n",
       "        root._bokeh_is_loading--;\n",
       "        if (root._bokeh_is_loading === 0) {\n",
       "          console.log(\"Bokeh: all BokehJS libraries loaded\");\n",
       "          run_callbacks()\n",
       "        }\n",
       "      };\n",
       "      s.onerror = function() {\n",
       "        console.warn(\"failed to load library \" + url);\n",
       "      };\n",
       "      console.log(\"Bokeh: injecting script tag for BokehJS library: \", url);\n",
       "      document.getElementsByTagName(\"head\")[0].appendChild(s);\n",
       "    }\n",
       "  };var element = document.getElementById(\"fb970e01-9b39-4633-9204-10a2f02b1365\");\n",
       "  if (element == null) {\n",
       "    console.log(\"Bokeh: ERROR: autoload.js configured with elementid 'fb970e01-9b39-4633-9204-10a2f02b1365' but no matching script tag was found. \")\n",
       "    return false;\n",
       "  }\n",
       "\n",
       "  var js_urls = [\"https://cdn.pydata.org/bokeh/release/bokeh-0.12.13.min.js\", \"https://cdn.pydata.org/bokeh/release/bokeh-widgets-0.12.13.min.js\", \"https://cdn.pydata.org/bokeh/release/bokeh-tables-0.12.13.min.js\", \"https://cdn.pydata.org/bokeh/release/bokeh-gl-0.12.13.min.js\"];\n",
       "\n",
       "  var inline_js = [\n",
       "    function(Bokeh) {\n",
       "      Bokeh.set_log_level(\"info\");\n",
       "    },\n",
       "    \n",
       "    function(Bokeh) {\n",
       "      \n",
       "    },\n",
       "    function(Bokeh) {\n",
       "      console.log(\"Bokeh: injecting CSS: https://cdn.pydata.org/bokeh/release/bokeh-0.12.13.min.css\");\n",
       "      Bokeh.embed.inject_css(\"https://cdn.pydata.org/bokeh/release/bokeh-0.12.13.min.css\");\n",
       "      console.log(\"Bokeh: injecting CSS: https://cdn.pydata.org/bokeh/release/bokeh-widgets-0.12.13.min.css\");\n",
       "      Bokeh.embed.inject_css(\"https://cdn.pydata.org/bokeh/release/bokeh-widgets-0.12.13.min.css\");\n",
       "      console.log(\"Bokeh: injecting CSS: https://cdn.pydata.org/bokeh/release/bokeh-tables-0.12.13.min.css\");\n",
       "      Bokeh.embed.inject_css(\"https://cdn.pydata.org/bokeh/release/bokeh-tables-0.12.13.min.css\");\n",
       "    }\n",
       "  ];\n",
       "\n",
       "  function run_inline_js() {\n",
       "    \n",
       "    if ((root.Bokeh !== undefined) || (force === true)) {\n",
       "      for (var i = 0; i < inline_js.length; i++) {\n",
       "        inline_js[i].call(root, root.Bokeh);\n",
       "      }if (force === true) {\n",
       "        display_loaded();\n",
       "      }} else if (Date.now() < root._bokeh_timeout) {\n",
       "      setTimeout(run_inline_js, 100);\n",
       "    } else if (!root._bokeh_failed_load) {\n",
       "      console.log(\"Bokeh: BokehJS failed to load within specified timeout.\");\n",
       "      root._bokeh_failed_load = true;\n",
       "    } else if (force !== true) {\n",
       "      var cell = $(document.getElementById(\"fb970e01-9b39-4633-9204-10a2f02b1365\")).parents('.cell').data().cell;\n",
       "      cell.output_area.append_execute_result(NB_LOAD_WARNING)\n",
       "    }\n",
       "\n",
       "  }\n",
       "\n",
       "  if (root._bokeh_is_loading === 0) {\n",
       "    console.log(\"Bokeh: BokehJS loaded, going straight to plotting\");\n",
       "    run_inline_js();\n",
       "  } else {\n",
       "    load_libs(js_urls, function() {\n",
       "      console.log(\"Bokeh: BokehJS plotting callback run at\", now());\n",
       "      run_inline_js();\n",
       "    });\n",
       "  }\n",
       "}(window));"
      ],
      "application/vnd.bokehjs_load.v0+json": "\n(function(root) {\n  function now() {\n    return new Date();\n  }\n\n  var force = true;\n\n  if (typeof (root._bokeh_onload_callbacks) === \"undefined\" || force === true) {\n    root._bokeh_onload_callbacks = [];\n    root._bokeh_is_loading = undefined;\n  }\n\n  \n\n  \n  if (typeof (root._bokeh_timeout) === \"undefined\" || force === true) {\n    root._bokeh_timeout = Date.now() + 5000;\n    root._bokeh_failed_load = false;\n  }\n\n  var NB_LOAD_WARNING = {'data': {'text/html':\n     \"<div style='background-color: #fdd'>\\n\"+\n     \"<p>\\n\"+\n     \"BokehJS does not appear to have successfully loaded. If loading BokehJS from CDN, this \\n\"+\n     \"may be due to a slow or bad network connection. Possible fixes:\\n\"+\n     \"</p>\\n\"+\n     \"<ul>\\n\"+\n     \"<li>re-rerun `output_notebook()` to attempt to load from CDN again, or</li>\\n\"+\n     \"<li>use INLINE resources instead, as so:</li>\\n\"+\n     \"</ul>\\n\"+\n     \"<code>\\n\"+\n     \"from bokeh.resources import INLINE\\n\"+\n     \"output_notebook(resources=INLINE)\\n\"+\n     \"</code>\\n\"+\n     \"</div>\"}};\n\n  function display_loaded() {\n    var el = document.getElementById(\"fb970e01-9b39-4633-9204-10a2f02b1365\");\n    if (el != null) {\n      el.textContent = \"BokehJS is loading...\";\n    }\n    if (root.Bokeh !== undefined) {\n      if (el != null) {\n        el.textContent = \"BokehJS \" + root.Bokeh.version + \" successfully loaded.\";\n      }\n    } else if (Date.now() < root._bokeh_timeout) {\n      setTimeout(display_loaded, 100)\n    }\n  }\n\n\n  function run_callbacks() {\n    try {\n      root._bokeh_onload_callbacks.forEach(function(callback) { callback() });\n    }\n    finally {\n      delete root._bokeh_onload_callbacks\n    }\n    console.info(\"Bokeh: all callbacks have finished\");\n  }\n\n  function load_libs(js_urls, callback) {\n    root._bokeh_onload_callbacks.push(callback);\n    if (root._bokeh_is_loading > 0) {\n      console.log(\"Bokeh: BokehJS is being loaded, scheduling callback at\", now());\n      return null;\n    }\n    if (js_urls == null || js_urls.length === 0) {\n      run_callbacks();\n      return null;\n    }\n    console.log(\"Bokeh: BokehJS not loaded, scheduling load and callback at\", now());\n    root._bokeh_is_loading = js_urls.length;\n    for (var i = 0; i < js_urls.length; i++) {\n      var url = js_urls[i];\n      var s = document.createElement('script');\n      s.src = url;\n      s.async = false;\n      s.onreadystatechange = s.onload = function() {\n        root._bokeh_is_loading--;\n        if (root._bokeh_is_loading === 0) {\n          console.log(\"Bokeh: all BokehJS libraries loaded\");\n          run_callbacks()\n        }\n      };\n      s.onerror = function() {\n        console.warn(\"failed to load library \" + url);\n      };\n      console.log(\"Bokeh: injecting script tag for BokehJS library: \", url);\n      document.getElementsByTagName(\"head\")[0].appendChild(s);\n    }\n  };var element = document.getElementById(\"fb970e01-9b39-4633-9204-10a2f02b1365\");\n  if (element == null) {\n    console.log(\"Bokeh: ERROR: autoload.js configured with elementid 'fb970e01-9b39-4633-9204-10a2f02b1365' but no matching script tag was found. \")\n    return false;\n  }\n\n  var js_urls = [\"https://cdn.pydata.org/bokeh/release/bokeh-0.12.13.min.js\", \"https://cdn.pydata.org/bokeh/release/bokeh-widgets-0.12.13.min.js\", \"https://cdn.pydata.org/bokeh/release/bokeh-tables-0.12.13.min.js\", \"https://cdn.pydata.org/bokeh/release/bokeh-gl-0.12.13.min.js\"];\n\n  var inline_js = [\n    function(Bokeh) {\n      Bokeh.set_log_level(\"info\");\n    },\n    \n    function(Bokeh) {\n      \n    },\n    function(Bokeh) {\n      console.log(\"Bokeh: injecting CSS: https://cdn.pydata.org/bokeh/release/bokeh-0.12.13.min.css\");\n      Bokeh.embed.inject_css(\"https://cdn.pydata.org/bokeh/release/bokeh-0.12.13.min.css\");\n      console.log(\"Bokeh: injecting CSS: https://cdn.pydata.org/bokeh/release/bokeh-widgets-0.12.13.min.css\");\n      Bokeh.embed.inject_css(\"https://cdn.pydata.org/bokeh/release/bokeh-widgets-0.12.13.min.css\");\n      console.log(\"Bokeh: injecting CSS: https://cdn.pydata.org/bokeh/release/bokeh-tables-0.12.13.min.css\");\n      Bokeh.embed.inject_css(\"https://cdn.pydata.org/bokeh/release/bokeh-tables-0.12.13.min.css\");\n    }\n  ];\n\n  function run_inline_js() {\n    \n    if ((root.Bokeh !== undefined) || (force === true)) {\n      for (var i = 0; i < inline_js.length; i++) {\n        inline_js[i].call(root, root.Bokeh);\n      }if (force === true) {\n        display_loaded();\n      }} else if (Date.now() < root._bokeh_timeout) {\n      setTimeout(run_inline_js, 100);\n    } else if (!root._bokeh_failed_load) {\n      console.log(\"Bokeh: BokehJS failed to load within specified timeout.\");\n      root._bokeh_failed_load = true;\n    } else if (force !== true) {\n      var cell = $(document.getElementById(\"fb970e01-9b39-4633-9204-10a2f02b1365\")).parents('.cell').data().cell;\n      cell.output_area.append_execute_result(NB_LOAD_WARNING)\n    }\n\n  }\n\n  if (root._bokeh_is_loading === 0) {\n    console.log(\"Bokeh: BokehJS loaded, going straight to plotting\");\n    run_inline_js();\n  } else {\n    load_libs(js_urls, function() {\n      console.log(\"Bokeh: BokehJS plotting callback run at\", now());\n      run_inline_js();\n    });\n  }\n}(window));"
     },
     "metadata": {},
     "output_type": "display_data"
    }
   ],
   "source": [
    "from bokeh.io import output_notebook, show\n",
    "from bokeh.plotting import figure \n",
    "output_notebook()"
   ]
  },
  {
   "cell_type": "markdown",
   "metadata": {},
   "source": [
    "## Colors and Properties\n",
    "### Colors\n",
    "There are many places where you may need to specify colors. Bokeh can accept colors in a variety of different ways:\n",
    "\n",
    "- any of the 147 named CSS colors, e.g 'green', 'indigo'\n",
    "- an RGB(A) hex value, e.g., '#FF0000', '#44444444'\n",
    "- a 3-tuple of integers (r,g,b) between 0 and 255\n",
    "- a 4-tuple of (r,g,b,a) where r, g, b are integers between 0 and 255 and a is a floating point value between 0 and 1"
   ]
  },
  {
   "cell_type": "markdown",
   "metadata": {},
   "source": [
    "## Plots"
   ]
  },
  {
   "cell_type": "code",
   "execution_count": 2,
   "metadata": {},
   "outputs": [
    {
     "data": {
      "text/html": [
       "\n",
       "<div class=\"bk-root\">\n",
       "    <div class=\"bk-plotdiv\" id=\"a3b1f1f9-139f-4283-882b-3fabe004cdae\"></div>\n",
       "</div>"
      ]
     },
     "metadata": {},
     "output_type": "display_data"
    },
    {
     "data": {
      "application/javascript": [
       "(function(root) {\n",
       "  function embed_document(root) {\n",
       "    \n",
       "  var docs_json = {\"0de09cc7-2205-4319-a676-6314d7d474e0\":{\"roots\":{\"references\":[{\"attributes\":{\"dimension\":1,\"plot\":{\"id\":\"a4cbcaa9-fc3c-494e-ae2f-cccdbb72b390\",\"subtype\":\"Figure\",\"type\":\"Plot\"},\"ticker\":{\"id\":\"b0a3e2b0-787b-4696-8e33-fed5a408655c\",\"type\":\"BasicTicker\"}},\"id\":\"74351f1e-e695-4667-9e8b-863666a4fa9c\",\"type\":\"Grid\"},{\"attributes\":{\"fill_color\":{\"value\":\"#1f77b4\"},\"line_color\":{\"value\":\"#1f77b4\"},\"size\":{\"units\":\"screen\",\"value\":10},\"x\":{\"field\":\"x\"},\"y\":{\"field\":\"y\"}},\"id\":\"1357c931-804e-43c5-b731-c17dd224a285\",\"type\":\"Circle\"},{\"attributes\":{\"bottom_units\":\"screen\",\"fill_alpha\":{\"value\":0.5},\"fill_color\":{\"value\":\"lightgrey\"},\"left_units\":\"screen\",\"level\":\"overlay\",\"line_alpha\":{\"value\":1.0},\"line_color\":{\"value\":\"black\"},\"line_dash\":[4,4],\"line_width\":{\"value\":2},\"plot\":null,\"render_mode\":\"css\",\"right_units\":\"screen\",\"top_units\":\"screen\"},\"id\":\"22a26185-4bc4-47c3-af9a-26c944953f56\",\"type\":\"BoxAnnotation\"},{\"attributes\":{\"active_drag\":\"auto\",\"active_inspect\":\"auto\",\"active_scroll\":\"auto\",\"active_tap\":\"auto\",\"tools\":[{\"id\":\"5e8fc382-d93b-49a2-aff7-62633e4fb140\",\"type\":\"PanTool\"},{\"id\":\"54ec3d0e-ce48-4feb-92e1-d85b26daa2dd\",\"type\":\"WheelZoomTool\"},{\"id\":\"d0995ffb-e00e-4d26-9332-4e9879a342e4\",\"type\":\"BoxZoomTool\"},{\"id\":\"9f7c52d5-474c-461a-b637-939e46bbd411\",\"type\":\"SaveTool\"},{\"id\":\"1ee2fbe9-e61b-4e1c-a776-67c8bc5098cd\",\"type\":\"ResetTool\"},{\"id\":\"3291851f-7142-4b9a-97ae-cefc2e4dfd0d\",\"type\":\"HelpTool\"}]},\"id\":\"cd08252c-4ac6-412d-a523-5a523ec578e1\",\"type\":\"Toolbar\"},{\"attributes\":{\"callback\":null,\"column_names\":[\"x\",\"y\"],\"data\":{\"x\":[1,2,3,4,5],\"y\":[2,5,8,2,7]}},\"id\":\"55464fb2-33a4-4d22-848d-02f4a7473a60\",\"type\":\"ColumnDataSource\"},{\"attributes\":{\"callback\":null},\"id\":\"3311b95b-6a81-41a2-b884-29d159d3ebdb\",\"type\":\"DataRange1d\"},{\"attributes\":{},\"id\":\"5e8fc382-d93b-49a2-aff7-62633e4fb140\",\"type\":\"PanTool\"},{\"attributes\":{\"callback\":null},\"id\":\"7760a9c3-ec9b-4936-8d6d-c3dbcab57c75\",\"type\":\"DataRange1d\"},{\"attributes\":{},\"id\":\"54ec3d0e-ce48-4feb-92e1-d85b26daa2dd\",\"type\":\"WheelZoomTool\"},{\"attributes\":{},\"id\":\"81d75e76-c0c3-4541-a130-95332c044306\",\"type\":\"LinearScale\"},{\"attributes\":{\"overlay\":{\"id\":\"22a26185-4bc4-47c3-af9a-26c944953f56\",\"type\":\"BoxAnnotation\"}},\"id\":\"d0995ffb-e00e-4d26-9332-4e9879a342e4\",\"type\":\"BoxZoomTool\"},{\"attributes\":{\"data_source\":{\"id\":\"55464fb2-33a4-4d22-848d-02f4a7473a60\",\"type\":\"ColumnDataSource\"},\"glyph\":{\"id\":\"1357c931-804e-43c5-b731-c17dd224a285\",\"type\":\"Circle\"},\"hover_glyph\":null,\"muted_glyph\":null,\"nonselection_glyph\":{\"id\":\"bab6ca82-0d7c-45bd-a83d-f316e8d6ba37\",\"type\":\"Circle\"},\"selection_glyph\":null,\"view\":{\"id\":\"c914cc3c-f9e0-402d-8185-36b77e6b1f9d\",\"type\":\"CDSView\"}},\"id\":\"f22a98a8-12a9-4686-949a-6013a34b6884\",\"type\":\"GlyphRenderer\"},{\"attributes\":{\"fill_alpha\":{\"value\":0.1},\"fill_color\":{\"value\":\"#1f77b4\"},\"line_alpha\":{\"value\":0.1},\"line_color\":{\"value\":\"#1f77b4\"},\"size\":{\"units\":\"screen\",\"value\":10},\"x\":{\"field\":\"x\"},\"y\":{\"field\":\"y\"}},\"id\":\"bab6ca82-0d7c-45bd-a83d-f316e8d6ba37\",\"type\":\"Circle\"},{\"attributes\":{},\"id\":\"78979364-b067-49bf-92d5-bb8bfdf312f5\",\"type\":\"LinearScale\"},{\"attributes\":{},\"id\":\"36bbef37-6d36-4cce-a797-b7e31e37a490\",\"type\":\"BasicTickFormatter\"},{\"attributes\":{},\"id\":\"9f7c52d5-474c-461a-b637-939e46bbd411\",\"type\":\"SaveTool\"},{\"attributes\":{},\"id\":\"1ee2fbe9-e61b-4e1c-a776-67c8bc5098cd\",\"type\":\"ResetTool\"},{\"attributes\":{},\"id\":\"681ff17d-ee40-478a-87cd-37ae0f450e97\",\"type\":\"BasicTickFormatter\"},{\"attributes\":{},\"id\":\"3291851f-7142-4b9a-97ae-cefc2e4dfd0d\",\"type\":\"HelpTool\"},{\"attributes\":{\"formatter\":{\"id\":\"681ff17d-ee40-478a-87cd-37ae0f450e97\",\"type\":\"BasicTickFormatter\"},\"plot\":{\"id\":\"a4cbcaa9-fc3c-494e-ae2f-cccdbb72b390\",\"subtype\":\"Figure\",\"type\":\"Plot\"},\"ticker\":{\"id\":\"6ffe4b78-3bb9-453a-9721-c175c4e0cb42\",\"type\":\"BasicTicker\"}},\"id\":\"ea887307-d36c-46fb-ba79-336a8805e8a8\",\"type\":\"LinearAxis\"},{\"attributes\":{\"plot\":null,\"text\":\"\"},\"id\":\"319ac313-94e3-4129-8432-ae5938282907\",\"type\":\"Title\"},{\"attributes\":{\"source\":{\"id\":\"55464fb2-33a4-4d22-848d-02f4a7473a60\",\"type\":\"ColumnDataSource\"}},\"id\":\"c914cc3c-f9e0-402d-8185-36b77e6b1f9d\",\"type\":\"CDSView\"},{\"attributes\":{},\"id\":\"6ffe4b78-3bb9-453a-9721-c175c4e0cb42\",\"type\":\"BasicTicker\"},{\"attributes\":{\"plot\":{\"id\":\"a4cbcaa9-fc3c-494e-ae2f-cccdbb72b390\",\"subtype\":\"Figure\",\"type\":\"Plot\"},\"ticker\":{\"id\":\"6ffe4b78-3bb9-453a-9721-c175c4e0cb42\",\"type\":\"BasicTicker\"}},\"id\":\"a3b8c910-4d8f-459e-b411-92f04c6eb2aa\",\"type\":\"Grid\"},{\"attributes\":{\"formatter\":{\"id\":\"36bbef37-6d36-4cce-a797-b7e31e37a490\",\"type\":\"BasicTickFormatter\"},\"plot\":{\"id\":\"a4cbcaa9-fc3c-494e-ae2f-cccdbb72b390\",\"subtype\":\"Figure\",\"type\":\"Plot\"},\"ticker\":{\"id\":\"b0a3e2b0-787b-4696-8e33-fed5a408655c\",\"type\":\"BasicTicker\"}},\"id\":\"8384830f-8ca8-4b96-aa9a-eb0fd2bd9bee\",\"type\":\"LinearAxis\"},{\"attributes\":{},\"id\":\"b0a3e2b0-787b-4696-8e33-fed5a408655c\",\"type\":\"BasicTicker\"},{\"attributes\":{\"below\":[{\"id\":\"ea887307-d36c-46fb-ba79-336a8805e8a8\",\"type\":\"LinearAxis\"}],\"left\":[{\"id\":\"8384830f-8ca8-4b96-aa9a-eb0fd2bd9bee\",\"type\":\"LinearAxis\"}],\"outline_line_alpha\":{\"value\":0.3},\"outline_line_color\":{\"value\":\"navy\"},\"outline_line_width\":{\"value\":7},\"plot_height\":400,\"plot_width\":400,\"renderers\":[{\"id\":\"ea887307-d36c-46fb-ba79-336a8805e8a8\",\"type\":\"LinearAxis\"},{\"id\":\"a3b8c910-4d8f-459e-b411-92f04c6eb2aa\",\"type\":\"Grid\"},{\"id\":\"8384830f-8ca8-4b96-aa9a-eb0fd2bd9bee\",\"type\":\"LinearAxis\"},{\"id\":\"74351f1e-e695-4667-9e8b-863666a4fa9c\",\"type\":\"Grid\"},{\"id\":\"22a26185-4bc4-47c3-af9a-26c944953f56\",\"type\":\"BoxAnnotation\"},{\"id\":\"f22a98a8-12a9-4686-949a-6013a34b6884\",\"type\":\"GlyphRenderer\"}],\"title\":{\"id\":\"319ac313-94e3-4129-8432-ae5938282907\",\"type\":\"Title\"},\"toolbar\":{\"id\":\"cd08252c-4ac6-412d-a523-5a523ec578e1\",\"type\":\"Toolbar\"},\"x_range\":{\"id\":\"3311b95b-6a81-41a2-b884-29d159d3ebdb\",\"type\":\"DataRange1d\"},\"x_scale\":{\"id\":\"81d75e76-c0c3-4541-a130-95332c044306\",\"type\":\"LinearScale\"},\"y_range\":{\"id\":\"7760a9c3-ec9b-4936-8d6d-c3dbcab57c75\",\"type\":\"DataRange1d\"},\"y_scale\":{\"id\":\"78979364-b067-49bf-92d5-bb8bfdf312f5\",\"type\":\"LinearScale\"}},\"id\":\"a4cbcaa9-fc3c-494e-ae2f-cccdbb72b390\",\"subtype\":\"Figure\",\"type\":\"Plot\"}],\"root_ids\":[\"a4cbcaa9-fc3c-494e-ae2f-cccdbb72b390\"]},\"title\":\"Bokeh Application\",\"version\":\"0.12.13\"}};\n",
       "  var render_items = [{\"docid\":\"0de09cc7-2205-4319-a676-6314d7d474e0\",\"elementid\":\"a3b1f1f9-139f-4283-882b-3fabe004cdae\",\"modelid\":\"a4cbcaa9-fc3c-494e-ae2f-cccdbb72b390\"}];\n",
       "  root.Bokeh.embed.embed_items_notebook(docs_json, render_items);\n",
       "\n",
       "  }\n",
       "  if (root.Bokeh !== undefined) {\n",
       "    embed_document(root);\n",
       "  } else {\n",
       "    var attempts = 0;\n",
       "    var timer = setInterval(function(root) {\n",
       "      if (root.Bokeh !== undefined) {\n",
       "        embed_document(root);\n",
       "        clearInterval(timer);\n",
       "      }\n",
       "      attempts++;\n",
       "      if (attempts > 100) {\n",
       "        console.log(\"Bokeh: ERROR: Unable to run BokehJS code because BokehJS library is missing\")\n",
       "        clearInterval(timer);\n",
       "      }\n",
       "    }, 10, root)\n",
       "  }\n",
       "})(window);"
      ],
      "application/vnd.bokehjs_exec.v0+json": ""
     },
     "metadata": {
      "application/vnd.bokehjs_exec.v0+json": {
       "id": "a4cbcaa9-fc3c-494e-ae2f-cccdbb72b390"
      }
     },
     "output_type": "display_data"
    }
   ],
   "source": [
    "# create a new plot with a title\n",
    "p = figure(plot_width=400, plot_height=400)\n",
    "p.outline_line_width = 7\n",
    "p.outline_line_alpha = 0.3\n",
    "p.outline_line_color = \"navy\"\n",
    "\n",
    "p.circle([1,2,3,4,5], [2,5,8,2,7], size=10)\n",
    "\n",
    "show(p)"
   ]
  },
  {
   "cell_type": "markdown",
   "metadata": {},
   "source": [
    "## Glyphs"
   ]
  },
  {
   "cell_type": "code",
   "execution_count": 3,
   "metadata": {},
   "outputs": [
    {
     "data": {
      "text/html": [
       "\n",
       "<div class=\"bk-root\">\n",
       "    <div class=\"bk-plotdiv\" id=\"d063022a-2531-434d-9e83-3c6b13715ca9\"></div>\n",
       "</div>"
      ]
     },
     "metadata": {},
     "output_type": "display_data"
    },
    {
     "data": {
      "application/javascript": [
       "(function(root) {\n",
       "  function embed_document(root) {\n",
       "    \n",
       "  var docs_json = {\"8d2d2c3d-d71c-4147-a757-28893f315c53\":{\"roots\":{\"references\":[{\"attributes\":{\"below\":[{\"id\":\"d14d49cc-177f-4846-a5a9-e9f11cc9fd81\",\"type\":\"LinearAxis\"}],\"left\":[{\"id\":\"c5004234-06ad-41c6-9674-d7c980f166ff\",\"type\":\"LinearAxis\"}],\"plot_height\":400,\"plot_width\":400,\"renderers\":[{\"id\":\"d14d49cc-177f-4846-a5a9-e9f11cc9fd81\",\"type\":\"LinearAxis\"},{\"id\":\"b9cdaf6d-3d6f-4be0-b2d1-7f14c5a892dc\",\"type\":\"Grid\"},{\"id\":\"c5004234-06ad-41c6-9674-d7c980f166ff\",\"type\":\"LinearAxis\"},{\"id\":\"66b2c832-92e5-4df9-a012-e0b4c8c69483\",\"type\":\"Grid\"},{\"id\":\"489bbaf0-d310-42e1-b6b5-68de08cea90e\",\"type\":\"BoxAnnotation\"},{\"id\":\"519ba935-977f-4e0f-afde-0e0d075dc03c\",\"type\":\"GlyphRenderer\"}],\"title\":{\"id\":\"ca5b9032-3efd-4994-82e8-6a0e6839536e\",\"type\":\"Title\"},\"toolbar\":{\"id\":\"4f2b74be-172b-4896-9664-cfba0afb87c5\",\"type\":\"Toolbar\"},\"x_range\":{\"id\":\"a5b29b65-ca45-4c00-808c-0fe8787f7931\",\"type\":\"DataRange1d\"},\"x_scale\":{\"id\":\"f6fc8627-19f1-489d-90db-5ef4aabb5911\",\"type\":\"LinearScale\"},\"y_range\":{\"id\":\"4ab3d6df-e78c-4ef1-8267-7d6a4301fee9\",\"type\":\"DataRange1d\"},\"y_scale\":{\"id\":\"62bb43d2-2899-4315-8f6f-9268075f18f2\",\"type\":\"LinearScale\"}},\"id\":\"351a057f-6488-45e9-8479-770c100e245d\",\"subtype\":\"Figure\",\"type\":\"Plot\"},{\"attributes\":{\"bottom_units\":\"screen\",\"fill_alpha\":{\"value\":0.5},\"fill_color\":{\"value\":\"lightgrey\"},\"left_units\":\"screen\",\"level\":\"overlay\",\"line_alpha\":{\"value\":1.0},\"line_color\":{\"value\":\"black\"},\"line_dash\":[4,4],\"line_width\":{\"value\":2},\"plot\":null,\"render_mode\":\"css\",\"right_units\":\"screen\",\"top_units\":\"screen\"},\"id\":\"489bbaf0-d310-42e1-b6b5-68de08cea90e\",\"type\":\"BoxAnnotation\"},{\"attributes\":{\"formatter\":{\"id\":\"8181e59c-8e67-4cf4-bb2e-e53af55ce93c\",\"type\":\"BasicTickFormatter\"},\"plot\":{\"id\":\"351a057f-6488-45e9-8479-770c100e245d\",\"subtype\":\"Figure\",\"type\":\"Plot\"},\"ticker\":{\"id\":\"f70bc831-2b74-4f72-9a1e-442656710737\",\"type\":\"BasicTicker\"}},\"id\":\"c5004234-06ad-41c6-9674-d7c980f166ff\",\"type\":\"LinearAxis\"},{\"attributes\":{},\"id\":\"62bb43d2-2899-4315-8f6f-9268075f18f2\",\"type\":\"LinearScale\"},{\"attributes\":{\"data_source\":{\"id\":\"4033ea79-cca5-4c65-b989-cc0b9ad6566f\",\"type\":\"ColumnDataSource\"},\"glyph\":{\"id\":\"0fef5bf2-5131-4722-9909-705661915c61\",\"type\":\"Circle\"},\"hover_glyph\":null,\"muted_glyph\":null,\"nonselection_glyph\":{\"id\":\"b219d6a3-fa57-44dd-9574-db359709986c\",\"type\":\"Circle\"},\"selection_glyph\":null,\"view\":{\"id\":\"98ee1530-493e-4ebc-b1e7-833ae3c75fc9\",\"type\":\"CDSView\"}},\"id\":\"519ba935-977f-4e0f-afde-0e0d075dc03c\",\"type\":\"GlyphRenderer\"},{\"attributes\":{\"fill_alpha\":{\"value\":0.1},\"fill_color\":{\"value\":\"#1f77b4\"},\"line_alpha\":{\"value\":0.1},\"line_color\":{\"value\":\"#1f77b4\"},\"x\":{\"field\":\"x\"},\"y\":{\"field\":\"y\"}},\"id\":\"b219d6a3-fa57-44dd-9574-db359709986c\",\"type\":\"Circle\"},{\"attributes\":{\"plot\":null,\"text\":\"\"},\"id\":\"ca5b9032-3efd-4994-82e8-6a0e6839536e\",\"type\":\"Title\"},{\"attributes\":{},\"id\":\"f70bc831-2b74-4f72-9a1e-442656710737\",\"type\":\"BasicTicker\"},{\"attributes\":{\"plot\":{\"id\":\"351a057f-6488-45e9-8479-770c100e245d\",\"subtype\":\"Figure\",\"type\":\"Plot\"},\"ticker\":{\"id\":\"9885bf59-4aeb-49af-8e6c-e3387f4f18bd\",\"type\":\"BasicTicker\"}},\"id\":\"b9cdaf6d-3d6f-4be0-b2d1-7f14c5a892dc\",\"type\":\"Grid\"},{\"attributes\":{\"callback\":null,\"column_names\":[\"x\",\"y\"],\"data\":{\"x\":[1,2,3,4,5],\"y\":[2,5,8,2,7]}},\"id\":\"4033ea79-cca5-4c65-b989-cc0b9ad6566f\",\"type\":\"ColumnDataSource\"},{\"attributes\":{},\"id\":\"f6fc8627-19f1-489d-90db-5ef4aabb5911\",\"type\":\"LinearScale\"},{\"attributes\":{},\"id\":\"eececc4f-512e-4546-9109-f2652576d15e\",\"type\":\"BasicTickFormatter\"},{\"attributes\":{\"formatter\":{\"id\":\"eececc4f-512e-4546-9109-f2652576d15e\",\"type\":\"BasicTickFormatter\"},\"plot\":{\"id\":\"351a057f-6488-45e9-8479-770c100e245d\",\"subtype\":\"Figure\",\"type\":\"Plot\"},\"ticker\":{\"id\":\"9885bf59-4aeb-49af-8e6c-e3387f4f18bd\",\"type\":\"BasicTicker\"}},\"id\":\"d14d49cc-177f-4846-a5a9-e9f11cc9fd81\",\"type\":\"LinearAxis\"},{\"attributes\":{\"dimension\":1,\"plot\":{\"id\":\"351a057f-6488-45e9-8479-770c100e245d\",\"subtype\":\"Figure\",\"type\":\"Plot\"},\"ticker\":{\"id\":\"f70bc831-2b74-4f72-9a1e-442656710737\",\"type\":\"BasicTicker\"}},\"id\":\"66b2c832-92e5-4df9-a012-e0b4c8c69483\",\"type\":\"Grid\"},{\"attributes\":{},\"id\":\"8181e59c-8e67-4cf4-bb2e-e53af55ce93c\",\"type\":\"BasicTickFormatter\"},{\"attributes\":{},\"id\":\"848a0663-e445-4834-a569-91e77955cea2\",\"type\":\"ResetTool\"},{\"attributes\":{},\"id\":\"292f2ae1-f4c7-448e-b949-fba015501485\",\"type\":\"PanTool\"},{\"attributes\":{},\"id\":\"c4371797-e97e-4ea6-91f7-e88d20614865\",\"type\":\"SaveTool\"},{\"attributes\":{\"source\":{\"id\":\"4033ea79-cca5-4c65-b989-cc0b9ad6566f\",\"type\":\"ColumnDataSource\"}},\"id\":\"98ee1530-493e-4ebc-b1e7-833ae3c75fc9\",\"type\":\"CDSView\"},{\"attributes\":{},\"id\":\"9885bf59-4aeb-49af-8e6c-e3387f4f18bd\",\"type\":\"BasicTicker\"},{\"attributes\":{\"fill_alpha\":{\"value\":0.2},\"fill_color\":{\"value\":\"#1f77b4\"},\"line_color\":{\"value\":\"firebrick\"},\"line_dash\":[5,1],\"line_width\":{\"value\":2},\"size\":{\"units\":\"screen\",\"value\":50},\"x\":{\"field\":\"x\"},\"y\":{\"field\":\"y\"}},\"id\":\"0fef5bf2-5131-4722-9909-705661915c61\",\"type\":\"Circle\"},{\"attributes\":{},\"id\":\"499c4003-bc8d-42ca-b70e-8ab58ce2f613\",\"type\":\"WheelZoomTool\"},{\"attributes\":{\"active_drag\":\"auto\",\"active_inspect\":\"auto\",\"active_scroll\":\"auto\",\"active_tap\":\"auto\",\"tools\":[{\"id\":\"292f2ae1-f4c7-448e-b949-fba015501485\",\"type\":\"PanTool\"},{\"id\":\"499c4003-bc8d-42ca-b70e-8ab58ce2f613\",\"type\":\"WheelZoomTool\"},{\"id\":\"3503c099-5223-40bb-b36c-156feb36f4f1\",\"type\":\"BoxZoomTool\"},{\"id\":\"c4371797-e97e-4ea6-91f7-e88d20614865\",\"type\":\"SaveTool\"},{\"id\":\"848a0663-e445-4834-a569-91e77955cea2\",\"type\":\"ResetTool\"},{\"id\":\"996f2d60-9480-40ab-b4dc-d324017e345f\",\"type\":\"HelpTool\"}]},\"id\":\"4f2b74be-172b-4896-9664-cfba0afb87c5\",\"type\":\"Toolbar\"},{\"attributes\":{\"callback\":null},\"id\":\"4ab3d6df-e78c-4ef1-8267-7d6a4301fee9\",\"type\":\"DataRange1d\"},{\"attributes\":{},\"id\":\"996f2d60-9480-40ab-b4dc-d324017e345f\",\"type\":\"HelpTool\"},{\"attributes\":{\"callback\":null},\"id\":\"a5b29b65-ca45-4c00-808c-0fe8787f7931\",\"type\":\"DataRange1d\"},{\"attributes\":{\"overlay\":{\"id\":\"489bbaf0-d310-42e1-b6b5-68de08cea90e\",\"type\":\"BoxAnnotation\"}},\"id\":\"3503c099-5223-40bb-b36c-156feb36f4f1\",\"type\":\"BoxZoomTool\"}],\"root_ids\":[\"351a057f-6488-45e9-8479-770c100e245d\"]},\"title\":\"Bokeh Application\",\"version\":\"0.12.13\"}};\n",
       "  var render_items = [{\"docid\":\"8d2d2c3d-d71c-4147-a757-28893f315c53\",\"elementid\":\"d063022a-2531-434d-9e83-3c6b13715ca9\",\"modelid\":\"351a057f-6488-45e9-8479-770c100e245d\"}];\n",
       "  root.Bokeh.embed.embed_items_notebook(docs_json, render_items);\n",
       "\n",
       "  }\n",
       "  if (root.Bokeh !== undefined) {\n",
       "    embed_document(root);\n",
       "  } else {\n",
       "    var attempts = 0;\n",
       "    var timer = setInterval(function(root) {\n",
       "      if (root.Bokeh !== undefined) {\n",
       "        embed_document(root);\n",
       "        clearInterval(timer);\n",
       "      }\n",
       "      attempts++;\n",
       "      if (attempts > 100) {\n",
       "        console.log(\"Bokeh: ERROR: Unable to run BokehJS code because BokehJS library is missing\")\n",
       "        clearInterval(timer);\n",
       "      }\n",
       "    }, 10, root)\n",
       "  }\n",
       "})(window);"
      ],
      "application/vnd.bokehjs_exec.v0+json": ""
     },
     "metadata": {
      "application/vnd.bokehjs_exec.v0+json": {
       "id": "351a057f-6488-45e9-8479-770c100e245d"
      }
     },
     "output_type": "display_data"
    }
   ],
   "source": [
    "p = figure(plot_width=400, plot_height=400)\n",
    "\n",
    "# keep a reference to the returned GlyphRenderer\n",
    "r = p.circle([1,2,3,4,5], [2,5,8,2,7])\n",
    "\n",
    "r.glyph.size = 50\n",
    "r.glyph.fill_alpha = 0.2\n",
    "r.glyph.line_color = \"firebrick\"\n",
    "r.glyph.line_dash = [5, 1]\n",
    "r.glyph.line_width = 2\n",
    "\n",
    "show(p)"
   ]
  },
  {
   "cell_type": "markdown",
   "metadata": {},
   "source": [
    "### Selection and non-selection visuals"
   ]
  },
  {
   "cell_type": "code",
   "execution_count": 4,
   "metadata": {},
   "outputs": [
    {
     "data": {
      "text/html": [
       "\n",
       "<div class=\"bk-root\">\n",
       "    <div class=\"bk-plotdiv\" id=\"6fef1187-b10c-4568-8346-830338547a9f\"></div>\n",
       "</div>"
      ]
     },
     "metadata": {},
     "output_type": "display_data"
    },
    {
     "data": {
      "application/javascript": [
       "(function(root) {\n",
       "  function embed_document(root) {\n",
       "    \n",
       "  var docs_json = {\"93adca4a-f6cd-404f-b330-8b9438e4a996\":{\"roots\":{\"references\":[{\"attributes\":{},\"id\":\"1242e436-9601-49bb-a3b5-4e44da5464d0\",\"type\":\"BasicTicker\"},{\"attributes\":{},\"id\":\"6f41c34a-f321-4e9b-9795-96d4448e0c62\",\"type\":\"LinearScale\"},{\"attributes\":{\"formatter\":{\"id\":\"6ba91f79-0ef1-47ef-a72f-a072bc3f6035\",\"type\":\"BasicTickFormatter\"},\"plot\":{\"id\":\"aa713e8d-c17b-4274-8720-39d278bf0748\",\"subtype\":\"Figure\",\"type\":\"Plot\"},\"ticker\":{\"id\":\"1242e436-9601-49bb-a3b5-4e44da5464d0\",\"type\":\"BasicTicker\"}},\"id\":\"9ae0f0e7-a3c6-463c-8482-07082c25c7a9\",\"type\":\"LinearAxis\"},{\"attributes\":{\"fill_color\":{\"value\":\"#1f77b4\"},\"line_color\":{\"value\":\"#1f77b4\"},\"size\":{\"units\":\"screen\",\"value\":50},\"x\":{\"field\":\"x\"},\"y\":{\"field\":\"y\"}},\"id\":\"7c630835-5da4-4b2f-a79f-4386d6dc1b43\",\"type\":\"Circle\"},{\"attributes\":{\"dimension\":1,\"plot\":{\"id\":\"aa713e8d-c17b-4274-8720-39d278bf0748\",\"subtype\":\"Figure\",\"type\":\"Plot\"},\"ticker\":{\"id\":\"1242e436-9601-49bb-a3b5-4e44da5464d0\",\"type\":\"BasicTicker\"}},\"id\":\"29a13327-f5e7-4a35-9e0e-70e0c58beafa\",\"type\":\"Grid\"},{\"attributes\":{\"fill_alpha\":{\"value\":0.2},\"fill_color\":{\"value\":\"grey\"},\"line_color\":{\"value\":\"firebrick\"},\"size\":{\"units\":\"screen\",\"value\":50},\"x\":{\"field\":\"x\"},\"y\":{\"field\":\"y\"}},\"id\":\"324d5705-7276-455d-8942-6344bba1a2de\",\"type\":\"Circle\"},{\"attributes\":{\"callback\":null,\"column_names\":[\"x\",\"y\"],\"data\":{\"x\":[1,2,3,4,5],\"y\":[2,5,8,2,7]}},\"id\":\"fa8534e2-0684-4208-b981-4f4be3930dbe\",\"type\":\"ColumnDataSource\"},{\"attributes\":{\"fill_color\":{\"value\":\"firebrick\"},\"line_color\":{\"value\":\"firebrick\"},\"size\":{\"units\":\"screen\",\"value\":50},\"x\":{\"field\":\"x\"},\"y\":{\"field\":\"y\"}},\"id\":\"744d02e3-e57a-4053-b181-5b05b59ea962\",\"type\":\"Circle\"},{\"attributes\":{},\"id\":\"fb3a78d1-aaaf-4105-9d39-236550b7dc62\",\"type\":\"BasicTickFormatter\"},{\"attributes\":{\"data_source\":{\"id\":\"fa8534e2-0684-4208-b981-4f4be3930dbe\",\"type\":\"ColumnDataSource\"},\"glyph\":{\"id\":\"7c630835-5da4-4b2f-a79f-4386d6dc1b43\",\"type\":\"Circle\"},\"hover_glyph\":null,\"muted_glyph\":null,\"nonselection_glyph\":{\"id\":\"324d5705-7276-455d-8942-6344bba1a2de\",\"type\":\"Circle\"},\"selection_glyph\":{\"id\":\"744d02e3-e57a-4053-b181-5b05b59ea962\",\"type\":\"Circle\"},\"view\":{\"id\":\"49e4aa8e-7a71-49a2-b09c-33fcb1b051ef\",\"type\":\"CDSView\"}},\"id\":\"8c0eeb41-8490-47cf-b746-1acca67a90d3\",\"type\":\"GlyphRenderer\"},{\"attributes\":{\"plot\":{\"id\":\"aa713e8d-c17b-4274-8720-39d278bf0748\",\"subtype\":\"Figure\",\"type\":\"Plot\"},\"ticker\":{\"id\":\"bc7c5db7-0912-4792-8731-bdd0ab382b44\",\"type\":\"BasicTicker\"}},\"id\":\"ae4fd04c-2bb8-4ce5-9a2d-9b2bf01ec09f\",\"type\":\"Grid\"},{\"attributes\":{\"callback\":null},\"id\":\"d7cf04e4-aa8f-4be1-b978-a324d8ee2cdb\",\"type\":\"DataRange1d\"},{\"attributes\":{\"callback\":null},\"id\":\"9541ead3-bb00-4b8a-a5bf-9db8000ad68c\",\"type\":\"TapTool\"},{\"attributes\":{\"source\":{\"id\":\"fa8534e2-0684-4208-b981-4f4be3930dbe\",\"type\":\"ColumnDataSource\"}},\"id\":\"49e4aa8e-7a71-49a2-b09c-33fcb1b051ef\",\"type\":\"CDSView\"},{\"attributes\":{\"callback\":null},\"id\":\"48fbc844-bca1-4cc9-8190-172cba799768\",\"type\":\"DataRange1d\"},{\"attributes\":{\"below\":[{\"id\":\"5a8c5ea3-88a3-47d7-97cb-821607309971\",\"type\":\"LinearAxis\"}],\"left\":[{\"id\":\"9ae0f0e7-a3c6-463c-8482-07082c25c7a9\",\"type\":\"LinearAxis\"}],\"plot_height\":400,\"plot_width\":400,\"renderers\":[{\"id\":\"5a8c5ea3-88a3-47d7-97cb-821607309971\",\"type\":\"LinearAxis\"},{\"id\":\"ae4fd04c-2bb8-4ce5-9a2d-9b2bf01ec09f\",\"type\":\"Grid\"},{\"id\":\"9ae0f0e7-a3c6-463c-8482-07082c25c7a9\",\"type\":\"LinearAxis\"},{\"id\":\"29a13327-f5e7-4a35-9e0e-70e0c58beafa\",\"type\":\"Grid\"},{\"id\":\"8c0eeb41-8490-47cf-b746-1acca67a90d3\",\"type\":\"GlyphRenderer\"}],\"title\":{\"id\":\"713a0773-a50d-4dfd-90ad-12155ed79f56\",\"type\":\"Title\"},\"toolbar\":{\"id\":\"a782da2f-03ff-4a0f-8c3f-e7a4763f0a1b\",\"type\":\"Toolbar\"},\"x_range\":{\"id\":\"48fbc844-bca1-4cc9-8190-172cba799768\",\"type\":\"DataRange1d\"},\"x_scale\":{\"id\":\"132610c2-9093-4def-9baa-6c89a317f172\",\"type\":\"LinearScale\"},\"y_range\":{\"id\":\"d7cf04e4-aa8f-4be1-b978-a324d8ee2cdb\",\"type\":\"DataRange1d\"},\"y_scale\":{\"id\":\"6f41c34a-f321-4e9b-9795-96d4448e0c62\",\"type\":\"LinearScale\"}},\"id\":\"aa713e8d-c17b-4274-8720-39d278bf0748\",\"subtype\":\"Figure\",\"type\":\"Plot\"},{\"attributes\":{\"active_drag\":\"auto\",\"active_inspect\":\"auto\",\"active_scroll\":\"auto\",\"active_tap\":\"auto\",\"tools\":[{\"id\":\"9541ead3-bb00-4b8a-a5bf-9db8000ad68c\",\"type\":\"TapTool\"}]},\"id\":\"a782da2f-03ff-4a0f-8c3f-e7a4763f0a1b\",\"type\":\"Toolbar\"},{\"attributes\":{},\"id\":\"6ba91f79-0ef1-47ef-a72f-a072bc3f6035\",\"type\":\"BasicTickFormatter\"},{\"attributes\":{\"plot\":null,\"text\":\"Select a circle\"},\"id\":\"713a0773-a50d-4dfd-90ad-12155ed79f56\",\"type\":\"Title\"},{\"attributes\":{},\"id\":\"bc7c5db7-0912-4792-8731-bdd0ab382b44\",\"type\":\"BasicTicker\"},{\"attributes\":{},\"id\":\"132610c2-9093-4def-9baa-6c89a317f172\",\"type\":\"LinearScale\"},{\"attributes\":{\"formatter\":{\"id\":\"fb3a78d1-aaaf-4105-9d39-236550b7dc62\",\"type\":\"BasicTickFormatter\"},\"plot\":{\"id\":\"aa713e8d-c17b-4274-8720-39d278bf0748\",\"subtype\":\"Figure\",\"type\":\"Plot\"},\"ticker\":{\"id\":\"bc7c5db7-0912-4792-8731-bdd0ab382b44\",\"type\":\"BasicTicker\"}},\"id\":\"5a8c5ea3-88a3-47d7-97cb-821607309971\",\"type\":\"LinearAxis\"}],\"root_ids\":[\"aa713e8d-c17b-4274-8720-39d278bf0748\"]},\"title\":\"Bokeh Application\",\"version\":\"0.12.13\"}};\n",
       "  var render_items = [{\"docid\":\"93adca4a-f6cd-404f-b330-8b9438e4a996\",\"elementid\":\"6fef1187-b10c-4568-8346-830338547a9f\",\"modelid\":\"aa713e8d-c17b-4274-8720-39d278bf0748\"}];\n",
       "  root.Bokeh.embed.embed_items_notebook(docs_json, render_items);\n",
       "\n",
       "  }\n",
       "  if (root.Bokeh !== undefined) {\n",
       "    embed_document(root);\n",
       "  } else {\n",
       "    var attempts = 0;\n",
       "    var timer = setInterval(function(root) {\n",
       "      if (root.Bokeh !== undefined) {\n",
       "        embed_document(root);\n",
       "        clearInterval(timer);\n",
       "      }\n",
       "      attempts++;\n",
       "      if (attempts > 100) {\n",
       "        console.log(\"Bokeh: ERROR: Unable to run BokehJS code because BokehJS library is missing\")\n",
       "        clearInterval(timer);\n",
       "      }\n",
       "    }, 10, root)\n",
       "  }\n",
       "})(window);"
      ],
      "application/vnd.bokehjs_exec.v0+json": ""
     },
     "metadata": {
      "application/vnd.bokehjs_exec.v0+json": {
       "id": "aa713e8d-c17b-4274-8720-39d278bf0748"
      }
     },
     "output_type": "display_data"
    }
   ],
   "source": [
    "p = figure(plot_width=400, plot_height=400, tools=\"tap\", title=\"Select a circle\")\n",
    "renderer = p.circle([1, 2, 3, 4, 5], [2, 5, 8, 2, 7], size=50,\n",
    "\n",
    "                    # set visual properties for selected glyphs\n",
    "                    selection_color=\"firebrick\",\n",
    "\n",
    "                    # set visual properties for non-selected glyphs\n",
    "                    nonselection_fill_alpha=0.2,\n",
    "                    nonselection_fill_color=\"grey\",\n",
    "                    nonselection_line_color=\"firebrick\",\n",
    "                    nonselection_line_alpha=1.0)\n",
    "\n",
    "show(p)"
   ]
  },
  {
   "cell_type": "markdown",
   "metadata": {},
   "source": [
    "### HoverTool"
   ]
  },
  {
   "cell_type": "code",
   "execution_count": 5,
   "metadata": {},
   "outputs": [
    {
     "data": {
      "text/html": [
       "\n",
       "<div class=\"bk-root\">\n",
       "    <div class=\"bk-plotdiv\" id=\"79019b6e-bb3e-43b2-a7f5-4dadc30307d9\"></div>\n",
       "</div>"
      ]
     },
     "metadata": {},
     "output_type": "display_data"
    },
    {
     "data": {
      "application/javascript": [
       "(function(root) {\n",
       "  function embed_document(root) {\n",
       "    \n",
       "  var docs_json = {\"ff18cc70-5068-4a62-9844-8065cec11994\":{\"roots\":{\"references\":[{\"attributes\":{\"mantissas\":[1,2,5],\"max_interval\":500.0,\"num_minor_ticks\":0},\"id\":\"fa00492a-20d7-46a9-9700-61fc51616d74\",\"type\":\"AdaptiveTicker\"},{\"attributes\":{},\"id\":\"6224ecea-e22c-4b07-b78e-a49f5566d48e\",\"type\":\"WheelZoomTool\"},{\"attributes\":{\"overlay\":{\"id\":\"6e754137-cf10-4f93-95eb-6b2fa181684d\",\"type\":\"BoxAnnotation\"}},\"id\":\"174fffa2-5a27-4942-b350-16a86ded017d\",\"type\":\"BoxZoomTool\"},{\"attributes\":{},\"id\":\"04626e8b-f5b2-4248-b735-afeeb417d5c9\",\"type\":\"SaveTool\"},{\"attributes\":{},\"id\":\"3edc31d7-71d1-4b82-8318-49440e40a582\",\"type\":\"ResetTool\"},{\"attributes\":{},\"id\":\"bb56ae5b-2c13-4dcd-b66c-dbe5f0316a38\",\"type\":\"HelpTool\"},{\"attributes\":{\"days\":[1,4,7,10,13,16,19,22,25,28]},\"id\":\"9c18c907-c2b0-4bba-99db-006e3c60026c\",\"type\":\"DaysTicker\"},{\"attributes\":{},\"id\":\"0612e5cb-0b7e-4665-976d-aff88534df26\",\"type\":\"DatetimeTickFormatter\"},{\"attributes\":{\"base\":60,\"mantissas\":[1,2,5,10,15,20,30],\"max_interval\":1800000.0,\"min_interval\":1000.0,\"num_minor_ticks\":0},\"id\":\"03b790f7-4f28-484c-818a-b236aaf5344d\",\"type\":\"AdaptiveTicker\"},{\"attributes\":{\"fill_alpha\":{\"value\":0.05},\"fill_color\":{\"value\":\"grey\"},\"line_color\":{\"value\":null},\"size\":{\"units\":\"screen\",\"value\":20},\"x\":{\"field\":\"x\"},\"y\":{\"field\":\"y\"}},\"id\":\"a7fc7026-b4bd-4970-b7e7-25f41cbcbcb4\",\"type\":\"Circle\"},{\"attributes\":{\"days\":[1,15]},\"id\":\"f20858c3-0edb-4f21-b71e-a464d4f18db2\",\"type\":\"DaysTicker\"},{\"attributes\":{\"days\":[1,2,3,4,5,6,7,8,9,10,11,12,13,14,15,16,17,18,19,20,21,22,23,24,25,26,27,28,29,30,31]},\"id\":\"69dd3179-584f-4cda-b4a5-c58d03666a9b\",\"type\":\"DaysTicker\"},{\"attributes\":{\"days\":[1,8,15,22]},\"id\":\"da90bde6-a49f-4367-b3b1-850faf952168\",\"type\":\"DaysTicker\"},{\"attributes\":{\"callback\":null,\"column_names\":[\"x\",\"y\"],\"data\":{\"x\":{\"__ndarray__\":\"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\",\"dtype\":\"float64\",\"shape\":[288]},\"y\":[143,147,150,152,152,152,154,155,142,140,138,134,131,130,128,127,126,126,126,126,127,129,131,132,134,136,136,136,136,135,134,132,130,130,130,129,128,127,125,124,123,123,122,121,120,118,115,112,111,111,110,110,109,108,107,107,107,108,107,105,105,105,105,104,103,102,99,97,96,94,94,93,93,92,91,92,94,95,96,97,99,102,104,112,112,112,111,110,107,104,105,105,103,99,96,94,95,102,114,128,144,160,173,185,196,205,209,214,219,226,234,241,248,255,260,265,268,270,272,271,271,268,265,261,256,253,250,246,244,241,237,233,229,225,222,204,200,197,193,190,186,182,179,175,171,168,164,158,154,151,148,145,141,133,139,152,173,196,217,233,244,249,250,253,256,260,263,265,265,264,260,254,246,234,217,200,188,181,175,169,164,159,154,147,138,132,129,127,123,117,111,106,104,103,100,94,88,83,78,75,73,71,69,68,67,67,68,70,71,71,70,69,68,67,67,67,66,67,69,71,74,76,78,80,80,80,80,80,80,82,84,87,90,92,87,87,86,86,86,86,87,87,87,85,83,82,83,87,95,107,118,130,141,149,172,179,187,201,214,221,225,230,232,230,223,216,208,199,191,185,181,177,176,177,176,173,171,169,163,154,152,153,154,154,153,151,150,150]}},\"id\":\"ed574923-f5b3-434e-9710-f621383add5d\",\"type\":\"ColumnDataSource\"},{\"attributes\":{\"base\":24,\"mantissas\":[1,2,4,6,8,12],\"max_interval\":43200000.0,\"min_interval\":3600000.0,\"num_minor_ticks\":0},\"id\":\"42bc5397-5807-4276-812c-83e83d78d1fd\",\"type\":\"AdaptiveTicker\"},{\"attributes\":{\"months\":[0,1,2,3,4,5,6,7,8,9,10,11]},\"id\":\"c07ad1fe-f057-4c02-a602-50c5eff56cf0\",\"type\":\"MonthsTicker\"},{\"attributes\":{\"months\":[0,2,4,6,8,10]},\"id\":\"1c106105-97aa-4972-8e54-c7dc75f09e9b\",\"type\":\"MonthsTicker\"},{\"attributes\":{\"active_drag\":\"auto\",\"active_inspect\":\"auto\",\"active_scroll\":\"auto\",\"active_tap\":\"auto\",\"tools\":[{\"id\":\"acc9ae11-cbe2-40be-990f-d51ad7b34695\",\"type\":\"PanTool\"},{\"id\":\"6224ecea-e22c-4b07-b78e-a49f5566d48e\",\"type\":\"WheelZoomTool\"},{\"id\":\"174fffa2-5a27-4942-b350-16a86ded017d\",\"type\":\"BoxZoomTool\"},{\"id\":\"04626e8b-f5b2-4248-b735-afeeb417d5c9\",\"type\":\"SaveTool\"},{\"id\":\"3edc31d7-71d1-4b82-8318-49440e40a582\",\"type\":\"ResetTool\"},{\"id\":\"bb56ae5b-2c13-4dcd-b66c-dbe5f0316a38\",\"type\":\"HelpTool\"},{\"id\":\"45a16b67-a884-413e-9485-d55468859a62\",\"type\":\"HoverTool\"}]},\"id\":\"6416905a-2391-48cc-b7aa-3e882f2b4b8e\",\"type\":\"Toolbar\"},{\"attributes\":{\"months\":[0,4,8]},\"id\":\"d1e0bbe2-7159-4812-bebe-adbb90b5af0c\",\"type\":\"MonthsTicker\"},{\"attributes\":{\"callback\":null},\"id\":\"b0099c44-1177-4491-8ac5-762f4da5dc91\",\"type\":\"DataRange1d\"},{\"attributes\":{\"months\":[0,6]},\"id\":\"d95cf155-019b-4b12-bab5-49fa6f443656\",\"type\":\"MonthsTicker\"},{\"attributes\":{\"plot\":null,\"text\":\"Hover over points\"},\"id\":\"8bbe024d-b249-44fb-9e25-19784bf45518\",\"type\":\"Title\"},{\"attributes\":{},\"id\":\"f562c550-2c61-4f05-b777-6e8ecfcb5587\",\"type\":\"YearsTicker\"},{\"attributes\":{\"line_alpha\":0.1,\"line_color\":\"#1f77b4\",\"line_dash\":[4,4],\"x\":{\"field\":\"x\"},\"y\":{\"field\":\"y\"}},\"id\":\"37141cbd-2886-443b-9ed9-54f8dbdb68b5\",\"type\":\"Line\"},{\"attributes\":{\"callback\":null,\"mode\":\"hline\",\"renderers\":[{\"id\":\"55b625c9-d58f-4941-8fd6-bdab9d9ede04\",\"type\":\"GlyphRenderer\"}],\"tooltips\":null},\"id\":\"45a16b67-a884-413e-9485-d55468859a62\",\"type\":\"HoverTool\"},{\"attributes\":{},\"id\":\"fe49d8c0-6d7f-4b27-bb0a-bc7a4d68c0d8\",\"type\":\"LinearScale\"},{\"attributes\":{\"callback\":null},\"id\":\"10ed9984-2f5b-4397-9a65-1340744b1aa7\",\"type\":\"DataRange1d\"},{\"attributes\":{\"line_color\":\"gray\",\"line_dash\":[4,4],\"x\":{\"field\":\"x\"},\"y\":{\"field\":\"y\"}},\"id\":\"2adcb3d7-4329-4045-a314-82cce18a5e1c\",\"type\":\"Line\"},{\"attributes\":{\"fill_alpha\":{\"value\":0.1},\"fill_color\":{\"value\":\"#1f77b4\"},\"line_alpha\":{\"value\":0.1},\"line_color\":{\"value\":\"#1f77b4\"},\"size\":{\"units\":\"screen\",\"value\":20},\"x\":{\"field\":\"x\"},\"y\":{\"field\":\"y\"}},\"id\":\"17deaa66-5190-420d-ae30-66389996d6a0\",\"type\":\"Circle\"},{\"attributes\":{},\"id\":\"8148ce0d-679b-4388-8661-f6eee6927bd7\",\"type\":\"LinearScale\"},{\"attributes\":{\"fill_alpha\":{\"value\":0.3},\"fill_color\":{\"value\":\"firebrick\"},\"line_alpha\":{\"value\":0.3},\"line_color\":{\"value\":\"white\"},\"size\":{\"units\":\"screen\",\"value\":20},\"x\":{\"field\":\"x\"},\"y\":{\"field\":\"y\"}},\"id\":\"591ae718-4dca-4161-a6d0-64808362ca2e\",\"type\":\"Circle\"},{\"attributes\":{\"source\":{\"id\":\"ed574923-f5b3-434e-9710-f621383add5d\",\"type\":\"ColumnDataSource\"}},\"id\":\"6aefc650-b247-4350-8d5a-036438cb8274\",\"type\":\"CDSView\"},{\"attributes\":{\"below\":[{\"id\":\"4d3752a0-e0c8-4b94-af59-04d9de4b5586\",\"type\":\"DatetimeAxis\"}],\"left\":[{\"id\":\"79425593-744c-422c-8b47-2d7b5c6d2dc1\",\"type\":\"LinearAxis\"}],\"plot_height\":300,\"renderers\":[{\"id\":\"4d3752a0-e0c8-4b94-af59-04d9de4b5586\",\"type\":\"DatetimeAxis\"},{\"id\":\"d2021728-0306-4718-ae27-055dc0cb9d7e\",\"type\":\"Grid\"},{\"id\":\"79425593-744c-422c-8b47-2d7b5c6d2dc1\",\"type\":\"LinearAxis\"},{\"id\":\"bdcc2379-9881-46f3-b99d-7ec22f359e78\",\"type\":\"Grid\"},{\"id\":\"6e754137-cf10-4f93-95eb-6b2fa181684d\",\"type\":\"BoxAnnotation\"},{\"id\":\"0fff2be7-3d4c-49ba-9c42-204f26623157\",\"type\":\"GlyphRenderer\"},{\"id\":\"55b625c9-d58f-4941-8fd6-bdab9d9ede04\",\"type\":\"GlyphRenderer\"}],\"title\":{\"id\":\"8bbe024d-b249-44fb-9e25-19784bf45518\",\"type\":\"Title\"},\"toolbar\":{\"id\":\"6416905a-2391-48cc-b7aa-3e882f2b4b8e\",\"type\":\"Toolbar\"},\"x_range\":{\"id\":\"b0099c44-1177-4491-8ac5-762f4da5dc91\",\"type\":\"DataRange1d\"},\"x_scale\":{\"id\":\"fe49d8c0-6d7f-4b27-bb0a-bc7a4d68c0d8\",\"type\":\"LinearScale\"},\"y_range\":{\"id\":\"10ed9984-2f5b-4397-9a65-1340744b1aa7\",\"type\":\"DataRange1d\"},\"y_scale\":{\"id\":\"8148ce0d-679b-4388-8661-f6eee6927bd7\",\"type\":\"LinearScale\"}},\"id\":\"b2340f0d-0996-41ed-b5d9-feda6f73ee61\",\"subtype\":\"Figure\",\"type\":\"Plot\"},{\"attributes\":{\"num_minor_ticks\":5,\"tickers\":[{\"id\":\"fa00492a-20d7-46a9-9700-61fc51616d74\",\"type\":\"AdaptiveTicker\"},{\"id\":\"03b790f7-4f28-484c-818a-b236aaf5344d\",\"type\":\"AdaptiveTicker\"},{\"id\":\"42bc5397-5807-4276-812c-83e83d78d1fd\",\"type\":\"AdaptiveTicker\"},{\"id\":\"69dd3179-584f-4cda-b4a5-c58d03666a9b\",\"type\":\"DaysTicker\"},{\"id\":\"9c18c907-c2b0-4bba-99db-006e3c60026c\",\"type\":\"DaysTicker\"},{\"id\":\"da90bde6-a49f-4367-b3b1-850faf952168\",\"type\":\"DaysTicker\"},{\"id\":\"f20858c3-0edb-4f21-b71e-a464d4f18db2\",\"type\":\"DaysTicker\"},{\"id\":\"c07ad1fe-f057-4c02-a602-50c5eff56cf0\",\"type\":\"MonthsTicker\"},{\"id\":\"1c106105-97aa-4972-8e54-c7dc75f09e9b\",\"type\":\"MonthsTicker\"},{\"id\":\"d1e0bbe2-7159-4812-bebe-adbb90b5af0c\",\"type\":\"MonthsTicker\"},{\"id\":\"d95cf155-019b-4b12-bab5-49fa6f443656\",\"type\":\"MonthsTicker\"},{\"id\":\"f562c550-2c61-4f05-b777-6e8ecfcb5587\",\"type\":\"YearsTicker\"}]},\"id\":\"069dfdde-368c-4159-b078-4beafd717568\",\"type\":\"DatetimeTicker\"},{\"attributes\":{\"data_source\":{\"id\":\"f57b369a-123c-4761-a566-fa1b3821ebae\",\"type\":\"ColumnDataSource\"},\"glyph\":{\"id\":\"a7fc7026-b4bd-4970-b7e7-25f41cbcbcb4\",\"type\":\"Circle\"},\"hover_glyph\":{\"id\":\"591ae718-4dca-4161-a6d0-64808362ca2e\",\"type\":\"Circle\"},\"muted_glyph\":null,\"nonselection_glyph\":{\"id\":\"17deaa66-5190-420d-ae30-66389996d6a0\",\"type\":\"Circle\"},\"selection_glyph\":null,\"view\":{\"id\":\"a479f258-a19e-49c9-835d-93d4b3cfb198\",\"type\":\"CDSView\"}},\"id\":\"55b625c9-d58f-4941-8fd6-bdab9d9ede04\",\"type\":\"GlyphRenderer\"},{\"attributes\":{\"formatter\":{\"id\":\"520d9f68-b5d6-4825-9697-d63d48761236\",\"type\":\"BasicTickFormatter\"},\"plot\":{\"id\":\"b2340f0d-0996-41ed-b5d9-feda6f73ee61\",\"subtype\":\"Figure\",\"type\":\"Plot\"},\"ticker\":{\"id\":\"057c9421-8d0e-4961-a8d0-2103e1281cd9\",\"type\":\"BasicTicker\"}},\"id\":\"79425593-744c-422c-8b47-2d7b5c6d2dc1\",\"type\":\"LinearAxis\"},{\"attributes\":{\"source\":{\"id\":\"f57b369a-123c-4761-a566-fa1b3821ebae\",\"type\":\"ColumnDataSource\"}},\"id\":\"a479f258-a19e-49c9-835d-93d4b3cfb198\",\"type\":\"CDSView\"},{\"attributes\":{\"plot\":{\"id\":\"b2340f0d-0996-41ed-b5d9-feda6f73ee61\",\"subtype\":\"Figure\",\"type\":\"Plot\"},\"ticker\":{\"id\":\"069dfdde-368c-4159-b078-4beafd717568\",\"type\":\"DatetimeTicker\"}},\"id\":\"d2021728-0306-4718-ae27-055dc0cb9d7e\",\"type\":\"Grid\"},{\"attributes\":{\"formatter\":{\"id\":\"0612e5cb-0b7e-4665-976d-aff88534df26\",\"type\":\"DatetimeTickFormatter\"},\"plot\":{\"id\":\"b2340f0d-0996-41ed-b5d9-feda6f73ee61\",\"subtype\":\"Figure\",\"type\":\"Plot\"},\"ticker\":{\"id\":\"069dfdde-368c-4159-b078-4beafd717568\",\"type\":\"DatetimeTicker\"}},\"id\":\"4d3752a0-e0c8-4b94-af59-04d9de4b5586\",\"type\":\"DatetimeAxis\"},{\"attributes\":{},\"id\":\"057c9421-8d0e-4961-a8d0-2103e1281cd9\",\"type\":\"BasicTicker\"},{\"attributes\":{\"dimension\":1,\"plot\":{\"id\":\"b2340f0d-0996-41ed-b5d9-feda6f73ee61\",\"subtype\":\"Figure\",\"type\":\"Plot\"},\"ticker\":{\"id\":\"057c9421-8d0e-4961-a8d0-2103e1281cd9\",\"type\":\"BasicTicker\"}},\"id\":\"bdcc2379-9881-46f3-b99d-7ec22f359e78\",\"type\":\"Grid\"},{\"attributes\":{\"data_source\":{\"id\":\"ed574923-f5b3-434e-9710-f621383add5d\",\"type\":\"ColumnDataSource\"},\"glyph\":{\"id\":\"2adcb3d7-4329-4045-a314-82cce18a5e1c\",\"type\":\"Line\"},\"hover_glyph\":null,\"muted_glyph\":null,\"nonselection_glyph\":{\"id\":\"37141cbd-2886-443b-9ed9-54f8dbdb68b5\",\"type\":\"Line\"},\"selection_glyph\":null,\"view\":{\"id\":\"6aefc650-b247-4350-8d5a-036438cb8274\",\"type\":\"CDSView\"}},\"id\":\"0fff2be7-3d4c-49ba-9c42-204f26623157\",\"type\":\"GlyphRenderer\"},{\"attributes\":{},\"id\":\"520d9f68-b5d6-4825-9697-d63d48761236\",\"type\":\"BasicTickFormatter\"},{\"attributes\":{\"callback\":null,\"column_names\":[\"x\",\"y\"],\"data\":{\"x\":{\"__ndarray__\":\"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\",\"dtype\":\"float64\",\"shape\":[288]},\"y\":[143,147,150,152,152,152,154,155,142,140,138,134,131,130,128,127,126,126,126,126,127,129,131,132,134,136,136,136,136,135,134,132,130,130,130,129,128,127,125,124,123,123,122,121,120,118,115,112,111,111,110,110,109,108,107,107,107,108,107,105,105,105,105,104,103,102,99,97,96,94,94,93,93,92,91,92,94,95,96,97,99,102,104,112,112,112,111,110,107,104,105,105,103,99,96,94,95,102,114,128,144,160,173,185,196,205,209,214,219,226,234,241,248,255,260,265,268,270,272,271,271,268,265,261,256,253,250,246,244,241,237,233,229,225,222,204,200,197,193,190,186,182,179,175,171,168,164,158,154,151,148,145,141,133,139,152,173,196,217,233,244,249,250,253,256,260,263,265,265,264,260,254,246,234,217,200,188,181,175,169,164,159,154,147,138,132,129,127,123,117,111,106,104,103,100,94,88,83,78,75,73,71,69,68,67,67,68,70,71,71,70,69,68,67,67,67,66,67,69,71,74,76,78,80,80,80,80,80,80,82,84,87,90,92,87,87,86,86,86,86,87,87,87,85,83,82,83,87,95,107,118,130,141,149,172,179,187,201,214,221,225,230,232,230,223,216,208,199,191,185,181,177,176,177,176,173,171,169,163,154,152,153,154,154,153,151,150,150]}},\"id\":\"f57b369a-123c-4761-a566-fa1b3821ebae\",\"type\":\"ColumnDataSource\"},{\"attributes\":{\"bottom_units\":\"screen\",\"fill_alpha\":{\"value\":0.5},\"fill_color\":{\"value\":\"lightgrey\"},\"left_units\":\"screen\",\"level\":\"overlay\",\"line_alpha\":{\"value\":1.0},\"line_color\":{\"value\":\"black\"},\"line_dash\":[4,4],\"line_width\":{\"value\":2},\"plot\":null,\"render_mode\":\"css\",\"right_units\":\"screen\",\"top_units\":\"screen\"},\"id\":\"6e754137-cf10-4f93-95eb-6b2fa181684d\",\"type\":\"BoxAnnotation\"},{\"attributes\":{},\"id\":\"acc9ae11-cbe2-40be-990f-d51ad7b34695\",\"type\":\"PanTool\"}],\"root_ids\":[\"b2340f0d-0996-41ed-b5d9-feda6f73ee61\"]},\"title\":\"Bokeh Application\",\"version\":\"0.12.13\"}};\n",
       "  var render_items = [{\"docid\":\"ff18cc70-5068-4a62-9844-8065cec11994\",\"elementid\":\"79019b6e-bb3e-43b2-a7f5-4dadc30307d9\",\"modelid\":\"b2340f0d-0996-41ed-b5d9-feda6f73ee61\"}];\n",
       "  root.Bokeh.embed.embed_items_notebook(docs_json, render_items);\n",
       "\n",
       "  }\n",
       "  if (root.Bokeh !== undefined) {\n",
       "    embed_document(root);\n",
       "  } else {\n",
       "    var attempts = 0;\n",
       "    var timer = setInterval(function(root) {\n",
       "      if (root.Bokeh !== undefined) {\n",
       "        embed_document(root);\n",
       "        clearInterval(timer);\n",
       "      }\n",
       "      attempts++;\n",
       "      if (attempts > 100) {\n",
       "        console.log(\"Bokeh: ERROR: Unable to run BokehJS code because BokehJS library is missing\")\n",
       "        clearInterval(timer);\n",
       "      }\n",
       "    }, 10, root)\n",
       "  }\n",
       "})(window);"
      ],
      "application/vnd.bokehjs_exec.v0+json": ""
     },
     "metadata": {
      "application/vnd.bokehjs_exec.v0+json": {
       "id": "b2340f0d-0996-41ed-b5d9-feda6f73ee61"
      }
     },
     "output_type": "display_data"
    }
   ],
   "source": [
    "from bokeh.models.tools import HoverTool\n",
    "from bokeh.sampledata.glucose import data\n",
    "\n",
    "subset = data.loc['2010-10-06']\n",
    "\n",
    "x, y = subset.index.to_series(), subset['glucose']\n",
    "\n",
    "# Basic plot setup\n",
    "p = figure(width=600, height=300, x_axis_type=\"datetime\", title='Hover over points')\n",
    "\n",
    "p.line(x, y, line_dash=\"4 4\", line_width=1, color='gray')\n",
    "\n",
    "cr = p.circle(x, y, size=20,\n",
    "              fill_color=\"grey\", hover_fill_color=\"firebrick\",\n",
    "              fill_alpha=0.05, hover_alpha=0.3,\n",
    "              line_color=None, hover_line_color=\"white\")\n",
    "\n",
    "p.add_tools(HoverTool(tooltips=None, renderers=[cr], mode='hline'))\n",
    "\n",
    "show(p)"
   ]
  },
  {
   "cell_type": "markdown",
   "metadata": {},
   "source": [
    "## Axes"
   ]
  },
  {
   "cell_type": "code",
   "execution_count": 6,
   "metadata": {},
   "outputs": [
    {
     "data": {
      "text/html": [
       "\n",
       "<div class=\"bk-root\">\n",
       "    <div class=\"bk-plotdiv\" id=\"0581c7cb-69f2-410e-b7c3-6605cb8c0e2e\"></div>\n",
       "</div>"
      ]
     },
     "metadata": {},
     "output_type": "display_data"
    },
    {
     "data": {
      "application/javascript": [
       "(function(root) {\n",
       "  function embed_document(root) {\n",
       "    \n",
       "  var docs_json = {\"6c031bde-8291-4a6d-804d-65273a37c473\":{\"roots\":{\"references\":[{\"attributes\":{},\"id\":\"b99bf186-b8e9-46a2-a028-f9b5788e6dfc\",\"type\":\"PanTool\"},{\"attributes\":{},\"id\":\"600a8dad-96c5-4b2f-9b80-ad5d28b2f943\",\"type\":\"BasicTickFormatter\"},{\"attributes\":{\"bottom_units\":\"screen\",\"fill_alpha\":{\"value\":0.5},\"fill_color\":{\"value\":\"lightgrey\"},\"left_units\":\"screen\",\"level\":\"overlay\",\"line_alpha\":{\"value\":1.0},\"line_color\":{\"value\":\"black\"},\"line_dash\":[4,4],\"line_width\":{\"value\":2},\"plot\":null,\"render_mode\":\"css\",\"right_units\":\"screen\",\"top_units\":\"screen\"},\"id\":\"4d1dff02-7d46-4d60-98ee-77ae3eab5644\",\"type\":\"BoxAnnotation\"},{\"attributes\":{\"active_drag\":\"auto\",\"active_inspect\":\"auto\",\"active_scroll\":\"auto\",\"active_tap\":\"auto\",\"tools\":[{\"id\":\"b99bf186-b8e9-46a2-a028-f9b5788e6dfc\",\"type\":\"PanTool\"},{\"id\":\"27deb3b9-c13f-4d39-a343-6a464854fdc7\",\"type\":\"WheelZoomTool\"},{\"id\":\"b42c4781-958b-49e5-9e46-c3001905c1c6\",\"type\":\"BoxZoomTool\"},{\"id\":\"b0d6369b-ccf7-4453-a4fe-39409719f81d\",\"type\":\"SaveTool\"},{\"id\":\"c3996e8e-c13a-4d3f-b8a8-5227e247eead\",\"type\":\"ResetTool\"},{\"id\":\"1ece7464-e780-4e45-8905-3458ab14b378\",\"type\":\"HelpTool\"}]},\"id\":\"c8d64ebe-c652-4681-a2a8-4567c452936e\",\"type\":\"Toolbar\"},{\"attributes\":{},\"id\":\"5c51e662-ca7f-4e08-9c74-d53f4abc0922\",\"type\":\"BasicTicker\"},{\"attributes\":{},\"id\":\"c3996e8e-c13a-4d3f-b8a8-5227e247eead\",\"type\":\"ResetTool\"},{\"attributes\":{},\"id\":\"be274fd1-0bf4-435d-bad7-5f61bf04827b\",\"type\":\"BasicTickFormatter\"},{\"attributes\":{\"plot\":null,\"text\":\"\"},\"id\":\"4bf6d00b-aa58-4153-bccb-3222f13bd638\",\"type\":\"Title\"},{\"attributes\":{\"formatter\":{\"id\":\"be274fd1-0bf4-435d-bad7-5f61bf04827b\",\"type\":\"BasicTickFormatter\"},\"major_label_orientation\":0.7853981633974483,\"plot\":{\"id\":\"db9363c9-ce85-495b-a96b-187e73b9a15d\",\"subtype\":\"Figure\",\"type\":\"Plot\"},\"ticker\":{\"id\":\"5c51e662-ca7f-4e08-9c74-d53f4abc0922\",\"type\":\"BasicTicker\"}},\"id\":\"5731228c-a038-4c3d-9fbb-1999abf8a96f\",\"type\":\"LinearAxis\"},{\"attributes\":{\"fill_alpha\":{\"value\":0.1},\"fill_color\":{\"value\":\"#1f77b4\"},\"line_alpha\":{\"value\":0.1},\"line_color\":{\"value\":\"#1f77b4\"},\"line_width\":{\"value\":2},\"size\":{\"units\":\"screen\",\"value\":10},\"x\":{\"field\":\"x\"},\"y\":{\"field\":\"y\"}},\"id\":\"c8f34e01-8d36-46f8-aa07-9b824c8205fb\",\"type\":\"X\"},{\"attributes\":{\"fill_color\":{\"value\":\"#1f77b4\"},\"line_color\":{\"value\":\"#1f77b4\"},\"line_width\":{\"value\":2},\"size\":{\"units\":\"screen\",\"value\":10},\"x\":{\"field\":\"x\"},\"y\":{\"field\":\"y\"}},\"id\":\"e2b563a4-cff6-46a5-9bfd-c0804601b5c5\",\"type\":\"X\"},{\"attributes\":{\"plot\":{\"id\":\"db9363c9-ce85-495b-a96b-187e73b9a15d\",\"subtype\":\"Figure\",\"type\":\"Plot\"},\"ticker\":{\"id\":\"5c51e662-ca7f-4e08-9c74-d53f4abc0922\",\"type\":\"BasicTicker\"}},\"id\":\"a569c68f-cd6f-42e6-a783-8e75408e8128\",\"type\":\"Grid\"},{\"attributes\":{\"data_source\":{\"id\":\"c5f99f88-b0af-486f-aae3-fff921c23387\",\"type\":\"ColumnDataSource\"},\"glyph\":{\"id\":\"e2b563a4-cff6-46a5-9bfd-c0804601b5c5\",\"type\":\"X\"},\"hover_glyph\":null,\"muted_glyph\":null,\"nonselection_glyph\":{\"id\":\"c8f34e01-8d36-46f8-aa07-9b824c8205fb\",\"type\":\"X\"},\"selection_glyph\":null,\"view\":{\"id\":\"0119e728-a9da-4191-bea5-a82bda61f9cd\",\"type\":\"CDSView\"}},\"id\":\"3a3e7f71-91a7-4c1f-96d2-a54a9d293a88\",\"type\":\"GlyphRenderer\"},{\"attributes\":{\"formatter\":{\"id\":\"600a8dad-96c5-4b2f-9b80-ad5d28b2f943\",\"type\":\"BasicTickFormatter\"},\"major_label_orientation\":\"vertical\",\"plot\":{\"id\":\"db9363c9-ce85-495b-a96b-187e73b9a15d\",\"subtype\":\"Figure\",\"type\":\"Plot\"},\"ticker\":{\"id\":\"5c01aa94-9264-4391-9f9d-57cbadcfd7e3\",\"type\":\"BasicTicker\"}},\"id\":\"0e548fb4-6a6b-48df-a839-912892a4150d\",\"type\":\"LinearAxis\"},{\"attributes\":{\"below\":[{\"id\":\"5731228c-a038-4c3d-9fbb-1999abf8a96f\",\"type\":\"LinearAxis\"}],\"left\":[{\"id\":\"0e548fb4-6a6b-48df-a839-912892a4150d\",\"type\":\"LinearAxis\"}],\"plot_height\":400,\"plot_width\":400,\"renderers\":[{\"id\":\"5731228c-a038-4c3d-9fbb-1999abf8a96f\",\"type\":\"LinearAxis\"},{\"id\":\"a569c68f-cd6f-42e6-a783-8e75408e8128\",\"type\":\"Grid\"},{\"id\":\"0e548fb4-6a6b-48df-a839-912892a4150d\",\"type\":\"LinearAxis\"},{\"id\":\"086cb926-70f3-40e3-b180-84cbf9611ad7\",\"type\":\"Grid\"},{\"id\":\"4d1dff02-7d46-4d60-98ee-77ae3eab5644\",\"type\":\"BoxAnnotation\"},{\"id\":\"3a3e7f71-91a7-4c1f-96d2-a54a9d293a88\",\"type\":\"GlyphRenderer\"}],\"title\":{\"id\":\"4bf6d00b-aa58-4153-bccb-3222f13bd638\",\"type\":\"Title\"},\"toolbar\":{\"id\":\"c8d64ebe-c652-4681-a2a8-4567c452936e\",\"type\":\"Toolbar\"},\"x_range\":{\"id\":\"16ccdaba-9de2-4744-9b57-6aa751bc7048\",\"type\":\"DataRange1d\"},\"x_scale\":{\"id\":\"cd7cbb07-ffa4-455c-80f7-ce89567d4e4b\",\"type\":\"LinearScale\"},\"y_range\":{\"id\":\"ca2ca8ac-f1ee-4900-97cf-5a320553ddbe\",\"type\":\"DataRange1d\"},\"y_scale\":{\"id\":\"c20f2645-52b1-4cdf-87ba-fc92c56e7447\",\"type\":\"LinearScale\"}},\"id\":\"db9363c9-ce85-495b-a96b-187e73b9a15d\",\"subtype\":\"Figure\",\"type\":\"Plot\"},{\"attributes\":{\"dimension\":1,\"plot\":{\"id\":\"db9363c9-ce85-495b-a96b-187e73b9a15d\",\"subtype\":\"Figure\",\"type\":\"Plot\"},\"ticker\":{\"id\":\"5c01aa94-9264-4391-9f9d-57cbadcfd7e3\",\"type\":\"BasicTicker\"}},\"id\":\"086cb926-70f3-40e3-b180-84cbf9611ad7\",\"type\":\"Grid\"},{\"attributes\":{},\"id\":\"cd7cbb07-ffa4-455c-80f7-ce89567d4e4b\",\"type\":\"LinearScale\"},{\"attributes\":{\"callback\":null},\"id\":\"ca2ca8ac-f1ee-4900-97cf-5a320553ddbe\",\"type\":\"DataRange1d\"},{\"attributes\":{},\"id\":\"c20f2645-52b1-4cdf-87ba-fc92c56e7447\",\"type\":\"LinearScale\"},{\"attributes\":{\"overlay\":{\"id\":\"4d1dff02-7d46-4d60-98ee-77ae3eab5644\",\"type\":\"BoxAnnotation\"}},\"id\":\"b42c4781-958b-49e5-9e46-c3001905c1c6\",\"type\":\"BoxZoomTool\"},{\"attributes\":{},\"id\":\"1ece7464-e780-4e45-8905-3458ab14b378\",\"type\":\"HelpTool\"},{\"attributes\":{},\"id\":\"5c01aa94-9264-4391-9f9d-57cbadcfd7e3\",\"type\":\"BasicTicker\"},{\"attributes\":{\"callback\":null},\"id\":\"16ccdaba-9de2-4744-9b57-6aa751bc7048\",\"type\":\"DataRange1d\"},{\"attributes\":{\"source\":{\"id\":\"c5f99f88-b0af-486f-aae3-fff921c23387\",\"type\":\"ColumnDataSource\"}},\"id\":\"0119e728-a9da-4191-bea5-a82bda61f9cd\",\"type\":\"CDSView\"},{\"attributes\":{},\"id\":\"b0d6369b-ccf7-4453-a4fe-39409719f81d\",\"type\":\"SaveTool\"},{\"attributes\":{\"callback\":null,\"column_names\":[\"x\",\"y\"],\"data\":{\"x\":[1,2,3,4,5],\"y\":[2,5,8,2,7]}},\"id\":\"c5f99f88-b0af-486f-aae3-fff921c23387\",\"type\":\"ColumnDataSource\"},{\"attributes\":{},\"id\":\"27deb3b9-c13f-4d39-a343-6a464854fdc7\",\"type\":\"WheelZoomTool\"}],\"root_ids\":[\"db9363c9-ce85-495b-a96b-187e73b9a15d\"]},\"title\":\"Bokeh Application\",\"version\":\"0.12.13\"}};\n",
       "  var render_items = [{\"docid\":\"6c031bde-8291-4a6d-804d-65273a37c473\",\"elementid\":\"0581c7cb-69f2-410e-b7c3-6605cb8c0e2e\",\"modelid\":\"db9363c9-ce85-495b-a96b-187e73b9a15d\"}];\n",
       "  root.Bokeh.embed.embed_items_notebook(docs_json, render_items);\n",
       "\n",
       "  }\n",
       "  if (root.Bokeh !== undefined) {\n",
       "    embed_document(root);\n",
       "  } else {\n",
       "    var attempts = 0;\n",
       "    var timer = setInterval(function(root) {\n",
       "      if (root.Bokeh !== undefined) {\n",
       "        embed_document(root);\n",
       "        clearInterval(timer);\n",
       "      }\n",
       "      attempts++;\n",
       "      if (attempts > 100) {\n",
       "        console.log(\"Bokeh: ERROR: Unable to run BokehJS code because BokehJS library is missing\")\n",
       "        clearInterval(timer);\n",
       "      }\n",
       "    }, 10, root)\n",
       "  }\n",
       "})(window);"
      ],
      "application/vnd.bokehjs_exec.v0+json": ""
     },
     "metadata": {
      "application/vnd.bokehjs_exec.v0+json": {
       "id": "db9363c9-ce85-495b-a96b-187e73b9a15d"
      }
     },
     "output_type": "display_data"
    }
   ],
   "source": [
    "from math import pi\n",
    "\n",
    "p = figure(plot_width=400, plot_height=400)\n",
    "p.x([1,2,3,4,5], [2,5,8,2,7], size=10, line_width=2)\n",
    "\n",
    "p.xaxis.major_label_orientation = pi/4\n",
    "p.yaxis.major_label_orientation = \"vertical\"\n",
    "\n",
    "show(p)"
   ]
  },
  {
   "cell_type": "code",
   "execution_count": 7,
   "metadata": {},
   "outputs": [
    {
     "data": {
      "text/html": [
       "\n",
       "<div class=\"bk-root\">\n",
       "    <div class=\"bk-plotdiv\" id=\"db680ff3-0b31-463a-a8b6-9e3896670709\"></div>\n",
       "</div>"
      ]
     },
     "metadata": {},
     "output_type": "display_data"
    },
    {
     "data": {
      "application/javascript": [
       "(function(root) {\n",
       "  function embed_document(root) {\n",
       "    \n",
       "  var docs_json = {\"0ac63d2a-927f-420c-8af6-008bd0a975ee\":{\"roots\":{\"references\":[{\"attributes\":{},\"id\":\"4bb9c654-31e9-41e7-9d84-634e5d4909be\",\"type\":\"BasicTicker\"},{\"attributes\":{\"axis_label\":\"Pressure\",\"formatter\":{\"id\":\"9c706176-5380-4e4d-927b-ed428d23bc5a\",\"type\":\"BasicTickFormatter\"},\"major_label_orientation\":\"vertical\",\"major_label_text_color\":{\"value\":\"orange\"},\"minor_tick_in\":-3,\"minor_tick_out\":6,\"plot\":{\"id\":\"19e05a29-17d1-414d-a988-a3b2b302769f\",\"subtype\":\"Figure\",\"type\":\"Plot\"},\"ticker\":{\"id\":\"be1ea612-7d88-4a80-90f3-63e3576b3e5e\",\"type\":\"BasicTicker\"}},\"id\":\"b7d5f4b0-c09a-4193-bbeb-56daf12c1497\",\"type\":\"LinearAxis\"},{\"attributes\":{},\"id\":\"be1ea612-7d88-4a80-90f3-63e3576b3e5e\",\"type\":\"BasicTicker\"},{\"attributes\":{\"dimension\":1,\"plot\":{\"id\":\"19e05a29-17d1-414d-a988-a3b2b302769f\",\"subtype\":\"Figure\",\"type\":\"Plot\"},\"ticker\":{\"id\":\"be1ea612-7d88-4a80-90f3-63e3576b3e5e\",\"type\":\"BasicTicker\"}},\"id\":\"876beb03-30b0-45a0-b8db-a2d6d8c5df17\",\"type\":\"Grid\"},{\"attributes\":{\"data_source\":{\"id\":\"bf877bc0-766f-4cb3-ae29-166242877a7c\",\"type\":\"ColumnDataSource\"},\"glyph\":{\"id\":\"9e763546-dad2-44e9-8541-00400779f232\",\"type\":\"Asterisk\"},\"hover_glyph\":null,\"muted_glyph\":null,\"nonselection_glyph\":{\"id\":\"3705716e-3b28-43a2-8548-7bba7d29bb85\",\"type\":\"Asterisk\"},\"selection_glyph\":null,\"view\":{\"id\":\"64c76989-6ddc-4d0b-8a69-d8fedccd9a37\",\"type\":\"CDSView\"}},\"id\":\"e9f9c67b-6b4b-44d9-b519-9c30157d6749\",\"type\":\"GlyphRenderer\"},{\"attributes\":{},\"id\":\"de5d2b63-f4be-4ca1-8135-4421d602ddb1\",\"type\":\"ResetTool\"},{\"attributes\":{\"fill_color\":{\"value\":\"olive\"},\"line_color\":{\"value\":\"olive\"},\"size\":{\"units\":\"screen\",\"value\":12},\"x\":{\"field\":\"x\"},\"y\":{\"field\":\"y\"}},\"id\":\"9e763546-dad2-44e9-8541-00400779f232\",\"type\":\"Asterisk\"},{\"attributes\":{},\"id\":\"304b071d-3499-4032-a586-6d87d44b6ff1\",\"type\":\"BasicTickFormatter\"},{\"attributes\":{\"bottom_units\":\"screen\",\"fill_alpha\":{\"value\":0.5},\"fill_color\":{\"value\":\"lightgrey\"},\"left_units\":\"screen\",\"level\":\"overlay\",\"line_alpha\":{\"value\":1.0},\"line_color\":{\"value\":\"black\"},\"line_dash\":[4,4],\"line_width\":{\"value\":2},\"plot\":null,\"render_mode\":\"css\",\"right_units\":\"screen\",\"top_units\":\"screen\"},\"id\":\"303b9550-8532-4370-9b07-a11e509a75b5\",\"type\":\"BoxAnnotation\"},{\"attributes\":{\"below\":[{\"id\":\"c9f076bf-04dd-4884-9ce1-d503c4e3854b\",\"type\":\"LinearAxis\"}],\"left\":[{\"id\":\"b7d5f4b0-c09a-4193-bbeb-56daf12c1497\",\"type\":\"LinearAxis\"}],\"plot_height\":400,\"plot_width\":400,\"renderers\":[{\"id\":\"c9f076bf-04dd-4884-9ce1-d503c4e3854b\",\"type\":\"LinearAxis\"},{\"id\":\"9a2a3173-ce7a-4279-b3a2-75343b0a5d63\",\"type\":\"Grid\"},{\"id\":\"b7d5f4b0-c09a-4193-bbeb-56daf12c1497\",\"type\":\"LinearAxis\"},{\"id\":\"876beb03-30b0-45a0-b8db-a2d6d8c5df17\",\"type\":\"Grid\"},{\"id\":\"303b9550-8532-4370-9b07-a11e509a75b5\",\"type\":\"BoxAnnotation\"},{\"id\":\"e9f9c67b-6b4b-44d9-b519-9c30157d6749\",\"type\":\"GlyphRenderer\"}],\"title\":{\"id\":\"fd1965af-60cc-4f23-b542-d80746d0ec0f\",\"type\":\"Title\"},\"toolbar\":{\"id\":\"143eed3b-4956-4bd1-9d80-8d309f47e519\",\"type\":\"Toolbar\"},\"x_range\":{\"id\":\"5c3b7ef5-f3bc-4183-872f-485780f42ed6\",\"type\":\"DataRange1d\"},\"x_scale\":{\"id\":\"2263ce4b-b549-4d90-b601-f227dde0ae92\",\"type\":\"LinearScale\"},\"y_range\":{\"id\":\"2015c315-8fe5-4321-861d-0be70fd84de2\",\"type\":\"DataRange1d\"},\"y_scale\":{\"id\":\"25090729-1c9c-4c94-9114-78c2653603b1\",\"type\":\"LinearScale\"}},\"id\":\"19e05a29-17d1-414d-a988-a3b2b302769f\",\"subtype\":\"Figure\",\"type\":\"Plot\"},{\"attributes\":{},\"id\":\"7d87d472-b9c6-41cc-b9e3-d120368e150d\",\"type\":\"PanTool\"},{\"attributes\":{\"callback\":null,\"column_names\":[\"x\",\"y\"],\"data\":{\"x\":[1,2,3,4,5],\"y\":[2,5,8,2,7]}},\"id\":\"bf877bc0-766f-4cb3-ae29-166242877a7c\",\"type\":\"ColumnDataSource\"},{\"attributes\":{\"source\":{\"id\":\"bf877bc0-766f-4cb3-ae29-166242877a7c\",\"type\":\"ColumnDataSource\"}},\"id\":\"64c76989-6ddc-4d0b-8a69-d8fedccd9a37\",\"type\":\"CDSView\"},{\"attributes\":{},\"id\":\"8447081a-3135-4c31-935c-445e05e1f515\",\"type\":\"WheelZoomTool\"},{\"attributes\":{\"active_drag\":\"auto\",\"active_inspect\":\"auto\",\"active_scroll\":\"auto\",\"active_tap\":\"auto\",\"tools\":[{\"id\":\"7d87d472-b9c6-41cc-b9e3-d120368e150d\",\"type\":\"PanTool\"},{\"id\":\"8447081a-3135-4c31-935c-445e05e1f515\",\"type\":\"WheelZoomTool\"},{\"id\":\"ddc667fa-b635-4314-ab67-25259a58b8d2\",\"type\":\"BoxZoomTool\"},{\"id\":\"49182ab4-694e-4bee-8987-c7fc608232b0\",\"type\":\"SaveTool\"},{\"id\":\"de5d2b63-f4be-4ca1-8135-4421d602ddb1\",\"type\":\"ResetTool\"},{\"id\":\"fb6045d2-9224-4c88-8d3e-f4db555c7bb3\",\"type\":\"HelpTool\"}]},\"id\":\"143eed3b-4956-4bd1-9d80-8d309f47e519\",\"type\":\"Toolbar\"},{\"attributes\":{\"overlay\":{\"id\":\"303b9550-8532-4370-9b07-a11e509a75b5\",\"type\":\"BoxAnnotation\"}},\"id\":\"ddc667fa-b635-4314-ab67-25259a58b8d2\",\"type\":\"BoxZoomTool\"},{\"attributes\":{\"callback\":null},\"id\":\"5c3b7ef5-f3bc-4183-872f-485780f42ed6\",\"type\":\"DataRange1d\"},{\"attributes\":{},\"id\":\"49182ab4-694e-4bee-8987-c7fc608232b0\",\"type\":\"SaveTool\"},{\"attributes\":{\"fill_alpha\":{\"value\":0.1},\"fill_color\":{\"value\":\"#1f77b4\"},\"line_alpha\":{\"value\":0.1},\"line_color\":{\"value\":\"#1f77b4\"},\"size\":{\"units\":\"screen\",\"value\":12},\"x\":{\"field\":\"x\"},\"y\":{\"field\":\"y\"}},\"id\":\"3705716e-3b28-43a2-8548-7bba7d29bb85\",\"type\":\"Asterisk\"},{\"attributes\":{\"callback\":null},\"id\":\"2015c315-8fe5-4321-861d-0be70fd84de2\",\"type\":\"DataRange1d\"},{\"attributes\":{},\"id\":\"2263ce4b-b549-4d90-b601-f227dde0ae92\",\"type\":\"LinearScale\"},{\"attributes\":{},\"id\":\"fb6045d2-9224-4c88-8d3e-f4db555c7bb3\",\"type\":\"HelpTool\"},{\"attributes\":{},\"id\":\"25090729-1c9c-4c94-9114-78c2653603b1\",\"type\":\"LinearScale\"},{\"attributes\":{},\"id\":\"9c706176-5380-4e4d-927b-ed428d23bc5a\",\"type\":\"BasicTickFormatter\"},{\"attributes\":{\"plot\":{\"id\":\"19e05a29-17d1-414d-a988-a3b2b302769f\",\"subtype\":\"Figure\",\"type\":\"Plot\"},\"ticker\":{\"id\":\"4bb9c654-31e9-41e7-9d84-634e5d4909be\",\"type\":\"BasicTicker\"}},\"id\":\"9a2a3173-ce7a-4279-b3a2-75343b0a5d63\",\"type\":\"Grid\"},{\"attributes\":{\"plot\":null,\"text\":\"\"},\"id\":\"fd1965af-60cc-4f23-b542-d80746d0ec0f\",\"type\":\"Title\"},{\"attributes\":{\"axis_label\":\"Temp\",\"axis_line_color\":{\"value\":\"red\"},\"axis_line_width\":{\"value\":3},\"formatter\":{\"id\":\"304b071d-3499-4032-a586-6d87d44b6ff1\",\"type\":\"BasicTickFormatter\"},\"minor_tick_in\":-3,\"minor_tick_out\":6,\"plot\":{\"id\":\"19e05a29-17d1-414d-a988-a3b2b302769f\",\"subtype\":\"Figure\",\"type\":\"Plot\"},\"ticker\":{\"id\":\"4bb9c654-31e9-41e7-9d84-634e5d4909be\",\"type\":\"BasicTicker\"}},\"id\":\"c9f076bf-04dd-4884-9ce1-d503c4e3854b\",\"type\":\"LinearAxis\"}],\"root_ids\":[\"19e05a29-17d1-414d-a988-a3b2b302769f\"]},\"title\":\"Bokeh Application\",\"version\":\"0.12.13\"}};\n",
       "  var render_items = [{\"docid\":\"0ac63d2a-927f-420c-8af6-008bd0a975ee\",\"elementid\":\"db680ff3-0b31-463a-a8b6-9e3896670709\",\"modelid\":\"19e05a29-17d1-414d-a988-a3b2b302769f\"}];\n",
       "  root.Bokeh.embed.embed_items_notebook(docs_json, render_items);\n",
       "\n",
       "  }\n",
       "  if (root.Bokeh !== undefined) {\n",
       "    embed_document(root);\n",
       "  } else {\n",
       "    var attempts = 0;\n",
       "    var timer = setInterval(function(root) {\n",
       "      if (root.Bokeh !== undefined) {\n",
       "        embed_document(root);\n",
       "        clearInterval(timer);\n",
       "      }\n",
       "      attempts++;\n",
       "      if (attempts > 100) {\n",
       "        console.log(\"Bokeh: ERROR: Unable to run BokehJS code because BokehJS library is missing\")\n",
       "        clearInterval(timer);\n",
       "      }\n",
       "    }, 10, root)\n",
       "  }\n",
       "})(window);"
      ],
      "application/vnd.bokehjs_exec.v0+json": ""
     },
     "metadata": {
      "application/vnd.bokehjs_exec.v0+json": {
       "id": "19e05a29-17d1-414d-a988-a3b2b302769f"
      }
     },
     "output_type": "display_data"
    }
   ],
   "source": [
    "p = figure(plot_width=400, plot_height=400)\n",
    "p.asterisk([1,2,3,4,5], [2,5,8,2,7], size=12, color=\"olive\")\n",
    "\n",
    "# change just some things about the x-axes\n",
    "p.xaxis.axis_label = \"Temp\"\n",
    "p.xaxis.axis_line_width = 3\n",
    "p.xaxis.axis_line_color = \"red\"\n",
    "\n",
    "# change just some things about the y-axes\n",
    "p.yaxis.axis_label = \"Pressure\"\n",
    "p.yaxis.major_label_text_color = \"orange\"\n",
    "p.yaxis.major_label_orientation = \"vertical\"\n",
    "\n",
    "# change things on all axes\n",
    "p.axis.minor_tick_in = -3\n",
    "p.axis.minor_tick_out = 6\n",
    "\n",
    "show(p)"
   ]
  },
  {
   "cell_type": "markdown",
   "metadata": {},
   "source": [
    "## Grids"
   ]
  },
  {
   "cell_type": "code",
   "execution_count": 8,
   "metadata": {},
   "outputs": [
    {
     "data": {
      "text/html": [
       "\n",
       "<div class=\"bk-root\">\n",
       "    <div class=\"bk-plotdiv\" id=\"1a593d56-8089-4af9-b9d0-84b3a9f05d93\"></div>\n",
       "</div>"
      ]
     },
     "metadata": {},
     "output_type": "display_data"
    },
    {
     "data": {
      "application/javascript": [
       "(function(root) {\n",
       "  function embed_document(root) {\n",
       "    \n",
       "  var docs_json = {\"56ec4ada-4651-452e-b897-53e702217e03\":{\"roots\":{\"references\":[{\"attributes\":{},\"id\":\"567bea91-750c-4e86-b7b4-fc650230d90a\",\"type\":\"HelpTool\"},{\"attributes\":{},\"id\":\"598a1039-2b0a-4bd3-8d01-81cd04cabb59\",\"type\":\"PanTool\"},{\"attributes\":{},\"id\":\"b302e9b4-da9a-48dd-bba5-a3c1976cf276\",\"type\":\"LinearScale\"},{\"attributes\":{},\"id\":\"88cdb2c9-b94a-40c3-94c7-c3d330a4824b\",\"type\":\"BasicTickFormatter\"},{\"attributes\":{\"bottom_units\":\"screen\",\"fill_alpha\":{\"value\":0.5},\"fill_color\":{\"value\":\"lightgrey\"},\"left_units\":\"screen\",\"level\":\"overlay\",\"line_alpha\":{\"value\":1.0},\"line_color\":{\"value\":\"black\"},\"line_dash\":[4,4],\"line_width\":{\"value\":2},\"plot\":null,\"render_mode\":\"css\",\"right_units\":\"screen\",\"top_units\":\"screen\"},\"id\":\"3cf47e23-1e5d-4b62-bf11-d25f6017f03a\",\"type\":\"BoxAnnotation\"},{\"attributes\":{},\"id\":\"50167d9b-fc64-4df9-81e5-777b46e6f81e\",\"type\":\"BasicTicker\"},{\"attributes\":{},\"id\":\"460a7cee-16a2-4b91-8bb5-a73e49c906bb\",\"type\":\"LinearScale\"},{\"attributes\":{\"overlay\":{\"id\":\"3cf47e23-1e5d-4b62-bf11-d25f6017f03a\",\"type\":\"BoxAnnotation\"}},\"id\":\"acbfd9f3-1c30-4b8f-9608-48d32b9f7f08\",\"type\":\"BoxZoomTool\"},{\"attributes\":{\"fill_color\":{\"value\":\"#1f77b4\"},\"line_color\":{\"value\":\"#1f77b4\"},\"size\":{\"units\":\"screen\",\"value\":10},\"x\":{\"field\":\"x\"},\"y\":{\"field\":\"y\"}},\"id\":\"42090e28-6948-4a64-a388-44f3eeaf8041\",\"type\":\"Circle\"},{\"attributes\":{},\"id\":\"702af212-7d2f-4f1a-a149-e2aab12f4766\",\"type\":\"WheelZoomTool\"},{\"attributes\":{},\"id\":\"4f86a2ae-c69b-44ad-8244-fd52878e3969\",\"type\":\"ResetTool\"},{\"attributes\":{},\"id\":\"46dc186d-57a3-4cbc-b9ed-5b51812c273b\",\"type\":\"BasicTicker\"},{\"attributes\":{\"dimension\":1,\"grid_line_alpha\":{\"value\":0.5},\"grid_line_dash\":[6,4],\"plot\":{\"id\":\"b884b4ba-7d36-4211-a0c2-4e10c07b0f97\",\"subtype\":\"Figure\",\"type\":\"Plot\"},\"ticker\":{\"id\":\"46dc186d-57a3-4cbc-b9ed-5b51812c273b\",\"type\":\"BasicTicker\"}},\"id\":\"8051e471-3b64-48f7-81a4-84744cecd692\",\"type\":\"Grid\"},{\"attributes\":{\"fill_alpha\":{\"value\":0.1},\"fill_color\":{\"value\":\"#1f77b4\"},\"line_alpha\":{\"value\":0.1},\"line_color\":{\"value\":\"#1f77b4\"},\"size\":{\"units\":\"screen\",\"value\":10},\"x\":{\"field\":\"x\"},\"y\":{\"field\":\"y\"}},\"id\":\"d695a109-123a-4e94-8561-24ec8cc25b3a\",\"type\":\"Circle\"},{\"attributes\":{\"data_source\":{\"id\":\"e07fd49a-1930-4d78-be11-ceb7595df36d\",\"type\":\"ColumnDataSource\"},\"glyph\":{\"id\":\"42090e28-6948-4a64-a388-44f3eeaf8041\",\"type\":\"Circle\"},\"hover_glyph\":null,\"muted_glyph\":null,\"nonselection_glyph\":{\"id\":\"d695a109-123a-4e94-8561-24ec8cc25b3a\",\"type\":\"Circle\"},\"selection_glyph\":null,\"view\":{\"id\":\"7f9db69e-e4d1-4964-9dc0-cbf622b80ee1\",\"type\":\"CDSView\"}},\"id\":\"bfc616e0-0c87-4abf-9216-9a88159efec4\",\"type\":\"GlyphRenderer\"},{\"attributes\":{\"callback\":null},\"id\":\"6c8d3425-5944-4239-ac41-6666fd77d1b2\",\"type\":\"DataRange1d\"},{\"attributes\":{},\"id\":\"81d3786a-c353-40cf-9c96-a8f892aef735\",\"type\":\"SaveTool\"},{\"attributes\":{\"below\":[{\"id\":\"6bb0dd78-ae38-4b84-871c-bf832ec07285\",\"type\":\"LinearAxis\"}],\"left\":[{\"id\":\"10ff217c-875b-48f1-9ce2-5d81ed6c65c5\",\"type\":\"LinearAxis\"}],\"plot_height\":400,\"plot_width\":400,\"renderers\":[{\"id\":\"6bb0dd78-ae38-4b84-871c-bf832ec07285\",\"type\":\"LinearAxis\"},{\"id\":\"dc2d3d87-d565-4fac-9eff-309ddade95b7\",\"type\":\"Grid\"},{\"id\":\"10ff217c-875b-48f1-9ce2-5d81ed6c65c5\",\"type\":\"LinearAxis\"},{\"id\":\"8051e471-3b64-48f7-81a4-84744cecd692\",\"type\":\"Grid\"},{\"id\":\"3cf47e23-1e5d-4b62-bf11-d25f6017f03a\",\"type\":\"BoxAnnotation\"},{\"id\":\"bfc616e0-0c87-4abf-9216-9a88159efec4\",\"type\":\"GlyphRenderer\"}],\"title\":{\"id\":\"7ee22dae-1019-4737-9a33-a008ee9e91ed\",\"type\":\"Title\"},\"toolbar\":{\"id\":\"97d2323a-a681-401a-b05a-1e673b9cc389\",\"type\":\"Toolbar\"},\"x_range\":{\"id\":\"6c8d3425-5944-4239-ac41-6666fd77d1b2\",\"type\":\"DataRange1d\"},\"x_scale\":{\"id\":\"b302e9b4-da9a-48dd-bba5-a3c1976cf276\",\"type\":\"LinearScale\"},\"y_range\":{\"id\":\"8958452e-2594-44c2-b926-2a2f21e1502a\",\"type\":\"DataRange1d\"},\"y_scale\":{\"id\":\"460a7cee-16a2-4b91-8bb5-a73e49c906bb\",\"type\":\"LinearScale\"}},\"id\":\"b884b4ba-7d36-4211-a0c2-4e10c07b0f97\",\"subtype\":\"Figure\",\"type\":\"Plot\"},{\"attributes\":{\"formatter\":{\"id\":\"2935e747-e21d-41ca-874d-33eadd553a99\",\"type\":\"BasicTickFormatter\"},\"plot\":{\"id\":\"b884b4ba-7d36-4211-a0c2-4e10c07b0f97\",\"subtype\":\"Figure\",\"type\":\"Plot\"},\"ticker\":{\"id\":\"50167d9b-fc64-4df9-81e5-777b46e6f81e\",\"type\":\"BasicTicker\"}},\"id\":\"6bb0dd78-ae38-4b84-871c-bf832ec07285\",\"type\":\"LinearAxis\"},{\"attributes\":{\"formatter\":{\"id\":\"88cdb2c9-b94a-40c3-94c7-c3d330a4824b\",\"type\":\"BasicTickFormatter\"},\"plot\":{\"id\":\"b884b4ba-7d36-4211-a0c2-4e10c07b0f97\",\"subtype\":\"Figure\",\"type\":\"Plot\"},\"ticker\":{\"id\":\"46dc186d-57a3-4cbc-b9ed-5b51812c273b\",\"type\":\"BasicTicker\"}},\"id\":\"10ff217c-875b-48f1-9ce2-5d81ed6c65c5\",\"type\":\"LinearAxis\"},{\"attributes\":{\"grid_line_color\":{\"value\":null},\"plot\":{\"id\":\"b884b4ba-7d36-4211-a0c2-4e10c07b0f97\",\"subtype\":\"Figure\",\"type\":\"Plot\"},\"ticker\":{\"id\":\"50167d9b-fc64-4df9-81e5-777b46e6f81e\",\"type\":\"BasicTicker\"}},\"id\":\"dc2d3d87-d565-4fac-9eff-309ddade95b7\",\"type\":\"Grid\"},{\"attributes\":{\"callback\":null,\"column_names\":[\"x\",\"y\"],\"data\":{\"x\":[1,2,3,4,5],\"y\":[2,5,8,2,7]}},\"id\":\"e07fd49a-1930-4d78-be11-ceb7595df36d\",\"type\":\"ColumnDataSource\"},{\"attributes\":{\"callback\":null},\"id\":\"8958452e-2594-44c2-b926-2a2f21e1502a\",\"type\":\"DataRange1d\"},{\"attributes\":{\"plot\":null,\"text\":\"\"},\"id\":\"7ee22dae-1019-4737-9a33-a008ee9e91ed\",\"type\":\"Title\"},{\"attributes\":{\"active_drag\":\"auto\",\"active_inspect\":\"auto\",\"active_scroll\":\"auto\",\"active_tap\":\"auto\",\"tools\":[{\"id\":\"598a1039-2b0a-4bd3-8d01-81cd04cabb59\",\"type\":\"PanTool\"},{\"id\":\"702af212-7d2f-4f1a-a149-e2aab12f4766\",\"type\":\"WheelZoomTool\"},{\"id\":\"acbfd9f3-1c30-4b8f-9608-48d32b9f7f08\",\"type\":\"BoxZoomTool\"},{\"id\":\"81d3786a-c353-40cf-9c96-a8f892aef735\",\"type\":\"SaveTool\"},{\"id\":\"4f86a2ae-c69b-44ad-8244-fd52878e3969\",\"type\":\"ResetTool\"},{\"id\":\"567bea91-750c-4e86-b7b4-fc650230d90a\",\"type\":\"HelpTool\"}]},\"id\":\"97d2323a-a681-401a-b05a-1e673b9cc389\",\"type\":\"Toolbar\"},{\"attributes\":{\"source\":{\"id\":\"e07fd49a-1930-4d78-be11-ceb7595df36d\",\"type\":\"ColumnDataSource\"}},\"id\":\"7f9db69e-e4d1-4964-9dc0-cbf622b80ee1\",\"type\":\"CDSView\"},{\"attributes\":{},\"id\":\"2935e747-e21d-41ca-874d-33eadd553a99\",\"type\":\"BasicTickFormatter\"}],\"root_ids\":[\"b884b4ba-7d36-4211-a0c2-4e10c07b0f97\"]},\"title\":\"Bokeh Application\",\"version\":\"0.12.13\"}};\n",
       "  var render_items = [{\"docid\":\"56ec4ada-4651-452e-b897-53e702217e03\",\"elementid\":\"1a593d56-8089-4af9-b9d0-84b3a9f05d93\",\"modelid\":\"b884b4ba-7d36-4211-a0c2-4e10c07b0f97\"}];\n",
       "  root.Bokeh.embed.embed_items_notebook(docs_json, render_items);\n",
       "\n",
       "  }\n",
       "  if (root.Bokeh !== undefined) {\n",
       "    embed_document(root);\n",
       "  } else {\n",
       "    var attempts = 0;\n",
       "    var timer = setInterval(function(root) {\n",
       "      if (root.Bokeh !== undefined) {\n",
       "        embed_document(root);\n",
       "        clearInterval(timer);\n",
       "      }\n",
       "      attempts++;\n",
       "      if (attempts > 100) {\n",
       "        console.log(\"Bokeh: ERROR: Unable to run BokehJS code because BokehJS library is missing\")\n",
       "        clearInterval(timer);\n",
       "      }\n",
       "    }, 10, root)\n",
       "  }\n",
       "})(window);"
      ],
      "application/vnd.bokehjs_exec.v0+json": ""
     },
     "metadata": {
      "application/vnd.bokehjs_exec.v0+json": {
       "id": "b884b4ba-7d36-4211-a0c2-4e10c07b0f97"
      }
     },
     "output_type": "display_data"
    }
   ],
   "source": [
    "p = figure(plot_width=400, plot_height=400)\n",
    "p.circle([1,2,3,4,5], [2,5,8,2,7], size=10)\n",
    "\n",
    "# change just some things about the x-grid\n",
    "p.xgrid.grid_line_color = None\n",
    "\n",
    "# change just some things about the y-grid\n",
    "p.ygrid.grid_line_alpha = 0.5\n",
    "p.ygrid.grid_line_dash = [6, 4]\n",
    "\n",
    "show(p)"
   ]
  },
  {
   "cell_type": "code",
   "execution_count": 9,
   "metadata": {},
   "outputs": [
    {
     "data": {
      "text/html": [
       "\n",
       "<div class=\"bk-root\">\n",
       "    <div class=\"bk-plotdiv\" id=\"c9732511-1916-4d63-8157-7b5537980ec8\"></div>\n",
       "</div>"
      ]
     },
     "metadata": {},
     "output_type": "display_data"
    },
    {
     "data": {
      "application/javascript": [
       "(function(root) {\n",
       "  function embed_document(root) {\n",
       "    \n",
       "  var docs_json = {\"0705e2d7-de9b-4563-86a9-182605abc9a1\":{\"roots\":{\"references\":[{\"attributes\":{},\"id\":\"bd45595d-b74a-4873-bef3-f89eebb27660\",\"type\":\"LinearScale\"},{\"attributes\":{\"grid_line_color\":{\"value\":null},\"plot\":{\"id\":\"ed6f7314-02f2-4faa-9fc1-856bb330770e\",\"subtype\":\"Figure\",\"type\":\"Plot\"},\"ticker\":{\"id\":\"442d74d3-786d-4ee8-a302-125fdbbd46d0\",\"type\":\"BasicTicker\"}},\"id\":\"e22abee7-6cb6-4c21-8186-dea5bb37c001\",\"type\":\"Grid\"},{\"attributes\":{\"active_drag\":\"auto\",\"active_inspect\":\"auto\",\"active_scroll\":\"auto\",\"active_tap\":\"auto\",\"tools\":[{\"id\":\"d64107c2-92a6-4219-92db-eb90b5012e34\",\"type\":\"PanTool\"},{\"id\":\"81b81b78-da2f-4ab9-945d-28fbe98308f8\",\"type\":\"WheelZoomTool\"},{\"id\":\"13904601-c007-4dd9-97ce-0eb4a2c14607\",\"type\":\"BoxZoomTool\"},{\"id\":\"86a961f9-21c1-4a19-9323-c8be54f153c9\",\"type\":\"SaveTool\"},{\"id\":\"59650b70-6d78-41ee-919c-fe33f9c8ec1a\",\"type\":\"ResetTool\"},{\"id\":\"312cf0a0-1074-41d7-a4bd-84bfc53ffe03\",\"type\":\"HelpTool\"}]},\"id\":\"c32f1be9-a421-4e9a-846d-9e0e186dbfd5\",\"type\":\"Toolbar\"},{\"attributes\":{\"fill_alpha\":{\"value\":0.1},\"fill_color\":{\"value\":\"#1f77b4\"},\"line_alpha\":{\"value\":0.1},\"line_color\":{\"value\":\"#1f77b4\"},\"size\":{\"units\":\"screen\",\"value\":10},\"x\":{\"field\":\"x\"},\"y\":{\"field\":\"y\"}},\"id\":\"8303dd08-e1b4-430d-96cb-fcff0107316f\",\"type\":\"Circle\"},{\"attributes\":{},\"id\":\"eaf07c4a-7b6c-4f69-933f-1a2a6c363bd3\",\"type\":\"BasicTicker\"},{\"attributes\":{\"data_source\":{\"id\":\"b37463d6-35de-4f14-a3f7-77e2da0e5903\",\"type\":\"ColumnDataSource\"},\"glyph\":{\"id\":\"21a46517-8c37-48b7-b411-41c7fd3217e3\",\"type\":\"Circle\"},\"hover_glyph\":null,\"muted_glyph\":null,\"nonselection_glyph\":{\"id\":\"8303dd08-e1b4-430d-96cb-fcff0107316f\",\"type\":\"Circle\"},\"selection_glyph\":null,\"view\":{\"id\":\"3b013d88-785a-46e0-ab54-4e923f814b15\",\"type\":\"CDSView\"}},\"id\":\"85586cba-3d56-4b76-a614-77d26fe9b12c\",\"type\":\"GlyphRenderer\"},{\"attributes\":{\"fill_color\":{\"value\":\"#1f77b4\"},\"line_color\":{\"value\":\"#1f77b4\"},\"size\":{\"units\":\"screen\",\"value\":10},\"x\":{\"field\":\"x\"},\"y\":{\"field\":\"y\"}},\"id\":\"21a46517-8c37-48b7-b411-41c7fd3217e3\",\"type\":\"Circle\"},{\"attributes\":{\"bottom_units\":\"screen\",\"fill_alpha\":{\"value\":0.5},\"fill_color\":{\"value\":\"lightgrey\"},\"left_units\":\"screen\",\"level\":\"overlay\",\"line_alpha\":{\"value\":1.0},\"line_color\":{\"value\":\"black\"},\"line_dash\":[4,4],\"line_width\":{\"value\":2},\"plot\":null,\"render_mode\":\"css\",\"right_units\":\"screen\",\"top_units\":\"screen\"},\"id\":\"318d9a28-9a5d-4fc8-a0d1-3225c95a2fc7\",\"type\":\"BoxAnnotation\"},{\"attributes\":{\"formatter\":{\"id\":\"dd4beee2-08a1-4164-8251-a112ffdac7d2\",\"type\":\"BasicTickFormatter\"},\"plot\":{\"id\":\"ed6f7314-02f2-4faa-9fc1-856bb330770e\",\"subtype\":\"Figure\",\"type\":\"Plot\"},\"ticker\":{\"id\":\"442d74d3-786d-4ee8-a302-125fdbbd46d0\",\"type\":\"BasicTicker\"}},\"id\":\"69ee7125-fc62-4035-8642-5570fb45c7af\",\"type\":\"LinearAxis\"},{\"attributes\":{},\"id\":\"59650b70-6d78-41ee-919c-fe33f9c8ec1a\",\"type\":\"ResetTool\"},{\"attributes\":{\"formatter\":{\"id\":\"1a1c14fd-1620-4c47-9229-e34da3847ecd\",\"type\":\"BasicTickFormatter\"},\"plot\":{\"id\":\"ed6f7314-02f2-4faa-9fc1-856bb330770e\",\"subtype\":\"Figure\",\"type\":\"Plot\"},\"ticker\":{\"id\":\"eaf07c4a-7b6c-4f69-933f-1a2a6c363bd3\",\"type\":\"BasicTicker\"}},\"id\":\"4f1e3606-0dd0-43c0-8da4-b835a74d694e\",\"type\":\"LinearAxis\"},{\"attributes\":{\"plot\":null,\"text\":\"\"},\"id\":\"81526269-fe04-4d7a-a8e7-fb5957cb8fbb\",\"type\":\"Title\"},{\"attributes\":{\"band_fill_alpha\":{\"value\":0.1},\"band_fill_color\":{\"value\":\"navy\"},\"dimension\":1,\"plot\":{\"id\":\"ed6f7314-02f2-4faa-9fc1-856bb330770e\",\"subtype\":\"Figure\",\"type\":\"Plot\"},\"ticker\":{\"id\":\"eaf07c4a-7b6c-4f69-933f-1a2a6c363bd3\",\"type\":\"BasicTicker\"}},\"id\":\"53908f27-2dd7-47d2-a977-49a8c8546646\",\"type\":\"Grid\"},{\"attributes\":{\"callback\":null},\"id\":\"4db2f50f-df73-449f-9e8f-88e436b6e0e5\",\"type\":\"DataRange1d\"},{\"attributes\":{},\"id\":\"312cf0a0-1074-41d7-a4bd-84bfc53ffe03\",\"type\":\"HelpTool\"},{\"attributes\":{},\"id\":\"442d74d3-786d-4ee8-a302-125fdbbd46d0\",\"type\":\"BasicTicker\"},{\"attributes\":{},\"id\":\"07e541e9-25b9-4914-8953-badffd5485ab\",\"type\":\"LinearScale\"},{\"attributes\":{},\"id\":\"d64107c2-92a6-4219-92db-eb90b5012e34\",\"type\":\"PanTool\"},{\"attributes\":{},\"id\":\"1a1c14fd-1620-4c47-9229-e34da3847ecd\",\"type\":\"BasicTickFormatter\"},{\"attributes\":{},\"id\":\"86a961f9-21c1-4a19-9323-c8be54f153c9\",\"type\":\"SaveTool\"},{\"attributes\":{\"callback\":null,\"column_names\":[\"x\",\"y\"],\"data\":{\"x\":[1,2,3,4,5],\"y\":[2,5,8,2,7]}},\"id\":\"b37463d6-35de-4f14-a3f7-77e2da0e5903\",\"type\":\"ColumnDataSource\"},{\"attributes\":{\"callback\":null},\"id\":\"d4a6e827-0e27-40a6-8c3d-9e66971ea72b\",\"type\":\"DataRange1d\"},{\"attributes\":{},\"id\":\"dd4beee2-08a1-4164-8251-a112ffdac7d2\",\"type\":\"BasicTickFormatter\"},{\"attributes\":{\"overlay\":{\"id\":\"318d9a28-9a5d-4fc8-a0d1-3225c95a2fc7\",\"type\":\"BoxAnnotation\"}},\"id\":\"13904601-c007-4dd9-97ce-0eb4a2c14607\",\"type\":\"BoxZoomTool\"},{\"attributes\":{},\"id\":\"81b81b78-da2f-4ab9-945d-28fbe98308f8\",\"type\":\"WheelZoomTool\"},{\"attributes\":{\"source\":{\"id\":\"b37463d6-35de-4f14-a3f7-77e2da0e5903\",\"type\":\"ColumnDataSource\"}},\"id\":\"3b013d88-785a-46e0-ab54-4e923f814b15\",\"type\":\"CDSView\"},{\"attributes\":{\"below\":[{\"id\":\"69ee7125-fc62-4035-8642-5570fb45c7af\",\"type\":\"LinearAxis\"}],\"left\":[{\"id\":\"4f1e3606-0dd0-43c0-8da4-b835a74d694e\",\"type\":\"LinearAxis\"}],\"plot_height\":400,\"plot_width\":400,\"renderers\":[{\"id\":\"69ee7125-fc62-4035-8642-5570fb45c7af\",\"type\":\"LinearAxis\"},{\"id\":\"e22abee7-6cb6-4c21-8186-dea5bb37c001\",\"type\":\"Grid\"},{\"id\":\"4f1e3606-0dd0-43c0-8da4-b835a74d694e\",\"type\":\"LinearAxis\"},{\"id\":\"53908f27-2dd7-47d2-a977-49a8c8546646\",\"type\":\"Grid\"},{\"id\":\"318d9a28-9a5d-4fc8-a0d1-3225c95a2fc7\",\"type\":\"BoxAnnotation\"},{\"id\":\"85586cba-3d56-4b76-a614-77d26fe9b12c\",\"type\":\"GlyphRenderer\"}],\"title\":{\"id\":\"81526269-fe04-4d7a-a8e7-fb5957cb8fbb\",\"type\":\"Title\"},\"toolbar\":{\"id\":\"c32f1be9-a421-4e9a-846d-9e0e186dbfd5\",\"type\":\"Toolbar\"},\"x_range\":{\"id\":\"4db2f50f-df73-449f-9e8f-88e436b6e0e5\",\"type\":\"DataRange1d\"},\"x_scale\":{\"id\":\"07e541e9-25b9-4914-8953-badffd5485ab\",\"type\":\"LinearScale\"},\"y_range\":{\"id\":\"d4a6e827-0e27-40a6-8c3d-9e66971ea72b\",\"type\":\"DataRange1d\"},\"y_scale\":{\"id\":\"bd45595d-b74a-4873-bef3-f89eebb27660\",\"type\":\"LinearScale\"}},\"id\":\"ed6f7314-02f2-4faa-9fc1-856bb330770e\",\"subtype\":\"Figure\",\"type\":\"Plot\"}],\"root_ids\":[\"ed6f7314-02f2-4faa-9fc1-856bb330770e\"]},\"title\":\"Bokeh Application\",\"version\":\"0.12.13\"}};\n",
       "  var render_items = [{\"docid\":\"0705e2d7-de9b-4563-86a9-182605abc9a1\",\"elementid\":\"c9732511-1916-4d63-8157-7b5537980ec8\",\"modelid\":\"ed6f7314-02f2-4faa-9fc1-856bb330770e\"}];\n",
       "  root.Bokeh.embed.embed_items_notebook(docs_json, render_items);\n",
       "\n",
       "  }\n",
       "  if (root.Bokeh !== undefined) {\n",
       "    embed_document(root);\n",
       "  } else {\n",
       "    var attempts = 0;\n",
       "    var timer = setInterval(function(root) {\n",
       "      if (root.Bokeh !== undefined) {\n",
       "        embed_document(root);\n",
       "        clearInterval(timer);\n",
       "      }\n",
       "      attempts++;\n",
       "      if (attempts > 100) {\n",
       "        console.log(\"Bokeh: ERROR: Unable to run BokehJS code because BokehJS library is missing\")\n",
       "        clearInterval(timer);\n",
       "      }\n",
       "    }, 10, root)\n",
       "  }\n",
       "})(window);"
      ],
      "application/vnd.bokehjs_exec.v0+json": ""
     },
     "metadata": {
      "application/vnd.bokehjs_exec.v0+json": {
       "id": "ed6f7314-02f2-4faa-9fc1-856bb330770e"
      }
     },
     "output_type": "display_data"
    }
   ],
   "source": [
    "p = figure(plot_width=400, plot_height=400)\n",
    "p.circle([1,2,3,4,5], [2,5,8,2,7], size=10)\n",
    "\n",
    "# change just some things about the x-grid\n",
    "p.xgrid.grid_line_color = None\n",
    "\n",
    "# change just some things about the y-grid\n",
    "p.ygrid.band_fill_alpha = 0.1\n",
    "p.ygrid.band_fill_color = \"navy\"\n",
    "\n",
    "show(p)"
   ]
  }
 ],
 "metadata": {
  "kernelspec": {
   "display_name": "Python 3",
   "language": "python",
   "name": "python3"
  },
  "language_info": {
   "codemirror_mode": {
    "name": "ipython",
    "version": 3
   },
   "file_extension": ".py",
   "mimetype": "text/x-python",
   "name": "python",
   "nbconvert_exporter": "python",
   "pygments_lexer": "ipython3",
   "version": "3.6.4"
  }
 },
 "nbformat": 4,
 "nbformat_minor": 2
}
