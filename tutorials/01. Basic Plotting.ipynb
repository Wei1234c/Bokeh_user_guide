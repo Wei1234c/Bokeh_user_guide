{
 "cells": [
  {
   "cell_type": "markdown",
   "metadata": {},
   "source": [
    "# 01. Basic Plotting\n",
    "http://nbviewer.jupyter.org/github/bokeh/bokeh-notebooks/blob/master/tutorial/01%20-%20Basic%20Plotting.ipynb"
   ]
  },
  {
   "cell_type": "code",
   "execution_count": 1,
   "metadata": {},
   "outputs": [
    {
     "data": {
      "text/html": [
       "\n",
       "    <div class=\"bk-root\">\n",
       "        <a href=\"https://bokeh.pydata.org\" target=\"_blank\" class=\"bk-logo bk-logo-small bk-logo-notebook\"></a>\n",
       "        <span id=\"bc1c0422-0f01-4c0e-8371-dcbda2a43184\">Loading BokehJS ...</span>\n",
       "    </div>"
      ]
     },
     "metadata": {},
     "output_type": "display_data"
    },
    {
     "data": {
      "application/javascript": [
       "\n",
       "(function(root) {\n",
       "  function now() {\n",
       "    return new Date();\n",
       "  }\n",
       "\n",
       "  var force = true;\n",
       "\n",
       "  if (typeof (root._bokeh_onload_callbacks) === \"undefined\" || force === true) {\n",
       "    root._bokeh_onload_callbacks = [];\n",
       "    root._bokeh_is_loading = undefined;\n",
       "  }\n",
       "\n",
       "  var JS_MIME_TYPE = 'application/javascript';\n",
       "  var HTML_MIME_TYPE = 'text/html';\n",
       "  var EXEC_MIME_TYPE = 'application/vnd.bokehjs_exec.v0+json';\n",
       "  var CLASS_NAME = 'output_bokeh rendered_html';\n",
       "\n",
       "  /**\n",
       "   * Render data to the DOM node\n",
       "   */\n",
       "  function render(props, node) {\n",
       "    var script = document.createElement(\"script\");\n",
       "    node.appendChild(script);\n",
       "  }\n",
       "\n",
       "  /**\n",
       "   * Handle when an output is cleared or removed\n",
       "   */\n",
       "  function handleClearOutput(event, handle) {\n",
       "    var cell = handle.cell;\n",
       "\n",
       "    var id = cell.output_area._bokeh_element_id;\n",
       "    var server_id = cell.output_area._bokeh_server_id;\n",
       "    // Clean up Bokeh references\n",
       "    if (id !== undefined) {\n",
       "      Bokeh.index[id].model.document.clear();\n",
       "      delete Bokeh.index[id];\n",
       "    }\n",
       "\n",
       "    if (server_id !== undefined) {\n",
       "      // Clean up Bokeh references\n",
       "      var cmd = \"from bokeh.io.state import curstate; print(curstate().uuid_to_server['\" + server_id + \"'].get_sessions()[0].document.roots[0]._id)\";\n",
       "      cell.notebook.kernel.execute(cmd, {\n",
       "        iopub: {\n",
       "          output: function(msg) {\n",
       "            var element_id = msg.content.text.trim();\n",
       "            Bokeh.index[element_id].model.document.clear();\n",
       "            delete Bokeh.index[element_id];\n",
       "          }\n",
       "        }\n",
       "      });\n",
       "      // Destroy server and session\n",
       "      var cmd = \"import bokeh.io.notebook as ion; ion.destroy_server('\" + server_id + \"')\";\n",
       "      cell.notebook.kernel.execute(cmd);\n",
       "    }\n",
       "  }\n",
       "\n",
       "  /**\n",
       "   * Handle when a new output is added\n",
       "   */\n",
       "  function handleAddOutput(event, handle) {\n",
       "    var output_area = handle.output_area;\n",
       "    var output = handle.output;\n",
       "\n",
       "    // limit handleAddOutput to display_data with EXEC_MIME_TYPE content only\n",
       "    if ((output.output_type != \"display_data\") || (!output.data.hasOwnProperty(EXEC_MIME_TYPE))) {\n",
       "      return\n",
       "    }\n",
       "\n",
       "    var toinsert = output_area.element.find(\".\" + CLASS_NAME.split(' ')[0]);\n",
       "\n",
       "    if (output.metadata[EXEC_MIME_TYPE][\"id\"] !== undefined) {\n",
       "      toinsert[0].firstChild.textContent = output.data[JS_MIME_TYPE];\n",
       "      // store reference to embed id on output_area\n",
       "      output_area._bokeh_element_id = output.metadata[EXEC_MIME_TYPE][\"id\"];\n",
       "    }\n",
       "    if (output.metadata[EXEC_MIME_TYPE][\"server_id\"] !== undefined) {\n",
       "      var bk_div = document.createElement(\"div\");\n",
       "      bk_div.innerHTML = output.data[HTML_MIME_TYPE];\n",
       "      var script_attrs = bk_div.children[0].attributes;\n",
       "      for (var i = 0; i < script_attrs.length; i++) {\n",
       "        toinsert[0].firstChild.setAttribute(script_attrs[i].name, script_attrs[i].value);\n",
       "      }\n",
       "      // store reference to server id on output_area\n",
       "      output_area._bokeh_server_id = output.metadata[EXEC_MIME_TYPE][\"server_id\"];\n",
       "    }\n",
       "  }\n",
       "\n",
       "  function register_renderer(events, OutputArea) {\n",
       "\n",
       "    function append_mime(data, metadata, element) {\n",
       "      // create a DOM node to render to\n",
       "      var toinsert = this.create_output_subarea(\n",
       "        metadata,\n",
       "        CLASS_NAME,\n",
       "        EXEC_MIME_TYPE\n",
       "      );\n",
       "      this.keyboard_manager.register_events(toinsert);\n",
       "      // Render to node\n",
       "      var props = {data: data, metadata: metadata[EXEC_MIME_TYPE]};\n",
       "      render(props, toinsert[0]);\n",
       "      element.append(toinsert);\n",
       "      return toinsert\n",
       "    }\n",
       "\n",
       "    /* Handle when an output is cleared or removed */\n",
       "    events.on('clear_output.CodeCell', handleClearOutput);\n",
       "    events.on('delete.Cell', handleClearOutput);\n",
       "\n",
       "    /* Handle when a new output is added */\n",
       "    events.on('output_added.OutputArea', handleAddOutput);\n",
       "\n",
       "    /**\n",
       "     * Register the mime type and append_mime function with output_area\n",
       "     */\n",
       "    OutputArea.prototype.register_mime_type(EXEC_MIME_TYPE, append_mime, {\n",
       "      /* Is output safe? */\n",
       "      safe: true,\n",
       "      /* Index of renderer in `output_area.display_order` */\n",
       "      index: 0\n",
       "    });\n",
       "  }\n",
       "\n",
       "  // register the mime type if in Jupyter Notebook environment and previously unregistered\n",
       "  if (root.Jupyter !== undefined) {\n",
       "    var events = require('base/js/events');\n",
       "    var OutputArea = require('notebook/js/outputarea').OutputArea;\n",
       "\n",
       "    if (OutputArea.prototype.mime_types().indexOf(EXEC_MIME_TYPE) == -1) {\n",
       "      register_renderer(events, OutputArea);\n",
       "    }\n",
       "  }\n",
       "\n",
       "  \n",
       "  if (typeof (root._bokeh_timeout) === \"undefined\" || force === true) {\n",
       "    root._bokeh_timeout = Date.now() + 5000;\n",
       "    root._bokeh_failed_load = false;\n",
       "  }\n",
       "\n",
       "  var NB_LOAD_WARNING = {'data': {'text/html':\n",
       "     \"<div style='background-color: #fdd'>\\n\"+\n",
       "     \"<p>\\n\"+\n",
       "     \"BokehJS does not appear to have successfully loaded. If loading BokehJS from CDN, this \\n\"+\n",
       "     \"may be due to a slow or bad network connection. Possible fixes:\\n\"+\n",
       "     \"</p>\\n\"+\n",
       "     \"<ul>\\n\"+\n",
       "     \"<li>re-rerun `output_notebook()` to attempt to load from CDN again, or</li>\\n\"+\n",
       "     \"<li>use INLINE resources instead, as so:</li>\\n\"+\n",
       "     \"</ul>\\n\"+\n",
       "     \"<code>\\n\"+\n",
       "     \"from bokeh.resources import INLINE\\n\"+\n",
       "     \"output_notebook(resources=INLINE)\\n\"+\n",
       "     \"</code>\\n\"+\n",
       "     \"</div>\"}};\n",
       "\n",
       "  function display_loaded() {\n",
       "    var el = document.getElementById(\"bc1c0422-0f01-4c0e-8371-dcbda2a43184\");\n",
       "    if (el != null) {\n",
       "      el.textContent = \"BokehJS is loading...\";\n",
       "    }\n",
       "    if (root.Bokeh !== undefined) {\n",
       "      if (el != null) {\n",
       "        el.textContent = \"BokehJS \" + root.Bokeh.version + \" successfully loaded.\";\n",
       "      }\n",
       "    } else if (Date.now() < root._bokeh_timeout) {\n",
       "      setTimeout(display_loaded, 100)\n",
       "    }\n",
       "  }\n",
       "\n",
       "\n",
       "  function run_callbacks() {\n",
       "    try {\n",
       "      root._bokeh_onload_callbacks.forEach(function(callback) { callback() });\n",
       "    }\n",
       "    finally {\n",
       "      delete root._bokeh_onload_callbacks\n",
       "    }\n",
       "    console.info(\"Bokeh: all callbacks have finished\");\n",
       "  }\n",
       "\n",
       "  function load_libs(js_urls, callback) {\n",
       "    root._bokeh_onload_callbacks.push(callback);\n",
       "    if (root._bokeh_is_loading > 0) {\n",
       "      console.log(\"Bokeh: BokehJS is being loaded, scheduling callback at\", now());\n",
       "      return null;\n",
       "    }\n",
       "    if (js_urls == null || js_urls.length === 0) {\n",
       "      run_callbacks();\n",
       "      return null;\n",
       "    }\n",
       "    console.log(\"Bokeh: BokehJS not loaded, scheduling load and callback at\", now());\n",
       "    root._bokeh_is_loading = js_urls.length;\n",
       "    for (var i = 0; i < js_urls.length; i++) {\n",
       "      var url = js_urls[i];\n",
       "      var s = document.createElement('script');\n",
       "      s.src = url;\n",
       "      s.async = false;\n",
       "      s.onreadystatechange = s.onload = function() {\n",
       "        root._bokeh_is_loading--;\n",
       "        if (root._bokeh_is_loading === 0) {\n",
       "          console.log(\"Bokeh: all BokehJS libraries loaded\");\n",
       "          run_callbacks()\n",
       "        }\n",
       "      };\n",
       "      s.onerror = function() {\n",
       "        console.warn(\"failed to load library \" + url);\n",
       "      };\n",
       "      console.log(\"Bokeh: injecting script tag for BokehJS library: \", url);\n",
       "      document.getElementsByTagName(\"head\")[0].appendChild(s);\n",
       "    }\n",
       "  };var element = document.getElementById(\"bc1c0422-0f01-4c0e-8371-dcbda2a43184\");\n",
       "  if (element == null) {\n",
       "    console.log(\"Bokeh: ERROR: autoload.js configured with elementid 'bc1c0422-0f01-4c0e-8371-dcbda2a43184' but no matching script tag was found. \")\n",
       "    return false;\n",
       "  }\n",
       "\n",
       "  var js_urls = [\"https://cdn.pydata.org/bokeh/release/bokeh-0.12.13.min.js\", \"https://cdn.pydata.org/bokeh/release/bokeh-widgets-0.12.13.min.js\", \"https://cdn.pydata.org/bokeh/release/bokeh-tables-0.12.13.min.js\", \"https://cdn.pydata.org/bokeh/release/bokeh-gl-0.12.13.min.js\"];\n",
       "\n",
       "  var inline_js = [\n",
       "    function(Bokeh) {\n",
       "      Bokeh.set_log_level(\"info\");\n",
       "    },\n",
       "    \n",
       "    function(Bokeh) {\n",
       "      \n",
       "    },\n",
       "    function(Bokeh) {\n",
       "      console.log(\"Bokeh: injecting CSS: https://cdn.pydata.org/bokeh/release/bokeh-0.12.13.min.css\");\n",
       "      Bokeh.embed.inject_css(\"https://cdn.pydata.org/bokeh/release/bokeh-0.12.13.min.css\");\n",
       "      console.log(\"Bokeh: injecting CSS: https://cdn.pydata.org/bokeh/release/bokeh-widgets-0.12.13.min.css\");\n",
       "      Bokeh.embed.inject_css(\"https://cdn.pydata.org/bokeh/release/bokeh-widgets-0.12.13.min.css\");\n",
       "      console.log(\"Bokeh: injecting CSS: https://cdn.pydata.org/bokeh/release/bokeh-tables-0.12.13.min.css\");\n",
       "      Bokeh.embed.inject_css(\"https://cdn.pydata.org/bokeh/release/bokeh-tables-0.12.13.min.css\");\n",
       "    }\n",
       "  ];\n",
       "\n",
       "  function run_inline_js() {\n",
       "    \n",
       "    if ((root.Bokeh !== undefined) || (force === true)) {\n",
       "      for (var i = 0; i < inline_js.length; i++) {\n",
       "        inline_js[i].call(root, root.Bokeh);\n",
       "      }if (force === true) {\n",
       "        display_loaded();\n",
       "      }} else if (Date.now() < root._bokeh_timeout) {\n",
       "      setTimeout(run_inline_js, 100);\n",
       "    } else if (!root._bokeh_failed_load) {\n",
       "      console.log(\"Bokeh: BokehJS failed to load within specified timeout.\");\n",
       "      root._bokeh_failed_load = true;\n",
       "    } else if (force !== true) {\n",
       "      var cell = $(document.getElementById(\"bc1c0422-0f01-4c0e-8371-dcbda2a43184\")).parents('.cell').data().cell;\n",
       "      cell.output_area.append_execute_result(NB_LOAD_WARNING)\n",
       "    }\n",
       "\n",
       "  }\n",
       "\n",
       "  if (root._bokeh_is_loading === 0) {\n",
       "    console.log(\"Bokeh: BokehJS loaded, going straight to plotting\");\n",
       "    run_inline_js();\n",
       "  } else {\n",
       "    load_libs(js_urls, function() {\n",
       "      console.log(\"Bokeh: BokehJS plotting callback run at\", now());\n",
       "      run_inline_js();\n",
       "    });\n",
       "  }\n",
       "}(window));"
      ],
      "application/vnd.bokehjs_load.v0+json": "\n(function(root) {\n  function now() {\n    return new Date();\n  }\n\n  var force = true;\n\n  if (typeof (root._bokeh_onload_callbacks) === \"undefined\" || force === true) {\n    root._bokeh_onload_callbacks = [];\n    root._bokeh_is_loading = undefined;\n  }\n\n  \n\n  \n  if (typeof (root._bokeh_timeout) === \"undefined\" || force === true) {\n    root._bokeh_timeout = Date.now() + 5000;\n    root._bokeh_failed_load = false;\n  }\n\n  var NB_LOAD_WARNING = {'data': {'text/html':\n     \"<div style='background-color: #fdd'>\\n\"+\n     \"<p>\\n\"+\n     \"BokehJS does not appear to have successfully loaded. If loading BokehJS from CDN, this \\n\"+\n     \"may be due to a slow or bad network connection. Possible fixes:\\n\"+\n     \"</p>\\n\"+\n     \"<ul>\\n\"+\n     \"<li>re-rerun `output_notebook()` to attempt to load from CDN again, or</li>\\n\"+\n     \"<li>use INLINE resources instead, as so:</li>\\n\"+\n     \"</ul>\\n\"+\n     \"<code>\\n\"+\n     \"from bokeh.resources import INLINE\\n\"+\n     \"output_notebook(resources=INLINE)\\n\"+\n     \"</code>\\n\"+\n     \"</div>\"}};\n\n  function display_loaded() {\n    var el = document.getElementById(\"bc1c0422-0f01-4c0e-8371-dcbda2a43184\");\n    if (el != null) {\n      el.textContent = \"BokehJS is loading...\";\n    }\n    if (root.Bokeh !== undefined) {\n      if (el != null) {\n        el.textContent = \"BokehJS \" + root.Bokeh.version + \" successfully loaded.\";\n      }\n    } else if (Date.now() < root._bokeh_timeout) {\n      setTimeout(display_loaded, 100)\n    }\n  }\n\n\n  function run_callbacks() {\n    try {\n      root._bokeh_onload_callbacks.forEach(function(callback) { callback() });\n    }\n    finally {\n      delete root._bokeh_onload_callbacks\n    }\n    console.info(\"Bokeh: all callbacks have finished\");\n  }\n\n  function load_libs(js_urls, callback) {\n    root._bokeh_onload_callbacks.push(callback);\n    if (root._bokeh_is_loading > 0) {\n      console.log(\"Bokeh: BokehJS is being loaded, scheduling callback at\", now());\n      return null;\n    }\n    if (js_urls == null || js_urls.length === 0) {\n      run_callbacks();\n      return null;\n    }\n    console.log(\"Bokeh: BokehJS not loaded, scheduling load and callback at\", now());\n    root._bokeh_is_loading = js_urls.length;\n    for (var i = 0; i < js_urls.length; i++) {\n      var url = js_urls[i];\n      var s = document.createElement('script');\n      s.src = url;\n      s.async = false;\n      s.onreadystatechange = s.onload = function() {\n        root._bokeh_is_loading--;\n        if (root._bokeh_is_loading === 0) {\n          console.log(\"Bokeh: all BokehJS libraries loaded\");\n          run_callbacks()\n        }\n      };\n      s.onerror = function() {\n        console.warn(\"failed to load library \" + url);\n      };\n      console.log(\"Bokeh: injecting script tag for BokehJS library: \", url);\n      document.getElementsByTagName(\"head\")[0].appendChild(s);\n    }\n  };var element = document.getElementById(\"bc1c0422-0f01-4c0e-8371-dcbda2a43184\");\n  if (element == null) {\n    console.log(\"Bokeh: ERROR: autoload.js configured with elementid 'bc1c0422-0f01-4c0e-8371-dcbda2a43184' but no matching script tag was found. \")\n    return false;\n  }\n\n  var js_urls = [\"https://cdn.pydata.org/bokeh/release/bokeh-0.12.13.min.js\", \"https://cdn.pydata.org/bokeh/release/bokeh-widgets-0.12.13.min.js\", \"https://cdn.pydata.org/bokeh/release/bokeh-tables-0.12.13.min.js\", \"https://cdn.pydata.org/bokeh/release/bokeh-gl-0.12.13.min.js\"];\n\n  var inline_js = [\n    function(Bokeh) {\n      Bokeh.set_log_level(\"info\");\n    },\n    \n    function(Bokeh) {\n      \n    },\n    function(Bokeh) {\n      console.log(\"Bokeh: injecting CSS: https://cdn.pydata.org/bokeh/release/bokeh-0.12.13.min.css\");\n      Bokeh.embed.inject_css(\"https://cdn.pydata.org/bokeh/release/bokeh-0.12.13.min.css\");\n      console.log(\"Bokeh: injecting CSS: https://cdn.pydata.org/bokeh/release/bokeh-widgets-0.12.13.min.css\");\n      Bokeh.embed.inject_css(\"https://cdn.pydata.org/bokeh/release/bokeh-widgets-0.12.13.min.css\");\n      console.log(\"Bokeh: injecting CSS: https://cdn.pydata.org/bokeh/release/bokeh-tables-0.12.13.min.css\");\n      Bokeh.embed.inject_css(\"https://cdn.pydata.org/bokeh/release/bokeh-tables-0.12.13.min.css\");\n    }\n  ];\n\n  function run_inline_js() {\n    \n    if ((root.Bokeh !== undefined) || (force === true)) {\n      for (var i = 0; i < inline_js.length; i++) {\n        inline_js[i].call(root, root.Bokeh);\n      }if (force === true) {\n        display_loaded();\n      }} else if (Date.now() < root._bokeh_timeout) {\n      setTimeout(run_inline_js, 100);\n    } else if (!root._bokeh_failed_load) {\n      console.log(\"Bokeh: BokehJS failed to load within specified timeout.\");\n      root._bokeh_failed_load = true;\n    } else if (force !== true) {\n      var cell = $(document.getElementById(\"bc1c0422-0f01-4c0e-8371-dcbda2a43184\")).parents('.cell').data().cell;\n      cell.output_area.append_execute_result(NB_LOAD_WARNING)\n    }\n\n  }\n\n  if (root._bokeh_is_loading === 0) {\n    console.log(\"Bokeh: BokehJS loaded, going straight to plotting\");\n    run_inline_js();\n  } else {\n    load_libs(js_urls, function() {\n      console.log(\"Bokeh: BokehJS plotting callback run at\", now());\n      run_inline_js();\n    });\n  }\n}(window));"
     },
     "metadata": {},
     "output_type": "display_data"
    }
   ],
   "source": [
    "from bokeh.io import output_notebook, show\n",
    "from bokeh.plotting import figure\n",
    "output_notebook()"
   ]
  },
  {
   "cell_type": "markdown",
   "metadata": {},
   "source": [
    "## Some Basic Scatter Plots"
   ]
  },
  {
   "cell_type": "code",
   "execution_count": 2,
   "metadata": {},
   "outputs": [
    {
     "data": {
      "text/html": [
       "\n",
       "<div class=\"bk-root\">\n",
       "    <div class=\"bk-plotdiv\" id=\"3c896754-c6ab-4595-a530-19a3a7078f16\"></div>\n",
       "</div>"
      ]
     },
     "metadata": {},
     "output_type": "display_data"
    },
    {
     "data": {
      "application/javascript": [
       "(function(root) {\n",
       "  function embed_document(root) {\n",
       "    \n",
       "  var docs_json = {\"fea6df1c-3536-4ad7-b0f5-931474b282b9\":{\"roots\":{\"references\":[{\"attributes\":{},\"id\":\"406daf2b-d7cb-4832-a296-30cd969913a0\",\"type\":\"WheelZoomTool\"},{\"attributes\":{},\"id\":\"72cccd02-64eb-4363-a930-97a315fd2712\",\"type\":\"LinearScale\"},{\"attributes\":{\"fill_alpha\":{\"value\":0.1},\"fill_color\":{\"value\":\"#1f77b4\"},\"line_alpha\":{\"value\":0.1},\"line_color\":{\"value\":\"#1f77b4\"},\"size\":{\"units\":\"screen\",\"value\":15},\"x\":{\"field\":\"x\"},\"y\":{\"field\":\"y\"}},\"id\":\"679318a3-6e83-4adf-b8ac-16bb5d6ad316\",\"type\":\"Circle\"},{\"attributes\":{\"overlay\":{\"id\":\"86cc8b50-58df-4682-abe4-cd46df35ebb5\",\"type\":\"BoxAnnotation\"}},\"id\":\"6a80b132-ae81-4f5f-a068-d27f9f35d156\",\"type\":\"BoxZoomTool\"},{\"attributes\":{},\"id\":\"180f3b5f-b0ca-4d8b-b1a3-04eaca848268\",\"type\":\"SaveTool\"},{\"attributes\":{},\"id\":\"af201cbc-b2d4-48f0-b680-7f0629b82a9f\",\"type\":\"ResetTool\"},{\"attributes\":{\"formatter\":{\"id\":\"4c3c0142-2337-4530-bd0d-e746360a3a75\",\"type\":\"BasicTickFormatter\"},\"plot\":{\"id\":\"e269dbc6-e33c-4a1a-abb3-996200e5043c\",\"subtype\":\"Figure\",\"type\":\"Plot\"},\"ticker\":{\"id\":\"66fd1db2-284a-4b56-a8e3-fa497465ad2e\",\"type\":\"BasicTicker\"}},\"id\":\"f03f86d5-a957-43e5-9263-23f0aba16715\",\"type\":\"LinearAxis\"},{\"attributes\":{},\"id\":\"3e990ef5-d4fb-4b98-b6d5-dd56c242dfc2\",\"type\":\"HelpTool\"},{\"attributes\":{},\"id\":\"66fd1db2-284a-4b56-a8e3-fa497465ad2e\",\"type\":\"BasicTicker\"},{\"attributes\":{\"plot\":{\"id\":\"e269dbc6-e33c-4a1a-abb3-996200e5043c\",\"subtype\":\"Figure\",\"type\":\"Plot\"},\"ticker\":{\"id\":\"66fd1db2-284a-4b56-a8e3-fa497465ad2e\",\"type\":\"BasicTicker\"}},\"id\":\"6639ffb0-328b-4a2b-9415-0428bcdf3b4d\",\"type\":\"Grid\"},{\"attributes\":{\"formatter\":{\"id\":\"4466590a-24b3-4c80-9c5f-c3df9d0398c5\",\"type\":\"BasicTickFormatter\"},\"plot\":{\"id\":\"e269dbc6-e33c-4a1a-abb3-996200e5043c\",\"subtype\":\"Figure\",\"type\":\"Plot\"},\"ticker\":{\"id\":\"7d6c0524-6a7a-42c1-ba37-69cc11a5668e\",\"type\":\"BasicTicker\"}},\"id\":\"363a57eb-bf91-47e2-8805-3ff3be0bf500\",\"type\":\"LinearAxis\"},{\"attributes\":{\"data_source\":{\"id\":\"2c7f0a13-503b-4443-9ebc-6097212b2d33\",\"type\":\"ColumnDataSource\"},\"glyph\":{\"id\":\"6d5335ed-ac8d-44d6-8fee-1c0c65738fb2\",\"type\":\"Circle\"},\"hover_glyph\":null,\"muted_glyph\":null,\"nonselection_glyph\":{\"id\":\"679318a3-6e83-4adf-b8ac-16bb5d6ad316\",\"type\":\"Circle\"},\"selection_glyph\":null,\"view\":{\"id\":\"93623f8b-c71d-4be4-bc82-6283d9a8dce8\",\"type\":\"CDSView\"}},\"id\":\"31fa85fe-14a1-4f2a-bce7-8391bd898e09\",\"type\":\"GlyphRenderer\"},{\"attributes\":{},\"id\":\"4c3c0142-2337-4530-bd0d-e746360a3a75\",\"type\":\"BasicTickFormatter\"},{\"attributes\":{},\"id\":\"4466590a-24b3-4c80-9c5f-c3df9d0398c5\",\"type\":\"BasicTickFormatter\"},{\"attributes\":{\"fill_alpha\":{\"value\":0.5},\"fill_color\":{\"value\":\"orange\"},\"line_color\":{\"value\":\"navy\"},\"size\":{\"units\":\"screen\",\"value\":15},\"x\":{\"field\":\"x\"},\"y\":{\"field\":\"y\"}},\"id\":\"6d5335ed-ac8d-44d6-8fee-1c0c65738fb2\",\"type\":\"Circle\"},{\"attributes\":{},\"id\":\"7d6c0524-6a7a-42c1-ba37-69cc11a5668e\",\"type\":\"BasicTicker\"},{\"attributes\":{\"below\":[{\"id\":\"f03f86d5-a957-43e5-9263-23f0aba16715\",\"type\":\"LinearAxis\"}],\"left\":[{\"id\":\"363a57eb-bf91-47e2-8805-3ff3be0bf500\",\"type\":\"LinearAxis\"}],\"plot_height\":400,\"plot_width\":400,\"renderers\":[{\"id\":\"f03f86d5-a957-43e5-9263-23f0aba16715\",\"type\":\"LinearAxis\"},{\"id\":\"6639ffb0-328b-4a2b-9415-0428bcdf3b4d\",\"type\":\"Grid\"},{\"id\":\"363a57eb-bf91-47e2-8805-3ff3be0bf500\",\"type\":\"LinearAxis\"},{\"id\":\"d1f35aca-8109-44a5-bc7e-f3eff69bbbde\",\"type\":\"Grid\"},{\"id\":\"86cc8b50-58df-4682-abe4-cd46df35ebb5\",\"type\":\"BoxAnnotation\"},{\"id\":\"31fa85fe-14a1-4f2a-bce7-8391bd898e09\",\"type\":\"GlyphRenderer\"}],\"title\":{\"id\":\"e2db633f-2b27-43ba-9ca3-042658def26c\",\"type\":\"Title\"},\"toolbar\":{\"id\":\"b1b3b627-553e-42b7-81cc-ba24bc31f893\",\"type\":\"Toolbar\"},\"x_range\":{\"id\":\"f7df57a5-fb8e-4f7c-8e65-1296ad51cca2\",\"type\":\"DataRange1d\"},\"x_scale\":{\"id\":\"fed0796d-a8f5-4a34-88fb-06741484a668\",\"type\":\"LinearScale\"},\"y_range\":{\"id\":\"171917d4-e8be-46e8-b165-92b03256f850\",\"type\":\"DataRange1d\"},\"y_scale\":{\"id\":\"72cccd02-64eb-4363-a930-97a315fd2712\",\"type\":\"LinearScale\"}},\"id\":\"e269dbc6-e33c-4a1a-abb3-996200e5043c\",\"subtype\":\"Figure\",\"type\":\"Plot\"},{\"attributes\":{\"dimension\":1,\"plot\":{\"id\":\"e269dbc6-e33c-4a1a-abb3-996200e5043c\",\"subtype\":\"Figure\",\"type\":\"Plot\"},\"ticker\":{\"id\":\"7d6c0524-6a7a-42c1-ba37-69cc11a5668e\",\"type\":\"BasicTicker\"}},\"id\":\"d1f35aca-8109-44a5-bc7e-f3eff69bbbde\",\"type\":\"Grid\"},{\"attributes\":{\"callback\":null,\"column_names\":[\"x\",\"y\"],\"data\":{\"x\":[1,2,3,4,5],\"y\":[6,7,2,4,5]}},\"id\":\"2c7f0a13-503b-4443-9ebc-6097212b2d33\",\"type\":\"ColumnDataSource\"},{\"attributes\":{},\"id\":\"fed0796d-a8f5-4a34-88fb-06741484a668\",\"type\":\"LinearScale\"},{\"attributes\":{\"bottom_units\":\"screen\",\"fill_alpha\":{\"value\":0.5},\"fill_color\":{\"value\":\"lightgrey\"},\"left_units\":\"screen\",\"level\":\"overlay\",\"line_alpha\":{\"value\":1.0},\"line_color\":{\"value\":\"black\"},\"line_dash\":[4,4],\"line_width\":{\"value\":2},\"plot\":null,\"render_mode\":\"css\",\"right_units\":\"screen\",\"top_units\":\"screen\"},\"id\":\"86cc8b50-58df-4682-abe4-cd46df35ebb5\",\"type\":\"BoxAnnotation\"},{\"attributes\":{\"source\":{\"id\":\"2c7f0a13-503b-4443-9ebc-6097212b2d33\",\"type\":\"ColumnDataSource\"}},\"id\":\"93623f8b-c71d-4be4-bc82-6283d9a8dce8\",\"type\":\"CDSView\"},{\"attributes\":{\"active_drag\":\"auto\",\"active_inspect\":\"auto\",\"active_scroll\":\"auto\",\"active_tap\":\"auto\",\"tools\":[{\"id\":\"4046796b-e23c-47db-856a-3c431af0e429\",\"type\":\"PanTool\"},{\"id\":\"406daf2b-d7cb-4832-a296-30cd969913a0\",\"type\":\"WheelZoomTool\"},{\"id\":\"6a80b132-ae81-4f5f-a068-d27f9f35d156\",\"type\":\"BoxZoomTool\"},{\"id\":\"180f3b5f-b0ca-4d8b-b1a3-04eaca848268\",\"type\":\"SaveTool\"},{\"id\":\"af201cbc-b2d4-48f0-b680-7f0629b82a9f\",\"type\":\"ResetTool\"},{\"id\":\"3e990ef5-d4fb-4b98-b6d5-dd56c242dfc2\",\"type\":\"HelpTool\"}]},\"id\":\"b1b3b627-553e-42b7-81cc-ba24bc31f893\",\"type\":\"Toolbar\"},{\"attributes\":{\"callback\":null},\"id\":\"f7df57a5-fb8e-4f7c-8e65-1296ad51cca2\",\"type\":\"DataRange1d\"},{\"attributes\":{\"plot\":null,\"text\":\"\"},\"id\":\"e2db633f-2b27-43ba-9ca3-042658def26c\",\"type\":\"Title\"},{\"attributes\":{},\"id\":\"4046796b-e23c-47db-856a-3c431af0e429\",\"type\":\"PanTool\"},{\"attributes\":{\"callback\":null},\"id\":\"171917d4-e8be-46e8-b165-92b03256f850\",\"type\":\"DataRange1d\"}],\"root_ids\":[\"e269dbc6-e33c-4a1a-abb3-996200e5043c\"]},\"title\":\"Bokeh Application\",\"version\":\"0.12.13\"}};\n",
       "  var render_items = [{\"docid\":\"fea6df1c-3536-4ad7-b0f5-931474b282b9\",\"elementid\":\"3c896754-c6ab-4595-a530-19a3a7078f16\",\"modelid\":\"e269dbc6-e33c-4a1a-abb3-996200e5043c\"}];\n",
       "  root.Bokeh.embed.embed_items_notebook(docs_json, render_items);\n",
       "\n",
       "  }\n",
       "  if (root.Bokeh !== undefined) {\n",
       "    embed_document(root);\n",
       "  } else {\n",
       "    var attempts = 0;\n",
       "    var timer = setInterval(function(root) {\n",
       "      if (root.Bokeh !== undefined) {\n",
       "        embed_document(root);\n",
       "        clearInterval(timer);\n",
       "      }\n",
       "      attempts++;\n",
       "      if (attempts > 100) {\n",
       "        console.log(\"Bokeh: ERROR: Unable to run BokehJS code because BokehJS library is missing\")\n",
       "        clearInterval(timer);\n",
       "      }\n",
       "    }, 10, root)\n",
       "  }\n",
       "})(window);"
      ],
      "application/vnd.bokehjs_exec.v0+json": ""
     },
     "metadata": {
      "application/vnd.bokehjs_exec.v0+json": {
       "id": "e269dbc6-e33c-4a1a-abb3-996200e5043c"
      }
     },
     "output_type": "display_data"
    }
   ],
   "source": [
    "# create a new plot with default tools, using figure\n",
    "p = figure(plot_width=400, plot_height=400)\n",
    "\n",
    "# add a circle renderer with a size, color, and alpha\n",
    "p.circle([1, 2, 3, 4, 5], [6, 7, 2, 4, 5], size=15, line_color=\"navy\", fill_color=\"orange\", fill_alpha=0.5)\n",
    "\n",
    "show(p) # show the results"
   ]
  },
  {
   "cell_type": "code",
   "execution_count": 3,
   "metadata": {},
   "outputs": [
    {
     "data": {
      "text/html": [
       "\n",
       "<div class=\"bk-root\">\n",
       "    <div class=\"bk-plotdiv\" id=\"4a8d1132-09c5-4467-8451-88d799780594\"></div>\n",
       "</div>"
      ]
     },
     "metadata": {},
     "output_type": "display_data"
    },
    {
     "data": {
      "application/javascript": [
       "(function(root) {\n",
       "  function embed_document(root) {\n",
       "    \n",
       "  var docs_json = {\"d8c31981-1ae2-48d8-b13f-768ccd0c51a0\":{\"roots\":{\"references\":[{\"attributes\":{\"fill_alpha\":{\"value\":0.1},\"fill_color\":{\"value\":\"#1f77b4\"},\"line_alpha\":{\"value\":0.1},\"line_color\":{\"value\":\"#1f77b4\"},\"size\":{\"field\":\"size\",\"units\":\"screen\"},\"x\":{\"field\":\"x\"},\"y\":{\"field\":\"y\"}},\"id\":\"fb1640ac-b2b1-40fc-8197-3102d629e641\",\"type\":\"Square\"},{\"attributes\":{\"plot\":null,\"text\":\"\"},\"id\":\"0243302b-41bf-477e-bd5c-abc5de8e8bd7\",\"type\":\"Title\"},{\"attributes\":{\"formatter\":{\"id\":\"77edc851-b882-413c-a6a9-b01242a3cc1a\",\"type\":\"BasicTickFormatter\"},\"plot\":{\"id\":\"c14b79c7-e83c-4a66-85f2-e66e10791d0f\",\"subtype\":\"Figure\",\"type\":\"Plot\"},\"ticker\":{\"id\":\"46c686ff-c80b-475e-b0b0-17f617c92624\",\"type\":\"BasicTicker\"}},\"id\":\"7075838c-0630-4baa-8d4e-e48cd3c0f654\",\"type\":\"LinearAxis\"},{\"attributes\":{},\"id\":\"77edc851-b882-413c-a6a9-b01242a3cc1a\",\"type\":\"BasicTickFormatter\"},{\"attributes\":{},\"id\":\"72bc5d53-22b1-48d3-9d24-ee1b26e45a4e\",\"type\":\"HelpTool\"},{\"attributes\":{\"plot\":{\"id\":\"c14b79c7-e83c-4a66-85f2-e66e10791d0f\",\"subtype\":\"Figure\",\"type\":\"Plot\"},\"ticker\":{\"id\":\"46c686ff-c80b-475e-b0b0-17f617c92624\",\"type\":\"BasicTicker\"}},\"id\":\"1a80de7a-f29d-4f49-a003-ab9aaa3156f1\",\"type\":\"Grid\"},{\"attributes\":{},\"id\":\"c1900bf3-20de-4c57-a558-f5d0cb57f5e1\",\"type\":\"BasicTickFormatter\"},{\"attributes\":{\"bottom_units\":\"screen\",\"fill_alpha\":{\"value\":0.5},\"fill_color\":{\"value\":\"lightgrey\"},\"left_units\":\"screen\",\"level\":\"overlay\",\"line_alpha\":{\"value\":1.0},\"line_color\":{\"value\":\"black\"},\"line_dash\":[4,4],\"line_width\":{\"value\":2},\"plot\":null,\"render_mode\":\"css\",\"right_units\":\"screen\",\"top_units\":\"screen\"},\"id\":\"3f2a0f37-907d-42ac-85d3-128645fbf6e9\",\"type\":\"BoxAnnotation\"},{\"attributes\":{\"dimension\":1,\"plot\":{\"id\":\"c14b79c7-e83c-4a66-85f2-e66e10791d0f\",\"subtype\":\"Figure\",\"type\":\"Plot\"},\"ticker\":{\"id\":\"014a4261-80eb-4f06-8938-ce8bcb71c0c9\",\"type\":\"BasicTicker\"}},\"id\":\"96f56200-636d-4bcd-a312-62ec68ad2db1\",\"type\":\"Grid\"},{\"attributes\":{},\"id\":\"cf4659ae-9fc3-4106-ba4b-115b81f490a3\",\"type\":\"WheelZoomTool\"},{\"attributes\":{},\"id\":\"014a4261-80eb-4f06-8938-ce8bcb71c0c9\",\"type\":\"BasicTicker\"},{\"attributes\":{\"overlay\":{\"id\":\"3f2a0f37-907d-42ac-85d3-128645fbf6e9\",\"type\":\"BoxAnnotation\"}},\"id\":\"3c785558-5bb0-41e3-8002-6e39e5bb835c\",\"type\":\"BoxZoomTool\"},{\"attributes\":{},\"id\":\"b8b62252-e688-487f-a227-d970029ac641\",\"type\":\"ResetTool\"},{\"attributes\":{\"callback\":null},\"id\":\"74e89f03-8246-4485-8d6a-5e58cac37f20\",\"type\":\"DataRange1d\"},{\"attributes\":{\"formatter\":{\"id\":\"c1900bf3-20de-4c57-a558-f5d0cb57f5e1\",\"type\":\"BasicTickFormatter\"},\"plot\":{\"id\":\"c14b79c7-e83c-4a66-85f2-e66e10791d0f\",\"subtype\":\"Figure\",\"type\":\"Plot\"},\"ticker\":{\"id\":\"014a4261-80eb-4f06-8938-ce8bcb71c0c9\",\"type\":\"BasicTicker\"}},\"id\":\"9e18c92d-8448-4f5f-8287-5248de07e3b1\",\"type\":\"LinearAxis\"},{\"attributes\":{},\"id\":\"8109137c-2a76-48ac-a0c1-9a9248790f8b\",\"type\":\"SaveTool\"},{\"attributes\":{},\"id\":\"46c686ff-c80b-475e-b0b0-17f617c92624\",\"type\":\"BasicTicker\"},{\"attributes\":{\"below\":[{\"id\":\"7075838c-0630-4baa-8d4e-e48cd3c0f654\",\"type\":\"LinearAxis\"}],\"left\":[{\"id\":\"9e18c92d-8448-4f5f-8287-5248de07e3b1\",\"type\":\"LinearAxis\"}],\"plot_height\":400,\"plot_width\":400,\"renderers\":[{\"id\":\"7075838c-0630-4baa-8d4e-e48cd3c0f654\",\"type\":\"LinearAxis\"},{\"id\":\"1a80de7a-f29d-4f49-a003-ab9aaa3156f1\",\"type\":\"Grid\"},{\"id\":\"9e18c92d-8448-4f5f-8287-5248de07e3b1\",\"type\":\"LinearAxis\"},{\"id\":\"96f56200-636d-4bcd-a312-62ec68ad2db1\",\"type\":\"Grid\"},{\"id\":\"3f2a0f37-907d-42ac-85d3-128645fbf6e9\",\"type\":\"BoxAnnotation\"},{\"id\":\"bfcaed8d-0bc6-4cd7-a4e7-b464f850b4e3\",\"type\":\"GlyphRenderer\"}],\"title\":{\"id\":\"0243302b-41bf-477e-bd5c-abc5de8e8bd7\",\"type\":\"Title\"},\"toolbar\":{\"id\":\"b3454211-7956-4612-b891-609480645ba4\",\"type\":\"Toolbar\"},\"x_range\":{\"id\":\"ff7b5615-120c-4b8a-bcc6-e0505413f376\",\"type\":\"DataRange1d\"},\"x_scale\":{\"id\":\"c9e9cefd-6814-468b-9d33-69b14011b80c\",\"type\":\"LinearScale\"},\"y_range\":{\"id\":\"74e89f03-8246-4485-8d6a-5e58cac37f20\",\"type\":\"DataRange1d\"},\"y_scale\":{\"id\":\"aa56a1c2-5e5f-4a82-a730-dfc0a194f76c\",\"type\":\"LinearScale\"}},\"id\":\"c14b79c7-e83c-4a66-85f2-e66e10791d0f\",\"subtype\":\"Figure\",\"type\":\"Plot\"},{\"attributes\":{},\"id\":\"aa56a1c2-5e5f-4a82-a730-dfc0a194f76c\",\"type\":\"LinearScale\"},{\"attributes\":{\"data_source\":{\"id\":\"2d1ffaaf-66b5-469f-bcd7-3f2818fb7ce4\",\"type\":\"ColumnDataSource\"},\"glyph\":{\"id\":\"4516eb9b-0889-4a20-a2f7-f54d01a3f821\",\"type\":\"Square\"},\"hover_glyph\":null,\"muted_glyph\":null,\"nonselection_glyph\":{\"id\":\"fb1640ac-b2b1-40fc-8197-3102d629e641\",\"type\":\"Square\"},\"selection_glyph\":null,\"view\":{\"id\":\"697e2e21-ca77-49f3-b37c-a98ed18848bd\",\"type\":\"CDSView\"}},\"id\":\"bfcaed8d-0bc6-4cd7-a4e7-b464f850b4e3\",\"type\":\"GlyphRenderer\"},{\"attributes\":{\"callback\":null,\"column_names\":[\"x\",\"y\",\"size\"],\"data\":{\"size\":[10,15,20,25,30],\"x\":[1,2,3,4,5],\"y\":[6,7,2,4,5]}},\"id\":\"2d1ffaaf-66b5-469f-bcd7-3f2818fb7ce4\",\"type\":\"ColumnDataSource\"},{\"attributes\":{},\"id\":\"c9e9cefd-6814-468b-9d33-69b14011b80c\",\"type\":\"LinearScale\"},{\"attributes\":{\"source\":{\"id\":\"2d1ffaaf-66b5-469f-bcd7-3f2818fb7ce4\",\"type\":\"ColumnDataSource\"}},\"id\":\"697e2e21-ca77-49f3-b37c-a98ed18848bd\",\"type\":\"CDSView\"},{\"attributes\":{},\"id\":\"e0731e33-8f05-4243-83af-9b82c8de12c2\",\"type\":\"PanTool\"},{\"attributes\":{\"callback\":null},\"id\":\"ff7b5615-120c-4b8a-bcc6-e0505413f376\",\"type\":\"DataRange1d\"},{\"attributes\":{\"fill_alpha\":{\"value\":0.6},\"fill_color\":{\"value\":\"firebrick\"},\"line_alpha\":{\"value\":0.6},\"line_color\":{\"value\":\"firebrick\"},\"size\":{\"field\":\"size\",\"units\":\"screen\"},\"x\":{\"field\":\"x\"},\"y\":{\"field\":\"y\"}},\"id\":\"4516eb9b-0889-4a20-a2f7-f54d01a3f821\",\"type\":\"Square\"},{\"attributes\":{\"active_drag\":\"auto\",\"active_inspect\":\"auto\",\"active_scroll\":\"auto\",\"active_tap\":\"auto\",\"tools\":[{\"id\":\"e0731e33-8f05-4243-83af-9b82c8de12c2\",\"type\":\"PanTool\"},{\"id\":\"cf4659ae-9fc3-4106-ba4b-115b81f490a3\",\"type\":\"WheelZoomTool\"},{\"id\":\"3c785558-5bb0-41e3-8002-6e39e5bb835c\",\"type\":\"BoxZoomTool\"},{\"id\":\"8109137c-2a76-48ac-a0c1-9a9248790f8b\",\"type\":\"SaveTool\"},{\"id\":\"b8b62252-e688-487f-a227-d970029ac641\",\"type\":\"ResetTool\"},{\"id\":\"72bc5d53-22b1-48d3-9d24-ee1b26e45a4e\",\"type\":\"HelpTool\"}]},\"id\":\"b3454211-7956-4612-b891-609480645ba4\",\"type\":\"Toolbar\"}],\"root_ids\":[\"c14b79c7-e83c-4a66-85f2-e66e10791d0f\"]},\"title\":\"Bokeh Application\",\"version\":\"0.12.13\"}};\n",
       "  var render_items = [{\"docid\":\"d8c31981-1ae2-48d8-b13f-768ccd0c51a0\",\"elementid\":\"4a8d1132-09c5-4467-8451-88d799780594\",\"modelid\":\"c14b79c7-e83c-4a66-85f2-e66e10791d0f\"}];\n",
       "  root.Bokeh.embed.embed_items_notebook(docs_json, render_items);\n",
       "\n",
       "  }\n",
       "  if (root.Bokeh !== undefined) {\n",
       "    embed_document(root);\n",
       "  } else {\n",
       "    var attempts = 0;\n",
       "    var timer = setInterval(function(root) {\n",
       "      if (root.Bokeh !== undefined) {\n",
       "        embed_document(root);\n",
       "        clearInterval(timer);\n",
       "      }\n",
       "      attempts++;\n",
       "      if (attempts > 100) {\n",
       "        console.log(\"Bokeh: ERROR: Unable to run BokehJS code because BokehJS library is missing\")\n",
       "        clearInterval(timer);\n",
       "      }\n",
       "    }, 10, root)\n",
       "  }\n",
       "})(window);"
      ],
      "application/vnd.bokehjs_exec.v0+json": ""
     },
     "metadata": {
      "application/vnd.bokehjs_exec.v0+json": {
       "id": "c14b79c7-e83c-4a66-85f2-e66e10791d0f"
      }
     },
     "output_type": "display_data"
    }
   ],
   "source": [
    "# create a new plot using figure\n",
    "p = figure(plot_width=400, plot_height=400)\n",
    "\n",
    "# add a square renderer with a size, color, alpha, and sizes\n",
    "p.square([1, 2, 3, 4, 5], [6, 7, 2, 4, 5], size=[10, 15, 20, 25, 30], color=\"firebrick\", alpha=0.6)\n",
    "\n",
    "show(p) # show the results"
   ]
  },
  {
   "cell_type": "markdown",
   "metadata": {},
   "source": [
    "### marker \n",
    "\n",
    "<table class=\"hlist\" style=\"float:left\"><tr><td><ul>\n",
    "<li><a href=\"http://bokeh.pydata.org/en/latest/docs/reference/plotting.html#bokeh.plotting.Figure.asterisk\" title=\"bokeh.plotting.Figure.asterisk\"><code class=\"xref py py-func docutils literal\"><span class=\"pre\">asterisk()</span></code></a></li>\n",
    "<li><a href=\"http://bokeh.pydata.org/en/latest/docs/reference/plotting.html#bokeh.plotting.Figure.circle\" title=\"bokeh.plotting.Figure.circle\"><code class=\"xref py py-func docutils literal\"><span class=\"pre\">circle()</span></code></a></li>\n",
    "<li><a href=\"http://bokeh.pydata.org/en/latest/docs/reference/plotting.html#bokeh.plotting.Figure.circle_cross\" title=\"bokeh.plotting.Figure.circle_cross\"><code class=\"xref py py-func docutils literal\"><span class=\"pre\">circle_cross()</span></code></a></li>\n",
    "<li><a href=\"http://bokeh.pydata.org/en/latest/docs/reference/plotting.html#bokeh.plotting.Figure.circle_x\" title=\"bokeh.plotting.Figure.circle_x\"><code class=\"xref py py-func docutils literal\"><span class=\"pre\">circle_x()</span></code></a></li>\n",
    "<li><a href=\"http://bokeh.pydata.org/en/latest/docs/reference/plotting.html#bokeh.plotting.Figure.cross\" title=\"bokeh.plotting.Figure.cross\"><code class=\"xref py py-func docutils literal\"><span class=\"pre\">cross()</span></code></a></li>\n",
    "</ul>\n",
    "</td><td><ul>\n",
    "<li><a href=\"http://bokeh.pydata.org/en/latest/docs/reference/plotting.html#bokeh.plotting.Figure.diamond\" title=\"bokeh.plotting.Figure.diamond\"><code class=\"xref py py-func docutils literal\"><span class=\"pre\">diamond()</span></code></a></li>\n",
    "<li><a href=\"http://bokeh.pydata.org/en/latest/docs/reference/plotting.html#bokeh.plotting.Figure.diamond_cross\" title=\"bokeh.plotting.Figure.diamond_cross\"><code class=\"xref py py-func docutils literal\"><span class=\"pre\">diamond_cross()</span></code></a></li>\n",
    "<li><a href=\"http://bokeh.pydata.org/en/latest/docs/reference/plotting.html#bokeh.plotting.Figure.inverted_triangle\" title=\"bokeh.plotting.Figure.inverted_triangle\"><code class=\"xref py py-func docutils literal\"><span class=\"pre\">inverted_triangle()</span></code></a></li>\n",
    "<li><a href=\"http://bokeh.pydata.org/en/latest/docs/reference/plotting.html#bokeh.plotting.Figure.square\" title=\"bokeh.plotting.Figure.square\"><code class=\"xref py py-func docutils literal\"><span class=\"pre\">square()</span></code></a></li>\n",
    "</ul>\n",
    "</td><td><ul>\n",
    "<li><a href=\"http://bokeh.pydata.org/en/latest/docs/reference/plotting.html#bokeh.plotting.Figure.square_cross\" title=\"bokeh.plotting.Figure.square_cross\"><code class=\"xref py py-func docutils literal\"><span class=\"pre\">square_cross()</span></code></a></li>\n",
    "<li><a href=\"http://bokeh.pydata.org/en/latest/docs/reference/plotting.html#bokeh.plotting.Figure.square_x\" title=\"bokeh.plotting.Figure.square_x\"><code class=\"xref py py-func docutils literal\"><span class=\"pre\">square_x()</span></code></a></li>\n",
    "<li><a href=\"http://bokeh.pydata.org/en/latest/docs/reference/plotting.html#bokeh.plotting.Figure.triangle\" title=\"bokeh.plotting.Figure.triangle\"><code class=\"xref py py-func docutils literal\"><span class=\"pre\">triangle()</span></code></a></li>\n",
    "<li><a href=\"http://bokeh.pydata.org/en/latest/docs/reference/plotting.html#bokeh.plotting.Figure.x\" title=\"bokeh.plotting.Figure.x\"><code class=\"xref py py-func docutils literal\"><span class=\"pre\">x()</span></code></a></li>\n",
    "</ul>\n",
    "</td></tr></table>"
   ]
  },
  {
   "cell_type": "markdown",
   "metadata": {},
   "source": [
    "## Basic Line Plots"
   ]
  },
  {
   "cell_type": "code",
   "execution_count": 4,
   "metadata": {},
   "outputs": [
    {
     "data": {
      "text/html": [
       "\n",
       "<div class=\"bk-root\">\n",
       "    <div class=\"bk-plotdiv\" id=\"a6dbc528-3cfe-4e3a-abbf-30806e8e48c6\"></div>\n",
       "</div>"
      ]
     },
     "metadata": {},
     "output_type": "display_data"
    },
    {
     "data": {
      "application/javascript": [
       "(function(root) {\n",
       "  function embed_document(root) {\n",
       "    \n",
       "  var docs_json = {\"f982a092-ee4a-48de-bdd0-4aa9fb2a6028\":{\"roots\":{\"references\":[{\"attributes\":{},\"id\":\"91d90126-53e5-48ab-9318-f1af11a3bfed\",\"type\":\"LinearScale\"},{\"attributes\":{},\"id\":\"947b7f3f-19c1-4804-8342-0de072eb81fc\",\"type\":\"SaveTool\"},{\"attributes\":{\"bottom_units\":\"screen\",\"fill_alpha\":{\"value\":0.5},\"fill_color\":{\"value\":\"lightgrey\"},\"left_units\":\"screen\",\"level\":\"overlay\",\"line_alpha\":{\"value\":1.0},\"line_color\":{\"value\":\"black\"},\"line_dash\":[4,4],\"line_width\":{\"value\":2},\"plot\":null,\"render_mode\":\"css\",\"right_units\":\"screen\",\"top_units\":\"screen\"},\"id\":\"4fc179da-a079-444e-a5a2-5b4dfa40d234\",\"type\":\"BoxAnnotation\"},{\"attributes\":{\"data_source\":{\"id\":\"4cf3cf8e-0f1c-4452-9d6e-61dbce7411de\",\"type\":\"ColumnDataSource\"},\"glyph\":{\"id\":\"c6642d5f-3729-4098-81ae-7eead90451a8\",\"type\":\"Line\"},\"hover_glyph\":null,\"muted_glyph\":null,\"nonselection_glyph\":{\"id\":\"c64c808a-c5e5-4c1d-a87a-8b7b8a800132\",\"type\":\"Line\"},\"selection_glyph\":null,\"view\":{\"id\":\"e2a5721e-e1ec-4bf4-8abf-cd9daa6e2964\",\"type\":\"CDSView\"}},\"id\":\"c9477796-8d82-4b71-b2ed-64bf498ed343\",\"type\":\"GlyphRenderer\"},{\"attributes\":{},\"id\":\"56003ec2-a621-4d50-89aa-0a39f3bc91a3\",\"type\":\"PanTool\"},{\"attributes\":{},\"id\":\"99afc24b-9967-4f67-8a02-122c6db12931\",\"type\":\"HelpTool\"},{\"attributes\":{\"line_alpha\":0.1,\"line_color\":\"#1f77b4\",\"line_width\":2,\"x\":{\"field\":\"x\"},\"y\":{\"field\":\"y\"}},\"id\":\"c64c808a-c5e5-4c1d-a87a-8b7b8a800132\",\"type\":\"Line\"},{\"attributes\":{},\"id\":\"f0307a34-7ddd-4995-a524-e1a9307fbd21\",\"type\":\"BasicTicker\"},{\"attributes\":{},\"id\":\"a00fb00a-0e85-456e-8a68-31f011c23783\",\"type\":\"ResetTool\"},{\"attributes\":{},\"id\":\"0093665c-515e-41b6-9674-3d9071e0dadf\",\"type\":\"WheelZoomTool\"},{\"attributes\":{\"plot\":{\"id\":\"f619d739-ed0e-4f97-9dbc-e03eb2e14822\",\"subtype\":\"Figure\",\"type\":\"Plot\"},\"ticker\":{\"id\":\"665b1a2d-202b-4142-b86e-6dec754cc3d7\",\"type\":\"BasicTicker\"}},\"id\":\"f5e15cce-a342-4316-bbb0-59edf9aa5218\",\"type\":\"Grid\"},{\"attributes\":{},\"id\":\"d41cd640-29b5-4345-95ad-9c0f0bf1f667\",\"type\":\"LinearScale\"},{\"attributes\":{\"formatter\":{\"id\":\"3a744865-cfdd-440c-8db5-fe2e5affe841\",\"type\":\"BasicTickFormatter\"},\"plot\":{\"id\":\"f619d739-ed0e-4f97-9dbc-e03eb2e14822\",\"subtype\":\"Figure\",\"type\":\"Plot\"},\"ticker\":{\"id\":\"f0307a34-7ddd-4995-a524-e1a9307fbd21\",\"type\":\"BasicTicker\"}},\"id\":\"ad2fe986-d675-4bb6-a2cc-b3a521a9a3a5\",\"type\":\"LinearAxis\"},{\"attributes\":{\"plot\":null,\"text\":\"My Line Plot\"},\"id\":\"08ebf10b-6139-4fb1-9984-6822f958e165\",\"type\":\"Title\"},{\"attributes\":{\"line_color\":\"#1f77b4\",\"line_width\":2,\"x\":{\"field\":\"x\"},\"y\":{\"field\":\"y\"}},\"id\":\"c6642d5f-3729-4098-81ae-7eead90451a8\",\"type\":\"Line\"},{\"attributes\":{\"callback\":null},\"id\":\"e7b7357f-75ec-427a-9586-54d789b1b2a6\",\"type\":\"DataRange1d\"},{\"attributes\":{\"overlay\":{\"id\":\"4fc179da-a079-444e-a5a2-5b4dfa40d234\",\"type\":\"BoxAnnotation\"}},\"id\":\"07f57eed-4847-4871-b2b2-db94ce5b9259\",\"type\":\"BoxZoomTool\"},{\"attributes\":{},\"id\":\"665b1a2d-202b-4142-b86e-6dec754cc3d7\",\"type\":\"BasicTicker\"},{\"attributes\":{\"active_drag\":\"auto\",\"active_inspect\":\"auto\",\"active_scroll\":\"auto\",\"active_tap\":\"auto\",\"tools\":[{\"id\":\"56003ec2-a621-4d50-89aa-0a39f3bc91a3\",\"type\":\"PanTool\"},{\"id\":\"0093665c-515e-41b6-9674-3d9071e0dadf\",\"type\":\"WheelZoomTool\"},{\"id\":\"07f57eed-4847-4871-b2b2-db94ce5b9259\",\"type\":\"BoxZoomTool\"},{\"id\":\"947b7f3f-19c1-4804-8342-0de072eb81fc\",\"type\":\"SaveTool\"},{\"id\":\"a00fb00a-0e85-456e-8a68-31f011c23783\",\"type\":\"ResetTool\"},{\"id\":\"99afc24b-9967-4f67-8a02-122c6db12931\",\"type\":\"HelpTool\"}]},\"id\":\"1de2279c-d44e-4782-9a73-844dfeb9a625\",\"type\":\"Toolbar\"},{\"attributes\":{\"formatter\":{\"id\":\"0285050a-8861-4d04-aa4e-1f53295f1b7b\",\"type\":\"BasicTickFormatter\"},\"plot\":{\"id\":\"f619d739-ed0e-4f97-9dbc-e03eb2e14822\",\"subtype\":\"Figure\",\"type\":\"Plot\"},\"ticker\":{\"id\":\"665b1a2d-202b-4142-b86e-6dec754cc3d7\",\"type\":\"BasicTicker\"}},\"id\":\"2fb89cec-377b-465c-b27b-e252165bd396\",\"type\":\"LinearAxis\"},{\"attributes\":{\"dimension\":1,\"plot\":{\"id\":\"f619d739-ed0e-4f97-9dbc-e03eb2e14822\",\"subtype\":\"Figure\",\"type\":\"Plot\"},\"ticker\":{\"id\":\"f0307a34-7ddd-4995-a524-e1a9307fbd21\",\"type\":\"BasicTicker\"}},\"id\":\"d180abc7-f595-44d3-9264-c7093a45be50\",\"type\":\"Grid\"},{\"attributes\":{\"below\":[{\"id\":\"2fb89cec-377b-465c-b27b-e252165bd396\",\"type\":\"LinearAxis\"}],\"left\":[{\"id\":\"ad2fe986-d675-4bb6-a2cc-b3a521a9a3a5\",\"type\":\"LinearAxis\"}],\"plot_height\":400,\"plot_width\":400,\"renderers\":[{\"id\":\"2fb89cec-377b-465c-b27b-e252165bd396\",\"type\":\"LinearAxis\"},{\"id\":\"f5e15cce-a342-4316-bbb0-59edf9aa5218\",\"type\":\"Grid\"},{\"id\":\"ad2fe986-d675-4bb6-a2cc-b3a521a9a3a5\",\"type\":\"LinearAxis\"},{\"id\":\"d180abc7-f595-44d3-9264-c7093a45be50\",\"type\":\"Grid\"},{\"id\":\"4fc179da-a079-444e-a5a2-5b4dfa40d234\",\"type\":\"BoxAnnotation\"},{\"id\":\"c9477796-8d82-4b71-b2ed-64bf498ed343\",\"type\":\"GlyphRenderer\"}],\"title\":{\"id\":\"08ebf10b-6139-4fb1-9984-6822f958e165\",\"type\":\"Title\"},\"toolbar\":{\"id\":\"1de2279c-d44e-4782-9a73-844dfeb9a625\",\"type\":\"Toolbar\"},\"x_range\":{\"id\":\"d6ad4ea8-d60f-406c-9159-14ce779a0a33\",\"type\":\"DataRange1d\"},\"x_scale\":{\"id\":\"91d90126-53e5-48ab-9318-f1af11a3bfed\",\"type\":\"LinearScale\"},\"y_range\":{\"id\":\"e7b7357f-75ec-427a-9586-54d789b1b2a6\",\"type\":\"DataRange1d\"},\"y_scale\":{\"id\":\"d41cd640-29b5-4345-95ad-9c0f0bf1f667\",\"type\":\"LinearScale\"}},\"id\":\"f619d739-ed0e-4f97-9dbc-e03eb2e14822\",\"subtype\":\"Figure\",\"type\":\"Plot\"},{\"attributes\":{\"callback\":null,\"column_names\":[\"x\",\"y\"],\"data\":{\"x\":[1,2,3,4,5],\"y\":[6,7,2,4,5]}},\"id\":\"4cf3cf8e-0f1c-4452-9d6e-61dbce7411de\",\"type\":\"ColumnDataSource\"},{\"attributes\":{\"source\":{\"id\":\"4cf3cf8e-0f1c-4452-9d6e-61dbce7411de\",\"type\":\"ColumnDataSource\"}},\"id\":\"e2a5721e-e1ec-4bf4-8abf-cd9daa6e2964\",\"type\":\"CDSView\"},{\"attributes\":{},\"id\":\"3a744865-cfdd-440c-8db5-fe2e5affe841\",\"type\":\"BasicTickFormatter\"},{\"attributes\":{\"callback\":null},\"id\":\"d6ad4ea8-d60f-406c-9159-14ce779a0a33\",\"type\":\"DataRange1d\"},{\"attributes\":{},\"id\":\"0285050a-8861-4d04-aa4e-1f53295f1b7b\",\"type\":\"BasicTickFormatter\"}],\"root_ids\":[\"f619d739-ed0e-4f97-9dbc-e03eb2e14822\"]},\"title\":\"Bokeh Application\",\"version\":\"0.12.13\"}};\n",
       "  var render_items = [{\"docid\":\"f982a092-ee4a-48de-bdd0-4aa9fb2a6028\",\"elementid\":\"a6dbc528-3cfe-4e3a-abbf-30806e8e48c6\",\"modelid\":\"f619d739-ed0e-4f97-9dbc-e03eb2e14822\"}];\n",
       "  root.Bokeh.embed.embed_items_notebook(docs_json, render_items);\n",
       "\n",
       "  }\n",
       "  if (root.Bokeh !== undefined) {\n",
       "    embed_document(root);\n",
       "  } else {\n",
       "    var attempts = 0;\n",
       "    var timer = setInterval(function(root) {\n",
       "      if (root.Bokeh !== undefined) {\n",
       "        embed_document(root);\n",
       "        clearInterval(timer);\n",
       "      }\n",
       "      attempts++;\n",
       "      if (attempts > 100) {\n",
       "        console.log(\"Bokeh: ERROR: Unable to run BokehJS code because BokehJS library is missing\")\n",
       "        clearInterval(timer);\n",
       "      }\n",
       "    }, 10, root)\n",
       "  }\n",
       "})(window);"
      ],
      "application/vnd.bokehjs_exec.v0+json": ""
     },
     "metadata": {
      "application/vnd.bokehjs_exec.v0+json": {
       "id": "f619d739-ed0e-4f97-9dbc-e03eb2e14822"
      }
     },
     "output_type": "display_data"
    }
   ],
   "source": [
    "# create a new plot (with a title) using figure\n",
    "p = figure(plot_width=400, plot_height=400, title=\"My Line Plot\")\n",
    "\n",
    "# add a line renderer\n",
    "p.line([1, 2, 3, 4, 5], [6, 7, 2, 4, 5], line_width=2)\n",
    "\n",
    "show(p) # show the results"
   ]
  },
  {
   "cell_type": "markdown",
   "metadata": {},
   "source": [
    "## Images"
   ]
  },
  {
   "cell_type": "code",
   "execution_count": 5,
   "metadata": {},
   "outputs": [
    {
     "data": {
      "text/html": [
       "\n",
       "<div class=\"bk-root\">\n",
       "    <div class=\"bk-plotdiv\" id=\"e68bc8fb-e1da-43da-879e-b8569241a6ca\"></div>\n",
       "</div>"
      ]
     },
     "metadata": {},
     "output_type": "display_data"
    },
    {
     "data": {
      "application/javascript": [
       "(function(root) {\n",
       "  function embed_document(root) {\n",
       "    \n",
       "  var docs_json = {\"0d1eed8c-be9b-48d7-ae20-bd0f311be6e2\":{\"roots\":{\"references\":[{\"attributes\":{},\"id\":\"146f7507-c994-489a-b985-eac47c330042\",\"type\":\"ResetTool\"},{\"attributes\":{},\"id\":\"3260ccd4-9777-4f6b-b44e-eb08e1fd9269\",\"type\":\"LinearScale\"},{\"attributes\":{\"formatter\":{\"id\":\"be4b8c94-d111-4999-a04a-f16c25596017\",\"type\":\"BasicTickFormatter\"},\"plot\":{\"id\":\"fd21eda5-a9f7-40fe-9c73-46663cab0205\",\"subtype\":\"Figure\",\"type\":\"Plot\"},\"ticker\":{\"id\":\"6a35947f-1ac4-4e23-92fe-642d33c174b5\",\"type\":\"BasicTicker\"}},\"id\":\"9a382d9e-e5ba-4713-9966-268daf0178d3\",\"type\":\"LinearAxis\"},{\"attributes\":{},\"id\":\"2b9e8627-0244-4783-9123-e7cf209d187b\",\"type\":\"HelpTool\"},{\"attributes\":{},\"id\":\"aa71f744-c15b-4b67-b100-09a6e6f54375\",\"type\":\"LinearScale\"},{\"attributes\":{\"formatter\":{\"id\":\"0eda4012-747b-4e1c-a551-7fd958f47d94\",\"type\":\"BasicTickFormatter\"},\"plot\":{\"id\":\"fd21eda5-a9f7-40fe-9c73-46663cab0205\",\"subtype\":\"Figure\",\"type\":\"Plot\"},\"ticker\":{\"id\":\"d79a7b81-f661-4027-b447-c472719d0e83\",\"type\":\"BasicTicker\"}},\"id\":\"e538a918-dafc-4cf5-b00a-1e098e65a549\",\"type\":\"LinearAxis\"},{\"attributes\":{\"plot\":null,\"text\":\"\"},\"id\":\"fc6ea321-0f9d-492b-aeb3-65cf5f849f10\",\"type\":\"Title\"},{\"attributes\":{\"plot\":{\"id\":\"fd21eda5-a9f7-40fe-9c73-46663cab0205\",\"subtype\":\"Figure\",\"type\":\"Plot\"},\"ticker\":{\"id\":\"6a35947f-1ac4-4e23-92fe-642d33c174b5\",\"type\":\"BasicTicker\"}},\"id\":\"b29d0136-5459-4c41-95e0-08b190af7a37\",\"type\":\"Grid\"},{\"attributes\":{},\"id\":\"0eda4012-747b-4e1c-a551-7fd958f47d94\",\"type\":\"BasicTickFormatter\"},{\"attributes\":{},\"id\":\"d79a7b81-f661-4027-b447-c472719d0e83\",\"type\":\"BasicTicker\"},{\"attributes\":{\"dimension\":1,\"plot\":{\"id\":\"fd21eda5-a9f7-40fe-9c73-46663cab0205\",\"subtype\":\"Figure\",\"type\":\"Plot\"},\"ticker\":{\"id\":\"d79a7b81-f661-4027-b447-c472719d0e83\",\"type\":\"BasicTicker\"}},\"id\":\"8c3d8a0d-4ddc-4d4b-ae34-8fac57b2f28e\",\"type\":\"Grid\"},{\"attributes\":{\"dh\":{\"field\":\"dh\",\"units\":\"data\"},\"dw\":{\"field\":\"dw\",\"units\":\"data\"},\"image\":{\"field\":\"image\"},\"x\":{\"field\":\"x\"},\"y\":{\"field\":\"y\"}},\"id\":\"36680a9e-354f-4cdc-9328-fbfeedf499e4\",\"type\":\"ImageRGBA\"},{\"attributes\":{},\"id\":\"be4b8c94-d111-4999-a04a-f16c25596017\",\"type\":\"BasicTickFormatter\"},{\"attributes\":{\"dh\":{\"field\":\"dh\",\"units\":\"data\"},\"dw\":{\"field\":\"dw\",\"units\":\"data\"},\"image\":{\"field\":\"image\"},\"x\":{\"field\":\"x\"},\"y\":{\"field\":\"y\"}},\"id\":\"f51bdc33-0268-4fa2-8378-3341588028e1\",\"type\":\"ImageRGBA\"},{\"attributes\":{\"callback\":null,\"column_names\":[\"image\",\"x\",\"y\",\"dw\",\"dh\"],\"data\":{\"dh\":[10],\"dw\":[10],\"image\":[{\"__ndarray__\":\"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\",\"dtype\":\"uint32\",\"shape\":[20,20]}],\"x\":[0],\"y\":[0]}},\"id\":\"0417563d-43c5-4ade-9e47-af81478a9eb3\",\"type\":\"ColumnDataSource\"},{\"attributes\":{\"bottom_units\":\"screen\",\"fill_alpha\":{\"value\":0.5},\"fill_color\":{\"value\":\"lightgrey\"},\"left_units\":\"screen\",\"level\":\"overlay\",\"line_alpha\":{\"value\":1.0},\"line_color\":{\"value\":\"black\"},\"line_dash\":[4,4],\"line_width\":{\"value\":2},\"plot\":null,\"render_mode\":\"css\",\"right_units\":\"screen\",\"top_units\":\"screen\"},\"id\":\"4273b240-7898-44a4-85e5-ec17e9bdb99b\",\"type\":\"BoxAnnotation\"},{\"attributes\":{\"data_source\":{\"id\":\"0417563d-43c5-4ade-9e47-af81478a9eb3\",\"type\":\"ColumnDataSource\"},\"glyph\":{\"id\":\"f51bdc33-0268-4fa2-8378-3341588028e1\",\"type\":\"ImageRGBA\"},\"hover_glyph\":null,\"muted_glyph\":null,\"nonselection_glyph\":{\"id\":\"36680a9e-354f-4cdc-9328-fbfeedf499e4\",\"type\":\"ImageRGBA\"},\"selection_glyph\":null,\"view\":{\"id\":\"e7208043-d2c6-4e3e-b1eb-b53ec15713fe\",\"type\":\"CDSView\"}},\"id\":\"bac5d666-9fa0-4148-b030-f097f7f3a60b\",\"type\":\"GlyphRenderer\"},{\"attributes\":{},\"id\":\"5f3ed204-5523-44c0-8d0d-14ebfcbd31c0\",\"type\":\"PanTool\"},{\"attributes\":{\"below\":[{\"id\":\"9a382d9e-e5ba-4713-9966-268daf0178d3\",\"type\":\"LinearAxis\"}],\"left\":[{\"id\":\"e538a918-dafc-4cf5-b00a-1e098e65a549\",\"type\":\"LinearAxis\"}],\"renderers\":[{\"id\":\"9a382d9e-e5ba-4713-9966-268daf0178d3\",\"type\":\"LinearAxis\"},{\"id\":\"b29d0136-5459-4c41-95e0-08b190af7a37\",\"type\":\"Grid\"},{\"id\":\"e538a918-dafc-4cf5-b00a-1e098e65a549\",\"type\":\"LinearAxis\"},{\"id\":\"8c3d8a0d-4ddc-4d4b-ae34-8fac57b2f28e\",\"type\":\"Grid\"},{\"id\":\"4273b240-7898-44a4-85e5-ec17e9bdb99b\",\"type\":\"BoxAnnotation\"},{\"id\":\"bac5d666-9fa0-4148-b030-f097f7f3a60b\",\"type\":\"GlyphRenderer\"}],\"title\":{\"id\":\"fc6ea321-0f9d-492b-aeb3-65cf5f849f10\",\"type\":\"Title\"},\"toolbar\":{\"id\":\"cd774863-bc00-442e-8edf-75baeafcc87f\",\"type\":\"Toolbar\"},\"x_range\":{\"id\":\"ff65474f-5bb7-4348-959e-836a9d187b87\",\"type\":\"Range1d\"},\"x_scale\":{\"id\":\"3260ccd4-9777-4f6b-b44e-eb08e1fd9269\",\"type\":\"LinearScale\"},\"y_range\":{\"id\":\"c9400104-6edc-4674-8911-449316cdc0bf\",\"type\":\"Range1d\"},\"y_scale\":{\"id\":\"aa71f744-c15b-4b67-b100-09a6e6f54375\",\"type\":\"LinearScale\"}},\"id\":\"fd21eda5-a9f7-40fe-9c73-46663cab0205\",\"subtype\":\"Figure\",\"type\":\"Plot\"},{\"attributes\":{\"source\":{\"id\":\"0417563d-43c5-4ade-9e47-af81478a9eb3\",\"type\":\"ColumnDataSource\"}},\"id\":\"e7208043-d2c6-4e3e-b1eb-b53ec15713fe\",\"type\":\"CDSView\"},{\"attributes\":{\"active_drag\":\"auto\",\"active_inspect\":\"auto\",\"active_scroll\":\"auto\",\"active_tap\":\"auto\",\"tools\":[{\"id\":\"5f3ed204-5523-44c0-8d0d-14ebfcbd31c0\",\"type\":\"PanTool\"},{\"id\":\"8f566fe1-7967-433a-93a3-e090978fe22d\",\"type\":\"WheelZoomTool\"},{\"id\":\"a01a6d4b-58be-4009-a798-bef6897d92f4\",\"type\":\"BoxZoomTool\"},{\"id\":\"1ee2f8d0-2f2c-463b-97a5-7292cc0bdf07\",\"type\":\"SaveTool\"},{\"id\":\"146f7507-c994-489a-b985-eac47c330042\",\"type\":\"ResetTool\"},{\"id\":\"2b9e8627-0244-4783-9123-e7cf209d187b\",\"type\":\"HelpTool\"}]},\"id\":\"cd774863-bc00-442e-8edf-75baeafcc87f\",\"type\":\"Toolbar\"},{\"attributes\":{},\"id\":\"8f566fe1-7967-433a-93a3-e090978fe22d\",\"type\":\"WheelZoomTool\"},{\"attributes\":{\"callback\":null,\"end\":10},\"id\":\"ff65474f-5bb7-4348-959e-836a9d187b87\",\"type\":\"Range1d\"},{\"attributes\":{\"overlay\":{\"id\":\"4273b240-7898-44a4-85e5-ec17e9bdb99b\",\"type\":\"BoxAnnotation\"}},\"id\":\"a01a6d4b-58be-4009-a798-bef6897d92f4\",\"type\":\"BoxZoomTool\"},{\"attributes\":{},\"id\":\"6a35947f-1ac4-4e23-92fe-642d33c174b5\",\"type\":\"BasicTicker\"},{\"attributes\":{},\"id\":\"1ee2f8d0-2f2c-463b-97a5-7292cc0bdf07\",\"type\":\"SaveTool\"},{\"attributes\":{\"callback\":null,\"end\":10},\"id\":\"c9400104-6edc-4674-8911-449316cdc0bf\",\"type\":\"Range1d\"}],\"root_ids\":[\"fd21eda5-a9f7-40fe-9c73-46663cab0205\"]},\"title\":\"Bokeh Application\",\"version\":\"0.12.13\"}};\n",
       "  var render_items = [{\"docid\":\"0d1eed8c-be9b-48d7-ae20-bd0f311be6e2\",\"elementid\":\"e68bc8fb-e1da-43da-879e-b8569241a6ca\",\"modelid\":\"fd21eda5-a9f7-40fe-9c73-46663cab0205\"}];\n",
       "  root.Bokeh.embed.embed_items_notebook(docs_json, render_items);\n",
       "\n",
       "  }\n",
       "  if (root.Bokeh !== undefined) {\n",
       "    embed_document(root);\n",
       "  } else {\n",
       "    var attempts = 0;\n",
       "    var timer = setInterval(function(root) {\n",
       "      if (root.Bokeh !== undefined) {\n",
       "        embed_document(root);\n",
       "        clearInterval(timer);\n",
       "      }\n",
       "      attempts++;\n",
       "      if (attempts > 100) {\n",
       "        console.log(\"Bokeh: ERROR: Unable to run BokehJS code because BokehJS library is missing\")\n",
       "        clearInterval(timer);\n",
       "      }\n",
       "    }, 10, root)\n",
       "  }\n",
       "})(window);"
      ],
      "application/vnd.bokehjs_exec.v0+json": ""
     },
     "metadata": {
      "application/vnd.bokehjs_exec.v0+json": {
       "id": "fd21eda5-a9f7-40fe-9c73-46663cab0205"
      }
     },
     "output_type": "display_data"
    }
   ],
   "source": [
    "from __future__ import division\n",
    "import numpy as np\n",
    "\n",
    "# set up some data\n",
    "N = 20\n",
    "img = np.empty((N,N), dtype=np.uint32)\n",
    "view = img.view(dtype=np.uint8).reshape((N, N, 4))\n",
    "for i in range(N):\n",
    "    for j in range(N):\n",
    "        view[i, j, 0] = int(i/N*255) # red\n",
    "        view[i, j, 1] = 158          # green\n",
    "        view[i, j, 2] = int(j/N*255) # blue\n",
    "        view[i, j, 3] = 255          # alpha\n",
    "        \n",
    "# create a new plot (with a fixed range) using figure\n",
    "p = figure(x_range=[0,10], y_range=[0,10])\n",
    "\n",
    "# add an RGBA image renderer\n",
    "p.image_rgba(image=[img], x=[0], y=[0], dw=[10], dh=[10])\n",
    "\n",
    "show(p) # show the results"
   ]
  },
  {
   "cell_type": "markdown",
   "metadata": {},
   "source": [
    "## Other Kinds of Glyphs\n",
    "- Rectangles and Ovals\n",
    "- Segments and Rays\n",
    "- Wedges and Arcs\n",
    "- Specialized Curves"
   ]
  },
  {
   "cell_type": "markdown",
   "metadata": {},
   "source": [
    "## Plots with Multiple Glyphs"
   ]
  },
  {
   "cell_type": "code",
   "execution_count": 6,
   "metadata": {},
   "outputs": [
    {
     "data": {
      "text/html": [
       "\n",
       "<div class=\"bk-root\">\n",
       "    <div class=\"bk-plotdiv\" id=\"2060b474-5ac8-4a10-8009-d2693bf2fc70\"></div>\n",
       "</div>"
      ]
     },
     "metadata": {},
     "output_type": "display_data"
    },
    {
     "data": {
      "application/javascript": [
       "(function(root) {\n",
       "  function embed_document(root) {\n",
       "    \n",
       "  var docs_json = {\"c1e69a2c-5276-46ee-8059-e737e26b30c5\":{\"roots\":{\"references\":[{\"attributes\":{\"data_source\":{\"id\":\"24ad68af-59d7-41dd-be85-cdffc8749927\",\"type\":\"ColumnDataSource\"},\"glyph\":{\"id\":\"7e1d465b-587a-4765-b511-c8eb6e676053\",\"type\":\"Line\"},\"hover_glyph\":null,\"muted_glyph\":null,\"nonselection_glyph\":{\"id\":\"b5db71e1-03d0-4b1c-9d71-7ddd7bcb3113\",\"type\":\"Line\"},\"selection_glyph\":null,\"view\":{\"id\":\"cd3cc8bf-221c-4c63-9770-46c472a7adfb\",\"type\":\"CDSView\"}},\"id\":\"02d9ece3-55c9-42d0-9c15-c59a36dc8dc5\",\"type\":\"GlyphRenderer\"},{\"attributes\":{\"active_drag\":\"auto\",\"active_inspect\":\"auto\",\"active_scroll\":\"auto\",\"active_tap\":\"auto\",\"tools\":[{\"id\":\"8dcf0920-e710-401f-b34d-d1daba1515c5\",\"type\":\"PanTool\"},{\"id\":\"d7cd78c8-4905-46f2-9a54-d4be247ffd8b\",\"type\":\"WheelZoomTool\"},{\"id\":\"4b9b23e0-fca4-4b0d-ad2a-1da52f868db0\",\"type\":\"BoxZoomTool\"},{\"id\":\"ffe92e80-3c85-4d3f-bc58-e216deab1ff1\",\"type\":\"SaveTool\"},{\"id\":\"89148bef-2531-4c95-8b68-0961733eccd9\",\"type\":\"ResetTool\"},{\"id\":\"2220872f-9fc1-4d9a-830b-563e4482394d\",\"type\":\"HelpTool\"}]},\"id\":\"58225b97-a5dc-4445-b0a4-e5d5635afc86\",\"type\":\"Toolbar\"},{\"attributes\":{},\"id\":\"404012a5-5492-451e-a210-58e89a79caa6\",\"type\":\"BasicTickFormatter\"},{\"attributes\":{\"source\":{\"id\":\"24ad68af-59d7-41dd-be85-cdffc8749927\",\"type\":\"ColumnDataSource\"}},\"id\":\"cd3cc8bf-221c-4c63-9770-46c472a7adfb\",\"type\":\"CDSView\"},{\"attributes\":{\"below\":[{\"id\":\"f1dc1805-1f2a-4189-b85e-2c6957a11ce7\",\"type\":\"LinearAxis\"}],\"left\":[{\"id\":\"51c19f15-d933-422f-ba4c-e6a7ac6cc225\",\"type\":\"LinearAxis\"}],\"plot_height\":400,\"plot_width\":400,\"renderers\":[{\"id\":\"f1dc1805-1f2a-4189-b85e-2c6957a11ce7\",\"type\":\"LinearAxis\"},{\"id\":\"99a2b4a5-536b-4c52-9327-5ce92fe225c8\",\"type\":\"Grid\"},{\"id\":\"51c19f15-d933-422f-ba4c-e6a7ac6cc225\",\"type\":\"LinearAxis\"},{\"id\":\"6f4c154e-4efc-4ce3-831a-f36e9d3d8c56\",\"type\":\"Grid\"},{\"id\":\"429060ce-30ba-46ad-9d0a-cdf0c335992d\",\"type\":\"BoxAnnotation\"},{\"id\":\"02d9ece3-55c9-42d0-9c15-c59a36dc8dc5\",\"type\":\"GlyphRenderer\"},{\"id\":\"e2d3ff10-d155-41c3-90a4-da3feb9e72c8\",\"type\":\"GlyphRenderer\"}],\"title\":{\"id\":\"2f0a3e01-d7e5-42ec-9cc5-2cdbac3efd99\",\"type\":\"Title\"},\"toolbar\":{\"id\":\"58225b97-a5dc-4445-b0a4-e5d5635afc86\",\"type\":\"Toolbar\"},\"x_range\":{\"id\":\"bc523d87-1e40-489b-bdeb-6f2d356514c8\",\"type\":\"DataRange1d\"},\"x_scale\":{\"id\":\"c83841c2-9823-4f0f-8463-cff05ddc181f\",\"type\":\"LinearScale\"},\"y_range\":{\"id\":\"0eeb2139-da52-4c79-a243-8e3a67a74759\",\"type\":\"DataRange1d\"},\"y_scale\":{\"id\":\"e0f23bd2-0797-42f0-b504-7ae1b0df0971\",\"type\":\"LinearScale\"}},\"id\":\"9f67f634-8721-4046-bad3-5a64bbbb7abe\",\"subtype\":\"Figure\",\"type\":\"Plot\"},{\"attributes\":{\"callback\":null},\"id\":\"bc523d87-1e40-489b-bdeb-6f2d356514c8\",\"type\":\"DataRange1d\"},{\"attributes\":{\"fill_color\":{\"value\":\"white\"},\"line_color\":{\"value\":\"#1f77b4\"},\"size\":{\"units\":\"screen\",\"value\":8},\"x\":{\"field\":\"x\"},\"y\":{\"field\":\"y\"}},\"id\":\"dd71ad36-3cda-4cf4-a034-52b88445ab3a\",\"type\":\"Circle\"},{\"attributes\":{\"plot\":null,\"text\":\"\"},\"id\":\"2f0a3e01-d7e5-42ec-9cc5-2cdbac3efd99\",\"type\":\"Title\"},{\"attributes\":{},\"id\":\"d7cd78c8-4905-46f2-9a54-d4be247ffd8b\",\"type\":\"WheelZoomTool\"},{\"attributes\":{\"line_color\":\"#1f77b4\",\"line_width\":2,\"x\":{\"field\":\"x\"},\"y\":{\"field\":\"y\"}},\"id\":\"7e1d465b-587a-4765-b511-c8eb6e676053\",\"type\":\"Line\"},{\"attributes\":{\"callback\":null},\"id\":\"0eeb2139-da52-4c79-a243-8e3a67a74759\",\"type\":\"DataRange1d\"},{\"attributes\":{},\"id\":\"4aae792e-a940-4ecd-b3b8-89c5ab54120c\",\"type\":\"BasicTickFormatter\"},{\"attributes\":{},\"id\":\"c83841c2-9823-4f0f-8463-cff05ddc181f\",\"type\":\"LinearScale\"},{\"attributes\":{},\"id\":\"e0f23bd2-0797-42f0-b504-7ae1b0df0971\",\"type\":\"LinearScale\"},{\"attributes\":{\"plot\":{\"id\":\"9f67f634-8721-4046-bad3-5a64bbbb7abe\",\"subtype\":\"Figure\",\"type\":\"Plot\"},\"ticker\":{\"id\":\"b156664f-41e8-47d7-8588-1f1057b25a70\",\"type\":\"BasicTicker\"}},\"id\":\"99a2b4a5-536b-4c52-9327-5ce92fe225c8\",\"type\":\"Grid\"},{\"attributes\":{\"formatter\":{\"id\":\"404012a5-5492-451e-a210-58e89a79caa6\",\"type\":\"BasicTickFormatter\"},\"plot\":{\"id\":\"9f67f634-8721-4046-bad3-5a64bbbb7abe\",\"subtype\":\"Figure\",\"type\":\"Plot\"},\"ticker\":{\"id\":\"b156664f-41e8-47d7-8588-1f1057b25a70\",\"type\":\"BasicTicker\"}},\"id\":\"f1dc1805-1f2a-4189-b85e-2c6957a11ce7\",\"type\":\"LinearAxis\"},{\"attributes\":{},\"id\":\"b156664f-41e8-47d7-8588-1f1057b25a70\",\"type\":\"BasicTicker\"},{\"attributes\":{\"formatter\":{\"id\":\"4aae792e-a940-4ecd-b3b8-89c5ab54120c\",\"type\":\"BasicTickFormatter\"},\"plot\":{\"id\":\"9f67f634-8721-4046-bad3-5a64bbbb7abe\",\"subtype\":\"Figure\",\"type\":\"Plot\"},\"ticker\":{\"id\":\"5472ba87-69d6-4ec4-baa2-fd07557f3bdd\",\"type\":\"BasicTicker\"}},\"id\":\"51c19f15-d933-422f-ba4c-e6a7ac6cc225\",\"type\":\"LinearAxis\"},{\"attributes\":{},\"id\":\"5472ba87-69d6-4ec4-baa2-fd07557f3bdd\",\"type\":\"BasicTicker\"},{\"attributes\":{\"dimension\":1,\"plot\":{\"id\":\"9f67f634-8721-4046-bad3-5a64bbbb7abe\",\"subtype\":\"Figure\",\"type\":\"Plot\"},\"ticker\":{\"id\":\"5472ba87-69d6-4ec4-baa2-fd07557f3bdd\",\"type\":\"BasicTicker\"}},\"id\":\"6f4c154e-4efc-4ce3-831a-f36e9d3d8c56\",\"type\":\"Grid\"},{\"attributes\":{\"line_alpha\":0.1,\"line_color\":\"#1f77b4\",\"line_width\":2,\"x\":{\"field\":\"x\"},\"y\":{\"field\":\"y\"}},\"id\":\"b5db71e1-03d0-4b1c-9d71-7ddd7bcb3113\",\"type\":\"Line\"},{\"attributes\":{\"callback\":null,\"column_names\":[\"x\",\"y\"],\"data\":{\"x\":[1,2,3,4,5],\"y\":[6,7,8,7,3]}},\"id\":\"24ad68af-59d7-41dd-be85-cdffc8749927\",\"type\":\"ColumnDataSource\"},{\"attributes\":{\"callback\":null,\"column_names\":[\"x\",\"y\"],\"data\":{\"x\":[1,2,3,4,5],\"y\":[6,7,8,7,3]}},\"id\":\"14026211-beac-4373-9f76-e3b8704602e2\",\"type\":\"ColumnDataSource\"},{\"attributes\":{\"bottom_units\":\"screen\",\"fill_alpha\":{\"value\":0.5},\"fill_color\":{\"value\":\"lightgrey\"},\"left_units\":\"screen\",\"level\":\"overlay\",\"line_alpha\":{\"value\":1.0},\"line_color\":{\"value\":\"black\"},\"line_dash\":[4,4],\"line_width\":{\"value\":2},\"plot\":null,\"render_mode\":\"css\",\"right_units\":\"screen\",\"top_units\":\"screen\"},\"id\":\"429060ce-30ba-46ad-9d0a-cdf0c335992d\",\"type\":\"BoxAnnotation\"},{\"attributes\":{},\"id\":\"8dcf0920-e710-401f-b34d-d1daba1515c5\",\"type\":\"PanTool\"},{\"attributes\":{\"source\":{\"id\":\"14026211-beac-4373-9f76-e3b8704602e2\",\"type\":\"ColumnDataSource\"}},\"id\":\"f58d220e-8f6d-4d28-a98e-2b49e51a32a6\",\"type\":\"CDSView\"},{\"attributes\":{\"overlay\":{\"id\":\"429060ce-30ba-46ad-9d0a-cdf0c335992d\",\"type\":\"BoxAnnotation\"}},\"id\":\"4b9b23e0-fca4-4b0d-ad2a-1da52f868db0\",\"type\":\"BoxZoomTool\"},{\"attributes\":{},\"id\":\"ffe92e80-3c85-4d3f-bc58-e216deab1ff1\",\"type\":\"SaveTool\"},{\"attributes\":{},\"id\":\"2220872f-9fc1-4d9a-830b-563e4482394d\",\"type\":\"HelpTool\"},{\"attributes\":{},\"id\":\"89148bef-2531-4c95-8b68-0961733eccd9\",\"type\":\"ResetTool\"},{\"attributes\":{\"data_source\":{\"id\":\"14026211-beac-4373-9f76-e3b8704602e2\",\"type\":\"ColumnDataSource\"},\"glyph\":{\"id\":\"dd71ad36-3cda-4cf4-a034-52b88445ab3a\",\"type\":\"Circle\"},\"hover_glyph\":null,\"muted_glyph\":null,\"nonselection_glyph\":{\"id\":\"599a7d6b-fe48-4ec9-87eb-6b471a6e781e\",\"type\":\"Circle\"},\"selection_glyph\":null,\"view\":{\"id\":\"f58d220e-8f6d-4d28-a98e-2b49e51a32a6\",\"type\":\"CDSView\"}},\"id\":\"e2d3ff10-d155-41c3-90a4-da3feb9e72c8\",\"type\":\"GlyphRenderer\"},{\"attributes\":{\"fill_alpha\":{\"value\":0.1},\"fill_color\":{\"value\":\"#1f77b4\"},\"line_alpha\":{\"value\":0.1},\"line_color\":{\"value\":\"#1f77b4\"},\"size\":{\"units\":\"screen\",\"value\":8},\"x\":{\"field\":\"x\"},\"y\":{\"field\":\"y\"}},\"id\":\"599a7d6b-fe48-4ec9-87eb-6b471a6e781e\",\"type\":\"Circle\"}],\"root_ids\":[\"9f67f634-8721-4046-bad3-5a64bbbb7abe\"]},\"title\":\"Bokeh Application\",\"version\":\"0.12.13\"}};\n",
       "  var render_items = [{\"docid\":\"c1e69a2c-5276-46ee-8059-e737e26b30c5\",\"elementid\":\"2060b474-5ac8-4a10-8009-d2693bf2fc70\",\"modelid\":\"9f67f634-8721-4046-bad3-5a64bbbb7abe\"}];\n",
       "  root.Bokeh.embed.embed_items_notebook(docs_json, render_items);\n",
       "\n",
       "  }\n",
       "  if (root.Bokeh !== undefined) {\n",
       "    embed_document(root);\n",
       "  } else {\n",
       "    var attempts = 0;\n",
       "    var timer = setInterval(function(root) {\n",
       "      if (root.Bokeh !== undefined) {\n",
       "        embed_document(root);\n",
       "        clearInterval(timer);\n",
       "      }\n",
       "      attempts++;\n",
       "      if (attempts > 100) {\n",
       "        console.log(\"Bokeh: ERROR: Unable to run BokehJS code because BokehJS library is missing\")\n",
       "        clearInterval(timer);\n",
       "      }\n",
       "    }, 10, root)\n",
       "  }\n",
       "})(window);"
      ],
      "application/vnd.bokehjs_exec.v0+json": ""
     },
     "metadata": {
      "application/vnd.bokehjs_exec.v0+json": {
       "id": "9f67f634-8721-4046-bad3-5a64bbbb7abe"
      }
     },
     "output_type": "display_data"
    }
   ],
   "source": [
    "# set up some data\n",
    "x = [1, 2, 3, 4, 5]\n",
    "y = [6, 7, 8, 7, 3]\n",
    "\n",
    "# create a new plot with figure\n",
    "p = figure(plot_width=400, plot_height=400)\n",
    "\n",
    "# add both a line and circles on the same plot\n",
    "p.line(x, y, line_width=2)\n",
    "p.circle(x, y, fill_color=\"white\", size=8)\n",
    "\n",
    "show(p) # show the results"
   ]
  }
 ],
 "metadata": {
  "kernelspec": {
   "display_name": "Python 3",
   "language": "python",
   "name": "python3"
  },
  "language_info": {
   "codemirror_mode": {
    "name": "ipython",
    "version": 3
   },
   "file_extension": ".py",
   "mimetype": "text/x-python",
   "name": "python",
   "nbconvert_exporter": "python",
   "pygments_lexer": "ipython3",
   "version": "3.6.4"
  }
 },
 "nbformat": 4,
 "nbformat_minor": 2
}
