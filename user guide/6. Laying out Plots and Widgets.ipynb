{
 "cells": [
  {
   "cell_type": "markdown",
   "metadata": {},
   "source": [
    "# Laying out Plots and Widgets\n",
    "https://bokeh.pydata.org/en/latest/docs/user_guide/layout.html"
   ]
  },
  {
   "cell_type": "code",
   "execution_count": 1,
   "metadata": {},
   "outputs": [
    {
     "name": "stdout",
     "output_type": "stream",
     "text": [
      "Populating the interactive namespace from numpy and matplotlib\n"
     ]
    },
    {
     "data": {
      "text/html": [
       "\n",
       "    <div class=\"bk-root\">\n",
       "        <a href=\"https://bokeh.pydata.org\" target=\"_blank\" class=\"bk-logo bk-logo-small bk-logo-notebook\"></a>\n",
       "        <span id=\"65903f90-bf15-4577-adc3-496cb9a72ec6\">Loading BokehJS ...</span>\n",
       "    </div>"
      ]
     },
     "metadata": {},
     "output_type": "display_data"
    },
    {
     "data": {
      "application/javascript": [
       "\n",
       "(function(root) {\n",
       "  function now() {\n",
       "    return new Date();\n",
       "  }\n",
       "\n",
       "  var force = true;\n",
       "\n",
       "  if (typeof (root._bokeh_onload_callbacks) === \"undefined\" || force === true) {\n",
       "    root._bokeh_onload_callbacks = [];\n",
       "    root._bokeh_is_loading = undefined;\n",
       "  }\n",
       "\n",
       "  var JS_MIME_TYPE = 'application/javascript';\n",
       "  var HTML_MIME_TYPE = 'text/html';\n",
       "  var EXEC_MIME_TYPE = 'application/vnd.bokehjs_exec.v0+json';\n",
       "  var CLASS_NAME = 'output_bokeh rendered_html';\n",
       "\n",
       "  /**\n",
       "   * Render data to the DOM node\n",
       "   */\n",
       "  function render(props, node) {\n",
       "    var script = document.createElement(\"script\");\n",
       "    node.appendChild(script);\n",
       "  }\n",
       "\n",
       "  /**\n",
       "   * Handle when an output is cleared or removed\n",
       "   */\n",
       "  function handleClearOutput(event, handle) {\n",
       "    var cell = handle.cell;\n",
       "\n",
       "    var id = cell.output_area._bokeh_element_id;\n",
       "    var server_id = cell.output_area._bokeh_server_id;\n",
       "    // Clean up Bokeh references\n",
       "    if (id !== undefined) {\n",
       "      Bokeh.index[id].model.document.clear();\n",
       "      delete Bokeh.index[id];\n",
       "    }\n",
       "\n",
       "    if (server_id !== undefined) {\n",
       "      // Clean up Bokeh references\n",
       "      var cmd = \"from bokeh.io.state import curstate; print(curstate().uuid_to_server['\" + server_id + \"'].get_sessions()[0].document.roots[0]._id)\";\n",
       "      cell.notebook.kernel.execute(cmd, {\n",
       "        iopub: {\n",
       "          output: function(msg) {\n",
       "            var element_id = msg.content.text.trim();\n",
       "            Bokeh.index[element_id].model.document.clear();\n",
       "            delete Bokeh.index[element_id];\n",
       "          }\n",
       "        }\n",
       "      });\n",
       "      // Destroy server and session\n",
       "      var cmd = \"import bokeh.io.notebook as ion; ion.destroy_server('\" + server_id + \"')\";\n",
       "      cell.notebook.kernel.execute(cmd);\n",
       "    }\n",
       "  }\n",
       "\n",
       "  /**\n",
       "   * Handle when a new output is added\n",
       "   */\n",
       "  function handleAddOutput(event, handle) {\n",
       "    var output_area = handle.output_area;\n",
       "    var output = handle.output;\n",
       "\n",
       "    // limit handleAddOutput to display_data with EXEC_MIME_TYPE content only\n",
       "    if ((output.output_type != \"display_data\") || (!output.data.hasOwnProperty(EXEC_MIME_TYPE))) {\n",
       "      return\n",
       "    }\n",
       "\n",
       "    var toinsert = output_area.element.find(\".\" + CLASS_NAME.split(' ')[0]);\n",
       "\n",
       "    if (output.metadata[EXEC_MIME_TYPE][\"id\"] !== undefined) {\n",
       "      toinsert[0].firstChild.textContent = output.data[JS_MIME_TYPE];\n",
       "      // store reference to embed id on output_area\n",
       "      output_area._bokeh_element_id = output.metadata[EXEC_MIME_TYPE][\"id\"];\n",
       "    }\n",
       "    if (output.metadata[EXEC_MIME_TYPE][\"server_id\"] !== undefined) {\n",
       "      var bk_div = document.createElement(\"div\");\n",
       "      bk_div.innerHTML = output.data[HTML_MIME_TYPE];\n",
       "      var script_attrs = bk_div.children[0].attributes;\n",
       "      for (var i = 0; i < script_attrs.length; i++) {\n",
       "        toinsert[0].firstChild.setAttribute(script_attrs[i].name, script_attrs[i].value);\n",
       "      }\n",
       "      // store reference to server id on output_area\n",
       "      output_area._bokeh_server_id = output.metadata[EXEC_MIME_TYPE][\"server_id\"];\n",
       "    }\n",
       "  }\n",
       "\n",
       "  function register_renderer(events, OutputArea) {\n",
       "\n",
       "    function append_mime(data, metadata, element) {\n",
       "      // create a DOM node to render to\n",
       "      var toinsert = this.create_output_subarea(\n",
       "        metadata,\n",
       "        CLASS_NAME,\n",
       "        EXEC_MIME_TYPE\n",
       "      );\n",
       "      this.keyboard_manager.register_events(toinsert);\n",
       "      // Render to node\n",
       "      var props = {data: data, metadata: metadata[EXEC_MIME_TYPE]};\n",
       "      render(props, toinsert[0]);\n",
       "      element.append(toinsert);\n",
       "      return toinsert\n",
       "    }\n",
       "\n",
       "    /* Handle when an output is cleared or removed */\n",
       "    events.on('clear_output.CodeCell', handleClearOutput);\n",
       "    events.on('delete.Cell', handleClearOutput);\n",
       "\n",
       "    /* Handle when a new output is added */\n",
       "    events.on('output_added.OutputArea', handleAddOutput);\n",
       "\n",
       "    /**\n",
       "     * Register the mime type and append_mime function with output_area\n",
       "     */\n",
       "    OutputArea.prototype.register_mime_type(EXEC_MIME_TYPE, append_mime, {\n",
       "      /* Is output safe? */\n",
       "      safe: true,\n",
       "      /* Index of renderer in `output_area.display_order` */\n",
       "      index: 0\n",
       "    });\n",
       "  }\n",
       "\n",
       "  // register the mime type if in Jupyter Notebook environment and previously unregistered\n",
       "  if (root.Jupyter !== undefined) {\n",
       "    var events = require('base/js/events');\n",
       "    var OutputArea = require('notebook/js/outputarea').OutputArea;\n",
       "\n",
       "    if (OutputArea.prototype.mime_types().indexOf(EXEC_MIME_TYPE) == -1) {\n",
       "      register_renderer(events, OutputArea);\n",
       "    }\n",
       "  }\n",
       "\n",
       "  \n",
       "  if (typeof (root._bokeh_timeout) === \"undefined\" || force === true) {\n",
       "    root._bokeh_timeout = Date.now() + 5000;\n",
       "    root._bokeh_failed_load = false;\n",
       "  }\n",
       "\n",
       "  var NB_LOAD_WARNING = {'data': {'text/html':\n",
       "     \"<div style='background-color: #fdd'>\\n\"+\n",
       "     \"<p>\\n\"+\n",
       "     \"BokehJS does not appear to have successfully loaded. If loading BokehJS from CDN, this \\n\"+\n",
       "     \"may be due to a slow or bad network connection. Possible fixes:\\n\"+\n",
       "     \"</p>\\n\"+\n",
       "     \"<ul>\\n\"+\n",
       "     \"<li>re-rerun `output_notebook()` to attempt to load from CDN again, or</li>\\n\"+\n",
       "     \"<li>use INLINE resources instead, as so:</li>\\n\"+\n",
       "     \"</ul>\\n\"+\n",
       "     \"<code>\\n\"+\n",
       "     \"from bokeh.resources import INLINE\\n\"+\n",
       "     \"output_notebook(resources=INLINE)\\n\"+\n",
       "     \"</code>\\n\"+\n",
       "     \"</div>\"}};\n",
       "\n",
       "  function display_loaded() {\n",
       "    var el = document.getElementById(\"65903f90-bf15-4577-adc3-496cb9a72ec6\");\n",
       "    if (el != null) {\n",
       "      el.textContent = \"BokehJS is loading...\";\n",
       "    }\n",
       "    if (root.Bokeh !== undefined) {\n",
       "      if (el != null) {\n",
       "        el.textContent = \"BokehJS \" + root.Bokeh.version + \" successfully loaded.\";\n",
       "      }\n",
       "    } else if (Date.now() < root._bokeh_timeout) {\n",
       "      setTimeout(display_loaded, 100)\n",
       "    }\n",
       "  }\n",
       "\n",
       "\n",
       "  function run_callbacks() {\n",
       "    try {\n",
       "      root._bokeh_onload_callbacks.forEach(function(callback) { callback() });\n",
       "    }\n",
       "    finally {\n",
       "      delete root._bokeh_onload_callbacks\n",
       "    }\n",
       "    console.info(\"Bokeh: all callbacks have finished\");\n",
       "  }\n",
       "\n",
       "  function load_libs(js_urls, callback) {\n",
       "    root._bokeh_onload_callbacks.push(callback);\n",
       "    if (root._bokeh_is_loading > 0) {\n",
       "      console.log(\"Bokeh: BokehJS is being loaded, scheduling callback at\", now());\n",
       "      return null;\n",
       "    }\n",
       "    if (js_urls == null || js_urls.length === 0) {\n",
       "      run_callbacks();\n",
       "      return null;\n",
       "    }\n",
       "    console.log(\"Bokeh: BokehJS not loaded, scheduling load and callback at\", now());\n",
       "    root._bokeh_is_loading = js_urls.length;\n",
       "    for (var i = 0; i < js_urls.length; i++) {\n",
       "      var url = js_urls[i];\n",
       "      var s = document.createElement('script');\n",
       "      s.src = url;\n",
       "      s.async = false;\n",
       "      s.onreadystatechange = s.onload = function() {\n",
       "        root._bokeh_is_loading--;\n",
       "        if (root._bokeh_is_loading === 0) {\n",
       "          console.log(\"Bokeh: all BokehJS libraries loaded\");\n",
       "          run_callbacks()\n",
       "        }\n",
       "      };\n",
       "      s.onerror = function() {\n",
       "        console.warn(\"failed to load library \" + url);\n",
       "      };\n",
       "      console.log(\"Bokeh: injecting script tag for BokehJS library: \", url);\n",
       "      document.getElementsByTagName(\"head\")[0].appendChild(s);\n",
       "    }\n",
       "  };var element = document.getElementById(\"65903f90-bf15-4577-adc3-496cb9a72ec6\");\n",
       "  if (element == null) {\n",
       "    console.log(\"Bokeh: ERROR: autoload.js configured with elementid '65903f90-bf15-4577-adc3-496cb9a72ec6' but no matching script tag was found. \")\n",
       "    return false;\n",
       "  }\n",
       "\n",
       "  var js_urls = [\"https://cdn.pydata.org/bokeh/release/bokeh-0.12.13.min.js\", \"https://cdn.pydata.org/bokeh/release/bokeh-widgets-0.12.13.min.js\", \"https://cdn.pydata.org/bokeh/release/bokeh-tables-0.12.13.min.js\", \"https://cdn.pydata.org/bokeh/release/bokeh-gl-0.12.13.min.js\"];\n",
       "\n",
       "  var inline_js = [\n",
       "    function(Bokeh) {\n",
       "      Bokeh.set_log_level(\"info\");\n",
       "    },\n",
       "    \n",
       "    function(Bokeh) {\n",
       "      \n",
       "    },\n",
       "    function(Bokeh) {\n",
       "      console.log(\"Bokeh: injecting CSS: https://cdn.pydata.org/bokeh/release/bokeh-0.12.13.min.css\");\n",
       "      Bokeh.embed.inject_css(\"https://cdn.pydata.org/bokeh/release/bokeh-0.12.13.min.css\");\n",
       "      console.log(\"Bokeh: injecting CSS: https://cdn.pydata.org/bokeh/release/bokeh-widgets-0.12.13.min.css\");\n",
       "      Bokeh.embed.inject_css(\"https://cdn.pydata.org/bokeh/release/bokeh-widgets-0.12.13.min.css\");\n",
       "      console.log(\"Bokeh: injecting CSS: https://cdn.pydata.org/bokeh/release/bokeh-tables-0.12.13.min.css\");\n",
       "      Bokeh.embed.inject_css(\"https://cdn.pydata.org/bokeh/release/bokeh-tables-0.12.13.min.css\");\n",
       "    }\n",
       "  ];\n",
       "\n",
       "  function run_inline_js() {\n",
       "    \n",
       "    if ((root.Bokeh !== undefined) || (force === true)) {\n",
       "      for (var i = 0; i < inline_js.length; i++) {\n",
       "        inline_js[i].call(root, root.Bokeh);\n",
       "      }if (force === true) {\n",
       "        display_loaded();\n",
       "      }} else if (Date.now() < root._bokeh_timeout) {\n",
       "      setTimeout(run_inline_js, 100);\n",
       "    } else if (!root._bokeh_failed_load) {\n",
       "      console.log(\"Bokeh: BokehJS failed to load within specified timeout.\");\n",
       "      root._bokeh_failed_load = true;\n",
       "    } else if (force !== true) {\n",
       "      var cell = $(document.getElementById(\"65903f90-bf15-4577-adc3-496cb9a72ec6\")).parents('.cell').data().cell;\n",
       "      cell.output_area.append_execute_result(NB_LOAD_WARNING)\n",
       "    }\n",
       "\n",
       "  }\n",
       "\n",
       "  if (root._bokeh_is_loading === 0) {\n",
       "    console.log(\"Bokeh: BokehJS loaded, going straight to plotting\");\n",
       "    run_inline_js();\n",
       "  } else {\n",
       "    load_libs(js_urls, function() {\n",
       "      console.log(\"Bokeh: BokehJS plotting callback run at\", now());\n",
       "      run_inline_js();\n",
       "    });\n",
       "  }\n",
       "}(window));"
      ],
      "application/vnd.bokehjs_load.v0+json": "\n(function(root) {\n  function now() {\n    return new Date();\n  }\n\n  var force = true;\n\n  if (typeof (root._bokeh_onload_callbacks) === \"undefined\" || force === true) {\n    root._bokeh_onload_callbacks = [];\n    root._bokeh_is_loading = undefined;\n  }\n\n  \n\n  \n  if (typeof (root._bokeh_timeout) === \"undefined\" || force === true) {\n    root._bokeh_timeout = Date.now() + 5000;\n    root._bokeh_failed_load = false;\n  }\n\n  var NB_LOAD_WARNING = {'data': {'text/html':\n     \"<div style='background-color: #fdd'>\\n\"+\n     \"<p>\\n\"+\n     \"BokehJS does not appear to have successfully loaded. If loading BokehJS from CDN, this \\n\"+\n     \"may be due to a slow or bad network connection. Possible fixes:\\n\"+\n     \"</p>\\n\"+\n     \"<ul>\\n\"+\n     \"<li>re-rerun `output_notebook()` to attempt to load from CDN again, or</li>\\n\"+\n     \"<li>use INLINE resources instead, as so:</li>\\n\"+\n     \"</ul>\\n\"+\n     \"<code>\\n\"+\n     \"from bokeh.resources import INLINE\\n\"+\n     \"output_notebook(resources=INLINE)\\n\"+\n     \"</code>\\n\"+\n     \"</div>\"}};\n\n  function display_loaded() {\n    var el = document.getElementById(\"65903f90-bf15-4577-adc3-496cb9a72ec6\");\n    if (el != null) {\n      el.textContent = \"BokehJS is loading...\";\n    }\n    if (root.Bokeh !== undefined) {\n      if (el != null) {\n        el.textContent = \"BokehJS \" + root.Bokeh.version + \" successfully loaded.\";\n      }\n    } else if (Date.now() < root._bokeh_timeout) {\n      setTimeout(display_loaded, 100)\n    }\n  }\n\n\n  function run_callbacks() {\n    try {\n      root._bokeh_onload_callbacks.forEach(function(callback) { callback() });\n    }\n    finally {\n      delete root._bokeh_onload_callbacks\n    }\n    console.info(\"Bokeh: all callbacks have finished\");\n  }\n\n  function load_libs(js_urls, callback) {\n    root._bokeh_onload_callbacks.push(callback);\n    if (root._bokeh_is_loading > 0) {\n      console.log(\"Bokeh: BokehJS is being loaded, scheduling callback at\", now());\n      return null;\n    }\n    if (js_urls == null || js_urls.length === 0) {\n      run_callbacks();\n      return null;\n    }\n    console.log(\"Bokeh: BokehJS not loaded, scheduling load and callback at\", now());\n    root._bokeh_is_loading = js_urls.length;\n    for (var i = 0; i < js_urls.length; i++) {\n      var url = js_urls[i];\n      var s = document.createElement('script');\n      s.src = url;\n      s.async = false;\n      s.onreadystatechange = s.onload = function() {\n        root._bokeh_is_loading--;\n        if (root._bokeh_is_loading === 0) {\n          console.log(\"Bokeh: all BokehJS libraries loaded\");\n          run_callbacks()\n        }\n      };\n      s.onerror = function() {\n        console.warn(\"failed to load library \" + url);\n      };\n      console.log(\"Bokeh: injecting script tag for BokehJS library: \", url);\n      document.getElementsByTagName(\"head\")[0].appendChild(s);\n    }\n  };var element = document.getElementById(\"65903f90-bf15-4577-adc3-496cb9a72ec6\");\n  if (element == null) {\n    console.log(\"Bokeh: ERROR: autoload.js configured with elementid '65903f90-bf15-4577-adc3-496cb9a72ec6' but no matching script tag was found. \")\n    return false;\n  }\n\n  var js_urls = [\"https://cdn.pydata.org/bokeh/release/bokeh-0.12.13.min.js\", \"https://cdn.pydata.org/bokeh/release/bokeh-widgets-0.12.13.min.js\", \"https://cdn.pydata.org/bokeh/release/bokeh-tables-0.12.13.min.js\", \"https://cdn.pydata.org/bokeh/release/bokeh-gl-0.12.13.min.js\"];\n\n  var inline_js = [\n    function(Bokeh) {\n      Bokeh.set_log_level(\"info\");\n    },\n    \n    function(Bokeh) {\n      \n    },\n    function(Bokeh) {\n      console.log(\"Bokeh: injecting CSS: https://cdn.pydata.org/bokeh/release/bokeh-0.12.13.min.css\");\n      Bokeh.embed.inject_css(\"https://cdn.pydata.org/bokeh/release/bokeh-0.12.13.min.css\");\n      console.log(\"Bokeh: injecting CSS: https://cdn.pydata.org/bokeh/release/bokeh-widgets-0.12.13.min.css\");\n      Bokeh.embed.inject_css(\"https://cdn.pydata.org/bokeh/release/bokeh-widgets-0.12.13.min.css\");\n      console.log(\"Bokeh: injecting CSS: https://cdn.pydata.org/bokeh/release/bokeh-tables-0.12.13.min.css\");\n      Bokeh.embed.inject_css(\"https://cdn.pydata.org/bokeh/release/bokeh-tables-0.12.13.min.css\");\n    }\n  ];\n\n  function run_inline_js() {\n    \n    if ((root.Bokeh !== undefined) || (force === true)) {\n      for (var i = 0; i < inline_js.length; i++) {\n        inline_js[i].call(root, root.Bokeh);\n      }if (force === true) {\n        display_loaded();\n      }} else if (Date.now() < root._bokeh_timeout) {\n      setTimeout(run_inline_js, 100);\n    } else if (!root._bokeh_failed_load) {\n      console.log(\"Bokeh: BokehJS failed to load within specified timeout.\");\n      root._bokeh_failed_load = true;\n    } else if (force !== true) {\n      var cell = $(document.getElementById(\"65903f90-bf15-4577-adc3-496cb9a72ec6\")).parents('.cell').data().cell;\n      cell.output_area.append_execute_result(NB_LOAD_WARNING)\n    }\n\n  }\n\n  if (root._bokeh_is_loading === 0) {\n    console.log(\"Bokeh: BokehJS loaded, going straight to plotting\");\n    run_inline_js();\n  } else {\n    load_libs(js_urls, function() {\n      console.log(\"Bokeh: BokehJS plotting callback run at\", now());\n      run_inline_js();\n    });\n  }\n}(window));"
     },
     "metadata": {},
     "output_type": "display_data"
    }
   ],
   "source": [
    "%pylab inline\n",
    "import bokeh\n",
    "from bokeh.plotting import figure, show #, output_file\n",
    "from bokeh.io import output_notebook\n",
    "\n",
    "output_notebook()"
   ]
  },
  {
   "cell_type": "code",
   "execution_count": 2,
   "metadata": {},
   "outputs": [],
   "source": [
    "p = figure(width=360, height=360)"
   ]
  },
  {
   "cell_type": "markdown",
   "metadata": {},
   "source": [
    "### Columns"
   ]
  },
  {
   "cell_type": "code",
   "execution_count": 3,
   "metadata": {},
   "outputs": [
    {
     "data": {
      "text/html": [
       "\n",
       "<div class=\"bk-root\">\n",
       "    <div class=\"bk-plotdiv\" id=\"89b17dfa-b7d8-4dd4-8bbd-22781ff1f3db\"></div>\n",
       "</div>"
      ]
     },
     "metadata": {},
     "output_type": "display_data"
    },
    {
     "data": {
      "application/javascript": [
       "(function(root) {\n",
       "  function embed_document(root) {\n",
       "    \n",
       "  var docs_json = {\"90affe45-6bce-4e26-8c4c-a3421d7ae5cf\":{\"roots\":{\"references\":[{\"attributes\":{\"source\":{\"id\":\"cc4e2a0d-db88-4c00-94fb-f30bb6a8d1b8\",\"type\":\"ColumnDataSource\"}},\"id\":\"971fba4f-2d87-4c69-b076-65bc1df0a05e\",\"type\":\"CDSView\"},{\"attributes\":{},\"id\":\"2894e4db-e5a2-497e-a788-88ef02b00fed\",\"type\":\"BasicTickFormatter\"},{\"attributes\":{},\"id\":\"14edfb2c-ed18-4f1a-a269-7351cbdc8561\",\"type\":\"BasicTickFormatter\"},{\"attributes\":{\"callback\":null},\"id\":\"7fb54ff2-2c36-4942-bcb9-19694020f96b\",\"type\":\"DataRange1d\"},{\"attributes\":{\"source\":{\"id\":\"779472dc-063a-4fc6-996d-fb2d7409f5c4\",\"type\":\"ColumnDataSource\"}},\"id\":\"a844a766-50aa-428e-9810-c61f7074b614\",\"type\":\"CDSView\"},{\"attributes\":{\"callback\":null,\"column_names\":[\"x\",\"y\"],\"data\":{\"x\":[0,1,2,3,4,5,6,7,8,9,10],\"y\":[10,9,8,7,6,5,4,3,2,1,0]}},\"id\":\"cc4e2a0d-db88-4c00-94fb-f30bb6a8d1b8\",\"type\":\"ColumnDataSource\"},{\"attributes\":{},\"id\":\"f6424433-f11b-4ebf-8ed4-f9bd3f007e75\",\"type\":\"LinearScale\"},{\"attributes\":{\"formatter\":{\"id\":\"f4ecc893-feb7-4a72-9a24-6294fd8280d4\",\"type\":\"BasicTickFormatter\"},\"plot\":{\"id\":\"e149f672-db21-42f9-baef-0b2c30d826f3\",\"subtype\":\"Figure\",\"type\":\"Plot\"},\"ticker\":{\"id\":\"dc0c5a34-ffce-43b6-b616-f4c0dfdc2ebc\",\"type\":\"BasicTicker\"}},\"id\":\"ada95930-46ba-4c43-b296-d72a0b5c5bfd\",\"type\":\"LinearAxis\"},{\"attributes\":{\"data_source\":{\"id\":\"4642a9dc-7374-4d24-9c58-552cf9341c17\",\"type\":\"ColumnDataSource\"},\"glyph\":{\"id\":\"5bcd070e-35bb-4741-9aa5-a0b2b49327ef\",\"type\":\"Circle\"},\"hover_glyph\":null,\"muted_glyph\":null,\"nonselection_glyph\":{\"id\":\"681839f5-1465-4309-a943-c3177d9900ea\",\"type\":\"Circle\"},\"selection_glyph\":null,\"view\":{\"id\":\"47dbf289-16e8-47b5-9155-d688d62d8351\",\"type\":\"CDSView\"}},\"id\":\"64491cb1-86b1-4605-9e2a-34f3f8a7c929\",\"type\":\"GlyphRenderer\"},{\"attributes\":{\"callback\":null},\"id\":\"1701b43c-5da6-406d-9a73-c225610f6857\",\"type\":\"DataRange1d\"},{\"attributes\":{\"active_drag\":\"auto\",\"active_inspect\":\"auto\",\"active_scroll\":\"auto\",\"active_tap\":\"auto\",\"tools\":[{\"id\":\"7c8e4018-ab4c-446b-aec1-fe42978b78e2\",\"type\":\"PanTool\"},{\"id\":\"c6eba5a2-c29b-4c16-be6a-8d08362b30f5\",\"type\":\"WheelZoomTool\"},{\"id\":\"b09f42f2-a182-4e21-8890-a6f387c44f5a\",\"type\":\"BoxZoomTool\"},{\"id\":\"e60391e3-f536-46e1-8baf-3c109d3c6c0c\",\"type\":\"SaveTool\"},{\"id\":\"afc38787-2601-436a-a834-6de3b34fcbff\",\"type\":\"ResetTool\"},{\"id\":\"3258555c-8847-489f-b30d-75f5476a84e3\",\"type\":\"HelpTool\"}]},\"id\":\"c4843eb4-ca84-4cc4-8516-4040da3f770c\",\"type\":\"Toolbar\"},{\"attributes\":{\"fill_alpha\":{\"value\":0.1},\"fill_color\":{\"value\":\"#1f77b4\"},\"line_alpha\":{\"value\":0.1},\"line_color\":{\"value\":\"#1f77b4\"},\"size\":{\"units\":\"screen\",\"value\":10},\"x\":{\"field\":\"x\"},\"y\":{\"field\":\"y\"}},\"id\":\"ef0560c3-b312-407b-8769-39a5d1802b21\",\"type\":\"Triangle\"},{\"attributes\":{},\"id\":\"abf884ea-0724-4967-ab55-e932587113bd\",\"type\":\"LinearScale\"},{\"attributes\":{\"plot\":{\"id\":\"565602ba-c954-4e8b-b073-6b69467863e6\",\"subtype\":\"Figure\",\"type\":\"Plot\"},\"ticker\":{\"id\":\"c89e3f93-5c4a-4d78-9c60-9729bebcbcc8\",\"type\":\"BasicTicker\"}},\"id\":\"a5c21f0a-74ca-4070-8228-4ca5c9f9f394\",\"type\":\"Grid\"},{\"attributes\":{\"source\":{\"id\":\"4642a9dc-7374-4d24-9c58-552cf9341c17\",\"type\":\"ColumnDataSource\"}},\"id\":\"47dbf289-16e8-47b5-9155-d688d62d8351\",\"type\":\"CDSView\"},{\"attributes\":{\"formatter\":{\"id\":\"60d08e1e-b4e2-46ef-8e69-720734bdf9d3\",\"type\":\"BasicTickFormatter\"},\"plot\":{\"id\":\"565602ba-c954-4e8b-b073-6b69467863e6\",\"subtype\":\"Figure\",\"type\":\"Plot\"},\"ticker\":{\"id\":\"c89e3f93-5c4a-4d78-9c60-9729bebcbcc8\",\"type\":\"BasicTicker\"}},\"id\":\"22b37dce-0e97-4ef3-a314-799acb9b461c\",\"type\":\"LinearAxis\"},{\"attributes\":{},\"id\":\"c89e3f93-5c4a-4d78-9c60-9729bebcbcc8\",\"type\":\"BasicTicker\"},{\"attributes\":{\"formatter\":{\"id\":\"0f319247-3028-4eac-b504-ea0af82344a5\",\"type\":\"BasicTickFormatter\"},\"plot\":{\"id\":\"565602ba-c954-4e8b-b073-6b69467863e6\",\"subtype\":\"Figure\",\"type\":\"Plot\"},\"ticker\":{\"id\":\"8c6d3a70-0e31-4a45-8d74-d30fa4d34c07\",\"type\":\"BasicTicker\"}},\"id\":\"2a77ca89-922f-48c4-a7d3-f9f11fc668ba\",\"type\":\"LinearAxis\"},{\"attributes\":{},\"id\":\"8c6d3a70-0e31-4a45-8d74-d30fa4d34c07\",\"type\":\"BasicTicker\"},{\"attributes\":{\"dimension\":1,\"plot\":{\"id\":\"565602ba-c954-4e8b-b073-6b69467863e6\",\"subtype\":\"Figure\",\"type\":\"Plot\"},\"ticker\":{\"id\":\"8c6d3a70-0e31-4a45-8d74-d30fa4d34c07\",\"type\":\"BasicTicker\"}},\"id\":\"5dc1ad1b-f5aa-48f6-8bc9-3406947a7d65\",\"type\":\"Grid\"},{\"attributes\":{\"data_source\":{\"id\":\"cc4e2a0d-db88-4c00-94fb-f30bb6a8d1b8\",\"type\":\"ColumnDataSource\"},\"glyph\":{\"id\":\"9745b153-3f9b-448a-8ac8-0b4722e7c290\",\"type\":\"Triangle\"},\"hover_glyph\":null,\"muted_glyph\":null,\"nonselection_glyph\":{\"id\":\"ef0560c3-b312-407b-8769-39a5d1802b21\",\"type\":\"Triangle\"},\"selection_glyph\":null,\"view\":{\"id\":\"971fba4f-2d87-4c69-b076-65bc1df0a05e\",\"type\":\"CDSView\"}},\"id\":\"0f2e2cb3-4c4f-4706-bb8f-ee674998a202\",\"type\":\"GlyphRenderer\"},{\"attributes\":{\"fill_alpha\":{\"value\":0.5},\"fill_color\":{\"value\":\"firebrick\"},\"line_alpha\":{\"value\":0.5},\"line_color\":{\"value\":\"firebrick\"},\"size\":{\"units\":\"screen\",\"value\":10},\"x\":{\"field\":\"x\"},\"y\":{\"field\":\"y\"}},\"id\":\"9745b153-3f9b-448a-8ac8-0b4722e7c290\",\"type\":\"Triangle\"},{\"attributes\":{\"below\":[{\"id\":\"14cb9b00-4b83-44b7-a7b4-17c8dee2a954\",\"type\":\"LinearAxis\"}],\"left\":[{\"id\":\"ada95930-46ba-4c43-b296-d72a0b5c5bfd\",\"type\":\"LinearAxis\"}],\"plot_height\":250,\"plot_width\":250,\"renderers\":[{\"id\":\"14cb9b00-4b83-44b7-a7b4-17c8dee2a954\",\"type\":\"LinearAxis\"},{\"id\":\"3f868d13-90d7-44bd-9e73-0951c5b152be\",\"type\":\"Grid\"},{\"id\":\"ada95930-46ba-4c43-b296-d72a0b5c5bfd\",\"type\":\"LinearAxis\"},{\"id\":\"54ac3dc0-c044-4c42-95a8-583aa28a8f00\",\"type\":\"Grid\"},{\"id\":\"da4a3d25-c902-4a55-9707-6aae0ab6e255\",\"type\":\"BoxAnnotation\"},{\"id\":\"4142e160-267b-401b-91fe-18940ce05cce\",\"type\":\"GlyphRenderer\"}],\"title\":null,\"toolbar\":{\"id\":\"104ef2c4-28f1-4427-a6ca-806be7ef6da5\",\"type\":\"Toolbar\"},\"x_range\":{\"id\":\"488b0dd1-0017-423b-9a58-06359c0461da\",\"type\":\"DataRange1d\"},\"x_scale\":{\"id\":\"d438d31b-7ace-4f39-97d3-b1da99cb1a67\",\"type\":\"LinearScale\"},\"y_range\":{\"id\":\"8ec4bff5-fad8-435b-b181-f403f9db1e41\",\"type\":\"DataRange1d\"},\"y_scale\":{\"id\":\"4e89d84d-f814-4885-b14e-03059e1b6d25\",\"type\":\"LinearScale\"}},\"id\":\"e149f672-db21-42f9-baef-0b2c30d826f3\",\"subtype\":\"Figure\",\"type\":\"Plot\"},{\"attributes\":{\"bottom_units\":\"screen\",\"fill_alpha\":{\"value\":0.5},\"fill_color\":{\"value\":\"lightgrey\"},\"left_units\":\"screen\",\"level\":\"overlay\",\"line_alpha\":{\"value\":1.0},\"line_color\":{\"value\":\"black\"},\"line_dash\":[4,4],\"line_width\":{\"value\":2},\"plot\":null,\"render_mode\":\"css\",\"right_units\":\"screen\",\"top_units\":\"screen\"},\"id\":\"e0af4d97-dcf0-47ea-8223-2e0942293f16\",\"type\":\"BoxAnnotation\"},{\"attributes\":{},\"id\":\"7c8e4018-ab4c-446b-aec1-fe42978b78e2\",\"type\":\"PanTool\"},{\"attributes\":{},\"id\":\"0f319247-3028-4eac-b504-ea0af82344a5\",\"type\":\"BasicTickFormatter\"},{\"attributes\":{},\"id\":\"c6eba5a2-c29b-4c16-be6a-8d08362b30f5\",\"type\":\"WheelZoomTool\"},{\"attributes\":{\"overlay\":{\"id\":\"e0af4d97-dcf0-47ea-8223-2e0942293f16\",\"type\":\"BoxAnnotation\"}},\"id\":\"b09f42f2-a182-4e21-8890-a6f387c44f5a\",\"type\":\"BoxZoomTool\"},{\"attributes\":{},\"id\":\"e60391e3-f536-46e1-8baf-3c109d3c6c0c\",\"type\":\"SaveTool\"},{\"attributes\":{},\"id\":\"afc38787-2601-436a-a834-6de3b34fcbff\",\"type\":\"ResetTool\"},{\"attributes\":{},\"id\":\"3258555c-8847-489f-b30d-75f5476a84e3\",\"type\":\"HelpTool\"},{\"attributes\":{},\"id\":\"60d08e1e-b4e2-46ef-8e69-720734bdf9d3\",\"type\":\"BasicTickFormatter\"},{\"attributes\":{\"callback\":null},\"id\":\"488b0dd1-0017-423b-9a58-06359c0461da\",\"type\":\"DataRange1d\"},{\"attributes\":{\"callback\":null,\"column_names\":[\"x\",\"y\"],\"data\":{\"x\":[0,1,2,3,4,5,6,7,8,9,10],\"y\":[5,4,3,2,1,0,1,2,3,4,5]}},\"id\":\"779472dc-063a-4fc6-996d-fb2d7409f5c4\",\"type\":\"ColumnDataSource\"},{\"attributes\":{},\"id\":\"d438d31b-7ace-4f39-97d3-b1da99cb1a67\",\"type\":\"LinearScale\"},{\"attributes\":{\"callback\":null},\"id\":\"8ec4bff5-fad8-435b-b181-f403f9db1e41\",\"type\":\"DataRange1d\"},{\"attributes\":{},\"id\":\"4e89d84d-f814-4885-b14e-03059e1b6d25\",\"type\":\"LinearScale\"},{\"attributes\":{\"dimension\":1,\"plot\":{\"id\":\"e149f672-db21-42f9-baef-0b2c30d826f3\",\"subtype\":\"Figure\",\"type\":\"Plot\"},\"ticker\":{\"id\":\"dc0c5a34-ffce-43b6-b616-f4c0dfdc2ebc\",\"type\":\"BasicTicker\"}},\"id\":\"54ac3dc0-c044-4c42-95a8-583aa28a8f00\",\"type\":\"Grid\"},{\"attributes\":{\"active_drag\":\"auto\",\"active_inspect\":\"auto\",\"active_scroll\":\"auto\",\"active_tap\":\"auto\",\"tools\":[{\"id\":\"563d74dc-5d4f-4841-bf6a-0f4e6e660cc9\",\"type\":\"PanTool\"},{\"id\":\"7892b99a-4e8c-4b0e-9e08-ef281cb28ca1\",\"type\":\"WheelZoomTool\"},{\"id\":\"62703ae1-6c46-40a8-9132-4ffd02acb1d7\",\"type\":\"BoxZoomTool\"},{\"id\":\"37af1ef6-03e6-43a9-baba-1b2f180ec30d\",\"type\":\"SaveTool\"},{\"id\":\"982e16d3-8be8-4c27-9c6e-ac89f1283d9f\",\"type\":\"ResetTool\"},{\"id\":\"cd7ff7dc-be89-4b34-819f-56aac6d1672f\",\"type\":\"HelpTool\"}]},\"id\":\"104ef2c4-28f1-4427-a6ca-806be7ef6da5\",\"type\":\"Toolbar\"},{\"attributes\":{\"plot\":{\"id\":\"e149f672-db21-42f9-baef-0b2c30d826f3\",\"subtype\":\"Figure\",\"type\":\"Plot\"},\"ticker\":{\"id\":\"669f643e-8999-4121-92ba-13aca019cb79\",\"type\":\"BasicTicker\"}},\"id\":\"3f868d13-90d7-44bd-9e73-0951c5b152be\",\"type\":\"Grid\"},{\"attributes\":{\"formatter\":{\"id\":\"98fefca1-1363-4f15-a33a-c71aff40ac4b\",\"type\":\"BasicTickFormatter\"},\"plot\":{\"id\":\"e149f672-db21-42f9-baef-0b2c30d826f3\",\"subtype\":\"Figure\",\"type\":\"Plot\"},\"ticker\":{\"id\":\"669f643e-8999-4121-92ba-13aca019cb79\",\"type\":\"BasicTicker\"}},\"id\":\"14cb9b00-4b83-44b7-a7b4-17c8dee2a954\",\"type\":\"LinearAxis\"},{\"attributes\":{},\"id\":\"669f643e-8999-4121-92ba-13aca019cb79\",\"type\":\"BasicTicker\"},{\"attributes\":{\"fill_alpha\":{\"value\":0.1},\"fill_color\":{\"value\":\"#1f77b4\"},\"line_alpha\":{\"value\":0.1},\"line_color\":{\"value\":\"#1f77b4\"},\"size\":{\"units\":\"screen\",\"value\":10},\"x\":{\"field\":\"x\"},\"y\":{\"field\":\"y\"}},\"id\":\"b51f125c-b4ad-47a5-9fa5-d9e2413b9e4f\",\"type\":\"Square\"},{\"attributes\":{\"data_source\":{\"id\":\"779472dc-063a-4fc6-996d-fb2d7409f5c4\",\"type\":\"ColumnDataSource\"},\"glyph\":{\"id\":\"16a72294-af2e-4d51-ad8b-4643d6246e95\",\"type\":\"Square\"},\"hover_glyph\":null,\"muted_glyph\":null,\"nonselection_glyph\":{\"id\":\"b51f125c-b4ad-47a5-9fa5-d9e2413b9e4f\",\"type\":\"Square\"},\"selection_glyph\":null,\"view\":{\"id\":\"a844a766-50aa-428e-9810-c61f7074b614\",\"type\":\"CDSView\"}},\"id\":\"4142e160-267b-401b-91fe-18940ce05cce\",\"type\":\"GlyphRenderer\"},{\"attributes\":{\"fill_alpha\":{\"value\":0.5},\"fill_color\":{\"value\":\"olive\"},\"line_alpha\":{\"value\":0.5},\"line_color\":{\"value\":\"olive\"},\"size\":{\"units\":\"screen\",\"value\":10},\"x\":{\"field\":\"x\"},\"y\":{\"field\":\"y\"}},\"id\":\"16a72294-af2e-4d51-ad8b-4643d6246e95\",\"type\":\"Square\"},{\"attributes\":{\"children\":[{\"id\":\"6393dbce-363d-4401-b675-365ad607f239\",\"subtype\":\"Figure\",\"type\":\"Plot\"},{\"id\":\"565602ba-c954-4e8b-b073-6b69467863e6\",\"subtype\":\"Figure\",\"type\":\"Plot\"},{\"id\":\"e149f672-db21-42f9-baef-0b2c30d826f3\",\"subtype\":\"Figure\",\"type\":\"Plot\"}]},\"id\":\"69094cab-599b-4bdf-bfc1-3d1dc54258f5\",\"type\":\"Column\"},{\"attributes\":{\"bottom_units\":\"screen\",\"fill_alpha\":{\"value\":0.5},\"fill_color\":{\"value\":\"lightgrey\"},\"left_units\":\"screen\",\"level\":\"overlay\",\"line_alpha\":{\"value\":1.0},\"line_color\":{\"value\":\"black\"},\"line_dash\":[4,4],\"line_width\":{\"value\":2},\"plot\":null,\"render_mode\":\"css\",\"right_units\":\"screen\",\"top_units\":\"screen\"},\"id\":\"da4a3d25-c902-4a55-9707-6aae0ab6e255\",\"type\":\"BoxAnnotation\"},{\"attributes\":{\"callback\":null},\"id\":\"fca701e6-6d79-419b-8661-fbed2116cfef\",\"type\":\"DataRange1d\"},{\"attributes\":{},\"id\":\"563d74dc-5d4f-4841-bf6a-0f4e6e660cc9\",\"type\":\"PanTool\"},{\"attributes\":{},\"id\":\"f4ecc893-feb7-4a72-9a24-6294fd8280d4\",\"type\":\"BasicTickFormatter\"},{\"attributes\":{\"active_drag\":\"auto\",\"active_inspect\":\"auto\",\"active_scroll\":\"auto\",\"active_tap\":\"auto\",\"tools\":[{\"id\":\"6977b922-0098-4b6f-b099-7a6405e6ba36\",\"type\":\"PanTool\"},{\"id\":\"a57e9f18-1b08-46ad-a1b8-4b022c00c467\",\"type\":\"WheelZoomTool\"},{\"id\":\"f12e798d-130f-4fe2-b19d-2c38423016a9\",\"type\":\"BoxZoomTool\"},{\"id\":\"fc99a10b-e5f6-4e5e-947f-79887b567ab7\",\"type\":\"SaveTool\"},{\"id\":\"05051704-adf6-4cd4-9226-0d867e00e737\",\"type\":\"ResetTool\"},{\"id\":\"c57deaa6-b0f3-47f2-8b92-2fe196880952\",\"type\":\"HelpTool\"}]},\"id\":\"4757c000-123b-4094-951d-eb60cb5a9172\",\"type\":\"Toolbar\"},{\"attributes\":{},\"id\":\"7892b99a-4e8c-4b0e-9e08-ef281cb28ca1\",\"type\":\"WheelZoomTool\"},{\"attributes\":{\"overlay\":{\"id\":\"da4a3d25-c902-4a55-9707-6aae0ab6e255\",\"type\":\"BoxAnnotation\"}},\"id\":\"62703ae1-6c46-40a8-9132-4ffd02acb1d7\",\"type\":\"BoxZoomTool\"},{\"attributes\":{\"callback\":null,\"column_names\":[\"x\",\"y\"],\"data\":{\"x\":[0,1,2,3,4,5,6,7,8,9,10],\"y\":[0,1,2,3,4,5,6,7,8,9,10]}},\"id\":\"4642a9dc-7374-4d24-9c58-552cf9341c17\",\"type\":\"ColumnDataSource\"},{\"attributes\":{},\"id\":\"37af1ef6-03e6-43a9-baba-1b2f180ec30d\",\"type\":\"SaveTool\"},{\"attributes\":{\"below\":[{\"id\":\"c4ff4cd2-a281-4e53-b10f-b38d0e459323\",\"type\":\"LinearAxis\"}],\"left\":[{\"id\":\"ecd9578c-5393-49d5-87b1-5027a5257995\",\"type\":\"LinearAxis\"}],\"plot_height\":250,\"plot_width\":250,\"renderers\":[{\"id\":\"c4ff4cd2-a281-4e53-b10f-b38d0e459323\",\"type\":\"LinearAxis\"},{\"id\":\"ed6bbe87-769a-4fb6-a264-24f2190d2d87\",\"type\":\"Grid\"},{\"id\":\"ecd9578c-5393-49d5-87b1-5027a5257995\",\"type\":\"LinearAxis\"},{\"id\":\"cc6315eb-4e80-44ea-83e3-6ddcb15b6511\",\"type\":\"Grid\"},{\"id\":\"30910988-ec57-4e5d-a9ca-8d65ce7ca7d3\",\"type\":\"BoxAnnotation\"},{\"id\":\"64491cb1-86b1-4605-9e2a-34f3f8a7c929\",\"type\":\"GlyphRenderer\"}],\"title\":null,\"toolbar\":{\"id\":\"4757c000-123b-4094-951d-eb60cb5a9172\",\"type\":\"Toolbar\"},\"x_range\":{\"id\":\"fca701e6-6d79-419b-8661-fbed2116cfef\",\"type\":\"DataRange1d\"},\"x_scale\":{\"id\":\"89f52dc7-0199-4a16-b78a-6999405669c0\",\"type\":\"LinearScale\"},\"y_range\":{\"id\":\"93544f93-5c6e-4d67-981c-98c33e740845\",\"type\":\"DataRange1d\"},\"y_scale\":{\"id\":\"cac99fb3-921e-4bc1-aa63-51ebf974b0eb\",\"type\":\"LinearScale\"}},\"id\":\"6393dbce-363d-4401-b675-365ad607f239\",\"subtype\":\"Figure\",\"type\":\"Plot\"},{\"attributes\":{},\"id\":\"982e16d3-8be8-4c27-9c6e-ac89f1283d9f\",\"type\":\"ResetTool\"},{\"attributes\":{},\"id\":\"89f52dc7-0199-4a16-b78a-6999405669c0\",\"type\":\"LinearScale\"},{\"attributes\":{},\"id\":\"cd7ff7dc-be89-4b34-819f-56aac6d1672f\",\"type\":\"HelpTool\"},{\"attributes\":{\"callback\":null},\"id\":\"93544f93-5c6e-4d67-981c-98c33e740845\",\"type\":\"DataRange1d\"},{\"attributes\":{},\"id\":\"cac99fb3-921e-4bc1-aa63-51ebf974b0eb\",\"type\":\"LinearScale\"},{\"attributes\":{},\"id\":\"98fefca1-1363-4f15-a33a-c71aff40ac4b\",\"type\":\"BasicTickFormatter\"},{\"attributes\":{\"plot\":{\"id\":\"6393dbce-363d-4401-b675-365ad607f239\",\"subtype\":\"Figure\",\"type\":\"Plot\"},\"ticker\":{\"id\":\"239eafae-1910-46c6-989c-883a06196f48\",\"type\":\"BasicTicker\"}},\"id\":\"ed6bbe87-769a-4fb6-a264-24f2190d2d87\",\"type\":\"Grid\"},{\"attributes\":{\"fill_alpha\":{\"value\":0.1},\"fill_color\":{\"value\":\"#1f77b4\"},\"line_alpha\":{\"value\":0.1},\"line_color\":{\"value\":\"#1f77b4\"},\"size\":{\"units\":\"screen\",\"value\":10},\"x\":{\"field\":\"x\"},\"y\":{\"field\":\"y\"}},\"id\":\"681839f5-1465-4309-a943-c3177d9900ea\",\"type\":\"Circle\"},{\"attributes\":{\"formatter\":{\"id\":\"14edfb2c-ed18-4f1a-a269-7351cbdc8561\",\"type\":\"BasicTickFormatter\"},\"plot\":{\"id\":\"6393dbce-363d-4401-b675-365ad607f239\",\"subtype\":\"Figure\",\"type\":\"Plot\"},\"ticker\":{\"id\":\"239eafae-1910-46c6-989c-883a06196f48\",\"type\":\"BasicTicker\"}},\"id\":\"c4ff4cd2-a281-4e53-b10f-b38d0e459323\",\"type\":\"LinearAxis\"},{\"attributes\":{},\"id\":\"239eafae-1910-46c6-989c-883a06196f48\",\"type\":\"BasicTicker\"},{\"attributes\":{\"formatter\":{\"id\":\"2894e4db-e5a2-497e-a788-88ef02b00fed\",\"type\":\"BasicTickFormatter\"},\"plot\":{\"id\":\"6393dbce-363d-4401-b675-365ad607f239\",\"subtype\":\"Figure\",\"type\":\"Plot\"},\"ticker\":{\"id\":\"bc6d0839-4cec-46ca-a1dc-ce04810a0e25\",\"type\":\"BasicTicker\"}},\"id\":\"ecd9578c-5393-49d5-87b1-5027a5257995\",\"type\":\"LinearAxis\"},{\"attributes\":{},\"id\":\"bc6d0839-4cec-46ca-a1dc-ce04810a0e25\",\"type\":\"BasicTicker\"},{\"attributes\":{\"dimension\":1,\"plot\":{\"id\":\"6393dbce-363d-4401-b675-365ad607f239\",\"subtype\":\"Figure\",\"type\":\"Plot\"},\"ticker\":{\"id\":\"bc6d0839-4cec-46ca-a1dc-ce04810a0e25\",\"type\":\"BasicTicker\"}},\"id\":\"cc6315eb-4e80-44ea-83e3-6ddcb15b6511\",\"type\":\"Grid\"},{\"attributes\":{\"fill_alpha\":{\"value\":0.5},\"fill_color\":{\"value\":\"navy\"},\"line_alpha\":{\"value\":0.5},\"line_color\":{\"value\":\"navy\"},\"size\":{\"units\":\"screen\",\"value\":10},\"x\":{\"field\":\"x\"},\"y\":{\"field\":\"y\"}},\"id\":\"5bcd070e-35bb-4741-9aa5-a0b2b49327ef\",\"type\":\"Circle\"},{\"attributes\":{\"below\":[{\"id\":\"22b37dce-0e97-4ef3-a314-799acb9b461c\",\"type\":\"LinearAxis\"}],\"left\":[{\"id\":\"2a77ca89-922f-48c4-a7d3-f9f11fc668ba\",\"type\":\"LinearAxis\"}],\"plot_height\":250,\"plot_width\":250,\"renderers\":[{\"id\":\"22b37dce-0e97-4ef3-a314-799acb9b461c\",\"type\":\"LinearAxis\"},{\"id\":\"a5c21f0a-74ca-4070-8228-4ca5c9f9f394\",\"type\":\"Grid\"},{\"id\":\"2a77ca89-922f-48c4-a7d3-f9f11fc668ba\",\"type\":\"LinearAxis\"},{\"id\":\"5dc1ad1b-f5aa-48f6-8bc9-3406947a7d65\",\"type\":\"Grid\"},{\"id\":\"e0af4d97-dcf0-47ea-8223-2e0942293f16\",\"type\":\"BoxAnnotation\"},{\"id\":\"0f2e2cb3-4c4f-4706-bb8f-ee674998a202\",\"type\":\"GlyphRenderer\"}],\"title\":null,\"toolbar\":{\"id\":\"c4843eb4-ca84-4cc4-8516-4040da3f770c\",\"type\":\"Toolbar\"},\"x_range\":{\"id\":\"7fb54ff2-2c36-4942-bcb9-19694020f96b\",\"type\":\"DataRange1d\"},\"x_scale\":{\"id\":\"abf884ea-0724-4967-ab55-e932587113bd\",\"type\":\"LinearScale\"},\"y_range\":{\"id\":\"1701b43c-5da6-406d-9a73-c225610f6857\",\"type\":\"DataRange1d\"},\"y_scale\":{\"id\":\"f6424433-f11b-4ebf-8ed4-f9bd3f007e75\",\"type\":\"LinearScale\"}},\"id\":\"565602ba-c954-4e8b-b073-6b69467863e6\",\"subtype\":\"Figure\",\"type\":\"Plot\"},{\"attributes\":{},\"id\":\"6977b922-0098-4b6f-b099-7a6405e6ba36\",\"type\":\"PanTool\"},{\"attributes\":{\"bottom_units\":\"screen\",\"fill_alpha\":{\"value\":0.5},\"fill_color\":{\"value\":\"lightgrey\"},\"left_units\":\"screen\",\"level\":\"overlay\",\"line_alpha\":{\"value\":1.0},\"line_color\":{\"value\":\"black\"},\"line_dash\":[4,4],\"line_width\":{\"value\":2},\"plot\":null,\"render_mode\":\"css\",\"right_units\":\"screen\",\"top_units\":\"screen\"},\"id\":\"30910988-ec57-4e5d-a9ca-8d65ce7ca7d3\",\"type\":\"BoxAnnotation\"},{\"attributes\":{},\"id\":\"a57e9f18-1b08-46ad-a1b8-4b022c00c467\",\"type\":\"WheelZoomTool\"},{\"attributes\":{},\"id\":\"dc0c5a34-ffce-43b6-b616-f4c0dfdc2ebc\",\"type\":\"BasicTicker\"},{\"attributes\":{\"overlay\":{\"id\":\"30910988-ec57-4e5d-a9ca-8d65ce7ca7d3\",\"type\":\"BoxAnnotation\"}},\"id\":\"f12e798d-130f-4fe2-b19d-2c38423016a9\",\"type\":\"BoxZoomTool\"},{\"attributes\":{},\"id\":\"fc99a10b-e5f6-4e5e-947f-79887b567ab7\",\"type\":\"SaveTool\"},{\"attributes\":{},\"id\":\"05051704-adf6-4cd4-9226-0d867e00e737\",\"type\":\"ResetTool\"},{\"attributes\":{},\"id\":\"c57deaa6-b0f3-47f2-8b92-2fe196880952\",\"type\":\"HelpTool\"}],\"root_ids\":[\"69094cab-599b-4bdf-bfc1-3d1dc54258f5\"]},\"title\":\"Bokeh Application\",\"version\":\"0.12.13\"}};\n",
       "  var render_items = [{\"docid\":\"90affe45-6bce-4e26-8c4c-a3421d7ae5cf\",\"elementid\":\"89b17dfa-b7d8-4dd4-8bbd-22781ff1f3db\",\"modelid\":\"69094cab-599b-4bdf-bfc1-3d1dc54258f5\"}];\n",
       "  root.Bokeh.embed.embed_items_notebook(docs_json, render_items);\n",
       "\n",
       "  }\n",
       "  if (root.Bokeh !== undefined) {\n",
       "    embed_document(root);\n",
       "  } else {\n",
       "    var attempts = 0;\n",
       "    var timer = setInterval(function(root) {\n",
       "      if (root.Bokeh !== undefined) {\n",
       "        embed_document(root);\n",
       "        clearInterval(timer);\n",
       "      }\n",
       "      attempts++;\n",
       "      if (attempts > 100) {\n",
       "        console.log(\"Bokeh: ERROR: Unable to run BokehJS code because BokehJS library is missing\")\n",
       "        clearInterval(timer);\n",
       "      }\n",
       "    }, 10, root)\n",
       "  }\n",
       "})(window);"
      ],
      "application/vnd.bokehjs_exec.v0+json": ""
     },
     "metadata": {
      "application/vnd.bokehjs_exec.v0+json": {
       "id": "69094cab-599b-4bdf-bfc1-3d1dc54258f5"
      }
     },
     "output_type": "display_data"
    }
   ],
   "source": [
    "from bokeh.layouts import column\n",
    "\n",
    "x = list(range(11))\n",
    "y0 = x\n",
    "y1 = [10 - i for i in x]\n",
    "y2 = [abs(i - 5) for i in x]\n",
    "\n",
    "# create a new plot\n",
    "s1 = figure(plot_width=250, plot_height=250, title=None)\n",
    "s1.circle(x, y0, size=10, color=\"navy\", alpha=0.5)\n",
    "\n",
    "# create another one\n",
    "s2 = figure(plot_width=250, plot_height=250, title=None)\n",
    "s2.triangle(x, y1, size=10, color=\"firebrick\", alpha=0.5)\n",
    "\n",
    "# create and another\n",
    "s3 = figure(plot_width=250, plot_height=250, title=None)\n",
    "s3.square(x, y2, size=10, color=\"olive\", alpha=0.5)\n",
    "\n",
    "# put the results in a column and show\n",
    "show(column(s1, s2, s3))"
   ]
  },
  {
   "cell_type": "markdown",
   "metadata": {},
   "source": [
    "### Rows"
   ]
  },
  {
   "cell_type": "code",
   "execution_count": 4,
   "metadata": {},
   "outputs": [
    {
     "data": {
      "text/html": [
       "\n",
       "<div class=\"bk-root\">\n",
       "    <div class=\"bk-plotdiv\" id=\"4b7c3d8c-ccdf-45c0-a97d-16aa4210ec88\"></div>\n",
       "</div>"
      ]
     },
     "metadata": {},
     "output_type": "display_data"
    },
    {
     "data": {
      "application/javascript": [
       "(function(root) {\n",
       "  function embed_document(root) {\n",
       "    \n",
       "  var docs_json = {\"e62a3373-d3bb-430f-a4e9-da4019bfd6cb\":{\"roots\":{\"references\":[{\"attributes\":{\"dimension\":1,\"plot\":{\"id\":\"bf534732-b693-4b4e-a4a2-3d93975441e1\",\"subtype\":\"Figure\",\"type\":\"Plot\"},\"ticker\":{\"id\":\"75d21e2d-b6f5-4c07-9e9a-b1eb9ff15a33\",\"type\":\"BasicTicker\"}},\"id\":\"1214f3ff-001f-4376-8347-27cac082d216\",\"type\":\"Grid\"},{\"attributes\":{\"bottom_units\":\"screen\",\"fill_alpha\":{\"value\":0.5},\"fill_color\":{\"value\":\"lightgrey\"},\"left_units\":\"screen\",\"level\":\"overlay\",\"line_alpha\":{\"value\":1.0},\"line_color\":{\"value\":\"black\"},\"line_dash\":[4,4],\"line_width\":{\"value\":2},\"plot\":null,\"render_mode\":\"css\",\"right_units\":\"screen\",\"top_units\":\"screen\"},\"id\":\"b437c052-df1e-40d7-9a4b-abcb15afa5b4\",\"type\":\"BoxAnnotation\"},{\"attributes\":{\"bottom_units\":\"screen\",\"fill_alpha\":{\"value\":0.5},\"fill_color\":{\"value\":\"lightgrey\"},\"left_units\":\"screen\",\"level\":\"overlay\",\"line_alpha\":{\"value\":1.0},\"line_color\":{\"value\":\"black\"},\"line_dash\":[4,4],\"line_width\":{\"value\":2},\"plot\":null,\"render_mode\":\"css\",\"right_units\":\"screen\",\"top_units\":\"screen\"},\"id\":\"9714a7fe-794c-4a28-9957-8b3cdce0cae3\",\"type\":\"BoxAnnotation\"},{\"attributes\":{\"source\":{\"id\":\"785be40b-be75-4428-917f-d8dd12934c63\",\"type\":\"ColumnDataSource\"}},\"id\":\"468b95c4-8a22-42f0-a628-5d5a3f38400f\",\"type\":\"CDSView\"},{\"attributes\":{\"formatter\":{\"id\":\"a3600465-cac9-4d6d-ab01-1bdd0055fe60\",\"type\":\"BasicTickFormatter\"},\"plot\":{\"id\":\"bf534732-b693-4b4e-a4a2-3d93975441e1\",\"subtype\":\"Figure\",\"type\":\"Plot\"},\"ticker\":{\"id\":\"522f2f52-4703-4651-ba8b-f73049a2747f\",\"type\":\"BasicTicker\"}},\"id\":\"d238f057-1f2b-4a27-ac6d-1f9332474908\",\"type\":\"LinearAxis\"},{\"attributes\":{},\"id\":\"33ffc8b3-b65c-46bd-9e92-a4345dfd00d6\",\"type\":\"WheelZoomTool\"},{\"attributes\":{},\"id\":\"6673b6aa-ba11-474d-b2cf-570e9f4c9281\",\"type\":\"LinearScale\"},{\"attributes\":{\"plot\":{\"id\":\"78327942-a152-4527-a5bb-170035f07523\",\"subtype\":\"Figure\",\"type\":\"Plot\"},\"ticker\":{\"id\":\"7cc1bd3f-19d5-4692-b007-162862a715d7\",\"type\":\"BasicTicker\"}},\"id\":\"7180b50e-f762-4b55-aeeb-f623996c6fb0\",\"type\":\"Grid\"},{\"attributes\":{\"source\":{\"id\":\"cc0e8398-7d1b-4e8e-acce-30834113eb4b\",\"type\":\"ColumnDataSource\"}},\"id\":\"a8bc0698-1a7d-40ec-b30e-130a81e78532\",\"type\":\"CDSView\"},{\"attributes\":{\"data_source\":{\"id\":\"3d5832be-29a0-45d1-abd8-85b07be5db84\",\"type\":\"ColumnDataSource\"},\"glyph\":{\"id\":\"cf0b8961-25fd-4218-a863-9858ceda4883\",\"type\":\"Circle\"},\"hover_glyph\":null,\"muted_glyph\":null,\"nonselection_glyph\":{\"id\":\"40a13674-37a7-4367-ad61-f592a36f19ba\",\"type\":\"Circle\"},\"selection_glyph\":null,\"view\":{\"id\":\"2292201d-3fb2-40d6-9f0b-fd6a247d5d55\",\"type\":\"CDSView\"}},\"id\":\"250b668b-6923-4ca4-88df-75179380665d\",\"type\":\"GlyphRenderer\"},{\"attributes\":{},\"id\":\"e8e32dc7-d0cb-4473-b528-82e3ae6a6c36\",\"type\":\"SaveTool\"},{\"attributes\":{\"overlay\":{\"id\":\"9714a7fe-794c-4a28-9957-8b3cdce0cae3\",\"type\":\"BoxAnnotation\"}},\"id\":\"d876b49a-6803-47b4-ac08-eb6ca5a4389f\",\"type\":\"BoxZoomTool\"},{\"attributes\":{},\"id\":\"d6882df1-a417-4b01-a80d-d4c013be64dc\",\"type\":\"HelpTool\"},{\"attributes\":{},\"id\":\"8cb25efb-67db-4f0d-84b6-99d5f181dbee\",\"type\":\"ResetTool\"},{\"attributes\":{},\"id\":\"5d87f926-d761-471a-b75f-dd0734e12b1d\",\"type\":\"PanTool\"},{\"attributes\":{},\"id\":\"5275d3a8-b944-4488-97f4-44ab359cc5f5\",\"type\":\"BasicTickFormatter\"},{\"attributes\":{\"callback\":null,\"column_names\":[\"x\",\"y\"],\"data\":{\"x\":[0,1,2,3,4,5,6,7,8,9,10],\"y\":[10,9,8,7,6,5,4,3,2,1,0]}},\"id\":\"785be40b-be75-4428-917f-d8dd12934c63\",\"type\":\"ColumnDataSource\"},{\"attributes\":{\"active_drag\":\"auto\",\"active_inspect\":\"auto\",\"active_scroll\":\"auto\",\"active_tap\":\"auto\",\"tools\":[{\"id\":\"21e825c2-3522-4044-b231-610c2dfd6be4\",\"type\":\"PanTool\"},{\"id\":\"070c6e8a-03b2-4b51-a861-1af416be7f2a\",\"type\":\"WheelZoomTool\"},{\"id\":\"61a31c86-c319-4032-bd01-5b85e81fb0b9\",\"type\":\"BoxZoomTool\"},{\"id\":\"723ca002-a82e-4cf8-aa2c-8a5043160e9a\",\"type\":\"SaveTool\"},{\"id\":\"8b47b398-1524-4123-8e5e-e1dde1232046\",\"type\":\"ResetTool\"},{\"id\":\"4ab15f2c-0e41-4157-a680-ee9d26f1344a\",\"type\":\"HelpTool\"}]},\"id\":\"97e79b3b-de2a-4dec-871e-05934dd7ae16\",\"type\":\"Toolbar\"},{\"attributes\":{\"callback\":null},\"id\":\"6f14e4a6-a46a-4883-8609-abb1c8a170d7\",\"type\":\"DataRange1d\"},{\"attributes\":{\"callback\":null},\"id\":\"2d77b52f-55c5-4900-90d4-30e024631cae\",\"type\":\"DataRange1d\"},{\"attributes\":{\"source\":{\"id\":\"3d5832be-29a0-45d1-abd8-85b07be5db84\",\"type\":\"ColumnDataSource\"}},\"id\":\"2292201d-3fb2-40d6-9f0b-fd6a247d5d55\",\"type\":\"CDSView\"},{\"attributes\":{},\"id\":\"a3600465-cac9-4d6d-ab01-1bdd0055fe60\",\"type\":\"BasicTickFormatter\"},{\"attributes\":{\"fill_alpha\":{\"value\":0.1},\"fill_color\":{\"value\":\"#1f77b4\"},\"line_alpha\":{\"value\":0.1},\"line_color\":{\"value\":\"#1f77b4\"},\"size\":{\"units\":\"screen\",\"value\":10},\"x\":{\"field\":\"x\"},\"y\":{\"field\":\"y\"}},\"id\":\"a4566e6c-1f20-499e-88b7-f1d0d86b247f\",\"type\":\"Triangle\"},{\"attributes\":{},\"id\":\"7cc1bd3f-19d5-4692-b007-162862a715d7\",\"type\":\"BasicTicker\"},{\"attributes\":{\"formatter\":{\"id\":\"803f7a70-9274-4b2b-8233-553c3f93882d\",\"type\":\"BasicTickFormatter\"},\"plot\":{\"id\":\"78327942-a152-4527-a5bb-170035f07523\",\"subtype\":\"Figure\",\"type\":\"Plot\"},\"ticker\":{\"id\":\"7cc1bd3f-19d5-4692-b007-162862a715d7\",\"type\":\"BasicTicker\"}},\"id\":\"736810d0-f813-465b-bc6b-e4b8dcb39818\",\"type\":\"LinearAxis\"},{\"attributes\":{},\"id\":\"f24b808f-fa01-433d-bb13-50cda6fbdead\",\"type\":\"LinearScale\"},{\"attributes\":{\"bottom_units\":\"screen\",\"fill_alpha\":{\"value\":0.5},\"fill_color\":{\"value\":\"lightgrey\"},\"left_units\":\"screen\",\"level\":\"overlay\",\"line_alpha\":{\"value\":1.0},\"line_color\":{\"value\":\"black\"},\"line_dash\":[4,4],\"line_width\":{\"value\":2},\"plot\":null,\"render_mode\":\"css\",\"right_units\":\"screen\",\"top_units\":\"screen\"},\"id\":\"1633de6a-4b10-4c5e-a1f8-7da32cdcc2c3\",\"type\":\"BoxAnnotation\"},{\"attributes\":{\"data_source\":{\"id\":\"785be40b-be75-4428-917f-d8dd12934c63\",\"type\":\"ColumnDataSource\"},\"glyph\":{\"id\":\"5dc41abe-7a88-46ed-9e24-4e4df886cc0b\",\"type\":\"Triangle\"},\"hover_glyph\":null,\"muted_glyph\":null,\"nonselection_glyph\":{\"id\":\"a4566e6c-1f20-499e-88b7-f1d0d86b247f\",\"type\":\"Triangle\"},\"selection_glyph\":null,\"view\":{\"id\":\"468b95c4-8a22-42f0-a628-5d5a3f38400f\",\"type\":\"CDSView\"}},\"id\":\"369d2fd2-bdd0-4b65-b506-1272f1e70237\",\"type\":\"GlyphRenderer\"},{\"attributes\":{\"below\":[{\"id\":\"59abd0f5-576f-4f91-a4b3-3b3b9bd738fd\",\"type\":\"LinearAxis\"}],\"left\":[{\"id\":\"23636ff3-8ca0-4ac8-bf3d-834d24e0bece\",\"type\":\"LinearAxis\"}],\"plot_height\":250,\"plot_width\":250,\"renderers\":[{\"id\":\"59abd0f5-576f-4f91-a4b3-3b3b9bd738fd\",\"type\":\"LinearAxis\"},{\"id\":\"783f8868-4457-4eaa-86a4-7750b7bf353e\",\"type\":\"Grid\"},{\"id\":\"23636ff3-8ca0-4ac8-bf3d-834d24e0bece\",\"type\":\"LinearAxis\"},{\"id\":\"c5ce5c3b-641c-42a6-a9d1-e832b88bd303\",\"type\":\"Grid\"},{\"id\":\"b437c052-df1e-40d7-9a4b-abcb15afa5b4\",\"type\":\"BoxAnnotation\"},{\"id\":\"142fce0f-a30a-4a83-87ef-e8bd3f559daa\",\"type\":\"GlyphRenderer\"}],\"title\":null,\"toolbar\":{\"id\":\"cf73857b-6945-4445-9d67-9820839c7b0b\",\"type\":\"Toolbar\"},\"x_range\":{\"id\":\"86519023-f8ee-450d-8bff-717b31463a42\",\"type\":\"DataRange1d\"},\"x_scale\":{\"id\":\"09fb846d-16bc-4bba-b6a5-1f49c41c6b5f\",\"type\":\"LinearScale\"},\"y_range\":{\"id\":\"bf57e001-478d-4e85-b79f-322195cd2fcd\",\"type\":\"DataRange1d\"},\"y_scale\":{\"id\":\"668fcee5-bec2-4f96-ac6d-336137812227\",\"type\":\"LinearScale\"}},\"id\":\"47fdbed7-d40e-455e-a52d-593988026b47\",\"subtype\":\"Figure\",\"type\":\"Plot\"},{\"attributes\":{\"callback\":null},\"id\":\"5ecbfbbb-23ed-4f92-9b50-678f84494464\",\"type\":\"DataRange1d\"},{\"attributes\":{\"fill_alpha\":{\"value\":0.5},\"fill_color\":{\"value\":\"firebrick\"},\"line_alpha\":{\"value\":0.5},\"line_color\":{\"value\":\"firebrick\"},\"size\":{\"units\":\"screen\",\"value\":10},\"x\":{\"field\":\"x\"},\"y\":{\"field\":\"y\"}},\"id\":\"5dc41abe-7a88-46ed-9e24-4e4df886cc0b\",\"type\":\"Triangle\"},{\"attributes\":{\"dimension\":1,\"plot\":{\"id\":\"78327942-a152-4527-a5bb-170035f07523\",\"subtype\":\"Figure\",\"type\":\"Plot\"},\"ticker\":{\"id\":\"720486c6-48c3-4743-b90f-74563b6f465a\",\"type\":\"BasicTicker\"}},\"id\":\"1282c715-93a4-4559-aa6b-20bf184316cd\",\"type\":\"Grid\"},{\"attributes\":{},\"id\":\"720486c6-48c3-4743-b90f-74563b6f465a\",\"type\":\"BasicTicker\"},{\"attributes\":{\"formatter\":{\"id\":\"d8604cce-950a-4086-8044-b0574382c182\",\"type\":\"BasicTickFormatter\"},\"plot\":{\"id\":\"78327942-a152-4527-a5bb-170035f07523\",\"subtype\":\"Figure\",\"type\":\"Plot\"},\"ticker\":{\"id\":\"720486c6-48c3-4743-b90f-74563b6f465a\",\"type\":\"BasicTicker\"}},\"id\":\"47741afc-4041-4b28-a33e-bdbbf1c67729\",\"type\":\"LinearAxis\"},{\"attributes\":{},\"id\":\"21e825c2-3522-4044-b231-610c2dfd6be4\",\"type\":\"PanTool\"},{\"attributes\":{},\"id\":\"723ca002-a82e-4cf8-aa2c-8a5043160e9a\",\"type\":\"SaveTool\"},{\"attributes\":{},\"id\":\"d8604cce-950a-4086-8044-b0574382c182\",\"type\":\"BasicTickFormatter\"},{\"attributes\":{},\"id\":\"4ab15f2c-0e41-4157-a680-ee9d26f1344a\",\"type\":\"HelpTool\"},{\"attributes\":{\"overlay\":{\"id\":\"1633de6a-4b10-4c5e-a1f8-7da32cdcc2c3\",\"type\":\"BoxAnnotation\"}},\"id\":\"61a31c86-c319-4032-bd01-5b85e81fb0b9\",\"type\":\"BoxZoomTool\"},{\"attributes\":{},\"id\":\"070c6e8a-03b2-4b51-a861-1af416be7f2a\",\"type\":\"WheelZoomTool\"},{\"attributes\":{},\"id\":\"668fcee5-bec2-4f96-ac6d-336137812227\",\"type\":\"LinearScale\"},{\"attributes\":{},\"id\":\"965a3ed0-9387-4dd6-b545-9d110635af62\",\"type\":\"BasicTickFormatter\"},{\"attributes\":{},\"id\":\"8b47b398-1524-4123-8e5e-e1dde1232046\",\"type\":\"ResetTool\"},{\"attributes\":{},\"id\":\"803f7a70-9274-4b2b-8233-553c3f93882d\",\"type\":\"BasicTickFormatter\"},{\"attributes\":{\"callback\":null},\"id\":\"bf57e001-478d-4e85-b79f-322195cd2fcd\",\"type\":\"DataRange1d\"},{\"attributes\":{},\"id\":\"09fb846d-16bc-4bba-b6a5-1f49c41c6b5f\",\"type\":\"LinearScale\"},{\"attributes\":{\"callback\":null,\"column_names\":[\"x\",\"y\"],\"data\":{\"x\":[0,1,2,3,4,5,6,7,8,9,10],\"y\":[5,4,3,2,1,0,1,2,3,4,5]}},\"id\":\"cc0e8398-7d1b-4e8e-acce-30834113eb4b\",\"type\":\"ColumnDataSource\"},{\"attributes\":{\"callback\":null},\"id\":\"86519023-f8ee-450d-8bff-717b31463a42\",\"type\":\"DataRange1d\"},{\"attributes\":{\"active_drag\":\"auto\",\"active_inspect\":\"auto\",\"active_scroll\":\"auto\",\"active_tap\":\"auto\",\"tools\":[{\"id\":\"39a5340c-c678-42de-b7e3-1f3d1647adc8\",\"type\":\"PanTool\"},{\"id\":\"818ff614-7dc2-4670-b1c5-0d34ae63211f\",\"type\":\"WheelZoomTool\"},{\"id\":\"799e1baf-8bbf-4405-812a-e9daf2a60d14\",\"type\":\"BoxZoomTool\"},{\"id\":\"ca74e859-3770-4843-a36c-234e87f3df4f\",\"type\":\"SaveTool\"},{\"id\":\"39b75902-f95c-40fa-bc4e-fef24564aadc\",\"type\":\"ResetTool\"},{\"id\":\"1f96f143-4532-42ec-9b2d-de7cf6ccc678\",\"type\":\"HelpTool\"}]},\"id\":\"cf73857b-6945-4445-9d67-9820839c7b0b\",\"type\":\"Toolbar\"},{\"attributes\":{\"fill_alpha\":{\"value\":0.1},\"fill_color\":{\"value\":\"#1f77b4\"},\"line_alpha\":{\"value\":0.1},\"line_color\":{\"value\":\"#1f77b4\"},\"size\":{\"units\":\"screen\",\"value\":10},\"x\":{\"field\":\"x\"},\"y\":{\"field\":\"y\"}},\"id\":\"ae2ced12-dfcf-4e1b-a639-cbfccdcd7358\",\"type\":\"Square\"},{\"attributes\":{\"formatter\":{\"id\":\"965a3ed0-9387-4dd6-b545-9d110635af62\",\"type\":\"BasicTickFormatter\"},\"plot\":{\"id\":\"47fdbed7-d40e-455e-a52d-593988026b47\",\"subtype\":\"Figure\",\"type\":\"Plot\"},\"ticker\":{\"id\":\"36934a84-2e36-40a2-bba7-21d236a35841\",\"type\":\"BasicTicker\"}},\"id\":\"23636ff3-8ca0-4ac8-bf3d-834d24e0bece\",\"type\":\"LinearAxis\"},{\"attributes\":{},\"id\":\"36934a84-2e36-40a2-bba7-21d236a35841\",\"type\":\"BasicTicker\"},{\"attributes\":{\"children\":[{\"id\":\"bf534732-b693-4b4e-a4a2-3d93975441e1\",\"subtype\":\"Figure\",\"type\":\"Plot\"},{\"id\":\"78327942-a152-4527-a5bb-170035f07523\",\"subtype\":\"Figure\",\"type\":\"Plot\"},{\"id\":\"47fdbed7-d40e-455e-a52d-593988026b47\",\"subtype\":\"Figure\",\"type\":\"Plot\"}]},\"id\":\"fe72ab60-996d-45ea-8bba-d1f1cc1dff2e\",\"type\":\"Row\"},{\"attributes\":{\"plot\":{\"id\":\"47fdbed7-d40e-455e-a52d-593988026b47\",\"subtype\":\"Figure\",\"type\":\"Plot\"},\"ticker\":{\"id\":\"a3bf77c9-4df5-4b63-847f-db29b0002f4b\",\"type\":\"BasicTicker\"}},\"id\":\"783f8868-4457-4eaa-86a4-7750b7bf353e\",\"type\":\"Grid\"},{\"attributes\":{},\"id\":\"bd3b8390-89bf-4d93-9375-c33021607b9e\",\"type\":\"LinearScale\"},{\"attributes\":{},\"id\":\"a3bf77c9-4df5-4b63-847f-db29b0002f4b\",\"type\":\"BasicTicker\"},{\"attributes\":{\"formatter\":{\"id\":\"91f8d347-1d1e-4900-abaa-ef305c372b57\",\"type\":\"BasicTickFormatter\"},\"plot\":{\"id\":\"47fdbed7-d40e-455e-a52d-593988026b47\",\"subtype\":\"Figure\",\"type\":\"Plot\"},\"ticker\":{\"id\":\"a3bf77c9-4df5-4b63-847f-db29b0002f4b\",\"type\":\"BasicTicker\"}},\"id\":\"59abd0f5-576f-4f91-a4b3-3b3b9bd738fd\",\"type\":\"LinearAxis\"},{\"attributes\":{\"fill_alpha\":{\"value\":0.5},\"fill_color\":{\"value\":\"olive\"},\"line_alpha\":{\"value\":0.5},\"line_color\":{\"value\":\"olive\"},\"size\":{\"units\":\"screen\",\"value\":10},\"x\":{\"field\":\"x\"},\"y\":{\"field\":\"y\"}},\"id\":\"7d544998-88bb-4fc6-9a52-c8cfd0dee3fb\",\"type\":\"Square\"},{\"attributes\":{\"dimension\":1,\"plot\":{\"id\":\"47fdbed7-d40e-455e-a52d-593988026b47\",\"subtype\":\"Figure\",\"type\":\"Plot\"},\"ticker\":{\"id\":\"36934a84-2e36-40a2-bba7-21d236a35841\",\"type\":\"BasicTicker\"}},\"id\":\"c5ce5c3b-641c-42a6-a9d1-e832b88bd303\",\"type\":\"Grid\"},{\"attributes\":{},\"id\":\"522f2f52-4703-4651-ba8b-f73049a2747f\",\"type\":\"BasicTicker\"},{\"attributes\":{},\"id\":\"818ff614-7dc2-4670-b1c5-0d34ae63211f\",\"type\":\"WheelZoomTool\"},{\"attributes\":{},\"id\":\"1f96f143-4532-42ec-9b2d-de7cf6ccc678\",\"type\":\"HelpTool\"},{\"attributes\":{},\"id\":\"39a5340c-c678-42de-b7e3-1f3d1647adc8\",\"type\":\"PanTool\"},{\"attributes\":{},\"id\":\"fdc1e76f-7e49-4706-b835-59648aef0eea\",\"type\":\"LinearScale\"},{\"attributes\":{\"fill_alpha\":{\"value\":0.5},\"fill_color\":{\"value\":\"navy\"},\"line_alpha\":{\"value\":0.5},\"line_color\":{\"value\":\"navy\"},\"size\":{\"units\":\"screen\",\"value\":10},\"x\":{\"field\":\"x\"},\"y\":{\"field\":\"y\"}},\"id\":\"cf0b8961-25fd-4218-a863-9858ceda4883\",\"type\":\"Circle\"},{\"attributes\":{},\"id\":\"91f8d347-1d1e-4900-abaa-ef305c372b57\",\"type\":\"BasicTickFormatter\"},{\"attributes\":{\"below\":[{\"id\":\"736810d0-f813-465b-bc6b-e4b8dcb39818\",\"type\":\"LinearAxis\"}],\"left\":[{\"id\":\"47741afc-4041-4b28-a33e-bdbbf1c67729\",\"type\":\"LinearAxis\"}],\"plot_height\":250,\"plot_width\":250,\"renderers\":[{\"id\":\"736810d0-f813-465b-bc6b-e4b8dcb39818\",\"type\":\"LinearAxis\"},{\"id\":\"7180b50e-f762-4b55-aeeb-f623996c6fb0\",\"type\":\"Grid\"},{\"id\":\"47741afc-4041-4b28-a33e-bdbbf1c67729\",\"type\":\"LinearAxis\"},{\"id\":\"1282c715-93a4-4559-aa6b-20bf184316cd\",\"type\":\"Grid\"},{\"id\":\"1633de6a-4b10-4c5e-a1f8-7da32cdcc2c3\",\"type\":\"BoxAnnotation\"},{\"id\":\"369d2fd2-bdd0-4b65-b506-1272f1e70237\",\"type\":\"GlyphRenderer\"}],\"title\":null,\"toolbar\":{\"id\":\"97e79b3b-de2a-4dec-871e-05934dd7ae16\",\"type\":\"Toolbar\"},\"x_range\":{\"id\":\"6f14e4a6-a46a-4883-8609-abb1c8a170d7\",\"type\":\"DataRange1d\"},\"x_scale\":{\"id\":\"6673b6aa-ba11-474d-b2cf-570e9f4c9281\",\"type\":\"LinearScale\"},\"y_range\":{\"id\":\"2d77b52f-55c5-4900-90d4-30e024631cae\",\"type\":\"DataRange1d\"},\"y_scale\":{\"id\":\"f24b808f-fa01-433d-bb13-50cda6fbdead\",\"type\":\"LinearScale\"}},\"id\":\"78327942-a152-4527-a5bb-170035f07523\",\"subtype\":\"Figure\",\"type\":\"Plot\"},{\"attributes\":{\"data_source\":{\"id\":\"cc0e8398-7d1b-4e8e-acce-30834113eb4b\",\"type\":\"ColumnDataSource\"},\"glyph\":{\"id\":\"7d544998-88bb-4fc6-9a52-c8cfd0dee3fb\",\"type\":\"Square\"},\"hover_glyph\":null,\"muted_glyph\":null,\"nonselection_glyph\":{\"id\":\"ae2ced12-dfcf-4e1b-a639-cbfccdcd7358\",\"type\":\"Square\"},\"selection_glyph\":null,\"view\":{\"id\":\"a8bc0698-1a7d-40ec-b30e-130a81e78532\",\"type\":\"CDSView\"}},\"id\":\"142fce0f-a30a-4a83-87ef-e8bd3f559daa\",\"type\":\"GlyphRenderer\"},{\"attributes\":{},\"id\":\"75d21e2d-b6f5-4c07-9e9a-b1eb9ff15a33\",\"type\":\"BasicTicker\"},{\"attributes\":{\"callback\":null,\"column_names\":[\"x\",\"y\"],\"data\":{\"x\":[0,1,2,3,4,5,6,7,8,9,10],\"y\":[0,1,2,3,4,5,6,7,8,9,10]}},\"id\":\"3d5832be-29a0-45d1-abd8-85b07be5db84\",\"type\":\"ColumnDataSource\"},{\"attributes\":{\"below\":[{\"id\":\"d238f057-1f2b-4a27-ac6d-1f9332474908\",\"type\":\"LinearAxis\"}],\"left\":[{\"id\":\"2286f87e-7032-4643-abb2-329647a537fa\",\"type\":\"LinearAxis\"}],\"plot_height\":250,\"plot_width\":250,\"renderers\":[{\"id\":\"d238f057-1f2b-4a27-ac6d-1f9332474908\",\"type\":\"LinearAxis\"},{\"id\":\"f65a37b4-5b1a-476f-a162-ee7ce5765f27\",\"type\":\"Grid\"},{\"id\":\"2286f87e-7032-4643-abb2-329647a537fa\",\"type\":\"LinearAxis\"},{\"id\":\"1214f3ff-001f-4376-8347-27cac082d216\",\"type\":\"Grid\"},{\"id\":\"9714a7fe-794c-4a28-9957-8b3cdce0cae3\",\"type\":\"BoxAnnotation\"},{\"id\":\"250b668b-6923-4ca4-88df-75179380665d\",\"type\":\"GlyphRenderer\"}],\"title\":null,\"toolbar\":{\"id\":\"683774ab-e313-491e-832f-45eaa847d479\",\"type\":\"Toolbar\"},\"x_range\":{\"id\":\"a3fbc66d-520e-496a-983a-28b192774883\",\"type\":\"DataRange1d\"},\"x_scale\":{\"id\":\"bd3b8390-89bf-4d93-9375-c33021607b9e\",\"type\":\"LinearScale\"},\"y_range\":{\"id\":\"5ecbfbbb-23ed-4f92-9b50-678f84494464\",\"type\":\"DataRange1d\"},\"y_scale\":{\"id\":\"fdc1e76f-7e49-4706-b835-59648aef0eea\",\"type\":\"LinearScale\"}},\"id\":\"bf534732-b693-4b4e-a4a2-3d93975441e1\",\"subtype\":\"Figure\",\"type\":\"Plot\"},{\"attributes\":{\"formatter\":{\"id\":\"5275d3a8-b944-4488-97f4-44ab359cc5f5\",\"type\":\"BasicTickFormatter\"},\"plot\":{\"id\":\"bf534732-b693-4b4e-a4a2-3d93975441e1\",\"subtype\":\"Figure\",\"type\":\"Plot\"},\"ticker\":{\"id\":\"75d21e2d-b6f5-4c07-9e9a-b1eb9ff15a33\",\"type\":\"BasicTicker\"}},\"id\":\"2286f87e-7032-4643-abb2-329647a537fa\",\"type\":\"LinearAxis\"},{\"attributes\":{\"fill_alpha\":{\"value\":0.1},\"fill_color\":{\"value\":\"#1f77b4\"},\"line_alpha\":{\"value\":0.1},\"line_color\":{\"value\":\"#1f77b4\"},\"size\":{\"units\":\"screen\",\"value\":10},\"x\":{\"field\":\"x\"},\"y\":{\"field\":\"y\"}},\"id\":\"40a13674-37a7-4367-ad61-f592a36f19ba\",\"type\":\"Circle\"},{\"attributes\":{\"active_drag\":\"auto\",\"active_inspect\":\"auto\",\"active_scroll\":\"auto\",\"active_tap\":\"auto\",\"tools\":[{\"id\":\"5d87f926-d761-471a-b75f-dd0734e12b1d\",\"type\":\"PanTool\"},{\"id\":\"33ffc8b3-b65c-46bd-9e92-a4345dfd00d6\",\"type\":\"WheelZoomTool\"},{\"id\":\"d876b49a-6803-47b4-ac08-eb6ca5a4389f\",\"type\":\"BoxZoomTool\"},{\"id\":\"e8e32dc7-d0cb-4473-b528-82e3ae6a6c36\",\"type\":\"SaveTool\"},{\"id\":\"8cb25efb-67db-4f0d-84b6-99d5f181dbee\",\"type\":\"ResetTool\"},{\"id\":\"d6882df1-a417-4b01-a80d-d4c013be64dc\",\"type\":\"HelpTool\"}]},\"id\":\"683774ab-e313-491e-832f-45eaa847d479\",\"type\":\"Toolbar\"},{\"attributes\":{\"overlay\":{\"id\":\"b437c052-df1e-40d7-9a4b-abcb15afa5b4\",\"type\":\"BoxAnnotation\"}},\"id\":\"799e1baf-8bbf-4405-812a-e9daf2a60d14\",\"type\":\"BoxZoomTool\"},{\"attributes\":{\"plot\":{\"id\":\"bf534732-b693-4b4e-a4a2-3d93975441e1\",\"subtype\":\"Figure\",\"type\":\"Plot\"},\"ticker\":{\"id\":\"522f2f52-4703-4651-ba8b-f73049a2747f\",\"type\":\"BasicTicker\"}},\"id\":\"f65a37b4-5b1a-476f-a162-ee7ce5765f27\",\"type\":\"Grid\"},{\"attributes\":{\"callback\":null},\"id\":\"a3fbc66d-520e-496a-983a-28b192774883\",\"type\":\"DataRange1d\"},{\"attributes\":{},\"id\":\"39b75902-f95c-40fa-bc4e-fef24564aadc\",\"type\":\"ResetTool\"},{\"attributes\":{},\"id\":\"ca74e859-3770-4843-a36c-234e87f3df4f\",\"type\":\"SaveTool\"}],\"root_ids\":[\"fe72ab60-996d-45ea-8bba-d1f1cc1dff2e\"]},\"title\":\"Bokeh Application\",\"version\":\"0.12.13\"}};\n",
       "  var render_items = [{\"docid\":\"e62a3373-d3bb-430f-a4e9-da4019bfd6cb\",\"elementid\":\"4b7c3d8c-ccdf-45c0-a97d-16aa4210ec88\",\"modelid\":\"fe72ab60-996d-45ea-8bba-d1f1cc1dff2e\"}];\n",
       "  root.Bokeh.embed.embed_items_notebook(docs_json, render_items);\n",
       "\n",
       "  }\n",
       "  if (root.Bokeh !== undefined) {\n",
       "    embed_document(root);\n",
       "  } else {\n",
       "    var attempts = 0;\n",
       "    var timer = setInterval(function(root) {\n",
       "      if (root.Bokeh !== undefined) {\n",
       "        embed_document(root);\n",
       "        clearInterval(timer);\n",
       "      }\n",
       "      attempts++;\n",
       "      if (attempts > 100) {\n",
       "        console.log(\"Bokeh: ERROR: Unable to run BokehJS code because BokehJS library is missing\")\n",
       "        clearInterval(timer);\n",
       "      }\n",
       "    }, 10, root)\n",
       "  }\n",
       "})(window);"
      ],
      "application/vnd.bokehjs_exec.v0+json": ""
     },
     "metadata": {
      "application/vnd.bokehjs_exec.v0+json": {
       "id": "fe72ab60-996d-45ea-8bba-d1f1cc1dff2e"
      }
     },
     "output_type": "display_data"
    }
   ],
   "source": [
    "from bokeh.layouts import row\n",
    "\n",
    "x = list(range(11))\n",
    "y0 = x\n",
    "y1 = [10 - i for i in x]\n",
    "y2 = [abs(i - 5) for i in x]\n",
    "\n",
    "# create a new plot\n",
    "s1 = figure(plot_width=250, plot_height=250, title=None)\n",
    "s1.circle(x, y0, size=10, color=\"navy\", alpha=0.5)\n",
    "\n",
    "# create another one\n",
    "s2 = figure(plot_width=250, plot_height=250, title=None)\n",
    "s2.triangle(x, y1, size=10, color=\"firebrick\", alpha=0.5)\n",
    "\n",
    "# create and another\n",
    "s3 = figure(plot_width=250, plot_height=250, title=None)\n",
    "s3.square(x, y2, size=10, color=\"olive\", alpha=0.5)\n",
    "\n",
    "# put the results in a row\n",
    "show(row(s1, s2, s3))"
   ]
  },
  {
   "cell_type": "markdown",
   "metadata": {},
   "source": [
    "### Widgets"
   ]
  },
  {
   "cell_type": "code",
   "execution_count": 5,
   "metadata": {},
   "outputs": [
    {
     "data": {
      "text/html": [
       "\n",
       "<div class=\"bk-root\">\n",
       "    <div class=\"bk-plotdiv\" id=\"e0287c82-8e76-4bfb-b994-45b2f242767c\"></div>\n",
       "</div>"
      ]
     },
     "metadata": {},
     "output_type": "display_data"
    },
    {
     "data": {
      "application/javascript": [
       "(function(root) {\n",
       "  function embed_document(root) {\n",
       "    \n",
       "  var docs_json = {\"efb7d46a-be6e-4339-bc04-a422987fb598\":{\"roots\":{\"references\":[{\"attributes\":{\"callback\":null,\"end\":10,\"start\":0,\"step\":0.1,\"title\":\"Slider\",\"value\":1},\"id\":\"5ec5f32f-c0e8-4564-994a-ff0a17835452\",\"type\":\"Slider\"},{\"attributes\":{\"callback\":null,\"options\":[\"foo\",\"bar\",\"baz\",\"quux\"],\"title\":\"Option:\",\"value\":\"foo\"},\"id\":\"f8013928-e5e3-42f3-959a-b61270483b0b\",\"type\":\"Select\"},{\"attributes\":{\"callback\":null,\"icon\":null,\"label\":\"Button 2\"},\"id\":\"a640008e-da4e-424b-906f-7ea6b771ec8e\",\"type\":\"Button\"},{\"attributes\":{\"active\":0,\"callback\":null,\"labels\":[\"Option 1\",\"Option 2\",\"Option 3\"]},\"id\":\"cbbf0bef-572c-4bee-8625-19a501782e24\",\"type\":\"RadioButtonGroup\"},{\"attributes\":{\"callback\":null,\"icon\":null,\"label\":\"Button 1\"},\"id\":\"56b5cbfe-06ed-4a89-a68a-0b2d62ea512b\",\"type\":\"Button\"},{\"attributes\":{\"children\":[{\"id\":\"56b5cbfe-06ed-4a89-a68a-0b2d62ea512b\",\"type\":\"Button\"},{\"id\":\"5ec5f32f-c0e8-4564-994a-ff0a17835452\",\"type\":\"Slider\"},{\"id\":\"cbbf0bef-572c-4bee-8625-19a501782e24\",\"type\":\"RadioButtonGroup\"},{\"id\":\"f8013928-e5e3-42f3-959a-b61270483b0b\",\"type\":\"Select\"},{\"id\":\"a640008e-da4e-424b-906f-7ea6b771ec8e\",\"type\":\"Button\"}],\"width\":300},\"id\":\"11e80715-cc73-419f-a712-7622c16c02e9\",\"type\":\"WidgetBox\"}],\"root_ids\":[\"11e80715-cc73-419f-a712-7622c16c02e9\"]},\"title\":\"Bokeh Application\",\"version\":\"0.12.13\"}};\n",
       "  var render_items = [{\"docid\":\"efb7d46a-be6e-4339-bc04-a422987fb598\",\"elementid\":\"e0287c82-8e76-4bfb-b994-45b2f242767c\",\"modelid\":\"11e80715-cc73-419f-a712-7622c16c02e9\"}];\n",
       "  root.Bokeh.embed.embed_items_notebook(docs_json, render_items);\n",
       "\n",
       "  }\n",
       "  if (root.Bokeh !== undefined) {\n",
       "    embed_document(root);\n",
       "  } else {\n",
       "    var attempts = 0;\n",
       "    var timer = setInterval(function(root) {\n",
       "      if (root.Bokeh !== undefined) {\n",
       "        embed_document(root);\n",
       "        clearInterval(timer);\n",
       "      }\n",
       "      attempts++;\n",
       "      if (attempts > 100) {\n",
       "        console.log(\"Bokeh: ERROR: Unable to run BokehJS code because BokehJS library is missing\")\n",
       "        clearInterval(timer);\n",
       "      }\n",
       "    }, 10, root)\n",
       "  }\n",
       "})(window);"
      ],
      "application/vnd.bokehjs_exec.v0+json": ""
     },
     "metadata": {
      "application/vnd.bokehjs_exec.v0+json": {
       "id": "11e80715-cc73-419f-a712-7622c16c02e9"
      }
     },
     "output_type": "display_data"
    }
   ],
   "source": [
    "from bokeh.layouts import widgetbox\n",
    "from bokeh.models.widgets import Button, RadioButtonGroup, Select, Slider \n",
    "\n",
    "# create some widgets\n",
    "slider = Slider(start=0, end=10, value=1, step=.1, title=\"Slider\")\n",
    "button_group = RadioButtonGroup(labels=[\"Option 1\", \"Option 2\", \"Option 3\"], active=0)\n",
    "select = Select(title=\"Option:\", value=\"foo\", options=[\"foo\", \"bar\", \"baz\", \"quux\"])\n",
    "button_1 = Button(label=\"Button 1\")\n",
    "button_2 = Button(label=\"Button 2\")\n",
    "\n",
    "# put the results in a row\n",
    "show(widgetbox(button_1, slider, button_group, select, button_2,\n",
    "               width=300)\n",
    "    ) "
   ]
  },
  {
   "cell_type": "markdown",
   "metadata": {},
   "source": [
    "### Grids Layout for Plots"
   ]
  },
  {
   "cell_type": "code",
   "execution_count": 6,
   "metadata": {},
   "outputs": [
    {
     "data": {
      "text/html": [
       "\n",
       "<div class=\"bk-root\">\n",
       "    <div class=\"bk-plotdiv\" id=\"2a120ec8-54a3-4b14-b53b-2d92322a3560\"></div>\n",
       "</div>"
      ]
     },
     "metadata": {},
     "output_type": "display_data"
    },
    {
     "data": {
      "application/javascript": [
       "(function(root) {\n",
       "  function embed_document(root) {\n",
       "    \n",
       "  var docs_json = {\"1fe75b86-f368-45f0-9b0f-e2592fdb878d\":{\"roots\":{\"references\":[{\"attributes\":{\"source\":{\"id\":\"bd882131-e2a4-47f2-9aa2-106170c26090\",\"type\":\"ColumnDataSource\"}},\"id\":\"cdd01ef2-fc3c-4b70-a206-68da2590d26a\",\"type\":\"CDSView\"},{\"attributes\":{},\"id\":\"665e28d6-1350-48e7-ba6b-341994379557\",\"type\":\"BasicTickFormatter\"},{\"attributes\":{\"fill_color\":{\"value\":\"#208F8C\"},\"line_color\":{\"value\":\"#208F8C\"},\"size\":{\"units\":\"screen\",\"value\":10},\"x\":{\"field\":\"x\"},\"y\":{\"field\":\"y\"}},\"id\":\"0e9d0943-39c2-4955-8803-909b3b50123d\",\"type\":\"Triangle\"},{\"attributes\":{\"bottom_units\":\"screen\",\"fill_alpha\":{\"value\":0.5},\"fill_color\":{\"value\":\"lightgrey\"},\"left_units\":\"screen\",\"level\":\"overlay\",\"line_alpha\":{\"value\":1.0},\"line_color\":{\"value\":\"black\"},\"line_dash\":[4,4],\"line_width\":{\"value\":2},\"plot\":null,\"render_mode\":\"css\",\"right_units\":\"screen\",\"top_units\":\"screen\"},\"id\":\"9b04f3fd-7b83-4457-ae51-2b85083d212c\",\"type\":\"BoxAnnotation\"},{\"attributes\":{},\"id\":\"3c23d8d1-36a6-43ab-89fb-f358ea8d692b\",\"type\":\"BasicTicker\"},{\"attributes\":{},\"id\":\"7131b287-8a9f-4f1e-b790-c7572a81bc71\",\"type\":\"PanTool\"},{\"attributes\":{\"callback\":null},\"id\":\"003b3a82-f539-4002-a10d-b1df98f2eddd\",\"type\":\"DataRange1d\"},{\"attributes\":{},\"id\":\"4299e515-f742-4a5e-b01d-874438ab0676\",\"type\":\"WheelZoomTool\"},{\"attributes\":{\"below\":[{\"id\":\"645600b8-40a6-4f69-a89e-26fa3d17a32f\",\"type\":\"LinearAxis\"}],\"left\":[{\"id\":\"ab9632c4-5987-47c7-8ec3-7f4c07d9e09a\",\"type\":\"LinearAxis\"}],\"plot_height\":250,\"plot_width\":250,\"renderers\":[{\"id\":\"645600b8-40a6-4f69-a89e-26fa3d17a32f\",\"type\":\"LinearAxis\"},{\"id\":\"8a69ef50-570e-40d2-a297-b036cefa4c6c\",\"type\":\"Grid\"},{\"id\":\"ab9632c4-5987-47c7-8ec3-7f4c07d9e09a\",\"type\":\"LinearAxis\"},{\"id\":\"91d70864-2de3-479a-b38c-e62f061f5fec\",\"type\":\"Grid\"},{\"id\":\"bbd0ad58-dfb5-44eb-b75c-fe7862f1b5bd\",\"type\":\"BoxAnnotation\"},{\"id\":\"578c2c87-561a-4c64-9f18-c01c8cd10fd4\",\"type\":\"GlyphRenderer\"}],\"title\":null,\"toolbar\":{\"id\":\"231cbd0d-799b-4f36-b428-cb73ff03486a\",\"type\":\"Toolbar\"},\"toolbar_location\":null,\"x_range\":{\"id\":\"003b3a82-f539-4002-a10d-b1df98f2eddd\",\"type\":\"DataRange1d\"},\"x_scale\":{\"id\":\"0b7d9742-0ddf-4f2b-a290-a324c843581b\",\"type\":\"LinearScale\"},\"y_range\":{\"id\":\"65110c4a-3076-4188-99a2-d6078a2f3ed7\",\"type\":\"DataRange1d\"},\"y_scale\":{\"id\":\"32a69379-4130-4f09-9273-acc14b8a71ff\",\"type\":\"LinearScale\"}},\"id\":\"e4ec7f77-ac43-45ee-95b5-73ca1cd8f844\",\"subtype\":\"Figure\",\"type\":\"Plot\"},{\"attributes\":{\"overlay\":{\"id\":\"9b04f3fd-7b83-4457-ae51-2b85083d212c\",\"type\":\"BoxAnnotation\"}},\"id\":\"df2e88d5-bdc0-4cf9-b080-f1269f14177a\",\"type\":\"BoxZoomTool\"},{\"attributes\":{\"formatter\":{\"id\":\"665e28d6-1350-48e7-ba6b-341994379557\",\"type\":\"BasicTickFormatter\"},\"plot\":{\"id\":\"9f0fcb53-d8f1-4bb1-bb6d-1417751029ad\",\"subtype\":\"Figure\",\"type\":\"Plot\"},\"ticker\":{\"id\":\"3c23d8d1-36a6-43ab-89fb-f358ea8d692b\",\"type\":\"BasicTicker\"}},\"id\":\"a21fc9b0-791e-496e-b757-570bd2518df0\",\"type\":\"LinearAxis\"},{\"attributes\":{},\"id\":\"57d5bf22-8a68-4d53-bdc1-85449ab034e8\",\"type\":\"SaveTool\"},{\"attributes\":{},\"id\":\"cbe66db9-ff83-4cf9-aaa8-c05453f8d164\",\"type\":\"ResetTool\"},{\"attributes\":{},\"id\":\"7e5c1e35-b855-414a-9fd4-75dcee973d7d\",\"type\":\"BasicTicker\"},{\"attributes\":{},\"id\":\"10b4a083-5ec4-48f0-aee0-14e76c380bf7\",\"type\":\"HelpTool\"},{\"attributes\":{},\"id\":\"32a69379-4130-4f09-9273-acc14b8a71ff\",\"type\":\"LinearScale\"},{\"attributes\":{\"height\":250,\"width\":250},\"id\":\"cbcaf44f-412b-46a7-9b5e-5cadddadc74b\",\"type\":\"Spacer\"},{\"attributes\":{\"callback\":null,\"column_names\":[\"x\",\"y\"],\"data\":{\"x\":[0,1,2,3,4,5,6,7,8,9,10],\"y\":[5,4,3,2,1,0,1,2,3,4,5]}},\"id\":\"bd882131-e2a4-47f2-9aa2-106170c26090\",\"type\":\"ColumnDataSource\"},{\"attributes\":{\"callback\":null},\"id\":\"65110c4a-3076-4188-99a2-d6078a2f3ed7\",\"type\":\"DataRange1d\"},{\"attributes\":{\"formatter\":{\"id\":\"2d606554-8d40-4e08-abd0-f6a7280d7ecb\",\"type\":\"BasicTickFormatter\"},\"plot\":{\"id\":\"e4ec7f77-ac43-45ee-95b5-73ca1cd8f844\",\"subtype\":\"Figure\",\"type\":\"Plot\"},\"ticker\":{\"id\":\"5ad6da77-b20b-4ac6-97c0-c1689143bc26\",\"type\":\"BasicTicker\"}},\"id\":\"645600b8-40a6-4f69-a89e-26fa3d17a32f\",\"type\":\"LinearAxis\"},{\"attributes\":{\"fill_alpha\":{\"value\":0.1},\"fill_color\":{\"value\":\"#1f77b4\"},\"line_alpha\":{\"value\":0.1},\"line_color\":{\"value\":\"#1f77b4\"},\"size\":{\"units\":\"screen\",\"value\":10},\"x\":{\"field\":\"x\"},\"y\":{\"field\":\"y\"}},\"id\":\"808974be-e231-4db4-b06f-595bfbe2000f\",\"type\":\"Square\"},{\"attributes\":{\"active_drag\":\"auto\",\"active_inspect\":\"auto\",\"active_scroll\":\"auto\",\"active_tap\":\"auto\",\"tools\":[{\"id\":\"461dd5a7-88b1-46a2-9354-640b03c1326f\",\"type\":\"PanTool\"},{\"id\":\"410b4abe-6564-4d24-8eb6-4ec1d28bdace\",\"type\":\"WheelZoomTool\"},{\"id\":\"6041b7d0-000d-487b-8721-4f9ebb33954b\",\"type\":\"BoxZoomTool\"},{\"id\":\"05442ee8-cc5f-4ddd-bbe9-e48c825ddc4f\",\"type\":\"SaveTool\"},{\"id\":\"035c00ac-61ab-4a22-bd5c-2429043f33a0\",\"type\":\"ResetTool\"},{\"id\":\"37a517b8-31f4-4980-9b30-6eb7bec4c002\",\"type\":\"HelpTool\"}]},\"id\":\"231cbd0d-799b-4f36-b428-cb73ff03486a\",\"type\":\"Toolbar\"},{\"attributes\":{\"plot\":{\"id\":\"e4ec7f77-ac43-45ee-95b5-73ca1cd8f844\",\"subtype\":\"Figure\",\"type\":\"Plot\"},\"ticker\":{\"id\":\"5ad6da77-b20b-4ac6-97c0-c1689143bc26\",\"type\":\"BasicTicker\"}},\"id\":\"8a69ef50-570e-40d2-a297-b036cefa4c6c\",\"type\":\"Grid\"},{\"attributes\":{},\"id\":\"0b7d9742-0ddf-4f2b-a290-a324c843581b\",\"type\":\"LinearScale\"},{\"attributes\":{},\"id\":\"5ad6da77-b20b-4ac6-97c0-c1689143bc26\",\"type\":\"BasicTicker\"},{\"attributes\":{},\"id\":\"baaf7477-968f-4c38-b158-e38bb7bd8c98\",\"type\":\"LinearScale\"},{\"attributes\":{\"formatter\":{\"id\":\"1e1a5a0c-48c0-4009-b277-519fc9faec69\",\"type\":\"BasicTickFormatter\"},\"plot\":{\"id\":\"e4ec7f77-ac43-45ee-95b5-73ca1cd8f844\",\"subtype\":\"Figure\",\"type\":\"Plot\"},\"ticker\":{\"id\":\"fd8c7022-5c0d-40b9-b41b-953047144e7c\",\"type\":\"BasicTicker\"}},\"id\":\"ab9632c4-5987-47c7-8ec3-7f4c07d9e09a\",\"type\":\"LinearAxis\"},{\"attributes\":{\"callback\":null},\"id\":\"17800762-e441-4754-9988-a8d5b53bb3b7\",\"type\":\"DataRange1d\"},{\"attributes\":{},\"id\":\"fd8c7022-5c0d-40b9-b41b-953047144e7c\",\"type\":\"BasicTicker\"},{\"attributes\":{\"dimension\":1,\"plot\":{\"id\":\"e4ec7f77-ac43-45ee-95b5-73ca1cd8f844\",\"subtype\":\"Figure\",\"type\":\"Plot\"},\"ticker\":{\"id\":\"fd8c7022-5c0d-40b9-b41b-953047144e7c\",\"type\":\"BasicTicker\"}},\"id\":\"91d70864-2de3-479a-b38c-e62f061f5fec\",\"type\":\"Grid\"},{\"attributes\":{\"data_source\":{\"id\":\"bd882131-e2a4-47f2-9aa2-106170c26090\",\"type\":\"ColumnDataSource\"},\"glyph\":{\"id\":\"73e7983c-37a6-40f3-b3e3-92b4c3d0dfe9\",\"type\":\"Square\"},\"hover_glyph\":null,\"muted_glyph\":null,\"nonselection_glyph\":{\"id\":\"808974be-e231-4db4-b06f-595bfbe2000f\",\"type\":\"Square\"},\"selection_glyph\":null,\"view\":{\"id\":\"cdd01ef2-fc3c-4b70-a206-68da2590d26a\",\"type\":\"CDSView\"}},\"id\":\"578c2c87-561a-4c64-9f18-c01c8cd10fd4\",\"type\":\"GlyphRenderer\"},{\"attributes\":{\"callback\":null,\"column_names\":[\"x\",\"y\"],\"data\":{\"x\":[0,1,2,3,4,5,6,7,8,9,10],\"y\":[10,9,8,7,6,5,4,3,2,1,0]}},\"id\":\"9da52f95-eb1c-4d5e-bb36-e481fb728392\",\"type\":\"ColumnDataSource\"},{\"attributes\":{\"fill_color\":{\"value\":\"#FDE724\"},\"line_color\":{\"value\":\"#FDE724\"},\"size\":{\"units\":\"screen\",\"value\":10},\"x\":{\"field\":\"x\"},\"y\":{\"field\":\"y\"}},\"id\":\"73e7983c-37a6-40f3-b3e3-92b4c3d0dfe9\",\"type\":\"Square\"},{\"attributes\":{\"children\":[{\"id\":\"cbca7f51-5e58-4865-9aa8-3b27d173581c\",\"type\":\"Row\"},{\"id\":\"aaef5694-45f8-4267-a223-c85caf26035f\",\"type\":\"Row\"}]},\"id\":\"76f7da10-97fd-4b3a-8b1e-39b5d99047a1\",\"type\":\"Column\"},{\"attributes\":{\"bottom_units\":\"screen\",\"fill_alpha\":{\"value\":0.5},\"fill_color\":{\"value\":\"lightgrey\"},\"left_units\":\"screen\",\"level\":\"overlay\",\"line_alpha\":{\"value\":1.0},\"line_color\":{\"value\":\"black\"},\"line_dash\":[4,4],\"line_width\":{\"value\":2},\"plot\":null,\"render_mode\":\"css\",\"right_units\":\"screen\",\"top_units\":\"screen\"},\"id\":\"bbd0ad58-dfb5-44eb-b75c-fe7862f1b5bd\",\"type\":\"BoxAnnotation\"},{\"attributes\":{},\"id\":\"461dd5a7-88b1-46a2-9354-640b03c1326f\",\"type\":\"PanTool\"},{\"attributes\":{},\"id\":\"1e1a5a0c-48c0-4009-b277-519fc9faec69\",\"type\":\"BasicTickFormatter\"},{\"attributes\":{},\"id\":\"410b4abe-6564-4d24-8eb6-4ec1d28bdace\",\"type\":\"WheelZoomTool\"},{\"attributes\":{\"overlay\":{\"id\":\"bbd0ad58-dfb5-44eb-b75c-fe7862f1b5bd\",\"type\":\"BoxAnnotation\"}},\"id\":\"6041b7d0-000d-487b-8721-4f9ebb33954b\",\"type\":\"BoxZoomTool\"},{\"attributes\":{},\"id\":\"05442ee8-cc5f-4ddd-bbe9-e48c825ddc4f\",\"type\":\"SaveTool\"},{\"attributes\":{},\"id\":\"035c00ac-61ab-4a22-bd5c-2429043f33a0\",\"type\":\"ResetTool\"},{\"attributes\":{},\"id\":\"37a517b8-31f4-4980-9b30-6eb7bec4c002\",\"type\":\"HelpTool\"},{\"attributes\":{\"fill_alpha\":{\"value\":0.1},\"fill_color\":{\"value\":\"#1f77b4\"},\"line_alpha\":{\"value\":0.1},\"line_color\":{\"value\":\"#1f77b4\"},\"size\":{\"units\":\"screen\",\"value\":10},\"x\":{\"field\":\"x\"},\"y\":{\"field\":\"y\"}},\"id\":\"3d55923a-5022-418a-bf8d-777ceb6c99ea\",\"type\":\"Triangle\"},{\"attributes\":{},\"id\":\"2d606554-8d40-4e08-abd0-f6a7280d7ecb\",\"type\":\"BasicTickFormatter\"},{\"attributes\":{\"fill_color\":{\"value\":\"#440154\"},\"line_color\":{\"value\":\"#440154\"},\"size\":{\"units\":\"screen\",\"value\":10},\"x\":{\"field\":\"x\"},\"y\":{\"field\":\"y\"}},\"id\":\"b5620e24-8db7-4270-aa21-91be4c8e6e59\",\"type\":\"Circle\"},{\"attributes\":{\"toolbar\":{\"id\":\"ef8b783d-35a3-4324-b49e-1f1443a84d54\",\"type\":\"ProxyToolbar\"},\"toolbar_location\":\"above\"},\"id\":\"eb09b2c7-a420-44db-8f00-b4266ffea7f3\",\"type\":\"ToolbarBox\"},{\"attributes\":{\"children\":[{\"id\":\"328c973d-3d8a-41c6-a6a6-9087d2a6a0d2\",\"subtype\":\"Figure\",\"type\":\"Plot\"},{\"id\":\"9f0fcb53-d8f1-4bb1-bb6d-1417751029ad\",\"subtype\":\"Figure\",\"type\":\"Plot\"}]},\"id\":\"cbca7f51-5e58-4865-9aa8-3b27d173581c\",\"type\":\"Row\"},{\"attributes\":{\"callback\":null},\"id\":\"e78f293d-bd27-4e3f-8ab8-30910d6e0ac5\",\"type\":\"DataRange1d\"},{\"attributes\":{\"active_drag\":\"auto\",\"active_inspect\":\"auto\",\"active_scroll\":\"auto\",\"active_tap\":\"auto\",\"tools\":[{\"id\":\"97f20650-93f9-4ea0-bc59-349a6a4c3e54\",\"type\":\"PanTool\"},{\"id\":\"d63ade9d-0838-4f41-9153-3b23573e2bd5\",\"type\":\"WheelZoomTool\"},{\"id\":\"e65b2779-fcf9-481f-b5cb-64ccf146ff9f\",\"type\":\"BoxZoomTool\"},{\"id\":\"30837101-eb1a-472a-8fba-6ce25e055bc0\",\"type\":\"SaveTool\"},{\"id\":\"1ee0c37b-51ba-431e-8d5e-65abd6ce70c2\",\"type\":\"ResetTool\"},{\"id\":\"cae1a330-cdb7-4bb6-bb2c-29c263dd6575\",\"type\":\"HelpTool\"}]},\"id\":\"8aebf847-5f83-49db-bee4-b5f1897f6b59\",\"type\":\"Toolbar\"},{\"attributes\":{\"children\":[{\"id\":\"eb09b2c7-a420-44db-8f00-b4266ffea7f3\",\"type\":\"ToolbarBox\"},{\"id\":\"76f7da10-97fd-4b3a-8b1e-39b5d99047a1\",\"type\":\"Column\"}]},\"id\":\"d07118ea-d23b-415f-b3d4-e84763ae793d\",\"type\":\"Column\"},{\"attributes\":{\"source\":{\"id\":\"4d4628cf-4429-4297-9821-1927ac39bef9\",\"type\":\"ColumnDataSource\"}},\"id\":\"51fa5e9d-8dc6-42cc-b4d4-3ce3e11c947a\",\"type\":\"CDSView\"},{\"attributes\":{\"callback\":null},\"id\":\"2397bf66-f033-4b5c-941f-989c5d7e94c8\",\"type\":\"DataRange1d\"},{\"attributes\":{\"children\":[{\"id\":\"cbcaf44f-412b-46a7-9b5e-5cadddadc74b\",\"type\":\"Spacer\"},{\"id\":\"e4ec7f77-ac43-45ee-95b5-73ca1cd8f844\",\"subtype\":\"Figure\",\"type\":\"Plot\"}]},\"id\":\"aaef5694-45f8-4267-a223-c85caf26035f\",\"type\":\"Row\"},{\"attributes\":{\"below\":[{\"id\":\"0735cd3c-7530-403b-ae3a-5dba33db24d1\",\"type\":\"LinearAxis\"}],\"left\":[{\"id\":\"f6ca4724-6282-4617-b15a-1392c9bdd9d8\",\"type\":\"LinearAxis\"}],\"plot_height\":250,\"plot_width\":250,\"renderers\":[{\"id\":\"0735cd3c-7530-403b-ae3a-5dba33db24d1\",\"type\":\"LinearAxis\"},{\"id\":\"32b53c54-c1db-4d23-9c93-936e6d817cb3\",\"type\":\"Grid\"},{\"id\":\"f6ca4724-6282-4617-b15a-1392c9bdd9d8\",\"type\":\"LinearAxis\"},{\"id\":\"a601e01d-d279-45e2-b54a-5f04295f8211\",\"type\":\"Grid\"},{\"id\":\"8ce48d05-18b7-49d7-9996-f22bb47a041b\",\"type\":\"BoxAnnotation\"},{\"id\":\"6efca0ce-ab1c-4846-8e10-a2a012a2144d\",\"type\":\"GlyphRenderer\"}],\"title\":null,\"toolbar\":{\"id\":\"8aebf847-5f83-49db-bee4-b5f1897f6b59\",\"type\":\"Toolbar\"},\"toolbar_location\":null,\"x_range\":{\"id\":\"e78f293d-bd27-4e3f-8ab8-30910d6e0ac5\",\"type\":\"DataRange1d\"},\"x_scale\":{\"id\":\"bd702a3a-4b36-4da9-9aee-5b8a6e3c238f\",\"type\":\"LinearScale\"},\"y_range\":{\"id\":\"2397bf66-f033-4b5c-941f-989c5d7e94c8\",\"type\":\"DataRange1d\"},\"y_scale\":{\"id\":\"f9952f7b-0b08-4580-8e16-a25575ebc053\",\"type\":\"LinearScale\"}},\"id\":\"328c973d-3d8a-41c6-a6a6-9087d2a6a0d2\",\"subtype\":\"Figure\",\"type\":\"Plot\"},{\"attributes\":{\"tools\":[{\"id\":\"97f20650-93f9-4ea0-bc59-349a6a4c3e54\",\"type\":\"PanTool\"},{\"id\":\"d63ade9d-0838-4f41-9153-3b23573e2bd5\",\"type\":\"WheelZoomTool\"},{\"id\":\"e65b2779-fcf9-481f-b5cb-64ccf146ff9f\",\"type\":\"BoxZoomTool\"},{\"id\":\"30837101-eb1a-472a-8fba-6ce25e055bc0\",\"type\":\"SaveTool\"},{\"id\":\"1ee0c37b-51ba-431e-8d5e-65abd6ce70c2\",\"type\":\"ResetTool\"},{\"id\":\"cae1a330-cdb7-4bb6-bb2c-29c263dd6575\",\"type\":\"HelpTool\"},{\"id\":\"7131b287-8a9f-4f1e-b790-c7572a81bc71\",\"type\":\"PanTool\"},{\"id\":\"4299e515-f742-4a5e-b01d-874438ab0676\",\"type\":\"WheelZoomTool\"},{\"id\":\"df2e88d5-bdc0-4cf9-b080-f1269f14177a\",\"type\":\"BoxZoomTool\"},{\"id\":\"57d5bf22-8a68-4d53-bdc1-85449ab034e8\",\"type\":\"SaveTool\"},{\"id\":\"cbe66db9-ff83-4cf9-aaa8-c05453f8d164\",\"type\":\"ResetTool\"},{\"id\":\"10b4a083-5ec4-48f0-aee0-14e76c380bf7\",\"type\":\"HelpTool\"},{\"id\":\"461dd5a7-88b1-46a2-9354-640b03c1326f\",\"type\":\"PanTool\"},{\"id\":\"410b4abe-6564-4d24-8eb6-4ec1d28bdace\",\"type\":\"WheelZoomTool\"},{\"id\":\"6041b7d0-000d-487b-8721-4f9ebb33954b\",\"type\":\"BoxZoomTool\"},{\"id\":\"05442ee8-cc5f-4ddd-bbe9-e48c825ddc4f\",\"type\":\"SaveTool\"},{\"id\":\"035c00ac-61ab-4a22-bd5c-2429043f33a0\",\"type\":\"ResetTool\"},{\"id\":\"37a517b8-31f4-4980-9b30-6eb7bec4c002\",\"type\":\"HelpTool\"}]},\"id\":\"ef8b783d-35a3-4324-b49e-1f1443a84d54\",\"type\":\"ProxyToolbar\"},{\"attributes\":{},\"id\":\"bd702a3a-4b36-4da9-9aee-5b8a6e3c238f\",\"type\":\"LinearScale\"},{\"attributes\":{\"callback\":null,\"column_names\":[\"x\",\"y\"],\"data\":{\"x\":[0,1,2,3,4,5,6,7,8,9,10],\"y\":[0,1,2,3,4,5,6,7,8,9,10]}},\"id\":\"4d4628cf-4429-4297-9821-1927ac39bef9\",\"type\":\"ColumnDataSource\"},{\"attributes\":{\"fill_alpha\":{\"value\":0.1},\"fill_color\":{\"value\":\"#1f77b4\"},\"line_alpha\":{\"value\":0.1},\"line_color\":{\"value\":\"#1f77b4\"},\"size\":{\"units\":\"screen\",\"value\":10},\"x\":{\"field\":\"x\"},\"y\":{\"field\":\"y\"}},\"id\":\"bd041ab4-e91f-4eeb-8d8c-ab59b73d4411\",\"type\":\"Circle\"},{\"attributes\":{},\"id\":\"53eb0b59-ba92-4279-8cb7-53e7586ee8a9\",\"type\":\"BasicTicker\"},{\"attributes\":{},\"id\":\"f9952f7b-0b08-4580-8e16-a25575ebc053\",\"type\":\"LinearScale\"},{\"attributes\":{\"plot\":{\"id\":\"328c973d-3d8a-41c6-a6a6-9087d2a6a0d2\",\"subtype\":\"Figure\",\"type\":\"Plot\"},\"ticker\":{\"id\":\"53eb0b59-ba92-4279-8cb7-53e7586ee8a9\",\"type\":\"BasicTicker\"}},\"id\":\"32b53c54-c1db-4d23-9c93-936e6d817cb3\",\"type\":\"Grid\"},{\"attributes\":{\"data_source\":{\"id\":\"9da52f95-eb1c-4d5e-bb36-e481fb728392\",\"type\":\"ColumnDataSource\"},\"glyph\":{\"id\":\"0e9d0943-39c2-4955-8803-909b3b50123d\",\"type\":\"Triangle\"},\"hover_glyph\":null,\"muted_glyph\":null,\"nonselection_glyph\":{\"id\":\"3d55923a-5022-418a-bf8d-777ceb6c99ea\",\"type\":\"Triangle\"},\"selection_glyph\":null,\"view\":{\"id\":\"178874a8-681f-4823-a9c4-feee7cc59ac1\",\"type\":\"CDSView\"}},\"id\":\"1a854e76-9696-41dc-92a4-a883704109fa\",\"type\":\"GlyphRenderer\"},{\"attributes\":{\"dimension\":1,\"plot\":{\"id\":\"328c973d-3d8a-41c6-a6a6-9087d2a6a0d2\",\"subtype\":\"Figure\",\"type\":\"Plot\"},\"ticker\":{\"id\":\"1ae8aacd-b51c-44de-87f2-4a464d16dd0e\",\"type\":\"BasicTicker\"}},\"id\":\"a601e01d-d279-45e2-b54a-5f04295f8211\",\"type\":\"Grid\"},{\"attributes\":{\"formatter\":{\"id\":\"344f3a55-d888-4d1c-8cb0-b68db77378e2\",\"type\":\"BasicTickFormatter\"},\"plot\":{\"id\":\"328c973d-3d8a-41c6-a6a6-9087d2a6a0d2\",\"subtype\":\"Figure\",\"type\":\"Plot\"},\"ticker\":{\"id\":\"1ae8aacd-b51c-44de-87f2-4a464d16dd0e\",\"type\":\"BasicTicker\"}},\"id\":\"f6ca4724-6282-4617-b15a-1392c9bdd9d8\",\"type\":\"LinearAxis\"},{\"attributes\":{\"formatter\":{\"id\":\"1b90a919-8556-4dc9-a965-9493a008c0b8\",\"type\":\"BasicTickFormatter\"},\"plot\":{\"id\":\"328c973d-3d8a-41c6-a6a6-9087d2a6a0d2\",\"subtype\":\"Figure\",\"type\":\"Plot\"},\"ticker\":{\"id\":\"53eb0b59-ba92-4279-8cb7-53e7586ee8a9\",\"type\":\"BasicTicker\"}},\"id\":\"0735cd3c-7530-403b-ae3a-5dba33db24d1\",\"type\":\"LinearAxis\"},{\"attributes\":{},\"id\":\"1ae8aacd-b51c-44de-87f2-4a464d16dd0e\",\"type\":\"BasicTicker\"},{\"attributes\":{\"data_source\":{\"id\":\"4d4628cf-4429-4297-9821-1927ac39bef9\",\"type\":\"ColumnDataSource\"},\"glyph\":{\"id\":\"b5620e24-8db7-4270-aa21-91be4c8e6e59\",\"type\":\"Circle\"},\"hover_glyph\":null,\"muted_glyph\":null,\"nonselection_glyph\":{\"id\":\"bd041ab4-e91f-4eeb-8d8c-ab59b73d4411\",\"type\":\"Circle\"},\"selection_glyph\":null,\"view\":{\"id\":\"51fa5e9d-8dc6-42cc-b4d4-3ce3e11c947a\",\"type\":\"CDSView\"}},\"id\":\"6efca0ce-ab1c-4846-8e10-a2a012a2144d\",\"type\":\"GlyphRenderer\"},{\"attributes\":{},\"id\":\"30837101-eb1a-472a-8fba-6ce25e055bc0\",\"type\":\"SaveTool\"},{\"attributes\":{},\"id\":\"d63ade9d-0838-4f41-9153-3b23573e2bd5\",\"type\":\"WheelZoomTool\"},{\"attributes\":{},\"id\":\"1b90a919-8556-4dc9-a965-9493a008c0b8\",\"type\":\"BasicTickFormatter\"},{\"attributes\":{\"overlay\":{\"id\":\"8ce48d05-18b7-49d7-9996-f22bb47a041b\",\"type\":\"BoxAnnotation\"}},\"id\":\"e65b2779-fcf9-481f-b5cb-64ccf146ff9f\",\"type\":\"BoxZoomTool\"},{\"attributes\":{\"plot\":{\"id\":\"9f0fcb53-d8f1-4bb1-bb6d-1417751029ad\",\"subtype\":\"Figure\",\"type\":\"Plot\"},\"ticker\":{\"id\":\"7e5c1e35-b855-414a-9fd4-75dcee973d7d\",\"type\":\"BasicTicker\"}},\"id\":\"f57825fc-87d6-499c-ac7f-ffadc1cb89c2\",\"type\":\"Grid\"},{\"attributes\":{},\"id\":\"344f3a55-d888-4d1c-8cb0-b68db77378e2\",\"type\":\"BasicTickFormatter\"},{\"attributes\":{},\"id\":\"97f20650-93f9-4ea0-bc59-349a6a4c3e54\",\"type\":\"PanTool\"},{\"attributes\":{\"dimension\":1,\"plot\":{\"id\":\"9f0fcb53-d8f1-4bb1-bb6d-1417751029ad\",\"subtype\":\"Figure\",\"type\":\"Plot\"},\"ticker\":{\"id\":\"3c23d8d1-36a6-43ab-89fb-f358ea8d692b\",\"type\":\"BasicTicker\"}},\"id\":\"dfadd280-5436-41a6-a891-46b736aa2549\",\"type\":\"Grid\"},{\"attributes\":{\"bottom_units\":\"screen\",\"fill_alpha\":{\"value\":0.5},\"fill_color\":{\"value\":\"lightgrey\"},\"left_units\":\"screen\",\"level\":\"overlay\",\"line_alpha\":{\"value\":1.0},\"line_color\":{\"value\":\"black\"},\"line_dash\":[4,4],\"line_width\":{\"value\":2},\"plot\":null,\"render_mode\":\"css\",\"right_units\":\"screen\",\"top_units\":\"screen\"},\"id\":\"8ce48d05-18b7-49d7-9996-f22bb47a041b\",\"type\":\"BoxAnnotation\"},{\"attributes\":{\"below\":[{\"id\":\"e3f6af22-9183-47ce-b2c3-8649d5c10fc8\",\"type\":\"LinearAxis\"}],\"left\":[{\"id\":\"a21fc9b0-791e-496e-b757-570bd2518df0\",\"type\":\"LinearAxis\"}],\"plot_height\":250,\"plot_width\":250,\"renderers\":[{\"id\":\"e3f6af22-9183-47ce-b2c3-8649d5c10fc8\",\"type\":\"LinearAxis\"},{\"id\":\"f57825fc-87d6-499c-ac7f-ffadc1cb89c2\",\"type\":\"Grid\"},{\"id\":\"a21fc9b0-791e-496e-b757-570bd2518df0\",\"type\":\"LinearAxis\"},{\"id\":\"dfadd280-5436-41a6-a891-46b736aa2549\",\"type\":\"Grid\"},{\"id\":\"9b04f3fd-7b83-4457-ae51-2b85083d212c\",\"type\":\"BoxAnnotation\"},{\"id\":\"1a854e76-9696-41dc-92a4-a883704109fa\",\"type\":\"GlyphRenderer\"}],\"title\":null,\"toolbar\":{\"id\":\"b8da193f-1754-42fe-864a-24e3797b94cc\",\"type\":\"Toolbar\"},\"toolbar_location\":null,\"x_range\":{\"id\":\"aedeaa52-c9e3-42b2-b2c6-e1d0e154890d\",\"type\":\"DataRange1d\"},\"x_scale\":{\"id\":\"baaf7477-968f-4c38-b158-e38bb7bd8c98\",\"type\":\"LinearScale\"},\"y_range\":{\"id\":\"17800762-e441-4754-9988-a8d5b53bb3b7\",\"type\":\"DataRange1d\"},\"y_scale\":{\"id\":\"b35afcc2-c9b0-4766-ba8d-6ac36eede1b4\",\"type\":\"LinearScale\"}},\"id\":\"9f0fcb53-d8f1-4bb1-bb6d-1417751029ad\",\"subtype\":\"Figure\",\"type\":\"Plot\"},{\"attributes\":{},\"id\":\"1ee0c37b-51ba-431e-8d5e-65abd6ce70c2\",\"type\":\"ResetTool\"},{\"attributes\":{\"active_drag\":\"auto\",\"active_inspect\":\"auto\",\"active_scroll\":\"auto\",\"active_tap\":\"auto\",\"tools\":[{\"id\":\"7131b287-8a9f-4f1e-b790-c7572a81bc71\",\"type\":\"PanTool\"},{\"id\":\"4299e515-f742-4a5e-b01d-874438ab0676\",\"type\":\"WheelZoomTool\"},{\"id\":\"df2e88d5-bdc0-4cf9-b080-f1269f14177a\",\"type\":\"BoxZoomTool\"},{\"id\":\"57d5bf22-8a68-4d53-bdc1-85449ab034e8\",\"type\":\"SaveTool\"},{\"id\":\"cbe66db9-ff83-4cf9-aaa8-c05453f8d164\",\"type\":\"ResetTool\"},{\"id\":\"10b4a083-5ec4-48f0-aee0-14e76c380bf7\",\"type\":\"HelpTool\"}]},\"id\":\"b8da193f-1754-42fe-864a-24e3797b94cc\",\"type\":\"Toolbar\"},{\"attributes\":{},\"id\":\"b35afcc2-c9b0-4766-ba8d-6ac36eede1b4\",\"type\":\"LinearScale\"},{\"attributes\":{\"callback\":null},\"id\":\"aedeaa52-c9e3-42b2-b2c6-e1d0e154890d\",\"type\":\"DataRange1d\"},{\"attributes\":{\"source\":{\"id\":\"9da52f95-eb1c-4d5e-bb36-e481fb728392\",\"type\":\"ColumnDataSource\"}},\"id\":\"178874a8-681f-4823-a9c4-feee7cc59ac1\",\"type\":\"CDSView\"},{\"attributes\":{},\"id\":\"cae1a330-cdb7-4bb6-bb2c-29c263dd6575\",\"type\":\"HelpTool\"},{\"attributes\":{},\"id\":\"1c3423dc-7dda-4617-a442-8b7ac4f4fd0f\",\"type\":\"BasicTickFormatter\"},{\"attributes\":{\"formatter\":{\"id\":\"1c3423dc-7dda-4617-a442-8b7ac4f4fd0f\",\"type\":\"BasicTickFormatter\"},\"plot\":{\"id\":\"9f0fcb53-d8f1-4bb1-bb6d-1417751029ad\",\"subtype\":\"Figure\",\"type\":\"Plot\"},\"ticker\":{\"id\":\"7e5c1e35-b855-414a-9fd4-75dcee973d7d\",\"type\":\"BasicTicker\"}},\"id\":\"e3f6af22-9183-47ce-b2c3-8649d5c10fc8\",\"type\":\"LinearAxis\"}],\"root_ids\":[\"d07118ea-d23b-415f-b3d4-e84763ae793d\"]},\"title\":\"Bokeh Application\",\"version\":\"0.12.13\"}};\n",
       "  var render_items = [{\"docid\":\"1fe75b86-f368-45f0-9b0f-e2592fdb878d\",\"elementid\":\"2a120ec8-54a3-4b14-b53b-2d92322a3560\",\"modelid\":\"d07118ea-d23b-415f-b3d4-e84763ae793d\"}];\n",
       "  root.Bokeh.embed.embed_items_notebook(docs_json, render_items);\n",
       "\n",
       "  }\n",
       "  if (root.Bokeh !== undefined) {\n",
       "    embed_document(root);\n",
       "  } else {\n",
       "    var attempts = 0;\n",
       "    var timer = setInterval(function(root) {\n",
       "      if (root.Bokeh !== undefined) {\n",
       "        embed_document(root);\n",
       "        clearInterval(timer);\n",
       "      }\n",
       "      attempts++;\n",
       "      if (attempts > 100) {\n",
       "        console.log(\"Bokeh: ERROR: Unable to run BokehJS code because BokehJS library is missing\")\n",
       "        clearInterval(timer);\n",
       "      }\n",
       "    }, 10, root)\n",
       "  }\n",
       "})(window);"
      ],
      "application/vnd.bokehjs_exec.v0+json": ""
     },
     "metadata": {
      "application/vnd.bokehjs_exec.v0+json": {
       "id": "d07118ea-d23b-415f-b3d4-e84763ae793d"
      }
     },
     "output_type": "display_data"
    }
   ],
   "source": [
    "from bokeh.layouts import gridplot\n",
    "from bokeh.palettes import Viridis3 \n",
    "\n",
    "x = list(range(11))\n",
    "y0 = x\n",
    "y1 = [10 - i for i in x]\n",
    "y2 = [abs(i - 5) for i in x]\n",
    "\n",
    "# create three plots\n",
    "p1 = figure(plot_width=250, plot_height=250, title=None)\n",
    "p1.circle(x, y0, size=10, color=Viridis3[0])\n",
    "p2 = figure(plot_width=250, plot_height=250, title=None)\n",
    "p2.triangle(x, y1, size=10, color=Viridis3[1])\n",
    "p3 = figure(plot_width=250, plot_height=250, title=None)\n",
    "p3.square(x, y2, size=10, color=Viridis3[2])\n",
    "\n",
    "# make a grid\n",
    "grid = gridplot([[p1, p2], [None, p3]])\n",
    "\n",
    "# show the results\n",
    "show(grid)"
   ]
  },
  {
   "cell_type": "code",
   "execution_count": 7,
   "metadata": {},
   "outputs": [
    {
     "data": {
      "text/html": [
       "\n",
       "<div class=\"bk-root\">\n",
       "    <div class=\"bk-plotdiv\" id=\"00df8838-6be1-40f7-a7bb-ff19273a15f3\"></div>\n",
       "</div>"
      ]
     },
     "metadata": {},
     "output_type": "display_data"
    },
    {
     "data": {
      "application/javascript": [
       "(function(root) {\n",
       "  function embed_document(root) {\n",
       "    \n",
       "  var docs_json = {\"873ae667-0c99-4043-af09-0645b965f332\":{\"roots\":{\"references\":[{\"attributes\":{\"source\":{\"id\":\"bd882131-e2a4-47f2-9aa2-106170c26090\",\"type\":\"ColumnDataSource\"}},\"id\":\"cdd01ef2-fc3c-4b70-a206-68da2590d26a\",\"type\":\"CDSView\"},{\"attributes\":{},\"id\":\"665e28d6-1350-48e7-ba6b-341994379557\",\"type\":\"BasicTickFormatter\"},{\"attributes\":{\"fill_color\":{\"value\":\"#208F8C\"},\"line_color\":{\"value\":\"#208F8C\"},\"size\":{\"units\":\"screen\",\"value\":10},\"x\":{\"field\":\"x\"},\"y\":{\"field\":\"y\"}},\"id\":\"0e9d0943-39c2-4955-8803-909b3b50123d\",\"type\":\"Triangle\"},{\"attributes\":{\"bottom_units\":\"screen\",\"fill_alpha\":{\"value\":0.5},\"fill_color\":{\"value\":\"lightgrey\"},\"left_units\":\"screen\",\"level\":\"overlay\",\"line_alpha\":{\"value\":1.0},\"line_color\":{\"value\":\"black\"},\"line_dash\":[4,4],\"line_width\":{\"value\":2},\"plot\":null,\"render_mode\":\"css\",\"right_units\":\"screen\",\"top_units\":\"screen\"},\"id\":\"9b04f3fd-7b83-4457-ae51-2b85083d212c\",\"type\":\"BoxAnnotation\"},{\"attributes\":{},\"id\":\"3c23d8d1-36a6-43ab-89fb-f358ea8d692b\",\"type\":\"BasicTicker\"},{\"attributes\":{},\"id\":\"7131b287-8a9f-4f1e-b790-c7572a81bc71\",\"type\":\"PanTool\"},{\"attributes\":{\"callback\":null},\"id\":\"003b3a82-f539-4002-a10d-b1df98f2eddd\",\"type\":\"DataRange1d\"},{\"attributes\":{},\"id\":\"4299e515-f742-4a5e-b01d-874438ab0676\",\"type\":\"WheelZoomTool\"},{\"attributes\":{\"below\":[{\"id\":\"645600b8-40a6-4f69-a89e-26fa3d17a32f\",\"type\":\"LinearAxis\"}],\"left\":[{\"id\":\"ab9632c4-5987-47c7-8ec3-7f4c07d9e09a\",\"type\":\"LinearAxis\"}],\"plot_height\":250,\"plot_width\":250,\"renderers\":[{\"id\":\"645600b8-40a6-4f69-a89e-26fa3d17a32f\",\"type\":\"LinearAxis\"},{\"id\":\"8a69ef50-570e-40d2-a297-b036cefa4c6c\",\"type\":\"Grid\"},{\"id\":\"ab9632c4-5987-47c7-8ec3-7f4c07d9e09a\",\"type\":\"LinearAxis\"},{\"id\":\"91d70864-2de3-479a-b38c-e62f061f5fec\",\"type\":\"Grid\"},{\"id\":\"bbd0ad58-dfb5-44eb-b75c-fe7862f1b5bd\",\"type\":\"BoxAnnotation\"},{\"id\":\"578c2c87-561a-4c64-9f18-c01c8cd10fd4\",\"type\":\"GlyphRenderer\"}],\"title\":null,\"toolbar\":{\"id\":\"231cbd0d-799b-4f36-b428-cb73ff03486a\",\"type\":\"Toolbar\"},\"toolbar_location\":null,\"x_range\":{\"id\":\"003b3a82-f539-4002-a10d-b1df98f2eddd\",\"type\":\"DataRange1d\"},\"x_scale\":{\"id\":\"0b7d9742-0ddf-4f2b-a290-a324c843581b\",\"type\":\"LinearScale\"},\"y_range\":{\"id\":\"65110c4a-3076-4188-99a2-d6078a2f3ed7\",\"type\":\"DataRange1d\"},\"y_scale\":{\"id\":\"32a69379-4130-4f09-9273-acc14b8a71ff\",\"type\":\"LinearScale\"}},\"id\":\"e4ec7f77-ac43-45ee-95b5-73ca1cd8f844\",\"subtype\":\"Figure\",\"type\":\"Plot\"},{\"attributes\":{\"overlay\":{\"id\":\"9b04f3fd-7b83-4457-ae51-2b85083d212c\",\"type\":\"BoxAnnotation\"}},\"id\":\"df2e88d5-bdc0-4cf9-b080-f1269f14177a\",\"type\":\"BoxZoomTool\"},{\"attributes\":{\"formatter\":{\"id\":\"665e28d6-1350-48e7-ba6b-341994379557\",\"type\":\"BasicTickFormatter\"},\"plot\":{\"id\":\"9f0fcb53-d8f1-4bb1-bb6d-1417751029ad\",\"subtype\":\"Figure\",\"type\":\"Plot\"},\"ticker\":{\"id\":\"3c23d8d1-36a6-43ab-89fb-f358ea8d692b\",\"type\":\"BasicTicker\"}},\"id\":\"a21fc9b0-791e-496e-b757-570bd2518df0\",\"type\":\"LinearAxis\"},{\"attributes\":{},\"id\":\"57d5bf22-8a68-4d53-bdc1-85449ab034e8\",\"type\":\"SaveTool\"},{\"attributes\":{},\"id\":\"cbe66db9-ff83-4cf9-aaa8-c05453f8d164\",\"type\":\"ResetTool\"},{\"attributes\":{},\"id\":\"7e5c1e35-b855-414a-9fd4-75dcee973d7d\",\"type\":\"BasicTicker\"},{\"attributes\":{},\"id\":\"10b4a083-5ec4-48f0-aee0-14e76c380bf7\",\"type\":\"HelpTool\"},{\"attributes\":{},\"id\":\"32a69379-4130-4f09-9273-acc14b8a71ff\",\"type\":\"LinearScale\"},{\"attributes\":{\"height\":250,\"width\":250},\"id\":\"cbcaf44f-412b-46a7-9b5e-5cadddadc74b\",\"type\":\"Spacer\"},{\"attributes\":{\"callback\":null,\"column_names\":[\"x\",\"y\"],\"data\":{\"x\":[0,1,2,3,4,5,6,7,8,9,10],\"y\":[5,4,3,2,1,0,1,2,3,4,5]}},\"id\":\"bd882131-e2a4-47f2-9aa2-106170c26090\",\"type\":\"ColumnDataSource\"},{\"attributes\":{\"callback\":null},\"id\":\"65110c4a-3076-4188-99a2-d6078a2f3ed7\",\"type\":\"DataRange1d\"},{\"attributes\":{\"formatter\":{\"id\":\"2d606554-8d40-4e08-abd0-f6a7280d7ecb\",\"type\":\"BasicTickFormatter\"},\"plot\":{\"id\":\"e4ec7f77-ac43-45ee-95b5-73ca1cd8f844\",\"subtype\":\"Figure\",\"type\":\"Plot\"},\"ticker\":{\"id\":\"5ad6da77-b20b-4ac6-97c0-c1689143bc26\",\"type\":\"BasicTicker\"}},\"id\":\"645600b8-40a6-4f69-a89e-26fa3d17a32f\",\"type\":\"LinearAxis\"},{\"attributes\":{\"fill_alpha\":{\"value\":0.1},\"fill_color\":{\"value\":\"#1f77b4\"},\"line_alpha\":{\"value\":0.1},\"line_color\":{\"value\":\"#1f77b4\"},\"size\":{\"units\":\"screen\",\"value\":10},\"x\":{\"field\":\"x\"},\"y\":{\"field\":\"y\"}},\"id\":\"808974be-e231-4db4-b06f-595bfbe2000f\",\"type\":\"Square\"},{\"attributes\":{\"active_drag\":\"auto\",\"active_inspect\":\"auto\",\"active_scroll\":\"auto\",\"active_tap\":\"auto\",\"tools\":[{\"id\":\"461dd5a7-88b1-46a2-9354-640b03c1326f\",\"type\":\"PanTool\"},{\"id\":\"410b4abe-6564-4d24-8eb6-4ec1d28bdace\",\"type\":\"WheelZoomTool\"},{\"id\":\"6041b7d0-000d-487b-8721-4f9ebb33954b\",\"type\":\"BoxZoomTool\"},{\"id\":\"05442ee8-cc5f-4ddd-bbe9-e48c825ddc4f\",\"type\":\"SaveTool\"},{\"id\":\"035c00ac-61ab-4a22-bd5c-2429043f33a0\",\"type\":\"ResetTool\"},{\"id\":\"37a517b8-31f4-4980-9b30-6eb7bec4c002\",\"type\":\"HelpTool\"}]},\"id\":\"231cbd0d-799b-4f36-b428-cb73ff03486a\",\"type\":\"Toolbar\"},{\"attributes\":{\"plot\":{\"id\":\"e4ec7f77-ac43-45ee-95b5-73ca1cd8f844\",\"subtype\":\"Figure\",\"type\":\"Plot\"},\"ticker\":{\"id\":\"5ad6da77-b20b-4ac6-97c0-c1689143bc26\",\"type\":\"BasicTicker\"}},\"id\":\"8a69ef50-570e-40d2-a297-b036cefa4c6c\",\"type\":\"Grid\"},{\"attributes\":{},\"id\":\"0b7d9742-0ddf-4f2b-a290-a324c843581b\",\"type\":\"LinearScale\"},{\"attributes\":{},\"id\":\"5ad6da77-b20b-4ac6-97c0-c1689143bc26\",\"type\":\"BasicTicker\"},{\"attributes\":{},\"id\":\"baaf7477-968f-4c38-b158-e38bb7bd8c98\",\"type\":\"LinearScale\"},{\"attributes\":{\"formatter\":{\"id\":\"1e1a5a0c-48c0-4009-b277-519fc9faec69\",\"type\":\"BasicTickFormatter\"},\"plot\":{\"id\":\"e4ec7f77-ac43-45ee-95b5-73ca1cd8f844\",\"subtype\":\"Figure\",\"type\":\"Plot\"},\"ticker\":{\"id\":\"fd8c7022-5c0d-40b9-b41b-953047144e7c\",\"type\":\"BasicTicker\"}},\"id\":\"ab9632c4-5987-47c7-8ec3-7f4c07d9e09a\",\"type\":\"LinearAxis\"},{\"attributes\":{\"callback\":null},\"id\":\"17800762-e441-4754-9988-a8d5b53bb3b7\",\"type\":\"DataRange1d\"},{\"attributes\":{},\"id\":\"fd8c7022-5c0d-40b9-b41b-953047144e7c\",\"type\":\"BasicTicker\"},{\"attributes\":{\"dimension\":1,\"plot\":{\"id\":\"e4ec7f77-ac43-45ee-95b5-73ca1cd8f844\",\"subtype\":\"Figure\",\"type\":\"Plot\"},\"ticker\":{\"id\":\"fd8c7022-5c0d-40b9-b41b-953047144e7c\",\"type\":\"BasicTicker\"}},\"id\":\"91d70864-2de3-479a-b38c-e62f061f5fec\",\"type\":\"Grid\"},{\"attributes\":{\"data_source\":{\"id\":\"bd882131-e2a4-47f2-9aa2-106170c26090\",\"type\":\"ColumnDataSource\"},\"glyph\":{\"id\":\"73e7983c-37a6-40f3-b3e3-92b4c3d0dfe9\",\"type\":\"Square\"},\"hover_glyph\":null,\"muted_glyph\":null,\"nonselection_glyph\":{\"id\":\"808974be-e231-4db4-b06f-595bfbe2000f\",\"type\":\"Square\"},\"selection_glyph\":null,\"view\":{\"id\":\"cdd01ef2-fc3c-4b70-a206-68da2590d26a\",\"type\":\"CDSView\"}},\"id\":\"578c2c87-561a-4c64-9f18-c01c8cd10fd4\",\"type\":\"GlyphRenderer\"},{\"attributes\":{\"callback\":null,\"column_names\":[\"x\",\"y\"],\"data\":{\"x\":[0,1,2,3,4,5,6,7,8,9,10],\"y\":[10,9,8,7,6,5,4,3,2,1,0]}},\"id\":\"9da52f95-eb1c-4d5e-bb36-e481fb728392\",\"type\":\"ColumnDataSource\"},{\"attributes\":{\"fill_color\":{\"value\":\"#FDE724\"},\"line_color\":{\"value\":\"#FDE724\"},\"size\":{\"units\":\"screen\",\"value\":10},\"x\":{\"field\":\"x\"},\"y\":{\"field\":\"y\"}},\"id\":\"73e7983c-37a6-40f3-b3e3-92b4c3d0dfe9\",\"type\":\"Square\"},{\"attributes\":{\"children\":[{\"id\":\"cbca7f51-5e58-4865-9aa8-3b27d173581c\",\"type\":\"Row\"},{\"id\":\"aaef5694-45f8-4267-a223-c85caf26035f\",\"type\":\"Row\"}]},\"id\":\"76f7da10-97fd-4b3a-8b1e-39b5d99047a1\",\"type\":\"Column\"},{\"attributes\":{\"bottom_units\":\"screen\",\"fill_alpha\":{\"value\":0.5},\"fill_color\":{\"value\":\"lightgrey\"},\"left_units\":\"screen\",\"level\":\"overlay\",\"line_alpha\":{\"value\":1.0},\"line_color\":{\"value\":\"black\"},\"line_dash\":[4,4],\"line_width\":{\"value\":2},\"plot\":null,\"render_mode\":\"css\",\"right_units\":\"screen\",\"top_units\":\"screen\"},\"id\":\"bbd0ad58-dfb5-44eb-b75c-fe7862f1b5bd\",\"type\":\"BoxAnnotation\"},{\"attributes\":{},\"id\":\"461dd5a7-88b1-46a2-9354-640b03c1326f\",\"type\":\"PanTool\"},{\"attributes\":{},\"id\":\"1e1a5a0c-48c0-4009-b277-519fc9faec69\",\"type\":\"BasicTickFormatter\"},{\"attributes\":{},\"id\":\"410b4abe-6564-4d24-8eb6-4ec1d28bdace\",\"type\":\"WheelZoomTool\"},{\"attributes\":{\"overlay\":{\"id\":\"bbd0ad58-dfb5-44eb-b75c-fe7862f1b5bd\",\"type\":\"BoxAnnotation\"}},\"id\":\"6041b7d0-000d-487b-8721-4f9ebb33954b\",\"type\":\"BoxZoomTool\"},{\"attributes\":{},\"id\":\"05442ee8-cc5f-4ddd-bbe9-e48c825ddc4f\",\"type\":\"SaveTool\"},{\"attributes\":{},\"id\":\"035c00ac-61ab-4a22-bd5c-2429043f33a0\",\"type\":\"ResetTool\"},{\"attributes\":{},\"id\":\"37a517b8-31f4-4980-9b30-6eb7bec4c002\",\"type\":\"HelpTool\"},{\"attributes\":{\"fill_alpha\":{\"value\":0.1},\"fill_color\":{\"value\":\"#1f77b4\"},\"line_alpha\":{\"value\":0.1},\"line_color\":{\"value\":\"#1f77b4\"},\"size\":{\"units\":\"screen\",\"value\":10},\"x\":{\"field\":\"x\"},\"y\":{\"field\":\"y\"}},\"id\":\"3d55923a-5022-418a-bf8d-777ceb6c99ea\",\"type\":\"Triangle\"},{\"attributes\":{},\"id\":\"2d606554-8d40-4e08-abd0-f6a7280d7ecb\",\"type\":\"BasicTickFormatter\"},{\"attributes\":{\"fill_color\":{\"value\":\"#440154\"},\"line_color\":{\"value\":\"#440154\"},\"size\":{\"units\":\"screen\",\"value\":10},\"x\":{\"field\":\"x\"},\"y\":{\"field\":\"y\"}},\"id\":\"b5620e24-8db7-4270-aa21-91be4c8e6e59\",\"type\":\"Circle\"},{\"attributes\":{\"toolbar\":{\"id\":\"ef8b783d-35a3-4324-b49e-1f1443a84d54\",\"type\":\"ProxyToolbar\"},\"toolbar_location\":\"above\"},\"id\":\"eb09b2c7-a420-44db-8f00-b4266ffea7f3\",\"type\":\"ToolbarBox\"},{\"attributes\":{\"children\":[{\"id\":\"328c973d-3d8a-41c6-a6a6-9087d2a6a0d2\",\"subtype\":\"Figure\",\"type\":\"Plot\"},{\"id\":\"9f0fcb53-d8f1-4bb1-bb6d-1417751029ad\",\"subtype\":\"Figure\",\"type\":\"Plot\"}]},\"id\":\"cbca7f51-5e58-4865-9aa8-3b27d173581c\",\"type\":\"Row\"},{\"attributes\":{\"callback\":null},\"id\":\"e78f293d-bd27-4e3f-8ab8-30910d6e0ac5\",\"type\":\"DataRange1d\"},{\"attributes\":{\"active_drag\":\"auto\",\"active_inspect\":\"auto\",\"active_scroll\":\"auto\",\"active_tap\":\"auto\",\"tools\":[{\"id\":\"97f20650-93f9-4ea0-bc59-349a6a4c3e54\",\"type\":\"PanTool\"},{\"id\":\"d63ade9d-0838-4f41-9153-3b23573e2bd5\",\"type\":\"WheelZoomTool\"},{\"id\":\"e65b2779-fcf9-481f-b5cb-64ccf146ff9f\",\"type\":\"BoxZoomTool\"},{\"id\":\"30837101-eb1a-472a-8fba-6ce25e055bc0\",\"type\":\"SaveTool\"},{\"id\":\"1ee0c37b-51ba-431e-8d5e-65abd6ce70c2\",\"type\":\"ResetTool\"},{\"id\":\"cae1a330-cdb7-4bb6-bb2c-29c263dd6575\",\"type\":\"HelpTool\"}]},\"id\":\"8aebf847-5f83-49db-bee4-b5f1897f6b59\",\"type\":\"Toolbar\"},{\"attributes\":{\"children\":[{\"id\":\"eb09b2c7-a420-44db-8f00-b4266ffea7f3\",\"type\":\"ToolbarBox\"},{\"id\":\"76f7da10-97fd-4b3a-8b1e-39b5d99047a1\",\"type\":\"Column\"}]},\"id\":\"d07118ea-d23b-415f-b3d4-e84763ae793d\",\"type\":\"Column\"},{\"attributes\":{\"source\":{\"id\":\"4d4628cf-4429-4297-9821-1927ac39bef9\",\"type\":\"ColumnDataSource\"}},\"id\":\"51fa5e9d-8dc6-42cc-b4d4-3ce3e11c947a\",\"type\":\"CDSView\"},{\"attributes\":{\"callback\":null},\"id\":\"2397bf66-f033-4b5c-941f-989c5d7e94c8\",\"type\":\"DataRange1d\"},{\"attributes\":{\"children\":[{\"id\":\"cbcaf44f-412b-46a7-9b5e-5cadddadc74b\",\"type\":\"Spacer\"},{\"id\":\"e4ec7f77-ac43-45ee-95b5-73ca1cd8f844\",\"subtype\":\"Figure\",\"type\":\"Plot\"}]},\"id\":\"aaef5694-45f8-4267-a223-c85caf26035f\",\"type\":\"Row\"},{\"attributes\":{\"below\":[{\"id\":\"0735cd3c-7530-403b-ae3a-5dba33db24d1\",\"type\":\"LinearAxis\"}],\"left\":[{\"id\":\"f6ca4724-6282-4617-b15a-1392c9bdd9d8\",\"type\":\"LinearAxis\"}],\"plot_height\":250,\"plot_width\":250,\"renderers\":[{\"id\":\"0735cd3c-7530-403b-ae3a-5dba33db24d1\",\"type\":\"LinearAxis\"},{\"id\":\"32b53c54-c1db-4d23-9c93-936e6d817cb3\",\"type\":\"Grid\"},{\"id\":\"f6ca4724-6282-4617-b15a-1392c9bdd9d8\",\"type\":\"LinearAxis\"},{\"id\":\"a601e01d-d279-45e2-b54a-5f04295f8211\",\"type\":\"Grid\"},{\"id\":\"8ce48d05-18b7-49d7-9996-f22bb47a041b\",\"type\":\"BoxAnnotation\"},{\"id\":\"6efca0ce-ab1c-4846-8e10-a2a012a2144d\",\"type\":\"GlyphRenderer\"}],\"title\":null,\"toolbar\":{\"id\":\"8aebf847-5f83-49db-bee4-b5f1897f6b59\",\"type\":\"Toolbar\"},\"toolbar_location\":null,\"x_range\":{\"id\":\"e78f293d-bd27-4e3f-8ab8-30910d6e0ac5\",\"type\":\"DataRange1d\"},\"x_scale\":{\"id\":\"bd702a3a-4b36-4da9-9aee-5b8a6e3c238f\",\"type\":\"LinearScale\"},\"y_range\":{\"id\":\"2397bf66-f033-4b5c-941f-989c5d7e94c8\",\"type\":\"DataRange1d\"},\"y_scale\":{\"id\":\"f9952f7b-0b08-4580-8e16-a25575ebc053\",\"type\":\"LinearScale\"}},\"id\":\"328c973d-3d8a-41c6-a6a6-9087d2a6a0d2\",\"subtype\":\"Figure\",\"type\":\"Plot\"},{\"attributes\":{\"tools\":[{\"id\":\"97f20650-93f9-4ea0-bc59-349a6a4c3e54\",\"type\":\"PanTool\"},{\"id\":\"d63ade9d-0838-4f41-9153-3b23573e2bd5\",\"type\":\"WheelZoomTool\"},{\"id\":\"e65b2779-fcf9-481f-b5cb-64ccf146ff9f\",\"type\":\"BoxZoomTool\"},{\"id\":\"30837101-eb1a-472a-8fba-6ce25e055bc0\",\"type\":\"SaveTool\"},{\"id\":\"1ee0c37b-51ba-431e-8d5e-65abd6ce70c2\",\"type\":\"ResetTool\"},{\"id\":\"cae1a330-cdb7-4bb6-bb2c-29c263dd6575\",\"type\":\"HelpTool\"},{\"id\":\"7131b287-8a9f-4f1e-b790-c7572a81bc71\",\"type\":\"PanTool\"},{\"id\":\"4299e515-f742-4a5e-b01d-874438ab0676\",\"type\":\"WheelZoomTool\"},{\"id\":\"df2e88d5-bdc0-4cf9-b080-f1269f14177a\",\"type\":\"BoxZoomTool\"},{\"id\":\"57d5bf22-8a68-4d53-bdc1-85449ab034e8\",\"type\":\"SaveTool\"},{\"id\":\"cbe66db9-ff83-4cf9-aaa8-c05453f8d164\",\"type\":\"ResetTool\"},{\"id\":\"10b4a083-5ec4-48f0-aee0-14e76c380bf7\",\"type\":\"HelpTool\"},{\"id\":\"461dd5a7-88b1-46a2-9354-640b03c1326f\",\"type\":\"PanTool\"},{\"id\":\"410b4abe-6564-4d24-8eb6-4ec1d28bdace\",\"type\":\"WheelZoomTool\"},{\"id\":\"6041b7d0-000d-487b-8721-4f9ebb33954b\",\"type\":\"BoxZoomTool\"},{\"id\":\"05442ee8-cc5f-4ddd-bbe9-e48c825ddc4f\",\"type\":\"SaveTool\"},{\"id\":\"035c00ac-61ab-4a22-bd5c-2429043f33a0\",\"type\":\"ResetTool\"},{\"id\":\"37a517b8-31f4-4980-9b30-6eb7bec4c002\",\"type\":\"HelpTool\"}]},\"id\":\"ef8b783d-35a3-4324-b49e-1f1443a84d54\",\"type\":\"ProxyToolbar\"},{\"attributes\":{},\"id\":\"bd702a3a-4b36-4da9-9aee-5b8a6e3c238f\",\"type\":\"LinearScale\"},{\"attributes\":{\"callback\":null,\"column_names\":[\"x\",\"y\"],\"data\":{\"x\":[0,1,2,3,4,5,6,7,8,9,10],\"y\":[0,1,2,3,4,5,6,7,8,9,10]}},\"id\":\"4d4628cf-4429-4297-9821-1927ac39bef9\",\"type\":\"ColumnDataSource\"},{\"attributes\":{\"fill_alpha\":{\"value\":0.1},\"fill_color\":{\"value\":\"#1f77b4\"},\"line_alpha\":{\"value\":0.1},\"line_color\":{\"value\":\"#1f77b4\"},\"size\":{\"units\":\"screen\",\"value\":10},\"x\":{\"field\":\"x\"},\"y\":{\"field\":\"y\"}},\"id\":\"bd041ab4-e91f-4eeb-8d8c-ab59b73d4411\",\"type\":\"Circle\"},{\"attributes\":{},\"id\":\"53eb0b59-ba92-4279-8cb7-53e7586ee8a9\",\"type\":\"BasicTicker\"},{\"attributes\":{},\"id\":\"f9952f7b-0b08-4580-8e16-a25575ebc053\",\"type\":\"LinearScale\"},{\"attributes\":{\"plot\":{\"id\":\"328c973d-3d8a-41c6-a6a6-9087d2a6a0d2\",\"subtype\":\"Figure\",\"type\":\"Plot\"},\"ticker\":{\"id\":\"53eb0b59-ba92-4279-8cb7-53e7586ee8a9\",\"type\":\"BasicTicker\"}},\"id\":\"32b53c54-c1db-4d23-9c93-936e6d817cb3\",\"type\":\"Grid\"},{\"attributes\":{\"data_source\":{\"id\":\"9da52f95-eb1c-4d5e-bb36-e481fb728392\",\"type\":\"ColumnDataSource\"},\"glyph\":{\"id\":\"0e9d0943-39c2-4955-8803-909b3b50123d\",\"type\":\"Triangle\"},\"hover_glyph\":null,\"muted_glyph\":null,\"nonselection_glyph\":{\"id\":\"3d55923a-5022-418a-bf8d-777ceb6c99ea\",\"type\":\"Triangle\"},\"selection_glyph\":null,\"view\":{\"id\":\"178874a8-681f-4823-a9c4-feee7cc59ac1\",\"type\":\"CDSView\"}},\"id\":\"1a854e76-9696-41dc-92a4-a883704109fa\",\"type\":\"GlyphRenderer\"},{\"attributes\":{\"dimension\":1,\"plot\":{\"id\":\"328c973d-3d8a-41c6-a6a6-9087d2a6a0d2\",\"subtype\":\"Figure\",\"type\":\"Plot\"},\"ticker\":{\"id\":\"1ae8aacd-b51c-44de-87f2-4a464d16dd0e\",\"type\":\"BasicTicker\"}},\"id\":\"a601e01d-d279-45e2-b54a-5f04295f8211\",\"type\":\"Grid\"},{\"attributes\":{\"formatter\":{\"id\":\"344f3a55-d888-4d1c-8cb0-b68db77378e2\",\"type\":\"BasicTickFormatter\"},\"plot\":{\"id\":\"328c973d-3d8a-41c6-a6a6-9087d2a6a0d2\",\"subtype\":\"Figure\",\"type\":\"Plot\"},\"ticker\":{\"id\":\"1ae8aacd-b51c-44de-87f2-4a464d16dd0e\",\"type\":\"BasicTicker\"}},\"id\":\"f6ca4724-6282-4617-b15a-1392c9bdd9d8\",\"type\":\"LinearAxis\"},{\"attributes\":{\"formatter\":{\"id\":\"1b90a919-8556-4dc9-a965-9493a008c0b8\",\"type\":\"BasicTickFormatter\"},\"plot\":{\"id\":\"328c973d-3d8a-41c6-a6a6-9087d2a6a0d2\",\"subtype\":\"Figure\",\"type\":\"Plot\"},\"ticker\":{\"id\":\"53eb0b59-ba92-4279-8cb7-53e7586ee8a9\",\"type\":\"BasicTicker\"}},\"id\":\"0735cd3c-7530-403b-ae3a-5dba33db24d1\",\"type\":\"LinearAxis\"},{\"attributes\":{},\"id\":\"1ae8aacd-b51c-44de-87f2-4a464d16dd0e\",\"type\":\"BasicTicker\"},{\"attributes\":{\"data_source\":{\"id\":\"4d4628cf-4429-4297-9821-1927ac39bef9\",\"type\":\"ColumnDataSource\"},\"glyph\":{\"id\":\"b5620e24-8db7-4270-aa21-91be4c8e6e59\",\"type\":\"Circle\"},\"hover_glyph\":null,\"muted_glyph\":null,\"nonselection_glyph\":{\"id\":\"bd041ab4-e91f-4eeb-8d8c-ab59b73d4411\",\"type\":\"Circle\"},\"selection_glyph\":null,\"view\":{\"id\":\"51fa5e9d-8dc6-42cc-b4d4-3ce3e11c947a\",\"type\":\"CDSView\"}},\"id\":\"6efca0ce-ab1c-4846-8e10-a2a012a2144d\",\"type\":\"GlyphRenderer\"},{\"attributes\":{},\"id\":\"30837101-eb1a-472a-8fba-6ce25e055bc0\",\"type\":\"SaveTool\"},{\"attributes\":{},\"id\":\"d63ade9d-0838-4f41-9153-3b23573e2bd5\",\"type\":\"WheelZoomTool\"},{\"attributes\":{},\"id\":\"1b90a919-8556-4dc9-a965-9493a008c0b8\",\"type\":\"BasicTickFormatter\"},{\"attributes\":{\"overlay\":{\"id\":\"8ce48d05-18b7-49d7-9996-f22bb47a041b\",\"type\":\"BoxAnnotation\"}},\"id\":\"e65b2779-fcf9-481f-b5cb-64ccf146ff9f\",\"type\":\"BoxZoomTool\"},{\"attributes\":{\"plot\":{\"id\":\"9f0fcb53-d8f1-4bb1-bb6d-1417751029ad\",\"subtype\":\"Figure\",\"type\":\"Plot\"},\"ticker\":{\"id\":\"7e5c1e35-b855-414a-9fd4-75dcee973d7d\",\"type\":\"BasicTicker\"}},\"id\":\"f57825fc-87d6-499c-ac7f-ffadc1cb89c2\",\"type\":\"Grid\"},{\"attributes\":{},\"id\":\"344f3a55-d888-4d1c-8cb0-b68db77378e2\",\"type\":\"BasicTickFormatter\"},{\"attributes\":{},\"id\":\"97f20650-93f9-4ea0-bc59-349a6a4c3e54\",\"type\":\"PanTool\"},{\"attributes\":{\"dimension\":1,\"plot\":{\"id\":\"9f0fcb53-d8f1-4bb1-bb6d-1417751029ad\",\"subtype\":\"Figure\",\"type\":\"Plot\"},\"ticker\":{\"id\":\"3c23d8d1-36a6-43ab-89fb-f358ea8d692b\",\"type\":\"BasicTicker\"}},\"id\":\"dfadd280-5436-41a6-a891-46b736aa2549\",\"type\":\"Grid\"},{\"attributes\":{\"bottom_units\":\"screen\",\"fill_alpha\":{\"value\":0.5},\"fill_color\":{\"value\":\"lightgrey\"},\"left_units\":\"screen\",\"level\":\"overlay\",\"line_alpha\":{\"value\":1.0},\"line_color\":{\"value\":\"black\"},\"line_dash\":[4,4],\"line_width\":{\"value\":2},\"plot\":null,\"render_mode\":\"css\",\"right_units\":\"screen\",\"top_units\":\"screen\"},\"id\":\"8ce48d05-18b7-49d7-9996-f22bb47a041b\",\"type\":\"BoxAnnotation\"},{\"attributes\":{\"below\":[{\"id\":\"e3f6af22-9183-47ce-b2c3-8649d5c10fc8\",\"type\":\"LinearAxis\"}],\"left\":[{\"id\":\"a21fc9b0-791e-496e-b757-570bd2518df0\",\"type\":\"LinearAxis\"}],\"plot_height\":250,\"plot_width\":250,\"renderers\":[{\"id\":\"e3f6af22-9183-47ce-b2c3-8649d5c10fc8\",\"type\":\"LinearAxis\"},{\"id\":\"f57825fc-87d6-499c-ac7f-ffadc1cb89c2\",\"type\":\"Grid\"},{\"id\":\"a21fc9b0-791e-496e-b757-570bd2518df0\",\"type\":\"LinearAxis\"},{\"id\":\"dfadd280-5436-41a6-a891-46b736aa2549\",\"type\":\"Grid\"},{\"id\":\"9b04f3fd-7b83-4457-ae51-2b85083d212c\",\"type\":\"BoxAnnotation\"},{\"id\":\"1a854e76-9696-41dc-92a4-a883704109fa\",\"type\":\"GlyphRenderer\"}],\"title\":null,\"toolbar\":{\"id\":\"b8da193f-1754-42fe-864a-24e3797b94cc\",\"type\":\"Toolbar\"},\"toolbar_location\":null,\"x_range\":{\"id\":\"aedeaa52-c9e3-42b2-b2c6-e1d0e154890d\",\"type\":\"DataRange1d\"},\"x_scale\":{\"id\":\"baaf7477-968f-4c38-b158-e38bb7bd8c98\",\"type\":\"LinearScale\"},\"y_range\":{\"id\":\"17800762-e441-4754-9988-a8d5b53bb3b7\",\"type\":\"DataRange1d\"},\"y_scale\":{\"id\":\"b35afcc2-c9b0-4766-ba8d-6ac36eede1b4\",\"type\":\"LinearScale\"}},\"id\":\"9f0fcb53-d8f1-4bb1-bb6d-1417751029ad\",\"subtype\":\"Figure\",\"type\":\"Plot\"},{\"attributes\":{},\"id\":\"1ee0c37b-51ba-431e-8d5e-65abd6ce70c2\",\"type\":\"ResetTool\"},{\"attributes\":{\"active_drag\":\"auto\",\"active_inspect\":\"auto\",\"active_scroll\":\"auto\",\"active_tap\":\"auto\",\"tools\":[{\"id\":\"7131b287-8a9f-4f1e-b790-c7572a81bc71\",\"type\":\"PanTool\"},{\"id\":\"4299e515-f742-4a5e-b01d-874438ab0676\",\"type\":\"WheelZoomTool\"},{\"id\":\"df2e88d5-bdc0-4cf9-b080-f1269f14177a\",\"type\":\"BoxZoomTool\"},{\"id\":\"57d5bf22-8a68-4d53-bdc1-85449ab034e8\",\"type\":\"SaveTool\"},{\"id\":\"cbe66db9-ff83-4cf9-aaa8-c05453f8d164\",\"type\":\"ResetTool\"},{\"id\":\"10b4a083-5ec4-48f0-aee0-14e76c380bf7\",\"type\":\"HelpTool\"}]},\"id\":\"b8da193f-1754-42fe-864a-24e3797b94cc\",\"type\":\"Toolbar\"},{\"attributes\":{},\"id\":\"b35afcc2-c9b0-4766-ba8d-6ac36eede1b4\",\"type\":\"LinearScale\"},{\"attributes\":{\"callback\":null},\"id\":\"aedeaa52-c9e3-42b2-b2c6-e1d0e154890d\",\"type\":\"DataRange1d\"},{\"attributes\":{\"source\":{\"id\":\"9da52f95-eb1c-4d5e-bb36-e481fb728392\",\"type\":\"ColumnDataSource\"}},\"id\":\"178874a8-681f-4823-a9c4-feee7cc59ac1\",\"type\":\"CDSView\"},{\"attributes\":{},\"id\":\"cae1a330-cdb7-4bb6-bb2c-29c263dd6575\",\"type\":\"HelpTool\"},{\"attributes\":{},\"id\":\"1c3423dc-7dda-4617-a442-8b7ac4f4fd0f\",\"type\":\"BasicTickFormatter\"},{\"attributes\":{\"formatter\":{\"id\":\"1c3423dc-7dda-4617-a442-8b7ac4f4fd0f\",\"type\":\"BasicTickFormatter\"},\"plot\":{\"id\":\"9f0fcb53-d8f1-4bb1-bb6d-1417751029ad\",\"subtype\":\"Figure\",\"type\":\"Plot\"},\"ticker\":{\"id\":\"7e5c1e35-b855-414a-9fd4-75dcee973d7d\",\"type\":\"BasicTicker\"}},\"id\":\"e3f6af22-9183-47ce-b2c3-8649d5c10fc8\",\"type\":\"LinearAxis\"}],\"root_ids\":[\"d07118ea-d23b-415f-b3d4-e84763ae793d\"]},\"title\":\"Bokeh Application\",\"version\":\"0.12.13\"}};\n",
       "  var render_items = [{\"docid\":\"873ae667-0c99-4043-af09-0645b965f332\",\"elementid\":\"00df8838-6be1-40f7-a7bb-ff19273a15f3\",\"modelid\":\"d07118ea-d23b-415f-b3d4-e84763ae793d\"}];\n",
       "  root.Bokeh.embed.embed_items_notebook(docs_json, render_items);\n",
       "\n",
       "  }\n",
       "  if (root.Bokeh !== undefined) {\n",
       "    embed_document(root);\n",
       "  } else {\n",
       "    var attempts = 0;\n",
       "    var timer = setInterval(function(root) {\n",
       "      if (root.Bokeh !== undefined) {\n",
       "        embed_document(root);\n",
       "        clearInterval(timer);\n",
       "      }\n",
       "      attempts++;\n",
       "      if (attempts > 100) {\n",
       "        console.log(\"Bokeh: ERROR: Unable to run BokehJS code because BokehJS library is missing\")\n",
       "        clearInterval(timer);\n",
       "      }\n",
       "    }, 10, root)\n",
       "  }\n",
       "})(window);"
      ],
      "application/vnd.bokehjs_exec.v0+json": ""
     },
     "metadata": {
      "application/vnd.bokehjs_exec.v0+json": {
       "id": "d07118ea-d23b-415f-b3d4-e84763ae793d"
      }
     },
     "output_type": "display_data"
    }
   ],
   "source": [
    "from bokeh.layouts import gridplot\n",
    "from bokeh.palettes import Viridis3 \n",
    "\n",
    "x = list(range(11))\n",
    "y0 = x\n",
    "y1 = [10 - i for i in x]\n",
    "y2 = [abs(i - 5) for i in x]\n",
    "\n",
    "# create three plots\n",
    "p1 = figure(plot_width=250, plot_height=250, title=None)\n",
    "p1.circle(x, y0, size=10, color=Viridis3[0])\n",
    "p2 = figure(plot_width=250, plot_height=250, title=None)\n",
    "p2.triangle(x, y1, size=10, color=Viridis3[1])\n",
    "p3 = figure(plot_width=250, plot_height=250, title=None)\n",
    "p3.square(x, y2, size=10, color=Viridis3[2])\n",
    "\n",
    "# make a grid\n",
    "gridplot([s1, s2, s3], ncols=2)  # ncols=2\n",
    "\n",
    "# show the results\n",
    "show(grid)"
   ]
  },
  {
   "cell_type": "code",
   "execution_count": 8,
   "metadata": {},
   "outputs": [
    {
     "data": {
      "text/html": [
       "\n",
       "<div class=\"bk-root\">\n",
       "    <div class=\"bk-plotdiv\" id=\"f01491a8-5ea1-4bf9-862a-8f5f0e281f45\"></div>\n",
       "</div>"
      ]
     },
     "metadata": {},
     "output_type": "display_data"
    },
    {
     "data": {
      "application/javascript": [
       "(function(root) {\n",
       "  function embed_document(root) {\n",
       "    \n",
       "  var docs_json = {\"13df2c47-2fdb-4997-9687-a70b23a9e8ff\":{\"roots\":{\"references\":[{\"attributes\":{\"formatter\":{\"id\":\"cae6e110-05aa-41da-8a5c-ee94b8434414\",\"type\":\"BasicTickFormatter\"},\"plot\":{\"id\":\"67925edc-0f22-4cab-9ccc-07fe4b48fd0e\",\"subtype\":\"Figure\",\"type\":\"Plot\"},\"ticker\":{\"id\":\"ce862f8a-6b2c-43b6-b6ee-a68a2137ef33\",\"type\":\"BasicTicker\"}},\"id\":\"f9beac0b-dddd-4b60-89c7-534a505322d5\",\"type\":\"LinearAxis\"},{\"attributes\":{\"fill_alpha\":{\"value\":0.1},\"fill_color\":{\"value\":\"#1f77b4\"},\"line_alpha\":{\"value\":0.1},\"line_color\":{\"value\":\"#1f77b4\"},\"size\":{\"units\":\"screen\",\"value\":10},\"x\":{\"field\":\"x\"},\"y\":{\"field\":\"y\"}},\"id\":\"87a220da-c653-403b-b836-bf496df27552\",\"type\":\"Triangle\"},{\"attributes\":{},\"id\":\"ce862f8a-6b2c-43b6-b6ee-a68a2137ef33\",\"type\":\"BasicTicker\"},{\"attributes\":{\"plot\":{\"id\":\"67925edc-0f22-4cab-9ccc-07fe4b48fd0e\",\"subtype\":\"Figure\",\"type\":\"Plot\"},\"ticker\":{\"id\":\"ce862f8a-6b2c-43b6-b6ee-a68a2137ef33\",\"type\":\"BasicTicker\"}},\"id\":\"19a556fd-a18f-4d45-bf57-6e47771cd36d\",\"type\":\"Grid\"},{\"attributes\":{\"formatter\":{\"id\":\"f3ec338a-b2f3-4363-9290-5524c1c77ce6\",\"type\":\"BasicTickFormatter\"},\"plot\":{\"id\":\"67925edc-0f22-4cab-9ccc-07fe4b48fd0e\",\"subtype\":\"Figure\",\"type\":\"Plot\"},\"ticker\":{\"id\":\"b4f2b6af-5172-4c9c-9286-8a7561d16415\",\"type\":\"BasicTicker\"}},\"id\":\"bb7481b1-7046-4278-ba00-3fbd4a3ed8a5\",\"type\":\"LinearAxis\"},{\"attributes\":{},\"id\":\"b4f2b6af-5172-4c9c-9286-8a7561d16415\",\"type\":\"BasicTicker\"},{\"attributes\":{\"dimension\":1,\"plot\":{\"id\":\"67925edc-0f22-4cab-9ccc-07fe4b48fd0e\",\"subtype\":\"Figure\",\"type\":\"Plot\"},\"ticker\":{\"id\":\"b4f2b6af-5172-4c9c-9286-8a7561d16415\",\"type\":\"BasicTicker\"}},\"id\":\"177d7c67-7734-4a2a-b7d0-774ffc2355ad\",\"type\":\"Grid\"},{\"attributes\":{\"data_source\":{\"id\":\"33a0f6a0-8870-4228-83ee-00cc66379c28\",\"type\":\"ColumnDataSource\"},\"glyph\":{\"id\":\"09e9816a-9491-47dc-823b-f1cc7ee76c8d\",\"type\":\"Triangle\"},\"hover_glyph\":null,\"muted_glyph\":null,\"nonselection_glyph\":{\"id\":\"87a220da-c653-403b-b836-bf496df27552\",\"type\":\"Triangle\"},\"selection_glyph\":null,\"view\":{\"id\":\"d1b5b7f3-38c2-4258-bce9-062bc91fe774\",\"type\":\"CDSView\"}},\"id\":\"c0c9ce11-cd27-4495-bf78-781b9c849860\",\"type\":\"GlyphRenderer\"},{\"attributes\":{\"fill_color\":{\"value\":\"#208F8C\"},\"line_color\":{\"value\":\"#208F8C\"},\"size\":{\"units\":\"screen\",\"value\":10},\"x\":{\"field\":\"x\"},\"y\":{\"field\":\"y\"}},\"id\":\"09e9816a-9491-47dc-823b-f1cc7ee76c8d\",\"type\":\"Triangle\"},{\"attributes\":{\"children\":[{\"id\":\"732c5535-847b-4b41-a02d-f1bd9d8f04d4\",\"type\":\"Row\"},{\"id\":\"0f8c753d-f29f-418c-a93c-d379c04b59d3\",\"type\":\"Row\"}]},\"id\":\"d59ce0d7-a5ad-4ec5-ae60-30685f18d28a\",\"type\":\"Column\"},{\"attributes\":{},\"id\":\"f3ec338a-b2f3-4363-9290-5524c1c77ce6\",\"type\":\"BasicTickFormatter\"},{\"attributes\":{\"bottom_units\":\"screen\",\"fill_alpha\":{\"value\":0.5},\"fill_color\":{\"value\":\"lightgrey\"},\"left_units\":\"screen\",\"level\":\"overlay\",\"line_alpha\":{\"value\":1.0},\"line_color\":{\"value\":\"black\"},\"line_dash\":[4,4],\"line_width\":{\"value\":2},\"plot\":null,\"render_mode\":\"css\",\"right_units\":\"screen\",\"top_units\":\"screen\"},\"id\":\"f998c97c-39c3-477e-aad5-1e77891b3905\",\"type\":\"BoxAnnotation\"},{\"attributes\":{},\"id\":\"8f967951-b7ce-4cb5-a9a2-d328c44a5ebc\",\"type\":\"PanTool\"},{\"attributes\":{\"source\":{\"id\":\"33a0f6a0-8870-4228-83ee-00cc66379c28\",\"type\":\"ColumnDataSource\"}},\"id\":\"d1b5b7f3-38c2-4258-bce9-062bc91fe774\",\"type\":\"CDSView\"},{\"attributes\":{},\"id\":\"b5fc0c81-0a48-4531-bee5-63571130c634\",\"type\":\"WheelZoomTool\"},{\"attributes\":{\"overlay\":{\"id\":\"f998c97c-39c3-477e-aad5-1e77891b3905\",\"type\":\"BoxAnnotation\"}},\"id\":\"d5e433b0-53d8-467e-a158-9a64d041fd92\",\"type\":\"BoxZoomTool\"},{\"attributes\":{},\"id\":\"ea4e57f5-6d15-4cf1-a7cc-e69596e1f1e6\",\"type\":\"SaveTool\"},{\"attributes\":{},\"id\":\"eb4f50ed-96a7-4017-b8cb-0590cacc9025\",\"type\":\"ResetTool\"},{\"attributes\":{},\"id\":\"df87da44-29c0-4010-ace2-277a22b714eb\",\"type\":\"HelpTool\"},{\"attributes\":{},\"id\":\"928595d8-1a20-4ad5-92cf-35eefe08d41d\",\"type\":\"LinearScale\"},{\"attributes\":{\"active_drag\":\"auto\",\"active_inspect\":\"auto\",\"active_scroll\":\"auto\",\"active_tap\":\"auto\",\"tools\":[{\"id\":\"441b1487-1dfa-403b-8c3b-8824c915ae15\",\"type\":\"PanTool\"},{\"id\":\"227f96ae-2f13-42c8-b4f5-823f5160b59d\",\"type\":\"WheelZoomTool\"},{\"id\":\"c856d95e-6134-4f8f-9f06-9dab0dabfe80\",\"type\":\"BoxZoomTool\"},{\"id\":\"958837e2-f8bc-4b04-a6ba-d195520b1593\",\"type\":\"SaveTool\"},{\"id\":\"c15b8cb9-3447-4783-9400-a200a4d0fbc9\",\"type\":\"ResetTool\"},{\"id\":\"78a98a16-db4d-4845-9232-ee7dd26d8d7f\",\"type\":\"HelpTool\"}]},\"id\":\"13aee4c2-cbd6-47ee-bc5f-e1918a243c6e\",\"type\":\"Toolbar\"},{\"attributes\":{},\"id\":\"cae6e110-05aa-41da-8a5c-ee94b8434414\",\"type\":\"BasicTickFormatter\"},{\"attributes\":{\"plot\":null,\"text\":\"\"},\"id\":\"46db132f-9be3-4faa-b717-c905e460b8c3\",\"type\":\"Title\"},{\"attributes\":{},\"id\":\"31c8837c-4a84-4fa3-8143-cefad8d6c8d1\",\"type\":\"BasicTickFormatter\"},{\"attributes\":{\"callback\":null},\"id\":\"aba9331f-5e2e-4bea-9592-c6101dc13196\",\"type\":\"DataRange1d\"},{\"attributes\":{},\"id\":\"27060cfe-0ee8-41f5-8acd-947890c1a131\",\"type\":\"BasicTickFormatter\"},{\"attributes\":{\"data_source\":{\"id\":\"b07738e9-8820-4c8f-ab15-aee9c047b8a4\",\"type\":\"ColumnDataSource\"},\"glyph\":{\"id\":\"254ba3a0-b16f-4a1d-94f7-e655f29d2f7a\",\"type\":\"Square\"},\"hover_glyph\":null,\"muted_glyph\":null,\"nonselection_glyph\":{\"id\":\"4b6ac496-77fd-45a7-9c16-420dff29f68c\",\"type\":\"Square\"},\"selection_glyph\":null,\"view\":{\"id\":\"f94c44ab-60d2-4362-b60b-270a05842f68\",\"type\":\"CDSView\"}},\"id\":\"7bf56e79-ffb0-498b-b213-b74e3c58294b\",\"type\":\"GlyphRenderer\"},{\"attributes\":{},\"id\":\"77e38043-6bb9-4240-8eaf-38f5bb3d9c4c\",\"type\":\"LinearScale\"},{\"attributes\":{\"plot\":{\"id\":\"a948d2cd-307a-4b31-8656-54955bde6083\",\"subtype\":\"Figure\",\"type\":\"Plot\"},\"ticker\":{\"id\":\"69cbfdc7-d0e5-4429-82c0-2a1db429d8a6\",\"type\":\"BasicTicker\"}},\"id\":\"68f204d8-6678-4463-a1a0-47a2a79eeb05\",\"type\":\"Grid\"},{\"attributes\":{\"callback\":null},\"id\":\"884e7914-7c92-46b1-b275-e36a3b21eede\",\"type\":\"DataRange1d\"},{\"attributes\":{},\"id\":\"4a645100-a87e-4833-ba4d-98313929931a\",\"type\":\"LinearScale\"},{\"attributes\":{\"formatter\":{\"id\":\"27060cfe-0ee8-41f5-8acd-947890c1a131\",\"type\":\"BasicTickFormatter\"},\"plot\":{\"id\":\"a948d2cd-307a-4b31-8656-54955bde6083\",\"subtype\":\"Figure\",\"type\":\"Plot\"},\"ticker\":{\"id\":\"69cbfdc7-d0e5-4429-82c0-2a1db429d8a6\",\"type\":\"BasicTicker\"}},\"id\":\"09f2a7d3-cfbb-4189-9026-8524e1bfe982\",\"type\":\"LinearAxis\"},{\"attributes\":{},\"id\":\"69cbfdc7-d0e5-4429-82c0-2a1db429d8a6\",\"type\":\"BasicTicker\"},{\"attributes\":{\"formatter\":{\"id\":\"31c8837c-4a84-4fa3-8143-cefad8d6c8d1\",\"type\":\"BasicTickFormatter\"},\"plot\":{\"id\":\"a948d2cd-307a-4b31-8656-54955bde6083\",\"subtype\":\"Figure\",\"type\":\"Plot\"},\"ticker\":{\"id\":\"d57ddbb6-73cc-47cd-9f32-082cf218f6a7\",\"type\":\"BasicTicker\"}},\"id\":\"f49b92d0-faa8-491c-8900-0e675dd2ce50\",\"type\":\"LinearAxis\"},{\"attributes\":{},\"id\":\"d57ddbb6-73cc-47cd-9f32-082cf218f6a7\",\"type\":\"BasicTicker\"},{\"attributes\":{\"dimension\":1,\"plot\":{\"id\":\"a948d2cd-307a-4b31-8656-54955bde6083\",\"subtype\":\"Figure\",\"type\":\"Plot\"},\"ticker\":{\"id\":\"d57ddbb6-73cc-47cd-9f32-082cf218f6a7\",\"type\":\"BasicTicker\"}},\"id\":\"12ab09bc-d13d-4b07-a45c-8d20960483bb\",\"type\":\"Grid\"},{\"attributes\":{\"source\":{\"id\":\"b07738e9-8820-4c8f-ab15-aee9c047b8a4\",\"type\":\"ColumnDataSource\"}},\"id\":\"f94c44ab-60d2-4362-b60b-270a05842f68\",\"type\":\"CDSView\"},{\"attributes\":{\"fill_alpha\":{\"value\":0.1},\"fill_color\":{\"value\":\"#1f77b4\"},\"line_alpha\":{\"value\":0.1},\"line_color\":{\"value\":\"#1f77b4\"},\"size\":{\"units\":\"screen\",\"value\":10},\"x\":{\"field\":\"x\"},\"y\":{\"field\":\"y\"}},\"id\":\"4b6ac496-77fd-45a7-9c16-420dff29f68c\",\"type\":\"Square\"},{\"attributes\":{\"fill_color\":{\"value\":\"#FDE724\"},\"line_color\":{\"value\":\"#FDE724\"},\"size\":{\"units\":\"screen\",\"value\":10},\"x\":{\"field\":\"x\"},\"y\":{\"field\":\"y\"}},\"id\":\"254ba3a0-b16f-4a1d-94f7-e655f29d2f7a\",\"type\":\"Square\"},{\"attributes\":{\"bottom_units\":\"screen\",\"fill_alpha\":{\"value\":0.5},\"fill_color\":{\"value\":\"lightgrey\"},\"left_units\":\"screen\",\"level\":\"overlay\",\"line_alpha\":{\"value\":1.0},\"line_color\":{\"value\":\"black\"},\"line_dash\":[4,4],\"line_width\":{\"value\":2},\"plot\":null,\"render_mode\":\"css\",\"right_units\":\"screen\",\"top_units\":\"screen\"},\"id\":\"f94614f2-31d3-4bd3-884d-9b7f96bdd658\",\"type\":\"BoxAnnotation\"},{\"attributes\":{},\"id\":\"441b1487-1dfa-403b-8c3b-8824c915ae15\",\"type\":\"PanTool\"},{\"attributes\":{\"active_drag\":\"auto\",\"active_inspect\":\"auto\",\"active_scroll\":\"auto\",\"active_tap\":\"auto\",\"tools\":[{\"id\":\"8f967951-b7ce-4cb5-a9a2-d328c44a5ebc\",\"type\":\"PanTool\"},{\"id\":\"b5fc0c81-0a48-4531-bee5-63571130c634\",\"type\":\"WheelZoomTool\"},{\"id\":\"d5e433b0-53d8-467e-a158-9a64d041fd92\",\"type\":\"BoxZoomTool\"},{\"id\":\"ea4e57f5-6d15-4cf1-a7cc-e69596e1f1e6\",\"type\":\"SaveTool\"},{\"id\":\"eb4f50ed-96a7-4017-b8cb-0590cacc9025\",\"type\":\"ResetTool\"},{\"id\":\"df87da44-29c0-4010-ace2-277a22b714eb\",\"type\":\"HelpTool\"}]},\"id\":\"c425d381-6644-4e82-be53-85689240fe86\",\"type\":\"Toolbar\"},{\"attributes\":{\"plot\":null,\"text\":\"\"},\"id\":\"bc4994c1-4ba3-49f0-9a56-2dad6a88eecd\",\"type\":\"Title\"},{\"attributes\":{},\"id\":\"227f96ae-2f13-42c8-b4f5-823f5160b59d\",\"type\":\"WheelZoomTool\"},{\"attributes\":{\"overlay\":{\"id\":\"f94614f2-31d3-4bd3-884d-9b7f96bdd658\",\"type\":\"BoxAnnotation\"}},\"id\":\"c856d95e-6134-4f8f-9f06-9dab0dabfe80\",\"type\":\"BoxZoomTool\"},{\"attributes\":{},\"id\":\"958837e2-f8bc-4b04-a6ba-d195520b1593\",\"type\":\"SaveTool\"},{\"attributes\":{},\"id\":\"c15b8cb9-3447-4783-9400-a200a4d0fbc9\",\"type\":\"ResetTool\"},{\"attributes\":{},\"id\":\"78a98a16-db4d-4845-9232-ee7dd26d8d7f\",\"type\":\"HelpTool\"},{\"attributes\":{\"tools\":[{\"id\":\"837ab7b7-8482-49b0-9035-57325d0dd2ef\",\"type\":\"PanTool\"},{\"id\":\"0d0a2f4a-3a21-4089-9113-c4666dd1ce57\",\"type\":\"WheelZoomTool\"},{\"id\":\"5c9e0fd8-3f0f-4eab-9132-3548ffe1032a\",\"type\":\"BoxZoomTool\"},{\"id\":\"5305b72d-8d01-4478-b5a1-418fe094299c\",\"type\":\"SaveTool\"},{\"id\":\"d4115da1-d0b0-4cba-a747-7784440ce366\",\"type\":\"ResetTool\"},{\"id\":\"d223dd65-e047-4f4e-a524-a0232018b3ae\",\"type\":\"HelpTool\"},{\"id\":\"8f967951-b7ce-4cb5-a9a2-d328c44a5ebc\",\"type\":\"PanTool\"},{\"id\":\"b5fc0c81-0a48-4531-bee5-63571130c634\",\"type\":\"WheelZoomTool\"},{\"id\":\"d5e433b0-53d8-467e-a158-9a64d041fd92\",\"type\":\"BoxZoomTool\"},{\"id\":\"ea4e57f5-6d15-4cf1-a7cc-e69596e1f1e6\",\"type\":\"SaveTool\"},{\"id\":\"eb4f50ed-96a7-4017-b8cb-0590cacc9025\",\"type\":\"ResetTool\"},{\"id\":\"df87da44-29c0-4010-ace2-277a22b714eb\",\"type\":\"HelpTool\"},{\"id\":\"441b1487-1dfa-403b-8c3b-8824c915ae15\",\"type\":\"PanTool\"},{\"id\":\"227f96ae-2f13-42c8-b4f5-823f5160b59d\",\"type\":\"WheelZoomTool\"},{\"id\":\"c856d95e-6134-4f8f-9f06-9dab0dabfe80\",\"type\":\"BoxZoomTool\"},{\"id\":\"958837e2-f8bc-4b04-a6ba-d195520b1593\",\"type\":\"SaveTool\"},{\"id\":\"c15b8cb9-3447-4783-9400-a200a4d0fbc9\",\"type\":\"ResetTool\"},{\"id\":\"78a98a16-db4d-4845-9232-ee7dd26d8d7f\",\"type\":\"HelpTool\"}]},\"id\":\"990c1d56-d034-4e33-83ad-6d0a1b592bd0\",\"type\":\"ProxyToolbar\"},{\"attributes\":{\"toolbar\":{\"id\":\"990c1d56-d034-4e33-83ad-6d0a1b592bd0\",\"type\":\"ProxyToolbar\"},\"toolbar_location\":\"above\"},\"id\":\"5c985957-98dc-46d7-8e10-92cc04bea979\",\"type\":\"ToolbarBox\"},{\"attributes\":{\"callback\":null},\"id\":\"c9453342-8b50-407f-bcd2-5cbf5a8a2423\",\"type\":\"DataRange1d\"},{\"attributes\":{},\"id\":\"257e219f-75a5-421b-ab3b-5907350eb848\",\"type\":\"BasicTickFormatter\"},{\"attributes\":{\"callback\":null},\"id\":\"3b50d979-31cf-41fc-9d08-dedf5cf4be64\",\"type\":\"DataRange1d\"},{\"attributes\":{},\"id\":\"7652b41e-05d8-4916-819a-5f03c5da9d7f\",\"type\":\"BasicTicker\"},{\"attributes\":{\"children\":[{\"id\":\"5c985957-98dc-46d7-8e10-92cc04bea979\",\"type\":\"ToolbarBox\"},{\"id\":\"d59ce0d7-a5ad-4ec5-ae60-30685f18d28a\",\"type\":\"Column\"}]},\"id\":\"4a4a23c2-6ed2-441f-8128-7662d866658c\",\"type\":\"Column\"},{\"attributes\":{},\"id\":\"3b952e46-9436-49c6-8ebc-87a2bdfa8148\",\"type\":\"LinearScale\"},{\"attributes\":{\"callback\":null,\"column_names\":[\"x\",\"y\"],\"data\":{\"x\":[0,1,2,3,4,5,6,7,8,9,10],\"y\":[0,1,2,3,4,5,6,7,8,9,10]}},\"id\":\"459b6f1d-60ae-4a64-b03a-f540fd66c05c\",\"type\":\"ColumnDataSource\"},{\"attributes\":{\"children\":[{\"id\":\"a948d2cd-307a-4b31-8656-54955bde6083\",\"subtype\":\"Figure\",\"type\":\"Plot\"}]},\"id\":\"0f8c753d-f29f-418c-a93c-d379c04b59d3\",\"type\":\"Row\"},{\"attributes\":{\"formatter\":{\"id\":\"257e219f-75a5-421b-ab3b-5907350eb848\",\"type\":\"BasicTickFormatter\"},\"plot\":{\"id\":\"515c79db-d2b2-455d-a0de-d060442857a3\",\"subtype\":\"Figure\",\"type\":\"Plot\"},\"ticker\":{\"id\":\"4bb27c2c-a5ba-4baa-91a6-cf64ebded003\",\"type\":\"BasicTicker\"}},\"id\":\"a260040f-3703-461f-a585-f05af36c430b\",\"type\":\"LinearAxis\"},{\"attributes\":{},\"id\":\"f0d43dc5-febf-4c1c-a99e-4283400d1bc2\",\"type\":\"LinearScale\"},{\"attributes\":{\"children\":[{\"id\":\"515c79db-d2b2-455d-a0de-d060442857a3\",\"subtype\":\"Figure\",\"type\":\"Plot\"},{\"id\":\"67925edc-0f22-4cab-9ccc-07fe4b48fd0e\",\"subtype\":\"Figure\",\"type\":\"Plot\"}]},\"id\":\"732c5535-847b-4b41-a02d-f1bd9d8f04d4\",\"type\":\"Row\"},{\"attributes\":{\"callback\":null},\"id\":\"67bf8ce1-bc73-476a-8d93-ca420cf52f10\",\"type\":\"DataRange1d\"},{\"attributes\":{\"callback\":null,\"column_names\":[\"x\",\"y\"],\"data\":{\"x\":[0,1,2,3,4,5,6,7,8,9,10],\"y\":[10,9,8,7,6,5,4,3,2,1,0]}},\"id\":\"33a0f6a0-8870-4228-83ee-00cc66379c28\",\"type\":\"ColumnDataSource\"},{\"attributes\":{\"below\":[{\"id\":\"f9beac0b-dddd-4b60-89c7-534a505322d5\",\"type\":\"LinearAxis\"}],\"left\":[{\"id\":\"bb7481b1-7046-4278-ba00-3fbd4a3ed8a5\",\"type\":\"LinearAxis\"}],\"plot_height\":250,\"plot_width\":250,\"renderers\":[{\"id\":\"f9beac0b-dddd-4b60-89c7-534a505322d5\",\"type\":\"LinearAxis\"},{\"id\":\"19a556fd-a18f-4d45-bf57-6e47771cd36d\",\"type\":\"Grid\"},{\"id\":\"bb7481b1-7046-4278-ba00-3fbd4a3ed8a5\",\"type\":\"LinearAxis\"},{\"id\":\"177d7c67-7734-4a2a-b7d0-774ffc2355ad\",\"type\":\"Grid\"},{\"id\":\"f998c97c-39c3-477e-aad5-1e77891b3905\",\"type\":\"BoxAnnotation\"},{\"id\":\"c0c9ce11-cd27-4495-bf78-781b9c849860\",\"type\":\"GlyphRenderer\"}],\"title\":{\"id\":\"46db132f-9be3-4faa-b717-c905e460b8c3\",\"type\":\"Title\"},\"toolbar\":{\"id\":\"c425d381-6644-4e82-be53-85689240fe86\",\"type\":\"Toolbar\"},\"toolbar_location\":null,\"x_range\":{\"id\":\"f0736a9a-d4a1-4791-b316-9ca373bba928\",\"type\":\"DataRange1d\"},\"x_scale\":{\"id\":\"3b952e46-9436-49c6-8ebc-87a2bdfa8148\",\"type\":\"LinearScale\"},\"y_range\":{\"id\":\"3b50d979-31cf-41fc-9d08-dedf5cf4be64\",\"type\":\"DataRange1d\"},\"y_scale\":{\"id\":\"928595d8-1a20-4ad5-92cf-35eefe08d41d\",\"type\":\"LinearScale\"}},\"id\":\"67925edc-0f22-4cab-9ccc-07fe4b48fd0e\",\"subtype\":\"Figure\",\"type\":\"Plot\"},{\"attributes\":{\"plot\":{\"id\":\"515c79db-d2b2-455d-a0de-d060442857a3\",\"subtype\":\"Figure\",\"type\":\"Plot\"},\"ticker\":{\"id\":\"7652b41e-05d8-4916-819a-5f03c5da9d7f\",\"type\":\"BasicTicker\"}},\"id\":\"abffde90-bffb-4911-aca2-4f7788e5d12f\",\"type\":\"Grid\"},{\"attributes\":{\"below\":[{\"id\":\"09f2a7d3-cfbb-4189-9026-8524e1bfe982\",\"type\":\"LinearAxis\"}],\"left\":[{\"id\":\"f49b92d0-faa8-491c-8900-0e675dd2ce50\",\"type\":\"LinearAxis\"}],\"plot_height\":250,\"plot_width\":250,\"renderers\":[{\"id\":\"09f2a7d3-cfbb-4189-9026-8524e1bfe982\",\"type\":\"LinearAxis\"},{\"id\":\"68f204d8-6678-4463-a1a0-47a2a79eeb05\",\"type\":\"Grid\"},{\"id\":\"f49b92d0-faa8-491c-8900-0e675dd2ce50\",\"type\":\"LinearAxis\"},{\"id\":\"12ab09bc-d13d-4b07-a45c-8d20960483bb\",\"type\":\"Grid\"},{\"id\":\"f94614f2-31d3-4bd3-884d-9b7f96bdd658\",\"type\":\"BoxAnnotation\"},{\"id\":\"7bf56e79-ffb0-498b-b213-b74e3c58294b\",\"type\":\"GlyphRenderer\"}],\"title\":{\"id\":\"bc4994c1-4ba3-49f0-9a56-2dad6a88eecd\",\"type\":\"Title\"},\"toolbar\":{\"id\":\"13aee4c2-cbd6-47ee-bc5f-e1918a243c6e\",\"type\":\"Toolbar\"},\"toolbar_location\":null,\"x_range\":{\"id\":\"aba9331f-5e2e-4bea-9592-c6101dc13196\",\"type\":\"DataRange1d\"},\"x_scale\":{\"id\":\"4a645100-a87e-4833-ba4d-98313929931a\",\"type\":\"LinearScale\"},\"y_range\":{\"id\":\"884e7914-7c92-46b1-b275-e36a3b21eede\",\"type\":\"DataRange1d\"},\"y_scale\":{\"id\":\"77e38043-6bb9-4240-8eaf-38f5bb3d9c4c\",\"type\":\"LinearScale\"}},\"id\":\"a948d2cd-307a-4b31-8656-54955bde6083\",\"subtype\":\"Figure\",\"type\":\"Plot\"},{\"attributes\":{},\"id\":\"2cfee35a-23ff-46be-a838-d56653647b93\",\"type\":\"LinearScale\"},{\"attributes\":{\"formatter\":{\"id\":\"1f67f156-5ad9-4e0e-9362-74f894ea4438\",\"type\":\"BasicTickFormatter\"},\"plot\":{\"id\":\"515c79db-d2b2-455d-a0de-d060442857a3\",\"subtype\":\"Figure\",\"type\":\"Plot\"},\"ticker\":{\"id\":\"7652b41e-05d8-4916-819a-5f03c5da9d7f\",\"type\":\"BasicTicker\"}},\"id\":\"47fbd0da-e454-46e9-9fe2-451abd1b6503\",\"type\":\"LinearAxis\"},{\"attributes\":{\"callback\":null},\"id\":\"f0736a9a-d4a1-4791-b316-9ca373bba928\",\"type\":\"DataRange1d\"},{\"attributes\":{},\"id\":\"837ab7b7-8482-49b0-9035-57325d0dd2ef\",\"type\":\"PanTool\"},{\"attributes\":{},\"id\":\"5305b72d-8d01-4478-b5a1-418fe094299c\",\"type\":\"SaveTool\"},{\"attributes\":{\"below\":[{\"id\":\"47fbd0da-e454-46e9-9fe2-451abd1b6503\",\"type\":\"LinearAxis\"}],\"left\":[{\"id\":\"a260040f-3703-461f-a585-f05af36c430b\",\"type\":\"LinearAxis\"}],\"plot_height\":250,\"plot_width\":250,\"renderers\":[{\"id\":\"47fbd0da-e454-46e9-9fe2-451abd1b6503\",\"type\":\"LinearAxis\"},{\"id\":\"abffde90-bffb-4911-aca2-4f7788e5d12f\",\"type\":\"Grid\"},{\"id\":\"a260040f-3703-461f-a585-f05af36c430b\",\"type\":\"LinearAxis\"},{\"id\":\"760ad422-78ea-4408-a78d-db0456bda15d\",\"type\":\"Grid\"},{\"id\":\"0a906875-f95d-4ccb-93e2-5cba15b35436\",\"type\":\"BoxAnnotation\"},{\"id\":\"7ea1d8f6-0e61-4c57-84d0-87d2b1c99901\",\"type\":\"GlyphRenderer\"}],\"title\":{\"id\":\"80163c3f-b25e-40fd-82f5-e8c0131883ba\",\"type\":\"Title\"},\"toolbar\":{\"id\":\"3a6f81cc-a37a-4dd9-a78c-cbb63b6fb3e5\",\"type\":\"Toolbar\"},\"toolbar_location\":null,\"x_range\":{\"id\":\"67bf8ce1-bc73-476a-8d93-ca420cf52f10\",\"type\":\"DataRange1d\"},\"x_scale\":{\"id\":\"f0d43dc5-febf-4c1c-a99e-4283400d1bc2\",\"type\":\"LinearScale\"},\"y_range\":{\"id\":\"c9453342-8b50-407f-bcd2-5cbf5a8a2423\",\"type\":\"DataRange1d\"},\"y_scale\":{\"id\":\"2cfee35a-23ff-46be-a838-d56653647b93\",\"type\":\"LinearScale\"}},\"id\":\"515c79db-d2b2-455d-a0de-d060442857a3\",\"subtype\":\"Figure\",\"type\":\"Plot\"},{\"attributes\":{\"active_drag\":\"auto\",\"active_inspect\":\"auto\",\"active_scroll\":\"auto\",\"active_tap\":\"auto\",\"tools\":[{\"id\":\"837ab7b7-8482-49b0-9035-57325d0dd2ef\",\"type\":\"PanTool\"},{\"id\":\"0d0a2f4a-3a21-4089-9113-c4666dd1ce57\",\"type\":\"WheelZoomTool\"},{\"id\":\"5c9e0fd8-3f0f-4eab-9132-3548ffe1032a\",\"type\":\"BoxZoomTool\"},{\"id\":\"5305b72d-8d01-4478-b5a1-418fe094299c\",\"type\":\"SaveTool\"},{\"id\":\"d4115da1-d0b0-4cba-a747-7784440ce366\",\"type\":\"ResetTool\"},{\"id\":\"d223dd65-e047-4f4e-a524-a0232018b3ae\",\"type\":\"HelpTool\"}]},\"id\":\"3a6f81cc-a37a-4dd9-a78c-cbb63b6fb3e5\",\"type\":\"Toolbar\"},{\"attributes\":{},\"id\":\"1f67f156-5ad9-4e0e-9362-74f894ea4438\",\"type\":\"BasicTickFormatter\"},{\"attributes\":{},\"id\":\"d4115da1-d0b0-4cba-a747-7784440ce366\",\"type\":\"ResetTool\"},{\"attributes\":{\"plot\":null,\"text\":\"\"},\"id\":\"80163c3f-b25e-40fd-82f5-e8c0131883ba\",\"type\":\"Title\"},{\"attributes\":{\"callback\":null,\"column_names\":[\"x\",\"y\"],\"data\":{\"x\":[0,1,2,3,4,5,6,7,8,9,10],\"y\":[5,4,3,2,1,0,1,2,3,4,5]}},\"id\":\"b07738e9-8820-4c8f-ab15-aee9c047b8a4\",\"type\":\"ColumnDataSource\"},{\"attributes\":{},\"id\":\"d223dd65-e047-4f4e-a524-a0232018b3ae\",\"type\":\"HelpTool\"},{\"attributes\":{\"fill_alpha\":{\"value\":0.1},\"fill_color\":{\"value\":\"#1f77b4\"},\"line_alpha\":{\"value\":0.1},\"line_color\":{\"value\":\"#1f77b4\"},\"size\":{\"units\":\"screen\",\"value\":10},\"x\":{\"field\":\"x\"},\"y\":{\"field\":\"y\"}},\"id\":\"e5f959af-2dbc-4700-a7f4-f20c79ce2829\",\"type\":\"Circle\"},{\"attributes\":{\"bottom_units\":\"screen\",\"fill_alpha\":{\"value\":0.5},\"fill_color\":{\"value\":\"lightgrey\"},\"left_units\":\"screen\",\"level\":\"overlay\",\"line_alpha\":{\"value\":1.0},\"line_color\":{\"value\":\"black\"},\"line_dash\":[4,4],\"line_width\":{\"value\":2},\"plot\":null,\"render_mode\":\"css\",\"right_units\":\"screen\",\"top_units\":\"screen\"},\"id\":\"0a906875-f95d-4ccb-93e2-5cba15b35436\",\"type\":\"BoxAnnotation\"},{\"attributes\":{},\"id\":\"4bb27c2c-a5ba-4baa-91a6-cf64ebded003\",\"type\":\"BasicTicker\"},{\"attributes\":{\"overlay\":{\"id\":\"0a906875-f95d-4ccb-93e2-5cba15b35436\",\"type\":\"BoxAnnotation\"}},\"id\":\"5c9e0fd8-3f0f-4eab-9132-3548ffe1032a\",\"type\":\"BoxZoomTool\"},{\"attributes\":{\"source\":{\"id\":\"459b6f1d-60ae-4a64-b03a-f540fd66c05c\",\"type\":\"ColumnDataSource\"}},\"id\":\"49b59319-28fc-4ae6-893e-ab0ada112aa4\",\"type\":\"CDSView\"},{\"attributes\":{\"dimension\":1,\"plot\":{\"id\":\"515c79db-d2b2-455d-a0de-d060442857a3\",\"subtype\":\"Figure\",\"type\":\"Plot\"},\"ticker\":{\"id\":\"4bb27c2c-a5ba-4baa-91a6-cf64ebded003\",\"type\":\"BasicTicker\"}},\"id\":\"760ad422-78ea-4408-a78d-db0456bda15d\",\"type\":\"Grid\"},{\"attributes\":{},\"id\":\"0d0a2f4a-3a21-4089-9113-c4666dd1ce57\",\"type\":\"WheelZoomTool\"},{\"attributes\":{\"data_source\":{\"id\":\"459b6f1d-60ae-4a64-b03a-f540fd66c05c\",\"type\":\"ColumnDataSource\"},\"glyph\":{\"id\":\"a801eae5-6832-4243-a3e1-f83ec383528f\",\"type\":\"Circle\"},\"hover_glyph\":null,\"muted_glyph\":null,\"nonselection_glyph\":{\"id\":\"e5f959af-2dbc-4700-a7f4-f20c79ce2829\",\"type\":\"Circle\"},\"selection_glyph\":null,\"view\":{\"id\":\"49b59319-28fc-4ae6-893e-ab0ada112aa4\",\"type\":\"CDSView\"}},\"id\":\"7ea1d8f6-0e61-4c57-84d0-87d2b1c99901\",\"type\":\"GlyphRenderer\"},{\"attributes\":{\"fill_color\":{\"value\":\"#440154\"},\"line_color\":{\"value\":\"#440154\"},\"size\":{\"units\":\"screen\",\"value\":10},\"x\":{\"field\":\"x\"},\"y\":{\"field\":\"y\"}},\"id\":\"a801eae5-6832-4243-a3e1-f83ec383528f\",\"type\":\"Circle\"}],\"root_ids\":[\"4a4a23c2-6ed2-441f-8128-7662d866658c\"]},\"title\":\"Bokeh Application\",\"version\":\"0.12.13\"}};\n",
       "  var render_items = [{\"docid\":\"13df2c47-2fdb-4997-9687-a70b23a9e8ff\",\"elementid\":\"f01491a8-5ea1-4bf9-862a-8f5f0e281f45\",\"modelid\":\"4a4a23c2-6ed2-441f-8128-7662d866658c\"}];\n",
       "  root.Bokeh.embed.embed_items_notebook(docs_json, render_items);\n",
       "\n",
       "  }\n",
       "  if (root.Bokeh !== undefined) {\n",
       "    embed_document(root);\n",
       "  } else {\n",
       "    var attempts = 0;\n",
       "    var timer = setInterval(function(root) {\n",
       "      if (root.Bokeh !== undefined) {\n",
       "        embed_document(root);\n",
       "        clearInterval(timer);\n",
       "      }\n",
       "      attempts++;\n",
       "      if (attempts > 100) {\n",
       "        console.log(\"Bokeh: ERROR: Unable to run BokehJS code because BokehJS library is missing\")\n",
       "        clearInterval(timer);\n",
       "      }\n",
       "    }, 10, root)\n",
       "  }\n",
       "})(window);"
      ],
      "application/vnd.bokehjs_exec.v0+json": ""
     },
     "metadata": {
      "application/vnd.bokehjs_exec.v0+json": {
       "id": "4a4a23c2-6ed2-441f-8128-7662d866658c"
      }
     },
     "output_type": "display_data"
    }
   ],
   "source": [
    "from bokeh.layouts import gridplot\n",
    "from bokeh.palettes import Viridis3\n",
    "\n",
    "x = list(range(11))\n",
    "y0 = x\n",
    "y1 = [10 - i for i in x]\n",
    "y2 = [abs(i - 5) for i in x]\n",
    "\n",
    "# create three plots\n",
    "s1 = figure()\n",
    "s1.circle(x, y0, size=10, color=Viridis3[0])\n",
    "s2 = figure()\n",
    "s2.triangle(x, y1, size=10, color=Viridis3[1])\n",
    "s3 = figure()\n",
    "s3.square(x, y2, size=10, color=Viridis3[2])\n",
    "\n",
    "# make a grid\n",
    "grid = gridplot([s1, s2, s3], \n",
    "                ncols=2, \n",
    "                plot_width=250, plot_height=250) #, merge_tools = False) \n",
    "\n",
    "# show the results\n",
    "show(grid)\n"
   ]
  },
  {
   "cell_type": "markdown",
   "metadata": {},
   "source": [
    "### General Grid Layout\n",
    "```\n",
    "from bokeh.layouts import layout\n",
    "\n",
    "l = layout([[bollinger],\n",
    "            [sliders, plot],\n",
    "            [p1, p2, p3]], \n",
    "           sizing_mode='stretch_both')\n",
    "           ```"
   ]
  },
  {
   "cell_type": "code",
   "execution_count": 21,
   "metadata": {
    "scrolled": false
   },
   "outputs": [
    {
     "data": {
      "text/html": [
       "\n",
       "<div class=\"bk-root\">\n",
       "    <div class=\"bk-plotdiv\" id=\"8f7131d7-1d28-49db-8ec2-430dc7d54fdf\"></div>\n",
       "</div>"
      ]
     },
     "metadata": {},
     "output_type": "display_data"
    },
    {
     "data": {
      "application/javascript": [
       "(function(root) {\n",
       "  function embed_document(root) {\n",
       "    \n",
       "  var docs_json = {\"2d0b2f64-822e-40da-9f60-d8a02cbe938b\":{\"roots\":{\"references\":[{\"attributes\":{},\"id\":\"8892f297-0b8e-443c-9937-edee109f8b2b\",\"type\":\"PanTool\"},{\"attributes\":{},\"id\":\"75254802-5e84-456e-8cae-8092ef05cd30\",\"type\":\"BasicTickFormatter\"},{\"attributes\":{},\"id\":\"b08d92dd-c4fd-4749-b2cf-42d1edbfb7fa\",\"type\":\"BasicTicker\"},{\"attributes\":{},\"id\":\"1c1433e1-4c84-4555-b2f0-0078b68015ce\",\"type\":\"BasicTickFormatter\"},{\"attributes\":{\"dimension\":1,\"grid_line_alpha\":{\"value\":0.4},\"plot\":{\"id\":\"14ac6d00-c92f-481b-b7d1-3bb575ac7e84\",\"subtype\":\"Figure\",\"type\":\"Plot\"},\"ticker\":{\"id\":\"b08d92dd-c4fd-4749-b2cf-42d1edbfb7fa\",\"type\":\"BasicTicker\"}},\"id\":\"41201bbd-cd52-4f66-bc66-15e1e096ae66\",\"type\":\"Grid\"},{\"attributes\":{},\"id\":\"b91d33e4-fb92-4e33-8976-c410175da941\",\"type\":\"LinearScale\"},{\"attributes\":{\"fill_alpha\":0.2,\"fill_color\":\"#7570B3\",\"line_color\":\"#7570B3\",\"x\":{\"field\":\"x\"},\"y\":{\"field\":\"y\"}},\"id\":\"c5051e14-7a89-4e8f-a1c4-a426fc0ea880\",\"type\":\"Patch\"},{\"attributes\":{\"active_drag\":\"auto\",\"active_inspect\":\"auto\",\"active_scroll\":\"auto\",\"active_tap\":\"auto\",\"tools\":[{\"id\":\"f6c33613-249d-4740-a576-89694cba9dd1\",\"type\":\"PanTool\"}]},\"id\":\"5a65c861-5973-471d-88cc-158e97a2052c\",\"type\":\"Toolbar\"},{\"attributes\":{\"fill_alpha\":0.1,\"fill_color\":\"#1f77b4\",\"line_alpha\":0.1,\"line_color\":\"#1f77b4\",\"x\":{\"field\":\"x\"},\"y\":{\"field\":\"y\"}},\"id\":\"9fa8e4cf-2772-47c2-b54b-3dfacc5b632f\",\"type\":\"Patch\"},{\"attributes\":{\"formatter\":{\"id\":\"1c85abff-ea88-41dd-baef-81547babd2db\",\"type\":\"BasicTickFormatter\"},\"plot\":{\"id\":\"6d86bfcf-8bf2-4be0-afee-cbf438d0b7e5\",\"subtype\":\"Figure\",\"type\":\"Plot\"},\"ticker\":{\"id\":\"7c2a8216-d599-406e-9479-b6b2c5abde56\",\"type\":\"BasicTicker\"}},\"id\":\"4b5898d8-7446-470c-935d-9b5909f95d79\",\"type\":\"LinearAxis\"},{\"attributes\":{\"callback\":null,\"column_names\":[\"x\",\"y\"],\"data\":{\"x\":{\"__ndarray__\":\"AAAAAAAAAACRGkt8Vz/AP5EaS3xXP9A/2qdwOgNf2D+RGkt8Vz/gPzXhXVstT+Q/2qdwOgNf6D9+boMZ2W7sP5EaS3xXP/A/433Ua0JH8j814V1bLU/0P4dE50oYV/Y/2qdwOgNf+D8sC/op7mb6P35ugxnZbvw/0NEMCcR2/j+RGkt8Vz8AQDrMD/RMQwFA433Ua0JHAkCML5njN0sDQDXhXVstTwRA3pIi0yJTBUCHROdKGFcGQDD2q8INWwdA2qdwOgNfCECDWTWy+GIJQCwL+inuZgpA1by+oeNqC0B+boMZ2W4MQCcgSJHOcg1A0NEMCcR2DkB5g9GAuXoPQJEaS3xXPxBAZnMtOFLBEEA6zA/0TEMRQA8l8q9HxRFA433Ua0JHEkC41rYnPckSQIwvmeM3SxNAYYh7nzLNE0A14V1bLU8UQAo6QBco0RRA3pIi0yJTFUCz6wSPHdUVQIdE50oYVxZAXJ3JBhPZFkAw9qvCDVsXQAVPjn4I3RdA2qdwOgNfGECuAFP2/eAYQINZNbL4YhlAV7IXbvPkGUAsC/op7mYaQABk3OXo6BpA1by+oeNqG0CpFaFd3uwbQH5ugxnZbhxAUsdl1dPwHEAnIEiRznIdQPt4Kk3J9B1A0NEMCcR2HkCkKu/EvvgeQHmD0YC5eh9ATdyzPLT8H0CRGkt8Vz8gQPtGPNpUgCBAZnMtOFLBIEDQnx6WTwIhQDrMD/RMQyFApPgAUkqEIUAPJfKvR8UhQHlR4w1FBiJA433Ua0JHIkBNqsXJP4giQLjWtic9ySJAIgOohToKI0CML5njN0sjQPZbikE1jCNAYYh7nzLNI0DLtGz9Lw4kQDXhXVstTyRAoA1PuSqQJEAKOkAXKNEkQHRmMXUlEiVA3pIi0yJTJUBJvxMxIJQlQLPrBI8d1SVAHRj27BoWJkCHROdKGFcmQPJw2KgVmCZAXJ3JBhPZJkDGybpkEBonQDD2q8INWydAmyKdIAucJ0AFT45+CN0nQG97f9wFHihA2qdwOgNfKEBE1GGYAKAoQK4AU/b94ChAGC1EVPshKUA=\",\"dtype\":\"float64\",\"shape\":[100]},\"y\":{\"__ndarray__\":\"AAAAAAAA8D9o+gYFGL7vPyN/Fo5v+e4/XLHeqjC17T9foQT4kvbrP1YykSHGxOk/tTkVSdQo5z9AE3HJfC3kP1wsoPEH3+A/thLH2SiW2j9bQ2NRvgDTP4xzC34aOsY/cyCwKKhcqD8MyeikuUm0v0/eq9oaN8q/PSGBd67u1L+LyZhelmvcv8/m3JG2ueG/hlh3f5705L9dUsfUNNnnv10cd/2OW+q/wfLvCVdx7L8bLVJC9hHuv0PyRoe4Nu+/XjTx7ufa778HB0As4PvvvwQ9tXAZme+/V1DNmyq07r/ZTwivwlDtv4lZi6GZdOu/JeDa0Vgn6b/aPrV2e3Lmv8y0DJEnYeO/+f//////3783i/Tn4LnYv4yAwi7oDdG/3kQPZF83wr9U+ijPKj+QvxHsuGvkX7w/k1rgSlktzj+GU4hOOdfWP1m1P3WwOd4/AasNgtOP4j+XUJVeWbblPzdQz6Jvg+g/uvBkh4zr6j99NRQyxuTsP/FJcov7Zu4/Juk3u/Vr7z+VSynBge/vP5RLKcGB7+8/Jek3u/Vr7z/vSXKL+2buP381FDLG5Ow/uPBkh4zr6j86UM+ib4PoP5RQlV5ZtuU/BasNgtOP4j9TtT91sDneP45TiE4519Y/hVrgSlktzj807Lhr5F+8P8f6KM8qP5C/zUQPZF83wr+TgMIu6A3Rvy+L9Ofgudi/BwAAAAAA4L/PtAyRJ2Hjv9k+tXZ7cua/I+Da0Vgn6b+NWYuhmXTrv9pPCK/CUO2/V1DNmyq07r8DPbVwGZnvvwgHQCzg+++/XjTx7ufa779E8kaHuDbvvx4tUkL2Ee6/wPLvCVdx7L9dHHf9jlvqv2BSx9Q02ee/gVh3f5705L/M5tyRtrnhv4zJmF6Wa9y/RSGBd67u1L8x3qvaGjfKv/DI6KS5SbS/bSCwKKhcqD9zcwt+GjrGP2ZDY1G+ANM/uRLH2SiW2j9aLKDxB9/gPzsTccl8LeQ/uDkVSdQo5z9WMpEhxsTpP12hBPiS9us/X7HeqjC17T8kfxaOb/nuP2j6BgUYvu8/AAAAAAAA8D8=\",\"dtype\":\"float64\",\"shape\":[100]}}},\"id\":\"b2710957-4e4c-408d-88de-ea7cb114378a\",\"type\":\"ColumnDataSource\"},{\"attributes\":{},\"id\":\"c3b9b722-4165-4ed0-90e1-0444660d1261\",\"type\":\"LinearScale\"},{\"attributes\":{\"data_source\":{\"id\":\"c35c19b5-300a-4462-9ec0-d7255701905d\",\"type\":\"ColumnDataSource\"},\"glyph\":{\"id\":\"c5051e14-7a89-4e8f-a1c4-a426fc0ea880\",\"type\":\"Patch\"},\"hover_glyph\":null,\"muted_glyph\":null,\"nonselection_glyph\":{\"id\":\"9fa8e4cf-2772-47c2-b54b-3dfacc5b632f\",\"type\":\"Patch\"},\"selection_glyph\":null,\"view\":{\"id\":\"b7fdea24-b37d-4bd2-a541-480151df754b\",\"type\":\"CDSView\"}},\"id\":\"3de8cbde-0031-4345-998e-d44a01f7d504\",\"type\":\"GlyphRenderer\"},{\"attributes\":{},\"id\":\"7c2a8216-d599-406e-9479-b6b2c5abde56\",\"type\":\"BasicTicker\"},{\"attributes\":{\"source\":{\"id\":\"c35c19b5-300a-4462-9ec0-d7255701905d\",\"type\":\"ColumnDataSource\"}},\"id\":\"b7fdea24-b37d-4bd2-a541-480151df754b\",\"type\":\"CDSView\"},{\"attributes\":{\"plot\":{\"id\":\"6d86bfcf-8bf2-4be0-afee-cbf438d0b7e5\",\"subtype\":\"Figure\",\"type\":\"Plot\"},\"ticker\":{\"id\":\"7c2a8216-d599-406e-9479-b6b2c5abde56\",\"type\":\"BasicTicker\"}},\"id\":\"6e1a546e-f8be-4ba4-b74b-6b5b56bafa90\",\"type\":\"Grid\"},{\"attributes\":{},\"id\":\"01051f3c-f7a9-484f-9e20-a9ef4361f85e\",\"type\":\"DatetimeTickFormatter\"},{\"attributes\":{},\"id\":\"f6c33613-249d-4740-a576-89694cba9dd1\",\"type\":\"PanTool\"},{\"attributes\":{\"plot\":null,\"text\":\"Bollinger Bands\"},\"id\":\"14963a5c-1894-4cc5-a017-fe01e1967504\",\"type\":\"Title\"},{\"attributes\":{\"formatter\":{\"id\":\"3cafab1c-1d9f-4b67-8319-f2a46e5d0305\",\"type\":\"BasicTickFormatter\"},\"plot\":{\"id\":\"6d86bfcf-8bf2-4be0-afee-cbf438d0b7e5\",\"subtype\":\"Figure\",\"type\":\"Plot\"},\"ticker\":{\"id\":\"2b413859-0232-48b8-bda9-2a1a9edeafd4\",\"type\":\"BasicTicker\"}},\"id\":\"03100d01-e004-45a6-93ce-a53085e8ecd0\",\"type\":\"LinearAxis\"},{\"attributes\":{\"below\":[{\"id\":\"4b5898d8-7446-470c-935d-9b5909f95d79\",\"type\":\"LinearAxis\"}],\"left\":[{\"id\":\"03100d01-e004-45a6-93ce-a53085e8ecd0\",\"type\":\"LinearAxis\"}],\"renderers\":[{\"id\":\"4b5898d8-7446-470c-935d-9b5909f95d79\",\"type\":\"LinearAxis\"},{\"id\":\"6e1a546e-f8be-4ba4-b74b-6b5b56bafa90\",\"type\":\"Grid\"},{\"id\":\"03100d01-e004-45a6-93ce-a53085e8ecd0\",\"type\":\"LinearAxis\"},{\"id\":\"4f96999d-3f78-4b62-a282-1eb1e2f77781\",\"type\":\"Grid\"},{\"id\":\"350b581d-d5c2-45f9-b6d2-6968b58dd864\",\"type\":\"GlyphRenderer\"}],\"title\":{\"id\":\"849e3caf-658a-473c-ae9f-2dcab426552e\",\"type\":\"Title\"},\"toolbar\":{\"id\":\"5a65c861-5973-471d-88cc-158e97a2052c\",\"type\":\"Toolbar\"},\"x_range\":{\"id\":\"469b55c1-30b0-42b8-8556-258dbce06215\",\"type\":\"DataRange1d\"},\"x_scale\":{\"id\":\"c3b9b722-4165-4ed0-90e1-0444660d1261\",\"type\":\"LinearScale\"},\"y_range\":{\"id\":\"711ab51f-1aa5-4496-878e-9b724eafeb0a\",\"type\":\"DataRange1d\"},\"y_scale\":{\"id\":\"b91d33e4-fb92-4e33-8976-c410175da941\",\"type\":\"LinearScale\"}},\"id\":\"6d86bfcf-8bf2-4be0-afee-cbf438d0b7e5\",\"subtype\":\"Figure\",\"type\":\"Plot\"},{\"attributes\":{},\"id\":\"2b413859-0232-48b8-bda9-2a1a9edeafd4\",\"type\":\"BasicTicker\"},{\"attributes\":{},\"id\":\"d035e2c1-bb6b-467c-a9c4-f98c21bb9656\",\"type\":\"BasicTickFormatter\"},{\"attributes\":{\"dimension\":1,\"plot\":{\"id\":\"6d86bfcf-8bf2-4be0-afee-cbf438d0b7e5\",\"subtype\":\"Figure\",\"type\":\"Plot\"},\"ticker\":{\"id\":\"2b413859-0232-48b8-bda9-2a1a9edeafd4\",\"type\":\"BasicTicker\"}},\"id\":\"4f96999d-3f78-4b62-a282-1eb1e2f77781\",\"type\":\"Grid\"},{\"attributes\":{\"days\":[1,2,3,4,5,6,7,8,9,10,11,12,13,14,15,16,17,18,19,20,21,22,23,24,25,26,27,28,29,30,31]},\"id\":\"6c7e96b9-09d7-4491-8a81-943468002ea7\",\"type\":\"DaysTicker\"},{\"attributes\":{\"fill_alpha\":{\"value\":0.5},\"fill_color\":{\"value\":\"firebrick\"},\"line_alpha\":{\"value\":0.5},\"line_color\":{\"value\":\"firebrick\"},\"size\":{\"units\":\"screen\",\"value\":8},\"x\":{\"field\":\"x\"},\"y\":{\"field\":\"y\"}},\"id\":\"90aa859b-7fb0-4a1b-b80f-77ad86cbc322\",\"type\":\"Circle\"},{\"attributes\":{\"mantissas\":[1,2,5],\"max_interval\":500.0,\"num_minor_ticks\":0},\"id\":\"ba21a554-d1c4-4eac-b092-05f9f714e9ef\",\"type\":\"AdaptiveTicker\"},{\"attributes\":{},\"id\":\"3cafab1c-1d9f-4b67-8319-f2a46e5d0305\",\"type\":\"BasicTickFormatter\"},{\"attributes\":{\"source\":{\"id\":\"b2710957-4e4c-408d-88de-ea7cb114378a\",\"type\":\"ColumnDataSource\"}},\"id\":\"7582ee13-89f9-4099-9f2d-0c8a08359ffd\",\"type\":\"CDSView\"},{\"attributes\":{\"base\":60,\"mantissas\":[1,2,5,10,15,20,30],\"max_interval\":1800000.0,\"min_interval\":1000.0,\"num_minor_ticks\":0},\"id\":\"934c9ecb-bed4-4688-bc7e-ecc926f6b51d\",\"type\":\"AdaptiveTicker\"},{\"attributes\":{},\"id\":\"1c85abff-ea88-41dd-baef-81547babd2db\",\"type\":\"BasicTickFormatter\"},{\"attributes\":{\"base\":24,\"mantissas\":[1,2,4,6,8,12],\"max_interval\":43200000.0,\"min_interval\":3600000.0,\"num_minor_ticks\":0},\"id\":\"21919e05-9dc1-4c76-be95-88fe49e94584\",\"type\":\"AdaptiveTicker\"},{\"attributes\":{\"data_source\":{\"id\":\"b2710957-4e4c-408d-88de-ea7cb114378a\",\"type\":\"ColumnDataSource\"},\"glyph\":{\"id\":\"90aa859b-7fb0-4a1b-b80f-77ad86cbc322\",\"type\":\"Circle\"},\"hover_glyph\":null,\"muted_glyph\":null,\"nonselection_glyph\":{\"id\":\"7b22073a-bb8f-4272-9f25-8514ab9c634f\",\"type\":\"Circle\"},\"selection_glyph\":null,\"view\":{\"id\":\"7582ee13-89f9-4099-9f2d-0c8a08359ffd\",\"type\":\"CDSView\"}},\"id\":\"350b581d-d5c2-45f9-b6d2-6968b58dd864\",\"type\":\"GlyphRenderer\"},{\"attributes\":{\"days\":[1,4,7,10,13,16,19,22,25,28]},\"id\":\"68c46ca4-a333-4508-b043-b8e3e361ca10\",\"type\":\"DaysTicker\"},{\"attributes\":{\"plot\":null,\"text\":\"\"},\"id\":\"849e3caf-658a-473c-ae9f-2dcab426552e\",\"type\":\"Title\"},{\"attributes\":{\"callback\":null,\"column_names\":[\"x\",\"y\"],\"data\":{\"x\":{\"__ndarray__\":\"AAAAAAAAAAAxb2dIzNu5PzFvZ0jM28k/ZZNNNtlk0z8xb2dIzNvZP3+lQK1fKeA/ZZNNNtlk4z9LgVq/UqDmPzFvZ0jM2+k/F1100UUX7T9/pUCtXynwP3Icx3Ecx/E/ZZNNNtlk8z9YCtT6lQL1P0uBWr9SoPY/Pvjggw8++D8xb2dIzNv5PyTm7QyJefs/F1100UUX/T8K1PqVArX+P3+lQK1fKQBA+OCDDz74AEByHMdxHMcBQOtXCtT6lQJAZZNNNtlkA0DezpCYtzMEQFgK1PqVAgVA0UUXXXTRBUBLgVq/UqAGQMS8nSExbwdAPvjggw8+CEC3MyTm7QwJQDFvZ0jM2wlAq6qqqqqqCkAk5u0MiXkLQJ4hMW9nSAxAF1100UUXDUCRmLczJOYNQArU+pUCtQ5AhA8++OCDD0B/pUCtXykQQDtDYt7OkBBA+OCDDz74EEC1fqVArV8RQHIcx3EcxxFALrrooosuEkDrVwrU+pUSQKj1KwVq/RJAZZNNNtlkE0AiMW9nSMwTQN7OkJi3MxRAm2yyySabFEBYCtT6lQIVQBWo9SsFahVA0UUXXXTRFUCO4ziO4zgWQEuBWr9SoBZACB988MEHF0DEvJ0hMW8XQIFav1Kg1hdAPvjggw8+GED7lQK1fqUYQLczJObtDBlAdNFFF110GUAxb2dIzNsZQO4MiXk7QxpAq6qqqqqqGkBnSMzbGRIbQCTm7QyJeRtA4YMPPvjgG0CeITFvZ0gcQFq/UqDWrxxAF1100UUXHUDU+pUCtX4dQJGYtzMk5h1ATTbZZJNNHkAK1PqVArUeQMdxHMdxHB9AhA8++OCDH0BArV8pUOsfQH+lQK1fKSBAXXTRRRddIEA7Q2LezpAgQBoS83aGxCBA+OCDDz74IEDXrxSo9SshQLV+pUCtXyFAk0022WSTIUByHMdxHMchQFDrVwrU+iFALrrooosuIkANiXk7Q2IiQOtXCtT6lSJAyiabbLLJIkCo9SsFav0iQIbEvJ0hMSNAZZNNNtlkI0BDYt7OkJgjQCIxb2dIzCNAAAAAAAAAJEA=\",\"dtype\":\"float64\",\"shape\":[100]},\"y\":{\"__ndarray__\":\"AAAAAAAAAABWWTD1i9C5P1FTX5rcrsk/gsOxNjYZ0z9VYwJ3JinZPxcA895s994/joZ7TnE64j/qrfXjmcnkP2ssuWGCIuc/Iswnjgo/6T+RI+TArxnrP1BTS0Sbrew/3oUw9q727T8Xi+UGkPHuP/kGhbqvm+8/OPqkFVLz7z8TWwZkkvfvP5TacY1lqO8/kSusMpoG7z8wOzaS1hPuPz2qWDqU0uw/jV22kxlG6z8pMUFVcXLpP4gS3/dfXOc/1MdGRVcJ5T/m1IwiaH/iP8q16nZlit8/8e22b6rD2T9j8JxQsrnTPwFWfWl/+Mo/+7miP25uvD8ew57TVQ2FP7c2U+b2Mbe/NJcb8IdkyL+cMtDaNXjSv4gGHUH0jdi/BM5I1Z1j3r8dASM//PThv5J0Xo5MieS/fMX9lQTo5r9AD0Xy9Arpv5gfWUKK7Oq/hEBctduH7L9UjGrat9jtv9nTBZKv2+6/Gw5iBB+O778QwS6FNO7vv7NU4lL1+u+/vLAjJUC0778fSaaDzRrvv6PqleQtMO6/ehV7l8X27L+nYD+HxnHrv2I/nOMnpem/D922x5uV57/CVOv4gkjlv1aewt3ew+K/ZCe00UEO4L8DKjT9e13av93iNNGlWdS/wgS4cmdBzL8fFrKmiwu/v2He8+4MDZW/u4zZNsGStD+7ZD9aihnHP7P36Je11tE/W/DDABjy1z9jyIBZ/M7dP8e6gdUKr+E/qWzMAXFI5D//7Lop6KzmP7yvSOox1ug/Al+5UKq+6j+T7POSVmHsP14AZw7yue0/UWGMa/nE7j/0lfnIs3/vP+x2ENY56O8/b1zFynr97z+a4IMvP7/vP+dX8G0pLu8/1DgMKbRL7j8lnQ9hLhrtP1CyCm21nOs/N08I2izX6T+2POhENM7nPxy7bUkbh+U/z6j/pdMH4z+wXUa44VbgP6UpR/aW9to/VbjOZAz51D8WLl/Qi4nNP2bQXAjp08A//1m7LN2Snz/o7+kO/fKxv37G6czszcW/VIdizLk00b98w03tlVXXvzzw4HCMOd2/Uk/z9Z5o4b8=\",\"dtype\":\"float64\",\"shape\":[100]}}},\"id\":\"1ce84a93-34f2-4f82-81a0-d1ecb3999202\",\"type\":\"ColumnDataSource\"},{\"attributes\":{\"below\":[{\"id\":\"fd18c0c1-eb47-4cec-8ca9-8fede45440d4\",\"type\":\"LinearAxis\"}],\"left\":[{\"id\":\"16390962-d4b6-414f-bf11-6628ad25d4ca\",\"type\":\"LinearAxis\"}],\"renderers\":[{\"id\":\"fd18c0c1-eb47-4cec-8ca9-8fede45440d4\",\"type\":\"LinearAxis\"},{\"id\":\"f038b473-454c-4a92-86ce-e1925834f5e7\",\"type\":\"Grid\"},{\"id\":\"16390962-d4b6-414f-bf11-6628ad25d4ca\",\"type\":\"LinearAxis\"},{\"id\":\"6a6a54ea-e70a-4ebc-bba8-814aa4e40ee0\",\"type\":\"Grid\"},{\"id\":\"d39fded2-978d-4eb6-b553-2ee6863801ce\",\"type\":\"BoxAnnotation\"},{\"id\":\"911721f1-5048-4ec2-8d85-b1e11aa18a1a\",\"type\":\"GlyphRenderer\"}],\"title\":{\"id\":\"41482b1b-66d6-460e-95b2-30648d1840d3\",\"type\":\"Title\"},\"toolbar\":{\"id\":\"bfed095f-7faf-457a-976a-480a5cf32667\",\"type\":\"Toolbar\"},\"x_range\":{\"id\":\"469b55c1-30b0-42b8-8556-258dbce06215\",\"type\":\"DataRange1d\"},\"x_scale\":{\"id\":\"f1899ba9-25ed-4f20-b234-c4e610622b40\",\"type\":\"LinearScale\"},\"y_range\":{\"id\":\"477258b0-3313-4bab-9bd9-be26a8da0f8e\",\"type\":\"DataRange1d\"},\"y_scale\":{\"id\":\"4eaa3e81-5fbc-40bb-850c-aae40a7c2b28\",\"type\":\"LinearScale\"}},\"id\":\"c8e2b9ff-f06b-4b66-ad68-38060d914a37\",\"subtype\":\"Figure\",\"type\":\"Plot\"},{\"attributes\":{\"days\":[1,8,15,22]},\"id\":\"421f72e5-3729-4771-bdbd-2a4cf3b2e11b\",\"type\":\"DaysTicker\"},{\"attributes\":{},\"id\":\"a43a8623-e595-419b-8182-4713f3322290\",\"type\":\"BasicTickFormatter\"},{\"attributes\":{\"days\":[1,15]},\"id\":\"fc2d5625-f61d-4f0a-9610-23ead62147b0\",\"type\":\"DaysTicker\"},{\"attributes\":{\"bottom_units\":\"screen\",\"fill_alpha\":{\"value\":0.5},\"fill_color\":{\"value\":\"lightgrey\"},\"left_units\":\"screen\",\"level\":\"overlay\",\"line_alpha\":{\"value\":1.0},\"line_color\":{\"value\":\"black\"},\"line_dash\":[4,4],\"line_width\":{\"value\":2},\"plot\":null,\"render_mode\":\"css\",\"right_units\":\"screen\",\"top_units\":\"screen\"},\"id\":\"d39fded2-978d-4eb6-b553-2ee6863801ce\",\"type\":\"BoxAnnotation\"},{\"attributes\":{\"months\":[0,1,2,3,4,5,6,7,8,9,10,11]},\"id\":\"5e9e328b-2c33-4142-b0f2-825cc0dbf372\",\"type\":\"MonthsTicker\"},{\"attributes\":{\"active_drag\":\"auto\",\"active_inspect\":\"auto\",\"active_scroll\":\"auto\",\"active_tap\":\"auto\",\"tools\":[{\"id\":\"df044dac-4dfc-414d-b6be-9f82efa5f3d4\",\"type\":\"PanTool\"},{\"id\":\"02e78708-0159-43d9-b58a-392c0539b0a9\",\"type\":\"BoxSelectTool\"}]},\"id\":\"bfed095f-7faf-457a-976a-480a5cf32667\",\"type\":\"Toolbar\"},{\"attributes\":{\"months\":[0,2,4,6,8,10]},\"id\":\"4db81c6e-4f8e-4d97-8ad5-37871f39a8ac\",\"type\":\"MonthsTicker\"},{\"attributes\":{},\"id\":\"4eaa3e81-5fbc-40bb-850c-aae40a7c2b28\",\"type\":\"LinearScale\"},{\"attributes\":{\"months\":[0,4,8]},\"id\":\"02b4da3f-6b4f-42ea-8358-2bfdf193d7d0\",\"type\":\"MonthsTicker\"},{\"attributes\":{},\"id\":\"f1899ba9-25ed-4f20-b234-c4e610622b40\",\"type\":\"LinearScale\"},{\"attributes\":{\"months\":[0,6]},\"id\":\"e5e3641a-50fd-4228-bcc2-97f3660d0672\",\"type\":\"MonthsTicker\"},{\"attributes\":{\"callback\":null},\"id\":\"477258b0-3313-4bab-9bd9-be26a8da0f8e\",\"type\":\"DataRange1d\"},{\"attributes\":{},\"id\":\"da743196-8b62-4e7a-a416-98014fb3d12f\",\"type\":\"YearsTicker\"},{\"attributes\":{\"plot\":{\"id\":\"c8e2b9ff-f06b-4b66-ad68-38060d914a37\",\"subtype\":\"Figure\",\"type\":\"Plot\"},\"ticker\":{\"id\":\"686dcae2-13d9-4591-928b-c96f99adc7de\",\"type\":\"BasicTicker\"}},\"id\":\"f038b473-454c-4a92-86ce-e1925834f5e7\",\"type\":\"Grid\"},{\"attributes\":{\"fill_alpha\":{\"value\":0.1},\"fill_color\":{\"value\":\"#1f77b4\"},\"line_alpha\":{\"value\":0.1},\"line_color\":{\"value\":\"#1f77b4\"},\"size\":{\"units\":\"screen\",\"value\":8},\"x\":{\"field\":\"x\"},\"y\":{\"field\":\"y\"}},\"id\":\"7b22073a-bb8f-4272-9f25-8514ab9c634f\",\"type\":\"Circle\"},{\"attributes\":{\"formatter\":{\"id\":\"23825cab-b243-406e-be14-1932747fb4ec\",\"type\":\"BasicTickFormatter\"},\"plot\":{\"id\":\"c8e2b9ff-f06b-4b66-ad68-38060d914a37\",\"subtype\":\"Figure\",\"type\":\"Plot\"},\"ticker\":{\"id\":\"686dcae2-13d9-4591-928b-c96f99adc7de\",\"type\":\"BasicTicker\"}},\"id\":\"fd18c0c1-eb47-4cec-8ca9-8fede45440d4\",\"type\":\"LinearAxis\"},{\"attributes\":{\"below\":[{\"id\":\"66591007-c259-4714-9016-2c5a007f3294\",\"type\":\"LinearAxis\"}],\"left\":[{\"id\":\"53e68d96-d2d0-4dc3-bbcb-52f45ffe2455\",\"type\":\"LinearAxis\"}],\"renderers\":[{\"id\":\"66591007-c259-4714-9016-2c5a007f3294\",\"type\":\"LinearAxis\"},{\"id\":\"5a1104bc-72c1-4066-947e-7b34aaea10a5\",\"type\":\"Grid\"},{\"id\":\"53e68d96-d2d0-4dc3-bbcb-52f45ffe2455\",\"type\":\"LinearAxis\"},{\"id\":\"28346802-2a35-4e7c-b8e6-312b857cca34\",\"type\":\"Grid\"},{\"id\":\"8c700257-de94-4da3-ac1d-b2660f19f6f9\",\"type\":\"GlyphRenderer\"}],\"title\":{\"id\":\"83125df5-025c-4506-9767-e7a6a4cf6bc6\",\"type\":\"Title\"},\"toolbar\":{\"id\":\"aec50add-fc33-4808-8819-da16ff4cc0c1\",\"type\":\"Toolbar\"},\"toolbar_location\":null,\"x_range\":{\"id\":\"2bd44b14-89ed-4bb5-9db2-cfa78bea804c\",\"type\":\"DataRange1d\"},\"x_scale\":{\"id\":\"1a9a168c-2ac3-44ee-a877-3fb39ed82993\",\"type\":\"LinearScale\"},\"y_range\":{\"id\":\"c49c4c21-5342-4ddb-8c16-2a14affc5250\",\"type\":\"Range1d\"},\"y_scale\":{\"id\":\"41b1284d-6a80-4156-b6a9-d426085f1f97\",\"type\":\"LinearScale\"}},\"id\":\"f3197893-b144-42ba-825b-9c62ca4f25d9\",\"subtype\":\"Figure\",\"type\":\"Plot\"},{\"attributes\":{},\"id\":\"686dcae2-13d9-4591-928b-c96f99adc7de\",\"type\":\"BasicTicker\"},{\"attributes\":{\"plot\":null,\"text\":\"Sliders example\"},\"id\":\"83125df5-025c-4506-9767-e7a6a4cf6bc6\",\"type\":\"Title\"},{\"attributes\":{\"formatter\":{\"id\":\"a43a8623-e595-419b-8182-4713f3322290\",\"type\":\"BasicTickFormatter\"},\"plot\":{\"id\":\"c8e2b9ff-f06b-4b66-ad68-38060d914a37\",\"subtype\":\"Figure\",\"type\":\"Plot\"},\"ticker\":{\"id\":\"acc85d89-fdd6-421e-9e7d-a71f9c51cd89\",\"type\":\"BasicTicker\"}},\"id\":\"16390962-d4b6-414f-bf11-6628ad25d4ca\",\"type\":\"LinearAxis\"},{\"attributes\":{\"callback\":null},\"id\":\"2bd44b14-89ed-4bb5-9db2-cfa78bea804c\",\"type\":\"DataRange1d\"},{\"attributes\":{},\"id\":\"acc85d89-fdd6-421e-9e7d-a71f9c51cd89\",\"type\":\"BasicTicker\"},{\"attributes\":{\"active_drag\":\"auto\",\"active_inspect\":\"auto\",\"active_scroll\":\"auto\",\"active_tap\":\"auto\"},\"id\":\"aec50add-fc33-4808-8819-da16ff4cc0c1\",\"type\":\"Toolbar\"},{\"attributes\":{\"dimension\":1,\"plot\":{\"id\":\"c8e2b9ff-f06b-4b66-ad68-38060d914a37\",\"subtype\":\"Figure\",\"type\":\"Plot\"},\"ticker\":{\"id\":\"acc85d89-fdd6-421e-9e7d-a71f9c51cd89\",\"type\":\"BasicTicker\"}},\"id\":\"6a6a54ea-e70a-4ebc-bba8-814aa4e40ee0\",\"type\":\"Grid\"},{\"attributes\":{\"line_alpha\":0.6,\"line_color\":\"#1f77b4\",\"line_width\":3,\"x\":{\"field\":\"x\"},\"y\":{\"field\":\"y\"}},\"id\":\"cd8b38b8-7529-4029-afd9-a486749bf327\",\"type\":\"Line\"},{\"attributes\":{\"callback\":null,\"column_names\":[\"x\",\"y\"],\"data\":{\"x\":{\"__ndarray__\":\"AAAAAAAAAACRGkt8Vz/AP5EaS3xXP9A/2qdwOgNf2D+RGkt8Vz/gPzXhXVstT+Q/2qdwOgNf6D9+boMZ2W7sP5EaS3xXP/A/433Ua0JH8j814V1bLU/0P4dE50oYV/Y/2qdwOgNf+D8sC/op7mb6P35ugxnZbvw/0NEMCcR2/j+RGkt8Vz8AQDrMD/RMQwFA433Ua0JHAkCML5njN0sDQDXhXVstTwRA3pIi0yJTBUCHROdKGFcGQDD2q8INWwdA2qdwOgNfCECDWTWy+GIJQCwL+inuZgpA1by+oeNqC0B+boMZ2W4MQCcgSJHOcg1A0NEMCcR2DkB5g9GAuXoPQJEaS3xXPxBAZnMtOFLBEEA6zA/0TEMRQA8l8q9HxRFA433Ua0JHEkC41rYnPckSQIwvmeM3SxNAYYh7nzLNE0A14V1bLU8UQAo6QBco0RRA3pIi0yJTFUCz6wSPHdUVQIdE50oYVxZAXJ3JBhPZFkAw9qvCDVsXQAVPjn4I3RdA2qdwOgNfGECuAFP2/eAYQINZNbL4YhlAV7IXbvPkGUAsC/op7mYaQABk3OXo6BpA1by+oeNqG0CpFaFd3uwbQH5ugxnZbhxAUsdl1dPwHEAnIEiRznIdQPt4Kk3J9B1A0NEMCcR2HkCkKu/EvvgeQHmD0YC5eh9ATdyzPLT8H0CRGkt8Vz8gQPtGPNpUgCBAZnMtOFLBIEDQnx6WTwIhQDrMD/RMQyFApPgAUkqEIUAPJfKvR8UhQHlR4w1FBiJA433Ua0JHIkBNqsXJP4giQLjWtic9ySJAIgOohToKI0CML5njN0sjQPZbikE1jCNAYYh7nzLNI0DLtGz9Lw4kQDXhXVstTyRAoA1PuSqQJEAKOkAXKNEkQHRmMXUlEiVA3pIi0yJTJUBJvxMxIJQlQLPrBI8d1SVAHRj27BoWJkCHROdKGFcmQPJw2KgVmCZAXJ3JBhPZJkDGybpkEBonQDD2q8INWydAmyKdIAucJ0AFT45+CN0nQG97f9wFHihA2qdwOgNfKEBE1GGYAKAoQK4AU/b94ChAGC1EVPshKUA=\",\"dtype\":\"float64\",\"shape\":[100]},\"y\":{\"__ndarray__\":\"AAAAAAAA8D+yzYPRkeXxP7ihgYdrgfM/rb0yquzM9D/245G2v8L1P87bFRfwXvY/2iiqbvqe9j/kKcny1oH2P2p9E6r9B/Y/t9rofWQz9T/V4vYmdwf0P338ARYJifI/RdfykkG+8D9ETRXIBF3tPyugTMuSxOg/JsOhHxvG4z8XRefmX+zcP4TfmO5l1dE/2IAW3tnTuT9YVAYbRxi0v26sY4ZobNC/kDyhvhiP278fJw0IIiDjv8rnndrvKei/4klI9jTQ7L9i6ms85X/wvyB3ITG5U/K/nEtETQ/c879kyJx6lxL1v3a2nZlS8vW/jCxGFqd39r9Ikzy8b6D2v7IbDo0EbPa/VCYsdD3b9b+XNIXNbvD0vyX2CM1fr/O/Ewqe7jod8r/hQKSueEDwv7KoVMWJQey/OkhCQL6N57//x2pm7XjivwmD/egKMNq/WFreULgEzr/Qjtyf0basv8DQmYTCjb8/YDFTHT090z9zKk7fyUfePwQ64frNauQ/Br4PG51d6T/UmpIn8OftPyz+X62J+/A/JAqwLSe98j/wrAGOlDH0P+CqQLrTUvU/YiQQQD0c9j8rs4V6k4r2Pw41lOsPnPY/TXYpjGpQ9j9uO9/02qj1P8SNeVoTqPQ/wTrZcjVS8z/dcSFwwazxPxnyVbD+fO8/vXE0K8Ye6z+6a09r11DmP/7dFbP8JuE/QJmw0PVs1z8YNwvg51bIP4A3qsMi+oY/tJyl3I19xb9gjLYfHAnWv+4O12hWfOC/dgkSnTaw5b/Eiyd/wIrqv1M5qN/19+6/bg/Nc81y8b9c/veZwCHzv4mZSz7lgfS/nqNH2pCN9b9BMd7bdED2vxjtFmOwl/a/lMBYHdyR9r+wHoMNEC/2vww2BinjcPW/M3KRy2Ra9L+mR1EcEPDyv8K/p5i5N/G/fKrPIO5w7r87P/7sBPXpv0iCivwvDuW/bUUVRECh3788RM3h1qPUv0S1wErRosK/wBtiTTs7oT9AtNpTsC7LP5z1ygVNz9g/audXAYjQ4T/buikNCPDmP2xZBmcMses//P//////7z8=\",\"dtype\":\"float64\",\"shape\":[100]}}},\"id\":\"5c328209-02a0-4204-a415-6aaac3eb263a\",\"type\":\"ColumnDataSource\"},{\"attributes\":{},\"id\":\"1a9a168c-2ac3-44ee-a877-3fb39ed82993\",\"type\":\"LinearScale\"},{\"attributes\":{},\"id\":\"df044dac-4dfc-414d-b6be-9f82efa5f3d4\",\"type\":\"PanTool\"},{\"attributes\":{\"callback\":null,\"end\":10,\"start\":-10},\"id\":\"c49c4c21-5342-4ddb-8c16-2a14affc5250\",\"type\":\"Range1d\"},{\"attributes\":{\"fill_alpha\":{\"value\":0.5},\"fill_color\":{\"value\":\"olive\"},\"line_alpha\":{\"value\":0.5},\"line_color\":{\"value\":\"olive\"},\"size\":{\"units\":\"screen\",\"value\":8},\"x\":{\"field\":\"x\"},\"y\":{\"field\":\"y\"}},\"id\":\"114e727c-854d-43f8-98dd-1b8db1789131\",\"type\":\"Circle\"},{\"attributes\":{},\"id\":\"41b1284d-6a80-4156-b6a9-d426085f1f97\",\"type\":\"LinearScale\"},{\"attributes\":{\"callback\":null,\"overlay\":{\"id\":\"d39fded2-978d-4eb6-b553-2ee6863801ce\",\"type\":\"BoxAnnotation\"},\"renderers\":[{\"id\":\"911721f1-5048-4ec2-8d85-b1e11aa18a1a\",\"type\":\"GlyphRenderer\"}]},\"id\":\"02e78708-0159-43d9-b58a-392c0539b0a9\",\"type\":\"BoxSelectTool\"},{\"attributes\":{\"plot\":{\"id\":\"f3197893-b144-42ba-825b-9c62ca4f25d9\",\"subtype\":\"Figure\",\"type\":\"Plot\"},\"ticker\":{\"id\":\"e0fb14f6-12da-4088-bb14-84527f34a411\",\"type\":\"BasicTicker\"}},\"id\":\"5a1104bc-72c1-4066-947e-7b34aaea10a5\",\"type\":\"Grid\"},{\"attributes\":{\"source\":{\"id\":\"5c328209-02a0-4204-a415-6aaac3eb263a\",\"type\":\"ColumnDataSource\"}},\"id\":\"3213a833-54eb-4047-9deb-46e3b318ad1a\",\"type\":\"CDSView\"},{\"attributes\":{\"formatter\":{\"id\":\"2a4f242d-db00-4ee5-90b9-95a0bce83ba5\",\"type\":\"BasicTickFormatter\"},\"plot\":{\"id\":\"f3197893-b144-42ba-825b-9c62ca4f25d9\",\"subtype\":\"Figure\",\"type\":\"Plot\"},\"ticker\":{\"id\":\"e0fb14f6-12da-4088-bb14-84527f34a411\",\"type\":\"BasicTicker\"}},\"id\":\"66591007-c259-4714-9016-2c5a007f3294\",\"type\":\"LinearAxis\"},{\"attributes\":{\"data_source\":{\"id\":\"5c328209-02a0-4204-a415-6aaac3eb263a\",\"type\":\"ColumnDataSource\"},\"glyph\":{\"id\":\"114e727c-854d-43f8-98dd-1b8db1789131\",\"type\":\"Circle\"},\"hover_glyph\":null,\"muted_glyph\":null,\"nonselection_glyph\":{\"id\":\"42c873f1-814b-450b-a345-4a659ff2c27f\",\"type\":\"Circle\"},\"selection_glyph\":null,\"view\":{\"id\":\"3213a833-54eb-4047-9deb-46e3b318ad1a\",\"type\":\"CDSView\"}},\"id\":\"911721f1-5048-4ec2-8d85-b1e11aa18a1a\",\"type\":\"GlyphRenderer\"},{\"attributes\":{},\"id\":\"e0fb14f6-12da-4088-bb14-84527f34a411\",\"type\":\"BasicTicker\"},{\"attributes\":{\"fill_alpha\":{\"value\":0.1},\"fill_color\":{\"value\":\"#1f77b4\"},\"line_alpha\":{\"value\":0.1},\"line_color\":{\"value\":\"#1f77b4\"},\"size\":{\"units\":\"screen\",\"value\":8},\"x\":{\"field\":\"x\"},\"y\":{\"field\":\"y\"}},\"id\":\"42c873f1-814b-450b-a345-4a659ff2c27f\",\"type\":\"Circle\"},{\"attributes\":{\"formatter\":{\"id\":\"f2966724-4ff8-4c7f-ab93-45c8b4482690\",\"type\":\"BasicTickFormatter\"},\"plot\":{\"id\":\"f3197893-b144-42ba-825b-9c62ca4f25d9\",\"subtype\":\"Figure\",\"type\":\"Plot\"},\"ticker\":{\"id\":\"4ac8b0a9-b0a4-4a62-970c-35c0d767b40e\",\"type\":\"BasicTicker\"}},\"id\":\"53e68d96-d2d0-4dc3-bbcb-52f45ffe2455\",\"type\":\"LinearAxis\"},{\"attributes\":{},\"id\":\"23825cab-b243-406e-be14-1932747fb4ec\",\"type\":\"BasicTickFormatter\"},{\"attributes\":{},\"id\":\"4ac8b0a9-b0a4-4a62-970c-35c0d767b40e\",\"type\":\"BasicTicker\"},{\"attributes\":{\"children\":[{\"id\":\"14ac6d00-c92f-481b-b7d1-3bb575ac7e84\",\"subtype\":\"Figure\",\"type\":\"Plot\"}]},\"id\":\"9547d3ec-c887-4abb-81b9-74f6428364a8\",\"type\":\"Row\"},{\"attributes\":{\"dimension\":1,\"plot\":{\"id\":\"f3197893-b144-42ba-825b-9c62ca4f25d9\",\"subtype\":\"Figure\",\"type\":\"Plot\"},\"ticker\":{\"id\":\"4ac8b0a9-b0a4-4a62-970c-35c0d767b40e\",\"type\":\"BasicTicker\"}},\"id\":\"28346802-2a35-4e7c-b8e6-312b857cca34\",\"type\":\"Grid\"},{\"attributes\":{},\"id\":\"f2966724-4ff8-4c7f-ab93-45c8b4482690\",\"type\":\"BasicTickFormatter\"},{\"attributes\":{\"plot\":null,\"text\":\"\"},\"id\":\"41482b1b-66d6-460e-95b2-30648d1840d3\",\"type\":\"Title\"},{\"attributes\":{\"line_alpha\":0.1,\"line_color\":\"#1f77b4\",\"line_width\":3,\"x\":{\"field\":\"x\"},\"y\":{\"field\":\"y\"}},\"id\":\"80674459-44a1-429d-9577-cc38b84dcc6b\",\"type\":\"Line\"},{\"attributes\":{\"children\":[{\"id\":\"b007a119-9746-42a0-87f4-bf784496bda0\",\"subtype\":\"Figure\",\"type\":\"Plot\"},{\"id\":\"6d86bfcf-8bf2-4be0-afee-cbf438d0b7e5\",\"subtype\":\"Figure\",\"type\":\"Plot\"},{\"id\":\"c8e2b9ff-f06b-4b66-ad68-38060d914a37\",\"subtype\":\"Figure\",\"type\":\"Plot\"}]},\"id\":\"effee408-25e6-4e37-8498-768b3da88941\",\"type\":\"Row\"},{\"attributes\":{\"data_source\":{\"id\":\"1ce84a93-34f2-4f82-81a0-d1ecb3999202\",\"type\":\"ColumnDataSource\"},\"glyph\":{\"id\":\"cd8b38b8-7529-4029-afd9-a486749bf327\",\"type\":\"Line\"},\"hover_glyph\":null,\"muted_glyph\":null,\"nonselection_glyph\":{\"id\":\"80674459-44a1-429d-9577-cc38b84dcc6b\",\"type\":\"Line\"},\"selection_glyph\":null,\"view\":{\"id\":\"21aec8d3-18d6-4d4b-97dd-bb55a01d6f35\",\"type\":\"CDSView\"}},\"id\":\"8c700257-de94-4da3-ac1d-b2660f19f6f9\",\"type\":\"GlyphRenderer\"},{\"attributes\":{\"children\":[{\"id\":\"9547d3ec-c887-4abb-81b9-74f6428364a8\",\"type\":\"Row\"},{\"id\":\"4fda3c2f-74b0-4f88-af33-43efe80ec3b5\",\"type\":\"Row\"},{\"id\":\"effee408-25e6-4e37-8498-768b3da88941\",\"type\":\"Row\"}]},\"id\":\"855cf92a-25da-4bc3-be68-77c4a5eb0fa1\",\"type\":\"Column\"},{\"attributes\":{\"source\":{\"id\":\"1ce84a93-34f2-4f82-81a0-d1ecb3999202\",\"type\":\"ColumnDataSource\"}},\"id\":\"21aec8d3-18d6-4d4b-97dd-bb55a01d6f35\",\"type\":\"CDSView\"},{\"attributes\":{\"args\":{\"amp\":{\"id\":\"c4385c72-2704-43d6-a8fe-bdf8f8e46ba0\",\"type\":\"Slider\"},\"freq\":{\"id\":\"4bfff49f-2ddc-465c-936f-82aaf72c654e\",\"type\":\"Slider\"},\"offset\":{\"id\":\"fbbddf58-f25a-44c4-8f52-9c069c2b1c5c\",\"type\":\"Slider\"},\"phase\":{\"id\":\"1ae2553d-0662-4d54-9412-1c0efb63dc32\",\"type\":\"Slider\"},\"source\":{\"id\":\"1ce84a93-34f2-4f82-81a0-d1ecb3999202\",\"type\":\"ColumnDataSource\"}},\"code\":\"\\n        var data = source.data;\\n        var A = amp.value;\\n        var k = freq.value;\\n        var phi = phase.value;\\n        var B = offset.value;\\n        x = data['x']\\n        y = data['y']\\n        for (i = 0; i < x.length; i++) {\\n            y[i] = B + A*Math.sin(k*x[i]+phi);\\n        }\\n        source.change.emit();\\n    \"},\"id\":\"dd712848-c59b-4e81-8009-86fdee0134d0\",\"type\":\"CustomJS\"},{\"attributes\":{},\"id\":\"2a4f242d-db00-4ee5-90b9-95a0bce83ba5\",\"type\":\"BasicTickFormatter\"},{\"attributes\":{\"children\":[{\"id\":\"5cf01a53-84f7-4071-a629-394c77e0ec71\",\"type\":\"WidgetBox\"},{\"id\":\"f3197893-b144-42ba-825b-9c62ca4f25d9\",\"subtype\":\"Figure\",\"type\":\"Plot\"}]},\"id\":\"4fda3c2f-74b0-4f88-af33-43efe80ec3b5\",\"type\":\"Row\"},{\"attributes\":{\"below\":[{\"id\":\"aa180902-276a-4899-b2cb-5269b60a10dc\",\"type\":\"LinearAxis\"}],\"left\":[{\"id\":\"d17d959e-ee52-4c3c-b1fc-8860e8667990\",\"type\":\"LinearAxis\"}],\"renderers\":[{\"id\":\"aa180902-276a-4899-b2cb-5269b60a10dc\",\"type\":\"LinearAxis\"},{\"id\":\"88c6b0bb-7760-4327-8d86-ebe00449f267\",\"type\":\"Grid\"},{\"id\":\"d17d959e-ee52-4c3c-b1fc-8860e8667990\",\"type\":\"LinearAxis\"},{\"id\":\"76b7718f-c281-432f-896c-939472b48f95\",\"type\":\"Grid\"},{\"id\":\"9bd14299-da0f-4764-94ad-721021be92eb\",\"type\":\"GlyphRenderer\"}],\"title\":{\"id\":\"5a84ded1-b69b-4293-a511-94f8818700ff\",\"type\":\"Title\"},\"toolbar\":{\"id\":\"81d8517c-6071-43e9-ac8b-561907d87c1f\",\"type\":\"Toolbar\"},\"x_range\":{\"id\":\"469b55c1-30b0-42b8-8556-258dbce06215\",\"type\":\"DataRange1d\"},\"x_scale\":{\"id\":\"bf34b47f-c7a4-4bc6-ab16-29f80534151e\",\"type\":\"LinearScale\"},\"y_range\":{\"id\":\"711ab51f-1aa5-4496-878e-9b724eafeb0a\",\"type\":\"DataRange1d\"},\"y_scale\":{\"id\":\"d65f02c7-f52c-41ad-94ae-7ceb9c923005\",\"type\":\"LinearScale\"}},\"id\":\"b007a119-9746-42a0-87f4-bf784496bda0\",\"subtype\":\"Figure\",\"type\":\"Plot\"},{\"attributes\":{\"callback\":{\"id\":\"dd712848-c59b-4e81-8009-86fdee0134d0\",\"type\":\"CustomJS\"},\"end\":6.4,\"start\":0,\"step\":0.1,\"title\":\"Phase\",\"value\":0},\"id\":\"1ae2553d-0662-4d54-9412-1c0efb63dc32\",\"type\":\"Slider\"},{\"attributes\":{\"callback\":{\"id\":\"dd712848-c59b-4e81-8009-86fdee0134d0\",\"type\":\"CustomJS\"},\"callback_policy\":\"mouseup\",\"end\":10,\"start\":0.1,\"step\":0.1,\"title\":\"Amplitude\",\"value\":1},\"id\":\"c4385c72-2704-43d6-a8fe-bdf8f8e46ba0\",\"type\":\"Slider\"},{\"attributes\":{\"children\":[{\"id\":\"c4385c72-2704-43d6-a8fe-bdf8f8e46ba0\",\"type\":\"Slider\"},{\"id\":\"4bfff49f-2ddc-465c-936f-82aaf72c654e\",\"type\":\"Slider\"},{\"id\":\"1ae2553d-0662-4d54-9412-1c0efb63dc32\",\"type\":\"Slider\"},{\"id\":\"fbbddf58-f25a-44c4-8f52-9c069c2b1c5c\",\"type\":\"Slider\"}]},\"id\":\"5cf01a53-84f7-4071-a629-394c77e0ec71\",\"type\":\"WidgetBox\"},{\"attributes\":{\"callback\":{\"id\":\"dd712848-c59b-4e81-8009-86fdee0134d0\",\"type\":\"CustomJS\"},\"end\":5,\"start\":-5,\"step\":0.1,\"title\":\"Offset\",\"value\":0},\"id\":\"fbbddf58-f25a-44c4-8f52-9c069c2b1c5c\",\"type\":\"Slider\"},{\"attributes\":{\"callback\":{\"id\":\"dd712848-c59b-4e81-8009-86fdee0134d0\",\"type\":\"CustomJS\"},\"end\":10,\"start\":0.1,\"step\":0.1,\"title\":\"Frequency\",\"value\":1},\"id\":\"4bfff49f-2ddc-465c-936f-82aaf72c654e\",\"type\":\"Slider\"},{\"attributes\":{\"active_drag\":\"auto\",\"active_inspect\":\"auto\",\"active_scroll\":\"auto\",\"active_tap\":\"auto\",\"tools\":[{\"id\":\"7e0967e8-86e5-4c9e-a129-171428347ce2\",\"type\":\"PanTool\"}]},\"id\":\"81d8517c-6071-43e9-ac8b-561907d87c1f\",\"type\":\"Toolbar\"},{\"attributes\":{\"callback\":null,\"column_names\":[\"x\",\"y\"],\"data\":{\"x\":{\"__ndarray__\":\"AAAAAAAAAACRGkt8Vz/AP5EaS3xXP9A/2qdwOgNf2D+RGkt8Vz/gPzXhXVstT+Q/2qdwOgNf6D9+boMZ2W7sP5EaS3xXP/A/433Ua0JH8j814V1bLU/0P4dE50oYV/Y/2qdwOgNf+D8sC/op7mb6P35ugxnZbvw/0NEMCcR2/j+RGkt8Vz8AQDrMD/RMQwFA433Ua0JHAkCML5njN0sDQDXhXVstTwRA3pIi0yJTBUCHROdKGFcGQDD2q8INWwdA2qdwOgNfCECDWTWy+GIJQCwL+inuZgpA1by+oeNqC0B+boMZ2W4MQCcgSJHOcg1A0NEMCcR2DkB5g9GAuXoPQJEaS3xXPxBAZnMtOFLBEEA6zA/0TEMRQA8l8q9HxRFA433Ua0JHEkC41rYnPckSQIwvmeM3SxNAYYh7nzLNE0A14V1bLU8UQAo6QBco0RRA3pIi0yJTFUCz6wSPHdUVQIdE50oYVxZAXJ3JBhPZFkAw9qvCDVsXQAVPjn4I3RdA2qdwOgNfGECuAFP2/eAYQINZNbL4YhlAV7IXbvPkGUAsC/op7mYaQABk3OXo6BpA1by+oeNqG0CpFaFd3uwbQH5ugxnZbhxAUsdl1dPwHEAnIEiRznIdQPt4Kk3J9B1A0NEMCcR2HkCkKu/EvvgeQHmD0YC5eh9ATdyzPLT8H0CRGkt8Vz8gQPtGPNpUgCBAZnMtOFLBIEDQnx6WTwIhQDrMD/RMQyFApPgAUkqEIUAPJfKvR8UhQHlR4w1FBiJA433Ua0JHIkBNqsXJP4giQLjWtic9ySJAIgOohToKI0CML5njN0sjQPZbikE1jCNAYYh7nzLNI0DLtGz9Lw4kQDXhXVstTyRAoA1PuSqQJEAKOkAXKNEkQHRmMXUlEiVA3pIi0yJTJUBJvxMxIJQlQLPrBI8d1SVAHRj27BoWJkCHROdKGFcmQPJw2KgVmCZAXJ3JBhPZJkDGybpkEBonQDD2q8INWydAmyKdIAucJ0AFT45+CN0nQG97f9wFHihA2qdwOgNfKEBE1GGYAKAoQK4AU/b94ChAGC1EVPshKUA=\",\"dtype\":\"float64\",\"shape\":[100]},\"y\":{\"__ndarray__\":\"AAAAAAAAAADwgwJ4LjTAP5qI2QHPEtA/+5MNU1HJ1z8ZTT7q2B3fP0aFmgwa+eI/ABg/lCAV5j+IQCEcMdboP3fOhmLzMOs/EyzujrQb7T/9Izwlj47uPxccgYyLg+8/g6xao7j27z9mZrL8O+bvP7+X94FZUu8/xVNiW3I97j9RB8Ai+6vsP5FWKYlppOo/oSg6uxkv6D/Sh2bxK1blPyZGRbpaJeI/8qg+VZVT3T/4C4p0qOPVP+UppLIiM8w/3FNHxZdVuD/J23zJpD6gv+3ENsZjOcS/wo12/ecH0r/dgWKM2KjZv2MTsJELcOC/83ixWvXH47+358MBZM7mv5eCD4nhdum/rExY6Hq267+TIxAn7YPtvwSssILL1+6/70I4BJ6s77/vOc8G+P7vvzTGy1KGze+/3176khQZ77/C8a4NiuTtvzGcHq/dNOy/l0FFlgER6r+EGZN4xoHnvx8WPFK3keS/Cli7+O1M4b+HQNqEwoHbv9kfIiFb+NO/gKyggGI5yL8EhrXMjDywvyGGtcyMPLA/jqyggGI5yD/gHyIhW/jTP4BA2oTCgds/DVi7+O1M4T8cFjxSt5HkP4cZk3jGgec/lUFFlgER6j8ynB6v3TTsP8Hxrg2K5O0/4F76khQZ7z80xstShs3vP+85zwb4/u8/8EI4BJ6s7z8DrLCCy9fuP5UjECftg+0/p0xY6Hq26z+Vgg+J4XbpP7fnwwFkzuY/9nixWvXH4z9dE7CRC3DgP9eBYozYqNk/w412/ecH0j/+xDbGYznEP0/bfMmkPqA/+FNHxZdVuL/UKaSyIjPMv+gLinSo49W/+Kg+VZVT3b8lRkW6WiXiv8+HZvErVuW/pig6uxkv6L+TVimJaaTqv1EHwCL7q+y/xFNiW3I97r/Al/eBWVLvv2Zmsvw75u+/g6xao7j2778YHIGMi4Pvv/sjPCWPju6/EyzujrQb7b94zoZi8zDrv4xAIRwx1ui//Bc/lCAV5r9GhZoMGvnivx5NPurYHd+/65MNU1HJ17+SiNkBzxLQv/GDAnguNMC/B1wUMyamwbw=\",\"dtype\":\"float64\",\"shape\":[100]}}},\"id\":\"3f118a20-6517-4d0b-a082-5ebfb80086c8\",\"type\":\"ColumnDataSource\"},{\"attributes\":{\"formatter\":{\"id\":\"01051f3c-f7a9-484f-9e20-a9ef4361f85e\",\"type\":\"DatetimeTickFormatter\"},\"plot\":{\"id\":\"14ac6d00-c92f-481b-b7d1-3bb575ac7e84\",\"subtype\":\"Figure\",\"type\":\"Plot\"},\"ticker\":{\"id\":\"b3704414-476c-46c1-96b4-a97348689ad9\",\"type\":\"DatetimeTicker\"}},\"id\":\"b11ed476-eb3d-42af-bf11-e940e693bcb1\",\"type\":\"DatetimeAxis\"},{\"attributes\":{\"callback\":null},\"id\":\"469b55c1-30b0-42b8-8556-258dbce06215\",\"type\":\"DataRange1d\"},{\"attributes\":{},\"id\":\"7e0967e8-86e5-4c9e-a129-171428347ce2\",\"type\":\"PanTool\"},{\"attributes\":{\"callback\":null},\"id\":\"711ab51f-1aa5-4496-878e-9b724eafeb0a\",\"type\":\"DataRange1d\"},{\"attributes\":{},\"id\":\"bf34b47f-c7a4-4bc6-ab16-29f80534151e\",\"type\":\"LinearScale\"},{\"attributes\":{},\"id\":\"d65f02c7-f52c-41ad-94ae-7ceb9c923005\",\"type\":\"LinearScale\"},{\"attributes\":{\"callback\":null,\"column_names\":[\"x\",\"y\"],\"data\":{\"x\":{\"__ndarray__\":\"AQAAAAIAAAADAAAABAAAAAUAAAAGAAAABwAAAAgAAAAJAAAACgAAAAsAAAAMAAAADQAAAA4AAAAPAAAAEAAAABEAAAASAAAAEwAAABQAAAAVAAAAFgAAABcAAAAYAAAAGQAAABoAAAAbAAAAHAAAAB0AAAAeAAAAHwAAACAAAAAhAAAAIgAAACMAAAAkAAAAJQAAACYAAAAnAAAAKAAAACkAAAAqAAAAKwAAACwAAAAtAAAALgAAAC8AAAAwAAAAMQAAADIAAAAzAAAANAAAADUAAAA2AAAANwAAADgAAAA5AAAAOgAAADsAAAA8AAAAPQAAAD4AAAA/AAAAQAAAAEEAAABCAAAAQwAAAEQAAABFAAAARgAAAEcAAABIAAAASQAAAEoAAABLAAAATAAAAE0AAABOAAAATwAAAFAAAABRAAAAUgAAAFMAAABUAAAAVQAAAFYAAABXAAAAWAAAAFkAAABaAAAAWwAAAFwAAABdAAAAXgAAAF8AAABgAAAAYQAAAGIAAABjAAAAZAAAAGQAAABjAAAAYgAAAGEAAABgAAAAXwAAAF4AAABdAAAAXAAAAFsAAABaAAAAWQAAAFgAAABXAAAAVgAAAFUAAABUAAAAUwAAAFIAAABRAAAAUAAAAE8AAABOAAAATQAAAEwAAABLAAAASgAAAEkAAABIAAAARwAAAEYAAABFAAAARAAAAEMAAABCAAAAQQAAAEAAAAA/AAAAPgAAAD0AAAA8AAAAOwAAADoAAAA5AAAAOAAAADcAAAA2AAAANQAAADQAAAAzAAAAMgAAADEAAAAwAAAALwAAAC4AAAAtAAAALAAAACsAAAAqAAAAKQAAACgAAAAnAAAAJgAAACUAAAAkAAAAIwAAACIAAAAhAAAAIAAAAB8AAAAeAAAAHQAAABwAAAAbAAAAGgAAABkAAAAYAAAAFwAAABYAAAAVAAAAFAAAABMAAAASAAAAEQAAABAAAAAPAAAADgAAAA0AAAAMAAAACwAAAAoAAAAJAAAACAAAAAcAAAAGAAAABQAAAAQAAAADAAAAAgAAAAEAAAA=\",\"dtype\":\"int32\",\"shape\":[200]},\"y\":{\"__ndarray__\":\"IgAAACkAAAAmAAAAKAAAACIAAAAwAAAABAAAADEAAAARAAAADwAAAAYAAAAuAAAAMAAAAAcAAAAuAAAAFQAAABYAAAAHAAAAHwAAABMAAAALAAAAHQAAAAIAAAAYAAAAAwAAACoAAAAAAAAADgAAAAYAAAAMAAAAJwAAAAMAAAAqAAAAJwAAABEAAAAMAAAAGgAAAAEAAAArAAAAEQAAAAEAAAAsAAAAAQAAAA8AAAApAAAAKAAAABMAAAAqAAAAJwAAAAsAAAANAAAAAgAAACcAAAAbAAAAJQAAACoAAAANAAAAAgAAACgAAAAUAAAAFwAAACQAAAAjAAAAFQAAAC8AAAAlAAAAEwAAAAEAAAAJAAAAMAAAAAIAAAApAAAAIQAAAAMAAAAdAAAALQAAACYAAAAjAAAAJQAAACoAAAAtAAAADwAAABsAAAAnAAAABgAAABUAAAAdAAAALwAAAC4AAAALAAAAKAAAACAAAAAQAAAAEAAAAC0AAAASAAAAJgAAACEAAAAFAAAAFQAAAHkAAABpAAAAhQAAAIoAAAB2AAAAkQAAAHQAAAB0AAAAhAAAAIwAAABvAAAAkgAAAJMAAACBAAAAeQAAAGoAAACLAAAAfwAAAHMAAACRAAAAjgAAAIkAAACHAAAAigAAAJEAAACBAAAAZwAAAIUAAACNAAAAZgAAAJQAAABtAAAAZQAAAHcAAACJAAAAkwAAAHkAAACHAAAAiAAAAHsAAAB4AAAAjAAAAGYAAABxAAAAjgAAAIkAAAB/AAAAiwAAAGYAAABxAAAAbwAAAIsAAACOAAAAdwAAAIwAAACNAAAAcwAAAGUAAACQAAAAZQAAAHUAAACPAAAAZQAAAH4AAABwAAAAdQAAAIsAAACOAAAAZwAAAIsAAABwAAAAagAAAHIAAABkAAAAjgAAAGcAAAB8AAAAZgAAAIEAAABvAAAAdwAAAIMAAABrAAAAegAAAHkAAACSAAAAawAAAJQAAACSAAAAagAAAHMAAAB1AAAAlQAAAGgAAACUAAAAhgAAAIwAAACKAAAAjQAAAIYAAAA=\",\"dtype\":\"int32\",\"shape\":[200]}}},\"id\":\"c35c19b5-300a-4462-9ec0-d7255701905d\",\"type\":\"ColumnDataSource\"},{\"attributes\":{\"below\":[{\"id\":\"b11ed476-eb3d-42af-bf11-e940e693bcb1\",\"type\":\"DatetimeAxis\"}],\"left\":[{\"id\":\"c168e9cb-a8e3-4dcf-9fab-965245608b4a\",\"type\":\"LinearAxis\"}],\"plot_width\":800,\"renderers\":[{\"id\":\"b11ed476-eb3d-42af-bf11-e940e693bcb1\",\"type\":\"DatetimeAxis\"},{\"id\":\"c4720ca2-256d-4ed5-8c5d-8ad2d00439a4\",\"type\":\"Grid\"},{\"id\":\"c168e9cb-a8e3-4dcf-9fab-965245608b4a\",\"type\":\"LinearAxis\"},{\"id\":\"41201bbd-cd52-4f66-bc66-15e1e096ae66\",\"type\":\"Grid\"},{\"id\":\"3de8cbde-0031-4345-998e-d44a01f7d504\",\"type\":\"GlyphRenderer\"}],\"title\":{\"id\":\"14963a5c-1894-4cc5-a017-fe01e1967504\",\"type\":\"Title\"},\"title_location\":\"left\",\"toolbar\":{\"id\":\"d616988b-eec4-487a-870c-a0594a3e0c9d\",\"type\":\"Toolbar\"},\"x_range\":{\"id\":\"4fcfffe3-da33-4cd1-87e1-9b0e29fc36e6\",\"type\":\"DataRange1d\"},\"x_scale\":{\"id\":\"73bec594-802b-4dc4-9c13-96be76c8369d\",\"type\":\"LinearScale\"},\"y_range\":{\"id\":\"4e99bafc-63be-4b9c-910e-e2086e7068dd\",\"type\":\"DataRange1d\"},\"y_scale\":{\"id\":\"881b09a7-7250-47af-8486-903dbfe2ca41\",\"type\":\"LinearScale\"}},\"id\":\"14ac6d00-c92f-481b-b7d1-3bb575ac7e84\",\"subtype\":\"Figure\",\"type\":\"Plot\"},{\"attributes\":{\"plot\":{\"id\":\"b007a119-9746-42a0-87f4-bf784496bda0\",\"subtype\":\"Figure\",\"type\":\"Plot\"},\"ticker\":{\"id\":\"b0cbe37b-cec0-4499-a699-ef53017a7182\",\"type\":\"BasicTicker\"}},\"id\":\"88c6b0bb-7760-4327-8d86-ebe00449f267\",\"type\":\"Grid\"},{\"attributes\":{\"formatter\":{\"id\":\"75254802-5e84-456e-8cae-8092ef05cd30\",\"type\":\"BasicTickFormatter\"},\"plot\":{\"id\":\"b007a119-9746-42a0-87f4-bf784496bda0\",\"subtype\":\"Figure\",\"type\":\"Plot\"},\"ticker\":{\"id\":\"b0cbe37b-cec0-4499-a699-ef53017a7182\",\"type\":\"BasicTicker\"}},\"id\":\"aa180902-276a-4899-b2cb-5269b60a10dc\",\"type\":\"LinearAxis\"},{\"attributes\":{\"source\":{\"id\":\"3f118a20-6517-4d0b-a082-5ebfb80086c8\",\"type\":\"ColumnDataSource\"}},\"id\":\"b77fef0e-52cb-4346-a806-b19d8670d1a3\",\"type\":\"CDSView\"},{\"attributes\":{\"active_drag\":\"auto\",\"active_inspect\":\"auto\",\"active_scroll\":\"auto\",\"active_tap\":\"auto\",\"tools\":[{\"id\":\"8892f297-0b8e-443c-9937-edee109f8b2b\",\"type\":\"PanTool\"}]},\"id\":\"d616988b-eec4-487a-870c-a0594a3e0c9d\",\"type\":\"Toolbar\"},{\"attributes\":{},\"id\":\"b0cbe37b-cec0-4499-a699-ef53017a7182\",\"type\":\"BasicTicker\"},{\"attributes\":{\"callback\":null},\"id\":\"4fcfffe3-da33-4cd1-87e1-9b0e29fc36e6\",\"type\":\"DataRange1d\"},{\"attributes\":{\"formatter\":{\"id\":\"1c1433e1-4c84-4555-b2f0-0078b68015ce\",\"type\":\"BasicTickFormatter\"},\"plot\":{\"id\":\"b007a119-9746-42a0-87f4-bf784496bda0\",\"subtype\":\"Figure\",\"type\":\"Plot\"},\"ticker\":{\"id\":\"2cc5a6d9-1219-44f3-9cad-b80a10f50dfd\",\"type\":\"BasicTicker\"}},\"id\":\"d17d959e-ee52-4c3c-b1fc-8860e8667990\",\"type\":\"LinearAxis\"},{\"attributes\":{\"formatter\":{\"id\":\"d035e2c1-bb6b-467c-a9c4-f98c21bb9656\",\"type\":\"BasicTickFormatter\"},\"plot\":{\"id\":\"14ac6d00-c92f-481b-b7d1-3bb575ac7e84\",\"subtype\":\"Figure\",\"type\":\"Plot\"},\"ticker\":{\"id\":\"b08d92dd-c4fd-4749-b2cf-42d1edbfb7fa\",\"type\":\"BasicTicker\"}},\"id\":\"c168e9cb-a8e3-4dcf-9fab-965245608b4a\",\"type\":\"LinearAxis\"},{\"attributes\":{},\"id\":\"2cc5a6d9-1219-44f3-9cad-b80a10f50dfd\",\"type\":\"BasicTicker\"},{\"attributes\":{\"callback\":null},\"id\":\"4e99bafc-63be-4b9c-910e-e2086e7068dd\",\"type\":\"DataRange1d\"},{\"attributes\":{\"dimension\":1,\"plot\":{\"id\":\"b007a119-9746-42a0-87f4-bf784496bda0\",\"subtype\":\"Figure\",\"type\":\"Plot\"},\"ticker\":{\"id\":\"2cc5a6d9-1219-44f3-9cad-b80a10f50dfd\",\"type\":\"BasicTicker\"}},\"id\":\"76b7718f-c281-432f-896c-939472b48f95\",\"type\":\"Grid\"},{\"attributes\":{},\"id\":\"73bec594-802b-4dc4-9c13-96be76c8369d\",\"type\":\"LinearScale\"},{\"attributes\":{\"fill_alpha\":{\"value\":0.5},\"fill_color\":{\"value\":\"navy\"},\"line_alpha\":{\"value\":0.5},\"line_color\":{\"value\":\"navy\"},\"size\":{\"units\":\"screen\",\"value\":8},\"x\":{\"field\":\"x\"},\"y\":{\"field\":\"y\"}},\"id\":\"f8e32c21-cf2f-4bcb-8aac-887318dd899d\",\"type\":\"Circle\"},{\"attributes\":{},\"id\":\"881b09a7-7250-47af-8486-903dbfe2ca41\",\"type\":\"LinearScale\"},{\"attributes\":{\"fill_alpha\":{\"value\":0.1},\"fill_color\":{\"value\":\"#1f77b4\"},\"line_alpha\":{\"value\":0.1},\"line_color\":{\"value\":\"#1f77b4\"},\"size\":{\"units\":\"screen\",\"value\":8},\"x\":{\"field\":\"x\"},\"y\":{\"field\":\"y\"}},\"id\":\"20bdd7c3-268f-427b-ba80-1328403933dd\",\"type\":\"Circle\"},{\"attributes\":{\"grid_line_alpha\":{\"value\":0.4},\"plot\":{\"id\":\"14ac6d00-c92f-481b-b7d1-3bb575ac7e84\",\"subtype\":\"Figure\",\"type\":\"Plot\"},\"ticker\":{\"id\":\"b3704414-476c-46c1-96b4-a97348689ad9\",\"type\":\"DatetimeTicker\"}},\"id\":\"c4720ca2-256d-4ed5-8c5d-8ad2d00439a4\",\"type\":\"Grid\"},{\"attributes\":{\"plot\":null,\"text\":\"\"},\"id\":\"5a84ded1-b69b-4293-a511-94f8818700ff\",\"type\":\"Title\"},{\"attributes\":{\"data_source\":{\"id\":\"3f118a20-6517-4d0b-a082-5ebfb80086c8\",\"type\":\"ColumnDataSource\"},\"glyph\":{\"id\":\"f8e32c21-cf2f-4bcb-8aac-887318dd899d\",\"type\":\"Circle\"},\"hover_glyph\":null,\"muted_glyph\":null,\"nonselection_glyph\":{\"id\":\"20bdd7c3-268f-427b-ba80-1328403933dd\",\"type\":\"Circle\"},\"selection_glyph\":null,\"view\":{\"id\":\"b77fef0e-52cb-4346-a806-b19d8670d1a3\",\"type\":\"CDSView\"}},\"id\":\"9bd14299-da0f-4764-94ad-721021be92eb\",\"type\":\"GlyphRenderer\"},{\"attributes\":{\"num_minor_ticks\":5,\"tickers\":[{\"id\":\"ba21a554-d1c4-4eac-b092-05f9f714e9ef\",\"type\":\"AdaptiveTicker\"},{\"id\":\"934c9ecb-bed4-4688-bc7e-ecc926f6b51d\",\"type\":\"AdaptiveTicker\"},{\"id\":\"21919e05-9dc1-4c76-be95-88fe49e94584\",\"type\":\"AdaptiveTicker\"},{\"id\":\"6c7e96b9-09d7-4491-8a81-943468002ea7\",\"type\":\"DaysTicker\"},{\"id\":\"68c46ca4-a333-4508-b043-b8e3e361ca10\",\"type\":\"DaysTicker\"},{\"id\":\"421f72e5-3729-4771-bdbd-2a4cf3b2e11b\",\"type\":\"DaysTicker\"},{\"id\":\"fc2d5625-f61d-4f0a-9610-23ead62147b0\",\"type\":\"DaysTicker\"},{\"id\":\"5e9e328b-2c33-4142-b0f2-825cc0dbf372\",\"type\":\"MonthsTicker\"},{\"id\":\"4db81c6e-4f8e-4d97-8ad5-37871f39a8ac\",\"type\":\"MonthsTicker\"},{\"id\":\"02b4da3f-6b4f-42ea-8358-2bfdf193d7d0\",\"type\":\"MonthsTicker\"},{\"id\":\"e5e3641a-50fd-4228-bcc2-97f3660d0672\",\"type\":\"MonthsTicker\"},{\"id\":\"da743196-8b62-4e7a-a416-98014fb3d12f\",\"type\":\"YearsTicker\"}]},\"id\":\"b3704414-476c-46c1-96b4-a97348689ad9\",\"type\":\"DatetimeTicker\"}],\"root_ids\":[\"855cf92a-25da-4bc3-be68-77c4a5eb0fa1\"]},\"title\":\"Bokeh Application\",\"version\":\"0.12.13\"}};\n",
       "  var render_items = [{\"docid\":\"2d0b2f64-822e-40da-9f60-d8a02cbe938b\",\"elementid\":\"8f7131d7-1d28-49db-8ec2-430dc7d54fdf\",\"modelid\":\"855cf92a-25da-4bc3-be68-77c4a5eb0fa1\"}];\n",
       "  root.Bokeh.embed.embed_items_notebook(docs_json, render_items);\n",
       "\n",
       "  }\n",
       "  if (root.Bokeh !== undefined) {\n",
       "    embed_document(root);\n",
       "  } else {\n",
       "    var attempts = 0;\n",
       "    var timer = setInterval(function(root) {\n",
       "      if (root.Bokeh !== undefined) {\n",
       "        embed_document(root);\n",
       "        clearInterval(timer);\n",
       "      }\n",
       "      attempts++;\n",
       "      if (attempts > 100) {\n",
       "        console.log(\"Bokeh: ERROR: Unable to run BokehJS code because BokehJS library is missing\")\n",
       "        clearInterval(timer);\n",
       "      }\n",
       "    }, 10, root)\n",
       "  }\n",
       "})(window);"
      ],
      "application/vnd.bokehjs_exec.v0+json": ""
     },
     "metadata": {
      "application/vnd.bokehjs_exec.v0+json": {
       "id": "855cf92a-25da-4bc3-be68-77c4a5eb0fa1"
      }
     },
     "output_type": "display_data"
    }
   ],
   "source": [
    "from bokeh.layouts import layout\n",
    "from bokeh.models import CustomJS, Slider, ColumnDataSource, WidgetBox \n",
    "\n",
    "tools = 'pan'\n",
    "\n",
    "def bollinger():\n",
    "    # Define Bollinger Bands.\n",
    "    upperband = np.random.randint(100, 150, size=100)\n",
    "    lowerband = upperband - 100\n",
    "    x_data = np.arange(1, 101)\n",
    "\n",
    "    # Bollinger shading glyph:\n",
    "    band_x = np.append(x_data, x_data[::-1])\n",
    "    band_y = np.append(lowerband, upperband[::-1])\n",
    "\n",
    "    p = figure(x_axis_type='datetime', tools=tools)\n",
    "    p.patch(band_x, band_y, color='#7570B3', fill_alpha=0.2)\n",
    "\n",
    "    p.title.text = 'Bollinger Bands'\n",
    "    p.title_location = 'left'\n",
    "    p.title.align = 'left'\n",
    "    p.plot_height = 600\n",
    "    p.plot_width = 800\n",
    "    p.grid.grid_line_alpha = 0.4\n",
    "    return [p]\n",
    "\n",
    "\n",
    "def slider():\n",
    "    x = np.linspace(0, 10, 100)\n",
    "    y = np.sin(x)\n",
    "\n",
    "    source = ColumnDataSource(data=dict(x=x, y=y))\n",
    "\n",
    "    plot = figure(y_range=(-10, 10), tools='',\n",
    "                  toolbar_location=None\n",
    "                  ,title=\"Sliders example\")\n",
    "    plot.line('x', 'y', source=source, line_width=3, line_alpha=0.6)\n",
    "\n",
    "    callback = CustomJS(args=dict(source=source), code=\"\"\"\n",
    "        var data = source.data;\n",
    "        var A = amp.value;\n",
    "        var k = freq.value;\n",
    "        var phi = phase.value;\n",
    "        var B = offset.value;\n",
    "        x = data['x']\n",
    "        y = data['y']\n",
    "        for (i = 0; i < x.length; i++) {\n",
    "            y[i] = B + A*Math.sin(k*x[i]+phi);\n",
    "        }\n",
    "        source.change.emit();\n",
    "    \"\"\")\n",
    "\n",
    "    amp_slider = Slider(start=0.1, end=10, value=1, step=.1, title=\"Amplitude\", callback=callback, callback_policy='mouseup')\n",
    "    callback.args[\"amp\"] = amp_slider\n",
    "\n",
    "    freq_slider = Slider(start=0.1, end=10, value=1, step=.1, title=\"Frequency\", callback=callback)\n",
    "    callback.args[\"freq\"] = freq_slider\n",
    "\n",
    "    phase_slider = Slider(start=0, end=6.4, value=0, step=.1, title=\"Phase\", callback=callback)\n",
    "    callback.args[\"phase\"] = phase_slider\n",
    "\n",
    "    offset_slider = Slider(start=-5, end=5, value=0, step=.1, title=\"Offset\", callback=callback)\n",
    "    callback.args[\"offset\"] = offset_slider\n",
    "\n",
    "    widgets = WidgetBox(amp_slider, freq_slider, phase_slider, offset_slider)\n",
    "    return [widgets, plot]\n",
    "\n",
    "\n",
    "def linked_panning():\n",
    "    N = 100\n",
    "    x = np.linspace(0, 4 * np.pi, N)\n",
    "    y1 = np.sin(x)\n",
    "    y2 = np.cos(x)\n",
    "    y3 = np.sin(x) + np.cos(x)\n",
    "\n",
    "    s1 = figure(tools=tools)\n",
    "    s1.circle(x, y1, color=\"navy\", size=8, alpha=0.5)\n",
    "    s2 = figure(tools=tools, x_range=s1.x_range, y_range=s1.y_range)\n",
    "    s2.circle(x, y2, color=\"firebrick\", size=8, alpha=0.5)\n",
    "    s3 = figure(tools='pan, box_select', x_range=s1.x_range)\n",
    "    s3.circle(x, y3, color=\"olive\", size=8, alpha=0.5)\n",
    "    return [s1, s2, s3]\n",
    "\n",
    "l = layout([bollinger(), slider(), linked_panning()], \n",
    "           sizing_mode='fixed') \n",
    "\n",
    "show(l)"
   ]
  },
  {
   "cell_type": "markdown",
   "metadata": {},
   "source": [
    "    sizing_mode (``\"fixed\"``, ``\"stretch_both\"``, ``\"scale_width\"``, ``\"scale_height\"``, ``\"scale_both\"`` ): How\n",
    "        will the items in the layout resize to fill the available space.\n",
    "        Default is ``\"fixed\"``. For more information on the different\n",
    "        modes see :attr:`~bokeh.models.layouts.LayoutDOM.sizing_mode`\n",
    "        description on :class:`~bokeh.models.layouts.LayoutDOM`."
   ]
  }
 ],
 "metadata": {
  "kernelspec": {
   "display_name": "Python 3",
   "language": "python",
   "name": "python3"
  },
  "language_info": {
   "codemirror_mode": {
    "name": "ipython",
    "version": 3
   },
   "file_extension": ".py",
   "mimetype": "text/x-python",
   "name": "python",
   "nbconvert_exporter": "python",
   "pygments_lexer": "ipython3",
   "version": "3.6.4"
  }
 },
 "nbformat": 4,
 "nbformat_minor": 2
}
