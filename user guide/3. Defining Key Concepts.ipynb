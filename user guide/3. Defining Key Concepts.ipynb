{
 "cells": [
  {
   "cell_type": "markdown",
   "metadata": {},
   "source": [
    "# Defining Key Concepts\n",
    "https://bokeh.pydata.org/en/latest/docs/user_guide/concepts.html"
   ]
  },
  {
   "cell_type": "code",
   "execution_count": 1,
   "metadata": {},
   "outputs": [
    {
     "name": "stdout",
     "output_type": "stream",
     "text": [
      "Populating the interactive namespace from numpy and matplotlib\n"
     ]
    },
    {
     "data": {
      "text/html": [
       "\n",
       "    <div class=\"bk-root\">\n",
       "        <a href=\"https://bokeh.pydata.org\" target=\"_blank\" class=\"bk-logo bk-logo-small bk-logo-notebook\"></a>\n",
       "        <span id=\"ee5c1cc3-498f-4393-a16c-26567fa50201\">Loading BokehJS ...</span>\n",
       "    </div>"
      ]
     },
     "metadata": {},
     "output_type": "display_data"
    },
    {
     "data": {
      "application/javascript": [
       "\n",
       "(function(root) {\n",
       "  function now() {\n",
       "    return new Date();\n",
       "  }\n",
       "\n",
       "  var force = true;\n",
       "\n",
       "  if (typeof (root._bokeh_onload_callbacks) === \"undefined\" || force === true) {\n",
       "    root._bokeh_onload_callbacks = [];\n",
       "    root._bokeh_is_loading = undefined;\n",
       "  }\n",
       "\n",
       "  var JS_MIME_TYPE = 'application/javascript';\n",
       "  var HTML_MIME_TYPE = 'text/html';\n",
       "  var EXEC_MIME_TYPE = 'application/vnd.bokehjs_exec.v0+json';\n",
       "  var CLASS_NAME = 'output_bokeh rendered_html';\n",
       "\n",
       "  /**\n",
       "   * Render data to the DOM node\n",
       "   */\n",
       "  function render(props, node) {\n",
       "    var script = document.createElement(\"script\");\n",
       "    node.appendChild(script);\n",
       "  }\n",
       "\n",
       "  /**\n",
       "   * Handle when an output is cleared or removed\n",
       "   */\n",
       "  function handleClearOutput(event, handle) {\n",
       "    var cell = handle.cell;\n",
       "\n",
       "    var id = cell.output_area._bokeh_element_id;\n",
       "    var server_id = cell.output_area._bokeh_server_id;\n",
       "    // Clean up Bokeh references\n",
       "    if (id !== undefined) {\n",
       "      Bokeh.index[id].model.document.clear();\n",
       "      delete Bokeh.index[id];\n",
       "    }\n",
       "\n",
       "    if (server_id !== undefined) {\n",
       "      // Clean up Bokeh references\n",
       "      var cmd = \"from bokeh.io.state import curstate; print(curstate().uuid_to_server['\" + server_id + \"'].get_sessions()[0].document.roots[0]._id)\";\n",
       "      cell.notebook.kernel.execute(cmd, {\n",
       "        iopub: {\n",
       "          output: function(msg) {\n",
       "            var element_id = msg.content.text.trim();\n",
       "            Bokeh.index[element_id].model.document.clear();\n",
       "            delete Bokeh.index[element_id];\n",
       "          }\n",
       "        }\n",
       "      });\n",
       "      // Destroy server and session\n",
       "      var cmd = \"import bokeh.io.notebook as ion; ion.destroy_server('\" + server_id + \"')\";\n",
       "      cell.notebook.kernel.execute(cmd);\n",
       "    }\n",
       "  }\n",
       "\n",
       "  /**\n",
       "   * Handle when a new output is added\n",
       "   */\n",
       "  function handleAddOutput(event, handle) {\n",
       "    var output_area = handle.output_area;\n",
       "    var output = handle.output;\n",
       "\n",
       "    // limit handleAddOutput to display_data with EXEC_MIME_TYPE content only\n",
       "    if ((output.output_type != \"display_data\") || (!output.data.hasOwnProperty(EXEC_MIME_TYPE))) {\n",
       "      return\n",
       "    }\n",
       "\n",
       "    var toinsert = output_area.element.find(\".\" + CLASS_NAME.split(' ')[0]);\n",
       "\n",
       "    if (output.metadata[EXEC_MIME_TYPE][\"id\"] !== undefined) {\n",
       "      toinsert[0].firstChild.textContent = output.data[JS_MIME_TYPE];\n",
       "      // store reference to embed id on output_area\n",
       "      output_area._bokeh_element_id = output.metadata[EXEC_MIME_TYPE][\"id\"];\n",
       "    }\n",
       "    if (output.metadata[EXEC_MIME_TYPE][\"server_id\"] !== undefined) {\n",
       "      var bk_div = document.createElement(\"div\");\n",
       "      bk_div.innerHTML = output.data[HTML_MIME_TYPE];\n",
       "      var script_attrs = bk_div.children[0].attributes;\n",
       "      for (var i = 0; i < script_attrs.length; i++) {\n",
       "        toinsert[0].firstChild.setAttribute(script_attrs[i].name, script_attrs[i].value);\n",
       "      }\n",
       "      // store reference to server id on output_area\n",
       "      output_area._bokeh_server_id = output.metadata[EXEC_MIME_TYPE][\"server_id\"];\n",
       "    }\n",
       "  }\n",
       "\n",
       "  function register_renderer(events, OutputArea) {\n",
       "\n",
       "    function append_mime(data, metadata, element) {\n",
       "      // create a DOM node to render to\n",
       "      var toinsert = this.create_output_subarea(\n",
       "        metadata,\n",
       "        CLASS_NAME,\n",
       "        EXEC_MIME_TYPE\n",
       "      );\n",
       "      this.keyboard_manager.register_events(toinsert);\n",
       "      // Render to node\n",
       "      var props = {data: data, metadata: metadata[EXEC_MIME_TYPE]};\n",
       "      render(props, toinsert[0]);\n",
       "      element.append(toinsert);\n",
       "      return toinsert\n",
       "    }\n",
       "\n",
       "    /* Handle when an output is cleared or removed */\n",
       "    events.on('clear_output.CodeCell', handleClearOutput);\n",
       "    events.on('delete.Cell', handleClearOutput);\n",
       "\n",
       "    /* Handle when a new output is added */\n",
       "    events.on('output_added.OutputArea', handleAddOutput);\n",
       "\n",
       "    /**\n",
       "     * Register the mime type and append_mime function with output_area\n",
       "     */\n",
       "    OutputArea.prototype.register_mime_type(EXEC_MIME_TYPE, append_mime, {\n",
       "      /* Is output safe? */\n",
       "      safe: true,\n",
       "      /* Index of renderer in `output_area.display_order` */\n",
       "      index: 0\n",
       "    });\n",
       "  }\n",
       "\n",
       "  // register the mime type if in Jupyter Notebook environment and previously unregistered\n",
       "  if (root.Jupyter !== undefined) {\n",
       "    var events = require('base/js/events');\n",
       "    var OutputArea = require('notebook/js/outputarea').OutputArea;\n",
       "\n",
       "    if (OutputArea.prototype.mime_types().indexOf(EXEC_MIME_TYPE) == -1) {\n",
       "      register_renderer(events, OutputArea);\n",
       "    }\n",
       "  }\n",
       "\n",
       "  \n",
       "  if (typeof (root._bokeh_timeout) === \"undefined\" || force === true) {\n",
       "    root._bokeh_timeout = Date.now() + 5000;\n",
       "    root._bokeh_failed_load = false;\n",
       "  }\n",
       "\n",
       "  var NB_LOAD_WARNING = {'data': {'text/html':\n",
       "     \"<div style='background-color: #fdd'>\\n\"+\n",
       "     \"<p>\\n\"+\n",
       "     \"BokehJS does not appear to have successfully loaded. If loading BokehJS from CDN, this \\n\"+\n",
       "     \"may be due to a slow or bad network connection. Possible fixes:\\n\"+\n",
       "     \"</p>\\n\"+\n",
       "     \"<ul>\\n\"+\n",
       "     \"<li>re-rerun `output_notebook()` to attempt to load from CDN again, or</li>\\n\"+\n",
       "     \"<li>use INLINE resources instead, as so:</li>\\n\"+\n",
       "     \"</ul>\\n\"+\n",
       "     \"<code>\\n\"+\n",
       "     \"from bokeh.resources import INLINE\\n\"+\n",
       "     \"output_notebook(resources=INLINE)\\n\"+\n",
       "     \"</code>\\n\"+\n",
       "     \"</div>\"}};\n",
       "\n",
       "  function display_loaded() {\n",
       "    var el = document.getElementById(\"ee5c1cc3-498f-4393-a16c-26567fa50201\");\n",
       "    if (el != null) {\n",
       "      el.textContent = \"BokehJS is loading...\";\n",
       "    }\n",
       "    if (root.Bokeh !== undefined) {\n",
       "      if (el != null) {\n",
       "        el.textContent = \"BokehJS \" + root.Bokeh.version + \" successfully loaded.\";\n",
       "      }\n",
       "    } else if (Date.now() < root._bokeh_timeout) {\n",
       "      setTimeout(display_loaded, 100)\n",
       "    }\n",
       "  }\n",
       "\n",
       "\n",
       "  function run_callbacks() {\n",
       "    try {\n",
       "      root._bokeh_onload_callbacks.forEach(function(callback) { callback() });\n",
       "    }\n",
       "    finally {\n",
       "      delete root._bokeh_onload_callbacks\n",
       "    }\n",
       "    console.info(\"Bokeh: all callbacks have finished\");\n",
       "  }\n",
       "\n",
       "  function load_libs(js_urls, callback) {\n",
       "    root._bokeh_onload_callbacks.push(callback);\n",
       "    if (root._bokeh_is_loading > 0) {\n",
       "      console.log(\"Bokeh: BokehJS is being loaded, scheduling callback at\", now());\n",
       "      return null;\n",
       "    }\n",
       "    if (js_urls == null || js_urls.length === 0) {\n",
       "      run_callbacks();\n",
       "      return null;\n",
       "    }\n",
       "    console.log(\"Bokeh: BokehJS not loaded, scheduling load and callback at\", now());\n",
       "    root._bokeh_is_loading = js_urls.length;\n",
       "    for (var i = 0; i < js_urls.length; i++) {\n",
       "      var url = js_urls[i];\n",
       "      var s = document.createElement('script');\n",
       "      s.src = url;\n",
       "      s.async = false;\n",
       "      s.onreadystatechange = s.onload = function() {\n",
       "        root._bokeh_is_loading--;\n",
       "        if (root._bokeh_is_loading === 0) {\n",
       "          console.log(\"Bokeh: all BokehJS libraries loaded\");\n",
       "          run_callbacks()\n",
       "        }\n",
       "      };\n",
       "      s.onerror = function() {\n",
       "        console.warn(\"failed to load library \" + url);\n",
       "      };\n",
       "      console.log(\"Bokeh: injecting script tag for BokehJS library: \", url);\n",
       "      document.getElementsByTagName(\"head\")[0].appendChild(s);\n",
       "    }\n",
       "  };var element = document.getElementById(\"ee5c1cc3-498f-4393-a16c-26567fa50201\");\n",
       "  if (element == null) {\n",
       "    console.log(\"Bokeh: ERROR: autoload.js configured with elementid 'ee5c1cc3-498f-4393-a16c-26567fa50201' but no matching script tag was found. \")\n",
       "    return false;\n",
       "  }\n",
       "\n",
       "  var js_urls = [\"https://cdn.pydata.org/bokeh/release/bokeh-0.12.13.min.js\", \"https://cdn.pydata.org/bokeh/release/bokeh-widgets-0.12.13.min.js\", \"https://cdn.pydata.org/bokeh/release/bokeh-tables-0.12.13.min.js\", \"https://cdn.pydata.org/bokeh/release/bokeh-gl-0.12.13.min.js\"];\n",
       "\n",
       "  var inline_js = [\n",
       "    function(Bokeh) {\n",
       "      Bokeh.set_log_level(\"info\");\n",
       "    },\n",
       "    \n",
       "    function(Bokeh) {\n",
       "      \n",
       "    },\n",
       "    function(Bokeh) {\n",
       "      console.log(\"Bokeh: injecting CSS: https://cdn.pydata.org/bokeh/release/bokeh-0.12.13.min.css\");\n",
       "      Bokeh.embed.inject_css(\"https://cdn.pydata.org/bokeh/release/bokeh-0.12.13.min.css\");\n",
       "      console.log(\"Bokeh: injecting CSS: https://cdn.pydata.org/bokeh/release/bokeh-widgets-0.12.13.min.css\");\n",
       "      Bokeh.embed.inject_css(\"https://cdn.pydata.org/bokeh/release/bokeh-widgets-0.12.13.min.css\");\n",
       "      console.log(\"Bokeh: injecting CSS: https://cdn.pydata.org/bokeh/release/bokeh-tables-0.12.13.min.css\");\n",
       "      Bokeh.embed.inject_css(\"https://cdn.pydata.org/bokeh/release/bokeh-tables-0.12.13.min.css\");\n",
       "    }\n",
       "  ];\n",
       "\n",
       "  function run_inline_js() {\n",
       "    \n",
       "    if ((root.Bokeh !== undefined) || (force === true)) {\n",
       "      for (var i = 0; i < inline_js.length; i++) {\n",
       "        inline_js[i].call(root, root.Bokeh);\n",
       "      }if (force === true) {\n",
       "        display_loaded();\n",
       "      }} else if (Date.now() < root._bokeh_timeout) {\n",
       "      setTimeout(run_inline_js, 100);\n",
       "    } else if (!root._bokeh_failed_load) {\n",
       "      console.log(\"Bokeh: BokehJS failed to load within specified timeout.\");\n",
       "      root._bokeh_failed_load = true;\n",
       "    } else if (force !== true) {\n",
       "      var cell = $(document.getElementById(\"ee5c1cc3-498f-4393-a16c-26567fa50201\")).parents('.cell').data().cell;\n",
       "      cell.output_area.append_execute_result(NB_LOAD_WARNING)\n",
       "    }\n",
       "\n",
       "  }\n",
       "\n",
       "  if (root._bokeh_is_loading === 0) {\n",
       "    console.log(\"Bokeh: BokehJS loaded, going straight to plotting\");\n",
       "    run_inline_js();\n",
       "  } else {\n",
       "    load_libs(js_urls, function() {\n",
       "      console.log(\"Bokeh: BokehJS plotting callback run at\", now());\n",
       "      run_inline_js();\n",
       "    });\n",
       "  }\n",
       "}(window));"
      ],
      "application/vnd.bokehjs_load.v0+json": "\n(function(root) {\n  function now() {\n    return new Date();\n  }\n\n  var force = true;\n\n  if (typeof (root._bokeh_onload_callbacks) === \"undefined\" || force === true) {\n    root._bokeh_onload_callbacks = [];\n    root._bokeh_is_loading = undefined;\n  }\n\n  \n\n  \n  if (typeof (root._bokeh_timeout) === \"undefined\" || force === true) {\n    root._bokeh_timeout = Date.now() + 5000;\n    root._bokeh_failed_load = false;\n  }\n\n  var NB_LOAD_WARNING = {'data': {'text/html':\n     \"<div style='background-color: #fdd'>\\n\"+\n     \"<p>\\n\"+\n     \"BokehJS does not appear to have successfully loaded. If loading BokehJS from CDN, this \\n\"+\n     \"may be due to a slow or bad network connection. Possible fixes:\\n\"+\n     \"</p>\\n\"+\n     \"<ul>\\n\"+\n     \"<li>re-rerun `output_notebook()` to attempt to load from CDN again, or</li>\\n\"+\n     \"<li>use INLINE resources instead, as so:</li>\\n\"+\n     \"</ul>\\n\"+\n     \"<code>\\n\"+\n     \"from bokeh.resources import INLINE\\n\"+\n     \"output_notebook(resources=INLINE)\\n\"+\n     \"</code>\\n\"+\n     \"</div>\"}};\n\n  function display_loaded() {\n    var el = document.getElementById(\"ee5c1cc3-498f-4393-a16c-26567fa50201\");\n    if (el != null) {\n      el.textContent = \"BokehJS is loading...\";\n    }\n    if (root.Bokeh !== undefined) {\n      if (el != null) {\n        el.textContent = \"BokehJS \" + root.Bokeh.version + \" successfully loaded.\";\n      }\n    } else if (Date.now() < root._bokeh_timeout) {\n      setTimeout(display_loaded, 100)\n    }\n  }\n\n\n  function run_callbacks() {\n    try {\n      root._bokeh_onload_callbacks.forEach(function(callback) { callback() });\n    }\n    finally {\n      delete root._bokeh_onload_callbacks\n    }\n    console.info(\"Bokeh: all callbacks have finished\");\n  }\n\n  function load_libs(js_urls, callback) {\n    root._bokeh_onload_callbacks.push(callback);\n    if (root._bokeh_is_loading > 0) {\n      console.log(\"Bokeh: BokehJS is being loaded, scheduling callback at\", now());\n      return null;\n    }\n    if (js_urls == null || js_urls.length === 0) {\n      run_callbacks();\n      return null;\n    }\n    console.log(\"Bokeh: BokehJS not loaded, scheduling load and callback at\", now());\n    root._bokeh_is_loading = js_urls.length;\n    for (var i = 0; i < js_urls.length; i++) {\n      var url = js_urls[i];\n      var s = document.createElement('script');\n      s.src = url;\n      s.async = false;\n      s.onreadystatechange = s.onload = function() {\n        root._bokeh_is_loading--;\n        if (root._bokeh_is_loading === 0) {\n          console.log(\"Bokeh: all BokehJS libraries loaded\");\n          run_callbacks()\n        }\n      };\n      s.onerror = function() {\n        console.warn(\"failed to load library \" + url);\n      };\n      console.log(\"Bokeh: injecting script tag for BokehJS library: \", url);\n      document.getElementsByTagName(\"head\")[0].appendChild(s);\n    }\n  };var element = document.getElementById(\"ee5c1cc3-498f-4393-a16c-26567fa50201\");\n  if (element == null) {\n    console.log(\"Bokeh: ERROR: autoload.js configured with elementid 'ee5c1cc3-498f-4393-a16c-26567fa50201' but no matching script tag was found. \")\n    return false;\n  }\n\n  var js_urls = [\"https://cdn.pydata.org/bokeh/release/bokeh-0.12.13.min.js\", \"https://cdn.pydata.org/bokeh/release/bokeh-widgets-0.12.13.min.js\", \"https://cdn.pydata.org/bokeh/release/bokeh-tables-0.12.13.min.js\", \"https://cdn.pydata.org/bokeh/release/bokeh-gl-0.12.13.min.js\"];\n\n  var inline_js = [\n    function(Bokeh) {\n      Bokeh.set_log_level(\"info\");\n    },\n    \n    function(Bokeh) {\n      \n    },\n    function(Bokeh) {\n      console.log(\"Bokeh: injecting CSS: https://cdn.pydata.org/bokeh/release/bokeh-0.12.13.min.css\");\n      Bokeh.embed.inject_css(\"https://cdn.pydata.org/bokeh/release/bokeh-0.12.13.min.css\");\n      console.log(\"Bokeh: injecting CSS: https://cdn.pydata.org/bokeh/release/bokeh-widgets-0.12.13.min.css\");\n      Bokeh.embed.inject_css(\"https://cdn.pydata.org/bokeh/release/bokeh-widgets-0.12.13.min.css\");\n      console.log(\"Bokeh: injecting CSS: https://cdn.pydata.org/bokeh/release/bokeh-tables-0.12.13.min.css\");\n      Bokeh.embed.inject_css(\"https://cdn.pydata.org/bokeh/release/bokeh-tables-0.12.13.min.css\");\n    }\n  ];\n\n  function run_inline_js() {\n    \n    if ((root.Bokeh !== undefined) || (force === true)) {\n      for (var i = 0; i < inline_js.length; i++) {\n        inline_js[i].call(root, root.Bokeh);\n      }if (force === true) {\n        display_loaded();\n      }} else if (Date.now() < root._bokeh_timeout) {\n      setTimeout(run_inline_js, 100);\n    } else if (!root._bokeh_failed_load) {\n      console.log(\"Bokeh: BokehJS failed to load within specified timeout.\");\n      root._bokeh_failed_load = true;\n    } else if (force !== true) {\n      var cell = $(document.getElementById(\"ee5c1cc3-498f-4393-a16c-26567fa50201\")).parents('.cell').data().cell;\n      cell.output_area.append_execute_result(NB_LOAD_WARNING)\n    }\n\n  }\n\n  if (root._bokeh_is_loading === 0) {\n    console.log(\"Bokeh: BokehJS loaded, going straight to plotting\");\n    run_inline_js();\n  } else {\n    load_libs(js_urls, function() {\n      console.log(\"Bokeh: BokehJS plotting callback run at\", now());\n      run_inline_js();\n    });\n  }\n}(window));"
     },
     "metadata": {},
     "output_type": "display_data"
    }
   ],
   "source": [
    "%pylab inline\n",
    "import bokeh\n",
    "from bokeh.plotting import figure, show #, output_file\n",
    "from bokeh.io import output_notebook\n",
    "\n",
    "output_notebook()"
   ]
  },
  {
   "cell_type": "code",
   "execution_count": 6,
   "metadata": {},
   "outputs": [],
   "source": [
    "p = figure(width=360, height=360)"
   ]
  },
  {
   "cell_type": "code",
   "execution_count": 7,
   "metadata": {},
   "outputs": [
    {
     "name": "stderr",
     "output_type": "stream",
     "text": [
      "W-1001 (NO_DATA_RENDERERS): Plot has no data renderers: Figure(id='f889467c-efc6-4c7f-b049-42f65d6f76c4', ...)\n"
     ]
    },
    {
     "data": {
      "text/html": [
       "\n",
       "<div class=\"bk-root\">\n",
       "    <div class=\"bk-plotdiv\" id=\"f3319465-66d9-47e2-8143-fa99b3ce3742\"></div>\n",
       "</div>"
      ]
     },
     "metadata": {},
     "output_type": "display_data"
    },
    {
     "data": {
      "application/javascript": [
       "(function(root) {\n",
       "  function embed_document(root) {\n",
       "    \n",
       "  var docs_json = {\"537dbaca-4a6f-47ca-af35-6272c033f31b\":{\"roots\":{\"references\":[{\"attributes\":{},\"id\":\"e82f9cb3-dabe-47e3-82d1-6e6d5bd890a6\",\"type\":\"HelpTool\"},{\"attributes\":{\"bottom_units\":\"screen\",\"fill_alpha\":{\"value\":0.5},\"fill_color\":{\"value\":\"lightgrey\"},\"left_units\":\"screen\",\"level\":\"overlay\",\"line_alpha\":{\"value\":1.0},\"line_color\":{\"value\":\"black\"},\"line_dash\":[4,4],\"line_width\":{\"value\":2},\"plot\":null,\"render_mode\":\"css\",\"right_units\":\"screen\",\"top_units\":\"screen\"},\"id\":\"a47feebc-be3e-4e43-8398-1f403ee59b53\",\"type\":\"BoxAnnotation\"},{\"attributes\":{\"plot\":null,\"text\":\"\"},\"id\":\"b93c7cb1-cee5-4579-8a98-3fa5e156ef37\",\"type\":\"Title\"},{\"attributes\":{},\"id\":\"3c74c2cf-3473-47be-b6b4-fa126df0701e\",\"type\":\"BasicTickFormatter\"},{\"attributes\":{},\"id\":\"5988d960-3310-4793-bca1-801283e32ffe\",\"type\":\"ResetTool\"},{\"attributes\":{},\"id\":\"9ac5b1bf-b4b4-4d4a-80b4-63323ce38041\",\"type\":\"SaveTool\"},{\"attributes\":{\"overlay\":{\"id\":\"a47feebc-be3e-4e43-8398-1f403ee59b53\",\"type\":\"BoxAnnotation\"}},\"id\":\"afe71fc2-69ef-4a75-86ef-1deb42c5ba2a\",\"type\":\"BoxZoomTool\"},{\"attributes\":{\"below\":[{\"id\":\"4b685af0-ef0c-4077-9a7a-31f064b4d70c\",\"type\":\"LinearAxis\"}],\"left\":[{\"id\":\"366f8574-1765-48c5-ac9f-73598cfb26c0\",\"type\":\"LinearAxis\"}],\"plot_height\":360,\"plot_width\":360,\"renderers\":[{\"id\":\"4b685af0-ef0c-4077-9a7a-31f064b4d70c\",\"type\":\"LinearAxis\"},{\"id\":\"584377b3-fc8f-4141-a585-cbb11e27c687\",\"type\":\"Grid\"},{\"id\":\"366f8574-1765-48c5-ac9f-73598cfb26c0\",\"type\":\"LinearAxis\"},{\"id\":\"bf6b8552-b310-4aa8-b46b-4b901bfac2b1\",\"type\":\"Grid\"},{\"id\":\"a47feebc-be3e-4e43-8398-1f403ee59b53\",\"type\":\"BoxAnnotation\"}],\"title\":{\"id\":\"b93c7cb1-cee5-4579-8a98-3fa5e156ef37\",\"type\":\"Title\"},\"toolbar\":{\"id\":\"d81df5c1-482d-49f0-b856-eaf80d42936c\",\"type\":\"Toolbar\"},\"x_range\":{\"id\":\"04c0eb56-2614-41a7-a77e-8f1af2dca73b\",\"type\":\"DataRange1d\"},\"x_scale\":{\"id\":\"b5ec8353-8f7d-4d80-bc21-2b6dc95a5e00\",\"type\":\"LinearScale\"},\"y_range\":{\"id\":\"c7bc4f23-9bb3-406b-ab57-98843c1f5e1b\",\"type\":\"DataRange1d\"},\"y_scale\":{\"id\":\"9a0ad2d1-0c53-4837-9274-44879ac8298b\",\"type\":\"LinearScale\"}},\"id\":\"f889467c-efc6-4c7f-b049-42f65d6f76c4\",\"subtype\":\"Figure\",\"type\":\"Plot\"},{\"attributes\":{\"formatter\":{\"id\":\"3c74c2cf-3473-47be-b6b4-fa126df0701e\",\"type\":\"BasicTickFormatter\"},\"plot\":{\"id\":\"f889467c-efc6-4c7f-b049-42f65d6f76c4\",\"subtype\":\"Figure\",\"type\":\"Plot\"},\"ticker\":{\"id\":\"e328c9d2-6ce1-4545-a4b7-73d9745692ad\",\"type\":\"BasicTicker\"}},\"id\":\"4b685af0-ef0c-4077-9a7a-31f064b4d70c\",\"type\":\"LinearAxis\"},{\"attributes\":{\"callback\":null},\"id\":\"c7bc4f23-9bb3-406b-ab57-98843c1f5e1b\",\"type\":\"DataRange1d\"},{\"attributes\":{},\"id\":\"e9f6a225-1c62-49f3-ad6c-e38dd9f76acb\",\"type\":\"WheelZoomTool\"},{\"attributes\":{},\"id\":\"b5ec8353-8f7d-4d80-bc21-2b6dc95a5e00\",\"type\":\"LinearScale\"},{\"attributes\":{},\"id\":\"fe77dd24-5d0c-4f4d-a701-b5827e303409\",\"type\":\"BasicTickFormatter\"},{\"attributes\":{\"plot\":{\"id\":\"f889467c-efc6-4c7f-b049-42f65d6f76c4\",\"subtype\":\"Figure\",\"type\":\"Plot\"},\"ticker\":{\"id\":\"e328c9d2-6ce1-4545-a4b7-73d9745692ad\",\"type\":\"BasicTicker\"}},\"id\":\"584377b3-fc8f-4141-a585-cbb11e27c687\",\"type\":\"Grid\"},{\"attributes\":{\"callback\":null},\"id\":\"04c0eb56-2614-41a7-a77e-8f1af2dca73b\",\"type\":\"DataRange1d\"},{\"attributes\":{},\"id\":\"e328c9d2-6ce1-4545-a4b7-73d9745692ad\",\"type\":\"BasicTicker\"},{\"attributes\":{\"active_drag\":\"auto\",\"active_inspect\":\"auto\",\"active_scroll\":\"auto\",\"active_tap\":\"auto\",\"tools\":[{\"id\":\"1c778b42-dd90-46f9-b4e3-659b4f922dd7\",\"type\":\"PanTool\"},{\"id\":\"e9f6a225-1c62-49f3-ad6c-e38dd9f76acb\",\"type\":\"WheelZoomTool\"},{\"id\":\"afe71fc2-69ef-4a75-86ef-1deb42c5ba2a\",\"type\":\"BoxZoomTool\"},{\"id\":\"9ac5b1bf-b4b4-4d4a-80b4-63323ce38041\",\"type\":\"SaveTool\"},{\"id\":\"5988d960-3310-4793-bca1-801283e32ffe\",\"type\":\"ResetTool\"},{\"id\":\"e82f9cb3-dabe-47e3-82d1-6e6d5bd890a6\",\"type\":\"HelpTool\"}]},\"id\":\"d81df5c1-482d-49f0-b856-eaf80d42936c\",\"type\":\"Toolbar\"},{\"attributes\":{\"formatter\":{\"id\":\"fe77dd24-5d0c-4f4d-a701-b5827e303409\",\"type\":\"BasicTickFormatter\"},\"plot\":{\"id\":\"f889467c-efc6-4c7f-b049-42f65d6f76c4\",\"subtype\":\"Figure\",\"type\":\"Plot\"},\"ticker\":{\"id\":\"3ff8165a-763b-4770-8c9a-7ee2282e0959\",\"type\":\"BasicTicker\"}},\"id\":\"366f8574-1765-48c5-ac9f-73598cfb26c0\",\"type\":\"LinearAxis\"},{\"attributes\":{\"dimension\":1,\"plot\":{\"id\":\"f889467c-efc6-4c7f-b049-42f65d6f76c4\",\"subtype\":\"Figure\",\"type\":\"Plot\"},\"ticker\":{\"id\":\"3ff8165a-763b-4770-8c9a-7ee2282e0959\",\"type\":\"BasicTicker\"}},\"id\":\"bf6b8552-b310-4aa8-b46b-4b901bfac2b1\",\"type\":\"Grid\"},{\"attributes\":{},\"id\":\"3ff8165a-763b-4770-8c9a-7ee2282e0959\",\"type\":\"BasicTicker\"},{\"attributes\":{},\"id\":\"9a0ad2d1-0c53-4837-9274-44879ac8298b\",\"type\":\"LinearScale\"},{\"attributes\":{},\"id\":\"1c778b42-dd90-46f9-b4e3-659b4f922dd7\",\"type\":\"PanTool\"}],\"root_ids\":[\"f889467c-efc6-4c7f-b049-42f65d6f76c4\"]},\"title\":\"Bokeh Application\",\"version\":\"0.12.13\"}};\n",
       "  var render_items = [{\"docid\":\"537dbaca-4a6f-47ca-af35-6272c033f31b\",\"elementid\":\"f3319465-66d9-47e2-8143-fa99b3ce3742\",\"modelid\":\"f889467c-efc6-4c7f-b049-42f65d6f76c4\"}];\n",
       "  root.Bokeh.embed.embed_items_notebook(docs_json, render_items);\n",
       "\n",
       "  }\n",
       "  if (root.Bokeh !== undefined) {\n",
       "    embed_document(root);\n",
       "  } else {\n",
       "    var attempts = 0;\n",
       "    var timer = setInterval(function(root) {\n",
       "      if (root.Bokeh !== undefined) {\n",
       "        embed_document(root);\n",
       "        clearInterval(timer);\n",
       "      }\n",
       "      attempts++;\n",
       "      if (attempts > 100) {\n",
       "        console.log(\"Bokeh: ERROR: Unable to run BokehJS code because BokehJS library is missing\")\n",
       "        clearInterval(timer);\n",
       "      }\n",
       "    }, 10, root)\n",
       "  }\n",
       "})(window);"
      ],
      "application/vnd.bokehjs_exec.v0+json": ""
     },
     "metadata": {
      "application/vnd.bokehjs_exec.v0+json": {
       "id": "f889467c-efc6-4c7f-b049-42f65d6f76c4"
      }
     },
     "output_type": "display_data"
    }
   ],
   "source": [
    "show(p)"
   ]
  },
  {
   "cell_type": "code",
   "execution_count": 8,
   "metadata": {},
   "outputs": [
    {
     "data": {
      "text/html": [
       "\n",
       "<div class=\"bk-root\">\n",
       "    <div class=\"bk-plotdiv\" id=\"47b37738-23c9-492f-9739-dd0ce68fd89b\"></div>\n",
       "</div>"
      ]
     },
     "metadata": {},
     "output_type": "display_data"
    },
    {
     "data": {
      "application/javascript": [
       "(function(root) {\n",
       "  function embed_document(root) {\n",
       "    \n",
       "  var docs_json = {\"d9ba2d11-ec32-4e0f-a215-7d5e48bcf6fd\":{\"roots\":{\"references\":[{\"attributes\":{},\"id\":\"e82f9cb3-dabe-47e3-82d1-6e6d5bd890a6\",\"type\":\"HelpTool\"},{\"attributes\":{\"bottom_units\":\"screen\",\"fill_alpha\":{\"value\":0.5},\"fill_color\":{\"value\":\"lightgrey\"},\"left_units\":\"screen\",\"level\":\"overlay\",\"line_alpha\":{\"value\":1.0},\"line_color\":{\"value\":\"black\"},\"line_dash\":[4,4],\"line_width\":{\"value\":2},\"plot\":null,\"render_mode\":\"css\",\"right_units\":\"screen\",\"top_units\":\"screen\"},\"id\":\"a47feebc-be3e-4e43-8398-1f403ee59b53\",\"type\":\"BoxAnnotation\"},{\"attributes\":{\"source\":{\"id\":\"65c5284b-9dc0-4b5a-a5bf-ee88568aea64\",\"type\":\"ColumnDataSource\"}},\"id\":\"85a1f3e2-b2eb-4392-b94c-e0b220c40f9a\",\"type\":\"CDSView\"},{\"attributes\":{\"plot\":null,\"text\":\"\"},\"id\":\"b93c7cb1-cee5-4579-8a98-3fa5e156ef37\",\"type\":\"Title\"},{\"attributes\":{},\"id\":\"3c74c2cf-3473-47be-b6b4-fa126df0701e\",\"type\":\"BasicTickFormatter\"},{\"attributes\":{},\"id\":\"5988d960-3310-4793-bca1-801283e32ffe\",\"type\":\"ResetTool\"},{\"attributes\":{},\"id\":\"9ac5b1bf-b4b4-4d4a-80b4-63323ce38041\",\"type\":\"SaveTool\"},{\"attributes\":{\"overlay\":{\"id\":\"a47feebc-be3e-4e43-8398-1f403ee59b53\",\"type\":\"BoxAnnotation\"}},\"id\":\"afe71fc2-69ef-4a75-86ef-1deb42c5ba2a\",\"type\":\"BoxZoomTool\"},{\"attributes\":{\"line_color\":\"#1f77b4\",\"x\":{\"field\":\"x\"},\"y\":{\"field\":\"y\"}},\"id\":\"9d7ae2b5-7c99-4f19-bf95-43b7839d4bc5\",\"type\":\"Line\"},{\"attributes\":{\"below\":[{\"id\":\"4b685af0-ef0c-4077-9a7a-31f064b4d70c\",\"type\":\"LinearAxis\"}],\"left\":[{\"id\":\"366f8574-1765-48c5-ac9f-73598cfb26c0\",\"type\":\"LinearAxis\"}],\"plot_height\":360,\"plot_width\":360,\"renderers\":[{\"id\":\"4b685af0-ef0c-4077-9a7a-31f064b4d70c\",\"type\":\"LinearAxis\"},{\"id\":\"584377b3-fc8f-4141-a585-cbb11e27c687\",\"type\":\"Grid\"},{\"id\":\"366f8574-1765-48c5-ac9f-73598cfb26c0\",\"type\":\"LinearAxis\"},{\"id\":\"bf6b8552-b310-4aa8-b46b-4b901bfac2b1\",\"type\":\"Grid\"},{\"id\":\"a47feebc-be3e-4e43-8398-1f403ee59b53\",\"type\":\"BoxAnnotation\"},{\"id\":\"70d58606-3b6c-4c82-97a9-e625da1a83da\",\"type\":\"GlyphRenderer\"}],\"title\":{\"id\":\"b93c7cb1-cee5-4579-8a98-3fa5e156ef37\",\"type\":\"Title\"},\"toolbar\":{\"id\":\"d81df5c1-482d-49f0-b856-eaf80d42936c\",\"type\":\"Toolbar\"},\"x_range\":{\"id\":\"04c0eb56-2614-41a7-a77e-8f1af2dca73b\",\"type\":\"DataRange1d\"},\"x_scale\":{\"id\":\"b5ec8353-8f7d-4d80-bc21-2b6dc95a5e00\",\"type\":\"LinearScale\"},\"y_range\":{\"id\":\"c7bc4f23-9bb3-406b-ab57-98843c1f5e1b\",\"type\":\"DataRange1d\"},\"y_scale\":{\"id\":\"9a0ad2d1-0c53-4837-9274-44879ac8298b\",\"type\":\"LinearScale\"}},\"id\":\"f889467c-efc6-4c7f-b049-42f65d6f76c4\",\"subtype\":\"Figure\",\"type\":\"Plot\"},{\"attributes\":{\"formatter\":{\"id\":\"3c74c2cf-3473-47be-b6b4-fa126df0701e\",\"type\":\"BasicTickFormatter\"},\"plot\":{\"id\":\"f889467c-efc6-4c7f-b049-42f65d6f76c4\",\"subtype\":\"Figure\",\"type\":\"Plot\"},\"ticker\":{\"id\":\"e328c9d2-6ce1-4545-a4b7-73d9745692ad\",\"type\":\"BasicTicker\"}},\"id\":\"4b685af0-ef0c-4077-9a7a-31f064b4d70c\",\"type\":\"LinearAxis\"},{\"attributes\":{\"callback\":null},\"id\":\"c7bc4f23-9bb3-406b-ab57-98843c1f5e1b\",\"type\":\"DataRange1d\"},{\"attributes\":{},\"id\":\"e9f6a225-1c62-49f3-ad6c-e38dd9f76acb\",\"type\":\"WheelZoomTool\"},{\"attributes\":{},\"id\":\"b5ec8353-8f7d-4d80-bc21-2b6dc95a5e00\",\"type\":\"LinearScale\"},{\"attributes\":{\"line_alpha\":0.1,\"line_color\":\"#1f77b4\",\"x\":{\"field\":\"x\"},\"y\":{\"field\":\"y\"}},\"id\":\"779b06fb-ed78-4a1a-bb41-d73130b1b0ae\",\"type\":\"Line\"},{\"attributes\":{},\"id\":\"fe77dd24-5d0c-4f4d-a701-b5827e303409\",\"type\":\"BasicTickFormatter\"},{\"attributes\":{\"plot\":{\"id\":\"f889467c-efc6-4c7f-b049-42f65d6f76c4\",\"subtype\":\"Figure\",\"type\":\"Plot\"},\"ticker\":{\"id\":\"e328c9d2-6ce1-4545-a4b7-73d9745692ad\",\"type\":\"BasicTicker\"}},\"id\":\"584377b3-fc8f-4141-a585-cbb11e27c687\",\"type\":\"Grid\"},{\"attributes\":{\"callback\":null},\"id\":\"04c0eb56-2614-41a7-a77e-8f1af2dca73b\",\"type\":\"DataRange1d\"},{\"attributes\":{},\"id\":\"e328c9d2-6ce1-4545-a4b7-73d9745692ad\",\"type\":\"BasicTicker\"},{\"attributes\":{\"callback\":null,\"column_names\":[\"x\",\"y\"],\"data\":{\"x\":[1,2,3],\"y\":[4,6,2]}},\"id\":\"65c5284b-9dc0-4b5a-a5bf-ee88568aea64\",\"type\":\"ColumnDataSource\"},{\"attributes\":{\"active_drag\":\"auto\",\"active_inspect\":\"auto\",\"active_scroll\":\"auto\",\"active_tap\":\"auto\",\"tools\":[{\"id\":\"1c778b42-dd90-46f9-b4e3-659b4f922dd7\",\"type\":\"PanTool\"},{\"id\":\"e9f6a225-1c62-49f3-ad6c-e38dd9f76acb\",\"type\":\"WheelZoomTool\"},{\"id\":\"afe71fc2-69ef-4a75-86ef-1deb42c5ba2a\",\"type\":\"BoxZoomTool\"},{\"id\":\"9ac5b1bf-b4b4-4d4a-80b4-63323ce38041\",\"type\":\"SaveTool\"},{\"id\":\"5988d960-3310-4793-bca1-801283e32ffe\",\"type\":\"ResetTool\"},{\"id\":\"e82f9cb3-dabe-47e3-82d1-6e6d5bd890a6\",\"type\":\"HelpTool\"}]},\"id\":\"d81df5c1-482d-49f0-b856-eaf80d42936c\",\"type\":\"Toolbar\"},{\"attributes\":{\"formatter\":{\"id\":\"fe77dd24-5d0c-4f4d-a701-b5827e303409\",\"type\":\"BasicTickFormatter\"},\"plot\":{\"id\":\"f889467c-efc6-4c7f-b049-42f65d6f76c4\",\"subtype\":\"Figure\",\"type\":\"Plot\"},\"ticker\":{\"id\":\"3ff8165a-763b-4770-8c9a-7ee2282e0959\",\"type\":\"BasicTicker\"}},\"id\":\"366f8574-1765-48c5-ac9f-73598cfb26c0\",\"type\":\"LinearAxis\"},{\"attributes\":{\"dimension\":1,\"plot\":{\"id\":\"f889467c-efc6-4c7f-b049-42f65d6f76c4\",\"subtype\":\"Figure\",\"type\":\"Plot\"},\"ticker\":{\"id\":\"3ff8165a-763b-4770-8c9a-7ee2282e0959\",\"type\":\"BasicTicker\"}},\"id\":\"bf6b8552-b310-4aa8-b46b-4b901bfac2b1\",\"type\":\"Grid\"},{\"attributes\":{},\"id\":\"3ff8165a-763b-4770-8c9a-7ee2282e0959\",\"type\":\"BasicTicker\"},{\"attributes\":{\"data_source\":{\"id\":\"65c5284b-9dc0-4b5a-a5bf-ee88568aea64\",\"type\":\"ColumnDataSource\"},\"glyph\":{\"id\":\"9d7ae2b5-7c99-4f19-bf95-43b7839d4bc5\",\"type\":\"Line\"},\"hover_glyph\":null,\"muted_glyph\":null,\"nonselection_glyph\":{\"id\":\"779b06fb-ed78-4a1a-bb41-d73130b1b0ae\",\"type\":\"Line\"},\"selection_glyph\":null,\"view\":{\"id\":\"85a1f3e2-b2eb-4392-b94c-e0b220c40f9a\",\"type\":\"CDSView\"}},\"id\":\"70d58606-3b6c-4c82-97a9-e625da1a83da\",\"type\":\"GlyphRenderer\"},{\"attributes\":{},\"id\":\"9a0ad2d1-0c53-4837-9274-44879ac8298b\",\"type\":\"LinearScale\"},{\"attributes\":{},\"id\":\"1c778b42-dd90-46f9-b4e3-659b4f922dd7\",\"type\":\"PanTool\"}],\"root_ids\":[\"f889467c-efc6-4c7f-b049-42f65d6f76c4\"]},\"title\":\"Bokeh Application\",\"version\":\"0.12.13\"}};\n",
       "  var render_items = [{\"docid\":\"d9ba2d11-ec32-4e0f-a215-7d5e48bcf6fd\",\"elementid\":\"47b37738-23c9-492f-9739-dd0ce68fd89b\",\"modelid\":\"f889467c-efc6-4c7f-b049-42f65d6f76c4\"}];\n",
       "  root.Bokeh.embed.embed_items_notebook(docs_json, render_items);\n",
       "\n",
       "  }\n",
       "  if (root.Bokeh !== undefined) {\n",
       "    embed_document(root);\n",
       "  } else {\n",
       "    var attempts = 0;\n",
       "    var timer = setInterval(function(root) {\n",
       "      if (root.Bokeh !== undefined) {\n",
       "        embed_document(root);\n",
       "        clearInterval(timer);\n",
       "      }\n",
       "      attempts++;\n",
       "      if (attempts > 100) {\n",
       "        console.log(\"Bokeh: ERROR: Unable to run BokehJS code because BokehJS library is missing\")\n",
       "        clearInterval(timer);\n",
       "      }\n",
       "    }, 10, root)\n",
       "  }\n",
       "})(window);"
      ],
      "application/vnd.bokehjs_exec.v0+json": ""
     },
     "metadata": {
      "application/vnd.bokehjs_exec.v0+json": {
       "id": "f889467c-efc6-4c7f-b049-42f65d6f76c4"
      }
     },
     "output_type": "display_data"
    }
   ],
   "source": [
    "from bokeh.plotting import figure, output_file, show\n",
    "\n",
    "# p = figure()\n",
    "p.line(x=[1, 2, 3], y=[4,6,2])\n",
    "\n",
    "show(p)"
   ]
  },
  {
   "cell_type": "code",
   "execution_count": 9,
   "metadata": {},
   "outputs": [
    {
     "data": {
      "text/html": [
       "\n",
       "<div class=\"bk-root\">\n",
       "    <div class=\"bk-plotdiv\" id=\"8836f496-9041-4f5c-92ed-0d6dd4dd48a1\"></div>\n",
       "</div>"
      ]
     },
     "metadata": {},
     "output_type": "display_data"
    },
    {
     "data": {
      "application/javascript": [
       "(function(root) {\n",
       "  function embed_document(root) {\n",
       "    \n",
       "  var docs_json = {\"ae78bf15-0ad3-4b5c-aeb3-6fa568e4d87a\":{\"roots\":{\"references\":[{\"attributes\":{},\"id\":\"4bcbb792-8e04-47e4-b473-c004a37cfc99\",\"type\":\"LinearScale\"},{\"attributes\":{\"callback\":null},\"id\":\"2c0efd63-02a6-4a9f-97f6-85a1b8a861ad\",\"type\":\"DataRange1d\"},{\"attributes\":{\"plot\":null,\"text\":\"\"},\"id\":\"6296618b-2221-4478-8bb3-133740b84dde\",\"type\":\"Title\"},{\"attributes\":{\"fill_alpha\":{\"value\":0.5},\"fill_color\":{\"value\":\"#1f77b4\"},\"line_alpha\":{\"value\":0.5},\"line_color\":{\"value\":\"#1f77b4\"},\"radius\":{\"units\":\"data\",\"value\":0.3},\"x\":{\"field\":\"x\"},\"y\":{\"field\":\"y\"}},\"id\":\"6242129e-c2b3-4c05-b29f-885b21f51a26\",\"type\":\"Circle\"},{\"attributes\":{\"active_drag\":\"auto\",\"active_inspect\":\"auto\",\"active_scroll\":\"auto\",\"active_tap\":\"auto\",\"tools\":[{\"id\":\"a00dc252-1559-4957-91df-b2fea3be9895\",\"type\":\"PanTool\"},{\"id\":\"b99dd25a-6eb8-428d-bfd0-0a66d2e1df5a\",\"type\":\"ResetTool\"},{\"id\":\"9b613a5f-555e-4dd8-a666-0adfd18681f2\",\"type\":\"SaveTool\"}]},\"id\":\"162f1b7f-bf9a-4474-b3c6-e6c453ae03c1\",\"type\":\"Toolbar\"},{\"attributes\":{\"source\":{\"id\":\"52af353a-f1bf-4999-8cfe-0ea87bcdfe74\",\"type\":\"ColumnDataSource\"}},\"id\":\"7a7c0e49-7351-4436-a945-9e54910910ff\",\"type\":\"CDSView\"},{\"attributes\":{\"callback\":null,\"column_names\":[\"x\",\"y\"],\"data\":{\"x\":[1,2.5,3,2],\"y\":[2,3,1,1.5]}},\"id\":\"52af353a-f1bf-4999-8cfe-0ea87bcdfe74\",\"type\":\"ColumnDataSource\"},{\"attributes\":{\"fill_alpha\":{\"value\":0.1},\"fill_color\":{\"value\":\"#1f77b4\"},\"line_alpha\":{\"value\":0.1},\"line_color\":{\"value\":\"#1f77b4\"},\"radius\":{\"units\":\"data\",\"value\":0.3},\"x\":{\"field\":\"x\"},\"y\":{\"field\":\"y\"}},\"id\":\"c32d9f2c-54ce-41bb-b50f-0ff80c996367\",\"type\":\"Circle\"},{\"attributes\":{\"formatter\":{\"id\":\"c0644ef7-3c0d-470b-a29c-a78fb7bef763\",\"type\":\"BasicTickFormatter\"},\"plot\":{\"id\":\"a2bc31b9-0c33-4a40-964d-4b1f9b4f5861\",\"subtype\":\"Figure\",\"type\":\"Plot\"},\"ticker\":{\"id\":\"79522713-6712-4406-9fcf-2f4414181770\",\"type\":\"BasicTicker\"}},\"id\":\"710e2f13-dfa1-4580-bc6e-90ace989a416\",\"type\":\"LinearAxis\"},{\"attributes\":{},\"id\":\"9b613a5f-555e-4dd8-a666-0adfd18681f2\",\"type\":\"SaveTool\"},{\"attributes\":{},\"id\":\"6c9c37ac-f504-4e01-bd0d-9e2ba4a63dc8\",\"type\":\"BasicTicker\"},{\"attributes\":{\"dimension\":1,\"plot\":{\"id\":\"a2bc31b9-0c33-4a40-964d-4b1f9b4f5861\",\"subtype\":\"Figure\",\"type\":\"Plot\"},\"ticker\":{\"id\":\"79522713-6712-4406-9fcf-2f4414181770\",\"type\":\"BasicTicker\"}},\"id\":\"7adf19dd-a2e7-4b4b-a748-e4a45ad14761\",\"type\":\"Grid\"},{\"attributes\":{},\"id\":\"a00dc252-1559-4957-91df-b2fea3be9895\",\"type\":\"PanTool\"},{\"attributes\":{},\"id\":\"b99dd25a-6eb8-428d-bfd0-0a66d2e1df5a\",\"type\":\"ResetTool\"},{\"attributes\":{\"plot\":{\"id\":\"a2bc31b9-0c33-4a40-964d-4b1f9b4f5861\",\"subtype\":\"Figure\",\"type\":\"Plot\"},\"ticker\":{\"id\":\"6c9c37ac-f504-4e01-bd0d-9e2ba4a63dc8\",\"type\":\"BasicTicker\"}},\"id\":\"31bb88c7-9b7a-4b67-8088-b6a4c118512e\",\"type\":\"Grid\"},{\"attributes\":{},\"id\":\"f0ea8146-c1b9-4f39-9b97-11d927805bde\",\"type\":\"LinearScale\"},{\"attributes\":{\"below\":[{\"id\":\"257f8207-fab3-4b7b-ad45-3376da485cc4\",\"type\":\"LinearAxis\"}],\"left\":[{\"id\":\"710e2f13-dfa1-4580-bc6e-90ace989a416\",\"type\":\"LinearAxis\"}],\"plot_height\":300,\"plot_width\":300,\"renderers\":[{\"id\":\"257f8207-fab3-4b7b-ad45-3376da485cc4\",\"type\":\"LinearAxis\"},{\"id\":\"31bb88c7-9b7a-4b67-8088-b6a4c118512e\",\"type\":\"Grid\"},{\"id\":\"710e2f13-dfa1-4580-bc6e-90ace989a416\",\"type\":\"LinearAxis\"},{\"id\":\"7adf19dd-a2e7-4b4b-a748-e4a45ad14761\",\"type\":\"Grid\"},{\"id\":\"2efa9607-ee91-459f-a634-159a00e595e7\",\"type\":\"GlyphRenderer\"}],\"title\":{\"id\":\"6296618b-2221-4478-8bb3-133740b84dde\",\"type\":\"Title\"},\"toolbar\":{\"id\":\"162f1b7f-bf9a-4474-b3c6-e6c453ae03c1\",\"type\":\"Toolbar\"},\"x_range\":{\"id\":\"81fc5673-5a97-4d49-9fed-aeffbae46f52\",\"type\":\"DataRange1d\"},\"x_scale\":{\"id\":\"4bcbb792-8e04-47e4-b473-c004a37cfc99\",\"type\":\"LinearScale\"},\"y_range\":{\"id\":\"2c0efd63-02a6-4a9f-97f6-85a1b8a861ad\",\"type\":\"DataRange1d\"},\"y_scale\":{\"id\":\"f0ea8146-c1b9-4f39-9b97-11d927805bde\",\"type\":\"LinearScale\"}},\"id\":\"a2bc31b9-0c33-4a40-964d-4b1f9b4f5861\",\"subtype\":\"Figure\",\"type\":\"Plot\"},{\"attributes\":{\"formatter\":{\"id\":\"7d930b0c-fd77-4798-9877-9c00a1d90bbf\",\"type\":\"BasicTickFormatter\"},\"plot\":{\"id\":\"a2bc31b9-0c33-4a40-964d-4b1f9b4f5861\",\"subtype\":\"Figure\",\"type\":\"Plot\"},\"ticker\":{\"id\":\"6c9c37ac-f504-4e01-bd0d-9e2ba4a63dc8\",\"type\":\"BasicTicker\"}},\"id\":\"257f8207-fab3-4b7b-ad45-3376da485cc4\",\"type\":\"LinearAxis\"},{\"attributes\":{},\"id\":\"c0644ef7-3c0d-470b-a29c-a78fb7bef763\",\"type\":\"BasicTickFormatter\"},{\"attributes\":{\"data_source\":{\"id\":\"52af353a-f1bf-4999-8cfe-0ea87bcdfe74\",\"type\":\"ColumnDataSource\"},\"glyph\":{\"id\":\"6242129e-c2b3-4c05-b29f-885b21f51a26\",\"type\":\"Circle\"},\"hover_glyph\":null,\"muted_glyph\":null,\"nonselection_glyph\":{\"id\":\"c32d9f2c-54ce-41bb-b50f-0ff80c996367\",\"type\":\"Circle\"},\"selection_glyph\":null,\"view\":{\"id\":\"7a7c0e49-7351-4436-a945-9e54910910ff\",\"type\":\"CDSView\"}},\"id\":\"2efa9607-ee91-459f-a634-159a00e595e7\",\"type\":\"GlyphRenderer\"},{\"attributes\":{\"callback\":null},\"id\":\"81fc5673-5a97-4d49-9fed-aeffbae46f52\",\"type\":\"DataRange1d\"},{\"attributes\":{},\"id\":\"79522713-6712-4406-9fcf-2f4414181770\",\"type\":\"BasicTicker\"},{\"attributes\":{},\"id\":\"7d930b0c-fd77-4798-9877-9c00a1d90bbf\",\"type\":\"BasicTickFormatter\"}],\"root_ids\":[\"a2bc31b9-0c33-4a40-964d-4b1f9b4f5861\"]},\"title\":\"Bokeh Application\",\"version\":\"0.12.13\"}};\n",
       "  var render_items = [{\"docid\":\"ae78bf15-0ad3-4b5c-aeb3-6fa568e4d87a\",\"elementid\":\"8836f496-9041-4f5c-92ed-0d6dd4dd48a1\",\"modelid\":\"a2bc31b9-0c33-4a40-964d-4b1f9b4f5861\"}];\n",
       "  root.Bokeh.embed.embed_items_notebook(docs_json, render_items);\n",
       "\n",
       "  }\n",
       "  if (root.Bokeh !== undefined) {\n",
       "    embed_document(root);\n",
       "  } else {\n",
       "    var attempts = 0;\n",
       "    var timer = setInterval(function(root) {\n",
       "      if (root.Bokeh !== undefined) {\n",
       "        embed_document(root);\n",
       "        clearInterval(timer);\n",
       "      }\n",
       "      attempts++;\n",
       "      if (attempts > 100) {\n",
       "        console.log(\"Bokeh: ERROR: Unable to run BokehJS code because BokehJS library is missing\")\n",
       "        clearInterval(timer);\n",
       "      }\n",
       "    }, 10, root)\n",
       "  }\n",
       "})(window);"
      ],
      "application/vnd.bokehjs_exec.v0+json": ""
     },
     "metadata": {
      "application/vnd.bokehjs_exec.v0+json": {
       "id": "a2bc31b9-0c33-4a40-964d-4b1f9b4f5861"
      }
     },
     "output_type": "display_data"
    }
   ],
   "source": [
    "from bokeh.plotting import figure, output_file, show\n",
    "\n",
    "# create a Figure object\n",
    "p = figure(plot_width=300, plot_height=300, tools=\"pan,reset,save\")\n",
    "\n",
    "# add a Circle renderer to this figure\n",
    "p.circle([1, 2.5, 3, 2], [2, 3, 1, 1.5], radius=0.3, alpha=0.5)\n",
    "\n",
    "# display the figure\n",
    "show(p)"
   ]
  }
 ],
 "metadata": {
  "kernelspec": {
   "display_name": "Python 3",
   "language": "python",
   "name": "python3"
  },
  "language_info": {
   "codemirror_mode": {
    "name": "ipython",
    "version": 3
   },
   "file_extension": ".py",
   "mimetype": "text/x-python",
   "name": "python",
   "nbconvert_exporter": "python",
   "pygments_lexer": "ipython3",
   "version": "3.6.4"
  }
 },
 "nbformat": 4,
 "nbformat_minor": 2
}
