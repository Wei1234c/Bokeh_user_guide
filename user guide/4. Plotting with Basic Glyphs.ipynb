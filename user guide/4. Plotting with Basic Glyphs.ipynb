{
 "cells": [
  {
   "cell_type": "markdown",
   "metadata": {},
   "source": [
    "# Plotting with Basic Glyphs\n",
    "https://bokeh.pydata.org/en/latest/docs/user_guide/plotting.html "
   ]
  },
  {
   "cell_type": "code",
   "execution_count": 1,
   "metadata": {},
   "outputs": [
    {
     "name": "stdout",
     "output_type": "stream",
     "text": [
      "Populating the interactive namespace from numpy and matplotlib\n"
     ]
    },
    {
     "data": {
      "text/html": [
       "\n",
       "    <div class=\"bk-root\">\n",
       "        <a href=\"https://bokeh.pydata.org\" target=\"_blank\" class=\"bk-logo bk-logo-small bk-logo-notebook\"></a>\n",
       "        <span id=\"c91d2349-88f0-446a-bfcc-580b3a0363bf\">Loading BokehJS ...</span>\n",
       "    </div>"
      ]
     },
     "metadata": {},
     "output_type": "display_data"
    },
    {
     "data": {
      "application/javascript": [
       "\n",
       "(function(root) {\n",
       "  function now() {\n",
       "    return new Date();\n",
       "  }\n",
       "\n",
       "  var force = true;\n",
       "\n",
       "  if (typeof (root._bokeh_onload_callbacks) === \"undefined\" || force === true) {\n",
       "    root._bokeh_onload_callbacks = [];\n",
       "    root._bokeh_is_loading = undefined;\n",
       "  }\n",
       "\n",
       "  var JS_MIME_TYPE = 'application/javascript';\n",
       "  var HTML_MIME_TYPE = 'text/html';\n",
       "  var EXEC_MIME_TYPE = 'application/vnd.bokehjs_exec.v0+json';\n",
       "  var CLASS_NAME = 'output_bokeh rendered_html';\n",
       "\n",
       "  /**\n",
       "   * Render data to the DOM node\n",
       "   */\n",
       "  function render(props, node) {\n",
       "    var script = document.createElement(\"script\");\n",
       "    node.appendChild(script);\n",
       "  }\n",
       "\n",
       "  /**\n",
       "   * Handle when an output is cleared or removed\n",
       "   */\n",
       "  function handleClearOutput(event, handle) {\n",
       "    var cell = handle.cell;\n",
       "\n",
       "    var id = cell.output_area._bokeh_element_id;\n",
       "    var server_id = cell.output_area._bokeh_server_id;\n",
       "    // Clean up Bokeh references\n",
       "    if (id !== undefined) {\n",
       "      Bokeh.index[id].model.document.clear();\n",
       "      delete Bokeh.index[id];\n",
       "    }\n",
       "\n",
       "    if (server_id !== undefined) {\n",
       "      // Clean up Bokeh references\n",
       "      var cmd = \"from bokeh.io.state import curstate; print(curstate().uuid_to_server['\" + server_id + \"'].get_sessions()[0].document.roots[0]._id)\";\n",
       "      cell.notebook.kernel.execute(cmd, {\n",
       "        iopub: {\n",
       "          output: function(msg) {\n",
       "            var element_id = msg.content.text.trim();\n",
       "            Bokeh.index[element_id].model.document.clear();\n",
       "            delete Bokeh.index[element_id];\n",
       "          }\n",
       "        }\n",
       "      });\n",
       "      // Destroy server and session\n",
       "      var cmd = \"import bokeh.io.notebook as ion; ion.destroy_server('\" + server_id + \"')\";\n",
       "      cell.notebook.kernel.execute(cmd);\n",
       "    }\n",
       "  }\n",
       "\n",
       "  /**\n",
       "   * Handle when a new output is added\n",
       "   */\n",
       "  function handleAddOutput(event, handle) {\n",
       "    var output_area = handle.output_area;\n",
       "    var output = handle.output;\n",
       "\n",
       "    // limit handleAddOutput to display_data with EXEC_MIME_TYPE content only\n",
       "    if ((output.output_type != \"display_data\") || (!output.data.hasOwnProperty(EXEC_MIME_TYPE))) {\n",
       "      return\n",
       "    }\n",
       "\n",
       "    var toinsert = output_area.element.find(\".\" + CLASS_NAME.split(' ')[0]);\n",
       "\n",
       "    if (output.metadata[EXEC_MIME_TYPE][\"id\"] !== undefined) {\n",
       "      toinsert[0].firstChild.textContent = output.data[JS_MIME_TYPE];\n",
       "      // store reference to embed id on output_area\n",
       "      output_area._bokeh_element_id = output.metadata[EXEC_MIME_TYPE][\"id\"];\n",
       "    }\n",
       "    if (output.metadata[EXEC_MIME_TYPE][\"server_id\"] !== undefined) {\n",
       "      var bk_div = document.createElement(\"div\");\n",
       "      bk_div.innerHTML = output.data[HTML_MIME_TYPE];\n",
       "      var script_attrs = bk_div.children[0].attributes;\n",
       "      for (var i = 0; i < script_attrs.length; i++) {\n",
       "        toinsert[0].firstChild.setAttribute(script_attrs[i].name, script_attrs[i].value);\n",
       "      }\n",
       "      // store reference to server id on output_area\n",
       "      output_area._bokeh_server_id = output.metadata[EXEC_MIME_TYPE][\"server_id\"];\n",
       "    }\n",
       "  }\n",
       "\n",
       "  function register_renderer(events, OutputArea) {\n",
       "\n",
       "    function append_mime(data, metadata, element) {\n",
       "      // create a DOM node to render to\n",
       "      var toinsert = this.create_output_subarea(\n",
       "        metadata,\n",
       "        CLASS_NAME,\n",
       "        EXEC_MIME_TYPE\n",
       "      );\n",
       "      this.keyboard_manager.register_events(toinsert);\n",
       "      // Render to node\n",
       "      var props = {data: data, metadata: metadata[EXEC_MIME_TYPE]};\n",
       "      render(props, toinsert[0]);\n",
       "      element.append(toinsert);\n",
       "      return toinsert\n",
       "    }\n",
       "\n",
       "    /* Handle when an output is cleared or removed */\n",
       "    events.on('clear_output.CodeCell', handleClearOutput);\n",
       "    events.on('delete.Cell', handleClearOutput);\n",
       "\n",
       "    /* Handle when a new output is added */\n",
       "    events.on('output_added.OutputArea', handleAddOutput);\n",
       "\n",
       "    /**\n",
       "     * Register the mime type and append_mime function with output_area\n",
       "     */\n",
       "    OutputArea.prototype.register_mime_type(EXEC_MIME_TYPE, append_mime, {\n",
       "      /* Is output safe? */\n",
       "      safe: true,\n",
       "      /* Index of renderer in `output_area.display_order` */\n",
       "      index: 0\n",
       "    });\n",
       "  }\n",
       "\n",
       "  // register the mime type if in Jupyter Notebook environment and previously unregistered\n",
       "  if (root.Jupyter !== undefined) {\n",
       "    var events = require('base/js/events');\n",
       "    var OutputArea = require('notebook/js/outputarea').OutputArea;\n",
       "\n",
       "    if (OutputArea.prototype.mime_types().indexOf(EXEC_MIME_TYPE) == -1) {\n",
       "      register_renderer(events, OutputArea);\n",
       "    }\n",
       "  }\n",
       "\n",
       "  \n",
       "  if (typeof (root._bokeh_timeout) === \"undefined\" || force === true) {\n",
       "    root._bokeh_timeout = Date.now() + 5000;\n",
       "    root._bokeh_failed_load = false;\n",
       "  }\n",
       "\n",
       "  var NB_LOAD_WARNING = {'data': {'text/html':\n",
       "     \"<div style='background-color: #fdd'>\\n\"+\n",
       "     \"<p>\\n\"+\n",
       "     \"BokehJS does not appear to have successfully loaded. If loading BokehJS from CDN, this \\n\"+\n",
       "     \"may be due to a slow or bad network connection. Possible fixes:\\n\"+\n",
       "     \"</p>\\n\"+\n",
       "     \"<ul>\\n\"+\n",
       "     \"<li>re-rerun `output_notebook()` to attempt to load from CDN again, or</li>\\n\"+\n",
       "     \"<li>use INLINE resources instead, as so:</li>\\n\"+\n",
       "     \"</ul>\\n\"+\n",
       "     \"<code>\\n\"+\n",
       "     \"from bokeh.resources import INLINE\\n\"+\n",
       "     \"output_notebook(resources=INLINE)\\n\"+\n",
       "     \"</code>\\n\"+\n",
       "     \"</div>\"}};\n",
       "\n",
       "  function display_loaded() {\n",
       "    var el = document.getElementById(\"c91d2349-88f0-446a-bfcc-580b3a0363bf\");\n",
       "    if (el != null) {\n",
       "      el.textContent = \"BokehJS is loading...\";\n",
       "    }\n",
       "    if (root.Bokeh !== undefined) {\n",
       "      if (el != null) {\n",
       "        el.textContent = \"BokehJS \" + root.Bokeh.version + \" successfully loaded.\";\n",
       "      }\n",
       "    } else if (Date.now() < root._bokeh_timeout) {\n",
       "      setTimeout(display_loaded, 100)\n",
       "    }\n",
       "  }\n",
       "\n",
       "\n",
       "  function run_callbacks() {\n",
       "    try {\n",
       "      root._bokeh_onload_callbacks.forEach(function(callback) { callback() });\n",
       "    }\n",
       "    finally {\n",
       "      delete root._bokeh_onload_callbacks\n",
       "    }\n",
       "    console.info(\"Bokeh: all callbacks have finished\");\n",
       "  }\n",
       "\n",
       "  function load_libs(js_urls, callback) {\n",
       "    root._bokeh_onload_callbacks.push(callback);\n",
       "    if (root._bokeh_is_loading > 0) {\n",
       "      console.log(\"Bokeh: BokehJS is being loaded, scheduling callback at\", now());\n",
       "      return null;\n",
       "    }\n",
       "    if (js_urls == null || js_urls.length === 0) {\n",
       "      run_callbacks();\n",
       "      return null;\n",
       "    }\n",
       "    console.log(\"Bokeh: BokehJS not loaded, scheduling load and callback at\", now());\n",
       "    root._bokeh_is_loading = js_urls.length;\n",
       "    for (var i = 0; i < js_urls.length; i++) {\n",
       "      var url = js_urls[i];\n",
       "      var s = document.createElement('script');\n",
       "      s.src = url;\n",
       "      s.async = false;\n",
       "      s.onreadystatechange = s.onload = function() {\n",
       "        root._bokeh_is_loading--;\n",
       "        if (root._bokeh_is_loading === 0) {\n",
       "          console.log(\"Bokeh: all BokehJS libraries loaded\");\n",
       "          run_callbacks()\n",
       "        }\n",
       "      };\n",
       "      s.onerror = function() {\n",
       "        console.warn(\"failed to load library \" + url);\n",
       "      };\n",
       "      console.log(\"Bokeh: injecting script tag for BokehJS library: \", url);\n",
       "      document.getElementsByTagName(\"head\")[0].appendChild(s);\n",
       "    }\n",
       "  };var element = document.getElementById(\"c91d2349-88f0-446a-bfcc-580b3a0363bf\");\n",
       "  if (element == null) {\n",
       "    console.log(\"Bokeh: ERROR: autoload.js configured with elementid 'c91d2349-88f0-446a-bfcc-580b3a0363bf' but no matching script tag was found. \")\n",
       "    return false;\n",
       "  }\n",
       "\n",
       "  var js_urls = [\"https://cdn.pydata.org/bokeh/release/bokeh-0.12.13.min.js\", \"https://cdn.pydata.org/bokeh/release/bokeh-widgets-0.12.13.min.js\", \"https://cdn.pydata.org/bokeh/release/bokeh-tables-0.12.13.min.js\", \"https://cdn.pydata.org/bokeh/release/bokeh-gl-0.12.13.min.js\"];\n",
       "\n",
       "  var inline_js = [\n",
       "    function(Bokeh) {\n",
       "      Bokeh.set_log_level(\"info\");\n",
       "    },\n",
       "    \n",
       "    function(Bokeh) {\n",
       "      \n",
       "    },\n",
       "    function(Bokeh) {\n",
       "      console.log(\"Bokeh: injecting CSS: https://cdn.pydata.org/bokeh/release/bokeh-0.12.13.min.css\");\n",
       "      Bokeh.embed.inject_css(\"https://cdn.pydata.org/bokeh/release/bokeh-0.12.13.min.css\");\n",
       "      console.log(\"Bokeh: injecting CSS: https://cdn.pydata.org/bokeh/release/bokeh-widgets-0.12.13.min.css\");\n",
       "      Bokeh.embed.inject_css(\"https://cdn.pydata.org/bokeh/release/bokeh-widgets-0.12.13.min.css\");\n",
       "      console.log(\"Bokeh: injecting CSS: https://cdn.pydata.org/bokeh/release/bokeh-tables-0.12.13.min.css\");\n",
       "      Bokeh.embed.inject_css(\"https://cdn.pydata.org/bokeh/release/bokeh-tables-0.12.13.min.css\");\n",
       "    }\n",
       "  ];\n",
       "\n",
       "  function run_inline_js() {\n",
       "    \n",
       "    if ((root.Bokeh !== undefined) || (force === true)) {\n",
       "      for (var i = 0; i < inline_js.length; i++) {\n",
       "        inline_js[i].call(root, root.Bokeh);\n",
       "      }if (force === true) {\n",
       "        display_loaded();\n",
       "      }} else if (Date.now() < root._bokeh_timeout) {\n",
       "      setTimeout(run_inline_js, 100);\n",
       "    } else if (!root._bokeh_failed_load) {\n",
       "      console.log(\"Bokeh: BokehJS failed to load within specified timeout.\");\n",
       "      root._bokeh_failed_load = true;\n",
       "    } else if (force !== true) {\n",
       "      var cell = $(document.getElementById(\"c91d2349-88f0-446a-bfcc-580b3a0363bf\")).parents('.cell').data().cell;\n",
       "      cell.output_area.append_execute_result(NB_LOAD_WARNING)\n",
       "    }\n",
       "\n",
       "  }\n",
       "\n",
       "  if (root._bokeh_is_loading === 0) {\n",
       "    console.log(\"Bokeh: BokehJS loaded, going straight to plotting\");\n",
       "    run_inline_js();\n",
       "  } else {\n",
       "    load_libs(js_urls, function() {\n",
       "      console.log(\"Bokeh: BokehJS plotting callback run at\", now());\n",
       "      run_inline_js();\n",
       "    });\n",
       "  }\n",
       "}(window));"
      ],
      "application/vnd.bokehjs_load.v0+json": "\n(function(root) {\n  function now() {\n    return new Date();\n  }\n\n  var force = true;\n\n  if (typeof (root._bokeh_onload_callbacks) === \"undefined\" || force === true) {\n    root._bokeh_onload_callbacks = [];\n    root._bokeh_is_loading = undefined;\n  }\n\n  \n\n  \n  if (typeof (root._bokeh_timeout) === \"undefined\" || force === true) {\n    root._bokeh_timeout = Date.now() + 5000;\n    root._bokeh_failed_load = false;\n  }\n\n  var NB_LOAD_WARNING = {'data': {'text/html':\n     \"<div style='background-color: #fdd'>\\n\"+\n     \"<p>\\n\"+\n     \"BokehJS does not appear to have successfully loaded. If loading BokehJS from CDN, this \\n\"+\n     \"may be due to a slow or bad network connection. Possible fixes:\\n\"+\n     \"</p>\\n\"+\n     \"<ul>\\n\"+\n     \"<li>re-rerun `output_notebook()` to attempt to load from CDN again, or</li>\\n\"+\n     \"<li>use INLINE resources instead, as so:</li>\\n\"+\n     \"</ul>\\n\"+\n     \"<code>\\n\"+\n     \"from bokeh.resources import INLINE\\n\"+\n     \"output_notebook(resources=INLINE)\\n\"+\n     \"</code>\\n\"+\n     \"</div>\"}};\n\n  function display_loaded() {\n    var el = document.getElementById(\"c91d2349-88f0-446a-bfcc-580b3a0363bf\");\n    if (el != null) {\n      el.textContent = \"BokehJS is loading...\";\n    }\n    if (root.Bokeh !== undefined) {\n      if (el != null) {\n        el.textContent = \"BokehJS \" + root.Bokeh.version + \" successfully loaded.\";\n      }\n    } else if (Date.now() < root._bokeh_timeout) {\n      setTimeout(display_loaded, 100)\n    }\n  }\n\n\n  function run_callbacks() {\n    try {\n      root._bokeh_onload_callbacks.forEach(function(callback) { callback() });\n    }\n    finally {\n      delete root._bokeh_onload_callbacks\n    }\n    console.info(\"Bokeh: all callbacks have finished\");\n  }\n\n  function load_libs(js_urls, callback) {\n    root._bokeh_onload_callbacks.push(callback);\n    if (root._bokeh_is_loading > 0) {\n      console.log(\"Bokeh: BokehJS is being loaded, scheduling callback at\", now());\n      return null;\n    }\n    if (js_urls == null || js_urls.length === 0) {\n      run_callbacks();\n      return null;\n    }\n    console.log(\"Bokeh: BokehJS not loaded, scheduling load and callback at\", now());\n    root._bokeh_is_loading = js_urls.length;\n    for (var i = 0; i < js_urls.length; i++) {\n      var url = js_urls[i];\n      var s = document.createElement('script');\n      s.src = url;\n      s.async = false;\n      s.onreadystatechange = s.onload = function() {\n        root._bokeh_is_loading--;\n        if (root._bokeh_is_loading === 0) {\n          console.log(\"Bokeh: all BokehJS libraries loaded\");\n          run_callbacks()\n        }\n      };\n      s.onerror = function() {\n        console.warn(\"failed to load library \" + url);\n      };\n      console.log(\"Bokeh: injecting script tag for BokehJS library: \", url);\n      document.getElementsByTagName(\"head\")[0].appendChild(s);\n    }\n  };var element = document.getElementById(\"c91d2349-88f0-446a-bfcc-580b3a0363bf\");\n  if (element == null) {\n    console.log(\"Bokeh: ERROR: autoload.js configured with elementid 'c91d2349-88f0-446a-bfcc-580b3a0363bf' but no matching script tag was found. \")\n    return false;\n  }\n\n  var js_urls = [\"https://cdn.pydata.org/bokeh/release/bokeh-0.12.13.min.js\", \"https://cdn.pydata.org/bokeh/release/bokeh-widgets-0.12.13.min.js\", \"https://cdn.pydata.org/bokeh/release/bokeh-tables-0.12.13.min.js\", \"https://cdn.pydata.org/bokeh/release/bokeh-gl-0.12.13.min.js\"];\n\n  var inline_js = [\n    function(Bokeh) {\n      Bokeh.set_log_level(\"info\");\n    },\n    \n    function(Bokeh) {\n      \n    },\n    function(Bokeh) {\n      console.log(\"Bokeh: injecting CSS: https://cdn.pydata.org/bokeh/release/bokeh-0.12.13.min.css\");\n      Bokeh.embed.inject_css(\"https://cdn.pydata.org/bokeh/release/bokeh-0.12.13.min.css\");\n      console.log(\"Bokeh: injecting CSS: https://cdn.pydata.org/bokeh/release/bokeh-widgets-0.12.13.min.css\");\n      Bokeh.embed.inject_css(\"https://cdn.pydata.org/bokeh/release/bokeh-widgets-0.12.13.min.css\");\n      console.log(\"Bokeh: injecting CSS: https://cdn.pydata.org/bokeh/release/bokeh-tables-0.12.13.min.css\");\n      Bokeh.embed.inject_css(\"https://cdn.pydata.org/bokeh/release/bokeh-tables-0.12.13.min.css\");\n    }\n  ];\n\n  function run_inline_js() {\n    \n    if ((root.Bokeh !== undefined) || (force === true)) {\n      for (var i = 0; i < inline_js.length; i++) {\n        inline_js[i].call(root, root.Bokeh);\n      }if (force === true) {\n        display_loaded();\n      }} else if (Date.now() < root._bokeh_timeout) {\n      setTimeout(run_inline_js, 100);\n    } else if (!root._bokeh_failed_load) {\n      console.log(\"Bokeh: BokehJS failed to load within specified timeout.\");\n      root._bokeh_failed_load = true;\n    } else if (force !== true) {\n      var cell = $(document.getElementById(\"c91d2349-88f0-446a-bfcc-580b3a0363bf\")).parents('.cell').data().cell;\n      cell.output_area.append_execute_result(NB_LOAD_WARNING)\n    }\n\n  }\n\n  if (root._bokeh_is_loading === 0) {\n    console.log(\"Bokeh: BokehJS loaded, going straight to plotting\");\n    run_inline_js();\n  } else {\n    load_libs(js_urls, function() {\n      console.log(\"Bokeh: BokehJS plotting callback run at\", now());\n      run_inline_js();\n    });\n  }\n}(window));"
     },
     "metadata": {},
     "output_type": "display_data"
    }
   ],
   "source": [
    "%pylab inline\n",
    "import bokeh\n",
    "from bokeh.plotting import figure, show #, output_file\n",
    "from bokeh.io import output_notebook\n",
    "\n",
    "output_notebook()"
   ]
  },
  {
   "cell_type": "code",
   "execution_count": 2,
   "metadata": {},
   "outputs": [],
   "source": [
    "p = figure(width=360, height=360)"
   ]
  },
  {
   "cell_type": "markdown",
   "metadata": {},
   "source": [
    "### Scatter Markers\n",
    "To scatter circle markers on a plot, use the circle() method of Figure:"
   ]
  },
  {
   "cell_type": "code",
   "execution_count": 3,
   "metadata": {},
   "outputs": [
    {
     "data": {
      "text/html": [
       "\n",
       "<div class=\"bk-root\">\n",
       "    <div class=\"bk-plotdiv\" id=\"08e49c61-9a2c-482d-8a8e-0e61a358e19f\"></div>\n",
       "</div>"
      ]
     },
     "metadata": {},
     "output_type": "display_data"
    },
    {
     "data": {
      "application/javascript": [
       "(function(root) {\n",
       "  function embed_document(root) {\n",
       "    \n",
       "  var docs_json = {\"89461b43-afa2-490d-a90a-4dca65392ff7\":{\"roots\":{\"references\":[{\"attributes\":{},\"id\":\"eb887cf5-0a3b-44f5-956b-d5a406f5eefb\",\"type\":\"BasicTickFormatter\"},{\"attributes\":{\"bottom_units\":\"screen\",\"fill_alpha\":{\"value\":0.5},\"fill_color\":{\"value\":\"lightgrey\"},\"left_units\":\"screen\",\"level\":\"overlay\",\"line_alpha\":{\"value\":1.0},\"line_color\":{\"value\":\"black\"},\"line_dash\":[4,4],\"line_width\":{\"value\":2},\"plot\":null,\"render_mode\":\"css\",\"right_units\":\"screen\",\"top_units\":\"screen\"},\"id\":\"b57262f3-552f-4196-afb2-d7ba7c489efd\",\"type\":\"BoxAnnotation\"},{\"attributes\":{\"fill_alpha\":{\"value\":0.1},\"fill_color\":{\"value\":\"#1f77b4\"},\"line_alpha\":{\"value\":0.1},\"line_color\":{\"value\":\"#1f77b4\"},\"size\":{\"units\":\"screen\",\"value\":20},\"x\":{\"field\":\"x\"},\"y\":{\"field\":\"y\"}},\"id\":\"5ba86c0b-f3e0-455c-954a-9f9f2e942468\",\"type\":\"Circle\"},{\"attributes\":{\"callback\":null},\"id\":\"c63721ca-4140-4950-98ff-f726ffb9faa3\",\"type\":\"DataRange1d\"},{\"attributes\":{\"plot\":null,\"text\":\"\"},\"id\":\"fa4f54d3-b766-4792-87e6-9c012db010c4\",\"type\":\"Title\"},{\"attributes\":{},\"id\":\"efb6a008-307a-4fed-aec8-23a9136cc2ff\",\"type\":\"WheelZoomTool\"},{\"attributes\":{},\"id\":\"8f4f2d73-b611-4dc1-b34e-96f494429c45\",\"type\":\"LinearScale\"},{\"attributes\":{\"overlay\":{\"id\":\"b57262f3-552f-4196-afb2-d7ba7c489efd\",\"type\":\"BoxAnnotation\"}},\"id\":\"9e99855f-c31e-4e84-bad7-f336a0199548\",\"type\":\"BoxZoomTool\"},{\"attributes\":{},\"id\":\"776a1539-af0d-4190-8a54-6fa770d0c918\",\"type\":\"LinearScale\"},{\"attributes\":{},\"id\":\"bc0bd96c-82b3-4aba-ad64-b803d7b0bd5f\",\"type\":\"SaveTool\"},{\"attributes\":{\"callback\":null,\"column_names\":[\"x\",\"y\"],\"data\":{\"x\":[1,2,3,4,5],\"y\":[6,7,2,4,5]}},\"id\":\"e6e2b36f-9ddd-4a8d-a7bd-f273283546bd\",\"type\":\"ColumnDataSource\"},{\"attributes\":{\"fill_alpha\":{\"value\":0.5},\"fill_color\":{\"value\":\"navy\"},\"line_alpha\":{\"value\":0.5},\"line_color\":{\"value\":\"navy\"},\"size\":{\"units\":\"screen\",\"value\":20},\"x\":{\"field\":\"x\"},\"y\":{\"field\":\"y\"}},\"id\":\"2ec24292-f2bd-4df9-bb25-be81805f2739\",\"type\":\"Circle\"},{\"attributes\":{},\"id\":\"b9abbc78-46e9-4fa0-b59b-9240b6eefb01\",\"type\":\"ResetTool\"},{\"attributes\":{\"formatter\":{\"id\":\"cbbe3f5c-5232-4fac-9670-660f60b2d87b\",\"type\":\"BasicTickFormatter\"},\"plot\":{\"id\":\"04a576cf-934f-411f-81af-168a6d5aec42\",\"subtype\":\"Figure\",\"type\":\"Plot\"},\"ticker\":{\"id\":\"97115dff-be42-402a-bcf5-52ede2527eda\",\"type\":\"BasicTicker\"}},\"id\":\"a507db57-77ab-4fdd-9f95-4014871bb869\",\"type\":\"LinearAxis\"},{\"attributes\":{},\"id\":\"a796696a-1c1a-460c-add8-e2bb0a970855\",\"type\":\"HelpTool\"},{\"attributes\":{},\"id\":\"97115dff-be42-402a-bcf5-52ede2527eda\",\"type\":\"BasicTicker\"},{\"attributes\":{\"data_source\":{\"id\":\"e6e2b36f-9ddd-4a8d-a7bd-f273283546bd\",\"type\":\"ColumnDataSource\"},\"glyph\":{\"id\":\"2ec24292-f2bd-4df9-bb25-be81805f2739\",\"type\":\"Circle\"},\"hover_glyph\":null,\"muted_glyph\":null,\"nonselection_glyph\":{\"id\":\"5ba86c0b-f3e0-455c-954a-9f9f2e942468\",\"type\":\"Circle\"},\"selection_glyph\":null,\"view\":{\"id\":\"74b305dd-ecbe-4223-aeff-c59ce14fda12\",\"type\":\"CDSView\"}},\"id\":\"d96484a5-7c24-45f2-b154-0da11569366d\",\"type\":\"GlyphRenderer\"},{\"attributes\":{\"plot\":{\"id\":\"04a576cf-934f-411f-81af-168a6d5aec42\",\"subtype\":\"Figure\",\"type\":\"Plot\"},\"ticker\":{\"id\":\"97115dff-be42-402a-bcf5-52ede2527eda\",\"type\":\"BasicTicker\"}},\"id\":\"3404fec3-1145-4025-b876-9f3897bba986\",\"type\":\"Grid\"},{\"attributes\":{\"formatter\":{\"id\":\"eb887cf5-0a3b-44f5-956b-d5a406f5eefb\",\"type\":\"BasicTickFormatter\"},\"plot\":{\"id\":\"04a576cf-934f-411f-81af-168a6d5aec42\",\"subtype\":\"Figure\",\"type\":\"Plot\"},\"ticker\":{\"id\":\"cdd62772-9bd0-4305-9983-0a30b362e777\",\"type\":\"BasicTicker\"}},\"id\":\"4f6fa377-db11-4330-bfc5-ead72d9e455d\",\"type\":\"LinearAxis\"},{\"attributes\":{},\"id\":\"cdd62772-9bd0-4305-9983-0a30b362e777\",\"type\":\"BasicTicker\"},{\"attributes\":{\"dimension\":1,\"plot\":{\"id\":\"04a576cf-934f-411f-81af-168a6d5aec42\",\"subtype\":\"Figure\",\"type\":\"Plot\"},\"ticker\":{\"id\":\"cdd62772-9bd0-4305-9983-0a30b362e777\",\"type\":\"BasicTicker\"}},\"id\":\"a4afd507-d343-4eb7-9b5e-979fc2495971\",\"type\":\"Grid\"},{\"attributes\":{\"below\":[{\"id\":\"a507db57-77ab-4fdd-9f95-4014871bb869\",\"type\":\"LinearAxis\"}],\"left\":[{\"id\":\"4f6fa377-db11-4330-bfc5-ead72d9e455d\",\"type\":\"LinearAxis\"}],\"plot_height\":400,\"plot_width\":400,\"renderers\":[{\"id\":\"a507db57-77ab-4fdd-9f95-4014871bb869\",\"type\":\"LinearAxis\"},{\"id\":\"3404fec3-1145-4025-b876-9f3897bba986\",\"type\":\"Grid\"},{\"id\":\"4f6fa377-db11-4330-bfc5-ead72d9e455d\",\"type\":\"LinearAxis\"},{\"id\":\"a4afd507-d343-4eb7-9b5e-979fc2495971\",\"type\":\"Grid\"},{\"id\":\"b57262f3-552f-4196-afb2-d7ba7c489efd\",\"type\":\"BoxAnnotation\"},{\"id\":\"d96484a5-7c24-45f2-b154-0da11569366d\",\"type\":\"GlyphRenderer\"}],\"title\":{\"id\":\"fa4f54d3-b766-4792-87e6-9c012db010c4\",\"type\":\"Title\"},\"toolbar\":{\"id\":\"28fbdae6-9fd2-478c-a292-c0228adb194a\",\"type\":\"Toolbar\"},\"x_range\":{\"id\":\"1ad7dd5c-e899-4d5c-8663-c301af24f230\",\"type\":\"DataRange1d\"},\"x_scale\":{\"id\":\"8f4f2d73-b611-4dc1-b34e-96f494429c45\",\"type\":\"LinearScale\"},\"y_range\":{\"id\":\"c63721ca-4140-4950-98ff-f726ffb9faa3\",\"type\":\"DataRange1d\"},\"y_scale\":{\"id\":\"776a1539-af0d-4190-8a54-6fa770d0c918\",\"type\":\"LinearScale\"}},\"id\":\"04a576cf-934f-411f-81af-168a6d5aec42\",\"subtype\":\"Figure\",\"type\":\"Plot\"},{\"attributes\":{},\"id\":\"cbbe3f5c-5232-4fac-9670-660f60b2d87b\",\"type\":\"BasicTickFormatter\"},{\"attributes\":{\"source\":{\"id\":\"e6e2b36f-9ddd-4a8d-a7bd-f273283546bd\",\"type\":\"ColumnDataSource\"}},\"id\":\"74b305dd-ecbe-4223-aeff-c59ce14fda12\",\"type\":\"CDSView\"},{\"attributes\":{\"active_drag\":\"auto\",\"active_inspect\":\"auto\",\"active_scroll\":\"auto\",\"active_tap\":\"auto\",\"tools\":[{\"id\":\"f9eab53b-97e8-4623-a638-b8733702179a\",\"type\":\"PanTool\"},{\"id\":\"efb6a008-307a-4fed-aec8-23a9136cc2ff\",\"type\":\"WheelZoomTool\"},{\"id\":\"9e99855f-c31e-4e84-bad7-f336a0199548\",\"type\":\"BoxZoomTool\"},{\"id\":\"bc0bd96c-82b3-4aba-ad64-b803d7b0bd5f\",\"type\":\"SaveTool\"},{\"id\":\"b9abbc78-46e9-4fa0-b59b-9240b6eefb01\",\"type\":\"ResetTool\"},{\"id\":\"a796696a-1c1a-460c-add8-e2bb0a970855\",\"type\":\"HelpTool\"}]},\"id\":\"28fbdae6-9fd2-478c-a292-c0228adb194a\",\"type\":\"Toolbar\"},{\"attributes\":{},\"id\":\"f9eab53b-97e8-4623-a638-b8733702179a\",\"type\":\"PanTool\"},{\"attributes\":{\"callback\":null},\"id\":\"1ad7dd5c-e899-4d5c-8663-c301af24f230\",\"type\":\"DataRange1d\"}],\"root_ids\":[\"04a576cf-934f-411f-81af-168a6d5aec42\"]},\"title\":\"Bokeh Application\",\"version\":\"0.12.13\"}};\n",
       "  var render_items = [{\"docid\":\"89461b43-afa2-490d-a90a-4dca65392ff7\",\"elementid\":\"08e49c61-9a2c-482d-8a8e-0e61a358e19f\",\"modelid\":\"04a576cf-934f-411f-81af-168a6d5aec42\"}];\n",
       "  root.Bokeh.embed.embed_items_notebook(docs_json, render_items);\n",
       "\n",
       "  }\n",
       "  if (root.Bokeh !== undefined) {\n",
       "    embed_document(root);\n",
       "  } else {\n",
       "    var attempts = 0;\n",
       "    var timer = setInterval(function(root) {\n",
       "      if (root.Bokeh !== undefined) {\n",
       "        embed_document(root);\n",
       "        clearInterval(timer);\n",
       "      }\n",
       "      attempts++;\n",
       "      if (attempts > 100) {\n",
       "        console.log(\"Bokeh: ERROR: Unable to run BokehJS code because BokehJS library is missing\")\n",
       "        clearInterval(timer);\n",
       "      }\n",
       "    }, 10, root)\n",
       "  }\n",
       "})(window);"
      ],
      "application/vnd.bokehjs_exec.v0+json": ""
     },
     "metadata": {
      "application/vnd.bokehjs_exec.v0+json": {
       "id": "04a576cf-934f-411f-81af-168a6d5aec42"
      }
     },
     "output_type": "display_data"
    }
   ],
   "source": [
    "from bokeh.plotting import figure, output_file, show\n",
    "\n",
    "p = figure(plot_width=400, plot_height=400)\n",
    "\n",
    "# add a circle renderer with a size, color, and alpha\n",
    "p.circle([1, 2, 3, 4, 5], [6, 7, 2, 4, 5], size=20, color=\"navy\", alpha=0.5)\n",
    "\n",
    "# show the results\n",
    "show(p)"
   ]
  },
  {
   "cell_type": "code",
   "execution_count": 6,
   "metadata": {},
   "outputs": [
    {
     "data": {
      "text/html": [
       "\n",
       "<div class=\"bk-root\">\n",
       "    <div class=\"bk-plotdiv\" id=\"21f5f463-b1fe-4597-bde8-997b909dd3cd\"></div>\n",
       "</div>"
      ]
     },
     "metadata": {},
     "output_type": "display_data"
    },
    {
     "data": {
      "application/javascript": [
       "(function(root) {\n",
       "  function embed_document(root) {\n",
       "    \n",
       "  var docs_json = {\"0ae60782-7e22-4547-83a0-5a2064a7b6dc\":{\"roots\":{\"references\":[{\"attributes\":{\"formatter\":{\"id\":\"055c50d3-d885-461b-a740-0bbfbb16ade2\",\"type\":\"BasicTickFormatter\"},\"plot\":{\"id\":\"40a49dc9-5a54-4a91-9328-ef20ce99d6bb\",\"subtype\":\"Figure\",\"type\":\"Plot\"},\"ticker\":{\"id\":\"e2e5f270-41ef-4d4a-9e50-1acad25c67fe\",\"type\":\"BasicTicker\"}},\"id\":\"aaf0bf33-f135-4be3-8a2c-afc305336b14\",\"type\":\"LinearAxis\"},{\"attributes\":{\"dimension\":1,\"plot\":{\"id\":\"40a49dc9-5a54-4a91-9328-ef20ce99d6bb\",\"subtype\":\"Figure\",\"type\":\"Plot\"},\"ticker\":{\"id\":\"e2e5f270-41ef-4d4a-9e50-1acad25c67fe\",\"type\":\"BasicTicker\"}},\"id\":\"17f7adf8-c9c6-4433-958f-56ce134124b8\",\"type\":\"Grid\"},{\"attributes\":{\"formatter\":{\"id\":\"8efb9545-eb09-4805-ab60-890299e1a8e3\",\"type\":\"BasicTickFormatter\"},\"plot\":{\"id\":\"40a49dc9-5a54-4a91-9328-ef20ce99d6bb\",\"subtype\":\"Figure\",\"type\":\"Plot\"},\"ticker\":{\"id\":\"fbdf8009-738e-459f-b776-8eafddeb53d9\",\"type\":\"BasicTicker\"}},\"id\":\"3526d8b1-e3be-4d4b-919e-f04ea0ff0e0a\",\"type\":\"LinearAxis\"},{\"attributes\":{},\"id\":\"7034fa28-7fe4-4ea6-bd2c-06431a10250d\",\"type\":\"LinearScale\"},{\"attributes\":{\"bottom_units\":\"screen\",\"fill_alpha\":{\"value\":0.5},\"fill_color\":{\"value\":\"lightgrey\"},\"left_units\":\"screen\",\"level\":\"overlay\",\"line_alpha\":{\"value\":1.0},\"line_color\":{\"value\":\"black\"},\"line_dash\":[4,4],\"line_width\":{\"value\":2},\"plot\":null,\"render_mode\":\"css\",\"right_units\":\"screen\",\"top_units\":\"screen\"},\"id\":\"d0bef396-794a-48cb-bb5b-66f7e419e1f4\",\"type\":\"BoxAnnotation\"},{\"attributes\":{\"callback\":null},\"id\":\"bfb66dd7-fea1-429c-8164-5ac0b091698b\",\"type\":\"DataRange1d\"},{\"attributes\":{\"plot\":{\"id\":\"40a49dc9-5a54-4a91-9328-ef20ce99d6bb\",\"subtype\":\"Figure\",\"type\":\"Plot\"},\"ticker\":{\"id\":\"fbdf8009-738e-459f-b776-8eafddeb53d9\",\"type\":\"BasicTicker\"}},\"id\":\"cf1b404a-8182-4453-9142-6b57827fb4c4\",\"type\":\"Grid\"},{\"attributes\":{},\"id\":\"829de17e-39ba-4f23-93a1-3e83039f2023\",\"type\":\"PanTool\"},{\"attributes\":{\"source\":{\"id\":\"fdc5b602-3bff-4dce-ab0d-3441ab9ff306\",\"type\":\"ColumnDataSource\"}},\"id\":\"18b5a4ca-ecc4-4267-a756-2d848479f4a5\",\"type\":\"CDSView\"},{\"attributes\":{\"plot\":null,\"text\":\"\"},\"id\":\"23bb1450-28c9-49bb-8d2a-71864f7a94a9\",\"type\":\"Title\"},{\"attributes\":{},\"id\":\"9330f261-401b-4945-94f3-0828a1d9be51\",\"type\":\"HelpTool\"},{\"attributes\":{},\"id\":\"a1611e5d-ccfe-43f0-8211-113c38b3f5d9\",\"type\":\"SaveTool\"},{\"attributes\":{},\"id\":\"e2e5f270-41ef-4d4a-9e50-1acad25c67fe\",\"type\":\"BasicTicker\"},{\"attributes\":{\"fill_alpha\":{\"value\":0.1},\"fill_color\":{\"value\":\"#1f77b4\"},\"line_alpha\":{\"value\":0.1},\"line_color\":{\"value\":\"#1f77b4\"},\"size\":{\"units\":\"screen\",\"value\":20},\"x\":{\"field\":\"x\"},\"y\":{\"field\":\"y\"}},\"id\":\"1a37c25e-0dca-4e9d-b68e-2027ca0bb594\",\"type\":\"Square\"},{\"attributes\":{},\"id\":\"b82ff25f-530d-4b5c-96a1-e226190119c9\",\"type\":\"ResetTool\"},{\"attributes\":{},\"id\":\"cb51c89a-faca-4c32-8872-5937feba035a\",\"type\":\"LinearScale\"},{\"attributes\":{\"data_source\":{\"id\":\"fdc5b602-3bff-4dce-ab0d-3441ab9ff306\",\"type\":\"ColumnDataSource\"},\"glyph\":{\"id\":\"ef012d73-49a4-49fa-a737-c458008b9b72\",\"type\":\"Square\"},\"hover_glyph\":null,\"muted_glyph\":null,\"nonselection_glyph\":{\"id\":\"1a37c25e-0dca-4e9d-b68e-2027ca0bb594\",\"type\":\"Square\"},\"selection_glyph\":null,\"view\":{\"id\":\"18b5a4ca-ecc4-4267-a756-2d848479f4a5\",\"type\":\"CDSView\"}},\"id\":\"76d94dfe-0bff-4850-97cb-8527359c0500\",\"type\":\"GlyphRenderer\"},{\"attributes\":{},\"id\":\"fbdf8009-738e-459f-b776-8eafddeb53d9\",\"type\":\"BasicTicker\"},{\"attributes\":{\"below\":[{\"id\":\"3526d8b1-e3be-4d4b-919e-f04ea0ff0e0a\",\"type\":\"LinearAxis\"}],\"left\":[{\"id\":\"aaf0bf33-f135-4be3-8a2c-afc305336b14\",\"type\":\"LinearAxis\"}],\"plot_height\":400,\"plot_width\":400,\"renderers\":[{\"id\":\"3526d8b1-e3be-4d4b-919e-f04ea0ff0e0a\",\"type\":\"LinearAxis\"},{\"id\":\"cf1b404a-8182-4453-9142-6b57827fb4c4\",\"type\":\"Grid\"},{\"id\":\"aaf0bf33-f135-4be3-8a2c-afc305336b14\",\"type\":\"LinearAxis\"},{\"id\":\"17f7adf8-c9c6-4433-958f-56ce134124b8\",\"type\":\"Grid\"},{\"id\":\"d0bef396-794a-48cb-bb5b-66f7e419e1f4\",\"type\":\"BoxAnnotation\"},{\"id\":\"76d94dfe-0bff-4850-97cb-8527359c0500\",\"type\":\"GlyphRenderer\"}],\"title\":{\"id\":\"23bb1450-28c9-49bb-8d2a-71864f7a94a9\",\"type\":\"Title\"},\"toolbar\":{\"id\":\"b4c14274-e1b2-4a28-9919-6cf5fd82bdcf\",\"type\":\"Toolbar\"},\"x_range\":{\"id\":\"bfb077f6-bd60-4562-ad3e-3e750490213e\",\"type\":\"DataRange1d\"},\"x_scale\":{\"id\":\"cb51c89a-faca-4c32-8872-5937feba035a\",\"type\":\"LinearScale\"},\"y_range\":{\"id\":\"bfb66dd7-fea1-429c-8164-5ac0b091698b\",\"type\":\"DataRange1d\"},\"y_scale\":{\"id\":\"7034fa28-7fe4-4ea6-bd2c-06431a10250d\",\"type\":\"LinearScale\"}},\"id\":\"40a49dc9-5a54-4a91-9328-ef20ce99d6bb\",\"subtype\":\"Figure\",\"type\":\"Plot\"},{\"attributes\":{\"active_drag\":\"auto\",\"active_inspect\":\"auto\",\"active_scroll\":\"auto\",\"active_tap\":\"auto\",\"tools\":[{\"id\":\"829de17e-39ba-4f23-93a1-3e83039f2023\",\"type\":\"PanTool\"},{\"id\":\"ee42c60b-9359-46e1-af43-368e12d8a1f9\",\"type\":\"WheelZoomTool\"},{\"id\":\"de2a20c7-a7d1-4ca7-a22e-6be0d5ec0069\",\"type\":\"BoxZoomTool\"},{\"id\":\"a1611e5d-ccfe-43f0-8211-113c38b3f5d9\",\"type\":\"SaveTool\"},{\"id\":\"b82ff25f-530d-4b5c-96a1-e226190119c9\",\"type\":\"ResetTool\"},{\"id\":\"9330f261-401b-4945-94f3-0828a1d9be51\",\"type\":\"HelpTool\"}]},\"id\":\"b4c14274-e1b2-4a28-9919-6cf5fd82bdcf\",\"type\":\"Toolbar\"},{\"attributes\":{\"overlay\":{\"id\":\"d0bef396-794a-48cb-bb5b-66f7e419e1f4\",\"type\":\"BoxAnnotation\"}},\"id\":\"de2a20c7-a7d1-4ca7-a22e-6be0d5ec0069\",\"type\":\"BoxZoomTool\"},{\"attributes\":{\"callback\":null},\"id\":\"bfb077f6-bd60-4562-ad3e-3e750490213e\",\"type\":\"DataRange1d\"},{\"attributes\":{\"fill_alpha\":{\"value\":0.5},\"fill_color\":{\"value\":\"olive\"},\"line_alpha\":{\"value\":0.5},\"line_color\":{\"value\":\"olive\"},\"size\":{\"units\":\"screen\",\"value\":20},\"x\":{\"field\":\"x\"},\"y\":{\"field\":\"y\"}},\"id\":\"ef012d73-49a4-49fa-a737-c458008b9b72\",\"type\":\"Square\"},{\"attributes\":{\"callback\":null,\"column_names\":[\"x\",\"y\"],\"data\":{\"x\":[1,2,3,4,5],\"y\":[6,7,2,4,5]}},\"id\":\"fdc5b602-3bff-4dce-ab0d-3441ab9ff306\",\"type\":\"ColumnDataSource\"},{\"attributes\":{},\"id\":\"8efb9545-eb09-4805-ab60-890299e1a8e3\",\"type\":\"BasicTickFormatter\"},{\"attributes\":{},\"id\":\"055c50d3-d885-461b-a740-0bbfbb16ade2\",\"type\":\"BasicTickFormatter\"},{\"attributes\":{},\"id\":\"ee42c60b-9359-46e1-af43-368e12d8a1f9\",\"type\":\"WheelZoomTool\"}],\"root_ids\":[\"40a49dc9-5a54-4a91-9328-ef20ce99d6bb\"]},\"title\":\"Bokeh Application\",\"version\":\"0.12.13\"}};\n",
       "  var render_items = [{\"docid\":\"0ae60782-7e22-4547-83a0-5a2064a7b6dc\",\"elementid\":\"21f5f463-b1fe-4597-bde8-997b909dd3cd\",\"modelid\":\"40a49dc9-5a54-4a91-9328-ef20ce99d6bb\"}];\n",
       "  root.Bokeh.embed.embed_items_notebook(docs_json, render_items);\n",
       "\n",
       "  }\n",
       "  if (root.Bokeh !== undefined) {\n",
       "    embed_document(root);\n",
       "  } else {\n",
       "    var attempts = 0;\n",
       "    var timer = setInterval(function(root) {\n",
       "      if (root.Bokeh !== undefined) {\n",
       "        embed_document(root);\n",
       "        clearInterval(timer);\n",
       "      }\n",
       "      attempts++;\n",
       "      if (attempts > 100) {\n",
       "        console.log(\"Bokeh: ERROR: Unable to run BokehJS code because BokehJS library is missing\")\n",
       "        clearInterval(timer);\n",
       "      }\n",
       "    }, 10, root)\n",
       "  }\n",
       "})(window);"
      ],
      "application/vnd.bokehjs_exec.v0+json": ""
     },
     "metadata": {
      "application/vnd.bokehjs_exec.v0+json": {
       "id": "40a49dc9-5a54-4a91-9328-ef20ce99d6bb"
      }
     },
     "output_type": "display_data"
    }
   ],
   "source": [
    "p = figure(plot_width=400, plot_height=400)\n",
    "\n",
    "# add a square renderer with a size, color, and alpha\n",
    "p.square([1, 2, 3, 4, 5], [6, 7, 2, 4, 5], size=20, color=\"olive\", alpha=0.5)\n",
    "\n",
    "# show the results\n",
    "show(p)"
   ]
  },
  {
   "cell_type": "markdown",
   "metadata": {},
   "source": [
    "There are lots of marker types available in Bokeh, you can see details and example plots for all of them by clicking on entries in the list below:\n",
    "```\n",
    "asterisk()\n",
    "circle()\n",
    "circle_cross()\n",
    "circle_x()\n",
    "cross()\n",
    "diamond()\n",
    "diamond_cross()\n",
    "inverted_triangle()\n",
    "square()\n",
    "square_cross()\n",
    "square_x()\n",
    "triangle()\n",
    "x()\n",
    "```"
   ]
  },
  {
   "cell_type": "markdown",
   "metadata": {},
   "source": [
    "### Line Glyphs\n",
    "#### Single Lines"
   ]
  },
  {
   "cell_type": "code",
   "execution_count": 7,
   "metadata": {},
   "outputs": [
    {
     "data": {
      "text/html": [
       "\n",
       "<div class=\"bk-root\">\n",
       "    <div class=\"bk-plotdiv\" id=\"45331e1b-4538-4bda-bf7e-d8040a225f60\"></div>\n",
       "</div>"
      ]
     },
     "metadata": {},
     "output_type": "display_data"
    },
    {
     "data": {
      "application/javascript": [
       "(function(root) {\n",
       "  function embed_document(root) {\n",
       "    \n",
       "  var docs_json = {\"677f0538-e3e1-4927-938e-042eab21d811\":{\"roots\":{\"references\":[{\"attributes\":{},\"id\":\"cecce824-d0d9-4bd0-8b73-edf138b5a3ff\",\"type\":\"LinearScale\"},{\"attributes\":{\"line_color\":\"#1f77b4\",\"line_width\":2,\"x\":{\"field\":\"x\"},\"y\":{\"field\":\"y\"}},\"id\":\"c16642ef-56bc-4151-beec-6f969205fca2\",\"type\":\"Line\"},{\"attributes\":{\"dimension\":1,\"plot\":{\"id\":\"d32d0f97-c530-4cb4-b9bc-a4f876a7d983\",\"subtype\":\"Figure\",\"type\":\"Plot\"},\"ticker\":{\"id\":\"fe10a2e5-f747-4699-98ef-fab7664c29f1\",\"type\":\"BasicTicker\"}},\"id\":\"434256c1-bdc6-4037-85e5-36a122a814f4\",\"type\":\"Grid\"},{\"attributes\":{},\"id\":\"6efcaae7-3267-4408-b40a-1c29966202b8\",\"type\":\"ResetTool\"},{\"attributes\":{\"overlay\":{\"id\":\"d5fd79f0-8d6d-4771-9ebe-78a7201d5563\",\"type\":\"BoxAnnotation\"}},\"id\":\"cf157cb8-7408-4bfa-b83d-9704668e5dc3\",\"type\":\"BoxZoomTool\"},{\"attributes\":{},\"id\":\"bb580dac-f048-4d57-a5c0-4b7f7bfece0d\",\"type\":\"BasicTickFormatter\"},{\"attributes\":{\"plot\":{\"id\":\"d32d0f97-c530-4cb4-b9bc-a4f876a7d983\",\"subtype\":\"Figure\",\"type\":\"Plot\"},\"ticker\":{\"id\":\"ab79ccf0-fc6b-48ef-895d-14ed319b325f\",\"type\":\"BasicTicker\"}},\"id\":\"806e84b0-77e2-4b2e-a88c-5cca9ad21f4d\",\"type\":\"Grid\"},{\"attributes\":{},\"id\":\"a3b79118-ec8c-4246-813f-d3ec46aa4ba4\",\"type\":\"SaveTool\"},{\"attributes\":{},\"id\":\"2dab9eb3-9d91-4bb7-bef9-d5b451fdf630\",\"type\":\"WheelZoomTool\"},{\"attributes\":{\"formatter\":{\"id\":\"b5f27b44-aeba-44b8-8ac9-453816d55537\",\"type\":\"BasicTickFormatter\"},\"plot\":{\"id\":\"d32d0f97-c530-4cb4-b9bc-a4f876a7d983\",\"subtype\":\"Figure\",\"type\":\"Plot\"},\"ticker\":{\"id\":\"ab79ccf0-fc6b-48ef-895d-14ed319b325f\",\"type\":\"BasicTicker\"}},\"id\":\"95c30818-a849-4f6c-bdb0-157b5fa9d93f\",\"type\":\"LinearAxis\"},{\"attributes\":{\"line_alpha\":0.1,\"line_color\":\"#1f77b4\",\"line_width\":2,\"x\":{\"field\":\"x\"},\"y\":{\"field\":\"y\"}},\"id\":\"bd348e85-6874-4d6f-aa76-f0d4c9e7853d\",\"type\":\"Line\"},{\"attributes\":{\"bottom_units\":\"screen\",\"fill_alpha\":{\"value\":0.5},\"fill_color\":{\"value\":\"lightgrey\"},\"left_units\":\"screen\",\"level\":\"overlay\",\"line_alpha\":{\"value\":1.0},\"line_color\":{\"value\":\"black\"},\"line_dash\":[4,4],\"line_width\":{\"value\":2},\"plot\":null,\"render_mode\":\"css\",\"right_units\":\"screen\",\"top_units\":\"screen\"},\"id\":\"d5fd79f0-8d6d-4771-9ebe-78a7201d5563\",\"type\":\"BoxAnnotation\"},{\"attributes\":{},\"id\":\"1d6f056e-9e26-4c54-a841-f4496a38c4c6\",\"type\":\"HelpTool\"},{\"attributes\":{\"callback\":null},\"id\":\"159eca19-fc61-4c7a-a0ea-841bb99d2c5a\",\"type\":\"DataRange1d\"},{\"attributes\":{\"callback\":null},\"id\":\"115c27e0-2cab-49a8-a0a4-5425e81101fc\",\"type\":\"DataRange1d\"},{\"attributes\":{\"callback\":null,\"column_names\":[\"x\",\"y\"],\"data\":{\"x\":[1,2,3,4,5],\"y\":[6,7,2,4,5]}},\"id\":\"b27ef219-6b57-4f11-bf96-16de59d6a65f\",\"type\":\"ColumnDataSource\"},{\"attributes\":{},\"id\":\"03ef345d-9165-42d9-a44e-65197b22ae62\",\"type\":\"PanTool\"},{\"attributes\":{\"active_drag\":\"auto\",\"active_inspect\":\"auto\",\"active_scroll\":\"auto\",\"active_tap\":\"auto\",\"tools\":[{\"id\":\"03ef345d-9165-42d9-a44e-65197b22ae62\",\"type\":\"PanTool\"},{\"id\":\"2dab9eb3-9d91-4bb7-bef9-d5b451fdf630\",\"type\":\"WheelZoomTool\"},{\"id\":\"cf157cb8-7408-4bfa-b83d-9704668e5dc3\",\"type\":\"BoxZoomTool\"},{\"id\":\"a3b79118-ec8c-4246-813f-d3ec46aa4ba4\",\"type\":\"SaveTool\"},{\"id\":\"6efcaae7-3267-4408-b40a-1c29966202b8\",\"type\":\"ResetTool\"},{\"id\":\"1d6f056e-9e26-4c54-a841-f4496a38c4c6\",\"type\":\"HelpTool\"}]},\"id\":\"1a0fd6e8-0242-4406-a271-e21db4c6bd6d\",\"type\":\"Toolbar\"},{\"attributes\":{},\"id\":\"fe10a2e5-f747-4699-98ef-fab7664c29f1\",\"type\":\"BasicTicker\"},{\"attributes\":{},\"id\":\"69e0d529-144d-4c88-a340-9dabfd084428\",\"type\":\"LinearScale\"},{\"attributes\":{},\"id\":\"b5f27b44-aeba-44b8-8ac9-453816d55537\",\"type\":\"BasicTickFormatter\"},{\"attributes\":{},\"id\":\"ab79ccf0-fc6b-48ef-895d-14ed319b325f\",\"type\":\"BasicTicker\"},{\"attributes\":{\"plot\":null,\"text\":\"\"},\"id\":\"a5c9cf9b-d4d9-4205-9ffe-26cb6cab8590\",\"type\":\"Title\"},{\"attributes\":{\"data_source\":{\"id\":\"b27ef219-6b57-4f11-bf96-16de59d6a65f\",\"type\":\"ColumnDataSource\"},\"glyph\":{\"id\":\"c16642ef-56bc-4151-beec-6f969205fca2\",\"type\":\"Line\"},\"hover_glyph\":null,\"muted_glyph\":null,\"nonselection_glyph\":{\"id\":\"bd348e85-6874-4d6f-aa76-f0d4c9e7853d\",\"type\":\"Line\"},\"selection_glyph\":null,\"view\":{\"id\":\"768eb3e6-528d-4371-a550-df9ac11fe216\",\"type\":\"CDSView\"}},\"id\":\"87aee8d0-0f4e-4862-bc80-c18dad25656d\",\"type\":\"GlyphRenderer\"},{\"attributes\":{\"formatter\":{\"id\":\"bb580dac-f048-4d57-a5c0-4b7f7bfece0d\",\"type\":\"BasicTickFormatter\"},\"plot\":{\"id\":\"d32d0f97-c530-4cb4-b9bc-a4f876a7d983\",\"subtype\":\"Figure\",\"type\":\"Plot\"},\"ticker\":{\"id\":\"fe10a2e5-f747-4699-98ef-fab7664c29f1\",\"type\":\"BasicTicker\"}},\"id\":\"e44e27e8-6876-43ed-8144-61d552a1e63e\",\"type\":\"LinearAxis\"},{\"attributes\":{\"source\":{\"id\":\"b27ef219-6b57-4f11-bf96-16de59d6a65f\",\"type\":\"ColumnDataSource\"}},\"id\":\"768eb3e6-528d-4371-a550-df9ac11fe216\",\"type\":\"CDSView\"},{\"attributes\":{\"below\":[{\"id\":\"95c30818-a849-4f6c-bdb0-157b5fa9d93f\",\"type\":\"LinearAxis\"}],\"left\":[{\"id\":\"e44e27e8-6876-43ed-8144-61d552a1e63e\",\"type\":\"LinearAxis\"}],\"plot_height\":400,\"plot_width\":400,\"renderers\":[{\"id\":\"95c30818-a849-4f6c-bdb0-157b5fa9d93f\",\"type\":\"LinearAxis\"},{\"id\":\"806e84b0-77e2-4b2e-a88c-5cca9ad21f4d\",\"type\":\"Grid\"},{\"id\":\"e44e27e8-6876-43ed-8144-61d552a1e63e\",\"type\":\"LinearAxis\"},{\"id\":\"434256c1-bdc6-4037-85e5-36a122a814f4\",\"type\":\"Grid\"},{\"id\":\"d5fd79f0-8d6d-4771-9ebe-78a7201d5563\",\"type\":\"BoxAnnotation\"},{\"id\":\"87aee8d0-0f4e-4862-bc80-c18dad25656d\",\"type\":\"GlyphRenderer\"}],\"title\":{\"id\":\"a5c9cf9b-d4d9-4205-9ffe-26cb6cab8590\",\"type\":\"Title\"},\"toolbar\":{\"id\":\"1a0fd6e8-0242-4406-a271-e21db4c6bd6d\",\"type\":\"Toolbar\"},\"x_range\":{\"id\":\"159eca19-fc61-4c7a-a0ea-841bb99d2c5a\",\"type\":\"DataRange1d\"},\"x_scale\":{\"id\":\"69e0d529-144d-4c88-a340-9dabfd084428\",\"type\":\"LinearScale\"},\"y_range\":{\"id\":\"115c27e0-2cab-49a8-a0a4-5425e81101fc\",\"type\":\"DataRange1d\"},\"y_scale\":{\"id\":\"cecce824-d0d9-4bd0-8b73-edf138b5a3ff\",\"type\":\"LinearScale\"}},\"id\":\"d32d0f97-c530-4cb4-b9bc-a4f876a7d983\",\"subtype\":\"Figure\",\"type\":\"Plot\"}],\"root_ids\":[\"d32d0f97-c530-4cb4-b9bc-a4f876a7d983\"]},\"title\":\"Bokeh Application\",\"version\":\"0.12.13\"}};\n",
       "  var render_items = [{\"docid\":\"677f0538-e3e1-4927-938e-042eab21d811\",\"elementid\":\"45331e1b-4538-4bda-bf7e-d8040a225f60\",\"modelid\":\"d32d0f97-c530-4cb4-b9bc-a4f876a7d983\"}];\n",
       "  root.Bokeh.embed.embed_items_notebook(docs_json, render_items);\n",
       "\n",
       "  }\n",
       "  if (root.Bokeh !== undefined) {\n",
       "    embed_document(root);\n",
       "  } else {\n",
       "    var attempts = 0;\n",
       "    var timer = setInterval(function(root) {\n",
       "      if (root.Bokeh !== undefined) {\n",
       "        embed_document(root);\n",
       "        clearInterval(timer);\n",
       "      }\n",
       "      attempts++;\n",
       "      if (attempts > 100) {\n",
       "        console.log(\"Bokeh: ERROR: Unable to run BokehJS code because BokehJS library is missing\")\n",
       "        clearInterval(timer);\n",
       "      }\n",
       "    }, 10, root)\n",
       "  }\n",
       "})(window);"
      ],
      "application/vnd.bokehjs_exec.v0+json": ""
     },
     "metadata": {
      "application/vnd.bokehjs_exec.v0+json": {
       "id": "d32d0f97-c530-4cb4-b9bc-a4f876a7d983"
      }
     },
     "output_type": "display_data"
    }
   ],
   "source": [
    "p = figure(plot_width=400, plot_height=400)\n",
    "\n",
    "# add a line renderer\n",
    "p.line([1, 2, 3, 4, 5], [6, 7, 2, 4, 5], line_width=2)\n",
    "\n",
    "show(p)"
   ]
  },
  {
   "cell_type": "markdown",
   "metadata": {},
   "source": [
    "### Step Lines"
   ]
  },
  {
   "cell_type": "code",
   "execution_count": 9,
   "metadata": {},
   "outputs": [
    {
     "data": {
      "text/html": [
       "\n",
       "<div class=\"bk-root\">\n",
       "    <div class=\"bk-plotdiv\" id=\"5c8c8394-0639-44ff-94b6-7152d6f9ac5e\"></div>\n",
       "</div>"
      ]
     },
     "metadata": {},
     "output_type": "display_data"
    },
    {
     "data": {
      "application/javascript": [
       "(function(root) {\n",
       "  function embed_document(root) {\n",
       "    \n",
       "  var docs_json = {\"62366993-98fb-4a62-a133-3a68ed8ae1be\":{\"roots\":{\"references\":[{\"attributes\":{\"dimension\":1,\"plot\":{\"id\":\"94d588a2-0534-4842-b30d-9dd0fdf05d97\",\"subtype\":\"Figure\",\"type\":\"Plot\"},\"ticker\":{\"id\":\"63c27fa4-45f6-4c37-8c0e-43cabc17ec3f\",\"type\":\"BasicTicker\"}},\"id\":\"2b303d95-1ca8-44e3-af3f-cc998c194f7c\",\"type\":\"Grid\"},{\"attributes\":{\"source\":{\"id\":\"e3aef274-45f3-4741-9b80-c6827ce80cf8\",\"type\":\"ColumnDataSource\"}},\"id\":\"6c9fb27d-53f6-41e3-8707-43f00d09f720\",\"type\":\"CDSView\"},{\"attributes\":{\"line_color\":{\"value\":\"#1f77b4\"},\"line_width\":{\"value\":2},\"mode\":\"center\",\"x\":{\"field\":\"x\"},\"y\":{\"field\":\"y\"}},\"id\":\"c1e43069-2cf4-4317-b989-3c75e1f0b0d2\",\"type\":\"Step\"},{\"attributes\":{\"data_source\":{\"id\":\"e3aef274-45f3-4741-9b80-c6827ce80cf8\",\"type\":\"ColumnDataSource\"},\"glyph\":{\"id\":\"c1e43069-2cf4-4317-b989-3c75e1f0b0d2\",\"type\":\"Step\"},\"hover_glyph\":null,\"muted_glyph\":null,\"nonselection_glyph\":{\"id\":\"567cc52a-a23a-459d-afb9-bf6b3f38dbfe\",\"type\":\"Step\"},\"selection_glyph\":null,\"view\":{\"id\":\"6c9fb27d-53f6-41e3-8707-43f00d09f720\",\"type\":\"CDSView\"}},\"id\":\"d8ba48ec-62ac-405c-97b0-afaa2cd68484\",\"type\":\"GlyphRenderer\"},{\"attributes\":{\"below\":[{\"id\":\"aec22521-9784-4b4a-a1bb-6c92f734ae45\",\"type\":\"LinearAxis\"}],\"left\":[{\"id\":\"94d6cbc9-9bb3-4523-a61e-4f4280214ac9\",\"type\":\"LinearAxis\"}],\"plot_height\":400,\"plot_width\":400,\"renderers\":[{\"id\":\"aec22521-9784-4b4a-a1bb-6c92f734ae45\",\"type\":\"LinearAxis\"},{\"id\":\"c8dfdef2-10e1-479b-9c34-2407bdba9702\",\"type\":\"Grid\"},{\"id\":\"94d6cbc9-9bb3-4523-a61e-4f4280214ac9\",\"type\":\"LinearAxis\"},{\"id\":\"2b303d95-1ca8-44e3-af3f-cc998c194f7c\",\"type\":\"Grid\"},{\"id\":\"612c73fb-a382-437e-bf34-d65614dd7b46\",\"type\":\"BoxAnnotation\"},{\"id\":\"d8ba48ec-62ac-405c-97b0-afaa2cd68484\",\"type\":\"GlyphRenderer\"}],\"title\":{\"id\":\"9f1e380f-edd7-46c3-8f15-c659d9bbc2e3\",\"type\":\"Title\"},\"toolbar\":{\"id\":\"8ffc1b8b-6e4e-490f-9ec0-c282d4ce9fab\",\"type\":\"Toolbar\"},\"x_range\":{\"id\":\"9d6914c4-847d-4d71-a961-3433eacd5704\",\"type\":\"DataRange1d\"},\"x_scale\":{\"id\":\"5963758e-88f4-4bd1-9286-2d8136d87ddb\",\"type\":\"LinearScale\"},\"y_range\":{\"id\":\"c10898e0-abcb-4636-bf0b-0394fe171c20\",\"type\":\"DataRange1d\"},\"y_scale\":{\"id\":\"82ef43c5-5997-49f8-9927-94290498ab30\",\"type\":\"LinearScale\"}},\"id\":\"94d588a2-0534-4842-b30d-9dd0fdf05d97\",\"subtype\":\"Figure\",\"type\":\"Plot\"},{\"attributes\":{\"line_alpha\":{\"value\":0.1},\"line_color\":{\"value\":\"#1f77b4\"},\"line_width\":{\"value\":2},\"mode\":\"center\",\"x\":{\"field\":\"x\"},\"y\":{\"field\":\"y\"}},\"id\":\"567cc52a-a23a-459d-afb9-bf6b3f38dbfe\",\"type\":\"Step\"},{\"attributes\":{},\"id\":\"8ad7c0c1-bb6d-472d-bbc1-fe2ab2ab630d\",\"type\":\"BasicTickFormatter\"},{\"attributes\":{\"bottom_units\":\"screen\",\"fill_alpha\":{\"value\":0.5},\"fill_color\":{\"value\":\"lightgrey\"},\"left_units\":\"screen\",\"level\":\"overlay\",\"line_alpha\":{\"value\":1.0},\"line_color\":{\"value\":\"black\"},\"line_dash\":[4,4],\"line_width\":{\"value\":2},\"plot\":null,\"render_mode\":\"css\",\"right_units\":\"screen\",\"top_units\":\"screen\"},\"id\":\"612c73fb-a382-437e-bf34-d65614dd7b46\",\"type\":\"BoxAnnotation\"},{\"attributes\":{\"active_drag\":\"auto\",\"active_inspect\":\"auto\",\"active_scroll\":\"auto\",\"active_tap\":\"auto\",\"tools\":[{\"id\":\"c8880e03-8d3d-4780-bab8-c5c5abf2c7e2\",\"type\":\"PanTool\"},{\"id\":\"982bb7f3-e13f-449f-a938-2235653470f7\",\"type\":\"WheelZoomTool\"},{\"id\":\"71de1883-78ab-4e6f-849b-ccd512757530\",\"type\":\"BoxZoomTool\"},{\"id\":\"671b6758-16d3-4e8d-a48d-d4893cd71ec2\",\"type\":\"SaveTool\"},{\"id\":\"c6324caf-b909-490e-bbf9-6bb994ca660e\",\"type\":\"ResetTool\"},{\"id\":\"fa2f1d59-8ea7-4566-8a74-4a5598dca643\",\"type\":\"HelpTool\"}]},\"id\":\"8ffc1b8b-6e4e-490f-9ec0-c282d4ce9fab\",\"type\":\"Toolbar\"},{\"attributes\":{},\"id\":\"c8880e03-8d3d-4780-bab8-c5c5abf2c7e2\",\"type\":\"PanTool\"},{\"attributes\":{\"callback\":null},\"id\":\"9d6914c4-847d-4d71-a961-3433eacd5704\",\"type\":\"DataRange1d\"},{\"attributes\":{\"plot\":null,\"text\":\"\"},\"id\":\"9f1e380f-edd7-46c3-8f15-c659d9bbc2e3\",\"type\":\"Title\"},{\"attributes\":{},\"id\":\"982bb7f3-e13f-449f-a938-2235653470f7\",\"type\":\"WheelZoomTool\"},{\"attributes\":{\"callback\":null},\"id\":\"c10898e0-abcb-4636-bf0b-0394fe171c20\",\"type\":\"DataRange1d\"},{\"attributes\":{\"overlay\":{\"id\":\"612c73fb-a382-437e-bf34-d65614dd7b46\",\"type\":\"BoxAnnotation\"}},\"id\":\"71de1883-78ab-4e6f-849b-ccd512757530\",\"type\":\"BoxZoomTool\"},{\"attributes\":{},\"id\":\"5963758e-88f4-4bd1-9286-2d8136d87ddb\",\"type\":\"LinearScale\"},{\"attributes\":{},\"id\":\"671b6758-16d3-4e8d-a48d-d4893cd71ec2\",\"type\":\"SaveTool\"},{\"attributes\":{},\"id\":\"82ef43c5-5997-49f8-9927-94290498ab30\",\"type\":\"LinearScale\"},{\"attributes\":{},\"id\":\"c6324caf-b909-490e-bbf9-6bb994ca660e\",\"type\":\"ResetTool\"},{\"attributes\":{\"plot\":{\"id\":\"94d588a2-0534-4842-b30d-9dd0fdf05d97\",\"subtype\":\"Figure\",\"type\":\"Plot\"},\"ticker\":{\"id\":\"fe22f71f-662b-44a4-9d43-9f1d5749bf07\",\"type\":\"BasicTicker\"}},\"id\":\"c8dfdef2-10e1-479b-9c34-2407bdba9702\",\"type\":\"Grid\"},{\"attributes\":{},\"id\":\"fa2f1d59-8ea7-4566-8a74-4a5598dca643\",\"type\":\"HelpTool\"},{\"attributes\":{\"formatter\":{\"id\":\"cd044ed3-ed43-472a-b6be-9bd92301c948\",\"type\":\"BasicTickFormatter\"},\"plot\":{\"id\":\"94d588a2-0534-4842-b30d-9dd0fdf05d97\",\"subtype\":\"Figure\",\"type\":\"Plot\"},\"ticker\":{\"id\":\"fe22f71f-662b-44a4-9d43-9f1d5749bf07\",\"type\":\"BasicTicker\"}},\"id\":\"aec22521-9784-4b4a-a1bb-6c92f734ae45\",\"type\":\"LinearAxis\"},{\"attributes\":{},\"id\":\"fe22f71f-662b-44a4-9d43-9f1d5749bf07\",\"type\":\"BasicTicker\"},{\"attributes\":{\"callback\":null,\"column_names\":[\"x\",\"y\"],\"data\":{\"x\":[1,2,3,4,5],\"y\":[6,7,2,4,5]}},\"id\":\"e3aef274-45f3-4741-9b80-c6827ce80cf8\",\"type\":\"ColumnDataSource\"},{\"attributes\":{},\"id\":\"cd044ed3-ed43-472a-b6be-9bd92301c948\",\"type\":\"BasicTickFormatter\"},{\"attributes\":{\"formatter\":{\"id\":\"8ad7c0c1-bb6d-472d-bbc1-fe2ab2ab630d\",\"type\":\"BasicTickFormatter\"},\"plot\":{\"id\":\"94d588a2-0534-4842-b30d-9dd0fdf05d97\",\"subtype\":\"Figure\",\"type\":\"Plot\"},\"ticker\":{\"id\":\"63c27fa4-45f6-4c37-8c0e-43cabc17ec3f\",\"type\":\"BasicTicker\"}},\"id\":\"94d6cbc9-9bb3-4523-a61e-4f4280214ac9\",\"type\":\"LinearAxis\"},{\"attributes\":{},\"id\":\"63c27fa4-45f6-4c37-8c0e-43cabc17ec3f\",\"type\":\"BasicTicker\"}],\"root_ids\":[\"94d588a2-0534-4842-b30d-9dd0fdf05d97\"]},\"title\":\"Bokeh Application\",\"version\":\"0.12.13\"}};\n",
       "  var render_items = [{\"docid\":\"62366993-98fb-4a62-a133-3a68ed8ae1be\",\"elementid\":\"5c8c8394-0639-44ff-94b6-7152d6f9ac5e\",\"modelid\":\"94d588a2-0534-4842-b30d-9dd0fdf05d97\"}];\n",
       "  root.Bokeh.embed.embed_items_notebook(docs_json, render_items);\n",
       "\n",
       "  }\n",
       "  if (root.Bokeh !== undefined) {\n",
       "    embed_document(root);\n",
       "  } else {\n",
       "    var attempts = 0;\n",
       "    var timer = setInterval(function(root) {\n",
       "      if (root.Bokeh !== undefined) {\n",
       "        embed_document(root);\n",
       "        clearInterval(timer);\n",
       "      }\n",
       "      attempts++;\n",
       "      if (attempts > 100) {\n",
       "        console.log(\"Bokeh: ERROR: Unable to run BokehJS code because BokehJS library is missing\")\n",
       "        clearInterval(timer);\n",
       "      }\n",
       "    }, 10, root)\n",
       "  }\n",
       "})(window);"
      ],
      "application/vnd.bokehjs_exec.v0+json": ""
     },
     "metadata": {
      "application/vnd.bokehjs_exec.v0+json": {
       "id": "94d588a2-0534-4842-b30d-9dd0fdf05d97"
      }
     },
     "output_type": "display_data"
    }
   ],
   "source": [
    "p = figure(plot_width=400, plot_height=400)\n",
    "\n",
    "# add a steps renderer\n",
    "p.step([1, 2, 3, 4, 5], [6, 7, 2, 4, 5], line_width=2, mode=\"center\")\n",
    "\n",
    "show(p)"
   ]
  },
  {
   "cell_type": "markdown",
   "metadata": {},
   "source": [
    "### Multiple Lines"
   ]
  },
  {
   "cell_type": "code",
   "execution_count": 10,
   "metadata": {},
   "outputs": [
    {
     "data": {
      "text/html": [
       "\n",
       "<div class=\"bk-root\">\n",
       "    <div class=\"bk-plotdiv\" id=\"430809f5-ba40-4825-85e0-e0a8cb30b573\"></div>\n",
       "</div>"
      ]
     },
     "metadata": {},
     "output_type": "display_data"
    },
    {
     "data": {
      "application/javascript": [
       "(function(root) {\n",
       "  function embed_document(root) {\n",
       "    \n",
       "  var docs_json = {\"9bddce02-14fa-4fa8-a501-250d26f8b48b\":{\"roots\":{\"references\":[{\"attributes\":{\"callback\":null},\"id\":\"1eaf1550-c426-43a7-86dc-38c6de153309\",\"type\":\"DataRange1d\"},{\"attributes\":{},\"id\":\"d415bb6c-9132-47a6-92bf-d4d2f5dc0c96\",\"type\":\"PanTool\"},{\"attributes\":{\"bottom_units\":\"screen\",\"fill_alpha\":{\"value\":0.5},\"fill_color\":{\"value\":\"lightgrey\"},\"left_units\":\"screen\",\"level\":\"overlay\",\"line_alpha\":{\"value\":1.0},\"line_color\":{\"value\":\"black\"},\"line_dash\":[4,4],\"line_width\":{\"value\":2},\"plot\":null,\"render_mode\":\"css\",\"right_units\":\"screen\",\"top_units\":\"screen\"},\"id\":\"e7ff674f-1fe4-43ac-b28a-10635bf6a4ce\",\"type\":\"BoxAnnotation\"},{\"attributes\":{\"active_drag\":\"auto\",\"active_inspect\":\"auto\",\"active_scroll\":\"auto\",\"active_tap\":\"auto\",\"tools\":[{\"id\":\"d415bb6c-9132-47a6-92bf-d4d2f5dc0c96\",\"type\":\"PanTool\"},{\"id\":\"367cfe83-d2d5-4c06-a5c9-e792110c33c8\",\"type\":\"WheelZoomTool\"},{\"id\":\"4ce86e11-3531-4121-b1b3-b4c1d831de1a\",\"type\":\"BoxZoomTool\"},{\"id\":\"89efc7fc-bc82-4db4-a8e7-c151ea483492\",\"type\":\"SaveTool\"},{\"id\":\"92f55628-f3c1-4a06-a9f7-55c51d012677\",\"type\":\"ResetTool\"},{\"id\":\"a7d7b352-dad3-481f-a88a-b50e4f88977b\",\"type\":\"HelpTool\"}]},\"id\":\"b68af92b-53fa-47e0-9485-72a97b6c0225\",\"type\":\"Toolbar\"},{\"attributes\":{},\"id\":\"a7d7b352-dad3-481f-a88a-b50e4f88977b\",\"type\":\"HelpTool\"},{\"attributes\":{},\"id\":\"0da326ed-4254-40ec-8b9e-438686471533\",\"type\":\"BasicTicker\"},{\"attributes\":{},\"id\":\"92f55628-f3c1-4a06-a9f7-55c51d012677\",\"type\":\"ResetTool\"},{\"attributes\":{\"line_alpha\":{\"value\":0.1},\"line_color\":{\"value\":\"#1f77b4\"},\"line_width\":{\"value\":4},\"xs\":{\"field\":\"xs\"},\"ys\":{\"field\":\"ys\"}},\"id\":\"751d7a93-ab59-4890-bc73-53d427f1a32a\",\"type\":\"MultiLine\"},{\"attributes\":{\"below\":[{\"id\":\"1ec58bcc-620d-47a3-a76e-3130b1d85aaa\",\"type\":\"LinearAxis\"}],\"left\":[{\"id\":\"740bea0e-a5e7-4807-a8bc-e16ae54a7b51\",\"type\":\"LinearAxis\"}],\"plot_height\":400,\"plot_width\":400,\"renderers\":[{\"id\":\"1ec58bcc-620d-47a3-a76e-3130b1d85aaa\",\"type\":\"LinearAxis\"},{\"id\":\"40e485ea-fe38-4510-b6a5-399ce1e2a011\",\"type\":\"Grid\"},{\"id\":\"740bea0e-a5e7-4807-a8bc-e16ae54a7b51\",\"type\":\"LinearAxis\"},{\"id\":\"445edf1a-187d-4c92-a462-0e2f704744bd\",\"type\":\"Grid\"},{\"id\":\"e7ff674f-1fe4-43ac-b28a-10635bf6a4ce\",\"type\":\"BoxAnnotation\"},{\"id\":\"20b9fd64-aac3-4f69-a7a0-5cde5befd29a\",\"type\":\"GlyphRenderer\"}],\"title\":{\"id\":\"b8dcc63f-6935-4333-a388-e129e5865709\",\"type\":\"Title\"},\"toolbar\":{\"id\":\"b68af92b-53fa-47e0-9485-72a97b6c0225\",\"type\":\"Toolbar\"},\"x_range\":{\"id\":\"1eaf1550-c426-43a7-86dc-38c6de153309\",\"type\":\"DataRange1d\"},\"x_scale\":{\"id\":\"447b06f1-de2e-4ff4-8649-09ebb8daa304\",\"type\":\"LinearScale\"},\"y_range\":{\"id\":\"829aa0c1-7fca-4b96-a5f3-b2d6e5207cff\",\"type\":\"DataRange1d\"},\"y_scale\":{\"id\":\"27436b10-359b-4646-b629-fe1a65749462\",\"type\":\"LinearScale\"}},\"id\":\"d907bda9-7095-4967-aea7-79335d37a483\",\"subtype\":\"Figure\",\"type\":\"Plot\"},{\"attributes\":{\"plot\":null,\"text\":\"\"},\"id\":\"b8dcc63f-6935-4333-a388-e129e5865709\",\"type\":\"Title\"},{\"attributes\":{\"dimension\":1,\"plot\":{\"id\":\"d907bda9-7095-4967-aea7-79335d37a483\",\"subtype\":\"Figure\",\"type\":\"Plot\"},\"ticker\":{\"id\":\"0da326ed-4254-40ec-8b9e-438686471533\",\"type\":\"BasicTicker\"}},\"id\":\"445edf1a-187d-4c92-a462-0e2f704744bd\",\"type\":\"Grid\"},{\"attributes\":{\"overlay\":{\"id\":\"e7ff674f-1fe4-43ac-b28a-10635bf6a4ce\",\"type\":\"BoxAnnotation\"}},\"id\":\"4ce86e11-3531-4121-b1b3-b4c1d831de1a\",\"type\":\"BoxZoomTool\"},{\"attributes\":{},\"id\":\"367cfe83-d2d5-4c06-a5c9-e792110c33c8\",\"type\":\"WheelZoomTool\"},{\"attributes\":{\"formatter\":{\"id\":\"5d6b4a80-95b7-4432-817c-61d9497504f1\",\"type\":\"BasicTickFormatter\"},\"plot\":{\"id\":\"d907bda9-7095-4967-aea7-79335d37a483\",\"subtype\":\"Figure\",\"type\":\"Plot\"},\"ticker\":{\"id\":\"0da326ed-4254-40ec-8b9e-438686471533\",\"type\":\"BasicTicker\"}},\"id\":\"740bea0e-a5e7-4807-a8bc-e16ae54a7b51\",\"type\":\"LinearAxis\"},{\"attributes\":{\"source\":{\"id\":\"6ac04b52-9cd1-491e-a83c-02fe9712191a\",\"type\":\"ColumnDataSource\"}},\"id\":\"611f020b-8f62-47e4-abd0-2f4df8528db3\",\"type\":\"CDSView\"},{\"attributes\":{},\"id\":\"a3b437d2-c92a-4dee-bf36-86f3cc6a8168\",\"type\":\"BasicTickFormatter\"},{\"attributes\":{},\"id\":\"447b06f1-de2e-4ff4-8649-09ebb8daa304\",\"type\":\"LinearScale\"},{\"attributes\":{},\"id\":\"89efc7fc-bc82-4db4-a8e7-c151ea483492\",\"type\":\"SaveTool\"},{\"attributes\":{\"plot\":{\"id\":\"d907bda9-7095-4967-aea7-79335d37a483\",\"subtype\":\"Figure\",\"type\":\"Plot\"},\"ticker\":{\"id\":\"7b58432a-9805-4884-a539-75d58763ba64\",\"type\":\"BasicTicker\"}},\"id\":\"40e485ea-fe38-4510-b6a5-399ce1e2a011\",\"type\":\"Grid\"},{\"attributes\":{},\"id\":\"7b58432a-9805-4884-a539-75d58763ba64\",\"type\":\"BasicTicker\"},{\"attributes\":{\"line_alpha\":{\"field\":\"line_alpha\"},\"line_color\":{\"field\":\"line_color\"},\"line_width\":{\"value\":4},\"xs\":{\"field\":\"xs\"},\"ys\":{\"field\":\"ys\"}},\"id\":\"b357209a-4e80-467a-b8cc-33d24843a737\",\"type\":\"MultiLine\"},{\"attributes\":{\"formatter\":{\"id\":\"a3b437d2-c92a-4dee-bf36-86f3cc6a8168\",\"type\":\"BasicTickFormatter\"},\"plot\":{\"id\":\"d907bda9-7095-4967-aea7-79335d37a483\",\"subtype\":\"Figure\",\"type\":\"Plot\"},\"ticker\":{\"id\":\"7b58432a-9805-4884-a539-75d58763ba64\",\"type\":\"BasicTicker\"}},\"id\":\"1ec58bcc-620d-47a3-a76e-3130b1d85aaa\",\"type\":\"LinearAxis\"},{\"attributes\":{\"callback\":null},\"id\":\"829aa0c1-7fca-4b96-a5f3-b2d6e5207cff\",\"type\":\"DataRange1d\"},{\"attributes\":{},\"id\":\"27436b10-359b-4646-b629-fe1a65749462\",\"type\":\"LinearScale\"},{\"attributes\":{},\"id\":\"5d6b4a80-95b7-4432-817c-61d9497504f1\",\"type\":\"BasicTickFormatter\"},{\"attributes\":{\"data_source\":{\"id\":\"6ac04b52-9cd1-491e-a83c-02fe9712191a\",\"type\":\"ColumnDataSource\"},\"glyph\":{\"id\":\"b357209a-4e80-467a-b8cc-33d24843a737\",\"type\":\"MultiLine\"},\"hover_glyph\":null,\"muted_glyph\":null,\"nonselection_glyph\":{\"id\":\"751d7a93-ab59-4890-bc73-53d427f1a32a\",\"type\":\"MultiLine\"},\"selection_glyph\":null,\"view\":{\"id\":\"611f020b-8f62-47e4-abd0-2f4df8528db3\",\"type\":\"CDSView\"}},\"id\":\"20b9fd64-aac3-4f69-a7a0-5cde5befd29a\",\"type\":\"GlyphRenderer\"},{\"attributes\":{\"callback\":null,\"column_names\":[\"xs\",\"ys\",\"line_color\",\"line_alpha\"],\"data\":{\"line_alpha\":[0.8,0.3],\"line_color\":[\"firebrick\",\"navy\"],\"xs\":[[1,3,2],[3,4,6,6]],\"ys\":[[2,1,4],[4,7,8,5]]}},\"id\":\"6ac04b52-9cd1-491e-a83c-02fe9712191a\",\"type\":\"ColumnDataSource\"}],\"root_ids\":[\"d907bda9-7095-4967-aea7-79335d37a483\"]},\"title\":\"Bokeh Application\",\"version\":\"0.12.13\"}};\n",
       "  var render_items = [{\"docid\":\"9bddce02-14fa-4fa8-a501-250d26f8b48b\",\"elementid\":\"430809f5-ba40-4825-85e0-e0a8cb30b573\",\"modelid\":\"d907bda9-7095-4967-aea7-79335d37a483\"}];\n",
       "  root.Bokeh.embed.embed_items_notebook(docs_json, render_items);\n",
       "\n",
       "  }\n",
       "  if (root.Bokeh !== undefined) {\n",
       "    embed_document(root);\n",
       "  } else {\n",
       "    var attempts = 0;\n",
       "    var timer = setInterval(function(root) {\n",
       "      if (root.Bokeh !== undefined) {\n",
       "        embed_document(root);\n",
       "        clearInterval(timer);\n",
       "      }\n",
       "      attempts++;\n",
       "      if (attempts > 100) {\n",
       "        console.log(\"Bokeh: ERROR: Unable to run BokehJS code because BokehJS library is missing\")\n",
       "        clearInterval(timer);\n",
       "      }\n",
       "    }, 10, root)\n",
       "  }\n",
       "})(window);"
      ],
      "application/vnd.bokehjs_exec.v0+json": ""
     },
     "metadata": {
      "application/vnd.bokehjs_exec.v0+json": {
       "id": "d907bda9-7095-4967-aea7-79335d37a483"
      }
     },
     "output_type": "display_data"
    }
   ],
   "source": [
    "p = figure(plot_width=400, plot_height=400)\n",
    "\n",
    "p.multi_line([[1, 3, 2], [3, 4, 6, 6]], [[2, 1, 4], [4, 7, 8, 5]],\n",
    "             color=[\"firebrick\", \"navy\"], alpha=[0.8, 0.3], line_width=4)\n",
    "\n",
    "show(p)"
   ]
  },
  {
   "cell_type": "markdown",
   "metadata": {},
   "source": [
    "#### Note\n",
    "\n",
    "This glyph is unlike most other glyphs. Instead of accepting a one dimensional list or array of scalar values, it accepts a ***“list of lists”*** for x and y positions of each line, parameters xs and ys. multi_line also expects a scalar value or a list of scalers per each line for parameters such as color, alpha, linewidth, etc. Similarily, a ColumnDataSource may be used consisting of a “list of lists” and a lists of scalars where the length of the list of scalars and length of lists must match."
   ]
  },
  {
   "cell_type": "markdown",
   "metadata": {},
   "source": [
    "### Missing Points"
   ]
  },
  {
   "cell_type": "code",
   "execution_count": 13,
   "metadata": {},
   "outputs": [
    {
     "data": {
      "text/html": [
       "\n",
       "<div class=\"bk-root\">\n",
       "    <div class=\"bk-plotdiv\" id=\"bc5f8216-af22-4022-a714-2cc05650f6c8\"></div>\n",
       "</div>"
      ]
     },
     "metadata": {},
     "output_type": "display_data"
    },
    {
     "data": {
      "application/javascript": [
       "(function(root) {\n",
       "  function embed_document(root) {\n",
       "    \n",
       "  var docs_json = {\"17612487-94fe-4f64-8489-0a1d82896e27\":{\"roots\":{\"references\":[{\"attributes\":{\"overlay\":{\"id\":\"017c7c27-bd9a-4622-acd3-06de48d4bbe6\",\"type\":\"BoxAnnotation\"}},\"id\":\"b6680bfe-4646-4ed2-a82b-b4dd941976c6\",\"type\":\"BoxZoomTool\"},{\"attributes\":{\"callback\":null,\"column_names\":[\"x\",\"y\"],\"data\":{\"x\":[1,2,3,\"NaN\",4,5],\"y\":[6,7,2,4,4,5]}},\"id\":\"b0f30801-7b1c-4f12-8597-8df0b9e725a3\",\"type\":\"ColumnDataSource\"},{\"attributes\":{\"bottom_units\":\"screen\",\"fill_alpha\":{\"value\":0.5},\"fill_color\":{\"value\":\"lightgrey\"},\"left_units\":\"screen\",\"level\":\"overlay\",\"line_alpha\":{\"value\":1.0},\"line_color\":{\"value\":\"black\"},\"line_dash\":[4,4],\"line_width\":{\"value\":2},\"plot\":null,\"render_mode\":\"css\",\"right_units\":\"screen\",\"top_units\":\"screen\"},\"id\":\"017c7c27-bd9a-4622-acd3-06de48d4bbe6\",\"type\":\"BoxAnnotation\"},{\"attributes\":{},\"id\":\"6a89cf17-4ee6-4d33-9d2f-d6f34161c791\",\"type\":\"SaveTool\"},{\"attributes\":{},\"id\":\"f2e303c1-73ac-4eec-853b-3adc14d1b1b8\",\"type\":\"WheelZoomTool\"},{\"attributes\":{},\"id\":\"e63f6a10-131e-4591-8d87-8110c2e52fca\",\"type\":\"BasicTicker\"},{\"attributes\":{\"active_drag\":\"auto\",\"active_inspect\":\"auto\",\"active_scroll\":\"auto\",\"active_tap\":\"auto\",\"tools\":[{\"id\":\"bc4d4f08-d860-4412-bbdb-03e19ffb979e\",\"type\":\"PanTool\"},{\"id\":\"f2e303c1-73ac-4eec-853b-3adc14d1b1b8\",\"type\":\"WheelZoomTool\"},{\"id\":\"b6680bfe-4646-4ed2-a82b-b4dd941976c6\",\"type\":\"BoxZoomTool\"},{\"id\":\"6a89cf17-4ee6-4d33-9d2f-d6f34161c791\",\"type\":\"SaveTool\"},{\"id\":\"9bbaf505-da7f-46b3-8e1d-d5597bd73c8d\",\"type\":\"ResetTool\"},{\"id\":\"98aea373-13f4-4622-b9ca-83ea57a42c48\",\"type\":\"HelpTool\"}]},\"id\":\"caed8ad0-f5c4-4f60-814c-90945680697b\",\"type\":\"Toolbar\"},{\"attributes\":{},\"id\":\"9bbaf505-da7f-46b3-8e1d-d5597bd73c8d\",\"type\":\"ResetTool\"},{\"attributes\":{\"line_color\":\"#1f77b4\",\"line_width\":2,\"x\":{\"field\":\"x\"},\"y\":{\"field\":\"y\"}},\"id\":\"446e35d4-1cc4-4b81-983b-5129e901e2f4\",\"type\":\"Line\"},{\"attributes\":{\"below\":[{\"id\":\"007979c5-5f12-44bb-a88c-d8745c38f04e\",\"type\":\"LinearAxis\"}],\"left\":[{\"id\":\"627d911f-7852-40c0-b4c6-2d9011e6247d\",\"type\":\"LinearAxis\"}],\"plot_height\":400,\"plot_width\":400,\"renderers\":[{\"id\":\"007979c5-5f12-44bb-a88c-d8745c38f04e\",\"type\":\"LinearAxis\"},{\"id\":\"25a3e227-2216-4f34-813f-a49d455d2a7d\",\"type\":\"Grid\"},{\"id\":\"627d911f-7852-40c0-b4c6-2d9011e6247d\",\"type\":\"LinearAxis\"},{\"id\":\"6b6cb771-794c-4134-9de9-0aa3137fdfc5\",\"type\":\"Grid\"},{\"id\":\"017c7c27-bd9a-4622-acd3-06de48d4bbe6\",\"type\":\"BoxAnnotation\"},{\"id\":\"c40a9418-3369-4bc0-a8bf-a084dbde022b\",\"type\":\"GlyphRenderer\"}],\"title\":{\"id\":\"24e6b947-b2b7-4b02-9958-eae4ce3ce418\",\"type\":\"Title\"},\"toolbar\":{\"id\":\"caed8ad0-f5c4-4f60-814c-90945680697b\",\"type\":\"Toolbar\"},\"x_range\":{\"id\":\"4b8cfaf8-fb6b-45de-a602-e81c670128a7\",\"type\":\"DataRange1d\"},\"x_scale\":{\"id\":\"3e1ac31e-e902-4a91-9a5c-e25bbe88a173\",\"type\":\"LinearScale\"},\"y_range\":{\"id\":\"3e7e599e-781e-4d35-acc5-10dbfdc515d7\",\"type\":\"DataRange1d\"},\"y_scale\":{\"id\":\"b4f56bd1-7bb9-473b-baaa-33996fce47da\",\"type\":\"LinearScale\"}},\"id\":\"f63f3298-3e51-41fc-8e21-0901a34be879\",\"subtype\":\"Figure\",\"type\":\"Plot\"},{\"attributes\":{},\"id\":\"98aea373-13f4-4622-b9ca-83ea57a42c48\",\"type\":\"HelpTool\"},{\"attributes\":{},\"id\":\"091d1f29-3628-40a0-ae9c-156523c145cd\",\"type\":\"BasicTickFormatter\"},{\"attributes\":{},\"id\":\"7faadad8-c9cd-47f5-a7a8-2ab50651d1e0\",\"type\":\"BasicTickFormatter\"},{\"attributes\":{\"plot\":{\"id\":\"f63f3298-3e51-41fc-8e21-0901a34be879\",\"subtype\":\"Figure\",\"type\":\"Plot\"},\"ticker\":{\"id\":\"51bb7b3f-160b-4a65-98cc-c766ffb6d759\",\"type\":\"BasicTicker\"}},\"id\":\"25a3e227-2216-4f34-813f-a49d455d2a7d\",\"type\":\"Grid\"},{\"attributes\":{\"formatter\":{\"id\":\"091d1f29-3628-40a0-ae9c-156523c145cd\",\"type\":\"BasicTickFormatter\"},\"plot\":{\"id\":\"f63f3298-3e51-41fc-8e21-0901a34be879\",\"subtype\":\"Figure\",\"type\":\"Plot\"},\"ticker\":{\"id\":\"51bb7b3f-160b-4a65-98cc-c766ffb6d759\",\"type\":\"BasicTicker\"}},\"id\":\"007979c5-5f12-44bb-a88c-d8745c38f04e\",\"type\":\"LinearAxis\"},{\"attributes\":{},\"id\":\"3e1ac31e-e902-4a91-9a5c-e25bbe88a173\",\"type\":\"LinearScale\"},{\"attributes\":{},\"id\":\"b4f56bd1-7bb9-473b-baaa-33996fce47da\",\"type\":\"LinearScale\"},{\"attributes\":{\"callback\":null},\"id\":\"3e7e599e-781e-4d35-acc5-10dbfdc515d7\",\"type\":\"DataRange1d\"},{\"attributes\":{\"callback\":null},\"id\":\"4b8cfaf8-fb6b-45de-a602-e81c670128a7\",\"type\":\"DataRange1d\"},{\"attributes\":{},\"id\":\"51bb7b3f-160b-4a65-98cc-c766ffb6d759\",\"type\":\"BasicTicker\"},{\"attributes\":{\"data_source\":{\"id\":\"b0f30801-7b1c-4f12-8597-8df0b9e725a3\",\"type\":\"ColumnDataSource\"},\"glyph\":{\"id\":\"446e35d4-1cc4-4b81-983b-5129e901e2f4\",\"type\":\"Line\"},\"hover_glyph\":null,\"muted_glyph\":null,\"nonselection_glyph\":{\"id\":\"f73e0608-d6f8-4de0-8ca7-46fde7420472\",\"type\":\"Line\"},\"selection_glyph\":null,\"view\":{\"id\":\"45284495-2084-4b9c-882b-8b945a1af8a2\",\"type\":\"CDSView\"}},\"id\":\"c40a9418-3369-4bc0-a8bf-a084dbde022b\",\"type\":\"GlyphRenderer\"},{\"attributes\":{\"dimension\":1,\"plot\":{\"id\":\"f63f3298-3e51-41fc-8e21-0901a34be879\",\"subtype\":\"Figure\",\"type\":\"Plot\"},\"ticker\":{\"id\":\"e63f6a10-131e-4591-8d87-8110c2e52fca\",\"type\":\"BasicTicker\"}},\"id\":\"6b6cb771-794c-4134-9de9-0aa3137fdfc5\",\"type\":\"Grid\"},{\"attributes\":{},\"id\":\"bc4d4f08-d860-4412-bbdb-03e19ffb979e\",\"type\":\"PanTool\"},{\"attributes\":{\"line_alpha\":0.1,\"line_color\":\"#1f77b4\",\"line_width\":2,\"x\":{\"field\":\"x\"},\"y\":{\"field\":\"y\"}},\"id\":\"f73e0608-d6f8-4de0-8ca7-46fde7420472\",\"type\":\"Line\"},{\"attributes\":{\"plot\":null,\"text\":\"\"},\"id\":\"24e6b947-b2b7-4b02-9958-eae4ce3ce418\",\"type\":\"Title\"},{\"attributes\":{\"formatter\":{\"id\":\"7faadad8-c9cd-47f5-a7a8-2ab50651d1e0\",\"type\":\"BasicTickFormatter\"},\"plot\":{\"id\":\"f63f3298-3e51-41fc-8e21-0901a34be879\",\"subtype\":\"Figure\",\"type\":\"Plot\"},\"ticker\":{\"id\":\"e63f6a10-131e-4591-8d87-8110c2e52fca\",\"type\":\"BasicTicker\"}},\"id\":\"627d911f-7852-40c0-b4c6-2d9011e6247d\",\"type\":\"LinearAxis\"},{\"attributes\":{\"source\":{\"id\":\"b0f30801-7b1c-4f12-8597-8df0b9e725a3\",\"type\":\"ColumnDataSource\"}},\"id\":\"45284495-2084-4b9c-882b-8b945a1af8a2\",\"type\":\"CDSView\"}],\"root_ids\":[\"f63f3298-3e51-41fc-8e21-0901a34be879\"]},\"title\":\"Bokeh Application\",\"version\":\"0.12.13\"}};\n",
       "  var render_items = [{\"docid\":\"17612487-94fe-4f64-8489-0a1d82896e27\",\"elementid\":\"bc5f8216-af22-4022-a714-2cc05650f6c8\",\"modelid\":\"f63f3298-3e51-41fc-8e21-0901a34be879\"}];\n",
       "  root.Bokeh.embed.embed_items_notebook(docs_json, render_items);\n",
       "\n",
       "  }\n",
       "  if (root.Bokeh !== undefined) {\n",
       "    embed_document(root);\n",
       "  } else {\n",
       "    var attempts = 0;\n",
       "    var timer = setInterval(function(root) {\n",
       "      if (root.Bokeh !== undefined) {\n",
       "        embed_document(root);\n",
       "        clearInterval(timer);\n",
       "      }\n",
       "      attempts++;\n",
       "      if (attempts > 100) {\n",
       "        console.log(\"Bokeh: ERROR: Unable to run BokehJS code because BokehJS library is missing\")\n",
       "        clearInterval(timer);\n",
       "      }\n",
       "    }, 10, root)\n",
       "  }\n",
       "})(window);"
      ],
      "application/vnd.bokehjs_exec.v0+json": ""
     },
     "metadata": {
      "application/vnd.bokehjs_exec.v0+json": {
       "id": "f63f3298-3e51-41fc-8e21-0901a34be879"
      }
     },
     "output_type": "display_data"
    }
   ],
   "source": [
    "p = figure(plot_width=400, plot_height=400)\n",
    "\n",
    "# add a line renderer with a NaN\n",
    "nan = float('nan')\n",
    "p.line([1, 2, 3, nan, 4, 5], [6, 7, 2, 4, 4, 5], line_width=2)\n",
    "\n",
    "show(p)"
   ]
  },
  {
   "cell_type": "markdown",
   "metadata": {},
   "source": [
    "### Rectangles"
   ]
  },
  {
   "cell_type": "code",
   "execution_count": 15,
   "metadata": {},
   "outputs": [
    {
     "data": {
      "text/html": [
       "\n",
       "<div class=\"bk-root\">\n",
       "    <div class=\"bk-plotdiv\" id=\"b52626de-6d55-4f1b-b619-8a78ac2a4152\"></div>\n",
       "</div>"
      ]
     },
     "metadata": {},
     "output_type": "display_data"
    },
    {
     "data": {
      "application/javascript": [
       "(function(root) {\n",
       "  function embed_document(root) {\n",
       "    \n",
       "  var docs_json = {\"1da88941-b403-4513-bbe9-55ad52971fa5\":{\"roots\":{\"references\":[{\"attributes\":{\"below\":[{\"id\":\"77300912-4eee-462d-bb7f-0559f480815d\",\"type\":\"LinearAxis\"}],\"left\":[{\"id\":\"99225006-f2e0-487a-90b6-6e6e3c22c043\",\"type\":\"LinearAxis\"}],\"plot_height\":400,\"plot_width\":400,\"renderers\":[{\"id\":\"77300912-4eee-462d-bb7f-0559f480815d\",\"type\":\"LinearAxis\"},{\"id\":\"09feb859-613f-4b38-b780-852f0bfaf1b7\",\"type\":\"Grid\"},{\"id\":\"99225006-f2e0-487a-90b6-6e6e3c22c043\",\"type\":\"LinearAxis\"},{\"id\":\"908aed02-a6b0-429d-be8f-7d607b230cff\",\"type\":\"Grid\"},{\"id\":\"82cfd9ed-b114-47f5-bd81-d94c0c91f66d\",\"type\":\"BoxAnnotation\"},{\"id\":\"3e38ad32-dea4-4ac7-9711-6a405375d76e\",\"type\":\"GlyphRenderer\"}],\"title\":{\"id\":\"6ac908ca-84a6-472c-aef0-bfada983e4bb\",\"type\":\"Title\"},\"toolbar\":{\"id\":\"8e628ccd-4efe-49b9-b3a2-3ce82856e095\",\"type\":\"Toolbar\"},\"x_range\":{\"id\":\"27eab840-19e0-4455-9e46-550e32dae1fc\",\"type\":\"DataRange1d\"},\"x_scale\":{\"id\":\"98cf88eb-ecfb-4a5f-80ee-5a650538367d\",\"type\":\"LinearScale\"},\"y_range\":{\"id\":\"1cd1d97c-2a65-4a24-aca9-b8846beb0651\",\"type\":\"DataRange1d\"},\"y_scale\":{\"id\":\"703becca-38f0-45ae-9278-3fb969867196\",\"type\":\"LinearScale\"}},\"id\":\"d17610bb-8754-4f44-9cd5-2b3407bac793\",\"subtype\":\"Figure\",\"type\":\"Plot\"},{\"attributes\":{\"plot\":null,\"text\":\"\"},\"id\":\"6ac908ca-84a6-472c-aef0-bfada983e4bb\",\"type\":\"Title\"},{\"attributes\":{\"callback\":null},\"id\":\"1cd1d97c-2a65-4a24-aca9-b8846beb0651\",\"type\":\"DataRange1d\"},{\"attributes\":{\"source\":{\"id\":\"1d1866a5-ea65-4c85-a693-2c3cc692d810\",\"type\":\"ColumnDataSource\"}},\"id\":\"732515b1-8598-4fc0-bba8-a0c5604cafe3\",\"type\":\"CDSView\"},{\"attributes\":{\"dimension\":1,\"plot\":{\"id\":\"d17610bb-8754-4f44-9cd5-2b3407bac793\",\"subtype\":\"Figure\",\"type\":\"Plot\"},\"ticker\":{\"id\":\"33ce21fc-9bf0-4ab6-a1d1-95b0c4893d17\",\"type\":\"BasicTicker\"}},\"id\":\"908aed02-a6b0-429d-be8f-7d607b230cff\",\"type\":\"Grid\"},{\"attributes\":{\"bottom\":{\"field\":\"bottom\"},\"fill_alpha\":{\"value\":0.1},\"fill_color\":{\"value\":\"#1f77b4\"},\"left\":{\"field\":\"left\"},\"line_alpha\":{\"value\":0.1},\"line_color\":{\"value\":\"#1f77b4\"},\"right\":{\"field\":\"right\"},\"top\":{\"field\":\"top\"}},\"id\":\"c5184803-e078-4492-964c-a05f2f8323f0\",\"type\":\"Quad\"},{\"attributes\":{\"active_drag\":\"auto\",\"active_inspect\":\"auto\",\"active_scroll\":\"auto\",\"active_tap\":\"auto\",\"tools\":[{\"id\":\"01b021da-9d0f-4c16-b5cb-a0a8daa4e6ef\",\"type\":\"PanTool\"},{\"id\":\"e49fc6f6-c4fd-49d1-be72-b03d3aeb7adb\",\"type\":\"WheelZoomTool\"},{\"id\":\"e3602616-d93f-4300-8de0-6b06346f5c8f\",\"type\":\"BoxZoomTool\"},{\"id\":\"bf1975ed-f872-46a1-b005-6f18aa7b6958\",\"type\":\"SaveTool\"},{\"id\":\"fe81f988-6b6f-48db-86a7-121299126452\",\"type\":\"ResetTool\"},{\"id\":\"fb8a9c6f-d919-4c0e-9ef2-5e8a31e4df31\",\"type\":\"HelpTool\"}]},\"id\":\"8e628ccd-4efe-49b9-b3a2-3ce82856e095\",\"type\":\"Toolbar\"},{\"attributes\":{},\"id\":\"33ce21fc-9bf0-4ab6-a1d1-95b0c4893d17\",\"type\":\"BasicTicker\"},{\"attributes\":{\"formatter\":{\"id\":\"341dba3d-6778-47c8-a07b-5c2bc4a1413c\",\"type\":\"BasicTickFormatter\"},\"plot\":{\"id\":\"d17610bb-8754-4f44-9cd5-2b3407bac793\",\"subtype\":\"Figure\",\"type\":\"Plot\"},\"ticker\":{\"id\":\"383034e7-b6af-4201-b3aa-96bc52cff396\",\"type\":\"BasicTicker\"}},\"id\":\"77300912-4eee-462d-bb7f-0559f480815d\",\"type\":\"LinearAxis\"},{\"attributes\":{},\"id\":\"98cf88eb-ecfb-4a5f-80ee-5a650538367d\",\"type\":\"LinearScale\"},{\"attributes\":{},\"id\":\"341dba3d-6778-47c8-a07b-5c2bc4a1413c\",\"type\":\"BasicTickFormatter\"},{\"attributes\":{\"callback\":null,\"column_names\":[\"left\",\"right\",\"top\",\"bottom\"],\"data\":{\"bottom\":[1,2,3],\"left\":[1,2,3],\"right\":[1.2,2.5,3.7],\"top\":[2,3,4]}},\"id\":\"1d1866a5-ea65-4c85-a693-2c3cc692d810\",\"type\":\"ColumnDataSource\"},{\"attributes\":{\"overlay\":{\"id\":\"82cfd9ed-b114-47f5-bd81-d94c0c91f66d\",\"type\":\"BoxAnnotation\"}},\"id\":\"e3602616-d93f-4300-8de0-6b06346f5c8f\",\"type\":\"BoxZoomTool\"},{\"attributes\":{},\"id\":\"bf1975ed-f872-46a1-b005-6f18aa7b6958\",\"type\":\"SaveTool\"},{\"attributes\":{\"bottom\":{\"field\":\"bottom\"},\"fill_color\":{\"value\":\"#B3DE69\"},\"left\":{\"field\":\"left\"},\"line_color\":{\"value\":\"#B3DE69\"},\"right\":{\"field\":\"right\"},\"top\":{\"field\":\"top\"}},\"id\":\"93f8aa95-ef05-40cb-ae12-f2d78754d59c\",\"type\":\"Quad\"},{\"attributes\":{\"data_source\":{\"id\":\"1d1866a5-ea65-4c85-a693-2c3cc692d810\",\"type\":\"ColumnDataSource\"},\"glyph\":{\"id\":\"93f8aa95-ef05-40cb-ae12-f2d78754d59c\",\"type\":\"Quad\"},\"hover_glyph\":null,\"muted_glyph\":null,\"nonselection_glyph\":{\"id\":\"c5184803-e078-4492-964c-a05f2f8323f0\",\"type\":\"Quad\"},\"selection_glyph\":null,\"view\":{\"id\":\"732515b1-8598-4fc0-bba8-a0c5604cafe3\",\"type\":\"CDSView\"}},\"id\":\"3e38ad32-dea4-4ac7-9711-6a405375d76e\",\"type\":\"GlyphRenderer\"},{\"attributes\":{\"formatter\":{\"id\":\"60e1ef7e-e1d9-45a2-939f-5da40fa39cd1\",\"type\":\"BasicTickFormatter\"},\"plot\":{\"id\":\"d17610bb-8754-4f44-9cd5-2b3407bac793\",\"subtype\":\"Figure\",\"type\":\"Plot\"},\"ticker\":{\"id\":\"33ce21fc-9bf0-4ab6-a1d1-95b0c4893d17\",\"type\":\"BasicTicker\"}},\"id\":\"99225006-f2e0-487a-90b6-6e6e3c22c043\",\"type\":\"LinearAxis\"},{\"attributes\":{},\"id\":\"383034e7-b6af-4201-b3aa-96bc52cff396\",\"type\":\"BasicTicker\"},{\"attributes\":{\"bottom_units\":\"screen\",\"fill_alpha\":{\"value\":0.5},\"fill_color\":{\"value\":\"lightgrey\"},\"left_units\":\"screen\",\"level\":\"overlay\",\"line_alpha\":{\"value\":1.0},\"line_color\":{\"value\":\"black\"},\"line_dash\":[4,4],\"line_width\":{\"value\":2},\"plot\":null,\"render_mode\":\"css\",\"right_units\":\"screen\",\"top_units\":\"screen\"},\"id\":\"82cfd9ed-b114-47f5-bd81-d94c0c91f66d\",\"type\":\"BoxAnnotation\"},{\"attributes\":{},\"id\":\"fb8a9c6f-d919-4c0e-9ef2-5e8a31e4df31\",\"type\":\"HelpTool\"},{\"attributes\":{},\"id\":\"01b021da-9d0f-4c16-b5cb-a0a8daa4e6ef\",\"type\":\"PanTool\"},{\"attributes\":{},\"id\":\"60e1ef7e-e1d9-45a2-939f-5da40fa39cd1\",\"type\":\"BasicTickFormatter\"},{\"attributes\":{},\"id\":\"fe81f988-6b6f-48db-86a7-121299126452\",\"type\":\"ResetTool\"},{\"attributes\":{\"callback\":null},\"id\":\"27eab840-19e0-4455-9e46-550e32dae1fc\",\"type\":\"DataRange1d\"},{\"attributes\":{},\"id\":\"703becca-38f0-45ae-9278-3fb969867196\",\"type\":\"LinearScale\"},{\"attributes\":{},\"id\":\"e49fc6f6-c4fd-49d1-be72-b03d3aeb7adb\",\"type\":\"WheelZoomTool\"},{\"attributes\":{\"plot\":{\"id\":\"d17610bb-8754-4f44-9cd5-2b3407bac793\",\"subtype\":\"Figure\",\"type\":\"Plot\"},\"ticker\":{\"id\":\"383034e7-b6af-4201-b3aa-96bc52cff396\",\"type\":\"BasicTicker\"}},\"id\":\"09feb859-613f-4b38-b780-852f0bfaf1b7\",\"type\":\"Grid\"}],\"root_ids\":[\"d17610bb-8754-4f44-9cd5-2b3407bac793\"]},\"title\":\"Bokeh Application\",\"version\":\"0.12.13\"}};\n",
       "  var render_items = [{\"docid\":\"1da88941-b403-4513-bbe9-55ad52971fa5\",\"elementid\":\"b52626de-6d55-4f1b-b619-8a78ac2a4152\",\"modelid\":\"d17610bb-8754-4f44-9cd5-2b3407bac793\"}];\n",
       "  root.Bokeh.embed.embed_items_notebook(docs_json, render_items);\n",
       "\n",
       "  }\n",
       "  if (root.Bokeh !== undefined) {\n",
       "    embed_document(root);\n",
       "  } else {\n",
       "    var attempts = 0;\n",
       "    var timer = setInterval(function(root) {\n",
       "      if (root.Bokeh !== undefined) {\n",
       "        embed_document(root);\n",
       "        clearInterval(timer);\n",
       "      }\n",
       "      attempts++;\n",
       "      if (attempts > 100) {\n",
       "        console.log(\"Bokeh: ERROR: Unable to run BokehJS code because BokehJS library is missing\")\n",
       "        clearInterval(timer);\n",
       "      }\n",
       "    }, 10, root)\n",
       "  }\n",
       "})(window);"
      ],
      "application/vnd.bokehjs_exec.v0+json": ""
     },
     "metadata": {
      "application/vnd.bokehjs_exec.v0+json": {
       "id": "d17610bb-8754-4f44-9cd5-2b3407bac793"
      }
     },
     "output_type": "display_data"
    }
   ],
   "source": [
    "p = figure(plot_width=400, plot_height=400)\n",
    "\n",
    "p.quad(top=[2, 3, 4], bottom=[1, 2, 3], left=[1, 2, 3],\n",
    "       right=[1.2, 2.5, 3.7], color=\"#B3DE69\")\n",
    "\n",
    "show(p)"
   ]
  },
  {
   "cell_type": "code",
   "execution_count": 16,
   "metadata": {},
   "outputs": [
    {
     "data": {
      "text/html": [
       "\n",
       "<div class=\"bk-root\">\n",
       "    <div class=\"bk-plotdiv\" id=\"b5da00a8-f2e2-404a-918a-782e55e0c85a\"></div>\n",
       "</div>"
      ]
     },
     "metadata": {},
     "output_type": "display_data"
    },
    {
     "data": {
      "application/javascript": [
       "(function(root) {\n",
       "  function embed_document(root) {\n",
       "    \n",
       "  var docs_json = {\"044ee533-2db7-498c-8413-9def851039ec\":{\"roots\":{\"references\":[{\"attributes\":{\"callback\":null},\"id\":\"81388ef5-717f-4f87-9f4a-6eb83d360852\",\"type\":\"DataRange1d\"},{\"attributes\":{},\"id\":\"d56b0a85-3f45-41a5-8d65-aa151a4ae77f\",\"type\":\"ResetTool\"},{\"attributes\":{\"below\":[{\"id\":\"fc98fc4d-aa34-49c7-9662-410e9b3bd931\",\"type\":\"LinearAxis\"}],\"left\":[{\"id\":\"bbf53e6f-c9cd-42b2-923d-b34add3e61f9\",\"type\":\"LinearAxis\"}],\"plot_height\":400,\"plot_width\":400,\"renderers\":[{\"id\":\"fc98fc4d-aa34-49c7-9662-410e9b3bd931\",\"type\":\"LinearAxis\"},{\"id\":\"5262322b-7a83-447b-8818-3f333d5575db\",\"type\":\"Grid\"},{\"id\":\"bbf53e6f-c9cd-42b2-923d-b34add3e61f9\",\"type\":\"LinearAxis\"},{\"id\":\"adc5c1aa-4899-4ab8-b22f-750c53a39741\",\"type\":\"Grid\"},{\"id\":\"40fd7b9b-f4db-44df-b337-edf507262086\",\"type\":\"BoxAnnotation\"},{\"id\":\"7f6ccbd2-40de-4055-87e2-03bf9d8e935c\",\"type\":\"GlyphRenderer\"}],\"title\":{\"id\":\"1b9fbdfb-277b-4916-8bb7-b2e31ae9a866\",\"type\":\"Title\"},\"toolbar\":{\"id\":\"a5a401e9-1d55-4fe7-8def-f1e543898325\",\"type\":\"Toolbar\"},\"x_range\":{\"id\":\"81388ef5-717f-4f87-9f4a-6eb83d360852\",\"type\":\"DataRange1d\"},\"x_scale\":{\"id\":\"ab2e3111-14d5-4fbc-8544-c9da12f31a19\",\"type\":\"LinearScale\"},\"y_range\":{\"id\":\"52756867-22c9-4aaf-b7d4-37bb93c8aa2d\",\"type\":\"DataRange1d\"},\"y_scale\":{\"id\":\"2e30b45f-a842-4d55-bffc-c514dd335db3\",\"type\":\"LinearScale\"}},\"id\":\"c20aac25-bd0c-4021-80ec-6f76c6fcc4af\",\"subtype\":\"Figure\",\"type\":\"Plot\"},{\"attributes\":{\"source\":{\"id\":\"bd756898-2144-4b59-acbe-f96fe67f18ba\",\"type\":\"ColumnDataSource\"}},\"id\":\"9112462d-ad40-487a-b6d3-51399bdc899b\",\"type\":\"CDSView\"},{\"attributes\":{},\"id\":\"2e30b45f-a842-4d55-bffc-c514dd335db3\",\"type\":\"LinearScale\"},{\"attributes\":{\"callback\":null,\"column_names\":[\"x\",\"y\"],\"data\":{\"x\":[1,2,3],\"y\":[1,2,3]}},\"id\":\"bd756898-2144-4b59-acbe-f96fe67f18ba\",\"type\":\"ColumnDataSource\"},{\"attributes\":{\"plot\":null,\"text\":\"\"},\"id\":\"1b9fbdfb-277b-4916-8bb7-b2e31ae9a866\",\"type\":\"Title\"},{\"attributes\":{\"plot\":{\"id\":\"c20aac25-bd0c-4021-80ec-6f76c6fcc4af\",\"subtype\":\"Figure\",\"type\":\"Plot\"},\"ticker\":{\"id\":\"1bec7c25-69b7-4e15-8820-e9994decb9e6\",\"type\":\"BasicTicker\"}},\"id\":\"5262322b-7a83-447b-8818-3f333d5575db\",\"type\":\"Grid\"},{\"attributes\":{},\"id\":\"0cd66e3f-4718-4b20-9a29-bff2a6cb301a\",\"type\":\"HelpTool\"},{\"attributes\":{\"formatter\":{\"id\":\"4fb9532c-34df-401d-9b5e-5546ea57cedf\",\"type\":\"BasicTickFormatter\"},\"plot\":{\"id\":\"c20aac25-bd0c-4021-80ec-6f76c6fcc4af\",\"subtype\":\"Figure\",\"type\":\"Plot\"},\"ticker\":{\"id\":\"1bec7c25-69b7-4e15-8820-e9994decb9e6\",\"type\":\"BasicTicker\"}},\"id\":\"fc98fc4d-aa34-49c7-9662-410e9b3bd931\",\"type\":\"LinearAxis\"},{\"attributes\":{},\"id\":\"1bec7c25-69b7-4e15-8820-e9994decb9e6\",\"type\":\"BasicTicker\"},{\"attributes\":{\"formatter\":{\"id\":\"8a5019be-bb34-4fa8-b8f2-313c52a55c73\",\"type\":\"BasicTickFormatter\"},\"plot\":{\"id\":\"c20aac25-bd0c-4021-80ec-6f76c6fcc4af\",\"subtype\":\"Figure\",\"type\":\"Plot\"},\"ticker\":{\"id\":\"e548c9fe-53ec-402f-84b0-ec1bfa0d6266\",\"type\":\"BasicTicker\"}},\"id\":\"bbf53e6f-c9cd-42b2-923d-b34add3e61f9\",\"type\":\"LinearAxis\"},{\"attributes\":{},\"id\":\"4fb9532c-34df-401d-9b5e-5546ea57cedf\",\"type\":\"BasicTickFormatter\"},{\"attributes\":{},\"id\":\"e548c9fe-53ec-402f-84b0-ec1bfa0d6266\",\"type\":\"BasicTicker\"},{\"attributes\":{\"dimension\":1,\"plot\":{\"id\":\"c20aac25-bd0c-4021-80ec-6f76c6fcc4af\",\"subtype\":\"Figure\",\"type\":\"Plot\"},\"ticker\":{\"id\":\"e548c9fe-53ec-402f-84b0-ec1bfa0d6266\",\"type\":\"BasicTicker\"}},\"id\":\"adc5c1aa-4899-4ab8-b22f-750c53a39741\",\"type\":\"Grid\"},{\"attributes\":{},\"id\":\"ab2e3111-14d5-4fbc-8544-c9da12f31a19\",\"type\":\"LinearScale\"},{\"attributes\":{},\"id\":\"8a5019be-bb34-4fa8-b8f2-313c52a55c73\",\"type\":\"BasicTickFormatter\"},{\"attributes\":{\"data_source\":{\"id\":\"bd756898-2144-4b59-acbe-f96fe67f18ba\",\"type\":\"ColumnDataSource\"},\"glyph\":{\"id\":\"c128dcd3-d48b-4003-9f12-968105a9b97b\",\"type\":\"Rect\"},\"hover_glyph\":null,\"muted_glyph\":null,\"nonselection_glyph\":{\"id\":\"fc783bd0-73e8-4d4c-9f9d-391042e919f5\",\"type\":\"Rect\"},\"selection_glyph\":null,\"view\":{\"id\":\"9112462d-ad40-487a-b6d3-51399bdc899b\",\"type\":\"CDSView\"}},\"id\":\"7f6ccbd2-40de-4055-87e2-03bf9d8e935c\",\"type\":\"GlyphRenderer\"},{\"attributes\":{\"active_drag\":\"auto\",\"active_inspect\":\"auto\",\"active_scroll\":\"auto\",\"active_tap\":\"auto\",\"tools\":[{\"id\":\"ed6f9870-f48e-4a72-a910-e6ca0ed71c6c\",\"type\":\"PanTool\"},{\"id\":\"3ce1049c-fffb-49c6-9c88-024b9df5bd53\",\"type\":\"WheelZoomTool\"},{\"id\":\"0f58a988-f308-4844-a06e-2ef3a2ce1611\",\"type\":\"BoxZoomTool\"},{\"id\":\"457cd5a0-fed2-42b5-8ddb-c3b45c42db3d\",\"type\":\"SaveTool\"},{\"id\":\"d56b0a85-3f45-41a5-8d65-aa151a4ae77f\",\"type\":\"ResetTool\"},{\"id\":\"0cd66e3f-4718-4b20-9a29-bff2a6cb301a\",\"type\":\"HelpTool\"}]},\"id\":\"a5a401e9-1d55-4fe7-8def-f1e543898325\",\"type\":\"Toolbar\"},{\"attributes\":{\"bottom_units\":\"screen\",\"fill_alpha\":{\"value\":0.5},\"fill_color\":{\"value\":\"lightgrey\"},\"left_units\":\"screen\",\"level\":\"overlay\",\"line_alpha\":{\"value\":1.0},\"line_color\":{\"value\":\"black\"},\"line_dash\":[4,4],\"line_width\":{\"value\":2},\"plot\":null,\"render_mode\":\"css\",\"right_units\":\"screen\",\"top_units\":\"screen\"},\"id\":\"40fd7b9b-f4db-44df-b337-edf507262086\",\"type\":\"BoxAnnotation\"},{\"attributes\":{\"angle\":{\"units\":\"rad\",\"value\":1.0471975511965976},\"fill_alpha\":{\"value\":0.1},\"fill_color\":{\"value\":\"#1f77b4\"},\"height\":{\"units\":\"screen\",\"value\":40},\"line_alpha\":{\"value\":0.1},\"line_color\":{\"value\":\"#1f77b4\"},\"width\":{\"units\":\"data\",\"value\":0.2},\"x\":{\"field\":\"x\"},\"y\":{\"field\":\"y\"}},\"id\":\"fc783bd0-73e8-4d4c-9f9d-391042e919f5\",\"type\":\"Rect\"},{\"attributes\":{\"callback\":null},\"id\":\"52756867-22c9-4aaf-b7d4-37bb93c8aa2d\",\"type\":\"DataRange1d\"},{\"attributes\":{},\"id\":\"ed6f9870-f48e-4a72-a910-e6ca0ed71c6c\",\"type\":\"PanTool\"},{\"attributes\":{\"angle\":{\"units\":\"rad\",\"value\":1.0471975511965976},\"fill_color\":{\"value\":\"#CAB2D6\"},\"height\":{\"units\":\"screen\",\"value\":40},\"line_color\":{\"value\":\"#CAB2D6\"},\"width\":{\"units\":\"data\",\"value\":0.2},\"x\":{\"field\":\"x\"},\"y\":{\"field\":\"y\"}},\"id\":\"c128dcd3-d48b-4003-9f12-968105a9b97b\",\"type\":\"Rect\"},{\"attributes\":{},\"id\":\"3ce1049c-fffb-49c6-9c88-024b9df5bd53\",\"type\":\"WheelZoomTool\"},{\"attributes\":{\"overlay\":{\"id\":\"40fd7b9b-f4db-44df-b337-edf507262086\",\"type\":\"BoxAnnotation\"}},\"id\":\"0f58a988-f308-4844-a06e-2ef3a2ce1611\",\"type\":\"BoxZoomTool\"},{\"attributes\":{},\"id\":\"457cd5a0-fed2-42b5-8ddb-c3b45c42db3d\",\"type\":\"SaveTool\"}],\"root_ids\":[\"c20aac25-bd0c-4021-80ec-6f76c6fcc4af\"]},\"title\":\"Bokeh Application\",\"version\":\"0.12.13\"}};\n",
       "  var render_items = [{\"docid\":\"044ee533-2db7-498c-8413-9def851039ec\",\"elementid\":\"b5da00a8-f2e2-404a-918a-782e55e0c85a\",\"modelid\":\"c20aac25-bd0c-4021-80ec-6f76c6fcc4af\"}];\n",
       "  root.Bokeh.embed.embed_items_notebook(docs_json, render_items);\n",
       "\n",
       "  }\n",
       "  if (root.Bokeh !== undefined) {\n",
       "    embed_document(root);\n",
       "  } else {\n",
       "    var attempts = 0;\n",
       "    var timer = setInterval(function(root) {\n",
       "      if (root.Bokeh !== undefined) {\n",
       "        embed_document(root);\n",
       "        clearInterval(timer);\n",
       "      }\n",
       "      attempts++;\n",
       "      if (attempts > 100) {\n",
       "        console.log(\"Bokeh: ERROR: Unable to run BokehJS code because BokehJS library is missing\")\n",
       "        clearInterval(timer);\n",
       "      }\n",
       "    }, 10, root)\n",
       "  }\n",
       "})(window);"
      ],
      "application/vnd.bokehjs_exec.v0+json": ""
     },
     "metadata": {
      "application/vnd.bokehjs_exec.v0+json": {
       "id": "c20aac25-bd0c-4021-80ec-6f76c6fcc4af"
      }
     },
     "output_type": "display_data"
    }
   ],
   "source": [
    "p = figure(plot_width=400, plot_height=400)\n",
    "p.rect(x=[1, 2, 3], y=[1, 2, 3], width=0.2, height=40, color=\"#CAB2D6\",\n",
    "       angle=pi/3, height_units=\"screen\")\n",
    "\n",
    "show(p)"
   ]
  },
  {
   "cell_type": "markdown",
   "metadata": {},
   "source": [
    "### Bars"
   ]
  },
  {
   "cell_type": "code",
   "execution_count": 17,
   "metadata": {},
   "outputs": [
    {
     "data": {
      "text/html": [
       "\n",
       "<div class=\"bk-root\">\n",
       "    <div class=\"bk-plotdiv\" id=\"0c530f8d-6a9f-4469-b0ce-11d442e000a0\"></div>\n",
       "</div>"
      ]
     },
     "metadata": {},
     "output_type": "display_data"
    },
    {
     "data": {
      "application/javascript": [
       "(function(root) {\n",
       "  function embed_document(root) {\n",
       "    \n",
       "  var docs_json = {\"ee348cd1-3643-4ac3-ac57-e5a1017162bd\":{\"roots\":{\"references\":[{\"attributes\":{},\"id\":\"db08c24d-6487-4f3b-987b-21b8ddb17bac\",\"type\":\"WheelZoomTool\"},{\"attributes\":{\"source\":{\"id\":\"98405ecb-6dec-456a-b7d7-302d7be7c54a\",\"type\":\"ColumnDataSource\"}},\"id\":\"0d9aa125-613e-4556-8c24-2df7e8150c5a\",\"type\":\"CDSView\"},{\"attributes\":{\"plot\":{\"id\":\"5200948c-cf45-4308-8fd6-c6e49be23612\",\"subtype\":\"Figure\",\"type\":\"Plot\"},\"ticker\":{\"id\":\"238acfdc-61b3-42e3-ba56-ae34c001af91\",\"type\":\"BasicTicker\"}},\"id\":\"9747824f-ee61-4b7b-8eac-39961850fab9\",\"type\":\"Grid\"},{\"attributes\":{},\"id\":\"238acfdc-61b3-42e3-ba56-ae34c001af91\",\"type\":\"BasicTicker\"},{\"attributes\":{},\"id\":\"b18b4272-5eee-46de-9d14-de898a554007\",\"type\":\"ResetTool\"},{\"attributes\":{\"formatter\":{\"id\":\"4f365eea-f8df-4579-bb00-6194cd72047f\",\"type\":\"BasicTickFormatter\"},\"plot\":{\"id\":\"5200948c-cf45-4308-8fd6-c6e49be23612\",\"subtype\":\"Figure\",\"type\":\"Plot\"},\"ticker\":{\"id\":\"238acfdc-61b3-42e3-ba56-ae34c001af91\",\"type\":\"BasicTicker\"}},\"id\":\"5a9b50a8-1c8a-4568-84d2-08ca660bb998\",\"type\":\"LinearAxis\"},{\"attributes\":{},\"id\":\"1be17456-44d6-4a64-adfb-fec469fbed7e\",\"type\":\"LinearScale\"},{\"attributes\":{\"below\":[{\"id\":\"5a9b50a8-1c8a-4568-84d2-08ca660bb998\",\"type\":\"LinearAxis\"}],\"left\":[{\"id\":\"c58b8a58-e7e2-4308-b81c-70b16730f98f\",\"type\":\"LinearAxis\"}],\"plot_height\":400,\"plot_width\":400,\"renderers\":[{\"id\":\"5a9b50a8-1c8a-4568-84d2-08ca660bb998\",\"type\":\"LinearAxis\"},{\"id\":\"9747824f-ee61-4b7b-8eac-39961850fab9\",\"type\":\"Grid\"},{\"id\":\"c58b8a58-e7e2-4308-b81c-70b16730f98f\",\"type\":\"LinearAxis\"},{\"id\":\"370dfdae-2276-45e7-b2af-ae238c0d0f7a\",\"type\":\"Grid\"},{\"id\":\"9f3e1cef-8899-49e0-b3d9-192f691b04c6\",\"type\":\"BoxAnnotation\"},{\"id\":\"09a715e7-448d-4f21-a7bf-c02b7c224e1c\",\"type\":\"GlyphRenderer\"}],\"title\":{\"id\":\"8d54205b-20d7-45c2-ba6f-0834baebe018\",\"type\":\"Title\"},\"toolbar\":{\"id\":\"4f1d646f-fa35-4e28-aaff-73fed8aa7dc4\",\"type\":\"Toolbar\"},\"x_range\":{\"id\":\"e6c103b0-385a-4fdb-997c-a3a60220aba5\",\"type\":\"DataRange1d\"},\"x_scale\":{\"id\":\"d4fbc172-1362-4b47-b263-ad66e3a74a70\",\"type\":\"LinearScale\"},\"y_range\":{\"id\":\"21a1b554-bba6-4c81-ae86-cef7cb8f575a\",\"type\":\"DataRange1d\"},\"y_scale\":{\"id\":\"1be17456-44d6-4a64-adfb-fec469fbed7e\",\"type\":\"LinearScale\"}},\"id\":\"5200948c-cf45-4308-8fd6-c6e49be23612\",\"subtype\":\"Figure\",\"type\":\"Plot\"},{\"attributes\":{},\"id\":\"9b8185ee-b0d5-45ad-bcee-5e1d3a974e88\",\"type\":\"HelpTool\"},{\"attributes\":{\"callback\":null,\"column_names\":[\"x\",\"top\"],\"data\":{\"top\":[1.2,2.5,3.7],\"x\":[1,2,3]}},\"id\":\"98405ecb-6dec-456a-b7d7-302d7be7c54a\",\"type\":\"ColumnDataSource\"},{\"attributes\":{\"fill_color\":{\"value\":\"firebrick\"},\"line_color\":{\"value\":\"firebrick\"},\"top\":{\"field\":\"top\"},\"width\":{\"value\":0.5},\"x\":{\"field\":\"x\"}},\"id\":\"906a4b3a-49db-4b61-8eed-c9f96d93d93a\",\"type\":\"VBar\"},{\"attributes\":{},\"id\":\"d4fbc172-1362-4b47-b263-ad66e3a74a70\",\"type\":\"LinearScale\"},{\"attributes\":{},\"id\":\"5e47d5b4-4365-4d85-9a39-42ca3e1cb914\",\"type\":\"BasicTicker\"},{\"attributes\":{\"plot\":null,\"text\":\"\"},\"id\":\"8d54205b-20d7-45c2-ba6f-0834baebe018\",\"type\":\"Title\"},{\"attributes\":{\"callback\":null},\"id\":\"e6c103b0-385a-4fdb-997c-a3a60220aba5\",\"type\":\"DataRange1d\"},{\"attributes\":{},\"id\":\"d0c09bd4-af5e-40fd-ba03-a0d2482c5c03\",\"type\":\"BasicTickFormatter\"},{\"attributes\":{},\"id\":\"4f365eea-f8df-4579-bb00-6194cd72047f\",\"type\":\"BasicTickFormatter\"},{\"attributes\":{\"data_source\":{\"id\":\"98405ecb-6dec-456a-b7d7-302d7be7c54a\",\"type\":\"ColumnDataSource\"},\"glyph\":{\"id\":\"906a4b3a-49db-4b61-8eed-c9f96d93d93a\",\"type\":\"VBar\"},\"hover_glyph\":null,\"muted_glyph\":null,\"nonselection_glyph\":{\"id\":\"1ee2e1d0-3f37-4188-ad5e-f1a8525f7d8d\",\"type\":\"VBar\"},\"selection_glyph\":null,\"view\":{\"id\":\"0d9aa125-613e-4556-8c24-2df7e8150c5a\",\"type\":\"CDSView\"}},\"id\":\"09a715e7-448d-4f21-a7bf-c02b7c224e1c\",\"type\":\"GlyphRenderer\"},{\"attributes\":{\"dimension\":1,\"plot\":{\"id\":\"5200948c-cf45-4308-8fd6-c6e49be23612\",\"subtype\":\"Figure\",\"type\":\"Plot\"},\"ticker\":{\"id\":\"5e47d5b4-4365-4d85-9a39-42ca3e1cb914\",\"type\":\"BasicTicker\"}},\"id\":\"370dfdae-2276-45e7-b2af-ae238c0d0f7a\",\"type\":\"Grid\"},{\"attributes\":{\"fill_alpha\":{\"value\":0.1},\"fill_color\":{\"value\":\"#1f77b4\"},\"line_alpha\":{\"value\":0.1},\"line_color\":{\"value\":\"#1f77b4\"},\"top\":{\"field\":\"top\"},\"width\":{\"value\":0.5},\"x\":{\"field\":\"x\"}},\"id\":\"1ee2e1d0-3f37-4188-ad5e-f1a8525f7d8d\",\"type\":\"VBar\"},{\"attributes\":{\"callback\":null},\"id\":\"21a1b554-bba6-4c81-ae86-cef7cb8f575a\",\"type\":\"DataRange1d\"},{\"attributes\":{},\"id\":\"19e65df9-4edb-4b47-8bf0-39a9612d5ab0\",\"type\":\"PanTool\"},{\"attributes\":{\"formatter\":{\"id\":\"d0c09bd4-af5e-40fd-ba03-a0d2482c5c03\",\"type\":\"BasicTickFormatter\"},\"plot\":{\"id\":\"5200948c-cf45-4308-8fd6-c6e49be23612\",\"subtype\":\"Figure\",\"type\":\"Plot\"},\"ticker\":{\"id\":\"5e47d5b4-4365-4d85-9a39-42ca3e1cb914\",\"type\":\"BasicTicker\"}},\"id\":\"c58b8a58-e7e2-4308-b81c-70b16730f98f\",\"type\":\"LinearAxis\"},{\"attributes\":{\"bottom_units\":\"screen\",\"fill_alpha\":{\"value\":0.5},\"fill_color\":{\"value\":\"lightgrey\"},\"left_units\":\"screen\",\"level\":\"overlay\",\"line_alpha\":{\"value\":1.0},\"line_color\":{\"value\":\"black\"},\"line_dash\":[4,4],\"line_width\":{\"value\":2},\"plot\":null,\"render_mode\":\"css\",\"right_units\":\"screen\",\"top_units\":\"screen\"},\"id\":\"9f3e1cef-8899-49e0-b3d9-192f691b04c6\",\"type\":\"BoxAnnotation\"},{\"attributes\":{\"active_drag\":\"auto\",\"active_inspect\":\"auto\",\"active_scroll\":\"auto\",\"active_tap\":\"auto\",\"tools\":[{\"id\":\"19e65df9-4edb-4b47-8bf0-39a9612d5ab0\",\"type\":\"PanTool\"},{\"id\":\"db08c24d-6487-4f3b-987b-21b8ddb17bac\",\"type\":\"WheelZoomTool\"},{\"id\":\"b1e340e9-62bd-4f94-a615-4e669b842cb9\",\"type\":\"BoxZoomTool\"},{\"id\":\"ea0efe8a-7fa9-453a-8ed9-e5cadcd03e3f\",\"type\":\"SaveTool\"},{\"id\":\"b18b4272-5eee-46de-9d14-de898a554007\",\"type\":\"ResetTool\"},{\"id\":\"9b8185ee-b0d5-45ad-bcee-5e1d3a974e88\",\"type\":\"HelpTool\"}]},\"id\":\"4f1d646f-fa35-4e28-aaff-73fed8aa7dc4\",\"type\":\"Toolbar\"},{\"attributes\":{},\"id\":\"ea0efe8a-7fa9-453a-8ed9-e5cadcd03e3f\",\"type\":\"SaveTool\"},{\"attributes\":{\"overlay\":{\"id\":\"9f3e1cef-8899-49e0-b3d9-192f691b04c6\",\"type\":\"BoxAnnotation\"}},\"id\":\"b1e340e9-62bd-4f94-a615-4e669b842cb9\",\"type\":\"BoxZoomTool\"}],\"root_ids\":[\"5200948c-cf45-4308-8fd6-c6e49be23612\"]},\"title\":\"Bokeh Application\",\"version\":\"0.12.13\"}};\n",
       "  var render_items = [{\"docid\":\"ee348cd1-3643-4ac3-ac57-e5a1017162bd\",\"elementid\":\"0c530f8d-6a9f-4469-b0ce-11d442e000a0\",\"modelid\":\"5200948c-cf45-4308-8fd6-c6e49be23612\"}];\n",
       "  root.Bokeh.embed.embed_items_notebook(docs_json, render_items);\n",
       "\n",
       "  }\n",
       "  if (root.Bokeh !== undefined) {\n",
       "    embed_document(root);\n",
       "  } else {\n",
       "    var attempts = 0;\n",
       "    var timer = setInterval(function(root) {\n",
       "      if (root.Bokeh !== undefined) {\n",
       "        embed_document(root);\n",
       "        clearInterval(timer);\n",
       "      }\n",
       "      attempts++;\n",
       "      if (attempts > 100) {\n",
       "        console.log(\"Bokeh: ERROR: Unable to run BokehJS code because BokehJS library is missing\")\n",
       "        clearInterval(timer);\n",
       "      }\n",
       "    }, 10, root)\n",
       "  }\n",
       "})(window);"
      ],
      "application/vnd.bokehjs_exec.v0+json": ""
     },
     "metadata": {
      "application/vnd.bokehjs_exec.v0+json": {
       "id": "5200948c-cf45-4308-8fd6-c6e49be23612"
      }
     },
     "output_type": "display_data"
    }
   ],
   "source": [
    "p = figure(plot_width=400, plot_height=400)\n",
    "p.vbar(x=[1, 2, 3], width=0.5, bottom=0,\n",
    "       top=[1.2, 2.5, 3.7], color=\"firebrick\")\n",
    "\n",
    "show(p)"
   ]
  },
  {
   "cell_type": "code",
   "execution_count": 18,
   "metadata": {},
   "outputs": [
    {
     "data": {
      "text/html": [
       "\n",
       "<div class=\"bk-root\">\n",
       "    <div class=\"bk-plotdiv\" id=\"2176a4ac-020d-49e2-8090-d2d343423805\"></div>\n",
       "</div>"
      ]
     },
     "metadata": {},
     "output_type": "display_data"
    },
    {
     "data": {
      "application/javascript": [
       "(function(root) {\n",
       "  function embed_document(root) {\n",
       "    \n",
       "  var docs_json = {\"8f68842a-317c-487c-8fff-5100ece6a952\":{\"roots\":{\"references\":[{\"attributes\":{\"callback\":null},\"id\":\"1d4e23a2-6684-4cc8-9a8b-9e8e24af98bf\",\"type\":\"DataRange1d\"},{\"attributes\":{\"callback\":null,\"column_names\":[\"y\",\"right\"],\"data\":{\"right\":[1.2,2.5,3.7],\"y\":[1,2,3]}},\"id\":\"3edbff98-1641-4ea4-9b94-6b10451ecaf9\",\"type\":\"ColumnDataSource\"},{\"attributes\":{\"source\":{\"id\":\"3edbff98-1641-4ea4-9b94-6b10451ecaf9\",\"type\":\"ColumnDataSource\"}},\"id\":\"197aa080-e9a5-4c2f-bda8-131e4c307b38\",\"type\":\"CDSView\"},{\"attributes\":{\"dimension\":1,\"plot\":{\"id\":\"2f6acfcc-f72c-44e2-ba1c-186b6de51324\",\"subtype\":\"Figure\",\"type\":\"Plot\"},\"ticker\":{\"id\":\"98d0725f-8f8a-41a1-a401-ee99bd09f450\",\"type\":\"BasicTicker\"}},\"id\":\"58e13f9e-6b79-4b7b-a23a-1429a85e3862\",\"type\":\"Grid\"},{\"attributes\":{},\"id\":\"24c79fa3-04a2-426b-b8c8-b00d4c7efc60\",\"type\":\"BasicTickFormatter\"},{\"attributes\":{},\"id\":\"74f9e2d6-6cf7-43d4-bdfe-9cbcc04e536c\",\"type\":\"SaveTool\"},{\"attributes\":{},\"id\":\"98d0725f-8f8a-41a1-a401-ee99bd09f450\",\"type\":\"BasicTicker\"},{\"attributes\":{},\"id\":\"c56aa922-d4ef-4d9c-ac2f-a3aa71ce190a\",\"type\":\"PanTool\"},{\"attributes\":{\"formatter\":{\"id\":\"24c79fa3-04a2-426b-b8c8-b00d4c7efc60\",\"type\":\"BasicTickFormatter\"},\"plot\":{\"id\":\"2f6acfcc-f72c-44e2-ba1c-186b6de51324\",\"subtype\":\"Figure\",\"type\":\"Plot\"},\"ticker\":{\"id\":\"2e0e012b-0dd1-452b-9bed-2ae485aa5a04\",\"type\":\"BasicTicker\"}},\"id\":\"dbe5a824-7308-4548-ac9d-c6dc5d995183\",\"type\":\"LinearAxis\"},{\"attributes\":{},\"id\":\"2e0e012b-0dd1-452b-9bed-2ae485aa5a04\",\"type\":\"BasicTicker\"},{\"attributes\":{\"below\":[{\"id\":\"dbe5a824-7308-4548-ac9d-c6dc5d995183\",\"type\":\"LinearAxis\"}],\"left\":[{\"id\":\"cbce1fec-affe-4c19-8920-ad633d2929ab\",\"type\":\"LinearAxis\"}],\"plot_height\":400,\"plot_width\":400,\"renderers\":[{\"id\":\"dbe5a824-7308-4548-ac9d-c6dc5d995183\",\"type\":\"LinearAxis\"},{\"id\":\"5b45b20f-b073-4936-9334-ae4bb1559a43\",\"type\":\"Grid\"},{\"id\":\"cbce1fec-affe-4c19-8920-ad633d2929ab\",\"type\":\"LinearAxis\"},{\"id\":\"58e13f9e-6b79-4b7b-a23a-1429a85e3862\",\"type\":\"Grid\"},{\"id\":\"c21ecc18-0df6-4409-b5a2-b2c1b627bf51\",\"type\":\"BoxAnnotation\"},{\"id\":\"ed6e8039-d50d-4830-a8bc-e8e1d91bd2d9\",\"type\":\"GlyphRenderer\"}],\"title\":{\"id\":\"af2280d2-95f6-41f3-9eef-676cb3f18a0c\",\"type\":\"Title\"},\"toolbar\":{\"id\":\"10dd6fee-8c4e-4a57-bf08-bfc9dbafa5c0\",\"type\":\"Toolbar\"},\"x_range\":{\"id\":\"1433d1f0-8610-48a3-a533-b56078005350\",\"type\":\"DataRange1d\"},\"x_scale\":{\"id\":\"5e5d97c6-1a64-4c81-9770-c17767d1fb80\",\"type\":\"LinearScale\"},\"y_range\":{\"id\":\"1d4e23a2-6684-4cc8-9a8b-9e8e24af98bf\",\"type\":\"DataRange1d\"},\"y_scale\":{\"id\":\"c7ef6d84-da67-48c6-ae06-339e6681ca94\",\"type\":\"LinearScale\"}},\"id\":\"2f6acfcc-f72c-44e2-ba1c-186b6de51324\",\"subtype\":\"Figure\",\"type\":\"Plot\"},{\"attributes\":{\"bottom_units\":\"screen\",\"fill_alpha\":{\"value\":0.5},\"fill_color\":{\"value\":\"lightgrey\"},\"left_units\":\"screen\",\"level\":\"overlay\",\"line_alpha\":{\"value\":1.0},\"line_color\":{\"value\":\"black\"},\"line_dash\":[4,4],\"line_width\":{\"value\":2},\"plot\":null,\"render_mode\":\"css\",\"right_units\":\"screen\",\"top_units\":\"screen\"},\"id\":\"c21ecc18-0df6-4409-b5a2-b2c1b627bf51\",\"type\":\"BoxAnnotation\"},{\"attributes\":{\"fill_alpha\":{\"value\":0.1},\"fill_color\":{\"value\":\"#1f77b4\"},\"height\":{\"value\":0.5},\"line_alpha\":{\"value\":0.1},\"line_color\":{\"value\":\"#1f77b4\"},\"right\":{\"field\":\"right\"},\"y\":{\"field\":\"y\"}},\"id\":\"80b94d26-58d5-4667-beae-72d0604f3c49\",\"type\":\"HBar\"},{\"attributes\":{},\"id\":\"c8b2cc04-b624-4326-83b3-10fc4113df93\",\"type\":\"WheelZoomTool\"},{\"attributes\":{\"data_source\":{\"id\":\"3edbff98-1641-4ea4-9b94-6b10451ecaf9\",\"type\":\"ColumnDataSource\"},\"glyph\":{\"id\":\"b33e885c-9fcd-45d0-adce-ad9ee6708780\",\"type\":\"HBar\"},\"hover_glyph\":null,\"muted_glyph\":null,\"nonselection_glyph\":{\"id\":\"80b94d26-58d5-4667-beae-72d0604f3c49\",\"type\":\"HBar\"},\"selection_glyph\":null,\"view\":{\"id\":\"197aa080-e9a5-4c2f-bda8-131e4c307b38\",\"type\":\"CDSView\"}},\"id\":\"ed6e8039-d50d-4830-a8bc-e8e1d91bd2d9\",\"type\":\"GlyphRenderer\"},{\"attributes\":{\"callback\":null},\"id\":\"1433d1f0-8610-48a3-a533-b56078005350\",\"type\":\"DataRange1d\"},{\"attributes\":{\"overlay\":{\"id\":\"c21ecc18-0df6-4409-b5a2-b2c1b627bf51\",\"type\":\"BoxAnnotation\"}},\"id\":\"fedaa524-408c-47b7-99d8-7da9ac3a4efc\",\"type\":\"BoxZoomTool\"},{\"attributes\":{},\"id\":\"5e5d97c6-1a64-4c81-9770-c17767d1fb80\",\"type\":\"LinearScale\"},{\"attributes\":{\"plot\":{\"id\":\"2f6acfcc-f72c-44e2-ba1c-186b6de51324\",\"subtype\":\"Figure\",\"type\":\"Plot\"},\"ticker\":{\"id\":\"2e0e012b-0dd1-452b-9bed-2ae485aa5a04\",\"type\":\"BasicTicker\"}},\"id\":\"5b45b20f-b073-4936-9334-ae4bb1559a43\",\"type\":\"Grid\"},{\"attributes\":{\"active_drag\":\"auto\",\"active_inspect\":\"auto\",\"active_scroll\":\"auto\",\"active_tap\":\"auto\",\"tools\":[{\"id\":\"c56aa922-d4ef-4d9c-ac2f-a3aa71ce190a\",\"type\":\"PanTool\"},{\"id\":\"c8b2cc04-b624-4326-83b3-10fc4113df93\",\"type\":\"WheelZoomTool\"},{\"id\":\"fedaa524-408c-47b7-99d8-7da9ac3a4efc\",\"type\":\"BoxZoomTool\"},{\"id\":\"74f9e2d6-6cf7-43d4-bdfe-9cbcc04e536c\",\"type\":\"SaveTool\"},{\"id\":\"b3d89a4b-ab10-4d63-9185-c46b1d4ee47d\",\"type\":\"ResetTool\"},{\"id\":\"564970a4-2e80-40be-b67a-ae59dc5ca407\",\"type\":\"HelpTool\"}]},\"id\":\"10dd6fee-8c4e-4a57-bf08-bfc9dbafa5c0\",\"type\":\"Toolbar\"},{\"attributes\":{},\"id\":\"b3d89a4b-ab10-4d63-9185-c46b1d4ee47d\",\"type\":\"ResetTool\"},{\"attributes\":{\"fill_color\":{\"value\":\"navy\"},\"height\":{\"value\":0.5},\"line_color\":{\"value\":\"navy\"},\"right\":{\"field\":\"right\"},\"y\":{\"field\":\"y\"}},\"id\":\"b33e885c-9fcd-45d0-adce-ad9ee6708780\",\"type\":\"HBar\"},{\"attributes\":{\"formatter\":{\"id\":\"06d6612e-377b-42f9-8300-5ec65f7fcc5c\",\"type\":\"BasicTickFormatter\"},\"plot\":{\"id\":\"2f6acfcc-f72c-44e2-ba1c-186b6de51324\",\"subtype\":\"Figure\",\"type\":\"Plot\"},\"ticker\":{\"id\":\"98d0725f-8f8a-41a1-a401-ee99bd09f450\",\"type\":\"BasicTicker\"}},\"id\":\"cbce1fec-affe-4c19-8920-ad633d2929ab\",\"type\":\"LinearAxis\"},{\"attributes\":{},\"id\":\"06d6612e-377b-42f9-8300-5ec65f7fcc5c\",\"type\":\"BasicTickFormatter\"},{\"attributes\":{\"plot\":null,\"text\":\"\"},\"id\":\"af2280d2-95f6-41f3-9eef-676cb3f18a0c\",\"type\":\"Title\"},{\"attributes\":{},\"id\":\"c7ef6d84-da67-48c6-ae06-339e6681ca94\",\"type\":\"LinearScale\"},{\"attributes\":{},\"id\":\"564970a4-2e80-40be-b67a-ae59dc5ca407\",\"type\":\"HelpTool\"}],\"root_ids\":[\"2f6acfcc-f72c-44e2-ba1c-186b6de51324\"]},\"title\":\"Bokeh Application\",\"version\":\"0.12.13\"}};\n",
       "  var render_items = [{\"docid\":\"8f68842a-317c-487c-8fff-5100ece6a952\",\"elementid\":\"2176a4ac-020d-49e2-8090-d2d343423805\",\"modelid\":\"2f6acfcc-f72c-44e2-ba1c-186b6de51324\"}];\n",
       "  root.Bokeh.embed.embed_items_notebook(docs_json, render_items);\n",
       "\n",
       "  }\n",
       "  if (root.Bokeh !== undefined) {\n",
       "    embed_document(root);\n",
       "  } else {\n",
       "    var attempts = 0;\n",
       "    var timer = setInterval(function(root) {\n",
       "      if (root.Bokeh !== undefined) {\n",
       "        embed_document(root);\n",
       "        clearInterval(timer);\n",
       "      }\n",
       "      attempts++;\n",
       "      if (attempts > 100) {\n",
       "        console.log(\"Bokeh: ERROR: Unable to run BokehJS code because BokehJS library is missing\")\n",
       "        clearInterval(timer);\n",
       "      }\n",
       "    }, 10, root)\n",
       "  }\n",
       "})(window);"
      ],
      "application/vnd.bokehjs_exec.v0+json": ""
     },
     "metadata": {
      "application/vnd.bokehjs_exec.v0+json": {
       "id": "2f6acfcc-f72c-44e2-ba1c-186b6de51324"
      }
     },
     "output_type": "display_data"
    }
   ],
   "source": [
    "p = figure(plot_width=400, plot_height=400)\n",
    "p.hbar(y=[1, 2, 3], height=0.5, left=0,\n",
    "       right=[1.2, 2.5, 3.7], color=\"navy\")\n",
    "\n",
    "show(p)"
   ]
  },
  {
   "cell_type": "markdown",
   "metadata": {},
   "source": [
    "### Patch Glyphs\n",
    "### Single Patches"
   ]
  },
  {
   "cell_type": "code",
   "execution_count": 20,
   "metadata": {},
   "outputs": [
    {
     "data": {
      "text/html": [
       "\n",
       "<div class=\"bk-root\">\n",
       "    <div class=\"bk-plotdiv\" id=\"89ce99ea-1b7b-4c75-bc9c-1ed85e9ad110\"></div>\n",
       "</div>"
      ]
     },
     "metadata": {},
     "output_type": "display_data"
    },
    {
     "data": {
      "application/javascript": [
       "(function(root) {\n",
       "  function embed_document(root) {\n",
       "    \n",
       "  var docs_json = {\"12f54463-aa06-466d-9bc4-4c8f9eaa50a9\":{\"roots\":{\"references\":[{\"attributes\":{\"source\":{\"id\":\"9d3f6c3c-cc37-44f7-837a-22fd70080891\",\"type\":\"ColumnDataSource\"}},\"id\":\"19f18b4e-c179-4c8c-87f2-314a2bb1914d\",\"type\":\"CDSView\"},{\"attributes\":{\"callback\":null},\"id\":\"68de42cf-4d05-42aa-a4fe-f988dce7a2de\",\"type\":\"DataRange1d\"},{\"attributes\":{\"data_source\":{\"id\":\"9d3f6c3c-cc37-44f7-837a-22fd70080891\",\"type\":\"ColumnDataSource\"},\"glyph\":{\"id\":\"5e367ed9-492e-40a5-8d01-f55770365b21\",\"type\":\"Patch\"},\"hover_glyph\":null,\"muted_glyph\":null,\"nonselection_glyph\":{\"id\":\"a963c980-f9c0-49bd-b5b8-35d3f8a54a35\",\"type\":\"Patch\"},\"selection_glyph\":null,\"view\":{\"id\":\"19f18b4e-c179-4c8c-87f2-314a2bb1914d\",\"type\":\"CDSView\"}},\"id\":\"58a43467-27d4-49ed-b945-e106774f843a\",\"type\":\"GlyphRenderer\"},{\"attributes\":{},\"id\":\"aadc06e5-4c21-45e4-bcca-0557ed1f76a7\",\"type\":\"BasicTickFormatter\"},{\"attributes\":{\"active_drag\":\"auto\",\"active_inspect\":\"auto\",\"active_scroll\":\"auto\",\"active_tap\":\"auto\",\"tools\":[{\"id\":\"913be9e8-ad1e-4697-aa4b-372c0985caa5\",\"type\":\"PanTool\"},{\"id\":\"77d35594-4847-4c6f-a2e9-fed9b25dcd10\",\"type\":\"WheelZoomTool\"},{\"id\":\"b4bc98ad-3aaf-4dea-9b50-61c284c015ae\",\"type\":\"BoxZoomTool\"},{\"id\":\"5456a836-eaa6-49d2-ab21-4cd6730db239\",\"type\":\"SaveTool\"},{\"id\":\"23eee382-a276-435b-b770-7d440cc760bd\",\"type\":\"ResetTool\"},{\"id\":\"ebe0a392-3f26-48d5-b30a-5acdf7dc2709\",\"type\":\"HelpTool\"}]},\"id\":\"05476a89-3b97-4800-b0ea-6c395097618d\",\"type\":\"Toolbar\"},{\"attributes\":{},\"id\":\"913be9e8-ad1e-4697-aa4b-372c0985caa5\",\"type\":\"PanTool\"},{\"attributes\":{},\"id\":\"17be285c-3049-4ad5-8c99-029f0caef639\",\"type\":\"LinearScale\"},{\"attributes\":{\"bottom_units\":\"screen\",\"fill_alpha\":{\"value\":0.5},\"fill_color\":{\"value\":\"lightgrey\"},\"left_units\":\"screen\",\"level\":\"overlay\",\"line_alpha\":{\"value\":1.0},\"line_color\":{\"value\":\"black\"},\"line_dash\":[4,4],\"line_width\":{\"value\":2},\"plot\":null,\"render_mode\":\"css\",\"right_units\":\"screen\",\"top_units\":\"screen\"},\"id\":\"cfb22a6c-f97d-421d-b3ac-8b398cbc1c88\",\"type\":\"BoxAnnotation\"},{\"attributes\":{\"fill_alpha\":0.1,\"fill_color\":\"#1f77b4\",\"line_alpha\":0.1,\"line_color\":\"#1f77b4\",\"line_width\":2,\"x\":{\"field\":\"x\"},\"y\":{\"field\":\"y\"}},\"id\":\"a963c980-f9c0-49bd-b5b8-35d3f8a54a35\",\"type\":\"Patch\"},{\"attributes\":{\"fill_alpha\":0.5,\"fill_color\":\"green\",\"line_alpha\":0.5,\"line_color\":\"green\",\"line_width\":2,\"x\":{\"field\":\"x\"},\"y\":{\"field\":\"y\"}},\"id\":\"5e367ed9-492e-40a5-8d01-f55770365b21\",\"type\":\"Patch\"},{\"attributes\":{},\"id\":\"77d35594-4847-4c6f-a2e9-fed9b25dcd10\",\"type\":\"WheelZoomTool\"},{\"attributes\":{\"formatter\":{\"id\":\"4db6e015-d47e-4416-9e5b-7f001d80cc39\",\"type\":\"BasicTickFormatter\"},\"plot\":{\"id\":\"e1e01acd-af18-4a3d-8bf3-38993f76d2fe\",\"subtype\":\"Figure\",\"type\":\"Plot\"},\"ticker\":{\"id\":\"42f195aa-4ce6-492a-9c6f-a7b88242dba0\",\"type\":\"BasicTicker\"}},\"id\":\"b9cd27c9-51e4-46b8-8d1d-93fa99b4e3bf\",\"type\":\"LinearAxis\"},{\"attributes\":{\"plot\":null,\"text\":\"\"},\"id\":\"18127ffd-26f4-4414-8f2a-a38376baf957\",\"type\":\"Title\"},{\"attributes\":{\"plot\":{\"id\":\"e1e01acd-af18-4a3d-8bf3-38993f76d2fe\",\"subtype\":\"Figure\",\"type\":\"Plot\"},\"ticker\":{\"id\":\"2317d7ba-01cf-48e1-83c1-ac81bfdc516a\",\"type\":\"BasicTicker\"}},\"id\":\"fb00dbc8-f53f-4ed4-99bd-d8d9b1da342f\",\"type\":\"Grid\"},{\"attributes\":{},\"id\":\"5456a836-eaa6-49d2-ab21-4cd6730db239\",\"type\":\"SaveTool\"},{\"attributes\":{},\"id\":\"2317d7ba-01cf-48e1-83c1-ac81bfdc516a\",\"type\":\"BasicTicker\"},{\"attributes\":{\"overlay\":{\"id\":\"cfb22a6c-f97d-421d-b3ac-8b398cbc1c88\",\"type\":\"BoxAnnotation\"}},\"id\":\"b4bc98ad-3aaf-4dea-9b50-61c284c015ae\",\"type\":\"BoxZoomTool\"},{\"attributes\":{\"formatter\":{\"id\":\"aadc06e5-4c21-45e4-bcca-0557ed1f76a7\",\"type\":\"BasicTickFormatter\"},\"plot\":{\"id\":\"e1e01acd-af18-4a3d-8bf3-38993f76d2fe\",\"subtype\":\"Figure\",\"type\":\"Plot\"},\"ticker\":{\"id\":\"2317d7ba-01cf-48e1-83c1-ac81bfdc516a\",\"type\":\"BasicTicker\"}},\"id\":\"f9dffb64-ad86-4eeb-8ddb-6c1c8c03b251\",\"type\":\"LinearAxis\"},{\"attributes\":{},\"id\":\"5f636ce5-7fc7-4380-b3a1-ff9f82a06286\",\"type\":\"LinearScale\"},{\"attributes\":{},\"id\":\"ebe0a392-3f26-48d5-b30a-5acdf7dc2709\",\"type\":\"HelpTool\"},{\"attributes\":{\"callback\":null},\"id\":\"cd1f757c-b90c-4733-b0d1-7bed4c9c55fd\",\"type\":\"DataRange1d\"},{\"attributes\":{},\"id\":\"4db6e015-d47e-4416-9e5b-7f001d80cc39\",\"type\":\"BasicTickFormatter\"},{\"attributes\":{},\"id\":\"23eee382-a276-435b-b770-7d440cc760bd\",\"type\":\"ResetTool\"},{\"attributes\":{},\"id\":\"42f195aa-4ce6-492a-9c6f-a7b88242dba0\",\"type\":\"BasicTicker\"},{\"attributes\":{\"below\":[{\"id\":\"f9dffb64-ad86-4eeb-8ddb-6c1c8c03b251\",\"type\":\"LinearAxis\"}],\"left\":[{\"id\":\"b9cd27c9-51e4-46b8-8d1d-93fa99b4e3bf\",\"type\":\"LinearAxis\"}],\"plot_height\":400,\"plot_width\":400,\"renderers\":[{\"id\":\"f9dffb64-ad86-4eeb-8ddb-6c1c8c03b251\",\"type\":\"LinearAxis\"},{\"id\":\"fb00dbc8-f53f-4ed4-99bd-d8d9b1da342f\",\"type\":\"Grid\"},{\"id\":\"b9cd27c9-51e4-46b8-8d1d-93fa99b4e3bf\",\"type\":\"LinearAxis\"},{\"id\":\"0620bc86-0ed3-4403-a57b-199a73a11f9e\",\"type\":\"Grid\"},{\"id\":\"cfb22a6c-f97d-421d-b3ac-8b398cbc1c88\",\"type\":\"BoxAnnotation\"},{\"id\":\"58a43467-27d4-49ed-b945-e106774f843a\",\"type\":\"GlyphRenderer\"}],\"title\":{\"id\":\"18127ffd-26f4-4414-8f2a-a38376baf957\",\"type\":\"Title\"},\"toolbar\":{\"id\":\"05476a89-3b97-4800-b0ea-6c395097618d\",\"type\":\"Toolbar\"},\"x_range\":{\"id\":\"68de42cf-4d05-42aa-a4fe-f988dce7a2de\",\"type\":\"DataRange1d\"},\"x_scale\":{\"id\":\"17be285c-3049-4ad5-8c99-029f0caef639\",\"type\":\"LinearScale\"},\"y_range\":{\"id\":\"cd1f757c-b90c-4733-b0d1-7bed4c9c55fd\",\"type\":\"DataRange1d\"},\"y_scale\":{\"id\":\"5f636ce5-7fc7-4380-b3a1-ff9f82a06286\",\"type\":\"LinearScale\"}},\"id\":\"e1e01acd-af18-4a3d-8bf3-38993f76d2fe\",\"subtype\":\"Figure\",\"type\":\"Plot\"},{\"attributes\":{\"callback\":null,\"column_names\":[\"x\",\"y\"],\"data\":{\"x\":[1,2,3,4,5],\"y\":[6,7,8,7,3]}},\"id\":\"9d3f6c3c-cc37-44f7-837a-22fd70080891\",\"type\":\"ColumnDataSource\"},{\"attributes\":{\"dimension\":1,\"plot\":{\"id\":\"e1e01acd-af18-4a3d-8bf3-38993f76d2fe\",\"subtype\":\"Figure\",\"type\":\"Plot\"},\"ticker\":{\"id\":\"42f195aa-4ce6-492a-9c6f-a7b88242dba0\",\"type\":\"BasicTicker\"}},\"id\":\"0620bc86-0ed3-4403-a57b-199a73a11f9e\",\"type\":\"Grid\"}],\"root_ids\":[\"e1e01acd-af18-4a3d-8bf3-38993f76d2fe\"]},\"title\":\"Bokeh Application\",\"version\":\"0.12.13\"}};\n",
       "  var render_items = [{\"docid\":\"12f54463-aa06-466d-9bc4-4c8f9eaa50a9\",\"elementid\":\"89ce99ea-1b7b-4c75-bc9c-1ed85e9ad110\",\"modelid\":\"e1e01acd-af18-4a3d-8bf3-38993f76d2fe\"}];\n",
       "  root.Bokeh.embed.embed_items_notebook(docs_json, render_items);\n",
       "\n",
       "  }\n",
       "  if (root.Bokeh !== undefined) {\n",
       "    embed_document(root);\n",
       "  } else {\n",
       "    var attempts = 0;\n",
       "    var timer = setInterval(function(root) {\n",
       "      if (root.Bokeh !== undefined) {\n",
       "        embed_document(root);\n",
       "        clearInterval(timer);\n",
       "      }\n",
       "      attempts++;\n",
       "      if (attempts > 100) {\n",
       "        console.log(\"Bokeh: ERROR: Unable to run BokehJS code because BokehJS library is missing\")\n",
       "        clearInterval(timer);\n",
       "      }\n",
       "    }, 10, root)\n",
       "  }\n",
       "})(window);"
      ],
      "application/vnd.bokehjs_exec.v0+json": ""
     },
     "metadata": {
      "application/vnd.bokehjs_exec.v0+json": {
       "id": "e1e01acd-af18-4a3d-8bf3-38993f76d2fe"
      }
     },
     "output_type": "display_data"
    }
   ],
   "source": [
    "p = figure(plot_width=400, plot_height=400)\n",
    "\n",
    "# add a patch renderer with an alpha an line width\n",
    "p.patch([1, 2, 3, 4, 5], [6, 7, 8, 7, 3], alpha=0.5, color='green', line_width=2)\n",
    "\n",
    "show(p)"
   ]
  },
  {
   "cell_type": "markdown",
   "metadata": {},
   "source": [
    "### Multiple Patches"
   ]
  },
  {
   "cell_type": "code",
   "execution_count": 21,
   "metadata": {},
   "outputs": [
    {
     "data": {
      "text/html": [
       "\n",
       "<div class=\"bk-root\">\n",
       "    <div class=\"bk-plotdiv\" id=\"7d24de63-f8fb-47e7-a261-cf90814a1068\"></div>\n",
       "</div>"
      ]
     },
     "metadata": {},
     "output_type": "display_data"
    },
    {
     "data": {
      "application/javascript": [
       "(function(root) {\n",
       "  function embed_document(root) {\n",
       "    \n",
       "  var docs_json = {\"877adb4a-2335-415e-b489-381b2bd20de7\":{\"roots\":{\"references\":[{\"attributes\":{\"bottom_units\":\"screen\",\"fill_alpha\":{\"value\":0.5},\"fill_color\":{\"value\":\"lightgrey\"},\"left_units\":\"screen\",\"level\":\"overlay\",\"line_alpha\":{\"value\":1.0},\"line_color\":{\"value\":\"black\"},\"line_dash\":[4,4],\"line_width\":{\"value\":2},\"plot\":null,\"render_mode\":\"css\",\"right_units\":\"screen\",\"top_units\":\"screen\"},\"id\":\"7b996c53-1cba-47d4-a0d4-3964047b2b2b\",\"type\":\"BoxAnnotation\"},{\"attributes\":{},\"id\":\"2eff285d-b552-4ec8-bd4d-2fc27b77d96c\",\"type\":\"PanTool\"},{\"attributes\":{\"active_drag\":\"auto\",\"active_inspect\":\"auto\",\"active_scroll\":\"auto\",\"active_tap\":\"auto\",\"tools\":[{\"id\":\"2eff285d-b552-4ec8-bd4d-2fc27b77d96c\",\"type\":\"PanTool\"},{\"id\":\"bee7e5d3-a3bd-4dc4-ae0b-08a36cd703ad\",\"type\":\"WheelZoomTool\"},{\"id\":\"5fc7c3dc-32be-4f4c-9e68-0a2c3d0b2272\",\"type\":\"BoxZoomTool\"},{\"id\":\"1f5aee82-28a9-418d-bc63-df53c955b9e5\",\"type\":\"SaveTool\"},{\"id\":\"75e708a1-eb88-4653-8062-217cc9969efa\",\"type\":\"ResetTool\"},{\"id\":\"eb5640e3-9d5f-4ca6-9118-bffe02931cf5\",\"type\":\"HelpTool\"}]},\"id\":\"e9fa71a6-8c59-4a0d-bb8c-773e1483373e\",\"type\":\"Toolbar\"},{\"attributes\":{\"callback\":null},\"id\":\"f1b7df3b-1af3-48a6-8238-13202935c857\",\"type\":\"DataRange1d\"},{\"attributes\":{},\"id\":\"bee7e5d3-a3bd-4dc4-ae0b-08a36cd703ad\",\"type\":\"WheelZoomTool\"},{\"attributes\":{\"source\":{\"id\":\"2288d4c0-711c-41d0-b43d-ffbe59226e84\",\"type\":\"ColumnDataSource\"}},\"id\":\"124da018-8ffa-4477-9f85-f8580848c80d\",\"type\":\"CDSView\"},{\"attributes\":{\"overlay\":{\"id\":\"7b996c53-1cba-47d4-a0d4-3964047b2b2b\",\"type\":\"BoxAnnotation\"}},\"id\":\"5fc7c3dc-32be-4f4c-9e68-0a2c3d0b2272\",\"type\":\"BoxZoomTool\"},{\"attributes\":{\"callback\":null},\"id\":\"e4e6b7d8-5564-4dbd-8848-e7b277e5b183\",\"type\":\"DataRange1d\"},{\"attributes\":{\"fill_alpha\":{\"value\":0.1},\"fill_color\":{\"value\":\"#1f77b4\"},\"line_alpha\":{\"value\":0.1},\"line_color\":{\"value\":\"#1f77b4\"},\"line_width\":{\"value\":2},\"xs\":{\"field\":\"xs\"},\"ys\":{\"field\":\"ys\"}},\"id\":\"263d7cb6-17d5-4414-a03e-de3094df7d49\",\"type\":\"Patches\"},{\"attributes\":{},\"id\":\"1f5aee82-28a9-418d-bc63-df53c955b9e5\",\"type\":\"SaveTool\"},{\"attributes\":{},\"id\":\"b9ffea6e-b5e9-4333-9b58-b9b53064ce19\",\"type\":\"LinearScale\"},{\"attributes\":{},\"id\":\"75e708a1-eb88-4653-8062-217cc9969efa\",\"type\":\"ResetTool\"},{\"attributes\":{},\"id\":\"f7011b8c-52ef-4600-aa63-557667bcb0b1\",\"type\":\"LinearScale\"},{\"attributes\":{},\"id\":\"eb5640e3-9d5f-4ca6-9118-bffe02931cf5\",\"type\":\"HelpTool\"},{\"attributes\":{\"plot\":{\"id\":\"fdeaa4bf-6dd2-4e83-8aee-2cf472fa2760\",\"subtype\":\"Figure\",\"type\":\"Plot\"},\"ticker\":{\"id\":\"0d0097dc-6ffc-45f0-a0a3-548d8a3aa8f2\",\"type\":\"BasicTicker\"}},\"id\":\"9d2742f4-9417-43aa-a56f-233f00910bf8\",\"type\":\"Grid\"},{\"attributes\":{},\"id\":\"552f84b9-b2b2-4183-a8bd-cf145ea2bd6b\",\"type\":\"BasicTickFormatter\"},{\"attributes\":{\"formatter\":{\"id\":\"552f84b9-b2b2-4183-a8bd-cf145ea2bd6b\",\"type\":\"BasicTickFormatter\"},\"plot\":{\"id\":\"fdeaa4bf-6dd2-4e83-8aee-2cf472fa2760\",\"subtype\":\"Figure\",\"type\":\"Plot\"},\"ticker\":{\"id\":\"0d0097dc-6ffc-45f0-a0a3-548d8a3aa8f2\",\"type\":\"BasicTicker\"}},\"id\":\"486193b1-ab37-461f-910e-b5fbb0ccffbc\",\"type\":\"LinearAxis\"},{\"attributes\":{},\"id\":\"0d0097dc-6ffc-45f0-a0a3-548d8a3aa8f2\",\"type\":\"BasicTicker\"},{\"attributes\":{\"below\":[{\"id\":\"486193b1-ab37-461f-910e-b5fbb0ccffbc\",\"type\":\"LinearAxis\"}],\"left\":[{\"id\":\"2830c4d5-0569-4dab-92bd-a55ff75c0dab\",\"type\":\"LinearAxis\"}],\"plot_height\":400,\"plot_width\":400,\"renderers\":[{\"id\":\"486193b1-ab37-461f-910e-b5fbb0ccffbc\",\"type\":\"LinearAxis\"},{\"id\":\"9d2742f4-9417-43aa-a56f-233f00910bf8\",\"type\":\"Grid\"},{\"id\":\"2830c4d5-0569-4dab-92bd-a55ff75c0dab\",\"type\":\"LinearAxis\"},{\"id\":\"1df89204-c58d-483b-b53a-aa3e00edd259\",\"type\":\"Grid\"},{\"id\":\"7b996c53-1cba-47d4-a0d4-3964047b2b2b\",\"type\":\"BoxAnnotation\"},{\"id\":\"52896f03-61f6-435e-b76b-e73fdd838cc1\",\"type\":\"GlyphRenderer\"}],\"title\":{\"id\":\"d516f506-4d0a-4398-b2a8-d57ecf09a2ab\",\"type\":\"Title\"},\"toolbar\":{\"id\":\"e9fa71a6-8c59-4a0d-bb8c-773e1483373e\",\"type\":\"Toolbar\"},\"x_range\":{\"id\":\"f1b7df3b-1af3-48a6-8238-13202935c857\",\"type\":\"DataRange1d\"},\"x_scale\":{\"id\":\"b9ffea6e-b5e9-4333-9b58-b9b53064ce19\",\"type\":\"LinearScale\"},\"y_range\":{\"id\":\"e4e6b7d8-5564-4dbd-8848-e7b277e5b183\",\"type\":\"DataRange1d\"},\"y_scale\":{\"id\":\"f7011b8c-52ef-4600-aa63-557667bcb0b1\",\"type\":\"LinearScale\"}},\"id\":\"fdeaa4bf-6dd2-4e83-8aee-2cf472fa2760\",\"subtype\":\"Figure\",\"type\":\"Plot\"},{\"attributes\":{\"formatter\":{\"id\":\"d3405b33-21a4-4070-8bef-bcc95b538837\",\"type\":\"BasicTickFormatter\"},\"plot\":{\"id\":\"fdeaa4bf-6dd2-4e83-8aee-2cf472fa2760\",\"subtype\":\"Figure\",\"type\":\"Plot\"},\"ticker\":{\"id\":\"6533e544-03be-4158-acb4-0e49491c1fd9\",\"type\":\"BasicTicker\"}},\"id\":\"2830c4d5-0569-4dab-92bd-a55ff75c0dab\",\"type\":\"LinearAxis\"},{\"attributes\":{\"callback\":null,\"column_names\":[\"xs\",\"ys\",\"fill_color\",\"line_color\",\"fill_alpha\",\"line_alpha\"],\"data\":{\"fill_alpha\":[0.8,0.3],\"fill_color\":[\"firebrick\",\"navy\"],\"line_alpha\":[0.8,0.3],\"line_color\":[\"firebrick\",\"navy\"],\"xs\":[[1,3,2],[3,4,6,6]],\"ys\":[[2,1,4],[4,7,8,5]]}},\"id\":\"2288d4c0-711c-41d0-b43d-ffbe59226e84\",\"type\":\"ColumnDataSource\"},{\"attributes\":{\"plot\":null,\"text\":\"\"},\"id\":\"d516f506-4d0a-4398-b2a8-d57ecf09a2ab\",\"type\":\"Title\"},{\"attributes\":{},\"id\":\"6533e544-03be-4158-acb4-0e49491c1fd9\",\"type\":\"BasicTicker\"},{\"attributes\":{\"dimension\":1,\"plot\":{\"id\":\"fdeaa4bf-6dd2-4e83-8aee-2cf472fa2760\",\"subtype\":\"Figure\",\"type\":\"Plot\"},\"ticker\":{\"id\":\"6533e544-03be-4158-acb4-0e49491c1fd9\",\"type\":\"BasicTicker\"}},\"id\":\"1df89204-c58d-483b-b53a-aa3e00edd259\",\"type\":\"Grid\"},{\"attributes\":{},\"id\":\"d3405b33-21a4-4070-8bef-bcc95b538837\",\"type\":\"BasicTickFormatter\"},{\"attributes\":{\"fill_alpha\":{\"field\":\"fill_alpha\"},\"fill_color\":{\"field\":\"fill_color\"},\"line_alpha\":{\"field\":\"line_alpha\"},\"line_color\":{\"field\":\"line_color\"},\"line_width\":{\"value\":2},\"xs\":{\"field\":\"xs\"},\"ys\":{\"field\":\"ys\"}},\"id\":\"b51db49f-5e82-4ce2-bd6b-2b64d28d8d98\",\"type\":\"Patches\"},{\"attributes\":{\"data_source\":{\"id\":\"2288d4c0-711c-41d0-b43d-ffbe59226e84\",\"type\":\"ColumnDataSource\"},\"glyph\":{\"id\":\"b51db49f-5e82-4ce2-bd6b-2b64d28d8d98\",\"type\":\"Patches\"},\"hover_glyph\":null,\"muted_glyph\":null,\"nonselection_glyph\":{\"id\":\"263d7cb6-17d5-4414-a03e-de3094df7d49\",\"type\":\"Patches\"},\"selection_glyph\":null,\"view\":{\"id\":\"124da018-8ffa-4477-9f85-f8580848c80d\",\"type\":\"CDSView\"}},\"id\":\"52896f03-61f6-435e-b76b-e73fdd838cc1\",\"type\":\"GlyphRenderer\"}],\"root_ids\":[\"fdeaa4bf-6dd2-4e83-8aee-2cf472fa2760\"]},\"title\":\"Bokeh Application\",\"version\":\"0.12.13\"}};\n",
       "  var render_items = [{\"docid\":\"877adb4a-2335-415e-b489-381b2bd20de7\",\"elementid\":\"7d24de63-f8fb-47e7-a261-cf90814a1068\",\"modelid\":\"fdeaa4bf-6dd2-4e83-8aee-2cf472fa2760\"}];\n",
       "  root.Bokeh.embed.embed_items_notebook(docs_json, render_items);\n",
       "\n",
       "  }\n",
       "  if (root.Bokeh !== undefined) {\n",
       "    embed_document(root);\n",
       "  } else {\n",
       "    var attempts = 0;\n",
       "    var timer = setInterval(function(root) {\n",
       "      if (root.Bokeh !== undefined) {\n",
       "        embed_document(root);\n",
       "        clearInterval(timer);\n",
       "      }\n",
       "      attempts++;\n",
       "      if (attempts > 100) {\n",
       "        console.log(\"Bokeh: ERROR: Unable to run BokehJS code because BokehJS library is missing\")\n",
       "        clearInterval(timer);\n",
       "      }\n",
       "    }, 10, root)\n",
       "  }\n",
       "})(window);"
      ],
      "application/vnd.bokehjs_exec.v0+json": ""
     },
     "metadata": {
      "application/vnd.bokehjs_exec.v0+json": {
       "id": "fdeaa4bf-6dd2-4e83-8aee-2cf472fa2760"
      }
     },
     "output_type": "display_data"
    }
   ],
   "source": [
    "p = figure(plot_width=400, plot_height=400)\n",
    "\n",
    "p.patches([[1, 3, 2], [3, 4, 6, 6]], [[2, 1, 4], [4, 7, 8, 5]],\n",
    "          color=[\"firebrick\", \"navy\"], alpha=[0.8, 0.3], line_width=2)\n",
    "\n",
    "show(p)"
   ]
  },
  {
   "cell_type": "markdown",
   "metadata": {},
   "source": [
    "### Missing Points\n",
    "Just as with line() and multi_line(), NaN values can be passed to patch() and patches() glyphs. In this case, you end up with **single logical patch objects, that have multiple disjoint components** when rendered:"
   ]
  },
  {
   "cell_type": "code",
   "execution_count": 22,
   "metadata": {},
   "outputs": [
    {
     "data": {
      "text/html": [
       "\n",
       "<div class=\"bk-root\">\n",
       "    <div class=\"bk-plotdiv\" id=\"03d45b2b-4bc8-4571-aa74-f3b187e3f773\"></div>\n",
       "</div>"
      ]
     },
     "metadata": {},
     "output_type": "display_data"
    },
    {
     "data": {
      "application/javascript": [
       "(function(root) {\n",
       "  function embed_document(root) {\n",
       "    \n",
       "  var docs_json = {\"c75e7c61-f34e-408e-a878-348fae8da83d\":{\"roots\":{\"references\":[{\"attributes\":{\"dimension\":1,\"plot\":{\"id\":\"aed2bf5d-b87f-41a6-90fc-3e6ca3e94b9d\",\"subtype\":\"Figure\",\"type\":\"Plot\"},\"ticker\":{\"id\":\"a70e0baa-8781-431d-bb30-62ffce4f0c4e\",\"type\":\"BasicTicker\"}},\"id\":\"1c040f3c-759b-4e07-b777-5b9a1804b5ba\",\"type\":\"Grid\"},{\"attributes\":{\"source\":{\"id\":\"c7124ddb-a236-42a1-be30-65239160530d\",\"type\":\"ColumnDataSource\"}},\"id\":\"a7939396-e8dc-489a-9ef3-4127baf349bd\",\"type\":\"CDSView\"},{\"attributes\":{\"plot\":null,\"text\":\"\"},\"id\":\"7a0ce7a7-9185-4194-99eb-9d78336831dc\",\"type\":\"Title\"},{\"attributes\":{},\"id\":\"a70e0baa-8781-431d-bb30-62ffce4f0c4e\",\"type\":\"BasicTicker\"},{\"attributes\":{\"formatter\":{\"id\":\"23d8e523-4c06-47c8-a049-4d2d5111105d\",\"type\":\"BasicTickFormatter\"},\"plot\":{\"id\":\"aed2bf5d-b87f-41a6-90fc-3e6ca3e94b9d\",\"subtype\":\"Figure\",\"type\":\"Plot\"},\"ticker\":{\"id\":\"a70e0baa-8781-431d-bb30-62ffce4f0c4e\",\"type\":\"BasicTicker\"}},\"id\":\"02deb6c2-ab0f-4e1f-b1c8-3039d72d8682\",\"type\":\"LinearAxis\"},{\"attributes\":{},\"id\":\"5271c59f-37e4-495c-9afe-efd210b12fdd\",\"type\":\"BasicTicker\"},{\"attributes\":{\"fill_alpha\":0.5,\"fill_color\":\"#1f77b4\",\"line_alpha\":0.5,\"line_color\":\"#1f77b4\",\"line_width\":2,\"x\":{\"field\":\"x\"},\"y\":{\"field\":\"y\"}},\"id\":\"7fc90450-a828-498d-b4b1-02c558de2bfa\",\"type\":\"Patch\"},{\"attributes\":{\"formatter\":{\"id\":\"6e2a7cbd-c986-4728-8c3c-5b3d4452acbe\",\"type\":\"BasicTickFormatter\"},\"plot\":{\"id\":\"aed2bf5d-b87f-41a6-90fc-3e6ca3e94b9d\",\"subtype\":\"Figure\",\"type\":\"Plot\"},\"ticker\":{\"id\":\"5271c59f-37e4-495c-9afe-efd210b12fdd\",\"type\":\"BasicTicker\"}},\"id\":\"74dccb89-11ff-4dbb-b821-93cbb42a7e1e\",\"type\":\"LinearAxis\"},{\"attributes\":{\"plot\":{\"id\":\"aed2bf5d-b87f-41a6-90fc-3e6ca3e94b9d\",\"subtype\":\"Figure\",\"type\":\"Plot\"},\"ticker\":{\"id\":\"5271c59f-37e4-495c-9afe-efd210b12fdd\",\"type\":\"BasicTicker\"}},\"id\":\"6f58c496-c80f-463c-a2b2-d59c0c10ca68\",\"type\":\"Grid\"},{\"attributes\":{},\"id\":\"c0b6faef-141a-40d7-b42b-7cc00b8a5db6\",\"type\":\"SaveTool\"},{\"attributes\":{},\"id\":\"02421f8a-6d88-452a-a94d-dab4f617df8e\",\"type\":\"PanTool\"},{\"attributes\":{\"callback\":null},\"id\":\"67bdd47d-be25-4b59-9b34-fa12483b2628\",\"type\":\"DataRange1d\"},{\"attributes\":{\"bottom_units\":\"screen\",\"fill_alpha\":{\"value\":0.5},\"fill_color\":{\"value\":\"lightgrey\"},\"left_units\":\"screen\",\"level\":\"overlay\",\"line_alpha\":{\"value\":1.0},\"line_color\":{\"value\":\"black\"},\"line_dash\":[4,4],\"line_width\":{\"value\":2},\"plot\":null,\"render_mode\":\"css\",\"right_units\":\"screen\",\"top_units\":\"screen\"},\"id\":\"7f0e26e4-4e86-4426-85e1-e6a5fbca3097\",\"type\":\"BoxAnnotation\"},{\"attributes\":{\"data_source\":{\"id\":\"c7124ddb-a236-42a1-be30-65239160530d\",\"type\":\"ColumnDataSource\"},\"glyph\":{\"id\":\"7fc90450-a828-498d-b4b1-02c558de2bfa\",\"type\":\"Patch\"},\"hover_glyph\":null,\"muted_glyph\":null,\"nonselection_glyph\":{\"id\":\"3c8870aa-4d88-4285-a4f7-c3cd36ac4104\",\"type\":\"Patch\"},\"selection_glyph\":null,\"view\":{\"id\":\"a7939396-e8dc-489a-9ef3-4127baf349bd\",\"type\":\"CDSView\"}},\"id\":\"23033cca-daf0-4cb5-8a1d-fb288f906a1a\",\"type\":\"GlyphRenderer\"},{\"attributes\":{\"active_drag\":\"auto\",\"active_inspect\":\"auto\",\"active_scroll\":\"auto\",\"active_tap\":\"auto\",\"tools\":[{\"id\":\"02421f8a-6d88-452a-a94d-dab4f617df8e\",\"type\":\"PanTool\"},{\"id\":\"aa99b7d8-154b-4821-9f19-c92dfca230d4\",\"type\":\"WheelZoomTool\"},{\"id\":\"f56f5b8a-600f-43f7-8d7d-d8d43ed7436e\",\"type\":\"BoxZoomTool\"},{\"id\":\"c0b6faef-141a-40d7-b42b-7cc00b8a5db6\",\"type\":\"SaveTool\"},{\"id\":\"304281ad-07f4-4ad1-bf6a-e88c2b5189e7\",\"type\":\"ResetTool\"},{\"id\":\"e44c9ddb-e80a-4b89-ac1d-372c8914e5e5\",\"type\":\"HelpTool\"}]},\"id\":\"c6d49119-05ca-42b0-9712-b357e9107ff9\",\"type\":\"Toolbar\"},{\"attributes\":{},\"id\":\"6e2a7cbd-c986-4728-8c3c-5b3d4452acbe\",\"type\":\"BasicTickFormatter\"},{\"attributes\":{\"below\":[{\"id\":\"74dccb89-11ff-4dbb-b821-93cbb42a7e1e\",\"type\":\"LinearAxis\"}],\"left\":[{\"id\":\"02deb6c2-ab0f-4e1f-b1c8-3039d72d8682\",\"type\":\"LinearAxis\"}],\"plot_height\":400,\"plot_width\":400,\"renderers\":[{\"id\":\"74dccb89-11ff-4dbb-b821-93cbb42a7e1e\",\"type\":\"LinearAxis\"},{\"id\":\"6f58c496-c80f-463c-a2b2-d59c0c10ca68\",\"type\":\"Grid\"},{\"id\":\"02deb6c2-ab0f-4e1f-b1c8-3039d72d8682\",\"type\":\"LinearAxis\"},{\"id\":\"1c040f3c-759b-4e07-b777-5b9a1804b5ba\",\"type\":\"Grid\"},{\"id\":\"7f0e26e4-4e86-4426-85e1-e6a5fbca3097\",\"type\":\"BoxAnnotation\"},{\"id\":\"23033cca-daf0-4cb5-8a1d-fb288f906a1a\",\"type\":\"GlyphRenderer\"}],\"title\":{\"id\":\"7a0ce7a7-9185-4194-99eb-9d78336831dc\",\"type\":\"Title\"},\"toolbar\":{\"id\":\"c6d49119-05ca-42b0-9712-b357e9107ff9\",\"type\":\"Toolbar\"},\"x_range\":{\"id\":\"67bdd47d-be25-4b59-9b34-fa12483b2628\",\"type\":\"DataRange1d\"},\"x_scale\":{\"id\":\"92a7f790-2aca-49cc-8512-0f0e1b5d7419\",\"type\":\"LinearScale\"},\"y_range\":{\"id\":\"5807feee-6293-4075-a799-064c3c795834\",\"type\":\"DataRange1d\"},\"y_scale\":{\"id\":\"52f68480-b6ba-42d9-a4b9-c7a9e63f5b63\",\"type\":\"LinearScale\"}},\"id\":\"aed2bf5d-b87f-41a6-90fc-3e6ca3e94b9d\",\"subtype\":\"Figure\",\"type\":\"Plot\"},{\"attributes\":{\"fill_alpha\":0.1,\"fill_color\":\"#1f77b4\",\"line_alpha\":0.1,\"line_color\":\"#1f77b4\",\"line_width\":2,\"x\":{\"field\":\"x\"},\"y\":{\"field\":\"y\"}},\"id\":\"3c8870aa-4d88-4285-a4f7-c3cd36ac4104\",\"type\":\"Patch\"},{\"attributes\":{},\"id\":\"aa99b7d8-154b-4821-9f19-c92dfca230d4\",\"type\":\"WheelZoomTool\"},{\"attributes\":{\"overlay\":{\"id\":\"7f0e26e4-4e86-4426-85e1-e6a5fbca3097\",\"type\":\"BoxAnnotation\"}},\"id\":\"f56f5b8a-600f-43f7-8d7d-d8d43ed7436e\",\"type\":\"BoxZoomTool\"},{\"attributes\":{},\"id\":\"23d8e523-4c06-47c8-a049-4d2d5111105d\",\"type\":\"BasicTickFormatter\"},{\"attributes\":{\"callback\":null,\"column_names\":[\"x\",\"y\"],\"data\":{\"x\":[1,2,3,\"NaN\",4,5,6],\"y\":[6,7,5,\"NaN\",7,3,6]}},\"id\":\"c7124ddb-a236-42a1-be30-65239160530d\",\"type\":\"ColumnDataSource\"},{\"attributes\":{},\"id\":\"92a7f790-2aca-49cc-8512-0f0e1b5d7419\",\"type\":\"LinearScale\"},{\"attributes\":{},\"id\":\"304281ad-07f4-4ad1-bf6a-e88c2b5189e7\",\"type\":\"ResetTool\"},{\"attributes\":{\"callback\":null},\"id\":\"5807feee-6293-4075-a799-064c3c795834\",\"type\":\"DataRange1d\"},{\"attributes\":{},\"id\":\"e44c9ddb-e80a-4b89-ac1d-372c8914e5e5\",\"type\":\"HelpTool\"},{\"attributes\":{},\"id\":\"52f68480-b6ba-42d9-a4b9-c7a9e63f5b63\",\"type\":\"LinearScale\"}],\"root_ids\":[\"aed2bf5d-b87f-41a6-90fc-3e6ca3e94b9d\"]},\"title\":\"Bokeh Application\",\"version\":\"0.12.13\"}};\n",
       "  var render_items = [{\"docid\":\"c75e7c61-f34e-408e-a878-348fae8da83d\",\"elementid\":\"03d45b2b-4bc8-4571-aa74-f3b187e3f773\",\"modelid\":\"aed2bf5d-b87f-41a6-90fc-3e6ca3e94b9d\"}];\n",
       "  root.Bokeh.embed.embed_items_notebook(docs_json, render_items);\n",
       "\n",
       "  }\n",
       "  if (root.Bokeh !== undefined) {\n",
       "    embed_document(root);\n",
       "  } else {\n",
       "    var attempts = 0;\n",
       "    var timer = setInterval(function(root) {\n",
       "      if (root.Bokeh !== undefined) {\n",
       "        embed_document(root);\n",
       "        clearInterval(timer);\n",
       "      }\n",
       "      attempts++;\n",
       "      if (attempts > 100) {\n",
       "        console.log(\"Bokeh: ERROR: Unable to run BokehJS code because BokehJS library is missing\")\n",
       "        clearInterval(timer);\n",
       "      }\n",
       "    }, 10, root)\n",
       "  }\n",
       "})(window);"
      ],
      "application/vnd.bokehjs_exec.v0+json": ""
     },
     "metadata": {
      "application/vnd.bokehjs_exec.v0+json": {
       "id": "aed2bf5d-b87f-41a6-90fc-3e6ca3e94b9d"
      }
     },
     "output_type": "display_data"
    }
   ],
   "source": [
    "p = figure(plot_width=400, plot_height=400)\n",
    "\n",
    "# add a patch renderer with a NaN value\n",
    "nan = float('nan')\n",
    "p.patch([1, 2, 3, nan, 4, 5, 6], [6, 7, 5, nan, 7, 3, 6], alpha=0.5, line_width=2)\n",
    "\n",
    "show(p)"
   ]
  },
  {
   "cell_type": "markdown",
   "metadata": {},
   "source": [
    "### Ovals and Ellipses"
   ]
  },
  {
   "cell_type": "code",
   "execution_count": 25,
   "metadata": {},
   "outputs": [
    {
     "data": {
      "text/html": [
       "\n",
       "<div class=\"bk-root\">\n",
       "    <div class=\"bk-plotdiv\" id=\"497044a3-563c-424f-bf34-45403edded84\"></div>\n",
       "</div>"
      ]
     },
     "metadata": {},
     "output_type": "display_data"
    },
    {
     "data": {
      "application/javascript": [
       "(function(root) {\n",
       "  function embed_document(root) {\n",
       "    \n",
       "  var docs_json = {\"fbefc0bc-95fc-4298-9a0c-64c14b342bbd\":{\"roots\":{\"references\":[{\"attributes\":{},\"id\":\"e5eb16f5-d1c0-47a4-abc7-050687385ea2\",\"type\":\"WheelZoomTool\"},{\"attributes\":{},\"id\":\"f169beec-c6a8-49f8-a74f-8fe8e813b2e7\",\"type\":\"ResetTool\"},{\"attributes\":{\"below\":[{\"id\":\"a8a19b00-42cb-46d7-a198-5530d03ae43f\",\"type\":\"LinearAxis\"}],\"left\":[{\"id\":\"3e6e0df2-4c75-4ad7-aefb-9e41a6690b35\",\"type\":\"LinearAxis\"}],\"plot_height\":400,\"plot_width\":400,\"renderers\":[{\"id\":\"a8a19b00-42cb-46d7-a198-5530d03ae43f\",\"type\":\"LinearAxis\"},{\"id\":\"b0542676-f30f-4871-bccc-908665d86911\",\"type\":\"Grid\"},{\"id\":\"3e6e0df2-4c75-4ad7-aefb-9e41a6690b35\",\"type\":\"LinearAxis\"},{\"id\":\"2f681130-2a17-437d-a0ef-821b6868c80e\",\"type\":\"Grid\"},{\"id\":\"4eb00205-be45-4bd6-b60d-384b0cb2f6aa\",\"type\":\"BoxAnnotation\"},{\"id\":\"e1079d81-8621-4352-9593-067379170124\",\"type\":\"GlyphRenderer\"}],\"title\":{\"id\":\"d4a3c860-a7ba-4667-93db-febf3c3d5f87\",\"type\":\"Title\"},\"toolbar\":{\"id\":\"4aea5f56-f06c-49e2-85f7-4d29cc72feae\",\"type\":\"Toolbar\"},\"x_range\":{\"id\":\"d0f567b0-00d2-48e5-8301-147eb2318f2c\",\"type\":\"DataRange1d\"},\"x_scale\":{\"id\":\"2cc08e6b-9eb1-4e06-bf53-f1f3b86c8f8b\",\"type\":\"LinearScale\"},\"y_range\":{\"id\":\"5535e6a1-b7a6-4dfa-96b8-2d3db6968c94\",\"type\":\"DataRange1d\"},\"y_scale\":{\"id\":\"f79a61ba-8aa5-439c-9bc2-c176e46dcf72\",\"type\":\"LinearScale\"}},\"id\":\"e1ba7a78-e557-4ce2-bef9-0c3e215401f2\",\"subtype\":\"Figure\",\"type\":\"Plot\"},{\"attributes\":{\"formatter\":{\"id\":\"d699c16e-0890-46a7-b344-c26e16e76685\",\"type\":\"BasicTickFormatter\"},\"plot\":{\"id\":\"e1ba7a78-e557-4ce2-bef9-0c3e215401f2\",\"subtype\":\"Figure\",\"type\":\"Plot\"},\"ticker\":{\"id\":\"047164b0-55dd-4802-874a-46bfde3188e7\",\"type\":\"BasicTicker\"}},\"id\":\"3e6e0df2-4c75-4ad7-aefb-9e41a6690b35\",\"type\":\"LinearAxis\"},{\"attributes\":{\"active_drag\":\"auto\",\"active_inspect\":\"auto\",\"active_scroll\":\"auto\",\"active_tap\":\"auto\",\"tools\":[{\"id\":\"2843ef79-94fb-462f-a564-4ebe30d43807\",\"type\":\"PanTool\"},{\"id\":\"e5eb16f5-d1c0-47a4-abc7-050687385ea2\",\"type\":\"WheelZoomTool\"},{\"id\":\"69199697-4911-47ba-8d54-af97d530a71e\",\"type\":\"BoxZoomTool\"},{\"id\":\"6eeb656d-4cbb-44c8-a3db-c59d422f5663\",\"type\":\"SaveTool\"},{\"id\":\"f169beec-c6a8-49f8-a74f-8fe8e813b2e7\",\"type\":\"ResetTool\"},{\"id\":\"6c562d7e-2b1d-45a2-aea7-830cf38c6251\",\"type\":\"HelpTool\"}]},\"id\":\"4aea5f56-f06c-49e2-85f7-4d29cc72feae\",\"type\":\"Toolbar\"},{\"attributes\":{\"dimension\":1,\"plot\":{\"id\":\"e1ba7a78-e557-4ce2-bef9-0c3e215401f2\",\"subtype\":\"Figure\",\"type\":\"Plot\"},\"ticker\":{\"id\":\"047164b0-55dd-4802-874a-46bfde3188e7\",\"type\":\"BasicTicker\"}},\"id\":\"2f681130-2a17-437d-a0ef-821b6868c80e\",\"type\":\"Grid\"},{\"attributes\":{},\"id\":\"d699c16e-0890-46a7-b344-c26e16e76685\",\"type\":\"BasicTickFormatter\"},{\"attributes\":{\"callback\":null,\"column_names\":[\"x\",\"y\"],\"data\":{\"x\":[1,2,3],\"y\":[1,2,3]}},\"id\":\"c91704c7-3ba4-4cd6-8ca3-34d88316cf6e\",\"type\":\"ColumnDataSource\"},{\"attributes\":{},\"id\":\"6eeb656d-4cbb-44c8-a3db-c59d422f5663\",\"type\":\"SaveTool\"},{\"attributes\":{\"formatter\":{\"id\":\"0d141b5a-7022-4e42-a5d7-3a3a37612675\",\"type\":\"BasicTickFormatter\"},\"plot\":{\"id\":\"e1ba7a78-e557-4ce2-bef9-0c3e215401f2\",\"subtype\":\"Figure\",\"type\":\"Plot\"},\"ticker\":{\"id\":\"9fc9dcc7-34b6-44a0-8c12-cb2b71e7f5d6\",\"type\":\"BasicTicker\"}},\"id\":\"a8a19b00-42cb-46d7-a198-5530d03ae43f\",\"type\":\"LinearAxis\"},{\"attributes\":{\"plot\":null,\"text\":\"\"},\"id\":\"d4a3c860-a7ba-4667-93db-febf3c3d5f87\",\"type\":\"Title\"},{\"attributes\":{\"source\":{\"id\":\"c91704c7-3ba4-4cd6-8ca3-34d88316cf6e\",\"type\":\"ColumnDataSource\"}},\"id\":\"86b8b55a-ea38-4e66-811f-69a2d4fff3cd\",\"type\":\"CDSView\"},{\"attributes\":{\"callback\":null},\"id\":\"5535e6a1-b7a6-4dfa-96b8-2d3db6968c94\",\"type\":\"DataRange1d\"},{\"attributes\":{\"angle\":{\"units\":\"rad\",\"value\":1.0471975511965976},\"fill_color\":{\"value\":\"#CAB2D6\"},\"height\":{\"units\":\"screen\",\"value\":40},\"line_color\":{\"value\":\"#CAB2D6\"},\"width\":{\"units\":\"data\",\"value\":0.2},\"x\":{\"field\":\"x\"},\"y\":{\"field\":\"y\"}},\"id\":\"6352abcf-d140-41c4-b48b-932d35f892f5\",\"type\":\"Oval\"},{\"attributes\":{},\"id\":\"2843ef79-94fb-462f-a564-4ebe30d43807\",\"type\":\"PanTool\"},{\"attributes\":{},\"id\":\"2cc08e6b-9eb1-4e06-bf53-f1f3b86c8f8b\",\"type\":\"LinearScale\"},{\"attributes\":{},\"id\":\"047164b0-55dd-4802-874a-46bfde3188e7\",\"type\":\"BasicTicker\"},{\"attributes\":{\"overlay\":{\"id\":\"4eb00205-be45-4bd6-b60d-384b0cb2f6aa\",\"type\":\"BoxAnnotation\"}},\"id\":\"69199697-4911-47ba-8d54-af97d530a71e\",\"type\":\"BoxZoomTool\"},{\"attributes\":{\"callback\":null},\"id\":\"d0f567b0-00d2-48e5-8301-147eb2318f2c\",\"type\":\"DataRange1d\"},{\"attributes\":{\"angle\":{\"units\":\"rad\",\"value\":1.0471975511965976},\"fill_alpha\":{\"value\":0.1},\"fill_color\":{\"value\":\"#1f77b4\"},\"height\":{\"units\":\"screen\",\"value\":40},\"line_alpha\":{\"value\":0.1},\"line_color\":{\"value\":\"#1f77b4\"},\"width\":{\"units\":\"data\",\"value\":0.2},\"x\":{\"field\":\"x\"},\"y\":{\"field\":\"y\"}},\"id\":\"0df754f6-bc7a-4044-8262-e3432ba10fbd\",\"type\":\"Oval\"},{\"attributes\":{},\"id\":\"f79a61ba-8aa5-439c-9bc2-c176e46dcf72\",\"type\":\"LinearScale\"},{\"attributes\":{\"data_source\":{\"id\":\"c91704c7-3ba4-4cd6-8ca3-34d88316cf6e\",\"type\":\"ColumnDataSource\"},\"glyph\":{\"id\":\"6352abcf-d140-41c4-b48b-932d35f892f5\",\"type\":\"Oval\"},\"hover_glyph\":null,\"muted_glyph\":null,\"nonselection_glyph\":{\"id\":\"0df754f6-bc7a-4044-8262-e3432ba10fbd\",\"type\":\"Oval\"},\"selection_glyph\":null,\"view\":{\"id\":\"86b8b55a-ea38-4e66-811f-69a2d4fff3cd\",\"type\":\"CDSView\"}},\"id\":\"e1079d81-8621-4352-9593-067379170124\",\"type\":\"GlyphRenderer\"},{\"attributes\":{},\"id\":\"0d141b5a-7022-4e42-a5d7-3a3a37612675\",\"type\":\"BasicTickFormatter\"},{\"attributes\":{},\"id\":\"6c562d7e-2b1d-45a2-aea7-830cf38c6251\",\"type\":\"HelpTool\"},{\"attributes\":{\"bottom_units\":\"screen\",\"fill_alpha\":{\"value\":0.5},\"fill_color\":{\"value\":\"lightgrey\"},\"left_units\":\"screen\",\"level\":\"overlay\",\"line_alpha\":{\"value\":1.0},\"line_color\":{\"value\":\"black\"},\"line_dash\":[4,4],\"line_width\":{\"value\":2},\"plot\":null,\"render_mode\":\"css\",\"right_units\":\"screen\",\"top_units\":\"screen\"},\"id\":\"4eb00205-be45-4bd6-b60d-384b0cb2f6aa\",\"type\":\"BoxAnnotation\"},{\"attributes\":{},\"id\":\"9fc9dcc7-34b6-44a0-8c12-cb2b71e7f5d6\",\"type\":\"BasicTicker\"},{\"attributes\":{\"plot\":{\"id\":\"e1ba7a78-e557-4ce2-bef9-0c3e215401f2\",\"subtype\":\"Figure\",\"type\":\"Plot\"},\"ticker\":{\"id\":\"9fc9dcc7-34b6-44a0-8c12-cb2b71e7f5d6\",\"type\":\"BasicTicker\"}},\"id\":\"b0542676-f30f-4871-bccc-908665d86911\",\"type\":\"Grid\"}],\"root_ids\":[\"e1ba7a78-e557-4ce2-bef9-0c3e215401f2\"]},\"title\":\"Bokeh Application\",\"version\":\"0.12.13\"}};\n",
       "  var render_items = [{\"docid\":\"fbefc0bc-95fc-4298-9a0c-64c14b342bbd\",\"elementid\":\"497044a3-563c-424f-bf34-45403edded84\",\"modelid\":\"e1ba7a78-e557-4ce2-bef9-0c3e215401f2\"}];\n",
       "  root.Bokeh.embed.embed_items_notebook(docs_json, render_items);\n",
       "\n",
       "  }\n",
       "  if (root.Bokeh !== undefined) {\n",
       "    embed_document(root);\n",
       "  } else {\n",
       "    var attempts = 0;\n",
       "    var timer = setInterval(function(root) {\n",
       "      if (root.Bokeh !== undefined) {\n",
       "        embed_document(root);\n",
       "        clearInterval(timer);\n",
       "      }\n",
       "      attempts++;\n",
       "      if (attempts > 100) {\n",
       "        console.log(\"Bokeh: ERROR: Unable to run BokehJS code because BokehJS library is missing\")\n",
       "        clearInterval(timer);\n",
       "      }\n",
       "    }, 10, root)\n",
       "  }\n",
       "})(window);"
      ],
      "application/vnd.bokehjs_exec.v0+json": ""
     },
     "metadata": {
      "application/vnd.bokehjs_exec.v0+json": {
       "id": "e1ba7a78-e557-4ce2-bef9-0c3e215401f2"
      }
     },
     "output_type": "display_data"
    }
   ],
   "source": [
    "p = figure(plot_width=400, plot_height=400)\n",
    "p.oval(x=[1, 2, 3], y=[1, 2, 3],\n",
    "       width=0.2, height=40, \n",
    "       color=\"#CAB2D6\",\n",
    "       angle=pi/3, \n",
    "       height_units=\"screen\")\n",
    "\n",
    "show(p)"
   ]
  },
  {
   "cell_type": "code",
   "execution_count": 28,
   "metadata": {},
   "outputs": [
    {
     "data": {
      "text/html": [
       "\n",
       "<div class=\"bk-root\">\n",
       "    <div class=\"bk-plotdiv\" id=\"8daa1f48-c6e6-4c79-a0d4-2a593cc1dfda\"></div>\n",
       "</div>"
      ]
     },
     "metadata": {},
     "output_type": "display_data"
    },
    {
     "data": {
      "application/javascript": [
       "(function(root) {\n",
       "  function embed_document(root) {\n",
       "    \n",
       "  var docs_json = {\"914c78d4-ae39-4ebc-b55e-8b2897d8c3b0\":{\"roots\":{\"references\":[{\"attributes\":{},\"id\":\"027ac62a-1fe0-4b84-af93-614fa38d49bf\",\"type\":\"PanTool\"},{\"attributes\":{},\"id\":\"54f13e1a-3eb5-4a6e-8b74-192ebf6bd491\",\"type\":\"BasicTicker\"},{\"attributes\":{},\"id\":\"e36f6c7f-6593-462b-8184-5f3066a6fdb5\",\"type\":\"ResetTool\"},{\"attributes\":{},\"id\":\"5095fae5-089a-49ca-9356-08842613a25a\",\"type\":\"BasicTicker\"},{\"attributes\":{\"formatter\":{\"id\":\"a294531c-e9ec-4874-aa7a-a0115786b5ad\",\"type\":\"BasicTickFormatter\"},\"plot\":{\"id\":\"42d9e20b-9caf-4dd4-b8b8-686f9d5280f4\",\"subtype\":\"Figure\",\"type\":\"Plot\"},\"ticker\":{\"id\":\"54f13e1a-3eb5-4a6e-8b74-192ebf6bd491\",\"type\":\"BasicTicker\"}},\"id\":\"324a5f64-d8c6-40a7-b6fc-f072d9e7e882\",\"type\":\"LinearAxis\"},{\"attributes\":{},\"id\":\"2e2f6f20-7a43-4266-ac90-2312a158184a\",\"type\":\"LinearScale\"},{\"attributes\":{\"callback\":null},\"id\":\"1ac7f4eb-0fc6-45a8-a28f-06974ab64387\",\"type\":\"DataRange1d\"},{\"attributes\":{\"formatter\":{\"id\":\"44922385-fe34-4a5b-9c39-5c4ef5ca21ec\",\"type\":\"BasicTickFormatter\"},\"plot\":{\"id\":\"42d9e20b-9caf-4dd4-b8b8-686f9d5280f4\",\"subtype\":\"Figure\",\"type\":\"Plot\"},\"ticker\":{\"id\":\"5095fae5-089a-49ca-9356-08842613a25a\",\"type\":\"BasicTicker\"}},\"id\":\"896a8c5c-32d8-4614-a9a3-185cb8700ef4\",\"type\":\"LinearAxis\"},{\"attributes\":{},\"id\":\"705e0f28-71cb-4b28-a6ef-4787f9e34702\",\"type\":\"HelpTool\"},{\"attributes\":{\"bottom_units\":\"screen\",\"fill_alpha\":{\"value\":0.5},\"fill_color\":{\"value\":\"lightgrey\"},\"left_units\":\"screen\",\"level\":\"overlay\",\"line_alpha\":{\"value\":1.0},\"line_color\":{\"value\":\"black\"},\"line_dash\":[4,4],\"line_width\":{\"value\":2},\"plot\":null,\"render_mode\":\"css\",\"right_units\":\"screen\",\"top_units\":\"screen\"},\"id\":\"78d64c78-f490-4840-94c5-4dff76d2fd35\",\"type\":\"BoxAnnotation\"},{\"attributes\":{},\"id\":\"423d7814-4aaa-4bd0-a156-a2bb59aa1160\",\"type\":\"LinearScale\"},{\"attributes\":{\"angle\":{\"units\":\"rad\",\"value\":1.0471975511965976},\"fill_color\":{\"value\":\"#CAB2D6\"},\"height\":{\"units\":\"data\",\"value\":0.3},\"line_color\":{\"value\":\"#CAB2D6\"},\"width\":{\"field\":\"width\",\"units\":\"data\"},\"x\":{\"field\":\"x\"},\"y\":{\"field\":\"y\"}},\"id\":\"6032fdfe-e92b-47c7-9ba7-784701be08f4\",\"type\":\"Ellipse\"},{\"attributes\":{\"source\":{\"id\":\"7563d090-bdbe-4d19-af1f-737327c2a89b\",\"type\":\"ColumnDataSource\"}},\"id\":\"47aec9e9-be53-4a49-9d78-32ff04b3e6a3\",\"type\":\"CDSView\"},{\"attributes\":{\"dimension\":1,\"plot\":{\"id\":\"42d9e20b-9caf-4dd4-b8b8-686f9d5280f4\",\"subtype\":\"Figure\",\"type\":\"Plot\"},\"ticker\":{\"id\":\"54f13e1a-3eb5-4a6e-8b74-192ebf6bd491\",\"type\":\"BasicTicker\"}},\"id\":\"b82d8cb5-8a29-4024-b5aa-f2ec6fc40f53\",\"type\":\"Grid\"},{\"attributes\":{\"overlay\":{\"id\":\"78d64c78-f490-4840-94c5-4dff76d2fd35\",\"type\":\"BoxAnnotation\"}},\"id\":\"0d7b1bb5-ccc0-4a8c-8dbe-8a74c03befa9\",\"type\":\"BoxZoomTool\"},{\"attributes\":{\"callback\":null},\"id\":\"5eecf81c-21e4-4b14-a9df-382addba022a\",\"type\":\"DataRange1d\"},{\"attributes\":{},\"id\":\"a294531c-e9ec-4874-aa7a-a0115786b5ad\",\"type\":\"BasicTickFormatter\"},{\"attributes\":{},\"id\":\"44922385-fe34-4a5b-9c39-5c4ef5ca21ec\",\"type\":\"BasicTickFormatter\"},{\"attributes\":{\"plot\":null,\"text\":\"\"},\"id\":\"d2193013-dfd4-4fb1-a47d-a7a4d1b3f478\",\"type\":\"Title\"},{\"attributes\":{\"active_drag\":\"auto\",\"active_inspect\":\"auto\",\"active_scroll\":\"auto\",\"active_tap\":\"auto\",\"tools\":[{\"id\":\"027ac62a-1fe0-4b84-af93-614fa38d49bf\",\"type\":\"PanTool\"},{\"id\":\"714a4aeb-8bc5-436e-99d7-9efc053171eb\",\"type\":\"WheelZoomTool\"},{\"id\":\"0d7b1bb5-ccc0-4a8c-8dbe-8a74c03befa9\",\"type\":\"BoxZoomTool\"},{\"id\":\"7b132921-0b1b-4b02-bd36-ff12e9c22b36\",\"type\":\"SaveTool\"},{\"id\":\"e36f6c7f-6593-462b-8184-5f3066a6fdb5\",\"type\":\"ResetTool\"},{\"id\":\"705e0f28-71cb-4b28-a6ef-4787f9e34702\",\"type\":\"HelpTool\"}]},\"id\":\"3d1ac03b-309b-4849-91d5-920931d89520\",\"type\":\"Toolbar\"},{\"attributes\":{},\"id\":\"7b132921-0b1b-4b02-bd36-ff12e9c22b36\",\"type\":\"SaveTool\"},{\"attributes\":{\"callback\":null,\"column_names\":[\"x\",\"y\",\"width\"],\"data\":{\"width\":[0.2,0.3,0.1],\"x\":[1,2,3],\"y\":[1,2,3]}},\"id\":\"7563d090-bdbe-4d19-af1f-737327c2a89b\",\"type\":\"ColumnDataSource\"},{\"attributes\":{\"below\":[{\"id\":\"896a8c5c-32d8-4614-a9a3-185cb8700ef4\",\"type\":\"LinearAxis\"}],\"left\":[{\"id\":\"324a5f64-d8c6-40a7-b6fc-f072d9e7e882\",\"type\":\"LinearAxis\"}],\"plot_height\":400,\"plot_width\":400,\"renderers\":[{\"id\":\"896a8c5c-32d8-4614-a9a3-185cb8700ef4\",\"type\":\"LinearAxis\"},{\"id\":\"8f59b014-94fc-4201-822e-6fcd345aaf58\",\"type\":\"Grid\"},{\"id\":\"324a5f64-d8c6-40a7-b6fc-f072d9e7e882\",\"type\":\"LinearAxis\"},{\"id\":\"b82d8cb5-8a29-4024-b5aa-f2ec6fc40f53\",\"type\":\"Grid\"},{\"id\":\"78d64c78-f490-4840-94c5-4dff76d2fd35\",\"type\":\"BoxAnnotation\"},{\"id\":\"41fa40c1-aa73-4ca3-9377-83c68d92c7a3\",\"type\":\"GlyphRenderer\"}],\"title\":{\"id\":\"d2193013-dfd4-4fb1-a47d-a7a4d1b3f478\",\"type\":\"Title\"},\"toolbar\":{\"id\":\"3d1ac03b-309b-4849-91d5-920931d89520\",\"type\":\"Toolbar\"},\"x_range\":{\"id\":\"5eecf81c-21e4-4b14-a9df-382addba022a\",\"type\":\"DataRange1d\"},\"x_scale\":{\"id\":\"423d7814-4aaa-4bd0-a156-a2bb59aa1160\",\"type\":\"LinearScale\"},\"y_range\":{\"id\":\"1ac7f4eb-0fc6-45a8-a28f-06974ab64387\",\"type\":\"DataRange1d\"},\"y_scale\":{\"id\":\"2e2f6f20-7a43-4266-ac90-2312a158184a\",\"type\":\"LinearScale\"}},\"id\":\"42d9e20b-9caf-4dd4-b8b8-686f9d5280f4\",\"subtype\":\"Figure\",\"type\":\"Plot\"},{\"attributes\":{\"angle\":{\"units\":\"rad\",\"value\":1.0471975511965976},\"fill_alpha\":{\"value\":0.1},\"fill_color\":{\"value\":\"#1f77b4\"},\"height\":{\"units\":\"data\",\"value\":0.3},\"line_alpha\":{\"value\":0.1},\"line_color\":{\"value\":\"#1f77b4\"},\"width\":{\"field\":\"width\",\"units\":\"data\"},\"x\":{\"field\":\"x\"},\"y\":{\"field\":\"y\"}},\"id\":\"8f9e8736-6a3d-44e5-bc61-d86c93b2151e\",\"type\":\"Ellipse\"},{\"attributes\":{\"plot\":{\"id\":\"42d9e20b-9caf-4dd4-b8b8-686f9d5280f4\",\"subtype\":\"Figure\",\"type\":\"Plot\"},\"ticker\":{\"id\":\"5095fae5-089a-49ca-9356-08842613a25a\",\"type\":\"BasicTicker\"}},\"id\":\"8f59b014-94fc-4201-822e-6fcd345aaf58\",\"type\":\"Grid\"},{\"attributes\":{\"data_source\":{\"id\":\"7563d090-bdbe-4d19-af1f-737327c2a89b\",\"type\":\"ColumnDataSource\"},\"glyph\":{\"id\":\"6032fdfe-e92b-47c7-9ba7-784701be08f4\",\"type\":\"Ellipse\"},\"hover_glyph\":null,\"muted_glyph\":null,\"nonselection_glyph\":{\"id\":\"8f9e8736-6a3d-44e5-bc61-d86c93b2151e\",\"type\":\"Ellipse\"},\"selection_glyph\":null,\"view\":{\"id\":\"47aec9e9-be53-4a49-9d78-32ff04b3e6a3\",\"type\":\"CDSView\"}},\"id\":\"41fa40c1-aa73-4ca3-9377-83c68d92c7a3\",\"type\":\"GlyphRenderer\"},{\"attributes\":{},\"id\":\"714a4aeb-8bc5-436e-99d7-9efc053171eb\",\"type\":\"WheelZoomTool\"}],\"root_ids\":[\"42d9e20b-9caf-4dd4-b8b8-686f9d5280f4\"]},\"title\":\"Bokeh Application\",\"version\":\"0.12.13\"}};\n",
       "  var render_items = [{\"docid\":\"914c78d4-ae39-4ebc-b55e-8b2897d8c3b0\",\"elementid\":\"8daa1f48-c6e6-4c79-a0d4-2a593cc1dfda\",\"modelid\":\"42d9e20b-9caf-4dd4-b8b8-686f9d5280f4\"}];\n",
       "  root.Bokeh.embed.embed_items_notebook(docs_json, render_items);\n",
       "\n",
       "  }\n",
       "  if (root.Bokeh !== undefined) {\n",
       "    embed_document(root);\n",
       "  } else {\n",
       "    var attempts = 0;\n",
       "    var timer = setInterval(function(root) {\n",
       "      if (root.Bokeh !== undefined) {\n",
       "        embed_document(root);\n",
       "        clearInterval(timer);\n",
       "      }\n",
       "      attempts++;\n",
       "      if (attempts > 100) {\n",
       "        console.log(\"Bokeh: ERROR: Unable to run BokehJS code because BokehJS library is missing\")\n",
       "        clearInterval(timer);\n",
       "      }\n",
       "    }, 10, root)\n",
       "  }\n",
       "})(window);"
      ],
      "application/vnd.bokehjs_exec.v0+json": ""
     },
     "metadata": {
      "application/vnd.bokehjs_exec.v0+json": {
       "id": "42d9e20b-9caf-4dd4-b8b8-686f9d5280f4"
      }
     },
     "output_type": "display_data"
    }
   ],
   "source": [
    "p = figure(plot_width=400, plot_height=400)\n",
    "p.ellipse(x=[1, 2, 3], y=[1, 2, 3], width=[0.2, 0.3, 0.1], height=0.3,\n",
    "          angle=pi/3, color=\"#CAB2D6\")\n",
    "\n",
    "show(p)"
   ]
  },
  {
   "cell_type": "markdown",
   "metadata": {},
   "source": [
    "### Images"
   ]
  },
  {
   "cell_type": "code",
   "execution_count": 30,
   "metadata": {},
   "outputs": [
    {
     "data": {
      "text/html": [
       "\n",
       "<div class=\"bk-root\">\n",
       "    <div class=\"bk-plotdiv\" id=\"aa3caf30-e445-48a6-8edb-e70b57f9c077\"></div>\n",
       "</div>"
      ]
     },
     "metadata": {},
     "output_type": "display_data"
    },
    {
     "data": {
      "application/javascript": [
       "(function(root) {\n",
       "  function embed_document(root) {\n",
       "    \n",
       "  var docs_json = {\"38ea15bb-96cf-40ae-807f-4d75c8eb02ab\":{\"roots\":{\"references\":[{\"attributes\":{\"dh\":{\"field\":\"dh\",\"units\":\"data\"},\"dw\":{\"field\":\"dw\",\"units\":\"data\"},\"image\":{\"field\":\"image\"},\"x\":{\"field\":\"x\"},\"y\":{\"field\":\"y\"}},\"id\":\"4bbdd113-c2b0-47c5-8d93-862fdf7f20f3\",\"type\":\"ImageRGBA\"},{\"attributes\":{\"dh\":{\"field\":\"dh\",\"units\":\"data\"},\"dw\":{\"field\":\"dw\",\"units\":\"data\"},\"image\":{\"field\":\"image\"},\"x\":{\"field\":\"x\"},\"y\":{\"field\":\"y\"}},\"id\":\"9c6c966d-5c2d-4a2b-a8b2-8b8dfbc57fb2\",\"type\":\"ImageRGBA\"},{\"attributes\":{\"formatter\":{\"id\":\"cb700fb9-26af-41bf-83f5-191648ce61ea\",\"type\":\"BasicTickFormatter\"},\"plot\":{\"id\":\"d4c73b6e-5930-4f58-956f-382bcfcb236e\",\"subtype\":\"Figure\",\"type\":\"Plot\"},\"ticker\":{\"id\":\"517fe0d5-4ddb-4505-8f95-0cff9c0ee4a5\",\"type\":\"BasicTicker\"}},\"id\":\"3f631f65-677d-4cbd-89f3-3192fedd00bc\",\"type\":\"LinearAxis\"},{\"attributes\":{\"bottom_units\":\"screen\",\"fill_alpha\":{\"value\":0.5},\"fill_color\":{\"value\":\"lightgrey\"},\"left_units\":\"screen\",\"level\":\"overlay\",\"line_alpha\":{\"value\":1.0},\"line_color\":{\"value\":\"black\"},\"line_dash\":[4,4],\"line_width\":{\"value\":2},\"plot\":null,\"render_mode\":\"css\",\"right_units\":\"screen\",\"top_units\":\"screen\"},\"id\":\"edbfffc9-507b-46bd-a911-dfac9170b002\",\"type\":\"BoxAnnotation\"},{\"attributes\":{},\"id\":\"517fe0d5-4ddb-4505-8f95-0cff9c0ee4a5\",\"type\":\"BasicTicker\"},{\"attributes\":{},\"id\":\"043cb8c9-8063-49e0-9fb9-e343d42d1c54\",\"type\":\"PanTool\"},{\"attributes\":{\"formatter\":{\"id\":\"f882e084-02ab-4f6b-8040-07e57954c8fc\",\"type\":\"BasicTickFormatter\"},\"plot\":{\"id\":\"d4c73b6e-5930-4f58-956f-382bcfcb236e\",\"subtype\":\"Figure\",\"type\":\"Plot\"},\"ticker\":{\"id\":\"527c3648-0dba-405c-900c-506289cc9781\",\"type\":\"BasicTicker\"}},\"id\":\"588f7534-e6c5-4bc9-859d-3eb83675d6e4\",\"type\":\"LinearAxis\"},{\"attributes\":{},\"id\":\"cb700fb9-26af-41bf-83f5-191648ce61ea\",\"type\":\"BasicTickFormatter\"},{\"attributes\":{},\"id\":\"527c3648-0dba-405c-900c-506289cc9781\",\"type\":\"BasicTicker\"},{\"attributes\":{},\"id\":\"6e27a218-4cda-4375-b244-18b921096f73\",\"type\":\"LinearScale\"},{\"attributes\":{},\"id\":\"588fc0a4-8bdd-4812-8658-5c84d55ea506\",\"type\":\"WheelZoomTool\"},{\"attributes\":{\"dimension\":1,\"plot\":{\"id\":\"d4c73b6e-5930-4f58-956f-382bcfcb236e\",\"subtype\":\"Figure\",\"type\":\"Plot\"},\"ticker\":{\"id\":\"517fe0d5-4ddb-4505-8f95-0cff9c0ee4a5\",\"type\":\"BasicTicker\"}},\"id\":\"372e75a5-5154-41c6-8272-6f703ae320d2\",\"type\":\"Grid\"},{\"attributes\":{\"overlay\":{\"id\":\"edbfffc9-507b-46bd-a911-dfac9170b002\",\"type\":\"BoxAnnotation\"}},\"id\":\"ca6678a9-037b-4821-ab9e-f32501d16c26\",\"type\":\"BoxZoomTool\"},{\"attributes\":{},\"id\":\"3fe6b73b-2fe2-493b-9a84-51320e669a2e\",\"type\":\"SaveTool\"},{\"attributes\":{\"callback\":null,\"end\":10},\"id\":\"d81c9697-dff8-4e2f-a63b-a4e0e417e0ba\",\"type\":\"Range1d\"},{\"attributes\":{},\"id\":\"822ebc0d-7829-4833-9e13-93adb0956cf1\",\"type\":\"ResetTool\"},{\"attributes\":{\"active_drag\":\"auto\",\"active_inspect\":\"auto\",\"active_scroll\":\"auto\",\"active_tap\":\"auto\",\"tools\":[{\"id\":\"043cb8c9-8063-49e0-9fb9-e343d42d1c54\",\"type\":\"PanTool\"},{\"id\":\"588fc0a4-8bdd-4812-8658-5c84d55ea506\",\"type\":\"WheelZoomTool\"},{\"id\":\"ca6678a9-037b-4821-ab9e-f32501d16c26\",\"type\":\"BoxZoomTool\"},{\"id\":\"3fe6b73b-2fe2-493b-9a84-51320e669a2e\",\"type\":\"SaveTool\"},{\"id\":\"822ebc0d-7829-4833-9e13-93adb0956cf1\",\"type\":\"ResetTool\"},{\"id\":\"41703555-2ddc-42c4-ad95-159fa525fed8\",\"type\":\"HelpTool\"}]},\"id\":\"d41151fc-6de6-4c1f-975b-8a939871407a\",\"type\":\"Toolbar\"},{\"attributes\":{},\"id\":\"41703555-2ddc-42c4-ad95-159fa525fed8\",\"type\":\"HelpTool\"},{\"attributes\":{\"callback\":null,\"column_names\":[\"image\",\"x\",\"y\",\"dw\",\"dh\"],\"data\":{\"dh\":[10],\"dw\":[10],\"image\":[{\"__ndarray__\":\"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\",\"dtype\":\"uint32\",\"shape\":[20,20]}],\"x\":[0],\"y\":[0]}},\"id\":\"ba5f8558-4818-45e7-b0b7-a70aad848f7f\",\"type\":\"ColumnDataSource\"},{\"attributes\":{},\"id\":\"f882e084-02ab-4f6b-8040-07e57954c8fc\",\"type\":\"BasicTickFormatter\"},{\"attributes\":{\"plot\":null,\"text\":\"\"},\"id\":\"79573024-837c-42e4-9928-112c948e483c\",\"type\":\"Title\"},{\"attributes\":{\"below\":[{\"id\":\"588f7534-e6c5-4bc9-859d-3eb83675d6e4\",\"type\":\"LinearAxis\"}],\"left\":[{\"id\":\"3f631f65-677d-4cbd-89f3-3192fedd00bc\",\"type\":\"LinearAxis\"}],\"plot_height\":400,\"plot_width\":400,\"renderers\":[{\"id\":\"588f7534-e6c5-4bc9-859d-3eb83675d6e4\",\"type\":\"LinearAxis\"},{\"id\":\"76de9090-b515-4a19-a427-df5536749aae\",\"type\":\"Grid\"},{\"id\":\"3f631f65-677d-4cbd-89f3-3192fedd00bc\",\"type\":\"LinearAxis\"},{\"id\":\"372e75a5-5154-41c6-8272-6f703ae320d2\",\"type\":\"Grid\"},{\"id\":\"edbfffc9-507b-46bd-a911-dfac9170b002\",\"type\":\"BoxAnnotation\"},{\"id\":\"b4c330e8-f1e5-43ae-b326-d50708952392\",\"type\":\"GlyphRenderer\"}],\"title\":{\"id\":\"79573024-837c-42e4-9928-112c948e483c\",\"type\":\"Title\"},\"toolbar\":{\"id\":\"d41151fc-6de6-4c1f-975b-8a939871407a\",\"type\":\"Toolbar\"},\"x_range\":{\"id\":\"45318f4f-0279-4414-98a1-95d3a19bad59\",\"type\":\"Range1d\"},\"x_scale\":{\"id\":\"6e27a218-4cda-4375-b244-18b921096f73\",\"type\":\"LinearScale\"},\"y_range\":{\"id\":\"d81c9697-dff8-4e2f-a63b-a4e0e417e0ba\",\"type\":\"Range1d\"},\"y_scale\":{\"id\":\"b364db51-bc6a-47bf-b5fc-9c04d5cc28e7\",\"type\":\"LinearScale\"}},\"id\":\"d4c73b6e-5930-4f58-956f-382bcfcb236e\",\"subtype\":\"Figure\",\"type\":\"Plot\"},{\"attributes\":{\"plot\":{\"id\":\"d4c73b6e-5930-4f58-956f-382bcfcb236e\",\"subtype\":\"Figure\",\"type\":\"Plot\"},\"ticker\":{\"id\":\"527c3648-0dba-405c-900c-506289cc9781\",\"type\":\"BasicTicker\"}},\"id\":\"76de9090-b515-4a19-a427-df5536749aae\",\"type\":\"Grid\"},{\"attributes\":{\"callback\":null,\"end\":10},\"id\":\"45318f4f-0279-4414-98a1-95d3a19bad59\",\"type\":\"Range1d\"},{\"attributes\":{\"source\":{\"id\":\"ba5f8558-4818-45e7-b0b7-a70aad848f7f\",\"type\":\"ColumnDataSource\"}},\"id\":\"fcc8ee6c-fb07-441a-9272-7f578b934e5f\",\"type\":\"CDSView\"},{\"attributes\":{\"data_source\":{\"id\":\"ba5f8558-4818-45e7-b0b7-a70aad848f7f\",\"type\":\"ColumnDataSource\"},\"glyph\":{\"id\":\"9c6c966d-5c2d-4a2b-a8b2-8b8dfbc57fb2\",\"type\":\"ImageRGBA\"},\"hover_glyph\":null,\"muted_glyph\":null,\"nonselection_glyph\":{\"id\":\"4bbdd113-c2b0-47c5-8d93-862fdf7f20f3\",\"type\":\"ImageRGBA\"},\"selection_glyph\":null,\"view\":{\"id\":\"fcc8ee6c-fb07-441a-9272-7f578b934e5f\",\"type\":\"CDSView\"}},\"id\":\"b4c330e8-f1e5-43ae-b326-d50708952392\",\"type\":\"GlyphRenderer\"},{\"attributes\":{},\"id\":\"b364db51-bc6a-47bf-b5fc-9c04d5cc28e7\",\"type\":\"LinearScale\"}],\"root_ids\":[\"d4c73b6e-5930-4f58-956f-382bcfcb236e\"]},\"title\":\"Bokeh Application\",\"version\":\"0.12.13\"}};\n",
       "  var render_items = [{\"docid\":\"38ea15bb-96cf-40ae-807f-4d75c8eb02ab\",\"elementid\":\"aa3caf30-e445-48a6-8edb-e70b57f9c077\",\"modelid\":\"d4c73b6e-5930-4f58-956f-382bcfcb236e\"}];\n",
       "  root.Bokeh.embed.embed_items_notebook(docs_json, render_items);\n",
       "\n",
       "  }\n",
       "  if (root.Bokeh !== undefined) {\n",
       "    embed_document(root);\n",
       "  } else {\n",
       "    var attempts = 0;\n",
       "    var timer = setInterval(function(root) {\n",
       "      if (root.Bokeh !== undefined) {\n",
       "        embed_document(root);\n",
       "        clearInterval(timer);\n",
       "      }\n",
       "      attempts++;\n",
       "      if (attempts > 100) {\n",
       "        console.log(\"Bokeh: ERROR: Unable to run BokehJS code because BokehJS library is missing\")\n",
       "        clearInterval(timer);\n",
       "      }\n",
       "    }, 10, root)\n",
       "  }\n",
       "})(window);"
      ],
      "application/vnd.bokehjs_exec.v0+json": ""
     },
     "metadata": {
      "application/vnd.bokehjs_exec.v0+json": {
       "id": "d4c73b6e-5930-4f58-956f-382bcfcb236e"
      }
     },
     "output_type": "display_data"
    }
   ],
   "source": [
    "# create an array of RGBA data\n",
    "N = 20\n",
    "img = np.empty((N, N), dtype=np.uint32)\n",
    "view = img.view(dtype=np.uint8).reshape((N, N, 4))\n",
    "for i in range(N):\n",
    "    for j in range(N):\n",
    "        view[i, j, 0] = int(255 * i / N)\n",
    "        view[i, j, 1] = 158\n",
    "        view[i, j, 2] = int(255 * j / N)\n",
    "        view[i, j, 3] = 255\n",
    "\n",
    "p = figure(plot_width=400, plot_height=400, x_range=(0, 10), y_range=(0, 10))\n",
    "\n",
    "p.image_rgba(image=[img], x=[0], y=[0], dw=[10], dh=[10])\n",
    "\n",
    "show(p)"
   ]
  },
  {
   "cell_type": "markdown",
   "metadata": {},
   "source": [
    "### Segments and Rays"
   ]
  },
  {
   "cell_type": "code",
   "execution_count": 31,
   "metadata": {},
   "outputs": [
    {
     "data": {
      "text/html": [
       "\n",
       "<div class=\"bk-root\">\n",
       "    <div class=\"bk-plotdiv\" id=\"f5afd440-cf99-427f-b447-e5e780e390e1\"></div>\n",
       "</div>"
      ]
     },
     "metadata": {},
     "output_type": "display_data"
    },
    {
     "data": {
      "application/javascript": [
       "(function(root) {\n",
       "  function embed_document(root) {\n",
       "    \n",
       "  var docs_json = {\"f287c2af-8950-4672-ad35-d9595e95186f\":{\"roots\":{\"references\":[{\"attributes\":{\"active_drag\":\"auto\",\"active_inspect\":\"auto\",\"active_scroll\":\"auto\",\"active_tap\":\"auto\",\"tools\":[{\"id\":\"f49990ab-b4a8-44c9-881c-a171aece6bca\",\"type\":\"PanTool\"},{\"id\":\"dd050503-a762-4706-b67e-289b9e23f4be\",\"type\":\"WheelZoomTool\"},{\"id\":\"0db31d17-65e6-4def-b04b-bbdb6c683470\",\"type\":\"BoxZoomTool\"},{\"id\":\"3c3dbcc0-7b61-4ff7-9e7c-98b20ebdcaa8\",\"type\":\"SaveTool\"},{\"id\":\"ed148c11-5eb7-44a1-a043-4c71c727e119\",\"type\":\"ResetTool\"},{\"id\":\"98861352-a415-4135-9388-9c38e3180107\",\"type\":\"HelpTool\"}]},\"id\":\"86e179f9-9e5d-48c4-abf7-97f3c44938a3\",\"type\":\"Toolbar\"},{\"attributes\":{},\"id\":\"bb3e5e9d-7495-44f3-8ec2-d530cedde1f8\",\"type\":\"LinearScale\"},{\"attributes\":{},\"id\":\"8ee44033-41b3-47ac-9b20-e77c257045de\",\"type\":\"LinearScale\"},{\"attributes\":{},\"id\":\"ed148c11-5eb7-44a1-a043-4c71c727e119\",\"type\":\"ResetTool\"},{\"attributes\":{},\"id\":\"311f4d33-326c-4f5c-87b9-b158a92f4cb9\",\"type\":\"BasicTickFormatter\"},{\"attributes\":{},\"id\":\"1a8c5e40-9b64-44c4-bbf7-c91c2183f85f\",\"type\":\"BasicTicker\"},{\"attributes\":{\"line_alpha\":{\"value\":0.1},\"line_color\":{\"value\":\"#1f77b4\"},\"line_width\":{\"value\":3},\"x0\":{\"field\":\"x0\"},\"x1\":{\"field\":\"x1\"},\"y0\":{\"field\":\"y0\"},\"y1\":{\"field\":\"y1\"}},\"id\":\"9be8d632-1155-4be7-afe6-a0fdd1d77ec3\",\"type\":\"Segment\"},{\"attributes\":{\"callback\":null},\"id\":\"f0730145-aaa9-4bd3-9301-f1573c64dbf4\",\"type\":\"DataRange1d\"},{\"attributes\":{\"plot\":null,\"text\":\"\"},\"id\":\"b7fb8cd1-eba0-40e5-9231-e1e25a3df9ba\",\"type\":\"Title\"},{\"attributes\":{},\"id\":\"3c3dbcc0-7b61-4ff7-9e7c-98b20ebdcaa8\",\"type\":\"SaveTool\"},{\"attributes\":{},\"id\":\"dd050503-a762-4706-b67e-289b9e23f4be\",\"type\":\"WheelZoomTool\"},{\"attributes\":{\"overlay\":{\"id\":\"5529d01f-ed5c-47aa-bdab-5b1f554a8c54\",\"type\":\"BoxAnnotation\"}},\"id\":\"0db31d17-65e6-4def-b04b-bbdb6c683470\",\"type\":\"BoxZoomTool\"},{\"attributes\":{\"callback\":null},\"id\":\"e24aaa0d-ac94-4a6f-909f-91dfc98f2b6d\",\"type\":\"DataRange1d\"},{\"attributes\":{},\"id\":\"f61067cf-245d-4d06-afdf-fa2fb95be3ae\",\"type\":\"BasicTickFormatter\"},{\"attributes\":{\"dimension\":1,\"plot\":{\"id\":\"bba22adc-c4ab-411a-8b67-c60113b2a313\",\"subtype\":\"Figure\",\"type\":\"Plot\"},\"ticker\":{\"id\":\"1a8c5e40-9b64-44c4-bbf7-c91c2183f85f\",\"type\":\"BasicTicker\"}},\"id\":\"9a843a5e-2b38-4809-ac72-7a98b021d039\",\"type\":\"Grid\"},{\"attributes\":{\"data_source\":{\"id\":\"51990872-323d-484b-aeb6-35c3750dc932\",\"type\":\"ColumnDataSource\"},\"glyph\":{\"id\":\"35ba08aa-2393-46b2-9650-b58448d52693\",\"type\":\"Segment\"},\"hover_glyph\":null,\"muted_glyph\":null,\"nonselection_glyph\":{\"id\":\"9be8d632-1155-4be7-afe6-a0fdd1d77ec3\",\"type\":\"Segment\"},\"selection_glyph\":null,\"view\":{\"id\":\"70b9e463-be77-4cb3-89ad-83ce33e7d864\",\"type\":\"CDSView\"}},\"id\":\"f5e435b3-5fd9-4c1e-b52c-f7344b21dd6a\",\"type\":\"GlyphRenderer\"},{\"attributes\":{\"plot\":{\"id\":\"bba22adc-c4ab-411a-8b67-c60113b2a313\",\"subtype\":\"Figure\",\"type\":\"Plot\"},\"ticker\":{\"id\":\"7a3df420-be1f-42ae-b097-559ef8cb2215\",\"type\":\"BasicTicker\"}},\"id\":\"15b25bac-7539-4c95-8e4b-822ae056dc47\",\"type\":\"Grid\"},{\"attributes\":{},\"id\":\"98861352-a415-4135-9388-9c38e3180107\",\"type\":\"HelpTool\"},{\"attributes\":{},\"id\":\"f49990ab-b4a8-44c9-881c-a171aece6bca\",\"type\":\"PanTool\"},{\"attributes\":{\"line_color\":{\"value\":\"#F4A582\"},\"line_width\":{\"value\":3},\"x0\":{\"field\":\"x0\"},\"x1\":{\"field\":\"x1\"},\"y0\":{\"field\":\"y0\"},\"y1\":{\"field\":\"y1\"}},\"id\":\"35ba08aa-2393-46b2-9650-b58448d52693\",\"type\":\"Segment\"},{\"attributes\":{\"formatter\":{\"id\":\"f61067cf-245d-4d06-afdf-fa2fb95be3ae\",\"type\":\"BasicTickFormatter\"},\"plot\":{\"id\":\"bba22adc-c4ab-411a-8b67-c60113b2a313\",\"subtype\":\"Figure\",\"type\":\"Plot\"},\"ticker\":{\"id\":\"7a3df420-be1f-42ae-b097-559ef8cb2215\",\"type\":\"BasicTicker\"}},\"id\":\"342525d0-0e21-42bd-947f-1b7d55047f8e\",\"type\":\"LinearAxis\"},{\"attributes\":{\"source\":{\"id\":\"51990872-323d-484b-aeb6-35c3750dc932\",\"type\":\"ColumnDataSource\"}},\"id\":\"70b9e463-be77-4cb3-89ad-83ce33e7d864\",\"type\":\"CDSView\"},{\"attributes\":{},\"id\":\"7a3df420-be1f-42ae-b097-559ef8cb2215\",\"type\":\"BasicTicker\"},{\"attributes\":{\"bottom_units\":\"screen\",\"fill_alpha\":{\"value\":0.5},\"fill_color\":{\"value\":\"lightgrey\"},\"left_units\":\"screen\",\"level\":\"overlay\",\"line_alpha\":{\"value\":1.0},\"line_color\":{\"value\":\"black\"},\"line_dash\":[4,4],\"line_width\":{\"value\":2},\"plot\":null,\"render_mode\":\"css\",\"right_units\":\"screen\",\"top_units\":\"screen\"},\"id\":\"5529d01f-ed5c-47aa-bdab-5b1f554a8c54\",\"type\":\"BoxAnnotation\"},{\"attributes\":{\"below\":[{\"id\":\"342525d0-0e21-42bd-947f-1b7d55047f8e\",\"type\":\"LinearAxis\"}],\"left\":[{\"id\":\"7586d755-50fb-46ea-a793-6dee77cfb9c7\",\"type\":\"LinearAxis\"}],\"plot_height\":400,\"plot_width\":400,\"renderers\":[{\"id\":\"342525d0-0e21-42bd-947f-1b7d55047f8e\",\"type\":\"LinearAxis\"},{\"id\":\"15b25bac-7539-4c95-8e4b-822ae056dc47\",\"type\":\"Grid\"},{\"id\":\"7586d755-50fb-46ea-a793-6dee77cfb9c7\",\"type\":\"LinearAxis\"},{\"id\":\"9a843a5e-2b38-4809-ac72-7a98b021d039\",\"type\":\"Grid\"},{\"id\":\"5529d01f-ed5c-47aa-bdab-5b1f554a8c54\",\"type\":\"BoxAnnotation\"},{\"id\":\"f5e435b3-5fd9-4c1e-b52c-f7344b21dd6a\",\"type\":\"GlyphRenderer\"}],\"title\":{\"id\":\"b7fb8cd1-eba0-40e5-9231-e1e25a3df9ba\",\"type\":\"Title\"},\"toolbar\":{\"id\":\"86e179f9-9e5d-48c4-abf7-97f3c44938a3\",\"type\":\"Toolbar\"},\"x_range\":{\"id\":\"e24aaa0d-ac94-4a6f-909f-91dfc98f2b6d\",\"type\":\"DataRange1d\"},\"x_scale\":{\"id\":\"8ee44033-41b3-47ac-9b20-e77c257045de\",\"type\":\"LinearScale\"},\"y_range\":{\"id\":\"f0730145-aaa9-4bd3-9301-f1573c64dbf4\",\"type\":\"DataRange1d\"},\"y_scale\":{\"id\":\"bb3e5e9d-7495-44f3-8ec2-d530cedde1f8\",\"type\":\"LinearScale\"}},\"id\":\"bba22adc-c4ab-411a-8b67-c60113b2a313\",\"subtype\":\"Figure\",\"type\":\"Plot\"},{\"attributes\":{\"formatter\":{\"id\":\"311f4d33-326c-4f5c-87b9-b158a92f4cb9\",\"type\":\"BasicTickFormatter\"},\"plot\":{\"id\":\"bba22adc-c4ab-411a-8b67-c60113b2a313\",\"subtype\":\"Figure\",\"type\":\"Plot\"},\"ticker\":{\"id\":\"1a8c5e40-9b64-44c4-bbf7-c91c2183f85f\",\"type\":\"BasicTicker\"}},\"id\":\"7586d755-50fb-46ea-a793-6dee77cfb9c7\",\"type\":\"LinearAxis\"},{\"attributes\":{\"callback\":null,\"column_names\":[\"x0\",\"y0\",\"x1\",\"y1\"],\"data\":{\"x0\":[1,2,3],\"x1\":[1.2,2.4,3.1],\"y0\":[1,2,3],\"y1\":[1.2,2.5,3.7]}},\"id\":\"51990872-323d-484b-aeb6-35c3750dc932\",\"type\":\"ColumnDataSource\"}],\"root_ids\":[\"bba22adc-c4ab-411a-8b67-c60113b2a313\"]},\"title\":\"Bokeh Application\",\"version\":\"0.12.13\"}};\n",
       "  var render_items = [{\"docid\":\"f287c2af-8950-4672-ad35-d9595e95186f\",\"elementid\":\"f5afd440-cf99-427f-b447-e5e780e390e1\",\"modelid\":\"bba22adc-c4ab-411a-8b67-c60113b2a313\"}];\n",
       "  root.Bokeh.embed.embed_items_notebook(docs_json, render_items);\n",
       "\n",
       "  }\n",
       "  if (root.Bokeh !== undefined) {\n",
       "    embed_document(root);\n",
       "  } else {\n",
       "    var attempts = 0;\n",
       "    var timer = setInterval(function(root) {\n",
       "      if (root.Bokeh !== undefined) {\n",
       "        embed_document(root);\n",
       "        clearInterval(timer);\n",
       "      }\n",
       "      attempts++;\n",
       "      if (attempts > 100) {\n",
       "        console.log(\"Bokeh: ERROR: Unable to run BokehJS code because BokehJS library is missing\")\n",
       "        clearInterval(timer);\n",
       "      }\n",
       "    }, 10, root)\n",
       "  }\n",
       "})(window);"
      ],
      "application/vnd.bokehjs_exec.v0+json": ""
     },
     "metadata": {
      "application/vnd.bokehjs_exec.v0+json": {
       "id": "bba22adc-c4ab-411a-8b67-c60113b2a313"
      }
     },
     "output_type": "display_data"
    }
   ],
   "source": [
    "p = figure(plot_width=400, plot_height=400)\n",
    "p.segment(x0=[1, 2, 3], y0=[1, 2, 3], x1=[1.2, 2.4, 3.1],\n",
    "          y1=[1.2, 2.5, 3.7], color=\"#F4A582\", line_width=3)\n",
    "\n",
    "show(p)"
   ]
  },
  {
   "cell_type": "code",
   "execution_count": 32,
   "metadata": {},
   "outputs": [
    {
     "data": {
      "text/html": [
       "\n",
       "<div class=\"bk-root\">\n",
       "    <div class=\"bk-plotdiv\" id=\"266e6cde-007b-4283-8930-07faada77439\"></div>\n",
       "</div>"
      ]
     },
     "metadata": {},
     "output_type": "display_data"
    },
    {
     "data": {
      "application/javascript": [
       "(function(root) {\n",
       "  function embed_document(root) {\n",
       "    \n",
       "  var docs_json = {\"e1f432bf-8a7a-47f6-9255-97a7dbbb1322\":{\"roots\":{\"references\":[{\"attributes\":{},\"id\":\"67a79a4a-4a83-4865-97e8-308ef2afe7b9\",\"type\":\"ResetTool\"},{\"attributes\":{\"callback\":null,\"column_names\":[\"x\",\"y\",\"angle\"],\"data\":{\"angle\":[30,45,60],\"x\":[1,2,3],\"y\":[1,2,3]}},\"id\":\"83d81a8d-4a8d-4536-bd87-22bd780a202a\",\"type\":\"ColumnDataSource\"},{\"attributes\":{},\"id\":\"42963061-ec2b-49ad-a27b-47ad2d1ff6a5\",\"type\":\"SaveTool\"},{\"attributes\":{},\"id\":\"e993aec0-310a-4323-b346-177a155e0307\",\"type\":\"BasicTickFormatter\"},{\"attributes\":{\"plot\":null,\"text\":\"\"},\"id\":\"ac914cba-e589-4198-b9ad-4e018049f14a\",\"type\":\"Title\"},{\"attributes\":{\"active_drag\":\"auto\",\"active_inspect\":\"auto\",\"active_scroll\":\"auto\",\"active_tap\":\"auto\",\"tools\":[{\"id\":\"50ed7ebc-c873-4bff-8729-ee3ecd070808\",\"type\":\"PanTool\"},{\"id\":\"4b3eba15-7fac-4bd0-bc60-a0f56af03d5e\",\"type\":\"WheelZoomTool\"},{\"id\":\"cae762dc-7bbf-441b-ae06-cbaccf20f63d\",\"type\":\"BoxZoomTool\"},{\"id\":\"42963061-ec2b-49ad-a27b-47ad2d1ff6a5\",\"type\":\"SaveTool\"},{\"id\":\"67a79a4a-4a83-4865-97e8-308ef2afe7b9\",\"type\":\"ResetTool\"},{\"id\":\"533364fd-c319-479a-8727-cc00cb48b002\",\"type\":\"HelpTool\"}]},\"id\":\"1a62e63b-3c38-4e6d-8d16-fd5953ba0bf7\",\"type\":\"Toolbar\"},{\"attributes\":{},\"id\":\"40da3df5-4ac4-4f19-94de-74c113d4ccbf\",\"type\":\"BasicTicker\"},{\"attributes\":{\"callback\":null},\"id\":\"3be1e6a5-2fea-4c23-95e0-2f5d196f58fb\",\"type\":\"DataRange1d\"},{\"attributes\":{},\"id\":\"60bc6f4e-4da8-4e9a-a4da-143d0fa0cd26\",\"type\":\"BasicTickFormatter\"},{\"attributes\":{\"source\":{\"id\":\"83d81a8d-4a8d-4536-bd87-22bd780a202a\",\"type\":\"ColumnDataSource\"}},\"id\":\"ef311f21-d95d-444b-9dbe-1bc00da9c7db\",\"type\":\"CDSView\"},{\"attributes\":{\"formatter\":{\"id\":\"60bc6f4e-4da8-4e9a-a4da-143d0fa0cd26\",\"type\":\"BasicTickFormatter\"},\"plot\":{\"id\":\"f37ba653-fe2f-4f66-a31b-a6902e43846f\",\"subtype\":\"Figure\",\"type\":\"Plot\"},\"ticker\":{\"id\":\"40da3df5-4ac4-4f19-94de-74c113d4ccbf\",\"type\":\"BasicTicker\"}},\"id\":\"42281c26-2640-4da6-a1aa-4cd6f53b8f02\",\"type\":\"LinearAxis\"},{\"attributes\":{\"angle\":{\"field\":\"angle\",\"units\":\"deg\"},\"length\":{\"units\":\"data\",\"value\":45},\"line_color\":{\"value\":\"#FB8072\"},\"line_width\":{\"value\":2},\"x\":{\"field\":\"x\"},\"y\":{\"field\":\"y\"}},\"id\":\"944135b4-f4bc-4fe0-a487-ac36bfc0c0cd\",\"type\":\"Ray\"},{\"attributes\":{},\"id\":\"533364fd-c319-479a-8727-cc00cb48b002\",\"type\":\"HelpTool\"},{\"attributes\":{\"below\":[{\"id\":\"42281c26-2640-4da6-a1aa-4cd6f53b8f02\",\"type\":\"LinearAxis\"}],\"left\":[{\"id\":\"f0180d16-6aad-489b-b7a1-b47529c457d6\",\"type\":\"LinearAxis\"}],\"plot_height\":400,\"plot_width\":400,\"renderers\":[{\"id\":\"42281c26-2640-4da6-a1aa-4cd6f53b8f02\",\"type\":\"LinearAxis\"},{\"id\":\"cc1bad8e-92d3-4518-93f8-bc94f43cafc5\",\"type\":\"Grid\"},{\"id\":\"f0180d16-6aad-489b-b7a1-b47529c457d6\",\"type\":\"LinearAxis\"},{\"id\":\"20a21838-c62f-4cd8-8f80-ccfa6dfccb09\",\"type\":\"Grid\"},{\"id\":\"ffd375f5-5c79-4733-bb3e-064fd7751e4e\",\"type\":\"BoxAnnotation\"},{\"id\":\"a6cf1aec-0998-4369-9f9c-067fbce3df4f\",\"type\":\"GlyphRenderer\"}],\"title\":{\"id\":\"ac914cba-e589-4198-b9ad-4e018049f14a\",\"type\":\"Title\"},\"toolbar\":{\"id\":\"1a62e63b-3c38-4e6d-8d16-fd5953ba0bf7\",\"type\":\"Toolbar\"},\"x_range\":{\"id\":\"3be1e6a5-2fea-4c23-95e0-2f5d196f58fb\",\"type\":\"DataRange1d\"},\"x_scale\":{\"id\":\"ad238ce3-a479-43e3-9d7f-e23544826e07\",\"type\":\"LinearScale\"},\"y_range\":{\"id\":\"4d73da45-03a5-40ab-9c4d-7f8464b267ed\",\"type\":\"DataRange1d\"},\"y_scale\":{\"id\":\"0c319277-4d00-43e7-962b-45be9a1e1535\",\"type\":\"LinearScale\"}},\"id\":\"f37ba653-fe2f-4f66-a31b-a6902e43846f\",\"subtype\":\"Figure\",\"type\":\"Plot\"},{\"attributes\":{\"overlay\":{\"id\":\"ffd375f5-5c79-4733-bb3e-064fd7751e4e\",\"type\":\"BoxAnnotation\"}},\"id\":\"cae762dc-7bbf-441b-ae06-cbaccf20f63d\",\"type\":\"BoxZoomTool\"},{\"attributes\":{\"callback\":null},\"id\":\"4d73da45-03a5-40ab-9c4d-7f8464b267ed\",\"type\":\"DataRange1d\"},{\"attributes\":{},\"id\":\"4b3eba15-7fac-4bd0-bc60-a0f56af03d5e\",\"type\":\"WheelZoomTool\"},{\"attributes\":{},\"id\":\"0c319277-4d00-43e7-962b-45be9a1e1535\",\"type\":\"LinearScale\"},{\"attributes\":{},\"id\":\"ad238ce3-a479-43e3-9d7f-e23544826e07\",\"type\":\"LinearScale\"},{\"attributes\":{\"dimension\":1,\"plot\":{\"id\":\"f37ba653-fe2f-4f66-a31b-a6902e43846f\",\"subtype\":\"Figure\",\"type\":\"Plot\"},\"ticker\":{\"id\":\"8cf6ae65-3be7-4ceb-8d83-a286ab20b285\",\"type\":\"BasicTicker\"}},\"id\":\"20a21838-c62f-4cd8-8f80-ccfa6dfccb09\",\"type\":\"Grid\"},{\"attributes\":{\"bottom_units\":\"screen\",\"fill_alpha\":{\"value\":0.5},\"fill_color\":{\"value\":\"lightgrey\"},\"left_units\":\"screen\",\"level\":\"overlay\",\"line_alpha\":{\"value\":1.0},\"line_color\":{\"value\":\"black\"},\"line_dash\":[4,4],\"line_width\":{\"value\":2},\"plot\":null,\"render_mode\":\"css\",\"right_units\":\"screen\",\"top_units\":\"screen\"},\"id\":\"ffd375f5-5c79-4733-bb3e-064fd7751e4e\",\"type\":\"BoxAnnotation\"},{\"attributes\":{\"angle\":{\"field\":\"angle\",\"units\":\"deg\"},\"length\":{\"units\":\"data\",\"value\":45},\"line_alpha\":{\"value\":0.1},\"line_color\":{\"value\":\"#1f77b4\"},\"line_width\":{\"value\":2},\"x\":{\"field\":\"x\"},\"y\":{\"field\":\"y\"}},\"id\":\"f5a3a3b1-c133-4b32-b80c-6636d89be940\",\"type\":\"Ray\"},{\"attributes\":{},\"id\":\"50ed7ebc-c873-4bff-8729-ee3ecd070808\",\"type\":\"PanTool\"},{\"attributes\":{},\"id\":\"8cf6ae65-3be7-4ceb-8d83-a286ab20b285\",\"type\":\"BasicTicker\"},{\"attributes\":{\"plot\":{\"id\":\"f37ba653-fe2f-4f66-a31b-a6902e43846f\",\"subtype\":\"Figure\",\"type\":\"Plot\"},\"ticker\":{\"id\":\"40da3df5-4ac4-4f19-94de-74c113d4ccbf\",\"type\":\"BasicTicker\"}},\"id\":\"cc1bad8e-92d3-4518-93f8-bc94f43cafc5\",\"type\":\"Grid\"},{\"attributes\":{\"data_source\":{\"id\":\"83d81a8d-4a8d-4536-bd87-22bd780a202a\",\"type\":\"ColumnDataSource\"},\"glyph\":{\"id\":\"944135b4-f4bc-4fe0-a487-ac36bfc0c0cd\",\"type\":\"Ray\"},\"hover_glyph\":null,\"muted_glyph\":null,\"nonselection_glyph\":{\"id\":\"f5a3a3b1-c133-4b32-b80c-6636d89be940\",\"type\":\"Ray\"},\"selection_glyph\":null,\"view\":{\"id\":\"ef311f21-d95d-444b-9dbe-1bc00da9c7db\",\"type\":\"CDSView\"}},\"id\":\"a6cf1aec-0998-4369-9f9c-067fbce3df4f\",\"type\":\"GlyphRenderer\"},{\"attributes\":{\"formatter\":{\"id\":\"e993aec0-310a-4323-b346-177a155e0307\",\"type\":\"BasicTickFormatter\"},\"plot\":{\"id\":\"f37ba653-fe2f-4f66-a31b-a6902e43846f\",\"subtype\":\"Figure\",\"type\":\"Plot\"},\"ticker\":{\"id\":\"8cf6ae65-3be7-4ceb-8d83-a286ab20b285\",\"type\":\"BasicTicker\"}},\"id\":\"f0180d16-6aad-489b-b7a1-b47529c457d6\",\"type\":\"LinearAxis\"}],\"root_ids\":[\"f37ba653-fe2f-4f66-a31b-a6902e43846f\"]},\"title\":\"Bokeh Application\",\"version\":\"0.12.13\"}};\n",
       "  var render_items = [{\"docid\":\"e1f432bf-8a7a-47f6-9255-97a7dbbb1322\",\"elementid\":\"266e6cde-007b-4283-8930-07faada77439\",\"modelid\":\"f37ba653-fe2f-4f66-a31b-a6902e43846f\"}];\n",
       "  root.Bokeh.embed.embed_items_notebook(docs_json, render_items);\n",
       "\n",
       "  }\n",
       "  if (root.Bokeh !== undefined) {\n",
       "    embed_document(root);\n",
       "  } else {\n",
       "    var attempts = 0;\n",
       "    var timer = setInterval(function(root) {\n",
       "      if (root.Bokeh !== undefined) {\n",
       "        embed_document(root);\n",
       "        clearInterval(timer);\n",
       "      }\n",
       "      attempts++;\n",
       "      if (attempts > 100) {\n",
       "        console.log(\"Bokeh: ERROR: Unable to run BokehJS code because BokehJS library is missing\")\n",
       "        clearInterval(timer);\n",
       "      }\n",
       "    }, 10, root)\n",
       "  }\n",
       "})(window);"
      ],
      "application/vnd.bokehjs_exec.v0+json": ""
     },
     "metadata": {
      "application/vnd.bokehjs_exec.v0+json": {
       "id": "f37ba653-fe2f-4f66-a31b-a6902e43846f"
      }
     },
     "output_type": "display_data"
    }
   ],
   "source": [
    "p = figure(plot_width=400, plot_height=400)\n",
    "p.ray(x=[1, 2, 3], y=[1, 2, 3], length=45, angle=[30, 45, 60],\n",
    "      angle_units=\"deg\", color=\"#FB8072\", line_width=2)\n",
    "\n",
    "show(p)"
   ]
  },
  {
   "cell_type": "markdown",
   "metadata": {},
   "source": [
    "### Wedges and Arcs"
   ]
  },
  {
   "cell_type": "code",
   "execution_count": 33,
   "metadata": {},
   "outputs": [
    {
     "data": {
      "text/html": [
       "\n",
       "<div class=\"bk-root\">\n",
       "    <div class=\"bk-plotdiv\" id=\"cbb92760-ff78-4c0e-8570-310f2e25ca54\"></div>\n",
       "</div>"
      ]
     },
     "metadata": {},
     "output_type": "display_data"
    },
    {
     "data": {
      "application/javascript": [
       "(function(root) {\n",
       "  function embed_document(root) {\n",
       "    \n",
       "  var docs_json = {\"afcb5fa3-05f5-4424-84b8-6fbdbfa7c4a5\":{\"roots\":{\"references\":[{\"attributes\":{\"bottom_units\":\"screen\",\"fill_alpha\":{\"value\":0.5},\"fill_color\":{\"value\":\"lightgrey\"},\"left_units\":\"screen\",\"level\":\"overlay\",\"line_alpha\":{\"value\":1.0},\"line_color\":{\"value\":\"black\"},\"line_dash\":[4,4],\"line_width\":{\"value\":2},\"plot\":null,\"render_mode\":\"css\",\"right_units\":\"screen\",\"top_units\":\"screen\"},\"id\":\"ebe8ffe5-18b4-4413-b35e-d49be6b025de\",\"type\":\"BoxAnnotation\"},{\"attributes\":{\"below\":[{\"id\":\"4254a74e-fdf3-47c3-9711-efcea710d500\",\"type\":\"LinearAxis\"}],\"left\":[{\"id\":\"bca73e4c-3ab8-4706-986b-ac42110e0b0d\",\"type\":\"LinearAxis\"}],\"plot_height\":400,\"plot_width\":400,\"renderers\":[{\"id\":\"4254a74e-fdf3-47c3-9711-efcea710d500\",\"type\":\"LinearAxis\"},{\"id\":\"b5b46e10-d6e9-41e4-9a15-d7985d4cd5d6\",\"type\":\"Grid\"},{\"id\":\"bca73e4c-3ab8-4706-986b-ac42110e0b0d\",\"type\":\"LinearAxis\"},{\"id\":\"eaeffc16-742d-4e9d-8403-eaffd314ef43\",\"type\":\"Grid\"},{\"id\":\"ebe8ffe5-18b4-4413-b35e-d49be6b025de\",\"type\":\"BoxAnnotation\"},{\"id\":\"8bb01494-6c5f-4514-b181-f159c8dceaa1\",\"type\":\"GlyphRenderer\"}],\"title\":{\"id\":\"a2d86f89-1667-49cc-8ac9-ccca813a0f8a\",\"type\":\"Title\"},\"toolbar\":{\"id\":\"2e9379e2-6f60-4dd0-856e-349ba43c4014\",\"type\":\"Toolbar\"},\"x_range\":{\"id\":\"5369c180-09c3-489b-bb7a-83c2c2720e93\",\"type\":\"DataRange1d\"},\"x_scale\":{\"id\":\"b3d520f7-ee99-4f46-8cf8-5fa152817875\",\"type\":\"LinearScale\"},\"y_range\":{\"id\":\"5ea77773-7b58-41ef-9725-0ee5792b72cb\",\"type\":\"DataRange1d\"},\"y_scale\":{\"id\":\"2ab509f2-dbbb-40e3-b002-4cb70dcfc4c7\",\"type\":\"LinearScale\"}},\"id\":\"dfd8517c-60ab-41ee-9f9a-b95fe2de5e92\",\"subtype\":\"Figure\",\"type\":\"Plot\"},{\"attributes\":{\"source\":{\"id\":\"b1d3466d-6d2e-483a-8d72-b68958cff4f9\",\"type\":\"ColumnDataSource\"}},\"id\":\"951b1299-366e-41f6-b6ff-0193c8237715\",\"type\":\"CDSView\"},{\"attributes\":{\"callback\":null},\"id\":\"5369c180-09c3-489b-bb7a-83c2c2720e93\",\"type\":\"DataRange1d\"},{\"attributes\":{\"end_angle\":{\"units\":\"rad\",\"value\":4.8},\"line_color\":{\"value\":\"navy\"},\"radius\":{\"units\":\"data\",\"value\":0.1},\"start_angle\":{\"units\":\"rad\",\"value\":0.4},\"x\":{\"field\":\"x\"},\"y\":{\"field\":\"y\"}},\"id\":\"c2ae1234-ede3-45a2-998c-fe571b5f98c8\",\"type\":\"Arc\"},{\"attributes\":{},\"id\":\"8390ce12-1a2e-4125-8654-34937ad608ea\",\"type\":\"BasicTickFormatter\"},{\"attributes\":{\"active_drag\":\"auto\",\"active_inspect\":\"auto\",\"active_scroll\":\"auto\",\"active_tap\":\"auto\",\"tools\":[{\"id\":\"eb81092c-ddf9-4493-8646-14b809412962\",\"type\":\"PanTool\"},{\"id\":\"d60a720c-fabb-4f34-8c80-eab189ef40dc\",\"type\":\"WheelZoomTool\"},{\"id\":\"51b7b16a-f464-43fc-84cc-f331d9a63c63\",\"type\":\"BoxZoomTool\"},{\"id\":\"45efe076-4a3a-4ef7-b40b-3a15fad57f90\",\"type\":\"SaveTool\"},{\"id\":\"4e270243-f587-480d-bd33-5a439ea51bf2\",\"type\":\"ResetTool\"},{\"id\":\"b22767d8-07c2-413b-8205-4749c3053880\",\"type\":\"HelpTool\"}]},\"id\":\"2e9379e2-6f60-4dd0-856e-349ba43c4014\",\"type\":\"Toolbar\"},{\"attributes\":{},\"id\":\"9ee7fb19-1739-4321-832f-e1889811ee98\",\"type\":\"BasicTicker\"},{\"attributes\":{},\"id\":\"4e270243-f587-480d-bd33-5a439ea51bf2\",\"type\":\"ResetTool\"},{\"attributes\":{\"overlay\":{\"id\":\"ebe8ffe5-18b4-4413-b35e-d49be6b025de\",\"type\":\"BoxAnnotation\"}},\"id\":\"51b7b16a-f464-43fc-84cc-f331d9a63c63\",\"type\":\"BoxZoomTool\"},{\"attributes\":{\"formatter\":{\"id\":\"936d01a3-c654-429e-87f7-2f919f7fdc7a\",\"type\":\"BasicTickFormatter\"},\"plot\":{\"id\":\"dfd8517c-60ab-41ee-9f9a-b95fe2de5e92\",\"subtype\":\"Figure\",\"type\":\"Plot\"},\"ticker\":{\"id\":\"a71fd600-a41e-4a97-990a-106fa17ff569\",\"type\":\"BasicTicker\"}},\"id\":\"bca73e4c-3ab8-4706-986b-ac42110e0b0d\",\"type\":\"LinearAxis\"},{\"attributes\":{},\"id\":\"eb81092c-ddf9-4493-8646-14b809412962\",\"type\":\"PanTool\"},{\"attributes\":{},\"id\":\"b22767d8-07c2-413b-8205-4749c3053880\",\"type\":\"HelpTool\"},{\"attributes\":{\"plot\":{\"id\":\"dfd8517c-60ab-41ee-9f9a-b95fe2de5e92\",\"subtype\":\"Figure\",\"type\":\"Plot\"},\"ticker\":{\"id\":\"9ee7fb19-1739-4321-832f-e1889811ee98\",\"type\":\"BasicTicker\"}},\"id\":\"b5b46e10-d6e9-41e4-9a15-d7985d4cd5d6\",\"type\":\"Grid\"},{\"attributes\":{\"data_source\":{\"id\":\"b1d3466d-6d2e-483a-8d72-b68958cff4f9\",\"type\":\"ColumnDataSource\"},\"glyph\":{\"id\":\"c2ae1234-ede3-45a2-998c-fe571b5f98c8\",\"type\":\"Arc\"},\"hover_glyph\":null,\"muted_glyph\":null,\"nonselection_glyph\":{\"id\":\"aa7bb731-41f0-4b20-bbef-1f463ba134b1\",\"type\":\"Arc\"},\"selection_glyph\":null,\"view\":{\"id\":\"951b1299-366e-41f6-b6ff-0193c8237715\",\"type\":\"CDSView\"}},\"id\":\"8bb01494-6c5f-4514-b181-f159c8dceaa1\",\"type\":\"GlyphRenderer\"},{\"attributes\":{},\"id\":\"d60a720c-fabb-4f34-8c80-eab189ef40dc\",\"type\":\"WheelZoomTool\"},{\"attributes\":{\"formatter\":{\"id\":\"8390ce12-1a2e-4125-8654-34937ad608ea\",\"type\":\"BasicTickFormatter\"},\"plot\":{\"id\":\"dfd8517c-60ab-41ee-9f9a-b95fe2de5e92\",\"subtype\":\"Figure\",\"type\":\"Plot\"},\"ticker\":{\"id\":\"9ee7fb19-1739-4321-832f-e1889811ee98\",\"type\":\"BasicTicker\"}},\"id\":\"4254a74e-fdf3-47c3-9711-efcea710d500\",\"type\":\"LinearAxis\"},{\"attributes\":{\"callback\":null,\"column_names\":[\"x\",\"y\"],\"data\":{\"x\":[1,2,3],\"y\":[1,2,3]}},\"id\":\"b1d3466d-6d2e-483a-8d72-b68958cff4f9\",\"type\":\"ColumnDataSource\"},{\"attributes\":{\"plot\":null,\"text\":\"\"},\"id\":\"a2d86f89-1667-49cc-8ac9-ccca813a0f8a\",\"type\":\"Title\"},{\"attributes\":{},\"id\":\"b3d520f7-ee99-4f46-8cf8-5fa152817875\",\"type\":\"LinearScale\"},{\"attributes\":{},\"id\":\"936d01a3-c654-429e-87f7-2f919f7fdc7a\",\"type\":\"BasicTickFormatter\"},{\"attributes\":{},\"id\":\"a71fd600-a41e-4a97-990a-106fa17ff569\",\"type\":\"BasicTicker\"},{\"attributes\":{},\"id\":\"2ab509f2-dbbb-40e3-b002-4cb70dcfc4c7\",\"type\":\"LinearScale\"},{\"attributes\":{\"end_angle\":{\"units\":\"rad\",\"value\":4.8},\"line_alpha\":{\"value\":0.1},\"line_color\":{\"value\":\"#1f77b4\"},\"radius\":{\"units\":\"data\",\"value\":0.1},\"start_angle\":{\"units\":\"rad\",\"value\":0.4},\"x\":{\"field\":\"x\"},\"y\":{\"field\":\"y\"}},\"id\":\"aa7bb731-41f0-4b20-bbef-1f463ba134b1\",\"type\":\"Arc\"},{\"attributes\":{\"callback\":null},\"id\":\"5ea77773-7b58-41ef-9725-0ee5792b72cb\",\"type\":\"DataRange1d\"},{\"attributes\":{\"dimension\":1,\"plot\":{\"id\":\"dfd8517c-60ab-41ee-9f9a-b95fe2de5e92\",\"subtype\":\"Figure\",\"type\":\"Plot\"},\"ticker\":{\"id\":\"a71fd600-a41e-4a97-990a-106fa17ff569\",\"type\":\"BasicTicker\"}},\"id\":\"eaeffc16-742d-4e9d-8403-eaffd314ef43\",\"type\":\"Grid\"},{\"attributes\":{},\"id\":\"45efe076-4a3a-4ef7-b40b-3a15fad57f90\",\"type\":\"SaveTool\"}],\"root_ids\":[\"dfd8517c-60ab-41ee-9f9a-b95fe2de5e92\"]},\"title\":\"Bokeh Application\",\"version\":\"0.12.13\"}};\n",
       "  var render_items = [{\"docid\":\"afcb5fa3-05f5-4424-84b8-6fbdbfa7c4a5\",\"elementid\":\"cbb92760-ff78-4c0e-8570-310f2e25ca54\",\"modelid\":\"dfd8517c-60ab-41ee-9f9a-b95fe2de5e92\"}];\n",
       "  root.Bokeh.embed.embed_items_notebook(docs_json, render_items);\n",
       "\n",
       "  }\n",
       "  if (root.Bokeh !== undefined) {\n",
       "    embed_document(root);\n",
       "  } else {\n",
       "    var attempts = 0;\n",
       "    var timer = setInterval(function(root) {\n",
       "      if (root.Bokeh !== undefined) {\n",
       "        embed_document(root);\n",
       "        clearInterval(timer);\n",
       "      }\n",
       "      attempts++;\n",
       "      if (attempts > 100) {\n",
       "        console.log(\"Bokeh: ERROR: Unable to run BokehJS code because BokehJS library is missing\")\n",
       "        clearInterval(timer);\n",
       "      }\n",
       "    }, 10, root)\n",
       "  }\n",
       "})(window);"
      ],
      "application/vnd.bokehjs_exec.v0+json": ""
     },
     "metadata": {
      "application/vnd.bokehjs_exec.v0+json": {
       "id": "dfd8517c-60ab-41ee-9f9a-b95fe2de5e92"
      }
     },
     "output_type": "display_data"
    }
   ],
   "source": [
    "p = figure(plot_width=400, plot_height=400)\n",
    "p.arc(x=[1, 2, 3], y=[1, 2, 3],\n",
    "      radius=0.1, \n",
    "      start_angle=0.4, end_angle=4.8, \n",
    "      color=\"navy\")\n",
    "\n",
    "show(p)"
   ]
  },
  {
   "cell_type": "code",
   "execution_count": 35,
   "metadata": {},
   "outputs": [
    {
     "data": {
      "text/html": [
       "\n",
       "<div class=\"bk-root\">\n",
       "    <div class=\"bk-plotdiv\" id=\"3ac32d95-9920-4508-910b-a20db8d9e428\"></div>\n",
       "</div>"
      ]
     },
     "metadata": {},
     "output_type": "display_data"
    },
    {
     "data": {
      "application/javascript": [
       "(function(root) {\n",
       "  function embed_document(root) {\n",
       "    \n",
       "  var docs_json = {\"ddaaa33f-ba9a-46d1-8aae-282eb59baccc\":{\"roots\":{\"references\":[{\"attributes\":{\"direction\":\"clock\",\"end_angle\":{\"units\":\"rad\",\"value\":4.8},\"fill_alpha\":{\"value\":0.1},\"fill_color\":{\"value\":\"#1f77b4\"},\"line_alpha\":{\"value\":0.1},\"line_color\":{\"value\":\"#1f77b4\"},\"radius\":{\"units\":\"data\",\"value\":0.2},\"start_angle\":{\"units\":\"rad\",\"value\":0.4},\"x\":{\"field\":\"x\"},\"y\":{\"field\":\"y\"}},\"id\":\"1d35d333-afc4-428c-b786-2f69e1f55a19\",\"type\":\"Wedge\"},{\"attributes\":{\"callback\":null},\"id\":\"c1516662-1014-48aa-8f8a-81d598d44e1e\",\"type\":\"DataRange1d\"},{\"attributes\":{\"bottom_units\":\"screen\",\"fill_alpha\":{\"value\":0.5},\"fill_color\":{\"value\":\"lightgrey\"},\"left_units\":\"screen\",\"level\":\"overlay\",\"line_alpha\":{\"value\":1.0},\"line_color\":{\"value\":\"black\"},\"line_dash\":[4,4],\"line_width\":{\"value\":2},\"plot\":null,\"render_mode\":\"css\",\"right_units\":\"screen\",\"top_units\":\"screen\"},\"id\":\"5d366d15-4ac7-4f28-a6c8-801f35316af8\",\"type\":\"BoxAnnotation\"},{\"attributes\":{},\"id\":\"27a660bb-f93e-4d67-adfe-ced1e8da00fa\",\"type\":\"ResetTool\"},{\"attributes\":{\"plot\":{\"id\":\"1d497958-ea1b-4947-930c-74fe40e74e94\",\"subtype\":\"Figure\",\"type\":\"Plot\"},\"ticker\":{\"id\":\"bc3ad642-beba-4228-8314-d8d673a7fb8e\",\"type\":\"BasicTicker\"}},\"id\":\"b8541216-b1c6-4296-899b-857876fe2172\",\"type\":\"Grid\"},{\"attributes\":{\"callback\":null,\"column_names\":[\"x\",\"y\"],\"data\":{\"x\":[1,2,3],\"y\":[1,2,3]}},\"id\":\"1873fe4e-56ae-429e-9c6d-481d7664053c\",\"type\":\"ColumnDataSource\"},{\"attributes\":{},\"id\":\"a7093e07-40a7-40d9-80a7-d39e2354658e\",\"type\":\"HelpTool\"},{\"attributes\":{\"plot\":null,\"text\":\"\"},\"id\":\"da91243c-9a27-4677-b039-7d8a2480fe93\",\"type\":\"Title\"},{\"attributes\":{},\"id\":\"13419314-57d0-4143-ae52-fdfed1eed95f\",\"type\":\"BasicTickFormatter\"},{\"attributes\":{},\"id\":\"bc3ad642-beba-4228-8314-d8d673a7fb8e\",\"type\":\"BasicTicker\"},{\"attributes\":{\"active_drag\":\"auto\",\"active_inspect\":\"auto\",\"active_scroll\":\"auto\",\"active_tap\":\"auto\",\"tools\":[{\"id\":\"f5c23988-537b-4bb4-a63f-54c19a8476b8\",\"type\":\"PanTool\"},{\"id\":\"3a0c5816-2fc1-4aaf-b096-f6c4414e2741\",\"type\":\"WheelZoomTool\"},{\"id\":\"dd54db0d-0c95-4a26-9471-73cd49f57c1c\",\"type\":\"BoxZoomTool\"},{\"id\":\"af663bc4-b765-47c3-95bc-62bbf220e6c8\",\"type\":\"SaveTool\"},{\"id\":\"27a660bb-f93e-4d67-adfe-ced1e8da00fa\",\"type\":\"ResetTool\"},{\"id\":\"a7093e07-40a7-40d9-80a7-d39e2354658e\",\"type\":\"HelpTool\"}]},\"id\":\"49d95da2-334a-45e4-975e-b2d17eb9869c\",\"type\":\"Toolbar\"},{\"attributes\":{\"dimension\":1,\"plot\":{\"id\":\"1d497958-ea1b-4947-930c-74fe40e74e94\",\"subtype\":\"Figure\",\"type\":\"Plot\"},\"ticker\":{\"id\":\"120c9a9c-1b28-411f-8484-82d4c5b9f1c7\",\"type\":\"BasicTicker\"}},\"id\":\"84a12d2f-3c9b-4119-af29-4adc16558a64\",\"type\":\"Grid\"},{\"attributes\":{\"overlay\":{\"id\":\"5d366d15-4ac7-4f28-a6c8-801f35316af8\",\"type\":\"BoxAnnotation\"}},\"id\":\"dd54db0d-0c95-4a26-9471-73cd49f57c1c\",\"type\":\"BoxZoomTool\"},{\"attributes\":{\"formatter\":{\"id\":\"13419314-57d0-4143-ae52-fdfed1eed95f\",\"type\":\"BasicTickFormatter\"},\"plot\":{\"id\":\"1d497958-ea1b-4947-930c-74fe40e74e94\",\"subtype\":\"Figure\",\"type\":\"Plot\"},\"ticker\":{\"id\":\"120c9a9c-1b28-411f-8484-82d4c5b9f1c7\",\"type\":\"BasicTicker\"}},\"id\":\"47b2edb2-8cf2-4a0d-b0b1-3a9707edb3e1\",\"type\":\"LinearAxis\"},{\"attributes\":{},\"id\":\"120c9a9c-1b28-411f-8484-82d4c5b9f1c7\",\"type\":\"BasicTicker\"},{\"attributes\":{},\"id\":\"f5c23988-537b-4bb4-a63f-54c19a8476b8\",\"type\":\"PanTool\"},{\"attributes\":{},\"id\":\"3a0c5816-2fc1-4aaf-b096-f6c4414e2741\",\"type\":\"WheelZoomTool\"},{\"attributes\":{\"source\":{\"id\":\"1873fe4e-56ae-429e-9c6d-481d7664053c\",\"type\":\"ColumnDataSource\"}},\"id\":\"40816cda-5bc7-40d7-8b97-dd3675a645b4\",\"type\":\"CDSView\"},{\"attributes\":{\"below\":[{\"id\":\"443d844f-4812-4751-895b-06bb0b1e6656\",\"type\":\"LinearAxis\"}],\"left\":[{\"id\":\"47b2edb2-8cf2-4a0d-b0b1-3a9707edb3e1\",\"type\":\"LinearAxis\"}],\"plot_height\":400,\"plot_width\":400,\"renderers\":[{\"id\":\"443d844f-4812-4751-895b-06bb0b1e6656\",\"type\":\"LinearAxis\"},{\"id\":\"b8541216-b1c6-4296-899b-857876fe2172\",\"type\":\"Grid\"},{\"id\":\"47b2edb2-8cf2-4a0d-b0b1-3a9707edb3e1\",\"type\":\"LinearAxis\"},{\"id\":\"84a12d2f-3c9b-4119-af29-4adc16558a64\",\"type\":\"Grid\"},{\"id\":\"5d366d15-4ac7-4f28-a6c8-801f35316af8\",\"type\":\"BoxAnnotation\"},{\"id\":\"ba27bd77-c8e8-4d6f-b5b1-dafc681d3b10\",\"type\":\"GlyphRenderer\"}],\"title\":{\"id\":\"da91243c-9a27-4677-b039-7d8a2480fe93\",\"type\":\"Title\"},\"toolbar\":{\"id\":\"49d95da2-334a-45e4-975e-b2d17eb9869c\",\"type\":\"Toolbar\"},\"x_range\":{\"id\":\"c1516662-1014-48aa-8f8a-81d598d44e1e\",\"type\":\"DataRange1d\"},\"x_scale\":{\"id\":\"34476322-a1d2-460e-81c1-328abbf8db31\",\"type\":\"LinearScale\"},\"y_range\":{\"id\":\"465a15ef-345c-44f3-bea5-eb27915731d4\",\"type\":\"DataRange1d\"},\"y_scale\":{\"id\":\"776b4433-dead-45fd-8a68-beb8eedb68c7\",\"type\":\"LinearScale\"}},\"id\":\"1d497958-ea1b-4947-930c-74fe40e74e94\",\"subtype\":\"Figure\",\"type\":\"Plot\"},{\"attributes\":{\"data_source\":{\"id\":\"1873fe4e-56ae-429e-9c6d-481d7664053c\",\"type\":\"ColumnDataSource\"},\"glyph\":{\"id\":\"f887e0ce-144a-4d54-8c45-153c54a2f9ee\",\"type\":\"Wedge\"},\"hover_glyph\":null,\"muted_glyph\":null,\"nonselection_glyph\":{\"id\":\"1d35d333-afc4-428c-b786-2f69e1f55a19\",\"type\":\"Wedge\"},\"selection_glyph\":null,\"view\":{\"id\":\"40816cda-5bc7-40d7-8b97-dd3675a645b4\",\"type\":\"CDSView\"}},\"id\":\"ba27bd77-c8e8-4d6f-b5b1-dafc681d3b10\",\"type\":\"GlyphRenderer\"},{\"attributes\":{\"formatter\":{\"id\":\"a8719221-520a-43d7-9086-93ba2857f073\",\"type\":\"BasicTickFormatter\"},\"plot\":{\"id\":\"1d497958-ea1b-4947-930c-74fe40e74e94\",\"subtype\":\"Figure\",\"type\":\"Plot\"},\"ticker\":{\"id\":\"bc3ad642-beba-4228-8314-d8d673a7fb8e\",\"type\":\"BasicTicker\"}},\"id\":\"443d844f-4812-4751-895b-06bb0b1e6656\",\"type\":\"LinearAxis\"},{\"attributes\":{\"direction\":\"clock\",\"end_angle\":{\"units\":\"rad\",\"value\":4.8},\"fill_alpha\":{\"value\":0.6},\"fill_color\":{\"value\":\"firebrick\"},\"line_alpha\":{\"value\":0.6},\"line_color\":{\"value\":\"firebrick\"},\"radius\":{\"units\":\"data\",\"value\":0.2},\"start_angle\":{\"units\":\"rad\",\"value\":0.4},\"x\":{\"field\":\"x\"},\"y\":{\"field\":\"y\"}},\"id\":\"f887e0ce-144a-4d54-8c45-153c54a2f9ee\",\"type\":\"Wedge\"},{\"attributes\":{},\"id\":\"a8719221-520a-43d7-9086-93ba2857f073\",\"type\":\"BasicTickFormatter\"},{\"attributes\":{},\"id\":\"776b4433-dead-45fd-8a68-beb8eedb68c7\",\"type\":\"LinearScale\"},{\"attributes\":{\"callback\":null},\"id\":\"465a15ef-345c-44f3-bea5-eb27915731d4\",\"type\":\"DataRange1d\"},{\"attributes\":{},\"id\":\"34476322-a1d2-460e-81c1-328abbf8db31\",\"type\":\"LinearScale\"},{\"attributes\":{},\"id\":\"af663bc4-b765-47c3-95bc-62bbf220e6c8\",\"type\":\"SaveTool\"}],\"root_ids\":[\"1d497958-ea1b-4947-930c-74fe40e74e94\"]},\"title\":\"Bokeh Application\",\"version\":\"0.12.13\"}};\n",
       "  var render_items = [{\"docid\":\"ddaaa33f-ba9a-46d1-8aae-282eb59baccc\",\"elementid\":\"3ac32d95-9920-4508-910b-a20db8d9e428\",\"modelid\":\"1d497958-ea1b-4947-930c-74fe40e74e94\"}];\n",
       "  root.Bokeh.embed.embed_items_notebook(docs_json, render_items);\n",
       "\n",
       "  }\n",
       "  if (root.Bokeh !== undefined) {\n",
       "    embed_document(root);\n",
       "  } else {\n",
       "    var attempts = 0;\n",
       "    var timer = setInterval(function(root) {\n",
       "      if (root.Bokeh !== undefined) {\n",
       "        embed_document(root);\n",
       "        clearInterval(timer);\n",
       "      }\n",
       "      attempts++;\n",
       "      if (attempts > 100) {\n",
       "        console.log(\"Bokeh: ERROR: Unable to run BokehJS code because BokehJS library is missing\")\n",
       "        clearInterval(timer);\n",
       "      }\n",
       "    }, 10, root)\n",
       "  }\n",
       "})(window);"
      ],
      "application/vnd.bokehjs_exec.v0+json": ""
     },
     "metadata": {
      "application/vnd.bokehjs_exec.v0+json": {
       "id": "1d497958-ea1b-4947-930c-74fe40e74e94"
      }
     },
     "output_type": "display_data"
    }
   ],
   "source": [
    "p = figure(plot_width=400, plot_height=400)\n",
    "p.wedge(x=[1, 2, 3], y=[1, 2, 3], \n",
    "        radius=0.2,\n",
    "        start_angle=0.4, end_angle=4.8,\n",
    "        color=\"firebrick\", alpha=0.6,\n",
    "        direction=\"clock\")\n",
    "\n",
    "show(p)"
   ]
  },
  {
   "cell_type": "code",
   "execution_count": 36,
   "metadata": {},
   "outputs": [
    {
     "data": {
      "text/html": [
       "\n",
       "<div class=\"bk-root\">\n",
       "    <div class=\"bk-plotdiv\" id=\"9f3d83b6-e147-464b-8e98-471667c349fc\"></div>\n",
       "</div>"
      ]
     },
     "metadata": {},
     "output_type": "display_data"
    },
    {
     "data": {
      "application/javascript": [
       "(function(root) {\n",
       "  function embed_document(root) {\n",
       "    \n",
       "  var docs_json = {\"29e9ec96-d4a7-4071-952d-dcbdbc42016f\":{\"roots\":{\"references\":[{\"attributes\":{},\"id\":\"671d763c-5e0d-4289-bafe-db1cb26fc8ac\",\"type\":\"LinearScale\"},{\"attributes\":{},\"id\":\"7d2add78-1acd-4a7f-9424-ee9dba67521f\",\"type\":\"ResetTool\"},{\"attributes\":{},\"id\":\"2aa2bca7-7262-4fa4-bc31-facc03971330\",\"type\":\"HelpTool\"},{\"attributes\":{\"plot\":{\"id\":\"ef36c0a1-9cd5-42e0-b1e1-e277295d2889\",\"subtype\":\"Figure\",\"type\":\"Plot\"},\"ticker\":{\"id\":\"bc5db9f0-d754-499d-9aa4-215b16ebc03d\",\"type\":\"BasicTicker\"}},\"id\":\"83ffbd95-a71c-4d05-9036-d8af8afee533\",\"type\":\"Grid\"},{\"attributes\":{\"callback\":null,\"column_names\":[\"x\",\"y\"],\"data\":{\"x\":[1,2,3],\"y\":[1,2,3]}},\"id\":\"31be2265-9635-42d4-8f71-1a8e85d883ee\",\"type\":\"ColumnDataSource\"},{\"attributes\":{\"formatter\":{\"id\":\"8fb2bae8-6c1c-44eb-9268-af1ae367cf5f\",\"type\":\"BasicTickFormatter\"},\"plot\":{\"id\":\"ef36c0a1-9cd5-42e0-b1e1-e277295d2889\",\"subtype\":\"Figure\",\"type\":\"Plot\"},\"ticker\":{\"id\":\"cd2c70d3-cd2d-4e6e-9117-59f1e54b3946\",\"type\":\"BasicTicker\"}},\"id\":\"d384dedb-1b31-4105-8c4b-28a5506a4220\",\"type\":\"LinearAxis\"},{\"attributes\":{\"formatter\":{\"id\":\"09ea941e-47f7-478d-9338-4b5a5a69070a\",\"type\":\"BasicTickFormatter\"},\"plot\":{\"id\":\"ef36c0a1-9cd5-42e0-b1e1-e277295d2889\",\"subtype\":\"Figure\",\"type\":\"Plot\"},\"ticker\":{\"id\":\"bc5db9f0-d754-499d-9aa4-215b16ebc03d\",\"type\":\"BasicTicker\"}},\"id\":\"d734d5a9-2cdc-4b53-bc6a-9d3783951aac\",\"type\":\"LinearAxis\"},{\"attributes\":{},\"id\":\"cd2c70d3-cd2d-4e6e-9117-59f1e54b3946\",\"type\":\"BasicTicker\"},{\"attributes\":{\"end_angle\":{\"units\":\"rad\",\"value\":4.8},\"fill_alpha\":{\"value\":0.6},\"fill_color\":{\"value\":\"green\"},\"inner_radius\":{\"units\":\"data\",\"value\":0.1},\"line_alpha\":{\"value\":0.6},\"line_color\":{\"value\":\"green\"},\"outer_radius\":{\"units\":\"data\",\"value\":0.25},\"start_angle\":{\"units\":\"rad\",\"value\":0.4},\"x\":{\"field\":\"x\"},\"y\":{\"field\":\"y\"}},\"id\":\"fd3b96aa-be31-44d2-bec1-c6628b59c1f0\",\"type\":\"AnnularWedge\"},{\"attributes\":{\"dimension\":1,\"plot\":{\"id\":\"ef36c0a1-9cd5-42e0-b1e1-e277295d2889\",\"subtype\":\"Figure\",\"type\":\"Plot\"},\"ticker\":{\"id\":\"cd2c70d3-cd2d-4e6e-9117-59f1e54b3946\",\"type\":\"BasicTicker\"}},\"id\":\"4d4aa2d2-140b-4aed-91bc-7a10969c445e\",\"type\":\"Grid\"},{\"attributes\":{\"plot\":null,\"text\":\"\"},\"id\":\"81ed1e5e-0bc5-4e02-adab-26414c831310\",\"type\":\"Title\"},{\"attributes\":{\"source\":{\"id\":\"31be2265-9635-42d4-8f71-1a8e85d883ee\",\"type\":\"ColumnDataSource\"}},\"id\":\"33f0b13b-d910-4c28-863d-a260c5314faf\",\"type\":\"CDSView\"},{\"attributes\":{\"data_source\":{\"id\":\"31be2265-9635-42d4-8f71-1a8e85d883ee\",\"type\":\"ColumnDataSource\"},\"glyph\":{\"id\":\"fd3b96aa-be31-44d2-bec1-c6628b59c1f0\",\"type\":\"AnnularWedge\"},\"hover_glyph\":null,\"muted_glyph\":null,\"nonselection_glyph\":{\"id\":\"8258b629-3470-4508-bbe8-cc0fd814502e\",\"type\":\"AnnularWedge\"},\"selection_glyph\":null,\"view\":{\"id\":\"33f0b13b-d910-4c28-863d-a260c5314faf\",\"type\":\"CDSView\"}},\"id\":\"4376768c-e463-47b5-9c86-497e8e320ec8\",\"type\":\"GlyphRenderer\"},{\"attributes\":{},\"id\":\"09ea941e-47f7-478d-9338-4b5a5a69070a\",\"type\":\"BasicTickFormatter\"},{\"attributes\":{\"below\":[{\"id\":\"d734d5a9-2cdc-4b53-bc6a-9d3783951aac\",\"type\":\"LinearAxis\"}],\"left\":[{\"id\":\"d384dedb-1b31-4105-8c4b-28a5506a4220\",\"type\":\"LinearAxis\"}],\"plot_height\":400,\"plot_width\":400,\"renderers\":[{\"id\":\"d734d5a9-2cdc-4b53-bc6a-9d3783951aac\",\"type\":\"LinearAxis\"},{\"id\":\"83ffbd95-a71c-4d05-9036-d8af8afee533\",\"type\":\"Grid\"},{\"id\":\"d384dedb-1b31-4105-8c4b-28a5506a4220\",\"type\":\"LinearAxis\"},{\"id\":\"4d4aa2d2-140b-4aed-91bc-7a10969c445e\",\"type\":\"Grid\"},{\"id\":\"8c492a71-ffaf-4b8c-932d-b651b5676c6e\",\"type\":\"BoxAnnotation\"},{\"id\":\"4376768c-e463-47b5-9c86-497e8e320ec8\",\"type\":\"GlyphRenderer\"}],\"title\":{\"id\":\"81ed1e5e-0bc5-4e02-adab-26414c831310\",\"type\":\"Title\"},\"toolbar\":{\"id\":\"51126a6b-0352-4d87-a304-fed43b7fdb4e\",\"type\":\"Toolbar\"},\"x_range\":{\"id\":\"61059439-b3e5-4d1d-9c86-8bb8f5f83c3b\",\"type\":\"DataRange1d\"},\"x_scale\":{\"id\":\"61d3f864-aa27-4b53-94db-3a3d5ac0359a\",\"type\":\"LinearScale\"},\"y_range\":{\"id\":\"bd459a89-8074-4766-a3ef-2ae1d9f49917\",\"type\":\"DataRange1d\"},\"y_scale\":{\"id\":\"671d763c-5e0d-4289-bafe-db1cb26fc8ac\",\"type\":\"LinearScale\"}},\"id\":\"ef36c0a1-9cd5-42e0-b1e1-e277295d2889\",\"subtype\":\"Figure\",\"type\":\"Plot\"},{\"attributes\":{\"active_drag\":\"auto\",\"active_inspect\":\"auto\",\"active_scroll\":\"auto\",\"active_tap\":\"auto\",\"tools\":[{\"id\":\"8136415d-d6e2-4696-8fd2-05fc927eb82b\",\"type\":\"PanTool\"},{\"id\":\"5cab7afd-3f79-46fb-bd3e-64e9dbffd43c\",\"type\":\"WheelZoomTool\"},{\"id\":\"c6d28b84-e092-4362-abbc-384d24dceeaa\",\"type\":\"BoxZoomTool\"},{\"id\":\"d8afea75-9cf5-44c1-9b01-db035ea3287a\",\"type\":\"SaveTool\"},{\"id\":\"7d2add78-1acd-4a7f-9424-ee9dba67521f\",\"type\":\"ResetTool\"},{\"id\":\"2aa2bca7-7262-4fa4-bc31-facc03971330\",\"type\":\"HelpTool\"}]},\"id\":\"51126a6b-0352-4d87-a304-fed43b7fdb4e\",\"type\":\"Toolbar\"},{\"attributes\":{\"bottom_units\":\"screen\",\"fill_alpha\":{\"value\":0.5},\"fill_color\":{\"value\":\"lightgrey\"},\"left_units\":\"screen\",\"level\":\"overlay\",\"line_alpha\":{\"value\":1.0},\"line_color\":{\"value\":\"black\"},\"line_dash\":[4,4],\"line_width\":{\"value\":2},\"plot\":null,\"render_mode\":\"css\",\"right_units\":\"screen\",\"top_units\":\"screen\"},\"id\":\"8c492a71-ffaf-4b8c-932d-b651b5676c6e\",\"type\":\"BoxAnnotation\"},{\"attributes\":{},\"id\":\"8136415d-d6e2-4696-8fd2-05fc927eb82b\",\"type\":\"PanTool\"},{\"attributes\":{},\"id\":\"bc5db9f0-d754-499d-9aa4-215b16ebc03d\",\"type\":\"BasicTicker\"},{\"attributes\":{\"callback\":null},\"id\":\"61059439-b3e5-4d1d-9c86-8bb8f5f83c3b\",\"type\":\"DataRange1d\"},{\"attributes\":{},\"id\":\"8fb2bae8-6c1c-44eb-9268-af1ae367cf5f\",\"type\":\"BasicTickFormatter\"},{\"attributes\":{\"callback\":null},\"id\":\"bd459a89-8074-4766-a3ef-2ae1d9f49917\",\"type\":\"DataRange1d\"},{\"attributes\":{},\"id\":\"5cab7afd-3f79-46fb-bd3e-64e9dbffd43c\",\"type\":\"WheelZoomTool\"},{\"attributes\":{\"overlay\":{\"id\":\"8c492a71-ffaf-4b8c-932d-b651b5676c6e\",\"type\":\"BoxAnnotation\"}},\"id\":\"c6d28b84-e092-4362-abbc-384d24dceeaa\",\"type\":\"BoxZoomTool\"},{\"attributes\":{\"end_angle\":{\"units\":\"rad\",\"value\":4.8},\"fill_alpha\":{\"value\":0.1},\"fill_color\":{\"value\":\"#1f77b4\"},\"inner_radius\":{\"units\":\"data\",\"value\":0.1},\"line_alpha\":{\"value\":0.1},\"line_color\":{\"value\":\"#1f77b4\"},\"outer_radius\":{\"units\":\"data\",\"value\":0.25},\"start_angle\":{\"units\":\"rad\",\"value\":0.4},\"x\":{\"field\":\"x\"},\"y\":{\"field\":\"y\"}},\"id\":\"8258b629-3470-4508-bbe8-cc0fd814502e\",\"type\":\"AnnularWedge\"},{\"attributes\":{},\"id\":\"d8afea75-9cf5-44c1-9b01-db035ea3287a\",\"type\":\"SaveTool\"},{\"attributes\":{},\"id\":\"61d3f864-aa27-4b53-94db-3a3d5ac0359a\",\"type\":\"LinearScale\"}],\"root_ids\":[\"ef36c0a1-9cd5-42e0-b1e1-e277295d2889\"]},\"title\":\"Bokeh Application\",\"version\":\"0.12.13\"}};\n",
       "  var render_items = [{\"docid\":\"29e9ec96-d4a7-4071-952d-dcbdbc42016f\",\"elementid\":\"9f3d83b6-e147-464b-8e98-471667c349fc\",\"modelid\":\"ef36c0a1-9cd5-42e0-b1e1-e277295d2889\"}];\n",
       "  root.Bokeh.embed.embed_items_notebook(docs_json, render_items);\n",
       "\n",
       "  }\n",
       "  if (root.Bokeh !== undefined) {\n",
       "    embed_document(root);\n",
       "  } else {\n",
       "    var attempts = 0;\n",
       "    var timer = setInterval(function(root) {\n",
       "      if (root.Bokeh !== undefined) {\n",
       "        embed_document(root);\n",
       "        clearInterval(timer);\n",
       "      }\n",
       "      attempts++;\n",
       "      if (attempts > 100) {\n",
       "        console.log(\"Bokeh: ERROR: Unable to run BokehJS code because BokehJS library is missing\")\n",
       "        clearInterval(timer);\n",
       "      }\n",
       "    }, 10, root)\n",
       "  }\n",
       "})(window);"
      ],
      "application/vnd.bokehjs_exec.v0+json": ""
     },
     "metadata": {
      "application/vnd.bokehjs_exec.v0+json": {
       "id": "ef36c0a1-9cd5-42e0-b1e1-e277295d2889"
      }
     },
     "output_type": "display_data"
    }
   ],
   "source": [
    "p = figure(plot_width=400, plot_height=400)\n",
    "p.annular_wedge(x=[1, 2, 3], y=[1, 2, 3],\n",
    "                inner_radius=0.1, outer_radius=0.25,\n",
    "                start_angle=0.4, end_angle=4.8,\n",
    "                color=\"green\", alpha=0.6)\n",
    "\n",
    "show(p)"
   ]
  },
  {
   "cell_type": "code",
   "execution_count": 37,
   "metadata": {},
   "outputs": [
    {
     "data": {
      "text/html": [
       "\n",
       "<div class=\"bk-root\">\n",
       "    <div class=\"bk-plotdiv\" id=\"fed66e11-2523-4a05-a758-9013901b57b2\"></div>\n",
       "</div>"
      ]
     },
     "metadata": {},
     "output_type": "display_data"
    },
    {
     "data": {
      "application/javascript": [
       "(function(root) {\n",
       "  function embed_document(root) {\n",
       "    \n",
       "  var docs_json = {\"2d1cb719-77a5-4fd6-bda2-42f012b0da11\":{\"roots\":{\"references\":[{\"attributes\":{\"formatter\":{\"id\":\"a791bbd4-728a-4094-a25d-f9655be46ef3\",\"type\":\"BasicTickFormatter\"},\"plot\":{\"id\":\"1f7f7b83-1137-4756-a3b5-3a307107e49e\",\"subtype\":\"Figure\",\"type\":\"Plot\"},\"ticker\":{\"id\":\"6741320f-310b-4f82-946a-eca9b207a044\",\"type\":\"BasicTicker\"}},\"id\":\"ed1f4e2c-644a-4998-959e-b13cea40c81d\",\"type\":\"LinearAxis\"},{\"attributes\":{\"plot\":{\"id\":\"1f7f7b83-1137-4756-a3b5-3a307107e49e\",\"subtype\":\"Figure\",\"type\":\"Plot\"},\"ticker\":{\"id\":\"6741320f-310b-4f82-946a-eca9b207a044\",\"type\":\"BasicTicker\"}},\"id\":\"ca539ec4-693c-4647-afd9-75e18169d8f1\",\"type\":\"Grid\"},{\"attributes\":{\"bottom_units\":\"screen\",\"fill_alpha\":{\"value\":0.5},\"fill_color\":{\"value\":\"lightgrey\"},\"left_units\":\"screen\",\"level\":\"overlay\",\"line_alpha\":{\"value\":1.0},\"line_color\":{\"value\":\"black\"},\"line_dash\":[4,4],\"line_width\":{\"value\":2},\"plot\":null,\"render_mode\":\"css\",\"right_units\":\"screen\",\"top_units\":\"screen\"},\"id\":\"f310c877-deee-4eb9-a25a-0fd1d33d9744\",\"type\":\"BoxAnnotation\"},{\"attributes\":{},\"id\":\"571de648-e8b2-4315-a219-cb238a2329b8\",\"type\":\"SaveTool\"},{\"attributes\":{},\"id\":\"8eff33e0-e2fc-487a-b0ff-db5de73e481e\",\"type\":\"LinearScale\"},{\"attributes\":{\"overlay\":{\"id\":\"f310c877-deee-4eb9-a25a-0fd1d33d9744\",\"type\":\"BoxAnnotation\"}},\"id\":\"dc12be73-a627-4306-bd61-94ee45eb399e\",\"type\":\"BoxZoomTool\"},{\"attributes\":{\"fill_alpha\":{\"value\":0.6},\"fill_color\":{\"value\":\"orange\"},\"inner_radius\":{\"units\":\"data\",\"value\":0.1},\"line_alpha\":{\"value\":0.6},\"line_color\":{\"value\":\"orange\"},\"outer_radius\":{\"units\":\"data\",\"value\":0.25},\"x\":{\"field\":\"x\"},\"y\":{\"field\":\"y\"}},\"id\":\"8e913543-ab97-4fe8-aff9-c825b195e494\",\"type\":\"Annulus\"},{\"attributes\":{\"plot\":null,\"text\":\"\"},\"id\":\"4a8fbeee-bf19-4cd0-a486-c07329b1deb3\",\"type\":\"Title\"},{\"attributes\":{},\"id\":\"18504632-ee65-4575-a176-70285fa24f71\",\"type\":\"WheelZoomTool\"},{\"attributes\":{},\"id\":\"90992b3c-392e-44af-b888-d6ece945d5e2\",\"type\":\"ResetTool\"},{\"attributes\":{\"callback\":null},\"id\":\"d72a0eac-5209-4160-b5fb-f8b558671e3a\",\"type\":\"DataRange1d\"},{\"attributes\":{\"callback\":null,\"column_names\":[\"x\",\"y\"],\"data\":{\"x\":[1,2,3],\"y\":[1,2,3]}},\"id\":\"33141d75-36bb-4cf6-845d-0263b7c85600\",\"type\":\"ColumnDataSource\"},{\"attributes\":{},\"id\":\"f85e2187-cd41-4e56-aca5-f3b565f98261\",\"type\":\"HelpTool\"},{\"attributes\":{\"source\":{\"id\":\"33141d75-36bb-4cf6-845d-0263b7c85600\",\"type\":\"ColumnDataSource\"}},\"id\":\"858a1b31-4f28-4325-bd8c-87880d091d50\",\"type\":\"CDSView\"},{\"attributes\":{\"fill_alpha\":{\"value\":0.1},\"fill_color\":{\"value\":\"#1f77b4\"},\"inner_radius\":{\"units\":\"data\",\"value\":0.1},\"line_alpha\":{\"value\":0.1},\"line_color\":{\"value\":\"#1f77b4\"},\"outer_radius\":{\"units\":\"data\",\"value\":0.25},\"x\":{\"field\":\"x\"},\"y\":{\"field\":\"y\"}},\"id\":\"1058aa98-0811-4f1f-8b49-fb094d6d8fb5\",\"type\":\"Annulus\"},{\"attributes\":{\"active_drag\":\"auto\",\"active_inspect\":\"auto\",\"active_scroll\":\"auto\",\"active_tap\":\"auto\",\"tools\":[{\"id\":\"3ace4eb3-11a9-49a5-a77d-a84aecf7afa6\",\"type\":\"PanTool\"},{\"id\":\"18504632-ee65-4575-a176-70285fa24f71\",\"type\":\"WheelZoomTool\"},{\"id\":\"dc12be73-a627-4306-bd61-94ee45eb399e\",\"type\":\"BoxZoomTool\"},{\"id\":\"571de648-e8b2-4315-a219-cb238a2329b8\",\"type\":\"SaveTool\"},{\"id\":\"90992b3c-392e-44af-b888-d6ece945d5e2\",\"type\":\"ResetTool\"},{\"id\":\"f85e2187-cd41-4e56-aca5-f3b565f98261\",\"type\":\"HelpTool\"}]},\"id\":\"602e49b1-393c-44ef-aef0-8254cae7cc75\",\"type\":\"Toolbar\"},{\"attributes\":{},\"id\":\"a791bbd4-728a-4094-a25d-f9655be46ef3\",\"type\":\"BasicTickFormatter\"},{\"attributes\":{},\"id\":\"86083780-8ab8-4cd5-b1c2-752ad7c0361c\",\"type\":\"BasicTickFormatter\"},{\"attributes\":{\"dimension\":1,\"plot\":{\"id\":\"1f7f7b83-1137-4756-a3b5-3a307107e49e\",\"subtype\":\"Figure\",\"type\":\"Plot\"},\"ticker\":{\"id\":\"64c7f2ff-6600-4e95-8722-2ccbe9d24869\",\"type\":\"BasicTicker\"}},\"id\":\"064675c5-2b63-4908-827f-c8a07366e2df\",\"type\":\"Grid\"},{\"attributes\":{},\"id\":\"64c7f2ff-6600-4e95-8722-2ccbe9d24869\",\"type\":\"BasicTicker\"},{\"attributes\":{\"data_source\":{\"id\":\"33141d75-36bb-4cf6-845d-0263b7c85600\",\"type\":\"ColumnDataSource\"},\"glyph\":{\"id\":\"8e913543-ab97-4fe8-aff9-c825b195e494\",\"type\":\"Annulus\"},\"hover_glyph\":null,\"muted_glyph\":null,\"nonselection_glyph\":{\"id\":\"1058aa98-0811-4f1f-8b49-fb094d6d8fb5\",\"type\":\"Annulus\"},\"selection_glyph\":null,\"view\":{\"id\":\"858a1b31-4f28-4325-bd8c-87880d091d50\",\"type\":\"CDSView\"}},\"id\":\"d07f24f9-6522-44cc-8490-edd19d877524\",\"type\":\"GlyphRenderer\"},{\"attributes\":{\"below\":[{\"id\":\"ed1f4e2c-644a-4998-959e-b13cea40c81d\",\"type\":\"LinearAxis\"}],\"left\":[{\"id\":\"bc181aa2-7e5b-4b7b-9ecf-1d428763ae2b\",\"type\":\"LinearAxis\"}],\"plot_height\":400,\"plot_width\":400,\"renderers\":[{\"id\":\"ed1f4e2c-644a-4998-959e-b13cea40c81d\",\"type\":\"LinearAxis\"},{\"id\":\"ca539ec4-693c-4647-afd9-75e18169d8f1\",\"type\":\"Grid\"},{\"id\":\"bc181aa2-7e5b-4b7b-9ecf-1d428763ae2b\",\"type\":\"LinearAxis\"},{\"id\":\"064675c5-2b63-4908-827f-c8a07366e2df\",\"type\":\"Grid\"},{\"id\":\"f310c877-deee-4eb9-a25a-0fd1d33d9744\",\"type\":\"BoxAnnotation\"},{\"id\":\"d07f24f9-6522-44cc-8490-edd19d877524\",\"type\":\"GlyphRenderer\"}],\"title\":{\"id\":\"4a8fbeee-bf19-4cd0-a486-c07329b1deb3\",\"type\":\"Title\"},\"toolbar\":{\"id\":\"602e49b1-393c-44ef-aef0-8254cae7cc75\",\"type\":\"Toolbar\"},\"x_range\":{\"id\":\"6398ccef-edf1-46cd-8d1e-fb8786a21fe7\",\"type\":\"DataRange1d\"},\"x_scale\":{\"id\":\"8eff33e0-e2fc-487a-b0ff-db5de73e481e\",\"type\":\"LinearScale\"},\"y_range\":{\"id\":\"d72a0eac-5209-4160-b5fb-f8b558671e3a\",\"type\":\"DataRange1d\"},\"y_scale\":{\"id\":\"f554e2e6-8351-4183-bcfd-ab28008b4852\",\"type\":\"LinearScale\"}},\"id\":\"1f7f7b83-1137-4756-a3b5-3a307107e49e\",\"subtype\":\"Figure\",\"type\":\"Plot\"},{\"attributes\":{\"formatter\":{\"id\":\"86083780-8ab8-4cd5-b1c2-752ad7c0361c\",\"type\":\"BasicTickFormatter\"},\"plot\":{\"id\":\"1f7f7b83-1137-4756-a3b5-3a307107e49e\",\"subtype\":\"Figure\",\"type\":\"Plot\"},\"ticker\":{\"id\":\"64c7f2ff-6600-4e95-8722-2ccbe9d24869\",\"type\":\"BasicTicker\"}},\"id\":\"bc181aa2-7e5b-4b7b-9ecf-1d428763ae2b\",\"type\":\"LinearAxis\"},{\"attributes\":{\"callback\":null},\"id\":\"6398ccef-edf1-46cd-8d1e-fb8786a21fe7\",\"type\":\"DataRange1d\"},{\"attributes\":{},\"id\":\"6741320f-310b-4f82-946a-eca9b207a044\",\"type\":\"BasicTicker\"},{\"attributes\":{},\"id\":\"3ace4eb3-11a9-49a5-a77d-a84aecf7afa6\",\"type\":\"PanTool\"},{\"attributes\":{},\"id\":\"f554e2e6-8351-4183-bcfd-ab28008b4852\",\"type\":\"LinearScale\"}],\"root_ids\":[\"1f7f7b83-1137-4756-a3b5-3a307107e49e\"]},\"title\":\"Bokeh Application\",\"version\":\"0.12.13\"}};\n",
       "  var render_items = [{\"docid\":\"2d1cb719-77a5-4fd6-bda2-42f012b0da11\",\"elementid\":\"fed66e11-2523-4a05-a758-9013901b57b2\",\"modelid\":\"1f7f7b83-1137-4756-a3b5-3a307107e49e\"}];\n",
       "  root.Bokeh.embed.embed_items_notebook(docs_json, render_items);\n",
       "\n",
       "  }\n",
       "  if (root.Bokeh !== undefined) {\n",
       "    embed_document(root);\n",
       "  } else {\n",
       "    var attempts = 0;\n",
       "    var timer = setInterval(function(root) {\n",
       "      if (root.Bokeh !== undefined) {\n",
       "        embed_document(root);\n",
       "        clearInterval(timer);\n",
       "      }\n",
       "      attempts++;\n",
       "      if (attempts > 100) {\n",
       "        console.log(\"Bokeh: ERROR: Unable to run BokehJS code because BokehJS library is missing\")\n",
       "        clearInterval(timer);\n",
       "      }\n",
       "    }, 10, root)\n",
       "  }\n",
       "})(window);"
      ],
      "application/vnd.bokehjs_exec.v0+json": ""
     },
     "metadata": {
      "application/vnd.bokehjs_exec.v0+json": {
       "id": "1f7f7b83-1137-4756-a3b5-3a307107e49e"
      }
     },
     "output_type": "display_data"
    }
   ],
   "source": [
    "p = figure(plot_width=400, plot_height=400)\n",
    "p.annulus(x=[1, 2, 3], y=[1, 2, 3], \n",
    "          inner_radius=0.1, outer_radius=0.25,\n",
    "          color=\"orange\", alpha=0.6)\n",
    "\n",
    "show(p)"
   ]
  },
  {
   "cell_type": "markdown",
   "metadata": {},
   "source": [
    "### Specialized Curves\n",
    "### Combining Multiple Glyphs"
   ]
  },
  {
   "cell_type": "code",
   "execution_count": 39,
   "metadata": {},
   "outputs": [
    {
     "data": {
      "text/html": [
       "\n",
       "<div class=\"bk-root\">\n",
       "    <div class=\"bk-plotdiv\" id=\"fff2abaf-ea8a-4e49-9d35-5683b741d904\"></div>\n",
       "</div>"
      ]
     },
     "metadata": {},
     "output_type": "display_data"
    },
    {
     "data": {
      "application/javascript": [
       "(function(root) {\n",
       "  function embed_document(root) {\n",
       "    \n",
       "  var docs_json = {\"47bad1a1-d9d7-4b5b-8ed4-5ec7492ae1ae\":{\"roots\":{\"references\":[{\"attributes\":{},\"id\":\"deaf7c9c-7d10-441e-a49a-05bd5551147c\",\"type\":\"BasicTickFormatter\"},{\"attributes\":{\"callback\":null,\"column_names\":[\"x\",\"y\"],\"data\":{\"x\":[1,2,3,4,5],\"y\":[6,7,8,7,3]}},\"id\":\"3fc9fcc5-5256-4b06-8cb0-ef1464aefce0\",\"type\":\"ColumnDataSource\"},{\"attributes\":{\"formatter\":{\"id\":\"90763ab8-66b2-4ff2-972a-42a96346a7fb\",\"type\":\"BasicTickFormatter\"},\"plot\":{\"id\":\"c0a460f4-de0e-4014-97b8-108b89298e86\",\"subtype\":\"Figure\",\"type\":\"Plot\"},\"ticker\":{\"id\":\"71e3934b-2802-4097-bde9-9bcf2e0967be\",\"type\":\"BasicTicker\"}},\"id\":\"ae56667e-61df-4310-afb3-2159e206cb08\",\"type\":\"LinearAxis\"},{\"attributes\":{\"plot\":{\"id\":\"c0a460f4-de0e-4014-97b8-108b89298e86\",\"subtype\":\"Figure\",\"type\":\"Plot\"},\"ticker\":{\"id\":\"71e3934b-2802-4097-bde9-9bcf2e0967be\",\"type\":\"BasicTicker\"}},\"id\":\"839a9162-7cfa-4191-afbd-ffbd2f88c002\",\"type\":\"Grid\"},{\"attributes\":{\"active_drag\":\"auto\",\"active_inspect\":\"auto\",\"active_scroll\":\"auto\",\"active_tap\":\"auto\",\"tools\":[{\"id\":\"27066a90-2b05-4767-9ee8-266ec65f8869\",\"type\":\"PanTool\"},{\"id\":\"edff43b2-c075-494c-9be1-7f76349ee0d1\",\"type\":\"WheelZoomTool\"},{\"id\":\"05869df1-8782-4d5f-8342-47bad6459954\",\"type\":\"BoxZoomTool\"},{\"id\":\"6cec65b5-2e87-4fdc-b214-7e85bbe917c8\",\"type\":\"SaveTool\"},{\"id\":\"41441763-4421-484b-81b5-7dd17dd8dfe1\",\"type\":\"ResetTool\"},{\"id\":\"88051598-bdab-4ed6-b31d-2e8f50d4dd6e\",\"type\":\"HelpTool\"}]},\"id\":\"aa88161e-52cd-4d3f-a511-b6ba6bbb0c52\",\"type\":\"Toolbar\"},{\"attributes\":{\"below\":[{\"id\":\"ae56667e-61df-4310-afb3-2159e206cb08\",\"type\":\"LinearAxis\"}],\"left\":[{\"id\":\"e811fbc5-d3f8-407e-81d1-3bba7b146475\",\"type\":\"LinearAxis\"}],\"plot_height\":400,\"plot_width\":400,\"renderers\":[{\"id\":\"ae56667e-61df-4310-afb3-2159e206cb08\",\"type\":\"LinearAxis\"},{\"id\":\"839a9162-7cfa-4191-afbd-ffbd2f88c002\",\"type\":\"Grid\"},{\"id\":\"e811fbc5-d3f8-407e-81d1-3bba7b146475\",\"type\":\"LinearAxis\"},{\"id\":\"ecc0e7c3-5dac-444d-9b91-5e980cb192c6\",\"type\":\"Grid\"},{\"id\":\"49b08e49-383f-4697-b3c5-f3e23d067e62\",\"type\":\"BoxAnnotation\"},{\"id\":\"e7e97c59-cea9-45d4-b3f7-d6c9481998a8\",\"type\":\"GlyphRenderer\"},{\"id\":\"805e2b32-fde4-43be-9c2f-a75c0735665c\",\"type\":\"GlyphRenderer\"}],\"title\":{\"id\":\"e08cb450-4531-4dfb-85e9-04fc567ee7fa\",\"type\":\"Title\"},\"toolbar\":{\"id\":\"aa88161e-52cd-4d3f-a511-b6ba6bbb0c52\",\"type\":\"Toolbar\"},\"x_range\":{\"id\":\"7d291126-8896-4316-bd84-a8122e24063f\",\"type\":\"DataRange1d\"},\"x_scale\":{\"id\":\"e9f6f449-afc8-4c6a-bda0-43d5065cee94\",\"type\":\"LinearScale\"},\"y_range\":{\"id\":\"18bf5354-0a7b-4cc9-997d-aa957c46322e\",\"type\":\"DataRange1d\"},\"y_scale\":{\"id\":\"d6e7fabb-e0a1-4b36-937f-4c1fbc7115d5\",\"type\":\"LinearScale\"}},\"id\":\"c0a460f4-de0e-4014-97b8-108b89298e86\",\"subtype\":\"Figure\",\"type\":\"Plot\"},{\"attributes\":{},\"id\":\"6a351583-8d8a-4e89-b374-0b18ddc127c8\",\"type\":\"BasicTicker\"},{\"attributes\":{\"line_alpha\":0.1,\"line_color\":\"#1f77b4\",\"line_width\":2,\"x\":{\"field\":\"x\"},\"y\":{\"field\":\"y\"}},\"id\":\"680d5104-95a4-4573-9a08-0875f2a8717c\",\"type\":\"Line\"},{\"attributes\":{},\"id\":\"d6e7fabb-e0a1-4b36-937f-4c1fbc7115d5\",\"type\":\"LinearScale\"},{\"attributes\":{},\"id\":\"e9f6f449-afc8-4c6a-bda0-43d5065cee94\",\"type\":\"LinearScale\"},{\"attributes\":{\"callback\":null},\"id\":\"18bf5354-0a7b-4cc9-997d-aa957c46322e\",\"type\":\"DataRange1d\"},{\"attributes\":{},\"id\":\"27066a90-2b05-4767-9ee8-266ec65f8869\",\"type\":\"PanTool\"},{\"attributes\":{\"callback\":null},\"id\":\"7d291126-8896-4316-bd84-a8122e24063f\",\"type\":\"DataRange1d\"},{\"attributes\":{},\"id\":\"71e3934b-2802-4097-bde9-9bcf2e0967be\",\"type\":\"BasicTicker\"},{\"attributes\":{},\"id\":\"90763ab8-66b2-4ff2-972a-42a96346a7fb\",\"type\":\"BasicTickFormatter\"},{\"attributes\":{\"line_color\":\"#1f77b4\",\"line_width\":2,\"x\":{\"field\":\"x\"},\"y\":{\"field\":\"y\"}},\"id\":\"e0e17cc6-72d5-400c-b92f-ef110b56f65b\",\"type\":\"Line\"},{\"attributes\":{\"bottom_units\":\"screen\",\"fill_alpha\":{\"value\":0.5},\"fill_color\":{\"value\":\"lightgrey\"},\"left_units\":\"screen\",\"level\":\"overlay\",\"line_alpha\":{\"value\":1.0},\"line_color\":{\"value\":\"black\"},\"line_dash\":[4,4],\"line_width\":{\"value\":2},\"plot\":null,\"render_mode\":\"css\",\"right_units\":\"screen\",\"top_units\":\"screen\"},\"id\":\"49b08e49-383f-4697-b3c5-f3e23d067e62\",\"type\":\"BoxAnnotation\"},{\"attributes\":{\"formatter\":{\"id\":\"deaf7c9c-7d10-441e-a49a-05bd5551147c\",\"type\":\"BasicTickFormatter\"},\"plot\":{\"id\":\"c0a460f4-de0e-4014-97b8-108b89298e86\",\"subtype\":\"Figure\",\"type\":\"Plot\"},\"ticker\":{\"id\":\"6a351583-8d8a-4e89-b374-0b18ddc127c8\",\"type\":\"BasicTicker\"}},\"id\":\"e811fbc5-d3f8-407e-81d1-3bba7b146475\",\"type\":\"LinearAxis\"},{\"attributes\":{\"source\":{\"id\":\"3fc9fcc5-5256-4b06-8cb0-ef1464aefce0\",\"type\":\"ColumnDataSource\"}},\"id\":\"c3cb367f-f9ca-46d5-9cc7-fa5234e69b3e\",\"type\":\"CDSView\"},{\"attributes\":{\"data_source\":{\"id\":\"3fc9fcc5-5256-4b06-8cb0-ef1464aefce0\",\"type\":\"ColumnDataSource\"},\"glyph\":{\"id\":\"e0e17cc6-72d5-400c-b92f-ef110b56f65b\",\"type\":\"Line\"},\"hover_glyph\":null,\"muted_glyph\":null,\"nonselection_glyph\":{\"id\":\"680d5104-95a4-4573-9a08-0875f2a8717c\",\"type\":\"Line\"},\"selection_glyph\":null,\"view\":{\"id\":\"c3cb367f-f9ca-46d5-9cc7-fa5234e69b3e\",\"type\":\"CDSView\"}},\"id\":\"e7e97c59-cea9-45d4-b3f7-d6c9481998a8\",\"type\":\"GlyphRenderer\"},{\"attributes\":{\"dimension\":1,\"plot\":{\"id\":\"c0a460f4-de0e-4014-97b8-108b89298e86\",\"subtype\":\"Figure\",\"type\":\"Plot\"},\"ticker\":{\"id\":\"6a351583-8d8a-4e89-b374-0b18ddc127c8\",\"type\":\"BasicTicker\"}},\"id\":\"ecc0e7c3-5dac-444d-9b91-5e980cb192c6\",\"type\":\"Grid\"},{\"attributes\":{},\"id\":\"edff43b2-c075-494c-9be1-7f76349ee0d1\",\"type\":\"WheelZoomTool\"},{\"attributes\":{},\"id\":\"41441763-4421-484b-81b5-7dd17dd8dfe1\",\"type\":\"ResetTool\"},{\"attributes\":{\"fill_color\":{\"value\":\"white\"},\"line_color\":{\"value\":\"#1f77b4\"},\"size\":{\"units\":\"screen\",\"value\":8},\"x\":{\"field\":\"x\"},\"y\":{\"field\":\"y\"}},\"id\":\"04d9dc95-355a-4801-9695-0254189b6898\",\"type\":\"Circle\"},{\"attributes\":{},\"id\":\"6cec65b5-2e87-4fdc-b214-7e85bbe917c8\",\"type\":\"SaveTool\"},{\"attributes\":{\"overlay\":{\"id\":\"49b08e49-383f-4697-b3c5-f3e23d067e62\",\"type\":\"BoxAnnotation\"}},\"id\":\"05869df1-8782-4d5f-8342-47bad6459954\",\"type\":\"BoxZoomTool\"},{\"attributes\":{},\"id\":\"88051598-bdab-4ed6-b31d-2e8f50d4dd6e\",\"type\":\"HelpTool\"},{\"attributes\":{\"plot\":null,\"text\":\"\"},\"id\":\"e08cb450-4531-4dfb-85e9-04fc567ee7fa\",\"type\":\"Title\"},{\"attributes\":{\"source\":{\"id\":\"d38566cd-40e8-4e51-8026-2ec879fdecf1\",\"type\":\"ColumnDataSource\"}},\"id\":\"9a663a58-760f-4587-a738-37a46d1de684\",\"type\":\"CDSView\"},{\"attributes\":{\"fill_alpha\":{\"value\":0.1},\"fill_color\":{\"value\":\"#1f77b4\"},\"line_alpha\":{\"value\":0.1},\"line_color\":{\"value\":\"#1f77b4\"},\"size\":{\"units\":\"screen\",\"value\":8},\"x\":{\"field\":\"x\"},\"y\":{\"field\":\"y\"}},\"id\":\"2f464cf4-f186-43f3-ad90-3d49395dd9b6\",\"type\":\"Circle\"},{\"attributes\":{\"data_source\":{\"id\":\"d38566cd-40e8-4e51-8026-2ec879fdecf1\",\"type\":\"ColumnDataSource\"},\"glyph\":{\"id\":\"04d9dc95-355a-4801-9695-0254189b6898\",\"type\":\"Circle\"},\"hover_glyph\":null,\"muted_glyph\":null,\"nonselection_glyph\":{\"id\":\"2f464cf4-f186-43f3-ad90-3d49395dd9b6\",\"type\":\"Circle\"},\"selection_glyph\":null,\"view\":{\"id\":\"9a663a58-760f-4587-a738-37a46d1de684\",\"type\":\"CDSView\"}},\"id\":\"805e2b32-fde4-43be-9c2f-a75c0735665c\",\"type\":\"GlyphRenderer\"},{\"attributes\":{\"callback\":null,\"column_names\":[\"x\",\"y\"],\"data\":{\"x\":[1,2,3,4,5],\"y\":[6,7,8,7,3]}},\"id\":\"d38566cd-40e8-4e51-8026-2ec879fdecf1\",\"type\":\"ColumnDataSource\"}],\"root_ids\":[\"c0a460f4-de0e-4014-97b8-108b89298e86\"]},\"title\":\"Bokeh Application\",\"version\":\"0.12.13\"}};\n",
       "  var render_items = [{\"docid\":\"47bad1a1-d9d7-4b5b-8ed4-5ec7492ae1ae\",\"elementid\":\"fff2abaf-ea8a-4e49-9d35-5683b741d904\",\"modelid\":\"c0a460f4-de0e-4014-97b8-108b89298e86\"}];\n",
       "  root.Bokeh.embed.embed_items_notebook(docs_json, render_items);\n",
       "\n",
       "  }\n",
       "  if (root.Bokeh !== undefined) {\n",
       "    embed_document(root);\n",
       "  } else {\n",
       "    var attempts = 0;\n",
       "    var timer = setInterval(function(root) {\n",
       "      if (root.Bokeh !== undefined) {\n",
       "        embed_document(root);\n",
       "        clearInterval(timer);\n",
       "      }\n",
       "      attempts++;\n",
       "      if (attempts > 100) {\n",
       "        console.log(\"Bokeh: ERROR: Unable to run BokehJS code because BokehJS library is missing\")\n",
       "        clearInterval(timer);\n",
       "      }\n",
       "    }, 10, root)\n",
       "  }\n",
       "})(window);"
      ],
      "application/vnd.bokehjs_exec.v0+json": ""
     },
     "metadata": {
      "application/vnd.bokehjs_exec.v0+json": {
       "id": "c0a460f4-de0e-4014-97b8-108b89298e86"
      }
     },
     "output_type": "display_data"
    }
   ],
   "source": [
    "x = [1, 2, 3, 4, 5]\n",
    "y = [6, 7, 8, 7, 3]\n",
    "\n",
    "p = figure(plot_width=400, plot_height=400)\n",
    "\n",
    "# add both a line and circles on the same plot\n",
    "p.line(x, y, line_width=2)\n",
    "p.circle(x, y, fill_color=\"white\", size=8)\n",
    "\n",
    "show(p)"
   ]
  },
  {
   "cell_type": "markdown",
   "metadata": {},
   "source": [
    "### Setting Ranges"
   ]
  },
  {
   "cell_type": "code",
   "execution_count": 50,
   "metadata": {},
   "outputs": [
    {
     "data": {
      "text/html": [
       "\n",
       "<div class=\"bk-root\">\n",
       "    <div class=\"bk-plotdiv\" id=\"5cba71b1-0faf-42cf-bb5b-8295eda04018\"></div>\n",
       "</div>"
      ]
     },
     "metadata": {},
     "output_type": "display_data"
    },
    {
     "data": {
      "application/javascript": [
       "(function(root) {\n",
       "  function embed_document(root) {\n",
       "    \n",
       "  var docs_json = {\"27ee5e4e-fce7-4b7a-897e-109bf4eb73df\":{\"roots\":{\"references\":[{\"attributes\":{\"data_source\":{\"id\":\"4b343343-1046-427e-bd8a-2103ace1a0ab\",\"type\":\"ColumnDataSource\"},\"glyph\":{\"id\":\"49d8a39a-a226-49b0-b0c5-a1bc8345322f\",\"type\":\"Circle\"},\"hover_glyph\":null,\"muted_glyph\":null,\"nonselection_glyph\":{\"id\":\"fe6a8438-1f7d-4433-943e-6cf332a342ec\",\"type\":\"Circle\"},\"selection_glyph\":null,\"view\":{\"id\":\"9cbca252-450c-433b-9e4c-a6de40ce26a0\",\"type\":\"CDSView\"}},\"id\":\"b7211e68-04a1-4f0f-9146-394506e51496\",\"type\":\"GlyphRenderer\"},{\"attributes\":{},\"id\":\"845e7aed-cba8-47b0-9bf6-fc22708342af\",\"type\":\"WheelZoomTool\"},{\"attributes\":{\"formatter\":{\"id\":\"706625dc-7b99-4f4e-8300-2174a07b0ce2\",\"type\":\"BasicTickFormatter\"},\"plot\":{\"id\":\"9e01639a-ab35-4369-80e9-94c086bf8ad6\",\"subtype\":\"Figure\",\"type\":\"Plot\"},\"ticker\":{\"id\":\"ba218437-19b8-4f20-be57-3d657692c1f0\",\"type\":\"BasicTicker\"}},\"id\":\"63d9c9d3-f145-4a4c-93bd-d4d2ab6e6636\",\"type\":\"LinearAxis\"},{\"attributes\":{\"active_drag\":\"auto\",\"active_inspect\":\"auto\",\"active_scroll\":\"auto\",\"active_tap\":\"auto\",\"tools\":[{\"id\":\"66635218-a9e6-454e-8509-854bbf189e5c\",\"type\":\"PanTool\"},{\"id\":\"845e7aed-cba8-47b0-9bf6-fc22708342af\",\"type\":\"WheelZoomTool\"},{\"id\":\"1c93e575-689d-4d0c-a7d2-9dd4fa825f10\",\"type\":\"BoxZoomTool\"},{\"id\":\"61b803c5-40b4-43e8-8550-0880a9be1ef7\",\"type\":\"SaveTool\"},{\"id\":\"364d7f18-1378-4b19-8d5b-6b2a8155714c\",\"type\":\"ResetTool\"},{\"id\":\"7aeb9ed0-aba6-4104-b746-3767b3c538fc\",\"type\":\"HelpTool\"}]},\"id\":\"276c80d2-1781-4f5e-917d-dfeea4e41311\",\"type\":\"Toolbar\"},{\"attributes\":{},\"id\":\"246e7ed2-4591-4c7c-81f6-2d2d396d7132\",\"type\":\"LinearScale\"},{\"attributes\":{\"plot\":{\"id\":\"9e01639a-ab35-4369-80e9-94c086bf8ad6\",\"subtype\":\"Figure\",\"type\":\"Plot\"},\"ticker\":{\"id\":\"0f4ade94-3056-4124-8e3b-1292f8617caa\",\"type\":\"BasicTicker\"}},\"id\":\"f2a4feee-4ecd-40f9-91a1-1af49c694da3\",\"type\":\"Grid\"},{\"attributes\":{\"callback\":null,\"end\":15},\"id\":\"c4372fd9-50b9-49c8-8e4a-daedaa5787c4\",\"type\":\"Range1d\"},{\"attributes\":{},\"id\":\"364d7f18-1378-4b19-8d5b-6b2a8155714c\",\"type\":\"ResetTool\"},{\"attributes\":{\"bottom_units\":\"screen\",\"fill_alpha\":{\"value\":0.5},\"fill_color\":{\"value\":\"lightgrey\"},\"left_units\":\"screen\",\"level\":\"overlay\",\"line_alpha\":{\"value\":1.0},\"line_color\":{\"value\":\"black\"},\"line_dash\":[4,4],\"line_width\":{\"value\":2},\"plot\":null,\"render_mode\":\"css\",\"right_units\":\"screen\",\"top_units\":\"screen\"},\"id\":\"60bac992-a94e-491b-843b-c66537ff28cd\",\"type\":\"BoxAnnotation\"},{\"attributes\":{},\"id\":\"0f4ade94-3056-4124-8e3b-1292f8617caa\",\"type\":\"BasicTicker\"},{\"attributes\":{\"callback\":null,\"end\":20},\"id\":\"fd1b8e46-1cba-4dc6-98dd-715325eaa187\",\"type\":\"Range1d\"},{\"attributes\":{},\"id\":\"61b803c5-40b4-43e8-8550-0880a9be1ef7\",\"type\":\"SaveTool\"},{\"attributes\":{\"overlay\":{\"id\":\"60bac992-a94e-491b-843b-c66537ff28cd\",\"type\":\"BoxAnnotation\"}},\"id\":\"1c93e575-689d-4d0c-a7d2-9dd4fa825f10\",\"type\":\"BoxZoomTool\"},{\"attributes\":{\"dimension\":1,\"plot\":{\"id\":\"9e01639a-ab35-4369-80e9-94c086bf8ad6\",\"subtype\":\"Figure\",\"type\":\"Plot\"},\"ticker\":{\"id\":\"ba218437-19b8-4f20-be57-3d657692c1f0\",\"type\":\"BasicTicker\"}},\"id\":\"42bfe261-6998-4127-b0d9-d319cd861c6a\",\"type\":\"Grid\"},{\"attributes\":{},\"id\":\"b1c83379-bb93-40fc-8940-79c2e7d67fd4\",\"type\":\"BasicTickFormatter\"},{\"attributes\":{\"fill_color\":{\"value\":\"#1f77b4\"},\"line_color\":{\"value\":\"#1f77b4\"},\"size\":{\"units\":\"screen\",\"value\":10},\"x\":{\"field\":\"x\"},\"y\":{\"field\":\"y\"}},\"id\":\"49d8a39a-a226-49b0-b0c5-a1bc8345322f\",\"type\":\"Circle\"},{\"attributes\":{},\"id\":\"3eeed416-fae9-4c55-a33b-64a359fd6518\",\"type\":\"LinearScale\"},{\"attributes\":{\"plot\":null,\"text\":\"\"},\"id\":\"dbffd94b-7790-4b32-ac83-fb5e40c0f36e\",\"type\":\"Title\"},{\"attributes\":{},\"id\":\"66635218-a9e6-454e-8509-854bbf189e5c\",\"type\":\"PanTool\"},{\"attributes\":{\"callback\":null,\"column_names\":[\"x\",\"y\"],\"data\":{\"x\":[1,2,3,4,5],\"y\":[2,5,8,2,7]}},\"id\":\"4b343343-1046-427e-bd8a-2103ace1a0ab\",\"type\":\"ColumnDataSource\"},{\"attributes\":{},\"id\":\"ba218437-19b8-4f20-be57-3d657692c1f0\",\"type\":\"BasicTicker\"},{\"attributes\":{\"source\":{\"id\":\"4b343343-1046-427e-bd8a-2103ace1a0ab\",\"type\":\"ColumnDataSource\"}},\"id\":\"9cbca252-450c-433b-9e4c-a6de40ce26a0\",\"type\":\"CDSView\"},{\"attributes\":{\"below\":[{\"id\":\"09ec4c9a-20d2-406a-9634-3667aa13eaf8\",\"type\":\"LinearAxis\"}],\"left\":[{\"id\":\"63d9c9d3-f145-4a4c-93bd-d4d2ab6e6636\",\"type\":\"LinearAxis\"}],\"plot_height\":400,\"plot_width\":400,\"renderers\":[{\"id\":\"09ec4c9a-20d2-406a-9634-3667aa13eaf8\",\"type\":\"LinearAxis\"},{\"id\":\"f2a4feee-4ecd-40f9-91a1-1af49c694da3\",\"type\":\"Grid\"},{\"id\":\"63d9c9d3-f145-4a4c-93bd-d4d2ab6e6636\",\"type\":\"LinearAxis\"},{\"id\":\"42bfe261-6998-4127-b0d9-d319cd861c6a\",\"type\":\"Grid\"},{\"id\":\"60bac992-a94e-491b-843b-c66537ff28cd\",\"type\":\"BoxAnnotation\"},{\"id\":\"b7211e68-04a1-4f0f-9146-394506e51496\",\"type\":\"GlyphRenderer\"}],\"title\":{\"id\":\"dbffd94b-7790-4b32-ac83-fb5e40c0f36e\",\"type\":\"Title\"},\"toolbar\":{\"id\":\"276c80d2-1781-4f5e-917d-dfeea4e41311\",\"type\":\"Toolbar\"},\"x_range\":{\"id\":\"fd1b8e46-1cba-4dc6-98dd-715325eaa187\",\"type\":\"Range1d\"},\"x_scale\":{\"id\":\"246e7ed2-4591-4c7c-81f6-2d2d396d7132\",\"type\":\"LinearScale\"},\"y_range\":{\"id\":\"c4372fd9-50b9-49c8-8e4a-daedaa5787c4\",\"type\":\"Range1d\"},\"y_scale\":{\"id\":\"3eeed416-fae9-4c55-a33b-64a359fd6518\",\"type\":\"LinearScale\"}},\"id\":\"9e01639a-ab35-4369-80e9-94c086bf8ad6\",\"subtype\":\"Figure\",\"type\":\"Plot\"},{\"attributes\":{},\"id\":\"7aeb9ed0-aba6-4104-b746-3767b3c538fc\",\"type\":\"HelpTool\"},{\"attributes\":{},\"id\":\"706625dc-7b99-4f4e-8300-2174a07b0ce2\",\"type\":\"BasicTickFormatter\"},{\"attributes\":{\"formatter\":{\"id\":\"b1c83379-bb93-40fc-8940-79c2e7d67fd4\",\"type\":\"BasicTickFormatter\"},\"plot\":{\"id\":\"9e01639a-ab35-4369-80e9-94c086bf8ad6\",\"subtype\":\"Figure\",\"type\":\"Plot\"},\"ticker\":{\"id\":\"0f4ade94-3056-4124-8e3b-1292f8617caa\",\"type\":\"BasicTicker\"}},\"id\":\"09ec4c9a-20d2-406a-9634-3667aa13eaf8\",\"type\":\"LinearAxis\"},{\"attributes\":{\"fill_alpha\":{\"value\":0.1},\"fill_color\":{\"value\":\"#1f77b4\"},\"line_alpha\":{\"value\":0.1},\"line_color\":{\"value\":\"#1f77b4\"},\"size\":{\"units\":\"screen\",\"value\":10},\"x\":{\"field\":\"x\"},\"y\":{\"field\":\"y\"}},\"id\":\"fe6a8438-1f7d-4433-943e-6cf332a342ec\",\"type\":\"Circle\"}],\"root_ids\":[\"9e01639a-ab35-4369-80e9-94c086bf8ad6\"]},\"title\":\"Bokeh Application\",\"version\":\"0.12.13\"}};\n",
       "  var render_items = [{\"docid\":\"27ee5e4e-fce7-4b7a-897e-109bf4eb73df\",\"elementid\":\"5cba71b1-0faf-42cf-bb5b-8295eda04018\",\"modelid\":\"9e01639a-ab35-4369-80e9-94c086bf8ad6\"}];\n",
       "  root.Bokeh.embed.embed_items_notebook(docs_json, render_items);\n",
       "\n",
       "  }\n",
       "  if (root.Bokeh !== undefined) {\n",
       "    embed_document(root);\n",
       "  } else {\n",
       "    var attempts = 0;\n",
       "    var timer = setInterval(function(root) {\n",
       "      if (root.Bokeh !== undefined) {\n",
       "        embed_document(root);\n",
       "        clearInterval(timer);\n",
       "      }\n",
       "      attempts++;\n",
       "      if (attempts > 100) {\n",
       "        console.log(\"Bokeh: ERROR: Unable to run BokehJS code because BokehJS library is missing\")\n",
       "        clearInterval(timer);\n",
       "      }\n",
       "    }, 10, root)\n",
       "  }\n",
       "})(window);"
      ],
      "application/vnd.bokehjs_exec.v0+json": ""
     },
     "metadata": {
      "application/vnd.bokehjs_exec.v0+json": {
       "id": "9e01639a-ab35-4369-80e9-94c086bf8ad6"
      }
     },
     "output_type": "display_data"
    }
   ],
   "source": [
    "from bokeh.models import Range1d\n",
    "\n",
    "# create a new plot with a range set with a tuple\n",
    "p = figure(plot_width=400, plot_height=400, x_range=(0, 20))\n",
    "\n",
    "# set a range using a Range1d\n",
    "# p.x_range = Range1d(0, 100)\n",
    "p.y_range = Range1d(0, 15)\n",
    "\n",
    "p.circle([1, 2, 3, 4, 5], [2, 5, 8, 2, 7], size=10)\n",
    "\n",
    "show(p)"
   ]
  },
  {
   "cell_type": "markdown",
   "metadata": {},
   "source": [
    "### Specifying Axis Types"
   ]
  },
  {
   "cell_type": "markdown",
   "metadata": {},
   "source": [
    "### Categorical Axes"
   ]
  },
  {
   "cell_type": "code",
   "execution_count": 53,
   "metadata": {},
   "outputs": [
    {
     "data": {
      "text/html": [
       "\n",
       "<div class=\"bk-root\">\n",
       "    <div class=\"bk-plotdiv\" id=\"60037636-38c9-4823-a7c5-0aca02b1a373\"></div>\n",
       "</div>"
      ]
     },
     "metadata": {},
     "output_type": "display_data"
    },
    {
     "data": {
      "application/javascript": [
       "(function(root) {\n",
       "  function embed_document(root) {\n",
       "    \n",
       "  var docs_json = {\"fe6021f9-2157-475d-9daa-b64de3240ab6\":{\"roots\":{\"references\":[{\"attributes\":{\"plot\":{\"id\":\"ed6a739c-ef98-4215-8132-5bbafe84489c\",\"subtype\":\"Figure\",\"type\":\"Plot\"},\"ticker\":{\"id\":\"95a4310f-f63a-46b8-af58-f562df397390\",\"type\":\"BasicTicker\"}},\"id\":\"7f4be1b5-d0bb-4397-ba88-dd0c9022f4a3\",\"type\":\"Grid\"},{\"attributes\":{},\"id\":\"c86a0bc6-f5cb-472c-99d8-cb5716141960\",\"type\":\"BasicTickFormatter\"},{\"attributes\":{\"formatter\":{\"id\":\"b44a55da-75f7-4f0e-81c1-e9307ca98939\",\"type\":\"CategoricalTickFormatter\"},\"plot\":{\"id\":\"ed6a739c-ef98-4215-8132-5bbafe84489c\",\"subtype\":\"Figure\",\"type\":\"Plot\"},\"ticker\":{\"id\":\"d2e894ac-cb81-4b6a-b81a-d2de316f8142\",\"type\":\"CategoricalTicker\"}},\"id\":\"6853b63f-67ae-4114-90e3-ce4d13c67355\",\"type\":\"CategoricalAxis\"},{\"attributes\":{\"callback\":null,\"factors\":[\"a\",\"b\",\"c\",\"d\",\"e\",\"f\",\"g\",\"h\"]},\"id\":\"6f471f03-2512-4c35-a544-694e6371a646\",\"type\":\"FactorRange\"},{\"attributes\":{\"fill_color\":{\"value\":\"orange\"},\"line_color\":{\"value\":\"green\"},\"line_width\":{\"value\":3},\"size\":{\"units\":\"screen\",\"value\":15},\"x\":{\"field\":\"x\"},\"y\":{\"field\":\"y\"}},\"id\":\"222c5b34-da82-4562-8066-87cc1802f6e2\",\"type\":\"Circle\"},{\"attributes\":{},\"id\":\"d2e894ac-cb81-4b6a-b81a-d2de316f8142\",\"type\":\"CategoricalTicker\"},{\"attributes\":{\"dimension\":1,\"plot\":{\"id\":\"ed6a739c-ef98-4215-8132-5bbafe84489c\",\"subtype\":\"Figure\",\"type\":\"Plot\"},\"ticker\":{\"id\":\"d2e894ac-cb81-4b6a-b81a-d2de316f8142\",\"type\":\"CategoricalTicker\"}},\"id\":\"ee5e4338-c6b2-40ee-8c7d-e876b79e926a\",\"type\":\"Grid\"},{\"attributes\":{\"data_source\":{\"id\":\"8bc9529a-570a-494d-af40-0caace65cc8e\",\"type\":\"ColumnDataSource\"},\"glyph\":{\"id\":\"222c5b34-da82-4562-8066-87cc1802f6e2\",\"type\":\"Circle\"},\"hover_glyph\":null,\"muted_glyph\":null,\"nonselection_glyph\":{\"id\":\"45c90941-cda6-485e-991f-323a367459c0\",\"type\":\"Circle\"},\"selection_glyph\":null,\"view\":{\"id\":\"45d068e8-c5d4-4e73-9ab2-55f06712f187\",\"type\":\"CDSView\"}},\"id\":\"2febf5c9-6e72-45db-bd7e-daeb3b39233f\",\"type\":\"GlyphRenderer\"},{\"attributes\":{\"fill_alpha\":{\"value\":0.1},\"fill_color\":{\"value\":\"#1f77b4\"},\"line_alpha\":{\"value\":0.1},\"line_color\":{\"value\":\"#1f77b4\"},\"line_width\":{\"value\":3},\"size\":{\"units\":\"screen\",\"value\":15},\"x\":{\"field\":\"x\"},\"y\":{\"field\":\"y\"}},\"id\":\"45c90941-cda6-485e-991f-323a367459c0\",\"type\":\"Circle\"},{\"attributes\":{},\"id\":\"def16105-14cd-46d0-bd0c-e68c2440768c\",\"type\":\"CategoricalScale\"},{\"attributes\":{},\"id\":\"b44a55da-75f7-4f0e-81c1-e9307ca98939\",\"type\":\"CategoricalTickFormatter\"},{\"attributes\":{\"source\":{\"id\":\"8bc9529a-570a-494d-af40-0caace65cc8e\",\"type\":\"ColumnDataSource\"}},\"id\":\"45d068e8-c5d4-4e73-9ab2-55f06712f187\",\"type\":\"CDSView\"},{\"attributes\":{\"bottom_units\":\"screen\",\"fill_alpha\":{\"value\":0.5},\"fill_color\":{\"value\":\"lightgrey\"},\"left_units\":\"screen\",\"level\":\"overlay\",\"line_alpha\":{\"value\":1.0},\"line_color\":{\"value\":\"black\"},\"line_dash\":[4,4],\"line_width\":{\"value\":2},\"plot\":null,\"render_mode\":\"css\",\"right_units\":\"screen\",\"top_units\":\"screen\"},\"id\":\"623e5b8b-a9d9-4c5d-92d6-3b5779895557\",\"type\":\"BoxAnnotation\"},{\"attributes\":{\"plot\":null,\"text\":\"\"},\"id\":\"eaf467f9-33c8-4dd4-b221-b4f631a6d994\",\"type\":\"Title\"},{\"attributes\":{},\"id\":\"62b2a89c-86ef-449f-a7aa-0edc2c75db62\",\"type\":\"PanTool\"},{\"attributes\":{},\"id\":\"05f0bc4f-da33-44a2-ba99-b73419fde527\",\"type\":\"LinearScale\"},{\"attributes\":{},\"id\":\"95a4310f-f63a-46b8-af58-f562df397390\",\"type\":\"BasicTicker\"},{\"attributes\":{\"below\":[{\"id\":\"5e9a07da-591a-422d-9637-7095ad1c79e2\",\"type\":\"LinearAxis\"}],\"left\":[{\"id\":\"6853b63f-67ae-4114-90e3-ce4d13c67355\",\"type\":\"CategoricalAxis\"}],\"renderers\":[{\"id\":\"5e9a07da-591a-422d-9637-7095ad1c79e2\",\"type\":\"LinearAxis\"},{\"id\":\"7f4be1b5-d0bb-4397-ba88-dd0c9022f4a3\",\"type\":\"Grid\"},{\"id\":\"6853b63f-67ae-4114-90e3-ce4d13c67355\",\"type\":\"CategoricalAxis\"},{\"id\":\"ee5e4338-c6b2-40ee-8c7d-e876b79e926a\",\"type\":\"Grid\"},{\"id\":\"623e5b8b-a9d9-4c5d-92d6-3b5779895557\",\"type\":\"BoxAnnotation\"},{\"id\":\"2febf5c9-6e72-45db-bd7e-daeb3b39233f\",\"type\":\"GlyphRenderer\"}],\"title\":{\"id\":\"eaf467f9-33c8-4dd4-b221-b4f631a6d994\",\"type\":\"Title\"},\"toolbar\":{\"id\":\"b1b7ef15-cf52-4c4a-9901-2e304ea50026\",\"type\":\"Toolbar\"},\"x_range\":{\"id\":\"1d4dd1d8-86d0-4d54-8d7d-d70c14a41217\",\"type\":\"DataRange1d\"},\"x_scale\":{\"id\":\"05f0bc4f-da33-44a2-ba99-b73419fde527\",\"type\":\"LinearScale\"},\"y_range\":{\"id\":\"6f471f03-2512-4c35-a544-694e6371a646\",\"type\":\"FactorRange\"},\"y_scale\":{\"id\":\"def16105-14cd-46d0-bd0c-e68c2440768c\",\"type\":\"CategoricalScale\"}},\"id\":\"ed6a739c-ef98-4215-8132-5bbafe84489c\",\"subtype\":\"Figure\",\"type\":\"Plot\"},{\"attributes\":{},\"id\":\"95fdd10e-6ff9-49cb-9ef3-737008ffbee2\",\"type\":\"WheelZoomTool\"},{\"attributes\":{\"overlay\":{\"id\":\"623e5b8b-a9d9-4c5d-92d6-3b5779895557\",\"type\":\"BoxAnnotation\"}},\"id\":\"5fc6e8aa-17a4-4b60-a44e-b2d32810c26d\",\"type\":\"BoxZoomTool\"},{\"attributes\":{\"callback\":null},\"id\":\"1d4dd1d8-86d0-4d54-8d7d-d70c14a41217\",\"type\":\"DataRange1d\"},{\"attributes\":{},\"id\":\"b6d41c4e-3df7-44ce-9507-19e4a28bb43f\",\"type\":\"SaveTool\"},{\"attributes\":{\"active_drag\":\"auto\",\"active_inspect\":\"auto\",\"active_scroll\":\"auto\",\"active_tap\":\"auto\",\"tools\":[{\"id\":\"62b2a89c-86ef-449f-a7aa-0edc2c75db62\",\"type\":\"PanTool\"},{\"id\":\"95fdd10e-6ff9-49cb-9ef3-737008ffbee2\",\"type\":\"WheelZoomTool\"},{\"id\":\"5fc6e8aa-17a4-4b60-a44e-b2d32810c26d\",\"type\":\"BoxZoomTool\"},{\"id\":\"b6d41c4e-3df7-44ce-9507-19e4a28bb43f\",\"type\":\"SaveTool\"},{\"id\":\"109e3bf9-934f-4700-99c1-fa8002fb2bc4\",\"type\":\"ResetTool\"},{\"id\":\"ca8a120e-0f29-4a94-8219-36ec34152fa2\",\"type\":\"HelpTool\"}]},\"id\":\"b1b7ef15-cf52-4c4a-9901-2e304ea50026\",\"type\":\"Toolbar\"},{\"attributes\":{},\"id\":\"109e3bf9-934f-4700-99c1-fa8002fb2bc4\",\"type\":\"ResetTool\"},{\"attributes\":{\"formatter\":{\"id\":\"c86a0bc6-f5cb-472c-99d8-cb5716141960\",\"type\":\"BasicTickFormatter\"},\"plot\":{\"id\":\"ed6a739c-ef98-4215-8132-5bbafe84489c\",\"subtype\":\"Figure\",\"type\":\"Plot\"},\"ticker\":{\"id\":\"95a4310f-f63a-46b8-af58-f562df397390\",\"type\":\"BasicTicker\"}},\"id\":\"5e9a07da-591a-422d-9637-7095ad1c79e2\",\"type\":\"LinearAxis\"},{\"attributes\":{},\"id\":\"ca8a120e-0f29-4a94-8219-36ec34152fa2\",\"type\":\"HelpTool\"},{\"attributes\":{\"callback\":null,\"column_names\":[\"x\",\"y\"],\"data\":{\"x\":[50,40,65,10,25,37,80,60],\"y\":[\"a\",\"b\",\"c\",\"d\",\"e\",\"f\",\"g\",\"h\"]}},\"id\":\"8bc9529a-570a-494d-af40-0caace65cc8e\",\"type\":\"ColumnDataSource\"}],\"root_ids\":[\"ed6a739c-ef98-4215-8132-5bbafe84489c\"]},\"title\":\"Bokeh Application\",\"version\":\"0.12.13\"}};\n",
       "  var render_items = [{\"docid\":\"fe6021f9-2157-475d-9daa-b64de3240ab6\",\"elementid\":\"60037636-38c9-4823-a7c5-0aca02b1a373\",\"modelid\":\"ed6a739c-ef98-4215-8132-5bbafe84489c\"}];\n",
       "  root.Bokeh.embed.embed_items_notebook(docs_json, render_items);\n",
       "\n",
       "  }\n",
       "  if (root.Bokeh !== undefined) {\n",
       "    embed_document(root);\n",
       "  } else {\n",
       "    var attempts = 0;\n",
       "    var timer = setInterval(function(root) {\n",
       "      if (root.Bokeh !== undefined) {\n",
       "        embed_document(root);\n",
       "        clearInterval(timer);\n",
       "      }\n",
       "      attempts++;\n",
       "      if (attempts > 100) {\n",
       "        console.log(\"Bokeh: ERROR: Unable to run BokehJS code because BokehJS library is missing\")\n",
       "        clearInterval(timer);\n",
       "      }\n",
       "    }, 10, root)\n",
       "  }\n",
       "})(window);"
      ],
      "application/vnd.bokehjs_exec.v0+json": ""
     },
     "metadata": {
      "application/vnd.bokehjs_exec.v0+json": {
       "id": "ed6a739c-ef98-4215-8132-5bbafe84489c"
      }
     },
     "output_type": "display_data"
    }
   ],
   "source": [
    "factors = [\"a\", \"b\", \"c\", \"d\", \"e\", \"f\", \"g\", \"h\"]\n",
    "x = [50, 40, 65, 10, 25, 37, 80, 60]\n",
    "\n",
    "p = figure(y_range=factors)\n",
    "\n",
    "p.circle(x, factors, \n",
    "         size=15, line_width=3,\n",
    "         fill_color=\"orange\", line_color=\"green\")\n",
    "\n",
    "show(p)"
   ]
  },
  {
   "cell_type": "markdown",
   "metadata": {},
   "source": [
    "### Datetime Axes"
   ]
  },
  {
   "cell_type": "code",
   "execution_count": 60,
   "metadata": {},
   "outputs": [
    {
     "data": {
      "text/html": [
       "\n",
       "<div class=\"bk-root\">\n",
       "    <div class=\"bk-plotdiv\" id=\"e1391e4c-96d9-4b3f-8835-726ee38aa250\"></div>\n",
       "</div>"
      ]
     },
     "metadata": {},
     "output_type": "display_data"
    },
    {
     "data": {
      "application/javascript": [
       "(function(root) {\n",
       "  function embed_document(root) {\n",
       "    \n",
       "  var docs_json = {\"a20c4a7e-6b08-4372-8c95-d84e7f73c0c6\":{\"roots\":{\"references\":[{\"attributes\":{},\"id\":\"abddd930-5efa-4714-90dc-f3ed3a699cdc\",\"type\":\"LinearScale\"},{\"attributes\":{\"callback\":null},\"id\":\"907ac68c-5266-45a7-8207-e7c5157f7aa9\",\"type\":\"DataRange1d\"},{\"attributes\":{},\"id\":\"d94f74dd-64be-42bf-8dc2-e809125518fa\",\"type\":\"BasicTicker\"},{\"attributes\":{\"line_alpha\":0.5,\"line_color\":\"navy\",\"x\":{\"field\":\"x\"},\"y\":{\"field\":\"y\"}},\"id\":\"f1090402-3ee7-4e82-9e0f-4d1cdb670f0d\",\"type\":\"Line\"},{\"attributes\":{\"dimension\":1,\"plot\":{\"id\":\"d3356683-39fd-4c7c-987f-635a0b783bdb\",\"subtype\":\"Figure\",\"type\":\"Plot\"},\"ticker\":{\"id\":\"d94f74dd-64be-42bf-8dc2-e809125518fa\",\"type\":\"BasicTicker\"}},\"id\":\"172108c8-7ade-49d1-86d0-8cbd52cb5d68\",\"type\":\"Grid\"},{\"attributes\":{\"formatter\":{\"id\":\"7882d663-9ef0-4a92-b2ff-3a67461623db\",\"type\":\"BasicTickFormatter\"},\"plot\":{\"id\":\"d3356683-39fd-4c7c-987f-635a0b783bdb\",\"subtype\":\"Figure\",\"type\":\"Plot\"},\"ticker\":{\"id\":\"d94f74dd-64be-42bf-8dc2-e809125518fa\",\"type\":\"BasicTicker\"}},\"id\":\"6390b159-674c-4842-a365-b1077afd0511\",\"type\":\"LinearAxis\"},{\"attributes\":{},\"id\":\"012f754a-4ca0-4d63-b3a3-b1c0dd971ba0\",\"type\":\"PanTool\"},{\"attributes\":{\"bottom_units\":\"screen\",\"fill_alpha\":{\"value\":0.5},\"fill_color\":{\"value\":\"lightgrey\"},\"left_units\":\"screen\",\"level\":\"overlay\",\"line_alpha\":{\"value\":1.0},\"line_color\":{\"value\":\"black\"},\"line_dash\":[4,4],\"line_width\":{\"value\":2},\"plot\":null,\"render_mode\":\"css\",\"right_units\":\"screen\",\"top_units\":\"screen\"},\"id\":\"8c23fe33-0194-4908-9815-689bcb58dbfe\",\"type\":\"BoxAnnotation\"},{\"attributes\":{},\"id\":\"cd502854-412c-413a-bf6c-fc9a3665b7de\",\"type\":\"ResetTool\"},{\"attributes\":{\"days\":[1,8,15,22]},\"id\":\"99f43d36-c69d-4642-b62c-150b3fe751d4\",\"type\":\"DaysTicker\"},{\"attributes\":{\"overlay\":{\"id\":\"8c23fe33-0194-4908-9815-689bcb58dbfe\",\"type\":\"BoxAnnotation\"}},\"id\":\"123eb00d-8b7a-420b-8bfc-f04d55804377\",\"type\":\"BoxZoomTool\"},{\"attributes\":{},\"id\":\"97b3239c-c724-48c5-96e9-2919fa1e6f76\",\"type\":\"SaveTool\"},{\"attributes\":{\"days\":[1,2,3,4,5,6,7,8,9,10,11,12,13,14,15,16,17,18,19,20,21,22,23,24,25,26,27,28,29,30,31]},\"id\":\"971c2d24-82a0-4233-9bc7-589fc6ff4ab2\",\"type\":\"DaysTicker\"},{\"attributes\":{},\"id\":\"9b347b31-5716-48fc-bf9f-aaf9f70d23c3\",\"type\":\"WheelZoomTool\"},{\"attributes\":{\"months\":[0,4,8]},\"id\":\"8507c24e-d435-4872-b399-dc8c95abeae5\",\"type\":\"MonthsTicker\"},{\"attributes\":{\"source\":{\"id\":\"9af6c979-9420-4b00-84db-aca5915e5277\",\"type\":\"ColumnDataSource\"}},\"id\":\"eb7f02a9-3410-4f26-9e26-5a9549f3e21c\",\"type\":\"CDSView\"},{\"attributes\":{\"formatter\":{\"id\":\"e7fd8e98-809e-4987-9fe4-3b86f00c2f2a\",\"type\":\"DatetimeTickFormatter\"},\"plot\":{\"id\":\"d3356683-39fd-4c7c-987f-635a0b783bdb\",\"subtype\":\"Figure\",\"type\":\"Plot\"},\"ticker\":{\"id\":\"a528cc49-86b4-4211-9623-cfce666015b6\",\"type\":\"DatetimeTicker\"}},\"id\":\"be7cfcc6-4f6c-4a8d-abc5-30d7554af4c2\",\"type\":\"DatetimeAxis\"},{\"attributes\":{},\"id\":\"e7fd8e98-809e-4987-9fe4-3b86f00c2f2a\",\"type\":\"DatetimeTickFormatter\"},{\"attributes\":{\"mantissas\":[1,2,5],\"max_interval\":500.0,\"num_minor_ticks\":0},\"id\":\"7e2229ae-7062-4682-8289-2ebfa09243f2\",\"type\":\"AdaptiveTicker\"},{\"attributes\":{\"months\":[0,2,4,6,8,10]},\"id\":\"563ba7c8-381c-43d1-98e8-dce5bfe7afde\",\"type\":\"MonthsTicker\"},{\"attributes\":{\"plot\":null,\"text\":\"\"},\"id\":\"d1b2ec86-833b-4157-b7f4-16c6154a1ce8\",\"type\":\"Title\"},{\"attributes\":{\"plot\":{\"id\":\"d3356683-39fd-4c7c-987f-635a0b783bdb\",\"subtype\":\"Figure\",\"type\":\"Plot\"},\"ticker\":{\"id\":\"a528cc49-86b4-4211-9623-cfce666015b6\",\"type\":\"DatetimeTicker\"}},\"id\":\"dc6a2177-28b0-4b45-8a5f-e793cefac073\",\"type\":\"Grid\"},{\"attributes\":{\"data_source\":{\"id\":\"9af6c979-9420-4b00-84db-aca5915e5277\",\"type\":\"ColumnDataSource\"},\"glyph\":{\"id\":\"f1090402-3ee7-4e82-9e0f-4d1cdb670f0d\",\"type\":\"Line\"},\"hover_glyph\":null,\"muted_glyph\":null,\"nonselection_glyph\":{\"id\":\"5ecd188f-3c81-48de-9961-9cbcff49d5b7\",\"type\":\"Line\"},\"selection_glyph\":null,\"view\":{\"id\":\"eb7f02a9-3410-4f26-9e26-5a9549f3e21c\",\"type\":\"CDSView\"}},\"id\":\"fb41cf8a-8bfc-46af-a011-421bbded428e\",\"type\":\"GlyphRenderer\"},{\"attributes\":{},\"id\":\"7882d663-9ef0-4a92-b2ff-3a67461623db\",\"type\":\"BasicTickFormatter\"},{\"attributes\":{},\"id\":\"d80d8907-6e53-4c5c-b3e4-b2257512f53f\",\"type\":\"HelpTool\"},{\"attributes\":{\"active_drag\":\"auto\",\"active_inspect\":\"auto\",\"active_scroll\":\"auto\",\"active_tap\":\"auto\",\"tools\":[{\"id\":\"012f754a-4ca0-4d63-b3a3-b1c0dd971ba0\",\"type\":\"PanTool\"},{\"id\":\"9b347b31-5716-48fc-bf9f-aaf9f70d23c3\",\"type\":\"WheelZoomTool\"},{\"id\":\"123eb00d-8b7a-420b-8bfc-f04d55804377\",\"type\":\"BoxZoomTool\"},{\"id\":\"97b3239c-c724-48c5-96e9-2919fa1e6f76\",\"type\":\"SaveTool\"},{\"id\":\"cd502854-412c-413a-bf6c-fc9a3665b7de\",\"type\":\"ResetTool\"},{\"id\":\"d80d8907-6e53-4c5c-b3e4-b2257512f53f\",\"type\":\"HelpTool\"}]},\"id\":\"abf639bf-20fa-4a90-b9a1-7242e402341f\",\"type\":\"Toolbar\"},{\"attributes\":{\"months\":[0,1,2,3,4,5,6,7,8,9,10,11]},\"id\":\"b4871836-2bfd-4e30-9c3a-20462b68bcb1\",\"type\":\"MonthsTicker\"},{\"attributes\":{\"base\":24,\"mantissas\":[1,2,4,6,8,12],\"max_interval\":43200000.0,\"min_interval\":3600000.0,\"num_minor_ticks\":0},\"id\":\"a9f70f49-71fc-44fa-9879-acae1766665a\",\"type\":\"AdaptiveTicker\"},{\"attributes\":{\"below\":[{\"id\":\"be7cfcc6-4f6c-4a8d-abc5-30d7554af4c2\",\"type\":\"DatetimeAxis\"}],\"left\":[{\"id\":\"6390b159-674c-4842-a365-b1077afd0511\",\"type\":\"LinearAxis\"}],\"plot_height\":250,\"plot_width\":800,\"renderers\":[{\"id\":\"be7cfcc6-4f6c-4a8d-abc5-30d7554af4c2\",\"type\":\"DatetimeAxis\"},{\"id\":\"dc6a2177-28b0-4b45-8a5f-e793cefac073\",\"type\":\"Grid\"},{\"id\":\"6390b159-674c-4842-a365-b1077afd0511\",\"type\":\"LinearAxis\"},{\"id\":\"172108c8-7ade-49d1-86d0-8cbd52cb5d68\",\"type\":\"Grid\"},{\"id\":\"8c23fe33-0194-4908-9815-689bcb58dbfe\",\"type\":\"BoxAnnotation\"},{\"id\":\"fb41cf8a-8bfc-46af-a011-421bbded428e\",\"type\":\"GlyphRenderer\"}],\"title\":{\"id\":\"d1b2ec86-833b-4157-b7f4-16c6154a1ce8\",\"type\":\"Title\"},\"toolbar\":{\"id\":\"abf639bf-20fa-4a90-b9a1-7242e402341f\",\"type\":\"Toolbar\"},\"x_range\":{\"id\":\"5ebbbf47-0a56-4491-b0f5-3f0549914532\",\"type\":\"DataRange1d\"},\"x_scale\":{\"id\":\"abddd930-5efa-4714-90dc-f3ed3a699cdc\",\"type\":\"LinearScale\"},\"y_range\":{\"id\":\"907ac68c-5266-45a7-8207-e7c5157f7aa9\",\"type\":\"DataRange1d\"},\"y_scale\":{\"id\":\"3e5085fe-0def-4423-947f-35093d55c0f1\",\"type\":\"LinearScale\"}},\"id\":\"d3356683-39fd-4c7c-987f-635a0b783bdb\",\"subtype\":\"Figure\",\"type\":\"Plot\"},{\"attributes\":{\"days\":[1,4,7,10,13,16,19,22,25,28]},\"id\":\"ee873f83-1352-4a9a-bd6a-575b1a0c0ddf\",\"type\":\"DaysTicker\"},{\"attributes\":{\"days\":[1,15]},\"id\":\"31b7d2ef-ac1a-4f0f-9701-a66c22e47c59\",\"type\":\"DaysTicker\"},{\"attributes\":{\"base\":60,\"mantissas\":[1,2,5,10,15,20,30],\"max_interval\":1800000.0,\"min_interval\":1000.0,\"num_minor_ticks\":0},\"id\":\"9764e373-313c-460e-bba8-a504747d7c20\",\"type\":\"AdaptiveTicker\"},{\"attributes\":{\"months\":[0,6]},\"id\":\"9f71837f-f0c9-43f8-83b3-4e1c3d8ffd30\",\"type\":\"MonthsTicker\"},{\"attributes\":{\"callback\":null},\"id\":\"5ebbbf47-0a56-4491-b0f5-3f0549914532\",\"type\":\"DataRange1d\"},{\"attributes\":{\"line_alpha\":0.1,\"line_color\":\"#1f77b4\",\"x\":{\"field\":\"x\"},\"y\":{\"field\":\"y\"}},\"id\":\"5ecd188f-3c81-48de-9961-9cbcff49d5b7\",\"type\":\"Line\"},{\"attributes\":{\"num_minor_ticks\":5,\"tickers\":[{\"id\":\"7e2229ae-7062-4682-8289-2ebfa09243f2\",\"type\":\"AdaptiveTicker\"},{\"id\":\"9764e373-313c-460e-bba8-a504747d7c20\",\"type\":\"AdaptiveTicker\"},{\"id\":\"a9f70f49-71fc-44fa-9879-acae1766665a\",\"type\":\"AdaptiveTicker\"},{\"id\":\"971c2d24-82a0-4233-9bc7-589fc6ff4ab2\",\"type\":\"DaysTicker\"},{\"id\":\"ee873f83-1352-4a9a-bd6a-575b1a0c0ddf\",\"type\":\"DaysTicker\"},{\"id\":\"99f43d36-c69d-4642-b62c-150b3fe751d4\",\"type\":\"DaysTicker\"},{\"id\":\"31b7d2ef-ac1a-4f0f-9701-a66c22e47c59\",\"type\":\"DaysTicker\"},{\"id\":\"b4871836-2bfd-4e30-9c3a-20462b68bcb1\",\"type\":\"MonthsTicker\"},{\"id\":\"563ba7c8-381c-43d1-98e8-dce5bfe7afde\",\"type\":\"MonthsTicker\"},{\"id\":\"8507c24e-d435-4872-b399-dc8c95abeae5\",\"type\":\"MonthsTicker\"},{\"id\":\"9f71837f-f0c9-43f8-83b3-4e1c3d8ffd30\",\"type\":\"MonthsTicker\"},{\"id\":\"23b9a0a4-37ec-4b80-b7f2-09b0c2254329\",\"type\":\"YearsTicker\"}]},\"id\":\"a528cc49-86b4-4211-9623-cfce666015b6\",\"type\":\"DatetimeTicker\"},{\"attributes\":{\"callback\":null,\"column_names\":[\"x\",\"y\"],\"data\":{\"x\":{\"__ndarray__\":\"AACAp/mza0IAAABznrRrQgAAgD5DtWtCAAAAoTG3a0IAAIBs1rdrQgAAADh7uGtCAACAAyC5a0IAAADPxLlrQgAAgDGzu2tCAAAA/Ve8a0IAAIDI/LxrQgAAAJShvWtCAACAX0a+a0IAAADCNMBrQgAAgI3ZwGtCAAAAWX7Ba0IAAIAkI8JrQgAAAPDHwmtCAACAUrbEa0IAAAAeW8VrQgAAgOn/xWtCAAAAtaTGa0IAAICAScdrQgAAAOM3yWtCAACArtzJa0IAAAB6gcprQgAAgEUmy2tCAAAAEcvLa0IAAIBzuc1rQgAAAD9ezmtCAACACgPPa0IAAADWp89rQgAAgKFM0GtCAAAABDvSa0IAAIDP39JrQgAAAJuE02tCAACAZinUa0IAAICUvNZrQgAAAGBh12tCAACAKwbYa0IAAAD3qthrQgAAgMJP2WtCAAAAJT7ba0IAAIDw4ttrQgAAALyH3GtCAACAhyzda0IAAABT0d1rQgAAgLW/32tCAAAAgWTga0IAAIBMCeFrQgAAABiu4WtCAACA41Lia0IAAABGQeRrQgAAgBHm5GtCAAAA3Yrla0IAAICoL+ZrQgAAAHTU5mtCAACA1sLoa0IAAACiZ+lrQgAAgG0M6mtCAAAAObHqa0IAAIAEVutrQgAAgDLp7WtCAAAA/o3ua0IAAIDJMu9rQgAAAJXX72tCAACA98Xxa0IAAADDavJrQgAAgI4P82tCAAAAWrTza0IAAIAlWfRrQgAAAIhH9mtCAACAU+z2a0IAAAAfkfdrQgAAgOo1+GtCAAAAttr4a0IAAIAYyfprQgAAAORt+2tCAACArxL8a0IAAAB7t/xrQgAAgEZc/WtCAAAAqUr/a0IAAIB07/9rQgAAAECUAGxCAACACzkBbEIAAADX3QFsQgAAgDnMA2xCAACA0BUFbEIAAACcugVsQgAAgGdfBmxCAAAAyk0IbEIAAICV8ghsQgAAAGGXCWxCAACALDwKbEIAAAD44ApsQgAAgFrPDGxCAAAAJnQNbEIAAIDxGA5sQgAAAL29DmxCAACAiGIPbEIAAADrUBFsQgAAgLb1EWxCAAAAgpoSbEIAAIBNPxNsQgAAABnkE2xCAACAe9IVbEIAAABHdxZsQgAAgBIcF2xCAAAA3sAXbEIAAICpZRhsQgAAAAxUGmxCAACA1/gabEIAAACjnRtsQgAAgG5CHGxCAAAAOuccbEIAAICc1R5sQgAAAGh6H2xCAACAMx8gbEIAAAD/wyBsQgAAgMpoIWxCAAAALVcjbEIAAID4+yNsQgAAAMSgJGxCAACAj0UlbEIAAABb6iVsQgAAgL3YJ2xCAAAAiX0obEIAAIBUIilsQgAAACDHKWxCAACA62sqbEIAAIAZ/yxsQgAAAOWjLWxCAACAsEgubEIAAAB87S5sQgAAgN7bMGxCAAAAqoAxbEIAAIB1JTJsQgAAAEHKMmxCAACADG8zbEIAAABvXTVsQgAAgDoCNmxCAAAABqc2bEIAAIDRSzdsQgAAAJ3wN2xCAACA/945bEIAAADLgzpsQgAAgJYoO2xCAAAAYs07bEIAAIAtcjxsQgAAAJBgPmxCAACAWwU/bEIAAAAnqj9sQgAAgPJOQGxCAAAAvvNAbEIAAIAg4kJsQgAAAOyGQ2xCAACAtytEbEIAAACD0ERsQgAAgE51RWxCAAAAsWNHbEIAAIB8CEhsQgAAAEitSGxCAACAE1JJbEIAAADf9klsQgAAgEHlS2xCAAAADYpMbEIAAIDYLk1sQgAAAKTTTWxCAACAb3hObEIAAADSZlBsQgAAgJ0LUWxCAAAAabBRbEIAAIA0VVJsQgAAAAD6UmxCAACAYuhUbEIAAAAujVVsQgAAgPkxVmxCAAAAxdZWbEIAAICQe1dsQgAAAPNpWWxCAACAvg5abEIAAACKs1psQgAAgFVYW2xCAAAAIf1bbEIAAICD611sQgAAAE+QXmxCAACAGjVfbEIAAICxfmBsQgAAABRtYmxCAACA3xFjbEIAAACrtmNsQgAAgHZbZGxCAAAAQgBlbEIAAICk7mZsQgAAAHCTZ2xCAACAOzhobEIAAAAH3WhsQgAAgNKBaWxCAAAANXBrbEIAAIAAFWxsQgAAAMy5bGxCAACAl15tbEIAAABjA25sQgAAgMXxb2xCAAAAkZZwbEIAAIBcO3FsQgAAACjgcWxCAACA84RybEIAAIAhGHVsQgAAAO28dWxCAACAuGF2bEIAAACEBndsQgAAALKZeWxCAACAfT56bEIAAABJ43psQgAAgBSIe2xCAAAAd3Z9bEIAAIBCG35sQgAAAA7AfmxCAACA2WR/bEIAAAClCYBsQgAAANOcgmxCAACAnkGDbEIAAABq5oNsQgAAgDWLhGxCAAAAmHmGbEIAAIBjHodsQgAAAC/Dh2xCAACA+meIbEIAAADGDIlsQgAAgCj7imxCAAAA9J+LbEIAAIC/RIxsQgAAAIvpjGxCAACAVo6NbEIAAAC5fI9sQgAAgIQhkGxCAAAAUMaQbEIAAIAba5FsQgAAAOcPkmxCAACASf6TbEIAAAAVo5RsQgAAgOBHlWxCAAAArOyVbEIAAIB3kZZsQgAAgKUkmWxCAAAAccmZbEIAAIA8bppsQgAAAAgTm2xCAACAagGdbEIAAAA2pp1sQgAAgAFLnmxCAAAAze+ebEIAAICYlJ9sQgAAAPuCoWxCAACAxieibEIAAACSzKJsQgAAgF1xo2xCAAAAKRakbEIAAICLBKZsQgAAAFeppmxCAACAIk6nbEIAAADu8qdsQgAAgLmXqGxCAAAAHIaqbEIAAIDnKqtsQgAAALPPq2xCAACAfnSsbEIAAABKGa1sQgAAgKwHr2xCAAAAeKyvbEIAAIBDUbBsQgAAAA/2sGxCAACA2pqxbEIAAAA9ibNsQgAAgAgutGxCAAAA1NK0bEIAAICfd7VsQgAAAGsctmxCAACAzQq4bEIAAACZr7hsQgAAgGRUuWxCAAAAMPm5bEIAAABejLxsQgAAgCkxvWxCAAAA9dW9bEIAAIDAer5sQgAAAIwfv2xCAACA7g3BbEIAAAC6ssFsQgAAgIVXwmxCAAAAUfzCbEIAAIAcocNsQgAAAH+PxWxCAACASjTGbEIAAAAW2cZsQgAAgOF9x2xCAAAArSLIbEIAAIAPEcpsQgAAANu1ymxCAACAplrLbEIAAABy/8tsQgAAgD2kzGxCAAAAoJLObEIAAIBrN89sQgAAADfcz2xCAACAAoHQbEIAAADOJdFsQgAAgDAU02xCAAAA/LjTbEIAAIDHXdRsQgAAAJMC1WxCAACAXqfVbEIAAICMOthsQgAAAFjf2GxCAACAI4TZbEIAAADvKNpsQgAAgFEX3GxCAAAAHbzcbEIAAIDoYN1sQgAAALQF3mxCAACAf6rebEIAAADimOBsQgAAgK094WxCAAAAeeLhbEIAAIBEh+JsQgAAABAs42xCAACAchrlbEIAAAA+v+VsQgAAgAlk5mxCAAAA1QjnbEIAAICgredsQgAAAAOc6WxCAACAzkDqbEIAAACa5epsQgAAgGWK62xCAAAAMS/sbEIAAICTHe5sQgAAAF/C7mxCAAAA9gvwbEIAAIDBsPBsQgAAACSf8mxCAACA70PzbEIAAAC76PNsQgAAgIaN9GxCAAAAUjL1bEIAAIC0IPdsQgAAAIDF92xCAACAS2r4bEIAAAAXD/lsQgAAgOKz+WxCAAAARaL7bEIAAIAQR/xsQgAAANzr/GxCAACAp5D9bEIAAABzNf5sQgAAgNUjAG1CAAAAocgAbUIAAIBsbQFtQgAAADgSAm1CAACAA7cCbUIAAABmpQRtQgAAgDFKBW1CAAAA/e4FbUIAAIDIkwZtQgAAAJQ4B21CAACA9iYJbUIAAADCywltQgAAgI1wCm1CAAAAWRULbUIAAIAkugttQgAAAIeoDW1CAACAUk0ObUIAAAAe8g5tQgAAgOmWD21CAAAAtTsQbUIAAIAXKhJtQgAAAOPOEm1CAACArnMTbUIAAAB6GBRtQgAAgEW9FG1CAACAc1AXbUIAAAA/9RdtQgAAgAqaGG1CAAAA1j4ZbUIAAIA4LRttQgAAAMmuH21CAACAlFMgbUIAAABg+CBtQgAAgCudIW1CAAAA90EibUIAAIBZMCRtQgAAACXVJG1CAACA8HklbUIAAAC8HiZtQgAAgIfDJm1CAAAA6rEobUIAAIC1ViltQgAAAIH7KW1CAACATKAqbUIAAAAYRSttQgAAgHozLW1CAAAARtgtbUIAAIARfS5tQgAAAN0hL21CAACAqMYvbUIAAAALtTFtQgAAgNZZMm1CAAAAov4ybUIAAIBtozNtQgAAADlING1CAACAmzY2bUIAAABn2zZtQgAAgDKAN21CAAAA/iQ4bUIAAIDJyThtQgAAACy4Om1CAACA91w7bUIAAADDATxtQgAAgI6mPG1CAAAAWks9bUIAAIC8OT9tQgAAAIjeP21CAACAU4NAbUIAAAAfKEFtQgAAgOrMQW1CAAAATbtDbUIAAIAYYERtQgAAAOQERW1CAACAr6lFbUIAAAB7TkZtQgAAgN08SG1CAAAAqeFIbUIAAIB0hkltQgAAgAvQSm1CAAAAbr5MbUIAAIA5Y01tQgAAAAUITm1CAACA0KxObUIAAACcUU9tQgAAgP4/UW1CAAAAyuRRbUIAAICViVJtQgAAAGEuU21CAACALNNTbUIAAACPwVVtQgAAgFpmVm1CAAAAJgtXbUIAAIDxr1dtQgAAAL1UWG1CAACAH0NabUIAAADr51ptQgAAgLaMW21CAAAAgjFcbUIAAIBN1lxtQgAAALDEXm1CAAAARw5gbUIAAIASs2BtQgAAAN5XYW1CAACAQEZjbUIAAIDXj2RtQgAAAKM0ZW1CAACAbtllbUIAAADRx2dtQgAAgJxsaG1CAAAAaBFpbUIAAIAztmltQgAAAP9aam1CAACAYUlsbUIAAAAt7mxtQgAAgPiSbW1CAAAAxDdubUIAAICP3G5tQgAAgL1vcW1CAAAAiRRybUIAAIBUuXJtQgAAACBec21CAACAgkx1bUIAAABO8XVtQgAAgBmWdm1CAAAA5Tp3bUIAAICw33dtQgAAABPOeW1CAACA3nJ6bUIAAACqF3ttQgAAgHW8e21CAAAAQWF8bUIAAICjT35tQgAAAG/0fm1CAACAOpl/bUIAAAAGPoBtQgAAgNHigG1CAACA/3WDbUIAAADLGoRtQgAAgJa/hG1CAAAAYmSFbUIAAIDEUodtQgAAAJD3h21CAACAW5yIbUIAAAAnQYltQgAAgPLliW1CAAAAVdSLbUIAAIAgeYxtQgAAAOwdjW1CAACAt8KNbUIAAACDZ45tQgAAgOVVkG1CAAAAsfqQbUIAAIB8n5FtQgAAAEhEkm1CAACAE+mSbUIAAAB215RtQgAAgEF8lW1CAAAADSGWbUIAAIDYxZZtQgAAAKRql21CAACABlmZbUIAAADS/ZltQgAAgJ2imm1CAAAAaUebbUIAAACX2p1tQgAAgGJ/nm1CAAAALiSfbUIAAID5yJ9tQgAAAMVtoG1CAACAJ1yibUIAAADzAKNtQgAAgL6lo21CAAAAikqkbUIAAIBV76RtQgAAALjdpm1CAACAg4KnbUIAAABPJ6htQgAAgBrMqG1CAAAA5nCpbUIAAIBIX6ttQgAAABQErG1CAACA36isbUIAAACrTa1tQgAAgHbyrW1CAAAA2eCvbUIAAICkhbBtQgAAAHAqsW1CAACAO8+xbUIAAAAHdLJtQgAAgGlitG1CAAAANQe1bUIAAIAArLVtQgAAAMxQtm1CAACAl/W2bUIAAAD647htQgAAgMWIuW1CAAAAkS26bUIAAIBc0rptQgAAACh3u21CAACAimW9bUIAAABWCr5tQgAAgCGvvm1CAAAA7VO/bUIAAIC4+L9tQgAAgOaLwm1CAAAAsjDDbUIAAIB91cNtQgAAAEl6xG1CAACAq2jGbUIAAAB3DcdtQgAAgEKyx21CAAAADlfIbUIAAIDZ+8htQgAAADzqym1CAACAB4/LbUIAAADTM8xtQgAAgJ7YzG1CAAAAan3NbUIAAIDMa89tQgAAAJgQ0G1CAACAY7XQbUIAAAAvWtFtQgAAgPr+0W1CAAAAXe3TbUIAAIAoktRtQgAAAPQ21W1CAACAv9vVbUIAAACLgNZtQgAAgO1u2G1CAAAAuRPZbUIAAICEuNltQgAAgBsC221CAAAAfvDcbUIAAIBJld1tQgAAABU63m1CAACA4N7ebUIAAACsg99tQgAAgA5y4W1CAAAA2hbibUIAAIClu+JtQgAAAHFg421CAACAPAXkbUIAAACf8+VtQgAAgGqY5m1CAAAANj3nbUIAAIAB4udtQgAAAM2G6G1CAACAL3XqbUIAAAD7GettQgAAgMa+621CAAAAkmPsbUIAAIBdCO1tQgAAAMD27m1CAACAi5vvbUIAAABXQPBtQgAAgCLl8G1CAAAA7onxbUIAAIBQePNtQgAAABwd9G1CAACA58H0bUIAAACzZvVtQgAAgH4L9m1CAAAA4fn3bUIAAICsnvhtQgAAAHhD+W1CAACAQ+j5bUIAAAAPjfptQgAAgHF7/G1CAAAAPSD9bUIAAIAIxf1tQgAAANRp/m1CAACAnw7/bUIAAIDNoQFuQgAAAJlGAm5CAACAZOsCbkIAAAAwkANuQgAAgJJ+BW5CAAAAXiMGbkIAAIApyAZuQgAAAPVsB25CAACAwBEIbkIAAAAjAApuQgAAgO6kCm5CAAAAukkLbkIAAICF7gtuQgAAAFGTDG5CAACAs4EObkIAAAB/Jg9uQgAAgErLD25CAAAAFnAQbkIAAIDhFBFuQgAAAEQDE25CAACAD6gTbkIAAADbTBRuQgAAgKbxFG5CAAAAcpYVbkIAAIDUhBduQgAAAKApGG5CAACAa84YbkIAAAA3cxluQgAAgAIYGm5CAAAAZQYcbkIAAIAwqxxuQgAAAPxPHW5CAACAx/QdbkIAAACTmR5uQgAAgPWHIG5CAAAAwSwhbkIAAICM0SFuQgAAAFh2Im5CAACAIxsjbkIAAACGCSVuQgAAgFGuJW5CAAAAHVMmbkIAAIDo9yZuQgAAALScJ25CAACAFospbkIAAADiLypuQgAAgK3UKm5CAAAAeXkrbkIAAIBEHixuQgAAAKcMLm5CAACAcrEubkIAAAA+Vi9uQgAAgAn7L25CAAAA1Z8wbkIAAIA3jjJuQgAAAAMzM25CAACAztczbkIAAACafDRuQgAAgGUhNW5CAAAAyA83bkIAAICTtDduQgAAAF9ZOG5CAAAA9qI5bkIAAIBYkTtuQgAAACQ2PG5CAACA79o8bkIAAAC7fz1uQgAAgIYkPm5CAAAA6RJAbkIAAIC0t0BuQgAAAIBcQW5CAACASwFCbkIAAAAXpkJuQgAAgHmURG5CAAAARTlFbkIAAIAQ3kVuQgAAANyCRm5CAACApydHbkIAAAAKFkluQgAAgNW6SW5CAACAbARLbkIAAAA4qUtuQgAAgJqXTW5CAAAAZjxObkIAAAD9hU9uQgAAgMgqUG5CAAAAKxlSbkIAAID2vVJuQgAAAMJiU25CAACAjQdUbkIAAABZrFRuQgAAgLuaVm5CAAAAhz9XbkIAAIBS5FduQgAAAB6JWG5CAACA6S1ZbkIAAIAXwVtuQgAAAONlXG5CAACArgpdbkIAAAB6r11uQgAAgNydX25CAAAAqEJgbkIAAIBz52BuQgAAAD+MYW5CAACACjFibkIAAABtH2RuQgAAgDjEZG5CAAAABGllbkIAAIDPDWZuQgAAAJuyZm5CAACA/aBobkIAAADJRWluQgAAgJTqaW5CAAAAYI9qbkIAAIArNGtuQgAAgFnHbW5CAAAAJWxubkIAAIDwEG9uQgAAALy1b25CAACAHqRxbkIAAADqSHJuQgAAgLXtcm5CAAAAgZJzbkIAAIBMN3RuQgAAAK8ldm5CAACAesp2bkIAAABGb3duQgAAgBEUeG5CAAAA3bh4bkIAAIA/p3puQgAAAAtMe25CAACA1vB7bkIAAACilXxuQgAAgG06fW5CAAAA0Ch/bkIAAICbzX9uQgAAAGdygG5CAACAMheBbkIAAAD+u4FuQgAAgGCqg25CAAAALE+EbkIAAID384RuQgAAAMOYhW5CAACAjj2GbkIAAADxK4huQgAAgLzQiG5CAAAAiHWJbkIAAIBTGopuQgAAAB+/im5CAACAga2MbkIAAABNUo1uQgAAgBj3jW5CAAAA5JuObkIAAICvQI9uQgAAABIvkW5CAACA3dORbkIAAACpeJJuQgAAgHQdk25CAACAorCVbkIAAABuVZZuQgAAgDn6lm5CAAAABZ+XbkIAAIDQQ5huQgAAADMymm5CAACA/taabkIAAADKe5tuQgAAgJUgnG5CAAAAYcWcbkIAAIDDs55uQgAAAI9Yn25CAACAWv2fbkIAAAAmoqBuQgAAgPFGoW5CAAAAVDWjbkIAAIAf2qNuQgAAAOt+pG5CAACAtiOlbkIAAACCyKVuQgAAgOS2p25CAAAAsFuobkIAAIB7AKluQgAAAEelqW5CAACAEkqqbkIAAIBA3axuQgAAAAyCrW5CAACA1yaubkIAAACjy65uQgAAgAW6sG5CAAAA0V6xbkIAAICcA7JuQgAAAGiosm5CAACAM02zbkIAAACWO7VuQgAAgGHgtW5CAAAALYW2bkIAAID4KbduQgAAAMTOt25CAACAJr25bkIAAADyYbpuQgAAgL0Gu25CAAAAiau7bkIAAIBUULxuQgAAALc+vm5CAACAguO+bkIAAABOiL9uQgAAgBktwG5CAAAA5dHAbkIAAIBHwMJuQgAAABNlw25CAACA3gnEbkIAAACqrsRuQgAAANhBx25CAACAo+bHbkIAAABvi8huQgAAgDowyW5CAAAABtXJbkIAAIBow8tuQgAAADRozG5CAACA/wzNbkIAAADLsc1uQgAAgJZWzm5CAAAA+UTQbkIAAIDE6dBuQgAAAJCO0W5CAACAWzPSbkIAAAAn2NJuQgAAgInG1G5CAAAAVWvVbkIAAIAgENZuQgAAAOy01m5CAACAt1nXbkIAAAAaSNluQgAAgOXs2W5CAAAAsZHabkIAAIB8NttuQgAAAEjb225CAACAqsndbkIAAAB2bt5uQgAAgEET325CAAAADbjfbkIAAIDYXOBuQgAAADtL4m5CAACABvDibkIAAADSlONuQgAAgJ055G5CAAAAad7kbkIAAIDLzOZuQgAAAJdx525CAACAYhbobkIAAAAuu+huQgAAgPlf6W5CAACAJ/PrbkIAAADzl+xuQgAAgL487W5CAAAAiuHtbkIAAIDsz+9uQgAAALh08G5CAACAgxnxbkIAAABPvvFuQgAAgBpj8m5CAAAAfVH0bkIAAIBI9vRuQgAAABSb9W5CAACA3z/2bkIAAACr5PZuQgAAgA3T+G5CAAAA2Xf5bkIAAICkHPpuQgAAAHDB+m5CAACAO2b7bkIAAACeVP1uQgAAgGn5/W5CAAAANZ7+bkIAAIAAQ/9uQgAAAMzn/25CAACALtYBb0IAAAD6egJvQgAAgMUfA29CAAAAkcQDb0IAAIBcaQRvQgAAAL9XBm9CAACAivwGb0IAAABWoQdvQgAAgCFGCG9CAAAA7eoIb0IAAIBP2QpvQgAAABt+C29CAACA5iIMb0IAAACyxwxvQgAAgH1sDW9CAAAA4FoPb0IAAICr/w9vQgAAAHekEG9CAACAQkkRb0IAAAAO7hFvQgAAgHDcE29CAAAAPIEUb0IAAIAHJhVvQgAAANPKFW9CAACAnm8Wb0IAAAABXhhvQgAAgMwCGW9CAAAAmKcZb0IAAIBjTBpvQgAAAC/xGm9CAACAkd8cb0IAAABdhB1vQgAAgCgpHm9CAAAA9M0eb0IAAIC/ch9vQgAAACJhIW9CAACA7QUib0IAAAC5qiJvQgAAAFD0I29CAACAsuIlb0IAAAB+hyZvQgAAgEksJ29CAAAAFdEnb0IAAIDgdShvQgAAAENkKm9CAACADgkrb0IAAADarStvQgAAgKVSLG9CAAAAcfcsb0IAAIDT5S5vQgAAAJ+KL29CAACAai8wb0IAAAA21DBvQgAAgAF5MW9CAAAAZGczb0IAAIAvDDRvQgAAAPuwNG9CAAAAkvo1b0IAAID06DdvQgAAAMCNOG9CAACAizI5b0IAAIAifDpvQgAAAIVqPG9CAACAUA89b0IAAAActD1vQgAAgOdYPm9CAAAAs/0+b0IAAIAV7EBvQgAAAOGQQW9CAACArDVCb0IAAAB42kJvQgAAgEN/Q29CAACAcRJGb0IAAAA9t0ZvQgAAgAhcR29CAAAA1ABIb0IAAIA270lvQgAAAAKUSm9CAACAzThLb0IAAACZ3UtvQgAAgGSCTG9CAAAAx3BOb0IAAICSFU9vQgAAAF66T29CAACAKV9Qb0IAAAD1A1FvQgAAgFfyUm9CAAAAI5dTb0IAAIDuO1RvQgAAALrgVG9CAACAhYVVb0IAAICzGFhvQgAAAH+9WG9CAACASmJZb0IAAAAWB1pvQgAAgHj1W29CAAAARJpcb0IAAIAPP11vQgAAANvjXW9CAACApoheb0IAAAAJd2BvQgAAgNQbYW9CAAAAoMBhb0IAAIBrZWJvQgAAADcKY29CAACAmfhkb0IAAABlnWVvQgAAgDBCZm9CAAAA/OZmb0IAAIDHi2dvQgAAACp6aW9CAACA9R5qb0IAAADBw2pvQgAAgIxoa29CAAAAWA1sb0IAAIC6+21vQgAAAIagbm9CAACAUUVvb0IAAAAd6m9vQgAAgOiOcG9CAAAAS31yb0IAAIAWInNvQgAAAOLGc29CAACArWt0b0IAAAB5EHVvQgAAgNv+dm9CAAAAp6N3b0IAAIBySHhvQgAAAD7teG9CAAAAbIB7b0IAAIA3JXxvQgAAAAPKfG9CAACAzm59b0IAAACaE35vQgAAgPwBgG9CAAAAyKaAb0IAAICTS4FvQgAAAF/wgW9CAACAKpWCb0IAAACNg4RvQgAAgFgohW9CAAAAJM2Fb0IAAIDvcYZvQgAAALsWh29CAACAHQWJb0IAAADpqYlvQgAAgLROim9CAAAAgPOKb0IAAIBLmItvQgAAAK6GjW9CAACAeSuOb0IAAABF0I5vQgAAgBB1j29CAAAA3BmQb0IAAIA+CJJvQgAAAAqtkm9CAACA1VGTb0IAAACh9pNvQgAAgGyblG9CAAAAz4mWb0IAAICaLpdvQgAAAGbTl29CAACAMXiYb0IAAAD9HJlvQgAAACuwm29CAACA9lScb0IAAADC+ZxvQgAAgI2enW9CAAAA8Iyfb0IAAIC7MaBvQgAAAIfWoG9CAACAUnuhb0IAAICADqRvQgAAAEyzpG9CAACAF1ilb0IAAADj/KVvQgAAgK6hpm9CAAAAEZCob0IAAIDcNKlvQgAAAKjZqW9CAACAc36qb0IAAAA/I6tvQgAAgKERrW9CAAAAbbatb0IAAIA4W65vQgAAAAQAr29CAACAz6Svb0IAAID9N7JvQgAAAMncsm9CAACAlIGzb0IAAABgJrRvQgAAgMIUtm9CAAAAjrm2b0IAAIBZXrdvQgAAACUDuG9CAACA8Ke4b0IAAABTlrpvQgAAgB47u29CAAAA6t+7b0IAAIC1hLxvQgAAAIEpvW9CAACA4xe/b0IAAACvvL9vQgAAgHphwG9CAAAARgbBb0IAAIARq8FvQgAAAHSZw29CAACAPz7Eb0IAAAAL48RvQgAAgNaHxW9CAAAAoizGb0IAAIAEG8hvQgAAANC/yG9CAACAm2TJb0IAAABnCcpvQgAAgDKuym9CAAAAlZzMb0IAAIBgQc1vQgAAACzmzW9CAACA94rOb0IAAADDL89vQgAAgCUe0W9CAAAA8cLRb0IAAIC8Z9JvQgAAAIgM029CAACAU7HTb0IAAAC2n9VvQgAAgIFE1m9CAAAATenWb0IAAIAYjtdvQgAAAOQy2G9CAAAAEsbab0IAAIDdattvQgAAAKkP3G9CAACAdLTcb0IAAADXot5vQgAAgKJH329CAAAAbuzfb0IAAIA5keBvQgAAAAU24W9CAACAZyTjb0IAAAAzyeNvQgAAgP5t5G9CAAAAyhLlb0IAAICVt+VvQgAAAPil529CAACAw0rob0IAAACP7+hvQgAAgFqU6W9CAAAAJjnqb0IAAICIJ+xvQgAAAFTM7G9CAACAH3Htb0IAAADrFe5vQgAAgLa67m9CAAAAGanwb0IAAIDkTfFvQgAAALDy8W9CAACAe5fyb0IAAABHPPNvQgAAgKkq9W9CAAAAdc/1b0IAAIBAdPZvQgAAAAwZ929CAACA1733b0IAAAA6rPlvQgAAgAVR+m9CAAAA0fX6b0IAAICcmvtvQgAAAGg//G9CAACAyi3+b0IAAACW0v5vQgAAgGF3/29CAACAFg4AcEIAAEB8YABwQgAAgK1XAXBCAABAE6oBcEIAAAB5/AFwQgAAwN5OAnBCAACARKECcEIAAMB1mANwQgAAgNvqA3BCAABAQT0EcEIAAACnjwRwQgAAwAziBHBCAAAAPtkFcEIAAMCjKwZwQgAAgAl+BnBCAAAA1SIHcEIAAEAGGghwQgAAAGxsCHBCAADA0b4IcEIAAIA3EQlwQgAAQJ1jCXBCAACAzloKcEIAAEA0rQpwQgAAAJr/CnBCAADA/1ELcEIAAIBlpAtwQgAAwJabDHBCAACA/O0McEIAAEBiQA1wQgAAAMiSDXBCAADALeUNcEIAAABf3A5wQgAAwMQuD3BCAACAKoEPcEIAAECQ0w9wQgAAQCcdEXBCAAAAjW8RcEIAAMDywRFwQgAAgFgUEnBCAABAvmYScEIAAIDvXRNwQgAAQFWwE3BCAAAAuwIUcEIAAMAgVRRwQgAAgIanFHBCAADAt54VcEIAAIAd8RVwQgAAQINDFnBCAAAA6ZUWcEIAAMBO6BZwQgAAwOUxGHBCAACAS4QYcEIAAECx1hhwQgAAABcpGXBCAABASCAacEIAAACuchpwQgAAwBPFGnBCAACAeRcbcEIAAEDfaRtwQgAAgBBhHHBCAABAdrMccEIAAADcBR1wQgAAwEFYHXBCAACAp6odcEIAAMDYoR5wQgAAgD70HnBCAABApEYfcEIAAAAKmR9wQgAAwG/rH3BCAAAAoeIgcEIAAMAGNSFwQgAAgGyHIXBCAABA0tkhcEIAAAA4LCJwQgAAAM91I3BCAADANMgjcEIAAICaGiRwQgAAQABtJHBCAACAMWQlcEIAAECXtiVwQgAAAP0IJnBCAADAYlsmcEIAAIDIrSZwQgAAwPmkJ3BCAACAX/cncEIAAEDFSShwQgAAACucKHBCAADAkO4ocEIAAADC5SlwQgAAwCc4KnBCAACAjYoqcEIAAEDz3CpwQgAAAFkvK3BCAABAiiYscEIAAADweCxwQgAAwFXLLHBCAACAux0tcEIAAIBSZy5wQgAAQLi5LnBCAAAAHgwvcEIAAMCDXi9wQgAAgOmwL3BCAADAGqgwcEIAAICA+jBwQgAAQOZMMXBCAAAATJ8xcEIAAMCx8TFwQgAAAOPoMnBCAADASDszcEIAAICujTNwQgAAQBTgM3BCAAAAejI0cEIAAECrKTVwQgAAABF8NXBCAADAds41cEIAAIDcIDZwQgAAQEJzNnBCAACAc2o3cEIAAEDZvDdwQgAAAD8POHBCAADApGE4cEIAAIAKtDhwQgAAwDurOXBCAACAof05cEIAAEAHUDpwQgAAAG2iOnBCAADA0vQ6cEIAAAAE7DtwQgAAwGk+PHBCAACAz5A8cEIAAEA14zxwQgAAAJs1PXBCAABAzCw+cEIAAAAyfz5wQgAAwJfRPnBCAACA/SM/cEIAAEBjdj9wQgAAgJRtQHBCAABA+r9AcEIAAABgEkFwQgAAwMVkQXBCAACAK7dBcEIAAIDCAENwQgAAQChTQ3BCAAAAjqVDcEIAAMDz90NwQgAAACXvRHBCAADAikFFcEIAAIDwk0VwQgAAQFbmRXBCAAAAvDhGcEIAAEDtL0dwQgAAAFOCR3BCAADAuNRHcEIAAIAeJ0hwQgAAQIR5SHBCAACAtXBJcEIAAEAbw0lwQgAAAIEVSnBCAADA5mdKcEIAAIBMukpwQgAAwH2xS3BCAACA4wNMcEIAAEBJVkxwQgAAAK+oTHBCAADAFPtMcEIAAMCrRE5wQgAAgBGXTnBCAABAd+lOcEIAAADdO09wQgAAQA4zUHBCAAAAdIVQcEIAAMDZ11BwQgAAgD8qUXBCAABApXxRcEIAAIDWc1JwQgAAQDzGUnBCAAAAohhTcEIAAMAHa1NwQgAAgG29U3BCAADAnrRUcEIAAIAEB1VwQgAAQGpZVXBCAAAA0KtVcEIAAMA1/lVwQgAAAGf1VnBCAADAzEdXcEIAAIAymldwQgAAQJjsV3BCAAAA/j5YcEIAAEAvNllwQgAAAJWIWXBCAADA+tpZcEIAAIBgLVpwQgAAQMZ/WnBCAACA93ZbcEIAAEBdyVtwQgAAAMMbXHBCAADAKG5ccEIAAICOwFxwQgAAwL+3XXBCAACAJQpecEIAAECLXF5wQgAAAPGuXnBCAADAVgFfcEIAAACI+F9wQgAAwO1KYHBCAACAU51gcEIAAEC572BwQgAAAB9CYXBCAAAAtoticEIAAMAb3mJwQgAAgIEwY3BCAABA54JjcEIAAIAYemRwQgAAQH7MZHBCAAAA5B5lcEIAAMBJcWVwQgAAgK/DZXBCAADA4LpmcEIAAIBGDWdwQgAAQKxfZ3BCAAAAErJncEIAAMB3BGhwQgAAAKn7aHBCAADADk5pcEIAAIB0oGlwQgAAQNryaXBCAAAAQEVqcEIAAEBxPGtwQgAAANeOa3BCAADAPOFrcEIAAICiM2xwQgAAQAiGbHBCAACAOX1tcEIAAECfz21wQgAAAAUibnBCAADAanRucEIAAIDQxm5wQgAAwAG+b3BCAACAZxBwcEIAAEDNYnBwQgAAADO1cHBCAADAmAdxcEIAAADK/nFwQgAAwC9RcnBCAACAlaNycEIAAED79XJwQgAAAGFIc3BCAABAkj90cEIAAAD4kXRwQgAAwF3kdHBCAACAwzZ1cEIAAEApiXVwQgAAgFqAdnBCAABAwNJ2cEIAAAAmJXdwQgAAwIt3d3BCAACA8cl3cEIAAMAiwXhwQgAAgIgTeXBCAABA7mV5cEIAAABUuHlwQgAAwLkKenBCAAAA6wF7cEIAAMBQVHtwQgAAgLame3BCAAAAgkt8cEIAAECzQn1wQgAAABmVfXBCAADAfud9cEIAAIDkOX5wQgAAQEqMfnBCAACAe4N/cEIAAEDh1X9wQgAAAEcogHBCAADArHqAcEIAAIASzYBwQgAAwEPEgXBCAACAqRaCcEIAAEAPaYJwQgAAAHW7gnBCAADA2g2DcEIAAAAMBYRwQgAAwHFXhHBCAACA16mEcEIAAEA9/IRwQgAAAKNOhXBCAAAAOpiGcEIAAMCf6oZwQgAAgAU9h3BCAABAa4+HcEIAAEAC2YhwQgAAAGgriXBCAADAzX2JcEIAAIAz0IlwQgAAwGTHinBCAACAyhmLcEIAAEAwbItwQgAAAJa+i3BCAADA+xCMcEIAAMCSWo1wQgAAgPisjXBCAABAXv+NcEIAAADEUY5wQgAAQPVIj3BCAAAAW5uPcEIAAMDA7Y9wQgAAgCZAkHBCAABAjJKQcEIAAIC9iZFwQgAAQCPckXBCAAAAiS6ScEIAAMDugJJwQgAAgFTTknBCAADAhcqTcEIAAIDrHJRwQgAAQFFvlHBCAAAAt8GUcEIAAMAcFJVwQgAAAE4LlnBCAADAs12WcEIAAIAZsJZwQgAAQH8Cl3BCAAAA5VSXcEIAAAB8nphwQgAAwOHwmHBCAACAR0OZcEIAAECtlZlwQgAAgN6MmnBCAABARN+acEIAAACqMZtwQgAAwA+Em3BCAACAddabcEIAAMCmzZxwQgAAgAwgnXBCAABAcnKdcEIAAADYxJ1wQgAAwD0XnnBCAAAAbw6fcEIAAMDUYJ9wQgAAgDqzn3BCAABAoAWgcEIAAAAGWKBwQgAAQDdPoXBCAAAAnaGhcEIAAMAC9KFwQgAAgGhGonBCAABAzpiicEIAAID/j6NwQgAAQGXio3BCAAAAyzSkcEIAAMAwh6RwQgAAgJbZpHBCAADAx9ClcEIAAIAtI6ZwQgAAQJN1pnBCAAAA+cemcEIAAMBeGqdwQgAAAJARqHBCAADA9WOocEIAAIBbtqhwQgAAQMEIqXBCAABAWFKqcEIAAAC+pKpwQgAAwCP3qnBCAACAiUmrcEIAAEDvm6twQgAAgCCTrHBCAABAhuWscEIAAADsN61wQgAAwFGKrXBCAACAt9ytcEIAAMDo065wQgAAgE4mr3BCAABAtHivcEIAAAAay69wQgAAwH8dsHBCAAAAsRSxcEIAAMAWZ7FwQgAAgHy5sXBCAABA4guycEIAAABIXrJwQgAAQHlVs3BCAAAA36ezcEIAAMBE+rNwQgAAgKpMtHBCAABAEJ+0cEIAAIBBlrVwQgAAQKfotXBCAAAADTu2cEIAAMByjbZwQgAAgNjftnBCAACAbym4cEIAAEDVe7hwQgAAADvOuHBCAADAoCC5cEIAAADSF7pwQgAAwDdqunBCAACAnby6cEIAAEADD7twQgAAAGlhu3BCAABAmli8cEIAAAAAq7xwQgAAwGX9vHBCAACAy0+9cEIAAEAxor1wQgAAgGKZvnBCAABAyOu+cEIAAAAuPr9wQgAAwJOQv3BCAACA+eK/cEIAAMAq2sBwQgAAgJAswXBCAABA9n7BcEIAAABc0cFwQgAAwMEjwnBCAAAA8xrDcEIAAIC+v8NwQgAAQCQSxHBCAAAAimTEcEIAAEC7W8VwQgAAACGuxXBCAADAhgDGcEIAAIDsUsZwQgAAQFKlxnBCAACAg5zHcEIAAEDp7sdwQgAAAE9ByHBCAADAtJPIcEIAAIAa5shwQgAAwEvdyXBCAACAsS/KcEIAAEAXgspwQgAAAH3UynBCAADA4ibLcEIAAAAUHsxwQgAAwHlwzHBCAACA38LMcEIAAEBFFc1wQgAAAKtnzXBCAABA3F7OcEIAAABCsc5wQgAAwKcDz3BCAACADVbPcEIAAEBzqM9wQgAAgKSf0HBCAABACvLQcEIAAABwRNFwQgAAwNWW0XBCAACAO+nRcEIAAMBs4NJwQgAAgNIy03BCAABAOIXTcEIAAACe19NwQgAAwAMq1HBCAAAANSHVcEIAAMCac9VwQgAAgADG1XBCAABAZhjWcEIAAADMatZwQgAAAGO013BCAADAyAbYcEIAAIAuWdhwQgAAQJSr2HBCAACAxaLZcEIAAEAr9dlwQgAAAJFH2nBCAADA9pnacEIAAIBc7NpwQgAAwI3j23BCAACA8zXccEIAAEBZiNxwQgAAAL/a3HBCAADAJC3dcEIAAABWJN5wQgAAwLt23nBCAACAIcnecEIAAECHG99wQgAAAO1t33BCAABAHmXgcEIAAACEt+BwQgAAwOkJ4XBCAACAT1zhcEIAAEC1ruFwQgAAgOal4nBCAABATPjicEIAAACySuNwQgAAwBed43BCAACAfe/jcEIAAMCu5uRwQgAAgBQ55XBCAABAeovlcEIAAADg3eVwQgAAwEUw5nBCAAAAdyfncEIAAMDceedwQgAAgELM53BCAABAqB7ocEIAAAAOcehwQgAAQD9o6XBCAAAApbrpcEIAAMAKDepwQgAAgHBf6nBCAABA1rHqcEIAAIAHqetwQgAAQG3763BCAAAA003scEIAAMA4oOxwQgAAgJ7y7HBCAADAz+ntcEIAAIA1PO5wQgAAQJuO7nBCAAAAAeHucEIAAMBmM+9wQgAAAJgq8HBCAADA/XzwcEIAAIBjz/BwQgAAAC908XBCAABAYGvycEIAAADGvfJwQgAAwCsQ83BCAACAkWLzcEIAAED3tPNwQgAAgCis9HBCAABAjv70cEIAAAD0UPVwQgAAwFmj9XBCAACAv/X1cEIAAMDw7PZwQgAAgFY/93BCAABAvJH3cEIAAAAi5PdwQgAAwIc2+HBCAAAAuS35cEIAAMAegPlwQgAAgITS+XBCAABA6iT6cEIAAABQd/pwQgAAAOfA+3BCAADATBP8cEIAAICyZfxwQgAAQBi4/HBCAAAAFVT+cEIAAMB6pv5wQgAAgOD4/nBCAADAEfD/cEIAAIB3QgBxQgAAQN2UAHFCAAAAQ+cAcUIAAMCoOQFxQgAAwD+DAnFCAACApdUCcUIAAEALKANxQgAAAHF6A3FCAABAonEEcUIAAAAIxARxQgAAwG0WBXFCAACA02gFcUIAAEA5uwVxQgAAgGqyBnFCAABA0AQHcUIAAAA2VwdxQgAAwJupB3FCAACAAfwHcUIAAMAy8whxQgAAgJhFCXFCAABA/pcJcUIAAABk6glxQgAAwMk8CnFCAAAA+zMLcUIAAMBghgtxQgAAgMbYC3FCAABALCsMcUIAAACSfQxxQgAAACnHDXFCAADAjhkOcUIAAID0aw5xQgAAQFq+DnFCAACAi7UPcUIAAEDxBxBxQgAAAFdaEHFCAADAvKwQcUIAAIAi/xBxQgAAwFP2EXFCAACAuUgScUIAAEAfmxJxQgAAAIXtEnFCAADA6j8TcUIAAAAcNxRxQgAAwIGJFHFCAACA59sUcUIAAEBNLhVxQgAAALOAFXFCAABA5HcWcUIAAABKyhZxQgAAwK8cF3FCAACAFW8XcUIAAEB7wRdxQgAAgKy4GHFCAABAEgsZcUIAAAB4XRlxQgAAwN2vGXFCAACAQwIacUIAAMB0+RpxQgAAgNpLG3FCAABAQJ4bcUIAAACm8BtxQgAAAD06HXFCAADAoowdcUIAAIAI3x1xQgAAQG4xHnFCAAAA1IMecUIAAEAFex9xQgAAAGvNH3FCAADA0B8gcUIAAIA2ciBxQgAAQJzEIHFCAACAzbshcUIAAEAzDiJxQgAAAJlgInFCAADA/rIicUIAAIBkBSNxQgAAwJX8I3FCAACA+04kcUIAAEBhoSRxQgAAAMfzJHFCAADALEYlcUIAAABePSZxQgAAwMOPJnFCAACAKeImcUIAAECPNCdxQgAAAPWGJ3FCAABAJn4ocUIAAACM0ChxQgAAwPEiKXFCAACAV3UpcUIAAEC9xylxQgAAgO6+KnFCAABAVBErcUIAAAC6YytxQgAAwB+2K3FCAACAhQgscUIAAIAcUi1xQgAAQIKkLXFCAAAA6PYtcUIAAMBNSS5xQgAAAH9AL3FCAADA5JIvcUIAAIBK5S9xQgAAQLA3MHFCAAAAFoowcUIAAEBHgTFxQgAAAK3TMXFCAADAEiYycUIAAIB4eDJxQgAAQN7KMnFCAACAD8IzcUIAAEB1FDRxQgAAANtmNHFCAADAQLk0cUIAAICmCzVxQgAAwNcCNnFCAACAPVU2cUIAAECjpzZxQgAAAAn6NnFCAADAbkw3cUIAAACgQzhxQgAAwAWWOHFCAABA0To5cUIAAAA3jTlxQgAAQGiEOnFCAAAAztY6cUIAAMAzKTtxQgAAgJl7O3FCAABA/807cUIAAIAwxTxxQgAAQJYXPXFCAAAA/Gk9cUIAAMBhvD1xQgAAgMcOPnFCAADA+AU/cUIAAIBeWD9xQgAAQMSqP3FCAAAAKv0/cUIAAMCPT0BxQgAAAMFGQXFCAADAJplBcUIAAICM60FxQgAAQPI9QnFCAAAAWJBCcUIAAECJh0NxQgAAAO/ZQ3FCAADAVCxEcUIAAIC6fkRxQgAAQCDRRHFCAACAUchFcUIAAEC3GkZxQgAAAB1tRnFCAADAgr9GcUIAAIDoEUdxQgAAwBkJSHFCAACAf1tIcUIAAEDlrUhxQgAAAEsASXFCAADAsFJJcUIAAADiSUpxQgAAwEecSnFCAACAre5KcUIAAEATQUtxQgAAAHmTS3FCAAAAEN1McUIAAMB1L01xQgAAgNuBTXFCAABAQdRNcUIAAIByy05xQgAAQNgdT3FCAAAAPnBPcUIAAMCjwk9xQgAAgAkVUHFCAADAOgxRcUIAAICgXlFxQgAAQAaxUXFCAAAAbANScUIAAMDRVVJxQgAAAANNU3FCAADAaJ9TcUIAAIDO8VNxQgAAQDREVHFCAAAAmpZUcUIAAEDLjVVxQgAAADHgVXFCAADAljJWcUIAAID8hFZxQgAAQGLXVnFCAACAk85XcUIAAED5IFhxQgAAAF9zWHFCAADAxMVYcUIAAIAqGFlxQgAAwFsPWnFCAACAwWFacUIAAEAntFpxQgAAAI0GW3FCAADA8lhbcUIAAAAkUFxxQgAAwImiXHFCAACA7/RccUIAAEBVR11xQgAAALuZXXFCAABA7JBecUIAAABS415xQgAAwLc1X3FCAACAHYhfcUIAAECD2l9xQgAAgLTRYHFCAABAGiRhcUIAAACAdmFxQgAAwOXIYXFCAACASxticUIAAMB8EmNxQgAAgOJkY3FCAABASLdjcUIAAACuCWRxQgAAwBNcZHFCAAAARVNlcUIAAMCqpWVxQgAAgBD4ZXFCAAAA3JxmcUIAAEANlGdxQgAAAHPmZ3FCAADA2DhocUIAAIA+i2hxQgAAQKTdaHFCAACA1dRpcUIAAEA7J2pxQgAAAKF5anFCAADABsxqcUIAAIBsHmtxQgAAwJ0VbHFCAACAA2hscUIAAEBpumxxQgAAAM8MbXFCAADANF9tcUIAAABmVm5xQgAAwMuobnFCAACAMftucUIAAECXTW9xQgAAAP2fb3FCAABALpdwcUIAAMD5O3FxQgAAgF+OcXFCAABAxeBxcUIAAID213JxQgAAAMJ8c3FCAADAJ89zcUIAAICNIXRxQgAAwL4YdXFCAACAJGt1cUIAAECKvXVxQgAAAPAPdnFCAADAVWJ2cUIAAACHWXdxQgAAwOyrd3FCAACAUv53cUIAAEC4UHhxQgAAAB6jeHFCAAAAtex5cUIAAMAaP3pxQgAAgICRenFCAABA5uN6cUIAAIAX23txQgAAQH0tfHFCAAAA4398cUIAAMBI0nxxQgAAgK4kfXFCAADA3xt+cUIAAIBFbn5xQgAAQKvAfnFCAAAAERN/cUIAAMB2ZX9xQgAAAKhcgHFCAADADa+AcUIAAIBzAYFxQgAAQNlTgXFCAAAAP6aBcUIAAADW74JxQgAAwDtCg3FCAACAoZSDcUIAAEAH54NxQgAAgDjehHFCAABAnjCFcUIAAAAEg4VxQgAAwGnVhXFCAACAzyeGcUIAAMAAH4dxQgAAgGZxh3FCAABAzMOHcUIAAAAyFohxQgAAwJdoiHFCAAAAyV+JcUIAAMAusolxQgAAgJQEinFCAABA+laKcUIAAABgqYpxQgAAQJGgi3FCAAAA9/KLcUIAAMBcRYxxQgAAgMKXjHFCAACAWeGNcUIAAEC/M45xQgAAACWGjnFCAADAitiOcUIAAIDwKo9xQgAAwCEikHFCAACAh3SQcUIAAEDtxpBxQgAAAFMZkXFCAADAuGuRcUIAAADqYpJxQgAAwE+1knFCAACAtQeTcUIAAEAbWpNxQgAAAIGsk3FCAABAsqOUcUIAAAAY9pRxQgAAwH1IlXFCAACA45qVcUIAAEBJ7ZVxQgAAgHrklnFCAABA4DaXcUIAAABGiZdxQgAAwKvbl3FCAACAES6YcUIAAMBCJZlxQgAAgKh3mXFCAABADsqZcUIAAAB0HJpxQgAAwNlumnFCAAAAC2abcUIAAMBwuJtxQgAAgNYKnHFCAABAPF2ccUIAAACir5xxQgAAQNOmnXFCAAAAOfmdcUIAAMCeS55xQgAAgASennFCAABAavCecUIAAICb559xQgAAQAE6oHFCAAAAZ4ygcUIAAMDM3qBxQgAAgDIxoXFCAACAyXqicUIAAEAvzaJxQgAAAJUfo3FCAADA+nGjcUIAAAAsaaRxQgAAwJG7pHFCAACA9w2lcUIAAEBdYKVxQgAAAMOypXFCAABA9KmmcUIAAABa/KZxQgAAwL9Op3FCAACAJaGncUIAAECL86dxQgAAgLzqqHFCAABAIj2pcUIAAACIj6lxQgAAwO3hqXFCAACAUzSqcUIAAMCEK6txQgAAgOp9q3FCAABAUNCrcUIAAAC2IqxxQgAAwBt1rHFCAAAATWytcUIAAMCyvq1xQgAAgBgRrnFCAABAfmOucUIAAEAVra9xQgAAAHv/r3FCAADA4FGwcUIAAIBGpLBxQgAAQKz2sHFCAACA3e2xcUIAAEBDQLJxQgAAAKmSsnFCAADADuWycUIAAIB0N7NxQgAAwKUutHFCAACAC4G0cUIAAEBx07RxQgAAANcltXFCAADAPHi1cUIAAABub7ZxQgAAwNPBtnFCAACAORS3cUIAAECfZrdxQgAAAAW5t3FCAABANrC4cUIAAACcArlxQgAAwAFVuXFCAACAZ6e5cUIAAEDN+blxQgAAgP7wunFCAABAZEO7cUIAAADKlbtxQgAAwC/ou3FCAACAlTq8cUIAAMDGMb1xQgAAgCyEvXFCAABAkta9cUIAAAD4KL5xQgAAwF17vnFCAAAAj3K/cUIAAMD0xL9xQgAAgFoXwHFCAABAwGnAcUIAAAAmvMBxQgAAAL0FwnFCAADAIljCcUIAAICIqsJxQgAAQO78wnFCAACAH/TDcUIAAECFRsRxQgAAAOuYxHFCAADAUOvEcUIAAIC2PcVxQgAAwOc0xnFCAACATYfGcUIAAECz2cZxQgAAABksx3FCAADAfn7HcUIAAACwdchxQgAAwBXIyHFCAACAexrJcUIAAEDhbMlxQgAAAEe/yXFCAABAeLbKcUIAAADeCMtxQgAAwENby3FCAACAqa3LcUIAAEAPAMxxQgAAgED3zHFCAABApknNcUIAAAAMnM1xQgAAwHHuzXFCAACA10DOcUIAAMAIOM9xQgAAgG6Kz3FCAABA1NzPcUIAAAA6L9BxQgAAwJ+B0HFCAAAA0XjRcUIAAMA2y9FxQgAAgJwd0nFCAABAAnDScUIAAABowtJxQgAAQJm503FCAAAA/wvUcUIAAMBkXtRxQgAAgMqw1HFCAABAMAPVcUIAAIBh+tVxQgAAQMdM1nFCAAAALZ/WcUIAAMCS8dZxQgAAgPhD13FCAADAKTvYcUIAAICPjdhxQgAAQPXf2HFCAAAAWzLZcUIAAMDAhNlxQgAAAPJ72nFCAADAV87acUIAAIC9INtxQgAAQCNz23FCAAAAicXbcUIAAEC6vNxxQgAAACAP3XFCAADAhWHdcUIAAEBRBt5xQgAAgIL93nFCAABA6E/fcUIAAABOot9xQgAAwLP033FCAACAGUfgcUIAAMBKPuFxQgAAgLCQ4XFCAABAFuPhcUIAAAB8NeJxQgAAwOGH4nFCAAAAE3/jcUIAAMB40eNxQgAAgN4j5HFCAABARHbkcUIAAACqyORxQgAAQNu/5XFCAAAAQRLmcUIAAMCmZOZxQgAAQHIJ53FCAACAowDocUIAAEAJU+hxQgAAAG+l6HFCAACAOkrpcUIAAMBrQepxQgAAgNGT6nFCAABAN+bqcUIAAACdOOtxQgAAwAKL63FCAAAANILscUIAAMCZ1OxxQgAAgP8m7XFCAABAZXntcUIAAADLy+1xQgAAAGIV73FCAADAx2fvcUIAAIAtuu9xQgAAQJMM8HFCAACAxAPxcUIAAEAqVvFxQgAAAJCo8XFCAADA9frxcUIAAIBbTfJxQgAAwIxE83FCAACA8pbzcUIAAEBY6fNxQgAAAL479HFCAADAI470cUIAAABVhfVxQgAAwLrX9XFCAACAICr2cUIAAECGfPZxQgAAAOzO9nFCAAAAgxj4cUIAAMDoavhxQgAAgE69+HFCAABAtA/5cUIAAIDlBvpxQgAAQEtZ+nFCAAAAsav6cUIAAMAW/vpxQgAAgHxQ+3FCAADArUf8cUIAAIATmvxxQgAAQHns/HFCAAAA3z79cUIAAMBEkf1xQgAAAHaI/nFCAADA29r+cUIAAIBBLf9xQgAAQKd//3FCAAAADdL/cUIAAEA+yQByQgAAAKQbAXJCAADACW4BckIAAIBvwAFyQgAAQNUSAnJCAACABgoDckIAAEBsXANyQgAAANKuA3JCAADANwEEckIAAICdUwRyQgAAwM5KBXJCAACANJ0FckIAAECa7wVyQgAAAABCBnJCAADAZZQGckIAAACXiwdyQgAAwPzdB3JCAACAYjAIckIAAEDIgghyQgAAQF/MCXJCAAAAxR4KckIAAMAqcQpyQgAAgJDDCnJCAABA9hULckIAAIAnDQxyQgAAQI1fDHJCAAAA87EMckIAAMBYBA1yQgAAgL5WDXJCAADA700OckIAAIBVoA5yQgAAQLvyDnJCAAAAIUUPckIAAMCGlw9yQgAAALiOEHJCAADAHeEQckIAAICDMxFyQgAAQOmFEXJCAAAAT9gRckIAAECAzxJyQgAAAOYhE3JCAADAS3QTckIAAICxxhNyQgAAQBcZFHJCAACASBAVckIAAECuYhVyQgAAABS1FXJCAADAeQcWckIAAIDfWRZyQgAAgHajF3JCAABA3PUXckIAAABCSBhyQgAAwKeaGHJCAAAA2ZEZckIAAMA+5BlyQgAAgKQ2GnJCAABACokackIAAABw2xpyQgAAQKHSG3JCAAAAByUcckIAAMBsdxxyQgAAgNLJHHJCAABAOBwdckIAAIBpEx5yQgAAQM9lHnJCAAAANbgeckIAAMCaCh9yQgAAgABdH3JCAADAMVQgckIAAICXpiByQgAAQP34IHJCAAAAY0shckIAAMDInSFyQgAAAPqUInJCAADAX+cickIAAIDFOSNyQgAAQCuMI3JCAABAwtUkckIAAAAoKCVyQgAAwI16JXJCAACA88wlckIAAEBZHyZyQgAAgIoWJ3JCAABA8GgnckIAAABWuydyQgAAwLsNKHJCAACAIWAockIAAMBSVylyQgAAgLipKXJCAABAHvwpckIAAACETipyQgAAwOmgKnJCAAAAG5grckIAAMCA6ityQgAAgOY8LHJCAABATI8sckIAAACy4SxyQgAAQOPYLXJCAAAASSsuckIAAMCufS5yQgAAgBTQLnJCAABAeiIvckIAAICrGTByQgAAQBFsMHJCAAAAd74wckIAAMDcEDFyQgAAgEJjMXJCAADAc1oyckIAAIDZrDJyQgAAQD//MnJCAAAApVEzckIAAMAKpDNyQgAAADybNHJCAADAoe00ckIAAIAHQDVyQgAAQG2SNXJCAAAA0+Q1ckIAAEAE3DZyQgAAAGouN3JCAADAz4A3ckIAAIA10zdyQgAAQJslOHJCAABAMm85ckIAAACYwTlyQgAAwP0TOnJCAACAY2Y6ckIAAMCUXTtyQgAAgPqvO3JCAABAYAI8ckIAAADGVDxyQgAAwCunPHJCAAAAXZ49ckIAAMDC8D1yQgAAgChDPnJCAABAjpU+ckIAAAD05z5yQgAAQCXfP3JCAAAAizFAckIAAMDwg0ByQgAAgFbWQHJCAABAvChBckIAAIDtH0JyQgAAQFNyQnJCAAAAucRCckIAAMAeF0NyQgAAgIRpQ3JCAADAtWBEckIAAIAbs0RyQgAAQIEFRXJCAAAA51dFckIAAMBMqkVyQgAAAH6hRnJCAADA4/NGckIAAIBJRkdyQgAAQK+YR3JCAAAAFetHckIAAEBG4khyQgAAAKw0SXJCAADAEYdJckIAAIB32UlyQgAAQN0rSnJCAACADiNLckIAAEB0dUtyQgAAANrHS3JCAADAPxpMckIAAIClbExyQgAAwNZjTXJCAACAPLZNckIAAECiCE5yQgAAAAhbTnJCAADAba1OckIAAACfpE9yQgAAwAT3T3JCAACAaklQckIAAEDQm1ByQgAAADbuUHJCAABAZ+VRckIAAADNN1JyQgAAwDKKUnJCAABA/i5TckIAAIAvJlRyQgAAQJV4VHJCAAAA+8pUckIAAMBgHVVyQgAAgMZvVXJCAADA92ZWckIAAIBduVZyQgAAQMMLV3JCAAAAKV5XckIAAMCOsFdyQgAAAMCnWHJCAADAJfpYckIAAICLTFlyQgAAQPGeWXJCAAAAV/FZckIAAECI6FpyQgAAAO46W3JCAADAU41bckIAAIC531tyQgAAgFApXXJCAABAtntdckIAAAAczl1yQgAAwIEgXnJCAADAGGpfckIAAIB+vF9yQgAAQOQOYHJCAAAASmFgckIAAMCvs2ByQgAAAOGqYXJCAADARv1hckIAAICsT2JyQgAAQBKiYnJCAAAAePRickIAAAAPPmRyQgAAwHSQZHJCAACA2uJkckIAAEBANWVyQgAAgHEsZnJCAABA135mckIAAAA90WZyQgAAwKIjZ3JCAACACHZnckIAAMA5bWhyQgAAgJ+/aHJCAABABRJpckIAAABrZGlyQgAAwNC2aXJCAAAAAq5qckIAAMBnAGtyQgAAgM1Sa3JCAABAM6VrckIAAACZ92tyQgAAADBBbXJCAADAlZNtckIAAID75W1yQgAAQGE4bnJCAACAki9vckIAAED4gW9yQgAAAF7Ub3JCAADAwyZwckIAAIApeXByQgAAwFpwcXJCAACAwMJxckIAAEAmFXJyQgAAAIxncnJCAADA8blyckIAAAAjsXNyQgAAwIgDdHJCAACA7lV0ckIAAEBUqHRyQgAAALr6dHJCAABA6/F1ckIAAABRRHZyQgAAwLaWdnJCAACAHOl2ckIAAECCO3dyQgAAgLMyeHJCAABAGYV4ckIAAAB/13hyQgAAwOQpeXJCAACASnx5ckIAAMB7c3pyQgAAgOHFenJCAABARxh7ckIAAACtantyQgAAAES0fHJCAADAqQZ9ckIAAIAPWX1yQgAAQHWrfXJCAAAA2/19ckIAAEAM9X5yQgAAAHJHf3JCAADA15l/ckIAAIA97H9yQgAAQKM+gHJCAACA1DWBckIAAEA6iIFyQgAAAKDagXJCAADABS2CckIAAIBrf4JyQgAAwJx2g3JCAACAAsmDckIAAEBoG4RyQgAAAM5thHJCAADAM8CEckIAAABlt4VyQgAAwMoJhnJCAACAMFyGckIAAECWroZyQgAAAPwAh3JCAABALfiHckIAAACTSohyQgAAwPiciHJCAACAXu+IckIAAEDEQYlyQgAAgPU4inJCAABAW4uKckIAAADB3YpyQgAAwCYwi3JCAACAjIKLckIAAMC9eYxyQgAAgCPMjHJCAABAiR6NckIAAADvcI1yQgAAwFTDjXJCAADA6wyPckIAAIBRX49yQgAAQLexj3JCAAAAHQSQckIAAEBO+5ByQgAAALRNkXJCAADAGaCRckIAAIB/8pFyQgAAQOVEknJCAACAFjyTckIAAEB8jpNyQgAAAOLgk3JCAADARzOUckIAAICthZRyQgAAwN58lXJCAACARM+VckIAAECqIZZyQgAAABB0lnJCAADAdcaWckIAAACnvZdyQgAAwAwQmHJCAACAcmKYckIAAEDYtJhyQgAAAD4HmXJCAAAA1VCackIAAMA6o5pyQgAAgKD1mnJCAABABkibckIAAIA3P5xyQgAAQJ2RnHJCAAAAA+ScckIAAMBoNp1yQgAAgM6InXJCAADA/3+eckIAAIBl0p5yQgAAQMskn3JCAAAAMXefckIAAMCWyZ9yQgAAAMjAoHJCAADALROhckIAAICTZaFyQgAAQPm3oXJCAAAAXwqickIAAECQAaNyQgAAAPZTo3JCAADAW6ajckIAAIDB+KNyQgAAQCdLpHJCAACAWEKlckIAAEC+lKVyQgAAACTnpXJCAADAiTmmckIAAIDvi6ZyQgAAwCCDp3JCAACAhtWnckIAAEDsJ6hyQgAAAFJ6qHJCAADAt8yockIAAADpw6lyQgAAwE4WqnJCAACAtGiqckIAAEAau6pyQgAAAIANq3JCAABAsQSsckIAAAAXV6xyQgAAwHyprHJCAACA4vusckIAAEBITq1yQgAAQN+XrnJCAAAARequckIAAMCqPK9yQgAAgBCPr3JCAADAQYawckIAAICn2LByQgAAQA0rsXJCAAAAc32xckIAAMDYz7FyQgAAAArHsnJCAADAbxmzckIAAIDVa7NyQgAAQDu+s3JCAAAAoRC0ckIAAEDSB7VyQgAAADhatXJCAADAnay1ckIAAIAD/7VyQgAAQGlRtnJCAACAmki3ckIAAEAAm7dyQgAAAGbtt3JCAADAyz+4ckIAAIAxkrhyQgAAwGKJuXJCAACAyNu5ckIAAEAuLrpyQgAAAJSAunJCAADA+dK6ckIAAAAryrtyQgAAwJAcvHJCAACA9m68ckIAAEBcwbxyQgAAAMITvXJCAABA8wq+ckIAAABZXb5yQgAAwL6vvnJCAACAJAK/ckIAAECKVL9yQgAAgLtLwHJCAABAIZ7AckIAAACH8MByQgAAwOxCwXJCAACAUpXBckIAAMCDjMJyQgAAgOnewnJCAABATzHDckIAAAC1g8NyQgAAwBrWw3JCAAAATM3EckIAAMCxH8VyQgAAgBdyxXJCAABAfcTFckIAAADjFsZyQgAAQBQOx3JCAAAAemDHckIAAMDfssdyQgAAQKtXyHJCAACA3E7JckIAAEBCoclyQgAAAKjzyXJCAADADUbKckIAAIBzmMpyQgAAwKSPy3JCAACACuLLckIAAEBwNMxyQgAAANaGzHJCAADAO9nMckIAAABt0M1yQgAAwNIiznJCAACAOHXOckIAAECex85yQgAAAAQaz3JCAABANRHQckIAAACbY9ByQgAAwAC20HJCAACAZgjRckIAAID9UdJyQgAAQGOk0nJCAAAAyfbSckIAAMAuSdNyQgAAgJSb03JCAADAxZLUckIAAIAr5dRyQgAAQJE31XJCAAAA94nVckIAAMBc3NVyQgAAAI7T1nJCAADA8yXXckIAAIBZeNdyQgAAQL/K13JCAAAAJR3YckIAAAC8ZtlyQgAAwCG52XJCAACAhwvackIAAEDtXdpyQgAAgB5V23JCAABAhKfbckIAAADq+dtyQgAAwE9M3HJCAACAtZ7cckIAAMDmld1yQgAAgEzo3XJCAABAsjreckIAAAAYjd5yQgAAwH3f3nJCAAAAr9bfckIAAMAUKeByQgAAgHp74HJCAABA4M3gckIAAABGIOFyQgAAQHcX4nJCAAAA3WnickIAAMBCvOJyQgAAgKgO43JCAABADmHjckIAAEClquRyQgAAAAv95HJCAADAcE/lckIAAIDWoeVyQgAAwAeZ5nJCAACAbevmckIAAEDTPedyQgAAADmQ53JCAADAnuLnckIAAADQ2ehyQgAAwDUs6XJCAACAm37pckIAAEAB0elyQgAAAGcj6nJCAABAmBrrckIAAAD+bOtyQgAAwGO/63JCAACAyRHsckIAAEAvZOxyQgAAgGBb7XJCAABAxq3tckIAAAAsAO5yQgAAwJFS7nJCAACA96TuckIAAMAonO9yQgAAgI7u73JCAABA9EDwckIAAABak/ByQgAAwL/l8HJCAAAA8dzxckIAAMBWL/JyQgAAgLyB8nJCAABAItTyckIAAACIJvNyQgAAQLkd9HJCAAAAH3D0ckIAAMCEwvRyQgAAgOoU9XJCAABAUGf1ckIAAICBXvZyQgAAQOew9nJCAAAATQP3ckIAAMCyVfdyQgAAwEmf+HJCAACAr/H4ckIAAEAVRPlyQgAAAHuW+XJCAADA4Oj5ckIAAAAS4PpyQgAAwHcy+3JCAACA3YT7ckIAAEBD1/tyQgAAAKkp/HJCAABA2iD9ckIAAABAc/1yQgAAwKXF/XJCAACACxj+ckIAAEBxav5yQgAAgKJh/3JCAABACLT/ckIAAABuBgBzQgAAwNNYAHNCAACAOasAc0IAAMBqogFzQgAAgND0AXNCAABANkcCc0IAAACcmQJzQgAAwAHsAnNCAADAmDUEc0IAAID+hwRzQgAAQGTaBHNCAAAAyiwFc0IAAED7IwZzQgAAAGF2BnNCAADAxsgGc0IAAIAsGwdzQgAAQJJtB3NCAACAw2QIc0IAAEAptwhzQgAAAI8JCXNCAADA9FsJc0IAAIBarglzQgAAwIulCnNCAACA8fcKc0IAAEBXSgtzQgAAAL2cC3NCAADAIu8Lc0IAAABU5gxzQgAAwLk4DXNCAACAH4sNc0IAAECF3Q1zQgAAAOsvDnNCAAAAgnkPc0IAAMDnyw9zQgAAgE0eEHNCAABAs3AQc0IAAIDkZxFzQgAAQEq6EXNCAAAAsAwSc0IAAMAVXxJzQgAAgHuxEnNCAADArKgTc0IAAIAS+xNzQgAAQHhNFHNCAAAA3p8Uc0IAAMBD8hRzQgAAAHXpFXNCAADA2jsWc0IAAIBAjhZzQgAAQKbgFnNCAAAADDMXc0IAAEA9KhhzQgAAAKN8GHNCAADACM8Yc0IAAIBuIRlzQgAAQNRzGXNCAACABWsac0IAAEBrvRpzQgAAANEPG3NCAADANmIbc0IAAICctBtzQgAAwM2rHHNCAACAM/4cc0IAAECZUB1zQgAAAP+iHXNCAADAZPUdc0IAAACW7B5zQgAAwPs+H3NCAACAYZEfc0IAAEDH4x9zQgAAAC02IHNCAABAXi0hc0IAAADEfyFzQgAAwCnSIXNCAACAjyQic0IAAED1diJzQgAAQIzAI3NCAAAA8hIkc0IAAMBXZSRzQgAAgL23JHNCAADA7q4lc0IAAIBUASZzQgAAQLpTJnNCAAAAIKYmc0IAAMCF+CZzQgAAALfvJ3NCAADAHEIoc0IAAICClChzQgAAQOjmKHNCAAAATjkpc0IAAEB/MCpzQgAAAOWCKnNCAADAStUqc0IAAICwJytzQgAAQBZ6K3NCAACAR3Esc0IAAECtwyxzQgAAABMWLXNCAADAeGgtc0IAAIDeui1zQgAAwA+yLnNCAACAdQQvc0IAAEDbVi9zQgAAAEGpL3NCAADApvsvc0IAAADY8jBzQgAAwD1FMXNCAACAo5cxc0IAAEAJ6jFzQgAAAG88MnNCAABAoDMzc0IAAAAGhjNzQgAAwGvYM3NCAACA0So0c0IAAEA3fTRzQgAAgGh0NXNCAABAzsY1c0IAAAA0GTZzQgAAwJlrNnNCAACA/702c0IAAMAwtTdzQgAAgJYHOHNCAABA/Fk4c0IAAABirDhzQgAAwMf+OHNCAAAA+fU5c0IAAMBeSDpzQgAAgMSaOnNCAABAKu06c0IAAACQPztzQgAAQME2PHNCAAAAJ4k8c0IAAMCM2zxzQgAAQFiAPXNCAACAiXc+c0IAAEDvyT5zQgAAAFUcP3NCAADAum4/c0IAAIAgwT9zQgAAwFG4QHNCAACAtwpBc0IAAEAdXUFzQgAAAIOvQXNCAADA6AFCc0IAAAAa+UJzQgAAwH9LQ3NCAACA5Z1Dc0IAAEBL8ENzQgAAALFCRHNCAABA4jlFc0IAAABIjEVzQgAAwK3eRXNCAACAEzFGc0IAAEB5g0ZzQgAAQBDNR3NCAAAAdh9Ic0IAAMDbcUhzQgAAgEHESHNCAACA2A1Kc0IAAEA+YEpzQgAAAKSySnNCAADACQVLc0IAAAA7/EtzQgAAwKBOTHNCAACABqFMc0IAAEBs80xzQgAAANJFTXNCAAAAaY9Oc0IAAMDO4U5zQgAAgDQ0T3NCAABAmoZPc0IAAIDLfVBzQgAAQDHQUHNCAAAAlyJRc0IAAMD8dFFzQgAAgGLHUXNCAADAk75Sc0IAAID5EFNzQgAAQF9jU3NCAAAAxbVTc0IAAMAqCFRzQgAAAFz/VHNCAADAwVFVc0IAAIAnpFVzQgAAQI32VXNCAAAA80hWc0IAAEAkQFdzQgAAAIqSV3NCAADA7+RXc0IAAIBVN1hzQgAAQLuJWHNCAABAUtNZc0IAAAC4JVpzQgAAwB14WnNCAACAg8pac0IAAMC0wVtzQgAAgBoUXHNCAABAgGZcc0IAAADmuFxzQgAAwEsLXXNCAAAAfQJec0IAAMDiVF5zQgAAgEinXnNCAABArvlec0IAAAAUTF9zQgAAQEVDYHNCAAAAq5Vgc0IAAMAQ6GBzQgAAgHY6YXNCAABA3Ixhc0IAAIANhGJzQgAAQHPWYnNCAAAA2Shjc0IAAMA+e2NzQgAAgKTNY3NCAADA1cRkc0IAAIA7F2VzQgAAQKFpZXNCAAAAB7xlc0IAAMBsDmZzQgAAAJ4FZ3NCAADAA1hnc0IAAIBpqmdzQgAAQM/8Z3NCAABAZkZpc0IAAADMmGlzQgAAwDHraXNCAACAlz1qc0IAAED9j2pzQgAAgC6Ha3NCAABAlNlrc0IAAAD6K2xzQgAAwF9+bHNCAACAxdBsc0IAAMD2x21zQgAAgFwabnNCAABAwmxuc0IAAAAov25zQgAAwI0Rb3NCAAAAvwhwc0IAAMAkW3BzQgAAgIqtcHNCAABA8P9wc0IAAABWUnFzQgAAQIdJcnNCAAAA7Ztyc0IAAMBS7nJzQgAAgLhAc3NCAABAHpNzc0IAAIBPinRzQgAAQLXcdHNCAAAAGy91c0IAAMCAgXVzQgAAgObTdXNCAADAF8t2c0IAAIB9HXdzQgAAQONvd3NCAAAAScJ3c0IAAMCuFHhzQgAAwEVeeXNCAACAq7B5c0IAAEARA3pzQgAAAHdVenNCAABAqEx7c0IAAAAOn3tzQgAAwHPxe3NCAACA2UN8c0IAAEA/lnxzQgAAgHCNfXNCAABA1t99c0IAAAA8Mn5zQgAAwKGEfnNCAACAB9d+c0IAAMA4zn9zQgAAgJ4ggHNCAABABHOAc0IAAABqxYBzQgAAwM8XgXNCAAAAAQ+Cc0IAAMBmYYJzQgAAgMyzgnNCAABAMgaDc0IAAACYWINzQgAAQMlPhHNCAAAAL6KEc0IAAID6RoVzQgAAQGCZhXNCAACAkZCGc0IAAED34oZzQgAAAF01h3NCAADAwoeHc0IAAIAo2odzQgAAwFnRiHNCAACAvyOJc0IAAEAldolzQgAAAIvIiXNCAADA8BqKc0IAAAAiEotzQgAAwIdki3NCAACA7baLc0IAAEBTCYxzQgAAALlbjHNCAABA6lKNc0IAAABQpY1zQgAAwLX3jXNCAACAG0qOc0IAAECBnI5zQgAAgLKTj3NCAABAGOaPc0IAAAB+OJBzQgAAwOOKkHNCAACASd2Qc0IAAMB61JFzQgAAgOAmknNCAABARnmSc0IAAACsy5JzQgAAwBEek3NCAAAAQxWUc0IAAMCoZ5RzQgAAgA66lHNCAABAdAyVc0IAAADaXpVzQgAAQAtWlnNCAAAAcaiWc0IAAMDW+pZzQgAAgDxNl3NCAABAop+Xc0IAAEA56ZhzQgAAAJ87mXNCAADABI6Zc0IAAIBq4JlzQgAAwJvXmnNCAACAASqbc0IAAEBnfJtzQgAAAM3Om3NCAADAMiGcc0IAAABkGJ1zQgAAwMlqnXNCAACAL72dc0IAAECVD55zQgAAAPthnnNCAABALFmfc0IAAACSq59zQgAAwPf9n3NCAACAXVCgc0IAAEDDoqBzQgAAgPSZoXNCAABAWuyhc0IAAADAPqJzQgAAwCWRonNCAACAi+Oic0IAAMC82qNzQgAAgCItpHNCAABAiH+kc0IAAADu0aRzQgAAwFMkpXNCAAAAhRumc0IAAMDqbaZzQgAAgFDApnNCAABAthKnc0IAAAAcZadzQgAAQE1cqHNCAAAAs66oc0IAAMAYAalzQgAAgH5TqXNCAABA5KWpc0IAAADhQatzQgAAwEaUq3NCAACArOarc0IAAMDd3axzQgAAgEMwrXNCAABAqYKtc0IAAAAP1a1zQgAAwHQnrnNCAAAAph6vc0IAAMALca9zQgAAgHHDr3NCAABA1xWwc0IAAAA9aLBzQgAAQG5fsXNCAAAA1LGxc0IAAMA5BLJzQgAAQAWpsnNCAACANqCzc0IAAECc8rNzQgAAAAJFtHNCAADAZ5e0c0IAAIDN6bRzQgAAwP7gtXNCAACAZDO2c0IAAEDKhbZzQgAAADDYtnNCAADAlSq3c0IAAADHIbhzQgAAwCx0uHNCAACAksa4c0IAAED4GLlzQgAAAF5ruXNCAABAj2K6c0IAAAD1tLpzQgAAwFoHu3NCAACAwFm7c0IAAEAmrLtzQgAAgFejvHNCAAAAI0i9c0IAAMCImr1zQgAAgO7svXNCAADAH+S+c0IAAEDriL9zQgAAAFHbv3NCAADAti3Ac0IAAADoJMFzQgAAwE13wXNCAACAs8nBc0IAAEAZHMJzQgAAAH9uwnNCAABAsGXDc0IAAAAWuMNzQgAAwHsKxHNCAACA4VzEc0IAAEBHr8RzQgAAQN74xXNCAAAAREvGc0IAAMCpncZzQgAAgA/wxnNCAADAQOfHc0IAAICmOchzQgAAQAyMyHNCAAAAct7Ic0IAAMDXMMlzQgAAAAkoynNCAADAbnrKc0IAAIDUzMpzQgAAQDofy3NCAAAAoHHLc0IAAEDRaMxzQgAAADe7zHNCAADAnA3Nc0IAAIACYM1zQgAAQGiyzXNCAABA//vOc0IAAABlTs9zQgAAwMqgz3NCAACAMPPPc0IAAMBh6tBzQgAAgMc80XNCAABALY/Rc0IAAACT4dFzQgAAwPgz0nNC\",\"dtype\":\"float64\",\"shape\":[3270]},\"y\":{\"__ndarray__\":\"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\",\"dtype\":\"float64\",\"shape\":[3270]}}},\"id\":\"9af6c979-9420-4b00-84db-aca5915e5277\",\"type\":\"ColumnDataSource\"},{\"attributes\":{},\"id\":\"23b9a0a4-37ec-4b80-b7f2-09b0c2254329\",\"type\":\"YearsTicker\"},{\"attributes\":{},\"id\":\"3e5085fe-0def-4423-947f-35093d55c0f1\",\"type\":\"LinearScale\"}],\"root_ids\":[\"d3356683-39fd-4c7c-987f-635a0b783bdb\"]},\"title\":\"Bokeh Application\",\"version\":\"0.12.13\"}};\n",
       "  var render_items = [{\"docid\":\"a20c4a7e-6b08-4372-8c95-d84e7f73c0c6\",\"elementid\":\"e1391e4c-96d9-4b3f-8835-726ee38aa250\",\"modelid\":\"d3356683-39fd-4c7c-987f-635a0b783bdb\"}];\n",
       "  root.Bokeh.embed.embed_items_notebook(docs_json, render_items);\n",
       "\n",
       "  }\n",
       "  if (root.Bokeh !== undefined) {\n",
       "    embed_document(root);\n",
       "  } else {\n",
       "    var attempts = 0;\n",
       "    var timer = setInterval(function(root) {\n",
       "      if (root.Bokeh !== undefined) {\n",
       "        embed_document(root);\n",
       "        clearInterval(timer);\n",
       "      }\n",
       "      attempts++;\n",
       "      if (attempts > 100) {\n",
       "        console.log(\"Bokeh: ERROR: Unable to run BokehJS code because BokehJS library is missing\")\n",
       "        clearInterval(timer);\n",
       "      }\n",
       "    }, 10, root)\n",
       "  }\n",
       "})(window);"
      ],
      "application/vnd.bokehjs_exec.v0+json": ""
     },
     "metadata": {
      "application/vnd.bokehjs_exec.v0+json": {
       "id": "d3356683-39fd-4c7c-987f-635a0b783bdb"
      }
     },
     "output_type": "display_data"
    }
   ],
   "source": [
    "# bokeh.sampledata.download()\n",
    "\n",
    "import pandas as pd\n",
    "from bokeh.sampledata.stocks import AAPL\n",
    "\n",
    "df = pd.DataFrame(AAPL)\n",
    "df['date'] = pd.to_datetime(df['date'])\n",
    "\n",
    "# create a new plot with a datetime axis type\n",
    "p = figure(plot_width=800, plot_height=250,\n",
    "           x_axis_type=\"datetime\")\n",
    "\n",
    "p.line(df['date'], df['close'], color='navy', alpha=0.5)\n",
    "\n",
    "show(p)"
   ]
  },
  {
   "cell_type": "markdown",
   "metadata": {},
   "source": [
    "### Log Scale Axes"
   ]
  },
  {
   "cell_type": "code",
   "execution_count": 61,
   "metadata": {},
   "outputs": [
    {
     "data": {
      "text/html": [
       "\n",
       "<div class=\"bk-root\">\n",
       "    <div class=\"bk-plotdiv\" id=\"daf92f9d-0071-4010-9bcb-83699dcfdf4f\"></div>\n",
       "</div>"
      ]
     },
     "metadata": {},
     "output_type": "display_data"
    },
    {
     "data": {
      "application/javascript": [
       "(function(root) {\n",
       "  function embed_document(root) {\n",
       "    \n",
       "  var docs_json = {\"b9e6f00c-18b3-41bb-96d3-cecd8a52cf3d\":{\"roots\":{\"references\":[{\"attributes\":{\"num_minor_ticks\":10},\"id\":\"740b51e3-250f-43dd-a59a-b0c0e04171b4\",\"type\":\"LogTicker\"},{\"attributes\":{\"plot\":{\"id\":\"e69dddfa-f6f3-411d-81e6-e5197b6667fd\",\"subtype\":\"Figure\",\"type\":\"Plot\"},\"ticker\":{\"id\":\"36abe057-0779-4aa2-a1e4-d4cd701a8af2\",\"type\":\"BasicTicker\"}},\"id\":\"ada946d2-ea67-4737-b0a4-f812b2b6114c\",\"type\":\"Grid\"},{\"attributes\":{\"formatter\":{\"id\":\"81a322b2-188f-4035-8b01-dc5b02d9fa3e\",\"type\":\"BasicTickFormatter\"},\"plot\":{\"id\":\"e69dddfa-f6f3-411d-81e6-e5197b6667fd\",\"subtype\":\"Figure\",\"type\":\"Plot\"},\"ticker\":{\"id\":\"36abe057-0779-4aa2-a1e4-d4cd701a8af2\",\"type\":\"BasicTicker\"}},\"id\":\"712d1ab5-d8fb-469e-aad9-a80486741f31\",\"type\":\"LinearAxis\"},{\"attributes\":{},\"id\":\"36abe057-0779-4aa2-a1e4-d4cd701a8af2\",\"type\":\"BasicTicker\"},{\"attributes\":{\"line_color\":\"#1f77b4\",\"line_width\":2,\"x\":{\"field\":\"x\"},\"y\":{\"field\":\"y\"}},\"id\":\"6ba1a6c4-71a1-4299-9a18-f43b2c1fa01f\",\"type\":\"Line\"},{\"attributes\":{},\"id\":\"d7338b18-0055-4044-8e31-cbf28444855a\",\"type\":\"LogScale\"},{\"attributes\":{\"data_source\":{\"id\":\"68ee9521-956d-4dd7-b009-662a8d4f3ff8\",\"type\":\"ColumnDataSource\"},\"glyph\":{\"id\":\"6ba1a6c4-71a1-4299-9a18-f43b2c1fa01f\",\"type\":\"Line\"},\"hover_glyph\":null,\"muted_glyph\":null,\"nonselection_glyph\":{\"id\":\"a002db58-b78a-420e-8ae1-4f17f6a74e40\",\"type\":\"Line\"},\"selection_glyph\":null,\"view\":{\"id\":\"f68b6f1b-2083-41b5-8157-3e5f46b96515\",\"type\":\"CDSView\"}},\"id\":\"eada7c10-f21e-4a3f-844c-34b81ec98d2a\",\"type\":\"GlyphRenderer\"},{\"attributes\":{\"dimension\":1,\"plot\":{\"id\":\"e69dddfa-f6f3-411d-81e6-e5197b6667fd\",\"subtype\":\"Figure\",\"type\":\"Plot\"},\"ticker\":{\"id\":\"740b51e3-250f-43dd-a59a-b0c0e04171b4\",\"type\":\"LogTicker\"}},\"id\":\"fa17100f-21bc-4bc6-b69b-835c50ffb212\",\"type\":\"Grid\"},{\"attributes\":{\"callback\":null},\"id\":\"eef8517f-8827-4313-bf80-e0fad2e5cd3e\",\"type\":\"DataRange1d\"},{\"attributes\":{\"source\":{\"id\":\"68ee9521-956d-4dd7-b009-662a8d4f3ff8\",\"type\":\"ColumnDataSource\"}},\"id\":\"f68b6f1b-2083-41b5-8157-3e5f46b96515\",\"type\":\"CDSView\"},{\"attributes\":{\"line_alpha\":0.1,\"line_color\":\"#1f77b4\",\"line_width\":2,\"x\":{\"field\":\"x\"},\"y\":{\"field\":\"y\"}},\"id\":\"a002db58-b78a-420e-8ae1-4f17f6a74e40\",\"type\":\"Line\"},{\"attributes\":{\"data_source\":{\"id\":\"c7020ef4-1fc6-4643-a527-2ff228a372fd\",\"type\":\"ColumnDataSource\"},\"glyph\":{\"id\":\"f6226460-3741-446f-9801-d91925acf06d\",\"type\":\"Circle\"},\"hover_glyph\":null,\"muted_glyph\":null,\"nonselection_glyph\":{\"id\":\"317b3cda-6291-42b6-91af-83381e8369a3\",\"type\":\"Circle\"},\"selection_glyph\":null,\"view\":{\"id\":\"4cc28adc-57d1-44d8-9cfa-0f19518a46e0\",\"type\":\"CDSView\"}},\"id\":\"b8d5fed1-e006-45c8-a1da-de28b2d4b342\",\"type\":\"GlyphRenderer\"},{\"attributes\":{\"bottom_units\":\"screen\",\"fill_alpha\":{\"value\":0.5},\"fill_color\":{\"value\":\"lightgrey\"},\"left_units\":\"screen\",\"level\":\"overlay\",\"line_alpha\":{\"value\":1.0},\"line_color\":{\"value\":\"black\"},\"line_dash\":[4,4],\"line_width\":{\"value\":2},\"plot\":null,\"render_mode\":\"css\",\"right_units\":\"screen\",\"top_units\":\"screen\"},\"id\":\"99df48f5-6292-4976-bb15-c9f352ee55a8\",\"type\":\"BoxAnnotation\"},{\"attributes\":{},\"id\":\"cc787856-2230-4dcc-a266-cd8731879120\",\"type\":\"PanTool\"},{\"attributes\":{\"ticker\":null},\"id\":\"4bc0d149-ac40-4ac6-b88f-4ebc0c067c9b\",\"type\":\"LogTickFormatter\"},{\"attributes\":{},\"id\":\"57e9be11-11fd-46b6-a8b0-e75093ec65ea\",\"type\":\"WheelZoomTool\"},{\"attributes\":{\"overlay\":{\"id\":\"99df48f5-6292-4976-bb15-c9f352ee55a8\",\"type\":\"BoxAnnotation\"}},\"id\":\"ecbf4b4c-9b39-49fc-9fa6-1301d2cd96e8\",\"type\":\"BoxZoomTool\"},{\"attributes\":{},\"id\":\"2e37cbb8-2860-408e-80a6-14bdf64462d7\",\"type\":\"SaveTool\"},{\"attributes\":{},\"id\":\"85073560-514e-46a3-a778-fa332a3f18c4\",\"type\":\"ResetTool\"},{\"attributes\":{},\"id\":\"29dd0abe-0c34-4c16-a069-f5b345f346c5\",\"type\":\"HelpTool\"},{\"attributes\":{\"fill_alpha\":{\"value\":0.1},\"fill_color\":{\"value\":\"#1f77b4\"},\"line_alpha\":{\"value\":0.1},\"line_color\":{\"value\":\"#1f77b4\"},\"size\":{\"units\":\"screen\",\"value\":8},\"x\":{\"field\":\"x\"},\"y\":{\"field\":\"y\"}},\"id\":\"317b3cda-6291-42b6-91af-83381e8369a3\",\"type\":\"Circle\"},{\"attributes\":{\"plot\":null,\"text\":\"\"},\"id\":\"0da23066-38da-4f1e-980a-a2cba9f90ca7\",\"type\":\"Title\"},{\"attributes\":{\"callback\":null,\"column_names\":[\"x\",\"y\"],\"data\":{\"x\":[0.1,0.5,1.0,1.5,2.0,2.5,3.0],\"y\":[1.2589254117941673,3.1622776601683795,10.0,31.622776601683793,100.0,316.22776601683796,1000.0]}},\"id\":\"c7020ef4-1fc6-4643-a527-2ff228a372fd\",\"type\":\"ColumnDataSource\"},{\"attributes\":{},\"id\":\"81a322b2-188f-4035-8b01-dc5b02d9fa3e\",\"type\":\"BasicTickFormatter\"},{\"attributes\":{},\"id\":\"34b8ebe9-c861-4f51-bef0-053bb17e266e\",\"type\":\"LinearScale\"},{\"attributes\":{\"source\":{\"id\":\"c7020ef4-1fc6-4643-a527-2ff228a372fd\",\"type\":\"ColumnDataSource\"}},\"id\":\"4cc28adc-57d1-44d8-9cfa-0f19518a46e0\",\"type\":\"CDSView\"},{\"attributes\":{\"below\":[{\"id\":\"712d1ab5-d8fb-469e-aad9-a80486741f31\",\"type\":\"LinearAxis\"}],\"left\":[{\"id\":\"8d862d2c-31ba-4cf9-a30f-a04c936b4107\",\"type\":\"LogAxis\"}],\"plot_height\":400,\"plot_width\":400,\"renderers\":[{\"id\":\"712d1ab5-d8fb-469e-aad9-a80486741f31\",\"type\":\"LinearAxis\"},{\"id\":\"ada946d2-ea67-4737-b0a4-f812b2b6114c\",\"type\":\"Grid\"},{\"id\":\"8d862d2c-31ba-4cf9-a30f-a04c936b4107\",\"type\":\"LogAxis\"},{\"id\":\"fa17100f-21bc-4bc6-b69b-835c50ffb212\",\"type\":\"Grid\"},{\"id\":\"99df48f5-6292-4976-bb15-c9f352ee55a8\",\"type\":\"BoxAnnotation\"},{\"id\":\"eada7c10-f21e-4a3f-844c-34b81ec98d2a\",\"type\":\"GlyphRenderer\"},{\"id\":\"b8d5fed1-e006-45c8-a1da-de28b2d4b342\",\"type\":\"GlyphRenderer\"}],\"title\":{\"id\":\"0da23066-38da-4f1e-980a-a2cba9f90ca7\",\"type\":\"Title\"},\"toolbar\":{\"id\":\"81950b85-798c-48b4-9edd-005dc2693848\",\"type\":\"Toolbar\"},\"x_range\":{\"id\":\"eef8517f-8827-4313-bf80-e0fad2e5cd3e\",\"type\":\"DataRange1d\"},\"x_scale\":{\"id\":\"34b8ebe9-c861-4f51-bef0-053bb17e266e\",\"type\":\"LinearScale\"},\"y_range\":{\"id\":\"f949ee9a-c224-439f-b3e5-b87ef6c14ad9\",\"type\":\"DataRange1d\"},\"y_scale\":{\"id\":\"d7338b18-0055-4044-8e31-cbf28444855a\",\"type\":\"LogScale\"}},\"id\":\"e69dddfa-f6f3-411d-81e6-e5197b6667fd\",\"subtype\":\"Figure\",\"type\":\"Plot\"},{\"attributes\":{\"active_drag\":\"auto\",\"active_inspect\":\"auto\",\"active_scroll\":\"auto\",\"active_tap\":\"auto\",\"tools\":[{\"id\":\"cc787856-2230-4dcc-a266-cd8731879120\",\"type\":\"PanTool\"},{\"id\":\"57e9be11-11fd-46b6-a8b0-e75093ec65ea\",\"type\":\"WheelZoomTool\"},{\"id\":\"ecbf4b4c-9b39-49fc-9fa6-1301d2cd96e8\",\"type\":\"BoxZoomTool\"},{\"id\":\"2e37cbb8-2860-408e-80a6-14bdf64462d7\",\"type\":\"SaveTool\"},{\"id\":\"85073560-514e-46a3-a778-fa332a3f18c4\",\"type\":\"ResetTool\"},{\"id\":\"29dd0abe-0c34-4c16-a069-f5b345f346c5\",\"type\":\"HelpTool\"}]},\"id\":\"81950b85-798c-48b4-9edd-005dc2693848\",\"type\":\"Toolbar\"},{\"attributes\":{\"formatter\":{\"id\":\"4bc0d149-ac40-4ac6-b88f-4ebc0c067c9b\",\"type\":\"LogTickFormatter\"},\"plot\":{\"id\":\"e69dddfa-f6f3-411d-81e6-e5197b6667fd\",\"subtype\":\"Figure\",\"type\":\"Plot\"},\"ticker\":{\"id\":\"740b51e3-250f-43dd-a59a-b0c0e04171b4\",\"type\":\"LogTicker\"}},\"id\":\"8d862d2c-31ba-4cf9-a30f-a04c936b4107\",\"type\":\"LogAxis\"},{\"attributes\":{\"fill_color\":{\"value\":\"white\"},\"line_color\":{\"value\":\"#1f77b4\"},\"size\":{\"units\":\"screen\",\"value\":8},\"x\":{\"field\":\"x\"},\"y\":{\"field\":\"y\"}},\"id\":\"f6226460-3741-446f-9801-d91925acf06d\",\"type\":\"Circle\"},{\"attributes\":{\"callback\":null},\"id\":\"f949ee9a-c224-439f-b3e5-b87ef6c14ad9\",\"type\":\"DataRange1d\"},{\"attributes\":{\"callback\":null,\"column_names\":[\"x\",\"y\"],\"data\":{\"x\":[0.1,0.5,1.0,1.5,2.0,2.5,3.0],\"y\":[1.2589254117941673,3.1622776601683795,10.0,31.622776601683793,100.0,316.22776601683796,1000.0]}},\"id\":\"68ee9521-956d-4dd7-b009-662a8d4f3ff8\",\"type\":\"ColumnDataSource\"}],\"root_ids\":[\"e69dddfa-f6f3-411d-81e6-e5197b6667fd\"]},\"title\":\"Bokeh Application\",\"version\":\"0.12.13\"}};\n",
       "  var render_items = [{\"docid\":\"b9e6f00c-18b3-41bb-96d3-cecd8a52cf3d\",\"elementid\":\"daf92f9d-0071-4010-9bcb-83699dcfdf4f\",\"modelid\":\"e69dddfa-f6f3-411d-81e6-e5197b6667fd\"}];\n",
       "  root.Bokeh.embed.embed_items_notebook(docs_json, render_items);\n",
       "\n",
       "  }\n",
       "  if (root.Bokeh !== undefined) {\n",
       "    embed_document(root);\n",
       "  } else {\n",
       "    var attempts = 0;\n",
       "    var timer = setInterval(function(root) {\n",
       "      if (root.Bokeh !== undefined) {\n",
       "        embed_document(root);\n",
       "        clearInterval(timer);\n",
       "      }\n",
       "      attempts++;\n",
       "      if (attempts > 100) {\n",
       "        console.log(\"Bokeh: ERROR: Unable to run BokehJS code because BokehJS library is missing\")\n",
       "        clearInterval(timer);\n",
       "      }\n",
       "    }, 10, root)\n",
       "  }\n",
       "})(window);"
      ],
      "application/vnd.bokehjs_exec.v0+json": ""
     },
     "metadata": {
      "application/vnd.bokehjs_exec.v0+json": {
       "id": "e69dddfa-f6f3-411d-81e6-e5197b6667fd"
      }
     },
     "output_type": "display_data"
    }
   ],
   "source": [
    "x = [0.1, 0.5, 1.0, 1.5, 2.0, 2.5, 3.0]\n",
    "y = [10**xx for xx in x]\n",
    "\n",
    "# create a new plot with a log axis type\n",
    "p = figure(plot_width=400, plot_height=400,\n",
    "           y_axis_type=\"log\")\n",
    "\n",
    "p.line(x, y, line_width=2)\n",
    "p.circle(x, y, fill_color=\"white\", size=8)\n",
    "\n",
    "show(p)"
   ]
  },
  {
   "cell_type": "markdown",
   "metadata": {},
   "source": [
    "### Twin Axes"
   ]
  },
  {
   "cell_type": "code",
   "execution_count": 63,
   "metadata": {},
   "outputs": [
    {
     "data": {
      "text/html": [
       "\n",
       "<div class=\"bk-root\">\n",
       "    <div class=\"bk-plotdiv\" id=\"9aaf76e5-a3ee-4e58-8b40-c4cc0302872c\"></div>\n",
       "</div>"
      ]
     },
     "metadata": {},
     "output_type": "display_data"
    },
    {
     "data": {
      "application/javascript": [
       "(function(root) {\n",
       "  function embed_document(root) {\n",
       "    \n",
       "  var docs_json = {\"877bace8-2c19-428a-a63c-e0ec9eec5066\":{\"roots\":{\"references\":[{\"attributes\":{\"formatter\":{\"id\":\"543f9902-aaf8-465c-a728-260133235b1d\",\"type\":\"BasicTickFormatter\"},\"plot\":{\"id\":\"71261ab3-88c8-4124-9167-3e48f3fdc50f\",\"subtype\":\"Figure\",\"type\":\"Plot\"},\"ticker\":{\"id\":\"85a4747c-7d57-420d-b48b-f7586793baa3\",\"type\":\"BasicTicker\"}},\"id\":\"9fa6714d-a1c9-4689-b2a3-652083e89852\",\"type\":\"LinearAxis\"},{\"attributes\":{},\"id\":\"4ef18b71-efef-440e-b249-d0e1a2dfd0f0\",\"type\":\"BasicTicker\"},{\"attributes\":{\"below\":[{\"id\":\"9fa6714d-a1c9-4689-b2a3-652083e89852\",\"type\":\"LinearAxis\"}],\"extra_y_ranges\":{\"foo\":{\"id\":\"39e22f89-28d8-459c-af66-b7610d81197b\",\"type\":\"Range1d\"}},\"left\":[{\"id\":\"7916e4df-d53e-4164-8560-cc5c149c140c\",\"type\":\"LinearAxis\"}],\"renderers\":[{\"id\":\"9fa6714d-a1c9-4689-b2a3-652083e89852\",\"type\":\"LinearAxis\"},{\"id\":\"71bb02e2-c204-4370-9ff5-be2118c7bfcf\",\"type\":\"Grid\"},{\"id\":\"7916e4df-d53e-4164-8560-cc5c149c140c\",\"type\":\"LinearAxis\"},{\"id\":\"d6f8820b-b6ec-4794-bf5e-8fb61d05f919\",\"type\":\"Grid\"},{\"id\":\"ae00ea4b-f9f3-4e9e-aeda-47499eedc698\",\"type\":\"BoxAnnotation\"},{\"id\":\"9dc04312-f0f7-4f83-9eb0-b6a7926af760\",\"type\":\"GlyphRenderer\"},{\"id\":\"d9f31eea-aaf2-4756-b36d-9d24a52e162a\",\"type\":\"GlyphRenderer\"},{\"id\":\"cd7aaf9a-0cd2-4a5c-b16b-fbc29e5379fc\",\"type\":\"LinearAxis\"}],\"right\":[{\"id\":\"cd7aaf9a-0cd2-4a5c-b16b-fbc29e5379fc\",\"type\":\"LinearAxis\"}],\"title\":{\"id\":\"5ffaa7cc-6cb4-4bef-b3c5-09fa2bc7e09c\",\"type\":\"Title\"},\"toolbar\":{\"id\":\"6e6778d2-36d9-495c-938a-2a2e505e5984\",\"type\":\"Toolbar\"},\"x_range\":{\"id\":\"69166ece-57ee-42a0-8f85-89baa8685f43\",\"type\":\"Range1d\"},\"x_scale\":{\"id\":\"3b79007f-af28-4fe5-a3c0-8a6e7012a016\",\"type\":\"LinearScale\"},\"y_range\":{\"id\":\"f3bf2bb6-f418-4a46-b47f-7abdd52f7c50\",\"type\":\"Range1d\"},\"y_scale\":{\"id\":\"003025af-07ca-44d2-9b43-63e1aa0dbf61\",\"type\":\"LinearScale\"}},\"id\":\"71261ab3-88c8-4124-9167-3e48f3fdc50f\",\"subtype\":\"Figure\",\"type\":\"Plot\"},{\"attributes\":{\"callback\":null,\"end\":100},\"id\":\"39e22f89-28d8-459c-af66-b7610d81197b\",\"type\":\"Range1d\"},{\"attributes\":{\"formatter\":{\"id\":\"8443b976-011c-4a77-9810-258950c3df09\",\"type\":\"BasicTickFormatter\"},\"plot\":{\"id\":\"71261ab3-88c8-4124-9167-3e48f3fdc50f\",\"subtype\":\"Figure\",\"type\":\"Plot\"},\"ticker\":{\"id\":\"248e15f1-5fe0-4c5c-bfd6-33bf05665ee2\",\"type\":\"BasicTicker\"}},\"id\":\"7916e4df-d53e-4164-8560-cc5c149c140c\",\"type\":\"LinearAxis\"},{\"attributes\":{},\"id\":\"3b79007f-af28-4fe5-a3c0-8a6e7012a016\",\"type\":\"LinearScale\"},{\"attributes\":{},\"id\":\"003025af-07ca-44d2-9b43-63e1aa0dbf61\",\"type\":\"LinearScale\"},{\"attributes\":{\"source\":{\"id\":\"0986003b-a3e0-4297-93e2-59a8e78c468c\",\"type\":\"ColumnDataSource\"}},\"id\":\"014bfcc7-007b-426f-a9ea-49e0438d60e1\",\"type\":\"CDSView\"},{\"attributes\":{\"fill_color\":{\"value\":\"blue\"},\"line_color\":{\"value\":\"blue\"},\"x\":{\"field\":\"x\"},\"y\":{\"field\":\"y\"}},\"id\":\"a4b11542-dc64-4862-b16c-a6d5290a8f43\",\"type\":\"Circle\"},{\"attributes\":{},\"id\":\"d65f837c-9a47-4365-a68e-e991776dbf6a\",\"type\":\"HelpTool\"},{\"attributes\":{},\"id\":\"c1b8d8b6-00be-467a-b7e8-9b12ff95624f\",\"type\":\"ResetTool\"},{\"attributes\":{},\"id\":\"131adb65-3849-4413-beb8-3acfd416f10f\",\"type\":\"PanTool\"},{\"attributes\":{\"fill_color\":{\"value\":\"red\"},\"line_color\":{\"value\":\"red\"},\"x\":{\"field\":\"x\"},\"y\":{\"field\":\"y\"}},\"id\":\"2c11c98c-523f-47a9-a8b7-9ef749d7dbaa\",\"type\":\"Circle\"},{\"attributes\":{},\"id\":\"85a4747c-7d57-420d-b48b-f7586793baa3\",\"type\":\"BasicTicker\"},{\"attributes\":{\"bottom_units\":\"screen\",\"fill_alpha\":{\"value\":0.5},\"fill_color\":{\"value\":\"lightgrey\"},\"left_units\":\"screen\",\"level\":\"overlay\",\"line_alpha\":{\"value\":1.0},\"line_color\":{\"value\":\"black\"},\"line_dash\":[4,4],\"line_width\":{\"value\":2},\"plot\":null,\"render_mode\":\"css\",\"right_units\":\"screen\",\"top_units\":\"screen\"},\"id\":\"ae00ea4b-f9f3-4e9e-aeda-47499eedc698\",\"type\":\"BoxAnnotation\"},{\"attributes\":{},\"id\":\"913fa2a3-6b65-4faf-93cf-2294d41be72e\",\"type\":\"SaveTool\"},{\"attributes\":{\"overlay\":{\"id\":\"ae00ea4b-f9f3-4e9e-aeda-47499eedc698\",\"type\":\"BoxAnnotation\"}},\"id\":\"87cb63fa-577b-40a8-9fda-6c62b4ee2094\",\"type\":\"BoxZoomTool\"},{\"attributes\":{},\"id\":\"543f9902-aaf8-465c-a728-260133235b1d\",\"type\":\"BasicTickFormatter\"},{\"attributes\":{\"callback\":null,\"column_names\":[\"x\",\"y\"],\"data\":{\"x\":{\"__ndarray__\":\"GC1EVPshGcCyxt3tlLsYwExgd4cuVRjA5vkQIcjuF8CAk6q6YYgXwBotRFT7IRfAtMbd7ZS7FsBOYHeHLlUWwOj5ECHI7hXAgpOqumGIFcAcLURU+yEVwLbG3e2UuxTAUGB3hy5VFMDq+RAhyO4TwISTqrphiBPAHi1EVPshE8C4xt3tlLsSwFJgd4cuVRLA7PkQIcjuEcCGk6q6YYgRwCAtRFT7IRHAusbd7ZS7EMBUYHeHLlUQwNzzIUKQ3Q/AECdVdcMQD8BEWoio9kMOwHiNu9spdw3ArMDuDl2qDMDg8yFCkN0LwBQnVXXDEAvASFqIqPZDCsB8jbvbKXcJwLDA7g5dqgjA5PMhQpDdB8AYJ1V1wxAHwExaiKj2QwbAgI272yl3BcC0wO4OXaoEwOjzIUKQ3QPAHCdVdcMQA8BQWoio9kMCwISNu9spdwHAuMDuDl2qAMDY50OEILv/v0BOquqGIf6/qLQQUe2H/L8QG3e3U+76v3iB3R26VPm/4OdDhCC7979ITqrqhiH2v7C0EFHth/S/GBt3t1Pu8r+Agd0dulTxv9DPhwhBdu+/oJxU1Q1D7L9waSGi2g/pv0A27m6n3OW/EAO7O3Sp4r/Anw8Rguzev2A5qaobhti/ANNCRLUf0r9A2bi7nXLHvwAZ2N2hS7W/AAIG7943kT8AGltVkee9P8BZeneVwMs/QJMjIrFG1D+g+YmIF63aPwAwePe+ieA/MGOrKvK84z9glt5dJfDmP5DJEZFYI+o/wPxExItW7T/4F7x730TwP5CxVRV53vE/KEvvrhJ48z/A5IhIrBH1P1h+IuJFq/Y/8Be8e99E+D+IsVUVed75PyBL764SePs/uOSISKwR/T9QfiLiRav+P/QL3r1vIgBAwNiqijzvAECMpXdXCbwBQFhyRCTWiAJAJD8R8aJVA0DwC969byIEQLzYqoo87wRAiKV3Vwm8BUBUckQk1ogGQCA/EfGiVQdA7AvevW8iCEC42KqKPO8IQISld1cJvAlAUHJEJNaICkAcPxHxolULQOgL3r1vIgxAtNiqijzvDECApXdXCbwNQExyRCTWiA5AGD8R8aJVD0DyBe/eNxEQQFhsVUWedxBAvtK7qwTeEEAkOSISa0QRQIqfiHjRqhFA8AXv3jcREkBWbFVFnncSQLzSu6sE3hJAIjkiEmtEE0CIn4h40aoTQO4F7943ERRAVGxVRZ53FEC60rurBN4UQCA5IhJrRBVAhp+IeNGqFUDsBe/eNxEWQFJsVUWedxZAuNK7qwTeFkAeOSISa0QXQISfiHjRqhdA6gXv3jcRGEBQbFVFnncYQLbSu6sE3hhA\",\"dtype\":\"float64\",\"shape\":[126]},\"y\":{\"__ndarray__\":\"AAAAAAAAAACamZmZmZnpP5qZmZmZmfk/NDMzMzMzA0CamZmZmZkJQAAAAAAAABBANDMzMzMzE0BnZmZmZmYWQJqZmZmZmRlAzczMzMzMHEAAAAAAAAAgQJqZmZmZmSFANDMzMzMzI0DNzMzMzMwkQGdmZmZmZiZAAAAAAAAAKECamZmZmZkpQDQzMzMzMytAzczMzMzMLEBnZmZmZmYuQAAAAAAAADBAzczMzMzMMECamZmZmZkxQGdmZmZmZjJANDMzMzMzM0AAAAAAAAA0QM3MzMzMzDRAmpmZmZmZNUBnZmZmZmY2QDQzMzMzMzdAAAAAAAAAOEDNzMzMzMw4QJqZmZmZmTlAZ2ZmZmZmOkA0MzMzMzM7QAAAAAAAADxAzczMzMzMPECamZmZmZk9QGdmZmZmZj5ANDMzMzMzP0AAAAAAAABAQGdmZmZmZkBAzczMzMzMQEAzMzMzMzNBQJqZmZmZmUFAAAAAAAAAQkBnZmZmZmZCQM3MzMzMzEJANDMzMzMzQ0CamZmZmZlDQAAAAAAAAERAZ2ZmZmZmREDNzMzMzMxEQDQzMzMzM0VAmpmZmZmZRUAAAAAAAABGQGdmZmZmZkZAzczMzMzMRkA0MzMzMzNHQJqZmZmZmUdAAAAAAAAASEBnZmZmZmZIQM3MzMzMzEhANDMzMzMzSUCamZmZmZlJQAAAAAAAAEpAZ2ZmZmZmSkDNzMzMzMxKQDQzMzMzM0tAmpmZmZmZS0AAAAAAAABMQGdmZmZmZkxAzczMzMzMTEA0MzMzMzNNQJqZmZmZmU1AAAAAAAAATkBnZmZmZmZOQM3MzMzMzE5ANDMzMzMzT0CamZmZmZlPQAAAAAAAAFBAMzMzMzMzUEBnZmZmZmZQQJqZmZmZmVBAzczMzMzMUEAAAAAAAABRQDMzMzMzM1FAZ2ZmZmZmUUCamZmZmZlRQM3MzMzMzFFAAAAAAAAAUkAzMzMzMzNSQGdmZmZmZlJAmpmZmZmZUkDNzMzMzMxSQAAAAAAAAFNANDMzMzMzU0BnZmZmZmZTQJqZmZmZmVNAzczMzMzMU0AAAAAAAABUQDQzMzMzM1RAZ2ZmZmZmVECamZmZmZlUQM3MzMzMzFRAAAAAAAAAVUA0MzMzMzNVQGdmZmZmZlVAmpmZmZmZVUDNzMzMzMxVQAAAAAAAAFZANDMzMzMzVkBnZmZmZmZWQJqZmZmZmVZAzczMzMzMVkAAAAAAAABXQDQzMzMzM1dAZ2ZmZmZmV0CamZmZmZlXQM3MzMzMzFdAAAAAAAAAWEA0MzMzMzNYQGdmZmZmZlhAmpmZmZmZWEDNzMzMzMxYQAAAAAAAAFlA\",\"dtype\":\"float64\",\"shape\":[126]}}},\"id\":\"4cf171ad-6269-4bca-911f-06a9707919ef\",\"type\":\"ColumnDataSource\"},{\"attributes\":{},\"id\":\"d00f3f8b-6e85-4da7-b397-afeb81702641\",\"type\":\"WheelZoomTool\"},{\"attributes\":{\"source\":{\"id\":\"4cf171ad-6269-4bca-911f-06a9707919ef\",\"type\":\"ColumnDataSource\"}},\"id\":\"86b5b802-aca8-417f-bdb5-3a1c51c23ff4\",\"type\":\"CDSView\"},{\"attributes\":{\"formatter\":{\"id\":\"a6b2d09f-da99-4cef-b643-e7d15aebda89\",\"type\":\"BasicTickFormatter\"},\"plot\":{\"id\":\"71261ab3-88c8-4124-9167-3e48f3fdc50f\",\"subtype\":\"Figure\",\"type\":\"Plot\"},\"ticker\":{\"id\":\"4ef18b71-efef-440e-b249-d0e1a2dfd0f0\",\"type\":\"BasicTicker\"},\"y_range_name\":\"foo\"},\"id\":\"cd7aaf9a-0cd2-4a5c-b16b-fbc29e5379fc\",\"type\":\"LinearAxis\"},{\"attributes\":{\"active_drag\":\"auto\",\"active_inspect\":\"auto\",\"active_scroll\":\"auto\",\"active_tap\":\"auto\",\"tools\":[{\"id\":\"131adb65-3849-4413-beb8-3acfd416f10f\",\"type\":\"PanTool\"},{\"id\":\"d00f3f8b-6e85-4da7-b397-afeb81702641\",\"type\":\"WheelZoomTool\"},{\"id\":\"87cb63fa-577b-40a8-9fda-6c62b4ee2094\",\"type\":\"BoxZoomTool\"},{\"id\":\"913fa2a3-6b65-4faf-93cf-2294d41be72e\",\"type\":\"SaveTool\"},{\"id\":\"c1b8d8b6-00be-467a-b7e8-9b12ff95624f\",\"type\":\"ResetTool\"},{\"id\":\"d65f837c-9a47-4365-a68e-e991776dbf6a\",\"type\":\"HelpTool\"}]},\"id\":\"6e6778d2-36d9-495c-938a-2a2e505e5984\",\"type\":\"Toolbar\"},{\"attributes\":{\"fill_alpha\":{\"value\":0.1},\"fill_color\":{\"value\":\"#1f77b4\"},\"line_alpha\":{\"value\":0.1},\"line_color\":{\"value\":\"#1f77b4\"},\"x\":{\"field\":\"x\"},\"y\":{\"field\":\"y\"}},\"id\":\"b181f742-2a8e-490d-b101-07772119cc41\",\"type\":\"Circle\"},{\"attributes\":{},\"id\":\"8443b976-011c-4a77-9810-258950c3df09\",\"type\":\"BasicTickFormatter\"},{\"attributes\":{\"data_source\":{\"id\":\"0986003b-a3e0-4297-93e2-59a8e78c468c\",\"type\":\"ColumnDataSource\"},\"glyph\":{\"id\":\"2c11c98c-523f-47a9-a8b7-9ef749d7dbaa\",\"type\":\"Circle\"},\"hover_glyph\":null,\"muted_glyph\":null,\"nonselection_glyph\":{\"id\":\"61264fcc-51a4-4bb7-8ea4-ecbbd82627fc\",\"type\":\"Circle\"},\"selection_glyph\":null,\"view\":{\"id\":\"014bfcc7-007b-426f-a9ea-49e0438d60e1\",\"type\":\"CDSView\"}},\"id\":\"9dc04312-f0f7-4f83-9eb0-b6a7926af760\",\"type\":\"GlyphRenderer\"},{\"attributes\":{\"fill_alpha\":{\"value\":0.1},\"fill_color\":{\"value\":\"#1f77b4\"},\"line_alpha\":{\"value\":0.1},\"line_color\":{\"value\":\"#1f77b4\"},\"x\":{\"field\":\"x\"},\"y\":{\"field\":\"y\"}},\"id\":\"61264fcc-51a4-4bb7-8ea4-ecbbd82627fc\",\"type\":\"Circle\"},{\"attributes\":{\"callback\":null,\"end\":6.5,\"start\":-6.5},\"id\":\"69166ece-57ee-42a0-8f85-89baa8685f43\",\"type\":\"Range1d\"},{\"attributes\":{\"plot\":{\"id\":\"71261ab3-88c8-4124-9167-3e48f3fdc50f\",\"subtype\":\"Figure\",\"type\":\"Plot\"},\"ticker\":{\"id\":\"85a4747c-7d57-420d-b48b-f7586793baa3\",\"type\":\"BasicTicker\"}},\"id\":\"71bb02e2-c204-4370-9ff5-be2118c7bfcf\",\"type\":\"Grid\"},{\"attributes\":{\"data_source\":{\"id\":\"4cf171ad-6269-4bca-911f-06a9707919ef\",\"type\":\"ColumnDataSource\"},\"glyph\":{\"id\":\"a4b11542-dc64-4862-b16c-a6d5290a8f43\",\"type\":\"Circle\"},\"hover_glyph\":null,\"muted_glyph\":null,\"nonselection_glyph\":{\"id\":\"b181f742-2a8e-490d-b101-07772119cc41\",\"type\":\"Circle\"},\"selection_glyph\":null,\"view\":{\"id\":\"86b5b802-aca8-417f-bdb5-3a1c51c23ff4\",\"type\":\"CDSView\"},\"y_range_name\":\"foo\"},\"id\":\"d9f31eea-aaf2-4756-b36d-9d24a52e162a\",\"type\":\"GlyphRenderer\"},{\"attributes\":{\"plot\":null,\"text\":\"\"},\"id\":\"5ffaa7cc-6cb4-4bef-b3c5-09fa2bc7e09c\",\"type\":\"Title\"},{\"attributes\":{\"dimension\":1,\"plot\":{\"id\":\"71261ab3-88c8-4124-9167-3e48f3fdc50f\",\"subtype\":\"Figure\",\"type\":\"Plot\"},\"ticker\":{\"id\":\"248e15f1-5fe0-4c5c-bfd6-33bf05665ee2\",\"type\":\"BasicTicker\"}},\"id\":\"d6f8820b-b6ec-4794-bf5e-8fb61d05f919\",\"type\":\"Grid\"},{\"attributes\":{\"callback\":null,\"end\":1.1,\"start\":-1.1},\"id\":\"f3bf2bb6-f418-4a46-b47f-7abdd52f7c50\",\"type\":\"Range1d\"},{\"attributes\":{},\"id\":\"248e15f1-5fe0-4c5c-bfd6-33bf05665ee2\",\"type\":\"BasicTicker\"},{\"attributes\":{\"callback\":null,\"column_names\":[\"x\",\"y\"],\"data\":{\"x\":{\"__ndarray__\":\"GC1EVPshGcCyxt3tlLsYwExgd4cuVRjA5vkQIcjuF8CAk6q6YYgXwBotRFT7IRfAtMbd7ZS7FsBOYHeHLlUWwOj5ECHI7hXAgpOqumGIFcAcLURU+yEVwLbG3e2UuxTAUGB3hy5VFMDq+RAhyO4TwISTqrphiBPAHi1EVPshE8C4xt3tlLsSwFJgd4cuVRLA7PkQIcjuEcCGk6q6YYgRwCAtRFT7IRHAusbd7ZS7EMBUYHeHLlUQwNzzIUKQ3Q/AECdVdcMQD8BEWoio9kMOwHiNu9spdw3ArMDuDl2qDMDg8yFCkN0LwBQnVXXDEAvASFqIqPZDCsB8jbvbKXcJwLDA7g5dqgjA5PMhQpDdB8AYJ1V1wxAHwExaiKj2QwbAgI272yl3BcC0wO4OXaoEwOjzIUKQ3QPAHCdVdcMQA8BQWoio9kMCwISNu9spdwHAuMDuDl2qAMDY50OEILv/v0BOquqGIf6/qLQQUe2H/L8QG3e3U+76v3iB3R26VPm/4OdDhCC7979ITqrqhiH2v7C0EFHth/S/GBt3t1Pu8r+Agd0dulTxv9DPhwhBdu+/oJxU1Q1D7L9waSGi2g/pv0A27m6n3OW/EAO7O3Sp4r/Anw8Rguzev2A5qaobhti/ANNCRLUf0r9A2bi7nXLHvwAZ2N2hS7W/AAIG7943kT8AGltVkee9P8BZeneVwMs/QJMjIrFG1D+g+YmIF63aPwAwePe+ieA/MGOrKvK84z9glt5dJfDmP5DJEZFYI+o/wPxExItW7T/4F7x730TwP5CxVRV53vE/KEvvrhJ48z/A5IhIrBH1P1h+IuJFq/Y/8Be8e99E+D+IsVUVed75PyBL764SePs/uOSISKwR/T9QfiLiRav+P/QL3r1vIgBAwNiqijzvAECMpXdXCbwBQFhyRCTWiAJAJD8R8aJVA0DwC969byIEQLzYqoo87wRAiKV3Vwm8BUBUckQk1ogGQCA/EfGiVQdA7AvevW8iCEC42KqKPO8IQISld1cJvAlAUHJEJNaICkAcPxHxolULQOgL3r1vIgxAtNiqijzvDECApXdXCbwNQExyRCTWiA5AGD8R8aJVD0DyBe/eNxEQQFhsVUWedxBAvtK7qwTeEEAkOSISa0QRQIqfiHjRqhFA8AXv3jcREkBWbFVFnncSQLzSu6sE3hJAIjkiEmtEE0CIn4h40aoTQO4F7943ERRAVGxVRZ53FEC60rurBN4UQCA5IhJrRBVAhp+IeNGqFUDsBe/eNxEWQFJsVUWedxZAuNK7qwTeFkAeOSISa0QXQISfiHjRqhdA6gXv3jcRGEBQbFVFnncYQLbSu6sE3hhA\",\"dtype\":\"float64\",\"shape\":[126]},\"y\":{\"__ndarray__\":\"B1wUMyamsTwky4vLro65P6zSPSP/bck/Jbq6lc3p0j9XZyvpOuzYP9gFS3Tort4/S0GlF40R4j+pGUZpbp3kP7z+v8KU9OY/MKhdmAMR6T/eDAmPVO3qPyhjLUzFhOw/t1UaokPT7T9BHsX5d9XuP/vgRN/NiO8/iG0sm3rr7z/HQuDHgfzvP72YL9e3u+8//RW9gcIp7z9qOBofF0juP2C00er2GO0/HHPrP2mf6z8x16rZM9/pP1MvWC3R3Oc/0tHD9WSd5T/vys8NrybjPwGGoLv8fuA/p6ckJDFa2z9p5l0jcnDVPz8ySNa4n84/z9a2bTgQwj9JFpiCD0qlP9gm6Dk3462/9Qq3ygIxxL+gS/8QyVrQv1Jhun47c9a/JdHwQ0FS3L/dGi7savTgv0DA7P9WlOO/crMfLS4C5r9cHtzduTfov3DI4npTL+q/lhLQ3/Lj67/viQE6O1Htv8QoRTGGc+6/Y0DHPe1H77+p7F0TUczvv1HsNw9f/++/DT4MmpTg77/B6yJ2QHDvv2CZ4PWBr+6/9yLYHEag7b8lJbqyQkXsv5cSvFTvoeq/3gUyl3y66L/SsApOyZPmv0H2lhdWM+S/OMh6STef4b8a4Y7HCrzdv3u+C2SY7de/LaSwivHh0b9m/jPXGVHHv0bTvttYRbW/xSXLwqk3kT/JIzUvK9a9PxjIxkANics//AfpL0vw0z91hzWkD+nZP4cP6pqNn98/CxrYG5SC4j9hCW3CCAblP+5iZOG2U+c/hMjjJbpl6T/Mcx3cxjbrP44pBXs3wuw/3a38hhgE7j/R9xCtMvnuPzNU7vwSn+8/IbeALBH07z+1XzrVU/fvP6DPKKDSqO8/pbRJW1YJ7z+JM+n3dhruP8RhK3eX3uw/Jfgtz99Y6z+f2l/YNI3pP+WxtFcugOc/zaIuPws35T/F08pCpLfiP3g4I+RcCOA/mTEMNiZg2j8025+JG2zUPwSg1R2oh8w/qzXOvj7cvz+ZZ0Soul6ZPxMepJQaPbO/RLIVCFdQxr8Pn7GuhmTRv7Nrs+BkdNe/O7QgoURI3b9ITvP1nmjhv9zlVSmUAOS/XGXQmV9l5r9ZNdHU4ZDov+SMb++Nfeq/d0LwuHcm7L9QJSxSYIftv8TXognBnO6/SRtzYNRj779HhCYhndrvv+yTLnbr/++/NaAP81/T77/KpXWIbFXvv+6vwmBTh+6/2k8AqCNr7b+D929HtAPsv7RWM6KcVOq/762gZSti6L8bWsKEWzHmvw8RMHvHx+O/52bX95or4b9I9bkoBsfcv2FS64I67da/RcPLJ8rY0L9F3NCChDLFvyPcIcx4+rC/\",\"dtype\":\"float64\",\"shape\":[126]}}},\"id\":\"0986003b-a3e0-4297-93e2-59a8e78c468c\",\"type\":\"ColumnDataSource\"},{\"attributes\":{},\"id\":\"a6b2d09f-da99-4cef-b643-e7d15aebda89\",\"type\":\"BasicTickFormatter\"}],\"root_ids\":[\"71261ab3-88c8-4124-9167-3e48f3fdc50f\"]},\"title\":\"Bokeh Application\",\"version\":\"0.12.13\"}};\n",
       "  var render_items = [{\"docid\":\"877bace8-2c19-428a-a63c-e0ec9eec5066\",\"elementid\":\"9aaf76e5-a3ee-4e58-8b40-c4cc0302872c\",\"modelid\":\"71261ab3-88c8-4124-9167-3e48f3fdc50f\"}];\n",
       "  root.Bokeh.embed.embed_items_notebook(docs_json, render_items);\n",
       "\n",
       "  }\n",
       "  if (root.Bokeh !== undefined) {\n",
       "    embed_document(root);\n",
       "  } else {\n",
       "    var attempts = 0;\n",
       "    var timer = setInterval(function(root) {\n",
       "      if (root.Bokeh !== undefined) {\n",
       "        embed_document(root);\n",
       "        clearInterval(timer);\n",
       "      }\n",
       "      attempts++;\n",
       "      if (attempts > 100) {\n",
       "        console.log(\"Bokeh: ERROR: Unable to run BokehJS code because BokehJS library is missing\")\n",
       "        clearInterval(timer);\n",
       "      }\n",
       "    }, 10, root)\n",
       "  }\n",
       "})(window);"
      ],
      "application/vnd.bokehjs_exec.v0+json": ""
     },
     "metadata": {
      "application/vnd.bokehjs_exec.v0+json": {
       "id": "71261ab3-88c8-4124-9167-3e48f3fdc50f"
      }
     },
     "output_type": "display_data"
    }
   ],
   "source": [
    "from bokeh.models import LinearAxis, Range1d\n",
    "\n",
    "x = arange(-2*pi, 2*pi, 0.1)\n",
    "y = sin(x)\n",
    "y2 = linspace(0, 100, len(y))\n",
    "\n",
    "p = figure(x_range=(-6.5, 6.5), y_range=(-1.1, 1.1))\n",
    "\n",
    "p.circle(x, y, color=\"red\")\n",
    "\n",
    "p.extra_y_ranges = {\"foo\": Range1d(start=0, end=100)}\n",
    "p.circle(x, y2, color=\"blue\",\n",
    "         y_range_name=\"foo\")\n",
    "p.add_layout(LinearAxis(y_range_name=\"foo\"), 'right')\n",
    "\n",
    "show(p)"
   ]
  }
 ],
 "metadata": {
  "kernelspec": {
   "display_name": "Python 3",
   "language": "python",
   "name": "python3"
  },
  "language_info": {
   "codemirror_mode": {
    "name": "ipython",
    "version": 3
   },
   "file_extension": ".py",
   "mimetype": "text/x-python",
   "name": "python",
   "nbconvert_exporter": "python",
   "pygments_lexer": "ipython3",
   "version": "3.6.4"
  }
 },
 "nbformat": 4,
 "nbformat_minor": 2
}
