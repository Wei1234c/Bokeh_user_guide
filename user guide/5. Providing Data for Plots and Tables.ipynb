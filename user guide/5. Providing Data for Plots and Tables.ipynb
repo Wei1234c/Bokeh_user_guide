{
 "cells": [
  {
   "cell_type": "markdown",
   "metadata": {},
   "source": [
    "# Providing Data for Plots and Tables\n",
    "https://bokeh.pydata.org/en/latest/docs/user_guide/data.html"
   ]
  },
  {
   "cell_type": "code",
   "execution_count": 2,
   "metadata": {},
   "outputs": [
    {
     "name": "stdout",
     "output_type": "stream",
     "text": [
      "Populating the interactive namespace from numpy and matplotlib\n"
     ]
    },
    {
     "data": {
      "text/html": [
       "\n",
       "    <div class=\"bk-root\">\n",
       "        <a href=\"https://bokeh.pydata.org\" target=\"_blank\" class=\"bk-logo bk-logo-small bk-logo-notebook\"></a>\n",
       "        <span id=\"ff1a64bf-bb14-4f90-8a12-d73910c3e02a\">Loading BokehJS ...</span>\n",
       "    </div>"
      ]
     },
     "metadata": {},
     "output_type": "display_data"
    },
    {
     "data": {
      "application/javascript": [
       "\n",
       "(function(root) {\n",
       "  function now() {\n",
       "    return new Date();\n",
       "  }\n",
       "\n",
       "  var force = true;\n",
       "\n",
       "  if (typeof (root._bokeh_onload_callbacks) === \"undefined\" || force === true) {\n",
       "    root._bokeh_onload_callbacks = [];\n",
       "    root._bokeh_is_loading = undefined;\n",
       "  }\n",
       "\n",
       "  var JS_MIME_TYPE = 'application/javascript';\n",
       "  var HTML_MIME_TYPE = 'text/html';\n",
       "  var EXEC_MIME_TYPE = 'application/vnd.bokehjs_exec.v0+json';\n",
       "  var CLASS_NAME = 'output_bokeh rendered_html';\n",
       "\n",
       "  /**\n",
       "   * Render data to the DOM node\n",
       "   */\n",
       "  function render(props, node) {\n",
       "    var script = document.createElement(\"script\");\n",
       "    node.appendChild(script);\n",
       "  }\n",
       "\n",
       "  /**\n",
       "   * Handle when an output is cleared or removed\n",
       "   */\n",
       "  function handleClearOutput(event, handle) {\n",
       "    var cell = handle.cell;\n",
       "\n",
       "    var id = cell.output_area._bokeh_element_id;\n",
       "    var server_id = cell.output_area._bokeh_server_id;\n",
       "    // Clean up Bokeh references\n",
       "    if (id !== undefined) {\n",
       "      Bokeh.index[id].model.document.clear();\n",
       "      delete Bokeh.index[id];\n",
       "    }\n",
       "\n",
       "    if (server_id !== undefined) {\n",
       "      // Clean up Bokeh references\n",
       "      var cmd = \"from bokeh.io.state import curstate; print(curstate().uuid_to_server['\" + server_id + \"'].get_sessions()[0].document.roots[0]._id)\";\n",
       "      cell.notebook.kernel.execute(cmd, {\n",
       "        iopub: {\n",
       "          output: function(msg) {\n",
       "            var element_id = msg.content.text.trim();\n",
       "            Bokeh.index[element_id].model.document.clear();\n",
       "            delete Bokeh.index[element_id];\n",
       "          }\n",
       "        }\n",
       "      });\n",
       "      // Destroy server and session\n",
       "      var cmd = \"import bokeh.io.notebook as ion; ion.destroy_server('\" + server_id + \"')\";\n",
       "      cell.notebook.kernel.execute(cmd);\n",
       "    }\n",
       "  }\n",
       "\n",
       "  /**\n",
       "   * Handle when a new output is added\n",
       "   */\n",
       "  function handleAddOutput(event, handle) {\n",
       "    var output_area = handle.output_area;\n",
       "    var output = handle.output;\n",
       "\n",
       "    // limit handleAddOutput to display_data with EXEC_MIME_TYPE content only\n",
       "    if ((output.output_type != \"display_data\") || (!output.data.hasOwnProperty(EXEC_MIME_TYPE))) {\n",
       "      return\n",
       "    }\n",
       "\n",
       "    var toinsert = output_area.element.find(\".\" + CLASS_NAME.split(' ')[0]);\n",
       "\n",
       "    if (output.metadata[EXEC_MIME_TYPE][\"id\"] !== undefined) {\n",
       "      toinsert[0].firstChild.textContent = output.data[JS_MIME_TYPE];\n",
       "      // store reference to embed id on output_area\n",
       "      output_area._bokeh_element_id = output.metadata[EXEC_MIME_TYPE][\"id\"];\n",
       "    }\n",
       "    if (output.metadata[EXEC_MIME_TYPE][\"server_id\"] !== undefined) {\n",
       "      var bk_div = document.createElement(\"div\");\n",
       "      bk_div.innerHTML = output.data[HTML_MIME_TYPE];\n",
       "      var script_attrs = bk_div.children[0].attributes;\n",
       "      for (var i = 0; i < script_attrs.length; i++) {\n",
       "        toinsert[0].firstChild.setAttribute(script_attrs[i].name, script_attrs[i].value);\n",
       "      }\n",
       "      // store reference to server id on output_area\n",
       "      output_area._bokeh_server_id = output.metadata[EXEC_MIME_TYPE][\"server_id\"];\n",
       "    }\n",
       "  }\n",
       "\n",
       "  function register_renderer(events, OutputArea) {\n",
       "\n",
       "    function append_mime(data, metadata, element) {\n",
       "      // create a DOM node to render to\n",
       "      var toinsert = this.create_output_subarea(\n",
       "        metadata,\n",
       "        CLASS_NAME,\n",
       "        EXEC_MIME_TYPE\n",
       "      );\n",
       "      this.keyboard_manager.register_events(toinsert);\n",
       "      // Render to node\n",
       "      var props = {data: data, metadata: metadata[EXEC_MIME_TYPE]};\n",
       "      render(props, toinsert[0]);\n",
       "      element.append(toinsert);\n",
       "      return toinsert\n",
       "    }\n",
       "\n",
       "    /* Handle when an output is cleared or removed */\n",
       "    events.on('clear_output.CodeCell', handleClearOutput);\n",
       "    events.on('delete.Cell', handleClearOutput);\n",
       "\n",
       "    /* Handle when a new output is added */\n",
       "    events.on('output_added.OutputArea', handleAddOutput);\n",
       "\n",
       "    /**\n",
       "     * Register the mime type and append_mime function with output_area\n",
       "     */\n",
       "    OutputArea.prototype.register_mime_type(EXEC_MIME_TYPE, append_mime, {\n",
       "      /* Is output safe? */\n",
       "      safe: true,\n",
       "      /* Index of renderer in `output_area.display_order` */\n",
       "      index: 0\n",
       "    });\n",
       "  }\n",
       "\n",
       "  // register the mime type if in Jupyter Notebook environment and previously unregistered\n",
       "  if (root.Jupyter !== undefined) {\n",
       "    var events = require('base/js/events');\n",
       "    var OutputArea = require('notebook/js/outputarea').OutputArea;\n",
       "\n",
       "    if (OutputArea.prototype.mime_types().indexOf(EXEC_MIME_TYPE) == -1) {\n",
       "      register_renderer(events, OutputArea);\n",
       "    }\n",
       "  }\n",
       "\n",
       "  \n",
       "  if (typeof (root._bokeh_timeout) === \"undefined\" || force === true) {\n",
       "    root._bokeh_timeout = Date.now() + 5000;\n",
       "    root._bokeh_failed_load = false;\n",
       "  }\n",
       "\n",
       "  var NB_LOAD_WARNING = {'data': {'text/html':\n",
       "     \"<div style='background-color: #fdd'>\\n\"+\n",
       "     \"<p>\\n\"+\n",
       "     \"BokehJS does not appear to have successfully loaded. If loading BokehJS from CDN, this \\n\"+\n",
       "     \"may be due to a slow or bad network connection. Possible fixes:\\n\"+\n",
       "     \"</p>\\n\"+\n",
       "     \"<ul>\\n\"+\n",
       "     \"<li>re-rerun `output_notebook()` to attempt to load from CDN again, or</li>\\n\"+\n",
       "     \"<li>use INLINE resources instead, as so:</li>\\n\"+\n",
       "     \"</ul>\\n\"+\n",
       "     \"<code>\\n\"+\n",
       "     \"from bokeh.resources import INLINE\\n\"+\n",
       "     \"output_notebook(resources=INLINE)\\n\"+\n",
       "     \"</code>\\n\"+\n",
       "     \"</div>\"}};\n",
       "\n",
       "  function display_loaded() {\n",
       "    var el = document.getElementById(\"ff1a64bf-bb14-4f90-8a12-d73910c3e02a\");\n",
       "    if (el != null) {\n",
       "      el.textContent = \"BokehJS is loading...\";\n",
       "    }\n",
       "    if (root.Bokeh !== undefined) {\n",
       "      if (el != null) {\n",
       "        el.textContent = \"BokehJS \" + root.Bokeh.version + \" successfully loaded.\";\n",
       "      }\n",
       "    } else if (Date.now() < root._bokeh_timeout) {\n",
       "      setTimeout(display_loaded, 100)\n",
       "    }\n",
       "  }\n",
       "\n",
       "\n",
       "  function run_callbacks() {\n",
       "    try {\n",
       "      root._bokeh_onload_callbacks.forEach(function(callback) { callback() });\n",
       "    }\n",
       "    finally {\n",
       "      delete root._bokeh_onload_callbacks\n",
       "    }\n",
       "    console.info(\"Bokeh: all callbacks have finished\");\n",
       "  }\n",
       "\n",
       "  function load_libs(js_urls, callback) {\n",
       "    root._bokeh_onload_callbacks.push(callback);\n",
       "    if (root._bokeh_is_loading > 0) {\n",
       "      console.log(\"Bokeh: BokehJS is being loaded, scheduling callback at\", now());\n",
       "      return null;\n",
       "    }\n",
       "    if (js_urls == null || js_urls.length === 0) {\n",
       "      run_callbacks();\n",
       "      return null;\n",
       "    }\n",
       "    console.log(\"Bokeh: BokehJS not loaded, scheduling load and callback at\", now());\n",
       "    root._bokeh_is_loading = js_urls.length;\n",
       "    for (var i = 0; i < js_urls.length; i++) {\n",
       "      var url = js_urls[i];\n",
       "      var s = document.createElement('script');\n",
       "      s.src = url;\n",
       "      s.async = false;\n",
       "      s.onreadystatechange = s.onload = function() {\n",
       "        root._bokeh_is_loading--;\n",
       "        if (root._bokeh_is_loading === 0) {\n",
       "          console.log(\"Bokeh: all BokehJS libraries loaded\");\n",
       "          run_callbacks()\n",
       "        }\n",
       "      };\n",
       "      s.onerror = function() {\n",
       "        console.warn(\"failed to load library \" + url);\n",
       "      };\n",
       "      console.log(\"Bokeh: injecting script tag for BokehJS library: \", url);\n",
       "      document.getElementsByTagName(\"head\")[0].appendChild(s);\n",
       "    }\n",
       "  };var element = document.getElementById(\"ff1a64bf-bb14-4f90-8a12-d73910c3e02a\");\n",
       "  if (element == null) {\n",
       "    console.log(\"Bokeh: ERROR: autoload.js configured with elementid 'ff1a64bf-bb14-4f90-8a12-d73910c3e02a' but no matching script tag was found. \")\n",
       "    return false;\n",
       "  }\n",
       "\n",
       "  var js_urls = [\"https://cdn.pydata.org/bokeh/release/bokeh-0.12.13.min.js\", \"https://cdn.pydata.org/bokeh/release/bokeh-widgets-0.12.13.min.js\", \"https://cdn.pydata.org/bokeh/release/bokeh-tables-0.12.13.min.js\", \"https://cdn.pydata.org/bokeh/release/bokeh-gl-0.12.13.min.js\"];\n",
       "\n",
       "  var inline_js = [\n",
       "    function(Bokeh) {\n",
       "      Bokeh.set_log_level(\"info\");\n",
       "    },\n",
       "    \n",
       "    function(Bokeh) {\n",
       "      \n",
       "    },\n",
       "    function(Bokeh) {\n",
       "      console.log(\"Bokeh: injecting CSS: https://cdn.pydata.org/bokeh/release/bokeh-0.12.13.min.css\");\n",
       "      Bokeh.embed.inject_css(\"https://cdn.pydata.org/bokeh/release/bokeh-0.12.13.min.css\");\n",
       "      console.log(\"Bokeh: injecting CSS: https://cdn.pydata.org/bokeh/release/bokeh-widgets-0.12.13.min.css\");\n",
       "      Bokeh.embed.inject_css(\"https://cdn.pydata.org/bokeh/release/bokeh-widgets-0.12.13.min.css\");\n",
       "      console.log(\"Bokeh: injecting CSS: https://cdn.pydata.org/bokeh/release/bokeh-tables-0.12.13.min.css\");\n",
       "      Bokeh.embed.inject_css(\"https://cdn.pydata.org/bokeh/release/bokeh-tables-0.12.13.min.css\");\n",
       "    }\n",
       "  ];\n",
       "\n",
       "  function run_inline_js() {\n",
       "    \n",
       "    if ((root.Bokeh !== undefined) || (force === true)) {\n",
       "      for (var i = 0; i < inline_js.length; i++) {\n",
       "        inline_js[i].call(root, root.Bokeh);\n",
       "      }if (force === true) {\n",
       "        display_loaded();\n",
       "      }} else if (Date.now() < root._bokeh_timeout) {\n",
       "      setTimeout(run_inline_js, 100);\n",
       "    } else if (!root._bokeh_failed_load) {\n",
       "      console.log(\"Bokeh: BokehJS failed to load within specified timeout.\");\n",
       "      root._bokeh_failed_load = true;\n",
       "    } else if (force !== true) {\n",
       "      var cell = $(document.getElementById(\"ff1a64bf-bb14-4f90-8a12-d73910c3e02a\")).parents('.cell').data().cell;\n",
       "      cell.output_area.append_execute_result(NB_LOAD_WARNING)\n",
       "    }\n",
       "\n",
       "  }\n",
       "\n",
       "  if (root._bokeh_is_loading === 0) {\n",
       "    console.log(\"Bokeh: BokehJS loaded, going straight to plotting\");\n",
       "    run_inline_js();\n",
       "  } else {\n",
       "    load_libs(js_urls, function() {\n",
       "      console.log(\"Bokeh: BokehJS plotting callback run at\", now());\n",
       "      run_inline_js();\n",
       "    });\n",
       "  }\n",
       "}(window));"
      ],
      "application/vnd.bokehjs_load.v0+json": "\n(function(root) {\n  function now() {\n    return new Date();\n  }\n\n  var force = true;\n\n  if (typeof (root._bokeh_onload_callbacks) === \"undefined\" || force === true) {\n    root._bokeh_onload_callbacks = [];\n    root._bokeh_is_loading = undefined;\n  }\n\n  \n\n  \n  if (typeof (root._bokeh_timeout) === \"undefined\" || force === true) {\n    root._bokeh_timeout = Date.now() + 5000;\n    root._bokeh_failed_load = false;\n  }\n\n  var NB_LOAD_WARNING = {'data': {'text/html':\n     \"<div style='background-color: #fdd'>\\n\"+\n     \"<p>\\n\"+\n     \"BokehJS does not appear to have successfully loaded. If loading BokehJS from CDN, this \\n\"+\n     \"may be due to a slow or bad network connection. Possible fixes:\\n\"+\n     \"</p>\\n\"+\n     \"<ul>\\n\"+\n     \"<li>re-rerun `output_notebook()` to attempt to load from CDN again, or</li>\\n\"+\n     \"<li>use INLINE resources instead, as so:</li>\\n\"+\n     \"</ul>\\n\"+\n     \"<code>\\n\"+\n     \"from bokeh.resources import INLINE\\n\"+\n     \"output_notebook(resources=INLINE)\\n\"+\n     \"</code>\\n\"+\n     \"</div>\"}};\n\n  function display_loaded() {\n    var el = document.getElementById(\"ff1a64bf-bb14-4f90-8a12-d73910c3e02a\");\n    if (el != null) {\n      el.textContent = \"BokehJS is loading...\";\n    }\n    if (root.Bokeh !== undefined) {\n      if (el != null) {\n        el.textContent = \"BokehJS \" + root.Bokeh.version + \" successfully loaded.\";\n      }\n    } else if (Date.now() < root._bokeh_timeout) {\n      setTimeout(display_loaded, 100)\n    }\n  }\n\n\n  function run_callbacks() {\n    try {\n      root._bokeh_onload_callbacks.forEach(function(callback) { callback() });\n    }\n    finally {\n      delete root._bokeh_onload_callbacks\n    }\n    console.info(\"Bokeh: all callbacks have finished\");\n  }\n\n  function load_libs(js_urls, callback) {\n    root._bokeh_onload_callbacks.push(callback);\n    if (root._bokeh_is_loading > 0) {\n      console.log(\"Bokeh: BokehJS is being loaded, scheduling callback at\", now());\n      return null;\n    }\n    if (js_urls == null || js_urls.length === 0) {\n      run_callbacks();\n      return null;\n    }\n    console.log(\"Bokeh: BokehJS not loaded, scheduling load and callback at\", now());\n    root._bokeh_is_loading = js_urls.length;\n    for (var i = 0; i < js_urls.length; i++) {\n      var url = js_urls[i];\n      var s = document.createElement('script');\n      s.src = url;\n      s.async = false;\n      s.onreadystatechange = s.onload = function() {\n        root._bokeh_is_loading--;\n        if (root._bokeh_is_loading === 0) {\n          console.log(\"Bokeh: all BokehJS libraries loaded\");\n          run_callbacks()\n        }\n      };\n      s.onerror = function() {\n        console.warn(\"failed to load library \" + url);\n      };\n      console.log(\"Bokeh: injecting script tag for BokehJS library: \", url);\n      document.getElementsByTagName(\"head\")[0].appendChild(s);\n    }\n  };var element = document.getElementById(\"ff1a64bf-bb14-4f90-8a12-d73910c3e02a\");\n  if (element == null) {\n    console.log(\"Bokeh: ERROR: autoload.js configured with elementid 'ff1a64bf-bb14-4f90-8a12-d73910c3e02a' but no matching script tag was found. \")\n    return false;\n  }\n\n  var js_urls = [\"https://cdn.pydata.org/bokeh/release/bokeh-0.12.13.min.js\", \"https://cdn.pydata.org/bokeh/release/bokeh-widgets-0.12.13.min.js\", \"https://cdn.pydata.org/bokeh/release/bokeh-tables-0.12.13.min.js\", \"https://cdn.pydata.org/bokeh/release/bokeh-gl-0.12.13.min.js\"];\n\n  var inline_js = [\n    function(Bokeh) {\n      Bokeh.set_log_level(\"info\");\n    },\n    \n    function(Bokeh) {\n      \n    },\n    function(Bokeh) {\n      console.log(\"Bokeh: injecting CSS: https://cdn.pydata.org/bokeh/release/bokeh-0.12.13.min.css\");\n      Bokeh.embed.inject_css(\"https://cdn.pydata.org/bokeh/release/bokeh-0.12.13.min.css\");\n      console.log(\"Bokeh: injecting CSS: https://cdn.pydata.org/bokeh/release/bokeh-widgets-0.12.13.min.css\");\n      Bokeh.embed.inject_css(\"https://cdn.pydata.org/bokeh/release/bokeh-widgets-0.12.13.min.css\");\n      console.log(\"Bokeh: injecting CSS: https://cdn.pydata.org/bokeh/release/bokeh-tables-0.12.13.min.css\");\n      Bokeh.embed.inject_css(\"https://cdn.pydata.org/bokeh/release/bokeh-tables-0.12.13.min.css\");\n    }\n  ];\n\n  function run_inline_js() {\n    \n    if ((root.Bokeh !== undefined) || (force === true)) {\n      for (var i = 0; i < inline_js.length; i++) {\n        inline_js[i].call(root, root.Bokeh);\n      }if (force === true) {\n        display_loaded();\n      }} else if (Date.now() < root._bokeh_timeout) {\n      setTimeout(run_inline_js, 100);\n    } else if (!root._bokeh_failed_load) {\n      console.log(\"Bokeh: BokehJS failed to load within specified timeout.\");\n      root._bokeh_failed_load = true;\n    } else if (force !== true) {\n      var cell = $(document.getElementById(\"ff1a64bf-bb14-4f90-8a12-d73910c3e02a\")).parents('.cell').data().cell;\n      cell.output_area.append_execute_result(NB_LOAD_WARNING)\n    }\n\n  }\n\n  if (root._bokeh_is_loading === 0) {\n    console.log(\"Bokeh: BokehJS loaded, going straight to plotting\");\n    run_inline_js();\n  } else {\n    load_libs(js_urls, function() {\n      console.log(\"Bokeh: BokehJS plotting callback run at\", now());\n      run_inline_js();\n    });\n  }\n}(window));"
     },
     "metadata": {},
     "output_type": "display_data"
    }
   ],
   "source": [
    "%pylab inline\n",
    "import bokeh\n",
    "from bokeh.plotting import figure, show #, output_file\n",
    "from bokeh.io import output_notebook\n",
    "\n",
    "output_notebook()"
   ]
  },
  {
   "cell_type": "code",
   "execution_count": 3,
   "metadata": {},
   "outputs": [],
   "source": [
    "p = figure(width=360, height=360)"
   ]
  },
  {
   "cell_type": "markdown",
   "metadata": {},
   "source": [
    "### Providing data directly"
   ]
  },
  {
   "cell_type": "code",
   "execution_count": 7,
   "metadata": {},
   "outputs": [
    {
     "data": {
      "text/html": [
       "\n",
       "<div class=\"bk-root\">\n",
       "    <div class=\"bk-plotdiv\" id=\"0ae82d5c-3190-425c-8469-8a77761852ba\"></div>\n",
       "</div>"
      ]
     },
     "metadata": {},
     "output_type": "display_data"
    },
    {
     "data": {
      "application/javascript": [
       "(function(root) {\n",
       "  function embed_document(root) {\n",
       "    \n",
       "  var docs_json = {\"c8872f77-6ca6-419e-9b52-cee13d70fda3\":{\"roots\":{\"references\":[{\"attributes\":{},\"id\":\"be0d53d3-7485-4167-b682-2bf50347bb99\",\"type\":\"SaveTool\"},{\"attributes\":{\"plot\":{\"id\":\"23ebb327-a89d-44ff-b823-c334776fb5b4\",\"subtype\":\"Figure\",\"type\":\"Plot\"},\"ticker\":{\"id\":\"7c016e84-1c4d-41c7-9b21-2febaf7b80e9\",\"type\":\"BasicTicker\"}},\"id\":\"db71c167-36d4-4382-8c41-90481ad4139c\",\"type\":\"Grid\"},{\"attributes\":{\"callback\":null,\"column_names\":[\"x\",\"y\"],\"data\":{\"x\":[1,2,3,4,5],\"y\":[6,7,2,3,6]}},\"id\":\"7b98b621-c5a2-47c5-9934-af3a9a8603df\",\"type\":\"ColumnDataSource\"},{\"attributes\":{\"data_source\":{\"id\":\"7b98b621-c5a2-47c5-9934-af3a9a8603df\",\"type\":\"ColumnDataSource\"},\"glyph\":{\"id\":\"7c121dd3-8a02-4b84-8780-6d2b49681023\",\"type\":\"Circle\"},\"hover_glyph\":null,\"muted_glyph\":null,\"nonselection_glyph\":{\"id\":\"1391de86-d7cb-49ab-b069-76b83f1baa78\",\"type\":\"Circle\"},\"selection_glyph\":null,\"view\":{\"id\":\"eff1416e-6db9-4232-8cea-2a21e58cd3e8\",\"type\":\"CDSView\"}},\"id\":\"60562cd8-c8ee-44fe-a3d7-fe7712c8a7d3\",\"type\":\"GlyphRenderer\"},{\"attributes\":{\"below\":[{\"id\":\"38d32690-9b76-4447-8fc7-b20463783c15\",\"type\":\"LinearAxis\"}],\"left\":[{\"id\":\"2e3cc014-1ac6-4376-89e2-c3c85fabbae5\",\"type\":\"LinearAxis\"}],\"plot_height\":360,\"plot_width\":360,\"renderers\":[{\"id\":\"38d32690-9b76-4447-8fc7-b20463783c15\",\"type\":\"LinearAxis\"},{\"id\":\"db71c167-36d4-4382-8c41-90481ad4139c\",\"type\":\"Grid\"},{\"id\":\"2e3cc014-1ac6-4376-89e2-c3c85fabbae5\",\"type\":\"LinearAxis\"},{\"id\":\"3b4f43b6-fc6f-4fbd-bea3-1c486b626ffa\",\"type\":\"Grid\"},{\"id\":\"23e8372d-79f0-4bcf-bed3-0671216882f9\",\"type\":\"BoxAnnotation\"},{\"id\":\"60562cd8-c8ee-44fe-a3d7-fe7712c8a7d3\",\"type\":\"GlyphRenderer\"}],\"title\":{\"id\":\"89824728-40cd-417c-af4a-e99aeb0a36ed\",\"type\":\"Title\"},\"toolbar\":{\"id\":\"f773851e-1285-465f-8dc8-e60e0f10b94f\",\"type\":\"Toolbar\"},\"x_range\":{\"id\":\"2f5c3817-a78e-4ea3-895d-34c440fafbfe\",\"type\":\"DataRange1d\"},\"x_scale\":{\"id\":\"b4092482-49b1-4bd8-be73-753786a4ce59\",\"type\":\"LinearScale\"},\"y_range\":{\"id\":\"037b3df9-5a40-4057-a28f-b5e8f3196c1f\",\"type\":\"DataRange1d\"},\"y_scale\":{\"id\":\"65421199-411d-46b2-a49f-3827feea6660\",\"type\":\"LinearScale\"}},\"id\":\"23ebb327-a89d-44ff-b823-c334776fb5b4\",\"subtype\":\"Figure\",\"type\":\"Plot\"},{\"attributes\":{\"callback\":null},\"id\":\"037b3df9-5a40-4057-a28f-b5e8f3196c1f\",\"type\":\"DataRange1d\"},{\"attributes\":{\"dimension\":1,\"plot\":{\"id\":\"23ebb327-a89d-44ff-b823-c334776fb5b4\",\"subtype\":\"Figure\",\"type\":\"Plot\"},\"ticker\":{\"id\":\"cff6186b-2ad2-453d-a876-67775f971f49\",\"type\":\"BasicTicker\"}},\"id\":\"3b4f43b6-fc6f-4fbd-bea3-1c486b626ffa\",\"type\":\"Grid\"},{\"attributes\":{\"active_drag\":\"auto\",\"active_inspect\":\"auto\",\"active_scroll\":\"auto\",\"active_tap\":\"auto\",\"tools\":[{\"id\":\"1db49533-3ce8-4da4-8ba8-0f9f28ff6f3b\",\"type\":\"PanTool\"},{\"id\":\"5a068bc3-8483-4425-9acb-01a80bc3105f\",\"type\":\"WheelZoomTool\"},{\"id\":\"37cfb398-b0fa-4bab-a87a-34ffc1be4fff\",\"type\":\"BoxZoomTool\"},{\"id\":\"be0d53d3-7485-4167-b682-2bf50347bb99\",\"type\":\"SaveTool\"},{\"id\":\"14ad8fd4-65de-43d4-b732-7153276bd9d9\",\"type\":\"ResetTool\"},{\"id\":\"60657601-8373-4795-810f-831999dc6ecb\",\"type\":\"HelpTool\"}]},\"id\":\"f773851e-1285-465f-8dc8-e60e0f10b94f\",\"type\":\"Toolbar\"},{\"attributes\":{},\"id\":\"b4092482-49b1-4bd8-be73-753786a4ce59\",\"type\":\"LinearScale\"},{\"attributes\":{\"overlay\":{\"id\":\"23e8372d-79f0-4bcf-bed3-0671216882f9\",\"type\":\"BoxAnnotation\"}},\"id\":\"37cfb398-b0fa-4bab-a87a-34ffc1be4fff\",\"type\":\"BoxZoomTool\"},{\"attributes\":{},\"id\":\"5a068bc3-8483-4425-9acb-01a80bc3105f\",\"type\":\"WheelZoomTool\"},{\"attributes\":{\"source\":{\"id\":\"7b98b621-c5a2-47c5-9934-af3a9a8603df\",\"type\":\"ColumnDataSource\"}},\"id\":\"eff1416e-6db9-4232-8cea-2a21e58cd3e8\",\"type\":\"CDSView\"},{\"attributes\":{},\"id\":\"1db49533-3ce8-4da4-8ba8-0f9f28ff6f3b\",\"type\":\"PanTool\"},{\"attributes\":{\"formatter\":{\"id\":\"b91d0926-8dd8-4a65-98ca-387f84dff64e\",\"type\":\"BasicTickFormatter\"},\"plot\":{\"id\":\"23ebb327-a89d-44ff-b823-c334776fb5b4\",\"subtype\":\"Figure\",\"type\":\"Plot\"},\"ticker\":{\"id\":\"cff6186b-2ad2-453d-a876-67775f971f49\",\"type\":\"BasicTicker\"}},\"id\":\"2e3cc014-1ac6-4376-89e2-c3c85fabbae5\",\"type\":\"LinearAxis\"},{\"attributes\":{},\"id\":\"65421199-411d-46b2-a49f-3827feea6660\",\"type\":\"LinearScale\"},{\"attributes\":{},\"id\":\"b91d0926-8dd8-4a65-98ca-387f84dff64e\",\"type\":\"BasicTickFormatter\"},{\"attributes\":{\"bottom_units\":\"screen\",\"fill_alpha\":{\"value\":0.5},\"fill_color\":{\"value\":\"lightgrey\"},\"left_units\":\"screen\",\"level\":\"overlay\",\"line_alpha\":{\"value\":1.0},\"line_color\":{\"value\":\"black\"},\"line_dash\":[4,4],\"line_width\":{\"value\":2},\"plot\":null,\"render_mode\":\"css\",\"right_units\":\"screen\",\"top_units\":\"screen\"},\"id\":\"23e8372d-79f0-4bcf-bed3-0671216882f9\",\"type\":\"BoxAnnotation\"},{\"attributes\":{},\"id\":\"60657601-8373-4795-810f-831999dc6ecb\",\"type\":\"HelpTool\"},{\"attributes\":{\"callback\":null},\"id\":\"2f5c3817-a78e-4ea3-895d-34c440fafbfe\",\"type\":\"DataRange1d\"},{\"attributes\":{},\"id\":\"7c016e84-1c4d-41c7-9b21-2febaf7b80e9\",\"type\":\"BasicTicker\"},{\"attributes\":{\"fill_alpha\":{\"value\":0.1},\"fill_color\":{\"value\":\"#1f77b4\"},\"line_alpha\":{\"value\":0.1},\"line_color\":{\"value\":\"#1f77b4\"},\"x\":{\"field\":\"x\"},\"y\":{\"field\":\"y\"}},\"id\":\"1391de86-d7cb-49ab-b069-76b83f1baa78\",\"type\":\"Circle\"},{\"attributes\":{\"plot\":null,\"text\":\"\"},\"id\":\"89824728-40cd-417c-af4a-e99aeb0a36ed\",\"type\":\"Title\"},{\"attributes\":{\"formatter\":{\"id\":\"afd74dcf-cbe5-4711-a796-df3c5394865e\",\"type\":\"BasicTickFormatter\"},\"plot\":{\"id\":\"23ebb327-a89d-44ff-b823-c334776fb5b4\",\"subtype\":\"Figure\",\"type\":\"Plot\"},\"ticker\":{\"id\":\"7c016e84-1c4d-41c7-9b21-2febaf7b80e9\",\"type\":\"BasicTicker\"}},\"id\":\"38d32690-9b76-4447-8fc7-b20463783c15\",\"type\":\"LinearAxis\"},{\"attributes\":{},\"id\":\"cff6186b-2ad2-453d-a876-67775f971f49\",\"type\":\"BasicTicker\"},{\"attributes\":{\"fill_color\":{\"value\":\"#1f77b4\"},\"line_color\":{\"value\":\"#1f77b4\"},\"x\":{\"field\":\"x\"},\"y\":{\"field\":\"y\"}},\"id\":\"7c121dd3-8a02-4b84-8780-6d2b49681023\",\"type\":\"Circle\"},{\"attributes\":{},\"id\":\"afd74dcf-cbe5-4711-a796-df3c5394865e\",\"type\":\"BasicTickFormatter\"},{\"attributes\":{},\"id\":\"14ad8fd4-65de-43d4-b732-7153276bd9d9\",\"type\":\"ResetTool\"}],\"root_ids\":[\"23ebb327-a89d-44ff-b823-c334776fb5b4\"]},\"title\":\"Bokeh Application\",\"version\":\"0.12.13\"}};\n",
       "  var render_items = [{\"docid\":\"c8872f77-6ca6-419e-9b52-cee13d70fda3\",\"elementid\":\"0ae82d5c-3190-425c-8469-8a77761852ba\",\"modelid\":\"23ebb327-a89d-44ff-b823-c334776fb5b4\"}];\n",
       "  root.Bokeh.embed.embed_items_notebook(docs_json, render_items);\n",
       "\n",
       "  }\n",
       "  if (root.Bokeh !== undefined) {\n",
       "    embed_document(root);\n",
       "  } else {\n",
       "    var attempts = 0;\n",
       "    var timer = setInterval(function(root) {\n",
       "      if (root.Bokeh !== undefined) {\n",
       "        embed_document(root);\n",
       "        clearInterval(timer);\n",
       "      }\n",
       "      attempts++;\n",
       "      if (attempts > 100) {\n",
       "        console.log(\"Bokeh: ERROR: Unable to run BokehJS code because BokehJS library is missing\")\n",
       "        clearInterval(timer);\n",
       "      }\n",
       "    }, 10, root)\n",
       "  }\n",
       "})(window);"
      ],
      "application/vnd.bokehjs_exec.v0+json": ""
     },
     "metadata": {
      "application/vnd.bokehjs_exec.v0+json": {
       "id": "23ebb327-a89d-44ff-b823-c334776fb5b4"
      }
     },
     "output_type": "display_data"
    }
   ],
   "source": [
    "x_values = [1, 2, 3, 4, 5]\n",
    "y_values = [6, 7, 2, 3, 6]\n",
    "\n",
    "p = figure(width=360, height=360)\n",
    "p.circle(x=x_values, y=y_values)\n",
    "show(p)"
   ]
  },
  {
   "cell_type": "markdown",
   "metadata": {},
   "source": [
    "### ColumnDataSource"
   ]
  },
  {
   "cell_type": "code",
   "execution_count": 8,
   "metadata": {},
   "outputs": [
    {
     "data": {
      "text/html": [
       "\n",
       "<div class=\"bk-root\">\n",
       "    <div class=\"bk-plotdiv\" id=\"0106b37b-3031-4196-8343-46cafb427739\"></div>\n",
       "</div>"
      ]
     },
     "metadata": {},
     "output_type": "display_data"
    },
    {
     "data": {
      "application/javascript": [
       "(function(root) {\n",
       "  function embed_document(root) {\n",
       "    \n",
       "  var docs_json = {\"95928918-ffaf-420e-90ec-a51f9f8c7889\":{\"roots\":{\"references\":[{\"attributes\":{},\"id\":\"59133134-0b18-49bf-8e1b-dba9115fed8e\",\"type\":\"ResetTool\"},{\"attributes\":{},\"id\":\"7bcb8480-1402-43a5-a13d-d640d0583d8b\",\"type\":\"HelpTool\"},{\"attributes\":{},\"id\":\"e9c76aeb-36d0-4735-a9be-d4acb6c00415\",\"type\":\"LinearScale\"},{\"attributes\":{\"active_drag\":\"auto\",\"active_inspect\":\"auto\",\"active_scroll\":\"auto\",\"active_tap\":\"auto\",\"tools\":[{\"id\":\"62691b96-9873-4cb4-9df9-ba5cabc169a0\",\"type\":\"PanTool\"},{\"id\":\"26dbdccf-4b22-472c-a398-c51c964dc985\",\"type\":\"WheelZoomTool\"},{\"id\":\"438f2bb4-c2c4-4c2f-b2a0-4ec5190f486e\",\"type\":\"BoxZoomTool\"},{\"id\":\"874e6327-c825-4071-aa1c-3a14d02c1374\",\"type\":\"SaveTool\"},{\"id\":\"59133134-0b18-49bf-8e1b-dba9115fed8e\",\"type\":\"ResetTool\"},{\"id\":\"7bcb8480-1402-43a5-a13d-d640d0583d8b\",\"type\":\"HelpTool\"}]},\"id\":\"e90868c1-a9ec-4356-89a6-0b106085deef\",\"type\":\"Toolbar\"},{\"attributes\":{\"fill_alpha\":{\"value\":0.1},\"fill_color\":{\"value\":\"#1f77b4\"},\"line_alpha\":{\"value\":0.1},\"line_color\":{\"value\":\"#1f77b4\"},\"x\":{\"field\":\"x_values\"},\"y\":{\"field\":\"y_values\"}},\"id\":\"548d72a3-a845-4dd7-93b1-55715013d5e9\",\"type\":\"Circle\"},{\"attributes\":{},\"id\":\"1053ab41-1615-46e3-a4f8-d2fefb49661d\",\"type\":\"BasicTickFormatter\"},{\"attributes\":{\"plot\":{\"id\":\"03672d99-0ea0-4eb5-99d7-2b1ca7189372\",\"subtype\":\"Figure\",\"type\":\"Plot\"},\"ticker\":{\"id\":\"15a77428-7d39-4551-bd51-3c324210a770\",\"type\":\"BasicTicker\"}},\"id\":\"8cb6f7b6-2076-4e2e-8b51-c99dedd66194\",\"type\":\"Grid\"},{\"attributes\":{\"plot\":null,\"text\":\"\"},\"id\":\"857bd23f-9e65-44b7-8454-6a7de8c7422e\",\"type\":\"Title\"},{\"attributes\":{\"formatter\":{\"id\":\"1053ab41-1615-46e3-a4f8-d2fefb49661d\",\"type\":\"BasicTickFormatter\"},\"plot\":{\"id\":\"03672d99-0ea0-4eb5-99d7-2b1ca7189372\",\"subtype\":\"Figure\",\"type\":\"Plot\"},\"ticker\":{\"id\":\"15a77428-7d39-4551-bd51-3c324210a770\",\"type\":\"BasicTicker\"}},\"id\":\"ab208be7-f3bc-4155-a534-578efae99562\",\"type\":\"LinearAxis\"},{\"attributes\":{\"below\":[{\"id\":\"ab208be7-f3bc-4155-a534-578efae99562\",\"type\":\"LinearAxis\"}],\"left\":[{\"id\":\"9cd24392-1870-478f-bddc-56d65a24ef35\",\"type\":\"LinearAxis\"}],\"plot_height\":360,\"plot_width\":360,\"renderers\":[{\"id\":\"ab208be7-f3bc-4155-a534-578efae99562\",\"type\":\"LinearAxis\"},{\"id\":\"8cb6f7b6-2076-4e2e-8b51-c99dedd66194\",\"type\":\"Grid\"},{\"id\":\"9cd24392-1870-478f-bddc-56d65a24ef35\",\"type\":\"LinearAxis\"},{\"id\":\"52db66e4-868d-4c5e-adf6-098695d9f384\",\"type\":\"Grid\"},{\"id\":\"132afc68-09bc-42f1-9372-d83dc482b2dc\",\"type\":\"BoxAnnotation\"},{\"id\":\"67bc36d1-8549-48be-a2b2-94dff51226c9\",\"type\":\"GlyphRenderer\"}],\"title\":{\"id\":\"857bd23f-9e65-44b7-8454-6a7de8c7422e\",\"type\":\"Title\"},\"toolbar\":{\"id\":\"e90868c1-a9ec-4356-89a6-0b106085deef\",\"type\":\"Toolbar\"},\"x_range\":{\"id\":\"1a0e09ad-7334-4de0-8a27-8f1bd11462f2\",\"type\":\"DataRange1d\"},\"x_scale\":{\"id\":\"30ba266d-f995-4592-8466-1837b4ac63db\",\"type\":\"LinearScale\"},\"y_range\":{\"id\":\"cef5ad52-61f5-4376-bf34-b90f8cdfb5b8\",\"type\":\"DataRange1d\"},\"y_scale\":{\"id\":\"e9c76aeb-36d0-4735-a9be-d4acb6c00415\",\"type\":\"LinearScale\"}},\"id\":\"03672d99-0ea0-4eb5-99d7-2b1ca7189372\",\"subtype\":\"Figure\",\"type\":\"Plot\"},{\"attributes\":{},\"id\":\"15a77428-7d39-4551-bd51-3c324210a770\",\"type\":\"BasicTicker\"},{\"attributes\":{\"formatter\":{\"id\":\"f601e6d7-6649-4581-b489-76ec628636c8\",\"type\":\"BasicTickFormatter\"},\"plot\":{\"id\":\"03672d99-0ea0-4eb5-99d7-2b1ca7189372\",\"subtype\":\"Figure\",\"type\":\"Plot\"},\"ticker\":{\"id\":\"62dd80f8-c081-45f3-9afd-cf253ca38e1c\",\"type\":\"BasicTicker\"}},\"id\":\"9cd24392-1870-478f-bddc-56d65a24ef35\",\"type\":\"LinearAxis\"},{\"attributes\":{\"callback\":null},\"id\":\"1a0e09ad-7334-4de0-8a27-8f1bd11462f2\",\"type\":\"DataRange1d\"},{\"attributes\":{},\"id\":\"62dd80f8-c081-45f3-9afd-cf253ca38e1c\",\"type\":\"BasicTicker\"},{\"attributes\":{},\"id\":\"f601e6d7-6649-4581-b489-76ec628636c8\",\"type\":\"BasicTickFormatter\"},{\"attributes\":{\"dimension\":1,\"plot\":{\"id\":\"03672d99-0ea0-4eb5-99d7-2b1ca7189372\",\"subtype\":\"Figure\",\"type\":\"Plot\"},\"ticker\":{\"id\":\"62dd80f8-c081-45f3-9afd-cf253ca38e1c\",\"type\":\"BasicTicker\"}},\"id\":\"52db66e4-868d-4c5e-adf6-098695d9f384\",\"type\":\"Grid\"},{\"attributes\":{\"callback\":null,\"column_names\":[\"x_values\",\"y_values\"],\"data\":{\"x_values\":[1,2,3,4,5],\"y_values\":[6,7,2,3,6]}},\"id\":\"28072307-94b9-48f5-89d1-3dfc2f069c15\",\"type\":\"ColumnDataSource\"},{\"attributes\":{\"data_source\":{\"id\":\"28072307-94b9-48f5-89d1-3dfc2f069c15\",\"type\":\"ColumnDataSource\"},\"glyph\":{\"id\":\"ed4d1f2c-3d8c-411e-9ee8-ff43258734b1\",\"type\":\"Circle\"},\"hover_glyph\":null,\"muted_glyph\":null,\"nonselection_glyph\":{\"id\":\"548d72a3-a845-4dd7-93b1-55715013d5e9\",\"type\":\"Circle\"},\"selection_glyph\":null,\"view\":{\"id\":\"d39f7779-b91d-4b88-9aab-9264fdf3f90c\",\"type\":\"CDSView\"}},\"id\":\"67bc36d1-8549-48be-a2b2-94dff51226c9\",\"type\":\"GlyphRenderer\"},{\"attributes\":{\"callback\":null},\"id\":\"cef5ad52-61f5-4376-bf34-b90f8cdfb5b8\",\"type\":\"DataRange1d\"},{\"attributes\":{\"fill_color\":{\"value\":\"#1f77b4\"},\"line_color\":{\"value\":\"#1f77b4\"},\"x\":{\"field\":\"x_values\"},\"y\":{\"field\":\"y_values\"}},\"id\":\"ed4d1f2c-3d8c-411e-9ee8-ff43258734b1\",\"type\":\"Circle\"},{\"attributes\":{\"bottom_units\":\"screen\",\"fill_alpha\":{\"value\":0.5},\"fill_color\":{\"value\":\"lightgrey\"},\"left_units\":\"screen\",\"level\":\"overlay\",\"line_alpha\":{\"value\":1.0},\"line_color\":{\"value\":\"black\"},\"line_dash\":[4,4],\"line_width\":{\"value\":2},\"plot\":null,\"render_mode\":\"css\",\"right_units\":\"screen\",\"top_units\":\"screen\"},\"id\":\"132afc68-09bc-42f1-9372-d83dc482b2dc\",\"type\":\"BoxAnnotation\"},{\"attributes\":{},\"id\":\"62691b96-9873-4cb4-9df9-ba5cabc169a0\",\"type\":\"PanTool\"},{\"attributes\":{\"source\":{\"id\":\"28072307-94b9-48f5-89d1-3dfc2f069c15\",\"type\":\"ColumnDataSource\"}},\"id\":\"d39f7779-b91d-4b88-9aab-9264fdf3f90c\",\"type\":\"CDSView\"},{\"attributes\":{},\"id\":\"26dbdccf-4b22-472c-a398-c51c964dc985\",\"type\":\"WheelZoomTool\"},{\"attributes\":{\"overlay\":{\"id\":\"132afc68-09bc-42f1-9372-d83dc482b2dc\",\"type\":\"BoxAnnotation\"}},\"id\":\"438f2bb4-c2c4-4c2f-b2a0-4ec5190f486e\",\"type\":\"BoxZoomTool\"},{\"attributes\":{},\"id\":\"874e6327-c825-4071-aa1c-3a14d02c1374\",\"type\":\"SaveTool\"},{\"attributes\":{},\"id\":\"30ba266d-f995-4592-8466-1837b4ac63db\",\"type\":\"LinearScale\"}],\"root_ids\":[\"03672d99-0ea0-4eb5-99d7-2b1ca7189372\"]},\"title\":\"Bokeh Application\",\"version\":\"0.12.13\"}};\n",
       "  var render_items = [{\"docid\":\"95928918-ffaf-420e-90ec-a51f9f8c7889\",\"elementid\":\"0106b37b-3031-4196-8343-46cafb427739\",\"modelid\":\"03672d99-0ea0-4eb5-99d7-2b1ca7189372\"}];\n",
       "  root.Bokeh.embed.embed_items_notebook(docs_json, render_items);\n",
       "\n",
       "  }\n",
       "  if (root.Bokeh !== undefined) {\n",
       "    embed_document(root);\n",
       "  } else {\n",
       "    var attempts = 0;\n",
       "    var timer = setInterval(function(root) {\n",
       "      if (root.Bokeh !== undefined) {\n",
       "        embed_document(root);\n",
       "        clearInterval(timer);\n",
       "      }\n",
       "      attempts++;\n",
       "      if (attempts > 100) {\n",
       "        console.log(\"Bokeh: ERROR: Unable to run BokehJS code because BokehJS library is missing\")\n",
       "        clearInterval(timer);\n",
       "      }\n",
       "    }, 10, root)\n",
       "  }\n",
       "})(window);"
      ],
      "application/vnd.bokehjs_exec.v0+json": ""
     },
     "metadata": {
      "application/vnd.bokehjs_exec.v0+json": {
       "id": "03672d99-0ea0-4eb5-99d7-2b1ca7189372"
      }
     },
     "output_type": "display_data"
    }
   ],
   "source": [
    "from bokeh.models import ColumnDataSource\n",
    "\n",
    "data = {'x_values': [1, 2, 3, 4, 5],\n",
    "        'y_values': [6, 7, 2, 3, 6]}\n",
    "\n",
    "source = ColumnDataSource(data=data)\n",
    "\n",
    "p = figure(width=360, height=360)\n",
    "p.circle(x='x_values', y='y_values', source=source)\n",
    "show(p)"
   ]
  },
  {
   "cell_type": "markdown",
   "metadata": {},
   "source": [
    "### Streaming\n",
    "ColumnDataSource streaming is an efficient way to append new data to a CDS. By using the stream method, Bokeh **only sends new data to the browser instead of the entire dataset**. The stream method takes a new_data parameter containing a dict mapping column names to sequences of data to be appended to the respective columns. It additionally takes an optional argument rollover, which is the maximum length of data to keep (data from the beginning of the column will be discarded). The default rollover value of None allows data to grow unbounded."
   ]
  },
  {
   "cell_type": "code",
   "execution_count": 9,
   "metadata": {},
   "outputs": [
    {
     "data": {
      "text/html": [
       "\n",
       "<div class=\"bk-root\">\n",
       "    <div class=\"bk-plotdiv\" id=\"40ec2c99-1d10-4f28-af46-ecc231610a33\"></div>\n",
       "</div>"
      ]
     },
     "metadata": {},
     "output_type": "display_data"
    },
    {
     "data": {
      "application/javascript": [
       "(function(root) {\n",
       "  function embed_document(root) {\n",
       "    \n",
       "  var docs_json = {\"7186aac3-a8e0-48ef-98fa-709da25b2762\":{\"roots\":{\"references\":[{\"attributes\":{},\"id\":\"832f88b9-498f-4f9c-80a5-2e5e7b5a9b7e\",\"type\":\"LinearScale\"},{\"attributes\":{\"callback\":null},\"id\":\"e992aa71-30cb-4cee-a9c7-502b770d4a2b\",\"type\":\"DataRange1d\"},{\"attributes\":{\"formatter\":{\"id\":\"595c149d-a81a-401a-8366-7bda211a234d\",\"type\":\"BasicTickFormatter\"},\"plot\":{\"id\":\"d0e16863-f963-4f5b-8887-8fa1fc1020ce\",\"subtype\":\"Figure\",\"type\":\"Plot\"},\"ticker\":{\"id\":\"c6cf154c-bc92-4146-85e8-d8a0ca8d10e8\",\"type\":\"BasicTicker\"}},\"id\":\"3ffb7f38-9ced-40a8-b057-1370eab8209b\",\"type\":\"LinearAxis\"},{\"attributes\":{\"active_drag\":\"auto\",\"active_inspect\":\"auto\",\"active_scroll\":\"auto\",\"active_tap\":\"auto\",\"tools\":[{\"id\":\"64e36da8-ca06-424f-a0ea-6533f4be6f51\",\"type\":\"PanTool\"},{\"id\":\"88a817ad-c428-4251-9078-2a74b314a0af\",\"type\":\"WheelZoomTool\"},{\"id\":\"ca9cf98a-3d14-4107-bcb8-b9df10b1d57b\",\"type\":\"BoxZoomTool\"},{\"id\":\"93f11c98-19b1-4e2c-a41a-dd95eb3a0169\",\"type\":\"SaveTool\"},{\"id\":\"53f27bc3-3c50-4286-8bcd-9429673f4f96\",\"type\":\"ResetTool\"},{\"id\":\"2235f303-fcbb-4a67-a523-e2c6271e1cfb\",\"type\":\"HelpTool\"}]},\"id\":\"add70876-e4d6-43c0-bcd7-93040a65aaab\",\"type\":\"Toolbar\"},{\"attributes\":{\"callback\":null},\"id\":\"c56f510d-d30a-4b9f-8f10-681798d13f1b\",\"type\":\"DataRange1d\"},{\"attributes\":{\"fill_alpha\":{\"value\":0.1},\"fill_color\":{\"value\":\"#1f77b4\"},\"line_alpha\":{\"value\":0.1},\"line_color\":{\"value\":\"#1f77b4\"},\"x\":{\"field\":\"foo\"},\"y\":{\"field\":\"bar\"}},\"id\":\"8967cbcc-4afd-4656-9b85-7ac296e40461\",\"type\":\"Circle\"},{\"attributes\":{\"dimension\":1,\"plot\":{\"id\":\"d0e16863-f963-4f5b-8887-8fa1fc1020ce\",\"subtype\":\"Figure\",\"type\":\"Plot\"},\"ticker\":{\"id\":\"c6cf154c-bc92-4146-85e8-d8a0ca8d10e8\",\"type\":\"BasicTicker\"}},\"id\":\"87612397-0ba0-4b04-b055-9203742ee144\",\"type\":\"Grid\"},{\"attributes\":{\"plot\":null,\"text\":\"\"},\"id\":\"ca1a7beb-32a9-4b2f-a975-2e951f42b325\",\"type\":\"Title\"},{\"attributes\":{\"bottom_units\":\"screen\",\"fill_alpha\":{\"value\":0.5},\"fill_color\":{\"value\":\"lightgrey\"},\"left_units\":\"screen\",\"level\":\"overlay\",\"line_alpha\":{\"value\":1.0},\"line_color\":{\"value\":\"black\"},\"line_dash\":[4,4],\"line_width\":{\"value\":2},\"plot\":null,\"render_mode\":\"css\",\"right_units\":\"screen\",\"top_units\":\"screen\"},\"id\":\"68d6903a-7224-4f2e-b2cd-dd427b9beea5\",\"type\":\"BoxAnnotation\"},{\"attributes\":{\"data_source\":{\"id\":\"4100e94e-f6a0-4de6-a0d2-30da3736d471\",\"type\":\"ColumnDataSource\"},\"glyph\":{\"id\":\"dc5b84b4-56f9-49f4-9cc0-3793cc02591c\",\"type\":\"Circle\"},\"hover_glyph\":null,\"muted_glyph\":null,\"nonselection_glyph\":{\"id\":\"8967cbcc-4afd-4656-9b85-7ac296e40461\",\"type\":\"Circle\"},\"selection_glyph\":null,\"view\":{\"id\":\"5778bf94-ef30-409c-a916-3dd8fc9c8d62\",\"type\":\"CDSView\"}},\"id\":\"18a5cb1a-c088-4e57-ab59-f895f0302eae\",\"type\":\"GlyphRenderer\"},{\"attributes\":{},\"id\":\"88a817ad-c428-4251-9078-2a74b314a0af\",\"type\":\"WheelZoomTool\"},{\"attributes\":{\"below\":[{\"id\":\"964752f2-ae19-454e-bf83-03d81d9f49b2\",\"type\":\"LinearAxis\"}],\"left\":[{\"id\":\"3ffb7f38-9ced-40a8-b057-1370eab8209b\",\"type\":\"LinearAxis\"}],\"plot_height\":360,\"plot_width\":360,\"renderers\":[{\"id\":\"964752f2-ae19-454e-bf83-03d81d9f49b2\",\"type\":\"LinearAxis\"},{\"id\":\"3ca1c188-89ff-4b02-b509-59101fd43575\",\"type\":\"Grid\"},{\"id\":\"3ffb7f38-9ced-40a8-b057-1370eab8209b\",\"type\":\"LinearAxis\"},{\"id\":\"87612397-0ba0-4b04-b055-9203742ee144\",\"type\":\"Grid\"},{\"id\":\"68d6903a-7224-4f2e-b2cd-dd427b9beea5\",\"type\":\"BoxAnnotation\"},{\"id\":\"18a5cb1a-c088-4e57-ab59-f895f0302eae\",\"type\":\"GlyphRenderer\"}],\"title\":{\"id\":\"ca1a7beb-32a9-4b2f-a975-2e951f42b325\",\"type\":\"Title\"},\"toolbar\":{\"id\":\"add70876-e4d6-43c0-bcd7-93040a65aaab\",\"type\":\"Toolbar\"},\"x_range\":{\"id\":\"c56f510d-d30a-4b9f-8f10-681798d13f1b\",\"type\":\"DataRange1d\"},\"x_scale\":{\"id\":\"832f88b9-498f-4f9c-80a5-2e5e7b5a9b7e\",\"type\":\"LinearScale\"},\"y_range\":{\"id\":\"e992aa71-30cb-4cee-a9c7-502b770d4a2b\",\"type\":\"DataRange1d\"},\"y_scale\":{\"id\":\"c1914a66-5fd1-4e81-ad15-aa236ff10bdb\",\"type\":\"LinearScale\"}},\"id\":\"d0e16863-f963-4f5b-8887-8fa1fc1020ce\",\"subtype\":\"Figure\",\"type\":\"Plot\"},{\"attributes\":{\"callback\":null,\"column_names\":[\"foo\",\"bar\"],\"data\":{\"bar\":[100,200],\"foo\":[10,20]}},\"id\":\"4100e94e-f6a0-4de6-a0d2-30da3736d471\",\"type\":\"ColumnDataSource\"},{\"attributes\":{},\"id\":\"2235f303-fcbb-4a67-a523-e2c6271e1cfb\",\"type\":\"HelpTool\"},{\"attributes\":{\"fill_color\":{\"value\":\"#1f77b4\"},\"line_color\":{\"value\":\"#1f77b4\"},\"x\":{\"field\":\"foo\"},\"y\":{\"field\":\"bar\"}},\"id\":\"dc5b84b4-56f9-49f4-9cc0-3793cc02591c\",\"type\":\"Circle\"},{\"attributes\":{},\"id\":\"c6cf154c-bc92-4146-85e8-d8a0ca8d10e8\",\"type\":\"BasicTicker\"},{\"attributes\":{},\"id\":\"64e36da8-ca06-424f-a0ea-6533f4be6f51\",\"type\":\"PanTool\"},{\"attributes\":{},\"id\":\"39b7f803-47f8-4eb0-8b80-e3eac7a74f84\",\"type\":\"BasicTickFormatter\"},{\"attributes\":{},\"id\":\"53f27bc3-3c50-4286-8bcd-9429673f4f96\",\"type\":\"ResetTool\"},{\"attributes\":{},\"id\":\"93f11c98-19b1-4e2c-a41a-dd95eb3a0169\",\"type\":\"SaveTool\"},{\"attributes\":{},\"id\":\"98157685-f98a-4caa-966a-f5e8b890b956\",\"type\":\"BasicTicker\"},{\"attributes\":{\"overlay\":{\"id\":\"68d6903a-7224-4f2e-b2cd-dd427b9beea5\",\"type\":\"BoxAnnotation\"}},\"id\":\"ca9cf98a-3d14-4107-bcb8-b9df10b1d57b\",\"type\":\"BoxZoomTool\"},{\"attributes\":{\"plot\":{\"id\":\"d0e16863-f963-4f5b-8887-8fa1fc1020ce\",\"subtype\":\"Figure\",\"type\":\"Plot\"},\"ticker\":{\"id\":\"98157685-f98a-4caa-966a-f5e8b890b956\",\"type\":\"BasicTicker\"}},\"id\":\"3ca1c188-89ff-4b02-b509-59101fd43575\",\"type\":\"Grid\"},{\"attributes\":{},\"id\":\"595c149d-a81a-401a-8366-7bda211a234d\",\"type\":\"BasicTickFormatter\"},{\"attributes\":{\"source\":{\"id\":\"4100e94e-f6a0-4de6-a0d2-30da3736d471\",\"type\":\"ColumnDataSource\"}},\"id\":\"5778bf94-ef30-409c-a916-3dd8fc9c8d62\",\"type\":\"CDSView\"},{\"attributes\":{},\"id\":\"c1914a66-5fd1-4e81-ad15-aa236ff10bdb\",\"type\":\"LinearScale\"},{\"attributes\":{\"formatter\":{\"id\":\"39b7f803-47f8-4eb0-8b80-e3eac7a74f84\",\"type\":\"BasicTickFormatter\"},\"plot\":{\"id\":\"d0e16863-f963-4f5b-8887-8fa1fc1020ce\",\"subtype\":\"Figure\",\"type\":\"Plot\"},\"ticker\":{\"id\":\"98157685-f98a-4caa-966a-f5e8b890b956\",\"type\":\"BasicTicker\"}},\"id\":\"964752f2-ae19-454e-bf83-03d81d9f49b2\",\"type\":\"LinearAxis\"}],\"root_ids\":[\"d0e16863-f963-4f5b-8887-8fa1fc1020ce\"]},\"title\":\"Bokeh Application\",\"version\":\"0.12.13\"}};\n",
       "  var render_items = [{\"docid\":\"7186aac3-a8e0-48ef-98fa-709da25b2762\",\"elementid\":\"40ec2c99-1d10-4f28-af46-ecc231610a33\",\"modelid\":\"d0e16863-f963-4f5b-8887-8fa1fc1020ce\"}];\n",
       "  root.Bokeh.embed.embed_items_notebook(docs_json, render_items);\n",
       "\n",
       "  }\n",
       "  if (root.Bokeh !== undefined) {\n",
       "    embed_document(root);\n",
       "  } else {\n",
       "    var attempts = 0;\n",
       "    var timer = setInterval(function(root) {\n",
       "      if (root.Bokeh !== undefined) {\n",
       "        embed_document(root);\n",
       "        clearInterval(timer);\n",
       "      }\n",
       "      attempts++;\n",
       "      if (attempts > 100) {\n",
       "        console.log(\"Bokeh: ERROR: Unable to run BokehJS code because BokehJS library is missing\")\n",
       "        clearInterval(timer);\n",
       "      }\n",
       "    }, 10, root)\n",
       "  }\n",
       "})(window);"
      ],
      "application/vnd.bokehjs_exec.v0+json": ""
     },
     "metadata": {
      "application/vnd.bokehjs_exec.v0+json": {
       "id": "d0e16863-f963-4f5b-8887-8fa1fc1020ce"
      }
     },
     "output_type": "display_data"
    }
   ],
   "source": [
    "source = ColumnDataSource(data=dict(foo=[], bar=[]))\n",
    "\n",
    "# has new, identical-length updates for all columns in source\n",
    "new_data = {\n",
    "    'foo' : [10, 20],\n",
    "    'bar' : [100, 200],\n",
    "}\n",
    "\n",
    "source.stream(new_data)\n",
    "\n",
    "p = figure(width=360, height=360)\n",
    "p.circle(x='foo', y='bar', source=source)\n",
    "show(p)"
   ]
  },
  {
   "cell_type": "markdown",
   "metadata": {},
   "source": [
    "### Filtering data with CDSView"
   ]
  },
  {
   "cell_type": "markdown",
   "metadata": {},
   "source": [
    "```\n",
    "from bokeh.models import ColumnDataSource, CDSView\n",
    "\n",
    "source = ColumnDataSource(some_data)\n",
    "view = CDSView(source=source, filters=[filter1, filter2])\n",
    "\n",
    "p = figure()\n",
    "p.circle(x=\"x\", y=\"y\", source=source, view=view)\n",
    "```"
   ]
  },
  {
   "cell_type": "markdown",
   "metadata": {},
   "source": [
    "### IndexFilter"
   ]
  },
  {
   "cell_type": "code",
   "execution_count": 10,
   "metadata": {},
   "outputs": [
    {
     "data": {
      "text/html": [
       "\n",
       "<div class=\"bk-root\">\n",
       "    <div class=\"bk-plotdiv\" id=\"d8865911-76fa-4837-8c56-81cc7131381f\"></div>\n",
       "</div>"
      ]
     },
     "metadata": {},
     "output_type": "display_data"
    },
    {
     "data": {
      "application/javascript": [
       "(function(root) {\n",
       "  function embed_document(root) {\n",
       "    \n",
       "  var docs_json = {\"d3fb41b8-ff4e-4ca6-93a5-9022c6e2ea89\":{\"roots\":{\"references\":[{\"attributes\":{\"tools\":[{\"id\":\"be886484-4f8d-457c-bb80-748239047588\",\"type\":\"BoxSelectTool\"},{\"id\":\"fb260e70-ff11-4ff1-ab94-201162e80f87\",\"type\":\"HoverTool\"},{\"id\":\"d2f96d6e-ac15-4e20-ba59-210d56353d64\",\"type\":\"ResetTool\"},{\"id\":\"fff5c1df-1dc4-4339-997d-9c91641bba75\",\"type\":\"BoxSelectTool\"},{\"id\":\"3a10b69b-5fda-48e1-a6cf-31735fafb3a4\",\"type\":\"HoverTool\"},{\"id\":\"0896231c-8441-476d-8480-490463e74776\",\"type\":\"ResetTool\"}]},\"id\":\"fe1696f1-a94d-4735-8f83-316d526954d8\",\"type\":\"ProxyToolbar\"},{\"attributes\":{},\"id\":\"6016a4e7-e365-4cec-bfed-c62b347a2915\",\"type\":\"BasicTicker\"},{\"attributes\":{\"callback\":null,\"column_names\":[\"x\",\"y\"],\"data\":{\"x\":[1,2,3,4,5],\"y\":[1,2,3,4,5]}},\"id\":\"c962ceb9-e8ce-4231-b038-2891fcd9852d\",\"type\":\"ColumnDataSource\"},{\"attributes\":{\"children\":[{\"id\":\"8d5f40d7-8ef0-45ee-9a94-903b0b297419\",\"subtype\":\"Figure\",\"type\":\"Plot\"},{\"id\":\"11a25e88-46ba-4043-a9df-101e43b81d22\",\"subtype\":\"Figure\",\"type\":\"Plot\"}]},\"id\":\"7528ecb8-85cc-4c9b-b2d6-94dea94816ba\",\"type\":\"Row\"},{\"attributes\":{\"plot\":{\"id\":\"11a25e88-46ba-4043-a9df-101e43b81d22\",\"subtype\":\"Figure\",\"type\":\"Plot\"},\"ticker\":{\"id\":\"6016a4e7-e365-4cec-bfed-c62b347a2915\",\"type\":\"BasicTicker\"}},\"id\":\"61b0b59b-99fb-4a96-a7a4-c93a235920af\",\"type\":\"Grid\"},{\"attributes\":{\"filters\":[{\"id\":\"29c482ea-da49-45f5-bfd1-1a6a72e03a86\",\"type\":\"IndexFilter\"}],\"source\":{\"id\":\"c962ceb9-e8ce-4231-b038-2891fcd9852d\",\"type\":\"ColumnDataSource\"}},\"id\":\"d0e33418-a57e-4f7b-9d8d-f52b12c536bc\",\"type\":\"CDSView\"},{\"attributes\":{\"formatter\":{\"id\":\"7ef8c46c-aa37-45c0-9b58-26966fa2a9f6\",\"type\":\"BasicTickFormatter\"},\"plot\":{\"id\":\"11a25e88-46ba-4043-a9df-101e43b81d22\",\"subtype\":\"Figure\",\"type\":\"Plot\"},\"ticker\":{\"id\":\"640d09d1-b5dd-4e2f-ba6c-5eb4ed1271b8\",\"type\":\"BasicTicker\"}},\"id\":\"247fdf7a-ecb5-4eb1-bab5-ff8428769d66\",\"type\":\"LinearAxis\"},{\"attributes\":{\"below\":[{\"id\":\"1d57c36f-2f8a-4d08-9f98-2fe29028ae34\",\"type\":\"LinearAxis\"}],\"left\":[{\"id\":\"f2ef1e12-ce6b-46cc-8ba6-8ea5727d8247\",\"type\":\"LinearAxis\"}],\"plot_height\":300,\"plot_width\":300,\"renderers\":[{\"id\":\"1d57c36f-2f8a-4d08-9f98-2fe29028ae34\",\"type\":\"LinearAxis\"},{\"id\":\"8385b447-e05d-45a6-ac87-afe702d7a228\",\"type\":\"Grid\"},{\"id\":\"f2ef1e12-ce6b-46cc-8ba6-8ea5727d8247\",\"type\":\"LinearAxis\"},{\"id\":\"0a1d43ac-99d3-492d-9c85-956201ae21f8\",\"type\":\"Grid\"},{\"id\":\"13a38778-634b-428c-b084-63bee94405af\",\"type\":\"BoxAnnotation\"},{\"id\":\"ef194355-df6e-478b-923c-16d1f54146b4\",\"type\":\"GlyphRenderer\"}],\"title\":{\"id\":\"18c500ef-fa36-4d9c-81e1-483412c3e000\",\"type\":\"Title\"},\"toolbar\":{\"id\":\"a5f2ced3-75f6-437b-849f-4b3a3cfd6562\",\"type\":\"Toolbar\"},\"toolbar_location\":null,\"x_range\":{\"id\":\"3d296e90-357e-49e9-8ad4-4ea4814dc355\",\"type\":\"DataRange1d\"},\"x_scale\":{\"id\":\"72c42bcd-84f1-4ac0-9d8a-14b72be0c9ca\",\"type\":\"LinearScale\"},\"y_range\":{\"id\":\"154880fb-d83a-44eb-b091-6aa019d1b6b2\",\"type\":\"DataRange1d\"},\"y_scale\":{\"id\":\"c75190fc-0d46-4d4a-9328-b9b01e4ced32\",\"type\":\"LinearScale\"}},\"id\":\"8d5f40d7-8ef0-45ee-9a94-903b0b297419\",\"subtype\":\"Figure\",\"type\":\"Plot\"},{\"attributes\":{},\"id\":\"640d09d1-b5dd-4e2f-ba6c-5eb4ed1271b8\",\"type\":\"BasicTicker\"},{\"attributes\":{\"fill_alpha\":{\"value\":0.1},\"fill_color\":{\"value\":\"#1f77b4\"},\"line_alpha\":{\"value\":0.1},\"line_color\":{\"value\":\"#1f77b4\"},\"size\":{\"units\":\"screen\",\"value\":10},\"x\":{\"field\":\"x\"},\"y\":{\"field\":\"y\"}},\"id\":\"2d35fbe7-2c7e-4635-bf19-21b18c738e56\",\"type\":\"Circle\"},{\"attributes\":{\"dimension\":1,\"plot\":{\"id\":\"11a25e88-46ba-4043-a9df-101e43b81d22\",\"subtype\":\"Figure\",\"type\":\"Plot\"},\"ticker\":{\"id\":\"640d09d1-b5dd-4e2f-ba6c-5eb4ed1271b8\",\"type\":\"BasicTicker\"}},\"id\":\"a02e34d0-af18-4a9c-8421-a3ab4728d9e6\",\"type\":\"Grid\"},{\"attributes\":{\"active_drag\":\"auto\",\"active_inspect\":\"auto\",\"active_scroll\":\"auto\",\"active_tap\":\"auto\",\"tools\":[{\"id\":\"be886484-4f8d-457c-bb80-748239047588\",\"type\":\"BoxSelectTool\"},{\"id\":\"fb260e70-ff11-4ff1-ab94-201162e80f87\",\"type\":\"HoverTool\"},{\"id\":\"d2f96d6e-ac15-4e20-ba59-210d56353d64\",\"type\":\"ResetTool\"}]},\"id\":\"a5f2ced3-75f6-437b-849f-4b3a3cfd6562\",\"type\":\"Toolbar\"},{\"attributes\":{\"fill_alpha\":{\"value\":0.1},\"fill_color\":{\"value\":\"#1f77b4\"},\"line_alpha\":{\"value\":0.1},\"line_color\":{\"value\":\"#1f77b4\"},\"size\":{\"units\":\"screen\",\"value\":10},\"x\":{\"field\":\"x\"},\"y\":{\"field\":\"y\"}},\"id\":\"590ade55-d78e-491d-960e-f4d642c45776\",\"type\":\"Circle\"},{\"attributes\":{\"callback\":null},\"id\":\"3d296e90-357e-49e9-8ad4-4ea4814dc355\",\"type\":\"DataRange1d\"},{\"attributes\":{\"bottom_units\":\"screen\",\"fill_alpha\":{\"value\":0.5},\"fill_color\":{\"value\":\"lightgrey\"},\"left_units\":\"screen\",\"level\":\"overlay\",\"line_alpha\":{\"value\":1.0},\"line_color\":{\"value\":\"black\"},\"line_dash\":[4,4],\"line_width\":{\"value\":2},\"plot\":null,\"render_mode\":\"css\",\"right_units\":\"screen\",\"top_units\":\"screen\"},\"id\":\"d3d165f4-7457-437e-82cf-7adbe88cdcb0\",\"type\":\"BoxAnnotation\"},{\"attributes\":{\"callback\":null},\"id\":\"154880fb-d83a-44eb-b091-6aa019d1b6b2\",\"type\":\"DataRange1d\"},{\"attributes\":{\"callback\":null,\"overlay\":{\"id\":\"d3d165f4-7457-437e-82cf-7adbe88cdcb0\",\"type\":\"BoxAnnotation\"},\"renderers\":[{\"id\":\"e97bc06a-15f0-46e4-8840-f213abbe82bf\",\"type\":\"GlyphRenderer\"}]},\"id\":\"fff5c1df-1dc4-4339-997d-9c91641bba75\",\"type\":\"BoxSelectTool\"},{\"attributes\":{\"formatter\":{\"id\":\"856dcd85-fb6a-4fa5-83de-41caf21b6125\",\"type\":\"BasicTickFormatter\"},\"plot\":{\"id\":\"8d5f40d7-8ef0-45ee-9a94-903b0b297419\",\"subtype\":\"Figure\",\"type\":\"Plot\"},\"ticker\":{\"id\":\"b99e63d1-743f-4fb5-b1d6-e9fa05e6896d\",\"type\":\"BasicTicker\"}},\"id\":\"1d57c36f-2f8a-4d08-9f98-2fe29028ae34\",\"type\":\"LinearAxis\"},{\"attributes\":{\"toolbar\":{\"id\":\"fe1696f1-a94d-4735-8f83-316d526954d8\",\"type\":\"ProxyToolbar\"},\"toolbar_location\":\"above\"},\"id\":\"17fcdab1-203c-4709-8a01-fb428c42c7dd\",\"type\":\"ToolbarBox\"},{\"attributes\":{},\"id\":\"72c42bcd-84f1-4ac0-9d8a-14b72be0c9ca\",\"type\":\"LinearScale\"},{\"attributes\":{\"callback\":null},\"id\":\"3a10b69b-5fda-48e1-a6cf-31735fafb3a4\",\"type\":\"HoverTool\"},{\"attributes\":{\"below\":[{\"id\":\"a4756113-3e9d-4e45-b7ab-97b61449e213\",\"type\":\"LinearAxis\"}],\"left\":[{\"id\":\"247fdf7a-ecb5-4eb1-bab5-ff8428769d66\",\"type\":\"LinearAxis\"}],\"plot_height\":300,\"plot_width\":300,\"renderers\":[{\"id\":\"a4756113-3e9d-4e45-b7ab-97b61449e213\",\"type\":\"LinearAxis\"},{\"id\":\"61b0b59b-99fb-4a96-a7a4-c93a235920af\",\"type\":\"Grid\"},{\"id\":\"247fdf7a-ecb5-4eb1-bab5-ff8428769d66\",\"type\":\"LinearAxis\"},{\"id\":\"a02e34d0-af18-4a9c-8421-a3ab4728d9e6\",\"type\":\"Grid\"},{\"id\":\"d3d165f4-7457-437e-82cf-7adbe88cdcb0\",\"type\":\"BoxAnnotation\"},{\"id\":\"e97bc06a-15f0-46e4-8840-f213abbe82bf\",\"type\":\"GlyphRenderer\"}],\"title\":{\"id\":\"6558d76e-c41b-435c-b936-33d842e96cda\",\"type\":\"Title\"},\"toolbar\":{\"id\":\"31f9f7f3-0b84-4c34-a17c-a3f377d179ba\",\"type\":\"Toolbar\"},\"toolbar_location\":null,\"x_range\":{\"id\":\"f16be990-b315-42bc-94d1-8a12366ec324\",\"type\":\"DataRange1d\"},\"x_scale\":{\"id\":\"9a9f5761-f1fd-43c6-8ad9-f16504b2e446\",\"type\":\"LinearScale\"},\"y_range\":{\"id\":\"4958b892-851e-47ad-898a-a3b714087971\",\"type\":\"DataRange1d\"},\"y_scale\":{\"id\":\"1fa19ea3-0bce-4c14-a3ad-2d82aff55445\",\"type\":\"LinearScale\"}},\"id\":\"11a25e88-46ba-4043-a9df-101e43b81d22\",\"subtype\":\"Figure\",\"type\":\"Plot\"},{\"attributes\":{},\"id\":\"0896231c-8441-476d-8480-490463e74776\",\"type\":\"ResetTool\"},{\"attributes\":{\"source\":{\"id\":\"c962ceb9-e8ce-4231-b038-2891fcd9852d\",\"type\":\"ColumnDataSource\"}},\"id\":\"2ee3eb9c-1ef1-4ae2-a4f2-4b7b586fd1d6\",\"type\":\"CDSView\"},{\"attributes\":{\"fill_color\":{\"value\":\"red\"},\"line_color\":{\"value\":\"red\"},\"size\":{\"units\":\"screen\",\"value\":10},\"x\":{\"field\":\"x\"},\"y\":{\"field\":\"y\"}},\"id\":\"95d8bc62-a407-4176-8022-68a08b90123a\",\"type\":\"Circle\"},{\"attributes\":{},\"id\":\"856dcd85-fb6a-4fa5-83de-41caf21b6125\",\"type\":\"BasicTickFormatter\"},{\"attributes\":{\"plot\":null,\"text\":\"\"},\"id\":\"6558d76e-c41b-435c-b936-33d842e96cda\",\"type\":\"Title\"},{\"attributes\":{\"plot\":{\"id\":\"8d5f40d7-8ef0-45ee-9a94-903b0b297419\",\"subtype\":\"Figure\",\"type\":\"Plot\"},\"ticker\":{\"id\":\"b99e63d1-743f-4fb5-b1d6-e9fa05e6896d\",\"type\":\"BasicTicker\"}},\"id\":\"8385b447-e05d-45a6-ac87-afe702d7a228\",\"type\":\"Grid\"},{\"attributes\":{\"data_source\":{\"id\":\"c962ceb9-e8ce-4231-b038-2891fcd9852d\",\"type\":\"ColumnDataSource\"},\"glyph\":{\"id\":\"c1160095-5fdc-41cd-80dc-58819a4bade3\",\"type\":\"Circle\"},\"hover_glyph\":{\"id\":\"95d8bc62-a407-4176-8022-68a08b90123a\",\"type\":\"Circle\"},\"muted_glyph\":null,\"nonselection_glyph\":{\"id\":\"590ade55-d78e-491d-960e-f4d642c45776\",\"type\":\"Circle\"},\"selection_glyph\":null,\"view\":{\"id\":\"d0e33418-a57e-4f7b-9d8d-f52b12c536bc\",\"type\":\"CDSView\"}},\"id\":\"e97bc06a-15f0-46e4-8840-f213abbe82bf\",\"type\":\"GlyphRenderer\"},{\"attributes\":{},\"id\":\"b99e63d1-743f-4fb5-b1d6-e9fa05e6896d\",\"type\":\"BasicTicker\"},{\"attributes\":{},\"id\":\"94ec4c9b-e601-444c-81f4-ac0deba6fcc4\",\"type\":\"BasicTickFormatter\"},{\"attributes\":{\"formatter\":{\"id\":\"a45b1b12-c577-49ac-b1a8-dbda2430dab3\",\"type\":\"BasicTickFormatter\"},\"plot\":{\"id\":\"8d5f40d7-8ef0-45ee-9a94-903b0b297419\",\"subtype\":\"Figure\",\"type\":\"Plot\"},\"ticker\":{\"id\":\"ffe9a896-55cf-471f-bfa2-aa9c239f2e08\",\"type\":\"BasicTicker\"}},\"id\":\"f2ef1e12-ce6b-46cc-8ba6-8ea5727d8247\",\"type\":\"LinearAxis\"},{\"attributes\":{},\"id\":\"ffe9a896-55cf-471f-bfa2-aa9c239f2e08\",\"type\":\"BasicTicker\"},{\"attributes\":{},\"id\":\"7ef8c46c-aa37-45c0-9b58-26966fa2a9f6\",\"type\":\"BasicTickFormatter\"},{\"attributes\":{\"dimension\":1,\"plot\":{\"id\":\"8d5f40d7-8ef0-45ee-9a94-903b0b297419\",\"subtype\":\"Figure\",\"type\":\"Plot\"},\"ticker\":{\"id\":\"ffe9a896-55cf-471f-bfa2-aa9c239f2e08\",\"type\":\"BasicTicker\"}},\"id\":\"0a1d43ac-99d3-492d-9c85-956201ae21f8\",\"type\":\"Grid\"},{\"attributes\":{\"fill_color\":{\"value\":\"#1f77b4\"},\"line_color\":{\"value\":\"#1f77b4\"},\"size\":{\"units\":\"screen\",\"value\":10},\"x\":{\"field\":\"x\"},\"y\":{\"field\":\"y\"}},\"id\":\"5582fdc3-6308-4a78-8dd6-bc2c5c783ef3\",\"type\":\"Circle\"},{\"attributes\":{\"bottom_units\":\"screen\",\"fill_alpha\":{\"value\":0.5},\"fill_color\":{\"value\":\"lightgrey\"},\"left_units\":\"screen\",\"level\":\"overlay\",\"line_alpha\":{\"value\":1.0},\"line_color\":{\"value\":\"black\"},\"line_dash\":[4,4],\"line_width\":{\"value\":2},\"plot\":null,\"render_mode\":\"css\",\"right_units\":\"screen\",\"top_units\":\"screen\"},\"id\":\"13a38778-634b-428c-b084-63bee94405af\",\"type\":\"BoxAnnotation\"},{\"attributes\":{},\"id\":\"c75190fc-0d46-4d4a-9328-b9b01e4ced32\",\"type\":\"LinearScale\"},{\"attributes\":{\"callback\":null,\"overlay\":{\"id\":\"13a38778-634b-428c-b084-63bee94405af\",\"type\":\"BoxAnnotation\"},\"renderers\":[{\"id\":\"ef194355-df6e-478b-923c-16d1f54146b4\",\"type\":\"GlyphRenderer\"}]},\"id\":\"be886484-4f8d-457c-bb80-748239047588\",\"type\":\"BoxSelectTool\"},{\"attributes\":{\"active_drag\":\"auto\",\"active_inspect\":\"auto\",\"active_scroll\":\"auto\",\"active_tap\":\"auto\",\"tools\":[{\"id\":\"fff5c1df-1dc4-4339-997d-9c91641bba75\",\"type\":\"BoxSelectTool\"},{\"id\":\"3a10b69b-5fda-48e1-a6cf-31735fafb3a4\",\"type\":\"HoverTool\"},{\"id\":\"0896231c-8441-476d-8480-490463e74776\",\"type\":\"ResetTool\"}]},\"id\":\"31f9f7f3-0b84-4c34-a17c-a3f377d179ba\",\"type\":\"Toolbar\"},{\"attributes\":{\"callback\":null},\"id\":\"fb260e70-ff11-4ff1-ab94-201162e80f87\",\"type\":\"HoverTool\"},{\"attributes\":{},\"id\":\"d2f96d6e-ac15-4e20-ba59-210d56353d64\",\"type\":\"ResetTool\"},{\"attributes\":{\"children\":[{\"id\":\"17fcdab1-203c-4709-8a01-fb428c42c7dd\",\"type\":\"ToolbarBox\"},{\"id\":\"78a126d6-7e5f-4ad2-998d-0d8456bb03f0\",\"type\":\"Column\"}]},\"id\":\"6b794df4-1664-4619-80dd-8b7139b1dc70\",\"type\":\"Column\"},{\"attributes\":{\"fill_color\":{\"value\":\"red\"},\"line_color\":{\"value\":\"red\"},\"size\":{\"units\":\"screen\",\"value\":10},\"x\":{\"field\":\"x\"},\"y\":{\"field\":\"y\"}},\"id\":\"fe5edf5f-8aca-4f71-b000-03d19cd89b87\",\"type\":\"Circle\"},{\"attributes\":{\"plot\":null,\"text\":\"\"},\"id\":\"18c500ef-fa36-4d9c-81e1-483412c3e000\",\"type\":\"Title\"},{\"attributes\":{\"data_source\":{\"id\":\"c962ceb9-e8ce-4231-b038-2891fcd9852d\",\"type\":\"ColumnDataSource\"},\"glyph\":{\"id\":\"5582fdc3-6308-4a78-8dd6-bc2c5c783ef3\",\"type\":\"Circle\"},\"hover_glyph\":{\"id\":\"fe5edf5f-8aca-4f71-b000-03d19cd89b87\",\"type\":\"Circle\"},\"muted_glyph\":null,\"nonselection_glyph\":{\"id\":\"2d35fbe7-2c7e-4635-bf19-21b18c738e56\",\"type\":\"Circle\"},\"selection_glyph\":null,\"view\":{\"id\":\"2ee3eb9c-1ef1-4ae2-a4f2-4b7b586fd1d6\",\"type\":\"CDSView\"}},\"id\":\"ef194355-df6e-478b-923c-16d1f54146b4\",\"type\":\"GlyphRenderer\"},{\"attributes\":{},\"id\":\"1fa19ea3-0bce-4c14-a3ad-2d82aff55445\",\"type\":\"LinearScale\"},{\"attributes\":{\"callback\":null},\"id\":\"f16be990-b315-42bc-94d1-8a12366ec324\",\"type\":\"DataRange1d\"},{\"attributes\":{},\"id\":\"9a9f5761-f1fd-43c6-8ad9-f16504b2e446\",\"type\":\"LinearScale\"},{\"attributes\":{},\"id\":\"a45b1b12-c577-49ac-b1a8-dbda2430dab3\",\"type\":\"BasicTickFormatter\"},{\"attributes\":{\"children\":[{\"id\":\"7528ecb8-85cc-4c9b-b2d6-94dea94816ba\",\"type\":\"Row\"}]},\"id\":\"78a126d6-7e5f-4ad2-998d-0d8456bb03f0\",\"type\":\"Column\"},{\"attributes\":{\"fill_color\":{\"value\":\"#1f77b4\"},\"line_color\":{\"value\":\"#1f77b4\"},\"size\":{\"units\":\"screen\",\"value\":10},\"x\":{\"field\":\"x\"},\"y\":{\"field\":\"y\"}},\"id\":\"c1160095-5fdc-41cd-80dc-58819a4bade3\",\"type\":\"Circle\"},{\"attributes\":{\"callback\":null},\"id\":\"4958b892-851e-47ad-898a-a3b714087971\",\"type\":\"DataRange1d\"},{\"attributes\":{\"formatter\":{\"id\":\"94ec4c9b-e601-444c-81f4-ac0deba6fcc4\",\"type\":\"BasicTickFormatter\"},\"plot\":{\"id\":\"11a25e88-46ba-4043-a9df-101e43b81d22\",\"subtype\":\"Figure\",\"type\":\"Plot\"},\"ticker\":{\"id\":\"6016a4e7-e365-4cec-bfed-c62b347a2915\",\"type\":\"BasicTicker\"}},\"id\":\"a4756113-3e9d-4e45-b7ab-97b61449e213\",\"type\":\"LinearAxis\"},{\"attributes\":{\"indices\":[0,2,4]},\"id\":\"29c482ea-da49-45f5-bfd1-1a6a72e03a86\",\"type\":\"IndexFilter\"}],\"root_ids\":[\"6b794df4-1664-4619-80dd-8b7139b1dc70\"]},\"title\":\"Bokeh Application\",\"version\":\"0.12.13\"}};\n",
       "  var render_items = [{\"docid\":\"d3fb41b8-ff4e-4ca6-93a5-9022c6e2ea89\",\"elementid\":\"d8865911-76fa-4837-8c56-81cc7131381f\",\"modelid\":\"6b794df4-1664-4619-80dd-8b7139b1dc70\"}];\n",
       "  root.Bokeh.embed.embed_items_notebook(docs_json, render_items);\n",
       "\n",
       "  }\n",
       "  if (root.Bokeh !== undefined) {\n",
       "    embed_document(root);\n",
       "  } else {\n",
       "    var attempts = 0;\n",
       "    var timer = setInterval(function(root) {\n",
       "      if (root.Bokeh !== undefined) {\n",
       "        embed_document(root);\n",
       "        clearInterval(timer);\n",
       "      }\n",
       "      attempts++;\n",
       "      if (attempts > 100) {\n",
       "        console.log(\"Bokeh: ERROR: Unable to run BokehJS code because BokehJS library is missing\")\n",
       "        clearInterval(timer);\n",
       "      }\n",
       "    }, 10, root)\n",
       "  }\n",
       "})(window);"
      ],
      "application/vnd.bokehjs_exec.v0+json": ""
     },
     "metadata": {
      "application/vnd.bokehjs_exec.v0+json": {
       "id": "6b794df4-1664-4619-80dd-8b7139b1dc70"
      }
     },
     "output_type": "display_data"
    }
   ],
   "source": [
    "from bokeh.models import ColumnDataSource, CDSView, IndexFilter\n",
    "from bokeh.layouts import gridplot \n",
    "\n",
    "source = ColumnDataSource(data=dict(x=[1, 2, 3, 4, 5], y=[1, 2, 3, 4, 5]))\n",
    "\n",
    "view = CDSView(source=source, \n",
    "               filters=[IndexFilter([0, 2, 4])])\n",
    "\n",
    "tools = [\"box_select\", \"hover\", \"reset\"]\n",
    "p = figure(plot_height=300, plot_width=300, tools=tools)\n",
    "p.circle(x=\"x\", y=\"y\", size=10, hover_color=\"red\", source=source)\n",
    "\n",
    "p_filtered = figure(plot_height=300, plot_width=300, tools=tools)\n",
    "p_filtered.circle(x=\"x\", y=\"y\", size=10, hover_color=\"red\", source=source,\n",
    "                  view=view)\n",
    "\n",
    "show(gridplot([[p, p_filtered]]))"
   ]
  },
  {
   "cell_type": "markdown",
   "metadata": {},
   "source": [
    "### BooleanFilter"
   ]
  },
  {
   "cell_type": "code",
   "execution_count": 11,
   "metadata": {},
   "outputs": [
    {
     "data": {
      "text/html": [
       "\n",
       "<div class=\"bk-root\">\n",
       "    <div class=\"bk-plotdiv\" id=\"c2de8ffb-557e-4f81-808d-72fad571ff9c\"></div>\n",
       "</div>"
      ]
     },
     "metadata": {},
     "output_type": "display_data"
    },
    {
     "data": {
      "application/javascript": [
       "(function(root) {\n",
       "  function embed_document(root) {\n",
       "    \n",
       "  var docs_json = {\"415bab2f-f2a1-4bc6-99eb-3244acc13a69\":{\"roots\":{\"references\":[{\"attributes\":{},\"id\":\"9ee1a8a3-d062-437e-8c42-b3c0f4305244\",\"type\":\"BasicTicker\"},{\"attributes\":{\"data_source\":{\"id\":\"66ade6f0-fdfa-46b7-a597-f3929da534bd\",\"type\":\"ColumnDataSource\"},\"glyph\":{\"id\":\"9f3bf219-6a1a-41ad-89d6-a7394ec86344\",\"type\":\"Circle\"},\"hover_glyph\":{\"id\":\"7f4f126f-f4ce-4a34-a23d-05d55d205a68\",\"type\":\"Circle\"},\"muted_glyph\":null,\"nonselection_glyph\":{\"id\":\"90a47fa1-cf7c-4dbd-b6c2-0cc8220597cf\",\"type\":\"Circle\"},\"selection_glyph\":null,\"view\":{\"id\":\"8192fc8b-b63d-42df-bb8b-d528510fbb0d\",\"type\":\"CDSView\"}},\"id\":\"a98a7aa7-e95d-48db-9c9c-c25fa54a10be\",\"type\":\"GlyphRenderer\"},{\"attributes\":{\"bottom_units\":\"screen\",\"fill_alpha\":{\"value\":0.5},\"fill_color\":{\"value\":\"lightgrey\"},\"left_units\":\"screen\",\"level\":\"overlay\",\"line_alpha\":{\"value\":1.0},\"line_color\":{\"value\":\"black\"},\"line_dash\":[4,4],\"line_width\":{\"value\":2},\"plot\":null,\"render_mode\":\"css\",\"right_units\":\"screen\",\"top_units\":\"screen\"},\"id\":\"0fe532a2-ed1f-40b6-ac3f-490ce5113e26\",\"type\":\"BoxAnnotation\"},{\"attributes\":{\"active_drag\":\"auto\",\"active_inspect\":\"auto\",\"active_scroll\":\"auto\",\"active_tap\":\"auto\",\"tools\":[{\"id\":\"74d49419-3e41-478c-a73d-18832e6abfa9\",\"type\":\"BoxSelectTool\"},{\"id\":\"4393d3ea-f4c5-4cc3-9d0b-1d6e9d65113d\",\"type\":\"HoverTool\"},{\"id\":\"d341a1ac-8b04-4154-8233-37eca61e04d1\",\"type\":\"ResetTool\"}]},\"id\":\"33c0343b-d647-4f38-9626-121e075fba4d\",\"type\":\"Toolbar\"},{\"attributes\":{\"callback\":null,\"overlay\":{\"id\":\"0fe532a2-ed1f-40b6-ac3f-490ce5113e26\",\"type\":\"BoxAnnotation\"},\"renderers\":[{\"id\":\"decb93c1-adcb-4abc-be20-e8890e9e14d0\",\"type\":\"GlyphRenderer\"}]},\"id\":\"48615dda-01df-4e57-ad3a-9c5b7300aeb7\",\"type\":\"BoxSelectTool\"},{\"attributes\":{},\"id\":\"5becc4cc-0a2f-4ebc-b9d9-92ff6b1d8921\",\"type\":\"LinearScale\"},{\"attributes\":{\"fill_color\":{\"value\":\"#1f77b4\"},\"line_color\":{\"value\":\"#1f77b4\"},\"size\":{\"units\":\"screen\",\"value\":10},\"x\":{\"field\":\"x\"},\"y\":{\"field\":\"y\"}},\"id\":\"6f8c7daf-7685-499e-b4cc-129f84fa4846\",\"type\":\"Circle\"},{\"attributes\":{},\"id\":\"c19e075b-fe48-474c-8c4f-8ee5ba6b7bcb\",\"type\":\"LinearScale\"},{\"attributes\":{\"dimension\":1,\"plot\":{\"id\":\"73c1373c-050e-4056-bf38-f7df27c31b46\",\"subtype\":\"Figure\",\"type\":\"Plot\"},\"ticker\":{\"id\":\"9ee1a8a3-d062-437e-8c42-b3c0f4305244\",\"type\":\"BasicTicker\"}},\"id\":\"bba0d240-43ec-40d7-9584-fbdf836f9726\",\"type\":\"Grid\"},{\"attributes\":{\"fill_alpha\":{\"value\":0.1},\"fill_color\":{\"value\":\"#1f77b4\"},\"line_alpha\":{\"value\":0.1},\"line_color\":{\"value\":\"#1f77b4\"},\"size\":{\"units\":\"screen\",\"value\":10},\"x\":{\"field\":\"x\"},\"y\":{\"field\":\"y\"}},\"id\":\"90a47fa1-cf7c-4dbd-b6c2-0cc8220597cf\",\"type\":\"Circle\"},{\"attributes\":{\"plot\":{\"id\":\"ccfd8b35-f80a-4aa9-9cd4-cb00fbf62138\",\"subtype\":\"Figure\",\"type\":\"Plot\"},\"ticker\":{\"id\":\"5d71462c-3fd4-46d6-8947-9a17937458d4\",\"type\":\"BasicTicker\"}},\"id\":\"9dffabb7-9587-41e6-8b76-5d3bac2533cd\",\"type\":\"Grid\"},{\"attributes\":{},\"id\":\"df2c0cb1-9447-4ec3-9246-c43ac4622cb1\",\"type\":\"BasicTickFormatter\"},{\"attributes\":{\"formatter\":{\"id\":\"d960b36c-3340-4afb-a4e8-9aba96ae3e3b\",\"type\":\"BasicTickFormatter\"},\"plot\":{\"id\":\"ccfd8b35-f80a-4aa9-9cd4-cb00fbf62138\",\"subtype\":\"Figure\",\"type\":\"Plot\"},\"ticker\":{\"id\":\"5d71462c-3fd4-46d6-8947-9a17937458d4\",\"type\":\"BasicTicker\"}},\"id\":\"325e105b-7283-4a39-af97-1d0958b5cfe2\",\"type\":\"LinearAxis\"},{\"attributes\":{},\"id\":\"5d71462c-3fd4-46d6-8947-9a17937458d4\",\"type\":\"BasicTicker\"},{\"attributes\":{\"fill_color\":{\"value\":\"#1f77b4\"},\"line_color\":{\"value\":\"#1f77b4\"},\"size\":{\"units\":\"screen\",\"value\":10},\"x\":{\"field\":\"x\"},\"y\":{\"field\":\"y\"}},\"id\":\"9f3bf219-6a1a-41ad-89d6-a7394ec86344\",\"type\":\"Circle\"},{\"attributes\":{\"formatter\":{\"id\":\"0edfec62-9420-4e00-8668-157d2b56d0a5\",\"type\":\"BasicTickFormatter\"},\"plot\":{\"id\":\"ccfd8b35-f80a-4aa9-9cd4-cb00fbf62138\",\"subtype\":\"Figure\",\"type\":\"Plot\"},\"ticker\":{\"id\":\"9a6f579d-7c01-469a-902a-0ac2c2b30244\",\"type\":\"BasicTicker\"}},\"id\":\"a21078e7-e7e2-41dd-bec6-34221112de74\",\"type\":\"LinearAxis\"},{\"attributes\":{\"callback\":null},\"id\":\"45721d9b-65c9-4dfd-ab9f-ca122505fcce\",\"type\":\"DataRange1d\"},{\"attributes\":{},\"id\":\"9a6f579d-7c01-469a-902a-0ac2c2b30244\",\"type\":\"BasicTicker\"},{\"attributes\":{\"dimension\":1,\"plot\":{\"id\":\"ccfd8b35-f80a-4aa9-9cd4-cb00fbf62138\",\"subtype\":\"Figure\",\"type\":\"Plot\"},\"ticker\":{\"id\":\"9a6f579d-7c01-469a-902a-0ac2c2b30244\",\"type\":\"BasicTicker\"}},\"id\":\"a84b384f-1aa1-44e1-bd28-5715887763b7\",\"type\":\"Grid\"},{\"attributes\":{\"fill_color\":{\"value\":\"red\"},\"line_color\":{\"value\":\"red\"},\"size\":{\"units\":\"screen\",\"value\":10},\"x\":{\"field\":\"x\"},\"y\":{\"field\":\"y\"}},\"id\":\"7f4f126f-f4ce-4a34-a23d-05d55d205a68\",\"type\":\"Circle\"},{\"attributes\":{\"bottom_units\":\"screen\",\"fill_alpha\":{\"value\":0.5},\"fill_color\":{\"value\":\"lightgrey\"},\"left_units\":\"screen\",\"level\":\"overlay\",\"line_alpha\":{\"value\":1.0},\"line_color\":{\"value\":\"black\"},\"line_dash\":[4,4],\"line_width\":{\"value\":2},\"plot\":null,\"render_mode\":\"css\",\"right_units\":\"screen\",\"top_units\":\"screen\"},\"id\":\"bed183d3-a0c1-4c59-8b1b-9d65ed096293\",\"type\":\"BoxAnnotation\"},{\"attributes\":{\"plot\":null,\"text\":\"\"},\"id\":\"d9f3fefe-4ac4-4602-a328-93c481237d1e\",\"type\":\"Title\"},{\"attributes\":{\"callback\":null,\"overlay\":{\"id\":\"bed183d3-a0c1-4c59-8b1b-9d65ed096293\",\"type\":\"BoxAnnotation\"},\"renderers\":[{\"id\":\"a98a7aa7-e95d-48db-9c9c-c25fa54a10be\",\"type\":\"GlyphRenderer\"}]},\"id\":\"74d49419-3e41-478c-a73d-18832e6abfa9\",\"type\":\"BoxSelectTool\"},{\"attributes\":{},\"id\":\"d960b36c-3340-4afb-a4e8-9aba96ae3e3b\",\"type\":\"BasicTickFormatter\"},{\"attributes\":{\"fill_alpha\":{\"value\":0.1},\"fill_color\":{\"value\":\"#1f77b4\"},\"line_alpha\":{\"value\":0.1},\"line_color\":{\"value\":\"#1f77b4\"},\"size\":{\"units\":\"screen\",\"value\":10},\"x\":{\"field\":\"x\"},\"y\":{\"field\":\"y\"}},\"id\":\"8a847014-9e68-47e8-8e4c-54341ad200a0\",\"type\":\"Circle\"},{\"attributes\":{\"callback\":null},\"id\":\"4393d3ea-f4c5-4cc3-9d0b-1d6e9d65113d\",\"type\":\"HoverTool\"},{\"attributes\":{},\"id\":\"d341a1ac-8b04-4154-8233-37eca61e04d1\",\"type\":\"ResetTool\"},{\"attributes\":{\"plot\":null,\"text\":\"\"},\"id\":\"b438a38b-6c4d-460e-807b-1f5a4964eee0\",\"type\":\"Title\"},{\"attributes\":{\"tools\":[{\"id\":\"48615dda-01df-4e57-ad3a-9c5b7300aeb7\",\"type\":\"BoxSelectTool\"},{\"id\":\"b7c02226-1910-419d-8ed7-a9dc09bd065c\",\"type\":\"HoverTool\"},{\"id\":\"9a17c1ad-2184-4bd2-aa39-203ca73fb894\",\"type\":\"ResetTool\"},{\"id\":\"74d49419-3e41-478c-a73d-18832e6abfa9\",\"type\":\"BoxSelectTool\"},{\"id\":\"4393d3ea-f4c5-4cc3-9d0b-1d6e9d65113d\",\"type\":\"HoverTool\"},{\"id\":\"d341a1ac-8b04-4154-8233-37eca61e04d1\",\"type\":\"ResetTool\"}]},\"id\":\"3b0a90aa-4ee1-42ea-897b-c22b0958be01\",\"type\":\"ProxyToolbar\"},{\"attributes\":{\"source\":{\"id\":\"66ade6f0-fdfa-46b7-a597-f3929da534bd\",\"type\":\"ColumnDataSource\"}},\"id\":\"9becc709-5815-4315-a65c-79c485ea9342\",\"type\":\"CDSView\"},{\"attributes\":{\"children\":[{\"id\":\"73c1373c-050e-4056-bf38-f7df27c31b46\",\"subtype\":\"Figure\",\"type\":\"Plot\"},{\"id\":\"ccfd8b35-f80a-4aa9-9cd4-cb00fbf62138\",\"subtype\":\"Figure\",\"type\":\"Plot\"}]},\"id\":\"08008135-b857-49e7-94c3-b87e871a85dc\",\"type\":\"Row\"},{\"attributes\":{\"formatter\":{\"id\":\"df2c0cb1-9447-4ec3-9246-c43ac4622cb1\",\"type\":\"BasicTickFormatter\"},\"plot\":{\"id\":\"73c1373c-050e-4056-bf38-f7df27c31b46\",\"subtype\":\"Figure\",\"type\":\"Plot\"},\"ticker\":{\"id\":\"9ee1a8a3-d062-437e-8c42-b3c0f4305244\",\"type\":\"BasicTicker\"}},\"id\":\"355d9a38-7de5-414f-846b-91791948e3f4\",\"type\":\"LinearAxis\"},{\"attributes\":{},\"id\":\"9a17c1ad-2184-4bd2-aa39-203ca73fb894\",\"type\":\"ResetTool\"},{\"attributes\":{\"callback\":null,\"column_names\":[\"x\",\"y\"],\"data\":{\"x\":[1,2,3,4,5],\"y\":[1,2,3,4,5]}},\"id\":\"66ade6f0-fdfa-46b7-a597-f3929da534bd\",\"type\":\"ColumnDataSource\"},{\"attributes\":{},\"id\":\"cb23c7da-dc29-4e01-b116-378f1ac42c3c\",\"type\":\"BasicTickFormatter\"},{\"attributes\":{\"booleans\":[false,false,true,true,true]},\"id\":\"90da5693-4d32-48ac-bd5f-8ffbfede8094\",\"type\":\"BooleanFilter\"},{\"attributes\":{},\"id\":\"0edfec62-9420-4e00-8668-157d2b56d0a5\",\"type\":\"BasicTickFormatter\"},{\"attributes\":{\"toolbar\":{\"id\":\"3b0a90aa-4ee1-42ea-897b-c22b0958be01\",\"type\":\"ProxyToolbar\"},\"toolbar_location\":\"above\"},\"id\":\"bf62059c-f5ee-4de6-90e1-12f6a0baf535\",\"type\":\"ToolbarBox\"},{\"attributes\":{\"plot\":{\"id\":\"73c1373c-050e-4056-bf38-f7df27c31b46\",\"subtype\":\"Figure\",\"type\":\"Plot\"},\"ticker\":{\"id\":\"fe214006-c40d-4b76-ac9a-ef74c7d80bc5\",\"type\":\"BasicTicker\"}},\"id\":\"3823e0ad-437b-4a88-8b07-d06cdd8083b1\",\"type\":\"Grid\"},{\"attributes\":{\"children\":[{\"id\":\"bf62059c-f5ee-4de6-90e1-12f6a0baf535\",\"type\":\"ToolbarBox\"},{\"id\":\"e254ee30-8b85-4c65-bdec-5df88fce5ac1\",\"type\":\"Column\"}]},\"id\":\"1344f85c-e04f-4e81-b568-ba30b4f46f7a\",\"type\":\"Column\"},{\"attributes\":{\"data_source\":{\"id\":\"66ade6f0-fdfa-46b7-a597-f3929da534bd\",\"type\":\"ColumnDataSource\"},\"glyph\":{\"id\":\"6f8c7daf-7685-499e-b4cc-129f84fa4846\",\"type\":\"Circle\"},\"hover_glyph\":{\"id\":\"5d14944f-52b2-44dd-91b1-149fa0a810e7\",\"type\":\"Circle\"},\"muted_glyph\":null,\"nonselection_glyph\":{\"id\":\"8a847014-9e68-47e8-8e4c-54341ad200a0\",\"type\":\"Circle\"},\"selection_glyph\":null,\"view\":{\"id\":\"9becc709-5815-4315-a65c-79c485ea9342\",\"type\":\"CDSView\"}},\"id\":\"decb93c1-adcb-4abc-be20-e8890e9e14d0\",\"type\":\"GlyphRenderer\"},{\"attributes\":{\"active_drag\":\"auto\",\"active_inspect\":\"auto\",\"active_scroll\":\"auto\",\"active_tap\":\"auto\",\"tools\":[{\"id\":\"48615dda-01df-4e57-ad3a-9c5b7300aeb7\",\"type\":\"BoxSelectTool\"},{\"id\":\"b7c02226-1910-419d-8ed7-a9dc09bd065c\",\"type\":\"HoverTool\"},{\"id\":\"9a17c1ad-2184-4bd2-aa39-203ca73fb894\",\"type\":\"ResetTool\"}]},\"id\":\"0f52fa1c-e2ba-415d-82d5-cd4caca1764d\",\"type\":\"Toolbar\"},{\"attributes\":{\"fill_color\":{\"value\":\"red\"},\"line_color\":{\"value\":\"red\"},\"size\":{\"units\":\"screen\",\"value\":10},\"x\":{\"field\":\"x\"},\"y\":{\"field\":\"y\"}},\"id\":\"5d14944f-52b2-44dd-91b1-149fa0a810e7\",\"type\":\"Circle\"},{\"attributes\":{\"below\":[{\"id\":\"5404c875-4423-401d-a1ec-69e0d54259e5\",\"type\":\"LinearAxis\"}],\"left\":[{\"id\":\"355d9a38-7de5-414f-846b-91791948e3f4\",\"type\":\"LinearAxis\"}],\"plot_height\":300,\"plot_width\":300,\"renderers\":[{\"id\":\"5404c875-4423-401d-a1ec-69e0d54259e5\",\"type\":\"LinearAxis\"},{\"id\":\"3823e0ad-437b-4a88-8b07-d06cdd8083b1\",\"type\":\"Grid\"},{\"id\":\"355d9a38-7de5-414f-846b-91791948e3f4\",\"type\":\"LinearAxis\"},{\"id\":\"bba0d240-43ec-40d7-9584-fbdf836f9726\",\"type\":\"Grid\"},{\"id\":\"0fe532a2-ed1f-40b6-ac3f-490ce5113e26\",\"type\":\"BoxAnnotation\"},{\"id\":\"decb93c1-adcb-4abc-be20-e8890e9e14d0\",\"type\":\"GlyphRenderer\"}],\"title\":{\"id\":\"d9f3fefe-4ac4-4602-a328-93c481237d1e\",\"type\":\"Title\"},\"toolbar\":{\"id\":\"0f52fa1c-e2ba-415d-82d5-cd4caca1764d\",\"type\":\"Toolbar\"},\"toolbar_location\":null,\"x_range\":{\"id\":\"202420c2-e242-4656-a6d3-c005d32be5eb\",\"type\":\"DataRange1d\"},\"x_scale\":{\"id\":\"49dc211f-1322-43fb-a4c4-d82272fe4f0e\",\"type\":\"LinearScale\"},\"y_range\":{\"id\":\"45721d9b-65c9-4dfd-ab9f-ca122505fcce\",\"type\":\"DataRange1d\"},\"y_scale\":{\"id\":\"514e2b21-cb93-4fc6-9baa-efdf6b8d6b4b\",\"type\":\"LinearScale\"}},\"id\":\"73c1373c-050e-4056-bf38-f7df27c31b46\",\"subtype\":\"Figure\",\"type\":\"Plot\"},{\"attributes\":{\"filters\":[{\"id\":\"90da5693-4d32-48ac-bd5f-8ffbfede8094\",\"type\":\"BooleanFilter\"}],\"source\":{\"id\":\"66ade6f0-fdfa-46b7-a597-f3929da534bd\",\"type\":\"ColumnDataSource\"}},\"id\":\"8192fc8b-b63d-42df-bb8b-d528510fbb0d\",\"type\":\"CDSView\"},{\"attributes\":{\"children\":[{\"id\":\"08008135-b857-49e7-94c3-b87e871a85dc\",\"type\":\"Row\"}]},\"id\":\"e254ee30-8b85-4c65-bdec-5df88fce5ac1\",\"type\":\"Column\"},{\"attributes\":{},\"id\":\"514e2b21-cb93-4fc6-9baa-efdf6b8d6b4b\",\"type\":\"LinearScale\"},{\"attributes\":{\"callback\":null},\"id\":\"202420c2-e242-4656-a6d3-c005d32be5eb\",\"type\":\"DataRange1d\"},{\"attributes\":{\"formatter\":{\"id\":\"cb23c7da-dc29-4e01-b116-378f1ac42c3c\",\"type\":\"BasicTickFormatter\"},\"plot\":{\"id\":\"73c1373c-050e-4056-bf38-f7df27c31b46\",\"subtype\":\"Figure\",\"type\":\"Plot\"},\"ticker\":{\"id\":\"fe214006-c40d-4b76-ac9a-ef74c7d80bc5\",\"type\":\"BasicTicker\"}},\"id\":\"5404c875-4423-401d-a1ec-69e0d54259e5\",\"type\":\"LinearAxis\"},{\"attributes\":{},\"id\":\"fe214006-c40d-4b76-ac9a-ef74c7d80bc5\",\"type\":\"BasicTicker\"},{\"attributes\":{},\"id\":\"49dc211f-1322-43fb-a4c4-d82272fe4f0e\",\"type\":\"LinearScale\"},{\"attributes\":{\"callback\":null},\"id\":\"b7c02226-1910-419d-8ed7-a9dc09bd065c\",\"type\":\"HoverTool\"},{\"attributes\":{\"below\":[{\"id\":\"325e105b-7283-4a39-af97-1d0958b5cfe2\",\"type\":\"LinearAxis\"}],\"left\":[{\"id\":\"a21078e7-e7e2-41dd-bec6-34221112de74\",\"type\":\"LinearAxis\"}],\"plot_height\":300,\"plot_width\":300,\"renderers\":[{\"id\":\"325e105b-7283-4a39-af97-1d0958b5cfe2\",\"type\":\"LinearAxis\"},{\"id\":\"9dffabb7-9587-41e6-8b76-5d3bac2533cd\",\"type\":\"Grid\"},{\"id\":\"a21078e7-e7e2-41dd-bec6-34221112de74\",\"type\":\"LinearAxis\"},{\"id\":\"a84b384f-1aa1-44e1-bd28-5715887763b7\",\"type\":\"Grid\"},{\"id\":\"bed183d3-a0c1-4c59-8b1b-9d65ed096293\",\"type\":\"BoxAnnotation\"},{\"id\":\"a98a7aa7-e95d-48db-9c9c-c25fa54a10be\",\"type\":\"GlyphRenderer\"}],\"title\":{\"id\":\"b438a38b-6c4d-460e-807b-1f5a4964eee0\",\"type\":\"Title\"},\"toolbar\":{\"id\":\"33c0343b-d647-4f38-9626-121e075fba4d\",\"type\":\"Toolbar\"},\"toolbar_location\":null,\"x_range\":{\"id\":\"202420c2-e242-4656-a6d3-c005d32be5eb\",\"type\":\"DataRange1d\"},\"x_scale\":{\"id\":\"5becc4cc-0a2f-4ebc-b9d9-92ff6b1d8921\",\"type\":\"LinearScale\"},\"y_range\":{\"id\":\"45721d9b-65c9-4dfd-ab9f-ca122505fcce\",\"type\":\"DataRange1d\"},\"y_scale\":{\"id\":\"c19e075b-fe48-474c-8c4f-8ee5ba6b7bcb\",\"type\":\"LinearScale\"}},\"id\":\"ccfd8b35-f80a-4aa9-9cd4-cb00fbf62138\",\"subtype\":\"Figure\",\"type\":\"Plot\"}],\"root_ids\":[\"1344f85c-e04f-4e81-b568-ba30b4f46f7a\"]},\"title\":\"Bokeh Application\",\"version\":\"0.12.13\"}};\n",
       "  var render_items = [{\"docid\":\"415bab2f-f2a1-4bc6-99eb-3244acc13a69\",\"elementid\":\"c2de8ffb-557e-4f81-808d-72fad571ff9c\",\"modelid\":\"1344f85c-e04f-4e81-b568-ba30b4f46f7a\"}];\n",
       "  root.Bokeh.embed.embed_items_notebook(docs_json, render_items);\n",
       "\n",
       "  }\n",
       "  if (root.Bokeh !== undefined) {\n",
       "    embed_document(root);\n",
       "  } else {\n",
       "    var attempts = 0;\n",
       "    var timer = setInterval(function(root) {\n",
       "      if (root.Bokeh !== undefined) {\n",
       "        embed_document(root);\n",
       "        clearInterval(timer);\n",
       "      }\n",
       "      attempts++;\n",
       "      if (attempts > 100) {\n",
       "        console.log(\"Bokeh: ERROR: Unable to run BokehJS code because BokehJS library is missing\")\n",
       "        clearInterval(timer);\n",
       "      }\n",
       "    }, 10, root)\n",
       "  }\n",
       "})(window);"
      ],
      "application/vnd.bokehjs_exec.v0+json": ""
     },
     "metadata": {
      "application/vnd.bokehjs_exec.v0+json": {
       "id": "1344f85c-e04f-4e81-b568-ba30b4f46f7a"
      }
     },
     "output_type": "display_data"
    }
   ],
   "source": [
    "from bokeh.models import ColumnDataSource, CDSView, BooleanFilter\n",
    "from bokeh.layouts import gridplot \n",
    "\n",
    "source = ColumnDataSource(data=dict(x=[1, 2, 3, 4, 5], y=[1, 2, 3, 4, 5]))\n",
    "\n",
    "booleans = [True if y_val > 2 else False for y_val in source.data['y']]\n",
    "\n",
    "view = CDSView(source=source, \n",
    "               filters=[BooleanFilter(booleans)])\n",
    "\n",
    "tools = [\"box_select\", \"hover\", \"reset\"]\n",
    "p = figure(plot_height=300, plot_width=300, tools=tools)\n",
    "p.circle(x=\"x\", y=\"y\", size=10, hover_color=\"red\", source=source)\n",
    "\n",
    "p_filtered = figure(plot_height=300, plot_width=300, tools=tools,\n",
    "                    x_range=p.x_range, y_range=p.y_range)\n",
    "p_filtered.circle(x=\"x\", y=\"y\", size=10, hover_color=\"red\", source=source,\n",
    "                  view=view)\n",
    "\n",
    "show(gridplot([[p, p_filtered]]))"
   ]
  },
  {
   "cell_type": "markdown",
   "metadata": {},
   "source": [
    "### GroupFilter"
   ]
  },
  {
   "cell_type": "code",
   "execution_count": 12,
   "metadata": {},
   "outputs": [
    {
     "data": {
      "text/html": [
       "\n",
       "<div class=\"bk-root\">\n",
       "    <div class=\"bk-plotdiv\" id=\"38fd4694-0371-4674-98be-e91a8b41813a\"></div>\n",
       "</div>"
      ]
     },
     "metadata": {},
     "output_type": "display_data"
    },
    {
     "data": {
      "application/javascript": [
       "(function(root) {\n",
       "  function embed_document(root) {\n",
       "    \n",
       "  var docs_json = {\"5bcc257e-5f09-42f3-9c7e-43f02123be39\":{\"roots\":{\"references\":[{\"attributes\":{\"active_drag\":\"auto\",\"active_inspect\":\"auto\",\"active_scroll\":\"auto\",\"active_tap\":\"auto\",\"tools\":[{\"id\":\"00d86fa6-c74d-4f2e-9b11-bc74fc9b962c\",\"type\":\"BoxSelectTool\"},{\"id\":\"555dacb4-9ac7-49be-86e1-df7065c6ea48\",\"type\":\"ResetTool\"},{\"id\":\"3ddae79d-0cec-4e90-a47e-cff518efe807\",\"type\":\"HelpTool\"}]},\"id\":\"a25d3e1c-6f2b-44ed-9e74-81eed620e67f\",\"type\":\"Toolbar\"},{\"attributes\":{\"data_source\":{\"id\":\"e2ddfa4a-41d8-404b-bed2-406b7f9690cc\",\"type\":\"ColumnDataSource\"},\"glyph\":{\"id\":\"45ca3f09-f73f-4d48-9109-0f819b350586\",\"type\":\"Circle\"},\"hover_glyph\":null,\"muted_glyph\":null,\"nonselection_glyph\":{\"id\":\"2cadeb76-2348-46ed-b682-2f3aeafa5503\",\"type\":\"Circle\"},\"selection_glyph\":null,\"view\":{\"id\":\"e34e5c89-0faf-4793-97f6-960c58384b3a\",\"type\":\"CDSView\"}},\"id\":\"02cae85a-c414-4676-a9f5-526377e48c7f\",\"type\":\"GlyphRenderer\"},{\"attributes\":{\"bottom_units\":\"screen\",\"fill_alpha\":{\"value\":0.5},\"fill_color\":{\"value\":\"lightgrey\"},\"left_units\":\"screen\",\"level\":\"overlay\",\"line_alpha\":{\"value\":1.0},\"line_color\":{\"value\":\"black\"},\"line_dash\":[4,4],\"line_width\":{\"value\":2},\"plot\":null,\"render_mode\":\"css\",\"right_units\":\"screen\",\"top_units\":\"screen\"},\"id\":\"50eba77e-652a-4786-bbec-05cd071366b8\",\"type\":\"BoxAnnotation\"},{\"attributes\":{},\"id\":\"27d0a9aa-d8ed-4b46-b7c0-f43f9b9b3acb\",\"type\":\"LinearScale\"},{\"attributes\":{\"callback\":null},\"id\":\"fb14a805-0039-4dbd-9ffb-9e49673404ca\",\"type\":\"DataRange1d\"},{\"attributes\":{\"active_drag\":\"auto\",\"active_inspect\":\"auto\",\"active_scroll\":\"auto\",\"active_tap\":\"auto\",\"tools\":[{\"id\":\"3476bd99-583f-476d-a87b-f34d75be0a15\",\"type\":\"BoxSelectTool\"},{\"id\":\"79b06016-b3d0-4955-98fa-b75258f65fcd\",\"type\":\"ResetTool\"},{\"id\":\"c7005dbb-6646-48c1-a714-958bdfd6f73b\",\"type\":\"HelpTool\"}]},\"id\":\"8c4db357-a757-4e94-b9b0-b194c9303f96\",\"type\":\"Toolbar\"},{\"attributes\":{},\"id\":\"4edbadbb-333c-4415-b0b1-8fc532f74e87\",\"type\":\"LinearScale\"},{\"attributes\":{\"dimension\":1,\"plot\":{\"id\":\"bea233f6-9dc5-42f6-b3f6-4d174b8824ce\",\"subtype\":\"Figure\",\"type\":\"Plot\"},\"ticker\":{\"id\":\"ff94a44f-747e-4e17-92b2-6ad1600a99e1\",\"type\":\"BasicTicker\"}},\"id\":\"66e14d40-022e-428f-a27d-10a1f8147b2d\",\"type\":\"Grid\"},{\"attributes\":{\"plot\":{\"id\":\"8d5db975-8cdb-475d-8180-8543c9698ef4\",\"subtype\":\"Figure\",\"type\":\"Plot\"},\"ticker\":{\"id\":\"deec76ed-b02c-48bc-95c4-50b0b9da11f3\",\"type\":\"BasicTicker\"}},\"id\":\"d4da38ba-3e55-4fc5-8be3-d71f5687ca06\",\"type\":\"Grid\"},{\"attributes\":{\"data_source\":{\"id\":\"e2ddfa4a-41d8-404b-bed2-406b7f9690cc\",\"type\":\"ColumnDataSource\"},\"glyph\":{\"id\":\"a8fe6fcf-53f1-42cd-9c15-a0a8ef28c7aa\",\"type\":\"Circle\"},\"hover_glyph\":null,\"muted_glyph\":null,\"nonselection_glyph\":{\"id\":\"ba725000-9140-41a7-8a8e-ad81559a8d63\",\"type\":\"Circle\"},\"selection_glyph\":null,\"view\":{\"id\":\"f82b486d-1e60-42e9-842b-da320a527aa1\",\"type\":\"CDSView\"}},\"id\":\"cf1ebe27-8d7d-4c03-bbd9-f37ea3a03047\",\"type\":\"GlyphRenderer\"},{\"attributes\":{\"fill_color\":{\"value\":\"red\"},\"line_color\":{\"value\":\"red\"},\"x\":{\"field\":\"petal_length\"},\"y\":{\"field\":\"petal_width\"}},\"id\":\"a8fe6fcf-53f1-42cd-9c15-a0a8ef28c7aa\",\"type\":\"Circle\"},{\"attributes\":{\"formatter\":{\"id\":\"c70799ac-c95d-4ac9-aaf6-4026a9ef31d7\",\"type\":\"BasicTickFormatter\"},\"plot\":{\"id\":\"8d5db975-8cdb-475d-8180-8543c9698ef4\",\"subtype\":\"Figure\",\"type\":\"Plot\"},\"ticker\":{\"id\":\"deec76ed-b02c-48bc-95c4-50b0b9da11f3\",\"type\":\"BasicTicker\"}},\"id\":\"73dc10c7-e8cf-416a-87e7-7fc242391c4a\",\"type\":\"LinearAxis\"},{\"attributes\":{},\"id\":\"deec76ed-b02c-48bc-95c4-50b0b9da11f3\",\"type\":\"BasicTicker\"},{\"attributes\":{\"fill_alpha\":{\"value\":0.1},\"fill_color\":{\"value\":\"#1f77b4\"},\"line_alpha\":{\"value\":0.1},\"line_color\":{\"value\":\"#1f77b4\"},\"x\":{\"field\":\"petal_length\"},\"y\":{\"field\":\"petal_width\"}},\"id\":\"ba725000-9140-41a7-8a8e-ad81559a8d63\",\"type\":\"Circle\"},{\"attributes\":{\"formatter\":{\"id\":\"4c861c3c-d3de-430c-b050-f5218eb051e7\",\"type\":\"BasicTickFormatter\"},\"plot\":{\"id\":\"8d5db975-8cdb-475d-8180-8543c9698ef4\",\"subtype\":\"Figure\",\"type\":\"Plot\"},\"ticker\":{\"id\":\"163881d1-fb01-4f2b-bb9f-3a3ba063ebf0\",\"type\":\"BasicTicker\"}},\"id\":\"adbbf545-b0d7-4e31-baf0-7eae02eaa717\",\"type\":\"LinearAxis\"},{\"attributes\":{},\"id\":\"163881d1-fb01-4f2b-bb9f-3a3ba063ebf0\",\"type\":\"BasicTicker\"},{\"attributes\":{},\"id\":\"c373ab0f-2735-4c2b-a93f-b49c81cad63d\",\"type\":\"BasicTickFormatter\"},{\"attributes\":{\"dimension\":1,\"plot\":{\"id\":\"8d5db975-8cdb-475d-8180-8543c9698ef4\",\"subtype\":\"Figure\",\"type\":\"Plot\"},\"ticker\":{\"id\":\"163881d1-fb01-4f2b-bb9f-3a3ba063ebf0\",\"type\":\"BasicTicker\"}},\"id\":\"98cdcc77-d464-4995-8c9b-69f00a0ca464\",\"type\":\"Grid\"},{\"attributes\":{},\"id\":\"0df049ce-393f-4a8f-a726-cf48bc9c3968\",\"type\":\"LinearScale\"},{\"attributes\":{\"formatter\":{\"id\":\"f1a1c0e6-58cc-4216-b27f-d877963da63a\",\"type\":\"BasicTickFormatter\"},\"plot\":{\"id\":\"bea233f6-9dc5-42f6-b3f6-4d174b8824ce\",\"subtype\":\"Figure\",\"type\":\"Plot\"},\"ticker\":{\"id\":\"ff94a44f-747e-4e17-92b2-6ad1600a99e1\",\"type\":\"BasicTicker\"}},\"id\":\"18d51a2c-ec7e-4236-a2e8-9d9095d25a84\",\"type\":\"LinearAxis\"},{\"attributes\":{\"bottom_units\":\"screen\",\"fill_alpha\":{\"value\":0.5},\"fill_color\":{\"value\":\"lightgrey\"},\"left_units\":\"screen\",\"level\":\"overlay\",\"line_alpha\":{\"value\":1.0},\"line_color\":{\"value\":\"black\"},\"line_dash\":[4,4],\"line_width\":{\"value\":2},\"plot\":null,\"render_mode\":\"css\",\"right_units\":\"screen\",\"top_units\":\"screen\"},\"id\":\"be3dcd0c-892f-46db-bd75-c08b5333429f\",\"type\":\"BoxAnnotation\"},{\"attributes\":{},\"id\":\"ff94a44f-747e-4e17-92b2-6ad1600a99e1\",\"type\":\"BasicTicker\"},{\"attributes\":{\"callback\":null,\"overlay\":{\"id\":\"be3dcd0c-892f-46db-bd75-c08b5333429f\",\"type\":\"BoxAnnotation\"},\"renderers\":[{\"id\":\"02cae85a-c414-4676-a9f5-526377e48c7f\",\"type\":\"GlyphRenderer\"}]},\"id\":\"00d86fa6-c74d-4f2e-9b11-bc74fc9b962c\",\"type\":\"BoxSelectTool\"},{\"attributes\":{},\"id\":\"79b06016-b3d0-4955-98fa-b75258f65fcd\",\"type\":\"ResetTool\"},{\"attributes\":{},\"id\":\"c7005dbb-6646-48c1-a714-958bdfd6f73b\",\"type\":\"HelpTool\"},{\"attributes\":{\"below\":[{\"id\":\"73dc10c7-e8cf-416a-87e7-7fc242391c4a\",\"type\":\"LinearAxis\"}],\"left\":[{\"id\":\"adbbf545-b0d7-4e31-baf0-7eae02eaa717\",\"type\":\"LinearAxis\"}],\"plot_height\":300,\"plot_width\":300,\"renderers\":[{\"id\":\"73dc10c7-e8cf-416a-87e7-7fc242391c4a\",\"type\":\"LinearAxis\"},{\"id\":\"d4da38ba-3e55-4fc5-8be3-d71f5687ca06\",\"type\":\"Grid\"},{\"id\":\"adbbf545-b0d7-4e31-baf0-7eae02eaa717\",\"type\":\"LinearAxis\"},{\"id\":\"98cdcc77-d464-4995-8c9b-69f00a0ca464\",\"type\":\"Grid\"},{\"id\":\"be3dcd0c-892f-46db-bd75-c08b5333429f\",\"type\":\"BoxAnnotation\"},{\"id\":\"02cae85a-c414-4676-a9f5-526377e48c7f\",\"type\":\"GlyphRenderer\"}],\"title\":{\"id\":\"8a478725-bdb5-4986-9e6e-98a90ecc9f1e\",\"type\":\"Title\"},\"toolbar\":{\"id\":\"a25d3e1c-6f2b-44ed-9e74-81eed620e67f\",\"type\":\"Toolbar\"},\"toolbar_location\":null,\"x_range\":{\"id\":\"09114c46-9a1f-4b9c-be95-ce9b2706f201\",\"type\":\"DataRange1d\"},\"x_scale\":{\"id\":\"27d0a9aa-d8ed-4b46-b7c0-f43f9b9b3acb\",\"type\":\"LinearScale\"},\"y_range\":{\"id\":\"fb14a805-0039-4dbd-9ffb-9e49673404ca\",\"type\":\"DataRange1d\"},\"y_scale\":{\"id\":\"4edbadbb-333c-4415-b0b1-8fc532f74e87\",\"type\":\"LinearScale\"}},\"id\":\"8d5db975-8cdb-475d-8180-8543c9698ef4\",\"subtype\":\"Figure\",\"type\":\"Plot\"},{\"attributes\":{},\"id\":\"241d2350-4aac-4d1c-b60e-3e2d66d1df2e\",\"type\":\"LinearScale\"},{\"attributes\":{\"children\":[{\"id\":\"f0666bc6-82e1-4c78-a90c-7a6ce8d9071e\",\"type\":\"ToolbarBox\"},{\"id\":\"8cc59c0c-0e39-4e74-862e-f7cfe78d5ddd\",\"type\":\"Column\"}]},\"id\":\"746f8620-3581-4c92-8098-b3f99a337cd6\",\"type\":\"Column\"},{\"attributes\":{},\"id\":\"555dacb4-9ac7-49be-86e1-df7065c6ea48\",\"type\":\"ResetTool\"},{\"attributes\":{},\"id\":\"3ddae79d-0cec-4e90-a47e-cff518efe807\",\"type\":\"HelpTool\"},{\"attributes\":{\"plot\":null,\"text\":\"Setosa only\"},\"id\":\"f577030e-1b34-411e-b79c-9e8561dcd730\",\"type\":\"Title\"},{\"attributes\":{\"fill_alpha\":{\"value\":0.1},\"fill_color\":{\"value\":\"#1f77b4\"},\"line_alpha\":{\"value\":0.1},\"line_color\":{\"value\":\"#1f77b4\"},\"x\":{\"field\":\"petal_length\"},\"y\":{\"field\":\"petal_width\"}},\"id\":\"2cadeb76-2348-46ed-b682-2f3aeafa5503\",\"type\":\"Circle\"},{\"attributes\":{\"children\":[{\"id\":\"22582cf1-8f93-491b-9c12-fda203891aa5\",\"type\":\"Row\"}]},\"id\":\"8cc59c0c-0e39-4e74-862e-f7cfe78d5ddd\",\"type\":\"Column\"},{\"attributes\":{\"callback\":null,\"overlay\":{\"id\":\"50eba77e-652a-4786-bbec-05cd071366b8\",\"type\":\"BoxAnnotation\"},\"renderers\":[{\"id\":\"cf1ebe27-8d7d-4c03-bbd9-f37ea3a03047\",\"type\":\"GlyphRenderer\"}]},\"id\":\"3476bd99-583f-476d-a87b-f34d75be0a15\",\"type\":\"BoxSelectTool\"},{\"attributes\":{\"callback\":null,\"column_names\":[\"sepal_length\",\"sepal_width\",\"petal_length\",\"petal_width\",\"species\",\"index\"],\"data\":{\"index\":[0,1,2,3,4,5,6,7,8,9,10,11,12,13,14,15,16,17,18,19,20,21,22,23,24,25,26,27,28,29,30,31,32,33,34,35,36,37,38,39,40,41,42,43,44,45,46,47,48,49,50,51,52,53,54,55,56,57,58,59,60,61,62,63,64,65,66,67,68,69,70,71,72,73,74,75,76,77,78,79,80,81,82,83,84,85,86,87,88,89,90,91,92,93,94,95,96,97,98,99,100,101,102,103,104,105,106,107,108,109,110,111,112,113,114,115,116,117,118,119,120,121,122,123,124,125,126,127,128,129,130,131,132,133,134,135,136,137,138,139,140,141,142,143,144,145,146,147,148,149],\"petal_length\":{\"__ndarray__\":\"ZmZmZmZm9j9mZmZmZmb2P83MzMzMzPQ/AAAAAAAA+D9mZmZmZmb2PzMzMzMzM/s/ZmZmZmZm9j8AAAAAAAD4P2ZmZmZmZvY/AAAAAAAA+D8AAAAAAAD4P5qZmZmZmfk/ZmZmZmZm9j+amZmZmZnxPzMzMzMzM/M/AAAAAAAA+D/NzMzMzMz0P2ZmZmZmZvY/MzMzMzMz+z8AAAAAAAD4PzMzMzMzM/s/AAAAAAAA+D8AAAAAAADwPzMzMzMzM/s/ZmZmZmZm/j+amZmZmZn5P5qZmZmZmfk/AAAAAAAA+D9mZmZmZmb2P5qZmZmZmfk/mpmZmZmZ+T8AAAAAAAD4PwAAAAAAAPg/ZmZmZmZm9j8AAAAAAAD4PzMzMzMzM/M/zczMzMzM9D9mZmZmZmb2P83MzMzMzPQ/AAAAAAAA+D/NzMzMzMz0P83MzMzMzPQ/zczMzMzM9D+amZmZmZn5P2ZmZmZmZv4/ZmZmZmZm9j+amZmZmZn5P2ZmZmZmZvY/AAAAAAAA+D9mZmZmZmb2P83MzMzMzBJAAAAAAAAAEkCamZmZmZkTQAAAAAAAABBAZmZmZmZmEkAAAAAAAAASQM3MzMzMzBJAZmZmZmZmCkBmZmZmZmYSQDMzMzMzMw9AAAAAAAAADEDNzMzMzMwQQAAAAAAAABBAzczMzMzMEkDNzMzMzMwMQJqZmZmZmRFAAAAAAAAAEkBmZmZmZmYQQAAAAAAAABJAMzMzMzMzD0AzMzMzMzMTQAAAAAAAABBAmpmZmZmZE0DNzMzMzMwSQDMzMzMzMxFAmpmZmZmZEUAzMzMzMzMTQAAAAAAAABRAAAAAAAAAEkAAAAAAAAAMQGZmZmZmZg5AmpmZmZmZDUAzMzMzMzMPQGZmZmZmZhRAAAAAAAAAEkAAAAAAAAASQM3MzMzMzBJAmpmZmZmZEUBmZmZmZmYQQAAAAAAAABBAmpmZmZmZEUBmZmZmZmYSQAAAAAAAABBAZmZmZmZmCkDNzMzMzMwQQM3MzMzMzBBAzczMzMzMEEAzMzMzMzMRQAAAAAAAAAhAZmZmZmZmEEAAAAAAAAAYQGZmZmZmZhRAmpmZmZmZF0BmZmZmZmYWQDMzMzMzMxdAZmZmZmZmGkAAAAAAAAASQDMzMzMzMxlAMzMzMzMzF0BmZmZmZmYYQGZmZmZmZhRAMzMzMzMzFUAAAAAAAAAWQAAAAAAAABRAZmZmZmZmFEAzMzMzMzMVQAAAAAAAABZAzczMzMzMGkCamZmZmZkbQAAAAAAAABRAzczMzMzMFkCamZmZmZkTQM3MzMzMzBpAmpmZmZmZE0DNzMzMzMwWQAAAAAAAABhAMzMzMzMzE0CamZmZmZkTQGZmZmZmZhZAMzMzMzMzF0BmZmZmZmYYQJqZmZmZmRlAZmZmZmZmFkBmZmZmZmYUQGZmZmZmZhZAZmZmZmZmGEBmZmZmZmYWQAAAAAAAABZAMzMzMzMzE0CamZmZmZkVQGZmZmZmZhZAZmZmZmZmFEBmZmZmZmYUQJqZmZmZmRdAzczMzMzMFkDNzMzMzMwUQAAAAAAAABRAzczMzMzMFECamZmZmZkVQGZmZmZmZhRA\",\"dtype\":\"float64\",\"shape\":[150]},\"petal_width\":{\"__ndarray__\":\"mpmZmZmZyT+amZmZmZnJP5qZmZmZmck/mpmZmZmZyT+amZmZmZnJP5qZmZmZmdk/MzMzMzMz0z+amZmZmZnJP5qZmZmZmck/mpmZmZmZuT+amZmZmZnJP5qZmZmZmck/mpmZmZmZuT+amZmZmZm5P5qZmZmZmck/mpmZmZmZ2T+amZmZmZnZPzMzMzMzM9M/MzMzMzMz0z8zMzMzMzPTP5qZmZmZmck/mpmZmZmZ2T+amZmZmZnJPwAAAAAAAOA/mpmZmZmZyT+amZmZmZnJP5qZmZmZmdk/mpmZmZmZyT+amZmZmZnJP5qZmZmZmck/mpmZmZmZyT+amZmZmZnZP5qZmZmZmbk/mpmZmZmZyT+amZmZmZnJP5qZmZmZmck/mpmZmZmZyT+amZmZmZm5P5qZmZmZmck/mpmZmZmZyT8zMzMzMzPTPzMzMzMzM9M/mpmZmZmZyT8zMzMzMzPjP5qZmZmZmdk/MzMzMzMz0z+amZmZmZnJP5qZmZmZmck/mpmZmZmZyT+amZmZmZnJP2ZmZmZmZvY/AAAAAAAA+D8AAAAAAAD4P83MzMzMzPQ/AAAAAAAA+D/NzMzMzMz0P5qZmZmZmfk/AAAAAAAA8D/NzMzMzMz0P2ZmZmZmZvY/AAAAAAAA8D8AAAAAAAD4PwAAAAAAAPA/ZmZmZmZm9j/NzMzMzMz0P2ZmZmZmZvY/AAAAAAAA+D8AAAAAAADwPwAAAAAAAPg/mpmZmZmZ8T/NzMzMzMz8P83MzMzMzPQ/AAAAAAAA+D8zMzMzMzPzP83MzMzMzPQ/ZmZmZmZm9j9mZmZmZmb2PzMzMzMzM/s/AAAAAAAA+D8AAAAAAADwP5qZmZmZmfE/AAAAAAAA8D8zMzMzMzPzP5qZmZmZmfk/AAAAAAAA+D+amZmZmZn5PwAAAAAAAPg/zczMzMzM9D/NzMzMzMz0P83MzMzMzPQ/MzMzMzMz8z9mZmZmZmb2PzMzMzMzM/M/AAAAAAAA8D/NzMzMzMz0PzMzMzMzM/M/zczMzMzM9D/NzMzMzMz0P5qZmZmZmfE/zczMzMzM9D8AAAAAAAAEQGZmZmZmZv4/zczMzMzMAEDNzMzMzMz8P5qZmZmZmQFAzczMzMzMAEAzMzMzMzP7P83MzMzMzPw/zczMzMzM/D8AAAAAAAAEQAAAAAAAAABAZmZmZmZm/j/NzMzMzMwAQAAAAAAAAABAMzMzMzMzA0BmZmZmZmYCQM3MzMzMzPw/mpmZmZmZAUBmZmZmZmYCQAAAAAAAAPg/ZmZmZmZmAkAAAAAAAAAAQAAAAAAAAABAzczMzMzM/D/NzMzMzMwAQM3MzMzMzPw/zczMzMzM/D/NzMzMzMz8P83MzMzMzABAmpmZmZmZ+T9mZmZmZmb+PwAAAAAAAABAmpmZmZmZAUAAAAAAAAD4P2ZmZmZmZvY/ZmZmZmZmAkAzMzMzMzMDQM3MzMzMzPw/zczMzMzM/D/NzMzMzMwAQDMzMzMzMwNAZmZmZmZmAkBmZmZmZmb+P2ZmZmZmZgJAAAAAAAAABEBmZmZmZmYCQGZmZmZmZv4/AAAAAAAAAEBmZmZmZmYCQM3MzMzMzPw/\",\"dtype\":\"float64\",\"shape\":[150]},\"sepal_length\":{\"__ndarray__\":\"ZmZmZmZmFECamZmZmZkTQM3MzMzMzBJAZmZmZmZmEkAAAAAAAAAUQJqZmZmZmRVAZmZmZmZmEkAAAAAAAAAUQJqZmZmZmRFAmpmZmZmZE0CamZmZmZkVQDMzMzMzMxNAMzMzMzMzE0AzMzMzMzMRQDMzMzMzMxdAzczMzMzMFkCamZmZmZkVQGZmZmZmZhRAzczMzMzMFkBmZmZmZmYUQJqZmZmZmRVAZmZmZmZmFEBmZmZmZmYSQGZmZmZmZhRAMzMzMzMzE0AAAAAAAAAUQAAAAAAAABRAzczMzMzMFEDNzMzMzMwUQM3MzMzMzBJAMzMzMzMzE0CamZmZmZkVQM3MzMzMzBRAAAAAAAAAFkCamZmZmZkTQAAAAAAAABRAAAAAAAAAFkCamZmZmZkTQJqZmZmZmRFAZmZmZmZmFEAAAAAAAAAUQAAAAAAAABJAmpmZmZmZEUAAAAAAAAAUQGZmZmZmZhRAMzMzMzMzE0BmZmZmZmYUQGZmZmZmZhJAMzMzMzMzFUAAAAAAAAAUQAAAAAAAABxAmpmZmZmZGUCamZmZmZkbQAAAAAAAABZAAAAAAAAAGkDNzMzMzMwWQDMzMzMzMxlAmpmZmZmZE0BmZmZmZmYaQM3MzMzMzBRAAAAAAAAAFECamZmZmZkXQAAAAAAAABhAZmZmZmZmGEBmZmZmZmYWQM3MzMzMzBpAZmZmZmZmFkAzMzMzMzMXQM3MzMzMzBhAZmZmZmZmFkCamZmZmZkXQGZmZmZmZhhAMzMzMzMzGUBmZmZmZmYYQJqZmZmZmRlAZmZmZmZmGkAzMzMzMzMbQM3MzMzMzBpAAAAAAAAAGEDNzMzMzMwWQAAAAAAAABZAAAAAAAAAFkAzMzMzMzMXQAAAAAAAABhAmpmZmZmZFUAAAAAAAAAYQM3MzMzMzBpAMzMzMzMzGUBmZmZmZmYWQAAAAAAAABZAAAAAAAAAFkBmZmZmZmYYQDMzMzMzMxdAAAAAAAAAFEBmZmZmZmYWQM3MzMzMzBZAzczMzMzMFkDNzMzMzMwYQGZmZmZmZhRAzczMzMzMFkAzMzMzMzMZQDMzMzMzMxdAZmZmZmZmHEAzMzMzMzMZQAAAAAAAABpAZmZmZmZmHkCamZmZmZkTQDMzMzMzMx1AzczMzMzMGkDNzMzMzMwcQAAAAAAAABpAmpmZmZmZGUAzMzMzMzMbQM3MzMzMzBZAMzMzMzMzF0CamZmZmZkZQAAAAAAAABpAzczMzMzMHkDNzMzMzMweQAAAAAAAABhAmpmZmZmZG0BmZmZmZmYWQM3MzMzMzB5AMzMzMzMzGUDNzMzMzMwaQM3MzMzMzBxAzczMzMzMGEBmZmZmZmYYQJqZmZmZmRlAzczMzMzMHECamZmZmZkdQJqZmZmZmR9AmpmZmZmZGUAzMzMzMzMZQGZmZmZmZhhAzczMzMzMHkAzMzMzMzMZQJqZmZmZmRlAAAAAAAAAGECamZmZmZkbQM3MzMzMzBpAmpmZmZmZG0AzMzMzMzMXQDMzMzMzMxtAzczMzMzMGkDNzMzMzMwaQDMzMzMzMxlAAAAAAAAAGkDNzMzMzMwYQJqZmZmZmRdA\",\"dtype\":\"float64\",\"shape\":[150]},\"sepal_width\":{\"__ndarray__\":\"AAAAAAAADEAAAAAAAAAIQJqZmZmZmQlAzczMzMzMCEDNzMzMzMwMQDMzMzMzMw9AMzMzMzMzC0AzMzMzMzMLQDMzMzMzMwdAzczMzMzMCECamZmZmZkNQDMzMzMzMwtAAAAAAAAACEAAAAAAAAAIQAAAAAAAABBAmpmZmZmZEUAzMzMzMzMPQAAAAAAAAAxAZmZmZmZmDkBmZmZmZmYOQDMzMzMzMwtAmpmZmZmZDUDNzMzMzMwMQGZmZmZmZgpAMzMzMzMzC0AAAAAAAAAIQDMzMzMzMwtAAAAAAAAADEAzMzMzMzMLQJqZmZmZmQlAzczMzMzMCEAzMzMzMzMLQGZmZmZmZhBAzczMzMzMEEDNzMzMzMwIQJqZmZmZmQlAAAAAAAAADEDNzMzMzMwMQAAAAAAAAAhAMzMzMzMzC0AAAAAAAAAMQGZmZmZmZgJAmpmZmZmZCUAAAAAAAAAMQGZmZmZmZg5AAAAAAAAACEBmZmZmZmYOQJqZmZmZmQlAmpmZmZmZDUBmZmZmZmYKQJqZmZmZmQlAmpmZmZmZCUDNzMzMzMwIQGZmZmZmZgJAZmZmZmZmBkBmZmZmZmYGQGZmZmZmZgpAMzMzMzMzA0AzMzMzMzMHQJqZmZmZmQVAAAAAAAAAAEAAAAAAAAAIQJqZmZmZmQFAMzMzMzMzB0AzMzMzMzMHQM3MzMzMzAhAAAAAAAAACECamZmZmZkFQJqZmZmZmQFAAAAAAAAABECamZmZmZkJQGZmZmZmZgZAAAAAAAAABEBmZmZmZmYGQDMzMzMzMwdAAAAAAAAACEBmZmZmZmYGQAAAAAAAAAhAMzMzMzMzB0DNzMzMzMwEQDMzMzMzMwNAMzMzMzMzA0CamZmZmZkFQJqZmZmZmQVAAAAAAAAACEAzMzMzMzMLQM3MzMzMzAhAZmZmZmZmAkAAAAAAAAAIQAAAAAAAAARAzczMzMzMBEAAAAAAAAAIQM3MzMzMzARAZmZmZmZmAkCamZmZmZkFQAAAAAAAAAhAMzMzMzMzB0AzMzMzMzMHQAAAAAAAAARAZmZmZmZmBkBmZmZmZmYKQJqZmZmZmQVAAAAAAAAACEAzMzMzMzMHQAAAAAAAAAhAAAAAAAAACEAAAAAAAAAEQDMzMzMzMwdAAAAAAAAABEDNzMzMzMwMQJqZmZmZmQlAmpmZmZmZBUAAAAAAAAAIQAAAAAAAAARAZmZmZmZmBkCamZmZmZkJQAAAAAAAAAhAZmZmZmZmDkDNzMzMzMwEQJqZmZmZmQFAmpmZmZmZCUBmZmZmZmYGQGZmZmZmZgZAmpmZmZmZBUBmZmZmZmYKQJqZmZmZmQlAZmZmZmZmBkAAAAAAAAAIQGZmZmZmZgZAAAAAAAAACEBmZmZmZmYGQGZmZmZmZg5AZmZmZmZmBkBmZmZmZmYGQM3MzMzMzARAAAAAAAAACEAzMzMzMzMLQM3MzMzMzAhAAAAAAAAACEDNzMzMzMwIQM3MzMzMzAhAzczMzMzMCECamZmZmZkFQJqZmZmZmQlAZmZmZmZmCkAAAAAAAAAIQAAAAAAAAARAAAAAAAAACEAzMzMzMzMLQAAAAAAAAAhA\",\"dtype\":\"float64\",\"shape\":[150]},\"species\":[\"setosa\",\"setosa\",\"setosa\",\"setosa\",\"setosa\",\"setosa\",\"setosa\",\"setosa\",\"setosa\",\"setosa\",\"setosa\",\"setosa\",\"setosa\",\"setosa\",\"setosa\",\"setosa\",\"setosa\",\"setosa\",\"setosa\",\"setosa\",\"setosa\",\"setosa\",\"setosa\",\"setosa\",\"setosa\",\"setosa\",\"setosa\",\"setosa\",\"setosa\",\"setosa\",\"setosa\",\"setosa\",\"setosa\",\"setosa\",\"setosa\",\"setosa\",\"setosa\",\"setosa\",\"setosa\",\"setosa\",\"setosa\",\"setosa\",\"setosa\",\"setosa\",\"setosa\",\"setosa\",\"setosa\",\"setosa\",\"setosa\",\"setosa\",\"versicolor\",\"versicolor\",\"versicolor\",\"versicolor\",\"versicolor\",\"versicolor\",\"versicolor\",\"versicolor\",\"versicolor\",\"versicolor\",\"versicolor\",\"versicolor\",\"versicolor\",\"versicolor\",\"versicolor\",\"versicolor\",\"versicolor\",\"versicolor\",\"versicolor\",\"versicolor\",\"versicolor\",\"versicolor\",\"versicolor\",\"versicolor\",\"versicolor\",\"versicolor\",\"versicolor\",\"versicolor\",\"versicolor\",\"versicolor\",\"versicolor\",\"versicolor\",\"versicolor\",\"versicolor\",\"versicolor\",\"versicolor\",\"versicolor\",\"versicolor\",\"versicolor\",\"versicolor\",\"versicolor\",\"versicolor\",\"versicolor\",\"versicolor\",\"versicolor\",\"versicolor\",\"versicolor\",\"versicolor\",\"versicolor\",\"versicolor\",\"virginica\",\"virginica\",\"virginica\",\"virginica\",\"virginica\",\"virginica\",\"virginica\",\"virginica\",\"virginica\",\"virginica\",\"virginica\",\"virginica\",\"virginica\",\"virginica\",\"virginica\",\"virginica\",\"virginica\",\"virginica\",\"virginica\",\"virginica\",\"virginica\",\"virginica\",\"virginica\",\"virginica\",\"virginica\",\"virginica\",\"virginica\",\"virginica\",\"virginica\",\"virginica\",\"virginica\",\"virginica\",\"virginica\",\"virginica\",\"virginica\",\"virginica\",\"virginica\",\"virginica\",\"virginica\",\"virginica\",\"virginica\",\"virginica\",\"virginica\",\"virginica\",\"virginica\",\"virginica\",\"virginica\",\"virginica\",\"virginica\",\"virginica\"]}},\"id\":\"e2ddfa4a-41d8-404b-bed2-406b7f9690cc\",\"type\":\"ColumnDataSource\"},{\"attributes\":{},\"id\":\"8a0cd8f1-fa2e-4066-803a-e9d9f6a40996\",\"type\":\"BasicTicker\"},{\"attributes\":{},\"id\":\"4c861c3c-d3de-430c-b050-f5218eb051e7\",\"type\":\"BasicTickFormatter\"},{\"attributes\":{\"filters\":[{\"id\":\"874e9e0d-9e6e-4e67-9973-dceaf056cbf4\",\"type\":\"GroupFilter\"}],\"source\":{\"id\":\"e2ddfa4a-41d8-404b-bed2-406b7f9690cc\",\"type\":\"ColumnDataSource\"}},\"id\":\"f82b486d-1e60-42e9-842b-da320a527aa1\",\"type\":\"CDSView\"},{\"attributes\":{\"source\":{\"id\":\"e2ddfa4a-41d8-404b-bed2-406b7f9690cc\",\"type\":\"ColumnDataSource\"}},\"id\":\"e34e5c89-0faf-4793-97f6-960c58384b3a\",\"type\":\"CDSView\"},{\"attributes\":{\"toolbar\":{\"id\":\"cb38670f-66ea-4fe9-982b-39847b487f91\",\"type\":\"ProxyToolbar\"},\"toolbar_location\":\"above\"},\"id\":\"f0666bc6-82e1-4c78-a90c-7a6ce8d9071e\",\"type\":\"ToolbarBox\"},{\"attributes\":{},\"id\":\"c70799ac-c95d-4ac9-aaf6-4026a9ef31d7\",\"type\":\"BasicTickFormatter\"},{\"attributes\":{\"formatter\":{\"id\":\"c373ab0f-2735-4c2b-a93f-b49c81cad63d\",\"type\":\"BasicTickFormatter\"},\"plot\":{\"id\":\"bea233f6-9dc5-42f6-b3f6-4d174b8824ce\",\"subtype\":\"Figure\",\"type\":\"Plot\"},\"ticker\":{\"id\":\"8a0cd8f1-fa2e-4066-803a-e9d9f6a40996\",\"type\":\"BasicTicker\"}},\"id\":\"00bcdebd-ae72-408f-b2a7-937fdbed8063\",\"type\":\"LinearAxis\"},{\"attributes\":{\"plot\":{\"id\":\"bea233f6-9dc5-42f6-b3f6-4d174b8824ce\",\"subtype\":\"Figure\",\"type\":\"Plot\"},\"ticker\":{\"id\":\"8a0cd8f1-fa2e-4066-803a-e9d9f6a40996\",\"type\":\"BasicTicker\"}},\"id\":\"12f9b8ed-554a-45a7-b67d-1b13827b8ac0\",\"type\":\"Grid\"},{\"attributes\":{\"column_name\":\"species\",\"group\":\"versicolor\"},\"id\":\"874e9e0d-9e6e-4e67-9973-dceaf056cbf4\",\"type\":\"GroupFilter\"},{\"attributes\":{\"children\":[{\"id\":\"8d5db975-8cdb-475d-8180-8543c9698ef4\",\"subtype\":\"Figure\",\"type\":\"Plot\"},{\"id\":\"bea233f6-9dc5-42f6-b3f6-4d174b8824ce\",\"subtype\":\"Figure\",\"type\":\"Plot\"}]},\"id\":\"22582cf1-8f93-491b-9c12-fda203891aa5\",\"type\":\"Row\"},{\"attributes\":{\"below\":[{\"id\":\"00bcdebd-ae72-408f-b2a7-937fdbed8063\",\"type\":\"LinearAxis\"}],\"left\":[{\"id\":\"18d51a2c-ec7e-4236-a2e8-9d9095d25a84\",\"type\":\"LinearAxis\"}],\"plot_height\":300,\"plot_width\":300,\"renderers\":[{\"id\":\"00bcdebd-ae72-408f-b2a7-937fdbed8063\",\"type\":\"LinearAxis\"},{\"id\":\"12f9b8ed-554a-45a7-b67d-1b13827b8ac0\",\"type\":\"Grid\"},{\"id\":\"18d51a2c-ec7e-4236-a2e8-9d9095d25a84\",\"type\":\"LinearAxis\"},{\"id\":\"66e14d40-022e-428f-a27d-10a1f8147b2d\",\"type\":\"Grid\"},{\"id\":\"50eba77e-652a-4786-bbec-05cd071366b8\",\"type\":\"BoxAnnotation\"},{\"id\":\"cf1ebe27-8d7d-4c03-bbd9-f37ea3a03047\",\"type\":\"GlyphRenderer\"}],\"title\":{\"id\":\"f577030e-1b34-411e-b79c-9e8561dcd730\",\"type\":\"Title\"},\"toolbar\":{\"id\":\"8c4db357-a757-4e94-b9b0-b194c9303f96\",\"type\":\"Toolbar\"},\"toolbar_location\":null,\"x_range\":{\"id\":\"09114c46-9a1f-4b9c-be95-ce9b2706f201\",\"type\":\"DataRange1d\"},\"x_scale\":{\"id\":\"241d2350-4aac-4d1c-b60e-3e2d66d1df2e\",\"type\":\"LinearScale\"},\"y_range\":{\"id\":\"fb14a805-0039-4dbd-9ffb-9e49673404ca\",\"type\":\"DataRange1d\"},\"y_scale\":{\"id\":\"0df049ce-393f-4a8f-a726-cf48bc9c3968\",\"type\":\"LinearScale\"}},\"id\":\"bea233f6-9dc5-42f6-b3f6-4d174b8824ce\",\"subtype\":\"Figure\",\"type\":\"Plot\"},{\"attributes\":{},\"id\":\"f1a1c0e6-58cc-4216-b27f-d877963da63a\",\"type\":\"BasicTickFormatter\"},{\"attributes\":{\"fill_color\":{\"value\":\"black\"},\"x\":{\"field\":\"petal_length\"},\"y\":{\"field\":\"petal_width\"}},\"id\":\"45ca3f09-f73f-4d48-9109-0f819b350586\",\"type\":\"Circle\"},{\"attributes\":{\"plot\":null,\"text\":\"Full data set\"},\"id\":\"8a478725-bdb5-4986-9e6e-98a90ecc9f1e\",\"type\":\"Title\"},{\"attributes\":{\"callback\":null},\"id\":\"09114c46-9a1f-4b9c-be95-ce9b2706f201\",\"type\":\"DataRange1d\"},{\"attributes\":{\"tools\":[{\"id\":\"00d86fa6-c74d-4f2e-9b11-bc74fc9b962c\",\"type\":\"BoxSelectTool\"},{\"id\":\"555dacb4-9ac7-49be-86e1-df7065c6ea48\",\"type\":\"ResetTool\"},{\"id\":\"3ddae79d-0cec-4e90-a47e-cff518efe807\",\"type\":\"HelpTool\"},{\"id\":\"3476bd99-583f-476d-a87b-f34d75be0a15\",\"type\":\"BoxSelectTool\"},{\"id\":\"79b06016-b3d0-4955-98fa-b75258f65fcd\",\"type\":\"ResetTool\"},{\"id\":\"c7005dbb-6646-48c1-a714-958bdfd6f73b\",\"type\":\"HelpTool\"}]},\"id\":\"cb38670f-66ea-4fe9-982b-39847b487f91\",\"type\":\"ProxyToolbar\"}],\"root_ids\":[\"746f8620-3581-4c92-8098-b3f99a337cd6\"]},\"title\":\"Bokeh Application\",\"version\":\"0.12.13\"}};\n",
       "  var render_items = [{\"docid\":\"5bcc257e-5f09-42f3-9c7e-43f02123be39\",\"elementid\":\"38fd4694-0371-4674-98be-e91a8b41813a\",\"modelid\":\"746f8620-3581-4c92-8098-b3f99a337cd6\"}];\n",
       "  root.Bokeh.embed.embed_items_notebook(docs_json, render_items);\n",
       "\n",
       "  }\n",
       "  if (root.Bokeh !== undefined) {\n",
       "    embed_document(root);\n",
       "  } else {\n",
       "    var attempts = 0;\n",
       "    var timer = setInterval(function(root) {\n",
       "      if (root.Bokeh !== undefined) {\n",
       "        embed_document(root);\n",
       "        clearInterval(timer);\n",
       "      }\n",
       "      attempts++;\n",
       "      if (attempts > 100) {\n",
       "        console.log(\"Bokeh: ERROR: Unable to run BokehJS code because BokehJS library is missing\")\n",
       "        clearInterval(timer);\n",
       "      }\n",
       "    }, 10, root)\n",
       "  }\n",
       "})(window);"
      ],
      "application/vnd.bokehjs_exec.v0+json": ""
     },
     "metadata": {
      "application/vnd.bokehjs_exec.v0+json": {
       "id": "746f8620-3581-4c92-8098-b3f99a337cd6"
      }
     },
     "output_type": "display_data"
    }
   ],
   "source": [
    "from bokeh.layouts import gridplot\n",
    "from bokeh.models import ColumnDataSource, CDSView, GroupFilter\n",
    "\n",
    "from bokeh.sampledata.iris import flowers\n",
    "\n",
    "source = ColumnDataSource(flowers)\n",
    "\n",
    "view1 = CDSView(source=source,\n",
    "                filters=[GroupFilter(column_name='species', group='versicolor')])\n",
    "\n",
    "plot_size_and_tools = {'plot_height': 300, 'plot_width': 300,\n",
    "                        'tools':['box_select', 'reset', 'help']}\n",
    "\n",
    "p1 = figure(title=\"Full data set\", **plot_size_and_tools)\n",
    "p1.circle(x='petal_length', y='petal_width', source=source, color='black')\n",
    "\n",
    "p2 = figure(title=\"Setosa only\", x_range=p1.x_range, y_range=p1.y_range, **plot_size_and_tools)\n",
    "p2.circle(x='petal_length', y='petal_width', source=source, color='red',\n",
    "          view=view1)\n",
    "\n",
    "show(gridplot([[p1, p2]]))"
   ]
  },
  {
   "cell_type": "markdown",
   "metadata": {},
   "source": [
    "### Linked selection"
   ]
  },
  {
   "cell_type": "code",
   "execution_count": 13,
   "metadata": {},
   "outputs": [
    {
     "data": {
      "text/html": [
       "\n",
       "<div class=\"bk-root\">\n",
       "    <div class=\"bk-plotdiv\" id=\"573beb3d-02b9-44ac-8ffc-25dae8821653\"></div>\n",
       "</div>"
      ]
     },
     "metadata": {},
     "output_type": "display_data"
    },
    {
     "data": {
      "application/javascript": [
       "(function(root) {\n",
       "  function embed_document(root) {\n",
       "    \n",
       "  var docs_json = {\"8c006d08-fab4-499c-8202-ea8581d00315\":{\"roots\":{\"references\":[{\"attributes\":{\"toolbar\":{\"id\":\"cc25f520-0104-421b-a274-557051074997\",\"type\":\"ProxyToolbar\"},\"toolbar_location\":\"above\"},\"id\":\"f9dcd916-e32e-4200-83d6-6d9e149e139e\",\"type\":\"ToolbarBox\"},{\"attributes\":{},\"id\":\"d64926e2-2806-4233-89ff-2eec848a5046\",\"type\":\"BasicTickFormatter\"},{\"attributes\":{\"callback\":null,\"overlay\":{\"id\":\"3e708e80-a17e-4693-b72a-4e64209a8144\",\"type\":\"PolyAnnotation\"}},\"id\":\"df959292-666f-4a77-a461-ab650dda031b\",\"type\":\"LassoSelectTool\"},{\"attributes\":{},\"id\":\"1e97cd83-538b-4b1e-981e-c772d3ffb7de\",\"type\":\"HelpTool\"},{\"attributes\":{\"bottom_units\":\"screen\",\"fill_alpha\":{\"value\":0.5},\"fill_color\":{\"value\":\"lightgrey\"},\"left_units\":\"screen\",\"level\":\"overlay\",\"line_alpha\":{\"value\":1.0},\"line_color\":{\"value\":\"black\"},\"line_dash\":[4,4],\"line_width\":{\"value\":2},\"plot\":null,\"render_mode\":\"css\",\"right_units\":\"screen\",\"top_units\":\"screen\"},\"id\":\"d99a07e5-3511-49e0-b59e-82b8c50d7b44\",\"type\":\"BoxAnnotation\"},{\"attributes\":{\"source\":{\"id\":\"fe96acf3-f289-4002-a2ac-0557dac80eb7\",\"type\":\"ColumnDataSource\"}},\"id\":\"3db170fe-7e62-4d46-8a27-ca6f6dac86eb\",\"type\":\"CDSView\"},{\"attributes\":{\"fill_alpha\":{\"value\":0.5},\"fill_color\":{\"value\":\"lightgrey\"},\"level\":\"overlay\",\"line_alpha\":{\"value\":1.0},\"line_color\":{\"value\":\"black\"},\"line_dash\":[4,4],\"line_width\":{\"value\":2},\"plot\":null,\"xs_units\":\"screen\",\"ys_units\":\"screen\"},\"id\":\"3e708e80-a17e-4693-b72a-4e64209a8144\",\"type\":\"PolyAnnotation\"},{\"attributes\":{\"data_source\":{\"id\":\"fe96acf3-f289-4002-a2ac-0557dac80eb7\",\"type\":\"ColumnDataSource\"},\"glyph\":{\"id\":\"f47a6db3-2655-4352-8f92-a535b33a5b82\",\"type\":\"Circle\"},\"hover_glyph\":null,\"muted_glyph\":null,\"nonselection_glyph\":{\"id\":\"48f6c452-a0f7-4fb6-9b4f-18d55c1d0b88\",\"type\":\"Circle\"},\"selection_glyph\":null,\"view\":{\"id\":\"3db170fe-7e62-4d46-8a27-ca6f6dac86eb\",\"type\":\"CDSView\"}},\"id\":\"fd234f24-92fe-472b-a456-45ca73ee41f1\",\"type\":\"GlyphRenderer\"},{\"attributes\":{\"callback\":null},\"id\":\"c7ba5a30-499a-4ec0-8f5f-15ef4b7f4f6d\",\"type\":\"DataRange1d\"},{\"attributes\":{\"active_drag\":\"auto\",\"active_inspect\":\"auto\",\"active_scroll\":\"auto\",\"active_tap\":\"auto\",\"tools\":[{\"id\":\"353ac3b3-d756-4137-bae3-463cc757a6cd\",\"type\":\"BoxSelectTool\"},{\"id\":\"3383e824-a5d6-434f-a264-a2de7c3d62b6\",\"type\":\"LassoSelectTool\"},{\"id\":\"0116e34e-f8e4-42cf-8913-beb3aaa8eb5f\",\"type\":\"HelpTool\"}]},\"id\":\"730a0f9b-69a8-443e-a175-da8f9b983014\",\"type\":\"Toolbar\"},{\"attributes\":{\"formatter\":{\"id\":\"d0947380-fd22-4a53-9893-9653b0bac8b0\",\"type\":\"BasicTickFormatter\"},\"plot\":{\"id\":\"50b602f4-23df-4f68-b577-9602a51406cf\",\"subtype\":\"Figure\",\"type\":\"Plot\"},\"ticker\":{\"id\":\"49751313-bb59-4da7-89f3-49e8f1aae48d\",\"type\":\"BasicTicker\"}},\"id\":\"2eb5e875-6a54-4a68-bed3-c2b055dea8e6\",\"type\":\"LinearAxis\"},{\"attributes\":{\"callback\":null},\"id\":\"d050d6e2-c51c-4f6e-8246-ab07e1fd2445\",\"type\":\"DataRange1d\"},{\"attributes\":{},\"id\":\"a505ca87-9eec-4e58-9cb2-c8915aa898ac\",\"type\":\"LinearScale\"},{\"attributes\":{\"bottom_units\":\"screen\",\"fill_alpha\":{\"value\":0.5},\"fill_color\":{\"value\":\"lightgrey\"},\"left_units\":\"screen\",\"level\":\"overlay\",\"line_alpha\":{\"value\":1.0},\"line_color\":{\"value\":\"black\"},\"line_dash\":[4,4],\"line_width\":{\"value\":2},\"plot\":null,\"render_mode\":\"css\",\"right_units\":\"screen\",\"top_units\":\"screen\"},\"id\":\"2b6bf100-86d7-464b-9a3f-1faef50c7a3f\",\"type\":\"BoxAnnotation\"},{\"attributes\":{},\"id\":\"f64ef5fb-4219-41a5-b135-8f3ed49156f8\",\"type\":\"LinearScale\"},{\"attributes\":{\"plot\":{\"id\":\"508b4964-958e-4951-9403-bb7b476bf988\",\"subtype\":\"Figure\",\"type\":\"Plot\"},\"ticker\":{\"id\":\"ec4f1fe0-8747-4478-924d-7ce737ebacf2\",\"type\":\"BasicTicker\"}},\"id\":\"f9d2e884-1fc1-49f5-ada5-359ebc7de2ca\",\"type\":\"Grid\"},{\"attributes\":{\"callback\":null},\"id\":\"54a2835c-fd21-47b5-a854-83be6f627677\",\"type\":\"DataRange1d\"},{\"attributes\":{\"formatter\":{\"id\":\"036696ef-4b06-40f8-acd0-3bd3cacbb2d9\",\"type\":\"BasicTickFormatter\"},\"plot\":{\"id\":\"508b4964-958e-4951-9403-bb7b476bf988\",\"subtype\":\"Figure\",\"type\":\"Plot\"},\"ticker\":{\"id\":\"ec4f1fe0-8747-4478-924d-7ce737ebacf2\",\"type\":\"BasicTicker\"}},\"id\":\"ded823de-6961-4f6d-b95f-7ea1897d7abf\",\"type\":\"LinearAxis\"},{\"attributes\":{},\"id\":\"48752687-41f4-462f-a926-6ffb190ae54f\",\"type\":\"LinearScale\"},{\"attributes\":{},\"id\":\"ec4f1fe0-8747-4478-924d-7ce737ebacf2\",\"type\":\"BasicTicker\"},{\"attributes\":{},\"id\":\"d0947380-fd22-4a53-9893-9653b0bac8b0\",\"type\":\"BasicTickFormatter\"},{\"attributes\":{\"formatter\":{\"id\":\"4059d0a5-a1ea-4a3b-82e5-8d2c06c7c104\",\"type\":\"BasicTickFormatter\"},\"plot\":{\"id\":\"508b4964-958e-4951-9403-bb7b476bf988\",\"subtype\":\"Figure\",\"type\":\"Plot\"},\"ticker\":{\"id\":\"698f6372-ec1f-4d68-8a37-0a43d9aa700f\",\"type\":\"BasicTicker\"}},\"id\":\"c4f1991e-fef4-4968-8cbf-df9e9b6b8b52\",\"type\":\"LinearAxis\"},{\"attributes\":{},\"id\":\"698f6372-ec1f-4d68-8a37-0a43d9aa700f\",\"type\":\"BasicTicker\"},{\"attributes\":{\"below\":[{\"id\":\"2eb5e875-6a54-4a68-bed3-c2b055dea8e6\",\"type\":\"LinearAxis\"}],\"left\":[{\"id\":\"f6740609-c3e6-4448-b53d-42515d1b57d4\",\"type\":\"LinearAxis\"}],\"plot_height\":300,\"plot_width\":300,\"renderers\":[{\"id\":\"2eb5e875-6a54-4a68-bed3-c2b055dea8e6\",\"type\":\"LinearAxis\"},{\"id\":\"fc1576c2-52e0-4502-bc72-dd90f33143d5\",\"type\":\"Grid\"},{\"id\":\"f6740609-c3e6-4448-b53d-42515d1b57d4\",\"type\":\"LinearAxis\"},{\"id\":\"dd70b9da-8f06-4a96-81bd-6bef0a14e06c\",\"type\":\"Grid\"},{\"id\":\"d99a07e5-3511-49e0-b59e-82b8c50d7b44\",\"type\":\"BoxAnnotation\"},{\"id\":\"3e708e80-a17e-4693-b72a-4e64209a8144\",\"type\":\"PolyAnnotation\"},{\"id\":\"fd234f24-92fe-472b-a456-45ca73ee41f1\",\"type\":\"GlyphRenderer\"}],\"title\":null,\"toolbar\":{\"id\":\"daea67f1-86a3-4666-a523-6f051da1a632\",\"type\":\"Toolbar\"},\"toolbar_location\":null,\"x_range\":{\"id\":\"f985cda7-581d-409e-89f0-a7f0bd99d738\",\"type\":\"DataRange1d\"},\"x_scale\":{\"id\":\"48752687-41f4-462f-a926-6ffb190ae54f\",\"type\":\"LinearScale\"},\"y_range\":{\"id\":\"54a2835c-fd21-47b5-a854-83be6f627677\",\"type\":\"DataRange1d\"},\"y_scale\":{\"id\":\"a819fa02-af9d-46c0-863b-75e77ce86b97\",\"type\":\"LinearScale\"}},\"id\":\"50b602f4-23df-4f68-b577-9602a51406cf\",\"subtype\":\"Figure\",\"type\":\"Plot\"},{\"attributes\":{\"dimension\":1,\"plot\":{\"id\":\"508b4964-958e-4951-9403-bb7b476bf988\",\"subtype\":\"Figure\",\"type\":\"Plot\"},\"ticker\":{\"id\":\"698f6372-ec1f-4d68-8a37-0a43d9aa700f\",\"type\":\"BasicTicker\"}},\"id\":\"05a13c40-a093-475e-b93d-0cb3ebd66948\",\"type\":\"Grid\"},{\"attributes\":{},\"id\":\"a819fa02-af9d-46c0-863b-75e77ce86b97\",\"type\":\"LinearScale\"},{\"attributes\":{\"fill_color\":{\"value\":\"#1f77b4\"},\"line_color\":{\"value\":\"#1f77b4\"},\"x\":{\"field\":\"x\"},\"y\":{\"field\":\"y0\"}},\"id\":\"f47a6db3-2655-4352-8f92-a535b33a5b82\",\"type\":\"Circle\"},{\"attributes\":{\"fill_color\":{\"value\":\"#1f77b4\"},\"line_color\":{\"value\":\"#1f77b4\"},\"x\":{\"field\":\"x\"},\"y\":{\"field\":\"y1\"}},\"id\":\"017b9d2e-c748-4045-a713-c19819f26307\",\"type\":\"Circle\"},{\"attributes\":{\"active_drag\":\"auto\",\"active_inspect\":\"auto\",\"active_scroll\":\"auto\",\"active_tap\":\"auto\",\"tools\":[{\"id\":\"a8eb9a06-93c9-4cbd-bf22-0493e5c433c5\",\"type\":\"BoxSelectTool\"},{\"id\":\"df959292-666f-4a77-a461-ab650dda031b\",\"type\":\"LassoSelectTool\"},{\"id\":\"1e97cd83-538b-4b1e-981e-c772d3ffb7de\",\"type\":\"HelpTool\"}]},\"id\":\"daea67f1-86a3-4666-a523-6f051da1a632\",\"type\":\"Toolbar\"},{\"attributes\":{\"callback\":null,\"overlay\":{\"id\":\"2b6bf100-86d7-464b-9a3f-1faef50c7a3f\",\"type\":\"BoxAnnotation\"},\"renderers\":[{\"id\":\"71382b72-ef10-4d2e-8c64-305fd963083f\",\"type\":\"GlyphRenderer\"}]},\"id\":\"353ac3b3-d756-4137-bae3-463cc757a6cd\",\"type\":\"BoxSelectTool\"},{\"attributes\":{\"fill_alpha\":{\"value\":0.1},\"fill_color\":{\"value\":\"#1f77b4\"},\"line_alpha\":{\"value\":0.1},\"line_color\":{\"value\":\"#1f77b4\"},\"x\":{\"field\":\"x\"},\"y\":{\"field\":\"y0\"}},\"id\":\"48f6c452-a0f7-4fb6-9b4f-18d55c1d0b88\",\"type\":\"Circle\"},{\"attributes\":{\"fill_alpha\":{\"value\":0.1},\"fill_color\":{\"value\":\"#1f77b4\"},\"line_alpha\":{\"value\":0.1},\"line_color\":{\"value\":\"#1f77b4\"},\"x\":{\"field\":\"x\"},\"y\":{\"field\":\"y1\"}},\"id\":\"8eff1029-d683-45a7-9edb-6a07dae624f2\",\"type\":\"Circle\"},{\"attributes\":{\"callback\":null,\"column_names\":[\"x\",\"y0\",\"y1\"],\"data\":{\"x\":[-20,-19,-18,-17,-16,-15,-14,-13,-12,-11,-10,-9,-8,-7,-6,-5,-4,-3,-2,-1,0,1,2,3,4,5,6,7,8,9,10,11,12,13,14,15,16,17,18,19,20],\"y0\":[20,19,18,17,16,15,14,13,12,11,10,9,8,7,6,5,4,3,2,1,0,1,2,3,4,5,6,7,8,9,10,11,12,13,14,15,16,17,18,19,20],\"y1\":[400,361,324,289,256,225,196,169,144,121,100,81,64,49,36,25,16,9,4,1,0,1,4,9,16,25,36,49,64,81,100,121,144,169,196,225,256,289,324,361,400]}},\"id\":\"fe96acf3-f289-4002-a2ac-0557dac80eb7\",\"type\":\"ColumnDataSource\"},{\"attributes\":{\"callback\":null,\"overlay\":{\"id\":\"2ccd2aa2-12ea-4bc0-a451-56808ba1f825\",\"type\":\"PolyAnnotation\"}},\"id\":\"3383e824-a5d6-434f-a264-a2de7c3d62b6\",\"type\":\"LassoSelectTool\"},{\"attributes\":{\"callback\":null},\"id\":\"f985cda7-581d-409e-89f0-a7f0bd99d738\",\"type\":\"DataRange1d\"},{\"attributes\":{},\"id\":\"0116e34e-f8e4-42cf-8913-beb3aaa8eb5f\",\"type\":\"HelpTool\"},{\"attributes\":{\"children\":[{\"id\":\"50b602f4-23df-4f68-b577-9602a51406cf\",\"subtype\":\"Figure\",\"type\":\"Plot\"},{\"id\":\"508b4964-958e-4951-9403-bb7b476bf988\",\"subtype\":\"Figure\",\"type\":\"Plot\"}]},\"id\":\"5b3a4983-04f7-49f3-9781-7598624a7e07\",\"type\":\"Row\"},{\"attributes\":{\"plot\":{\"id\":\"50b602f4-23df-4f68-b577-9602a51406cf\",\"subtype\":\"Figure\",\"type\":\"Plot\"},\"ticker\":{\"id\":\"49751313-bb59-4da7-89f3-49e8f1aae48d\",\"type\":\"BasicTicker\"}},\"id\":\"fc1576c2-52e0-4502-bc72-dd90f33143d5\",\"type\":\"Grid\"},{\"attributes\":{\"source\":{\"id\":\"fe96acf3-f289-4002-a2ac-0557dac80eb7\",\"type\":\"ColumnDataSource\"}},\"id\":\"f5115278-b895-49fc-92c5-61a9d5825b21\",\"type\":\"CDSView\"},{\"attributes\":{},\"id\":\"0d791b8f-3c28-413d-ace5-f649c72c9fd3\",\"type\":\"BasicTicker\"},{\"attributes\":{\"fill_alpha\":{\"value\":0.5},\"fill_color\":{\"value\":\"lightgrey\"},\"level\":\"overlay\",\"line_alpha\":{\"value\":1.0},\"line_color\":{\"value\":\"black\"},\"line_dash\":[4,4],\"line_width\":{\"value\":2},\"plot\":null,\"xs_units\":\"screen\",\"ys_units\":\"screen\"},\"id\":\"2ccd2aa2-12ea-4bc0-a451-56808ba1f825\",\"type\":\"PolyAnnotation\"},{\"attributes\":{\"tools\":[{\"id\":\"a8eb9a06-93c9-4cbd-bf22-0493e5c433c5\",\"type\":\"BoxSelectTool\"},{\"id\":\"df959292-666f-4a77-a461-ab650dda031b\",\"type\":\"LassoSelectTool\"},{\"id\":\"1e97cd83-538b-4b1e-981e-c772d3ffb7de\",\"type\":\"HelpTool\"},{\"id\":\"353ac3b3-d756-4137-bae3-463cc757a6cd\",\"type\":\"BoxSelectTool\"},{\"id\":\"3383e824-a5d6-434f-a264-a2de7c3d62b6\",\"type\":\"LassoSelectTool\"},{\"id\":\"0116e34e-f8e4-42cf-8913-beb3aaa8eb5f\",\"type\":\"HelpTool\"}]},\"id\":\"cc25f520-0104-421b-a274-557051074997\",\"type\":\"ProxyToolbar\"},{\"attributes\":{\"callback\":null,\"overlay\":{\"id\":\"d99a07e5-3511-49e0-b59e-82b8c50d7b44\",\"type\":\"BoxAnnotation\"},\"renderers\":[{\"id\":\"fd234f24-92fe-472b-a456-45ca73ee41f1\",\"type\":\"GlyphRenderer\"}]},\"id\":\"a8eb9a06-93c9-4cbd-bf22-0493e5c433c5\",\"type\":\"BoxSelectTool\"},{\"attributes\":{\"data_source\":{\"id\":\"fe96acf3-f289-4002-a2ac-0557dac80eb7\",\"type\":\"ColumnDataSource\"},\"glyph\":{\"id\":\"017b9d2e-c748-4045-a713-c19819f26307\",\"type\":\"Circle\"},\"hover_glyph\":null,\"muted_glyph\":null,\"nonselection_glyph\":{\"id\":\"8eff1029-d683-45a7-9edb-6a07dae624f2\",\"type\":\"Circle\"},\"selection_glyph\":null,\"view\":{\"id\":\"f5115278-b895-49fc-92c5-61a9d5825b21\",\"type\":\"CDSView\"}},\"id\":\"71382b72-ef10-4d2e-8c64-305fd963083f\",\"type\":\"GlyphRenderer\"},{\"attributes\":{\"dimension\":1,\"plot\":{\"id\":\"50b602f4-23df-4f68-b577-9602a51406cf\",\"subtype\":\"Figure\",\"type\":\"Plot\"},\"ticker\":{\"id\":\"0d791b8f-3c28-413d-ace5-f649c72c9fd3\",\"type\":\"BasicTicker\"}},\"id\":\"dd70b9da-8f06-4a96-81bd-6bef0a14e06c\",\"type\":\"Grid\"},{\"attributes\":{\"below\":[{\"id\":\"ded823de-6961-4f6d-b95f-7ea1897d7abf\",\"type\":\"LinearAxis\"}],\"left\":[{\"id\":\"c4f1991e-fef4-4968-8cbf-df9e9b6b8b52\",\"type\":\"LinearAxis\"}],\"plot_height\":300,\"plot_width\":300,\"renderers\":[{\"id\":\"ded823de-6961-4f6d-b95f-7ea1897d7abf\",\"type\":\"LinearAxis\"},{\"id\":\"f9d2e884-1fc1-49f5-ada5-359ebc7de2ca\",\"type\":\"Grid\"},{\"id\":\"c4f1991e-fef4-4968-8cbf-df9e9b6b8b52\",\"type\":\"LinearAxis\"},{\"id\":\"05a13c40-a093-475e-b93d-0cb3ebd66948\",\"type\":\"Grid\"},{\"id\":\"2b6bf100-86d7-464b-9a3f-1faef50c7a3f\",\"type\":\"BoxAnnotation\"},{\"id\":\"2ccd2aa2-12ea-4bc0-a451-56808ba1f825\",\"type\":\"PolyAnnotation\"},{\"id\":\"71382b72-ef10-4d2e-8c64-305fd963083f\",\"type\":\"GlyphRenderer\"}],\"title\":null,\"toolbar\":{\"id\":\"730a0f9b-69a8-443e-a175-da8f9b983014\",\"type\":\"Toolbar\"},\"toolbar_location\":null,\"x_range\":{\"id\":\"d050d6e2-c51c-4f6e-8246-ab07e1fd2445\",\"type\":\"DataRange1d\"},\"x_scale\":{\"id\":\"a505ca87-9eec-4e58-9cb2-c8915aa898ac\",\"type\":\"LinearScale\"},\"y_range\":{\"id\":\"c7ba5a30-499a-4ec0-8f5f-15ef4b7f4f6d\",\"type\":\"DataRange1d\"},\"y_scale\":{\"id\":\"f64ef5fb-4219-41a5-b135-8f3ed49156f8\",\"type\":\"LinearScale\"}},\"id\":\"508b4964-958e-4951-9403-bb7b476bf988\",\"subtype\":\"Figure\",\"type\":\"Plot\"},{\"attributes\":{\"children\":[{\"id\":\"5b3a4983-04f7-49f3-9781-7598624a7e07\",\"type\":\"Row\"}]},\"id\":\"be60cfb6-87bc-45d5-b71e-59b3c402d572\",\"type\":\"Column\"},{\"attributes\":{},\"id\":\"4059d0a5-a1ea-4a3b-82e5-8d2c06c7c104\",\"type\":\"BasicTickFormatter\"},{\"attributes\":{},\"id\":\"036696ef-4b06-40f8-acd0-3bd3cacbb2d9\",\"type\":\"BasicTickFormatter\"},{\"attributes\":{\"formatter\":{\"id\":\"d64926e2-2806-4233-89ff-2eec848a5046\",\"type\":\"BasicTickFormatter\"},\"plot\":{\"id\":\"50b602f4-23df-4f68-b577-9602a51406cf\",\"subtype\":\"Figure\",\"type\":\"Plot\"},\"ticker\":{\"id\":\"0d791b8f-3c28-413d-ace5-f649c72c9fd3\",\"type\":\"BasicTicker\"}},\"id\":\"f6740609-c3e6-4448-b53d-42515d1b57d4\",\"type\":\"LinearAxis\"},{\"attributes\":{\"children\":[{\"id\":\"f9dcd916-e32e-4200-83d6-6d9e149e139e\",\"type\":\"ToolbarBox\"},{\"id\":\"be60cfb6-87bc-45d5-b71e-59b3c402d572\",\"type\":\"Column\"}]},\"id\":\"e6e58958-1cbc-4ec6-912c-4929290efa8f\",\"type\":\"Column\"},{\"attributes\":{},\"id\":\"49751313-bb59-4da7-89f3-49e8f1aae48d\",\"type\":\"BasicTicker\"}],\"root_ids\":[\"e6e58958-1cbc-4ec6-912c-4929290efa8f\"]},\"title\":\"Bokeh Application\",\"version\":\"0.12.13\"}};\n",
       "  var render_items = [{\"docid\":\"8c006d08-fab4-499c-8202-ea8581d00315\",\"elementid\":\"573beb3d-02b9-44ac-8ffc-25dae8821653\",\"modelid\":\"e6e58958-1cbc-4ec6-912c-4929290efa8f\"}];\n",
       "  root.Bokeh.embed.embed_items_notebook(docs_json, render_items);\n",
       "\n",
       "  }\n",
       "  if (root.Bokeh !== undefined) {\n",
       "    embed_document(root);\n",
       "  } else {\n",
       "    var attempts = 0;\n",
       "    var timer = setInterval(function(root) {\n",
       "      if (root.Bokeh !== undefined) {\n",
       "        embed_document(root);\n",
       "        clearInterval(timer);\n",
       "      }\n",
       "      attempts++;\n",
       "      if (attempts > 100) {\n",
       "        console.log(\"Bokeh: ERROR: Unable to run BokehJS code because BokehJS library is missing\")\n",
       "        clearInterval(timer);\n",
       "      }\n",
       "    }, 10, root)\n",
       "  }\n",
       "})(window);"
      ],
      "application/vnd.bokehjs_exec.v0+json": ""
     },
     "metadata": {
      "application/vnd.bokehjs_exec.v0+json": {
       "id": "e6e58958-1cbc-4ec6-912c-4929290efa8f"
      }
     },
     "output_type": "display_data"
    }
   ],
   "source": [
    "from bokeh.layouts import gridplot\n",
    "from bokeh.models import ColumnDataSource \n",
    "\n",
    "x = list(range(-20, 21))\n",
    "y0 = [abs(xx) for xx in x]\n",
    "y1 = [xx**2 for xx in x]\n",
    "\n",
    "# create a column data source for the plots to share\n",
    "source = ColumnDataSource(data=dict(x=x, y0=y0, y1=y1))\n",
    "\n",
    "TOOLS = \"box_select,lasso_select,help\"\n",
    "\n",
    "# create a new plot and add a renderer\n",
    "left = figure(tools=TOOLS, plot_width=300, plot_height=300, title=None)\n",
    "left.circle('x', 'y0',\n",
    "            source=source)\n",
    "\n",
    "# create another new plot and add a renderer\n",
    "right = figure(tools=TOOLS, plot_width=300, plot_height=300, title=None)\n",
    "right.circle('x', 'y1',\n",
    "             source=source)\n",
    "\n",
    "p = gridplot([[left, right]])\n",
    "\n",
    "show(p)"
   ]
  },
  {
   "cell_type": "markdown",
   "metadata": {},
   "source": [
    "### Linked selection with filtered data"
   ]
  },
  {
   "cell_type": "code",
   "execution_count": 14,
   "metadata": {},
   "outputs": [
    {
     "data": {
      "text/html": [
       "\n",
       "<div class=\"bk-root\">\n",
       "    <div class=\"bk-plotdiv\" id=\"56d6d31a-6bec-4bd8-8fe7-cf3c307b2cd1\"></div>\n",
       "</div>"
      ]
     },
     "metadata": {},
     "output_type": "display_data"
    },
    {
     "data": {
      "application/javascript": [
       "(function(root) {\n",
       "  function embed_document(root) {\n",
       "    \n",
       "  var docs_json = {\"11ac1e7b-157d-4dad-aa85-3ff27695bd74\":{\"roots\":{\"references\":[{\"attributes\":{\"formatter\":{\"id\":\"3034835f-13c2-4495-9f69-0db95a22aaf4\",\"type\":\"BasicTickFormatter\"},\"plot\":{\"id\":\"64c34bb3-2c08-45bb-a6f3-c0a5c66ae099\",\"subtype\":\"Figure\",\"type\":\"Plot\"},\"ticker\":{\"id\":\"5a4ff8a9-ad84-40a8-aec1-06d54b79e18d\",\"type\":\"BasicTicker\"}},\"id\":\"436e38bc-24ef-49ea-9ad9-3479860f9d97\",\"type\":\"LinearAxis\"},{\"attributes\":{\"active_drag\":\"auto\",\"active_inspect\":\"auto\",\"active_scroll\":\"auto\",\"active_tap\":\"auto\",\"tools\":[{\"id\":\"da2f87b0-d427-450f-a0c0-aabda53717f5\",\"type\":\"BoxSelectTool\"},{\"id\":\"bed8ad7b-46ce-4e37-b3c5-bda1ab0d7502\",\"type\":\"LassoSelectTool\"},{\"id\":\"a5552826-d70f-4039-90f4-469316289f56\",\"type\":\"HoverTool\"},{\"id\":\"624951dd-18a1-4ae9-9b00-44e0c680e249\",\"type\":\"HelpTool\"}]},\"id\":\"dac032fd-18dd-4a5f-8bab-cdd80068a0dc\",\"type\":\"Toolbar\"},{\"attributes\":{},\"id\":\"5a4ff8a9-ad84-40a8-aec1-06d54b79e18d\",\"type\":\"BasicTicker\"},{\"attributes\":{\"below\":[{\"id\":\"32cd2c9a-ebf0-4ce1-b936-e57f463d371c\",\"type\":\"LinearAxis\"}],\"left\":[{\"id\":\"2b10f02c-2bbb-4ba6-b34c-dee63222da0e\",\"type\":\"LinearAxis\"}],\"plot_height\":300,\"plot_width\":300,\"renderers\":[{\"id\":\"32cd2c9a-ebf0-4ce1-b936-e57f463d371c\",\"type\":\"LinearAxis\"},{\"id\":\"2b03affb-b2cc-440a-9912-dfe1ec8d7cb9\",\"type\":\"Grid\"},{\"id\":\"2b10f02c-2bbb-4ba6-b34c-dee63222da0e\",\"type\":\"LinearAxis\"},{\"id\":\"1cf21bba-b505-4b29-b85f-d76d654dfb3f\",\"type\":\"Grid\"},{\"id\":\"43844c06-56ad-4b0b-952c-2b4384d76d1e\",\"type\":\"BoxAnnotation\"},{\"id\":\"ab2b3180-d691-46d0-bba4-5f8719fe39f3\",\"type\":\"PolyAnnotation\"},{\"id\":\"82f6533e-de2e-44bd-9600-0402fedcd68f\",\"type\":\"GlyphRenderer\"}],\"title\":null,\"toolbar\":{\"id\":\"afa071cc-0c12-4ab1-abcc-e6810e8f4626\",\"type\":\"Toolbar\"},\"toolbar_location\":null,\"x_range\":{\"id\":\"a2ca95f9-3815-4b26-9508-1024843e9e8a\",\"type\":\"DataRange1d\"},\"x_scale\":{\"id\":\"0f1792eb-3698-4a59-ab69-aa867dc7b0a0\",\"type\":\"LinearScale\"},\"y_range\":{\"id\":\"a0781f7f-0fa0-4e1a-8aae-1575e5253917\",\"type\":\"DataRange1d\"},\"y_scale\":{\"id\":\"f697c04d-a460-4701-840f-a775a92bbdba\",\"type\":\"LinearScale\"}},\"id\":\"df5712f3-03ee-4b45-8458-f7ca1966741c\",\"subtype\":\"Figure\",\"type\":\"Plot\"},{\"attributes\":{\"formatter\":{\"id\":\"5211d765-1e74-42ea-aad4-9d73cd94fbb0\",\"type\":\"BasicTickFormatter\"},\"plot\":{\"id\":\"64c34bb3-2c08-45bb-a6f3-c0a5c66ae099\",\"subtype\":\"Figure\",\"type\":\"Plot\"},\"ticker\":{\"id\":\"141d7a04-7d11-49d6-8758-275c4dc9cfa9\",\"type\":\"BasicTicker\"}},\"id\":\"4be504aa-bbcf-4530-9c47-aa8f34a7251f\",\"type\":\"LinearAxis\"},{\"attributes\":{\"fill_alpha\":{\"value\":0.1},\"fill_color\":{\"value\":\"#1f77b4\"},\"line_alpha\":{\"value\":0.1},\"line_color\":{\"value\":\"#1f77b4\"},\"size\":{\"units\":\"screen\",\"value\":10},\"x\":{\"field\":\"x\"},\"y\":{\"field\":\"y0\"}},\"id\":\"9054d315-2ebe-4536-a43b-d4804a07b71e\",\"type\":\"Circle\"},{\"attributes\":{},\"id\":\"141d7a04-7d11-49d6-8758-275c4dc9cfa9\",\"type\":\"BasicTicker\"},{\"attributes\":{\"active_drag\":\"auto\",\"active_inspect\":\"auto\",\"active_scroll\":\"auto\",\"active_tap\":\"auto\",\"tools\":[{\"id\":\"79c2cf8d-ef81-4a76-8818-dae724a673ff\",\"type\":\"BoxSelectTool\"},{\"id\":\"1e2fed53-7d3f-4a2e-a7e9-4b9bbe4e8bb2\",\"type\":\"LassoSelectTool\"},{\"id\":\"7525f740-b7f3-4762-a3a8-8b82ed2e7248\",\"type\":\"HoverTool\"},{\"id\":\"3b5eabb2-196c-40db-b802-a6f41db38fe8\",\"type\":\"HelpTool\"}]},\"id\":\"afa071cc-0c12-4ab1-abcc-e6810e8f4626\",\"type\":\"Toolbar\"},{\"attributes\":{\"dimension\":1,\"plot\":{\"id\":\"64c34bb3-2c08-45bb-a6f3-c0a5c66ae099\",\"subtype\":\"Figure\",\"type\":\"Plot\"},\"ticker\":{\"id\":\"141d7a04-7d11-49d6-8758-275c4dc9cfa9\",\"type\":\"BasicTicker\"}},\"id\":\"eada6a45-33b1-4a11-9929-84e7046a56bd\",\"type\":\"Grid\"},{\"attributes\":{\"callback\":null},\"id\":\"a2ca95f9-3815-4b26-9508-1024843e9e8a\",\"type\":\"DataRange1d\"},{\"attributes\":{\"fill_color\":{\"value\":\"#1f77b4\"},\"line_color\":{\"value\":\"#1f77b4\"},\"size\":{\"units\":\"screen\",\"value\":10},\"x\":{\"field\":\"x\"},\"y\":{\"field\":\"y1\"}},\"id\":\"f5415633-6f0c-496c-901d-a824ec90f4b6\",\"type\":\"Circle\"},{\"attributes\":{\"below\":[{\"id\":\"436e38bc-24ef-49ea-9ad9-3479860f9d97\",\"type\":\"LinearAxis\"}],\"left\":[{\"id\":\"4be504aa-bbcf-4530-9c47-aa8f34a7251f\",\"type\":\"LinearAxis\"}],\"plot_height\":300,\"plot_width\":300,\"renderers\":[{\"id\":\"436e38bc-24ef-49ea-9ad9-3479860f9d97\",\"type\":\"LinearAxis\"},{\"id\":\"4bbf8372-a9f8-4ca7-a627-306701b5cc83\",\"type\":\"Grid\"},{\"id\":\"4be504aa-bbcf-4530-9c47-aa8f34a7251f\",\"type\":\"LinearAxis\"},{\"id\":\"eada6a45-33b1-4a11-9929-84e7046a56bd\",\"type\":\"Grid\"},{\"id\":\"26b6db16-6657-4ec6-b409-a3034acf5165\",\"type\":\"BoxAnnotation\"},{\"id\":\"9d9dbc56-60a6-48b2-a540-99fcc9cbb210\",\"type\":\"PolyAnnotation\"},{\"id\":\"b1fdb041-5d9f-4ef6-ae7b-b492a39c4cf2\",\"type\":\"GlyphRenderer\"}],\"title\":null,\"toolbar\":{\"id\":\"dac032fd-18dd-4a5f-8bab-cdd80068a0dc\",\"type\":\"Toolbar\"},\"toolbar_location\":null,\"x_range\":{\"id\":\"56b81f8a-abf4-4a1e-bbc4-2627b965c41b\",\"type\":\"DataRange1d\"},\"x_scale\":{\"id\":\"abb7190e-ac3c-45f8-bcfc-54ee1b6961e1\",\"type\":\"LinearScale\"},\"y_range\":{\"id\":\"abed9385-8b90-4084-bb05-11ce98b0c001\",\"type\":\"DataRange1d\"},\"y_scale\":{\"id\":\"6d5cda3a-5691-4ecc-90de-790411481719\",\"type\":\"LinearScale\"}},\"id\":\"64c34bb3-2c08-45bb-a6f3-c0a5c66ae099\",\"subtype\":\"Figure\",\"type\":\"Plot\"},{\"attributes\":{\"data_source\":{\"id\":\"42863f58-ac35-4714-bde4-1a92516ef33f\",\"type\":\"ColumnDataSource\"},\"glyph\":{\"id\":\"f5415633-6f0c-496c-901d-a824ec90f4b6\",\"type\":\"Circle\"},\"hover_glyph\":{\"id\":\"911027a7-0e21-484f-895a-ecfabd06c3be\",\"type\":\"Circle\"},\"muted_glyph\":null,\"nonselection_glyph\":{\"id\":\"45c3b231-82ca-4330-ae5f-f1970a5c6bf2\",\"type\":\"Circle\"},\"selection_glyph\":null,\"view\":{\"id\":\"042aa4b0-e5a6-4685-8a38-9c8948ae8062\",\"type\":\"CDSView\"}},\"id\":\"b1fdb041-5d9f-4ef6-ae7b-b492a39c4cf2\",\"type\":\"GlyphRenderer\"},{\"attributes\":{},\"id\":\"0f1792eb-3698-4a59-ab69-aa867dc7b0a0\",\"type\":\"LinearScale\"},{\"attributes\":{\"callback\":null,\"overlay\":{\"id\":\"26b6db16-6657-4ec6-b409-a3034acf5165\",\"type\":\"BoxAnnotation\"},\"renderers\":[{\"id\":\"b1fdb041-5d9f-4ef6-ae7b-b492a39c4cf2\",\"type\":\"GlyphRenderer\"}]},\"id\":\"da2f87b0-d427-450f-a0c0-aabda53717f5\",\"type\":\"BoxSelectTool\"},{\"attributes\":{\"callback\":null},\"id\":\"a0781f7f-0fa0-4e1a-8aae-1575e5253917\",\"type\":\"DataRange1d\"},{\"attributes\":{\"toolbar\":{\"id\":\"feafc995-d30c-40a9-9606-6f40d14db20c\",\"type\":\"ProxyToolbar\"},\"toolbar_location\":\"above\"},\"id\":\"87dbc34f-4329-4819-bcd5-3b4de38d8a78\",\"type\":\"ToolbarBox\"},{\"attributes\":{},\"id\":\"f697c04d-a460-4701-840f-a775a92bbdba\",\"type\":\"LinearScale\"},{\"attributes\":{\"callback\":null,\"overlay\":{\"id\":\"9d9dbc56-60a6-48b2-a540-99fcc9cbb210\",\"type\":\"PolyAnnotation\"}},\"id\":\"bed8ad7b-46ce-4e37-b3c5-bda1ab0d7502\",\"type\":\"LassoSelectTool\"},{\"attributes\":{\"plot\":{\"id\":\"df5712f3-03ee-4b45-8458-f7ca1966741c\",\"subtype\":\"Figure\",\"type\":\"Plot\"},\"ticker\":{\"id\":\"1ad144a9-4c3b-467a-aa54-39367f69c8e4\",\"type\":\"BasicTicker\"}},\"id\":\"2b03affb-b2cc-440a-9912-dfe1ec8d7cb9\",\"type\":\"Grid\"},{\"attributes\":{\"callback\":null},\"id\":\"a5552826-d70f-4039-90f4-469316289f56\",\"type\":\"HoverTool\"},{\"attributes\":{\"formatter\":{\"id\":\"0f1d8a0f-5dc2-44cf-8a20-5472d089783b\",\"type\":\"BasicTickFormatter\"},\"plot\":{\"id\":\"df5712f3-03ee-4b45-8458-f7ca1966741c\",\"subtype\":\"Figure\",\"type\":\"Plot\"},\"ticker\":{\"id\":\"1ad144a9-4c3b-467a-aa54-39367f69c8e4\",\"type\":\"BasicTicker\"}},\"id\":\"32cd2c9a-ebf0-4ce1-b936-e57f463d371c\",\"type\":\"LinearAxis\"},{\"attributes\":{},\"id\":\"624951dd-18a1-4ae9-9b00-44e0c680e249\",\"type\":\"HelpTool\"},{\"attributes\":{},\"id\":\"1ad144a9-4c3b-467a-aa54-39367f69c8e4\",\"type\":\"BasicTicker\"},{\"attributes\":{\"bottom_units\":\"screen\",\"fill_alpha\":{\"value\":0.5},\"fill_color\":{\"value\":\"lightgrey\"},\"left_units\":\"screen\",\"level\":\"overlay\",\"line_alpha\":{\"value\":1.0},\"line_color\":{\"value\":\"black\"},\"line_dash\":[4,4],\"line_width\":{\"value\":2},\"plot\":null,\"render_mode\":\"css\",\"right_units\":\"screen\",\"top_units\":\"screen\"},\"id\":\"26b6db16-6657-4ec6-b409-a3034acf5165\",\"type\":\"BoxAnnotation\"},{\"attributes\":{\"formatter\":{\"id\":\"faa714a6-4202-4fad-a086-26b3c0cc0bef\",\"type\":\"BasicTickFormatter\"},\"plot\":{\"id\":\"df5712f3-03ee-4b45-8458-f7ca1966741c\",\"subtype\":\"Figure\",\"type\":\"Plot\"},\"ticker\":{\"id\":\"c1d973db-27d0-4b9c-9df5-a7d4b9b283d2\",\"type\":\"BasicTicker\"}},\"id\":\"2b10f02c-2bbb-4ba6-b34c-dee63222da0e\",\"type\":\"LinearAxis\"},{\"attributes\":{\"fill_color\":{\"value\":\"firebrick\"},\"line_color\":{\"value\":\"firebrick\"},\"size\":{\"units\":\"screen\",\"value\":10},\"x\":{\"field\":\"x\"},\"y\":{\"field\":\"y1\"}},\"id\":\"911027a7-0e21-484f-895a-ecfabd06c3be\",\"type\":\"Circle\"},{\"attributes\":{},\"id\":\"c1d973db-27d0-4b9c-9df5-a7d4b9b283d2\",\"type\":\"BasicTicker\"},{\"attributes\":{\"fill_alpha\":{\"value\":0.5},\"fill_color\":{\"value\":\"lightgrey\"},\"level\":\"overlay\",\"line_alpha\":{\"value\":1.0},\"line_color\":{\"value\":\"black\"},\"line_dash\":[4,4],\"line_width\":{\"value\":2},\"plot\":null,\"xs_units\":\"screen\",\"ys_units\":\"screen\"},\"id\":\"9d9dbc56-60a6-48b2-a540-99fcc9cbb210\",\"type\":\"PolyAnnotation\"},{\"attributes\":{\"dimension\":1,\"plot\":{\"id\":\"df5712f3-03ee-4b45-8458-f7ca1966741c\",\"subtype\":\"Figure\",\"type\":\"Plot\"},\"ticker\":{\"id\":\"c1d973db-27d0-4b9c-9df5-a7d4b9b283d2\",\"type\":\"BasicTicker\"}},\"id\":\"1cf21bba-b505-4b29-b85f-d76d654dfb3f\",\"type\":\"Grid\"},{\"attributes\":{\"booleans\":[true,true,true,true,true,false,false,false,false,false,false,true,true,true,true,true,true,true,true,true,true,true,true,true,true,true,true,true,true,true,false,false,false,false,false,false,true,true,true,true,true]},\"id\":\"66dae6de-0edb-4363-838f-a690e9cfd6d4\",\"type\":\"BooleanFilter\"},{\"attributes\":{},\"id\":\"3034835f-13c2-4495-9f69-0db95a22aaf4\",\"type\":\"BasicTickFormatter\"},{\"attributes\":{\"fill_color\":{\"value\":\"#1f77b4\"},\"line_color\":{\"value\":\"#1f77b4\"},\"size\":{\"units\":\"screen\",\"value\":10},\"x\":{\"field\":\"x\"},\"y\":{\"field\":\"y0\"}},\"id\":\"6b8295d8-b863-42cc-ba7f-b466a697f807\",\"type\":\"Circle\"},{\"attributes\":{\"tools\":[{\"id\":\"79c2cf8d-ef81-4a76-8818-dae724a673ff\",\"type\":\"BoxSelectTool\"},{\"id\":\"1e2fed53-7d3f-4a2e-a7e9-4b9bbe4e8bb2\",\"type\":\"LassoSelectTool\"},{\"id\":\"7525f740-b7f3-4762-a3a8-8b82ed2e7248\",\"type\":\"HoverTool\"},{\"id\":\"3b5eabb2-196c-40db-b802-a6f41db38fe8\",\"type\":\"HelpTool\"},{\"id\":\"da2f87b0-d427-450f-a0c0-aabda53717f5\",\"type\":\"BoxSelectTool\"},{\"id\":\"bed8ad7b-46ce-4e37-b3c5-bda1ab0d7502\",\"type\":\"LassoSelectTool\"},{\"id\":\"a5552826-d70f-4039-90f4-469316289f56\",\"type\":\"HoverTool\"},{\"id\":\"624951dd-18a1-4ae9-9b00-44e0c680e249\",\"type\":\"HelpTool\"}]},\"id\":\"feafc995-d30c-40a9-9606-6f40d14db20c\",\"type\":\"ProxyToolbar\"},{\"attributes\":{\"data_source\":{\"id\":\"42863f58-ac35-4714-bde4-1a92516ef33f\",\"type\":\"ColumnDataSource\"},\"glyph\":{\"id\":\"6b8295d8-b863-42cc-ba7f-b466a697f807\",\"type\":\"Circle\"},\"hover_glyph\":{\"id\":\"6a4765c6-314d-4607-8c16-3441cca6d885\",\"type\":\"Circle\"},\"muted_glyph\":null,\"nonselection_glyph\":{\"id\":\"9054d315-2ebe-4536-a43b-d4804a07b71e\",\"type\":\"Circle\"},\"selection_glyph\":null,\"view\":{\"id\":\"e06da131-b2a7-447c-a075-33ab0470d9d5\",\"type\":\"CDSView\"}},\"id\":\"82f6533e-de2e-44bd-9600-0402fedcd68f\",\"type\":\"GlyphRenderer\"},{\"attributes\":{\"callback\":null,\"column_names\":[\"x\",\"y0\",\"y1\"],\"data\":{\"x\":[-20,-19,-18,-17,-16,-15,-14,-13,-12,-11,-10,-9,-8,-7,-6,-5,-4,-3,-2,-1,0,1,2,3,4,5,6,7,8,9,10,11,12,13,14,15,16,17,18,19,20],\"y0\":[20,19,18,17,16,15,14,13,12,11,10,9,8,7,6,5,4,3,2,1,0,1,2,3,4,5,6,7,8,9,10,11,12,13,14,15,16,17,18,19,20],\"y1\":[400,361,324,289,256,225,196,169,144,121,100,81,64,49,36,25,16,9,4,1,0,1,4,9,16,25,36,49,64,81,100,121,144,169,196,225,256,289,324,361,400]}},\"id\":\"42863f58-ac35-4714-bde4-1a92516ef33f\",\"type\":\"ColumnDataSource\"},{\"attributes\":{\"callback\":null,\"overlay\":{\"id\":\"43844c06-56ad-4b0b-952c-2b4384d76d1e\",\"type\":\"BoxAnnotation\"},\"renderers\":[{\"id\":\"82f6533e-de2e-44bd-9600-0402fedcd68f\",\"type\":\"GlyphRenderer\"}]},\"id\":\"79c2cf8d-ef81-4a76-8818-dae724a673ff\",\"type\":\"BoxSelectTool\"},{\"attributes\":{\"filters\":[{\"id\":\"66dae6de-0edb-4363-838f-a690e9cfd6d4\",\"type\":\"BooleanFilter\"}],\"source\":{\"id\":\"42863f58-ac35-4714-bde4-1a92516ef33f\",\"type\":\"ColumnDataSource\"}},\"id\":\"042aa4b0-e5a6-4685-8a38-9c8948ae8062\",\"type\":\"CDSView\"},{\"attributes\":{},\"id\":\"5211d765-1e74-42ea-aad4-9d73cd94fbb0\",\"type\":\"BasicTickFormatter\"},{\"attributes\":{},\"id\":\"faa714a6-4202-4fad-a086-26b3c0cc0bef\",\"type\":\"BasicTickFormatter\"},{\"attributes\":{\"callback\":null,\"overlay\":{\"id\":\"ab2b3180-d691-46d0-bba4-5f8719fe39f3\",\"type\":\"PolyAnnotation\"}},\"id\":\"1e2fed53-7d3f-4a2e-a7e9-4b9bbe4e8bb2\",\"type\":\"LassoSelectTool\"},{\"attributes\":{\"callback\":null},\"id\":\"7525f740-b7f3-4762-a3a8-8b82ed2e7248\",\"type\":\"HoverTool\"},{\"attributes\":{},\"id\":\"3b5eabb2-196c-40db-b802-a6f41db38fe8\",\"type\":\"HelpTool\"},{\"attributes\":{\"bottom_units\":\"screen\",\"fill_alpha\":{\"value\":0.5},\"fill_color\":{\"value\":\"lightgrey\"},\"left_units\":\"screen\",\"level\":\"overlay\",\"line_alpha\":{\"value\":1.0},\"line_color\":{\"value\":\"black\"},\"line_dash\":[4,4],\"line_width\":{\"value\":2},\"plot\":null,\"render_mode\":\"css\",\"right_units\":\"screen\",\"top_units\":\"screen\"},\"id\":\"43844c06-56ad-4b0b-952c-2b4384d76d1e\",\"type\":\"BoxAnnotation\"},{\"attributes\":{\"children\":[{\"id\":\"87dbc34f-4329-4819-bcd5-3b4de38d8a78\",\"type\":\"ToolbarBox\"},{\"id\":\"30c627ba-8ec1-4540-8813-41988ddcb78a\",\"type\":\"Column\"}]},\"id\":\"f38584d4-cf36-4e49-8510-77d3e3cd1eb3\",\"type\":\"Column\"},{\"attributes\":{\"fill_color\":{\"value\":\"firebrick\"},\"line_color\":{\"value\":\"firebrick\"},\"size\":{\"units\":\"screen\",\"value\":10},\"x\":{\"field\":\"x\"},\"y\":{\"field\":\"y0\"}},\"id\":\"6a4765c6-314d-4607-8c16-3441cca6d885\",\"type\":\"Circle\"},{\"attributes\":{\"fill_alpha\":{\"value\":0.5},\"fill_color\":{\"value\":\"lightgrey\"},\"level\":\"overlay\",\"line_alpha\":{\"value\":1.0},\"line_color\":{\"value\":\"black\"},\"line_dash\":[4,4],\"line_width\":{\"value\":2},\"plot\":null,\"xs_units\":\"screen\",\"ys_units\":\"screen\"},\"id\":\"ab2b3180-d691-46d0-bba4-5f8719fe39f3\",\"type\":\"PolyAnnotation\"},{\"attributes\":{\"source\":{\"id\":\"42863f58-ac35-4714-bde4-1a92516ef33f\",\"type\":\"ColumnDataSource\"}},\"id\":\"e06da131-b2a7-447c-a075-33ab0470d9d5\",\"type\":\"CDSView\"},{\"attributes\":{\"fill_alpha\":{\"value\":0.1},\"fill_color\":{\"value\":\"#1f77b4\"},\"line_alpha\":{\"value\":0.1},\"line_color\":{\"value\":\"#1f77b4\"},\"size\":{\"units\":\"screen\",\"value\":10},\"x\":{\"field\":\"x\"},\"y\":{\"field\":\"y1\"}},\"id\":\"45c3b231-82ca-4330-ae5f-f1970a5c6bf2\",\"type\":\"Circle\"},{\"attributes\":{\"children\":[{\"id\":\"db874590-98ed-4f55-8300-48fb28e89a52\",\"type\":\"Row\"}]},\"id\":\"30c627ba-8ec1-4540-8813-41988ddcb78a\",\"type\":\"Column\"},{\"attributes\":{},\"id\":\"0f1d8a0f-5dc2-44cf-8a20-5472d089783b\",\"type\":\"BasicTickFormatter\"},{\"attributes\":{\"children\":[{\"id\":\"df5712f3-03ee-4b45-8458-f7ca1966741c\",\"subtype\":\"Figure\",\"type\":\"Plot\"},{\"id\":\"64c34bb3-2c08-45bb-a6f3-c0a5c66ae099\",\"subtype\":\"Figure\",\"type\":\"Plot\"}]},\"id\":\"db874590-98ed-4f55-8300-48fb28e89a52\",\"type\":\"Row\"},{\"attributes\":{},\"id\":\"6d5cda3a-5691-4ecc-90de-790411481719\",\"type\":\"LinearScale\"},{\"attributes\":{\"callback\":null},\"id\":\"56b81f8a-abf4-4a1e-bbc4-2627b965c41b\",\"type\":\"DataRange1d\"},{\"attributes\":{\"callback\":null},\"id\":\"abed9385-8b90-4084-bb05-11ce98b0c001\",\"type\":\"DataRange1d\"},{\"attributes\":{},\"id\":\"abb7190e-ac3c-45f8-bcfc-54ee1b6961e1\",\"type\":\"LinearScale\"},{\"attributes\":{\"plot\":{\"id\":\"64c34bb3-2c08-45bb-a6f3-c0a5c66ae099\",\"subtype\":\"Figure\",\"type\":\"Plot\"},\"ticker\":{\"id\":\"5a4ff8a9-ad84-40a8-aec1-06d54b79e18d\",\"type\":\"BasicTicker\"}},\"id\":\"4bbf8372-a9f8-4ca7-a627-306701b5cc83\",\"type\":\"Grid\"}],\"root_ids\":[\"f38584d4-cf36-4e49-8510-77d3e3cd1eb3\"]},\"title\":\"Bokeh Application\",\"version\":\"0.12.13\"}};\n",
       "  var render_items = [{\"docid\":\"11ac1e7b-157d-4dad-aa85-3ff27695bd74\",\"elementid\":\"56d6d31a-6bec-4bd8-8fe7-cf3c307b2cd1\",\"modelid\":\"f38584d4-cf36-4e49-8510-77d3e3cd1eb3\"}];\n",
       "  root.Bokeh.embed.embed_items_notebook(docs_json, render_items);\n",
       "\n",
       "  }\n",
       "  if (root.Bokeh !== undefined) {\n",
       "    embed_document(root);\n",
       "  } else {\n",
       "    var attempts = 0;\n",
       "    var timer = setInterval(function(root) {\n",
       "      if (root.Bokeh !== undefined) {\n",
       "        embed_document(root);\n",
       "        clearInterval(timer);\n",
       "      }\n",
       "      attempts++;\n",
       "      if (attempts > 100) {\n",
       "        console.log(\"Bokeh: ERROR: Unable to run BokehJS code because BokehJS library is missing\")\n",
       "        clearInterval(timer);\n",
       "      }\n",
       "    }, 10, root)\n",
       "  }\n",
       "})(window);"
      ],
      "application/vnd.bokehjs_exec.v0+json": ""
     },
     "metadata": {
      "application/vnd.bokehjs_exec.v0+json": {
       "id": "f38584d4-cf36-4e49-8510-77d3e3cd1eb3"
      }
     },
     "output_type": "display_data"
    }
   ],
   "source": [
    "from bokeh.layouts import gridplot\n",
    "from bokeh.models import ColumnDataSource, CDSView, BooleanFilter\n",
    "\n",
    "x = list(range(-20, 21))\n",
    "y0 = [abs(xx) for xx in x]\n",
    "y1 = [xx**2 for xx in x]\n",
    "\n",
    "# create a column data source for the plots to share\n",
    "source = ColumnDataSource(data=dict(x=x, y0=y0, y1=y1))\n",
    "\n",
    "# create a view of the source for one plot to use\n",
    "view = CDSView(source=source,\n",
    "               filters=[BooleanFilter([True if y > 250 or y < 100 else False for y in y1])])\n",
    "\n",
    "TOOLS = \"box_select,lasso_select,hover,help\"\n",
    "\n",
    "# create a new plot and add a renderer\n",
    "left = figure(tools=TOOLS, plot_width=300, plot_height=300, title=None)\n",
    "left.circle('x', 'y0', size=10, hover_color=\"firebrick\",\n",
    "            source=source)\n",
    "\n",
    "# create another new plot, add a renderer that uses the view of the data source\n",
    "right = figure(tools=TOOLS, plot_width=300, plot_height=300, title=None)\n",
    "right.circle('x', 'y1', size=10, hover_color=\"firebrick\", \n",
    "             source=source,\n",
    "             view=view)\n",
    "\n",
    "p = gridplot([[left, right]])\n",
    "\n",
    "show(p)"
   ]
  }
 ],
 "metadata": {
  "kernelspec": {
   "display_name": "Python 3",
   "language": "python",
   "name": "python3"
  },
  "language_info": {
   "codemirror_mode": {
    "name": "ipython",
    "version": 3
   },
   "file_extension": ".py",
   "mimetype": "text/x-python",
   "name": "python",
   "nbconvert_exporter": "python",
   "pygments_lexer": "ipython3",
   "version": "3.6.4"
  }
 },
 "nbformat": 4,
 "nbformat_minor": 2
}
