{
 "cells": [
  {
   "cell_type": "markdown",
   "metadata": {},
   "source": [
    "# Styling Visual Attributes\n",
    "https://bokeh.pydata.org/en/latest/docs/user_guide/styling.html"
   ]
  },
  {
   "cell_type": "code",
   "execution_count": 1,
   "metadata": {},
   "outputs": [
    {
     "name": "stdout",
     "output_type": "stream",
     "text": [
      "Populating the interactive namespace from numpy and matplotlib\n"
     ]
    },
    {
     "data": {
      "text/html": [
       "\n",
       "    <div class=\"bk-root\">\n",
       "        <a href=\"https://bokeh.pydata.org\" target=\"_blank\" class=\"bk-logo bk-logo-small bk-logo-notebook\"></a>\n",
       "        <span id=\"b07c441a-97b5-43cd-8d5b-0bc31e0143c8\">Loading BokehJS ...</span>\n",
       "    </div>"
      ]
     },
     "metadata": {},
     "output_type": "display_data"
    },
    {
     "data": {
      "application/javascript": [
       "\n",
       "(function(root) {\n",
       "  function now() {\n",
       "    return new Date();\n",
       "  }\n",
       "\n",
       "  var force = true;\n",
       "\n",
       "  if (typeof (root._bokeh_onload_callbacks) === \"undefined\" || force === true) {\n",
       "    root._bokeh_onload_callbacks = [];\n",
       "    root._bokeh_is_loading = undefined;\n",
       "  }\n",
       "\n",
       "  var JS_MIME_TYPE = 'application/javascript';\n",
       "  var HTML_MIME_TYPE = 'text/html';\n",
       "  var EXEC_MIME_TYPE = 'application/vnd.bokehjs_exec.v0+json';\n",
       "  var CLASS_NAME = 'output_bokeh rendered_html';\n",
       "\n",
       "  /**\n",
       "   * Render data to the DOM node\n",
       "   */\n",
       "  function render(props, node) {\n",
       "    var script = document.createElement(\"script\");\n",
       "    node.appendChild(script);\n",
       "  }\n",
       "\n",
       "  /**\n",
       "   * Handle when an output is cleared or removed\n",
       "   */\n",
       "  function handleClearOutput(event, handle) {\n",
       "    var cell = handle.cell;\n",
       "\n",
       "    var id = cell.output_area._bokeh_element_id;\n",
       "    var server_id = cell.output_area._bokeh_server_id;\n",
       "    // Clean up Bokeh references\n",
       "    if (id !== undefined) {\n",
       "      Bokeh.index[id].model.document.clear();\n",
       "      delete Bokeh.index[id];\n",
       "    }\n",
       "\n",
       "    if (server_id !== undefined) {\n",
       "      // Clean up Bokeh references\n",
       "      var cmd = \"from bokeh.io.state import curstate; print(curstate().uuid_to_server['\" + server_id + \"'].get_sessions()[0].document.roots[0]._id)\";\n",
       "      cell.notebook.kernel.execute(cmd, {\n",
       "        iopub: {\n",
       "          output: function(msg) {\n",
       "            var element_id = msg.content.text.trim();\n",
       "            Bokeh.index[element_id].model.document.clear();\n",
       "            delete Bokeh.index[element_id];\n",
       "          }\n",
       "        }\n",
       "      });\n",
       "      // Destroy server and session\n",
       "      var cmd = \"import bokeh.io.notebook as ion; ion.destroy_server('\" + server_id + \"')\";\n",
       "      cell.notebook.kernel.execute(cmd);\n",
       "    }\n",
       "  }\n",
       "\n",
       "  /**\n",
       "   * Handle when a new output is added\n",
       "   */\n",
       "  function handleAddOutput(event, handle) {\n",
       "    var output_area = handle.output_area;\n",
       "    var output = handle.output;\n",
       "\n",
       "    // limit handleAddOutput to display_data with EXEC_MIME_TYPE content only\n",
       "    if ((output.output_type != \"display_data\") || (!output.data.hasOwnProperty(EXEC_MIME_TYPE))) {\n",
       "      return\n",
       "    }\n",
       "\n",
       "    var toinsert = output_area.element.find(\".\" + CLASS_NAME.split(' ')[0]);\n",
       "\n",
       "    if (output.metadata[EXEC_MIME_TYPE][\"id\"] !== undefined) {\n",
       "      toinsert[0].firstChild.textContent = output.data[JS_MIME_TYPE];\n",
       "      // store reference to embed id on output_area\n",
       "      output_area._bokeh_element_id = output.metadata[EXEC_MIME_TYPE][\"id\"];\n",
       "    }\n",
       "    if (output.metadata[EXEC_MIME_TYPE][\"server_id\"] !== undefined) {\n",
       "      var bk_div = document.createElement(\"div\");\n",
       "      bk_div.innerHTML = output.data[HTML_MIME_TYPE];\n",
       "      var script_attrs = bk_div.children[0].attributes;\n",
       "      for (var i = 0; i < script_attrs.length; i++) {\n",
       "        toinsert[0].firstChild.setAttribute(script_attrs[i].name, script_attrs[i].value);\n",
       "      }\n",
       "      // store reference to server id on output_area\n",
       "      output_area._bokeh_server_id = output.metadata[EXEC_MIME_TYPE][\"server_id\"];\n",
       "    }\n",
       "  }\n",
       "\n",
       "  function register_renderer(events, OutputArea) {\n",
       "\n",
       "    function append_mime(data, metadata, element) {\n",
       "      // create a DOM node to render to\n",
       "      var toinsert = this.create_output_subarea(\n",
       "        metadata,\n",
       "        CLASS_NAME,\n",
       "        EXEC_MIME_TYPE\n",
       "      );\n",
       "      this.keyboard_manager.register_events(toinsert);\n",
       "      // Render to node\n",
       "      var props = {data: data, metadata: metadata[EXEC_MIME_TYPE]};\n",
       "      render(props, toinsert[0]);\n",
       "      element.append(toinsert);\n",
       "      return toinsert\n",
       "    }\n",
       "\n",
       "    /* Handle when an output is cleared or removed */\n",
       "    events.on('clear_output.CodeCell', handleClearOutput);\n",
       "    events.on('delete.Cell', handleClearOutput);\n",
       "\n",
       "    /* Handle when a new output is added */\n",
       "    events.on('output_added.OutputArea', handleAddOutput);\n",
       "\n",
       "    /**\n",
       "     * Register the mime type and append_mime function with output_area\n",
       "     */\n",
       "    OutputArea.prototype.register_mime_type(EXEC_MIME_TYPE, append_mime, {\n",
       "      /* Is output safe? */\n",
       "      safe: true,\n",
       "      /* Index of renderer in `output_area.display_order` */\n",
       "      index: 0\n",
       "    });\n",
       "  }\n",
       "\n",
       "  // register the mime type if in Jupyter Notebook environment and previously unregistered\n",
       "  if (root.Jupyter !== undefined) {\n",
       "    var events = require('base/js/events');\n",
       "    var OutputArea = require('notebook/js/outputarea').OutputArea;\n",
       "\n",
       "    if (OutputArea.prototype.mime_types().indexOf(EXEC_MIME_TYPE) == -1) {\n",
       "      register_renderer(events, OutputArea);\n",
       "    }\n",
       "  }\n",
       "\n",
       "  \n",
       "  if (typeof (root._bokeh_timeout) === \"undefined\" || force === true) {\n",
       "    root._bokeh_timeout = Date.now() + 5000;\n",
       "    root._bokeh_failed_load = false;\n",
       "  }\n",
       "\n",
       "  var NB_LOAD_WARNING = {'data': {'text/html':\n",
       "     \"<div style='background-color: #fdd'>\\n\"+\n",
       "     \"<p>\\n\"+\n",
       "     \"BokehJS does not appear to have successfully loaded. If loading BokehJS from CDN, this \\n\"+\n",
       "     \"may be due to a slow or bad network connection. Possible fixes:\\n\"+\n",
       "     \"</p>\\n\"+\n",
       "     \"<ul>\\n\"+\n",
       "     \"<li>re-rerun `output_notebook()` to attempt to load from CDN again, or</li>\\n\"+\n",
       "     \"<li>use INLINE resources instead, as so:</li>\\n\"+\n",
       "     \"</ul>\\n\"+\n",
       "     \"<code>\\n\"+\n",
       "     \"from bokeh.resources import INLINE\\n\"+\n",
       "     \"output_notebook(resources=INLINE)\\n\"+\n",
       "     \"</code>\\n\"+\n",
       "     \"</div>\"}};\n",
       "\n",
       "  function display_loaded() {\n",
       "    var el = document.getElementById(\"b07c441a-97b5-43cd-8d5b-0bc31e0143c8\");\n",
       "    if (el != null) {\n",
       "      el.textContent = \"BokehJS is loading...\";\n",
       "    }\n",
       "    if (root.Bokeh !== undefined) {\n",
       "      if (el != null) {\n",
       "        el.textContent = \"BokehJS \" + root.Bokeh.version + \" successfully loaded.\";\n",
       "      }\n",
       "    } else if (Date.now() < root._bokeh_timeout) {\n",
       "      setTimeout(display_loaded, 100)\n",
       "    }\n",
       "  }\n",
       "\n",
       "\n",
       "  function run_callbacks() {\n",
       "    try {\n",
       "      root._bokeh_onload_callbacks.forEach(function(callback) { callback() });\n",
       "    }\n",
       "    finally {\n",
       "      delete root._bokeh_onload_callbacks\n",
       "    }\n",
       "    console.info(\"Bokeh: all callbacks have finished\");\n",
       "  }\n",
       "\n",
       "  function load_libs(js_urls, callback) {\n",
       "    root._bokeh_onload_callbacks.push(callback);\n",
       "    if (root._bokeh_is_loading > 0) {\n",
       "      console.log(\"Bokeh: BokehJS is being loaded, scheduling callback at\", now());\n",
       "      return null;\n",
       "    }\n",
       "    if (js_urls == null || js_urls.length === 0) {\n",
       "      run_callbacks();\n",
       "      return null;\n",
       "    }\n",
       "    console.log(\"Bokeh: BokehJS not loaded, scheduling load and callback at\", now());\n",
       "    root._bokeh_is_loading = js_urls.length;\n",
       "    for (var i = 0; i < js_urls.length; i++) {\n",
       "      var url = js_urls[i];\n",
       "      var s = document.createElement('script');\n",
       "      s.src = url;\n",
       "      s.async = false;\n",
       "      s.onreadystatechange = s.onload = function() {\n",
       "        root._bokeh_is_loading--;\n",
       "        if (root._bokeh_is_loading === 0) {\n",
       "          console.log(\"Bokeh: all BokehJS libraries loaded\");\n",
       "          run_callbacks()\n",
       "        }\n",
       "      };\n",
       "      s.onerror = function() {\n",
       "        console.warn(\"failed to load library \" + url);\n",
       "      };\n",
       "      console.log(\"Bokeh: injecting script tag for BokehJS library: \", url);\n",
       "      document.getElementsByTagName(\"head\")[0].appendChild(s);\n",
       "    }\n",
       "  };var element = document.getElementById(\"b07c441a-97b5-43cd-8d5b-0bc31e0143c8\");\n",
       "  if (element == null) {\n",
       "    console.log(\"Bokeh: ERROR: autoload.js configured with elementid 'b07c441a-97b5-43cd-8d5b-0bc31e0143c8' but no matching script tag was found. \")\n",
       "    return false;\n",
       "  }\n",
       "\n",
       "  var js_urls = [\"https://cdn.pydata.org/bokeh/release/bokeh-0.12.13.min.js\", \"https://cdn.pydata.org/bokeh/release/bokeh-widgets-0.12.13.min.js\", \"https://cdn.pydata.org/bokeh/release/bokeh-tables-0.12.13.min.js\", \"https://cdn.pydata.org/bokeh/release/bokeh-gl-0.12.13.min.js\"];\n",
       "\n",
       "  var inline_js = [\n",
       "    function(Bokeh) {\n",
       "      Bokeh.set_log_level(\"info\");\n",
       "    },\n",
       "    \n",
       "    function(Bokeh) {\n",
       "      \n",
       "    },\n",
       "    function(Bokeh) {\n",
       "      console.log(\"Bokeh: injecting CSS: https://cdn.pydata.org/bokeh/release/bokeh-0.12.13.min.css\");\n",
       "      Bokeh.embed.inject_css(\"https://cdn.pydata.org/bokeh/release/bokeh-0.12.13.min.css\");\n",
       "      console.log(\"Bokeh: injecting CSS: https://cdn.pydata.org/bokeh/release/bokeh-widgets-0.12.13.min.css\");\n",
       "      Bokeh.embed.inject_css(\"https://cdn.pydata.org/bokeh/release/bokeh-widgets-0.12.13.min.css\");\n",
       "      console.log(\"Bokeh: injecting CSS: https://cdn.pydata.org/bokeh/release/bokeh-tables-0.12.13.min.css\");\n",
       "      Bokeh.embed.inject_css(\"https://cdn.pydata.org/bokeh/release/bokeh-tables-0.12.13.min.css\");\n",
       "    }\n",
       "  ];\n",
       "\n",
       "  function run_inline_js() {\n",
       "    \n",
       "    if ((root.Bokeh !== undefined) || (force === true)) {\n",
       "      for (var i = 0; i < inline_js.length; i++) {\n",
       "        inline_js[i].call(root, root.Bokeh);\n",
       "      }if (force === true) {\n",
       "        display_loaded();\n",
       "      }} else if (Date.now() < root._bokeh_timeout) {\n",
       "      setTimeout(run_inline_js, 100);\n",
       "    } else if (!root._bokeh_failed_load) {\n",
       "      console.log(\"Bokeh: BokehJS failed to load within specified timeout.\");\n",
       "      root._bokeh_failed_load = true;\n",
       "    } else if (force !== true) {\n",
       "      var cell = $(document.getElementById(\"b07c441a-97b5-43cd-8d5b-0bc31e0143c8\")).parents('.cell').data().cell;\n",
       "      cell.output_area.append_execute_result(NB_LOAD_WARNING)\n",
       "    }\n",
       "\n",
       "  }\n",
       "\n",
       "  if (root._bokeh_is_loading === 0) {\n",
       "    console.log(\"Bokeh: BokehJS loaded, going straight to plotting\");\n",
       "    run_inline_js();\n",
       "  } else {\n",
       "    load_libs(js_urls, function() {\n",
       "      console.log(\"Bokeh: BokehJS plotting callback run at\", now());\n",
       "      run_inline_js();\n",
       "    });\n",
       "  }\n",
       "}(window));"
      ],
      "application/vnd.bokehjs_load.v0+json": "\n(function(root) {\n  function now() {\n    return new Date();\n  }\n\n  var force = true;\n\n  if (typeof (root._bokeh_onload_callbacks) === \"undefined\" || force === true) {\n    root._bokeh_onload_callbacks = [];\n    root._bokeh_is_loading = undefined;\n  }\n\n  \n\n  \n  if (typeof (root._bokeh_timeout) === \"undefined\" || force === true) {\n    root._bokeh_timeout = Date.now() + 5000;\n    root._bokeh_failed_load = false;\n  }\n\n  var NB_LOAD_WARNING = {'data': {'text/html':\n     \"<div style='background-color: #fdd'>\\n\"+\n     \"<p>\\n\"+\n     \"BokehJS does not appear to have successfully loaded. If loading BokehJS from CDN, this \\n\"+\n     \"may be due to a slow or bad network connection. Possible fixes:\\n\"+\n     \"</p>\\n\"+\n     \"<ul>\\n\"+\n     \"<li>re-rerun `output_notebook()` to attempt to load from CDN again, or</li>\\n\"+\n     \"<li>use INLINE resources instead, as so:</li>\\n\"+\n     \"</ul>\\n\"+\n     \"<code>\\n\"+\n     \"from bokeh.resources import INLINE\\n\"+\n     \"output_notebook(resources=INLINE)\\n\"+\n     \"</code>\\n\"+\n     \"</div>\"}};\n\n  function display_loaded() {\n    var el = document.getElementById(\"b07c441a-97b5-43cd-8d5b-0bc31e0143c8\");\n    if (el != null) {\n      el.textContent = \"BokehJS is loading...\";\n    }\n    if (root.Bokeh !== undefined) {\n      if (el != null) {\n        el.textContent = \"BokehJS \" + root.Bokeh.version + \" successfully loaded.\";\n      }\n    } else if (Date.now() < root._bokeh_timeout) {\n      setTimeout(display_loaded, 100)\n    }\n  }\n\n\n  function run_callbacks() {\n    try {\n      root._bokeh_onload_callbacks.forEach(function(callback) { callback() });\n    }\n    finally {\n      delete root._bokeh_onload_callbacks\n    }\n    console.info(\"Bokeh: all callbacks have finished\");\n  }\n\n  function load_libs(js_urls, callback) {\n    root._bokeh_onload_callbacks.push(callback);\n    if (root._bokeh_is_loading > 0) {\n      console.log(\"Bokeh: BokehJS is being loaded, scheduling callback at\", now());\n      return null;\n    }\n    if (js_urls == null || js_urls.length === 0) {\n      run_callbacks();\n      return null;\n    }\n    console.log(\"Bokeh: BokehJS not loaded, scheduling load and callback at\", now());\n    root._bokeh_is_loading = js_urls.length;\n    for (var i = 0; i < js_urls.length; i++) {\n      var url = js_urls[i];\n      var s = document.createElement('script');\n      s.src = url;\n      s.async = false;\n      s.onreadystatechange = s.onload = function() {\n        root._bokeh_is_loading--;\n        if (root._bokeh_is_loading === 0) {\n          console.log(\"Bokeh: all BokehJS libraries loaded\");\n          run_callbacks()\n        }\n      };\n      s.onerror = function() {\n        console.warn(\"failed to load library \" + url);\n      };\n      console.log(\"Bokeh: injecting script tag for BokehJS library: \", url);\n      document.getElementsByTagName(\"head\")[0].appendChild(s);\n    }\n  };var element = document.getElementById(\"b07c441a-97b5-43cd-8d5b-0bc31e0143c8\");\n  if (element == null) {\n    console.log(\"Bokeh: ERROR: autoload.js configured with elementid 'b07c441a-97b5-43cd-8d5b-0bc31e0143c8' but no matching script tag was found. \")\n    return false;\n  }\n\n  var js_urls = [\"https://cdn.pydata.org/bokeh/release/bokeh-0.12.13.min.js\", \"https://cdn.pydata.org/bokeh/release/bokeh-widgets-0.12.13.min.js\", \"https://cdn.pydata.org/bokeh/release/bokeh-tables-0.12.13.min.js\", \"https://cdn.pydata.org/bokeh/release/bokeh-gl-0.12.13.min.js\"];\n\n  var inline_js = [\n    function(Bokeh) {\n      Bokeh.set_log_level(\"info\");\n    },\n    \n    function(Bokeh) {\n      \n    },\n    function(Bokeh) {\n      console.log(\"Bokeh: injecting CSS: https://cdn.pydata.org/bokeh/release/bokeh-0.12.13.min.css\");\n      Bokeh.embed.inject_css(\"https://cdn.pydata.org/bokeh/release/bokeh-0.12.13.min.css\");\n      console.log(\"Bokeh: injecting CSS: https://cdn.pydata.org/bokeh/release/bokeh-widgets-0.12.13.min.css\");\n      Bokeh.embed.inject_css(\"https://cdn.pydata.org/bokeh/release/bokeh-widgets-0.12.13.min.css\");\n      console.log(\"Bokeh: injecting CSS: https://cdn.pydata.org/bokeh/release/bokeh-tables-0.12.13.min.css\");\n      Bokeh.embed.inject_css(\"https://cdn.pydata.org/bokeh/release/bokeh-tables-0.12.13.min.css\");\n    }\n  ];\n\n  function run_inline_js() {\n    \n    if ((root.Bokeh !== undefined) || (force === true)) {\n      for (var i = 0; i < inline_js.length; i++) {\n        inline_js[i].call(root, root.Bokeh);\n      }if (force === true) {\n        display_loaded();\n      }} else if (Date.now() < root._bokeh_timeout) {\n      setTimeout(run_inline_js, 100);\n    } else if (!root._bokeh_failed_load) {\n      console.log(\"Bokeh: BokehJS failed to load within specified timeout.\");\n      root._bokeh_failed_load = true;\n    } else if (force !== true) {\n      var cell = $(document.getElementById(\"b07c441a-97b5-43cd-8d5b-0bc31e0143c8\")).parents('.cell').data().cell;\n      cell.output_area.append_execute_result(NB_LOAD_WARNING)\n    }\n\n  }\n\n  if (root._bokeh_is_loading === 0) {\n    console.log(\"Bokeh: BokehJS loaded, going straight to plotting\");\n    run_inline_js();\n  } else {\n    load_libs(js_urls, function() {\n      console.log(\"Bokeh: BokehJS plotting callback run at\", now());\n      run_inline_js();\n    });\n  }\n}(window));"
     },
     "metadata": {},
     "output_type": "display_data"
    }
   ],
   "source": [
    "%pylab inline\n",
    "import bokeh\n",
    "from bokeh.plotting import figure, show #, output_file\n",
    "from bokeh.io import output_notebook\n",
    "\n",
    "output_notebook()"
   ]
  },
  {
   "cell_type": "code",
   "execution_count": 2,
   "metadata": {},
   "outputs": [],
   "source": [
    "p = figure(width=360, height=360, \n",
    "           output_backend=\"webgl\")"
   ]
  },
  {
   "cell_type": "code",
   "execution_count": 3,
   "metadata": {},
   "outputs": [
    {
     "data": {
      "text/plain": [
       "['#3288bd', '#99d594', '#e6f598', '#fee08b', '#fc8d59', '#d53e4f']"
      ]
     },
     "execution_count": 3,
     "metadata": {},
     "output_type": "execute_result"
    }
   ],
   "source": [
    "from bokeh.palettes import Spectral6\n",
    "Spectral6"
   ]
  },
  {
   "cell_type": "markdown",
   "metadata": {},
   "source": [
    "### Visible property"
   ]
  },
  {
   "cell_type": "code",
   "execution_count": 11,
   "metadata": {},
   "outputs": [
    {
     "data": {
      "text/html": [
       "\n",
       "<div class=\"bk-root\">\n",
       "    <div class=\"bk-plotdiv\" id=\"9f3336c7-1f97-4f85-85e0-85b6b4a638d2\"></div>\n",
       "</div>"
      ]
     },
     "metadata": {},
     "output_type": "display_data"
    },
    {
     "data": {
      "application/javascript": [
       "(function(root) {\n",
       "  function embed_document(root) {\n",
       "    \n",
       "  var docs_json = {\"6146c82f-aaab-4bb8-a097-8705344e2a1c\":{\"roots\":{\"references\":[{\"attributes\":{\"line_color\":\"blue\",\"x\":{\"field\":\"x\"},\"y\":{\"field\":\"y\"}},\"id\":\"15ae0e6d-96eb-471c-b2f8-57580a19b186\",\"type\":\"Line\"},{\"attributes\":{},\"id\":\"982ee626-95d2-4517-8989-b6992d98e664\",\"type\":\"LinearScale\"},{\"attributes\":{},\"id\":\"cbcae29f-6fca-4839-a7a0-e96ab413a7fd\",\"type\":\"LinearScale\"},{\"attributes\":{\"data_source\":{\"id\":\"23edd5dc-da33-43a1-917b-6d8919cd12c3\",\"type\":\"ColumnDataSource\"},\"glyph\":{\"id\":\"15ae0e6d-96eb-471c-b2f8-57580a19b186\",\"type\":\"Line\"},\"hover_glyph\":null,\"muted_glyph\":null,\"nonselection_glyph\":{\"id\":\"a5c32268-19ef-4a0e-ac8e-977f9847466d\",\"type\":\"Line\"},\"selection_glyph\":null,\"view\":{\"id\":\"eda4b719-39a0-4046-a252-4a8206ebd194\",\"type\":\"CDSView\"}},\"id\":\"a3ed29a5-2494-4c61-a651-03c54ce90922\",\"type\":\"GlyphRenderer\"},{\"attributes\":{\"callback\":null},\"id\":\"d382d728-348d-40d0-acdc-d69056da8b7a\",\"type\":\"DataRange1d\"},{\"attributes\":{\"data_source\":{\"id\":\"bf7db636-2e86-41c7-a9b9-e2e7cc922ff8\",\"type\":\"ColumnDataSource\"},\"glyph\":{\"id\":\"14e2c400-a5c3-4375-a205-26eb838da59d\",\"type\":\"Line\"},\"hover_glyph\":null,\"muted_glyph\":null,\"nonselection_glyph\":{\"id\":\"469668e5-620b-4b36-8f56-22c704dbc274\",\"type\":\"Line\"},\"selection_glyph\":null,\"view\":{\"id\":\"4c94977c-1c0c-48c1-8c19-60f8aac7ddc7\",\"type\":\"CDSView\"},\"visible\":false},\"id\":\"f594d76e-bb0b-4abc-a52d-db2e8757e10d\",\"type\":\"GlyphRenderer\"},{\"attributes\":{\"callback\":null},\"id\":\"e6c9c5be-b846-48a7-a9dc-4d9aa3b7af20\",\"type\":\"DataRange1d\"},{\"attributes\":{\"active_drag\":\"auto\",\"active_inspect\":\"auto\",\"active_scroll\":\"auto\",\"active_tap\":\"auto\"},\"id\":\"e2432630-55ff-4e7b-abb6-b00fc196affe\",\"type\":\"Toolbar\"},{\"attributes\":{\"callback\":null,\"column_names\":[\"x\",\"y\"],\"data\":{\"x\":[1,2,3],\"y\":[2,1,2]}},\"id\":\"bf7db636-2e86-41c7-a9b9-e2e7cc922ff8\",\"type\":\"ColumnDataSource\"},{\"attributes\":{\"callback\":null,\"column_names\":[\"x\",\"y\"],\"data\":{\"x\":[1,2,3],\"y\":[1,2,1]}},\"id\":\"23edd5dc-da33-43a1-917b-6d8919cd12c3\",\"type\":\"ColumnDataSource\"},{\"attributes\":{\"source\":{\"id\":\"23edd5dc-da33-43a1-917b-6d8919cd12c3\",\"type\":\"ColumnDataSource\"}},\"id\":\"eda4b719-39a0-4046-a252-4a8206ebd194\",\"type\":\"CDSView\"},{\"attributes\":{\"below\":[{\"id\":\"6d4e87ef-a2ce-4e69-86b3-92420bd05af5\",\"type\":\"LinearAxis\"}],\"left\":[{\"id\":\"6108f7a8-a01e-4ccf-a008-c3629a0b8ad5\",\"type\":\"LinearAxis\"}],\"plot_height\":200,\"plot_width\":500,\"renderers\":[{\"id\":\"6d4e87ef-a2ce-4e69-86b3-92420bd05af5\",\"type\":\"LinearAxis\"},{\"id\":\"0686aa25-e9fc-4537-8289-e19a483290fb\",\"type\":\"Grid\"},{\"id\":\"6108f7a8-a01e-4ccf-a008-c3629a0b8ad5\",\"type\":\"LinearAxis\"},{\"id\":\"2252a417-324b-4161-bf4a-00511cd978e0\",\"type\":\"Grid\"},{\"id\":\"a3ed29a5-2494-4c61-a651-03c54ce90922\",\"type\":\"GlyphRenderer\"},{\"id\":\"f594d76e-bb0b-4abc-a52d-db2e8757e10d\",\"type\":\"GlyphRenderer\"}],\"title\":{\"id\":\"21fb156c-9198-44fc-9755-d0cf0df0abbb\",\"type\":\"Title\"},\"toolbar\":{\"id\":\"e2432630-55ff-4e7b-abb6-b00fc196affe\",\"type\":\"Toolbar\"},\"x_range\":{\"id\":\"e6c9c5be-b846-48a7-a9dc-4d9aa3b7af20\",\"type\":\"DataRange1d\"},\"x_scale\":{\"id\":\"cbcae29f-6fca-4839-a7a0-e96ab413a7fd\",\"type\":\"LinearScale\"},\"y_range\":{\"id\":\"d382d728-348d-40d0-acdc-d69056da8b7a\",\"type\":\"DataRange1d\"},\"y_scale\":{\"id\":\"982ee626-95d2-4517-8989-b6992d98e664\",\"type\":\"LinearScale\"}},\"id\":\"03be23c8-9331-4717-9139-fd4be834e2fa\",\"subtype\":\"Figure\",\"type\":\"Plot\"},{\"attributes\":{},\"id\":\"ea651546-370f-423b-95ed-e8e8c53df839\",\"type\":\"BasicTickFormatter\"},{\"attributes\":{\"plot\":null,\"text\":\"\"},\"id\":\"21fb156c-9198-44fc-9755-d0cf0df0abbb\",\"type\":\"Title\"},{\"attributes\":{\"line_alpha\":0.1,\"line_color\":\"#1f77b4\",\"x\":{\"field\":\"x\"},\"y\":{\"field\":\"y\"}},\"id\":\"a5c32268-19ef-4a0e-ac8e-977f9847466d\",\"type\":\"Line\"},{\"attributes\":{},\"id\":\"770d7d0d-513f-438b-bfde-c3e29f89ae06\",\"type\":\"BasicTickFormatter\"},{\"attributes\":{},\"id\":\"c05c2349-d1dc-4466-b940-e55dc2974606\",\"type\":\"BasicTicker\"},{\"attributes\":{\"formatter\":{\"id\":\"ea651546-370f-423b-95ed-e8e8c53df839\",\"type\":\"BasicTickFormatter\"},\"plot\":{\"id\":\"03be23c8-9331-4717-9139-fd4be834e2fa\",\"subtype\":\"Figure\",\"type\":\"Plot\"},\"ticker\":{\"id\":\"b4b71f27-140c-4f2e-8865-a9c0f10c86f7\",\"type\":\"BasicTicker\"}},\"id\":\"6108f7a8-a01e-4ccf-a008-c3629a0b8ad5\",\"type\":\"LinearAxis\"},{\"attributes\":{\"line_alpha\":0.1,\"line_color\":\"#1f77b4\",\"x\":{\"field\":\"x\"},\"y\":{\"field\":\"y\"}},\"id\":\"469668e5-620b-4b36-8f56-22c704dbc274\",\"type\":\"Line\"},{\"attributes\":{},\"id\":\"b4b71f27-140c-4f2e-8865-a9c0f10c86f7\",\"type\":\"BasicTicker\"},{\"attributes\":{\"line_color\":\"pink\",\"x\":{\"field\":\"x\"},\"y\":{\"field\":\"y\"}},\"id\":\"14e2c400-a5c3-4375-a205-26eb838da59d\",\"type\":\"Line\"},{\"attributes\":{\"dimension\":1,\"plot\":{\"id\":\"03be23c8-9331-4717-9139-fd4be834e2fa\",\"subtype\":\"Figure\",\"type\":\"Plot\"},\"ticker\":{\"id\":\"b4b71f27-140c-4f2e-8865-a9c0f10c86f7\",\"type\":\"BasicTicker\"}},\"id\":\"2252a417-324b-4161-bf4a-00511cd978e0\",\"type\":\"Grid\"},{\"attributes\":{\"source\":{\"id\":\"bf7db636-2e86-41c7-a9b9-e2e7cc922ff8\",\"type\":\"ColumnDataSource\"}},\"id\":\"4c94977c-1c0c-48c1-8c19-60f8aac7ddc7\",\"type\":\"CDSView\"},{\"attributes\":{\"formatter\":{\"id\":\"770d7d0d-513f-438b-bfde-c3e29f89ae06\",\"type\":\"BasicTickFormatter\"},\"plot\":{\"id\":\"03be23c8-9331-4717-9139-fd4be834e2fa\",\"subtype\":\"Figure\",\"type\":\"Plot\"},\"ticker\":{\"id\":\"c05c2349-d1dc-4466-b940-e55dc2974606\",\"type\":\"BasicTicker\"},\"visible\":false},\"id\":\"6d4e87ef-a2ce-4e69-86b3-92420bd05af5\",\"type\":\"LinearAxis\"},{\"attributes\":{\"plot\":{\"id\":\"03be23c8-9331-4717-9139-fd4be834e2fa\",\"subtype\":\"Figure\",\"type\":\"Plot\"},\"ticker\":{\"id\":\"c05c2349-d1dc-4466-b940-e55dc2974606\",\"type\":\"BasicTicker\"},\"visible\":false},\"id\":\"0686aa25-e9fc-4537-8289-e19a483290fb\",\"type\":\"Grid\"}],\"root_ids\":[\"03be23c8-9331-4717-9139-fd4be834e2fa\"]},\"title\":\"Bokeh Application\",\"version\":\"0.12.13\"}};\n",
       "  var render_items = [{\"docid\":\"6146c82f-aaab-4bb8-a097-8705344e2a1c\",\"elementid\":\"9f3336c7-1f97-4f85-85e0-85b6b4a638d2\",\"modelid\":\"03be23c8-9331-4717-9139-fd4be834e2fa\"}];\n",
       "  root.Bokeh.embed.embed_items_notebook(docs_json, render_items);\n",
       "\n",
       "  }\n",
       "  if (root.Bokeh !== undefined) {\n",
       "    embed_document(root);\n",
       "  } else {\n",
       "    var attempts = 0;\n",
       "    var timer = setInterval(function(root) {\n",
       "      if (root.Bokeh !== undefined) {\n",
       "        embed_document(root);\n",
       "        clearInterval(timer);\n",
       "      }\n",
       "      attempts++;\n",
       "      if (attempts > 100) {\n",
       "        console.log(\"Bokeh: ERROR: Unable to run BokehJS code because BokehJS library is missing\")\n",
       "        clearInterval(timer);\n",
       "      }\n",
       "    }, 10, root)\n",
       "  }\n",
       "})(window);"
      ],
      "application/vnd.bokehjs_exec.v0+json": ""
     },
     "metadata": {
      "application/vnd.bokehjs_exec.v0+json": {
       "id": "03be23c8-9331-4717-9139-fd4be834e2fa"
      }
     },
     "output_type": "display_data"
    }
   ],
   "source": [
    "# We set-up a standard figure with two lines\n",
    "p = figure(plot_width=500, plot_height=200, tools='')\n",
    "visible_line = p.line([1, 2, 3], [1, 2, 1], line_color=\"blue\")\n",
    "invisible_line = p.line([1, 2, 3], [2, 1, 2], line_color=\"pink\")\n",
    "\n",
    "# We hide the xaxis, the xgrid lines, and the pink line\n",
    "invisible_line.visible = False\n",
    "p.xaxis.visible = False\n",
    "p.xgrid.visible = False\n",
    "\n",
    "show(p)"
   ]
  },
  {
   "cell_type": "code",
   "execution_count": 13,
   "metadata": {},
   "outputs": [
    {
     "ename": "RuntimeError",
     "evalue": "node.js v6.10.0 or higher is needed to allow compilation of custom models (\"conda install nodejs\" or follow https://nodejs.org/en/download/)",
     "output_type": "error",
     "traceback": [
      "\u001b[1;31m---------------------------------------------------------------------------\u001b[0m",
      "\u001b[1;31mRuntimeError\u001b[0m                              Traceback (most recent call last)",
      "\u001b[1;32m<ipython-input-13-df415a1788b6>\u001b[0m in \u001b[0;36m<module>\u001b[1;34m()\u001b[0m\n\u001b[0;32m     14\u001b[0m '''\n\u001b[0;32m     15\u001b[0m \u001b[1;33m\u001b[0m\u001b[0m\n\u001b[1;32m---> 16\u001b[1;33m \u001b[0mcallback1\u001b[0m \u001b[1;33m=\u001b[0m \u001b[0mCustomJS\u001b[0m\u001b[1;33m.\u001b[0m\u001b[0mfrom_coffeescript\u001b[0m\u001b[1;33m(\u001b[0m\u001b[0mcode\u001b[0m\u001b[1;33m=\u001b[0m\u001b[0mcode\u001b[0m\u001b[1;33m,\u001b[0m \u001b[0margs\u001b[0m\u001b[1;33m=\u001b[0m\u001b[1;33m{\u001b[0m\u001b[1;33m}\u001b[0m\u001b[1;33m)\u001b[0m\u001b[1;33m\u001b[0m\u001b[0m\n\u001b[0m\u001b[0;32m     17\u001b[0m \u001b[0mtoggle1\u001b[0m \u001b[1;33m=\u001b[0m \u001b[0mToggle\u001b[0m\u001b[1;33m(\u001b[0m\u001b[0mlabel\u001b[0m\u001b[1;33m=\u001b[0m\u001b[1;34m\"Green Box\"\u001b[0m\u001b[1;33m,\u001b[0m \u001b[0mbutton_type\u001b[0m\u001b[1;33m=\u001b[0m\u001b[1;34m\"success\"\u001b[0m\u001b[1;33m,\u001b[0m \u001b[0mcallback\u001b[0m\u001b[1;33m=\u001b[0m\u001b[0mcallback1\u001b[0m\u001b[1;33m)\u001b[0m\u001b[1;33m\u001b[0m\u001b[0m\n\u001b[0;32m     18\u001b[0m \u001b[0mcallback1\u001b[0m\u001b[1;33m.\u001b[0m\u001b[0margs\u001b[0m \u001b[1;33m=\u001b[0m \u001b[1;33m{\u001b[0m\u001b[1;34m'toggle'\u001b[0m\u001b[1;33m:\u001b[0m \u001b[0mtoggle1\u001b[0m\u001b[1;33m,\u001b[0m \u001b[1;34m'object'\u001b[0m\u001b[1;33m:\u001b[0m \u001b[0mbox\u001b[0m\u001b[1;33m}\u001b[0m\u001b[1;33m\u001b[0m\u001b[0m\n",
      "\u001b[1;32mC:\\Softwares\\Python\\lib\\site-packages\\bokeh\\models\\callbacks.py\u001b[0m in \u001b[0;36mfrom_coffeescript\u001b[1;34m(cls, code, args)\u001b[0m\n\u001b[0;32m     66\u001b[0m \u001b[1;33m\u001b[0m\u001b[0m\n\u001b[0;32m     67\u001b[0m         '''\n\u001b[1;32m---> 68\u001b[1;33m         \u001b[0mcompiled\u001b[0m \u001b[1;33m=\u001b[0m \u001b[0mnodejs_compile\u001b[0m\u001b[1;33m(\u001b[0m\u001b[0mcode\u001b[0m\u001b[1;33m,\u001b[0m \u001b[0mlang\u001b[0m\u001b[1;33m=\u001b[0m\u001b[1;34m\"coffeescript\"\u001b[0m\u001b[1;33m,\u001b[0m \u001b[0mfile\u001b[0m\u001b[1;33m=\u001b[0m\u001b[1;34m\"???\"\u001b[0m\u001b[1;33m)\u001b[0m\u001b[1;33m\u001b[0m\u001b[0m\n\u001b[0m\u001b[0;32m     69\u001b[0m         \u001b[1;32mif\u001b[0m \u001b[1;34m\"error\"\u001b[0m \u001b[1;32min\u001b[0m \u001b[0mcompiled\u001b[0m\u001b[1;33m:\u001b[0m\u001b[1;33m\u001b[0m\u001b[0m\n\u001b[0;32m     70\u001b[0m             \u001b[1;32mraise\u001b[0m \u001b[0mCompilationError\u001b[0m\u001b[1;33m(\u001b[0m\u001b[0mcompiled\u001b[0m\u001b[1;33m.\u001b[0m\u001b[0merror\u001b[0m\u001b[1;33m)\u001b[0m\u001b[1;33m\u001b[0m\u001b[0m\n",
      "\u001b[1;32mC:\\Softwares\\Python\\lib\\site-packages\\bokeh\\util\\compiler.py\u001b[0m in \u001b[0;36mnodejs_compile\u001b[1;34m(code, lang, file)\u001b[0m\n\u001b[0;32m    188\u001b[0m \u001b[1;32mdef\u001b[0m \u001b[0mnodejs_compile\u001b[0m\u001b[1;33m(\u001b[0m\u001b[0mcode\u001b[0m\u001b[1;33m,\u001b[0m \u001b[0mlang\u001b[0m\u001b[1;33m=\u001b[0m\u001b[1;34m\"javascript\"\u001b[0m\u001b[1;33m,\u001b[0m \u001b[0mfile\u001b[0m\u001b[1;33m=\u001b[0m\u001b[1;32mNone\u001b[0m\u001b[1;33m)\u001b[0m\u001b[1;33m:\u001b[0m\u001b[1;33m\u001b[0m\u001b[0m\n\u001b[0;32m    189\u001b[0m     \u001b[0mcompilejs_script\u001b[0m \u001b[1;33m=\u001b[0m \u001b[0mjoin\u001b[0m\u001b[1;33m(\u001b[0m\u001b[0mbokehjs_dir\u001b[0m\u001b[1;33m,\u001b[0m \u001b[1;34m\"js\"\u001b[0m\u001b[1;33m,\u001b[0m \u001b[1;34m\"compiler.js\"\u001b[0m\u001b[1;33m)\u001b[0m\u001b[1;33m\u001b[0m\u001b[0m\n\u001b[1;32m--> 190\u001b[1;33m     \u001b[0moutput\u001b[0m \u001b[1;33m=\u001b[0m \u001b[0m_run_nodejs\u001b[0m\u001b[1;33m(\u001b[0m\u001b[1;33m[\u001b[0m\u001b[0mcompilejs_script\u001b[0m\u001b[1;33m]\u001b[0m\u001b[1;33m,\u001b[0m \u001b[0mdict\u001b[0m\u001b[1;33m(\u001b[0m\u001b[0mcode\u001b[0m\u001b[1;33m=\u001b[0m\u001b[0mcode\u001b[0m\u001b[1;33m,\u001b[0m \u001b[0mlang\u001b[0m\u001b[1;33m=\u001b[0m\u001b[0mlang\u001b[0m\u001b[1;33m,\u001b[0m \u001b[0mfile\u001b[0m\u001b[1;33m=\u001b[0m\u001b[0mfile\u001b[0m\u001b[1;33m)\u001b[0m\u001b[1;33m)\u001b[0m\u001b[1;33m\u001b[0m\u001b[0m\n\u001b[0m\u001b[0;32m    191\u001b[0m     \u001b[1;32mreturn\u001b[0m \u001b[0mAttrDict\u001b[0m\u001b[1;33m(\u001b[0m\u001b[0mjson\u001b[0m\u001b[1;33m.\u001b[0m\u001b[0mloads\u001b[0m\u001b[1;33m(\u001b[0m\u001b[0moutput\u001b[0m\u001b[1;33m)\u001b[0m\u001b[1;33m)\u001b[0m\u001b[1;33m\u001b[0m\u001b[0m\n\u001b[0;32m    192\u001b[0m \u001b[1;33m\u001b[0m\u001b[0m\n",
      "\u001b[1;32mC:\\Softwares\\Python\\lib\\site-packages\\bokeh\\util\\compiler.py\u001b[0m in \u001b[0;36m_run_nodejs\u001b[1;34m(argv, input)\u001b[0m\n\u001b[0;32m    167\u001b[0m \u001b[1;33m\u001b[0m\u001b[0m\n\u001b[0;32m    168\u001b[0m \u001b[1;32mdef\u001b[0m \u001b[0m_run_nodejs\u001b[0m\u001b[1;33m(\u001b[0m\u001b[0margv\u001b[0m\u001b[1;33m,\u001b[0m \u001b[0minput\u001b[0m\u001b[1;33m=\u001b[0m\u001b[1;32mNone\u001b[0m\u001b[1;33m)\u001b[0m\u001b[1;33m:\u001b[0m\u001b[1;33m\u001b[0m\u001b[0m\n\u001b[1;32m--> 169\u001b[1;33m     \u001b[1;32mreturn\u001b[0m \u001b[0m_run\u001b[0m\u001b[1;33m(\u001b[0m\u001b[0m_nodejs_path\u001b[0m\u001b[1;33m(\u001b[0m\u001b[1;33m)\u001b[0m\u001b[1;33m,\u001b[0m \u001b[0margv\u001b[0m\u001b[1;33m,\u001b[0m \u001b[0minput\u001b[0m\u001b[1;33m)\u001b[0m\u001b[1;33m\u001b[0m\u001b[0m\n\u001b[0m\u001b[0;32m    170\u001b[0m \u001b[1;33m\u001b[0m\u001b[0m\n\u001b[0;32m    171\u001b[0m \u001b[1;32mdef\u001b[0m \u001b[0m_run_npmjs\u001b[0m\u001b[1;33m(\u001b[0m\u001b[0margv\u001b[0m\u001b[1;33m,\u001b[0m \u001b[0minput\u001b[0m\u001b[1;33m=\u001b[0m\u001b[1;32mNone\u001b[0m\u001b[1;33m)\u001b[0m\u001b[1;33m:\u001b[0m\u001b[1;33m\u001b[0m\u001b[0m\n",
      "\u001b[1;32mC:\\Softwares\\Python\\lib\\site-packages\\bokeh\\util\\compiler.py\u001b[0m in \u001b[0;36m_nodejs_path\u001b[1;34m()\u001b[0m\n\u001b[0;32m    148\u001b[0m     \u001b[1;32mglobal\u001b[0m \u001b[0m_nodejs\u001b[0m\u001b[1;33m\u001b[0m\u001b[0m\n\u001b[0;32m    149\u001b[0m     \u001b[1;32mif\u001b[0m \u001b[0m_nodejs\u001b[0m \u001b[1;32mis\u001b[0m \u001b[1;32mNone\u001b[0m\u001b[1;33m:\u001b[0m\u001b[1;33m\u001b[0m\u001b[0m\n\u001b[1;32m--> 150\u001b[1;33m         \u001b[0m_nodejs\u001b[0m \u001b[1;33m=\u001b[0m \u001b[0m_detect_nodejs\u001b[0m\u001b[1;33m(\u001b[0m\u001b[1;33m)\u001b[0m\u001b[1;33m\u001b[0m\u001b[0m\n\u001b[0m\u001b[0;32m    151\u001b[0m     \u001b[1;32mreturn\u001b[0m \u001b[0m_nodejs\u001b[0m\u001b[1;33m\u001b[0m\u001b[0m\n\u001b[0;32m    152\u001b[0m \u001b[1;33m\u001b[0m\u001b[0m\n",
      "\u001b[1;32mC:\\Softwares\\Python\\lib\\site-packages\\bokeh\\util\\compiler.py\u001b[0m in \u001b[0;36m_detect_nodejs\u001b[1;34m()\u001b[0m\n\u001b[0;32m    140\u001b[0m     \u001b[0mversion\u001b[0m \u001b[1;33m=\u001b[0m \u001b[1;34m\".\"\u001b[0m\u001b[1;33m.\u001b[0m\u001b[0mjoin\u001b[0m\u001b[1;33m(\u001b[0m\u001b[0mmap\u001b[0m\u001b[1;33m(\u001b[0m\u001b[0mstr\u001b[0m\u001b[1;33m,\u001b[0m \u001b[0mnodejs_min_version\u001b[0m\u001b[1;33m)\u001b[0m\u001b[1;33m)\u001b[0m\u001b[1;33m\u001b[0m\u001b[0m\n\u001b[0;32m    141\u001b[0m     raise RuntimeError('node.js v%s or higher is needed to allow compilation of custom models ' % version +\n\u001b[1;32m--> 142\u001b[1;33m                        '(\"conda install nodejs\" or follow https://nodejs.org/en/download/)')\n\u001b[0m\u001b[0;32m    143\u001b[0m \u001b[1;33m\u001b[0m\u001b[0m\n\u001b[0;32m    144\u001b[0m \u001b[0m_nodejs\u001b[0m \u001b[1;33m=\u001b[0m \u001b[1;32mNone\u001b[0m\u001b[1;33m\u001b[0m\u001b[0m\n",
      "\u001b[1;31mRuntimeError\u001b[0m: node.js v6.10.0 or higher is needed to allow compilation of custom models (\"conda install nodejs\" or follow https://nodejs.org/en/download/)"
     ]
    }
   ],
   "source": [
    "from bokeh.layouts import layout\n",
    "from bokeh.models import Toggle, BoxAnnotation, CustomJS\n",
    "\n",
    "# We set-up the same standard figure with two lines and now a box over top\n",
    "p = figure(plot_width=600, plot_height=200, tools='')\n",
    "visible_line = p.line([1, 2, 3], [1, 2, 1], line_color=\"blue\")\n",
    "invisible_line = p.line([1, 2, 3], [2, 1, 2], line_color=\"pink\")\n",
    "\n",
    "box = BoxAnnotation(left=1.5, right=2.5, fill_color='green', fill_alpha=0.1)\n",
    "p.add_layout(box)\n",
    "\n",
    "# We write coffeescript to link toggle with visible property of box and line\n",
    "code = '''\\\n",
    "object.visible = toggle.active\n",
    "'''\n",
    "\n",
    "callback1 = CustomJS.from_coffeescript(code=code, args={})\n",
    "toggle1 = Toggle(label=\"Green Box\", button_type=\"success\", callback=callback1)\n",
    "callback1.args = {'toggle': toggle1, 'object': box}\n",
    "\n",
    "callback2 = CustomJS.from_coffeescript(code=code, args={})\n",
    "toggle2 = Toggle(label=\"Pink Line\", button_type=\"success\", callback=callback2)\n",
    "callback2.args = {'toggle': toggle2, 'object': invisible_line} \n",
    "\n",
    "show(layout([p], [toggle1, toggle2])) "
   ]
  },
  {
   "cell_type": "markdown",
   "metadata": {},
   "source": [
    "### Plots"
   ]
  },
  {
   "cell_type": "code",
   "execution_count": 16,
   "metadata": {},
   "outputs": [
    {
     "data": {
      "text/html": [
       "\n",
       "<div class=\"bk-root\">\n",
       "    <div class=\"bk-plotdiv\" id=\"9da89034-b032-4fa0-992d-04bcd46194ef\"></div>\n",
       "</div>"
      ]
     },
     "metadata": {},
     "output_type": "display_data"
    },
    {
     "data": {
      "application/javascript": [
       "(function(root) {\n",
       "  function embed_document(root) {\n",
       "    \n",
       "  var docs_json = {\"a7a8031f-6773-4504-8a90-8e53898450d5\":{\"roots\":{\"references\":[{\"attributes\":{},\"id\":\"c84bb239-ca0a-4fd6-8978-ac9f92a8c76b\",\"type\":\"BasicTickFormatter\"},{\"attributes\":{\"plot\":{\"id\":\"5f045991-1cf9-4c17-ba30-4989e609660a\",\"subtype\":\"Figure\",\"type\":\"Plot\"},\"ticker\":{\"id\":\"193dccb9-8753-4387-9ffa-4d2dfd4a851e\",\"type\":\"BasicTicker\"}},\"id\":\"816d52ee-648a-4384-a495-7d696357841c\",\"type\":\"Grid\"},{\"attributes\":{\"callback\":null,\"column_names\":[\"x\",\"y\"],\"data\":{\"x\":[1,2,3,4,5],\"y\":[2,5,8,2,7]}},\"id\":\"8023dc69-2eb9-4f09-9934-ec38000799ee\",\"type\":\"ColumnDataSource\"},{\"attributes\":{\"overlay\":{\"id\":\"618965e7-e354-4b09-9f77-0fa1cf2fb0b0\",\"type\":\"BoxAnnotation\"}},\"id\":\"7b059587-4455-47e7-a271-5d15d516c796\",\"type\":\"BoxZoomTool\"},{\"attributes\":{},\"id\":\"43d9b333-032b-4eea-b4d8-411ba3bd81a2\",\"type\":\"BasicTicker\"},{\"attributes\":{\"formatter\":{\"id\":\"c84bb239-ca0a-4fd6-8978-ac9f92a8c76b\",\"type\":\"BasicTickFormatter\"},\"plot\":{\"id\":\"5f045991-1cf9-4c17-ba30-4989e609660a\",\"subtype\":\"Figure\",\"type\":\"Plot\"},\"ticker\":{\"id\":\"43d9b333-032b-4eea-b4d8-411ba3bd81a2\",\"type\":\"BasicTicker\"}},\"id\":\"28a42fc0-c053-4123-8176-e51f90894d85\",\"type\":\"LinearAxis\"},{\"attributes\":{\"callback\":null},\"id\":\"beb4cc68-0db0-4f41-b40d-a9131b04453c\",\"type\":\"DataRange1d\"},{\"attributes\":{},\"id\":\"0e35a786-f5b4-4031-bf61-0003b518bbe4\",\"type\":\"LinearScale\"},{\"attributes\":{\"active_drag\":\"auto\",\"active_inspect\":\"auto\",\"active_scroll\":\"auto\",\"active_tap\":\"auto\",\"tools\":[{\"id\":\"d1e29ccd-fcc8-423a-99b6-2e9f2d1a4510\",\"type\":\"PanTool\"},{\"id\":\"c17832b9-8411-4ca9-9cf6-66c066eb11b3\",\"type\":\"WheelZoomTool\"},{\"id\":\"7b059587-4455-47e7-a271-5d15d516c796\",\"type\":\"BoxZoomTool\"},{\"id\":\"1eb8d3e0-71f6-4ef2-95ab-50897c73256c\",\"type\":\"SaveTool\"},{\"id\":\"86e87f47-cea3-45b3-81e3-0bff6459b9a1\",\"type\":\"ResetTool\"},{\"id\":\"02419876-3497-4660-911a-62ed61c0a8cb\",\"type\":\"HelpTool\"}]},\"id\":\"cb7b89d3-9637-46ab-b5eb-97c6dd68898d\",\"type\":\"Toolbar\"},{\"attributes\":{},\"id\":\"ac54b0ac-d7c7-4c96-98c5-cc550a6021e4\",\"type\":\"BasicTickFormatter\"},{\"attributes\":{},\"id\":\"c17832b9-8411-4ca9-9cf6-66c066eb11b3\",\"type\":\"WheelZoomTool\"},{\"attributes\":{\"data_source\":{\"id\":\"8023dc69-2eb9-4f09-9934-ec38000799ee\",\"type\":\"ColumnDataSource\"},\"glyph\":{\"id\":\"dbcba480-7747-4021-a60a-80f57aa6938a\",\"type\":\"Circle\"},\"hover_glyph\":null,\"muted_glyph\":null,\"nonselection_glyph\":{\"id\":\"c05f79c6-4f21-404b-bbc9-5e82e804e685\",\"type\":\"Circle\"},\"selection_glyph\":null,\"view\":{\"id\":\"2b738bd8-d129-40fa-94c8-1df4178449b8\",\"type\":\"CDSView\"}},\"id\":\"842a4d43-b96f-4a56-8c41-3c08783537f9\",\"type\":\"GlyphRenderer\"},{\"attributes\":{\"dimension\":1,\"plot\":{\"id\":\"5f045991-1cf9-4c17-ba30-4989e609660a\",\"subtype\":\"Figure\",\"type\":\"Plot\"},\"ticker\":{\"id\":\"43d9b333-032b-4eea-b4d8-411ba3bd81a2\",\"type\":\"BasicTicker\"}},\"id\":\"0aee2740-0bf2-4c18-8fa0-ae006a39f4e7\",\"type\":\"Grid\"},{\"attributes\":{\"callback\":null},\"id\":\"fde15d38-e1e3-40cd-9bf2-25492579b2ad\",\"type\":\"DataRange1d\"},{\"attributes\":{\"bottom_units\":\"screen\",\"fill_alpha\":{\"value\":0.5},\"fill_color\":{\"value\":\"lightgrey\"},\"left_units\":\"screen\",\"level\":\"overlay\",\"line_alpha\":{\"value\":1.0},\"line_color\":{\"value\":\"black\"},\"line_dash\":[4,4],\"line_width\":{\"value\":2},\"plot\":null,\"render_mode\":\"css\",\"right_units\":\"screen\",\"top_units\":\"screen\"},\"id\":\"618965e7-e354-4b09-9f77-0fa1cf2fb0b0\",\"type\":\"BoxAnnotation\"},{\"attributes\":{\"plot\":null,\"text\":\"\"},\"id\":\"e53985b8-bcd3-4ff3-b819-63b89e865ab5\",\"type\":\"Title\"},{\"attributes\":{},\"id\":\"d1e29ccd-fcc8-423a-99b6-2e9f2d1a4510\",\"type\":\"PanTool\"},{\"attributes\":{},\"id\":\"86e87f47-cea3-45b3-81e3-0bff6459b9a1\",\"type\":\"ResetTool\"},{\"attributes\":{\"fill_alpha\":{\"value\":0.1},\"fill_color\":{\"value\":\"#1f77b4\"},\"line_alpha\":{\"value\":0.1},\"line_color\":{\"value\":\"#1f77b4\"},\"size\":{\"units\":\"screen\",\"value\":10},\"x\":{\"field\":\"x\"},\"y\":{\"field\":\"y\"}},\"id\":\"c05f79c6-4f21-404b-bbc9-5e82e804e685\",\"type\":\"Circle\"},{\"attributes\":{},\"id\":\"1eb8d3e0-71f6-4ef2-95ab-50897c73256c\",\"type\":\"SaveTool\"},{\"attributes\":{},\"id\":\"02419876-3497-4660-911a-62ed61c0a8cb\",\"type\":\"HelpTool\"},{\"attributes\":{\"below\":[{\"id\":\"3546142d-0069-4f0c-8f29-79212b5349d5\",\"type\":\"LinearAxis\"}],\"left\":[{\"id\":\"28a42fc0-c053-4123-8176-e51f90894d85\",\"type\":\"LinearAxis\"}],\"plot_height\":300,\"plot_width\":700,\"renderers\":[{\"id\":\"3546142d-0069-4f0c-8f29-79212b5349d5\",\"type\":\"LinearAxis\"},{\"id\":\"816d52ee-648a-4384-a495-7d696357841c\",\"type\":\"Grid\"},{\"id\":\"28a42fc0-c053-4123-8176-e51f90894d85\",\"type\":\"LinearAxis\"},{\"id\":\"0aee2740-0bf2-4c18-8fa0-ae006a39f4e7\",\"type\":\"Grid\"},{\"id\":\"618965e7-e354-4b09-9f77-0fa1cf2fb0b0\",\"type\":\"BoxAnnotation\"},{\"id\":\"842a4d43-b96f-4a56-8c41-3c08783537f9\",\"type\":\"GlyphRenderer\"}],\"title\":{\"id\":\"e53985b8-bcd3-4ff3-b819-63b89e865ab5\",\"type\":\"Title\"},\"toolbar\":{\"id\":\"cb7b89d3-9637-46ab-b5eb-97c6dd68898d\",\"type\":\"Toolbar\"},\"x_range\":{\"id\":\"fde15d38-e1e3-40cd-9bf2-25492579b2ad\",\"type\":\"DataRange1d\"},\"x_scale\":{\"id\":\"0e35a786-f5b4-4031-bf61-0003b518bbe4\",\"type\":\"LinearScale\"},\"y_range\":{\"id\":\"beb4cc68-0db0-4f41-b40d-a9131b04453c\",\"type\":\"DataRange1d\"},\"y_scale\":{\"id\":\"08590d11-ddbe-49c3-bc2e-5d6892b9c02c\",\"type\":\"LinearScale\"}},\"id\":\"5f045991-1cf9-4c17-ba30-4989e609660a\",\"subtype\":\"Figure\",\"type\":\"Plot\"},{\"attributes\":{},\"id\":\"193dccb9-8753-4387-9ffa-4d2dfd4a851e\",\"type\":\"BasicTicker\"},{\"attributes\":{},\"id\":\"08590d11-ddbe-49c3-bc2e-5d6892b9c02c\",\"type\":\"LinearScale\"},{\"attributes\":{\"formatter\":{\"id\":\"ac54b0ac-d7c7-4c96-98c5-cc550a6021e4\",\"type\":\"BasicTickFormatter\"},\"plot\":{\"id\":\"5f045991-1cf9-4c17-ba30-4989e609660a\",\"subtype\":\"Figure\",\"type\":\"Plot\"},\"ticker\":{\"id\":\"193dccb9-8753-4387-9ffa-4d2dfd4a851e\",\"type\":\"BasicTicker\"}},\"id\":\"3546142d-0069-4f0c-8f29-79212b5349d5\",\"type\":\"LinearAxis\"},{\"attributes\":{\"fill_color\":{\"value\":\"#1f77b4\"},\"line_color\":{\"value\":\"#1f77b4\"},\"size\":{\"units\":\"screen\",\"value\":10},\"x\":{\"field\":\"x\"},\"y\":{\"field\":\"y\"}},\"id\":\"dbcba480-7747-4021-a60a-80f57aa6938a\",\"type\":\"Circle\"},{\"attributes\":{\"source\":{\"id\":\"8023dc69-2eb9-4f09-9934-ec38000799ee\",\"type\":\"ColumnDataSource\"}},\"id\":\"2b738bd8-d129-40fa-94c8-1df4178449b8\",\"type\":\"CDSView\"}],\"root_ids\":[\"5f045991-1cf9-4c17-ba30-4989e609660a\"]},\"title\":\"Bokeh Application\",\"version\":\"0.12.13\"}};\n",
       "  var render_items = [{\"docid\":\"a7a8031f-6773-4504-8a90-8e53898450d5\",\"elementid\":\"9da89034-b032-4fa0-992d-04bcd46194ef\",\"modelid\":\"5f045991-1cf9-4c17-ba30-4989e609660a\"}];\n",
       "  root.Bokeh.embed.embed_items_notebook(docs_json, render_items);\n",
       "\n",
       "  }\n",
       "  if (root.Bokeh !== undefined) {\n",
       "    embed_document(root);\n",
       "  } else {\n",
       "    var attempts = 0;\n",
       "    var timer = setInterval(function(root) {\n",
       "      if (root.Bokeh !== undefined) {\n",
       "        embed_document(root);\n",
       "        clearInterval(timer);\n",
       "      }\n",
       "      attempts++;\n",
       "      if (attempts > 100) {\n",
       "        console.log(\"Bokeh: ERROR: Unable to run BokehJS code because BokehJS library is missing\")\n",
       "        clearInterval(timer);\n",
       "      }\n",
       "    }, 10, root)\n",
       "  }\n",
       "})(window);"
      ],
      "application/vnd.bokehjs_exec.v0+json": ""
     },
     "metadata": {
      "application/vnd.bokehjs_exec.v0+json": {
       "id": "5f045991-1cf9-4c17-ba30-4989e609660a"
      }
     },
     "output_type": "display_data"
    }
   ],
   "source": [
    "# create a new plot with specific dimensions\n",
    "p = figure(plot_width=700)\n",
    "p.plot_height = 300\n",
    "\n",
    "p.circle([1, 2, 3, 4, 5], [2, 5, 8, 2, 7], size=10)\n",
    "\n",
    "show(p)"
   ]
  },
  {
   "cell_type": "markdown",
   "metadata": {},
   "source": [
    "### Title"
   ]
  },
  {
   "cell_type": "code",
   "execution_count": 17,
   "metadata": {},
   "outputs": [
    {
     "data": {
      "text/html": [
       "\n",
       "<div class=\"bk-root\">\n",
       "    <div class=\"bk-plotdiv\" id=\"1232ad6b-d373-48c9-95f1-cbe627befe46\"></div>\n",
       "</div>"
      ]
     },
     "metadata": {},
     "output_type": "display_data"
    },
    {
     "data": {
      "application/javascript": [
       "(function(root) {\n",
       "  function embed_document(root) {\n",
       "    \n",
       "  var docs_json = {\"f1632215-7494-44e7-a775-3c4cfb1e1a39\":{\"roots\":{\"references\":[{\"attributes\":{\"plot\":null,\"text\":\"Some Title\",\"text_color\":{\"value\":\"olive\"},\"text_font\":\"times\",\"text_font_style\":\"italic\"},\"id\":\"9959e3bb-40fe-4f31-afd2-8a854f93664f\",\"type\":\"Title\"},{\"attributes\":{\"callback\":null,\"column_names\":[\"x\",\"y\"],\"data\":{\"x\":[1,2,3,4,5],\"y\":[2,5,8,2,7]}},\"id\":\"1491517f-d858-4ab0-951f-a33fb22dfa4f\",\"type\":\"ColumnDataSource\"},{\"attributes\":{\"callback\":null},\"id\":\"db6871fc-9c5e-4b11-804f-5237be804632\",\"type\":\"DataRange1d\"},{\"attributes\":{\"fill_color\":{\"value\":\"#1f77b4\"},\"line_color\":{\"value\":\"#1f77b4\"},\"size\":{\"units\":\"screen\",\"value\":10},\"x\":{\"field\":\"x\"},\"y\":{\"field\":\"y\"}},\"id\":\"c627095c-88f3-460c-8383-8e204c2509b8\",\"type\":\"Circle\"},{\"attributes\":{},\"id\":\"9e9300a0-4b72-4581-8775-5f616f232403\",\"type\":\"HelpTool\"},{\"attributes\":{},\"id\":\"859f4b6d-bfad-4edd-86c9-06dbb15a01f0\",\"type\":\"LinearScale\"},{\"attributes\":{},\"id\":\"be5b8929-a152-4142-babc-3f76fdce58b5\",\"type\":\"PanTool\"},{\"attributes\":{},\"id\":\"89d457d2-0907-452f-8ec0-2e93911757bb\",\"type\":\"BasicTicker\"},{\"attributes\":{},\"id\":\"399d733d-f48d-4c03-a689-5eafe3a4b38d\",\"type\":\"BasicTickFormatter\"},{\"attributes\":{\"fill_alpha\":{\"value\":0.1},\"fill_color\":{\"value\":\"#1f77b4\"},\"line_alpha\":{\"value\":0.1},\"line_color\":{\"value\":\"#1f77b4\"},\"size\":{\"units\":\"screen\",\"value\":10},\"x\":{\"field\":\"x\"},\"y\":{\"field\":\"y\"}},\"id\":\"57f9e964-fe14-44d8-8190-8967917e8bf6\",\"type\":\"Circle\"},{\"attributes\":{\"below\":[{\"id\":\"9a010316-7237-4179-940f-36139d6abed3\",\"type\":\"LinearAxis\"}],\"left\":[{\"id\":\"2fb8a07d-e254-4d27-a7cb-dad717fb249d\",\"type\":\"LinearAxis\"}],\"plot_height\":400,\"plot_width\":400,\"renderers\":[{\"id\":\"9a010316-7237-4179-940f-36139d6abed3\",\"type\":\"LinearAxis\"},{\"id\":\"5f1a2e9c-237d-4d47-ba9f-83ef468b9ebe\",\"type\":\"Grid\"},{\"id\":\"2fb8a07d-e254-4d27-a7cb-dad717fb249d\",\"type\":\"LinearAxis\"},{\"id\":\"f91502ac-67a2-4a72-9ae5-6de784aefc56\",\"type\":\"Grid\"},{\"id\":\"1fc11e02-b053-4752-b5d1-2d10f956f037\",\"type\":\"BoxAnnotation\"},{\"id\":\"25a6fdf4-bad2-4b96-8f79-540854de5a6c\",\"type\":\"GlyphRenderer\"}],\"title\":{\"id\":\"9959e3bb-40fe-4f31-afd2-8a854f93664f\",\"type\":\"Title\"},\"toolbar\":{\"id\":\"33c2ced4-c409-4365-a817-bcf256918059\",\"type\":\"Toolbar\"},\"x_range\":{\"id\":\"cc583b76-1506-4cd1-a1fd-20ec7fb1b463\",\"type\":\"DataRange1d\"},\"x_scale\":{\"id\":\"859f4b6d-bfad-4edd-86c9-06dbb15a01f0\",\"type\":\"LinearScale\"},\"y_range\":{\"id\":\"db6871fc-9c5e-4b11-804f-5237be804632\",\"type\":\"DataRange1d\"},\"y_scale\":{\"id\":\"83321b7f-9b07-463e-935c-1117e141971c\",\"type\":\"LinearScale\"}},\"id\":\"6c7489bb-14b4-4d7e-a0d1-efa04d396499\",\"subtype\":\"Figure\",\"type\":\"Plot\"},{\"attributes\":{\"callback\":null},\"id\":\"cc583b76-1506-4cd1-a1fd-20ec7fb1b463\",\"type\":\"DataRange1d\"},{\"attributes\":{\"dimension\":1,\"plot\":{\"id\":\"6c7489bb-14b4-4d7e-a0d1-efa04d396499\",\"subtype\":\"Figure\",\"type\":\"Plot\"},\"ticker\":{\"id\":\"89d457d2-0907-452f-8ec0-2e93911757bb\",\"type\":\"BasicTicker\"}},\"id\":\"f91502ac-67a2-4a72-9ae5-6de784aefc56\",\"type\":\"Grid\"},{\"attributes\":{\"formatter\":{\"id\":\"5b8a99b2-cd11-4086-b3ae-92807f048f29\",\"type\":\"BasicTickFormatter\"},\"plot\":{\"id\":\"6c7489bb-14b4-4d7e-a0d1-efa04d396499\",\"subtype\":\"Figure\",\"type\":\"Plot\"},\"ticker\":{\"id\":\"89d457d2-0907-452f-8ec0-2e93911757bb\",\"type\":\"BasicTicker\"}},\"id\":\"2fb8a07d-e254-4d27-a7cb-dad717fb249d\",\"type\":\"LinearAxis\"},{\"attributes\":{\"formatter\":{\"id\":\"399d733d-f48d-4c03-a689-5eafe3a4b38d\",\"type\":\"BasicTickFormatter\"},\"plot\":{\"id\":\"6c7489bb-14b4-4d7e-a0d1-efa04d396499\",\"subtype\":\"Figure\",\"type\":\"Plot\"},\"ticker\":{\"id\":\"604199df-4a0f-4182-b96b-fbc5290546d9\",\"type\":\"BasicTicker\"}},\"id\":\"9a010316-7237-4179-940f-36139d6abed3\",\"type\":\"LinearAxis\"},{\"attributes\":{},\"id\":\"604199df-4a0f-4182-b96b-fbc5290546d9\",\"type\":\"BasicTicker\"},{\"attributes\":{\"active_drag\":\"auto\",\"active_inspect\":\"auto\",\"active_scroll\":\"auto\",\"active_tap\":\"auto\",\"tools\":[{\"id\":\"be5b8929-a152-4142-babc-3f76fdce58b5\",\"type\":\"PanTool\"},{\"id\":\"aa904049-e799-41ad-8e16-1b62403dec1e\",\"type\":\"WheelZoomTool\"},{\"id\":\"4a8dca7b-eb31-492c-984d-25e0c8166328\",\"type\":\"BoxZoomTool\"},{\"id\":\"60d4713e-bb96-4cba-aa78-d61e69c4e1b0\",\"type\":\"SaveTool\"},{\"id\":\"0f90b209-09a4-4cfc-bb6e-339c88041d53\",\"type\":\"ResetTool\"},{\"id\":\"9e9300a0-4b72-4581-8775-5f616f232403\",\"type\":\"HelpTool\"}]},\"id\":\"33c2ced4-c409-4365-a817-bcf256918059\",\"type\":\"Toolbar\"},{\"attributes\":{\"plot\":{\"id\":\"6c7489bb-14b4-4d7e-a0d1-efa04d396499\",\"subtype\":\"Figure\",\"type\":\"Plot\"},\"ticker\":{\"id\":\"604199df-4a0f-4182-b96b-fbc5290546d9\",\"type\":\"BasicTicker\"}},\"id\":\"5f1a2e9c-237d-4d47-ba9f-83ef468b9ebe\",\"type\":\"Grid\"},{\"attributes\":{\"overlay\":{\"id\":\"1fc11e02-b053-4752-b5d1-2d10f956f037\",\"type\":\"BoxAnnotation\"}},\"id\":\"4a8dca7b-eb31-492c-984d-25e0c8166328\",\"type\":\"BoxZoomTool\"},{\"attributes\":{},\"id\":\"5b8a99b2-cd11-4086-b3ae-92807f048f29\",\"type\":\"BasicTickFormatter\"},{\"attributes\":{},\"id\":\"0f90b209-09a4-4cfc-bb6e-339c88041d53\",\"type\":\"ResetTool\"},{\"attributes\":{},\"id\":\"83321b7f-9b07-463e-935c-1117e141971c\",\"type\":\"LinearScale\"},{\"attributes\":{\"source\":{\"id\":\"1491517f-d858-4ab0-951f-a33fb22dfa4f\",\"type\":\"ColumnDataSource\"}},\"id\":\"9e4b33a0-face-44a0-ba39-b80c34a98375\",\"type\":\"CDSView\"},{\"attributes\":{},\"id\":\"60d4713e-bb96-4cba-aa78-d61e69c4e1b0\",\"type\":\"SaveTool\"},{\"attributes\":{\"bottom_units\":\"screen\",\"fill_alpha\":{\"value\":0.5},\"fill_color\":{\"value\":\"lightgrey\"},\"left_units\":\"screen\",\"level\":\"overlay\",\"line_alpha\":{\"value\":1.0},\"line_color\":{\"value\":\"black\"},\"line_dash\":[4,4],\"line_width\":{\"value\":2},\"plot\":null,\"render_mode\":\"css\",\"right_units\":\"screen\",\"top_units\":\"screen\"},\"id\":\"1fc11e02-b053-4752-b5d1-2d10f956f037\",\"type\":\"BoxAnnotation\"},{\"attributes\":{},\"id\":\"aa904049-e799-41ad-8e16-1b62403dec1e\",\"type\":\"WheelZoomTool\"},{\"attributes\":{\"data_source\":{\"id\":\"1491517f-d858-4ab0-951f-a33fb22dfa4f\",\"type\":\"ColumnDataSource\"},\"glyph\":{\"id\":\"c627095c-88f3-460c-8383-8e204c2509b8\",\"type\":\"Circle\"},\"hover_glyph\":null,\"muted_glyph\":null,\"nonselection_glyph\":{\"id\":\"57f9e964-fe14-44d8-8190-8967917e8bf6\",\"type\":\"Circle\"},\"selection_glyph\":null,\"view\":{\"id\":\"9e4b33a0-face-44a0-ba39-b80c34a98375\",\"type\":\"CDSView\"}},\"id\":\"25a6fdf4-bad2-4b96-8f79-540854de5a6c\",\"type\":\"GlyphRenderer\"}],\"root_ids\":[\"6c7489bb-14b4-4d7e-a0d1-efa04d396499\"]},\"title\":\"Bokeh Application\",\"version\":\"0.12.13\"}};\n",
       "  var render_items = [{\"docid\":\"f1632215-7494-44e7-a775-3c4cfb1e1a39\",\"elementid\":\"1232ad6b-d373-48c9-95f1-cbe627befe46\",\"modelid\":\"6c7489bb-14b4-4d7e-a0d1-efa04d396499\"}];\n",
       "  root.Bokeh.embed.embed_items_notebook(docs_json, render_items);\n",
       "\n",
       "  }\n",
       "  if (root.Bokeh !== undefined) {\n",
       "    embed_document(root);\n",
       "  } else {\n",
       "    var attempts = 0;\n",
       "    var timer = setInterval(function(root) {\n",
       "      if (root.Bokeh !== undefined) {\n",
       "        embed_document(root);\n",
       "        clearInterval(timer);\n",
       "      }\n",
       "      attempts++;\n",
       "      if (attempts > 100) {\n",
       "        console.log(\"Bokeh: ERROR: Unable to run BokehJS code because BokehJS library is missing\")\n",
       "        clearInterval(timer);\n",
       "      }\n",
       "    }, 10, root)\n",
       "  }\n",
       "})(window);"
      ],
      "application/vnd.bokehjs_exec.v0+json": ""
     },
     "metadata": {
      "application/vnd.bokehjs_exec.v0+json": {
       "id": "6c7489bb-14b4-4d7e-a0d1-efa04d396499"
      }
     },
     "output_type": "display_data"
    }
   ],
   "source": [
    "p = figure(plot_width=400, plot_height=400, title=\"Some Title\")\n",
    "p.title.text_color = \"olive\"\n",
    "p.title.text_font = \"times\"\n",
    "p.title.text_font_style = \"italic\"\n",
    "\n",
    "p.circle([1, 2, 3, 4, 5], [2, 5, 8, 2, 7], size=10)\n",
    "\n",
    "show(p)"
   ]
  },
  {
   "cell_type": "markdown",
   "metadata": {},
   "source": [
    "### Background"
   ]
  },
  {
   "cell_type": "code",
   "execution_count": 20,
   "metadata": {},
   "outputs": [
    {
     "data": {
      "text/html": [
       "\n",
       "<div class=\"bk-root\">\n",
       "    <div class=\"bk-plotdiv\" id=\"0b6cbe1a-d9ba-4877-a39d-8cbe815ee9de\"></div>\n",
       "</div>"
      ]
     },
     "metadata": {},
     "output_type": "display_data"
    },
    {
     "data": {
      "application/javascript": [
       "(function(root) {\n",
       "  function embed_document(root) {\n",
       "    \n",
       "  var docs_json = {\"72bca2a3-e272-48a4-849e-b1c5921922d6\":{\"roots\":{\"references\":[{\"attributes\":{},\"id\":\"0bbb7baa-f94f-4dcb-91e7-b74d63707a18\",\"type\":\"PanTool\"},{\"attributes\":{\"overlay\":{\"id\":\"b0a7223b-4e3a-48cc-84ef-8e2a18f31302\",\"type\":\"BoxAnnotation\"}},\"id\":\"ae6a3173-18b1-42be-a4de-3332835cd165\",\"type\":\"BoxZoomTool\"},{\"attributes\":{\"plot\":null,\"text\":\"\"},\"id\":\"035b78a0-9bad-4e4c-802b-6ce3a59ac9c5\",\"type\":\"Title\"},{\"attributes\":{},\"id\":\"3faa9938-0a9b-488d-9787-c51234b63706\",\"type\":\"LinearScale\"},{\"attributes\":{\"callback\":null,\"column_names\":[\"x\",\"y\"],\"data\":{\"x\":[1,2,3,4,5],\"y\":[2,5,8,2,7]}},\"id\":\"a3dd96ad-924a-4fc5-a6ff-f9b0c9000a4c\",\"type\":\"ColumnDataSource\"},{\"attributes\":{\"plot\":{\"id\":\"2a9a6ad9-797d-4d15-9558-0ba927dbd8ca\",\"subtype\":\"Figure\",\"type\":\"Plot\"},\"ticker\":{\"id\":\"a7714523-2b69-4447-a746-a8c5fa37a899\",\"type\":\"BasicTicker\"}},\"id\":\"2547ddf6-da84-4e63-869b-51c73c8f2e72\",\"type\":\"Grid\"},{\"attributes\":{\"fill_alpha\":{\"value\":0.1},\"fill_color\":{\"value\":\"#1f77b4\"},\"line_alpha\":{\"value\":0.1},\"line_color\":{\"value\":\"#1f77b4\"},\"size\":{\"units\":\"screen\",\"value\":10},\"x\":{\"field\":\"x\"},\"y\":{\"field\":\"y\"}},\"id\":\"18233683-f925-4b72-bd87-d7de0e824cc4\",\"type\":\"Circle\"},{\"attributes\":{},\"id\":\"087974ed-826f-4596-8532-3979abd53fe3\",\"type\":\"SaveTool\"},{\"attributes\":{\"formatter\":{\"id\":\"82f918ef-f170-4900-bbfc-115c0b44ad6a\",\"type\":\"BasicTickFormatter\"},\"plot\":{\"id\":\"2a9a6ad9-797d-4d15-9558-0ba927dbd8ca\",\"subtype\":\"Figure\",\"type\":\"Plot\"},\"ticker\":{\"id\":\"a8ef327e-e622-4c4e-821c-3290fc9bc30e\",\"type\":\"BasicTicker\"}},\"id\":\"60ecbf4c-efdc-4220-a0e7-88146783182e\",\"type\":\"LinearAxis\"},{\"attributes\":{},\"id\":\"9b23f9db-20e2-4248-b18c-e07df24a568f\",\"type\":\"BasicTickFormatter\"},{\"attributes\":{\"fill_color\":{\"value\":\"#1f77b4\"},\"line_color\":{\"value\":\"#1f77b4\"},\"size\":{\"units\":\"screen\",\"value\":10},\"x\":{\"field\":\"x\"},\"y\":{\"field\":\"y\"}},\"id\":\"7023e5ac-e9d0-4f1d-8874-cdf421c1bab8\",\"type\":\"Circle\"},{\"attributes\":{\"data_source\":{\"id\":\"a3dd96ad-924a-4fc5-a6ff-f9b0c9000a4c\",\"type\":\"ColumnDataSource\"},\"glyph\":{\"id\":\"7023e5ac-e9d0-4f1d-8874-cdf421c1bab8\",\"type\":\"Circle\"},\"hover_glyph\":null,\"muted_glyph\":null,\"nonselection_glyph\":{\"id\":\"18233683-f925-4b72-bd87-d7de0e824cc4\",\"type\":\"Circle\"},\"selection_glyph\":null,\"view\":{\"id\":\"a1f8b800-7433-4056-819d-94384fa6783d\",\"type\":\"CDSView\"}},\"id\":\"c25dc98f-a91e-45e2-9fe6-64db9ac2bbdb\",\"type\":\"GlyphRenderer\"},{\"attributes\":{\"callback\":null},\"id\":\"8c8409b2-b6db-444b-9928-275127ebfd59\",\"type\":\"DataRange1d\"},{\"attributes\":{},\"id\":\"d4238bcf-f019-43e5-8d4d-178cc65373a3\",\"type\":\"HelpTool\"},{\"attributes\":{\"dimension\":1,\"plot\":{\"id\":\"2a9a6ad9-797d-4d15-9558-0ba927dbd8ca\",\"subtype\":\"Figure\",\"type\":\"Plot\"},\"ticker\":{\"id\":\"a8ef327e-e622-4c4e-821c-3290fc9bc30e\",\"type\":\"BasicTicker\"}},\"id\":\"a49aa8d1-2762-4a2c-b9d9-9885468fb98e\",\"type\":\"Grid\"},{\"attributes\":{\"active_drag\":\"auto\",\"active_inspect\":\"auto\",\"active_scroll\":\"auto\",\"active_tap\":\"auto\",\"tools\":[{\"id\":\"0bbb7baa-f94f-4dcb-91e7-b74d63707a18\",\"type\":\"PanTool\"},{\"id\":\"2c529cb3-10bf-4b45-a5ec-b82cf94898eb\",\"type\":\"WheelZoomTool\"},{\"id\":\"ae6a3173-18b1-42be-a4de-3332835cd165\",\"type\":\"BoxZoomTool\"},{\"id\":\"087974ed-826f-4596-8532-3979abd53fe3\",\"type\":\"SaveTool\"},{\"id\":\"bc6f6d4d-3e39-4877-96c6-9b37d4b5970c\",\"type\":\"ResetTool\"},{\"id\":\"d4238bcf-f019-43e5-8d4d-178cc65373a3\",\"type\":\"HelpTool\"}]},\"id\":\"6b1ae7c9-e61a-44db-bc4c-159d3181e393\",\"type\":\"Toolbar\"},{\"attributes\":{\"formatter\":{\"id\":\"9b23f9db-20e2-4248-b18c-e07df24a568f\",\"type\":\"BasicTickFormatter\"},\"plot\":{\"id\":\"2a9a6ad9-797d-4d15-9558-0ba927dbd8ca\",\"subtype\":\"Figure\",\"type\":\"Plot\"},\"ticker\":{\"id\":\"a7714523-2b69-4447-a746-a8c5fa37a899\",\"type\":\"BasicTicker\"}},\"id\":\"dc8eb84f-dfba-4173-8511-b708028add92\",\"type\":\"LinearAxis\"},{\"attributes\":{},\"id\":\"a8ef327e-e622-4c4e-821c-3290fc9bc30e\",\"type\":\"BasicTicker\"},{\"attributes\":{\"source\":{\"id\":\"a3dd96ad-924a-4fc5-a6ff-f9b0c9000a4c\",\"type\":\"ColumnDataSource\"}},\"id\":\"a1f8b800-7433-4056-819d-94384fa6783d\",\"type\":\"CDSView\"},{\"attributes\":{},\"id\":\"a7714523-2b69-4447-a746-a8c5fa37a899\",\"type\":\"BasicTicker\"},{\"attributes\":{},\"id\":\"82f918ef-f170-4900-bbfc-115c0b44ad6a\",\"type\":\"BasicTickFormatter\"},{\"attributes\":{},\"id\":\"bc6f6d4d-3e39-4877-96c6-9b37d4b5970c\",\"type\":\"ResetTool\"},{\"attributes\":{},\"id\":\"0de9c455-a927-458f-8575-458ce5fd1445\",\"type\":\"LinearScale\"},{\"attributes\":{},\"id\":\"2c529cb3-10bf-4b45-a5ec-b82cf94898eb\",\"type\":\"WheelZoomTool\"},{\"attributes\":{\"bottom_units\":\"screen\",\"fill_alpha\":{\"value\":0.5},\"fill_color\":{\"value\":\"lightgrey\"},\"left_units\":\"screen\",\"level\":\"overlay\",\"line_alpha\":{\"value\":1.0},\"line_color\":{\"value\":\"black\"},\"line_dash\":[4,4],\"line_width\":{\"value\":2},\"plot\":null,\"render_mode\":\"css\",\"right_units\":\"screen\",\"top_units\":\"screen\"},\"id\":\"b0a7223b-4e3a-48cc-84ef-8e2a18f31302\",\"type\":\"BoxAnnotation\"},{\"attributes\":{\"callback\":null},\"id\":\"25b8f1da-11c3-4da0-9bc5-c5eb4689da43\",\"type\":\"DataRange1d\"},{\"attributes\":{\"background_fill_alpha\":{\"value\":0.5},\"background_fill_color\":{\"value\":\"beige\"},\"below\":[{\"id\":\"dc8eb84f-dfba-4173-8511-b708028add92\",\"type\":\"LinearAxis\"}],\"left\":[{\"id\":\"60ecbf4c-efdc-4220-a0e7-88146783182e\",\"type\":\"LinearAxis\"}],\"plot_height\":300,\"plot_width\":400,\"renderers\":[{\"id\":\"dc8eb84f-dfba-4173-8511-b708028add92\",\"type\":\"LinearAxis\"},{\"id\":\"2547ddf6-da84-4e63-869b-51c73c8f2e72\",\"type\":\"Grid\"},{\"id\":\"60ecbf4c-efdc-4220-a0e7-88146783182e\",\"type\":\"LinearAxis\"},{\"id\":\"a49aa8d1-2762-4a2c-b9d9-9885468fb98e\",\"type\":\"Grid\"},{\"id\":\"b0a7223b-4e3a-48cc-84ef-8e2a18f31302\",\"type\":\"BoxAnnotation\"},{\"id\":\"c25dc98f-a91e-45e2-9fe6-64db9ac2bbdb\",\"type\":\"GlyphRenderer\"}],\"title\":{\"id\":\"035b78a0-9bad-4e4c-802b-6ce3a59ac9c5\",\"type\":\"Title\"},\"toolbar\":{\"id\":\"6b1ae7c9-e61a-44db-bc4c-159d3181e393\",\"type\":\"Toolbar\"},\"x_range\":{\"id\":\"8c8409b2-b6db-444b-9928-275127ebfd59\",\"type\":\"DataRange1d\"},\"x_scale\":{\"id\":\"3faa9938-0a9b-488d-9787-c51234b63706\",\"type\":\"LinearScale\"},\"y_range\":{\"id\":\"25b8f1da-11c3-4da0-9bc5-c5eb4689da43\",\"type\":\"DataRange1d\"},\"y_scale\":{\"id\":\"0de9c455-a927-458f-8575-458ce5fd1445\",\"type\":\"LinearScale\"}},\"id\":\"2a9a6ad9-797d-4d15-9558-0ba927dbd8ca\",\"subtype\":\"Figure\",\"type\":\"Plot\"}],\"root_ids\":[\"2a9a6ad9-797d-4d15-9558-0ba927dbd8ca\"]},\"title\":\"Bokeh Application\",\"version\":\"0.12.13\"}};\n",
       "  var render_items = [{\"docid\":\"72bca2a3-e272-48a4-849e-b1c5921922d6\",\"elementid\":\"0b6cbe1a-d9ba-4877-a39d-8cbe815ee9de\",\"modelid\":\"2a9a6ad9-797d-4d15-9558-0ba927dbd8ca\"}];\n",
       "  root.Bokeh.embed.embed_items_notebook(docs_json, render_items);\n",
       "\n",
       "  }\n",
       "  if (root.Bokeh !== undefined) {\n",
       "    embed_document(root);\n",
       "  } else {\n",
       "    var attempts = 0;\n",
       "    var timer = setInterval(function(root) {\n",
       "      if (root.Bokeh !== undefined) {\n",
       "        embed_document(root);\n",
       "        clearInterval(timer);\n",
       "      }\n",
       "      attempts++;\n",
       "      if (attempts > 100) {\n",
       "        console.log(\"Bokeh: ERROR: Unable to run BokehJS code because BokehJS library is missing\")\n",
       "        clearInterval(timer);\n",
       "      }\n",
       "    }, 10, root)\n",
       "  }\n",
       "})(window);"
      ],
      "application/vnd.bokehjs_exec.v0+json": ""
     },
     "metadata": {
      "application/vnd.bokehjs_exec.v0+json": {
       "id": "2a9a6ad9-797d-4d15-9558-0ba927dbd8ca"
      }
     },
     "output_type": "display_data"
    }
   ],
   "source": [
    "p = figure(plot_width=400, plot_height=300)\n",
    "\n",
    "# background_fill_color\n",
    "p.background_fill_color = \"beige\"\n",
    "p.background_fill_alpha = 0.5\n",
    "\n",
    "p.circle([1, 2, 3, 4, 5], [2, 5, 8, 2, 7], size=10)\n",
    "\n",
    "show(p)"
   ]
  },
  {
   "cell_type": "markdown",
   "metadata": {},
   "source": [
    "### Border"
   ]
  },
  {
   "cell_type": "code",
   "execution_count": 22,
   "metadata": {},
   "outputs": [
    {
     "data": {
      "text/html": [
       "\n",
       "<div class=\"bk-root\">\n",
       "    <div class=\"bk-plotdiv\" id=\"b55195a7-9312-4082-aa83-871644ab3abe\"></div>\n",
       "</div>"
      ]
     },
     "metadata": {},
     "output_type": "display_data"
    },
    {
     "data": {
      "application/javascript": [
       "(function(root) {\n",
       "  function embed_document(root) {\n",
       "    \n",
       "  var docs_json = {\"2793e3b9-f470-499d-b673-99c2ba7da926\":{\"roots\":{\"references\":[{\"attributes\":{},\"id\":\"d1e9e0c5-24ec-4181-92a1-5bc172f687f9\",\"type\":\"WheelZoomTool\"},{\"attributes\":{\"overlay\":{\"id\":\"d2f1a52d-79b6-4165-8fc6-ec083cc6ed7b\",\"type\":\"BoxAnnotation\"}},\"id\":\"b989f76a-94e6-4814-8468-b6327d6ce0d0\",\"type\":\"BoxZoomTool\"},{\"attributes\":{},\"id\":\"d8103b7a-10e1-4e39-b1ae-8246f4a159ef\",\"type\":\"BasicTickFormatter\"},{\"attributes\":{\"active_drag\":\"auto\",\"active_inspect\":\"auto\",\"active_scroll\":\"auto\",\"active_tap\":\"auto\",\"tools\":[{\"id\":\"bed2947c-f672-426f-b033-d2e04bd82000\",\"type\":\"PanTool\"},{\"id\":\"d1e9e0c5-24ec-4181-92a1-5bc172f687f9\",\"type\":\"WheelZoomTool\"},{\"id\":\"b989f76a-94e6-4814-8468-b6327d6ce0d0\",\"type\":\"BoxZoomTool\"},{\"id\":\"7cb3e291-bcd5-427a-81c6-06512f42604e\",\"type\":\"SaveTool\"},{\"id\":\"84d10d07-1b20-48da-a484-1bd1314f28ee\",\"type\":\"ResetTool\"},{\"id\":\"1e2bcb33-0c2c-4129-ac1d-5acf00b4e7f0\",\"type\":\"HelpTool\"}]},\"id\":\"964b36c7-dcd6-4d6a-a29d-fdf231c6b7d1\",\"type\":\"Toolbar\"},{\"attributes\":{\"fill_alpha\":{\"value\":0.1},\"fill_color\":{\"value\":\"#1f77b4\"},\"line_alpha\":{\"value\":0.1},\"line_color\":{\"value\":\"#1f77b4\"},\"size\":{\"units\":\"screen\",\"value\":10},\"x\":{\"field\":\"x\"},\"y\":{\"field\":\"y\"}},\"id\":\"39257b9c-6fe9-4603-9a44-457a68aa60d0\",\"type\":\"Circle\"},{\"attributes\":{\"fill_color\":{\"value\":\"#1f77b4\"},\"line_color\":{\"value\":\"#1f77b4\"},\"size\":{\"units\":\"screen\",\"value\":10},\"x\":{\"field\":\"x\"},\"y\":{\"field\":\"y\"}},\"id\":\"c84f3aab-8c1f-4341-8e89-ff50cb5162bf\",\"type\":\"Circle\"},{\"attributes\":{\"callback\":null},\"id\":\"b3ba0389-c230-4db4-9a26-8c13491ece7d\",\"type\":\"DataRange1d\"},{\"attributes\":{},\"id\":\"c7259048-e206-45ca-b8c2-47a4545b1be8\",\"type\":\"BasicTicker\"},{\"attributes\":{\"formatter\":{\"id\":\"b8edbd16-b80b-493a-b49c-06bff39be65a\",\"type\":\"BasicTickFormatter\"},\"plot\":{\"id\":\"1679bc76-2f02-4710-9713-c42ebac4fd7d\",\"subtype\":\"Figure\",\"type\":\"Plot\"},\"ticker\":{\"id\":\"c7259048-e206-45ca-b8c2-47a4545b1be8\",\"type\":\"BasicTicker\"}},\"id\":\"1aaa738b-9e71-48e7-849d-3e5579719a98\",\"type\":\"LinearAxis\"},{\"attributes\":{},\"id\":\"b8edbd16-b80b-493a-b49c-06bff39be65a\",\"type\":\"BasicTickFormatter\"},{\"attributes\":{},\"id\":\"bed2947c-f672-426f-b033-d2e04bd82000\",\"type\":\"PanTool\"},{\"attributes\":{\"plot\":{\"id\":\"1679bc76-2f02-4710-9713-c42ebac4fd7d\",\"subtype\":\"Figure\",\"type\":\"Plot\"},\"ticker\":{\"id\":\"ebce2451-1562-4d8a-a82c-061e74d78624\",\"type\":\"BasicTicker\"}},\"id\":\"ce45dd32-7618-4235-8b18-395fe6cf4ac5\",\"type\":\"Grid\"},{\"attributes\":{\"formatter\":{\"id\":\"d8103b7a-10e1-4e39-b1ae-8246f4a159ef\",\"type\":\"BasicTickFormatter\"},\"plot\":{\"id\":\"1679bc76-2f02-4710-9713-c42ebac4fd7d\",\"subtype\":\"Figure\",\"type\":\"Plot\"},\"ticker\":{\"id\":\"ebce2451-1562-4d8a-a82c-061e74d78624\",\"type\":\"BasicTicker\"}},\"id\":\"e8e8e599-1577-4ee3-81d8-aa1cc323ab5c\",\"type\":\"LinearAxis\"},{\"attributes\":{},\"id\":\"0f1c2fd4-f05c-42d9-8456-cf2f7d0f663e\",\"type\":\"LinearScale\"},{\"attributes\":{},\"id\":\"ebce2451-1562-4d8a-a82c-061e74d78624\",\"type\":\"BasicTicker\"},{\"attributes\":{\"source\":{\"id\":\"7e8d18f1-e28e-4afd-9804-93d559cbec1c\",\"type\":\"ColumnDataSource\"}},\"id\":\"d7c73fa7-6658-428d-8b0e-85949d2d4325\",\"type\":\"CDSView\"},{\"attributes\":{},\"id\":\"d6960660-ced2-4f00-a6ea-3ae7b5b3bc90\",\"type\":\"LinearScale\"},{\"attributes\":{\"bottom_units\":\"screen\",\"fill_alpha\":{\"value\":0.5},\"fill_color\":{\"value\":\"lightgrey\"},\"left_units\":\"screen\",\"level\":\"overlay\",\"line_alpha\":{\"value\":1.0},\"line_color\":{\"value\":\"black\"},\"line_dash\":[4,4],\"line_width\":{\"value\":2},\"plot\":null,\"render_mode\":\"css\",\"right_units\":\"screen\",\"top_units\":\"screen\"},\"id\":\"d2f1a52d-79b6-4165-8fc6-ec083cc6ed7b\",\"type\":\"BoxAnnotation\"},{\"attributes\":{\"data_source\":{\"id\":\"7e8d18f1-e28e-4afd-9804-93d559cbec1c\",\"type\":\"ColumnDataSource\"},\"glyph\":{\"id\":\"c84f3aab-8c1f-4341-8e89-ff50cb5162bf\",\"type\":\"Circle\"},\"hover_glyph\":null,\"muted_glyph\":null,\"nonselection_glyph\":{\"id\":\"39257b9c-6fe9-4603-9a44-457a68aa60d0\",\"type\":\"Circle\"},\"selection_glyph\":null,\"view\":{\"id\":\"d7c73fa7-6658-428d-8b0e-85949d2d4325\",\"type\":\"CDSView\"}},\"id\":\"1b97f590-1b85-4800-9b53-aa0bce384979\",\"type\":\"GlyphRenderer\"},{\"attributes\":{\"dimension\":1,\"plot\":{\"id\":\"1679bc76-2f02-4710-9713-c42ebac4fd7d\",\"subtype\":\"Figure\",\"type\":\"Plot\"},\"ticker\":{\"id\":\"c7259048-e206-45ca-b8c2-47a4545b1be8\",\"type\":\"BasicTicker\"}},\"id\":\"65d82a9f-6592-41bf-838f-8ec3761b0db7\",\"type\":\"Grid\"},{\"attributes\":{\"callback\":null,\"column_names\":[\"x\",\"y\"],\"data\":{\"x\":[1,2,3,4,5],\"y\":[2,5,8,2,7]}},\"id\":\"7e8d18f1-e28e-4afd-9804-93d559cbec1c\",\"type\":\"ColumnDataSource\"},{\"attributes\":{},\"id\":\"1e2bcb33-0c2c-4129-ac1d-5acf00b4e7f0\",\"type\":\"HelpTool\"},{\"attributes\":{},\"id\":\"7cb3e291-bcd5-427a-81c6-06512f42604e\",\"type\":\"SaveTool\"},{\"attributes\":{\"below\":[{\"id\":\"e8e8e599-1577-4ee3-81d8-aa1cc323ab5c\",\"type\":\"LinearAxis\"}],\"border_fill_color\":{\"value\":\"whitesmoke\"},\"left\":[{\"id\":\"1aaa738b-9e71-48e7-849d-3e5579719a98\",\"type\":\"LinearAxis\"}],\"min_border_left\":80,\"plot_height\":300,\"plot_width\":400,\"renderers\":[{\"id\":\"e8e8e599-1577-4ee3-81d8-aa1cc323ab5c\",\"type\":\"LinearAxis\"},{\"id\":\"ce45dd32-7618-4235-8b18-395fe6cf4ac5\",\"type\":\"Grid\"},{\"id\":\"1aaa738b-9e71-48e7-849d-3e5579719a98\",\"type\":\"LinearAxis\"},{\"id\":\"65d82a9f-6592-41bf-838f-8ec3761b0db7\",\"type\":\"Grid\"},{\"id\":\"d2f1a52d-79b6-4165-8fc6-ec083cc6ed7b\",\"type\":\"BoxAnnotation\"},{\"id\":\"1b97f590-1b85-4800-9b53-aa0bce384979\",\"type\":\"GlyphRenderer\"}],\"title\":{\"id\":\"946d4d6c-8c17-417e-afe2-c07f2b59e399\",\"type\":\"Title\"},\"toolbar\":{\"id\":\"964b36c7-dcd6-4d6a-a29d-fdf231c6b7d1\",\"type\":\"Toolbar\"},\"x_range\":{\"id\":\"7f9b8bad-daf0-4a80-9065-92be7c9855dc\",\"type\":\"DataRange1d\"},\"x_scale\":{\"id\":\"d6960660-ced2-4f00-a6ea-3ae7b5b3bc90\",\"type\":\"LinearScale\"},\"y_range\":{\"id\":\"b3ba0389-c230-4db4-9a26-8c13491ece7d\",\"type\":\"DataRange1d\"},\"y_scale\":{\"id\":\"0f1c2fd4-f05c-42d9-8456-cf2f7d0f663e\",\"type\":\"LinearScale\"}},\"id\":\"1679bc76-2f02-4710-9713-c42ebac4fd7d\",\"subtype\":\"Figure\",\"type\":\"Plot\"},{\"attributes\":{},\"id\":\"84d10d07-1b20-48da-a484-1bd1314f28ee\",\"type\":\"ResetTool\"},{\"attributes\":{\"plot\":null,\"text\":\"\"},\"id\":\"946d4d6c-8c17-417e-afe2-c07f2b59e399\",\"type\":\"Title\"},{\"attributes\":{\"callback\":null},\"id\":\"7f9b8bad-daf0-4a80-9065-92be7c9855dc\",\"type\":\"DataRange1d\"}],\"root_ids\":[\"1679bc76-2f02-4710-9713-c42ebac4fd7d\"]},\"title\":\"Bokeh Application\",\"version\":\"0.12.13\"}};\n",
       "  var render_items = [{\"docid\":\"2793e3b9-f470-499d-b673-99c2ba7da926\",\"elementid\":\"b55195a7-9312-4082-aa83-871644ab3abe\",\"modelid\":\"1679bc76-2f02-4710-9713-c42ebac4fd7d\"}];\n",
       "  root.Bokeh.embed.embed_items_notebook(docs_json, render_items);\n",
       "\n",
       "  }\n",
       "  if (root.Bokeh !== undefined) {\n",
       "    embed_document(root);\n",
       "  } else {\n",
       "    var attempts = 0;\n",
       "    var timer = setInterval(function(root) {\n",
       "      if (root.Bokeh !== undefined) {\n",
       "        embed_document(root);\n",
       "        clearInterval(timer);\n",
       "      }\n",
       "      attempts++;\n",
       "      if (attempts > 100) {\n",
       "        console.log(\"Bokeh: ERROR: Unable to run BokehJS code because BokehJS library is missing\")\n",
       "        clearInterval(timer);\n",
       "      }\n",
       "    }, 10, root)\n",
       "  }\n",
       "})(window);"
      ],
      "application/vnd.bokehjs_exec.v0+json": ""
     },
     "metadata": {
      "application/vnd.bokehjs_exec.v0+json": {
       "id": "1679bc76-2f02-4710-9713-c42ebac4fd7d"
      }
     },
     "output_type": "display_data"
    }
   ],
   "source": [
    "p = figure(plot_width=400, plot_height=300)\n",
    "\n",
    "# Border\n",
    "p.border_fill_color = \"whitesmoke\"\n",
    "p.min_border_left = 80\n",
    "\n",
    "p.circle([1,2,3,4,5], [2,5,8,2,7], size=10)\n",
    "\n",
    "show(p)"
   ]
  },
  {
   "cell_type": "markdown",
   "metadata": {},
   "source": [
    "### Outline"
   ]
  },
  {
   "cell_type": "code",
   "execution_count": 23,
   "metadata": {},
   "outputs": [
    {
     "data": {
      "text/html": [
       "\n",
       "<div class=\"bk-root\">\n",
       "    <div class=\"bk-plotdiv\" id=\"cd827d64-a333-4115-a493-ea2217742f61\"></div>\n",
       "</div>"
      ]
     },
     "metadata": {},
     "output_type": "display_data"
    },
    {
     "data": {
      "application/javascript": [
       "(function(root) {\n",
       "  function embed_document(root) {\n",
       "    \n",
       "  var docs_json = {\"0ba56e71-4003-42e4-94f0-0d5a10f1ec06\":{\"roots\":{\"references\":[{\"attributes\":{\"data_source\":{\"id\":\"afc33527-90a1-4440-ab45-048e4ddff520\",\"type\":\"ColumnDataSource\"},\"glyph\":{\"id\":\"b2651f02-a054-4abe-b3bb-a20f49bb1dc0\",\"type\":\"Circle\"},\"hover_glyph\":null,\"muted_glyph\":null,\"nonselection_glyph\":{\"id\":\"b07676d8-f59d-44ed-b279-6acade958b05\",\"type\":\"Circle\"},\"selection_glyph\":null,\"view\":{\"id\":\"cffbecca-43f8-4df0-a0cb-874e3a72e01c\",\"type\":\"CDSView\"}},\"id\":\"0bed9cb9-9312-44f5-8f69-eba0f087e79f\",\"type\":\"GlyphRenderer\"},{\"attributes\":{\"fill_color\":{\"value\":\"#1f77b4\"},\"line_color\":{\"value\":\"#1f77b4\"},\"size\":{\"units\":\"screen\",\"value\":10},\"x\":{\"field\":\"x\"},\"y\":{\"field\":\"y\"}},\"id\":\"b2651f02-a054-4abe-b3bb-a20f49bb1dc0\",\"type\":\"Circle\"},{\"attributes\":{},\"id\":\"e7e8275c-2828-4133-89ed-f02e0f0bb3a4\",\"type\":\"BasicTickFormatter\"},{\"attributes\":{\"active_drag\":\"auto\",\"active_inspect\":\"auto\",\"active_scroll\":\"auto\",\"active_tap\":\"auto\",\"tools\":[{\"id\":\"02a292eb-88a9-4a49-beac-9f1902f5986a\",\"type\":\"PanTool\"},{\"id\":\"2d0e95a7-7752-4563-a76d-11abc31323ea\",\"type\":\"WheelZoomTool\"},{\"id\":\"52400d54-a39c-45c0-9a06-11e535314983\",\"type\":\"BoxZoomTool\"},{\"id\":\"3a2d7c01-4e5e-44cf-b58a-64aecafd2a1e\",\"type\":\"SaveTool\"},{\"id\":\"f9987b3a-9102-4499-8d7f-641cc399757a\",\"type\":\"ResetTool\"},{\"id\":\"ce5f53ed-1dfe-46fb-a085-84800f78e8bd\",\"type\":\"HelpTool\"}]},\"id\":\"c20dc351-94e0-46d8-9aa9-ee4a1f7cc9bb\",\"type\":\"Toolbar\"},{\"attributes\":{\"bottom_units\":\"screen\",\"fill_alpha\":{\"value\":0.5},\"fill_color\":{\"value\":\"lightgrey\"},\"left_units\":\"screen\",\"level\":\"overlay\",\"line_alpha\":{\"value\":1.0},\"line_color\":{\"value\":\"black\"},\"line_dash\":[4,4],\"line_width\":{\"value\":2},\"plot\":null,\"render_mode\":\"css\",\"right_units\":\"screen\",\"top_units\":\"screen\"},\"id\":\"881fed91-1fbd-42f5-86bf-9ff5416dfa67\",\"type\":\"BoxAnnotation\"},{\"attributes\":{\"callback\":null},\"id\":\"51076f23-1fcb-4e4d-a108-9d0adb3f5a87\",\"type\":\"DataRange1d\"},{\"attributes\":{},\"id\":\"02a292eb-88a9-4a49-beac-9f1902f5986a\",\"type\":\"PanTool\"},{\"attributes\":{\"source\":{\"id\":\"afc33527-90a1-4440-ab45-048e4ddff520\",\"type\":\"ColumnDataSource\"}},\"id\":\"cffbecca-43f8-4df0-a0cb-874e3a72e01c\",\"type\":\"CDSView\"},{\"attributes\":{\"callback\":null},\"id\":\"660bc001-a70d-4000-84b6-c5df8c5dadf7\",\"type\":\"DataRange1d\"},{\"attributes\":{},\"id\":\"2d0e95a7-7752-4563-a76d-11abc31323ea\",\"type\":\"WheelZoomTool\"},{\"attributes\":{},\"id\":\"2966e178-8845-43a1-a9e6-1d4da01ced96\",\"type\":\"LinearScale\"},{\"attributes\":{\"overlay\":{\"id\":\"881fed91-1fbd-42f5-86bf-9ff5416dfa67\",\"type\":\"BoxAnnotation\"}},\"id\":\"52400d54-a39c-45c0-9a06-11e535314983\",\"type\":\"BoxZoomTool\"},{\"attributes\":{},\"id\":\"095e56d0-9fab-4c21-9e31-1553401c5735\",\"type\":\"LinearScale\"},{\"attributes\":{\"below\":[{\"id\":\"d2584431-21e1-49d8-a8c6-731e6ffd93cf\",\"type\":\"LinearAxis\"}],\"left\":[{\"id\":\"77ad79b9-9eca-4734-ab59-593fc739ce43\",\"type\":\"LinearAxis\"}],\"outline_line_alpha\":{\"value\":0.3},\"outline_line_color\":{\"value\":\"navy\"},\"outline_line_width\":{\"value\":7},\"plot_height\":400,\"plot_width\":400,\"renderers\":[{\"id\":\"d2584431-21e1-49d8-a8c6-731e6ffd93cf\",\"type\":\"LinearAxis\"},{\"id\":\"c4c02b2f-c216-41f2-bf75-4379b15cdd58\",\"type\":\"Grid\"},{\"id\":\"77ad79b9-9eca-4734-ab59-593fc739ce43\",\"type\":\"LinearAxis\"},{\"id\":\"9e48aa43-30c0-45a2-832f-72e87a036ad1\",\"type\":\"Grid\"},{\"id\":\"881fed91-1fbd-42f5-86bf-9ff5416dfa67\",\"type\":\"BoxAnnotation\"},{\"id\":\"0bed9cb9-9312-44f5-8f69-eba0f087e79f\",\"type\":\"GlyphRenderer\"}],\"title\":{\"id\":\"5e912aa1-c874-4fcd-b05f-26a765a380bf\",\"type\":\"Title\"},\"toolbar\":{\"id\":\"c20dc351-94e0-46d8-9aa9-ee4a1f7cc9bb\",\"type\":\"Toolbar\"},\"x_range\":{\"id\":\"51076f23-1fcb-4e4d-a108-9d0adb3f5a87\",\"type\":\"DataRange1d\"},\"x_scale\":{\"id\":\"2966e178-8845-43a1-a9e6-1d4da01ced96\",\"type\":\"LinearScale\"},\"y_range\":{\"id\":\"660bc001-a70d-4000-84b6-c5df8c5dadf7\",\"type\":\"DataRange1d\"},\"y_scale\":{\"id\":\"095e56d0-9fab-4c21-9e31-1553401c5735\",\"type\":\"LinearScale\"}},\"id\":\"6a4661e4-4feb-4ece-870e-60c372efb671\",\"subtype\":\"Figure\",\"type\":\"Plot\"},{\"attributes\":{},\"id\":\"3a2d7c01-4e5e-44cf-b58a-64aecafd2a1e\",\"type\":\"SaveTool\"},{\"attributes\":{},\"id\":\"f9987b3a-9102-4499-8d7f-641cc399757a\",\"type\":\"ResetTool\"},{\"attributes\":{},\"id\":\"ce5f53ed-1dfe-46fb-a085-84800f78e8bd\",\"type\":\"HelpTool\"},{\"attributes\":{\"callback\":null,\"column_names\":[\"x\",\"y\"],\"data\":{\"x\":[1,2,3,4,5],\"y\":[2,5,8,2,7]}},\"id\":\"afc33527-90a1-4440-ab45-048e4ddff520\",\"type\":\"ColumnDataSource\"},{\"attributes\":{},\"id\":\"ff1ebf48-1230-4c9a-b984-4b91005776a3\",\"type\":\"BasicTickFormatter\"},{\"attributes\":{\"fill_alpha\":{\"value\":0.1},\"fill_color\":{\"value\":\"#1f77b4\"},\"line_alpha\":{\"value\":0.1},\"line_color\":{\"value\":\"#1f77b4\"},\"size\":{\"units\":\"screen\",\"value\":10},\"x\":{\"field\":\"x\"},\"y\":{\"field\":\"y\"}},\"id\":\"b07676d8-f59d-44ed-b279-6acade958b05\",\"type\":\"Circle\"},{\"attributes\":{\"formatter\":{\"id\":\"e7e8275c-2828-4133-89ed-f02e0f0bb3a4\",\"type\":\"BasicTickFormatter\"},\"plot\":{\"id\":\"6a4661e4-4feb-4ece-870e-60c372efb671\",\"subtype\":\"Figure\",\"type\":\"Plot\"},\"ticker\":{\"id\":\"ee55fca5-9cb2-406b-ae36-c9721032033c\",\"type\":\"BasicTicker\"}},\"id\":\"d2584431-21e1-49d8-a8c6-731e6ffd93cf\",\"type\":\"LinearAxis\"},{\"attributes\":{\"plot\":{\"id\":\"6a4661e4-4feb-4ece-870e-60c372efb671\",\"subtype\":\"Figure\",\"type\":\"Plot\"},\"ticker\":{\"id\":\"ee55fca5-9cb2-406b-ae36-c9721032033c\",\"type\":\"BasicTicker\"}},\"id\":\"c4c02b2f-c216-41f2-bf75-4379b15cdd58\",\"type\":\"Grid\"},{\"attributes\":{\"plot\":null,\"text\":\"\"},\"id\":\"5e912aa1-c874-4fcd-b05f-26a765a380bf\",\"type\":\"Title\"},{\"attributes\":{},\"id\":\"ee55fca5-9cb2-406b-ae36-c9721032033c\",\"type\":\"BasicTicker\"},{\"attributes\":{\"formatter\":{\"id\":\"ff1ebf48-1230-4c9a-b984-4b91005776a3\",\"type\":\"BasicTickFormatter\"},\"plot\":{\"id\":\"6a4661e4-4feb-4ece-870e-60c372efb671\",\"subtype\":\"Figure\",\"type\":\"Plot\"},\"ticker\":{\"id\":\"52c5480f-a330-4e41-aff0-48856dc25ba1\",\"type\":\"BasicTicker\"}},\"id\":\"77ad79b9-9eca-4734-ab59-593fc739ce43\",\"type\":\"LinearAxis\"},{\"attributes\":{},\"id\":\"52c5480f-a330-4e41-aff0-48856dc25ba1\",\"type\":\"BasicTicker\"},{\"attributes\":{\"dimension\":1,\"plot\":{\"id\":\"6a4661e4-4feb-4ece-870e-60c372efb671\",\"subtype\":\"Figure\",\"type\":\"Plot\"},\"ticker\":{\"id\":\"52c5480f-a330-4e41-aff0-48856dc25ba1\",\"type\":\"BasicTicker\"}},\"id\":\"9e48aa43-30c0-45a2-832f-72e87a036ad1\",\"type\":\"Grid\"}],\"root_ids\":[\"6a4661e4-4feb-4ece-870e-60c372efb671\"]},\"title\":\"Bokeh Application\",\"version\":\"0.12.13\"}};\n",
       "  var render_items = [{\"docid\":\"0ba56e71-4003-42e4-94f0-0d5a10f1ec06\",\"elementid\":\"cd827d64-a333-4115-a493-ea2217742f61\",\"modelid\":\"6a4661e4-4feb-4ece-870e-60c372efb671\"}];\n",
       "  root.Bokeh.embed.embed_items_notebook(docs_json, render_items);\n",
       "\n",
       "  }\n",
       "  if (root.Bokeh !== undefined) {\n",
       "    embed_document(root);\n",
       "  } else {\n",
       "    var attempts = 0;\n",
       "    var timer = setInterval(function(root) {\n",
       "      if (root.Bokeh !== undefined) {\n",
       "        embed_document(root);\n",
       "        clearInterval(timer);\n",
       "      }\n",
       "      attempts++;\n",
       "      if (attempts > 100) {\n",
       "        console.log(\"Bokeh: ERROR: Unable to run BokehJS code because BokehJS library is missing\")\n",
       "        clearInterval(timer);\n",
       "      }\n",
       "    }, 10, root)\n",
       "  }\n",
       "})(window);"
      ],
      "application/vnd.bokehjs_exec.v0+json": ""
     },
     "metadata": {
      "application/vnd.bokehjs_exec.v0+json": {
       "id": "6a4661e4-4feb-4ece-870e-60c372efb671"
      }
     },
     "output_type": "display_data"
    }
   ],
   "source": [
    "p = figure(plot_width=400, plot_height=400)\n",
    "\n",
    "p.outline_line_width = 7\n",
    "p.outline_line_alpha = 0.3\n",
    "p.outline_line_color = \"navy\"\n",
    "\n",
    "p.circle([1,2,3,4,5], [2,5,8,2,7], size=10)\n",
    "\n",
    "show(p)"
   ]
  },
  {
   "cell_type": "markdown",
   "metadata": {},
   "source": [
    "### Glyphs"
   ]
  },
  {
   "cell_type": "code",
   "execution_count": 24,
   "metadata": {},
   "outputs": [
    {
     "data": {
      "text/html": [
       "\n",
       "<div class=\"bk-root\">\n",
       "    <div class=\"bk-plotdiv\" id=\"5971acdf-3841-4e6e-af13-9af22d651df2\"></div>\n",
       "</div>"
      ]
     },
     "metadata": {},
     "output_type": "display_data"
    },
    {
     "data": {
      "application/javascript": [
       "(function(root) {\n",
       "  function embed_document(root) {\n",
       "    \n",
       "  var docs_json = {\"03931736-0d6a-41d3-aa03-6e6e66ab1f70\":{\"roots\":{\"references\":[{\"attributes\":{},\"id\":\"10d71b1f-47be-4061-af7c-d3e7143c31c4\",\"type\":\"LinearScale\"},{\"attributes\":{},\"id\":\"591b5cdc-c99f-4d9b-bbd2-62ac234be6f8\",\"type\":\"BasicTicker\"},{\"attributes\":{\"formatter\":{\"id\":\"f13871b7-c120-4d1c-93f7-ffd3e1452833\",\"type\":\"BasicTickFormatter\"},\"plot\":{\"id\":\"00e7a08b-46e6-4feb-8b10-03c44bfda121\",\"subtype\":\"Figure\",\"type\":\"Plot\"},\"ticker\":{\"id\":\"591b5cdc-c99f-4d9b-bbd2-62ac234be6f8\",\"type\":\"BasicTicker\"}},\"id\":\"33046c4a-3d82-4777-9252-303367e09648\",\"type\":\"LinearAxis\"},{\"attributes\":{},\"id\":\"9e9dfb52-cfc0-4895-b46b-6ed9a14f1bd7\",\"type\":\"LinearScale\"},{\"attributes\":{\"callback\":null},\"id\":\"10a5437c-565f-4d1e-b592-91d8633bee8c\",\"type\":\"DataRange1d\"},{\"attributes\":{},\"id\":\"93922fc7-e976-4136-9912-aa5ffb1dd1f1\",\"type\":\"PanTool\"},{\"attributes\":{\"plot\":{\"id\":\"00e7a08b-46e6-4feb-8b10-03c44bfda121\",\"subtype\":\"Figure\",\"type\":\"Plot\"},\"ticker\":{\"id\":\"591b5cdc-c99f-4d9b-bbd2-62ac234be6f8\",\"type\":\"BasicTicker\"}},\"id\":\"f6008759-ff74-46b0-bbb7-63a0f79c41d6\",\"type\":\"Grid\"},{\"attributes\":{\"plot\":null,\"text\":\"\"},\"id\":\"e60ffa25-7716-4c18-9c7e-5570e45c4dd3\",\"type\":\"Title\"},{\"attributes\":{\"callback\":null},\"id\":\"a122ac57-44a2-4253-a011-dfe443c4ffe1\",\"type\":\"DataRange1d\"},{\"attributes\":{},\"id\":\"32b2568b-5e93-4d3c-bdf4-76050a966939\",\"type\":\"BasicTickFormatter\"},{\"attributes\":{},\"id\":\"f66c55c5-2efa-40e6-bf6e-fb7f7b8addc3\",\"type\":\"BasicTicker\"},{\"attributes\":{\"active_drag\":\"auto\",\"active_inspect\":\"auto\",\"active_scroll\":\"auto\",\"active_tap\":\"auto\",\"tools\":[{\"id\":\"93922fc7-e976-4136-9912-aa5ffb1dd1f1\",\"type\":\"PanTool\"},{\"id\":\"c4e801ab-84be-4fcc-96e3-9124c268fa8a\",\"type\":\"WheelZoomTool\"},{\"id\":\"ea06f336-3ddd-4e07-b07c-d7125ca7b4fe\",\"type\":\"BoxZoomTool\"},{\"id\":\"aa28fdcc-3e87-40f6-9712-8745e106a239\",\"type\":\"SaveTool\"},{\"id\":\"5eb8dd31-342a-40c0-acc1-e7e62149930d\",\"type\":\"ResetTool\"},{\"id\":\"42505e02-051a-496b-bdc5-1e490375670b\",\"type\":\"HelpTool\"}]},\"id\":\"26e62322-6c32-46b8-ae9e-dee32c3315fa\",\"type\":\"Toolbar\"},{\"attributes\":{\"fill_alpha\":{\"value\":0.1},\"fill_color\":{\"value\":\"#1f77b4\"},\"line_alpha\":{\"value\":0.1},\"line_color\":{\"value\":\"#1f77b4\"},\"x\":{\"field\":\"x\"},\"y\":{\"field\":\"y\"}},\"id\":\"0c86166d-56c2-427b-8806-e5e8279da42e\",\"type\":\"Circle\"},{\"attributes\":{\"dimension\":1,\"plot\":{\"id\":\"00e7a08b-46e6-4feb-8b10-03c44bfda121\",\"subtype\":\"Figure\",\"type\":\"Plot\"},\"ticker\":{\"id\":\"f66c55c5-2efa-40e6-bf6e-fb7f7b8addc3\",\"type\":\"BasicTicker\"}},\"id\":\"afc26e27-95bb-46a0-8436-df7d02d4846d\",\"type\":\"Grid\"},{\"attributes\":{},\"id\":\"f13871b7-c120-4d1c-93f7-ffd3e1452833\",\"type\":\"BasicTickFormatter\"},{\"attributes\":{},\"id\":\"42505e02-051a-496b-bdc5-1e490375670b\",\"type\":\"HelpTool\"},{\"attributes\":{\"fill_alpha\":{\"value\":0.2},\"fill_color\":{\"value\":\"#1f77b4\"},\"line_color\":{\"value\":\"firebrick\"},\"line_dash\":[6,3],\"line_width\":{\"value\":2},\"size\":{\"units\":\"screen\",\"value\":60},\"x\":{\"field\":\"x\"},\"y\":{\"field\":\"y\"}},\"id\":\"315cddba-e026-490d-9315-47d33a0f294f\",\"type\":\"Circle\"},{\"attributes\":{\"bottom_units\":\"screen\",\"fill_alpha\":{\"value\":0.5},\"fill_color\":{\"value\":\"lightgrey\"},\"left_units\":\"screen\",\"level\":\"overlay\",\"line_alpha\":{\"value\":1.0},\"line_color\":{\"value\":\"black\"},\"line_dash\":[4,4],\"line_width\":{\"value\":2},\"plot\":null,\"render_mode\":\"css\",\"right_units\":\"screen\",\"top_units\":\"screen\"},\"id\":\"8f64ccc2-3ba4-4292-a64e-ae8b741cacb7\",\"type\":\"BoxAnnotation\"},{\"attributes\":{\"data_source\":{\"id\":\"e2649adc-7460-45fd-bdd6-4e9305ee3306\",\"type\":\"ColumnDataSource\"},\"glyph\":{\"id\":\"315cddba-e026-490d-9315-47d33a0f294f\",\"type\":\"Circle\"},\"hover_glyph\":null,\"muted_glyph\":null,\"nonselection_glyph\":{\"id\":\"0c86166d-56c2-427b-8806-e5e8279da42e\",\"type\":\"Circle\"},\"selection_glyph\":null,\"view\":{\"id\":\"4b93399b-a8ed-4846-bac0-a19bf93e60d9\",\"type\":\"CDSView\"}},\"id\":\"1c73d4f1-b16a-4743-a1a9-52b6ea5db243\",\"type\":\"GlyphRenderer\"},{\"attributes\":{\"source\":{\"id\":\"e2649adc-7460-45fd-bdd6-4e9305ee3306\",\"type\":\"ColumnDataSource\"}},\"id\":\"4b93399b-a8ed-4846-bac0-a19bf93e60d9\",\"type\":\"CDSView\"},{\"attributes\":{},\"id\":\"aa28fdcc-3e87-40f6-9712-8745e106a239\",\"type\":\"SaveTool\"},{\"attributes\":{\"callback\":null,\"column_names\":[\"x\",\"y\"],\"data\":{\"x\":[1,2,3,4,5],\"y\":[2,5,8,2,7]}},\"id\":\"e2649adc-7460-45fd-bdd6-4e9305ee3306\",\"type\":\"ColumnDataSource\"},{\"attributes\":{},\"id\":\"5eb8dd31-342a-40c0-acc1-e7e62149930d\",\"type\":\"ResetTool\"},{\"attributes\":{\"overlay\":{\"id\":\"8f64ccc2-3ba4-4292-a64e-ae8b741cacb7\",\"type\":\"BoxAnnotation\"}},\"id\":\"ea06f336-3ddd-4e07-b07c-d7125ca7b4fe\",\"type\":\"BoxZoomTool\"},{\"attributes\":{\"below\":[{\"id\":\"33046c4a-3d82-4777-9252-303367e09648\",\"type\":\"LinearAxis\"}],\"left\":[{\"id\":\"d60b74c9-dea7-4f64-8391-52f898ad17b1\",\"type\":\"LinearAxis\"}],\"plot_height\":400,\"plot_width\":400,\"renderers\":[{\"id\":\"33046c4a-3d82-4777-9252-303367e09648\",\"type\":\"LinearAxis\"},{\"id\":\"f6008759-ff74-46b0-bbb7-63a0f79c41d6\",\"type\":\"Grid\"},{\"id\":\"d60b74c9-dea7-4f64-8391-52f898ad17b1\",\"type\":\"LinearAxis\"},{\"id\":\"afc26e27-95bb-46a0-8436-df7d02d4846d\",\"type\":\"Grid\"},{\"id\":\"8f64ccc2-3ba4-4292-a64e-ae8b741cacb7\",\"type\":\"BoxAnnotation\"},{\"id\":\"1c73d4f1-b16a-4743-a1a9-52b6ea5db243\",\"type\":\"GlyphRenderer\"}],\"title\":{\"id\":\"e60ffa25-7716-4c18-9c7e-5570e45c4dd3\",\"type\":\"Title\"},\"toolbar\":{\"id\":\"26e62322-6c32-46b8-ae9e-dee32c3315fa\",\"type\":\"Toolbar\"},\"x_range\":{\"id\":\"a122ac57-44a2-4253-a011-dfe443c4ffe1\",\"type\":\"DataRange1d\"},\"x_scale\":{\"id\":\"9e9dfb52-cfc0-4895-b46b-6ed9a14f1bd7\",\"type\":\"LinearScale\"},\"y_range\":{\"id\":\"10a5437c-565f-4d1e-b592-91d8633bee8c\",\"type\":\"DataRange1d\"},\"y_scale\":{\"id\":\"10d71b1f-47be-4061-af7c-d3e7143c31c4\",\"type\":\"LinearScale\"}},\"id\":\"00e7a08b-46e6-4feb-8b10-03c44bfda121\",\"subtype\":\"Figure\",\"type\":\"Plot\"},{\"attributes\":{},\"id\":\"c4e801ab-84be-4fcc-96e3-9124c268fa8a\",\"type\":\"WheelZoomTool\"},{\"attributes\":{\"formatter\":{\"id\":\"32b2568b-5e93-4d3c-bdf4-76050a966939\",\"type\":\"BasicTickFormatter\"},\"plot\":{\"id\":\"00e7a08b-46e6-4feb-8b10-03c44bfda121\",\"subtype\":\"Figure\",\"type\":\"Plot\"},\"ticker\":{\"id\":\"f66c55c5-2efa-40e6-bf6e-fb7f7b8addc3\",\"type\":\"BasicTicker\"}},\"id\":\"d60b74c9-dea7-4f64-8391-52f898ad17b1\",\"type\":\"LinearAxis\"}],\"root_ids\":[\"00e7a08b-46e6-4feb-8b10-03c44bfda121\"]},\"title\":\"Bokeh Application\",\"version\":\"0.12.13\"}};\n",
       "  var render_items = [{\"docid\":\"03931736-0d6a-41d3-aa03-6e6e66ab1f70\",\"elementid\":\"5971acdf-3841-4e6e-af13-9af22d651df2\",\"modelid\":\"00e7a08b-46e6-4feb-8b10-03c44bfda121\"}];\n",
       "  root.Bokeh.embed.embed_items_notebook(docs_json, render_items);\n",
       "\n",
       "  }\n",
       "  if (root.Bokeh !== undefined) {\n",
       "    embed_document(root);\n",
       "  } else {\n",
       "    var attempts = 0;\n",
       "    var timer = setInterval(function(root) {\n",
       "      if (root.Bokeh !== undefined) {\n",
       "        embed_document(root);\n",
       "        clearInterval(timer);\n",
       "      }\n",
       "      attempts++;\n",
       "      if (attempts > 100) {\n",
       "        console.log(\"Bokeh: ERROR: Unable to run BokehJS code because BokehJS library is missing\")\n",
       "        clearInterval(timer);\n",
       "      }\n",
       "    }, 10, root)\n",
       "  }\n",
       "})(window);"
      ],
      "application/vnd.bokehjs_exec.v0+json": ""
     },
     "metadata": {
      "application/vnd.bokehjs_exec.v0+json": {
       "id": "00e7a08b-46e6-4feb-8b10-03c44bfda121"
      }
     },
     "output_type": "display_data"
    }
   ],
   "source": [
    "p = figure(plot_width=400, plot_height=400)\n",
    "r = p.circle([1,2,3,4,5], [2,5,8,2,7])\n",
    "\n",
    "glyph = r.glyph\n",
    "\n",
    "glyph.size = 60\n",
    "glyph.fill_alpha = 0.2\n",
    "glyph.line_color = \"firebrick\"\n",
    "glyph.line_dash = [6, 3]\n",
    "glyph.line_width = 2\n",
    "\n",
    "show(p)"
   ]
  },
  {
   "cell_type": "markdown",
   "metadata": {},
   "source": [
    "### Selected and Unselected Glyphs"
   ]
  },
  {
   "cell_type": "code",
   "execution_count": 27,
   "metadata": {},
   "outputs": [
    {
     "data": {
      "text/html": [
       "\n",
       "<div class=\"bk-root\">\n",
       "    <div class=\"bk-plotdiv\" id=\"495458d8-87b6-4e6c-976b-df8a139000d8\"></div>\n",
       "</div>"
      ]
     },
     "metadata": {},
     "output_type": "display_data"
    },
    {
     "data": {
      "application/javascript": [
       "(function(root) {\n",
       "  function embed_document(root) {\n",
       "    \n",
       "  var docs_json = {\"d050edd9-f80c-4361-a827-21aac9540856\":{\"roots\":{\"references\":[{\"attributes\":{\"callback\":null},\"id\":\"d368fe18-44d5-4844-b8d5-8cc30e1e218d\",\"type\":\"DataRange1d\"},{\"attributes\":{\"plot\":null,\"text\":\"Select a circle\"},\"id\":\"21d5cb7c-aaec-4f35-83c8-6c459a8dab06\",\"type\":\"Title\"},{\"attributes\":{\"callback\":null},\"id\":\"21b0154b-2744-4b94-b1ef-db5edf50d111\",\"type\":\"TapTool\"},{\"attributes\":{\"plot\":{\"id\":\"005df72a-216f-4824-8030-aa03a6e7c097\",\"subtype\":\"Figure\",\"type\":\"Plot\"},\"ticker\":{\"id\":\"a4d41c30-b1d5-4a97-b43f-92bd86aaf628\",\"type\":\"BasicTicker\"}},\"id\":\"8b5907f6-9db3-4c4c-bbbf-071ab7c0fcbf\",\"type\":\"Grid\"},{\"attributes\":{\"data_source\":{\"id\":\"7292e87f-186f-4b44-a78e-3d13379a9b2a\",\"type\":\"ColumnDataSource\"},\"glyph\":{\"id\":\"fdc1fc95-d1d8-47f6-8ca1-0b52877f3818\",\"type\":\"Circle\"},\"hover_glyph\":null,\"muted_glyph\":null,\"nonselection_glyph\":{\"id\":\"51e34573-3f58-4465-a7ef-70a72de526bd\",\"type\":\"Circle\"},\"selection_glyph\":{\"id\":\"edadf6d0-5e0c-4c91-afea-de1c2eedf076\",\"type\":\"Circle\"},\"view\":{\"id\":\"ebeae3b6-4c27-436b-aff3-312b456308f3\",\"type\":\"CDSView\"}},\"id\":\"31d70ed8-fb2c-4757-b9d5-85dcb140462a\",\"type\":\"GlyphRenderer\"},{\"attributes\":{\"callback\":null,\"column_names\":[\"x\",\"y\"],\"data\":{\"x\":[1,2,3,4,5],\"y\":[2,5,8,2,7]}},\"id\":\"7292e87f-186f-4b44-a78e-3d13379a9b2a\",\"type\":\"ColumnDataSource\"},{\"attributes\":{},\"id\":\"a4d41c30-b1d5-4a97-b43f-92bd86aaf628\",\"type\":\"BasicTicker\"},{\"attributes\":{},\"id\":\"ddf64525-8635-409e-8cf6-47293f7e4595\",\"type\":\"BasicTickFormatter\"},{\"attributes\":{\"fill_color\":{\"value\":\"firebrick\"},\"line_color\":{\"value\":null}},\"id\":\"edadf6d0-5e0c-4c91-afea-de1c2eedf076\",\"type\":\"Circle\"},{\"attributes\":{\"active_drag\":\"auto\",\"active_inspect\":\"auto\",\"active_scroll\":\"auto\",\"active_tap\":\"auto\",\"tools\":[{\"id\":\"21b0154b-2744-4b94-b1ef-db5edf50d111\",\"type\":\"TapTool\"}]},\"id\":\"ad737bfd-b90f-4807-875d-852a4e83b12a\",\"type\":\"Toolbar\"},{\"attributes\":{\"source\":{\"id\":\"7292e87f-186f-4b44-a78e-3d13379a9b2a\",\"type\":\"ColumnDataSource\"}},\"id\":\"ebeae3b6-4c27-436b-aff3-312b456308f3\",\"type\":\"CDSView\"},{\"attributes\":{},\"id\":\"7bacd221-e015-4e4b-9f1a-fe4511186fa4\",\"type\":\"LinearScale\"},{\"attributes\":{\"dimension\":1,\"plot\":{\"id\":\"005df72a-216f-4824-8030-aa03a6e7c097\",\"subtype\":\"Figure\",\"type\":\"Plot\"},\"ticker\":{\"id\":\"106d9dfc-b512-4bb7-9750-2e148fcaa5a4\",\"type\":\"BasicTicker\"}},\"id\":\"1b2ec1d7-e160-4f72-80f9-1bf24d63b25d\",\"type\":\"Grid\"},{\"attributes\":{},\"id\":\"a2e1db9a-c730-4c6a-ba86-e0361aa7d578\",\"type\":\"BasicTickFormatter\"},{\"attributes\":{\"fill_color\":{\"value\":\"#1f77b4\"},\"line_color\":{\"value\":\"#1f77b4\"},\"size\":{\"units\":\"screen\",\"value\":50},\"x\":{\"field\":\"x\"},\"y\":{\"field\":\"y\"}},\"id\":\"fdc1fc95-d1d8-47f6-8ca1-0b52877f3818\",\"type\":\"Circle\"},{\"attributes\":{},\"id\":\"106d9dfc-b512-4bb7-9750-2e148fcaa5a4\",\"type\":\"BasicTicker\"},{\"attributes\":{\"formatter\":{\"id\":\"ddf64525-8635-409e-8cf6-47293f7e4595\",\"type\":\"BasicTickFormatter\"},\"plot\":{\"id\":\"005df72a-216f-4824-8030-aa03a6e7c097\",\"subtype\":\"Figure\",\"type\":\"Plot\"},\"ticker\":{\"id\":\"106d9dfc-b512-4bb7-9750-2e148fcaa5a4\",\"type\":\"BasicTicker\"}},\"id\":\"d0985510-1b77-406e-8b78-63d4dbd4d1fb\",\"type\":\"LinearAxis\"},{\"attributes\":{\"callback\":null},\"id\":\"2b5888d2-9a55-43f4-959e-da9615e66306\",\"type\":\"DataRange1d\"},{\"attributes\":{\"fill_alpha\":{\"value\":0.2},\"fill_color\":{\"value\":\"blue\"},\"line_color\":{\"value\":\"firebrick\"}},\"id\":\"51e34573-3f58-4465-a7ef-70a72de526bd\",\"type\":\"Circle\"},{\"attributes\":{\"formatter\":{\"id\":\"a2e1db9a-c730-4c6a-ba86-e0361aa7d578\",\"type\":\"BasicTickFormatter\"},\"plot\":{\"id\":\"005df72a-216f-4824-8030-aa03a6e7c097\",\"subtype\":\"Figure\",\"type\":\"Plot\"},\"ticker\":{\"id\":\"a4d41c30-b1d5-4a97-b43f-92bd86aaf628\",\"type\":\"BasicTicker\"}},\"id\":\"3162c1c1-7eab-4a49-ad5f-75ce91b1848d\",\"type\":\"LinearAxis\"},{\"attributes\":{\"below\":[{\"id\":\"3162c1c1-7eab-4a49-ad5f-75ce91b1848d\",\"type\":\"LinearAxis\"}],\"left\":[{\"id\":\"d0985510-1b77-406e-8b78-63d4dbd4d1fb\",\"type\":\"LinearAxis\"}],\"plot_height\":400,\"plot_width\":400,\"renderers\":[{\"id\":\"3162c1c1-7eab-4a49-ad5f-75ce91b1848d\",\"type\":\"LinearAxis\"},{\"id\":\"8b5907f6-9db3-4c4c-bbbf-071ab7c0fcbf\",\"type\":\"Grid\"},{\"id\":\"d0985510-1b77-406e-8b78-63d4dbd4d1fb\",\"type\":\"LinearAxis\"},{\"id\":\"1b2ec1d7-e160-4f72-80f9-1bf24d63b25d\",\"type\":\"Grid\"},{\"id\":\"31d70ed8-fb2c-4757-b9d5-85dcb140462a\",\"type\":\"GlyphRenderer\"}],\"title\":{\"id\":\"21d5cb7c-aaec-4f35-83c8-6c459a8dab06\",\"type\":\"Title\"},\"toolbar\":{\"id\":\"ad737bfd-b90f-4807-875d-852a4e83b12a\",\"type\":\"Toolbar\"},\"x_range\":{\"id\":\"d368fe18-44d5-4844-b8d5-8cc30e1e218d\",\"type\":\"DataRange1d\"},\"x_scale\":{\"id\":\"7bacd221-e015-4e4b-9f1a-fe4511186fa4\",\"type\":\"LinearScale\"},\"y_range\":{\"id\":\"2b5888d2-9a55-43f4-959e-da9615e66306\",\"type\":\"DataRange1d\"},\"y_scale\":{\"id\":\"f78d148c-00e2-4470-aeaa-4a9961c5c152\",\"type\":\"LinearScale\"}},\"id\":\"005df72a-216f-4824-8030-aa03a6e7c097\",\"subtype\":\"Figure\",\"type\":\"Plot\"},{\"attributes\":{},\"id\":\"f78d148c-00e2-4470-aeaa-4a9961c5c152\",\"type\":\"LinearScale\"}],\"root_ids\":[\"005df72a-216f-4824-8030-aa03a6e7c097\"]},\"title\":\"Bokeh Application\",\"version\":\"0.12.13\"}};\n",
       "  var render_items = [{\"docid\":\"d050edd9-f80c-4361-a827-21aac9540856\",\"elementid\":\"495458d8-87b6-4e6c-976b-df8a139000d8\",\"modelid\":\"005df72a-216f-4824-8030-aa03a6e7c097\"}];\n",
       "  root.Bokeh.embed.embed_items_notebook(docs_json, render_items);\n",
       "\n",
       "  }\n",
       "  if (root.Bokeh !== undefined) {\n",
       "    embed_document(root);\n",
       "  } else {\n",
       "    var attempts = 0;\n",
       "    var timer = setInterval(function(root) {\n",
       "      if (root.Bokeh !== undefined) {\n",
       "        embed_document(root);\n",
       "        clearInterval(timer);\n",
       "      }\n",
       "      attempts++;\n",
       "      if (attempts > 100) {\n",
       "        console.log(\"Bokeh: ERROR: Unable to run BokehJS code because BokehJS library is missing\")\n",
       "        clearInterval(timer);\n",
       "      }\n",
       "    }, 10, root)\n",
       "  }\n",
       "})(window);"
      ],
      "application/vnd.bokehjs_exec.v0+json": ""
     },
     "metadata": {
      "application/vnd.bokehjs_exec.v0+json": {
       "id": "005df72a-216f-4824-8030-aa03a6e7c097"
      }
     },
     "output_type": "display_data"
    }
   ],
   "source": [
    "from bokeh.models import Circle \n",
    "\n",
    "plot = figure(plot_width=400, plot_height=400, tools=\"tap\", title=\"Select a circle\")\n",
    "renderer = plot.circle([1, 2, 3, 4, 5], [2, 5, 8, 2, 7], size=50)\n",
    "\n",
    "selected_circle = Circle(fill_alpha=1, fill_color=\"firebrick\", line_color=None)\n",
    "nonselected_circle = Circle(fill_alpha=0.2, fill_color=\"blue\", line_color=\"firebrick\")\n",
    "\n",
    "# policies\n",
    "renderer.selection_glyph = selected_circle\n",
    "renderer.nonselection_glyph = nonselected_circle\n",
    "\n",
    "show(plot)"
   ]
  },
  {
   "cell_type": "code",
   "execution_count": 28,
   "metadata": {},
   "outputs": [
    {
     "data": {
      "text/html": [
       "\n",
       "<div class=\"bk-root\">\n",
       "    <div class=\"bk-plotdiv\" id=\"1db45df1-fe75-49d4-b0c7-07ec361ed78c\"></div>\n",
       "</div>"
      ]
     },
     "metadata": {},
     "output_type": "display_data"
    },
    {
     "data": {
      "application/javascript": [
       "(function(root) {\n",
       "  function embed_document(root) {\n",
       "    \n",
       "  var docs_json = {\"7d0913d1-bcb8-4d8c-bf32-cf3648b8e272\":{\"roots\":{\"references\":[{\"attributes\":{\"active_drag\":\"auto\",\"active_inspect\":\"auto\",\"active_scroll\":\"auto\",\"active_tap\":\"auto\",\"tools\":[{\"id\":\"01a55fc7-2b71-4405-9a0b-3bb7e766bae3\",\"type\":\"TapTool\"}]},\"id\":\"60708758-eaa6-43f6-961c-2b9f1954a523\",\"type\":\"Toolbar\"},{\"attributes\":{\"plot\":{\"id\":\"f403f8af-a22b-4901-bfd5-86f977daa9ac\",\"subtype\":\"Figure\",\"type\":\"Plot\"},\"ticker\":{\"id\":\"e7617712-42eb-40a5-8767-768f7036fceb\",\"type\":\"BasicTicker\"}},\"id\":\"abdd8d5d-7cf5-47a0-88c1-256b7a315694\",\"type\":\"Grid\"},{\"attributes\":{\"plot\":null,\"text\":\"Select a circle\"},\"id\":\"5044f09a-5cdc-4564-8d57-4b9529361650\",\"type\":\"Title\"},{\"attributes\":{},\"id\":\"217ad013-24f0-433c-832f-c4978b8bb0f8\",\"type\":\"BasicTicker\"},{\"attributes\":{\"fill_alpha\":{\"value\":0.2},\"fill_color\":{\"value\":\"blue\"},\"line_color\":{\"value\":\"firebrick\"},\"size\":{\"units\":\"screen\",\"value\":50},\"x\":{\"field\":\"x\"},\"y\":{\"field\":\"y\"}},\"id\":\"70179237-e7bf-4c7a-b133-602fa9ca0313\",\"type\":\"Circle\"},{\"attributes\":{\"fill_color\":{\"value\":\"#1f77b4\"},\"line_color\":{\"value\":\"#1f77b4\"},\"size\":{\"units\":\"screen\",\"value\":50},\"x\":{\"field\":\"x\"},\"y\":{\"field\":\"y\"}},\"id\":\"22446d5c-6b1d-4dc4-bd68-757bb610dc82\",\"type\":\"Circle\"},{\"attributes\":{},\"id\":\"c0389859-653b-4d56-8cc7-5add3a7269a0\",\"type\":\"BasicTickFormatter\"},{\"attributes\":{\"data_source\":{\"id\":\"8aea9021-ef2f-4849-a85e-d823da99cddf\",\"type\":\"ColumnDataSource\"},\"glyph\":{\"id\":\"22446d5c-6b1d-4dc4-bd68-757bb610dc82\",\"type\":\"Circle\"},\"hover_glyph\":null,\"muted_glyph\":null,\"nonselection_glyph\":{\"id\":\"70179237-e7bf-4c7a-b133-602fa9ca0313\",\"type\":\"Circle\"},\"selection_glyph\":{\"id\":\"a542bd24-b957-4c0e-9c94-646ee803f51a\",\"type\":\"Circle\"},\"view\":{\"id\":\"2c45019a-860f-4629-a849-12ed2ac24635\",\"type\":\"CDSView\"}},\"id\":\"ab06b96d-cef4-42e2-949e-025e6616d83c\",\"type\":\"GlyphRenderer\"},{\"attributes\":{\"below\":[{\"id\":\"3ee4eba4-589a-4c50-a67f-f9900ca125b1\",\"type\":\"LinearAxis\"}],\"left\":[{\"id\":\"0edc25aa-8014-43f4-b6f1-b350326c20d7\",\"type\":\"LinearAxis\"}],\"plot_height\":400,\"plot_width\":400,\"renderers\":[{\"id\":\"3ee4eba4-589a-4c50-a67f-f9900ca125b1\",\"type\":\"LinearAxis\"},{\"id\":\"abdd8d5d-7cf5-47a0-88c1-256b7a315694\",\"type\":\"Grid\"},{\"id\":\"0edc25aa-8014-43f4-b6f1-b350326c20d7\",\"type\":\"LinearAxis\"},{\"id\":\"a22b6900-0c9c-464c-891a-79009c42bdf4\",\"type\":\"Grid\"},{\"id\":\"ab06b96d-cef4-42e2-949e-025e6616d83c\",\"type\":\"GlyphRenderer\"}],\"title\":{\"id\":\"5044f09a-5cdc-4564-8d57-4b9529361650\",\"type\":\"Title\"},\"toolbar\":{\"id\":\"60708758-eaa6-43f6-961c-2b9f1954a523\",\"type\":\"Toolbar\"},\"x_range\":{\"id\":\"6c28eec9-5150-4d1f-916f-2123a4d48822\",\"type\":\"DataRange1d\"},\"x_scale\":{\"id\":\"cca5f38e-bdf6-453d-a289-dea992d7d9d2\",\"type\":\"LinearScale\"},\"y_range\":{\"id\":\"f0567049-8410-44d7-901e-3eac03de286b\",\"type\":\"DataRange1d\"},\"y_scale\":{\"id\":\"d4e55e4d-6c00-4ddd-aae4-954d4fc1f8d4\",\"type\":\"LinearScale\"}},\"id\":\"f403f8af-a22b-4901-bfd5-86f977daa9ac\",\"subtype\":\"Figure\",\"type\":\"Plot\"},{\"attributes\":{\"dimension\":1,\"plot\":{\"id\":\"f403f8af-a22b-4901-bfd5-86f977daa9ac\",\"subtype\":\"Figure\",\"type\":\"Plot\"},\"ticker\":{\"id\":\"217ad013-24f0-433c-832f-c4978b8bb0f8\",\"type\":\"BasicTicker\"}},\"id\":\"a22b6900-0c9c-464c-891a-79009c42bdf4\",\"type\":\"Grid\"},{\"attributes\":{\"callback\":null},\"id\":\"01a55fc7-2b71-4405-9a0b-3bb7e766bae3\",\"type\":\"TapTool\"},{\"attributes\":{\"source\":{\"id\":\"8aea9021-ef2f-4849-a85e-d823da99cddf\",\"type\":\"ColumnDataSource\"}},\"id\":\"2c45019a-860f-4629-a849-12ed2ac24635\",\"type\":\"CDSView\"},{\"attributes\":{},\"id\":\"9c280cab-d90c-44ee-9765-b4cd8ffcb95f\",\"type\":\"BasicTickFormatter\"},{\"attributes\":{\"formatter\":{\"id\":\"c0389859-653b-4d56-8cc7-5add3a7269a0\",\"type\":\"BasicTickFormatter\"},\"plot\":{\"id\":\"f403f8af-a22b-4901-bfd5-86f977daa9ac\",\"subtype\":\"Figure\",\"type\":\"Plot\"},\"ticker\":{\"id\":\"217ad013-24f0-433c-832f-c4978b8bb0f8\",\"type\":\"BasicTicker\"}},\"id\":\"0edc25aa-8014-43f4-b6f1-b350326c20d7\",\"type\":\"LinearAxis\"},{\"attributes\":{\"fill_color\":{\"value\":\"firebrick\"},\"line_color\":{\"value\":\"firebrick\"},\"size\":{\"units\":\"screen\",\"value\":50},\"x\":{\"field\":\"x\"},\"y\":{\"field\":\"y\"}},\"id\":\"a542bd24-b957-4c0e-9c94-646ee803f51a\",\"type\":\"Circle\"},{\"attributes\":{},\"id\":\"cca5f38e-bdf6-453d-a289-dea992d7d9d2\",\"type\":\"LinearScale\"},{\"attributes\":{\"formatter\":{\"id\":\"9c280cab-d90c-44ee-9765-b4cd8ffcb95f\",\"type\":\"BasicTickFormatter\"},\"plot\":{\"id\":\"f403f8af-a22b-4901-bfd5-86f977daa9ac\",\"subtype\":\"Figure\",\"type\":\"Plot\"},\"ticker\":{\"id\":\"e7617712-42eb-40a5-8767-768f7036fceb\",\"type\":\"BasicTicker\"}},\"id\":\"3ee4eba4-589a-4c50-a67f-f9900ca125b1\",\"type\":\"LinearAxis\"},{\"attributes\":{},\"id\":\"d4e55e4d-6c00-4ddd-aae4-954d4fc1f8d4\",\"type\":\"LinearScale\"},{\"attributes\":{\"callback\":null,\"column_names\":[\"x\",\"y\"],\"data\":{\"x\":[1,2,3,4,5],\"y\":[2,5,8,2,7]}},\"id\":\"8aea9021-ef2f-4849-a85e-d823da99cddf\",\"type\":\"ColumnDataSource\"},{\"attributes\":{\"callback\":null},\"id\":\"f0567049-8410-44d7-901e-3eac03de286b\",\"type\":\"DataRange1d\"},{\"attributes\":{},\"id\":\"e7617712-42eb-40a5-8767-768f7036fceb\",\"type\":\"BasicTicker\"},{\"attributes\":{\"callback\":null},\"id\":\"6c28eec9-5150-4d1f-916f-2123a4d48822\",\"type\":\"DataRange1d\"}],\"root_ids\":[\"f403f8af-a22b-4901-bfd5-86f977daa9ac\"]},\"title\":\"Bokeh Application\",\"version\":\"0.12.13\"}};\n",
       "  var render_items = [{\"docid\":\"7d0913d1-bcb8-4d8c-bf32-cf3648b8e272\",\"elementid\":\"1db45df1-fe75-49d4-b0c7-07ec361ed78c\",\"modelid\":\"f403f8af-a22b-4901-bfd5-86f977daa9ac\"}];\n",
       "  root.Bokeh.embed.embed_items_notebook(docs_json, render_items);\n",
       "\n",
       "  }\n",
       "  if (root.Bokeh !== undefined) {\n",
       "    embed_document(root);\n",
       "  } else {\n",
       "    var attempts = 0;\n",
       "    var timer = setInterval(function(root) {\n",
       "      if (root.Bokeh !== undefined) {\n",
       "        embed_document(root);\n",
       "        clearInterval(timer);\n",
       "      }\n",
       "      attempts++;\n",
       "      if (attempts > 100) {\n",
       "        console.log(\"Bokeh: ERROR: Unable to run BokehJS code because BokehJS library is missing\")\n",
       "        clearInterval(timer);\n",
       "      }\n",
       "    }, 10, root)\n",
       "  }\n",
       "})(window);"
      ],
      "application/vnd.bokehjs_exec.v0+json": ""
     },
     "metadata": {
      "application/vnd.bokehjs_exec.v0+json": {
       "id": "f403f8af-a22b-4901-bfd5-86f977daa9ac"
      }
     },
     "output_type": "display_data"
    }
   ],
   "source": [
    "plot = figure(plot_width=400, plot_height=400, tools=\"tap\", title=\"Select a circle\")\n",
    "renderer = plot.circle([1, 2, 3, 4, 5], [2, 5, 8, 2, 7], size=50,\n",
    "\n",
    "                       # set visual properties for selected glyphs\n",
    "                       selection_color=\"firebrick\",\n",
    "\n",
    "                       # set visual properties for non-selected glyphs\n",
    "                       nonselection_fill_alpha=0.2,\n",
    "                       nonselection_fill_color=\"blue\",\n",
    "                       nonselection_line_color=\"firebrick\",\n",
    "                       nonselection_line_alpha=1.0)\n",
    "\n",
    "show(plot)"
   ]
  },
  {
   "cell_type": "code",
   "execution_count": 38,
   "metadata": {},
   "outputs": [
    {
     "data": {
      "text/html": [
       "\n",
       "<div class=\"bk-root\">\n",
       "    <div class=\"bk-plotdiv\" id=\"e1fec9b4-070c-4a85-a00c-d382e376d046\"></div>\n",
       "</div>"
      ]
     },
     "metadata": {},
     "output_type": "display_data"
    },
    {
     "data": {
      "application/javascript": [
       "(function(root) {\n",
       "  function embed_document(root) {\n",
       "    \n",
       "  var docs_json = {\"9731cfa0-9343-42cd-bf50-9ab7dfd221e8\":{\"roots\":{\"references\":[{\"attributes\":{\"formatter\":{\"id\":\"5259afdc-39fe-4243-8989-0ea2706b354f\",\"type\":\"BasicTickFormatter\"},\"plot\":{\"id\":\"c3ea6e66-9096-4493-899d-bc61fa1a4878\",\"subtype\":\"Figure\",\"type\":\"Plot\"},\"ticker\":{\"id\":\"37e10926-f407-479e-aa41-2aad4298cf06\",\"type\":\"BasicTicker\"}},\"id\":\"188d6e38-0214-4d1f-8c20-b002d92ddd36\",\"type\":\"LinearAxis\"},{\"attributes\":{\"bottom_units\":\"screen\",\"fill_alpha\":{\"value\":0.5},\"fill_color\":{\"value\":\"lightgrey\"},\"left_units\":\"screen\",\"level\":\"overlay\",\"line_alpha\":{\"value\":1.0},\"line_color\":{\"value\":\"black\"},\"line_dash\":[4,4],\"line_width\":{\"value\":2},\"plot\":null,\"render_mode\":\"css\",\"right_units\":\"screen\",\"top_units\":\"screen\"},\"id\":\"bed359af-0973-4931-9743-102e5ed54f64\",\"type\":\"BoxAnnotation\"},{\"attributes\":{},\"id\":\"869223a3-7edf-41c9-b8f3-2223c4824201\",\"type\":\"SaveTool\"},{\"attributes\":{\"callback\":null,\"column_names\":[\"x\",\"y\"],\"data\":{\"x\":[1,2,3],\"y\":[1,2,3]}},\"id\":\"608ca9d1-71ef-47b0-b70a-eab6f964b709\",\"type\":\"ColumnDataSource\"},{\"attributes\":{},\"id\":\"e289f367-e421-4f1d-abe4-decffe61abcc\",\"type\":\"WheelZoomTool\"},{\"attributes\":{\"fill_alpha\":{\"value\":0.2},\"fill_color\":{\"value\":\"blue\"},\"line_color\":{\"value\":\"firebrick\"}},\"id\":\"a90c0456-77b1-4390-aaaa-362a5f61e6fa\",\"type\":\"Circle\"},{\"attributes\":{\"fill_color\":{\"value\":\"firebrick\"},\"line_color\":{\"value\":null}},\"id\":\"1a0c5929-ba13-4ca8-a8df-d1bd84904fbb\",\"type\":\"Circle\"},{\"attributes\":{\"plot\":null,\"text\":\"\"},\"id\":\"99e58423-393e-44bc-b484-460899c097b0\",\"type\":\"Title\"},{\"attributes\":{\"overlay\":{\"id\":\"bed359af-0973-4931-9743-102e5ed54f64\",\"type\":\"BoxAnnotation\"}},\"id\":\"9935f887-4cd7-4025-bb35-c2d1efa7aa51\",\"type\":\"BoxZoomTool\"},{\"attributes\":{},\"id\":\"ec5c47a9-9a37-4867-b600-4f44c948278b\",\"type\":\"ResetTool\"},{\"attributes\":{\"plot\":{\"id\":\"c3ea6e66-9096-4493-899d-bc61fa1a4878\",\"subtype\":\"Figure\",\"type\":\"Plot\"},\"ticker\":{\"id\":\"37e10926-f407-479e-aa41-2aad4298cf06\",\"type\":\"BasicTicker\"}},\"id\":\"b9e77579-3ac8-4a5a-b183-ecd86e9861a2\",\"type\":\"Grid\"},{\"attributes\":{\"callback\":null},\"id\":\"5eac68c3-1a55-4a70-b40d-a3aed8f6b036\",\"type\":\"DataRange1d\"},{\"attributes\":{\"source\":{\"id\":\"608ca9d1-71ef-47b0-b70a-eab6f964b709\",\"type\":\"ColumnDataSource\"}},\"id\":\"93685baf-42e3-4987-af9c-ce62eb4d5c3e\",\"type\":\"CDSView\"},{\"attributes\":{},\"id\":\"6cae7031-5604-48bd-a5fe-ee0fc65a35c1\",\"type\":\"HelpTool\"},{\"attributes\":{\"active_drag\":\"auto\",\"active_inspect\":\"auto\",\"active_scroll\":\"auto\",\"active_tap\":\"auto\",\"tools\":[{\"id\":\"314c6954-f63b-4dff-914a-bce5a471db3a\",\"type\":\"PanTool\"},{\"id\":\"e289f367-e421-4f1d-abe4-decffe61abcc\",\"type\":\"WheelZoomTool\"},{\"id\":\"9935f887-4cd7-4025-bb35-c2d1efa7aa51\",\"type\":\"BoxZoomTool\"},{\"id\":\"869223a3-7edf-41c9-b8f3-2223c4824201\",\"type\":\"SaveTool\"},{\"id\":\"ec5c47a9-9a37-4867-b600-4f44c948278b\",\"type\":\"ResetTool\"},{\"id\":\"6cae7031-5604-48bd-a5fe-ee0fc65a35c1\",\"type\":\"HelpTool\"}]},\"id\":\"033cbf30-d71d-48e9-bf44-c6889d3cfa21\",\"type\":\"Toolbar\"},{\"attributes\":{},\"id\":\"7e69025d-86d9-4772-8edf-ca289a74863c\",\"type\":\"BasicTickFormatter\"},{\"attributes\":{\"formatter\":{\"id\":\"7e69025d-86d9-4772-8edf-ca289a74863c\",\"type\":\"BasicTickFormatter\"},\"plot\":{\"id\":\"c3ea6e66-9096-4493-899d-bc61fa1a4878\",\"subtype\":\"Figure\",\"type\":\"Plot\"},\"ticker\":{\"id\":\"d12413da-d509-41dc-aeec-ed0a7db30da2\",\"type\":\"BasicTicker\"}},\"id\":\"30be6396-41b6-415e-bccc-27a6c9ace017\",\"type\":\"LinearAxis\"},{\"attributes\":{},\"id\":\"37e10926-f407-479e-aa41-2aad4298cf06\",\"type\":\"BasicTicker\"},{\"attributes\":{\"fill_color\":{\"value\":\"blue\"},\"size\":{\"units\":\"screen\",\"value\":50},\"x\":{\"field\":\"x\"},\"y\":{\"field\":\"y\"}},\"id\":\"e61b3404-53a2-43f6-bdd0-6fdb3560a539\",\"type\":\"Circle\"},{\"attributes\":{},\"id\":\"212b6b9a-29a3-4a2a-8e91-41dad31bf61f\",\"type\":\"LinearScale\"},{\"attributes\":{\"callback\":null},\"id\":\"d6d895e1-020f-4fb8-a675-8c8d062388d8\",\"type\":\"DataRange1d\"},{\"attributes\":{},\"id\":\"5259afdc-39fe-4243-8989-0ea2706b354f\",\"type\":\"BasicTickFormatter\"},{\"attributes\":{},\"id\":\"e1a688b1-9ed4-4b4f-b6f6-c8bb92fcf19a\",\"type\":\"LinearScale\"},{\"attributes\":{},\"id\":\"314c6954-f63b-4dff-914a-bce5a471db3a\",\"type\":\"PanTool\"},{\"attributes\":{\"data_source\":{\"id\":\"608ca9d1-71ef-47b0-b70a-eab6f964b709\",\"type\":\"ColumnDataSource\"},\"glyph\":{\"id\":\"e61b3404-53a2-43f6-bdd0-6fdb3560a539\",\"type\":\"Circle\"},\"hover_glyph\":null,\"muted_glyph\":null,\"nonselection_glyph\":{\"id\":\"a90c0456-77b1-4390-aaaa-362a5f61e6fa\",\"type\":\"Circle\"},\"selection_glyph\":{\"id\":\"1a0c5929-ba13-4ca8-a8df-d1bd84904fbb\",\"type\":\"Circle\"},\"view\":{\"id\":\"93685baf-42e3-4987-af9c-ce62eb4d5c3e\",\"type\":\"CDSView\"}},\"id\":\"27cb9d20-3eff-4f8e-858a-520ba8574193\",\"type\":\"GlyphRenderer\"},{\"attributes\":{\"below\":[{\"id\":\"188d6e38-0214-4d1f-8c20-b002d92ddd36\",\"type\":\"LinearAxis\"}],\"left\":[{\"id\":\"30be6396-41b6-415e-bccc-27a6c9ace017\",\"type\":\"LinearAxis\"}],\"plot_height\":400,\"plot_width\":400,\"renderers\":[{\"id\":\"188d6e38-0214-4d1f-8c20-b002d92ddd36\",\"type\":\"LinearAxis\"},{\"id\":\"b9e77579-3ac8-4a5a-b183-ecd86e9861a2\",\"type\":\"Grid\"},{\"id\":\"30be6396-41b6-415e-bccc-27a6c9ace017\",\"type\":\"LinearAxis\"},{\"id\":\"416dafbd-0d6e-4e32-8d2c-bcaa5fba9b0a\",\"type\":\"Grid\"},{\"id\":\"bed359af-0973-4931-9743-102e5ed54f64\",\"type\":\"BoxAnnotation\"},{\"id\":\"27cb9d20-3eff-4f8e-858a-520ba8574193\",\"type\":\"GlyphRenderer\"}],\"title\":{\"id\":\"99e58423-393e-44bc-b484-460899c097b0\",\"type\":\"Title\"},\"toolbar\":{\"id\":\"033cbf30-d71d-48e9-bf44-c6889d3cfa21\",\"type\":\"Toolbar\"},\"x_range\":{\"id\":\"5eac68c3-1a55-4a70-b40d-a3aed8f6b036\",\"type\":\"DataRange1d\"},\"x_scale\":{\"id\":\"212b6b9a-29a3-4a2a-8e91-41dad31bf61f\",\"type\":\"LinearScale\"},\"y_range\":{\"id\":\"d6d895e1-020f-4fb8-a675-8c8d062388d8\",\"type\":\"DataRange1d\"},\"y_scale\":{\"id\":\"e1a688b1-9ed4-4b4f-b6f6-c8bb92fcf19a\",\"type\":\"LinearScale\"}},\"id\":\"c3ea6e66-9096-4493-899d-bc61fa1a4878\",\"subtype\":\"Figure\",\"type\":\"Plot\"},{\"attributes\":{\"dimension\":1,\"plot\":{\"id\":\"c3ea6e66-9096-4493-899d-bc61fa1a4878\",\"subtype\":\"Figure\",\"type\":\"Plot\"},\"ticker\":{\"id\":\"d12413da-d509-41dc-aeec-ed0a7db30da2\",\"type\":\"BasicTicker\"}},\"id\":\"416dafbd-0d6e-4e32-8d2c-bcaa5fba9b0a\",\"type\":\"Grid\"},{\"attributes\":{},\"id\":\"d12413da-d509-41dc-aeec-ed0a7db30da2\",\"type\":\"BasicTicker\"}],\"root_ids\":[\"c3ea6e66-9096-4493-899d-bc61fa1a4878\"]},\"title\":\"Bokeh Application\",\"version\":\"0.12.13\"}};\n",
       "  var render_items = [{\"docid\":\"9731cfa0-9343-42cd-bf50-9ab7dfd221e8\",\"elementid\":\"e1fec9b4-070c-4a85-a00c-d382e376d046\",\"modelid\":\"c3ea6e66-9096-4493-899d-bc61fa1a4878\"}];\n",
       "  root.Bokeh.embed.embed_items_notebook(docs_json, render_items);\n",
       "\n",
       "  }\n",
       "  if (root.Bokeh !== undefined) {\n",
       "    embed_document(root);\n",
       "  } else {\n",
       "    var attempts = 0;\n",
       "    var timer = setInterval(function(root) {\n",
       "      if (root.Bokeh !== undefined) {\n",
       "        embed_document(root);\n",
       "        clearInterval(timer);\n",
       "      }\n",
       "      attempts++;\n",
       "      if (attempts > 100) {\n",
       "        console.log(\"Bokeh: ERROR: Unable to run BokehJS code because BokehJS library is missing\")\n",
       "        clearInterval(timer);\n",
       "      }\n",
       "    }, 10, root)\n",
       "  }\n",
       "})(window);"
      ],
      "application/vnd.bokehjs_exec.v0+json": ""
     },
     "metadata": {
      "application/vnd.bokehjs_exec.v0+json": {
       "id": "c3ea6e66-9096-4493-899d-bc61fa1a4878"
      }
     },
     "output_type": "display_data"
    }
   ],
   "source": [
    "# from bokeh.model import Plot\n",
    "from bokeh.plotting import ColumnDataSource\n",
    "\n",
    "p = figure(plot_width=400, plot_height=400)\n",
    "source = ColumnDataSource(dict(x=[1, 2, 3], y=[1, 2, 3]))\n",
    "\n",
    "initial_circle = Circle(x='x', y='y', fill_color='blue', size=50)\n",
    "selected_circle = Circle(fill_alpha=1, fill_color=\"firebrick\", line_color=None)\n",
    "nonselected_circle = Circle(fill_alpha=0.2, fill_color=\"blue\", line_color=\"firebrick\")\n",
    "\n",
    "p.add_glyph(source,\n",
    "            initial_circle,\n",
    "            selection_glyph=selected_circle,\n",
    "            nonselection_glyph=nonselected_circle)\n",
    "\n",
    "show(p)"
   ]
  },
  {
   "cell_type": "markdown",
   "metadata": {},
   "source": [
    "### Hover Inspections"
   ]
  },
  {
   "cell_type": "code",
   "execution_count": 33,
   "metadata": {},
   "outputs": [
    {
     "name": "stderr",
     "output_type": "stream",
     "text": [
      "C:\\Softwares\\Python\\lib\\site-packages\\ipykernel_launcher.py:4: DeprecationWarning: \n",
      ".ix is deprecated. Please use\n",
      ".loc for label based indexing or\n",
      ".iloc for positional indexing\n",
      "\n",
      "See the documentation here:\n",
      "http://pandas.pydata.org/pandas-docs/stable/indexing.html#ix-indexer-is-deprecated\n",
      "  after removing the cwd from sys.path.\n"
     ]
    },
    {
     "data": {
      "text/html": [
       "\n",
       "<div class=\"bk-root\">\n",
       "    <div class=\"bk-plotdiv\" id=\"cde751d4-a054-40fa-acfe-9c1900b55ab6\"></div>\n",
       "</div>"
      ]
     },
     "metadata": {},
     "output_type": "display_data"
    },
    {
     "data": {
      "application/javascript": [
       "(function(root) {\n",
       "  function embed_document(root) {\n",
       "    \n",
       "  var docs_json = {\"7b71aebc-8c1e-4d9c-b528-a3f1ca1cfb73\":{\"roots\":{\"references\":[{\"attributes\":{\"dimension\":1,\"plot\":{\"id\":\"9ae4062e-a63b-49e1-acbc-599e60266ae9\",\"subtype\":\"Figure\",\"type\":\"Plot\"},\"ticker\":{\"id\":\"543a16a7-fd64-4539-8591-ddea57b48717\",\"type\":\"BasicTicker\"}},\"id\":\"a8b3908b-04d7-4515-85d7-375a371b262a\",\"type\":\"Grid\"},{\"attributes\":{},\"id\":\"45304862-e094-45c8-9209-2501b5341a70\",\"type\":\"BasicTickFormatter\"},{\"attributes\":{\"source\":{\"id\":\"639c6a74-3729-41b4-956e-a3c1dc330b75\",\"type\":\"ColumnDataSource\"}},\"id\":\"0528d2ce-a178-498c-95d5-ff968b7d9c43\",\"type\":\"CDSView\"},{\"attributes\":{\"base\":60,\"mantissas\":[1,2,5,10,15,20,30],\"max_interval\":1800000.0,\"min_interval\":1000.0,\"num_minor_ticks\":0},\"id\":\"655c6370-9be7-4ba5-a38d-60ac7447af99\",\"type\":\"AdaptiveTicker\"},{\"attributes\":{},\"id\":\"cb39c17c-2095-497b-a335-3333336d8620\",\"type\":\"DatetimeTickFormatter\"},{\"attributes\":{\"callback\":null,\"mode\":\"hline\",\"renderers\":[{\"id\":\"46f52d54-7408-44c4-9383-80417e82b44f\",\"type\":\"GlyphRenderer\"}],\"tooltips\":null},\"id\":\"8d010798-2a73-4662-bc20-a4aa25a9bd73\",\"type\":\"HoverTool\"},{\"attributes\":{\"base\":24,\"mantissas\":[1,2,4,6,8,12],\"max_interval\":43200000.0,\"min_interval\":3600000.0,\"num_minor_ticks\":0},\"id\":\"10707a47-3577-439b-b6cf-1d8059083e4c\",\"type\":\"AdaptiveTicker\"},{\"attributes\":{\"days\":[1,4,7,10,13,16,19,22,25,28]},\"id\":\"086d99f0-d4f1-40fd-bb98-ffc559d7812e\",\"type\":\"DaysTicker\"},{\"attributes\":{\"mantissas\":[1,2,5],\"max_interval\":500.0,\"num_minor_ticks\":0},\"id\":\"9ad4ebdc-0349-47ef-9a73-0910893c68b3\",\"type\":\"AdaptiveTicker\"},{\"attributes\":{\"days\":[1,2,3,4,5,6,7,8,9,10,11,12,13,14,15,16,17,18,19,20,21,22,23,24,25,26,27,28,29,30,31]},\"id\":\"20083eec-d014-462a-a2fa-85a148ab73d7\",\"type\":\"DaysTicker\"},{\"attributes\":{\"days\":[1,8,15,22]},\"id\":\"bdf398f9-fe2d-45b3-999f-d83010e42251\",\"type\":\"DaysTicker\"},{\"attributes\":{\"days\":[1,15]},\"id\":\"aa0f55d2-d36e-49c2-a65b-f108c36e4f2b\",\"type\":\"DaysTicker\"},{\"attributes\":{\"months\":[0,1,2,3,4,5,6,7,8,9,10,11]},\"id\":\"3a482180-8b3e-4962-be9d-3731345739f9\",\"type\":\"MonthsTicker\"},{\"attributes\":{\"months\":[0,2,4,6,8,10]},\"id\":\"5beecfc1-bab4-483c-b8a4-929ffb38d272\",\"type\":\"MonthsTicker\"},{\"attributes\":{\"months\":[0,4,8]},\"id\":\"5b8f7691-32d8-40d9-bfbf-4d76c6050b6a\",\"type\":\"MonthsTicker\"},{\"attributes\":{\"months\":[0,6]},\"id\":\"67ea11fb-ccf8-4c11-9742-d81b0e266bcb\",\"type\":\"MonthsTicker\"},{\"attributes\":{\"line_alpha\":0.1,\"line_color\":\"#1f77b4\",\"line_dash\":[4,4],\"x\":{\"field\":\"x\"},\"y\":{\"field\":\"y\"}},\"id\":\"246a18a6-32f3-4794-a5f2-6aaffaab325d\",\"type\":\"Line\"},{\"attributes\":{},\"id\":\"c78a47aa-583d-494b-bca3-de6bb7576e28\",\"type\":\"YearsTicker\"},{\"attributes\":{\"fill_alpha\":{\"value\":0.05},\"fill_color\":{\"value\":\"grey\"},\"line_color\":{\"value\":null},\"size\":{\"units\":\"screen\",\"value\":20},\"x\":{\"field\":\"x\"},\"y\":{\"field\":\"y\"}},\"id\":\"ea0e36a5-5250-4e56-a398-eb2e73f8ce74\",\"type\":\"Circle\"},{\"attributes\":{\"callback\":null,\"column_names\":[\"x\",\"y\"],\"data\":{\"x\":{\"__ndarray__\":\"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\",\"dtype\":\"float64\",\"shape\":[288]},\"y\":[143,147,150,152,152,152,154,155,142,140,138,134,131,130,128,127,126,126,126,126,127,129,131,132,134,136,136,136,136,135,134,132,130,130,130,129,128,127,125,124,123,123,122,121,120,118,115,112,111,111,110,110,109,108,107,107,107,108,107,105,105,105,105,104,103,102,99,97,96,94,94,93,93,92,91,92,94,95,96,97,99,102,104,112,112,112,111,110,107,104,105,105,103,99,96,94,95,102,114,128,144,160,173,185,196,205,209,214,219,226,234,241,248,255,260,265,268,270,272,271,271,268,265,261,256,253,250,246,244,241,237,233,229,225,222,204,200,197,193,190,186,182,179,175,171,168,164,158,154,151,148,145,141,133,139,152,173,196,217,233,244,249,250,253,256,260,263,265,265,264,260,254,246,234,217,200,188,181,175,169,164,159,154,147,138,132,129,127,123,117,111,106,104,103,100,94,88,83,78,75,73,71,69,68,67,67,68,70,71,71,70,69,68,67,67,67,66,67,69,71,74,76,78,80,80,80,80,80,80,82,84,87,90,92,87,87,86,86,86,86,87,87,87,85,83,82,83,87,95,107,118,130,141,149,172,179,187,201,214,221,225,230,232,230,223,216,208,199,191,185,181,177,176,177,176,173,171,169,163,154,152,153,154,154,153,151,150,150]}},\"id\":\"639c6a74-3729-41b4-956e-a3c1dc330b75\",\"type\":\"ColumnDataSource\"},{\"attributes\":{\"fill_alpha\":{\"value\":0.1},\"fill_color\":{\"value\":\"#1f77b4\"},\"line_alpha\":{\"value\":0.1},\"line_color\":{\"value\":\"#1f77b4\"},\"size\":{\"units\":\"screen\",\"value\":20},\"x\":{\"field\":\"x\"},\"y\":{\"field\":\"y\"}},\"id\":\"b03c6048-2e41-4bc6-94b7-f4443c6d4856\",\"type\":\"Circle\"},{\"attributes\":{\"fill_alpha\":{\"value\":0.3},\"fill_color\":{\"value\":\"firebrick\"},\"line_alpha\":{\"value\":0.3},\"line_color\":{\"value\":\"white\"},\"size\":{\"units\":\"screen\",\"value\":20},\"x\":{\"field\":\"x\"},\"y\":{\"field\":\"y\"}},\"id\":\"c376af11-2ba0-4298-9368-ebfda4bfc511\",\"type\":\"Circle\"},{\"attributes\":{\"data_source\":{\"id\":\"c937ce8d-6714-4ca8-a472-cb1260c9217a\",\"type\":\"ColumnDataSource\"},\"glyph\":{\"id\":\"ea0e36a5-5250-4e56-a398-eb2e73f8ce74\",\"type\":\"Circle\"},\"hover_glyph\":{\"id\":\"c376af11-2ba0-4298-9368-ebfda4bfc511\",\"type\":\"Circle\"},\"muted_glyph\":null,\"nonselection_glyph\":{\"id\":\"b03c6048-2e41-4bc6-94b7-f4443c6d4856\",\"type\":\"Circle\"},\"selection_glyph\":null,\"view\":{\"id\":\"5bda818a-073e-4595-887d-e0f5ddd58148\",\"type\":\"CDSView\"}},\"id\":\"46f52d54-7408-44c4-9383-80417e82b44f\",\"type\":\"GlyphRenderer\"},{\"attributes\":{\"data_source\":{\"id\":\"639c6a74-3729-41b4-956e-a3c1dc330b75\",\"type\":\"ColumnDataSource\"},\"glyph\":{\"id\":\"b34cf798-95a5-4d92-83cf-9e501d2af960\",\"type\":\"Line\"},\"hover_glyph\":null,\"muted_glyph\":null,\"nonselection_glyph\":{\"id\":\"246a18a6-32f3-4794-a5f2-6aaffaab325d\",\"type\":\"Line\"},\"selection_glyph\":null,\"view\":{\"id\":\"0528d2ce-a178-498c-95d5-ff968b7d9c43\",\"type\":\"CDSView\"}},\"id\":\"82f51388-1347-489f-813b-635b595b6d2f\",\"type\":\"GlyphRenderer\"},{\"attributes\":{\"line_color\":\"gray\",\"line_dash\":[4,4],\"x\":{\"field\":\"x\"},\"y\":{\"field\":\"y\"}},\"id\":\"b34cf798-95a5-4d92-83cf-9e501d2af960\",\"type\":\"Line\"},{\"attributes\":{\"source\":{\"id\":\"c937ce8d-6714-4ca8-a472-cb1260c9217a\",\"type\":\"ColumnDataSource\"}},\"id\":\"5bda818a-073e-4595-887d-e0f5ddd58148\",\"type\":\"CDSView\"},{\"attributes\":{\"active_drag\":\"auto\",\"active_inspect\":\"auto\",\"active_scroll\":\"auto\",\"active_tap\":\"auto\",\"tools\":[{\"id\":\"8d010798-2a73-4662-bc20-a4aa25a9bd73\",\"type\":\"HoverTool\"}]},\"id\":\"a3057ddf-0366-46eb-b058-a3eb7b81e279\",\"type\":\"Toolbar\"},{\"attributes\":{\"callback\":null},\"id\":\"f05fa83f-9d8c-4b16-a9c1-88c26b940ad8\",\"type\":\"DataRange1d\"},{\"attributes\":{},\"id\":\"ecf206c9-07dc-4dfd-8e34-c94bf1b38569\",\"type\":\"LinearScale\"},{\"attributes\":{\"below\":[{\"id\":\"4a49f38d-cc7d-4a76-af2e-ab407611ebe9\",\"type\":\"DatetimeAxis\"}],\"left\":[{\"id\":\"ad999d2e-530a-47f4-b7d6-03105797d546\",\"type\":\"LinearAxis\"}],\"plot_height\":300,\"renderers\":[{\"id\":\"4a49f38d-cc7d-4a76-af2e-ab407611ebe9\",\"type\":\"DatetimeAxis\"},{\"id\":\"15e8433a-5956-417c-ade6-087e91f0b934\",\"type\":\"Grid\"},{\"id\":\"ad999d2e-530a-47f4-b7d6-03105797d546\",\"type\":\"LinearAxis\"},{\"id\":\"a8b3908b-04d7-4515-85d7-375a371b262a\",\"type\":\"Grid\"},{\"id\":\"82f51388-1347-489f-813b-635b595b6d2f\",\"type\":\"GlyphRenderer\"},{\"id\":\"46f52d54-7408-44c4-9383-80417e82b44f\",\"type\":\"GlyphRenderer\"}],\"title\":{\"id\":\"e1388a25-f9f0-4ce7-91ae-b61d201e2fc1\",\"type\":\"Title\"},\"toolbar\":{\"id\":\"a3057ddf-0366-46eb-b058-a3eb7b81e279\",\"type\":\"Toolbar\"},\"toolbar_location\":null,\"x_range\":{\"id\":\"f05fa83f-9d8c-4b16-a9c1-88c26b940ad8\",\"type\":\"DataRange1d\"},\"x_scale\":{\"id\":\"ecf206c9-07dc-4dfd-8e34-c94bf1b38569\",\"type\":\"LinearScale\"},\"y_range\":{\"id\":\"21f51e11-d7f0-431c-9b18-537aa6e45492\",\"type\":\"DataRange1d\"},\"y_scale\":{\"id\":\"0c45fe1a-31a8-4089-9c92-67691d573a6c\",\"type\":\"LinearScale\"}},\"id\":\"9ae4062e-a63b-49e1-acbc-599e60266ae9\",\"subtype\":\"Figure\",\"type\":\"Plot\"},{\"attributes\":{\"callback\":null},\"id\":\"21f51e11-d7f0-431c-9b18-537aa6e45492\",\"type\":\"DataRange1d\"},{\"attributes\":{},\"id\":\"0c45fe1a-31a8-4089-9c92-67691d573a6c\",\"type\":\"LinearScale\"},{\"attributes\":{\"plot\":{\"id\":\"9ae4062e-a63b-49e1-acbc-599e60266ae9\",\"subtype\":\"Figure\",\"type\":\"Plot\"},\"ticker\":{\"id\":\"3e1ee1ec-cb18-4ce1-9ecd-1da107190885\",\"type\":\"DatetimeTicker\"}},\"id\":\"15e8433a-5956-417c-ade6-087e91f0b934\",\"type\":\"Grid\"},{\"attributes\":{\"callback\":null,\"column_names\":[\"x\",\"y\"],\"data\":{\"x\":{\"__ndarray__\":\"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\",\"dtype\":\"float64\",\"shape\":[288]},\"y\":[143,147,150,152,152,152,154,155,142,140,138,134,131,130,128,127,126,126,126,126,127,129,131,132,134,136,136,136,136,135,134,132,130,130,130,129,128,127,125,124,123,123,122,121,120,118,115,112,111,111,110,110,109,108,107,107,107,108,107,105,105,105,105,104,103,102,99,97,96,94,94,93,93,92,91,92,94,95,96,97,99,102,104,112,112,112,111,110,107,104,105,105,103,99,96,94,95,102,114,128,144,160,173,185,196,205,209,214,219,226,234,241,248,255,260,265,268,270,272,271,271,268,265,261,256,253,250,246,244,241,237,233,229,225,222,204,200,197,193,190,186,182,179,175,171,168,164,158,154,151,148,145,141,133,139,152,173,196,217,233,244,249,250,253,256,260,263,265,265,264,260,254,246,234,217,200,188,181,175,169,164,159,154,147,138,132,129,127,123,117,111,106,104,103,100,94,88,83,78,75,73,71,69,68,67,67,68,70,71,71,70,69,68,67,67,67,66,67,69,71,74,76,78,80,80,80,80,80,80,82,84,87,90,92,87,87,86,86,86,86,87,87,87,85,83,82,83,87,95,107,118,130,141,149,172,179,187,201,214,221,225,230,232,230,223,216,208,199,191,185,181,177,176,177,176,173,171,169,163,154,152,153,154,154,153,151,150,150]}},\"id\":\"c937ce8d-6714-4ca8-a472-cb1260c9217a\",\"type\":\"ColumnDataSource\"},{\"attributes\":{\"plot\":null,\"text\":\"Hover over points\"},\"id\":\"e1388a25-f9f0-4ce7-91ae-b61d201e2fc1\",\"type\":\"Title\"},{\"attributes\":{\"formatter\":{\"id\":\"45304862-e094-45c8-9209-2501b5341a70\",\"type\":\"BasicTickFormatter\"},\"plot\":{\"id\":\"9ae4062e-a63b-49e1-acbc-599e60266ae9\",\"subtype\":\"Figure\",\"type\":\"Plot\"},\"ticker\":{\"id\":\"543a16a7-fd64-4539-8591-ddea57b48717\",\"type\":\"BasicTicker\"}},\"id\":\"ad999d2e-530a-47f4-b7d6-03105797d546\",\"type\":\"LinearAxis\"},{\"attributes\":{},\"id\":\"543a16a7-fd64-4539-8591-ddea57b48717\",\"type\":\"BasicTicker\"},{\"attributes\":{\"formatter\":{\"id\":\"cb39c17c-2095-497b-a335-3333336d8620\",\"type\":\"DatetimeTickFormatter\"},\"plot\":{\"id\":\"9ae4062e-a63b-49e1-acbc-599e60266ae9\",\"subtype\":\"Figure\",\"type\":\"Plot\"},\"ticker\":{\"id\":\"3e1ee1ec-cb18-4ce1-9ecd-1da107190885\",\"type\":\"DatetimeTicker\"}},\"id\":\"4a49f38d-cc7d-4a76-af2e-ab407611ebe9\",\"type\":\"DatetimeAxis\"},{\"attributes\":{\"num_minor_ticks\":5,\"tickers\":[{\"id\":\"9ad4ebdc-0349-47ef-9a73-0910893c68b3\",\"type\":\"AdaptiveTicker\"},{\"id\":\"655c6370-9be7-4ba5-a38d-60ac7447af99\",\"type\":\"AdaptiveTicker\"},{\"id\":\"10707a47-3577-439b-b6cf-1d8059083e4c\",\"type\":\"AdaptiveTicker\"},{\"id\":\"20083eec-d014-462a-a2fa-85a148ab73d7\",\"type\":\"DaysTicker\"},{\"id\":\"086d99f0-d4f1-40fd-bb98-ffc559d7812e\",\"type\":\"DaysTicker\"},{\"id\":\"bdf398f9-fe2d-45b3-999f-d83010e42251\",\"type\":\"DaysTicker\"},{\"id\":\"aa0f55d2-d36e-49c2-a65b-f108c36e4f2b\",\"type\":\"DaysTicker\"},{\"id\":\"3a482180-8b3e-4962-be9d-3731345739f9\",\"type\":\"MonthsTicker\"},{\"id\":\"5beecfc1-bab4-483c-b8a4-929ffb38d272\",\"type\":\"MonthsTicker\"},{\"id\":\"5b8f7691-32d8-40d9-bfbf-4d76c6050b6a\",\"type\":\"MonthsTicker\"},{\"id\":\"67ea11fb-ccf8-4c11-9742-d81b0e266bcb\",\"type\":\"MonthsTicker\"},{\"id\":\"c78a47aa-583d-494b-bca3-de6bb7576e28\",\"type\":\"YearsTicker\"}]},\"id\":\"3e1ee1ec-cb18-4ce1-9ecd-1da107190885\",\"type\":\"DatetimeTicker\"}],\"root_ids\":[\"9ae4062e-a63b-49e1-acbc-599e60266ae9\"]},\"title\":\"Bokeh Application\",\"version\":\"0.12.13\"}};\n",
       "  var render_items = [{\"docid\":\"7b71aebc-8c1e-4d9c-b528-a3f1ca1cfb73\",\"elementid\":\"cde751d4-a054-40fa-acfe-9c1900b55ab6\",\"modelid\":\"9ae4062e-a63b-49e1-acbc-599e60266ae9\"}];\n",
       "  root.Bokeh.embed.embed_items_notebook(docs_json, render_items);\n",
       "\n",
       "  }\n",
       "  if (root.Bokeh !== undefined) {\n",
       "    embed_document(root);\n",
       "  } else {\n",
       "    var attempts = 0;\n",
       "    var timer = setInterval(function(root) {\n",
       "      if (root.Bokeh !== undefined) {\n",
       "        embed_document(root);\n",
       "        clearInterval(timer);\n",
       "      }\n",
       "      attempts++;\n",
       "      if (attempts > 100) {\n",
       "        console.log(\"Bokeh: ERROR: Unable to run BokehJS code because BokehJS library is missing\")\n",
       "        clearInterval(timer);\n",
       "      }\n",
       "    }, 10, root)\n",
       "  }\n",
       "})(window);"
      ],
      "application/vnd.bokehjs_exec.v0+json": ""
     },
     "metadata": {
      "application/vnd.bokehjs_exec.v0+json": {
       "id": "9ae4062e-a63b-49e1-acbc-599e60266ae9"
      }
     },
     "output_type": "display_data"
    }
   ],
   "source": [
    "from bokeh.models import HoverTool\n",
    "from bokeh.sampledata.glucose import data\n",
    "\n",
    "subset = data.ix['2010-10-06']\n",
    "\n",
    "x, y = subset.index.to_series(), subset['glucose']\n",
    "\n",
    "# Basic plot setup\n",
    "plot = figure(plot_width=600, plot_height=300, x_axis_type=\"datetime\", tools=\"\",\n",
    "              toolbar_location=None, title='Hover over points')\n",
    "\n",
    "plot.line(x, y, line_dash=\"4 4\", line_width=1, color='gray')\n",
    "\n",
    "\n",
    "cr = plot.circle(x, y, size=20,\n",
    "                fill_color=\"grey\", hover_fill_color=\"firebrick\",\n",
    "                fill_alpha=0.05, hover_alpha=0.3,\n",
    "                line_color=None, hover_line_color=\"white\")\n",
    "\n",
    "plot.add_tools(HoverTool(tooltips=None, \n",
    "                         renderers=[cr], mode='hline'))\n",
    "\n",
    "show(plot)\n"
   ]
  },
  {
   "cell_type": "markdown",
   "metadata": {},
   "source": [
    "### Tool Overlays"
   ]
  },
  {
   "cell_type": "code",
   "execution_count": 39,
   "metadata": {},
   "outputs": [
    {
     "data": {
      "text/html": [
       "\n",
       "<div class=\"bk-root\">\n",
       "    <div class=\"bk-plotdiv\" id=\"821f0bbf-9cae-4ba0-9552-bbf4d6dc65f2\"></div>\n",
       "</div>"
      ]
     },
     "metadata": {},
     "output_type": "display_data"
    },
    {
     "data": {
      "application/javascript": [
       "(function(root) {\n",
       "  function embed_document(root) {\n",
       "    \n",
       "  var docs_json = {\"a1c538c0-3626-4de5-a5b2-8800b7a65e86\":{\"roots\":{\"references\":[{\"attributes\":{\"fill_alpha\":{\"value\":0.5},\"fill_color\":{\"value\":\"lightgrey\"},\"level\":\"overlay\",\"line_alpha\":{\"value\":1.0},\"line_color\":{\"value\":\"black\"},\"line_dash\":[10,10],\"line_width\":{\"value\":2},\"plot\":null,\"xs_units\":\"screen\",\"ys_units\":\"screen\"},\"id\":\"40d61f47-addb-44d9-b373-3a7b5b43bf87\",\"type\":\"PolyAnnotation\"},{\"attributes\":{\"callback\":null,\"overlay\":{\"id\":\"b6d653c5-2675-42ac-9754-f6ba2280fccc\",\"type\":\"BoxAnnotation\"},\"renderers\":[{\"id\":\"ee13982e-6542-40af-814f-ddaff29d41e3\",\"type\":\"GlyphRenderer\"}]},\"id\":\"e0a98d0e-9ec5-4b49-a77a-4e3f168b4071\",\"type\":\"BoxSelectTool\"},{\"attributes\":{\"plot\":null,\"text\":\"Select and Zoom\"},\"id\":\"0b681eca-7508-4344-bf76-f15da9ae7b64\",\"type\":\"Title\"},{\"attributes\":{\"overlay\":{\"id\":\"6e90c093-7e1f-4775-b97b-51c163768940\",\"type\":\"BoxAnnotation\"}},\"id\":\"07476d34-ff39-4bfe-91b6-336be37e674c\",\"type\":\"BoxZoomTool\"},{\"attributes\":{\"below\":[{\"id\":\"2426f3bb-508d-43f2-93e0-90e34b9e3804\",\"type\":\"LinearAxis\"}],\"left\":[{\"id\":\"9bd88e82-30bd-459f-ac99-d823f83e8bb1\",\"type\":\"LinearAxis\"}],\"plot_height\":400,\"plot_width\":400,\"renderers\":[{\"id\":\"2426f3bb-508d-43f2-93e0-90e34b9e3804\",\"type\":\"LinearAxis\"},{\"id\":\"7e8143d0-ccbe-4fb9-b4d8-a4f09058773a\",\"type\":\"Grid\"},{\"id\":\"9bd88e82-30bd-459f-ac99-d823f83e8bb1\",\"type\":\"LinearAxis\"},{\"id\":\"df5f2a29-4e1d-4317-90ad-1be761d85759\",\"type\":\"Grid\"},{\"id\":\"b6d653c5-2675-42ac-9754-f6ba2280fccc\",\"type\":\"BoxAnnotation\"},{\"id\":\"6e90c093-7e1f-4775-b97b-51c163768940\",\"type\":\"BoxAnnotation\"},{\"id\":\"40d61f47-addb-44d9-b373-3a7b5b43bf87\",\"type\":\"PolyAnnotation\"},{\"id\":\"ee13982e-6542-40af-814f-ddaff29d41e3\",\"type\":\"GlyphRenderer\"}],\"title\":{\"id\":\"0b681eca-7508-4344-bf76-f15da9ae7b64\",\"type\":\"Title\"},\"toolbar\":{\"id\":\"9b13c8c8-976f-41bb-a753-2e8134d2c548\",\"type\":\"Toolbar\"},\"x_range\":{\"id\":\"e7ac46d7-ed5d-4875-8279-cfc1ecd91929\",\"type\":\"DataRange1d\"},\"x_scale\":{\"id\":\"8ae35d41-4ce8-4e04-8c7a-d51b082f26a9\",\"type\":\"LinearScale\"},\"y_range\":{\"id\":\"276a16f7-4c4f-4903-9f0b-2b73d2f4af0a\",\"type\":\"DataRange1d\"},\"y_scale\":{\"id\":\"134bc312-52bf-4966-b0d6-573fed8d4b10\",\"type\":\"LinearScale\"}},\"id\":\"0bda3ea5-ebd9-49e8-9e53-2502c0e647c8\",\"subtype\":\"Figure\",\"type\":\"Plot\"},{\"attributes\":{\"callback\":null,\"overlay\":{\"id\":\"40d61f47-addb-44d9-b373-3a7b5b43bf87\",\"type\":\"PolyAnnotation\"}},\"id\":\"3babe732-d204-4a44-a679-6c7b679aa270\",\"type\":\"LassoSelectTool\"},{\"attributes\":{\"plot\":{\"id\":\"0bda3ea5-ebd9-49e8-9e53-2502c0e647c8\",\"subtype\":\"Figure\",\"type\":\"Plot\"},\"ticker\":{\"id\":\"81f63584-305a-448a-9885-3835bfc46b5f\",\"type\":\"BasicTicker\"}},\"id\":\"7e8143d0-ccbe-4fb9-b4d8-a4f09058773a\",\"type\":\"Grid\"},{\"attributes\":{},\"id\":\"802a69b2-69c3-456f-9b2e-ff48b2cefc36\",\"type\":\"ResetTool\"},{\"attributes\":{\"bottom_units\":\"screen\",\"fill_alpha\":{\"value\":0.5},\"fill_color\":{\"value\":\"firebrick\"},\"left_units\":\"screen\",\"level\":\"overlay\",\"line_alpha\":{\"value\":1.0},\"line_color\":{\"value\":null},\"line_dash\":[4,4],\"line_width\":{\"value\":2},\"plot\":null,\"render_mode\":\"css\",\"right_units\":\"screen\",\"top_units\":\"screen\"},\"id\":\"b6d653c5-2675-42ac-9754-f6ba2280fccc\",\"type\":\"BoxAnnotation\"},{\"attributes\":{\"callback\":null,\"column_names\":[\"x\",\"y\"],\"data\":{\"x\":{\"__ndarray__\":\"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\",\"dtype\":\"float64\",\"shape\":[200]},\"y\":{\"__ndarray__\":\"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\",\"dtype\":\"float64\",\"shape\":[200]}}},\"id\":\"cb563adc-0f7b-4672-a8f8-0aa69f4ce504\",\"type\":\"ColumnDataSource\"},{\"attributes\":{\"active_drag\":\"auto\",\"active_inspect\":\"auto\",\"active_scroll\":\"auto\",\"active_tap\":\"auto\",\"tools\":[{\"id\":\"e0a98d0e-9ec5-4b49-a77a-4e3f168b4071\",\"type\":\"BoxSelectTool\"},{\"id\":\"07476d34-ff39-4bfe-91b6-336be37e674c\",\"type\":\"BoxZoomTool\"},{\"id\":\"3babe732-d204-4a44-a679-6c7b679aa270\",\"type\":\"LassoSelectTool\"},{\"id\":\"802a69b2-69c3-456f-9b2e-ff48b2cefc36\",\"type\":\"ResetTool\"}]},\"id\":\"9b13c8c8-976f-41bb-a753-2e8134d2c548\",\"type\":\"Toolbar\"},{\"attributes\":{},\"id\":\"be32a571-40aa-466c-ab2b-cb2aea36b431\",\"type\":\"BasicTickFormatter\"},{\"attributes\":{\"bottom_units\":\"screen\",\"fill_alpha\":{\"value\":0.5},\"fill_color\":{\"value\":null},\"left_units\":\"screen\",\"level\":\"overlay\",\"line_alpha\":{\"value\":1.0},\"line_color\":{\"value\":\"olive\"},\"line_dash\":[],\"line_width\":{\"value\":8},\"plot\":null,\"render_mode\":\"css\",\"right_units\":\"screen\",\"top_units\":\"screen\"},\"id\":\"6e90c093-7e1f-4775-b97b-51c163768940\",\"type\":\"BoxAnnotation\"},{\"attributes\":{},\"id\":\"8ae35d41-4ce8-4e04-8c7a-d51b082f26a9\",\"type\":\"LinearScale\"},{\"attributes\":{\"source\":{\"id\":\"cb563adc-0f7b-4672-a8f8-0aa69f4ce504\",\"type\":\"ColumnDataSource\"}},\"id\":\"e0e65d71-723e-4e4a-ab43-1a7f2c586f67\",\"type\":\"CDSView\"},{\"attributes\":{\"data_source\":{\"id\":\"cb563adc-0f7b-4672-a8f8-0aa69f4ce504\",\"type\":\"ColumnDataSource\"},\"glyph\":{\"id\":\"289d4d48-05ff-4ac0-b9e7-11ce27331c2d\",\"type\":\"Circle\"},\"hover_glyph\":null,\"muted_glyph\":null,\"nonselection_glyph\":{\"id\":\"dd2e8954-9b66-41a5-bf0c-3f414169d826\",\"type\":\"Circle\"},\"selection_glyph\":null,\"view\":{\"id\":\"e0e65d71-723e-4e4a-ab43-1a7f2c586f67\",\"type\":\"CDSView\"}},\"id\":\"ee13982e-6542-40af-814f-ddaff29d41e3\",\"type\":\"GlyphRenderer\"},{\"attributes\":{},\"id\":\"134bc312-52bf-4966-b0d6-573fed8d4b10\",\"type\":\"LinearScale\"},{\"attributes\":{},\"id\":\"81f63584-305a-448a-9885-3835bfc46b5f\",\"type\":\"BasicTicker\"},{\"attributes\":{\"formatter\":{\"id\":\"be32a571-40aa-466c-ab2b-cb2aea36b431\",\"type\":\"BasicTickFormatter\"},\"plot\":{\"id\":\"0bda3ea5-ebd9-49e8-9e53-2502c0e647c8\",\"subtype\":\"Figure\",\"type\":\"Plot\"},\"ticker\":{\"id\":\"daa562b6-cc78-4d00-a44f-1ac61b23e2ef\",\"type\":\"BasicTicker\"}},\"id\":\"9bd88e82-30bd-459f-ac99-d823f83e8bb1\",\"type\":\"LinearAxis\"},{\"attributes\":{\"dimension\":1,\"plot\":{\"id\":\"0bda3ea5-ebd9-49e8-9e53-2502c0e647c8\",\"subtype\":\"Figure\",\"type\":\"Plot\"},\"ticker\":{\"id\":\"daa562b6-cc78-4d00-a44f-1ac61b23e2ef\",\"type\":\"BasicTicker\"}},\"id\":\"df5f2a29-4e1d-4317-90ad-1be761d85759\",\"type\":\"Grid\"},{\"attributes\":{},\"id\":\"daa562b6-cc78-4d00-a44f-1ac61b23e2ef\",\"type\":\"BasicTicker\"},{\"attributes\":{\"callback\":null},\"id\":\"e7ac46d7-ed5d-4875-8279-cfc1ecd91929\",\"type\":\"DataRange1d\"},{\"attributes\":{\"formatter\":{\"id\":\"3324bd79-5d07-457e-8a83-4148d6601301\",\"type\":\"BasicTickFormatter\"},\"plot\":{\"id\":\"0bda3ea5-ebd9-49e8-9e53-2502c0e647c8\",\"subtype\":\"Figure\",\"type\":\"Plot\"},\"ticker\":{\"id\":\"81f63584-305a-448a-9885-3835bfc46b5f\",\"type\":\"BasicTicker\"}},\"id\":\"2426f3bb-508d-43f2-93e0-90e34b9e3804\",\"type\":\"LinearAxis\"},{\"attributes\":{\"fill_alpha\":{\"value\":0.1},\"fill_color\":{\"value\":\"#1f77b4\"},\"line_alpha\":{\"value\":0.1},\"line_color\":{\"value\":\"#1f77b4\"},\"size\":{\"units\":\"screen\",\"value\":5},\"x\":{\"field\":\"x\"},\"y\":{\"field\":\"y\"}},\"id\":\"dd2e8954-9b66-41a5-bf0c-3f414169d826\",\"type\":\"Circle\"},{\"attributes\":{\"callback\":null},\"id\":\"276a16f7-4c4f-4903-9f0b-2b73d2f4af0a\",\"type\":\"DataRange1d\"},{\"attributes\":{},\"id\":\"3324bd79-5d07-457e-8a83-4148d6601301\",\"type\":\"BasicTickFormatter\"},{\"attributes\":{\"fill_color\":{\"value\":\"#1f77b4\"},\"line_color\":{\"value\":\"#1f77b4\"},\"size\":{\"units\":\"screen\",\"value\":5},\"x\":{\"field\":\"x\"},\"y\":{\"field\":\"y\"}},\"id\":\"289d4d48-05ff-4ac0-b9e7-11ce27331c2d\",\"type\":\"Circle\"}],\"root_ids\":[\"0bda3ea5-ebd9-49e8-9e53-2502c0e647c8\"]},\"title\":\"Bokeh Application\",\"version\":\"0.12.13\"}};\n",
       "  var render_items = [{\"docid\":\"a1c538c0-3626-4de5-a5b2-8800b7a65e86\",\"elementid\":\"821f0bbf-9cae-4ba0-9552-bbf4d6dc65f2\",\"modelid\":\"0bda3ea5-ebd9-49e8-9e53-2502c0e647c8\"}];\n",
       "  root.Bokeh.embed.embed_items_notebook(docs_json, render_items);\n",
       "\n",
       "  }\n",
       "  if (root.Bokeh !== undefined) {\n",
       "    embed_document(root);\n",
       "  } else {\n",
       "    var attempts = 0;\n",
       "    var timer = setInterval(function(root) {\n",
       "      if (root.Bokeh !== undefined) {\n",
       "        embed_document(root);\n",
       "        clearInterval(timer);\n",
       "      }\n",
       "      attempts++;\n",
       "      if (attempts > 100) {\n",
       "        console.log(\"Bokeh: ERROR: Unable to run BokehJS code because BokehJS library is missing\")\n",
       "        clearInterval(timer);\n",
       "      }\n",
       "    }, 10, root)\n",
       "  }\n",
       "})(window);"
      ],
      "application/vnd.bokehjs_exec.v0+json": ""
     },
     "metadata": {
      "application/vnd.bokehjs_exec.v0+json": {
       "id": "0bda3ea5-ebd9-49e8-9e53-2502c0e647c8"
      }
     },
     "output_type": "display_data"
    }
   ],
   "source": [
    "from bokeh.models import BoxSelectTool, BoxZoomTool, LassoSelectTool \n",
    "\n",
    "x = np.random.random(size=200)\n",
    "y = np.random.random(size=200)\n",
    "\n",
    "# Basic plot setup\n",
    "plot = figure(plot_width=400, plot_height=400, title='Select and Zoom',\n",
    "              tools=\"box_select,box_zoom,lasso_select,reset\")\n",
    "\n",
    "plot.circle(x, y, size=5)\n",
    "\n",
    "select_overlay = plot.select_one(BoxSelectTool).overlay\n",
    "\n",
    "select_overlay.fill_color = \"firebrick\"\n",
    "select_overlay.line_color = None\n",
    "\n",
    "zoom_overlay = plot.select_one(BoxZoomTool).overlay\n",
    "\n",
    "zoom_overlay.line_color = \"olive\"\n",
    "zoom_overlay.line_width = 8\n",
    "zoom_overlay.line_dash = \"solid\"\n",
    "zoom_overlay.fill_color = None\n",
    "\n",
    "plot.select_one(LassoSelectTool).overlay.line_dash = [10, 10]\n",
    "\n",
    "show(plot)"
   ]
  },
  {
   "cell_type": "markdown",
   "metadata": {},
   "source": [
    "### Axes"
   ]
  },
  {
   "cell_type": "code",
   "execution_count": 41,
   "metadata": {},
   "outputs": [
    {
     "data": {
      "text/html": [
       "\n",
       "<div class=\"bk-root\">\n",
       "    <div class=\"bk-plotdiv\" id=\"f2b66eac-82f2-4d96-94de-fa14600ae5f0\"></div>\n",
       "</div>"
      ]
     },
     "metadata": {},
     "output_type": "display_data"
    },
    {
     "data": {
      "application/javascript": [
       "(function(root) {\n",
       "  function embed_document(root) {\n",
       "    \n",
       "  var docs_json = {\"66ee38f7-39ba-40be-b011-672382b651df\":{\"roots\":{\"references\":[{\"attributes\":{\"axis_label\":\"Temp\",\"axis_line_color\":{\"value\":\"red\"},\"axis_line_width\":{\"value\":3},\"formatter\":{\"id\":\"aba98c55-e718-4383-9019-0c563ea8d027\",\"type\":\"BasicTickFormatter\"},\"minor_tick_in\":-3,\"minor_tick_out\":6,\"plot\":{\"id\":\"655dd066-9ccf-4d79-9860-5b02ed7581de\",\"subtype\":\"Figure\",\"type\":\"Plot\"},\"ticker\":{\"id\":\"6bc6a6cf-1547-425f-8824-4cf3bb7e9776\",\"type\":\"BasicTicker\"}},\"id\":\"4b0f4c94-2f81-4dc9-8a0d-6c69e1da0096\",\"type\":\"LinearAxis\"},{\"attributes\":{},\"id\":\"8ba85708-5636-42e4-a4e9-ecbf380921ab\",\"type\":\"BasicTicker\"},{\"attributes\":{},\"id\":\"a178e3d8-5a76-413b-8657-aab40f312508\",\"type\":\"LinearScale\"},{\"attributes\":{},\"id\":\"2ae2b190-135a-4ae7-a5ee-7add47f81cb9\",\"type\":\"BasicTickFormatter\"},{\"attributes\":{\"fill_alpha\":{\"value\":0.1},\"fill_color\":{\"value\":\"#1f77b4\"},\"line_alpha\":{\"value\":0.1},\"line_color\":{\"value\":\"#1f77b4\"},\"size\":{\"units\":\"screen\",\"value\":10},\"x\":{\"field\":\"x\"},\"y\":{\"field\":\"y\"}},\"id\":\"ba22a0b9-a3de-48bc-b3a9-283be67bb21e\",\"type\":\"Circle\"},{\"attributes\":{\"bottom_units\":\"screen\",\"fill_alpha\":{\"value\":0.5},\"fill_color\":{\"value\":\"lightgrey\"},\"left_units\":\"screen\",\"level\":\"overlay\",\"line_alpha\":{\"value\":1.0},\"line_color\":{\"value\":\"black\"},\"line_dash\":[4,4],\"line_width\":{\"value\":2},\"plot\":null,\"render_mode\":\"css\",\"right_units\":\"screen\",\"top_units\":\"screen\"},\"id\":\"b137753f-c83d-4888-8d76-baab2256ce8d\",\"type\":\"BoxAnnotation\"},{\"attributes\":{\"active_drag\":\"auto\",\"active_inspect\":\"auto\",\"active_scroll\":\"auto\",\"active_tap\":\"auto\",\"tools\":[{\"id\":\"d57f771b-451c-4421-b5ce-60e4515195df\",\"type\":\"PanTool\"},{\"id\":\"a5aef219-a4e3-4b42-b963-9ef81be9eaa2\",\"type\":\"WheelZoomTool\"},{\"id\":\"830c222b-a732-49de-ac7b-d496ab0024f6\",\"type\":\"BoxZoomTool\"},{\"id\":\"fadc2842-3286-44bf-b0ca-aa4174b9855e\",\"type\":\"SaveTool\"},{\"id\":\"61a93689-9833-4b9c-8d14-f9777b4f0889\",\"type\":\"ResetTool\"},{\"id\":\"f8df571a-9779-4f61-8c54-280ec70759b4\",\"type\":\"HelpTool\"}]},\"id\":\"70c27eb8-bf3c-43da-a777-d94c033ae4ef\",\"type\":\"Toolbar\"},{\"attributes\":{\"fill_color\":{\"value\":\"#1f77b4\"},\"line_color\":{\"value\":\"#1f77b4\"},\"size\":{\"units\":\"screen\",\"value\":10},\"x\":{\"field\":\"x\"},\"y\":{\"field\":\"y\"}},\"id\":\"9eeb3b30-999f-4d98-90c5-d5b4420be9c4\",\"type\":\"Circle\"},{\"attributes\":{\"plot\":{\"id\":\"655dd066-9ccf-4d79-9860-5b02ed7581de\",\"subtype\":\"Figure\",\"type\":\"Plot\"},\"ticker\":{\"id\":\"6bc6a6cf-1547-425f-8824-4cf3bb7e9776\",\"type\":\"BasicTicker\"}},\"id\":\"720970f8-09fc-44cb-a6cb-36a401a95538\",\"type\":\"Grid\"},{\"attributes\":{\"source\":{\"id\":\"b6cd1419-ab9d-4311-850c-59dedc0b00b7\",\"type\":\"ColumnDataSource\"}},\"id\":\"02aa93bc-f564-4f73-8718-74075a47083a\",\"type\":\"CDSView\"},{\"attributes\":{\"callback\":null,\"column_names\":[\"x\",\"y\"],\"data\":{\"x\":[1,2,3,4,5],\"y\":[2,5,8,2,7]}},\"id\":\"b6cd1419-ab9d-4311-850c-59dedc0b00b7\",\"type\":\"ColumnDataSource\"},{\"attributes\":{\"axis_label\":\"Pressure\",\"formatter\":{\"id\":\"2ae2b190-135a-4ae7-a5ee-7add47f81cb9\",\"type\":\"BasicTickFormatter\"},\"major_label_orientation\":\"vertical\",\"major_label_text_color\":{\"value\":\"orange\"},\"minor_tick_in\":-3,\"minor_tick_out\":6,\"plot\":{\"id\":\"655dd066-9ccf-4d79-9860-5b02ed7581de\",\"subtype\":\"Figure\",\"type\":\"Plot\"},\"ticker\":{\"id\":\"8ba85708-5636-42e4-a4e9-ecbf380921ab\",\"type\":\"BasicTicker\"}},\"id\":\"ba6dee03-79f0-4733-992f-85c448d10298\",\"type\":\"LinearAxis\"},{\"attributes\":{\"data_source\":{\"id\":\"b6cd1419-ab9d-4311-850c-59dedc0b00b7\",\"type\":\"ColumnDataSource\"},\"glyph\":{\"id\":\"9eeb3b30-999f-4d98-90c5-d5b4420be9c4\",\"type\":\"Circle\"},\"hover_glyph\":null,\"muted_glyph\":null,\"nonselection_glyph\":{\"id\":\"ba22a0b9-a3de-48bc-b3a9-283be67bb21e\",\"type\":\"Circle\"},\"selection_glyph\":null,\"view\":{\"id\":\"02aa93bc-f564-4f73-8718-74075a47083a\",\"type\":\"CDSView\"}},\"id\":\"eda0ebb5-1748-40ea-8ec8-de1ee7085b23\",\"type\":\"GlyphRenderer\"},{\"attributes\":{},\"id\":\"6bc6a6cf-1547-425f-8824-4cf3bb7e9776\",\"type\":\"BasicTicker\"},{\"attributes\":{\"plot\":null,\"text\":\"\"},\"id\":\"537d7fe8-e46e-4073-8626-867604338010\",\"type\":\"Title\"},{\"attributes\":{},\"id\":\"f8df571a-9779-4f61-8c54-280ec70759b4\",\"type\":\"HelpTool\"},{\"attributes\":{},\"id\":\"d57f771b-451c-4421-b5ce-60e4515195df\",\"type\":\"PanTool\"},{\"attributes\":{\"callback\":null},\"id\":\"7ec2f23f-f742-4e57-aca0-1de3188cb3f3\",\"type\":\"DataRange1d\"},{\"attributes\":{},\"id\":\"aba98c55-e718-4383-9019-0c563ea8d027\",\"type\":\"BasicTickFormatter\"},{\"attributes\":{\"dimension\":1,\"plot\":{\"id\":\"655dd066-9ccf-4d79-9860-5b02ed7581de\",\"subtype\":\"Figure\",\"type\":\"Plot\"},\"ticker\":{\"id\":\"8ba85708-5636-42e4-a4e9-ecbf380921ab\",\"type\":\"BasicTicker\"}},\"id\":\"ba1a20a0-393e-4ce2-b50a-60a26273a470\",\"type\":\"Grid\"},{\"attributes\":{\"callback\":null},\"id\":\"e7ba192e-4ac2-4665-87aa-9d6f7ec8da66\",\"type\":\"DataRange1d\"},{\"attributes\":{\"overlay\":{\"id\":\"b137753f-c83d-4888-8d76-baab2256ce8d\",\"type\":\"BoxAnnotation\"}},\"id\":\"830c222b-a732-49de-ac7b-d496ab0024f6\",\"type\":\"BoxZoomTool\"},{\"attributes\":{},\"id\":\"d5c77a34-fcd4-4dbd-9227-0b6672cf5da6\",\"type\":\"LinearScale\"},{\"attributes\":{},\"id\":\"a5aef219-a4e3-4b42-b963-9ef81be9eaa2\",\"type\":\"WheelZoomTool\"},{\"attributes\":{\"below\":[{\"id\":\"4b0f4c94-2f81-4dc9-8a0d-6c69e1da0096\",\"type\":\"LinearAxis\"}],\"left\":[{\"id\":\"ba6dee03-79f0-4733-992f-85c448d10298\",\"type\":\"LinearAxis\"}],\"plot_height\":400,\"plot_width\":400,\"renderers\":[{\"id\":\"4b0f4c94-2f81-4dc9-8a0d-6c69e1da0096\",\"type\":\"LinearAxis\"},{\"id\":\"720970f8-09fc-44cb-a6cb-36a401a95538\",\"type\":\"Grid\"},{\"id\":\"ba6dee03-79f0-4733-992f-85c448d10298\",\"type\":\"LinearAxis\"},{\"id\":\"ba1a20a0-393e-4ce2-b50a-60a26273a470\",\"type\":\"Grid\"},{\"id\":\"b137753f-c83d-4888-8d76-baab2256ce8d\",\"type\":\"BoxAnnotation\"},{\"id\":\"eda0ebb5-1748-40ea-8ec8-de1ee7085b23\",\"type\":\"GlyphRenderer\"}],\"title\":{\"id\":\"537d7fe8-e46e-4073-8626-867604338010\",\"type\":\"Title\"},\"toolbar\":{\"id\":\"70c27eb8-bf3c-43da-a777-d94c033ae4ef\",\"type\":\"Toolbar\"},\"x_range\":{\"id\":\"e7ba192e-4ac2-4665-87aa-9d6f7ec8da66\",\"type\":\"DataRange1d\"},\"x_scale\":{\"id\":\"d5c77a34-fcd4-4dbd-9227-0b6672cf5da6\",\"type\":\"LinearScale\"},\"y_range\":{\"id\":\"7ec2f23f-f742-4e57-aca0-1de3188cb3f3\",\"type\":\"DataRange1d\"},\"y_scale\":{\"id\":\"a178e3d8-5a76-413b-8657-aab40f312508\",\"type\":\"LinearScale\"}},\"id\":\"655dd066-9ccf-4d79-9860-5b02ed7581de\",\"subtype\":\"Figure\",\"type\":\"Plot\"},{\"attributes\":{},\"id\":\"61a93689-9833-4b9c-8d14-f9777b4f0889\",\"type\":\"ResetTool\"},{\"attributes\":{},\"id\":\"fadc2842-3286-44bf-b0ca-aa4174b9855e\",\"type\":\"SaveTool\"}],\"root_ids\":[\"655dd066-9ccf-4d79-9860-5b02ed7581de\"]},\"title\":\"Bokeh Application\",\"version\":\"0.12.13\"}};\n",
       "  var render_items = [{\"docid\":\"66ee38f7-39ba-40be-b011-672382b651df\",\"elementid\":\"f2b66eac-82f2-4d96-94de-fa14600ae5f0\",\"modelid\":\"655dd066-9ccf-4d79-9860-5b02ed7581de\"}];\n",
       "  root.Bokeh.embed.embed_items_notebook(docs_json, render_items);\n",
       "\n",
       "  }\n",
       "  if (root.Bokeh !== undefined) {\n",
       "    embed_document(root);\n",
       "  } else {\n",
       "    var attempts = 0;\n",
       "    var timer = setInterval(function(root) {\n",
       "      if (root.Bokeh !== undefined) {\n",
       "        embed_document(root);\n",
       "        clearInterval(timer);\n",
       "      }\n",
       "      attempts++;\n",
       "      if (attempts > 100) {\n",
       "        console.log(\"Bokeh: ERROR: Unable to run BokehJS code because BokehJS library is missing\")\n",
       "        clearInterval(timer);\n",
       "      }\n",
       "    }, 10, root)\n",
       "  }\n",
       "})(window);"
      ],
      "application/vnd.bokehjs_exec.v0+json": ""
     },
     "metadata": {
      "application/vnd.bokehjs_exec.v0+json": {
       "id": "655dd066-9ccf-4d79-9860-5b02ed7581de"
      }
     },
     "output_type": "display_data"
    }
   ],
   "source": [
    "p = figure(plot_width=400, plot_height=400)\n",
    "p.circle([1,2,3,4,5], [2,5,8,2,7], size=10)\n",
    "\n",
    "# change just some things about the x-axes\n",
    "p.xaxis.axis_label = \"Temp\"\n",
    "p.xaxis.axis_line_width = 3\n",
    "p.xaxis.axis_line_color = \"red\"\n",
    "\n",
    "# change just some things about the y-axes\n",
    "p.yaxis.axis_label = \"Pressure\"\n",
    "p.yaxis.major_label_text_color = \"orange\"\n",
    "p.yaxis.major_label_orientation = \"vertical\"\n",
    "\n",
    "# change things on all axes\n",
    "p.axis.minor_tick_in = -3\n",
    "p.axis.minor_tick_out = 6\n",
    "\n",
    "show(p)"
   ]
  },
  {
   "cell_type": "markdown",
   "metadata": {},
   "source": [
    "### Labels"
   ]
  },
  {
   "cell_type": "code",
   "execution_count": 42,
   "metadata": {},
   "outputs": [
    {
     "data": {
      "text/html": [
       "\n",
       "<div class=\"bk-root\">\n",
       "    <div class=\"bk-plotdiv\" id=\"1edd404c-f23e-4129-b6f7-d1a8addb2b6e\"></div>\n",
       "</div>"
      ]
     },
     "metadata": {},
     "output_type": "display_data"
    },
    {
     "data": {
      "application/javascript": [
       "(function(root) {\n",
       "  function embed_document(root) {\n",
       "    \n",
       "  var docs_json = {\"bb7009bd-6548-4c33-b1b5-e8fd31d25fbe\":{\"roots\":{\"references\":[{\"attributes\":{},\"id\":\"7b85dbf6-abb0-45ba-a507-17e41ec0716d\",\"type\":\"BasicTicker\"},{\"attributes\":{\"axis_label\":\"Lot Number\",\"axis_label_standoff\":30,\"axis_label_text_color\":{\"value\":\"#aa6666\"},\"formatter\":{\"id\":\"f9138dd9-73b6-4346-bb32-5458e266a616\",\"type\":\"BasicTickFormatter\"},\"plot\":{\"id\":\"21d88c72-a60c-4f0b-96c3-3dfee0c264c6\",\"subtype\":\"Figure\",\"type\":\"Plot\"},\"ticker\":{\"id\":\"8fe89004-7081-4982-bebc-01a45c33e4e7\",\"type\":\"BasicTicker\"}},\"id\":\"3f1085f4-674d-47ed-80a2-04c880b449c2\",\"type\":\"LinearAxis\"},{\"attributes\":{\"fill_alpha\":{\"value\":0.1},\"fill_color\":{\"value\":\"#1f77b4\"},\"line_alpha\":{\"value\":0.1},\"line_color\":{\"value\":\"#1f77b4\"},\"size\":{\"units\":\"screen\",\"value\":10},\"x\":{\"field\":\"x\"},\"y\":{\"field\":\"y\"}},\"id\":\"0eadbb93-42e3-4339-8250-1b43c4ee2de8\",\"type\":\"Circle\"},{\"attributes\":{},\"id\":\"8fe89004-7081-4982-bebc-01a45c33e4e7\",\"type\":\"BasicTicker\"},{\"attributes\":{\"overlay\":{\"id\":\"76de783b-9a8e-410d-8213-d565b1a0e264\",\"type\":\"BoxAnnotation\"}},\"id\":\"6bd3493e-b331-4692-b374-11e8b734177f\",\"type\":\"BoxZoomTool\"},{\"attributes\":{\"plot\":null,\"text\":\"\"},\"id\":\"3fc63740-bacf-4f15-85ec-0c43295f29ca\",\"type\":\"Title\"},{\"attributes\":{},\"id\":\"56de3e0e-63ad-4aaf-97aa-268dadbe59e1\",\"type\":\"LinearScale\"},{\"attributes\":{},\"id\":\"ed0146e3-5cdf-47f2-9353-71c3982757d8\",\"type\":\"LinearScale\"},{\"attributes\":{},\"id\":\"a9697da9-28f9-4581-95d9-6c86c46459d8\",\"type\":\"ResetTool\"},{\"attributes\":{\"plot\":{\"id\":\"21d88c72-a60c-4f0b-96c3-3dfee0c264c6\",\"subtype\":\"Figure\",\"type\":\"Plot\"},\"ticker\":{\"id\":\"8fe89004-7081-4982-bebc-01a45c33e4e7\",\"type\":\"BasicTicker\"}},\"id\":\"8c07f303-d431-4821-ac94-47e412712507\",\"type\":\"Grid\"},{\"attributes\":{},\"id\":\"8d447c7e-8ff3-442c-9238-e9b00d193b7b\",\"type\":\"SaveTool\"},{\"attributes\":{\"data_source\":{\"id\":\"e6320932-67b0-4cec-bb49-035d1ac97a36\",\"type\":\"ColumnDataSource\"},\"glyph\":{\"id\":\"9f183301-30da-4bda-b041-ff7d1d0d8bd9\",\"type\":\"Circle\"},\"hover_glyph\":null,\"muted_glyph\":null,\"nonselection_glyph\":{\"id\":\"0eadbb93-42e3-4339-8250-1b43c4ee2de8\",\"type\":\"Circle\"},\"selection_glyph\":null,\"view\":{\"id\":\"db6e949c-b3fc-46f6-8bf4-03084c23ded5\",\"type\":\"CDSView\"}},\"id\":\"ce8cf983-edfb-4a17-8039-b4b39bd066bb\",\"type\":\"GlyphRenderer\"},{\"attributes\":{\"fill_color\":{\"value\":\"#1f77b4\"},\"line_color\":{\"value\":\"#1f77b4\"},\"size\":{\"units\":\"screen\",\"value\":10},\"x\":{\"field\":\"x\"},\"y\":{\"field\":\"y\"}},\"id\":\"9f183301-30da-4bda-b041-ff7d1d0d8bd9\",\"type\":\"Circle\"},{\"attributes\":{\"dimension\":1,\"plot\":{\"id\":\"21d88c72-a60c-4f0b-96c3-3dfee0c264c6\",\"subtype\":\"Figure\",\"type\":\"Plot\"},\"ticker\":{\"id\":\"7b85dbf6-abb0-45ba-a507-17e41ec0716d\",\"type\":\"BasicTicker\"}},\"id\":\"fac40774-4c3a-4cd1-8ded-d3d35d5da5ba\",\"type\":\"Grid\"},{\"attributes\":{\"callback\":null},\"id\":\"7b2157e9-9a9a-4f1d-9a07-e48e15fd50f6\",\"type\":\"DataRange1d\"},{\"attributes\":{},\"id\":\"f0365484-d467-493f-8567-5126b25ae494\",\"type\":\"HelpTool\"},{\"attributes\":{},\"id\":\"de3a5948-eb81-4543-8a65-eafeca834054\",\"type\":\"PanTool\"},{\"attributes\":{\"active_drag\":\"auto\",\"active_inspect\":\"auto\",\"active_scroll\":\"auto\",\"active_tap\":\"auto\",\"tools\":[{\"id\":\"de3a5948-eb81-4543-8a65-eafeca834054\",\"type\":\"PanTool\"},{\"id\":\"3b2d96f1-c021-49b1-9155-96aa706caa3e\",\"type\":\"WheelZoomTool\"},{\"id\":\"6bd3493e-b331-4692-b374-11e8b734177f\",\"type\":\"BoxZoomTool\"},{\"id\":\"8d447c7e-8ff3-442c-9238-e9b00d193b7b\",\"type\":\"SaveTool\"},{\"id\":\"a9697da9-28f9-4581-95d9-6c86c46459d8\",\"type\":\"ResetTool\"},{\"id\":\"f0365484-d467-493f-8567-5126b25ae494\",\"type\":\"HelpTool\"}]},\"id\":\"0f7f7210-99d9-4d77-851d-24223ed1aa0b\",\"type\":\"Toolbar\"},{\"attributes\":{},\"id\":\"f9138dd9-73b6-4346-bb32-5458e266a616\",\"type\":\"BasicTickFormatter\"},{\"attributes\":{\"bottom_units\":\"screen\",\"fill_alpha\":{\"value\":0.5},\"fill_color\":{\"value\":\"lightgrey\"},\"left_units\":\"screen\",\"level\":\"overlay\",\"line_alpha\":{\"value\":1.0},\"line_color\":{\"value\":\"black\"},\"line_dash\":[4,4],\"line_width\":{\"value\":2},\"plot\":null,\"render_mode\":\"css\",\"right_units\":\"screen\",\"top_units\":\"screen\"},\"id\":\"76de783b-9a8e-410d-8213-d565b1a0e264\",\"type\":\"BoxAnnotation\"},{\"attributes\":{},\"id\":\"b3dcf5fc-dcdb-4aaa-afe5-568fad96a93f\",\"type\":\"BasicTickFormatter\"},{\"attributes\":{\"source\":{\"id\":\"e6320932-67b0-4cec-bb49-035d1ac97a36\",\"type\":\"ColumnDataSource\"}},\"id\":\"db6e949c-b3fc-46f6-8bf4-03084c23ded5\",\"type\":\"CDSView\"},{\"attributes\":{\"callback\":null},\"id\":\"c0aa4a04-f246-4d13-9062-7b99b967412c\",\"type\":\"DataRange1d\"},{\"attributes\":{\"axis_label\":\"Bin Count\",\"formatter\":{\"id\":\"b3dcf5fc-dcdb-4aaa-afe5-568fad96a93f\",\"type\":\"BasicTickFormatter\"},\"plot\":{\"id\":\"21d88c72-a60c-4f0b-96c3-3dfee0c264c6\",\"subtype\":\"Figure\",\"type\":\"Plot\"},\"ticker\":{\"id\":\"7b85dbf6-abb0-45ba-a507-17e41ec0716d\",\"type\":\"BasicTicker\"}},\"id\":\"e14be2db-047a-43cb-82cb-9fd61db2cd30\",\"type\":\"LinearAxis\"},{\"attributes\":{},\"id\":\"3b2d96f1-c021-49b1-9155-96aa706caa3e\",\"type\":\"WheelZoomTool\"},{\"attributes\":{\"callback\":null,\"column_names\":[\"x\",\"y\"],\"data\":{\"x\":[1,2,3,4,5],\"y\":[2,5,8,2,7]}},\"id\":\"e6320932-67b0-4cec-bb49-035d1ac97a36\",\"type\":\"ColumnDataSource\"},{\"attributes\":{\"below\":[{\"id\":\"3f1085f4-674d-47ed-80a2-04c880b449c2\",\"type\":\"LinearAxis\"}],\"left\":[{\"id\":\"e14be2db-047a-43cb-82cb-9fd61db2cd30\",\"type\":\"LinearAxis\"}],\"plot_height\":400,\"plot_width\":400,\"renderers\":[{\"id\":\"3f1085f4-674d-47ed-80a2-04c880b449c2\",\"type\":\"LinearAxis\"},{\"id\":\"8c07f303-d431-4821-ac94-47e412712507\",\"type\":\"Grid\"},{\"id\":\"e14be2db-047a-43cb-82cb-9fd61db2cd30\",\"type\":\"LinearAxis\"},{\"id\":\"fac40774-4c3a-4cd1-8ded-d3d35d5da5ba\",\"type\":\"Grid\"},{\"id\":\"76de783b-9a8e-410d-8213-d565b1a0e264\",\"type\":\"BoxAnnotation\"},{\"id\":\"ce8cf983-edfb-4a17-8039-b4b39bd066bb\",\"type\":\"GlyphRenderer\"}],\"title\":{\"id\":\"3fc63740-bacf-4f15-85ec-0c43295f29ca\",\"type\":\"Title\"},\"toolbar\":{\"id\":\"0f7f7210-99d9-4d77-851d-24223ed1aa0b\",\"type\":\"Toolbar\"},\"x_range\":{\"id\":\"c0aa4a04-f246-4d13-9062-7b99b967412c\",\"type\":\"DataRange1d\"},\"x_scale\":{\"id\":\"ed0146e3-5cdf-47f2-9353-71c3982757d8\",\"type\":\"LinearScale\"},\"y_range\":{\"id\":\"7b2157e9-9a9a-4f1d-9a07-e48e15fd50f6\",\"type\":\"DataRange1d\"},\"y_scale\":{\"id\":\"56de3e0e-63ad-4aaf-97aa-268dadbe59e1\",\"type\":\"LinearScale\"}},\"id\":\"21d88c72-a60c-4f0b-96c3-3dfee0c264c6\",\"subtype\":\"Figure\",\"type\":\"Plot\"}],\"root_ids\":[\"21d88c72-a60c-4f0b-96c3-3dfee0c264c6\"]},\"title\":\"Bokeh Application\",\"version\":\"0.12.13\"}};\n",
       "  var render_items = [{\"docid\":\"bb7009bd-6548-4c33-b1b5-e8fd31d25fbe\",\"elementid\":\"1edd404c-f23e-4129-b6f7-d1a8addb2b6e\",\"modelid\":\"21d88c72-a60c-4f0b-96c3-3dfee0c264c6\"}];\n",
       "  root.Bokeh.embed.embed_items_notebook(docs_json, render_items);\n",
       "\n",
       "  }\n",
       "  if (root.Bokeh !== undefined) {\n",
       "    embed_document(root);\n",
       "  } else {\n",
       "    var attempts = 0;\n",
       "    var timer = setInterval(function(root) {\n",
       "      if (root.Bokeh !== undefined) {\n",
       "        embed_document(root);\n",
       "        clearInterval(timer);\n",
       "      }\n",
       "      attempts++;\n",
       "      if (attempts > 100) {\n",
       "        console.log(\"Bokeh: ERROR: Unable to run BokehJS code because BokehJS library is missing\")\n",
       "        clearInterval(timer);\n",
       "      }\n",
       "    }, 10, root)\n",
       "  }\n",
       "})(window);"
      ],
      "application/vnd.bokehjs_exec.v0+json": ""
     },
     "metadata": {
      "application/vnd.bokehjs_exec.v0+json": {
       "id": "21d88c72-a60c-4f0b-96c3-3dfee0c264c6"
      }
     },
     "output_type": "display_data"
    }
   ],
   "source": [
    "p = figure(plot_width=400, plot_height=400)\n",
    "p.circle([1,2,3,4,5], [2,5,8,2,7], size=10)\n",
    "\n",
    "p.xaxis.axis_label = \"Lot Number\"\n",
    "p.xaxis.axis_label_text_color = \"#aa6666\"\n",
    "p.xaxis.axis_label_standoff = 30\n",
    "\n",
    "p.yaxis.axis_label = \"Bin Count\"\n",
    "p.yaxis.axis_label_text_font_style = \"italic\"\n",
    "\n",
    "show(p)\n"
   ]
  },
  {
   "cell_type": "markdown",
   "metadata": {},
   "source": [
    "### Bounds"
   ]
  },
  {
   "cell_type": "code",
   "execution_count": 43,
   "metadata": {},
   "outputs": [
    {
     "data": {
      "text/html": [
       "\n",
       "<div class=\"bk-root\">\n",
       "    <div class=\"bk-plotdiv\" id=\"57d5917c-1f45-4887-8848-06c2a3477927\"></div>\n",
       "</div>"
      ]
     },
     "metadata": {},
     "output_type": "display_data"
    },
    {
     "data": {
      "application/javascript": [
       "(function(root) {\n",
       "  function embed_document(root) {\n",
       "    \n",
       "  var docs_json = {\"29505214-7650-4abd-9bd1-29e283c7b249\":{\"roots\":{\"references\":[{\"attributes\":{},\"id\":\"e2496dcd-57eb-4f47-abaf-4130aef894e0\",\"type\":\"BasicTickFormatter\"},{\"attributes\":{\"below\":[{\"id\":\"6927f972-65b0-46c0-8817-52758e757c8d\",\"type\":\"LinearAxis\"}],\"left\":[{\"id\":\"400e5807-b7f6-4305-83a8-617bd60ea469\",\"type\":\"LinearAxis\"}],\"plot_height\":400,\"plot_width\":400,\"renderers\":[{\"id\":\"6927f972-65b0-46c0-8817-52758e757c8d\",\"type\":\"LinearAxis\"},{\"id\":\"27ebd9d5-f79d-43c5-bf83-aa3edbc569a3\",\"type\":\"Grid\"},{\"id\":\"400e5807-b7f6-4305-83a8-617bd60ea469\",\"type\":\"LinearAxis\"},{\"id\":\"b9ffdd2d-aa90-4478-92a1-c933318aa113\",\"type\":\"Grid\"},{\"id\":\"6d1bf801-c3d2-4c77-96bc-2478053c63eb\",\"type\":\"BoxAnnotation\"},{\"id\":\"81c437bd-ec00-47cf-a176-a494a8438213\",\"type\":\"GlyphRenderer\"}],\"title\":{\"id\":\"60581454-6cc9-457c-8a36-ada6c8acf64f\",\"type\":\"Title\"},\"toolbar\":{\"id\":\"e870e3ab-a48f-47aa-8998-53872dde5672\",\"type\":\"Toolbar\"},\"x_range\":{\"id\":\"76c22b57-5afd-43b8-a7fe-1efbf397cbc3\",\"type\":\"DataRange1d\"},\"x_scale\":{\"id\":\"93effb75-9ce7-4904-a47f-fbe47fadcb60\",\"type\":\"LinearScale\"},\"y_range\":{\"id\":\"99871c29-ecff-4532-a18a-5a1ba7a72f0b\",\"type\":\"DataRange1d\"},\"y_scale\":{\"id\":\"6c8ae237-6d33-49e0-b0b5-39c6c948e5d5\",\"type\":\"LinearScale\"}},\"id\":\"7531d3ca-e7cb-42e6-8edc-f7d6d00a5dfc\",\"subtype\":\"Figure\",\"type\":\"Plot\"},{\"attributes\":{\"formatter\":{\"id\":\"e2496dcd-57eb-4f47-abaf-4130aef894e0\",\"type\":\"BasicTickFormatter\"},\"plot\":{\"id\":\"7531d3ca-e7cb-42e6-8edc-f7d6d00a5dfc\",\"subtype\":\"Figure\",\"type\":\"Plot\"},\"ticker\":{\"id\":\"8568f5d4-7e79-4b7e-a9cb-a3e58d3aed39\",\"type\":\"BasicTicker\"}},\"id\":\"400e5807-b7f6-4305-83a8-617bd60ea469\",\"type\":\"LinearAxis\"},{\"attributes\":{},\"id\":\"984dd9cc-ddf0-44fd-a6d8-56e497cdae8b\",\"type\":\"ResetTool\"},{\"attributes\":{\"fill_color\":{\"value\":\"#1f77b4\"},\"line_color\":{\"value\":\"#1f77b4\"},\"size\":{\"units\":\"screen\",\"value\":10},\"x\":{\"field\":\"x\"},\"y\":{\"field\":\"y\"}},\"id\":\"88364545-54b5-4acd-930b-759886b181a7\",\"type\":\"Circle\"},{\"attributes\":{\"active_drag\":\"auto\",\"active_inspect\":\"auto\",\"active_scroll\":\"auto\",\"active_tap\":\"auto\",\"tools\":[{\"id\":\"c562152f-a3dc-4b2d-92c7-2f9f03109782\",\"type\":\"PanTool\"},{\"id\":\"a1e0c6c1-bdd9-478e-8615-3cd410355110\",\"type\":\"WheelZoomTool\"},{\"id\":\"9fb75f02-2ce2-4341-8244-e052b945292f\",\"type\":\"BoxZoomTool\"},{\"id\":\"37e861fc-8721-4da9-ad0b-7edb3a65fcfb\",\"type\":\"SaveTool\"},{\"id\":\"984dd9cc-ddf0-44fd-a6d8-56e497cdae8b\",\"type\":\"ResetTool\"},{\"id\":\"93fabd2a-9f0d-4a9c-b2b2-a3a35b0d2eb7\",\"type\":\"HelpTool\"}]},\"id\":\"e870e3ab-a48f-47aa-8998-53872dde5672\",\"type\":\"Toolbar\"},{\"attributes\":{\"fill_alpha\":{\"value\":0.1},\"fill_color\":{\"value\":\"#1f77b4\"},\"line_alpha\":{\"value\":0.1},\"line_color\":{\"value\":\"#1f77b4\"},\"size\":{\"units\":\"screen\",\"value\":10},\"x\":{\"field\":\"x\"},\"y\":{\"field\":\"y\"}},\"id\":\"04f4abaa-bef9-4c58-81d3-f041869a2edf\",\"type\":\"Circle\"},{\"attributes\":{\"plot\":null,\"text\":\"\"},\"id\":\"60581454-6cc9-457c-8a36-ada6c8acf64f\",\"type\":\"Title\"},{\"attributes\":{\"callback\":null,\"column_names\":[\"x\",\"y\"],\"data\":{\"x\":[1,2,3,4,5],\"y\":[2,5,8,2,7]}},\"id\":\"186e1db3-23a9-4863-a2f0-0ca768b59f20\",\"type\":\"ColumnDataSource\"},{\"attributes\":{},\"id\":\"93fabd2a-9f0d-4a9c-b2b2-a3a35b0d2eb7\",\"type\":\"HelpTool\"},{\"attributes\":{\"data_source\":{\"id\":\"186e1db3-23a9-4863-a2f0-0ca768b59f20\",\"type\":\"ColumnDataSource\"},\"glyph\":{\"id\":\"88364545-54b5-4acd-930b-759886b181a7\",\"type\":\"Circle\"},\"hover_glyph\":null,\"muted_glyph\":null,\"nonselection_glyph\":{\"id\":\"04f4abaa-bef9-4c58-81d3-f041869a2edf\",\"type\":\"Circle\"},\"selection_glyph\":null,\"view\":{\"id\":\"87843953-6c98-4872-b534-c619e1726160\",\"type\":\"CDSView\"}},\"id\":\"81c437bd-ec00-47cf-a176-a494a8438213\",\"type\":\"GlyphRenderer\"},{\"attributes\":{\"bounds\":[2,4],\"formatter\":{\"id\":\"e5447a90-d3e3-4abf-8a33-fd8b3e61f745\",\"type\":\"BasicTickFormatter\"},\"plot\":{\"id\":\"7531d3ca-e7cb-42e6-8edc-f7d6d00a5dfc\",\"subtype\":\"Figure\",\"type\":\"Plot\"},\"ticker\":{\"id\":\"7393ad84-a47c-44b8-9957-0f807851ca7a\",\"type\":\"BasicTicker\"}},\"id\":\"6927f972-65b0-46c0-8817-52758e757c8d\",\"type\":\"LinearAxis\"},{\"attributes\":{},\"id\":\"a1e0c6c1-bdd9-478e-8615-3cd410355110\",\"type\":\"WheelZoomTool\"},{\"attributes\":{\"bottom_units\":\"screen\",\"fill_alpha\":{\"value\":0.5},\"fill_color\":{\"value\":\"lightgrey\"},\"left_units\":\"screen\",\"level\":\"overlay\",\"line_alpha\":{\"value\":1.0},\"line_color\":{\"value\":\"black\"},\"line_dash\":[4,4],\"line_width\":{\"value\":2},\"plot\":null,\"render_mode\":\"css\",\"right_units\":\"screen\",\"top_units\":\"screen\"},\"id\":\"6d1bf801-c3d2-4c77-96bc-2478053c63eb\",\"type\":\"BoxAnnotation\"},{\"attributes\":{},\"id\":\"6c8ae237-6d33-49e0-b0b5-39c6c948e5d5\",\"type\":\"LinearScale\"},{\"attributes\":{\"overlay\":{\"id\":\"6d1bf801-c3d2-4c77-96bc-2478053c63eb\",\"type\":\"BoxAnnotation\"}},\"id\":\"9fb75f02-2ce2-4341-8244-e052b945292f\",\"type\":\"BoxZoomTool\"},{\"attributes\":{},\"id\":\"7393ad84-a47c-44b8-9957-0f807851ca7a\",\"type\":\"BasicTicker\"},{\"attributes\":{\"dimension\":1,\"plot\":{\"id\":\"7531d3ca-e7cb-42e6-8edc-f7d6d00a5dfc\",\"subtype\":\"Figure\",\"type\":\"Plot\"},\"ticker\":{\"id\":\"8568f5d4-7e79-4b7e-a9cb-a3e58d3aed39\",\"type\":\"BasicTicker\"}},\"id\":\"b9ffdd2d-aa90-4478-92a1-c933318aa113\",\"type\":\"Grid\"},{\"attributes\":{},\"id\":\"37e861fc-8721-4da9-ad0b-7edb3a65fcfb\",\"type\":\"SaveTool\"},{\"attributes\":{},\"id\":\"93effb75-9ce7-4904-a47f-fbe47fadcb60\",\"type\":\"LinearScale\"},{\"attributes\":{\"callback\":null},\"id\":\"99871c29-ecff-4532-a18a-5a1ba7a72f0b\",\"type\":\"DataRange1d\"},{\"attributes\":{},\"id\":\"8568f5d4-7e79-4b7e-a9cb-a3e58d3aed39\",\"type\":\"BasicTicker\"},{\"attributes\":{},\"id\":\"e5447a90-d3e3-4abf-8a33-fd8b3e61f745\",\"type\":\"BasicTickFormatter\"},{\"attributes\":{\"source\":{\"id\":\"186e1db3-23a9-4863-a2f0-0ca768b59f20\",\"type\":\"ColumnDataSource\"}},\"id\":\"87843953-6c98-4872-b534-c619e1726160\",\"type\":\"CDSView\"},{\"attributes\":{\"callback\":null},\"id\":\"76c22b57-5afd-43b8-a7fe-1efbf397cbc3\",\"type\":\"DataRange1d\"},{\"attributes\":{},\"id\":\"c562152f-a3dc-4b2d-92c7-2f9f03109782\",\"type\":\"PanTool\"},{\"attributes\":{\"plot\":{\"id\":\"7531d3ca-e7cb-42e6-8edc-f7d6d00a5dfc\",\"subtype\":\"Figure\",\"type\":\"Plot\"},\"ticker\":{\"id\":\"7393ad84-a47c-44b8-9957-0f807851ca7a\",\"type\":\"BasicTicker\"}},\"id\":\"27ebd9d5-f79d-43c5-bf83-aa3edbc569a3\",\"type\":\"Grid\"}],\"root_ids\":[\"7531d3ca-e7cb-42e6-8edc-f7d6d00a5dfc\"]},\"title\":\"Bokeh Application\",\"version\":\"0.12.13\"}};\n",
       "  var render_items = [{\"docid\":\"29505214-7650-4abd-9bd1-29e283c7b249\",\"elementid\":\"57d5917c-1f45-4887-8848-06c2a3477927\",\"modelid\":\"7531d3ca-e7cb-42e6-8edc-f7d6d00a5dfc\"}];\n",
       "  root.Bokeh.embed.embed_items_notebook(docs_json, render_items);\n",
       "\n",
       "  }\n",
       "  if (root.Bokeh !== undefined) {\n",
       "    embed_document(root);\n",
       "  } else {\n",
       "    var attempts = 0;\n",
       "    var timer = setInterval(function(root) {\n",
       "      if (root.Bokeh !== undefined) {\n",
       "        embed_document(root);\n",
       "        clearInterval(timer);\n",
       "      }\n",
       "      attempts++;\n",
       "      if (attempts > 100) {\n",
       "        console.log(\"Bokeh: ERROR: Unable to run BokehJS code because BokehJS library is missing\")\n",
       "        clearInterval(timer);\n",
       "      }\n",
       "    }, 10, root)\n",
       "  }\n",
       "})(window);"
      ],
      "application/vnd.bokehjs_exec.v0+json": ""
     },
     "metadata": {
      "application/vnd.bokehjs_exec.v0+json": {
       "id": "7531d3ca-e7cb-42e6-8edc-f7d6d00a5dfc"
      }
     },
     "output_type": "display_data"
    }
   ],
   "source": [
    "p = figure(plot_width=400, plot_height=400)\n",
    "p.circle([1,2,3,4,5], [2,5,8,2,7], size=10)\n",
    "\n",
    "p.xaxis.bounds = (2, 4)\n",
    "\n",
    "show(p)"
   ]
  },
  {
   "cell_type": "markdown",
   "metadata": {},
   "source": [
    "### Tick Locations"
   ]
  },
  {
   "cell_type": "markdown",
   "metadata": {},
   "source": [
    "#### FixedTicker"
   ]
  },
  {
   "cell_type": "code",
   "execution_count": 44,
   "metadata": {},
   "outputs": [
    {
     "data": {
      "text/html": [
       "\n",
       "<div class=\"bk-root\">\n",
       "    <div class=\"bk-plotdiv\" id=\"d10b5b16-295b-40bb-9ccc-e54293022c3e\"></div>\n",
       "</div>"
      ]
     },
     "metadata": {},
     "output_type": "display_data"
    },
    {
     "data": {
      "application/javascript": [
       "(function(root) {\n",
       "  function embed_document(root) {\n",
       "    \n",
       "  var docs_json = {\"b6c8fe74-b2e9-498a-b2ea-179e6eb5fb9d\":{\"roots\":{\"references\":[{\"attributes\":{},\"id\":\"164e4055-6fb2-411e-a1f6-3065cea0353b\",\"type\":\"PanTool\"},{\"attributes\":{},\"id\":\"b6203772-e0f0-4ec7-a3f7-e813724a06a2\",\"type\":\"HelpTool\"},{\"attributes\":{\"formatter\":{\"id\":\"918c93e4-cfe4-42dd-a553-f600a5e85334\",\"type\":\"BasicTickFormatter\"},\"plot\":{\"id\":\"f82c35d1-b609-4b55-adf7-0d110af47570\",\"subtype\":\"Figure\",\"type\":\"Plot\"},\"ticker\":{\"id\":\"7ccf43ca-6e6b-445a-8729-970823e9e358\",\"type\":\"BasicTicker\"}},\"id\":\"9438c306-92e9-4bc3-88af-1e6afa4ace18\",\"type\":\"LinearAxis\"},{\"attributes\":{},\"id\":\"a8e127bd-8286-4a82-9786-891d21714403\",\"type\":\"ResetTool\"},{\"attributes\":{},\"id\":\"7ccf43ca-6e6b-445a-8729-970823e9e358\",\"type\":\"BasicTicker\"},{\"attributes\":{},\"id\":\"24645589-a713-4c05-88d2-f432ccaec14b\",\"type\":\"BasicTicker\"},{\"attributes\":{\"plot\":null,\"text\":\"\"},\"id\":\"d1429846-bd64-4e02-8207-90b01c16b4b2\",\"type\":\"Title\"},{\"attributes\":{\"dimension\":1,\"plot\":{\"id\":\"f82c35d1-b609-4b55-adf7-0d110af47570\",\"subtype\":\"Figure\",\"type\":\"Plot\"},\"ticker\":{\"id\":\"7ccf43ca-6e6b-445a-8729-970823e9e358\",\"type\":\"BasicTicker\"}},\"id\":\"a0cbbb6b-479c-4d21-9aa6-88259ae44665\",\"type\":\"Grid\"},{\"attributes\":{\"formatter\":{\"id\":\"50d613e9-d1ad-49ca-ac50-77c0dcfe29d4\",\"type\":\"BasicTickFormatter\"},\"plot\":{\"id\":\"f82c35d1-b609-4b55-adf7-0d110af47570\",\"subtype\":\"Figure\",\"type\":\"Plot\"},\"ticker\":{\"id\":\"39241a4c-fa74-4bc0-a28d-60b934187bdf\",\"type\":\"FixedTicker\"}},\"id\":\"01fbe743-5a54-4ef3-9f73-718acbf0acb6\",\"type\":\"LinearAxis\"},{\"attributes\":{\"callback\":null,\"column_names\":[\"x\",\"y\"],\"data\":{\"x\":[1,2,3,4,5],\"y\":[2,5,8,2,7]}},\"id\":\"6de3c780-8eed-4c19-8bfe-7da4876ad158\",\"type\":\"ColumnDataSource\"},{\"attributes\":{},\"id\":\"ecf7efdf-0755-4735-9954-b9fae3d421e9\",\"type\":\"LinearScale\"},{\"attributes\":{\"ticks\":[2,3.5,4]},\"id\":\"39241a4c-fa74-4bc0-a28d-60b934187bdf\",\"type\":\"FixedTicker\"},{\"attributes\":{},\"id\":\"50d613e9-d1ad-49ca-ac50-77c0dcfe29d4\",\"type\":\"BasicTickFormatter\"},{\"attributes\":{\"active_drag\":\"auto\",\"active_inspect\":\"auto\",\"active_scroll\":\"auto\",\"active_tap\":\"auto\",\"tools\":[{\"id\":\"164e4055-6fb2-411e-a1f6-3065cea0353b\",\"type\":\"PanTool\"},{\"id\":\"945bc174-0fbe-466b-a662-23cfd1b6e420\",\"type\":\"WheelZoomTool\"},{\"id\":\"7b4d230f-346a-4b67-ab8c-dd17a8dfa9c1\",\"type\":\"BoxZoomTool\"},{\"id\":\"6cd863af-b720-4107-91c4-fb5689b23473\",\"type\":\"SaveTool\"},{\"id\":\"a8e127bd-8286-4a82-9786-891d21714403\",\"type\":\"ResetTool\"},{\"id\":\"b6203772-e0f0-4ec7-a3f7-e813724a06a2\",\"type\":\"HelpTool\"}]},\"id\":\"c3eb8623-6484-4d47-b303-0858aa359489\",\"type\":\"Toolbar\"},{\"attributes\":{},\"id\":\"918c93e4-cfe4-42dd-a553-f600a5e85334\",\"type\":\"BasicTickFormatter\"},{\"attributes\":{\"fill_alpha\":{\"value\":0.1},\"fill_color\":{\"value\":\"#1f77b4\"},\"line_alpha\":{\"value\":0.1},\"line_color\":{\"value\":\"#1f77b4\"},\"size\":{\"units\":\"screen\",\"value\":10},\"x\":{\"field\":\"x\"},\"y\":{\"field\":\"y\"}},\"id\":\"c672f923-ffd4-4a44-b41c-dd2c096b0707\",\"type\":\"Circle\"},{\"attributes\":{\"fill_color\":{\"value\":\"#1f77b4\"},\"line_color\":{\"value\":\"#1f77b4\"},\"size\":{\"units\":\"screen\",\"value\":10},\"x\":{\"field\":\"x\"},\"y\":{\"field\":\"y\"}},\"id\":\"175cef59-bae0-4f9f-a655-5be4b860c986\",\"type\":\"Circle\"},{\"attributes\":{\"source\":{\"id\":\"6de3c780-8eed-4c19-8bfe-7da4876ad158\",\"type\":\"ColumnDataSource\"}},\"id\":\"5f165190-c228-4b37-90d6-0acbe80ac6db\",\"type\":\"CDSView\"},{\"attributes\":{},\"id\":\"efad3686-60eb-448d-8a3c-5f52e91f1ff2\",\"type\":\"LinearScale\"},{\"attributes\":{},\"id\":\"6cd863af-b720-4107-91c4-fb5689b23473\",\"type\":\"SaveTool\"},{\"attributes\":{},\"id\":\"945bc174-0fbe-466b-a662-23cfd1b6e420\",\"type\":\"WheelZoomTool\"},{\"attributes\":{\"bottom_units\":\"screen\",\"fill_alpha\":{\"value\":0.5},\"fill_color\":{\"value\":\"lightgrey\"},\"left_units\":\"screen\",\"level\":\"overlay\",\"line_alpha\":{\"value\":1.0},\"line_color\":{\"value\":\"black\"},\"line_dash\":[4,4],\"line_width\":{\"value\":2},\"plot\":null,\"render_mode\":\"css\",\"right_units\":\"screen\",\"top_units\":\"screen\"},\"id\":\"42a39a3c-4e6d-4f18-9e91-67e5e38dd19c\",\"type\":\"BoxAnnotation\"},{\"attributes\":{\"data_source\":{\"id\":\"6de3c780-8eed-4c19-8bfe-7da4876ad158\",\"type\":\"ColumnDataSource\"},\"glyph\":{\"id\":\"175cef59-bae0-4f9f-a655-5be4b860c986\",\"type\":\"Circle\"},\"hover_glyph\":null,\"muted_glyph\":null,\"nonselection_glyph\":{\"id\":\"c672f923-ffd4-4a44-b41c-dd2c096b0707\",\"type\":\"Circle\"},\"selection_glyph\":null,\"view\":{\"id\":\"5f165190-c228-4b37-90d6-0acbe80ac6db\",\"type\":\"CDSView\"}},\"id\":\"29b86a47-746a-4e4f-86f5-c31378d26e75\",\"type\":\"GlyphRenderer\"},{\"attributes\":{\"below\":[{\"id\":\"01fbe743-5a54-4ef3-9f73-718acbf0acb6\",\"type\":\"LinearAxis\"}],\"left\":[{\"id\":\"9438c306-92e9-4bc3-88af-1e6afa4ace18\",\"type\":\"LinearAxis\"}],\"plot_height\":400,\"plot_width\":400,\"renderers\":[{\"id\":\"01fbe743-5a54-4ef3-9f73-718acbf0acb6\",\"type\":\"LinearAxis\"},{\"id\":\"eef3f363-28ed-479d-a21d-ffcae97339ac\",\"type\":\"Grid\"},{\"id\":\"9438c306-92e9-4bc3-88af-1e6afa4ace18\",\"type\":\"LinearAxis\"},{\"id\":\"a0cbbb6b-479c-4d21-9aa6-88259ae44665\",\"type\":\"Grid\"},{\"id\":\"42a39a3c-4e6d-4f18-9e91-67e5e38dd19c\",\"type\":\"BoxAnnotation\"},{\"id\":\"29b86a47-746a-4e4f-86f5-c31378d26e75\",\"type\":\"GlyphRenderer\"}],\"title\":{\"id\":\"d1429846-bd64-4e02-8207-90b01c16b4b2\",\"type\":\"Title\"},\"toolbar\":{\"id\":\"c3eb8623-6484-4d47-b303-0858aa359489\",\"type\":\"Toolbar\"},\"x_range\":{\"id\":\"19f7dcb1-ff7a-4ea5-a4f9-1410cc23a853\",\"type\":\"DataRange1d\"},\"x_scale\":{\"id\":\"efad3686-60eb-448d-8a3c-5f52e91f1ff2\",\"type\":\"LinearScale\"},\"y_range\":{\"id\":\"ec07f242-e4d2-4606-aad6-027545811bd5\",\"type\":\"DataRange1d\"},\"y_scale\":{\"id\":\"ecf7efdf-0755-4735-9954-b9fae3d421e9\",\"type\":\"LinearScale\"}},\"id\":\"f82c35d1-b609-4b55-adf7-0d110af47570\",\"subtype\":\"Figure\",\"type\":\"Plot\"},{\"attributes\":{\"callback\":null},\"id\":\"19f7dcb1-ff7a-4ea5-a4f9-1410cc23a853\",\"type\":\"DataRange1d\"},{\"attributes\":{\"overlay\":{\"id\":\"42a39a3c-4e6d-4f18-9e91-67e5e38dd19c\",\"type\":\"BoxAnnotation\"}},\"id\":\"7b4d230f-346a-4b67-ab8c-dd17a8dfa9c1\",\"type\":\"BoxZoomTool\"},{\"attributes\":{\"callback\":null},\"id\":\"ec07f242-e4d2-4606-aad6-027545811bd5\",\"type\":\"DataRange1d\"},{\"attributes\":{\"plot\":{\"id\":\"f82c35d1-b609-4b55-adf7-0d110af47570\",\"subtype\":\"Figure\",\"type\":\"Plot\"},\"ticker\":{\"id\":\"24645589-a713-4c05-88d2-f432ccaec14b\",\"type\":\"BasicTicker\"}},\"id\":\"eef3f363-28ed-479d-a21d-ffcae97339ac\",\"type\":\"Grid\"}],\"root_ids\":[\"f82c35d1-b609-4b55-adf7-0d110af47570\"]},\"title\":\"Bokeh Application\",\"version\":\"0.12.13\"}};\n",
       "  var render_items = [{\"docid\":\"b6c8fe74-b2e9-498a-b2ea-179e6eb5fb9d\",\"elementid\":\"d10b5b16-295b-40bb-9ccc-e54293022c3e\",\"modelid\":\"f82c35d1-b609-4b55-adf7-0d110af47570\"}];\n",
       "  root.Bokeh.embed.embed_items_notebook(docs_json, render_items);\n",
       "\n",
       "  }\n",
       "  if (root.Bokeh !== undefined) {\n",
       "    embed_document(root);\n",
       "  } else {\n",
       "    var attempts = 0;\n",
       "    var timer = setInterval(function(root) {\n",
       "      if (root.Bokeh !== undefined) {\n",
       "        embed_document(root);\n",
       "        clearInterval(timer);\n",
       "      }\n",
       "      attempts++;\n",
       "      if (attempts > 100) {\n",
       "        console.log(\"Bokeh: ERROR: Unable to run BokehJS code because BokehJS library is missing\")\n",
       "        clearInterval(timer);\n",
       "      }\n",
       "    }, 10, root)\n",
       "  }\n",
       "})(window);"
      ],
      "application/vnd.bokehjs_exec.v0+json": ""
     },
     "metadata": {
      "application/vnd.bokehjs_exec.v0+json": {
       "id": "f82c35d1-b609-4b55-adf7-0d110af47570"
      }
     },
     "output_type": "display_data"
    }
   ],
   "source": [
    "p = figure(plot_width=400, plot_height=400)\n",
    "p.circle([1,2,3,4,5], [2,5,8,2,7], size=10)\n",
    "\n",
    "p.xaxis.ticker = [2, 3.5, 4]\n",
    "\n",
    "show(p)"
   ]
  },
  {
   "cell_type": "markdown",
   "metadata": {},
   "source": [
    "### Tick Lines"
   ]
  },
  {
   "cell_type": "code",
   "execution_count": 45,
   "metadata": {},
   "outputs": [
    {
     "data": {
      "text/html": [
       "\n",
       "<div class=\"bk-root\">\n",
       "    <div class=\"bk-plotdiv\" id=\"e0433ecc-dd84-4771-852e-38eaf9eb92aa\"></div>\n",
       "</div>"
      ]
     },
     "metadata": {},
     "output_type": "display_data"
    },
    {
     "data": {
      "application/javascript": [
       "(function(root) {\n",
       "  function embed_document(root) {\n",
       "    \n",
       "  var docs_json = {\"3fa95779-1397-44d3-8964-3e6c4f5bd487\":{\"roots\":{\"references\":[{\"attributes\":{},\"id\":\"a0d29ddf-5119-4726-a638-da2102bf7dd1\",\"type\":\"LinearScale\"},{\"attributes\":{\"overlay\":{\"id\":\"ed4814de-34a5-4898-8cf2-7dc5ecfb885a\",\"type\":\"BoxAnnotation\"}},\"id\":\"e0890c69-e0f9-4be3-9d73-08ed211307ae\",\"type\":\"BoxZoomTool\"},{\"attributes\":{\"plot\":null,\"text\":\"\"},\"id\":\"2838dba9-ee76-42b6-89f1-09493245eb82\",\"type\":\"Title\"},{\"attributes\":{},\"id\":\"34703602-a413-4b28-9cab-b8383eca4168\",\"type\":\"BasicTickFormatter\"},{\"attributes\":{\"formatter\":{\"id\":\"34703602-a413-4b28-9cab-b8383eca4168\",\"type\":\"BasicTickFormatter\"},\"major_tick_out\":10,\"minor_tick_in\":-3,\"minor_tick_line_color\":{\"value\":null},\"minor_tick_out\":8,\"plot\":{\"id\":\"2bb9640b-af13-4edf-af9c-68961cdb2b6a\",\"subtype\":\"Figure\",\"type\":\"Plot\"},\"ticker\":{\"id\":\"433d4b66-26f0-4e87-a5f3-babc83492ee6\",\"type\":\"BasicTicker\"}},\"id\":\"c01603b0-1aa5-45c8-8d93-1c6b90e0eeda\",\"type\":\"LinearAxis\"},{\"attributes\":{\"callback\":null},\"id\":\"22071a52-1af7-49ad-a842-f3ced8e2d961\",\"type\":\"DataRange1d\"},{\"attributes\":{},\"id\":\"82440b83-e57a-4ca7-8403-d0490ffd4b62\",\"type\":\"WheelZoomTool\"},{\"attributes\":{\"dimension\":1,\"plot\":{\"id\":\"2bb9640b-af13-4edf-af9c-68961cdb2b6a\",\"subtype\":\"Figure\",\"type\":\"Plot\"},\"ticker\":{\"id\":\"433d4b66-26f0-4e87-a5f3-babc83492ee6\",\"type\":\"BasicTicker\"}},\"id\":\"b8d5ffa7-0fb9-4f8c-a250-99e6cdc8e824\",\"type\":\"Grid\"},{\"attributes\":{\"callback\":null},\"id\":\"24a2b1d3-2b62-4b49-b983-2da8e671c7a9\",\"type\":\"DataRange1d\"},{\"attributes\":{},\"id\":\"433d4b66-26f0-4e87-a5f3-babc83492ee6\",\"type\":\"BasicTicker\"},{\"attributes\":{},\"id\":\"b4f4f496-cd0c-4e39-aa23-dcd56574913f\",\"type\":\"PanTool\"},{\"attributes\":{\"callback\":null,\"column_names\":[\"x\",\"y\"],\"data\":{\"x\":[1,2,3,4,5],\"y\":[2,5,8,2,7]}},\"id\":\"6b97f310-476f-4276-ae5c-3409648269a5\",\"type\":\"ColumnDataSource\"},{\"attributes\":{\"active_drag\":\"auto\",\"active_inspect\":\"auto\",\"active_scroll\":\"auto\",\"active_tap\":\"auto\",\"tools\":[{\"id\":\"b4f4f496-cd0c-4e39-aa23-dcd56574913f\",\"type\":\"PanTool\"},{\"id\":\"82440b83-e57a-4ca7-8403-d0490ffd4b62\",\"type\":\"WheelZoomTool\"},{\"id\":\"e0890c69-e0f9-4be3-9d73-08ed211307ae\",\"type\":\"BoxZoomTool\"},{\"id\":\"c3ad2723-b858-4cc9-a9ff-9feaa262c277\",\"type\":\"SaveTool\"},{\"id\":\"0ba89179-1152-46a7-b4d1-08d45622c244\",\"type\":\"ResetTool\"},{\"id\":\"6568aa28-1af0-41fa-b962-c65e15cd40d7\",\"type\":\"HelpTool\"}]},\"id\":\"856d0cfa-b78d-459b-82f4-5c26b33b1db1\",\"type\":\"Toolbar\"},{\"attributes\":{},\"id\":\"c3ad2723-b858-4cc9-a9ff-9feaa262c277\",\"type\":\"SaveTool\"},{\"attributes\":{},\"id\":\"58574424-b26b-48dc-b181-9332d885cf43\",\"type\":\"LinearScale\"},{\"attributes\":{\"below\":[{\"id\":\"7d28d08f-71b9-4fab-a3ef-2eaca17e3129\",\"type\":\"LinearAxis\"}],\"left\":[{\"id\":\"c01603b0-1aa5-45c8-8d93-1c6b90e0eeda\",\"type\":\"LinearAxis\"}],\"plot_height\":400,\"plot_width\":400,\"renderers\":[{\"id\":\"7d28d08f-71b9-4fab-a3ef-2eaca17e3129\",\"type\":\"LinearAxis\"},{\"id\":\"4283e347-02af-432b-a83a-3a823cd7bfbd\",\"type\":\"Grid\"},{\"id\":\"c01603b0-1aa5-45c8-8d93-1c6b90e0eeda\",\"type\":\"LinearAxis\"},{\"id\":\"b8d5ffa7-0fb9-4f8c-a250-99e6cdc8e824\",\"type\":\"Grid\"},{\"id\":\"ed4814de-34a5-4898-8cf2-7dc5ecfb885a\",\"type\":\"BoxAnnotation\"},{\"id\":\"3023fd2b-cc56-4325-9687-cd950caf160b\",\"type\":\"GlyphRenderer\"}],\"title\":{\"id\":\"2838dba9-ee76-42b6-89f1-09493245eb82\",\"type\":\"Title\"},\"toolbar\":{\"id\":\"856d0cfa-b78d-459b-82f4-5c26b33b1db1\",\"type\":\"Toolbar\"},\"x_range\":{\"id\":\"22071a52-1af7-49ad-a842-f3ced8e2d961\",\"type\":\"DataRange1d\"},\"x_scale\":{\"id\":\"58574424-b26b-48dc-b181-9332d885cf43\",\"type\":\"LinearScale\"},\"y_range\":{\"id\":\"24a2b1d3-2b62-4b49-b983-2da8e671c7a9\",\"type\":\"DataRange1d\"},\"y_scale\":{\"id\":\"a0d29ddf-5119-4726-a638-da2102bf7dd1\",\"type\":\"LinearScale\"}},\"id\":\"2bb9640b-af13-4edf-af9c-68961cdb2b6a\",\"subtype\":\"Figure\",\"type\":\"Plot\"},{\"attributes\":{\"fill_color\":{\"value\":\"#1f77b4\"},\"line_color\":{\"value\":\"#1f77b4\"},\"size\":{\"units\":\"screen\",\"value\":10},\"x\":{\"field\":\"x\"},\"y\":{\"field\":\"y\"}},\"id\":\"66daf4eb-3c2f-416a-b825-96570e2bce15\",\"type\":\"Circle\"},{\"attributes\":{\"source\":{\"id\":\"6b97f310-476f-4276-ae5c-3409648269a5\",\"type\":\"ColumnDataSource\"}},\"id\":\"c2d25fb7-7b44-4ac0-a02d-15d5adc12c35\",\"type\":\"CDSView\"},{\"attributes\":{\"data_source\":{\"id\":\"6b97f310-476f-4276-ae5c-3409648269a5\",\"type\":\"ColumnDataSource\"},\"glyph\":{\"id\":\"66daf4eb-3c2f-416a-b825-96570e2bce15\",\"type\":\"Circle\"},\"hover_glyph\":null,\"muted_glyph\":null,\"nonselection_glyph\":{\"id\":\"9c36648b-afc9-49cd-8cd2-d03f570c5ce3\",\"type\":\"Circle\"},\"selection_glyph\":null,\"view\":{\"id\":\"c2d25fb7-7b44-4ac0-a02d-15d5adc12c35\",\"type\":\"CDSView\"}},\"id\":\"3023fd2b-cc56-4325-9687-cd950caf160b\",\"type\":\"GlyphRenderer\"},{\"attributes\":{},\"id\":\"6568aa28-1af0-41fa-b962-c65e15cd40d7\",\"type\":\"HelpTool\"},{\"attributes\":{\"bottom_units\":\"screen\",\"fill_alpha\":{\"value\":0.5},\"fill_color\":{\"value\":\"lightgrey\"},\"left_units\":\"screen\",\"level\":\"overlay\",\"line_alpha\":{\"value\":1.0},\"line_color\":{\"value\":\"black\"},\"line_dash\":[4,4],\"line_width\":{\"value\":2},\"plot\":null,\"render_mode\":\"css\",\"right_units\":\"screen\",\"top_units\":\"screen\"},\"id\":\"ed4814de-34a5-4898-8cf2-7dc5ecfb885a\",\"type\":\"BoxAnnotation\"},{\"attributes\":{},\"id\":\"11a367ec-0431-4db8-8f5d-22010f3ce80e\",\"type\":\"BasicTicker\"},{\"attributes\":{},\"id\":\"1d63bdcf-6b5e-4ef3-9aa8-4d6a794269c9\",\"type\":\"BasicTickFormatter\"},{\"attributes\":{\"plot\":{\"id\":\"2bb9640b-af13-4edf-af9c-68961cdb2b6a\",\"subtype\":\"Figure\",\"type\":\"Plot\"},\"ticker\":{\"id\":\"11a367ec-0431-4db8-8f5d-22010f3ce80e\",\"type\":\"BasicTicker\"}},\"id\":\"4283e347-02af-432b-a83a-3a823cd7bfbd\",\"type\":\"Grid\"},{\"attributes\":{},\"id\":\"0ba89179-1152-46a7-b4d1-08d45622c244\",\"type\":\"ResetTool\"},{\"attributes\":{\"formatter\":{\"id\":\"1d63bdcf-6b5e-4ef3-9aa8-4d6a794269c9\",\"type\":\"BasicTickFormatter\"},\"major_tick_line_color\":{\"value\":\"firebrick\"},\"major_tick_line_width\":{\"value\":3},\"major_tick_out\":10,\"minor_tick_in\":-3,\"minor_tick_line_color\":{\"value\":\"orange\"},\"minor_tick_out\":8,\"plot\":{\"id\":\"2bb9640b-af13-4edf-af9c-68961cdb2b6a\",\"subtype\":\"Figure\",\"type\":\"Plot\"},\"ticker\":{\"id\":\"11a367ec-0431-4db8-8f5d-22010f3ce80e\",\"type\":\"BasicTicker\"}},\"id\":\"7d28d08f-71b9-4fab-a3ef-2eaca17e3129\",\"type\":\"LinearAxis\"},{\"attributes\":{\"fill_alpha\":{\"value\":0.1},\"fill_color\":{\"value\":\"#1f77b4\"},\"line_alpha\":{\"value\":0.1},\"line_color\":{\"value\":\"#1f77b4\"},\"size\":{\"units\":\"screen\",\"value\":10},\"x\":{\"field\":\"x\"},\"y\":{\"field\":\"y\"}},\"id\":\"9c36648b-afc9-49cd-8cd2-d03f570c5ce3\",\"type\":\"Circle\"}],\"root_ids\":[\"2bb9640b-af13-4edf-af9c-68961cdb2b6a\"]},\"title\":\"Bokeh Application\",\"version\":\"0.12.13\"}};\n",
       "  var render_items = [{\"docid\":\"3fa95779-1397-44d3-8964-3e6c4f5bd487\",\"elementid\":\"e0433ecc-dd84-4771-852e-38eaf9eb92aa\",\"modelid\":\"2bb9640b-af13-4edf-af9c-68961cdb2b6a\"}];\n",
       "  root.Bokeh.embed.embed_items_notebook(docs_json, render_items);\n",
       "\n",
       "  }\n",
       "  if (root.Bokeh !== undefined) {\n",
       "    embed_document(root);\n",
       "  } else {\n",
       "    var attempts = 0;\n",
       "    var timer = setInterval(function(root) {\n",
       "      if (root.Bokeh !== undefined) {\n",
       "        embed_document(root);\n",
       "        clearInterval(timer);\n",
       "      }\n",
       "      attempts++;\n",
       "      if (attempts > 100) {\n",
       "        console.log(\"Bokeh: ERROR: Unable to run BokehJS code because BokehJS library is missing\")\n",
       "        clearInterval(timer);\n",
       "      }\n",
       "    }, 10, root)\n",
       "  }\n",
       "})(window);"
      ],
      "application/vnd.bokehjs_exec.v0+json": ""
     },
     "metadata": {
      "application/vnd.bokehjs_exec.v0+json": {
       "id": "2bb9640b-af13-4edf-af9c-68961cdb2b6a"
      }
     },
     "output_type": "display_data"
    }
   ],
   "source": [
    "p = figure(plot_width=400, plot_height=400)\n",
    "p.circle([1,2,3,4,5], [2,5,8,2,7], size=10)\n",
    "\n",
    "p.xaxis.major_tick_line_color = \"firebrick\"\n",
    "p.xaxis.major_tick_line_width = 3\n",
    "p.xaxis.minor_tick_line_color = \"orange\"\n",
    "\n",
    "p.yaxis.minor_tick_line_color = None\n",
    "\n",
    "p.axis.major_tick_out = 10\n",
    "p.axis.minor_tick_in = -3\n",
    "p.axis.minor_tick_out = 8\n",
    "\n",
    "show(p)"
   ]
  },
  {
   "cell_type": "markdown",
   "metadata": {},
   "source": [
    "### NumeralTickFormatter"
   ]
  },
  {
   "cell_type": "code",
   "execution_count": 46,
   "metadata": {},
   "outputs": [
    {
     "data": {
      "text/html": [
       "\n",
       "<div class=\"bk-root\">\n",
       "    <div class=\"bk-plotdiv\" id=\"ec9fc414-f045-4d73-b3a7-607f61a1115c\"></div>\n",
       "</div>"
      ]
     },
     "metadata": {},
     "output_type": "display_data"
    },
    {
     "data": {
      "application/javascript": [
       "(function(root) {\n",
       "  function embed_document(root) {\n",
       "    \n",
       "  var docs_json = {\"ad470a17-4bc5-49fb-a531-bb365205371f\":{\"roots\":{\"references\":[{\"attributes\":{\"callback\":null,\"column_names\":[\"x\",\"y\"],\"data\":{\"x\":[1,2,3,4,5],\"y\":[2,5,8,2,7]}},\"id\":\"c17cb24f-72c9-4571-8363-f1d992249972\",\"type\":\"ColumnDataSource\"},{\"attributes\":{},\"id\":\"ca77b132-4ca1-4ff2-9aed-5bb0814eafd0\",\"type\":\"LinearScale\"},{\"attributes\":{\"plot\":null,\"text\":\"\"},\"id\":\"4ec23ed8-708b-4999-b3f6-91080fabd2db\",\"type\":\"Title\"},{\"attributes\":{\"dimension\":1,\"plot\":{\"id\":\"b52568df-bdf3-437a-a94b-948519ada88d\",\"subtype\":\"Figure\",\"type\":\"Plot\"},\"ticker\":{\"id\":\"5c0d11bd-b12a-4dc6-914d-734fdd71453f\",\"type\":\"BasicTicker\"}},\"id\":\"0eb6fb23-ff9a-41fd-9b08-394251eb5b02\",\"type\":\"Grid\"},{\"attributes\":{\"source\":{\"id\":\"c17cb24f-72c9-4571-8363-f1d992249972\",\"type\":\"ColumnDataSource\"}},\"id\":\"51b5f899-4591-4585-a7a9-619e2ad582b9\",\"type\":\"CDSView\"},{\"attributes\":{},\"id\":\"f2ba47e4-4824-4ec8-9bc0-dad28d3201ca\",\"type\":\"SaveTool\"},{\"attributes\":{\"callback\":null},\"id\":\"3c3365ef-749f-4985-b227-7b3c1577878b\",\"type\":\"DataRange1d\"},{\"attributes\":{},\"id\":\"e7499d55-1257-4668-a2e8-38f9080e1431\",\"type\":\"PanTool\"},{\"attributes\":{\"format\":\"0.0%\"},\"id\":\"69d55bc0-3642-43fb-9bf0-d41a453fb540\",\"type\":\"NumeralTickFormatter\"},{\"attributes\":{\"bottom_units\":\"screen\",\"fill_alpha\":{\"value\":0.5},\"fill_color\":{\"value\":\"lightgrey\"},\"left_units\":\"screen\",\"level\":\"overlay\",\"line_alpha\":{\"value\":1.0},\"line_color\":{\"value\":\"black\"},\"line_dash\":[4,4],\"line_width\":{\"value\":2},\"plot\":null,\"render_mode\":\"css\",\"right_units\":\"screen\",\"top_units\":\"screen\"},\"id\":\"6b9e3cb3-808b-41a9-a40b-d49b2aca9152\",\"type\":\"BoxAnnotation\"},{\"attributes\":{},\"id\":\"dd8aa693-f4fc-42fd-933e-9243e50477ff\",\"type\":\"ResetTool\"},{\"attributes\":{\"active_drag\":\"auto\",\"active_inspect\":\"auto\",\"active_scroll\":\"auto\",\"active_tap\":\"auto\",\"tools\":[{\"id\":\"e7499d55-1257-4668-a2e8-38f9080e1431\",\"type\":\"PanTool\"},{\"id\":\"3a09080d-9d62-45f1-8586-cd83157880d6\",\"type\":\"WheelZoomTool\"},{\"id\":\"4b1b67cd-44d7-4e26-911f-052267eeb2c9\",\"type\":\"BoxZoomTool\"},{\"id\":\"f2ba47e4-4824-4ec8-9bc0-dad28d3201ca\",\"type\":\"SaveTool\"},{\"id\":\"dd8aa693-f4fc-42fd-933e-9243e50477ff\",\"type\":\"ResetTool\"},{\"id\":\"32088da8-44cd-4cac-a7b1-fda42a5ba0ce\",\"type\":\"HelpTool\"}]},\"id\":\"d70fc22e-589f-4dfe-a2f5-6d840a2173de\",\"type\":\"Toolbar\"},{\"attributes\":{},\"id\":\"5c0d11bd-b12a-4dc6-914d-734fdd71453f\",\"type\":\"BasicTicker\"},{\"attributes\":{\"callback\":null},\"id\":\"b8dadd3e-f26e-44f3-9ca5-8f0b048c4217\",\"type\":\"DataRange1d\"},{\"attributes\":{\"format\":\"$0.00\"},\"id\":\"3d16eddf-a75a-488e-81d5-af6e9402426d\",\"type\":\"NumeralTickFormatter\"},{\"attributes\":{},\"id\":\"32088da8-44cd-4cac-a7b1-fda42a5ba0ce\",\"type\":\"HelpTool\"},{\"attributes\":{\"fill_alpha\":{\"value\":0.1},\"fill_color\":{\"value\":\"#1f77b4\"},\"line_alpha\":{\"value\":0.1},\"line_color\":{\"value\":\"#1f77b4\"},\"size\":{\"units\":\"screen\",\"value\":10},\"x\":{\"field\":\"x\"},\"y\":{\"field\":\"y\"}},\"id\":\"d8fe1291-5b66-4344-8ee0-fa66a8c97500\",\"type\":\"Circle\"},{\"attributes\":{\"formatter\":{\"id\":\"69d55bc0-3642-43fb-9bf0-d41a453fb540\",\"type\":\"NumeralTickFormatter\"},\"plot\":{\"id\":\"b52568df-bdf3-437a-a94b-948519ada88d\",\"subtype\":\"Figure\",\"type\":\"Plot\"},\"ticker\":{\"id\":\"f309e48e-e796-4374-a771-cd203be794f8\",\"type\":\"BasicTicker\"}},\"id\":\"d1fdb161-d771-441d-af53-58015fb789fe\",\"type\":\"LinearAxis\"},{\"attributes\":{\"plot\":{\"id\":\"b52568df-bdf3-437a-a94b-948519ada88d\",\"subtype\":\"Figure\",\"type\":\"Plot\"},\"ticker\":{\"id\":\"f309e48e-e796-4374-a771-cd203be794f8\",\"type\":\"BasicTicker\"}},\"id\":\"59833a3e-8a54-4a4f-9dfe-a1a46a75c644\",\"type\":\"Grid\"},{\"attributes\":{\"overlay\":{\"id\":\"6b9e3cb3-808b-41a9-a40b-d49b2aca9152\",\"type\":\"BoxAnnotation\"}},\"id\":\"4b1b67cd-44d7-4e26-911f-052267eeb2c9\",\"type\":\"BoxZoomTool\"},{\"attributes\":{},\"id\":\"f309e48e-e796-4374-a771-cd203be794f8\",\"type\":\"BasicTicker\"},{\"attributes\":{\"formatter\":{\"id\":\"3d16eddf-a75a-488e-81d5-af6e9402426d\",\"type\":\"NumeralTickFormatter\"},\"plot\":{\"id\":\"b52568df-bdf3-437a-a94b-948519ada88d\",\"subtype\":\"Figure\",\"type\":\"Plot\"},\"ticker\":{\"id\":\"5c0d11bd-b12a-4dc6-914d-734fdd71453f\",\"type\":\"BasicTicker\"}},\"id\":\"6abb9fd6-6f2e-4e92-8b6c-057dee3fb452\",\"type\":\"LinearAxis\"},{\"attributes\":{},\"id\":\"3a09080d-9d62-45f1-8586-cd83157880d6\",\"type\":\"WheelZoomTool\"},{\"attributes\":{},\"id\":\"1d585444-4c4f-46a1-8a7b-bb05b15d7a44\",\"type\":\"LinearScale\"},{\"attributes\":{\"data_source\":{\"id\":\"c17cb24f-72c9-4571-8363-f1d992249972\",\"type\":\"ColumnDataSource\"},\"glyph\":{\"id\":\"d0917134-d557-4992-97d0-cd35d975401c\",\"type\":\"Circle\"},\"hover_glyph\":null,\"muted_glyph\":null,\"nonselection_glyph\":{\"id\":\"d8fe1291-5b66-4344-8ee0-fa66a8c97500\",\"type\":\"Circle\"},\"selection_glyph\":null,\"view\":{\"id\":\"51b5f899-4591-4585-a7a9-619e2ad582b9\",\"type\":\"CDSView\"}},\"id\":\"407bbffd-6cf4-4e17-8fa1-519075f3c216\",\"type\":\"GlyphRenderer\"},{\"attributes\":{\"below\":[{\"id\":\"d1fdb161-d771-441d-af53-58015fb789fe\",\"type\":\"LinearAxis\"}],\"left\":[{\"id\":\"6abb9fd6-6f2e-4e92-8b6c-057dee3fb452\",\"type\":\"LinearAxis\"}],\"plot_height\":400,\"plot_width\":400,\"renderers\":[{\"id\":\"d1fdb161-d771-441d-af53-58015fb789fe\",\"type\":\"LinearAxis\"},{\"id\":\"59833a3e-8a54-4a4f-9dfe-a1a46a75c644\",\"type\":\"Grid\"},{\"id\":\"6abb9fd6-6f2e-4e92-8b6c-057dee3fb452\",\"type\":\"LinearAxis\"},{\"id\":\"0eb6fb23-ff9a-41fd-9b08-394251eb5b02\",\"type\":\"Grid\"},{\"id\":\"6b9e3cb3-808b-41a9-a40b-d49b2aca9152\",\"type\":\"BoxAnnotation\"},{\"id\":\"407bbffd-6cf4-4e17-8fa1-519075f3c216\",\"type\":\"GlyphRenderer\"}],\"title\":{\"id\":\"4ec23ed8-708b-4999-b3f6-91080fabd2db\",\"type\":\"Title\"},\"toolbar\":{\"id\":\"d70fc22e-589f-4dfe-a2f5-6d840a2173de\",\"type\":\"Toolbar\"},\"x_range\":{\"id\":\"3c3365ef-749f-4985-b227-7b3c1577878b\",\"type\":\"DataRange1d\"},\"x_scale\":{\"id\":\"ca77b132-4ca1-4ff2-9aed-5bb0814eafd0\",\"type\":\"LinearScale\"},\"y_range\":{\"id\":\"b8dadd3e-f26e-44f3-9ca5-8f0b048c4217\",\"type\":\"DataRange1d\"},\"y_scale\":{\"id\":\"1d585444-4c4f-46a1-8a7b-bb05b15d7a44\",\"type\":\"LinearScale\"}},\"id\":\"b52568df-bdf3-437a-a94b-948519ada88d\",\"subtype\":\"Figure\",\"type\":\"Plot\"},{\"attributes\":{\"fill_color\":{\"value\":\"#1f77b4\"},\"line_color\":{\"value\":\"#1f77b4\"},\"size\":{\"units\":\"screen\",\"value\":10},\"x\":{\"field\":\"x\"},\"y\":{\"field\":\"y\"}},\"id\":\"d0917134-d557-4992-97d0-cd35d975401c\",\"type\":\"Circle\"}],\"root_ids\":[\"b52568df-bdf3-437a-a94b-948519ada88d\"]},\"title\":\"Bokeh Application\",\"version\":\"0.12.13\"}};\n",
       "  var render_items = [{\"docid\":\"ad470a17-4bc5-49fb-a531-bb365205371f\",\"elementid\":\"ec9fc414-f045-4d73-b3a7-607f61a1115c\",\"modelid\":\"b52568df-bdf3-437a-a94b-948519ada88d\"}];\n",
       "  root.Bokeh.embed.embed_items_notebook(docs_json, render_items);\n",
       "\n",
       "  }\n",
       "  if (root.Bokeh !== undefined) {\n",
       "    embed_document(root);\n",
       "  } else {\n",
       "    var attempts = 0;\n",
       "    var timer = setInterval(function(root) {\n",
       "      if (root.Bokeh !== undefined) {\n",
       "        embed_document(root);\n",
       "        clearInterval(timer);\n",
       "      }\n",
       "      attempts++;\n",
       "      if (attempts > 100) {\n",
       "        console.log(\"Bokeh: ERROR: Unable to run BokehJS code because BokehJS library is missing\")\n",
       "        clearInterval(timer);\n",
       "      }\n",
       "    }, 10, root)\n",
       "  }\n",
       "})(window);"
      ],
      "application/vnd.bokehjs_exec.v0+json": ""
     },
     "metadata": {
      "application/vnd.bokehjs_exec.v0+json": {
       "id": "b52568df-bdf3-437a-a94b-948519ada88d"
      }
     },
     "output_type": "display_data"
    }
   ],
   "source": [
    "from bokeh.models import NumeralTickFormatter\n",
    "\n",
    "p = figure(plot_width=400, plot_height=400)\n",
    "p.circle([1,2,3,4,5], [2,5,8,2,7], size=10)\n",
    "\n",
    "p.xaxis[0].formatter = NumeralTickFormatter(format=\"0.0%\")\n",
    "p.yaxis[0].formatter = NumeralTickFormatter(format=\"$0.00\")\n",
    "\n",
    "show(p)\n"
   ]
  },
  {
   "cell_type": "markdown",
   "metadata": {},
   "source": [
    "### PrintfTickFormatter"
   ]
  },
  {
   "cell_type": "code",
   "execution_count": 48,
   "metadata": {},
   "outputs": [
    {
     "data": {
      "text/html": [
       "\n",
       "<div class=\"bk-root\">\n",
       "    <div class=\"bk-plotdiv\" id=\"ba99d278-ef22-466b-ac9b-a6fd0c2e5aa6\"></div>\n",
       "</div>"
      ]
     },
     "metadata": {},
     "output_type": "display_data"
    },
    {
     "data": {
      "application/javascript": [
       "(function(root) {\n",
       "  function embed_document(root) {\n",
       "    \n",
       "  var docs_json = {\"1c346f50-ebf9-434c-ab03-642ed486ba84\":{\"roots\":{\"references\":[{\"attributes\":{},\"id\":\"fb165f08-5657-40b0-b782-50e9435e37d6\",\"type\":\"SaveTool\"},{\"attributes\":{},\"id\":\"d4a6ed62-321e-410f-8603-1cb8c632b6c9\",\"type\":\"BasicTicker\"},{\"attributes\":{},\"id\":\"600b9d96-67f6-4057-8f20-38d185b68d49\",\"type\":\"LinearScale\"},{\"attributes\":{\"dimension\":1,\"plot\":{\"id\":\"468ee0e3-fd24-4695-88dc-d23463e3204e\",\"subtype\":\"Figure\",\"type\":\"Plot\"},\"ticker\":{\"id\":\"900d182e-66ba-4756-b29f-7eb286cb92c7\",\"type\":\"BasicTicker\"}},\"id\":\"80a78291-2ba3-4976-83f5-31cc55087880\",\"type\":\"Grid\"},{\"attributes\":{\"formatter\":{\"id\":\"bd98d72b-23fa-4950-ad64-dbd729881f0c\",\"type\":\"PrintfTickFormatter\"},\"plot\":{\"id\":\"468ee0e3-fd24-4695-88dc-d23463e3204e\",\"subtype\":\"Figure\",\"type\":\"Plot\"},\"ticker\":{\"id\":\"d4a6ed62-321e-410f-8603-1cb8c632b6c9\",\"type\":\"BasicTicker\"}},\"id\":\"4bf1bb5e-2b52-4b25-ab33-58393e63f5b9\",\"type\":\"LinearAxis\"},{\"attributes\":{},\"id\":\"5739a5a5-6e59-4f7c-9aae-b11e2ec98a1d\",\"type\":\"PanTool\"},{\"attributes\":{\"data_source\":{\"id\":\"5f1e0cc4-6604-4ab7-a559-797bc509a465\",\"type\":\"ColumnDataSource\"},\"glyph\":{\"id\":\"977258ea-1178-45a6-a8b5-01cde0d4ecd4\",\"type\":\"Circle\"},\"hover_glyph\":null,\"muted_glyph\":null,\"nonselection_glyph\":{\"id\":\"ad34575f-f8af-47e6-aaf7-e0306222a759\",\"type\":\"Circle\"},\"selection_glyph\":null,\"view\":{\"id\":\"e9b00d4e-e3ba-4cd9-8510-552b20796945\",\"type\":\"CDSView\"}},\"id\":\"2698c5dd-cc9c-434f-9b3b-b4692281d622\",\"type\":\"GlyphRenderer\"},{\"attributes\":{\"plot\":{\"id\":\"468ee0e3-fd24-4695-88dc-d23463e3204e\",\"subtype\":\"Figure\",\"type\":\"Plot\"},\"ticker\":{\"id\":\"d4a6ed62-321e-410f-8603-1cb8c632b6c9\",\"type\":\"BasicTicker\"}},\"id\":\"d664e1be-c4f4-42ac-879c-2bdd54e674f7\",\"type\":\"Grid\"},{\"attributes\":{\"format\":\"%4.1e\"},\"id\":\"bd98d72b-23fa-4950-ad64-dbd729881f0c\",\"type\":\"PrintfTickFormatter\"},{\"attributes\":{},\"id\":\"79fb2c6f-065c-484b-97a1-0068e3189384\",\"type\":\"WheelZoomTool\"},{\"attributes\":{\"bottom_units\":\"screen\",\"fill_alpha\":{\"value\":0.5},\"fill_color\":{\"value\":\"lightgrey\"},\"left_units\":\"screen\",\"level\":\"overlay\",\"line_alpha\":{\"value\":1.0},\"line_color\":{\"value\":\"black\"},\"line_dash\":[4,4],\"line_width\":{\"value\":2},\"plot\":null,\"render_mode\":\"css\",\"right_units\":\"screen\",\"top_units\":\"screen\"},\"id\":\"ec8f37bf-3ba0-428d-8b3b-a5f7bd025503\",\"type\":\"BoxAnnotation\"},{\"attributes\":{\"below\":[{\"id\":\"4bf1bb5e-2b52-4b25-ab33-58393e63f5b9\",\"type\":\"LinearAxis\"}],\"left\":[{\"id\":\"2f8495fb-d705-4ca9-8f2f-2f04cf77c91b\",\"type\":\"LinearAxis\"}],\"plot_height\":400,\"plot_width\":400,\"renderers\":[{\"id\":\"4bf1bb5e-2b52-4b25-ab33-58393e63f5b9\",\"type\":\"LinearAxis\"},{\"id\":\"d664e1be-c4f4-42ac-879c-2bdd54e674f7\",\"type\":\"Grid\"},{\"id\":\"2f8495fb-d705-4ca9-8f2f-2f04cf77c91b\",\"type\":\"LinearAxis\"},{\"id\":\"80a78291-2ba3-4976-83f5-31cc55087880\",\"type\":\"Grid\"},{\"id\":\"ec8f37bf-3ba0-428d-8b3b-a5f7bd025503\",\"type\":\"BoxAnnotation\"},{\"id\":\"2698c5dd-cc9c-434f-9b3b-b4692281d622\",\"type\":\"GlyphRenderer\"}],\"title\":{\"id\":\"864b9ca0-0077-48b9-b148-ea52c24e7db7\",\"type\":\"Title\"},\"toolbar\":{\"id\":\"a718a44e-df08-42d2-9141-e1c82d002df2\",\"type\":\"Toolbar\"},\"x_range\":{\"id\":\"4fb0c5a5-9172-478b-8077-0c5f9699e536\",\"type\":\"DataRange1d\"},\"x_scale\":{\"id\":\"600b9d96-67f6-4057-8f20-38d185b68d49\",\"type\":\"LinearScale\"},\"y_range\":{\"id\":\"0713eb9d-081c-485c-b683-cbe48ccf6c64\",\"type\":\"DataRange1d\"},\"y_scale\":{\"id\":\"65121c5c-394a-4c26-964e-61fefad81be3\",\"type\":\"LinearScale\"}},\"id\":\"468ee0e3-fd24-4695-88dc-d23463e3204e\",\"subtype\":\"Figure\",\"type\":\"Plot\"},{\"attributes\":{\"formatter\":{\"id\":\"a2b961b2-17d6-40bd-84f2-61de5e9c9d24\",\"type\":\"PrintfTickFormatter\"},\"plot\":{\"id\":\"468ee0e3-fd24-4695-88dc-d23463e3204e\",\"subtype\":\"Figure\",\"type\":\"Plot\"},\"ticker\":{\"id\":\"900d182e-66ba-4756-b29f-7eb286cb92c7\",\"type\":\"BasicTicker\"}},\"id\":\"2f8495fb-d705-4ca9-8f2f-2f04cf77c91b\",\"type\":\"LinearAxis\"},{\"attributes\":{\"plot\":null,\"text\":\"\"},\"id\":\"864b9ca0-0077-48b9-b148-ea52c24e7db7\",\"type\":\"Title\"},{\"attributes\":{\"fill_color\":{\"value\":\"#1f77b4\"},\"line_color\":{\"value\":\"#1f77b4\"},\"size\":{\"units\":\"screen\",\"value\":10},\"x\":{\"field\":\"x\"},\"y\":{\"field\":\"y\"}},\"id\":\"977258ea-1178-45a6-a8b5-01cde0d4ecd4\",\"type\":\"Circle\"},{\"attributes\":{\"fill_alpha\":{\"value\":0.1},\"fill_color\":{\"value\":\"#1f77b4\"},\"line_alpha\":{\"value\":0.1},\"line_color\":{\"value\":\"#1f77b4\"},\"size\":{\"units\":\"screen\",\"value\":10},\"x\":{\"field\":\"x\"},\"y\":{\"field\":\"y\"}},\"id\":\"ad34575f-f8af-47e6-aaf7-e0306222a759\",\"type\":\"Circle\"},{\"attributes\":{},\"id\":\"900d182e-66ba-4756-b29f-7eb286cb92c7\",\"type\":\"BasicTicker\"},{\"attributes\":{},\"id\":\"65121c5c-394a-4c26-964e-61fefad81be3\",\"type\":\"LinearScale\"},{\"attributes\":{},\"id\":\"7f65ad9a-a2d0-4e05-ac79-579897da3100\",\"type\":\"HelpTool\"},{\"attributes\":{\"active_drag\":\"auto\",\"active_inspect\":\"auto\",\"active_scroll\":\"auto\",\"active_tap\":\"auto\",\"tools\":[{\"id\":\"5739a5a5-6e59-4f7c-9aae-b11e2ec98a1d\",\"type\":\"PanTool\"},{\"id\":\"79fb2c6f-065c-484b-97a1-0068e3189384\",\"type\":\"WheelZoomTool\"},{\"id\":\"b9843ee2-fcb9-450a-9a78-bcc3a51e3e6c\",\"type\":\"BoxZoomTool\"},{\"id\":\"fb165f08-5657-40b0-b782-50e9435e37d6\",\"type\":\"SaveTool\"},{\"id\":\"d1d0ccd0-4062-4e6a-85c4-e490e94cb41e\",\"type\":\"ResetTool\"},{\"id\":\"7f65ad9a-a2d0-4e05-ac79-579897da3100\",\"type\":\"HelpTool\"}]},\"id\":\"a718a44e-df08-42d2-9141-e1c82d002df2\",\"type\":\"Toolbar\"},{\"attributes\":{\"source\":{\"id\":\"5f1e0cc4-6604-4ab7-a559-797bc509a465\",\"type\":\"ColumnDataSource\"}},\"id\":\"e9b00d4e-e3ba-4cd9-8510-552b20796945\",\"type\":\"CDSView\"},{\"attributes\":{\"callback\":null},\"id\":\"0713eb9d-081c-485c-b683-cbe48ccf6c64\",\"type\":\"DataRange1d\"},{\"attributes\":{\"callback\":null},\"id\":\"4fb0c5a5-9172-478b-8077-0c5f9699e536\",\"type\":\"DataRange1d\"},{\"attributes\":{},\"id\":\"d1d0ccd0-4062-4e6a-85c4-e490e94cb41e\",\"type\":\"ResetTool\"},{\"attributes\":{\"callback\":null,\"column_names\":[\"x\",\"y\"],\"data\":{\"x\":[1,2,3,4,5],\"y\":[2,5,8,2,7]}},\"id\":\"5f1e0cc4-6604-4ab7-a559-797bc509a465\",\"type\":\"ColumnDataSource\"},{\"attributes\":{\"overlay\":{\"id\":\"ec8f37bf-3ba0-428d-8b3b-a5f7bd025503\",\"type\":\"BoxAnnotation\"}},\"id\":\"b9843ee2-fcb9-450a-9a78-bcc3a51e3e6c\",\"type\":\"BoxZoomTool\"},{\"attributes\":{\"format\":\"%5.3f mu\"},\"id\":\"a2b961b2-17d6-40bd-84f2-61de5e9c9d24\",\"type\":\"PrintfTickFormatter\"}],\"root_ids\":[\"468ee0e3-fd24-4695-88dc-d23463e3204e\"]},\"title\":\"Bokeh Application\",\"version\":\"0.12.13\"}};\n",
       "  var render_items = [{\"docid\":\"1c346f50-ebf9-434c-ab03-642ed486ba84\",\"elementid\":\"ba99d278-ef22-466b-ac9b-a6fd0c2e5aa6\",\"modelid\":\"468ee0e3-fd24-4695-88dc-d23463e3204e\"}];\n",
       "  root.Bokeh.embed.embed_items_notebook(docs_json, render_items);\n",
       "\n",
       "  }\n",
       "  if (root.Bokeh !== undefined) {\n",
       "    embed_document(root);\n",
       "  } else {\n",
       "    var attempts = 0;\n",
       "    var timer = setInterval(function(root) {\n",
       "      if (root.Bokeh !== undefined) {\n",
       "        embed_document(root);\n",
       "        clearInterval(timer);\n",
       "      }\n",
       "      attempts++;\n",
       "      if (attempts > 100) {\n",
       "        console.log(\"Bokeh: ERROR: Unable to run BokehJS code because BokehJS library is missing\")\n",
       "        clearInterval(timer);\n",
       "      }\n",
       "    }, 10, root)\n",
       "  }\n",
       "})(window);"
      ],
      "application/vnd.bokehjs_exec.v0+json": ""
     },
     "metadata": {
      "application/vnd.bokehjs_exec.v0+json": {
       "id": "468ee0e3-fd24-4695-88dc-d23463e3204e"
      }
     },
     "output_type": "display_data"
    }
   ],
   "source": [
    "from bokeh.models import PrintfTickFormatter\n",
    "\n",
    "p = figure(plot_width=400, plot_height=400)\n",
    "p.circle([1,2,3,4,5], [2,5,8,2,7], size=10)\n",
    "\n",
    "p.xaxis[0].formatter = PrintfTickFormatter(format=\"%4.1e\")\n",
    "p.yaxis[0].formatter = PrintfTickFormatter(format=\"%5.3f mu\")\n",
    "\n",
    "show(p)"
   ]
  },
  {
   "cell_type": "markdown",
   "metadata": {},
   "source": [
    "### FuncTickFormatter"
   ]
  },
  {
   "cell_type": "code",
   "execution_count": 49,
   "metadata": {},
   "outputs": [
    {
     "data": {
      "text/html": [
       "\n",
       "<div class=\"bk-root\">\n",
       "    <div class=\"bk-plotdiv\" id=\"e6e2cdcd-8c64-4bc1-a9da-007ee27256f9\"></div>\n",
       "</div>"
      ]
     },
     "metadata": {},
     "output_type": "display_data"
    },
    {
     "data": {
      "application/javascript": [
       "(function(root) {\n",
       "  function embed_document(root) {\n",
       "    \n",
       "  var docs_json = {\"a74e3a77-1309-40b8-8435-a0bfca8cb0aa\":{\"roots\":{\"references\":[{\"attributes\":{\"below\":[{\"id\":\"e2ddbe1a-784c-438b-8c8e-807fb543d32e\",\"type\":\"LinearAxis\"}],\"left\":[{\"id\":\"7dd97d42-8907-4e00-bc70-0b8d07a85f73\",\"type\":\"LinearAxis\"}],\"plot_height\":500,\"plot_width\":500,\"renderers\":[{\"id\":\"e2ddbe1a-784c-438b-8c8e-807fb543d32e\",\"type\":\"LinearAxis\"},{\"id\":\"125e8d15-9907-4735-8599-bacf5f0db77a\",\"type\":\"Grid\"},{\"id\":\"7dd97d42-8907-4e00-bc70-0b8d07a85f73\",\"type\":\"LinearAxis\"},{\"id\":\"ee71f53e-d72b-4b81-9770-8b368f7b1583\",\"type\":\"Grid\"},{\"id\":\"1af366cb-8798-4361-a5af-afc306dd257f\",\"type\":\"BoxAnnotation\"},{\"id\":\"9d1b2a8b-f1fe-460e-9188-257b6355eed1\",\"type\":\"GlyphRenderer\"}],\"title\":{\"id\":\"1df6e657-04ae-4061-b23a-3ddaabd95726\",\"type\":\"Title\"},\"toolbar\":{\"id\":\"20c27b4c-ca98-4188-9453-09d2e583826d\",\"type\":\"Toolbar\"},\"x_range\":{\"id\":\"3957968b-0fb9-4f9f-a86c-b8b990e16630\",\"type\":\"DataRange1d\"},\"x_scale\":{\"id\":\"1a5efe4e-15dc-426a-96d2-df53d6049507\",\"type\":\"LinearScale\"},\"y_range\":{\"id\":\"ef63db0b-ef8d-471b-9d60-e3b030564d94\",\"type\":\"DataRange1d\"},\"y_scale\":{\"id\":\"459278e2-2867-4041-93fb-cad3d9f4b023\",\"type\":\"LinearScale\"}},\"id\":\"4a9b88b8-eb55-4aea-a184-4faa6692f62b\",\"subtype\":\"Figure\",\"type\":\"Plot\"},{\"attributes\":{},\"id\":\"3e7896b8-0a24-4979-8b7f-bed1360b1a5c\",\"type\":\"PanTool\"},{\"attributes\":{},\"id\":\"48ad4065-ac6c-43d9-8766-c28f9172edc3\",\"type\":\"BasicTickFormatter\"},{\"attributes\":{\"overlay\":{\"id\":\"1af366cb-8798-4361-a5af-afc306dd257f\",\"type\":\"BoxAnnotation\"}},\"id\":\"29470866-48ff-4ab0-b744-043413a996c8\",\"type\":\"BoxZoomTool\"},{\"attributes\":{},\"id\":\"1a5efe4e-15dc-426a-96d2-df53d6049507\",\"type\":\"LinearScale\"},{\"attributes\":{\"plot\":null,\"text\":\"\"},\"id\":\"1df6e657-04ae-4061-b23a-3ddaabd95726\",\"type\":\"Title\"},{\"attributes\":{\"active_drag\":\"auto\",\"active_inspect\":\"auto\",\"active_scroll\":\"auto\",\"active_tap\":\"auto\",\"tools\":[{\"id\":\"3e7896b8-0a24-4979-8b7f-bed1360b1a5c\",\"type\":\"PanTool\"},{\"id\":\"e88804b3-1aa3-4b49-a28f-2aeebb10bb92\",\"type\":\"WheelZoomTool\"},{\"id\":\"29470866-48ff-4ab0-b744-043413a996c8\",\"type\":\"BoxZoomTool\"},{\"id\":\"5764374e-afb6-47ce-aa17-e0d34dacd45a\",\"type\":\"SaveTool\"},{\"id\":\"980c03ca-92e2-4a61-8247-d68f6600b389\",\"type\":\"ResetTool\"},{\"id\":\"f0ca64bf-28e4-4547-b379-48254b112498\",\"type\":\"HelpTool\"}]},\"id\":\"20c27b4c-ca98-4188-9453-09d2e583826d\",\"type\":\"Toolbar\"},{\"attributes\":{\"fill_alpha\":{\"value\":0.1},\"fill_color\":{\"value\":\"#1f77b4\"},\"line_alpha\":{\"value\":0.1},\"line_color\":{\"value\":\"#1f77b4\"},\"size\":{\"units\":\"screen\",\"value\":30},\"x\":{\"field\":\"x\"},\"y\":{\"field\":\"y\"}},\"id\":\"90405277-146d-4d42-944d-5e3d8a3733c2\",\"type\":\"Circle\"},{\"attributes\":{},\"id\":\"f0ca64bf-28e4-4547-b379-48254b112498\",\"type\":\"HelpTool\"},{\"attributes\":{\"plot\":{\"id\":\"4a9b88b8-eb55-4aea-a184-4faa6692f62b\",\"subtype\":\"Figure\",\"type\":\"Plot\"},\"ticker\":{\"id\":\"2b144f6c-32f2-440b-a9a5-995156256db1\",\"type\":\"BasicTicker\"}},\"id\":\"125e8d15-9907-4735-8599-bacf5f0db77a\",\"type\":\"Grid\"},{\"attributes\":{},\"id\":\"635b5712-2fbe-4978-b20a-ce8fdcad3796\",\"type\":\"BasicTicker\"},{\"attributes\":{\"formatter\":{\"id\":\"bd021f55-cecd-437e-ae6e-31b5aa8591d0\",\"type\":\"FuncTickFormatter\"},\"plot\":{\"id\":\"4a9b88b8-eb55-4aea-a184-4faa6692f62b\",\"subtype\":\"Figure\",\"type\":\"Plot\"},\"ticker\":{\"id\":\"635b5712-2fbe-4978-b20a-ce8fdcad3796\",\"type\":\"BasicTicker\"}},\"id\":\"7dd97d42-8907-4e00-bc70-0b8d07a85f73\",\"type\":\"LinearAxis\"},{\"attributes\":{},\"id\":\"2b144f6c-32f2-440b-a9a5-995156256db1\",\"type\":\"BasicTicker\"},{\"attributes\":{\"bottom_units\":\"screen\",\"fill_alpha\":{\"value\":0.5},\"fill_color\":{\"value\":\"lightgrey\"},\"left_units\":\"screen\",\"level\":\"overlay\",\"line_alpha\":{\"value\":1.0},\"line_color\":{\"value\":\"black\"},\"line_dash\":[4,4],\"line_width\":{\"value\":2},\"plot\":null,\"render_mode\":\"css\",\"right_units\":\"screen\",\"top_units\":\"screen\"},\"id\":\"1af366cb-8798-4361-a5af-afc306dd257f\",\"type\":\"BoxAnnotation\"},{\"attributes\":{\"code\":\"\\n    return Math.floor(tick) + \\\" + \\\" + (tick % 1).toFixed(2)\\n\"},\"id\":\"bd021f55-cecd-437e-ae6e-31b5aa8591d0\",\"type\":\"FuncTickFormatter\"},{\"attributes\":{\"fill_color\":{\"value\":\"#1f77b4\"},\"line_color\":{\"value\":\"#1f77b4\"},\"size\":{\"units\":\"screen\",\"value\":30},\"x\":{\"field\":\"x\"},\"y\":{\"field\":\"y\"}},\"id\":\"6a6cbb5c-6bba-43de-8e2f-df1112b109b2\",\"type\":\"Circle\"},{\"attributes\":{\"data_source\":{\"id\":\"b667d24a-02f1-4f9a-acdb-317dfc470221\",\"type\":\"ColumnDataSource\"},\"glyph\":{\"id\":\"6a6cbb5c-6bba-43de-8e2f-df1112b109b2\",\"type\":\"Circle\"},\"hover_glyph\":null,\"muted_glyph\":null,\"nonselection_glyph\":{\"id\":\"90405277-146d-4d42-944d-5e3d8a3733c2\",\"type\":\"Circle\"},\"selection_glyph\":null,\"view\":{\"id\":\"2d83c28a-5d60-46b1-b599-9cfc15642454\",\"type\":\"CDSView\"}},\"id\":\"9d1b2a8b-f1fe-460e-9188-257b6355eed1\",\"type\":\"GlyphRenderer\"},{\"attributes\":{},\"id\":\"5764374e-afb6-47ce-aa17-e0d34dacd45a\",\"type\":\"SaveTool\"},{\"attributes\":{\"callback\":null},\"id\":\"3957968b-0fb9-4f9f-a86c-b8b990e16630\",\"type\":\"DataRange1d\"},{\"attributes\":{\"callback\":null,\"column_names\":[\"x\",\"y\"],\"data\":{\"x\":[0,2,4,6,8,10],\"y\":[6,2,4,10,8,0]}},\"id\":\"b667d24a-02f1-4f9a-acdb-317dfc470221\",\"type\":\"ColumnDataSource\"},{\"attributes\":{\"formatter\":{\"id\":\"48ad4065-ac6c-43d9-8766-c28f9172edc3\",\"type\":\"BasicTickFormatter\"},\"plot\":{\"id\":\"4a9b88b8-eb55-4aea-a184-4faa6692f62b\",\"subtype\":\"Figure\",\"type\":\"Plot\"},\"ticker\":{\"id\":\"2b144f6c-32f2-440b-a9a5-995156256db1\",\"type\":\"BasicTicker\"}},\"id\":\"e2ddbe1a-784c-438b-8c8e-807fb543d32e\",\"type\":\"LinearAxis\"},{\"attributes\":{\"callback\":null},\"id\":\"ef63db0b-ef8d-471b-9d60-e3b030564d94\",\"type\":\"DataRange1d\"},{\"attributes\":{},\"id\":\"e88804b3-1aa3-4b49-a28f-2aeebb10bb92\",\"type\":\"WheelZoomTool\"},{\"attributes\":{\"dimension\":1,\"plot\":{\"id\":\"4a9b88b8-eb55-4aea-a184-4faa6692f62b\",\"subtype\":\"Figure\",\"type\":\"Plot\"},\"ticker\":{\"id\":\"635b5712-2fbe-4978-b20a-ce8fdcad3796\",\"type\":\"BasicTicker\"}},\"id\":\"ee71f53e-d72b-4b81-9770-8b368f7b1583\",\"type\":\"Grid\"},{\"attributes\":{},\"id\":\"459278e2-2867-4041-93fb-cad3d9f4b023\",\"type\":\"LinearScale\"},{\"attributes\":{\"source\":{\"id\":\"b667d24a-02f1-4f9a-acdb-317dfc470221\",\"type\":\"ColumnDataSource\"}},\"id\":\"2d83c28a-5d60-46b1-b599-9cfc15642454\",\"type\":\"CDSView\"},{\"attributes\":{},\"id\":\"980c03ca-92e2-4a61-8247-d68f6600b389\",\"type\":\"ResetTool\"}],\"root_ids\":[\"4a9b88b8-eb55-4aea-a184-4faa6692f62b\"]},\"title\":\"Bokeh Application\",\"version\":\"0.12.13\"}};\n",
       "  var render_items = [{\"docid\":\"a74e3a77-1309-40b8-8435-a0bfca8cb0aa\",\"elementid\":\"e6e2cdcd-8c64-4bc1-a9da-007ee27256f9\",\"modelid\":\"4a9b88b8-eb55-4aea-a184-4faa6692f62b\"}];\n",
       "  root.Bokeh.embed.embed_items_notebook(docs_json, render_items);\n",
       "\n",
       "  }\n",
       "  if (root.Bokeh !== undefined) {\n",
       "    embed_document(root);\n",
       "  } else {\n",
       "    var attempts = 0;\n",
       "    var timer = setInterval(function(root) {\n",
       "      if (root.Bokeh !== undefined) {\n",
       "        embed_document(root);\n",
       "        clearInterval(timer);\n",
       "      }\n",
       "      attempts++;\n",
       "      if (attempts > 100) {\n",
       "        console.log(\"Bokeh: ERROR: Unable to run BokehJS code because BokehJS library is missing\")\n",
       "        clearInterval(timer);\n",
       "      }\n",
       "    }, 10, root)\n",
       "  }\n",
       "})(window);"
      ],
      "application/vnd.bokehjs_exec.v0+json": ""
     },
     "metadata": {
      "application/vnd.bokehjs_exec.v0+json": {
       "id": "4a9b88b8-eb55-4aea-a184-4faa6692f62b"
      }
     },
     "output_type": "display_data"
    }
   ],
   "source": [
    "from bokeh.models import FuncTickFormatter \n",
    "\n",
    "p = figure(plot_width=500, plot_height=500)\n",
    "p.circle([0, 2, 4, 6, 8, 10], [6, 2, 4, 10, 8, 0], size=30)\n",
    "\n",
    "p.yaxis.formatter = FuncTickFormatter(code=\"\"\"\n",
    "    return Math.floor(tick) + \" + \" + (tick % 1).toFixed(2)\n",
    "\"\"\")\n",
    "\n",
    "show(p)"
   ]
  },
  {
   "cell_type": "markdown",
   "metadata": {},
   "source": [
    "### Tick Label Orientation\n",
    "The orientation of major tick labels can be controlled with the major_label_orientation property. This property accepts the values \"horizontal\" or \"vertical\" or a floating point number that gives **the angle (in radians) to rotate** from the horizontal:"
   ]
  },
  {
   "cell_type": "code",
   "execution_count": 50,
   "metadata": {},
   "outputs": [
    {
     "data": {
      "text/html": [
       "\n",
       "<div class=\"bk-root\">\n",
       "    <div class=\"bk-plotdiv\" id=\"9093efbe-31e6-4011-b82a-631d07238652\"></div>\n",
       "</div>"
      ]
     },
     "metadata": {},
     "output_type": "display_data"
    },
    {
     "data": {
      "application/javascript": [
       "(function(root) {\n",
       "  function embed_document(root) {\n",
       "    \n",
       "  var docs_json = {\"f20858fe-e7bf-4722-9173-30c452c9f871\":{\"roots\":{\"references\":[{\"attributes\":{},\"id\":\"9d29516e-dfea-47ad-a48a-def7d848e82b\",\"type\":\"BasicTickFormatter\"},{\"attributes\":{\"callback\":null,\"column_names\":[\"x\",\"y\"],\"data\":{\"x\":[1,2,3,4,5],\"y\":[2,5,8,2,7]}},\"id\":\"61a59263-bc7a-41c3-89a6-43ba17cc4e1e\",\"type\":\"ColumnDataSource\"},{\"attributes\":{},\"id\":\"b62aca9f-5f06-41df-a631-b419ff78c6da\",\"type\":\"LinearScale\"},{\"attributes\":{\"active_drag\":\"auto\",\"active_inspect\":\"auto\",\"active_scroll\":\"auto\",\"active_tap\":\"auto\",\"tools\":[{\"id\":\"d39907e0-1132-465c-9a0e-fe03d465afb1\",\"type\":\"PanTool\"},{\"id\":\"94deaa60-1d1a-41aa-bcf8-2c2770160531\",\"type\":\"WheelZoomTool\"},{\"id\":\"f01db8e4-a249-48e2-b021-3ebf011d7a91\",\"type\":\"BoxZoomTool\"},{\"id\":\"83f76008-ab0d-4ae2-b155-7e6828216d5b\",\"type\":\"SaveTool\"},{\"id\":\"d28a1daa-4a8d-4684-8f03-964daa242d8e\",\"type\":\"ResetTool\"},{\"id\":\"b1774d36-a05d-4af1-8368-54d43f1d3901\",\"type\":\"HelpTool\"}]},\"id\":\"03ffcd7d-a622-4d57-b002-6e795b29a6c7\",\"type\":\"Toolbar\"},{\"attributes\":{\"plot\":{\"id\":\"d6abf974-9a6d-4606-b058-dc4e19fa4c33\",\"subtype\":\"Figure\",\"type\":\"Plot\"},\"ticker\":{\"id\":\"5dbae4d6-dd9d-4388-9994-0e3edc47ca2c\",\"type\":\"BasicTicker\"}},\"id\":\"ead38817-102d-48bc-be78-5114a2452901\",\"type\":\"Grid\"},{\"attributes\":{},\"id\":\"5dbae4d6-dd9d-4388-9994-0e3edc47ca2c\",\"type\":\"BasicTicker\"},{\"attributes\":{},\"id\":\"b1774d36-a05d-4af1-8368-54d43f1d3901\",\"type\":\"HelpTool\"},{\"attributes\":{},\"id\":\"16706c78-d7d1-4c5f-967f-a91b8c435f81\",\"type\":\"BasicTicker\"},{\"attributes\":{\"dimension\":1,\"plot\":{\"id\":\"d6abf974-9a6d-4606-b058-dc4e19fa4c33\",\"subtype\":\"Figure\",\"type\":\"Plot\"},\"ticker\":{\"id\":\"16706c78-d7d1-4c5f-967f-a91b8c435f81\",\"type\":\"BasicTicker\"}},\"id\":\"b03a066d-d631-4a08-b3d1-3ffe2eb8e1e6\",\"type\":\"Grid\"},{\"attributes\":{\"formatter\":{\"id\":\"e7d02361-ebbd-4e36-be89-20522d34ab1d\",\"type\":\"BasicTickFormatter\"},\"major_label_orientation\":\"vertical\",\"plot\":{\"id\":\"d6abf974-9a6d-4606-b058-dc4e19fa4c33\",\"subtype\":\"Figure\",\"type\":\"Plot\"},\"ticker\":{\"id\":\"16706c78-d7d1-4c5f-967f-a91b8c435f81\",\"type\":\"BasicTicker\"}},\"id\":\"b8549c77-a518-4fb8-8524-9b8c15ef8dd1\",\"type\":\"LinearAxis\"},{\"attributes\":{\"callback\":null},\"id\":\"ba37a353-1eeb-4c08-bfe6-0dd6493b3822\",\"type\":\"DataRange1d\"},{\"attributes\":{\"overlay\":{\"id\":\"71fc3329-9c4d-418f-a70c-7c5d75b3c6de\",\"type\":\"BoxAnnotation\"}},\"id\":\"f01db8e4-a249-48e2-b021-3ebf011d7a91\",\"type\":\"BoxZoomTool\"},{\"attributes\":{},\"id\":\"83f76008-ab0d-4ae2-b155-7e6828216d5b\",\"type\":\"SaveTool\"},{\"attributes\":{\"source\":{\"id\":\"61a59263-bc7a-41c3-89a6-43ba17cc4e1e\",\"type\":\"ColumnDataSource\"}},\"id\":\"6033f43a-5e4f-4872-9973-625bc69dee44\",\"type\":\"CDSView\"},{\"attributes\":{},\"id\":\"d39907e0-1132-465c-9a0e-fe03d465afb1\",\"type\":\"PanTool\"},{\"attributes\":{\"fill_color\":{\"value\":\"#1f77b4\"},\"line_color\":{\"value\":\"#1f77b4\"},\"size\":{\"units\":\"screen\",\"value\":10},\"x\":{\"field\":\"x\"},\"y\":{\"field\":\"y\"}},\"id\":\"efda7dd2-0e4e-409b-8825-22101669da9e\",\"type\":\"Circle\"},{\"attributes\":{},\"id\":\"e7d02361-ebbd-4e36-be89-20522d34ab1d\",\"type\":\"BasicTickFormatter\"},{\"attributes\":{},\"id\":\"d28a1daa-4a8d-4684-8f03-964daa242d8e\",\"type\":\"ResetTool\"},{\"attributes\":{\"fill_alpha\":{\"value\":0.1},\"fill_color\":{\"value\":\"#1f77b4\"},\"line_alpha\":{\"value\":0.1},\"line_color\":{\"value\":\"#1f77b4\"},\"size\":{\"units\":\"screen\",\"value\":10},\"x\":{\"field\":\"x\"},\"y\":{\"field\":\"y\"}},\"id\":\"db32f26f-00de-4510-bfda-a8c6a871be23\",\"type\":\"Circle\"},{\"attributes\":{\"below\":[{\"id\":\"0a01d5c5-cf32-4175-82f6-1fcb299e0403\",\"type\":\"LinearAxis\"}],\"left\":[{\"id\":\"b8549c77-a518-4fb8-8524-9b8c15ef8dd1\",\"type\":\"LinearAxis\"}],\"plot_height\":400,\"plot_width\":400,\"renderers\":[{\"id\":\"0a01d5c5-cf32-4175-82f6-1fcb299e0403\",\"type\":\"LinearAxis\"},{\"id\":\"ead38817-102d-48bc-be78-5114a2452901\",\"type\":\"Grid\"},{\"id\":\"b8549c77-a518-4fb8-8524-9b8c15ef8dd1\",\"type\":\"LinearAxis\"},{\"id\":\"b03a066d-d631-4a08-b3d1-3ffe2eb8e1e6\",\"type\":\"Grid\"},{\"id\":\"71fc3329-9c4d-418f-a70c-7c5d75b3c6de\",\"type\":\"BoxAnnotation\"},{\"id\":\"4a15cc6e-1f7e-411b-aacd-29308e91f996\",\"type\":\"GlyphRenderer\"}],\"title\":{\"id\":\"ea10dc9b-1312-4e62-bb89-1f0b8bd6c82d\",\"type\":\"Title\"},\"toolbar\":{\"id\":\"03ffcd7d-a622-4d57-b002-6e795b29a6c7\",\"type\":\"Toolbar\"},\"x_range\":{\"id\":\"ba37a353-1eeb-4c08-bfe6-0dd6493b3822\",\"type\":\"DataRange1d\"},\"x_scale\":{\"id\":\"b62aca9f-5f06-41df-a631-b419ff78c6da\",\"type\":\"LinearScale\"},\"y_range\":{\"id\":\"a1ec7698-067d-48f1-beeb-ac05a63e3536\",\"type\":\"DataRange1d\"},\"y_scale\":{\"id\":\"2e7d7211-98f8-466e-b0f0-add24d760865\",\"type\":\"LinearScale\"}},\"id\":\"d6abf974-9a6d-4606-b058-dc4e19fa4c33\",\"subtype\":\"Figure\",\"type\":\"Plot\"},{\"attributes\":{\"formatter\":{\"id\":\"9d29516e-dfea-47ad-a48a-def7d848e82b\",\"type\":\"BasicTickFormatter\"},\"major_label_orientation\":0.7853981633974483,\"plot\":{\"id\":\"d6abf974-9a6d-4606-b058-dc4e19fa4c33\",\"subtype\":\"Figure\",\"type\":\"Plot\"},\"ticker\":{\"id\":\"5dbae4d6-dd9d-4388-9994-0e3edc47ca2c\",\"type\":\"BasicTicker\"}},\"id\":\"0a01d5c5-cf32-4175-82f6-1fcb299e0403\",\"type\":\"LinearAxis\"},{\"attributes\":{\"bottom_units\":\"screen\",\"fill_alpha\":{\"value\":0.5},\"fill_color\":{\"value\":\"lightgrey\"},\"left_units\":\"screen\",\"level\":\"overlay\",\"line_alpha\":{\"value\":1.0},\"line_color\":{\"value\":\"black\"},\"line_dash\":[4,4],\"line_width\":{\"value\":2},\"plot\":null,\"render_mode\":\"css\",\"right_units\":\"screen\",\"top_units\":\"screen\"},\"id\":\"71fc3329-9c4d-418f-a70c-7c5d75b3c6de\",\"type\":\"BoxAnnotation\"},{\"attributes\":{\"data_source\":{\"id\":\"61a59263-bc7a-41c3-89a6-43ba17cc4e1e\",\"type\":\"ColumnDataSource\"},\"glyph\":{\"id\":\"efda7dd2-0e4e-409b-8825-22101669da9e\",\"type\":\"Circle\"},\"hover_glyph\":null,\"muted_glyph\":null,\"nonselection_glyph\":{\"id\":\"db32f26f-00de-4510-bfda-a8c6a871be23\",\"type\":\"Circle\"},\"selection_glyph\":null,\"view\":{\"id\":\"6033f43a-5e4f-4872-9973-625bc69dee44\",\"type\":\"CDSView\"}},\"id\":\"4a15cc6e-1f7e-411b-aacd-29308e91f996\",\"type\":\"GlyphRenderer\"},{\"attributes\":{\"callback\":null},\"id\":\"a1ec7698-067d-48f1-beeb-ac05a63e3536\",\"type\":\"DataRange1d\"},{\"attributes\":{},\"id\":\"94deaa60-1d1a-41aa-bcf8-2c2770160531\",\"type\":\"WheelZoomTool\"},{\"attributes\":{},\"id\":\"2e7d7211-98f8-466e-b0f0-add24d760865\",\"type\":\"LinearScale\"},{\"attributes\":{\"plot\":null,\"text\":\"\"},\"id\":\"ea10dc9b-1312-4e62-bb89-1f0b8bd6c82d\",\"type\":\"Title\"}],\"root_ids\":[\"d6abf974-9a6d-4606-b058-dc4e19fa4c33\"]},\"title\":\"Bokeh Application\",\"version\":\"0.12.13\"}};\n",
       "  var render_items = [{\"docid\":\"f20858fe-e7bf-4722-9173-30c452c9f871\",\"elementid\":\"9093efbe-31e6-4011-b82a-631d07238652\",\"modelid\":\"d6abf974-9a6d-4606-b058-dc4e19fa4c33\"}];\n",
       "  root.Bokeh.embed.embed_items_notebook(docs_json, render_items);\n",
       "\n",
       "  }\n",
       "  if (root.Bokeh !== undefined) {\n",
       "    embed_document(root);\n",
       "  } else {\n",
       "    var attempts = 0;\n",
       "    var timer = setInterval(function(root) {\n",
       "      if (root.Bokeh !== undefined) {\n",
       "        embed_document(root);\n",
       "        clearInterval(timer);\n",
       "      }\n",
       "      attempts++;\n",
       "      if (attempts > 100) {\n",
       "        console.log(\"Bokeh: ERROR: Unable to run BokehJS code because BokehJS library is missing\")\n",
       "        clearInterval(timer);\n",
       "      }\n",
       "    }, 10, root)\n",
       "  }\n",
       "})(window);"
      ],
      "application/vnd.bokehjs_exec.v0+json": ""
     },
     "metadata": {
      "application/vnd.bokehjs_exec.v0+json": {
       "id": "d6abf974-9a6d-4606-b058-dc4e19fa4c33"
      }
     },
     "output_type": "display_data"
    }
   ],
   "source": [
    "from math import pi\n",
    "\n",
    "p = figure(plot_width=400, plot_height=400)\n",
    "p.circle([1,2,3,4,5], [2,5,8,2,7], size=10)\n",
    "\n",
    "p.xaxis.major_label_orientation = pi/4\n",
    "p.yaxis.major_label_orientation = \"vertical\"\n",
    "\n",
    "show(p)"
   ]
  },
  {
   "cell_type": "markdown",
   "metadata": {},
   "source": [
    "### Grids"
   ]
  },
  {
   "cell_type": "code",
   "execution_count": 51,
   "metadata": {},
   "outputs": [
    {
     "data": {
      "text/html": [
       "\n",
       "<div class=\"bk-root\">\n",
       "    <div class=\"bk-plotdiv\" id=\"f9bf9693-97a3-48f3-b756-92cc4600f459\"></div>\n",
       "</div>"
      ]
     },
     "metadata": {},
     "output_type": "display_data"
    },
    {
     "data": {
      "application/javascript": [
       "(function(root) {\n",
       "  function embed_document(root) {\n",
       "    \n",
       "  var docs_json = {\"55dcfc15-8ac7-4749-a208-719ce450fa31\":{\"roots\":{\"references\":[{\"attributes\":{\"overlay\":{\"id\":\"dad84d0b-7419-49fe-b44d-7cbd8293aad9\",\"type\":\"BoxAnnotation\"}},\"id\":\"085ee2b8-bcb2-4786-9e41-e06c00d9c0ba\",\"type\":\"BoxZoomTool\"},{\"attributes\":{\"source\":{\"id\":\"1a418a8d-2c9a-40bd-a4a8-53ea467dc196\",\"type\":\"ColumnDataSource\"}},\"id\":\"9a8465e9-28e5-4a10-ad55-27eba4cc4380\",\"type\":\"CDSView\"},{\"attributes\":{\"grid_line_color\":{\"value\":null},\"plot\":{\"id\":\"4efcd7fc-1d33-47b0-9e6c-b387861cc551\",\"subtype\":\"Figure\",\"type\":\"Plot\"},\"ticker\":{\"id\":\"9083e2ce-f627-49ec-8e7a-310c85991fab\",\"type\":\"BasicTicker\"}},\"id\":\"85cd74d7-1a07-4ebb-a283-cc8845e8afea\",\"type\":\"Grid\"},{\"attributes\":{},\"id\":\"a5f9ae08-8314-48c0-b217-e246484ad7c6\",\"type\":\"BasicTickFormatter\"},{\"attributes\":{},\"id\":\"4f0b6a11-fdb0-4a75-867b-b1c61b6d816c\",\"type\":\"BasicTickFormatter\"},{\"attributes\":{},\"id\":\"d2aeb8a2-dc70-4232-af43-eee97aa5225c\",\"type\":\"BasicTicker\"},{\"attributes\":{\"below\":[{\"id\":\"8642d924-735c-4b7f-b7de-3fdbeb40f881\",\"type\":\"LinearAxis\"}],\"left\":[{\"id\":\"c9e651c5-a29a-4712-8c9b-b6ebde74d725\",\"type\":\"LinearAxis\"}],\"plot_height\":400,\"plot_width\":400,\"renderers\":[{\"id\":\"8642d924-735c-4b7f-b7de-3fdbeb40f881\",\"type\":\"LinearAxis\"},{\"id\":\"85cd74d7-1a07-4ebb-a283-cc8845e8afea\",\"type\":\"Grid\"},{\"id\":\"c9e651c5-a29a-4712-8c9b-b6ebde74d725\",\"type\":\"LinearAxis\"},{\"id\":\"ae509b1e-30d7-4f00-8856-a880df08d558\",\"type\":\"Grid\"},{\"id\":\"dad84d0b-7419-49fe-b44d-7cbd8293aad9\",\"type\":\"BoxAnnotation\"},{\"id\":\"6305f1df-b7f7-4ca3-a746-c454fae47c9d\",\"type\":\"GlyphRenderer\"}],\"title\":{\"id\":\"b39ae757-9f2f-402c-b626-041a41143969\",\"type\":\"Title\"},\"toolbar\":{\"id\":\"9cd40d27-a5ca-4c2d-b468-8e2f62e3697d\",\"type\":\"Toolbar\"},\"x_range\":{\"id\":\"2dd87f3a-b12f-4745-9e0e-be4850cf81b1\",\"type\":\"DataRange1d\"},\"x_scale\":{\"id\":\"73d8bf91-ff4f-4437-9ae8-f7a83e7a90db\",\"type\":\"LinearScale\"},\"y_range\":{\"id\":\"50fe8443-d986-4974-8c3c-e1169a271a3b\",\"type\":\"DataRange1d\"},\"y_scale\":{\"id\":\"deda45fd-5bab-4397-aac1-b0c25a12a331\",\"type\":\"LinearScale\"}},\"id\":\"4efcd7fc-1d33-47b0-9e6c-b387861cc551\",\"subtype\":\"Figure\",\"type\":\"Plot\"},{\"attributes\":{\"fill_alpha\":{\"value\":0.1},\"fill_color\":{\"value\":\"#1f77b4\"},\"line_alpha\":{\"value\":0.1},\"line_color\":{\"value\":\"#1f77b4\"},\"size\":{\"units\":\"screen\",\"value\":10},\"x\":{\"field\":\"x\"},\"y\":{\"field\":\"y\"}},\"id\":\"6fbad557-1e37-42e4-b30a-fb72ce708d73\",\"type\":\"Circle\"},{\"attributes\":{\"data_source\":{\"id\":\"1a418a8d-2c9a-40bd-a4a8-53ea467dc196\",\"type\":\"ColumnDataSource\"},\"glyph\":{\"id\":\"46862143-70a2-4e4a-bc58-280e9d3a336d\",\"type\":\"Circle\"},\"hover_glyph\":null,\"muted_glyph\":null,\"nonselection_glyph\":{\"id\":\"6fbad557-1e37-42e4-b30a-fb72ce708d73\",\"type\":\"Circle\"},\"selection_glyph\":null,\"view\":{\"id\":\"9a8465e9-28e5-4a10-ad55-27eba4cc4380\",\"type\":\"CDSView\"}},\"id\":\"6305f1df-b7f7-4ca3-a746-c454fae47c9d\",\"type\":\"GlyphRenderer\"},{\"attributes\":{\"callback\":null,\"column_names\":[\"x\",\"y\"],\"data\":{\"x\":[1,2,3,4,5],\"y\":[2,5,8,2,7]}},\"id\":\"1a418a8d-2c9a-40bd-a4a8-53ea467dc196\",\"type\":\"ColumnDataSource\"},{\"attributes\":{},\"id\":\"088445d1-b887-4034-9c39-b9b2c4131afc\",\"type\":\"SaveTool\"},{\"attributes\":{},\"id\":\"2faa3521-8012-4b9f-affa-1f4dd22aea48\",\"type\":\"PanTool\"},{\"attributes\":{},\"id\":\"bd40d362-cf2c-4b8b-9446-b8fdd7e9acd5\",\"type\":\"ResetTool\"},{\"attributes\":{},\"id\":\"73d8bf91-ff4f-4437-9ae8-f7a83e7a90db\",\"type\":\"LinearScale\"},{\"attributes\":{},\"id\":\"7862ed4e-bd55-4ade-97db-325ef073dd8a\",\"type\":\"HelpTool\"},{\"attributes\":{\"plot\":null,\"text\":\"\"},\"id\":\"b39ae757-9f2f-402c-b626-041a41143969\",\"type\":\"Title\"},{\"attributes\":{\"callback\":null},\"id\":\"2dd87f3a-b12f-4745-9e0e-be4850cf81b1\",\"type\":\"DataRange1d\"},{\"attributes\":{\"fill_color\":{\"value\":\"#1f77b4\"},\"line_color\":{\"value\":\"#1f77b4\"},\"size\":{\"units\":\"screen\",\"value\":10},\"x\":{\"field\":\"x\"},\"y\":{\"field\":\"y\"}},\"id\":\"46862143-70a2-4e4a-bc58-280e9d3a336d\",\"type\":\"Circle\"},{\"attributes\":{},\"id\":\"9083e2ce-f627-49ec-8e7a-310c85991fab\",\"type\":\"BasicTicker\"},{\"attributes\":{\"formatter\":{\"id\":\"a5f9ae08-8314-48c0-b217-e246484ad7c6\",\"type\":\"BasicTickFormatter\"},\"plot\":{\"id\":\"4efcd7fc-1d33-47b0-9e6c-b387861cc551\",\"subtype\":\"Figure\",\"type\":\"Plot\"},\"ticker\":{\"id\":\"d2aeb8a2-dc70-4232-af43-eee97aa5225c\",\"type\":\"BasicTicker\"}},\"id\":\"c9e651c5-a29a-4712-8c9b-b6ebde74d725\",\"type\":\"LinearAxis\"},{\"attributes\":{\"formatter\":{\"id\":\"4f0b6a11-fdb0-4a75-867b-b1c61b6d816c\",\"type\":\"BasicTickFormatter\"},\"plot\":{\"id\":\"4efcd7fc-1d33-47b0-9e6c-b387861cc551\",\"subtype\":\"Figure\",\"type\":\"Plot\"},\"ticker\":{\"id\":\"9083e2ce-f627-49ec-8e7a-310c85991fab\",\"type\":\"BasicTicker\"}},\"id\":\"8642d924-735c-4b7f-b7de-3fdbeb40f881\",\"type\":\"LinearAxis\"},{\"attributes\":{\"active_drag\":\"auto\",\"active_inspect\":\"auto\",\"active_scroll\":\"auto\",\"active_tap\":\"auto\",\"tools\":[{\"id\":\"2faa3521-8012-4b9f-affa-1f4dd22aea48\",\"type\":\"PanTool\"},{\"id\":\"d6852d1f-c353-4605-98a6-a4756a14c0fb\",\"type\":\"WheelZoomTool\"},{\"id\":\"085ee2b8-bcb2-4786-9e41-e06c00d9c0ba\",\"type\":\"BoxZoomTool\"},{\"id\":\"088445d1-b887-4034-9c39-b9b2c4131afc\",\"type\":\"SaveTool\"},{\"id\":\"bd40d362-cf2c-4b8b-9446-b8fdd7e9acd5\",\"type\":\"ResetTool\"},{\"id\":\"7862ed4e-bd55-4ade-97db-325ef073dd8a\",\"type\":\"HelpTool\"}]},\"id\":\"9cd40d27-a5ca-4c2d-b468-8e2f62e3697d\",\"type\":\"Toolbar\"},{\"attributes\":{},\"id\":\"d6852d1f-c353-4605-98a6-a4756a14c0fb\",\"type\":\"WheelZoomTool\"},{\"attributes\":{\"callback\":null},\"id\":\"50fe8443-d986-4974-8c3c-e1169a271a3b\",\"type\":\"DataRange1d\"},{\"attributes\":{\"dimension\":1,\"grid_line_alpha\":{\"value\":0.5},\"grid_line_dash\":[6,4],\"plot\":{\"id\":\"4efcd7fc-1d33-47b0-9e6c-b387861cc551\",\"subtype\":\"Figure\",\"type\":\"Plot\"},\"ticker\":{\"id\":\"d2aeb8a2-dc70-4232-af43-eee97aa5225c\",\"type\":\"BasicTicker\"}},\"id\":\"ae509b1e-30d7-4f00-8856-a880df08d558\",\"type\":\"Grid\"},{\"attributes\":{},\"id\":\"deda45fd-5bab-4397-aac1-b0c25a12a331\",\"type\":\"LinearScale\"},{\"attributes\":{\"bottom_units\":\"screen\",\"fill_alpha\":{\"value\":0.5},\"fill_color\":{\"value\":\"lightgrey\"},\"left_units\":\"screen\",\"level\":\"overlay\",\"line_alpha\":{\"value\":1.0},\"line_color\":{\"value\":\"black\"},\"line_dash\":[4,4],\"line_width\":{\"value\":2},\"plot\":null,\"render_mode\":\"css\",\"right_units\":\"screen\",\"top_units\":\"screen\"},\"id\":\"dad84d0b-7419-49fe-b44d-7cbd8293aad9\",\"type\":\"BoxAnnotation\"}],\"root_ids\":[\"4efcd7fc-1d33-47b0-9e6c-b387861cc551\"]},\"title\":\"Bokeh Application\",\"version\":\"0.12.13\"}};\n",
       "  var render_items = [{\"docid\":\"55dcfc15-8ac7-4749-a208-719ce450fa31\",\"elementid\":\"f9bf9693-97a3-48f3-b756-92cc4600f459\",\"modelid\":\"4efcd7fc-1d33-47b0-9e6c-b387861cc551\"}];\n",
       "  root.Bokeh.embed.embed_items_notebook(docs_json, render_items);\n",
       "\n",
       "  }\n",
       "  if (root.Bokeh !== undefined) {\n",
       "    embed_document(root);\n",
       "  } else {\n",
       "    var attempts = 0;\n",
       "    var timer = setInterval(function(root) {\n",
       "      if (root.Bokeh !== undefined) {\n",
       "        embed_document(root);\n",
       "        clearInterval(timer);\n",
       "      }\n",
       "      attempts++;\n",
       "      if (attempts > 100) {\n",
       "        console.log(\"Bokeh: ERROR: Unable to run BokehJS code because BokehJS library is missing\")\n",
       "        clearInterval(timer);\n",
       "      }\n",
       "    }, 10, root)\n",
       "  }\n",
       "})(window);"
      ],
      "application/vnd.bokehjs_exec.v0+json": ""
     },
     "metadata": {
      "application/vnd.bokehjs_exec.v0+json": {
       "id": "4efcd7fc-1d33-47b0-9e6c-b387861cc551"
      }
     },
     "output_type": "display_data"
    }
   ],
   "source": [
    "p = figure(plot_width=400, plot_height=400)\n",
    "p.circle([1,2,3,4,5], [2,5,8,2,7], size=10)\n",
    "\n",
    "# change just some things about the x-grid\n",
    "p.xgrid.grid_line_color = None\n",
    "\n",
    "# change just some things about the y-grid\n",
    "p.ygrid.grid_line_alpha = 0.5\n",
    "p.ygrid.grid_line_dash = [6, 4]\n",
    "\n",
    "show(p)"
   ]
  },
  {
   "cell_type": "markdown",
   "metadata": {},
   "source": [
    "### Minor Lines"
   ]
  },
  {
   "cell_type": "code",
   "execution_count": 52,
   "metadata": {},
   "outputs": [
    {
     "data": {
      "text/html": [
       "\n",
       "<div class=\"bk-root\">\n",
       "    <div class=\"bk-plotdiv\" id=\"5bdb2660-f744-45db-8a55-2f2adfc56524\"></div>\n",
       "</div>"
      ]
     },
     "metadata": {},
     "output_type": "display_data"
    },
    {
     "data": {
      "application/javascript": [
       "(function(root) {\n",
       "  function embed_document(root) {\n",
       "    \n",
       "  var docs_json = {\"45fe6095-e63d-45e0-a4bd-e10f7bab92e0\":{\"roots\":{\"references\":[{\"attributes\":{\"below\":[{\"id\":\"429c11e2-0317-4458-a36b-148a4aa2a873\",\"type\":\"LinearAxis\"}],\"left\":[{\"id\":\"d3e28899-efa0-45c8-9599-b986f70da6dc\",\"type\":\"LinearAxis\"}],\"plot_height\":400,\"plot_width\":400,\"renderers\":[{\"id\":\"429c11e2-0317-4458-a36b-148a4aa2a873\",\"type\":\"LinearAxis\"},{\"id\":\"fc809815-481c-4ee8-b163-dd8e08cca067\",\"type\":\"Grid\"},{\"id\":\"d3e28899-efa0-45c8-9599-b986f70da6dc\",\"type\":\"LinearAxis\"},{\"id\":\"502a8bc1-01d1-4775-94d7-ef368dcc2eab\",\"type\":\"Grid\"},{\"id\":\"432f4400-3000-4ffb-8715-d43f61e288c6\",\"type\":\"BoxAnnotation\"},{\"id\":\"6f64cb98-0277-4f94-a41a-ea5f3b413366\",\"type\":\"GlyphRenderer\"}],\"title\":{\"id\":\"63c6ee65-f84c-4cfd-8211-573856b2475e\",\"type\":\"Title\"},\"toolbar\":{\"id\":\"bab5ba4b-9623-429f-99ff-472e03d2ccbd\",\"type\":\"Toolbar\"},\"x_range\":{\"id\":\"43694ff4-4637-49f5-8559-bcbeb3c61784\",\"type\":\"DataRange1d\"},\"x_scale\":{\"id\":\"3b21e6e7-744b-4c9f-ac93-9218030b9b91\",\"type\":\"LinearScale\"},\"y_range\":{\"id\":\"8e371bc4-1877-47fa-a3e7-e4374763674d\",\"type\":\"DataRange1d\"},\"y_scale\":{\"id\":\"df82ad1e-e585-4a44-97b8-31f31e4da694\",\"type\":\"LinearScale\"}},\"id\":\"77b64f40-fd91-4d9a-80b6-371db764ab1f\",\"subtype\":\"Figure\",\"type\":\"Plot\"},{\"attributes\":{\"data_source\":{\"id\":\"de06d55d-dc78-4976-b72b-620bc0383d71\",\"type\":\"ColumnDataSource\"},\"glyph\":{\"id\":\"3d193895-fe06-4628-afa1-21055c456bd6\",\"type\":\"Circle\"},\"hover_glyph\":null,\"muted_glyph\":null,\"nonselection_glyph\":{\"id\":\"2e39cc3e-1df5-479f-9eb0-18ddebb1c695\",\"type\":\"Circle\"},\"selection_glyph\":null,\"view\":{\"id\":\"5ff24135-0fb2-4203-a45a-619e7f552ad2\",\"type\":\"CDSView\"}},\"id\":\"6f64cb98-0277-4f94-a41a-ea5f3b413366\",\"type\":\"GlyphRenderer\"},{\"attributes\":{\"plot\":null,\"text\":\"\"},\"id\":\"63c6ee65-f84c-4cfd-8211-573856b2475e\",\"type\":\"Title\"},{\"attributes\":{\"formatter\":{\"id\":\"eec82273-4857-4ba3-9a67-065df1809bbc\",\"type\":\"BasicTickFormatter\"},\"plot\":{\"id\":\"77b64f40-fd91-4d9a-80b6-371db764ab1f\",\"subtype\":\"Figure\",\"type\":\"Plot\"},\"ticker\":{\"id\":\"233c60b5-a5af-4ade-a903-f2e56cbc2fbf\",\"type\":\"BasicTicker\"}},\"id\":\"d3e28899-efa0-45c8-9599-b986f70da6dc\",\"type\":\"LinearAxis\"},{\"attributes\":{\"dimension\":1,\"minor_grid_line_alpha\":{\"value\":0.1},\"minor_grid_line_color\":{\"value\":\"navy\"},\"plot\":{\"id\":\"77b64f40-fd91-4d9a-80b6-371db764ab1f\",\"subtype\":\"Figure\",\"type\":\"Plot\"},\"ticker\":{\"id\":\"233c60b5-a5af-4ade-a903-f2e56cbc2fbf\",\"type\":\"BasicTicker\"}},\"id\":\"502a8bc1-01d1-4775-94d7-ef368dcc2eab\",\"type\":\"Grid\"},{\"attributes\":{\"fill_color\":{\"value\":\"#1f77b4\"},\"line_color\":{\"value\":\"#1f77b4\"},\"size\":{\"units\":\"screen\",\"value\":10},\"x\":{\"field\":\"x\"},\"y\":{\"field\":\"y\"}},\"id\":\"3d193895-fe06-4628-afa1-21055c456bd6\",\"type\":\"Circle\"},{\"attributes\":{},\"id\":\"026f85c3-79f8-44bd-a33a-435506d390ea\",\"type\":\"PanTool\"},{\"attributes\":{\"callback\":null},\"id\":\"43694ff4-4637-49f5-8559-bcbeb3c61784\",\"type\":\"DataRange1d\"},{\"attributes\":{\"plot\":{\"id\":\"77b64f40-fd91-4d9a-80b6-371db764ab1f\",\"subtype\":\"Figure\",\"type\":\"Plot\"},\"ticker\":{\"id\":\"063d60a0-41c8-40f1-af9b-9b7ff0374a76\",\"type\":\"BasicTicker\"}},\"id\":\"fc809815-481c-4ee8-b163-dd8e08cca067\",\"type\":\"Grid\"},{\"attributes\":{},\"id\":\"f369775b-ce13-459b-b795-7e65b033b0a5\",\"type\":\"WheelZoomTool\"},{\"attributes\":{},\"id\":\"21eabdee-a0e1-457c-9d50-af96522037ac\",\"type\":\"HelpTool\"},{\"attributes\":{},\"id\":\"063d60a0-41c8-40f1-af9b-9b7ff0374a76\",\"type\":\"BasicTicker\"},{\"attributes\":{\"callback\":null,\"column_names\":[\"x\",\"y\"],\"data\":{\"x\":[1,2,3,4,5],\"y\":[2,5,8,2,7]}},\"id\":\"de06d55d-dc78-4976-b72b-620bc0383d71\",\"type\":\"ColumnDataSource\"},{\"attributes\":{\"active_drag\":\"auto\",\"active_inspect\":\"auto\",\"active_scroll\":\"auto\",\"active_tap\":\"auto\",\"tools\":[{\"id\":\"026f85c3-79f8-44bd-a33a-435506d390ea\",\"type\":\"PanTool\"},{\"id\":\"f369775b-ce13-459b-b795-7e65b033b0a5\",\"type\":\"WheelZoomTool\"},{\"id\":\"004d31ac-1eb9-42d1-b4fa-66b74222c965\",\"type\":\"BoxZoomTool\"},{\"id\":\"d7ef9eac-8bd3-4bc5-b9e7-dd3da21cf0cc\",\"type\":\"SaveTool\"},{\"id\":\"9139bf1f-1b79-4c4f-a104-d987075e9a8c\",\"type\":\"ResetTool\"},{\"id\":\"21eabdee-a0e1-457c-9d50-af96522037ac\",\"type\":\"HelpTool\"}]},\"id\":\"bab5ba4b-9623-429f-99ff-472e03d2ccbd\",\"type\":\"Toolbar\"},{\"attributes\":{\"fill_alpha\":{\"value\":0.1},\"fill_color\":{\"value\":\"#1f77b4\"},\"line_alpha\":{\"value\":0.1},\"line_color\":{\"value\":\"#1f77b4\"},\"size\":{\"units\":\"screen\",\"value\":10},\"x\":{\"field\":\"x\"},\"y\":{\"field\":\"y\"}},\"id\":\"2e39cc3e-1df5-479f-9eb0-18ddebb1c695\",\"type\":\"Circle\"},{\"attributes\":{},\"id\":\"4418ff95-74bb-4cca-9fa1-7451bc04a803\",\"type\":\"BasicTickFormatter\"},{\"attributes\":{\"overlay\":{\"id\":\"432f4400-3000-4ffb-8715-d43f61e288c6\",\"type\":\"BoxAnnotation\"}},\"id\":\"004d31ac-1eb9-42d1-b4fa-66b74222c965\",\"type\":\"BoxZoomTool\"},{\"attributes\":{\"formatter\":{\"id\":\"4418ff95-74bb-4cca-9fa1-7451bc04a803\",\"type\":\"BasicTickFormatter\"},\"plot\":{\"id\":\"77b64f40-fd91-4d9a-80b6-371db764ab1f\",\"subtype\":\"Figure\",\"type\":\"Plot\"},\"ticker\":{\"id\":\"063d60a0-41c8-40f1-af9b-9b7ff0374a76\",\"type\":\"BasicTicker\"}},\"id\":\"429c11e2-0317-4458-a36b-148a4aa2a873\",\"type\":\"LinearAxis\"},{\"attributes\":{\"bottom_units\":\"screen\",\"fill_alpha\":{\"value\":0.5},\"fill_color\":{\"value\":\"lightgrey\"},\"left_units\":\"screen\",\"level\":\"overlay\",\"line_alpha\":{\"value\":1.0},\"line_color\":{\"value\":\"black\"},\"line_dash\":[4,4],\"line_width\":{\"value\":2},\"plot\":null,\"render_mode\":\"css\",\"right_units\":\"screen\",\"top_units\":\"screen\"},\"id\":\"432f4400-3000-4ffb-8715-d43f61e288c6\",\"type\":\"BoxAnnotation\"},{\"attributes\":{},\"id\":\"9139bf1f-1b79-4c4f-a104-d987075e9a8c\",\"type\":\"ResetTool\"},{\"attributes\":{},\"id\":\"3b21e6e7-744b-4c9f-ac93-9218030b9b91\",\"type\":\"LinearScale\"},{\"attributes\":{\"source\":{\"id\":\"de06d55d-dc78-4976-b72b-620bc0383d71\",\"type\":\"ColumnDataSource\"}},\"id\":\"5ff24135-0fb2-4203-a45a-619e7f552ad2\",\"type\":\"CDSView\"},{\"attributes\":{},\"id\":\"df82ad1e-e585-4a44-97b8-31f31e4da694\",\"type\":\"LinearScale\"},{\"attributes\":{},\"id\":\"eec82273-4857-4ba3-9a67-065df1809bbc\",\"type\":\"BasicTickFormatter\"},{\"attributes\":{},\"id\":\"d7ef9eac-8bd3-4bc5-b9e7-dd3da21cf0cc\",\"type\":\"SaveTool\"},{\"attributes\":{},\"id\":\"233c60b5-a5af-4ade-a903-f2e56cbc2fbf\",\"type\":\"BasicTicker\"},{\"attributes\":{\"callback\":null},\"id\":\"8e371bc4-1877-47fa-a3e7-e4374763674d\",\"type\":\"DataRange1d\"}],\"root_ids\":[\"77b64f40-fd91-4d9a-80b6-371db764ab1f\"]},\"title\":\"Bokeh Application\",\"version\":\"0.12.13\"}};\n",
       "  var render_items = [{\"docid\":\"45fe6095-e63d-45e0-a4bd-e10f7bab92e0\",\"elementid\":\"5bdb2660-f744-45db-8a55-2f2adfc56524\",\"modelid\":\"77b64f40-fd91-4d9a-80b6-371db764ab1f\"}];\n",
       "  root.Bokeh.embed.embed_items_notebook(docs_json, render_items);\n",
       "\n",
       "  }\n",
       "  if (root.Bokeh !== undefined) {\n",
       "    embed_document(root);\n",
       "  } else {\n",
       "    var attempts = 0;\n",
       "    var timer = setInterval(function(root) {\n",
       "      if (root.Bokeh !== undefined) {\n",
       "        embed_document(root);\n",
       "        clearInterval(timer);\n",
       "      }\n",
       "      attempts++;\n",
       "      if (attempts > 100) {\n",
       "        console.log(\"Bokeh: ERROR: Unable to run BokehJS code because BokehJS library is missing\")\n",
       "        clearInterval(timer);\n",
       "      }\n",
       "    }, 10, root)\n",
       "  }\n",
       "})(window);"
      ],
      "application/vnd.bokehjs_exec.v0+json": ""
     },
     "metadata": {
      "application/vnd.bokehjs_exec.v0+json": {
       "id": "77b64f40-fd91-4d9a-80b6-371db764ab1f"
      }
     },
     "output_type": "display_data"
    }
   ],
   "source": [
    "p = figure(plot_width=400, plot_height=400)\n",
    "p.circle([1,2,3,4,5], [2,5,8,2,7], size=10)\n",
    "\n",
    "# change just some things about the y-grid\n",
    "p.ygrid.minor_grid_line_color = 'navy'\n",
    "p.ygrid.minor_grid_line_alpha = 0.1\n",
    "\n",
    "show(p)"
   ]
  },
  {
   "cell_type": "markdown",
   "metadata": {},
   "source": [
    "### Bands"
   ]
  },
  {
   "cell_type": "code",
   "execution_count": 53,
   "metadata": {},
   "outputs": [
    {
     "data": {
      "text/html": [
       "\n",
       "<div class=\"bk-root\">\n",
       "    <div class=\"bk-plotdiv\" id=\"6e7932cb-c76b-4976-870d-13d7a0983718\"></div>\n",
       "</div>"
      ]
     },
     "metadata": {},
     "output_type": "display_data"
    },
    {
     "data": {
      "application/javascript": [
       "(function(root) {\n",
       "  function embed_document(root) {\n",
       "    \n",
       "  var docs_json = {\"213105af-b63c-4f74-8e7b-1f4fa758b1ea\":{\"roots\":{\"references\":[{\"attributes\":{},\"id\":\"b115eb6c-351b-4d64-8ba0-5ed17574b842\",\"type\":\"SaveTool\"},{\"attributes\":{\"callback\":null},\"id\":\"4072f957-b85b-44a9-aed2-522b279376f5\",\"type\":\"DataRange1d\"},{\"attributes\":{\"data_source\":{\"id\":\"b4fcc09c-c02b-4ffe-8c36-14a03127c706\",\"type\":\"ColumnDataSource\"},\"glyph\":{\"id\":\"f748232e-e1dc-46bd-b505-c398c6f05c20\",\"type\":\"Circle\"},\"hover_glyph\":null,\"muted_glyph\":null,\"nonselection_glyph\":{\"id\":\"3b3f0443-0009-4b7b-a315-025b0d398002\",\"type\":\"Circle\"},\"selection_glyph\":null,\"view\":{\"id\":\"6f61b16e-60b7-4e2c-a2ec-ebef2a294f4e\",\"type\":\"CDSView\"}},\"id\":\"f0723281-9df7-4870-ab11-ee1a01e5c69b\",\"type\":\"GlyphRenderer\"},{\"attributes\":{\"bottom_units\":\"screen\",\"fill_alpha\":{\"value\":0.5},\"fill_color\":{\"value\":\"lightgrey\"},\"left_units\":\"screen\",\"level\":\"overlay\",\"line_alpha\":{\"value\":1.0},\"line_color\":{\"value\":\"black\"},\"line_dash\":[4,4],\"line_width\":{\"value\":2},\"plot\":null,\"render_mode\":\"css\",\"right_units\":\"screen\",\"top_units\":\"screen\"},\"id\":\"4cec6797-494b-4efc-83f0-d236cf990a4b\",\"type\":\"BoxAnnotation\"},{\"attributes\":{},\"id\":\"cd4fbe60-2752-4b9c-8787-787ef4a6bafb\",\"type\":\"BasicTicker\"},{\"attributes\":{},\"id\":\"fcd40ecd-b0e8-4344-a93d-d88b465f2b37\",\"type\":\"BasicTickFormatter\"},{\"attributes\":{\"callback\":null},\"id\":\"70412892-bf12-4043-b14b-18258563c9bb\",\"type\":\"DataRange1d\"},{\"attributes\":{\"grid_line_color\":{\"value\":null},\"plot\":{\"id\":\"2bd25f45-1abe-4f44-a8be-0ef5f23248af\",\"subtype\":\"Figure\",\"type\":\"Plot\"},\"ticker\":{\"id\":\"c1570784-eb97-4fcc-b5f4-7ff773f29747\",\"type\":\"BasicTicker\"}},\"id\":\"d180aabc-8dcb-4e12-bbae-5d089dffcb8a\",\"type\":\"Grid\"},{\"attributes\":{},\"id\":\"53519a53-0f87-4ca1-b7e9-0d6f547cf519\",\"type\":\"ResetTool\"},{\"attributes\":{\"below\":[{\"id\":\"2d394707-624f-485e-a7f0-1a0285c9cdd7\",\"type\":\"LinearAxis\"}],\"left\":[{\"id\":\"924455f4-2312-4015-9dcc-cb16d5248957\",\"type\":\"LinearAxis\"}],\"plot_height\":400,\"plot_width\":400,\"renderers\":[{\"id\":\"2d394707-624f-485e-a7f0-1a0285c9cdd7\",\"type\":\"LinearAxis\"},{\"id\":\"d180aabc-8dcb-4e12-bbae-5d089dffcb8a\",\"type\":\"Grid\"},{\"id\":\"924455f4-2312-4015-9dcc-cb16d5248957\",\"type\":\"LinearAxis\"},{\"id\":\"9d34a731-328e-4845-9911-c80eabe44b66\",\"type\":\"Grid\"},{\"id\":\"4cec6797-494b-4efc-83f0-d236cf990a4b\",\"type\":\"BoxAnnotation\"},{\"id\":\"f0723281-9df7-4870-ab11-ee1a01e5c69b\",\"type\":\"GlyphRenderer\"}],\"title\":{\"id\":\"7c4c757f-bd50-41b2-b3be-6b44165c06b7\",\"type\":\"Title\"},\"toolbar\":{\"id\":\"e6c9d5fd-3520-47de-99dd-f6e614c5cb31\",\"type\":\"Toolbar\"},\"x_range\":{\"id\":\"70412892-bf12-4043-b14b-18258563c9bb\",\"type\":\"DataRange1d\"},\"x_scale\":{\"id\":\"bdf59e74-6e9b-4fde-a0d1-e7e7e0e0ac5a\",\"type\":\"LinearScale\"},\"y_range\":{\"id\":\"4072f957-b85b-44a9-aed2-522b279376f5\",\"type\":\"DataRange1d\"},\"y_scale\":{\"id\":\"7ca9358b-0e36-4835-b120-5d215218bc26\",\"type\":\"LinearScale\"}},\"id\":\"2bd25f45-1abe-4f44-a8be-0ef5f23248af\",\"subtype\":\"Figure\",\"type\":\"Plot\"},{\"attributes\":{\"formatter\":{\"id\":\"b375e30f-b63b-407c-818a-08560568514e\",\"type\":\"BasicTickFormatter\"},\"plot\":{\"id\":\"2bd25f45-1abe-4f44-a8be-0ef5f23248af\",\"subtype\":\"Figure\",\"type\":\"Plot\"},\"ticker\":{\"id\":\"c1570784-eb97-4fcc-b5f4-7ff773f29747\",\"type\":\"BasicTicker\"}},\"id\":\"2d394707-624f-485e-a7f0-1a0285c9cdd7\",\"type\":\"LinearAxis\"},{\"attributes\":{\"band_fill_alpha\":{\"value\":0.1},\"band_fill_color\":{\"value\":\"navy\"},\"dimension\":1,\"plot\":{\"id\":\"2bd25f45-1abe-4f44-a8be-0ef5f23248af\",\"subtype\":\"Figure\",\"type\":\"Plot\"},\"ticker\":{\"id\":\"cd4fbe60-2752-4b9c-8787-787ef4a6bafb\",\"type\":\"BasicTicker\"}},\"id\":\"9d34a731-328e-4845-9911-c80eabe44b66\",\"type\":\"Grid\"},{\"attributes\":{\"callback\":null,\"column_names\":[\"x\",\"y\"],\"data\":{\"x\":[1,2,3,4,5],\"y\":[2,5,8,2,7]}},\"id\":\"b4fcc09c-c02b-4ffe-8c36-14a03127c706\",\"type\":\"ColumnDataSource\"},{\"attributes\":{\"active_drag\":\"auto\",\"active_inspect\":\"auto\",\"active_scroll\":\"auto\",\"active_tap\":\"auto\",\"tools\":[{\"id\":\"36bbf535-e0e3-4e02-8d88-6d2e66d57ed9\",\"type\":\"PanTool\"},{\"id\":\"f85e80d9-fffc-4fdc-aa10-b534ad33a622\",\"type\":\"WheelZoomTool\"},{\"id\":\"d79cf23a-594b-4314-b71f-38a6bc68fe7c\",\"type\":\"BoxZoomTool\"},{\"id\":\"b115eb6c-351b-4d64-8ba0-5ed17574b842\",\"type\":\"SaveTool\"},{\"id\":\"53519a53-0f87-4ca1-b7e9-0d6f547cf519\",\"type\":\"ResetTool\"},{\"id\":\"4526f3d4-641b-45d6-ba45-4af05ab67713\",\"type\":\"HelpTool\"}]},\"id\":\"e6c9d5fd-3520-47de-99dd-f6e614c5cb31\",\"type\":\"Toolbar\"},{\"attributes\":{},\"id\":\"bdf59e74-6e9b-4fde-a0d1-e7e7e0e0ac5a\",\"type\":\"LinearScale\"},{\"attributes\":{},\"id\":\"b375e30f-b63b-407c-818a-08560568514e\",\"type\":\"BasicTickFormatter\"},{\"attributes\":{\"fill_color\":{\"value\":\"#1f77b4\"},\"line_color\":{\"value\":\"#1f77b4\"},\"size\":{\"units\":\"screen\",\"value\":10},\"x\":{\"field\":\"x\"},\"y\":{\"field\":\"y\"}},\"id\":\"f748232e-e1dc-46bd-b505-c398c6f05c20\",\"type\":\"Circle\"},{\"attributes\":{},\"id\":\"c1570784-eb97-4fcc-b5f4-7ff773f29747\",\"type\":\"BasicTicker\"},{\"attributes\":{},\"id\":\"4526f3d4-641b-45d6-ba45-4af05ab67713\",\"type\":\"HelpTool\"},{\"attributes\":{\"plot\":null,\"text\":\"\"},\"id\":\"7c4c757f-bd50-41b2-b3be-6b44165c06b7\",\"type\":\"Title\"},{\"attributes\":{},\"id\":\"36bbf535-e0e3-4e02-8d88-6d2e66d57ed9\",\"type\":\"PanTool\"},{\"attributes\":{},\"id\":\"f85e80d9-fffc-4fdc-aa10-b534ad33a622\",\"type\":\"WheelZoomTool\"},{\"attributes\":{\"formatter\":{\"id\":\"fcd40ecd-b0e8-4344-a93d-d88b465f2b37\",\"type\":\"BasicTickFormatter\"},\"plot\":{\"id\":\"2bd25f45-1abe-4f44-a8be-0ef5f23248af\",\"subtype\":\"Figure\",\"type\":\"Plot\"},\"ticker\":{\"id\":\"cd4fbe60-2752-4b9c-8787-787ef4a6bafb\",\"type\":\"BasicTicker\"}},\"id\":\"924455f4-2312-4015-9dcc-cb16d5248957\",\"type\":\"LinearAxis\"},{\"attributes\":{},\"id\":\"7ca9358b-0e36-4835-b120-5d215218bc26\",\"type\":\"LinearScale\"},{\"attributes\":{\"fill_alpha\":{\"value\":0.1},\"fill_color\":{\"value\":\"#1f77b4\"},\"line_alpha\":{\"value\":0.1},\"line_color\":{\"value\":\"#1f77b4\"},\"size\":{\"units\":\"screen\",\"value\":10},\"x\":{\"field\":\"x\"},\"y\":{\"field\":\"y\"}},\"id\":\"3b3f0443-0009-4b7b-a315-025b0d398002\",\"type\":\"Circle\"},{\"attributes\":{\"source\":{\"id\":\"b4fcc09c-c02b-4ffe-8c36-14a03127c706\",\"type\":\"ColumnDataSource\"}},\"id\":\"6f61b16e-60b7-4e2c-a2ec-ebef2a294f4e\",\"type\":\"CDSView\"},{\"attributes\":{\"overlay\":{\"id\":\"4cec6797-494b-4efc-83f0-d236cf990a4b\",\"type\":\"BoxAnnotation\"}},\"id\":\"d79cf23a-594b-4314-b71f-38a6bc68fe7c\",\"type\":\"BoxZoomTool\"}],\"root_ids\":[\"2bd25f45-1abe-4f44-a8be-0ef5f23248af\"]},\"title\":\"Bokeh Application\",\"version\":\"0.12.13\"}};\n",
       "  var render_items = [{\"docid\":\"213105af-b63c-4f74-8e7b-1f4fa758b1ea\",\"elementid\":\"6e7932cb-c76b-4976-870d-13d7a0983718\",\"modelid\":\"2bd25f45-1abe-4f44-a8be-0ef5f23248af\"}];\n",
       "  root.Bokeh.embed.embed_items_notebook(docs_json, render_items);\n",
       "\n",
       "  }\n",
       "  if (root.Bokeh !== undefined) {\n",
       "    embed_document(root);\n",
       "  } else {\n",
       "    var attempts = 0;\n",
       "    var timer = setInterval(function(root) {\n",
       "      if (root.Bokeh !== undefined) {\n",
       "        embed_document(root);\n",
       "        clearInterval(timer);\n",
       "      }\n",
       "      attempts++;\n",
       "      if (attempts > 100) {\n",
       "        console.log(\"Bokeh: ERROR: Unable to run BokehJS code because BokehJS library is missing\")\n",
       "        clearInterval(timer);\n",
       "      }\n",
       "    }, 10, root)\n",
       "  }\n",
       "})(window);"
      ],
      "application/vnd.bokehjs_exec.v0+json": ""
     },
     "metadata": {
      "application/vnd.bokehjs_exec.v0+json": {
       "id": "2bd25f45-1abe-4f44-a8be-0ef5f23248af"
      }
     },
     "output_type": "display_data"
    }
   ],
   "source": [
    "p = figure(plot_width=400, plot_height=400)\n",
    "p.circle([1,2,3,4,5], [2,5,8,2,7], size=10)\n",
    "\n",
    "# change just some things about the x-grid\n",
    "p.xgrid.grid_line_color = None\n",
    "\n",
    "# change just some things about the y-grid\n",
    "p.ygrid.band_fill_alpha = 0.1\n",
    "p.ygrid.band_fill_color = \"navy\"\n",
    "\n",
    "show(p)"
   ]
  },
  {
   "cell_type": "markdown",
   "metadata": {},
   "source": [
    "### Bounds\n",
    "Grids also support setting explicit bounds between which they are drawn. They are set in an identical fashion to axes bounds, with a 2-tuple of (start, end):"
   ]
  },
  {
   "cell_type": "code",
   "execution_count": 54,
   "metadata": {},
   "outputs": [
    {
     "data": {
      "text/html": [
       "\n",
       "<div class=\"bk-root\">\n",
       "    <div class=\"bk-plotdiv\" id=\"21773dd1-c709-48b3-80e9-124e93e7bd68\"></div>\n",
       "</div>"
      ]
     },
     "metadata": {},
     "output_type": "display_data"
    },
    {
     "data": {
      "application/javascript": [
       "(function(root) {\n",
       "  function embed_document(root) {\n",
       "    \n",
       "  var docs_json = {\"24cc03ae-eb96-4d4d-9150-1c2b1b221674\":{\"roots\":{\"references\":[{\"attributes\":{\"formatter\":{\"id\":\"d2ef2f17-fbbb-4bc8-89a3-4228b6a3aa70\",\"type\":\"BasicTickFormatter\"},\"plot\":{\"id\":\"54516737-ce9c-41ed-8142-e84d83c41abd\",\"subtype\":\"Figure\",\"type\":\"Plot\"},\"ticker\":{\"id\":\"6e3b1dc1-9b7f-417e-b577-411bffd33b06\",\"type\":\"BasicTicker\"}},\"id\":\"10a341be-6966-4641-bb8c-2ae23f6b5bd0\",\"type\":\"LinearAxis\"},{\"attributes\":{\"formatter\":{\"id\":\"81ccbd3f-4197-465e-9501-d7752a2ca0c0\",\"type\":\"BasicTickFormatter\"},\"plot\":{\"id\":\"54516737-ce9c-41ed-8142-e84d83c41abd\",\"subtype\":\"Figure\",\"type\":\"Plot\"},\"ticker\":{\"id\":\"126ecf7b-9ff3-4c82-a991-9a6fb53f1517\",\"type\":\"BasicTicker\"}},\"id\":\"52fe870a-5333-4325-8a50-2738dbf253f4\",\"type\":\"LinearAxis\"},{\"attributes\":{\"fill_alpha\":{\"value\":0.1},\"fill_color\":{\"value\":\"#1f77b4\"},\"line_alpha\":{\"value\":0.1},\"line_color\":{\"value\":\"#1f77b4\"},\"size\":{\"units\":\"screen\",\"value\":10},\"x\":{\"field\":\"x\"},\"y\":{\"field\":\"y\"}},\"id\":\"c571f6d8-5d15-4ac4-945d-a8803f1584c6\",\"type\":\"Circle\"},{\"attributes\":{\"bottom_units\":\"screen\",\"fill_alpha\":{\"value\":0.5},\"fill_color\":{\"value\":\"lightgrey\"},\"left_units\":\"screen\",\"level\":\"overlay\",\"line_alpha\":{\"value\":1.0},\"line_color\":{\"value\":\"black\"},\"line_dash\":[4,4],\"line_width\":{\"value\":2},\"plot\":null,\"render_mode\":\"css\",\"right_units\":\"screen\",\"top_units\":\"screen\"},\"id\":\"2f05b8a7-ffe1-495b-bb38-aa5495762244\",\"type\":\"BoxAnnotation\"},{\"attributes\":{},\"id\":\"126ecf7b-9ff3-4c82-a991-9a6fb53f1517\",\"type\":\"BasicTicker\"},{\"attributes\":{},\"id\":\"6e3b1dc1-9b7f-417e-b577-411bffd33b06\",\"type\":\"BasicTicker\"},{\"attributes\":{\"callback\":null},\"id\":\"aa260e46-08b5-4314-99ed-89a86eb064f7\",\"type\":\"DataRange1d\"},{\"attributes\":{\"below\":[{\"id\":\"52fe870a-5333-4325-8a50-2738dbf253f4\",\"type\":\"LinearAxis\"}],\"left\":[{\"id\":\"10a341be-6966-4641-bb8c-2ae23f6b5bd0\",\"type\":\"LinearAxis\"}],\"plot_height\":400,\"plot_width\":400,\"renderers\":[{\"id\":\"52fe870a-5333-4325-8a50-2738dbf253f4\",\"type\":\"LinearAxis\"},{\"id\":\"d5438c48-2bbf-4781-b3ea-15fb65b5b76b\",\"type\":\"Grid\"},{\"id\":\"10a341be-6966-4641-bb8c-2ae23f6b5bd0\",\"type\":\"LinearAxis\"},{\"id\":\"8918d351-3d2b-4758-9869-ae5f4b365367\",\"type\":\"Grid\"},{\"id\":\"2f05b8a7-ffe1-495b-bb38-aa5495762244\",\"type\":\"BoxAnnotation\"},{\"id\":\"50c9d779-3b86-4d50-be35-161d92cc22ee\",\"type\":\"GlyphRenderer\"}],\"title\":{\"id\":\"c4186afc-7349-4e42-b541-485a776447bf\",\"type\":\"Title\"},\"toolbar\":{\"id\":\"e3ff2c03-feed-4aaf-b101-c7a244675cad\",\"type\":\"Toolbar\"},\"x_range\":{\"id\":\"a073cfd8-d0a6-4a5a-ab7e-dcea0bb25026\",\"type\":\"DataRange1d\"},\"x_scale\":{\"id\":\"5bed0152-b267-4a30-a792-8771f92d7555\",\"type\":\"LinearScale\"},\"y_range\":{\"id\":\"aa260e46-08b5-4314-99ed-89a86eb064f7\",\"type\":\"DataRange1d\"},\"y_scale\":{\"id\":\"09412a5a-7b79-46e4-9f54-77310f0988e4\",\"type\":\"LinearScale\"}},\"id\":\"54516737-ce9c-41ed-8142-e84d83c41abd\",\"subtype\":\"Figure\",\"type\":\"Plot\"},{\"attributes\":{\"overlay\":{\"id\":\"2f05b8a7-ffe1-495b-bb38-aa5495762244\",\"type\":\"BoxAnnotation\"}},\"id\":\"13c2f70f-33cf-45b8-8b5e-a405c2827704\",\"type\":\"BoxZoomTool\"},{\"attributes\":{},\"id\":\"273d2f46-31fe-4c3e-a478-8b948f25cb6e\",\"type\":\"WheelZoomTool\"},{\"attributes\":{},\"id\":\"ad471d88-70f5-4fd6-aff7-20a67acf2854\",\"type\":\"PanTool\"},{\"attributes\":{\"callback\":null,\"column_names\":[\"x\",\"y\"],\"data\":{\"x\":[1,2,3,4,5],\"y\":[2,5,8,2,7]}},\"id\":\"1e5a5c39-5525-4215-8858-a8698d521e8e\",\"type\":\"ColumnDataSource\"},{\"attributes\":{\"fill_color\":{\"value\":\"#1f77b4\"},\"line_color\":{\"value\":\"#1f77b4\"},\"size\":{\"units\":\"screen\",\"value\":10},\"x\":{\"field\":\"x\"},\"y\":{\"field\":\"y\"}},\"id\":\"0106f096-e8b0-4de5-bbc9-0c8015517d35\",\"type\":\"Circle\"},{\"attributes\":{\"bounds\":[2,4],\"dimension\":1,\"plot\":{\"id\":\"54516737-ce9c-41ed-8142-e84d83c41abd\",\"subtype\":\"Figure\",\"type\":\"Plot\"},\"ticker\":{\"id\":\"6e3b1dc1-9b7f-417e-b577-411bffd33b06\",\"type\":\"BasicTicker\"}},\"id\":\"8918d351-3d2b-4758-9869-ae5f4b365367\",\"type\":\"Grid\"},{\"attributes\":{},\"id\":\"d2ef2f17-fbbb-4bc8-89a3-4228b6a3aa70\",\"type\":\"BasicTickFormatter\"},{\"attributes\":{\"plot\":null,\"text\":\"\"},\"id\":\"c4186afc-7349-4e42-b541-485a776447bf\",\"type\":\"Title\"},{\"attributes\":{\"source\":{\"id\":\"1e5a5c39-5525-4215-8858-a8698d521e8e\",\"type\":\"ColumnDataSource\"}},\"id\":\"780756d8-e944-47c7-8224-7c889905ca90\",\"type\":\"CDSView\"},{\"attributes\":{\"callback\":null},\"id\":\"a073cfd8-d0a6-4a5a-ab7e-dcea0bb25026\",\"type\":\"DataRange1d\"},{\"attributes\":{\"data_source\":{\"id\":\"1e5a5c39-5525-4215-8858-a8698d521e8e\",\"type\":\"ColumnDataSource\"},\"glyph\":{\"id\":\"0106f096-e8b0-4de5-bbc9-0c8015517d35\",\"type\":\"Circle\"},\"hover_glyph\":null,\"muted_glyph\":null,\"nonselection_glyph\":{\"id\":\"c571f6d8-5d15-4ac4-945d-a8803f1584c6\",\"type\":\"Circle\"},\"selection_glyph\":null,\"view\":{\"id\":\"780756d8-e944-47c7-8224-7c889905ca90\",\"type\":\"CDSView\"}},\"id\":\"50c9d779-3b86-4d50-be35-161d92cc22ee\",\"type\":\"GlyphRenderer\"},{\"attributes\":{},\"id\":\"81ccbd3f-4197-465e-9501-d7752a2ca0c0\",\"type\":\"BasicTickFormatter\"},{\"attributes\":{},\"id\":\"ecb4e7bd-998e-4692-bb46-9f85dcb6512d\",\"type\":\"HelpTool\"},{\"attributes\":{\"active_drag\":\"auto\",\"active_inspect\":\"auto\",\"active_scroll\":\"auto\",\"active_tap\":\"auto\",\"tools\":[{\"id\":\"ad471d88-70f5-4fd6-aff7-20a67acf2854\",\"type\":\"PanTool\"},{\"id\":\"273d2f46-31fe-4c3e-a478-8b948f25cb6e\",\"type\":\"WheelZoomTool\"},{\"id\":\"13c2f70f-33cf-45b8-8b5e-a405c2827704\",\"type\":\"BoxZoomTool\"},{\"id\":\"8f09ddd7-166d-403f-b2f0-614bb2c73f84\",\"type\":\"SaveTool\"},{\"id\":\"01a3928e-42e1-4a48-83b5-7ae98d8e04bf\",\"type\":\"ResetTool\"},{\"id\":\"ecb4e7bd-998e-4692-bb46-9f85dcb6512d\",\"type\":\"HelpTool\"}]},\"id\":\"e3ff2c03-feed-4aaf-b101-c7a244675cad\",\"type\":\"Toolbar\"},{\"attributes\":{},\"id\":\"5bed0152-b267-4a30-a792-8771f92d7555\",\"type\":\"LinearScale\"},{\"attributes\":{},\"id\":\"01a3928e-42e1-4a48-83b5-7ae98d8e04bf\",\"type\":\"ResetTool\"},{\"attributes\":{},\"id\":\"09412a5a-7b79-46e4-9f54-77310f0988e4\",\"type\":\"LinearScale\"},{\"attributes\":{},\"id\":\"8f09ddd7-166d-403f-b2f0-614bb2c73f84\",\"type\":\"SaveTool\"},{\"attributes\":{\"bounds\":[2,4],\"plot\":{\"id\":\"54516737-ce9c-41ed-8142-e84d83c41abd\",\"subtype\":\"Figure\",\"type\":\"Plot\"},\"ticker\":{\"id\":\"126ecf7b-9ff3-4c82-a991-9a6fb53f1517\",\"type\":\"BasicTicker\"}},\"id\":\"d5438c48-2bbf-4781-b3ea-15fb65b5b76b\",\"type\":\"Grid\"}],\"root_ids\":[\"54516737-ce9c-41ed-8142-e84d83c41abd\"]},\"title\":\"Bokeh Application\",\"version\":\"0.12.13\"}};\n",
       "  var render_items = [{\"docid\":\"24cc03ae-eb96-4d4d-9150-1c2b1b221674\",\"elementid\":\"21773dd1-c709-48b3-80e9-124e93e7bd68\",\"modelid\":\"54516737-ce9c-41ed-8142-e84d83c41abd\"}];\n",
       "  root.Bokeh.embed.embed_items_notebook(docs_json, render_items);\n",
       "\n",
       "  }\n",
       "  if (root.Bokeh !== undefined) {\n",
       "    embed_document(root);\n",
       "  } else {\n",
       "    var attempts = 0;\n",
       "    var timer = setInterval(function(root) {\n",
       "      if (root.Bokeh !== undefined) {\n",
       "        embed_document(root);\n",
       "        clearInterval(timer);\n",
       "      }\n",
       "      attempts++;\n",
       "      if (attempts > 100) {\n",
       "        console.log(\"Bokeh: ERROR: Unable to run BokehJS code because BokehJS library is missing\")\n",
       "        clearInterval(timer);\n",
       "      }\n",
       "    }, 10, root)\n",
       "  }\n",
       "})(window);"
      ],
      "application/vnd.bokehjs_exec.v0+json": ""
     },
     "metadata": {
      "application/vnd.bokehjs_exec.v0+json": {
       "id": "54516737-ce9c-41ed-8142-e84d83c41abd"
      }
     },
     "output_type": "display_data"
    }
   ],
   "source": [
    "p = figure(plot_width=400, plot_height=400)\n",
    "p.circle([1,2,3,4,5], [2,5,8,2,7], size=10)\n",
    "\n",
    "p.grid.bounds = (2, 4)\n",
    "\n",
    "show(p)"
   ]
  },
  {
   "cell_type": "markdown",
   "metadata": {},
   "source": [
    "### Legends"
   ]
  },
  {
   "cell_type": "code",
   "execution_count": 56,
   "metadata": {},
   "outputs": [
    {
     "data": {
      "text/html": [
       "\n",
       "<div class=\"bk-root\">\n",
       "    <div class=\"bk-plotdiv\" id=\"3f1a64bd-bb51-459b-8abb-ec8d352e7210\"></div>\n",
       "</div>"
      ]
     },
     "metadata": {},
     "output_type": "display_data"
    },
    {
     "data": {
      "application/javascript": [
       "(function(root) {\n",
       "  function embed_document(root) {\n",
       "    \n",
       "  var docs_json = {\"640daa80-f380-4ee8-8622-2fe9006a7db9\":{\"roots\":{\"references\":[{\"attributes\":{\"line_alpha\":0.1,\"line_color\":\"#1f77b4\",\"line_dash\":[4,4],\"line_width\":2,\"x\":{\"field\":\"x\"},\"y\":{\"field\":\"y\"}},\"id\":\"d33b75e9-6f2a-47cf-b29a-6107c55c94f1\",\"type\":\"Line\"},{\"attributes\":{\"label\":{\"value\":\"3*sin(x)\"},\"renderers\":[{\"id\":\"fefbfb5f-5ec3-48e8-b733-a268d82f5fa5\",\"type\":\"GlyphRenderer\"},{\"id\":\"0ed8b300-c6c9-4c4d-9ac4-855bf6e2b67d\",\"type\":\"GlyphRenderer\"}]},\"id\":\"a1102880-8f37-48bc-aff5-b71f7ed9dc98\",\"type\":\"LegendItem\"},{\"attributes\":{\"callback\":null},\"id\":\"65d293bb-195b-46e5-80cf-737d7bb17894\",\"type\":\"DataRange1d\"},{\"attributes\":{\"callback\":null,\"column_names\":[\"x\",\"y\"],\"data\":{\"x\":{\"__ndarray__\":\"AAAAAAAAAACRGkt8Vz/AP5EaS3xXP9A/2qdwOgNf2D+RGkt8Vz/gPzXhXVstT+Q/2qdwOgNf6D9+boMZ2W7sP5EaS3xXP/A/433Ua0JH8j814V1bLU/0P4dE50oYV/Y/2qdwOgNf+D8sC/op7mb6P35ugxnZbvw/0NEMCcR2/j+RGkt8Vz8AQDrMD/RMQwFA433Ua0JHAkCML5njN0sDQDXhXVstTwRA3pIi0yJTBUCHROdKGFcGQDD2q8INWwdA2qdwOgNfCECDWTWy+GIJQCwL+inuZgpA1by+oeNqC0B+boMZ2W4MQCcgSJHOcg1A0NEMCcR2DkB5g9GAuXoPQJEaS3xXPxBAZnMtOFLBEEA6zA/0TEMRQA8l8q9HxRFA433Ua0JHEkC41rYnPckSQIwvmeM3SxNAYYh7nzLNE0A14V1bLU8UQAo6QBco0RRA3pIi0yJTFUCz6wSPHdUVQIdE50oYVxZAXJ3JBhPZFkAw9qvCDVsXQAVPjn4I3RdA2qdwOgNfGECuAFP2/eAYQINZNbL4YhlAV7IXbvPkGUAsC/op7mYaQABk3OXo6BpA1by+oeNqG0CpFaFd3uwbQH5ugxnZbhxAUsdl1dPwHEAnIEiRznIdQPt4Kk3J9B1A0NEMCcR2HkCkKu/EvvgeQHmD0YC5eh9ATdyzPLT8H0CRGkt8Vz8gQPtGPNpUgCBAZnMtOFLBIEDQnx6WTwIhQDrMD/RMQyFApPgAUkqEIUAPJfKvR8UhQHlR4w1FBiJA433Ua0JHIkBNqsXJP4giQLjWtic9ySJAIgOohToKI0CML5njN0sjQPZbikE1jCNAYYh7nzLNI0DLtGz9Lw4kQDXhXVstTyRAoA1PuSqQJEAKOkAXKNEkQHRmMXUlEiVA3pIi0yJTJUBJvxMxIJQlQLPrBI8d1SVAHRj27BoWJkCHROdKGFcmQPJw2KgVmCZAXJ3JBhPZJkDGybpkEBonQDD2q8INWydAmyKdIAucJ0AFT45+CN0nQG97f9wFHihA2qdwOgNfKEBE1GGYAKAoQK4AU/b94ChAGC1EVPshKUA=\",\"dtype\":\"float64\",\"shape\":[100]},\"y\":{\"__ndarray__\":\"AAAAAAAAAADoxQO0RU7YP+dMxoI2HOg//C5K/vzW8T/Tua6vYlb3P+nH5xKndfw/AFIvb9iPAEBm8BjVpKACQNka5Ym2ZARADqEya8fUBUD+Gu1b6+oGQBHVYKmoogdAYgGEegr5B0DMzIX9rOwHQM+xeSHDfQdA1L6JxBWuBkB9BRBa/IAFQO0A3yZP+wNAeZ5rTFMjAkDe5Qz1oAAAQDnpZxcIOPs/tv7u/6/+9T/6iGdXvmrwP2wf+wVaJuU/5X710zFA0j+uSTsu9124v2QnUqkVVt6/o9Qx/NsL679m4Ulpoj7zvxQdiFoRqPi/bDUKCPCr/b/J7VIByxoBwPGhyyYpGQPAgTlCLtzIBMCuGkzd8SIGwAOBBKLYIQfAMzIqg3bBB8BzaxsFOv8HwKfUGL4k2gfAJ8c7bs9SB8BSNUOKZ2sGwCX1VkOmJwXAMfGzMMGMA8AjU27aVKEBwC4hWvuS2v6/DwQZ9WTz+b9lsKPjUaH0v8Yvs7GI9O2/YIF44Akr4r8GSRAz01rIvzJJEDPTWsg/aoF44Akr4j/QL7OxiPTtP2Cwo+NRofQ/FAQZ9WTz+T8qIVr7ktr+PyVTbtpUoQFAMPGzMMGMA0Am9VZDpicFQFE1Q4pnawZAKMc7bs9SB0Cn1Bi+JNoHQHNrGwU6/wdANDIqg3bBB0ACgQSi2CEHQLAaTN3xIgZAfTlCLtzIBEDwocsmKRkDQMntUgHLGgFAcTUKCPCr/T8MHYhaEaj4P2HhSWmiPvM/pNQx/NsL6z99J1KpFVbeP/ZIOy73Xbg/+n710zFA0r9fH/sFWiblv+6IZ1e+avC/uv7u/6/+9b846WcXCDj7v9vlDPWgAADAfJ5rTFMjAsDuAN8mT/sDwH0FEFr8gAXA076JxBWuBsDQsXkhw30HwMzMhf2s7AfAYgGEegr5B8AS1WCpqKIHwPwa7Vvr6gbADqEya8fUBcDaGuWJtmQEwGnwGNWkoALA/VEvb9iPAMDpx+cSp3X8v9a5rq9iVve/8C5K/vzW8b/bTMaCNhzov+rFA7RFTti/CoqeTDl52rw=\",\"dtype\":\"float64\",\"shape\":[100]}}},\"id\":\"d3c47c7f-7fee-4b32-bf40-4494a799a31a\",\"type\":\"ColumnDataSource\"},{\"attributes\":{\"line_alpha\":0.1,\"line_color\":\"#1f77b4\",\"x\":{\"field\":\"x\"},\"y\":{\"field\":\"y\"}},\"id\":\"2e4296ff-e2ba-478e-8198-9c481a5a743f\",\"type\":\"Line\"},{\"attributes\":{\"source\":{\"id\":\"d649f874-75b9-4ed4-a356-3cca4ace4384\",\"type\":\"ColumnDataSource\"}},\"id\":\"c7270afe-18be-4999-8456-8523e4834a77\",\"type\":\"CDSView\"},{\"attributes\":{},\"id\":\"740f2523-a553-4b7e-bb01-0ca0e707684d\",\"type\":\"HelpTool\"},{\"attributes\":{\"callback\":null},\"id\":\"0dba81d6-4ba0-42b8-9bc9-b25e4bdd462d\",\"type\":\"DataRange1d\"},{\"attributes\":{\"dimension\":1,\"plot\":{\"id\":\"ce6a8450-07c5-4a22-b1b1-1ba9582d890a\",\"subtype\":\"Figure\",\"type\":\"Plot\"},\"ticker\":{\"id\":\"1fb1c2a7-512c-4fae-a134-c1cf37675c9a\",\"type\":\"BasicTicker\"}},\"id\":\"825d0a54-df5e-460d-9971-92f0db34e22c\",\"type\":\"Grid\"},{\"attributes\":{\"line_color\":\"orange\",\"line_dash\":[4,4],\"line_width\":2,\"x\":{\"field\":\"x\"},\"y\":{\"field\":\"y\"}},\"id\":\"ac96b06c-c5fa-46e4-bf2f-687b3ad58f57\",\"type\":\"Line\"},{\"attributes\":{\"line_alpha\":0.1,\"line_color\":\"#1f77b4\",\"x\":{\"field\":\"x\"},\"y\":{\"field\":\"y\"}},\"id\":\"a0712a4e-772c-4856-8ed3-179c53b703ba\",\"type\":\"Line\"},{\"attributes\":{\"fill_alpha\":{\"value\":0.1},\"fill_color\":{\"value\":\"#1f77b4\"},\"line_alpha\":{\"value\":0.1},\"line_color\":{\"value\":\"#1f77b4\"},\"x\":{\"field\":\"x\"},\"y\":{\"field\":\"y\"}},\"id\":\"2d3af8a8-afd0-4581-a5e1-e70b12cdbc20\",\"type\":\"Square\"},{\"attributes\":{\"data_source\":{\"id\":\"d3c47c7f-7fee-4b32-bf40-4494a799a31a\",\"type\":\"ColumnDataSource\"},\"glyph\":{\"id\":\"f835bb23-dd4b-473e-a81c-c2f18660ca14\",\"type\":\"Line\"},\"hover_glyph\":null,\"muted_glyph\":null,\"nonselection_glyph\":{\"id\":\"2e4296ff-e2ba-478e-8198-9c481a5a743f\",\"type\":\"Line\"},\"selection_glyph\":null,\"view\":{\"id\":\"ac9e6604-47c2-467c-9c0e-1c2e9d02f10a\",\"type\":\"CDSView\"}},\"id\":\"0ed8b300-c6c9-4c4d-9ac4-855bf6e2b67d\",\"type\":\"GlyphRenderer\"},{\"attributes\":{\"line_color\":\"green\",\"x\":{\"field\":\"x\"},\"y\":{\"field\":\"y\"}},\"id\":\"f835bb23-dd4b-473e-a81c-c2f18660ca14\",\"type\":\"Line\"},{\"attributes\":{\"bottom_units\":\"screen\",\"fill_alpha\":{\"value\":0.5},\"fill_color\":{\"value\":\"lightgrey\"},\"left_units\":\"screen\",\"level\":\"overlay\",\"line_alpha\":{\"value\":1.0},\"line_color\":{\"value\":\"black\"},\"line_dash\":[4,4],\"line_width\":{\"value\":2},\"plot\":null,\"render_mode\":\"css\",\"right_units\":\"screen\",\"top_units\":\"screen\"},\"id\":\"81690db2-ddc0-463a-8637-8f6bb05f4fe0\",\"type\":\"BoxAnnotation\"},{\"attributes\":{\"fill_color\":{\"value\":null},\"line_color\":{\"value\":\"green\"},\"x\":{\"field\":\"x\"},\"y\":{\"field\":\"y\"}},\"id\":\"37fda59e-b204-486e-ba8d-ea056fd5aea2\",\"type\":\"Square\"},{\"attributes\":{\"fill_color\":{\"value\":\"#1f77b4\"},\"line_color\":{\"value\":\"#1f77b4\"},\"x\":{\"field\":\"x\"},\"y\":{\"field\":\"y\"}},\"id\":\"876dd27f-e348-4ba1-a10c-6253e358aa99\",\"type\":\"Circle\"},{\"attributes\":{\"formatter\":{\"id\":\"c957aeae-4ef0-4fa5-8d10-c7021220ccbd\",\"type\":\"BasicTickFormatter\"},\"plot\":{\"id\":\"ce6a8450-07c5-4a22-b1b1-1ba9582d890a\",\"subtype\":\"Figure\",\"type\":\"Plot\"},\"ticker\":{\"id\":\"75511c60-25c9-4591-ab5b-855de2e1d70b\",\"type\":\"BasicTicker\"}},\"id\":\"8a06f754-03b5-45e1-96f1-0c72c07444c8\",\"type\":\"LinearAxis\"},{\"attributes\":{},\"id\":\"100a6908-4405-4160-b762-6c941d3a53be\",\"type\":\"LinearScale\"},{\"attributes\":{\"source\":{\"id\":\"d3c47c7f-7fee-4b32-bf40-4494a799a31a\",\"type\":\"ColumnDataSource\"}},\"id\":\"ac9e6604-47c2-467c-9c0e-1c2e9d02f10a\",\"type\":\"CDSView\"},{\"attributes\":{},\"id\":\"e2031b18-2294-4afa-83ad-cdc5c9a1c812\",\"type\":\"LinearScale\"},{\"attributes\":{\"below\":[{\"id\":\"8a06f754-03b5-45e1-96f1-0c72c07444c8\",\"type\":\"LinearAxis\"}],\"left\":[{\"id\":\"77b92eb7-50d9-4d5a-b968-ad64ee9bfdce\",\"type\":\"LinearAxis\"}],\"renderers\":[{\"id\":\"8a06f754-03b5-45e1-96f1-0c72c07444c8\",\"type\":\"LinearAxis\"},{\"id\":\"faa3faa9-fc3c-4966-9fd7-1a01188241b6\",\"type\":\"Grid\"},{\"id\":\"77b92eb7-50d9-4d5a-b968-ad64ee9bfdce\",\"type\":\"LinearAxis\"},{\"id\":\"825d0a54-df5e-460d-9971-92f0db34e22c\",\"type\":\"Grid\"},{\"id\":\"81690db2-ddc0-463a-8637-8f6bb05f4fe0\",\"type\":\"BoxAnnotation\"},{\"id\":\"18399629-14a7-46fe-a6b1-dfc7d3a66904\",\"type\":\"Legend\"},{\"id\":\"dfc36358-952c-4a95-8670-c92ecd2bc7e3\",\"type\":\"GlyphRenderer\"},{\"id\":\"8e3db421-7c10-4e2f-8f9c-369b24e6abe9\",\"type\":\"GlyphRenderer\"},{\"id\":\"ed675e85-b538-4973-892b-c8a671ceb063\",\"type\":\"GlyphRenderer\"},{\"id\":\"fefbfb5f-5ec3-48e8-b733-a268d82f5fa5\",\"type\":\"GlyphRenderer\"},{\"id\":\"0ed8b300-c6c9-4c4d-9ac4-855bf6e2b67d\",\"type\":\"GlyphRenderer\"}],\"title\":{\"id\":\"ff09fdb9-9dbc-456a-bccd-f4adf598fb4b\",\"type\":\"Title\"},\"toolbar\":{\"id\":\"5a4e4100-d807-4d11-89df-f75fd5e7a9c2\",\"type\":\"Toolbar\"},\"x_range\":{\"id\":\"0dba81d6-4ba0-42b8-9bc9-b25e4bdd462d\",\"type\":\"DataRange1d\"},\"x_scale\":{\"id\":\"100a6908-4405-4160-b762-6c941d3a53be\",\"type\":\"LinearScale\"},\"y_range\":{\"id\":\"65d293bb-195b-46e5-80cf-737d7bb17894\",\"type\":\"DataRange1d\"},\"y_scale\":{\"id\":\"e2031b18-2294-4afa-83ad-cdc5c9a1c812\",\"type\":\"LinearScale\"}},\"id\":\"ce6a8450-07c5-4a22-b1b1-1ba9582d890a\",\"subtype\":\"Figure\",\"type\":\"Plot\"},{\"attributes\":{},\"id\":\"48b84941-0033-40c2-a9bd-f952ec2a24d6\",\"type\":\"BasicTickFormatter\"},{\"attributes\":{\"callback\":null,\"column_names\":[\"x\",\"y\"],\"data\":{\"x\":{\"__ndarray__\":\"AAAAAAAAAACRGkt8Vz/AP5EaS3xXP9A/2qdwOgNf2D+RGkt8Vz/gPzXhXVstT+Q/2qdwOgNf6D9+boMZ2W7sP5EaS3xXP/A/433Ua0JH8j814V1bLU/0P4dE50oYV/Y/2qdwOgNf+D8sC/op7mb6P35ugxnZbvw/0NEMCcR2/j+RGkt8Vz8AQDrMD/RMQwFA433Ua0JHAkCML5njN0sDQDXhXVstTwRA3pIi0yJTBUCHROdKGFcGQDD2q8INWwdA2qdwOgNfCECDWTWy+GIJQCwL+inuZgpA1by+oeNqC0B+boMZ2W4MQCcgSJHOcg1A0NEMCcR2DkB5g9GAuXoPQJEaS3xXPxBAZnMtOFLBEEA6zA/0TEMRQA8l8q9HxRFA433Ua0JHEkC41rYnPckSQIwvmeM3SxNAYYh7nzLNE0A14V1bLU8UQAo6QBco0RRA3pIi0yJTFUCz6wSPHdUVQIdE50oYVxZAXJ3JBhPZFkAw9qvCDVsXQAVPjn4I3RdA2qdwOgNfGECuAFP2/eAYQINZNbL4YhlAV7IXbvPkGUAsC/op7mYaQABk3OXo6BpA1by+oeNqG0CpFaFd3uwbQH5ugxnZbhxAUsdl1dPwHEAnIEiRznIdQPt4Kk3J9B1A0NEMCcR2HkCkKu/EvvgeQHmD0YC5eh9ATdyzPLT8H0CRGkt8Vz8gQPtGPNpUgCBAZnMtOFLBIEDQnx6WTwIhQDrMD/RMQyFApPgAUkqEIUAPJfKvR8UhQHlR4w1FBiJA433Ua0JHIkBNqsXJP4giQLjWtic9ySJAIgOohToKI0CML5njN0sjQPZbikE1jCNAYYh7nzLNI0DLtGz9Lw4kQDXhXVstTyRAoA1PuSqQJEAKOkAXKNEkQHRmMXUlEiVA3pIi0yJTJUBJvxMxIJQlQLPrBI8d1SVAHRj27BoWJkCHROdKGFcmQPJw2KgVmCZAXJ3JBhPZJkDGybpkEBonQDD2q8INWydAmyKdIAucJ0AFT45+CN0nQG97f9wFHihA2qdwOgNfKEBE1GGYAKAoQK4AU/b94ChAGC1EVPshKUA=\",\"dtype\":\"float64\",\"shape\":[100]},\"y\":{\"__ndarray__\":\"AAAAAAAAAADwgwJ4LjTAP5qI2QHPEtA/+5MNU1HJ1z8ZTT7q2B3fP0aFmgwa+eI/ABg/lCAV5j+IQCEcMdboP3fOhmLzMOs/EyzujrQb7T/9Izwlj47uPxccgYyLg+8/g6xao7j27z9mZrL8O+bvP7+X94FZUu8/xVNiW3I97j9RB8Ai+6vsP5FWKYlppOo/oSg6uxkv6D/Sh2bxK1blPyZGRbpaJeI/8qg+VZVT3T/4C4p0qOPVP+UppLIiM8w/3FNHxZdVuD/J23zJpD6gv+3ENsZjOcS/wo12/ecH0r/dgWKM2KjZv2MTsJELcOC/83ixWvXH47+358MBZM7mv5eCD4nhdum/rExY6Hq267+TIxAn7YPtvwSssILL1+6/70I4BJ6s77/vOc8G+P7vvzTGy1KGze+/3176khQZ77/C8a4NiuTtvzGcHq/dNOy/l0FFlgER6r+EGZN4xoHnvx8WPFK3keS/Cli7+O1M4b+HQNqEwoHbv9kfIiFb+NO/gKyggGI5yL8EhrXMjDywvyGGtcyMPLA/jqyggGI5yD/gHyIhW/jTP4BA2oTCgds/DVi7+O1M4T8cFjxSt5HkP4cZk3jGgec/lUFFlgER6j8ynB6v3TTsP8Hxrg2K5O0/4F76khQZ7z80xstShs3vP+85zwb4/u8/8EI4BJ6s7z8DrLCCy9fuP5UjECftg+0/p0xY6Hq26z+Vgg+J4XbpP7fnwwFkzuY/9nixWvXH4z9dE7CRC3DgP9eBYozYqNk/w412/ecH0j/+xDbGYznEP0/bfMmkPqA/+FNHxZdVuL/UKaSyIjPMv+gLinSo49W/+Kg+VZVT3b8lRkW6WiXiv8+HZvErVuW/pig6uxkv6L+TVimJaaTqv1EHwCL7q+y/xFNiW3I97r/Al/eBWVLvv2Zmsvw75u+/g6xao7j2778YHIGMi4Pvv/sjPCWPju6/EyzujrQb7b94zoZi8zDrv4xAIRwx1ui//Bc/lCAV5r9GhZoMGvnivx5NPurYHd+/65MNU1HJ17+SiNkBzxLQv/GDAnguNMC/B1wUMyamwbw=\",\"dtype\":\"float64\",\"shape\":[100]}}},\"id\":\"fa05ee61-6b44-485e-a7e4-d4f81ca4b66e\",\"type\":\"ColumnDataSource\"},{\"attributes\":{},\"id\":\"c957aeae-4ef0-4fa5-8d10-c7021220ccbd\",\"type\":\"BasicTickFormatter\"},{\"attributes\":{\"plot\":{\"id\":\"ce6a8450-07c5-4a22-b1b1-1ba9582d890a\",\"subtype\":\"Figure\",\"type\":\"Plot\"},\"ticker\":{\"id\":\"75511c60-25c9-4591-ab5b-855de2e1d70b\",\"type\":\"BasicTicker\"}},\"id\":\"faa3faa9-fc3c-4966-9fd7-1a01188241b6\",\"type\":\"Grid\"},{\"attributes\":{\"data_source\":{\"id\":\"2ab9742b-aa97-4c62-bf78-aea9d3713d4e\",\"type\":\"ColumnDataSource\"},\"glyph\":{\"id\":\"37fda59e-b204-486e-ba8d-ea056fd5aea2\",\"type\":\"Square\"},\"hover_glyph\":null,\"muted_glyph\":null,\"nonselection_glyph\":{\"id\":\"2d3af8a8-afd0-4581-a5e1-e70b12cdbc20\",\"type\":\"Square\"},\"selection_glyph\":null,\"view\":{\"id\":\"93275bdd-bb42-4907-8141-1677a78a7a8e\",\"type\":\"CDSView\"}},\"id\":\"fefbfb5f-5ec3-48e8-b733-a268d82f5fa5\",\"type\":\"GlyphRenderer\"},{\"attributes\":{\"line_color\":\"#1f77b4\",\"x\":{\"field\":\"x\"},\"y\":{\"field\":\"y\"}},\"id\":\"d6695d8a-8da1-4c9d-a7c7-5d21c5479421\",\"type\":\"Line\"},{\"attributes\":{\"callback\":null,\"column_names\":[\"x\",\"y\"],\"data\":{\"x\":{\"__ndarray__\":\"AAAAAAAAAACRGkt8Vz/AP5EaS3xXP9A/2qdwOgNf2D+RGkt8Vz/gPzXhXVstT+Q/2qdwOgNf6D9+boMZ2W7sP5EaS3xXP/A/433Ua0JH8j814V1bLU/0P4dE50oYV/Y/2qdwOgNf+D8sC/op7mb6P35ugxnZbvw/0NEMCcR2/j+RGkt8Vz8AQDrMD/RMQwFA433Ua0JHAkCML5njN0sDQDXhXVstTwRA3pIi0yJTBUCHROdKGFcGQDD2q8INWwdA2qdwOgNfCECDWTWy+GIJQCwL+inuZgpA1by+oeNqC0B+boMZ2W4MQCcgSJHOcg1A0NEMCcR2DkB5g9GAuXoPQJEaS3xXPxBAZnMtOFLBEEA6zA/0TEMRQA8l8q9HxRFA433Ua0JHEkC41rYnPckSQIwvmeM3SxNAYYh7nzLNE0A14V1bLU8UQAo6QBco0RRA3pIi0yJTFUCz6wSPHdUVQIdE50oYVxZAXJ3JBhPZFkAw9qvCDVsXQAVPjn4I3RdA2qdwOgNfGECuAFP2/eAYQINZNbL4YhlAV7IXbvPkGUAsC/op7mYaQABk3OXo6BpA1by+oeNqG0CpFaFd3uwbQH5ugxnZbhxAUsdl1dPwHEAnIEiRznIdQPt4Kk3J9B1A0NEMCcR2HkCkKu/EvvgeQHmD0YC5eh9ATdyzPLT8H0CRGkt8Vz8gQPtGPNpUgCBAZnMtOFLBIEDQnx6WTwIhQDrMD/RMQyFApPgAUkqEIUAPJfKvR8UhQHlR4w1FBiJA433Ua0JHIkBNqsXJP4giQLjWtic9ySJAIgOohToKI0CML5njN0sjQPZbikE1jCNAYYh7nzLNI0DLtGz9Lw4kQDXhXVstTyRAoA1PuSqQJEAKOkAXKNEkQHRmMXUlEiVA3pIi0yJTJUBJvxMxIJQlQLPrBI8d1SVAHRj27BoWJkCHROdKGFcmQPJw2KgVmCZAXJ3JBhPZJkDGybpkEBonQDD2q8INWydAmyKdIAucJ0AFT45+CN0nQG97f9wFHihA2qdwOgNfKEBE1GGYAKAoQK4AU/b94ChAGC1EVPshKUA=\",\"dtype\":\"float64\",\"shape\":[100]},\"y\":{\"__ndarray__\":\"AAAAAAAAAADwgwJ4LjTQP5qI2QHPEuA/+5MNU1HJ5z8ZTT7q2B3vP0aFmgwa+fI/ABg/lCAV9j+IQCEcMdb4P3fOhmLzMPs/EyzujrQb/T/9Izwlj47+PxccgYyLg/8/g6xao7j2/z9mZrL8O+b/P7+X94FZUv8/xVNiW3I9/j9RB8Ai+6v8P5FWKYlppPo/oSg6uxkv+D/Sh2bxK1b1PyZGRbpaJfI/8qg+VZVT7T/4C4p0qOPlP+UppLIiM9w/3FNHxZdVyD/J23zJpD6wv+3ENsZjOdS/wo12/ecH4r/dgWKM2Kjpv2MTsJELcPC/83ixWvXH87+358MBZM72v5eCD4nhdvm/rExY6Hq2+7+TIxAn7YP9vwSssILL1/6/70I4BJ6s/7/vOc8G+P7/vzTGy1KGzf+/3176khQZ/7/C8a4NiuT9vzGcHq/dNPy/l0FFlgER+r+EGZN4xoH3vx8WPFK3kfS/Cli7+O1M8b+HQNqEwoHrv9kfIiFb+OO/gKyggGI52L8EhrXMjDzAvyGGtcyMPMA/jqyggGI52D/gHyIhW/jjP4BA2oTCges/DVi7+O1M8T8cFjxSt5H0P4cZk3jGgfc/lUFFlgER+j8ynB6v3TT8P8Hxrg2K5P0/4F76khQZ/z80xstShs3/P+85zwb4/v8/8EI4BJ6s/z8DrLCCy9f+P5UjECftg/0/p0xY6Hq2+z+Vgg+J4Xb5P7fnwwFkzvY/9nixWvXH8z9dE7CRC3DwP9eBYozYqOk/w412/ecH4j/+xDbGYznUP0/bfMmkPrA/+FNHxZdVyL/UKaSyIjPcv+gLinSo4+W/+Kg+VZVT7b8lRkW6WiXyv8+HZvErVvW/pig6uxkv+L+TVimJaaT6v1EHwCL7q/y/xFNiW3I9/r/Al/eBWVL/v2Zmsvw75v+/g6xao7j2/78YHIGMi4P/v/sjPCWPjv6/EyzujrQb/b94zoZi8zD7v4xAIRwx1vi//Bc/lCAV9r9GhZoMGvnyvx5NPurYHe+/65MNU1HJ57+SiNkBzxLgv/GDAnguNNC/B1wUMyam0bw=\",\"dtype\":\"float64\",\"shape\":[100]}}},\"id\":\"d649f874-75b9-4ed4-a356-3cca4ace4384\",\"type\":\"ColumnDataSource\"},{\"attributes\":{\"callback\":null,\"column_names\":[\"x\",\"y\"],\"data\":{\"x\":{\"__ndarray__\":\"AAAAAAAAAACRGkt8Vz/AP5EaS3xXP9A/2qdwOgNf2D+RGkt8Vz/gPzXhXVstT+Q/2qdwOgNf6D9+boMZ2W7sP5EaS3xXP/A/433Ua0JH8j814V1bLU/0P4dE50oYV/Y/2qdwOgNf+D8sC/op7mb6P35ugxnZbvw/0NEMCcR2/j+RGkt8Vz8AQDrMD/RMQwFA433Ua0JHAkCML5njN0sDQDXhXVstTwRA3pIi0yJTBUCHROdKGFcGQDD2q8INWwdA2qdwOgNfCECDWTWy+GIJQCwL+inuZgpA1by+oeNqC0B+boMZ2W4MQCcgSJHOcg1A0NEMCcR2DkB5g9GAuXoPQJEaS3xXPxBAZnMtOFLBEEA6zA/0TEMRQA8l8q9HxRFA433Ua0JHEkC41rYnPckSQIwvmeM3SxNAYYh7nzLNE0A14V1bLU8UQAo6QBco0RRA3pIi0yJTFUCz6wSPHdUVQIdE50oYVxZAXJ3JBhPZFkAw9qvCDVsXQAVPjn4I3RdA2qdwOgNfGECuAFP2/eAYQINZNbL4YhlAV7IXbvPkGUAsC/op7mYaQABk3OXo6BpA1by+oeNqG0CpFaFd3uwbQH5ugxnZbhxAUsdl1dPwHEAnIEiRznIdQPt4Kk3J9B1A0NEMCcR2HkCkKu/EvvgeQHmD0YC5eh9ATdyzPLT8H0CRGkt8Vz8gQPtGPNpUgCBAZnMtOFLBIEDQnx6WTwIhQDrMD/RMQyFApPgAUkqEIUAPJfKvR8UhQHlR4w1FBiJA433Ua0JHIkBNqsXJP4giQLjWtic9ySJAIgOohToKI0CML5njN0sjQPZbikE1jCNAYYh7nzLNI0DLtGz9Lw4kQDXhXVstTyRAoA1PuSqQJEAKOkAXKNEkQHRmMXUlEiVA3pIi0yJTJUBJvxMxIJQlQLPrBI8d1SVAHRj27BoWJkCHROdKGFcmQPJw2KgVmCZAXJ3JBhPZJkDGybpkEBonQDD2q8INWydAmyKdIAucJ0AFT45+CN0nQG97f9wFHihA2qdwOgNfKEBE1GGYAKAoQK4AU/b94ChAGC1EVPshKUA=\",\"dtype\":\"float64\",\"shape\":[100]},\"y\":{\"__ndarray__\":\"AAAAAAAAAADwgwJ4LjTAP5qI2QHPEtA/+5MNU1HJ1z8ZTT7q2B3fP0aFmgwa+eI/ABg/lCAV5j+IQCEcMdboP3fOhmLzMOs/EyzujrQb7T/9Izwlj47uPxccgYyLg+8/g6xao7j27z9mZrL8O+bvP7+X94FZUu8/xVNiW3I97j9RB8Ai+6vsP5FWKYlppOo/oSg6uxkv6D/Sh2bxK1blPyZGRbpaJeI/8qg+VZVT3T/4C4p0qOPVP+UppLIiM8w/3FNHxZdVuD/J23zJpD6gv+3ENsZjOcS/wo12/ecH0r/dgWKM2KjZv2MTsJELcOC/83ixWvXH47+358MBZM7mv5eCD4nhdum/rExY6Hq267+TIxAn7YPtvwSssILL1+6/70I4BJ6s77/vOc8G+P7vvzTGy1KGze+/3176khQZ77/C8a4NiuTtvzGcHq/dNOy/l0FFlgER6r+EGZN4xoHnvx8WPFK3keS/Cli7+O1M4b+HQNqEwoHbv9kfIiFb+NO/gKyggGI5yL8EhrXMjDywvyGGtcyMPLA/jqyggGI5yD/gHyIhW/jTP4BA2oTCgds/DVi7+O1M4T8cFjxSt5HkP4cZk3jGgec/lUFFlgER6j8ynB6v3TTsP8Hxrg2K5O0/4F76khQZ7z80xstShs3vP+85zwb4/u8/8EI4BJ6s7z8DrLCCy9fuP5UjECftg+0/p0xY6Hq26z+Vgg+J4XbpP7fnwwFkzuY/9nixWvXH4z9dE7CRC3DgP9eBYozYqNk/w412/ecH0j/+xDbGYznEP0/bfMmkPqA/+FNHxZdVuL/UKaSyIjPMv+gLinSo49W/+Kg+VZVT3b8lRkW6WiXiv8+HZvErVuW/pig6uxkv6L+TVimJaaTqv1EHwCL7q+y/xFNiW3I97r/Al/eBWVLvv2Zmsvw75u+/g6xao7j2778YHIGMi4Pvv/sjPCWPju6/EyzujrQb7b94zoZi8zDrv4xAIRwx1ui//Bc/lCAV5r9GhZoMGvnivx5NPurYHd+/65MNU1HJ17+SiNkBzxLQv/GDAnguNMC/B1wUMyamwbw=\",\"dtype\":\"float64\",\"shape\":[100]}}},\"id\":\"9075c8a0-bb7c-4eb3-91ee-26b0c09fe401\",\"type\":\"ColumnDataSource\"},{\"attributes\":{\"data_source\":{\"id\":\"d649f874-75b9-4ed4-a356-3cca4ace4384\",\"type\":\"ColumnDataSource\"},\"glyph\":{\"id\":\"ac96b06c-c5fa-46e4-bf2f-687b3ad58f57\",\"type\":\"Line\"},\"hover_glyph\":null,\"muted_glyph\":null,\"nonselection_glyph\":{\"id\":\"d33b75e9-6f2a-47cf-b29a-6107c55c94f1\",\"type\":\"Line\"},\"selection_glyph\":null,\"view\":{\"id\":\"c7270afe-18be-4999-8456-8523e4834a77\",\"type\":\"CDSView\"}},\"id\":\"ed675e85-b538-4973-892b-c8a671ceb063\",\"type\":\"GlyphRenderer\"},{\"attributes\":{},\"id\":\"1fb1c2a7-512c-4fae-a134-c1cf37675c9a\",\"type\":\"BasicTicker\"},{\"attributes\":{},\"id\":\"75511c60-25c9-4591-ab5b-855de2e1d70b\",\"type\":\"BasicTicker\"},{\"attributes\":{\"label\":{\"value\":\"sin(x)\"},\"renderers\":[{\"id\":\"dfc36358-952c-4a95-8670-c92ecd2bc7e3\",\"type\":\"GlyphRenderer\"},{\"id\":\"8e3db421-7c10-4e2f-8f9c-369b24e6abe9\",\"type\":\"GlyphRenderer\"}]},\"id\":\"dcc88ff4-84ca-4383-8759-4e17f088967d\",\"type\":\"LegendItem\"},{\"attributes\":{\"overlay\":{\"id\":\"81690db2-ddc0-463a-8637-8f6bb05f4fe0\",\"type\":\"BoxAnnotation\"}},\"id\":\"ab34d976-1acc-4af4-9ab2-cad6252fe121\",\"type\":\"BoxZoomTool\"},{\"attributes\":{\"data_source\":{\"id\":\"9075c8a0-bb7c-4eb3-91ee-26b0c09fe401\",\"type\":\"ColumnDataSource\"},\"glyph\":{\"id\":\"d6695d8a-8da1-4c9d-a7c7-5d21c5479421\",\"type\":\"Line\"},\"hover_glyph\":null,\"muted_glyph\":null,\"nonselection_glyph\":{\"id\":\"a0712a4e-772c-4856-8ed3-179c53b703ba\",\"type\":\"Line\"},\"selection_glyph\":null,\"view\":{\"id\":\"4fe4901d-fbed-4c84-ba6e-7e1a745f04ca\",\"type\":\"CDSView\"}},\"id\":\"8e3db421-7c10-4e2f-8f9c-369b24e6abe9\",\"type\":\"GlyphRenderer\"},{\"attributes\":{\"active_drag\":\"auto\",\"active_inspect\":\"auto\",\"active_scroll\":\"auto\",\"active_tap\":\"auto\",\"tools\":[{\"id\":\"42b48a2b-cd40-4d27-b599-8a178c8b0b2a\",\"type\":\"PanTool\"},{\"id\":\"145c109c-aa04-459f-a3c5-282651d501df\",\"type\":\"WheelZoomTool\"},{\"id\":\"ab34d976-1acc-4af4-9ab2-cad6252fe121\",\"type\":\"BoxZoomTool\"},{\"id\":\"0b6ab2e2-82fe-47fc-adbf-9ec0c2f07201\",\"type\":\"SaveTool\"},{\"id\":\"581f83e7-a34c-4d41-a4c3-84f42ac6157c\",\"type\":\"ResetTool\"},{\"id\":\"740f2523-a553-4b7e-bb01-0ca0e707684d\",\"type\":\"HelpTool\"}]},\"id\":\"5a4e4100-d807-4d11-89df-f75fd5e7a9c2\",\"type\":\"Toolbar\"},{\"attributes\":{\"callback\":null,\"column_names\":[\"x\",\"y\"],\"data\":{\"x\":{\"__ndarray__\":\"AAAAAAAAAACRGkt8Vz/AP5EaS3xXP9A/2qdwOgNf2D+RGkt8Vz/gPzXhXVstT+Q/2qdwOgNf6D9+boMZ2W7sP5EaS3xXP/A/433Ua0JH8j814V1bLU/0P4dE50oYV/Y/2qdwOgNf+D8sC/op7mb6P35ugxnZbvw/0NEMCcR2/j+RGkt8Vz8AQDrMD/RMQwFA433Ua0JHAkCML5njN0sDQDXhXVstTwRA3pIi0yJTBUCHROdKGFcGQDD2q8INWwdA2qdwOgNfCECDWTWy+GIJQCwL+inuZgpA1by+oeNqC0B+boMZ2W4MQCcgSJHOcg1A0NEMCcR2DkB5g9GAuXoPQJEaS3xXPxBAZnMtOFLBEEA6zA/0TEMRQA8l8q9HxRFA433Ua0JHEkC41rYnPckSQIwvmeM3SxNAYYh7nzLNE0A14V1bLU8UQAo6QBco0RRA3pIi0yJTFUCz6wSPHdUVQIdE50oYVxZAXJ3JBhPZFkAw9qvCDVsXQAVPjn4I3RdA2qdwOgNfGECuAFP2/eAYQINZNbL4YhlAV7IXbvPkGUAsC/op7mYaQABk3OXo6BpA1by+oeNqG0CpFaFd3uwbQH5ugxnZbhxAUsdl1dPwHEAnIEiRznIdQPt4Kk3J9B1A0NEMCcR2HkCkKu/EvvgeQHmD0YC5eh9ATdyzPLT8H0CRGkt8Vz8gQPtGPNpUgCBAZnMtOFLBIEDQnx6WTwIhQDrMD/RMQyFApPgAUkqEIUAPJfKvR8UhQHlR4w1FBiJA433Ua0JHIkBNqsXJP4giQLjWtic9ySJAIgOohToKI0CML5njN0sjQPZbikE1jCNAYYh7nzLNI0DLtGz9Lw4kQDXhXVstTyRAoA1PuSqQJEAKOkAXKNEkQHRmMXUlEiVA3pIi0yJTJUBJvxMxIJQlQLPrBI8d1SVAHRj27BoWJkCHROdKGFcmQPJw2KgVmCZAXJ3JBhPZJkDGybpkEBonQDD2q8INWydAmyKdIAucJ0AFT45+CN0nQG97f9wFHihA2qdwOgNfKEBE1GGYAKAoQK4AU/b94ChAGC1EVPshKUA=\",\"dtype\":\"float64\",\"shape\":[100]},\"y\":{\"__ndarray__\":\"AAAAAAAAAADoxQO0RU7YP+dMxoI2HOg//C5K/vzW8T/Tua6vYlb3P+nH5xKndfw/AFIvb9iPAEBm8BjVpKACQNka5Ym2ZARADqEya8fUBUD+Gu1b6+oGQBHVYKmoogdAYgGEegr5B0DMzIX9rOwHQM+xeSHDfQdA1L6JxBWuBkB9BRBa/IAFQO0A3yZP+wNAeZ5rTFMjAkDe5Qz1oAAAQDnpZxcIOPs/tv7u/6/+9T/6iGdXvmrwP2wf+wVaJuU/5X710zFA0j+uSTsu9124v2QnUqkVVt6/o9Qx/NsL679m4Ulpoj7zvxQdiFoRqPi/bDUKCPCr/b/J7VIByxoBwPGhyyYpGQPAgTlCLtzIBMCuGkzd8SIGwAOBBKLYIQfAMzIqg3bBB8BzaxsFOv8HwKfUGL4k2gfAJ8c7bs9SB8BSNUOKZ2sGwCX1VkOmJwXAMfGzMMGMA8AjU27aVKEBwC4hWvuS2v6/DwQZ9WTz+b9lsKPjUaH0v8Yvs7GI9O2/YIF44Akr4r8GSRAz01rIvzJJEDPTWsg/aoF44Akr4j/QL7OxiPTtP2Cwo+NRofQ/FAQZ9WTz+T8qIVr7ktr+PyVTbtpUoQFAMPGzMMGMA0Am9VZDpicFQFE1Q4pnawZAKMc7bs9SB0Cn1Bi+JNoHQHNrGwU6/wdANDIqg3bBB0ACgQSi2CEHQLAaTN3xIgZAfTlCLtzIBEDwocsmKRkDQMntUgHLGgFAcTUKCPCr/T8MHYhaEaj4P2HhSWmiPvM/pNQx/NsL6z99J1KpFVbeP/ZIOy73Xbg/+n710zFA0r9fH/sFWiblv+6IZ1e+avC/uv7u/6/+9b846WcXCDj7v9vlDPWgAADAfJ5rTFMjAsDuAN8mT/sDwH0FEFr8gAXA076JxBWuBsDQsXkhw30HwMzMhf2s7AfAYgGEegr5B8AS1WCpqKIHwPwa7Vvr6gbADqEya8fUBcDaGuWJtmQEwGnwGNWkoALA/VEvb9iPAMDpx+cSp3X8v9a5rq9iVve/8C5K/vzW8b/bTMaCNhzov+rFA7RFTti/CoqeTDl52rw=\",\"dtype\":\"float64\",\"shape\":[100]}}},\"id\":\"2ab9742b-aa97-4c62-bf78-aea9d3713d4e\",\"type\":\"ColumnDataSource\"},{\"attributes\":{},\"id\":\"145c109c-aa04-459f-a3c5-282651d501df\",\"type\":\"WheelZoomTool\"},{\"attributes\":{},\"id\":\"0b6ab2e2-82fe-47fc-adbf-9ec0c2f07201\",\"type\":\"SaveTool\"},{\"attributes\":{\"formatter\":{\"id\":\"48b84941-0033-40c2-a9bd-f952ec2a24d6\",\"type\":\"BasicTickFormatter\"},\"plot\":{\"id\":\"ce6a8450-07c5-4a22-b1b1-1ba9582d890a\",\"subtype\":\"Figure\",\"type\":\"Plot\"},\"ticker\":{\"id\":\"1fb1c2a7-512c-4fae-a134-c1cf37675c9a\",\"type\":\"BasicTicker\"}},\"id\":\"77b92eb7-50d9-4d5a-b968-ad64ee9bfdce\",\"type\":\"LinearAxis\"},{\"attributes\":{},\"id\":\"581f83e7-a34c-4d41-a4c3-84f42ac6157c\",\"type\":\"ResetTool\"},{\"attributes\":{\"plot\":null,\"text\":\"\"},\"id\":\"ff09fdb9-9dbc-456a-bccd-f4adf598fb4b\",\"type\":\"Title\"},{\"attributes\":{\"data_source\":{\"id\":\"fa05ee61-6b44-485e-a7e4-d4f81ca4b66e\",\"type\":\"ColumnDataSource\"},\"glyph\":{\"id\":\"876dd27f-e348-4ba1-a10c-6253e358aa99\",\"type\":\"Circle\"},\"hover_glyph\":null,\"muted_glyph\":null,\"nonselection_glyph\":{\"id\":\"e9b4b3a2-628a-4ea2-a447-dfe3850f6933\",\"type\":\"Circle\"},\"selection_glyph\":null,\"view\":{\"id\":\"d3a7fed7-8e40-446b-8b07-11e18e46eb91\",\"type\":\"CDSView\"}},\"id\":\"dfc36358-952c-4a95-8670-c92ecd2bc7e3\",\"type\":\"GlyphRenderer\"},{\"attributes\":{\"source\":{\"id\":\"9075c8a0-bb7c-4eb3-91ee-26b0c09fe401\",\"type\":\"ColumnDataSource\"}},\"id\":\"4fe4901d-fbed-4c84-ba6e-7e1a745f04ca\",\"type\":\"CDSView\"},{\"attributes\":{\"label\":{\"value\":\"2*sin(x)\"},\"renderers\":[{\"id\":\"ed675e85-b538-4973-892b-c8a671ceb063\",\"type\":\"GlyphRenderer\"}]},\"id\":\"f9c467f1-d60d-44a7-835a-d7f653733d39\",\"type\":\"LegendItem\"},{\"attributes\":{\"source\":{\"id\":\"2ab9742b-aa97-4c62-bf78-aea9d3713d4e\",\"type\":\"ColumnDataSource\"}},\"id\":\"93275bdd-bb42-4907-8141-1677a78a7a8e\",\"type\":\"CDSView\"},{\"attributes\":{},\"id\":\"42b48a2b-cd40-4d27-b599-8a178c8b0b2a\",\"type\":\"PanTool\"},{\"attributes\":{\"fill_alpha\":{\"value\":0.1},\"fill_color\":{\"value\":\"#1f77b4\"},\"line_alpha\":{\"value\":0.1},\"line_color\":{\"value\":\"#1f77b4\"},\"x\":{\"field\":\"x\"},\"y\":{\"field\":\"y\"}},\"id\":\"e9b4b3a2-628a-4ea2-a447-dfe3850f6933\",\"type\":\"Circle\"},{\"attributes\":{\"items\":[{\"id\":\"dcc88ff4-84ca-4383-8759-4e17f088967d\",\"type\":\"LegendItem\"},{\"id\":\"f9c467f1-d60d-44a7-835a-d7f653733d39\",\"type\":\"LegendItem\"},{\"id\":\"a1102880-8f37-48bc-aff5-b71f7ed9dc98\",\"type\":\"LegendItem\"}],\"location\":\"bottom_left\",\"plot\":{\"id\":\"ce6a8450-07c5-4a22-b1b1-1ba9582d890a\",\"subtype\":\"Figure\",\"type\":\"Plot\"}},\"id\":\"18399629-14a7-46fe-a6b1-dfc7d3a66904\",\"type\":\"Legend\"},{\"attributes\":{\"source\":{\"id\":\"fa05ee61-6b44-485e-a7e4-d4f81ca4b66e\",\"type\":\"ColumnDataSource\"}},\"id\":\"d3a7fed7-8e40-446b-8b07-11e18e46eb91\",\"type\":\"CDSView\"}],\"root_ids\":[\"ce6a8450-07c5-4a22-b1b1-1ba9582d890a\"]},\"title\":\"Bokeh Application\",\"version\":\"0.12.13\"}};\n",
       "  var render_items = [{\"docid\":\"640daa80-f380-4ee8-8622-2fe9006a7db9\",\"elementid\":\"3f1a64bd-bb51-459b-8abb-ec8d352e7210\",\"modelid\":\"ce6a8450-07c5-4a22-b1b1-1ba9582d890a\"}];\n",
       "  root.Bokeh.embed.embed_items_notebook(docs_json, render_items);\n",
       "\n",
       "  }\n",
       "  if (root.Bokeh !== undefined) {\n",
       "    embed_document(root);\n",
       "  } else {\n",
       "    var attempts = 0;\n",
       "    var timer = setInterval(function(root) {\n",
       "      if (root.Bokeh !== undefined) {\n",
       "        embed_document(root);\n",
       "        clearInterval(timer);\n",
       "      }\n",
       "      attempts++;\n",
       "      if (attempts > 100) {\n",
       "        console.log(\"Bokeh: ERROR: Unable to run BokehJS code because BokehJS library is missing\")\n",
       "        clearInterval(timer);\n",
       "      }\n",
       "    }, 10, root)\n",
       "  }\n",
       "})(window);"
      ],
      "application/vnd.bokehjs_exec.v0+json": ""
     },
     "metadata": {
      "application/vnd.bokehjs_exec.v0+json": {
       "id": "ce6a8450-07c5-4a22-b1b1-1ba9582d890a"
      }
     },
     "output_type": "display_data"
    }
   ],
   "source": [
    "x = np.linspace(0, 4*np.pi, 100)\n",
    "y = np.sin(x)\n",
    "\n",
    "p = figure()\n",
    "\n",
    "p.circle(x, y, legend=\"sin(x)\")  # legend\n",
    "p.line(x, y, legend=\"sin(x)\")\n",
    "\n",
    "p.line(x, 2*y, legend=\"2*sin(x)\",\n",
    "       line_dash=[4, 4], line_color=\"orange\", line_width=2)\n",
    "\n",
    "p.square(x, 3*y, legend=\"3*sin(x)\", fill_color=None, line_color=\"green\")\n",
    "p.line(x, 3*y, legend=\"3*sin(x)\", line_color=\"green\")\n",
    "\n",
    "p.legend.location = \"bottom_left\"\n",
    "\n",
    "show(p)"
   ]
  },
  {
   "cell_type": "markdown",
   "metadata": {},
   "source": [
    "### Outside the Plot Area"
   ]
  },
  {
   "cell_type": "code",
   "execution_count": 57,
   "metadata": {},
   "outputs": [
    {
     "data": {
      "text/html": [
       "\n",
       "<div class=\"bk-root\">\n",
       "    <div class=\"bk-plotdiv\" id=\"8a269c7c-7355-4e63-8703-64f0189d14b5\"></div>\n",
       "</div>"
      ]
     },
     "metadata": {},
     "output_type": "display_data"
    },
    {
     "data": {
      "application/javascript": [
       "(function(root) {\n",
       "  function embed_document(root) {\n",
       "    \n",
       "  var docs_json = {\"7121aef2-e8e8-4df7-b094-f42acfafbe51\":{\"roots\":{\"references\":[{\"attributes\":{\"line_color\":\"#1f77b4\",\"x\":{\"field\":\"x\"},\"y\":{\"field\":\"y\"}},\"id\":\"f1ad1afe-9c99-4610-bf7c-b925d53622b2\",\"type\":\"Line\"},{\"attributes\":{\"line_alpha\":0.1,\"line_color\":\"#1f77b4\",\"line_dash\":[4,4],\"line_width\":2,\"x\":{\"field\":\"x\"},\"y\":{\"field\":\"y\"}},\"id\":\"7ee77744-2ada-42ec-bd9e-a61f76f35b3e\",\"type\":\"Line\"},{\"attributes\":{\"below\":[{\"id\":\"4db786d2-c39c-49ba-a767-6644cf12e49c\",\"type\":\"LinearAxis\"}],\"left\":[{\"id\":\"398afeb4-ee5d-4263-9927-709ef24fddd5\",\"type\":\"LinearAxis\"}],\"renderers\":[{\"id\":\"4db786d2-c39c-49ba-a767-6644cf12e49c\",\"type\":\"LinearAxis\"},{\"id\":\"24ae8a81-f741-410a-82e2-b3a0a1cdc095\",\"type\":\"Grid\"},{\"id\":\"398afeb4-ee5d-4263-9927-709ef24fddd5\",\"type\":\"LinearAxis\"},{\"id\":\"9e6882e4-9c95-4d8e-8bb0-15e9f6250123\",\"type\":\"Grid\"},{\"id\":\"2e46f5cd-1baf-4920-991f-966f2f3461d6\",\"type\":\"BoxAnnotation\"},{\"id\":\"4917720c-3151-49ba-af33-6b4f113601b6\",\"type\":\"GlyphRenderer\"},{\"id\":\"ce227406-6abf-4e46-888f-33e0c2b62cb0\",\"type\":\"GlyphRenderer\"},{\"id\":\"36cc278b-e647-4d6e-91fa-d8328553b625\",\"type\":\"GlyphRenderer\"},{\"id\":\"0a9b24f2-a7e5-4e1c-8f65-017b4e2135a6\",\"type\":\"GlyphRenderer\"},{\"id\":\"a2cc4493-df32-4264-95a8-3ba305cf57d5\",\"type\":\"GlyphRenderer\"},{\"id\":\"cd2d17c0-7365-4652-8456-9f0c3e405b73\",\"type\":\"Legend\"}],\"right\":[{\"id\":\"cd2d17c0-7365-4652-8456-9f0c3e405b73\",\"type\":\"Legend\"}],\"title\":{\"id\":\"4da0ef4f-efc2-4043-b295-3461cff99ea5\",\"type\":\"Title\"},\"toolbar\":{\"id\":\"0114d25c-5459-4894-8458-23761f26d4b1\",\"type\":\"Toolbar\"},\"toolbar_location\":\"above\",\"x_range\":{\"id\":\"cbe81be8-2e6a-4d5c-94cd-de7014270e98\",\"type\":\"DataRange1d\"},\"x_scale\":{\"id\":\"c159ddf6-be98-4a2e-bfe1-ef2d07b9d61b\",\"type\":\"LinearScale\"},\"y_range\":{\"id\":\"097a1da3-a42d-4172-8b49-acd281c7fde9\",\"type\":\"DataRange1d\"},\"y_scale\":{\"id\":\"b3bc08e6-9625-463b-b698-7e08b4fab8ac\",\"type\":\"LinearScale\"}},\"id\":\"7fdf89a3-931b-42ec-8ba4-4e0094a112e8\",\"subtype\":\"Figure\",\"type\":\"Plot\"},{\"attributes\":{},\"id\":\"d2e7857a-fb2d-415c-8f53-bc7609512bdc\",\"type\":\"BasicTickFormatter\"},{\"attributes\":{\"overlay\":{\"id\":\"2e46f5cd-1baf-4920-991f-966f2f3461d6\",\"type\":\"BoxAnnotation\"}},\"id\":\"5b44576c-a024-4856-bc1f-1089fa63109d\",\"type\":\"BoxZoomTool\"},{\"attributes\":{\"data_source\":{\"id\":\"340207b5-b308-4270-aae2-5e5279243899\",\"type\":\"ColumnDataSource\"},\"glyph\":{\"id\":\"c6efb86d-aaac-41e7-a3a8-311f4e1c427d\",\"type\":\"Circle\"},\"hover_glyph\":null,\"muted_glyph\":null,\"nonselection_glyph\":{\"id\":\"ad38a07c-0f02-4be7-8679-ed648fc4de87\",\"type\":\"Circle\"},\"selection_glyph\":null,\"view\":{\"id\":\"427f1b2c-1a87-46d7-a0f5-16a882f26cb7\",\"type\":\"CDSView\"}},\"id\":\"4917720c-3151-49ba-af33-6b4f113601b6\",\"type\":\"GlyphRenderer\"},{\"attributes\":{\"bottom_units\":\"screen\",\"fill_alpha\":{\"value\":0.5},\"fill_color\":{\"value\":\"lightgrey\"},\"left_units\":\"screen\",\"level\":\"overlay\",\"line_alpha\":{\"value\":1.0},\"line_color\":{\"value\":\"black\"},\"line_dash\":[4,4],\"line_width\":{\"value\":2},\"plot\":null,\"render_mode\":\"css\",\"right_units\":\"screen\",\"top_units\":\"screen\"},\"id\":\"2e46f5cd-1baf-4920-991f-966f2f3461d6\",\"type\":\"BoxAnnotation\"},{\"attributes\":{\"line_alpha\":0.1,\"line_color\":\"#1f77b4\",\"x\":{\"field\":\"x\"},\"y\":{\"field\":\"y\"}},\"id\":\"f51897e4-fbce-4a53-9c90-7c8d12367ac5\",\"type\":\"Line\"},{\"attributes\":{\"callback\":null,\"column_names\":[\"x\",\"y\"],\"data\":{\"x\":{\"__ndarray__\":\"AAAAAAAAAACRGkt8Vz/AP5EaS3xXP9A/2qdwOgNf2D+RGkt8Vz/gPzXhXVstT+Q/2qdwOgNf6D9+boMZ2W7sP5EaS3xXP/A/433Ua0JH8j814V1bLU/0P4dE50oYV/Y/2qdwOgNf+D8sC/op7mb6P35ugxnZbvw/0NEMCcR2/j+RGkt8Vz8AQDrMD/RMQwFA433Ua0JHAkCML5njN0sDQDXhXVstTwRA3pIi0yJTBUCHROdKGFcGQDD2q8INWwdA2qdwOgNfCECDWTWy+GIJQCwL+inuZgpA1by+oeNqC0B+boMZ2W4MQCcgSJHOcg1A0NEMCcR2DkB5g9GAuXoPQJEaS3xXPxBAZnMtOFLBEEA6zA/0TEMRQA8l8q9HxRFA433Ua0JHEkC41rYnPckSQIwvmeM3SxNAYYh7nzLNE0A14V1bLU8UQAo6QBco0RRA3pIi0yJTFUCz6wSPHdUVQIdE50oYVxZAXJ3JBhPZFkAw9qvCDVsXQAVPjn4I3RdA2qdwOgNfGECuAFP2/eAYQINZNbL4YhlAV7IXbvPkGUAsC/op7mYaQABk3OXo6BpA1by+oeNqG0CpFaFd3uwbQH5ugxnZbhxAUsdl1dPwHEAnIEiRznIdQPt4Kk3J9B1A0NEMCcR2HkCkKu/EvvgeQHmD0YC5eh9ATdyzPLT8H0CRGkt8Vz8gQPtGPNpUgCBAZnMtOFLBIEDQnx6WTwIhQDrMD/RMQyFApPgAUkqEIUAPJfKvR8UhQHlR4w1FBiJA433Ua0JHIkBNqsXJP4giQLjWtic9ySJAIgOohToKI0CML5njN0sjQPZbikE1jCNAYYh7nzLNI0DLtGz9Lw4kQDXhXVstTyRAoA1PuSqQJEAKOkAXKNEkQHRmMXUlEiVA3pIi0yJTJUBJvxMxIJQlQLPrBI8d1SVAHRj27BoWJkCHROdKGFcmQPJw2KgVmCZAXJ3JBhPZJkDGybpkEBonQDD2q8INWydAmyKdIAucJ0AFT45+CN0nQG97f9wFHihA2qdwOgNfKEBE1GGYAKAoQK4AU/b94ChAGC1EVPshKUA=\",\"dtype\":\"float64\",\"shape\":[100]},\"y\":{\"__ndarray__\":\"AAAAAAAAAADoxQO0RU7YP+dMxoI2HOg//C5K/vzW8T/Tua6vYlb3P+nH5xKndfw/AFIvb9iPAEBm8BjVpKACQNka5Ym2ZARADqEya8fUBUD+Gu1b6+oGQBHVYKmoogdAYgGEegr5B0DMzIX9rOwHQM+xeSHDfQdA1L6JxBWuBkB9BRBa/IAFQO0A3yZP+wNAeZ5rTFMjAkDe5Qz1oAAAQDnpZxcIOPs/tv7u/6/+9T/6iGdXvmrwP2wf+wVaJuU/5X710zFA0j+uSTsu9124v2QnUqkVVt6/o9Qx/NsL679m4Ulpoj7zvxQdiFoRqPi/bDUKCPCr/b/J7VIByxoBwPGhyyYpGQPAgTlCLtzIBMCuGkzd8SIGwAOBBKLYIQfAMzIqg3bBB8BzaxsFOv8HwKfUGL4k2gfAJ8c7bs9SB8BSNUOKZ2sGwCX1VkOmJwXAMfGzMMGMA8AjU27aVKEBwC4hWvuS2v6/DwQZ9WTz+b9lsKPjUaH0v8Yvs7GI9O2/YIF44Akr4r8GSRAz01rIvzJJEDPTWsg/aoF44Akr4j/QL7OxiPTtP2Cwo+NRofQ/FAQZ9WTz+T8qIVr7ktr+PyVTbtpUoQFAMPGzMMGMA0Am9VZDpicFQFE1Q4pnawZAKMc7bs9SB0Cn1Bi+JNoHQHNrGwU6/wdANDIqg3bBB0ACgQSi2CEHQLAaTN3xIgZAfTlCLtzIBEDwocsmKRkDQMntUgHLGgFAcTUKCPCr/T8MHYhaEaj4P2HhSWmiPvM/pNQx/NsL6z99J1KpFVbeP/ZIOy73Xbg/+n710zFA0r9fH/sFWiblv+6IZ1e+avC/uv7u/6/+9b846WcXCDj7v9vlDPWgAADAfJ5rTFMjAsDuAN8mT/sDwH0FEFr8gAXA076JxBWuBsDQsXkhw30HwMzMhf2s7AfAYgGEegr5B8AS1WCpqKIHwPwa7Vvr6gbADqEya8fUBcDaGuWJtmQEwGnwGNWkoALA/VEvb9iPAMDpx+cSp3X8v9a5rq9iVve/8C5K/vzW8b/bTMaCNhzov+rFA7RFTti/CoqeTDl52rw=\",\"dtype\":\"float64\",\"shape\":[100]}}},\"id\":\"08e01385-ecee-4806-aba4-4a48acc4ff6f\",\"type\":\"ColumnDataSource\"},{\"attributes\":{},\"id\":\"b2be0461-f499-4ee3-b8f6-2ba688345dc1\",\"type\":\"ResetTool\"},{\"attributes\":{\"label\":{\"value\":\"2*sin(x)\"},\"renderers\":[{\"id\":\"36cc278b-e647-4d6e-91fa-d8328553b625\",\"type\":\"GlyphRenderer\"}]},\"id\":\"f1657f23-acf0-485e-83f7-957f21f3bda5\",\"type\":\"LegendItem\"},{\"attributes\":{\"line_color\":\"green\",\"x\":{\"field\":\"x\"},\"y\":{\"field\":\"y\"}},\"id\":\"bda6e665-a0ac-4947-85a2-5fce50329974\",\"type\":\"Line\"},{\"attributes\":{},\"id\":\"b41bc5d9-a8bf-4d05-9892-5e302390e629\",\"type\":\"BasicTicker\"},{\"attributes\":{\"line_alpha\":0.1,\"line_color\":\"#1f77b4\",\"x\":{\"field\":\"x\"},\"y\":{\"field\":\"y\"}},\"id\":\"fd605bbd-2922-4795-9ae4-19b4a1497e40\",\"type\":\"Line\"},{\"attributes\":{},\"id\":\"672bd89b-79e5-40a4-8712-abd47ad688b1\",\"type\":\"HelpTool\"},{\"attributes\":{\"data_source\":{\"id\":\"d4a3059e-0a8f-4247-a34d-3de8f940a6a1\",\"type\":\"ColumnDataSource\"},\"glyph\":{\"id\":\"a9925120-2c6d-42af-a984-672d856d7f47\",\"type\":\"Line\"},\"hover_glyph\":null,\"muted_glyph\":null,\"nonselection_glyph\":{\"id\":\"7ee77744-2ada-42ec-bd9e-a61f76f35b3e\",\"type\":\"Line\"},\"selection_glyph\":null,\"view\":{\"id\":\"41a03b95-b484-476f-8322-fa0e406c68d3\",\"type\":\"CDSView\"}},\"id\":\"36cc278b-e647-4d6e-91fa-d8328553b625\",\"type\":\"GlyphRenderer\"},{\"attributes\":{\"fill_color\":{\"value\":null},\"line_color\":{\"value\":\"green\"},\"x\":{\"field\":\"x\"},\"y\":{\"field\":\"y\"}},\"id\":\"0f1dc60e-3ad1-4844-9351-ad406a3ac543\",\"type\":\"Square\"},{\"attributes\":{\"data_source\":{\"id\":\"08e01385-ecee-4806-aba4-4a48acc4ff6f\",\"type\":\"ColumnDataSource\"},\"glyph\":{\"id\":\"bda6e665-a0ac-4947-85a2-5fce50329974\",\"type\":\"Line\"},\"hover_glyph\":null,\"muted_glyph\":null,\"nonselection_glyph\":{\"id\":\"fd605bbd-2922-4795-9ae4-19b4a1497e40\",\"type\":\"Line\"},\"selection_glyph\":null,\"view\":{\"id\":\"b4aa65be-7dba-4f94-b4f4-d1fd598842b2\",\"type\":\"CDSView\"}},\"id\":\"a2cc4493-df32-4264-95a8-3ba305cf57d5\",\"type\":\"GlyphRenderer\"},{\"attributes\":{\"fill_alpha\":{\"value\":0.1},\"fill_color\":{\"value\":\"#1f77b4\"},\"line_alpha\":{\"value\":0.1},\"line_color\":{\"value\":\"#1f77b4\"},\"x\":{\"field\":\"x\"},\"y\":{\"field\":\"y\"}},\"id\":\"4996743a-81dd-415e-85a4-d3827529a68e\",\"type\":\"Square\"},{\"attributes\":{\"plot\":null,\"text\":\"\"},\"id\":\"4da0ef4f-efc2-4043-b295-3461cff99ea5\",\"type\":\"Title\"},{\"attributes\":{\"source\":{\"id\":\"08e01385-ecee-4806-aba4-4a48acc4ff6f\",\"type\":\"ColumnDataSource\"}},\"id\":\"b4aa65be-7dba-4f94-b4f4-d1fd598842b2\",\"type\":\"CDSView\"},{\"attributes\":{\"fill_color\":{\"value\":\"#1f77b4\"},\"line_color\":{\"value\":\"#1f77b4\"},\"x\":{\"field\":\"x\"},\"y\":{\"field\":\"y\"}},\"id\":\"c6efb86d-aaac-41e7-a3a8-311f4e1c427d\",\"type\":\"Circle\"},{\"attributes\":{\"active_drag\":\"auto\",\"active_inspect\":\"auto\",\"active_scroll\":\"auto\",\"active_tap\":\"auto\",\"tools\":[{\"id\":\"9143777b-7910-45ca-b855-ee61354e943d\",\"type\":\"PanTool\"},{\"id\":\"462c35cb-251e-451f-9b06-24acaba33477\",\"type\":\"WheelZoomTool\"},{\"id\":\"5b44576c-a024-4856-bc1f-1089fa63109d\",\"type\":\"BoxZoomTool\"},{\"id\":\"0eee3d67-a743-4078-bb80-be6082c54e32\",\"type\":\"SaveTool\"},{\"id\":\"b2be0461-f499-4ee3-b8f6-2ba688345dc1\",\"type\":\"ResetTool\"},{\"id\":\"672bd89b-79e5-40a4-8712-abd47ad688b1\",\"type\":\"HelpTool\"}]},\"id\":\"0114d25c-5459-4894-8458-23761f26d4b1\",\"type\":\"Toolbar\"},{\"attributes\":{\"callback\":null,\"column_names\":[\"x\",\"y\"],\"data\":{\"x\":{\"__ndarray__\":\"AAAAAAAAAACRGkt8Vz/AP5EaS3xXP9A/2qdwOgNf2D+RGkt8Vz/gPzXhXVstT+Q/2qdwOgNf6D9+boMZ2W7sP5EaS3xXP/A/433Ua0JH8j814V1bLU/0P4dE50oYV/Y/2qdwOgNf+D8sC/op7mb6P35ugxnZbvw/0NEMCcR2/j+RGkt8Vz8AQDrMD/RMQwFA433Ua0JHAkCML5njN0sDQDXhXVstTwRA3pIi0yJTBUCHROdKGFcGQDD2q8INWwdA2qdwOgNfCECDWTWy+GIJQCwL+inuZgpA1by+oeNqC0B+boMZ2W4MQCcgSJHOcg1A0NEMCcR2DkB5g9GAuXoPQJEaS3xXPxBAZnMtOFLBEEA6zA/0TEMRQA8l8q9HxRFA433Ua0JHEkC41rYnPckSQIwvmeM3SxNAYYh7nzLNE0A14V1bLU8UQAo6QBco0RRA3pIi0yJTFUCz6wSPHdUVQIdE50oYVxZAXJ3JBhPZFkAw9qvCDVsXQAVPjn4I3RdA2qdwOgNfGECuAFP2/eAYQINZNbL4YhlAV7IXbvPkGUAsC/op7mYaQABk3OXo6BpA1by+oeNqG0CpFaFd3uwbQH5ugxnZbhxAUsdl1dPwHEAnIEiRznIdQPt4Kk3J9B1A0NEMCcR2HkCkKu/EvvgeQHmD0YC5eh9ATdyzPLT8H0CRGkt8Vz8gQPtGPNpUgCBAZnMtOFLBIEDQnx6WTwIhQDrMD/RMQyFApPgAUkqEIUAPJfKvR8UhQHlR4w1FBiJA433Ua0JHIkBNqsXJP4giQLjWtic9ySJAIgOohToKI0CML5njN0sjQPZbikE1jCNAYYh7nzLNI0DLtGz9Lw4kQDXhXVstTyRAoA1PuSqQJEAKOkAXKNEkQHRmMXUlEiVA3pIi0yJTJUBJvxMxIJQlQLPrBI8d1SVAHRj27BoWJkCHROdKGFcmQPJw2KgVmCZAXJ3JBhPZJkDGybpkEBonQDD2q8INWydAmyKdIAucJ0AFT45+CN0nQG97f9wFHihA2qdwOgNfKEBE1GGYAKAoQK4AU/b94ChAGC1EVPshKUA=\",\"dtype\":\"float64\",\"shape\":[100]},\"y\":{\"__ndarray__\":\"AAAAAAAAAADwgwJ4LjTAP5qI2QHPEtA/+5MNU1HJ1z8ZTT7q2B3fP0aFmgwa+eI/ABg/lCAV5j+IQCEcMdboP3fOhmLzMOs/EyzujrQb7T/9Izwlj47uPxccgYyLg+8/g6xao7j27z9mZrL8O+bvP7+X94FZUu8/xVNiW3I97j9RB8Ai+6vsP5FWKYlppOo/oSg6uxkv6D/Sh2bxK1blPyZGRbpaJeI/8qg+VZVT3T/4C4p0qOPVP+UppLIiM8w/3FNHxZdVuD/J23zJpD6gv+3ENsZjOcS/wo12/ecH0r/dgWKM2KjZv2MTsJELcOC/83ixWvXH47+358MBZM7mv5eCD4nhdum/rExY6Hq267+TIxAn7YPtvwSssILL1+6/70I4BJ6s77/vOc8G+P7vvzTGy1KGze+/3176khQZ77/C8a4NiuTtvzGcHq/dNOy/l0FFlgER6r+EGZN4xoHnvx8WPFK3keS/Cli7+O1M4b+HQNqEwoHbv9kfIiFb+NO/gKyggGI5yL8EhrXMjDywvyGGtcyMPLA/jqyggGI5yD/gHyIhW/jTP4BA2oTCgds/DVi7+O1M4T8cFjxSt5HkP4cZk3jGgec/lUFFlgER6j8ynB6v3TTsP8Hxrg2K5O0/4F76khQZ7z80xstShs3vP+85zwb4/u8/8EI4BJ6s7z8DrLCCy9fuP5UjECftg+0/p0xY6Hq26z+Vgg+J4XbpP7fnwwFkzuY/9nixWvXH4z9dE7CRC3DgP9eBYozYqNk/w412/ecH0j/+xDbGYznEP0/bfMmkPqA/+FNHxZdVuL/UKaSyIjPMv+gLinSo49W/+Kg+VZVT3b8lRkW6WiXiv8+HZvErVuW/pig6uxkv6L+TVimJaaTqv1EHwCL7q+y/xFNiW3I97r/Al/eBWVLvv2Zmsvw75u+/g6xao7j2778YHIGMi4Pvv/sjPCWPju6/EyzujrQb7b94zoZi8zDrv4xAIRwx1ui//Bc/lCAV5r9GhZoMGvnivx5NPurYHd+/65MNU1HJ17+SiNkBzxLQv/GDAnguNMC/B1wUMyamwbw=\",\"dtype\":\"float64\",\"shape\":[100]}}},\"id\":\"8d5f0526-1287-4256-aa82-69a6cf337e33\",\"type\":\"ColumnDataSource\"},{\"attributes\":{},\"id\":\"b3bc08e6-9625-463b-b698-7e08b4fab8ac\",\"type\":\"LinearScale\"},{\"attributes\":{\"label\":{\"value\":\"sin(x)\"},\"renderers\":[{\"id\":\"4917720c-3151-49ba-af33-6b4f113601b6\",\"type\":\"GlyphRenderer\"},{\"id\":\"ce227406-6abf-4e46-888f-33e0c2b62cb0\",\"type\":\"GlyphRenderer\"}]},\"id\":\"380a9381-809a-402f-b194-59b03535a0c5\",\"type\":\"LegendItem\"},{\"attributes\":{\"plot\":{\"id\":\"7fdf89a3-931b-42ec-8ba4-4e0094a112e8\",\"subtype\":\"Figure\",\"type\":\"Plot\"},\"ticker\":{\"id\":\"0c74a431-5283-450f-801f-17afba9e93f0\",\"type\":\"BasicTicker\"}},\"id\":\"24ae8a81-f741-410a-82e2-b3a0a1cdc095\",\"type\":\"Grid\"},{\"attributes\":{},\"id\":\"eed79448-7495-456f-a14b-1a0f18329285\",\"type\":\"BasicTickFormatter\"},{\"attributes\":{\"callback\":null,\"column_names\":[\"x\",\"y\"],\"data\":{\"x\":{\"__ndarray__\":\"AAAAAAAAAACRGkt8Vz/AP5EaS3xXP9A/2qdwOgNf2D+RGkt8Vz/gPzXhXVstT+Q/2qdwOgNf6D9+boMZ2W7sP5EaS3xXP/A/433Ua0JH8j814V1bLU/0P4dE50oYV/Y/2qdwOgNf+D8sC/op7mb6P35ugxnZbvw/0NEMCcR2/j+RGkt8Vz8AQDrMD/RMQwFA433Ua0JHAkCML5njN0sDQDXhXVstTwRA3pIi0yJTBUCHROdKGFcGQDD2q8INWwdA2qdwOgNfCECDWTWy+GIJQCwL+inuZgpA1by+oeNqC0B+boMZ2W4MQCcgSJHOcg1A0NEMCcR2DkB5g9GAuXoPQJEaS3xXPxBAZnMtOFLBEEA6zA/0TEMRQA8l8q9HxRFA433Ua0JHEkC41rYnPckSQIwvmeM3SxNAYYh7nzLNE0A14V1bLU8UQAo6QBco0RRA3pIi0yJTFUCz6wSPHdUVQIdE50oYVxZAXJ3JBhPZFkAw9qvCDVsXQAVPjn4I3RdA2qdwOgNfGECuAFP2/eAYQINZNbL4YhlAV7IXbvPkGUAsC/op7mYaQABk3OXo6BpA1by+oeNqG0CpFaFd3uwbQH5ugxnZbhxAUsdl1dPwHEAnIEiRznIdQPt4Kk3J9B1A0NEMCcR2HkCkKu/EvvgeQHmD0YC5eh9ATdyzPLT8H0CRGkt8Vz8gQPtGPNpUgCBAZnMtOFLBIEDQnx6WTwIhQDrMD/RMQyFApPgAUkqEIUAPJfKvR8UhQHlR4w1FBiJA433Ua0JHIkBNqsXJP4giQLjWtic9ySJAIgOohToKI0CML5njN0sjQPZbikE1jCNAYYh7nzLNI0DLtGz9Lw4kQDXhXVstTyRAoA1PuSqQJEAKOkAXKNEkQHRmMXUlEiVA3pIi0yJTJUBJvxMxIJQlQLPrBI8d1SVAHRj27BoWJkCHROdKGFcmQPJw2KgVmCZAXJ3JBhPZJkDGybpkEBonQDD2q8INWydAmyKdIAucJ0AFT45+CN0nQG97f9wFHihA2qdwOgNfKEBE1GGYAKAoQK4AU/b94ChAGC1EVPshKUA=\",\"dtype\":\"float64\",\"shape\":[100]},\"y\":{\"__ndarray__\":\"AAAAAAAAAADwgwJ4LjTAP5qI2QHPEtA/+5MNU1HJ1z8ZTT7q2B3fP0aFmgwa+eI/ABg/lCAV5j+IQCEcMdboP3fOhmLzMOs/EyzujrQb7T/9Izwlj47uPxccgYyLg+8/g6xao7j27z9mZrL8O+bvP7+X94FZUu8/xVNiW3I97j9RB8Ai+6vsP5FWKYlppOo/oSg6uxkv6D/Sh2bxK1blPyZGRbpaJeI/8qg+VZVT3T/4C4p0qOPVP+UppLIiM8w/3FNHxZdVuD/J23zJpD6gv+3ENsZjOcS/wo12/ecH0r/dgWKM2KjZv2MTsJELcOC/83ixWvXH47+358MBZM7mv5eCD4nhdum/rExY6Hq267+TIxAn7YPtvwSssILL1+6/70I4BJ6s77/vOc8G+P7vvzTGy1KGze+/3176khQZ77/C8a4NiuTtvzGcHq/dNOy/l0FFlgER6r+EGZN4xoHnvx8WPFK3keS/Cli7+O1M4b+HQNqEwoHbv9kfIiFb+NO/gKyggGI5yL8EhrXMjDywvyGGtcyMPLA/jqyggGI5yD/gHyIhW/jTP4BA2oTCgds/DVi7+O1M4T8cFjxSt5HkP4cZk3jGgec/lUFFlgER6j8ynB6v3TTsP8Hxrg2K5O0/4F76khQZ7z80xstShs3vP+85zwb4/u8/8EI4BJ6s7z8DrLCCy9fuP5UjECftg+0/p0xY6Hq26z+Vgg+J4XbpP7fnwwFkzuY/9nixWvXH4z9dE7CRC3DgP9eBYozYqNk/w412/ecH0j/+xDbGYznEP0/bfMmkPqA/+FNHxZdVuL/UKaSyIjPMv+gLinSo49W/+Kg+VZVT3b8lRkW6WiXiv8+HZvErVuW/pig6uxkv6L+TVimJaaTqv1EHwCL7q+y/xFNiW3I97r/Al/eBWVLvv2Zmsvw75u+/g6xao7j2778YHIGMi4Pvv/sjPCWPju6/EyzujrQb7b94zoZi8zDrv4xAIRwx1ui//Bc/lCAV5r9GhZoMGvnivx5NPurYHd+/65MNU1HJ17+SiNkBzxLQv/GDAnguNMC/B1wUMyamwbw=\",\"dtype\":\"float64\",\"shape\":[100]}}},\"id\":\"340207b5-b308-4270-aae2-5e5279243899\",\"type\":\"ColumnDataSource\"},{\"attributes\":{\"label\":{\"value\":\"3*sin(x)\"},\"renderers\":[{\"id\":\"0a9b24f2-a7e5-4e1c-8f65-017b4e2135a6\",\"type\":\"GlyphRenderer\"},{\"id\":\"a2cc4493-df32-4264-95a8-3ba305cf57d5\",\"type\":\"GlyphRenderer\"}]},\"id\":\"e59afa34-cc67-40bc-8ad0-f444710a55b1\",\"type\":\"LegendItem\"},{\"attributes\":{\"items\":[{\"id\":\"380a9381-809a-402f-b194-59b03535a0c5\",\"type\":\"LegendItem\"},{\"id\":\"f1657f23-acf0-485e-83f7-957f21f3bda5\",\"type\":\"LegendItem\"},{\"id\":\"e59afa34-cc67-40bc-8ad0-f444710a55b1\",\"type\":\"LegendItem\"}],\"location\":[0,-30],\"plot\":{\"id\":\"7fdf89a3-931b-42ec-8ba4-4e0094a112e8\",\"subtype\":\"Figure\",\"type\":\"Plot\"}},\"id\":\"cd2d17c0-7365-4652-8456-9f0c3e405b73\",\"type\":\"Legend\"},{\"attributes\":{\"fill_alpha\":{\"value\":0.1},\"fill_color\":{\"value\":\"#1f77b4\"},\"line_alpha\":{\"value\":0.1},\"line_color\":{\"value\":\"#1f77b4\"},\"x\":{\"field\":\"x\"},\"y\":{\"field\":\"y\"}},\"id\":\"ad38a07c-0f02-4be7-8679-ed648fc4de87\",\"type\":\"Circle\"},{\"attributes\":{\"formatter\":{\"id\":\"eed79448-7495-456f-a14b-1a0f18329285\",\"type\":\"BasicTickFormatter\"},\"plot\":{\"id\":\"7fdf89a3-931b-42ec-8ba4-4e0094a112e8\",\"subtype\":\"Figure\",\"type\":\"Plot\"},\"ticker\":{\"id\":\"0c74a431-5283-450f-801f-17afba9e93f0\",\"type\":\"BasicTicker\"}},\"id\":\"4db786d2-c39c-49ba-a767-6644cf12e49c\",\"type\":\"LinearAxis\"},{\"attributes\":{\"source\":{\"id\":\"8d5f0526-1287-4256-aa82-69a6cf337e33\",\"type\":\"ColumnDataSource\"}},\"id\":\"2cc87701-b981-44be-b022-6ba53b339888\",\"type\":\"CDSView\"},{\"attributes\":{\"data_source\":{\"id\":\"b4b7001e-f75e-4872-873b-c3dcede24104\",\"type\":\"ColumnDataSource\"},\"glyph\":{\"id\":\"0f1dc60e-3ad1-4844-9351-ad406a3ac543\",\"type\":\"Square\"},\"hover_glyph\":null,\"muted_glyph\":null,\"nonselection_glyph\":{\"id\":\"4996743a-81dd-415e-85a4-d3827529a68e\",\"type\":\"Square\"},\"selection_glyph\":null,\"view\":{\"id\":\"f6abe10e-2b97-42a3-9a4b-9b595d6d6e1b\",\"type\":\"CDSView\"}},\"id\":\"0a9b24f2-a7e5-4e1c-8f65-017b4e2135a6\",\"type\":\"GlyphRenderer\"},{\"attributes\":{\"callback\":null},\"id\":\"097a1da3-a42d-4172-8b49-acd281c7fde9\",\"type\":\"DataRange1d\"},{\"attributes\":{},\"id\":\"9143777b-7910-45ca-b855-ee61354e943d\",\"type\":\"PanTool\"},{\"attributes\":{},\"id\":\"0eee3d67-a743-4078-bb80-be6082c54e32\",\"type\":\"SaveTool\"},{\"attributes\":{\"callback\":null,\"column_names\":[\"x\",\"y\"],\"data\":{\"x\":{\"__ndarray__\":\"AAAAAAAAAACRGkt8Vz/AP5EaS3xXP9A/2qdwOgNf2D+RGkt8Vz/gPzXhXVstT+Q/2qdwOgNf6D9+boMZ2W7sP5EaS3xXP/A/433Ua0JH8j814V1bLU/0P4dE50oYV/Y/2qdwOgNf+D8sC/op7mb6P35ugxnZbvw/0NEMCcR2/j+RGkt8Vz8AQDrMD/RMQwFA433Ua0JHAkCML5njN0sDQDXhXVstTwRA3pIi0yJTBUCHROdKGFcGQDD2q8INWwdA2qdwOgNfCECDWTWy+GIJQCwL+inuZgpA1by+oeNqC0B+boMZ2W4MQCcgSJHOcg1A0NEMCcR2DkB5g9GAuXoPQJEaS3xXPxBAZnMtOFLBEEA6zA/0TEMRQA8l8q9HxRFA433Ua0JHEkC41rYnPckSQIwvmeM3SxNAYYh7nzLNE0A14V1bLU8UQAo6QBco0RRA3pIi0yJTFUCz6wSPHdUVQIdE50oYVxZAXJ3JBhPZFkAw9qvCDVsXQAVPjn4I3RdA2qdwOgNfGECuAFP2/eAYQINZNbL4YhlAV7IXbvPkGUAsC/op7mYaQABk3OXo6BpA1by+oeNqG0CpFaFd3uwbQH5ugxnZbhxAUsdl1dPwHEAnIEiRznIdQPt4Kk3J9B1A0NEMCcR2HkCkKu/EvvgeQHmD0YC5eh9ATdyzPLT8H0CRGkt8Vz8gQPtGPNpUgCBAZnMtOFLBIEDQnx6WTwIhQDrMD/RMQyFApPgAUkqEIUAPJfKvR8UhQHlR4w1FBiJA433Ua0JHIkBNqsXJP4giQLjWtic9ySJAIgOohToKI0CML5njN0sjQPZbikE1jCNAYYh7nzLNI0DLtGz9Lw4kQDXhXVstTyRAoA1PuSqQJEAKOkAXKNEkQHRmMXUlEiVA3pIi0yJTJUBJvxMxIJQlQLPrBI8d1SVAHRj27BoWJkCHROdKGFcmQPJw2KgVmCZAXJ3JBhPZJkDGybpkEBonQDD2q8INWydAmyKdIAucJ0AFT45+CN0nQG97f9wFHihA2qdwOgNfKEBE1GGYAKAoQK4AU/b94ChAGC1EVPshKUA=\",\"dtype\":\"float64\",\"shape\":[100]},\"y\":{\"__ndarray__\":\"AAAAAAAAAADoxQO0RU7YP+dMxoI2HOg//C5K/vzW8T/Tua6vYlb3P+nH5xKndfw/AFIvb9iPAEBm8BjVpKACQNka5Ym2ZARADqEya8fUBUD+Gu1b6+oGQBHVYKmoogdAYgGEegr5B0DMzIX9rOwHQM+xeSHDfQdA1L6JxBWuBkB9BRBa/IAFQO0A3yZP+wNAeZ5rTFMjAkDe5Qz1oAAAQDnpZxcIOPs/tv7u/6/+9T/6iGdXvmrwP2wf+wVaJuU/5X710zFA0j+uSTsu9124v2QnUqkVVt6/o9Qx/NsL679m4Ulpoj7zvxQdiFoRqPi/bDUKCPCr/b/J7VIByxoBwPGhyyYpGQPAgTlCLtzIBMCuGkzd8SIGwAOBBKLYIQfAMzIqg3bBB8BzaxsFOv8HwKfUGL4k2gfAJ8c7bs9SB8BSNUOKZ2sGwCX1VkOmJwXAMfGzMMGMA8AjU27aVKEBwC4hWvuS2v6/DwQZ9WTz+b9lsKPjUaH0v8Yvs7GI9O2/YIF44Akr4r8GSRAz01rIvzJJEDPTWsg/aoF44Akr4j/QL7OxiPTtP2Cwo+NRofQ/FAQZ9WTz+T8qIVr7ktr+PyVTbtpUoQFAMPGzMMGMA0Am9VZDpicFQFE1Q4pnawZAKMc7bs9SB0Cn1Bi+JNoHQHNrGwU6/wdANDIqg3bBB0ACgQSi2CEHQLAaTN3xIgZAfTlCLtzIBEDwocsmKRkDQMntUgHLGgFAcTUKCPCr/T8MHYhaEaj4P2HhSWmiPvM/pNQx/NsL6z99J1KpFVbeP/ZIOy73Xbg/+n710zFA0r9fH/sFWiblv+6IZ1e+avC/uv7u/6/+9b846WcXCDj7v9vlDPWgAADAfJ5rTFMjAsDuAN8mT/sDwH0FEFr8gAXA076JxBWuBsDQsXkhw30HwMzMhf2s7AfAYgGEegr5B8AS1WCpqKIHwPwa7Vvr6gbADqEya8fUBcDaGuWJtmQEwGnwGNWkoALA/VEvb9iPAMDpx+cSp3X8v9a5rq9iVve/8C5K/vzW8b/bTMaCNhzov+rFA7RFTti/CoqeTDl52rw=\",\"dtype\":\"float64\",\"shape\":[100]}}},\"id\":\"b4b7001e-f75e-4872-873b-c3dcede24104\",\"type\":\"ColumnDataSource\"},{\"attributes\":{\"source\":{\"id\":\"d4a3059e-0a8f-4247-a34d-3de8f940a6a1\",\"type\":\"ColumnDataSource\"}},\"id\":\"41a03b95-b484-476f-8322-fa0e406c68d3\",\"type\":\"CDSView\"},{\"attributes\":{\"dimension\":1,\"plot\":{\"id\":\"7fdf89a3-931b-42ec-8ba4-4e0094a112e8\",\"subtype\":\"Figure\",\"type\":\"Plot\"},\"ticker\":{\"id\":\"b41bc5d9-a8bf-4d05-9892-5e302390e629\",\"type\":\"BasicTicker\"}},\"id\":\"9e6882e4-9c95-4d8e-8bb0-15e9f6250123\",\"type\":\"Grid\"},{\"attributes\":{\"source\":{\"id\":\"b4b7001e-f75e-4872-873b-c3dcede24104\",\"type\":\"ColumnDataSource\"}},\"id\":\"f6abe10e-2b97-42a3-9a4b-9b595d6d6e1b\",\"type\":\"CDSView\"},{\"attributes\":{\"callback\":null,\"column_names\":[\"x\",\"y\"],\"data\":{\"x\":{\"__ndarray__\":\"AAAAAAAAAACRGkt8Vz/AP5EaS3xXP9A/2qdwOgNf2D+RGkt8Vz/gPzXhXVstT+Q/2qdwOgNf6D9+boMZ2W7sP5EaS3xXP/A/433Ua0JH8j814V1bLU/0P4dE50oYV/Y/2qdwOgNf+D8sC/op7mb6P35ugxnZbvw/0NEMCcR2/j+RGkt8Vz8AQDrMD/RMQwFA433Ua0JHAkCML5njN0sDQDXhXVstTwRA3pIi0yJTBUCHROdKGFcGQDD2q8INWwdA2qdwOgNfCECDWTWy+GIJQCwL+inuZgpA1by+oeNqC0B+boMZ2W4MQCcgSJHOcg1A0NEMCcR2DkB5g9GAuXoPQJEaS3xXPxBAZnMtOFLBEEA6zA/0TEMRQA8l8q9HxRFA433Ua0JHEkC41rYnPckSQIwvmeM3SxNAYYh7nzLNE0A14V1bLU8UQAo6QBco0RRA3pIi0yJTFUCz6wSPHdUVQIdE50oYVxZAXJ3JBhPZFkAw9qvCDVsXQAVPjn4I3RdA2qdwOgNfGECuAFP2/eAYQINZNbL4YhlAV7IXbvPkGUAsC/op7mYaQABk3OXo6BpA1by+oeNqG0CpFaFd3uwbQH5ugxnZbhxAUsdl1dPwHEAnIEiRznIdQPt4Kk3J9B1A0NEMCcR2HkCkKu/EvvgeQHmD0YC5eh9ATdyzPLT8H0CRGkt8Vz8gQPtGPNpUgCBAZnMtOFLBIEDQnx6WTwIhQDrMD/RMQyFApPgAUkqEIUAPJfKvR8UhQHlR4w1FBiJA433Ua0JHIkBNqsXJP4giQLjWtic9ySJAIgOohToKI0CML5njN0sjQPZbikE1jCNAYYh7nzLNI0DLtGz9Lw4kQDXhXVstTyRAoA1PuSqQJEAKOkAXKNEkQHRmMXUlEiVA3pIi0yJTJUBJvxMxIJQlQLPrBI8d1SVAHRj27BoWJkCHROdKGFcmQPJw2KgVmCZAXJ3JBhPZJkDGybpkEBonQDD2q8INWydAmyKdIAucJ0AFT45+CN0nQG97f9wFHihA2qdwOgNfKEBE1GGYAKAoQK4AU/b94ChAGC1EVPshKUA=\",\"dtype\":\"float64\",\"shape\":[100]},\"y\":{\"__ndarray__\":\"AAAAAAAAAADwgwJ4LjTQP5qI2QHPEuA/+5MNU1HJ5z8ZTT7q2B3vP0aFmgwa+fI/ABg/lCAV9j+IQCEcMdb4P3fOhmLzMPs/EyzujrQb/T/9Izwlj47+PxccgYyLg/8/g6xao7j2/z9mZrL8O+b/P7+X94FZUv8/xVNiW3I9/j9RB8Ai+6v8P5FWKYlppPo/oSg6uxkv+D/Sh2bxK1b1PyZGRbpaJfI/8qg+VZVT7T/4C4p0qOPlP+UppLIiM9w/3FNHxZdVyD/J23zJpD6wv+3ENsZjOdS/wo12/ecH4r/dgWKM2Kjpv2MTsJELcPC/83ixWvXH87+358MBZM72v5eCD4nhdvm/rExY6Hq2+7+TIxAn7YP9vwSssILL1/6/70I4BJ6s/7/vOc8G+P7/vzTGy1KGzf+/3176khQZ/7/C8a4NiuT9vzGcHq/dNPy/l0FFlgER+r+EGZN4xoH3vx8WPFK3kfS/Cli7+O1M8b+HQNqEwoHrv9kfIiFb+OO/gKyggGI52L8EhrXMjDzAvyGGtcyMPMA/jqyggGI52D/gHyIhW/jjP4BA2oTCges/DVi7+O1M8T8cFjxSt5H0P4cZk3jGgfc/lUFFlgER+j8ynB6v3TT8P8Hxrg2K5P0/4F76khQZ/z80xstShs3/P+85zwb4/v8/8EI4BJ6s/z8DrLCCy9f+P5UjECftg/0/p0xY6Hq2+z+Vgg+J4Xb5P7fnwwFkzvY/9nixWvXH8z9dE7CRC3DwP9eBYozYqOk/w412/ecH4j/+xDbGYznUP0/bfMmkPrA/+FNHxZdVyL/UKaSyIjPcv+gLinSo4+W/+Kg+VZVT7b8lRkW6WiXyv8+HZvErVvW/pig6uxkv+L+TVimJaaT6v1EHwCL7q/y/xFNiW3I9/r/Al/eBWVL/v2Zmsvw75v+/g6xao7j2/78YHIGMi4P/v/sjPCWPjv6/EyzujrQb/b94zoZi8zD7v4xAIRwx1vi//Bc/lCAV9r9GhZoMGvnyvx5NPurYHe+/65MNU1HJ57+SiNkBzxLgv/GDAnguNNC/B1wUMyam0bw=\",\"dtype\":\"float64\",\"shape\":[100]}}},\"id\":\"d4a3059e-0a8f-4247-a34d-3de8f940a6a1\",\"type\":\"ColumnDataSource\"},{\"attributes\":{\"source\":{\"id\":\"340207b5-b308-4270-aae2-5e5279243899\",\"type\":\"ColumnDataSource\"}},\"id\":\"427f1b2c-1a87-46d7-a0f5-16a882f26cb7\",\"type\":\"CDSView\"},{\"attributes\":{\"formatter\":{\"id\":\"d2e7857a-fb2d-415c-8f53-bc7609512bdc\",\"type\":\"BasicTickFormatter\"},\"plot\":{\"id\":\"7fdf89a3-931b-42ec-8ba4-4e0094a112e8\",\"subtype\":\"Figure\",\"type\":\"Plot\"},\"ticker\":{\"id\":\"b41bc5d9-a8bf-4d05-9892-5e302390e629\",\"type\":\"BasicTicker\"}},\"id\":\"398afeb4-ee5d-4263-9927-709ef24fddd5\",\"type\":\"LinearAxis\"},{\"attributes\":{\"callback\":null},\"id\":\"cbe81be8-2e6a-4d5c-94cd-de7014270e98\",\"type\":\"DataRange1d\"},{\"attributes\":{\"data_source\":{\"id\":\"8d5f0526-1287-4256-aa82-69a6cf337e33\",\"type\":\"ColumnDataSource\"},\"glyph\":{\"id\":\"f1ad1afe-9c99-4610-bf7c-b925d53622b2\",\"type\":\"Line\"},\"hover_glyph\":null,\"muted_glyph\":null,\"nonselection_glyph\":{\"id\":\"f51897e4-fbce-4a53-9c90-7c8d12367ac5\",\"type\":\"Line\"},\"selection_glyph\":null,\"view\":{\"id\":\"2cc87701-b981-44be-b022-6ba53b339888\",\"type\":\"CDSView\"}},\"id\":\"ce227406-6abf-4e46-888f-33e0c2b62cb0\",\"type\":\"GlyphRenderer\"},{\"attributes\":{\"line_color\":\"orange\",\"line_dash\":[4,4],\"line_width\":2,\"x\":{\"field\":\"x\"},\"y\":{\"field\":\"y\"}},\"id\":\"a9925120-2c6d-42af-a984-672d856d7f47\",\"type\":\"Line\"},{\"attributes\":{},\"id\":\"c159ddf6-be98-4a2e-bfe1-ef2d07b9d61b\",\"type\":\"LinearScale\"},{\"attributes\":{},\"id\":\"462c35cb-251e-451f-9b06-24acaba33477\",\"type\":\"WheelZoomTool\"},{\"attributes\":{},\"id\":\"0c74a431-5283-450f-801f-17afba9e93f0\",\"type\":\"BasicTicker\"}],\"root_ids\":[\"7fdf89a3-931b-42ec-8ba4-4e0094a112e8\"]},\"title\":\"Bokeh Application\",\"version\":\"0.12.13\"}};\n",
       "  var render_items = [{\"docid\":\"7121aef2-e8e8-4df7-b094-f42acfafbe51\",\"elementid\":\"8a269c7c-7355-4e63-8703-64f0189d14b5\",\"modelid\":\"7fdf89a3-931b-42ec-8ba4-4e0094a112e8\"}];\n",
       "  root.Bokeh.embed.embed_items_notebook(docs_json, render_items);\n",
       "\n",
       "  }\n",
       "  if (root.Bokeh !== undefined) {\n",
       "    embed_document(root);\n",
       "  } else {\n",
       "    var attempts = 0;\n",
       "    var timer = setInterval(function(root) {\n",
       "      if (root.Bokeh !== undefined) {\n",
       "        embed_document(root);\n",
       "        clearInterval(timer);\n",
       "      }\n",
       "      attempts++;\n",
       "      if (attempts > 100) {\n",
       "        console.log(\"Bokeh: ERROR: Unable to run BokehJS code because BokehJS library is missing\")\n",
       "        clearInterval(timer);\n",
       "      }\n",
       "    }, 10, root)\n",
       "  }\n",
       "})(window);"
      ],
      "application/vnd.bokehjs_exec.v0+json": ""
     },
     "metadata": {
      "application/vnd.bokehjs_exec.v0+json": {
       "id": "7fdf89a3-931b-42ec-8ba4-4e0094a112e8"
      }
     },
     "output_type": "display_data"
    }
   ],
   "source": [
    "from bokeh.models import Legend\n",
    "from bokeh.plotting import figure, show, output_file\n",
    "\n",
    "x = np.linspace(0, 4*np.pi, 100)\n",
    "y = np.sin(x)\n",
    "\n",
    "p = figure(toolbar_location=\"above\")\n",
    "\n",
    "r0 = p.circle(x, y)\n",
    "r1 = p.line(x, y)\n",
    "\n",
    "r2 = p.line(x, 2*y, line_dash=[4, 4], line_color=\"orange\", line_width=2)\n",
    "\n",
    "r3 = p.square(x, 3*y, fill_color=None, line_color=\"green\")\n",
    "r4 = p.line(x, 3*y, line_color=\"green\")\n",
    "\n",
    "legend = Legend(items=[\n",
    "    (\"sin(x)\"   , [r0, r1]),\n",
    "    (\"2*sin(x)\" , [r2]),\n",
    "    (\"3*sin(x)\" , [r3, r4]),\n",
    "], location=(0, -30))\n",
    "\n",
    "p.add_layout(legend, 'right')\n",
    "\n",
    "show(p)"
   ]
  },
  {
   "cell_type": "markdown",
   "metadata": {},
   "source": [
    "### Orientation"
   ]
  },
  {
   "cell_type": "code",
   "execution_count": 59,
   "metadata": {},
   "outputs": [
    {
     "data": {
      "text/html": [
       "\n",
       "<div class=\"bk-root\">\n",
       "    <div class=\"bk-plotdiv\" id=\"6f868bac-40cc-47ed-99d4-ba9093dbebbf\"></div>\n",
       "</div>"
      ]
     },
     "metadata": {},
     "output_type": "display_data"
    },
    {
     "data": {
      "application/javascript": [
       "(function(root) {\n",
       "  function embed_document(root) {\n",
       "    \n",
       "  var docs_json = {\"c9daea6b-f253-46e4-b6e8-c14bef935344\":{\"roots\":{\"references\":[{\"attributes\":{},\"id\":\"be240f22-ebd4-4b9d-8d9c-bd71d45ad48a\",\"type\":\"LinearScale\"},{\"attributes\":{\"line_color\":\"green\",\"x\":{\"field\":\"x\"},\"y\":{\"field\":\"y\"}},\"id\":\"827796da-ded2-42bf-ac35-dbe2058d9720\",\"type\":\"Line\"},{\"attributes\":{\"source\":{\"id\":\"a9450417-7699-4cdd-b52c-d5d39030cdcd\",\"type\":\"ColumnDataSource\"}},\"id\":\"d49838e5-c2bb-44f2-a0cc-a31a192ad661\",\"type\":\"CDSView\"},{\"attributes\":{\"formatter\":{\"id\":\"735132c1-e287-4628-923d-6adc339e9187\",\"type\":\"BasicTickFormatter\"},\"plot\":{\"id\":\"0bd7244b-11fd-4c7f-a05d-c5c5a39e1ff2\",\"subtype\":\"Figure\",\"type\":\"Plot\"},\"ticker\":{\"id\":\"fb553030-8ea3-464a-97cc-d49a1833e9c1\",\"type\":\"BasicTicker\"}},\"id\":\"c3dc4a7a-60c1-4000-a666-abe12740c127\",\"type\":\"LinearAxis\"},{\"attributes\":{},\"id\":\"2ae7e2c7-fd17-49f2-8b2c-ad860c1f71f9\",\"type\":\"BasicTickFormatter\"},{\"attributes\":{\"fill_alpha\":{\"value\":0.1},\"fill_color\":{\"value\":\"#1f77b4\"},\"line_alpha\":{\"value\":0.1},\"line_color\":{\"value\":\"#1f77b4\"},\"x\":{\"field\":\"x\"},\"y\":{\"field\":\"y\"}},\"id\":\"f878a4c9-ac7a-4a5a-b2d0-755cbde66fed\",\"type\":\"Circle\"},{\"attributes\":{},\"id\":\"4457f4bd-00da-4723-8d35-5eaa7241ba0e\",\"type\":\"PanTool\"},{\"attributes\":{\"overlay\":{\"id\":\"776311df-9274-4759-a200-02c330bca184\",\"type\":\"BoxAnnotation\"}},\"id\":\"71e54517-6fbc-4ed8-8cdb-5885de29352d\",\"type\":\"BoxZoomTool\"},{\"attributes\":{\"below\":[{\"id\":\"69d20b62-cdd8-48e9-9d97-558eee271101\",\"type\":\"LinearAxis\"}],\"left\":[{\"id\":\"c3dc4a7a-60c1-4000-a666-abe12740c127\",\"type\":\"LinearAxis\"}],\"renderers\":[{\"id\":\"69d20b62-cdd8-48e9-9d97-558eee271101\",\"type\":\"LinearAxis\"},{\"id\":\"cd0d73b0-9400-4749-b2c4-55a81a6a7d04\",\"type\":\"Grid\"},{\"id\":\"c3dc4a7a-60c1-4000-a666-abe12740c127\",\"type\":\"LinearAxis\"},{\"id\":\"84ee1522-785c-4a9f-80dc-b2683055660a\",\"type\":\"Grid\"},{\"id\":\"776311df-9274-4759-a200-02c330bca184\",\"type\":\"BoxAnnotation\"},{\"id\":\"c4a0ca46-e3b0-4e6d-a729-94ead3635ee9\",\"type\":\"Legend\"},{\"id\":\"58482b3c-9e72-4bfe-9d56-f05ce1a1ff36\",\"type\":\"GlyphRenderer\"},{\"id\":\"1007d4f3-751a-45ec-825f-aedf79b0a4d5\",\"type\":\"GlyphRenderer\"},{\"id\":\"a5ed25e1-f9b9-4be5-941e-89b4445d0d1f\",\"type\":\"GlyphRenderer\"},{\"id\":\"7942fddb-f3ba-49b0-a66c-4cf08e445578\",\"type\":\"GlyphRenderer\"},{\"id\":\"60b835e8-ad8b-4d49-ac11-1d8498db561d\",\"type\":\"GlyphRenderer\"}],\"title\":{\"id\":\"6a97fe58-25c2-45e7-bee1-b5fa01d73aea\",\"type\":\"Title\"},\"toolbar\":{\"id\":\"025a6274-c665-4afd-a721-0371074c67b7\",\"type\":\"Toolbar\"},\"x_range\":{\"id\":\"eda309a3-d02f-41f1-9a9f-f5304b9a6618\",\"type\":\"DataRange1d\"},\"x_scale\":{\"id\":\"32ca1273-aa13-43eb-b890-fb58bf63f447\",\"type\":\"LinearScale\"},\"y_range\":{\"id\":\"ef4dfb9f-ecc7-4fbe-baf3-7dc558b641dd\",\"type\":\"DataRange1d\"},\"y_scale\":{\"id\":\"be240f22-ebd4-4b9d-8d9c-bd71d45ad48a\",\"type\":\"LinearScale\"}},\"id\":\"0bd7244b-11fd-4c7f-a05d-c5c5a39e1ff2\",\"subtype\":\"Figure\",\"type\":\"Plot\"},{\"attributes\":{\"formatter\":{\"id\":\"2ae7e2c7-fd17-49f2-8b2c-ad860c1f71f9\",\"type\":\"BasicTickFormatter\"},\"plot\":{\"id\":\"0bd7244b-11fd-4c7f-a05d-c5c5a39e1ff2\",\"subtype\":\"Figure\",\"type\":\"Plot\"},\"ticker\":{\"id\":\"c184de1e-7138-4b9b-960f-775413063120\",\"type\":\"BasicTicker\"}},\"id\":\"69d20b62-cdd8-48e9-9d97-558eee271101\",\"type\":\"LinearAxis\"},{\"attributes\":{\"source\":{\"id\":\"850b8b66-251f-428a-a935-8480fb4e92a8\",\"type\":\"ColumnDataSource\"}},\"id\":\"638ad217-47c4-4dc3-bf31-664164bcdb2d\",\"type\":\"CDSView\"},{\"attributes\":{\"callback\":null,\"column_names\":[\"x\",\"y\"],\"data\":{\"x\":{\"__ndarray__\":\"AAAAAAAAAACRGkt8Vz/AP5EaS3xXP9A/2qdwOgNf2D+RGkt8Vz/gPzXhXVstT+Q/2qdwOgNf6D9+boMZ2W7sP5EaS3xXP/A/433Ua0JH8j814V1bLU/0P4dE50oYV/Y/2qdwOgNf+D8sC/op7mb6P35ugxnZbvw/0NEMCcR2/j+RGkt8Vz8AQDrMD/RMQwFA433Ua0JHAkCML5njN0sDQDXhXVstTwRA3pIi0yJTBUCHROdKGFcGQDD2q8INWwdA2qdwOgNfCECDWTWy+GIJQCwL+inuZgpA1by+oeNqC0B+boMZ2W4MQCcgSJHOcg1A0NEMCcR2DkB5g9GAuXoPQJEaS3xXPxBAZnMtOFLBEEA6zA/0TEMRQA8l8q9HxRFA433Ua0JHEkC41rYnPckSQIwvmeM3SxNAYYh7nzLNE0A14V1bLU8UQAo6QBco0RRA3pIi0yJTFUCz6wSPHdUVQIdE50oYVxZAXJ3JBhPZFkAw9qvCDVsXQAVPjn4I3RdA2qdwOgNfGECuAFP2/eAYQINZNbL4YhlAV7IXbvPkGUAsC/op7mYaQABk3OXo6BpA1by+oeNqG0CpFaFd3uwbQH5ugxnZbhxAUsdl1dPwHEAnIEiRznIdQPt4Kk3J9B1A0NEMCcR2HkCkKu/EvvgeQHmD0YC5eh9ATdyzPLT8H0CRGkt8Vz8gQPtGPNpUgCBAZnMtOFLBIEDQnx6WTwIhQDrMD/RMQyFApPgAUkqEIUAPJfKvR8UhQHlR4w1FBiJA433Ua0JHIkBNqsXJP4giQLjWtic9ySJAIgOohToKI0CML5njN0sjQPZbikE1jCNAYYh7nzLNI0DLtGz9Lw4kQDXhXVstTyRAoA1PuSqQJEAKOkAXKNEkQHRmMXUlEiVA3pIi0yJTJUBJvxMxIJQlQLPrBI8d1SVAHRj27BoWJkCHROdKGFcmQPJw2KgVmCZAXJ3JBhPZJkDGybpkEBonQDD2q8INWydAmyKdIAucJ0AFT45+CN0nQG97f9wFHihA2qdwOgNfKEBE1GGYAKAoQK4AU/b94ChAGC1EVPshKUA=\",\"dtype\":\"float64\",\"shape\":[100]},\"y\":{\"__ndarray__\":\"AAAAAAAAAADwgwJ4LjTAP5qI2QHPEtA/+5MNU1HJ1z8ZTT7q2B3fP0aFmgwa+eI/ABg/lCAV5j+IQCEcMdboP3fOhmLzMOs/EyzujrQb7T/9Izwlj47uPxccgYyLg+8/g6xao7j27z9mZrL8O+bvP7+X94FZUu8/xVNiW3I97j9RB8Ai+6vsP5FWKYlppOo/oSg6uxkv6D/Sh2bxK1blPyZGRbpaJeI/8qg+VZVT3T/4C4p0qOPVP+UppLIiM8w/3FNHxZdVuD/J23zJpD6gv+3ENsZjOcS/wo12/ecH0r/dgWKM2KjZv2MTsJELcOC/83ixWvXH47+358MBZM7mv5eCD4nhdum/rExY6Hq267+TIxAn7YPtvwSssILL1+6/70I4BJ6s77/vOc8G+P7vvzTGy1KGze+/3176khQZ77/C8a4NiuTtvzGcHq/dNOy/l0FFlgER6r+EGZN4xoHnvx8WPFK3keS/Cli7+O1M4b+HQNqEwoHbv9kfIiFb+NO/gKyggGI5yL8EhrXMjDywvyGGtcyMPLA/jqyggGI5yD/gHyIhW/jTP4BA2oTCgds/DVi7+O1M4T8cFjxSt5HkP4cZk3jGgec/lUFFlgER6j8ynB6v3TTsP8Hxrg2K5O0/4F76khQZ7z80xstShs3vP+85zwb4/u8/8EI4BJ6s7z8DrLCCy9fuP5UjECftg+0/p0xY6Hq26z+Vgg+J4XbpP7fnwwFkzuY/9nixWvXH4z9dE7CRC3DgP9eBYozYqNk/w412/ecH0j/+xDbGYznEP0/bfMmkPqA/+FNHxZdVuL/UKaSyIjPMv+gLinSo49W/+Kg+VZVT3b8lRkW6WiXiv8+HZvErVuW/pig6uxkv6L+TVimJaaTqv1EHwCL7q+y/xFNiW3I97r/Al/eBWVLvv2Zmsvw75u+/g6xao7j2778YHIGMi4Pvv/sjPCWPju6/EyzujrQb7b94zoZi8zDrv4xAIRwx1ui//Bc/lCAV5r9GhZoMGvnivx5NPurYHd+/65MNU1HJ17+SiNkBzxLQv/GDAnguNMC/B1wUMyamwbw=\",\"dtype\":\"float64\",\"shape\":[100]}}},\"id\":\"fb65cb87-0406-46ab-b4eb-ad8137a1e058\",\"type\":\"ColumnDataSource\"},{\"attributes\":{\"fill_color\":{\"value\":\"#1f77b4\"},\"line_color\":{\"value\":\"#1f77b4\"},\"x\":{\"field\":\"x\"},\"y\":{\"field\":\"y\"}},\"id\":\"aaf135fc-d66a-4c9d-82ce-923d842d941a\",\"type\":\"Circle\"},{\"attributes\":{\"source\":{\"id\":\"0f295bdb-fc4b-4da7-9a1f-d5a544ae7267\",\"type\":\"ColumnDataSource\"}},\"id\":\"0a3f0ce6-4b90-4d86-8cbe-89a63430a74b\",\"type\":\"CDSView\"},{\"attributes\":{\"plot\":null,\"text\":\"\"},\"id\":\"6a97fe58-25c2-45e7-bee1-b5fa01d73aea\",\"type\":\"Title\"},{\"attributes\":{\"data_source\":{\"id\":\"0f295bdb-fc4b-4da7-9a1f-d5a544ae7267\",\"type\":\"ColumnDataSource\"},\"glyph\":{\"id\":\"827796da-ded2-42bf-ac35-dbe2058d9720\",\"type\":\"Line\"},\"hover_glyph\":null,\"muted_glyph\":null,\"nonselection_glyph\":{\"id\":\"46e9c3e5-5ad6-46bd-af3a-2d7b772a3169\",\"type\":\"Line\"},\"selection_glyph\":null,\"view\":{\"id\":\"0a3f0ce6-4b90-4d86-8cbe-89a63430a74b\",\"type\":\"CDSView\"}},\"id\":\"60b835e8-ad8b-4d49-ac11-1d8498db561d\",\"type\":\"GlyphRenderer\"},{\"attributes\":{\"line_alpha\":0.1,\"line_color\":\"#1f77b4\",\"x\":{\"field\":\"x\"},\"y\":{\"field\":\"y\"}},\"id\":\"46e9c3e5-5ad6-46bd-af3a-2d7b772a3169\",\"type\":\"Line\"},{\"attributes\":{\"fill_alpha\":{\"value\":0.1},\"fill_color\":{\"value\":\"#1f77b4\"},\"line_alpha\":{\"value\":0.1},\"line_color\":{\"value\":\"#1f77b4\"},\"x\":{\"field\":\"x\"},\"y\":{\"field\":\"y\"}},\"id\":\"0c608252-aa98-48ee-ac4d-a452a72ab62e\",\"type\":\"Square\"},{\"attributes\":{},\"id\":\"fb553030-8ea3-464a-97cc-d49a1833e9c1\",\"type\":\"BasicTicker\"},{\"attributes\":{},\"id\":\"059a7af2-4910-44de-b82a-e5b3e61f6581\",\"type\":\"HelpTool\"},{\"attributes\":{\"label\":{\"value\":\"3*sin(x)\"},\"renderers\":[{\"id\":\"7942fddb-f3ba-49b0-a66c-4cf08e445578\",\"type\":\"GlyphRenderer\"},{\"id\":\"60b835e8-ad8b-4d49-ac11-1d8498db561d\",\"type\":\"GlyphRenderer\"}]},\"id\":\"457568a8-2e27-4084-ab70-5f75e91cfc7d\",\"type\":\"LegendItem\"},{\"attributes\":{\"data_source\":{\"id\":\"850b8b66-251f-428a-a935-8480fb4e92a8\",\"type\":\"ColumnDataSource\"},\"glyph\":{\"id\":\"45ca5f45-3bee-439a-bd0b-5d95e906b063\",\"type\":\"Square\"},\"hover_glyph\":null,\"muted_glyph\":null,\"nonselection_glyph\":{\"id\":\"0c608252-aa98-48ee-ac4d-a452a72ab62e\",\"type\":\"Square\"},\"selection_glyph\":null,\"view\":{\"id\":\"638ad217-47c4-4dc3-bf31-664164bcdb2d\",\"type\":\"CDSView\"}},\"id\":\"7942fddb-f3ba-49b0-a66c-4cf08e445578\",\"type\":\"GlyphRenderer\"},{\"attributes\":{\"bottom_units\":\"screen\",\"fill_alpha\":{\"value\":0.5},\"fill_color\":{\"value\":\"lightgrey\"},\"left_units\":\"screen\",\"level\":\"overlay\",\"line_alpha\":{\"value\":1.0},\"line_color\":{\"value\":\"black\"},\"line_dash\":[4,4],\"line_width\":{\"value\":2},\"plot\":null,\"render_mode\":\"css\",\"right_units\":\"screen\",\"top_units\":\"screen\"},\"id\":\"776311df-9274-4759-a200-02c330bca184\",\"type\":\"BoxAnnotation\"},{\"attributes\":{\"source\":{\"id\":\"fb65cb87-0406-46ab-b4eb-ad8137a1e058\",\"type\":\"ColumnDataSource\"}},\"id\":\"e809da09-5387-45f3-ad0d-3595033b98d7\",\"type\":\"CDSView\"},{\"attributes\":{},\"id\":\"735132c1-e287-4628-923d-6adc339e9187\",\"type\":\"BasicTickFormatter\"},{\"attributes\":{},\"id\":\"e3f0e44c-8b46-4d02-a11c-14c4afdd02c6\",\"type\":\"WheelZoomTool\"},{\"attributes\":{\"callback\":null,\"column_names\":[\"x\",\"y\"],\"data\":{\"x\":{\"__ndarray__\":\"AAAAAAAAAACRGkt8Vz/AP5EaS3xXP9A/2qdwOgNf2D+RGkt8Vz/gPzXhXVstT+Q/2qdwOgNf6D9+boMZ2W7sP5EaS3xXP/A/433Ua0JH8j814V1bLU/0P4dE50oYV/Y/2qdwOgNf+D8sC/op7mb6P35ugxnZbvw/0NEMCcR2/j+RGkt8Vz8AQDrMD/RMQwFA433Ua0JHAkCML5njN0sDQDXhXVstTwRA3pIi0yJTBUCHROdKGFcGQDD2q8INWwdA2qdwOgNfCECDWTWy+GIJQCwL+inuZgpA1by+oeNqC0B+boMZ2W4MQCcgSJHOcg1A0NEMCcR2DkB5g9GAuXoPQJEaS3xXPxBAZnMtOFLBEEA6zA/0TEMRQA8l8q9HxRFA433Ua0JHEkC41rYnPckSQIwvmeM3SxNAYYh7nzLNE0A14V1bLU8UQAo6QBco0RRA3pIi0yJTFUCz6wSPHdUVQIdE50oYVxZAXJ3JBhPZFkAw9qvCDVsXQAVPjn4I3RdA2qdwOgNfGECuAFP2/eAYQINZNbL4YhlAV7IXbvPkGUAsC/op7mYaQABk3OXo6BpA1by+oeNqG0CpFaFd3uwbQH5ugxnZbhxAUsdl1dPwHEAnIEiRznIdQPt4Kk3J9B1A0NEMCcR2HkCkKu/EvvgeQHmD0YC5eh9ATdyzPLT8H0CRGkt8Vz8gQPtGPNpUgCBAZnMtOFLBIEDQnx6WTwIhQDrMD/RMQyFApPgAUkqEIUAPJfKvR8UhQHlR4w1FBiJA433Ua0JHIkBNqsXJP4giQLjWtic9ySJAIgOohToKI0CML5njN0sjQPZbikE1jCNAYYh7nzLNI0DLtGz9Lw4kQDXhXVstTyRAoA1PuSqQJEAKOkAXKNEkQHRmMXUlEiVA3pIi0yJTJUBJvxMxIJQlQLPrBI8d1SVAHRj27BoWJkCHROdKGFcmQPJw2KgVmCZAXJ3JBhPZJkDGybpkEBonQDD2q8INWydAmyKdIAucJ0AFT45+CN0nQG97f9wFHihA2qdwOgNfKEBE1GGYAKAoQK4AU/b94ChAGC1EVPshKUA=\",\"dtype\":\"float64\",\"shape\":[100]},\"y\":{\"__ndarray__\":\"AAAAAAAAAADoxQO0RU7YP+dMxoI2HOg//C5K/vzW8T/Tua6vYlb3P+nH5xKndfw/AFIvb9iPAEBm8BjVpKACQNka5Ym2ZARADqEya8fUBUD+Gu1b6+oGQBHVYKmoogdAYgGEegr5B0DMzIX9rOwHQM+xeSHDfQdA1L6JxBWuBkB9BRBa/IAFQO0A3yZP+wNAeZ5rTFMjAkDe5Qz1oAAAQDnpZxcIOPs/tv7u/6/+9T/6iGdXvmrwP2wf+wVaJuU/5X710zFA0j+uSTsu9124v2QnUqkVVt6/o9Qx/NsL679m4Ulpoj7zvxQdiFoRqPi/bDUKCPCr/b/J7VIByxoBwPGhyyYpGQPAgTlCLtzIBMCuGkzd8SIGwAOBBKLYIQfAMzIqg3bBB8BzaxsFOv8HwKfUGL4k2gfAJ8c7bs9SB8BSNUOKZ2sGwCX1VkOmJwXAMfGzMMGMA8AjU27aVKEBwC4hWvuS2v6/DwQZ9WTz+b9lsKPjUaH0v8Yvs7GI9O2/YIF44Akr4r8GSRAz01rIvzJJEDPTWsg/aoF44Akr4j/QL7OxiPTtP2Cwo+NRofQ/FAQZ9WTz+T8qIVr7ktr+PyVTbtpUoQFAMPGzMMGMA0Am9VZDpicFQFE1Q4pnawZAKMc7bs9SB0Cn1Bi+JNoHQHNrGwU6/wdANDIqg3bBB0ACgQSi2CEHQLAaTN3xIgZAfTlCLtzIBEDwocsmKRkDQMntUgHLGgFAcTUKCPCr/T8MHYhaEaj4P2HhSWmiPvM/pNQx/NsL6z99J1KpFVbeP/ZIOy73Xbg/+n710zFA0r9fH/sFWiblv+6IZ1e+avC/uv7u/6/+9b846WcXCDj7v9vlDPWgAADAfJ5rTFMjAsDuAN8mT/sDwH0FEFr8gAXA076JxBWuBsDQsXkhw30HwMzMhf2s7AfAYgGEegr5B8AS1WCpqKIHwPwa7Vvr6gbADqEya8fUBcDaGuWJtmQEwGnwGNWkoALA/VEvb9iPAMDpx+cSp3X8v9a5rq9iVve/8C5K/vzW8b/bTMaCNhzov+rFA7RFTti/CoqeTDl52rw=\",\"dtype\":\"float64\",\"shape\":[100]}}},\"id\":\"0f295bdb-fc4b-4da7-9a1f-d5a544ae7267\",\"type\":\"ColumnDataSource\"},{\"attributes\":{\"callback\":null,\"column_names\":[\"x\",\"y\"],\"data\":{\"x\":{\"__ndarray__\":\"AAAAAAAAAACRGkt8Vz/AP5EaS3xXP9A/2qdwOgNf2D+RGkt8Vz/gPzXhXVstT+Q/2qdwOgNf6D9+boMZ2W7sP5EaS3xXP/A/433Ua0JH8j814V1bLU/0P4dE50oYV/Y/2qdwOgNf+D8sC/op7mb6P35ugxnZbvw/0NEMCcR2/j+RGkt8Vz8AQDrMD/RMQwFA433Ua0JHAkCML5njN0sDQDXhXVstTwRA3pIi0yJTBUCHROdKGFcGQDD2q8INWwdA2qdwOgNfCECDWTWy+GIJQCwL+inuZgpA1by+oeNqC0B+boMZ2W4MQCcgSJHOcg1A0NEMCcR2DkB5g9GAuXoPQJEaS3xXPxBAZnMtOFLBEEA6zA/0TEMRQA8l8q9HxRFA433Ua0JHEkC41rYnPckSQIwvmeM3SxNAYYh7nzLNE0A14V1bLU8UQAo6QBco0RRA3pIi0yJTFUCz6wSPHdUVQIdE50oYVxZAXJ3JBhPZFkAw9qvCDVsXQAVPjn4I3RdA2qdwOgNfGECuAFP2/eAYQINZNbL4YhlAV7IXbvPkGUAsC/op7mYaQABk3OXo6BpA1by+oeNqG0CpFaFd3uwbQH5ugxnZbhxAUsdl1dPwHEAnIEiRznIdQPt4Kk3J9B1A0NEMCcR2HkCkKu/EvvgeQHmD0YC5eh9ATdyzPLT8H0CRGkt8Vz8gQPtGPNpUgCBAZnMtOFLBIEDQnx6WTwIhQDrMD/RMQyFApPgAUkqEIUAPJfKvR8UhQHlR4w1FBiJA433Ua0JHIkBNqsXJP4giQLjWtic9ySJAIgOohToKI0CML5njN0sjQPZbikE1jCNAYYh7nzLNI0DLtGz9Lw4kQDXhXVstTyRAoA1PuSqQJEAKOkAXKNEkQHRmMXUlEiVA3pIi0yJTJUBJvxMxIJQlQLPrBI8d1SVAHRj27BoWJkCHROdKGFcmQPJw2KgVmCZAXJ3JBhPZJkDGybpkEBonQDD2q8INWydAmyKdIAucJ0AFT45+CN0nQG97f9wFHihA2qdwOgNfKEBE1GGYAKAoQK4AU/b94ChAGC1EVPshKUA=\",\"dtype\":\"float64\",\"shape\":[100]},\"y\":{\"__ndarray__\":\"AAAAAAAAAADoxQO0RU7YP+dMxoI2HOg//C5K/vzW8T/Tua6vYlb3P+nH5xKndfw/AFIvb9iPAEBm8BjVpKACQNka5Ym2ZARADqEya8fUBUD+Gu1b6+oGQBHVYKmoogdAYgGEegr5B0DMzIX9rOwHQM+xeSHDfQdA1L6JxBWuBkB9BRBa/IAFQO0A3yZP+wNAeZ5rTFMjAkDe5Qz1oAAAQDnpZxcIOPs/tv7u/6/+9T/6iGdXvmrwP2wf+wVaJuU/5X710zFA0j+uSTsu9124v2QnUqkVVt6/o9Qx/NsL679m4Ulpoj7zvxQdiFoRqPi/bDUKCPCr/b/J7VIByxoBwPGhyyYpGQPAgTlCLtzIBMCuGkzd8SIGwAOBBKLYIQfAMzIqg3bBB8BzaxsFOv8HwKfUGL4k2gfAJ8c7bs9SB8BSNUOKZ2sGwCX1VkOmJwXAMfGzMMGMA8AjU27aVKEBwC4hWvuS2v6/DwQZ9WTz+b9lsKPjUaH0v8Yvs7GI9O2/YIF44Akr4r8GSRAz01rIvzJJEDPTWsg/aoF44Akr4j/QL7OxiPTtP2Cwo+NRofQ/FAQZ9WTz+T8qIVr7ktr+PyVTbtpUoQFAMPGzMMGMA0Am9VZDpicFQFE1Q4pnawZAKMc7bs9SB0Cn1Bi+JNoHQHNrGwU6/wdANDIqg3bBB0ACgQSi2CEHQLAaTN3xIgZAfTlCLtzIBEDwocsmKRkDQMntUgHLGgFAcTUKCPCr/T8MHYhaEaj4P2HhSWmiPvM/pNQx/NsL6z99J1KpFVbeP/ZIOy73Xbg/+n710zFA0r9fH/sFWiblv+6IZ1e+avC/uv7u/6/+9b846WcXCDj7v9vlDPWgAADAfJ5rTFMjAsDuAN8mT/sDwH0FEFr8gAXA076JxBWuBsDQsXkhw30HwMzMhf2s7AfAYgGEegr5B8AS1WCpqKIHwPwa7Vvr6gbADqEya8fUBcDaGuWJtmQEwGnwGNWkoALA/VEvb9iPAMDpx+cSp3X8v9a5rq9iVve/8C5K/vzW8b/bTMaCNhzov+rFA7RFTti/CoqeTDl52rw=\",\"dtype\":\"float64\",\"shape\":[100]}}},\"id\":\"850b8b66-251f-428a-a935-8480fb4e92a8\",\"type\":\"ColumnDataSource\"},{\"attributes\":{\"callback\":null,\"column_names\":[\"x\",\"y\"],\"data\":{\"x\":{\"__ndarray__\":\"AAAAAAAAAACRGkt8Vz/AP5EaS3xXP9A/2qdwOgNf2D+RGkt8Vz/gPzXhXVstT+Q/2qdwOgNf6D9+boMZ2W7sP5EaS3xXP/A/433Ua0JH8j814V1bLU/0P4dE50oYV/Y/2qdwOgNf+D8sC/op7mb6P35ugxnZbvw/0NEMCcR2/j+RGkt8Vz8AQDrMD/RMQwFA433Ua0JHAkCML5njN0sDQDXhXVstTwRA3pIi0yJTBUCHROdKGFcGQDD2q8INWwdA2qdwOgNfCECDWTWy+GIJQCwL+inuZgpA1by+oeNqC0B+boMZ2W4MQCcgSJHOcg1A0NEMCcR2DkB5g9GAuXoPQJEaS3xXPxBAZnMtOFLBEEA6zA/0TEMRQA8l8q9HxRFA433Ua0JHEkC41rYnPckSQIwvmeM3SxNAYYh7nzLNE0A14V1bLU8UQAo6QBco0RRA3pIi0yJTFUCz6wSPHdUVQIdE50oYVxZAXJ3JBhPZFkAw9qvCDVsXQAVPjn4I3RdA2qdwOgNfGECuAFP2/eAYQINZNbL4YhlAV7IXbvPkGUAsC/op7mYaQABk3OXo6BpA1by+oeNqG0CpFaFd3uwbQH5ugxnZbhxAUsdl1dPwHEAnIEiRznIdQPt4Kk3J9B1A0NEMCcR2HkCkKu/EvvgeQHmD0YC5eh9ATdyzPLT8H0CRGkt8Vz8gQPtGPNpUgCBAZnMtOFLBIEDQnx6WTwIhQDrMD/RMQyFApPgAUkqEIUAPJfKvR8UhQHlR4w1FBiJA433Ua0JHIkBNqsXJP4giQLjWtic9ySJAIgOohToKI0CML5njN0sjQPZbikE1jCNAYYh7nzLNI0DLtGz9Lw4kQDXhXVstTyRAoA1PuSqQJEAKOkAXKNEkQHRmMXUlEiVA3pIi0yJTJUBJvxMxIJQlQLPrBI8d1SVAHRj27BoWJkCHROdKGFcmQPJw2KgVmCZAXJ3JBhPZJkDGybpkEBonQDD2q8INWydAmyKdIAucJ0AFT45+CN0nQG97f9wFHihA2qdwOgNfKEBE1GGYAKAoQK4AU/b94ChAGC1EVPshKUA=\",\"dtype\":\"float64\",\"shape\":[100]},\"y\":{\"__ndarray__\":\"AAAAAAAAAADwgwJ4LjTQP5qI2QHPEuA/+5MNU1HJ5z8ZTT7q2B3vP0aFmgwa+fI/ABg/lCAV9j+IQCEcMdb4P3fOhmLzMPs/EyzujrQb/T/9Izwlj47+PxccgYyLg/8/g6xao7j2/z9mZrL8O+b/P7+X94FZUv8/xVNiW3I9/j9RB8Ai+6v8P5FWKYlppPo/oSg6uxkv+D/Sh2bxK1b1PyZGRbpaJfI/8qg+VZVT7T/4C4p0qOPlP+UppLIiM9w/3FNHxZdVyD/J23zJpD6wv+3ENsZjOdS/wo12/ecH4r/dgWKM2Kjpv2MTsJELcPC/83ixWvXH87+358MBZM72v5eCD4nhdvm/rExY6Hq2+7+TIxAn7YP9vwSssILL1/6/70I4BJ6s/7/vOc8G+P7/vzTGy1KGzf+/3176khQZ/7/C8a4NiuT9vzGcHq/dNPy/l0FFlgER+r+EGZN4xoH3vx8WPFK3kfS/Cli7+O1M8b+HQNqEwoHrv9kfIiFb+OO/gKyggGI52L8EhrXMjDzAvyGGtcyMPMA/jqyggGI52D/gHyIhW/jjP4BA2oTCges/DVi7+O1M8T8cFjxSt5H0P4cZk3jGgfc/lUFFlgER+j8ynB6v3TT8P8Hxrg2K5P0/4F76khQZ/z80xstShs3/P+85zwb4/v8/8EI4BJ6s/z8DrLCCy9f+P5UjECftg/0/p0xY6Hq2+z+Vgg+J4Xb5P7fnwwFkzvY/9nixWvXH8z9dE7CRC3DwP9eBYozYqOk/w412/ecH4j/+xDbGYznUP0/bfMmkPrA/+FNHxZdVyL/UKaSyIjPcv+gLinSo4+W/+Kg+VZVT7b8lRkW6WiXyv8+HZvErVvW/pig6uxkv+L+TVimJaaT6v1EHwCL7q/y/xFNiW3I9/r/Al/eBWVL/v2Zmsvw75v+/g6xao7j2/78YHIGMi4P/v/sjPCWPjv6/EyzujrQb/b94zoZi8zD7v4xAIRwx1vi//Bc/lCAV9r9GhZoMGvnyvx5NPurYHe+/65MNU1HJ57+SiNkBzxLgv/GDAnguNNC/B1wUMyam0bw=\",\"dtype\":\"float64\",\"shape\":[100]}}},\"id\":\"a9450417-7699-4cdd-b52c-d5d39030cdcd\",\"type\":\"ColumnDataSource\"},{\"attributes\":{},\"id\":\"32ca1273-aa13-43eb-b890-fb58bf63f447\",\"type\":\"LinearScale\"},{\"attributes\":{\"label\":{\"value\":\"2*sin(x)\"},\"renderers\":[{\"id\":\"a5ed25e1-f9b9-4be5-941e-89b4445d0d1f\",\"type\":\"GlyphRenderer\"}]},\"id\":\"edd2aa74-3ae5-4d96-a51c-9e1bf6572dec\",\"type\":\"LegendItem\"},{\"attributes\":{\"callback\":null,\"column_names\":[\"x\",\"y\"],\"data\":{\"x\":{\"__ndarray__\":\"AAAAAAAAAACRGkt8Vz/AP5EaS3xXP9A/2qdwOgNf2D+RGkt8Vz/gPzXhXVstT+Q/2qdwOgNf6D9+boMZ2W7sP5EaS3xXP/A/433Ua0JH8j814V1bLU/0P4dE50oYV/Y/2qdwOgNf+D8sC/op7mb6P35ugxnZbvw/0NEMCcR2/j+RGkt8Vz8AQDrMD/RMQwFA433Ua0JHAkCML5njN0sDQDXhXVstTwRA3pIi0yJTBUCHROdKGFcGQDD2q8INWwdA2qdwOgNfCECDWTWy+GIJQCwL+inuZgpA1by+oeNqC0B+boMZ2W4MQCcgSJHOcg1A0NEMCcR2DkB5g9GAuXoPQJEaS3xXPxBAZnMtOFLBEEA6zA/0TEMRQA8l8q9HxRFA433Ua0JHEkC41rYnPckSQIwvmeM3SxNAYYh7nzLNE0A14V1bLU8UQAo6QBco0RRA3pIi0yJTFUCz6wSPHdUVQIdE50oYVxZAXJ3JBhPZFkAw9qvCDVsXQAVPjn4I3RdA2qdwOgNfGECuAFP2/eAYQINZNbL4YhlAV7IXbvPkGUAsC/op7mYaQABk3OXo6BpA1by+oeNqG0CpFaFd3uwbQH5ugxnZbhxAUsdl1dPwHEAnIEiRznIdQPt4Kk3J9B1A0NEMCcR2HkCkKu/EvvgeQHmD0YC5eh9ATdyzPLT8H0CRGkt8Vz8gQPtGPNpUgCBAZnMtOFLBIEDQnx6WTwIhQDrMD/RMQyFApPgAUkqEIUAPJfKvR8UhQHlR4w1FBiJA433Ua0JHIkBNqsXJP4giQLjWtic9ySJAIgOohToKI0CML5njN0sjQPZbikE1jCNAYYh7nzLNI0DLtGz9Lw4kQDXhXVstTyRAoA1PuSqQJEAKOkAXKNEkQHRmMXUlEiVA3pIi0yJTJUBJvxMxIJQlQLPrBI8d1SVAHRj27BoWJkCHROdKGFcmQPJw2KgVmCZAXJ3JBhPZJkDGybpkEBonQDD2q8INWydAmyKdIAucJ0AFT45+CN0nQG97f9wFHihA2qdwOgNfKEBE1GGYAKAoQK4AU/b94ChAGC1EVPshKUA=\",\"dtype\":\"float64\",\"shape\":[100]},\"y\":{\"__ndarray__\":\"AAAAAAAAAADwgwJ4LjTAP5qI2QHPEtA/+5MNU1HJ1z8ZTT7q2B3fP0aFmgwa+eI/ABg/lCAV5j+IQCEcMdboP3fOhmLzMOs/EyzujrQb7T/9Izwlj47uPxccgYyLg+8/g6xao7j27z9mZrL8O+bvP7+X94FZUu8/xVNiW3I97j9RB8Ai+6vsP5FWKYlppOo/oSg6uxkv6D/Sh2bxK1blPyZGRbpaJeI/8qg+VZVT3T/4C4p0qOPVP+UppLIiM8w/3FNHxZdVuD/J23zJpD6gv+3ENsZjOcS/wo12/ecH0r/dgWKM2KjZv2MTsJELcOC/83ixWvXH47+358MBZM7mv5eCD4nhdum/rExY6Hq267+TIxAn7YPtvwSssILL1+6/70I4BJ6s77/vOc8G+P7vvzTGy1KGze+/3176khQZ77/C8a4NiuTtvzGcHq/dNOy/l0FFlgER6r+EGZN4xoHnvx8WPFK3keS/Cli7+O1M4b+HQNqEwoHbv9kfIiFb+NO/gKyggGI5yL8EhrXMjDywvyGGtcyMPLA/jqyggGI5yD/gHyIhW/jTP4BA2oTCgds/DVi7+O1M4T8cFjxSt5HkP4cZk3jGgec/lUFFlgER6j8ynB6v3TTsP8Hxrg2K5O0/4F76khQZ7z80xstShs3vP+85zwb4/u8/8EI4BJ6s7z8DrLCCy9fuP5UjECftg+0/p0xY6Hq26z+Vgg+J4XbpP7fnwwFkzuY/9nixWvXH4z9dE7CRC3DgP9eBYozYqNk/w412/ecH0j/+xDbGYznEP0/bfMmkPqA/+FNHxZdVuL/UKaSyIjPMv+gLinSo49W/+Kg+VZVT3b8lRkW6WiXiv8+HZvErVuW/pig6uxkv6L+TVimJaaTqv1EHwCL7q+y/xFNiW3I97r/Al/eBWVLvv2Zmsvw75u+/g6xao7j2778YHIGMi4Pvv/sjPCWPju6/EyzujrQb7b94zoZi8zDrv4xAIRwx1ui//Bc/lCAV5r9GhZoMGvnivx5NPurYHd+/65MNU1HJ17+SiNkBzxLQv/GDAnguNMC/B1wUMyamwbw=\",\"dtype\":\"float64\",\"shape\":[100]}}},\"id\":\"41054d82-0223-4abf-973d-81aa3d0246bd\",\"type\":\"ColumnDataSource\"},{\"attributes\":{\"plot\":{\"id\":\"0bd7244b-11fd-4c7f-a05d-c5c5a39e1ff2\",\"subtype\":\"Figure\",\"type\":\"Plot\"},\"ticker\":{\"id\":\"c184de1e-7138-4b9b-960f-775413063120\",\"type\":\"BasicTicker\"}},\"id\":\"cd0d73b0-9400-4749-b2c4-55a81a6a7d04\",\"type\":\"Grid\"},{\"attributes\":{\"label\":{\"value\":\"sin(x)\"},\"renderers\":[{\"id\":\"58482b3c-9e72-4bfe-9d56-f05ce1a1ff36\",\"type\":\"GlyphRenderer\"},{\"id\":\"1007d4f3-751a-45ec-825f-aedf79b0a4d5\",\"type\":\"GlyphRenderer\"}]},\"id\":\"d55c9adf-262e-483b-a2a2-9944e81e8d81\",\"type\":\"LegendItem\"},{\"attributes\":{\"line_alpha\":0.1,\"line_color\":\"#1f77b4\",\"x\":{\"field\":\"x\"},\"y\":{\"field\":\"y\"}},\"id\":\"07fa41c5-0e31-40f1-afe6-8d223656f3a4\",\"type\":\"Line\"},{\"attributes\":{\"items\":[{\"id\":\"d55c9adf-262e-483b-a2a2-9944e81e8d81\",\"type\":\"LegendItem\"},{\"id\":\"edd2aa74-3ae5-4d96-a51c-9e1bf6572dec\",\"type\":\"LegendItem\"},{\"id\":\"457568a8-2e27-4084-ab70-5f75e91cfc7d\",\"type\":\"LegendItem\"}],\"orientation\":\"horizontal\",\"plot\":{\"id\":\"0bd7244b-11fd-4c7f-a05d-c5c5a39e1ff2\",\"subtype\":\"Figure\",\"type\":\"Plot\"}},\"id\":\"c4a0ca46-e3b0-4e6d-a729-94ead3635ee9\",\"type\":\"Legend\"},{\"attributes\":{},\"id\":\"4434a72a-50a0-40ed-bb8d-8cbb2a8facd3\",\"type\":\"ResetTool\"},{\"attributes\":{\"callback\":null},\"id\":\"eda309a3-d02f-41f1-9a9f-f5304b9a6618\",\"type\":\"DataRange1d\"},{\"attributes\":{\"data_source\":{\"id\":\"41054d82-0223-4abf-973d-81aa3d0246bd\",\"type\":\"ColumnDataSource\"},\"glyph\":{\"id\":\"aaf135fc-d66a-4c9d-82ce-923d842d941a\",\"type\":\"Circle\"},\"hover_glyph\":null,\"muted_glyph\":null,\"nonselection_glyph\":{\"id\":\"f878a4c9-ac7a-4a5a-b2d0-755cbde66fed\",\"type\":\"Circle\"},\"selection_glyph\":null,\"view\":{\"id\":\"06e17780-6c22-442f-b72e-97b63fdd36f0\",\"type\":\"CDSView\"}},\"id\":\"58482b3c-9e72-4bfe-9d56-f05ce1a1ff36\",\"type\":\"GlyphRenderer\"},{\"attributes\":{\"data_source\":{\"id\":\"a9450417-7699-4cdd-b52c-d5d39030cdcd\",\"type\":\"ColumnDataSource\"},\"glyph\":{\"id\":\"739d3d4b-b6f1-4a83-ac92-407986891c69\",\"type\":\"Line\"},\"hover_glyph\":null,\"muted_glyph\":null,\"nonselection_glyph\":{\"id\":\"193a25e1-6e48-4dee-b645-e1ae8e1c3e7d\",\"type\":\"Line\"},\"selection_glyph\":null,\"view\":{\"id\":\"d49838e5-c2bb-44f2-a0cc-a31a192ad661\",\"type\":\"CDSView\"}},\"id\":\"a5ed25e1-f9b9-4be5-941e-89b4445d0d1f\",\"type\":\"GlyphRenderer\"},{\"attributes\":{\"active_drag\":\"auto\",\"active_inspect\":\"auto\",\"active_scroll\":\"auto\",\"active_tap\":\"auto\",\"tools\":[{\"id\":\"4457f4bd-00da-4723-8d35-5eaa7241ba0e\",\"type\":\"PanTool\"},{\"id\":\"e3f0e44c-8b46-4d02-a11c-14c4afdd02c6\",\"type\":\"WheelZoomTool\"},{\"id\":\"71e54517-6fbc-4ed8-8cdb-5885de29352d\",\"type\":\"BoxZoomTool\"},{\"id\":\"8b940f3e-e6fc-4115-bf3c-298bf28d4bfb\",\"type\":\"SaveTool\"},{\"id\":\"4434a72a-50a0-40ed-bb8d-8cbb2a8facd3\",\"type\":\"ResetTool\"},{\"id\":\"059a7af2-4910-44de-b82a-e5b3e61f6581\",\"type\":\"HelpTool\"}]},\"id\":\"025a6274-c665-4afd-a721-0371074c67b7\",\"type\":\"Toolbar\"},{\"attributes\":{\"callback\":null},\"id\":\"ef4dfb9f-ecc7-4fbe-baf3-7dc558b641dd\",\"type\":\"DataRange1d\"},{\"attributes\":{},\"id\":\"8b940f3e-e6fc-4115-bf3c-298bf28d4bfb\",\"type\":\"SaveTool\"},{\"attributes\":{\"line_alpha\":0.1,\"line_color\":\"#1f77b4\",\"line_dash\":[4,4],\"line_width\":2,\"x\":{\"field\":\"x\"},\"y\":{\"field\":\"y\"}},\"id\":\"193a25e1-6e48-4dee-b645-e1ae8e1c3e7d\",\"type\":\"Line\"},{\"attributes\":{\"dimension\":1,\"plot\":{\"id\":\"0bd7244b-11fd-4c7f-a05d-c5c5a39e1ff2\",\"subtype\":\"Figure\",\"type\":\"Plot\"},\"ticker\":{\"id\":\"fb553030-8ea3-464a-97cc-d49a1833e9c1\",\"type\":\"BasicTicker\"}},\"id\":\"84ee1522-785c-4a9f-80dc-b2683055660a\",\"type\":\"Grid\"},{\"attributes\":{\"line_color\":\"orange\",\"line_dash\":[4,4],\"line_width\":2,\"x\":{\"field\":\"x\"},\"y\":{\"field\":\"y\"}},\"id\":\"739d3d4b-b6f1-4a83-ac92-407986891c69\",\"type\":\"Line\"},{\"attributes\":{\"source\":{\"id\":\"41054d82-0223-4abf-973d-81aa3d0246bd\",\"type\":\"ColumnDataSource\"}},\"id\":\"06e17780-6c22-442f-b72e-97b63fdd36f0\",\"type\":\"CDSView\"},{\"attributes\":{\"line_color\":\"#1f77b4\",\"x\":{\"field\":\"x\"},\"y\":{\"field\":\"y\"}},\"id\":\"0a656e8b-ab1d-45fa-a866-355a1f9c268e\",\"type\":\"Line\"},{\"attributes\":{\"fill_color\":{\"value\":null},\"line_color\":{\"value\":\"green\"},\"x\":{\"field\":\"x\"},\"y\":{\"field\":\"y\"}},\"id\":\"45ca5f45-3bee-439a-bd0b-5d95e906b063\",\"type\":\"Square\"},{\"attributes\":{},\"id\":\"c184de1e-7138-4b9b-960f-775413063120\",\"type\":\"BasicTicker\"},{\"attributes\":{\"data_source\":{\"id\":\"fb65cb87-0406-46ab-b4eb-ad8137a1e058\",\"type\":\"ColumnDataSource\"},\"glyph\":{\"id\":\"0a656e8b-ab1d-45fa-a866-355a1f9c268e\",\"type\":\"Line\"},\"hover_glyph\":null,\"muted_glyph\":null,\"nonselection_glyph\":{\"id\":\"07fa41c5-0e31-40f1-afe6-8d223656f3a4\",\"type\":\"Line\"},\"selection_glyph\":null,\"view\":{\"id\":\"e809da09-5387-45f3-ad0d-3595033b98d7\",\"type\":\"CDSView\"}},\"id\":\"1007d4f3-751a-45ec-825f-aedf79b0a4d5\",\"type\":\"GlyphRenderer\"}],\"root_ids\":[\"0bd7244b-11fd-4c7f-a05d-c5c5a39e1ff2\"]},\"title\":\"Bokeh Application\",\"version\":\"0.12.13\"}};\n",
       "  var render_items = [{\"docid\":\"c9daea6b-f253-46e4-b6e8-c14bef935344\",\"elementid\":\"6f868bac-40cc-47ed-99d4-ba9093dbebbf\",\"modelid\":\"0bd7244b-11fd-4c7f-a05d-c5c5a39e1ff2\"}];\n",
       "  root.Bokeh.embed.embed_items_notebook(docs_json, render_items);\n",
       "\n",
       "  }\n",
       "  if (root.Bokeh !== undefined) {\n",
       "    embed_document(root);\n",
       "  } else {\n",
       "    var attempts = 0;\n",
       "    var timer = setInterval(function(root) {\n",
       "      if (root.Bokeh !== undefined) {\n",
       "        embed_document(root);\n",
       "        clearInterval(timer);\n",
       "      }\n",
       "      attempts++;\n",
       "      if (attempts > 100) {\n",
       "        console.log(\"Bokeh: ERROR: Unable to run BokehJS code because BokehJS library is missing\")\n",
       "        clearInterval(timer);\n",
       "      }\n",
       "    }, 10, root)\n",
       "  }\n",
       "})(window);"
      ],
      "application/vnd.bokehjs_exec.v0+json": ""
     },
     "metadata": {
      "application/vnd.bokehjs_exec.v0+json": {
       "id": "0bd7244b-11fd-4c7f-a05d-c5c5a39e1ff2"
      }
     },
     "output_type": "display_data"
    }
   ],
   "source": [
    "x = np.linspace(0, 4*np.pi, 100)\n",
    "y = np.sin(x) \n",
    "\n",
    "p = figure()\n",
    "\n",
    "p.circle(x, y, legend=\"sin(x)\")\n",
    "p.line(x, y, legend=\"sin(x)\")\n",
    "\n",
    "p.line(x, 2*y, legend=\"2*sin(x)\",\n",
    "       line_dash=[4, 4], line_color=\"orange\", line_width=2)\n",
    "\n",
    "p.square(x, 3*y, legend=\"3*sin(x)\", fill_color=None, line_color=\"green\")\n",
    "p.line(x, 3*y, legend=\"3*sin(x)\", line_color=\"green\")\n",
    "\n",
    "p.legend.orientation = \"horizontal\"\n",
    "\n",
    "show(p)"
   ]
  },
  {
   "cell_type": "markdown",
   "metadata": {},
   "source": [
    "### Label Text"
   ]
  },
  {
   "cell_type": "code",
   "execution_count": 60,
   "metadata": {},
   "outputs": [
    {
     "data": {
      "text/html": [
       "\n",
       "<div class=\"bk-root\">\n",
       "    <div class=\"bk-plotdiv\" id=\"29233fee-fa3d-44e7-aa8d-6c76bb92649b\"></div>\n",
       "</div>"
      ]
     },
     "metadata": {},
     "output_type": "display_data"
    },
    {
     "data": {
      "application/javascript": [
       "(function(root) {\n",
       "  function embed_document(root) {\n",
       "    \n",
       "  var docs_json = {\"bb2be608-54f8-40cb-937b-37b4d46a5ddb\":{\"roots\":{\"references\":[{\"attributes\":{},\"id\":\"0fa36534-ff68-4c59-a3d2-52d65d5900dd\",\"type\":\"WheelZoomTool\"},{\"attributes\":{\"callback\":null},\"id\":\"12842a30-85b6-4701-88d8-0a8cddcbe8c8\",\"type\":\"DataRange1d\"},{\"attributes\":{\"callback\":null,\"column_names\":[\"x\",\"y\"],\"data\":{\"x\":{\"__ndarray__\":\"AAAAAAAAAACRGkt8Vz/AP5EaS3xXP9A/2qdwOgNf2D+RGkt8Vz/gPzXhXVstT+Q/2qdwOgNf6D9+boMZ2W7sP5EaS3xXP/A/433Ua0JH8j814V1bLU/0P4dE50oYV/Y/2qdwOgNf+D8sC/op7mb6P35ugxnZbvw/0NEMCcR2/j+RGkt8Vz8AQDrMD/RMQwFA433Ua0JHAkCML5njN0sDQDXhXVstTwRA3pIi0yJTBUCHROdKGFcGQDD2q8INWwdA2qdwOgNfCECDWTWy+GIJQCwL+inuZgpA1by+oeNqC0B+boMZ2W4MQCcgSJHOcg1A0NEMCcR2DkB5g9GAuXoPQJEaS3xXPxBAZnMtOFLBEEA6zA/0TEMRQA8l8q9HxRFA433Ua0JHEkC41rYnPckSQIwvmeM3SxNAYYh7nzLNE0A14V1bLU8UQAo6QBco0RRA3pIi0yJTFUCz6wSPHdUVQIdE50oYVxZAXJ3JBhPZFkAw9qvCDVsXQAVPjn4I3RdA2qdwOgNfGECuAFP2/eAYQINZNbL4YhlAV7IXbvPkGUAsC/op7mYaQABk3OXo6BpA1by+oeNqG0CpFaFd3uwbQH5ugxnZbhxAUsdl1dPwHEAnIEiRznIdQPt4Kk3J9B1A0NEMCcR2HkCkKu/EvvgeQHmD0YC5eh9ATdyzPLT8H0CRGkt8Vz8gQPtGPNpUgCBAZnMtOFLBIEDQnx6WTwIhQDrMD/RMQyFApPgAUkqEIUAPJfKvR8UhQHlR4w1FBiJA433Ua0JHIkBNqsXJP4giQLjWtic9ySJAIgOohToKI0CML5njN0sjQPZbikE1jCNAYYh7nzLNI0DLtGz9Lw4kQDXhXVstTyRAoA1PuSqQJEAKOkAXKNEkQHRmMXUlEiVA3pIi0yJTJUBJvxMxIJQlQLPrBI8d1SVAHRj27BoWJkCHROdKGFcmQPJw2KgVmCZAXJ3JBhPZJkDGybpkEBonQDD2q8INWydAmyKdIAucJ0AFT45+CN0nQG97f9wFHihA2qdwOgNfKEBE1GGYAKAoQK4AU/b94ChAGC1EVPshKUA=\",\"dtype\":\"float64\",\"shape\":[100]},\"y\":{\"__ndarray__\":\"AAAAAAAAAADoxQO0RU7YP+dMxoI2HOg//C5K/vzW8T/Tua6vYlb3P+nH5xKndfw/AFIvb9iPAEBm8BjVpKACQNka5Ym2ZARADqEya8fUBUD+Gu1b6+oGQBHVYKmoogdAYgGEegr5B0DMzIX9rOwHQM+xeSHDfQdA1L6JxBWuBkB9BRBa/IAFQO0A3yZP+wNAeZ5rTFMjAkDe5Qz1oAAAQDnpZxcIOPs/tv7u/6/+9T/6iGdXvmrwP2wf+wVaJuU/5X710zFA0j+uSTsu9124v2QnUqkVVt6/o9Qx/NsL679m4Ulpoj7zvxQdiFoRqPi/bDUKCPCr/b/J7VIByxoBwPGhyyYpGQPAgTlCLtzIBMCuGkzd8SIGwAOBBKLYIQfAMzIqg3bBB8BzaxsFOv8HwKfUGL4k2gfAJ8c7bs9SB8BSNUOKZ2sGwCX1VkOmJwXAMfGzMMGMA8AjU27aVKEBwC4hWvuS2v6/DwQZ9WTz+b9lsKPjUaH0v8Yvs7GI9O2/YIF44Akr4r8GSRAz01rIvzJJEDPTWsg/aoF44Akr4j/QL7OxiPTtP2Cwo+NRofQ/FAQZ9WTz+T8qIVr7ktr+PyVTbtpUoQFAMPGzMMGMA0Am9VZDpicFQFE1Q4pnawZAKMc7bs9SB0Cn1Bi+JNoHQHNrGwU6/wdANDIqg3bBB0ACgQSi2CEHQLAaTN3xIgZAfTlCLtzIBEDwocsmKRkDQMntUgHLGgFAcTUKCPCr/T8MHYhaEaj4P2HhSWmiPvM/pNQx/NsL6z99J1KpFVbeP/ZIOy73Xbg/+n710zFA0r9fH/sFWiblv+6IZ1e+avC/uv7u/6/+9b846WcXCDj7v9vlDPWgAADAfJ5rTFMjAsDuAN8mT/sDwH0FEFr8gAXA076JxBWuBsDQsXkhw30HwMzMhf2s7AfAYgGEegr5B8AS1WCpqKIHwPwa7Vvr6gbADqEya8fUBcDaGuWJtmQEwGnwGNWkoALA/VEvb9iPAMDpx+cSp3X8v9a5rq9iVve/8C5K/vzW8b/bTMaCNhzov+rFA7RFTti/CoqeTDl52rw=\",\"dtype\":\"float64\",\"shape\":[100]}}},\"id\":\"2bcbe8b6-a09e-4c88-998f-1c12695567b3\",\"type\":\"ColumnDataSource\"},{\"attributes\":{\"label\":{\"value\":\"2*sin(x)\"},\"renderers\":[{\"id\":\"74e99e5b-5398-4405-87a8-337913ae2664\",\"type\":\"GlyphRenderer\"}]},\"id\":\"cb8eab2a-3404-4d32-929f-c97bdb217f08\",\"type\":\"LegendItem\"},{\"attributes\":{\"source\":{\"id\":\"188ad097-1931-45a2-b197-cab59ecd600c\",\"type\":\"ColumnDataSource\"}},\"id\":\"d37abc3c-070e-4e14-bdc1-9c4c73ee0d55\",\"type\":\"CDSView\"},{\"attributes\":{\"callback\":null,\"column_names\":[\"x\",\"y\"],\"data\":{\"x\":{\"__ndarray__\":\"AAAAAAAAAACRGkt8Vz/AP5EaS3xXP9A/2qdwOgNf2D+RGkt8Vz/gPzXhXVstT+Q/2qdwOgNf6D9+boMZ2W7sP5EaS3xXP/A/433Ua0JH8j814V1bLU/0P4dE50oYV/Y/2qdwOgNf+D8sC/op7mb6P35ugxnZbvw/0NEMCcR2/j+RGkt8Vz8AQDrMD/RMQwFA433Ua0JHAkCML5njN0sDQDXhXVstTwRA3pIi0yJTBUCHROdKGFcGQDD2q8INWwdA2qdwOgNfCECDWTWy+GIJQCwL+inuZgpA1by+oeNqC0B+boMZ2W4MQCcgSJHOcg1A0NEMCcR2DkB5g9GAuXoPQJEaS3xXPxBAZnMtOFLBEEA6zA/0TEMRQA8l8q9HxRFA433Ua0JHEkC41rYnPckSQIwvmeM3SxNAYYh7nzLNE0A14V1bLU8UQAo6QBco0RRA3pIi0yJTFUCz6wSPHdUVQIdE50oYVxZAXJ3JBhPZFkAw9qvCDVsXQAVPjn4I3RdA2qdwOgNfGECuAFP2/eAYQINZNbL4YhlAV7IXbvPkGUAsC/op7mYaQABk3OXo6BpA1by+oeNqG0CpFaFd3uwbQH5ugxnZbhxAUsdl1dPwHEAnIEiRznIdQPt4Kk3J9B1A0NEMCcR2HkCkKu/EvvgeQHmD0YC5eh9ATdyzPLT8H0CRGkt8Vz8gQPtGPNpUgCBAZnMtOFLBIEDQnx6WTwIhQDrMD/RMQyFApPgAUkqEIUAPJfKvR8UhQHlR4w1FBiJA433Ua0JHIkBNqsXJP4giQLjWtic9ySJAIgOohToKI0CML5njN0sjQPZbikE1jCNAYYh7nzLNI0DLtGz9Lw4kQDXhXVstTyRAoA1PuSqQJEAKOkAXKNEkQHRmMXUlEiVA3pIi0yJTJUBJvxMxIJQlQLPrBI8d1SVAHRj27BoWJkCHROdKGFcmQPJw2KgVmCZAXJ3JBhPZJkDGybpkEBonQDD2q8INWydAmyKdIAucJ0AFT45+CN0nQG97f9wFHihA2qdwOgNfKEBE1GGYAKAoQK4AU/b94ChAGC1EVPshKUA=\",\"dtype\":\"float64\",\"shape\":[100]},\"y\":{\"__ndarray__\":\"AAAAAAAAAADoxQO0RU7YP+dMxoI2HOg//C5K/vzW8T/Tua6vYlb3P+nH5xKndfw/AFIvb9iPAEBm8BjVpKACQNka5Ym2ZARADqEya8fUBUD+Gu1b6+oGQBHVYKmoogdAYgGEegr5B0DMzIX9rOwHQM+xeSHDfQdA1L6JxBWuBkB9BRBa/IAFQO0A3yZP+wNAeZ5rTFMjAkDe5Qz1oAAAQDnpZxcIOPs/tv7u/6/+9T/6iGdXvmrwP2wf+wVaJuU/5X710zFA0j+uSTsu9124v2QnUqkVVt6/o9Qx/NsL679m4Ulpoj7zvxQdiFoRqPi/bDUKCPCr/b/J7VIByxoBwPGhyyYpGQPAgTlCLtzIBMCuGkzd8SIGwAOBBKLYIQfAMzIqg3bBB8BzaxsFOv8HwKfUGL4k2gfAJ8c7bs9SB8BSNUOKZ2sGwCX1VkOmJwXAMfGzMMGMA8AjU27aVKEBwC4hWvuS2v6/DwQZ9WTz+b9lsKPjUaH0v8Yvs7GI9O2/YIF44Akr4r8GSRAz01rIvzJJEDPTWsg/aoF44Akr4j/QL7OxiPTtP2Cwo+NRofQ/FAQZ9WTz+T8qIVr7ktr+PyVTbtpUoQFAMPGzMMGMA0Am9VZDpicFQFE1Q4pnawZAKMc7bs9SB0Cn1Bi+JNoHQHNrGwU6/wdANDIqg3bBB0ACgQSi2CEHQLAaTN3xIgZAfTlCLtzIBEDwocsmKRkDQMntUgHLGgFAcTUKCPCr/T8MHYhaEaj4P2HhSWmiPvM/pNQx/NsL6z99J1KpFVbeP/ZIOy73Xbg/+n710zFA0r9fH/sFWiblv+6IZ1e+avC/uv7u/6/+9b846WcXCDj7v9vlDPWgAADAfJ5rTFMjAsDuAN8mT/sDwH0FEFr8gAXA076JxBWuBsDQsXkhw30HwMzMhf2s7AfAYgGEegr5B8AS1WCpqKIHwPwa7Vvr6gbADqEya8fUBcDaGuWJtmQEwGnwGNWkoALA/VEvb9iPAMDpx+cSp3X8v9a5rq9iVve/8C5K/vzW8b/bTMaCNhzov+rFA7RFTti/CoqeTDl52rw=\",\"dtype\":\"float64\",\"shape\":[100]}}},\"id\":\"66d3caab-2841-4aba-ad3c-05de93258e7a\",\"type\":\"ColumnDataSource\"},{\"attributes\":{\"items\":[{\"id\":\"67eebc2a-1ae6-46ca-92a8-f12f9eaa812b\",\"type\":\"LegendItem\"},{\"id\":\"cb8eab2a-3404-4d32-929f-c97bdb217f08\",\"type\":\"LegendItem\"},{\"id\":\"283d78ce-9cd8-4479-ac75-920c5aed6b85\",\"type\":\"LegendItem\"}],\"label_text_color\":{\"value\":\"navy\"},\"label_text_font\":\"times\",\"label_text_font_style\":\"italic\",\"plot\":{\"id\":\"097d4f9d-a2c2-4bf1-83d3-3d66b095bc3f\",\"subtype\":\"Figure\",\"type\":\"Plot\"}},\"id\":\"a95d6a62-9874-45c8-bc16-2426eec3c71e\",\"type\":\"Legend\"},{\"attributes\":{\"callback\":null,\"column_names\":[\"x\",\"y\"],\"data\":{\"x\":{\"__ndarray__\":\"AAAAAAAAAACRGkt8Vz/AP5EaS3xXP9A/2qdwOgNf2D+RGkt8Vz/gPzXhXVstT+Q/2qdwOgNf6D9+boMZ2W7sP5EaS3xXP/A/433Ua0JH8j814V1bLU/0P4dE50oYV/Y/2qdwOgNf+D8sC/op7mb6P35ugxnZbvw/0NEMCcR2/j+RGkt8Vz8AQDrMD/RMQwFA433Ua0JHAkCML5njN0sDQDXhXVstTwRA3pIi0yJTBUCHROdKGFcGQDD2q8INWwdA2qdwOgNfCECDWTWy+GIJQCwL+inuZgpA1by+oeNqC0B+boMZ2W4MQCcgSJHOcg1A0NEMCcR2DkB5g9GAuXoPQJEaS3xXPxBAZnMtOFLBEEA6zA/0TEMRQA8l8q9HxRFA433Ua0JHEkC41rYnPckSQIwvmeM3SxNAYYh7nzLNE0A14V1bLU8UQAo6QBco0RRA3pIi0yJTFUCz6wSPHdUVQIdE50oYVxZAXJ3JBhPZFkAw9qvCDVsXQAVPjn4I3RdA2qdwOgNfGECuAFP2/eAYQINZNbL4YhlAV7IXbvPkGUAsC/op7mYaQABk3OXo6BpA1by+oeNqG0CpFaFd3uwbQH5ugxnZbhxAUsdl1dPwHEAnIEiRznIdQPt4Kk3J9B1A0NEMCcR2HkCkKu/EvvgeQHmD0YC5eh9ATdyzPLT8H0CRGkt8Vz8gQPtGPNpUgCBAZnMtOFLBIEDQnx6WTwIhQDrMD/RMQyFApPgAUkqEIUAPJfKvR8UhQHlR4w1FBiJA433Ua0JHIkBNqsXJP4giQLjWtic9ySJAIgOohToKI0CML5njN0sjQPZbikE1jCNAYYh7nzLNI0DLtGz9Lw4kQDXhXVstTyRAoA1PuSqQJEAKOkAXKNEkQHRmMXUlEiVA3pIi0yJTJUBJvxMxIJQlQLPrBI8d1SVAHRj27BoWJkCHROdKGFcmQPJw2KgVmCZAXJ3JBhPZJkDGybpkEBonQDD2q8INWydAmyKdIAucJ0AFT45+CN0nQG97f9wFHihA2qdwOgNfKEBE1GGYAKAoQK4AU/b94ChAGC1EVPshKUA=\",\"dtype\":\"float64\",\"shape\":[100]},\"y\":{\"__ndarray__\":\"AAAAAAAAAADwgwJ4LjTAP5qI2QHPEtA/+5MNU1HJ1z8ZTT7q2B3fP0aFmgwa+eI/ABg/lCAV5j+IQCEcMdboP3fOhmLzMOs/EyzujrQb7T/9Izwlj47uPxccgYyLg+8/g6xao7j27z9mZrL8O+bvP7+X94FZUu8/xVNiW3I97j9RB8Ai+6vsP5FWKYlppOo/oSg6uxkv6D/Sh2bxK1blPyZGRbpaJeI/8qg+VZVT3T/4C4p0qOPVP+UppLIiM8w/3FNHxZdVuD/J23zJpD6gv+3ENsZjOcS/wo12/ecH0r/dgWKM2KjZv2MTsJELcOC/83ixWvXH47+358MBZM7mv5eCD4nhdum/rExY6Hq267+TIxAn7YPtvwSssILL1+6/70I4BJ6s77/vOc8G+P7vvzTGy1KGze+/3176khQZ77/C8a4NiuTtvzGcHq/dNOy/l0FFlgER6r+EGZN4xoHnvx8WPFK3keS/Cli7+O1M4b+HQNqEwoHbv9kfIiFb+NO/gKyggGI5yL8EhrXMjDywvyGGtcyMPLA/jqyggGI5yD/gHyIhW/jTP4BA2oTCgds/DVi7+O1M4T8cFjxSt5HkP4cZk3jGgec/lUFFlgER6j8ynB6v3TTsP8Hxrg2K5O0/4F76khQZ7z80xstShs3vP+85zwb4/u8/8EI4BJ6s7z8DrLCCy9fuP5UjECftg+0/p0xY6Hq26z+Vgg+J4XbpP7fnwwFkzuY/9nixWvXH4z9dE7CRC3DgP9eBYozYqNk/w412/ecH0j/+xDbGYznEP0/bfMmkPqA/+FNHxZdVuL/UKaSyIjPMv+gLinSo49W/+Kg+VZVT3b8lRkW6WiXiv8+HZvErVuW/pig6uxkv6L+TVimJaaTqv1EHwCL7q+y/xFNiW3I97r/Al/eBWVLvv2Zmsvw75u+/g6xao7j2778YHIGMi4Pvv/sjPCWPju6/EyzujrQb7b94zoZi8zDrv4xAIRwx1ui//Bc/lCAV5r9GhZoMGvnivx5NPurYHd+/65MNU1HJ17+SiNkBzxLQv/GDAnguNMC/B1wUMyamwbw=\",\"dtype\":\"float64\",\"shape\":[100]}}},\"id\":\"188ad097-1931-45a2-b197-cab59ecd600c\",\"type\":\"ColumnDataSource\"},{\"attributes\":{\"fill_color\":{\"value\":null},\"line_color\":{\"value\":\"green\"},\"x\":{\"field\":\"x\"},\"y\":{\"field\":\"y\"}},\"id\":\"62fd5c68-f768-44c5-b77b-559c0c7bd3f2\",\"type\":\"Square\"},{\"attributes\":{\"line_alpha\":0.1,\"line_color\":\"#1f77b4\",\"line_dash\":[4,4],\"line_width\":2,\"x\":{\"field\":\"x\"},\"y\":{\"field\":\"y\"}},\"id\":\"a6a05648-180b-45f6-85c6-3f88f681de09\",\"type\":\"Line\"},{\"attributes\":{\"data_source\":{\"id\":\"152df483-a505-4a8b-a9e5-e26218008660\",\"type\":\"ColumnDataSource\"},\"glyph\":{\"id\":\"2be59c67-471f-4b7d-b8e1-827ad6297d22\",\"type\":\"Line\"},\"hover_glyph\":null,\"muted_glyph\":null,\"nonselection_glyph\":{\"id\":\"a6a05648-180b-45f6-85c6-3f88f681de09\",\"type\":\"Line\"},\"selection_glyph\":null,\"view\":{\"id\":\"0d28c18f-9304-4ed7-a090-4ec118d1b334\",\"type\":\"CDSView\"}},\"id\":\"74e99e5b-5398-4405-87a8-337913ae2664\",\"type\":\"GlyphRenderer\"},{\"attributes\":{\"active_drag\":\"auto\",\"active_inspect\":\"auto\",\"active_scroll\":\"auto\",\"active_tap\":\"auto\",\"tools\":[{\"id\":\"a77437a1-ba36-4493-a391-1f29674ea510\",\"type\":\"PanTool\"},{\"id\":\"0fa36534-ff68-4c59-a3d2-52d65d5900dd\",\"type\":\"WheelZoomTool\"},{\"id\":\"7bdb35de-b76e-4746-a596-78d89462fd4f\",\"type\":\"BoxZoomTool\"},{\"id\":\"5105a4d1-db9b-4253-9416-78d50fb29381\",\"type\":\"SaveTool\"},{\"id\":\"a81dac61-43d5-4ec8-9c3a-b999c318f2e6\",\"type\":\"ResetTool\"},{\"id\":\"458a1c58-ce0a-4a35-841a-678f8568c629\",\"type\":\"HelpTool\"}]},\"id\":\"7abe0b25-e269-453e-a403-09a61b2177be\",\"type\":\"Toolbar\"},{\"attributes\":{\"plot\":{\"id\":\"097d4f9d-a2c2-4bf1-83d3-3d66b095bc3f\",\"subtype\":\"Figure\",\"type\":\"Plot\"},\"ticker\":{\"id\":\"a755928d-6f49-4ff9-b30a-7756640c515a\",\"type\":\"BasicTicker\"}},\"id\":\"9613fa52-ca02-48af-9d13-4e1c52c26ed9\",\"type\":\"Grid\"},{\"attributes\":{\"data_source\":{\"id\":\"66d3caab-2841-4aba-ad3c-05de93258e7a\",\"type\":\"ColumnDataSource\"},\"glyph\":{\"id\":\"62fd5c68-f768-44c5-b77b-559c0c7bd3f2\",\"type\":\"Square\"},\"hover_glyph\":null,\"muted_glyph\":null,\"nonselection_glyph\":{\"id\":\"f3816916-b1f9-4465-9d11-4e50c5d012ed\",\"type\":\"Square\"},\"selection_glyph\":null,\"view\":{\"id\":\"c88deade-286f-4881-9bd2-d8057d28e93e\",\"type\":\"CDSView\"}},\"id\":\"e51997bf-31c2-4983-96ae-04d831e0e6e5\",\"type\":\"GlyphRenderer\"},{\"attributes\":{\"label\":{\"value\":\"sin(x)\"},\"renderers\":[{\"id\":\"8543cffd-4568-4bb8-8d95-fc795a1a89e7\",\"type\":\"GlyphRenderer\"},{\"id\":\"e5853c58-2d98-4457-b7dc-c78f2fdba4c0\",\"type\":\"GlyphRenderer\"}]},\"id\":\"67eebc2a-1ae6-46ca-92a8-f12f9eaa812b\",\"type\":\"LegendItem\"},{\"attributes\":{\"line_color\":\"green\",\"x\":{\"field\":\"x\"},\"y\":{\"field\":\"y\"}},\"id\":\"9dc3b0ee-3456-44cc-9587-7ff7dfe4116d\",\"type\":\"Line\"},{\"attributes\":{\"fill_color\":{\"value\":\"#1f77b4\"},\"line_color\":{\"value\":\"#1f77b4\"},\"x\":{\"field\":\"x\"},\"y\":{\"field\":\"y\"}},\"id\":\"5865b7e4-1f6c-4126-8298-03759c9af901\",\"type\":\"Circle\"},{\"attributes\":{},\"id\":\"e67c9e0e-0c4c-484e-9da8-933bf54574e1\",\"type\":\"LinearScale\"},{\"attributes\":{\"line_color\":\"#1f77b4\",\"x\":{\"field\":\"x\"},\"y\":{\"field\":\"y\"}},\"id\":\"68f16f5d-d8ed-4e4c-8362-de567157897d\",\"type\":\"Line\"},{\"attributes\":{\"fill_alpha\":{\"value\":0.1},\"fill_color\":{\"value\":\"#1f77b4\"},\"line_alpha\":{\"value\":0.1},\"line_color\":{\"value\":\"#1f77b4\"},\"x\":{\"field\":\"x\"},\"y\":{\"field\":\"y\"}},\"id\":\"f3816916-b1f9-4465-9d11-4e50c5d012ed\",\"type\":\"Square\"},{\"attributes\":{},\"id\":\"3b14cb82-2e3e-459c-a69b-d1e2727aa0bc\",\"type\":\"BasicTicker\"},{\"attributes\":{\"line_alpha\":0.1,\"line_color\":\"#1f77b4\",\"x\":{\"field\":\"x\"},\"y\":{\"field\":\"y\"}},\"id\":\"f0273680-84cb-485b-8753-264060193582\",\"type\":\"Line\"},{\"attributes\":{},\"id\":\"a77437a1-ba36-4493-a391-1f29674ea510\",\"type\":\"PanTool\"},{\"attributes\":{\"dimension\":1,\"plot\":{\"id\":\"097d4f9d-a2c2-4bf1-83d3-3d66b095bc3f\",\"subtype\":\"Figure\",\"type\":\"Plot\"},\"ticker\":{\"id\":\"3b14cb82-2e3e-459c-a69b-d1e2727aa0bc\",\"type\":\"BasicTicker\"}},\"id\":\"1349b52e-50ee-4dcd-b601-9dd3ea17bb4d\",\"type\":\"Grid\"},{\"attributes\":{\"bottom_units\":\"screen\",\"fill_alpha\":{\"value\":0.5},\"fill_color\":{\"value\":\"lightgrey\"},\"left_units\":\"screen\",\"level\":\"overlay\",\"line_alpha\":{\"value\":1.0},\"line_color\":{\"value\":\"black\"},\"line_dash\":[4,4],\"line_width\":{\"value\":2},\"plot\":null,\"render_mode\":\"css\",\"right_units\":\"screen\",\"top_units\":\"screen\"},\"id\":\"030c1dab-ee56-4c0b-a0ff-e823bdf6a137\",\"type\":\"BoxAnnotation\"},{\"attributes\":{},\"id\":\"a81dac61-43d5-4ec8-9c3a-b999c318f2e6\",\"type\":\"ResetTool\"},{\"attributes\":{\"data_source\":{\"id\":\"2bcbe8b6-a09e-4c88-998f-1c12695567b3\",\"type\":\"ColumnDataSource\"},\"glyph\":{\"id\":\"9dc3b0ee-3456-44cc-9587-7ff7dfe4116d\",\"type\":\"Line\"},\"hover_glyph\":null,\"muted_glyph\":null,\"nonselection_glyph\":{\"id\":\"f0273680-84cb-485b-8753-264060193582\",\"type\":\"Line\"},\"selection_glyph\":null,\"view\":{\"id\":\"9715b724-83b6-4ae6-93f6-c388dba32fcc\",\"type\":\"CDSView\"}},\"id\":\"7b9b88a8-366e-4791-a70b-05be88ec288d\",\"type\":\"GlyphRenderer\"},{\"attributes\":{\"source\":{\"id\":\"152df483-a505-4a8b-a9e5-e26218008660\",\"type\":\"ColumnDataSource\"}},\"id\":\"0d28c18f-9304-4ed7-a090-4ec118d1b334\",\"type\":\"CDSView\"},{\"attributes\":{\"formatter\":{\"id\":\"1cf97150-c4e4-4efd-bf45-4b434756b9c3\",\"type\":\"BasicTickFormatter\"},\"plot\":{\"id\":\"097d4f9d-a2c2-4bf1-83d3-3d66b095bc3f\",\"subtype\":\"Figure\",\"type\":\"Plot\"},\"ticker\":{\"id\":\"3b14cb82-2e3e-459c-a69b-d1e2727aa0bc\",\"type\":\"BasicTicker\"}},\"id\":\"59e14f81-1614-4bb8-a4b9-d8aad9e59625\",\"type\":\"LinearAxis\"},{\"attributes\":{\"source\":{\"id\":\"66d3caab-2841-4aba-ad3c-05de93258e7a\",\"type\":\"ColumnDataSource\"}},\"id\":\"c88deade-286f-4881-9bd2-d8057d28e93e\",\"type\":\"CDSView\"},{\"attributes\":{\"overlay\":{\"id\":\"030c1dab-ee56-4c0b-a0ff-e823bdf6a137\",\"type\":\"BoxAnnotation\"}},\"id\":\"7bdb35de-b76e-4746-a596-78d89462fd4f\",\"type\":\"BoxZoomTool\"},{\"attributes\":{\"line_alpha\":0.1,\"line_color\":\"#1f77b4\",\"x\":{\"field\":\"x\"},\"y\":{\"field\":\"y\"}},\"id\":\"0c06e225-bfa0-4dff-8f62-01a3a42abe36\",\"type\":\"Line\"},{\"attributes\":{\"line_color\":\"orange\",\"line_dash\":[4,4],\"line_width\":2,\"x\":{\"field\":\"x\"},\"y\":{\"field\":\"y\"}},\"id\":\"2be59c67-471f-4b7d-b8e1-827ad6297d22\",\"type\":\"Line\"},{\"attributes\":{},\"id\":\"458a1c58-ce0a-4a35-841a-678f8568c629\",\"type\":\"HelpTool\"},{\"attributes\":{},\"id\":\"1cf97150-c4e4-4efd-bf45-4b434756b9c3\",\"type\":\"BasicTickFormatter\"},{\"attributes\":{\"source\":{\"id\":\"2bcbe8b6-a09e-4c88-998f-1c12695567b3\",\"type\":\"ColumnDataSource\"}},\"id\":\"9715b724-83b6-4ae6-93f6-c388dba32fcc\",\"type\":\"CDSView\"},{\"attributes\":{\"label\":{\"value\":\"3*sin(x)\"},\"renderers\":[{\"id\":\"e51997bf-31c2-4983-96ae-04d831e0e6e5\",\"type\":\"GlyphRenderer\"},{\"id\":\"7b9b88a8-366e-4791-a70b-05be88ec288d\",\"type\":\"GlyphRenderer\"}]},\"id\":\"283d78ce-9cd8-4479-ac75-920c5aed6b85\",\"type\":\"LegendItem\"},{\"attributes\":{\"data_source\":{\"id\":\"188ad097-1931-45a2-b197-cab59ecd600c\",\"type\":\"ColumnDataSource\"},\"glyph\":{\"id\":\"5865b7e4-1f6c-4126-8298-03759c9af901\",\"type\":\"Circle\"},\"hover_glyph\":null,\"muted_glyph\":null,\"nonselection_glyph\":{\"id\":\"202935fd-5a6f-4782-a434-46af9cd095f4\",\"type\":\"Circle\"},\"selection_glyph\":null,\"view\":{\"id\":\"d37abc3c-070e-4e14-bdc1-9c4c73ee0d55\",\"type\":\"CDSView\"}},\"id\":\"8543cffd-4568-4bb8-8d95-fc795a1a89e7\",\"type\":\"GlyphRenderer\"},{\"attributes\":{\"callback\":null,\"column_names\":[\"x\",\"y\"],\"data\":{\"x\":{\"__ndarray__\":\"AAAAAAAAAACRGkt8Vz/AP5EaS3xXP9A/2qdwOgNf2D+RGkt8Vz/gPzXhXVstT+Q/2qdwOgNf6D9+boMZ2W7sP5EaS3xXP/A/433Ua0JH8j814V1bLU/0P4dE50oYV/Y/2qdwOgNf+D8sC/op7mb6P35ugxnZbvw/0NEMCcR2/j+RGkt8Vz8AQDrMD/RMQwFA433Ua0JHAkCML5njN0sDQDXhXVstTwRA3pIi0yJTBUCHROdKGFcGQDD2q8INWwdA2qdwOgNfCECDWTWy+GIJQCwL+inuZgpA1by+oeNqC0B+boMZ2W4MQCcgSJHOcg1A0NEMCcR2DkB5g9GAuXoPQJEaS3xXPxBAZnMtOFLBEEA6zA/0TEMRQA8l8q9HxRFA433Ua0JHEkC41rYnPckSQIwvmeM3SxNAYYh7nzLNE0A14V1bLU8UQAo6QBco0RRA3pIi0yJTFUCz6wSPHdUVQIdE50oYVxZAXJ3JBhPZFkAw9qvCDVsXQAVPjn4I3RdA2qdwOgNfGECuAFP2/eAYQINZNbL4YhlAV7IXbvPkGUAsC/op7mYaQABk3OXo6BpA1by+oeNqG0CpFaFd3uwbQH5ugxnZbhxAUsdl1dPwHEAnIEiRznIdQPt4Kk3J9B1A0NEMCcR2HkCkKu/EvvgeQHmD0YC5eh9ATdyzPLT8H0CRGkt8Vz8gQPtGPNpUgCBAZnMtOFLBIEDQnx6WTwIhQDrMD/RMQyFApPgAUkqEIUAPJfKvR8UhQHlR4w1FBiJA433Ua0JHIkBNqsXJP4giQLjWtic9ySJAIgOohToKI0CML5njN0sjQPZbikE1jCNAYYh7nzLNI0DLtGz9Lw4kQDXhXVstTyRAoA1PuSqQJEAKOkAXKNEkQHRmMXUlEiVA3pIi0yJTJUBJvxMxIJQlQLPrBI8d1SVAHRj27BoWJkCHROdKGFcmQPJw2KgVmCZAXJ3JBhPZJkDGybpkEBonQDD2q8INWydAmyKdIAucJ0AFT45+CN0nQG97f9wFHihA2qdwOgNfKEBE1GGYAKAoQK4AU/b94ChAGC1EVPshKUA=\",\"dtype\":\"float64\",\"shape\":[100]},\"y\":{\"__ndarray__\":\"AAAAAAAAAADwgwJ4LjTAP5qI2QHPEtA/+5MNU1HJ1z8ZTT7q2B3fP0aFmgwa+eI/ABg/lCAV5j+IQCEcMdboP3fOhmLzMOs/EyzujrQb7T/9Izwlj47uPxccgYyLg+8/g6xao7j27z9mZrL8O+bvP7+X94FZUu8/xVNiW3I97j9RB8Ai+6vsP5FWKYlppOo/oSg6uxkv6D/Sh2bxK1blPyZGRbpaJeI/8qg+VZVT3T/4C4p0qOPVP+UppLIiM8w/3FNHxZdVuD/J23zJpD6gv+3ENsZjOcS/wo12/ecH0r/dgWKM2KjZv2MTsJELcOC/83ixWvXH47+358MBZM7mv5eCD4nhdum/rExY6Hq267+TIxAn7YPtvwSssILL1+6/70I4BJ6s77/vOc8G+P7vvzTGy1KGze+/3176khQZ77/C8a4NiuTtvzGcHq/dNOy/l0FFlgER6r+EGZN4xoHnvx8WPFK3keS/Cli7+O1M4b+HQNqEwoHbv9kfIiFb+NO/gKyggGI5yL8EhrXMjDywvyGGtcyMPLA/jqyggGI5yD/gHyIhW/jTP4BA2oTCgds/DVi7+O1M4T8cFjxSt5HkP4cZk3jGgec/lUFFlgER6j8ynB6v3TTsP8Hxrg2K5O0/4F76khQZ7z80xstShs3vP+85zwb4/u8/8EI4BJ6s7z8DrLCCy9fuP5UjECftg+0/p0xY6Hq26z+Vgg+J4XbpP7fnwwFkzuY/9nixWvXH4z9dE7CRC3DgP9eBYozYqNk/w412/ecH0j/+xDbGYznEP0/bfMmkPqA/+FNHxZdVuL/UKaSyIjPMv+gLinSo49W/+Kg+VZVT3b8lRkW6WiXiv8+HZvErVuW/pig6uxkv6L+TVimJaaTqv1EHwCL7q+y/xFNiW3I97r/Al/eBWVLvv2Zmsvw75u+/g6xao7j2778YHIGMi4Pvv/sjPCWPju6/EyzujrQb7b94zoZi8zDrv4xAIRwx1ui//Bc/lCAV5r9GhZoMGvnivx5NPurYHd+/65MNU1HJ17+SiNkBzxLQv/GDAnguNMC/B1wUMyamwbw=\",\"dtype\":\"float64\",\"shape\":[100]}}},\"id\":\"4b9ff47d-c70b-4d55-b465-d7109e5c4894\",\"type\":\"ColumnDataSource\"},{\"attributes\":{},\"id\":\"a755928d-6f49-4ff9-b30a-7756640c515a\",\"type\":\"BasicTicker\"},{\"attributes\":{},\"id\":\"e8e97c49-86ba-4792-a25a-7dfde185e9f3\",\"type\":\"LinearScale\"},{\"attributes\":{\"callback\":null},\"id\":\"ceb98cc2-1132-4984-9dff-b473bc9e4e13\",\"type\":\"DataRange1d\"},{\"attributes\":{\"source\":{\"id\":\"4b9ff47d-c70b-4d55-b465-d7109e5c4894\",\"type\":\"ColumnDataSource\"}},\"id\":\"a38381ed-faf9-4070-87df-ac6643ba2bc4\",\"type\":\"CDSView\"},{\"attributes\":{\"data_source\":{\"id\":\"4b9ff47d-c70b-4d55-b465-d7109e5c4894\",\"type\":\"ColumnDataSource\"},\"glyph\":{\"id\":\"68f16f5d-d8ed-4e4c-8362-de567157897d\",\"type\":\"Line\"},\"hover_glyph\":null,\"muted_glyph\":null,\"nonselection_glyph\":{\"id\":\"0c06e225-bfa0-4dff-8f62-01a3a42abe36\",\"type\":\"Line\"},\"selection_glyph\":null,\"view\":{\"id\":\"a38381ed-faf9-4070-87df-ac6643ba2bc4\",\"type\":\"CDSView\"}},\"id\":\"e5853c58-2d98-4457-b7dc-c78f2fdba4c0\",\"type\":\"GlyphRenderer\"},{\"attributes\":{},\"id\":\"5105a4d1-db9b-4253-9416-78d50fb29381\",\"type\":\"SaveTool\"},{\"attributes\":{},\"id\":\"c756d611-f1f9-4680-a302-f75d4191066d\",\"type\":\"BasicTickFormatter\"},{\"attributes\":{\"formatter\":{\"id\":\"c756d611-f1f9-4680-a302-f75d4191066d\",\"type\":\"BasicTickFormatter\"},\"plot\":{\"id\":\"097d4f9d-a2c2-4bf1-83d3-3d66b095bc3f\",\"subtype\":\"Figure\",\"type\":\"Plot\"},\"ticker\":{\"id\":\"a755928d-6f49-4ff9-b30a-7756640c515a\",\"type\":\"BasicTicker\"}},\"id\":\"97dbe442-d670-452e-bee9-2d768ddb31e1\",\"type\":\"LinearAxis\"},{\"attributes\":{\"callback\":null,\"column_names\":[\"x\",\"y\"],\"data\":{\"x\":{\"__ndarray__\":\"AAAAAAAAAACRGkt8Vz/AP5EaS3xXP9A/2qdwOgNf2D+RGkt8Vz/gPzXhXVstT+Q/2qdwOgNf6D9+boMZ2W7sP5EaS3xXP/A/433Ua0JH8j814V1bLU/0P4dE50oYV/Y/2qdwOgNf+D8sC/op7mb6P35ugxnZbvw/0NEMCcR2/j+RGkt8Vz8AQDrMD/RMQwFA433Ua0JHAkCML5njN0sDQDXhXVstTwRA3pIi0yJTBUCHROdKGFcGQDD2q8INWwdA2qdwOgNfCECDWTWy+GIJQCwL+inuZgpA1by+oeNqC0B+boMZ2W4MQCcgSJHOcg1A0NEMCcR2DkB5g9GAuXoPQJEaS3xXPxBAZnMtOFLBEEA6zA/0TEMRQA8l8q9HxRFA433Ua0JHEkC41rYnPckSQIwvmeM3SxNAYYh7nzLNE0A14V1bLU8UQAo6QBco0RRA3pIi0yJTFUCz6wSPHdUVQIdE50oYVxZAXJ3JBhPZFkAw9qvCDVsXQAVPjn4I3RdA2qdwOgNfGECuAFP2/eAYQINZNbL4YhlAV7IXbvPkGUAsC/op7mYaQABk3OXo6BpA1by+oeNqG0CpFaFd3uwbQH5ugxnZbhxAUsdl1dPwHEAnIEiRznIdQPt4Kk3J9B1A0NEMCcR2HkCkKu/EvvgeQHmD0YC5eh9ATdyzPLT8H0CRGkt8Vz8gQPtGPNpUgCBAZnMtOFLBIEDQnx6WTwIhQDrMD/RMQyFApPgAUkqEIUAPJfKvR8UhQHlR4w1FBiJA433Ua0JHIkBNqsXJP4giQLjWtic9ySJAIgOohToKI0CML5njN0sjQPZbikE1jCNAYYh7nzLNI0DLtGz9Lw4kQDXhXVstTyRAoA1PuSqQJEAKOkAXKNEkQHRmMXUlEiVA3pIi0yJTJUBJvxMxIJQlQLPrBI8d1SVAHRj27BoWJkCHROdKGFcmQPJw2KgVmCZAXJ3JBhPZJkDGybpkEBonQDD2q8INWydAmyKdIAucJ0AFT45+CN0nQG97f9wFHihA2qdwOgNfKEBE1GGYAKAoQK4AU/b94ChAGC1EVPshKUA=\",\"dtype\":\"float64\",\"shape\":[100]},\"y\":{\"__ndarray__\":\"AAAAAAAAAADwgwJ4LjTQP5qI2QHPEuA/+5MNU1HJ5z8ZTT7q2B3vP0aFmgwa+fI/ABg/lCAV9j+IQCEcMdb4P3fOhmLzMPs/EyzujrQb/T/9Izwlj47+PxccgYyLg/8/g6xao7j2/z9mZrL8O+b/P7+X94FZUv8/xVNiW3I9/j9RB8Ai+6v8P5FWKYlppPo/oSg6uxkv+D/Sh2bxK1b1PyZGRbpaJfI/8qg+VZVT7T/4C4p0qOPlP+UppLIiM9w/3FNHxZdVyD/J23zJpD6wv+3ENsZjOdS/wo12/ecH4r/dgWKM2Kjpv2MTsJELcPC/83ixWvXH87+358MBZM72v5eCD4nhdvm/rExY6Hq2+7+TIxAn7YP9vwSssILL1/6/70I4BJ6s/7/vOc8G+P7/vzTGy1KGzf+/3176khQZ/7/C8a4NiuT9vzGcHq/dNPy/l0FFlgER+r+EGZN4xoH3vx8WPFK3kfS/Cli7+O1M8b+HQNqEwoHrv9kfIiFb+OO/gKyggGI52L8EhrXMjDzAvyGGtcyMPMA/jqyggGI52D/gHyIhW/jjP4BA2oTCges/DVi7+O1M8T8cFjxSt5H0P4cZk3jGgfc/lUFFlgER+j8ynB6v3TT8P8Hxrg2K5P0/4F76khQZ/z80xstShs3/P+85zwb4/v8/8EI4BJ6s/z8DrLCCy9f+P5UjECftg/0/p0xY6Hq2+z+Vgg+J4Xb5P7fnwwFkzvY/9nixWvXH8z9dE7CRC3DwP9eBYozYqOk/w412/ecH4j/+xDbGYznUP0/bfMmkPrA/+FNHxZdVyL/UKaSyIjPcv+gLinSo4+W/+Kg+VZVT7b8lRkW6WiXyv8+HZvErVvW/pig6uxkv+L+TVimJaaT6v1EHwCL7q/y/xFNiW3I9/r/Al/eBWVL/v2Zmsvw75v+/g6xao7j2/78YHIGMi4P/v/sjPCWPjv6/EyzujrQb/b94zoZi8zD7v4xAIRwx1vi//Bc/lCAV9r9GhZoMGvnyvx5NPurYHe+/65MNU1HJ57+SiNkBzxLgv/GDAnguNNC/B1wUMyam0bw=\",\"dtype\":\"float64\",\"shape\":[100]}}},\"id\":\"152df483-a505-4a8b-a9e5-e26218008660\",\"type\":\"ColumnDataSource\"},{\"attributes\":{\"below\":[{\"id\":\"97dbe442-d670-452e-bee9-2d768ddb31e1\",\"type\":\"LinearAxis\"}],\"left\":[{\"id\":\"59e14f81-1614-4bb8-a4b9-d8aad9e59625\",\"type\":\"LinearAxis\"}],\"renderers\":[{\"id\":\"97dbe442-d670-452e-bee9-2d768ddb31e1\",\"type\":\"LinearAxis\"},{\"id\":\"9613fa52-ca02-48af-9d13-4e1c52c26ed9\",\"type\":\"Grid\"},{\"id\":\"59e14f81-1614-4bb8-a4b9-d8aad9e59625\",\"type\":\"LinearAxis\"},{\"id\":\"1349b52e-50ee-4dcd-b601-9dd3ea17bb4d\",\"type\":\"Grid\"},{\"id\":\"030c1dab-ee56-4c0b-a0ff-e823bdf6a137\",\"type\":\"BoxAnnotation\"},{\"id\":\"a95d6a62-9874-45c8-bc16-2426eec3c71e\",\"type\":\"Legend\"},{\"id\":\"8543cffd-4568-4bb8-8d95-fc795a1a89e7\",\"type\":\"GlyphRenderer\"},{\"id\":\"e5853c58-2d98-4457-b7dc-c78f2fdba4c0\",\"type\":\"GlyphRenderer\"},{\"id\":\"74e99e5b-5398-4405-87a8-337913ae2664\",\"type\":\"GlyphRenderer\"},{\"id\":\"e51997bf-31c2-4983-96ae-04d831e0e6e5\",\"type\":\"GlyphRenderer\"},{\"id\":\"7b9b88a8-366e-4791-a70b-05be88ec288d\",\"type\":\"GlyphRenderer\"}],\"title\":{\"id\":\"781f82c8-7659-435b-8128-409f8cc40bd5\",\"type\":\"Title\"},\"toolbar\":{\"id\":\"7abe0b25-e269-453e-a403-09a61b2177be\",\"type\":\"Toolbar\"},\"x_range\":{\"id\":\"ceb98cc2-1132-4984-9dff-b473bc9e4e13\",\"type\":\"DataRange1d\"},\"x_scale\":{\"id\":\"e8e97c49-86ba-4792-a25a-7dfde185e9f3\",\"type\":\"LinearScale\"},\"y_range\":{\"id\":\"12842a30-85b6-4701-88d8-0a8cddcbe8c8\",\"type\":\"DataRange1d\"},\"y_scale\":{\"id\":\"e67c9e0e-0c4c-484e-9da8-933bf54574e1\",\"type\":\"LinearScale\"}},\"id\":\"097d4f9d-a2c2-4bf1-83d3-3d66b095bc3f\",\"subtype\":\"Figure\",\"type\":\"Plot\"},{\"attributes\":{\"fill_alpha\":{\"value\":0.1},\"fill_color\":{\"value\":\"#1f77b4\"},\"line_alpha\":{\"value\":0.1},\"line_color\":{\"value\":\"#1f77b4\"},\"x\":{\"field\":\"x\"},\"y\":{\"field\":\"y\"}},\"id\":\"202935fd-5a6f-4782-a434-46af9cd095f4\",\"type\":\"Circle\"},{\"attributes\":{\"plot\":null,\"text\":\"\"},\"id\":\"781f82c8-7659-435b-8128-409f8cc40bd5\",\"type\":\"Title\"}],\"root_ids\":[\"097d4f9d-a2c2-4bf1-83d3-3d66b095bc3f\"]},\"title\":\"Bokeh Application\",\"version\":\"0.12.13\"}};\n",
       "  var render_items = [{\"docid\":\"bb2be608-54f8-40cb-937b-37b4d46a5ddb\",\"elementid\":\"29233fee-fa3d-44e7-aa8d-6c76bb92649b\",\"modelid\":\"097d4f9d-a2c2-4bf1-83d3-3d66b095bc3f\"}];\n",
       "  root.Bokeh.embed.embed_items_notebook(docs_json, render_items);\n",
       "\n",
       "  }\n",
       "  if (root.Bokeh !== undefined) {\n",
       "    embed_document(root);\n",
       "  } else {\n",
       "    var attempts = 0;\n",
       "    var timer = setInterval(function(root) {\n",
       "      if (root.Bokeh !== undefined) {\n",
       "        embed_document(root);\n",
       "        clearInterval(timer);\n",
       "      }\n",
       "      attempts++;\n",
       "      if (attempts > 100) {\n",
       "        console.log(\"Bokeh: ERROR: Unable to run BokehJS code because BokehJS library is missing\")\n",
       "        clearInterval(timer);\n",
       "      }\n",
       "    }, 10, root)\n",
       "  }\n",
       "})(window);"
      ],
      "application/vnd.bokehjs_exec.v0+json": ""
     },
     "metadata": {
      "application/vnd.bokehjs_exec.v0+json": {
       "id": "097d4f9d-a2c2-4bf1-83d3-3d66b095bc3f"
      }
     },
     "output_type": "display_data"
    }
   ],
   "source": [
    "x = np.linspace(0, 4*np.pi, 100)\n",
    "y = np.sin(x)\n",
    "\n",
    "output_file(\"legend_labels.html\")\n",
    "\n",
    "p = figure()\n",
    "\n",
    "p.circle(x, y, legend=\"sin(x)\")\n",
    "p.line(x, y, legend=\"sin(x)\")\n",
    "\n",
    "p.line(x, 2*y, legend=\"2*sin(x)\",\n",
    "       line_dash=[4, 4], line_color=\"orange\", line_width=2)\n",
    "\n",
    "p.square(x, 3*y, legend=\"3*sin(x)\", fill_color=None, line_color=\"green\")\n",
    "p.line(x, 3*y, legend=\"3*sin(x)\", line_color=\"green\")\n",
    "\n",
    "p.legend.label_text_font = \"times\"\n",
    "p.legend.label_text_font_style = \"italic\"\n",
    "p.legend.label_text_color = \"navy\"\n",
    "\n",
    "show(p)"
   ]
  },
  {
   "cell_type": "markdown",
   "metadata": {},
   "source": [
    "### Border"
   ]
  },
  {
   "cell_type": "code",
   "execution_count": 61,
   "metadata": {},
   "outputs": [
    {
     "data": {
      "text/html": [
       "\n",
       "<div class=\"bk-root\">\n",
       "    <div class=\"bk-plotdiv\" id=\"4b3b4721-e3b2-46a3-a5ea-f15bfa097a78\"></div>\n",
       "</div>"
      ]
     },
     "metadata": {},
     "output_type": "display_data"
    },
    {
     "data": {
      "application/javascript": [
       "(function(root) {\n",
       "  function embed_document(root) {\n",
       "    \n",
       "  var docs_json = {\"680e0e90-17ee-4a90-9e93-d77a5492bad9\":{\"roots\":{\"references\":[{\"attributes\":{\"line_alpha\":0.1,\"line_color\":\"#1f77b4\",\"line_dash\":[4,4],\"line_width\":2,\"x\":{\"field\":\"x\"},\"y\":{\"field\":\"y\"}},\"id\":\"42ea0ee3-e6a3-410b-a298-6ec81380eedb\",\"type\":\"Line\"},{\"attributes\":{\"data_source\":{\"id\":\"e13479d5-76c4-4e63-8810-84bf1558e3b9\",\"type\":\"ColumnDataSource\"},\"glyph\":{\"id\":\"0082469d-b78c-445a-8f4a-0f228028bd78\",\"type\":\"Circle\"},\"hover_glyph\":null,\"muted_glyph\":null,\"nonselection_glyph\":{\"id\":\"f184c2fc-8da4-4ee9-8b57-77d12fb281e0\",\"type\":\"Circle\"},\"selection_glyph\":null,\"view\":{\"id\":\"db7317f6-7c6d-4105-8836-c00623c8ab96\",\"type\":\"CDSView\"}},\"id\":\"745d5aed-24ab-42f2-b6ad-a21dc5e179f2\",\"type\":\"GlyphRenderer\"},{\"attributes\":{\"line_alpha\":0.1,\"line_color\":\"#1f77b4\",\"x\":{\"field\":\"x\"},\"y\":{\"field\":\"y\"}},\"id\":\"2c4e0c02-bdb7-4881-94c7-9cc72c21664a\",\"type\":\"Line\"},{\"attributes\":{\"callback\":null,\"column_names\":[\"x\",\"y\"],\"data\":{\"x\":{\"__ndarray__\":\"AAAAAAAAAACRGkt8Vz/AP5EaS3xXP9A/2qdwOgNf2D+RGkt8Vz/gPzXhXVstT+Q/2qdwOgNf6D9+boMZ2W7sP5EaS3xXP/A/433Ua0JH8j814V1bLU/0P4dE50oYV/Y/2qdwOgNf+D8sC/op7mb6P35ugxnZbvw/0NEMCcR2/j+RGkt8Vz8AQDrMD/RMQwFA433Ua0JHAkCML5njN0sDQDXhXVstTwRA3pIi0yJTBUCHROdKGFcGQDD2q8INWwdA2qdwOgNfCECDWTWy+GIJQCwL+inuZgpA1by+oeNqC0B+boMZ2W4MQCcgSJHOcg1A0NEMCcR2DkB5g9GAuXoPQJEaS3xXPxBAZnMtOFLBEEA6zA/0TEMRQA8l8q9HxRFA433Ua0JHEkC41rYnPckSQIwvmeM3SxNAYYh7nzLNE0A14V1bLU8UQAo6QBco0RRA3pIi0yJTFUCz6wSPHdUVQIdE50oYVxZAXJ3JBhPZFkAw9qvCDVsXQAVPjn4I3RdA2qdwOgNfGECuAFP2/eAYQINZNbL4YhlAV7IXbvPkGUAsC/op7mYaQABk3OXo6BpA1by+oeNqG0CpFaFd3uwbQH5ugxnZbhxAUsdl1dPwHEAnIEiRznIdQPt4Kk3J9B1A0NEMCcR2HkCkKu/EvvgeQHmD0YC5eh9ATdyzPLT8H0CRGkt8Vz8gQPtGPNpUgCBAZnMtOFLBIEDQnx6WTwIhQDrMD/RMQyFApPgAUkqEIUAPJfKvR8UhQHlR4w1FBiJA433Ua0JHIkBNqsXJP4giQLjWtic9ySJAIgOohToKI0CML5njN0sjQPZbikE1jCNAYYh7nzLNI0DLtGz9Lw4kQDXhXVstTyRAoA1PuSqQJEAKOkAXKNEkQHRmMXUlEiVA3pIi0yJTJUBJvxMxIJQlQLPrBI8d1SVAHRj27BoWJkCHROdKGFcmQPJw2KgVmCZAXJ3JBhPZJkDGybpkEBonQDD2q8INWydAmyKdIAucJ0AFT45+CN0nQG97f9wFHihA2qdwOgNfKEBE1GGYAKAoQK4AU/b94ChAGC1EVPshKUA=\",\"dtype\":\"float64\",\"shape\":[100]},\"y\":{\"__ndarray__\":\"AAAAAAAAAADoxQO0RU7YP+dMxoI2HOg//C5K/vzW8T/Tua6vYlb3P+nH5xKndfw/AFIvb9iPAEBm8BjVpKACQNka5Ym2ZARADqEya8fUBUD+Gu1b6+oGQBHVYKmoogdAYgGEegr5B0DMzIX9rOwHQM+xeSHDfQdA1L6JxBWuBkB9BRBa/IAFQO0A3yZP+wNAeZ5rTFMjAkDe5Qz1oAAAQDnpZxcIOPs/tv7u/6/+9T/6iGdXvmrwP2wf+wVaJuU/5X710zFA0j+uSTsu9124v2QnUqkVVt6/o9Qx/NsL679m4Ulpoj7zvxQdiFoRqPi/bDUKCPCr/b/J7VIByxoBwPGhyyYpGQPAgTlCLtzIBMCuGkzd8SIGwAOBBKLYIQfAMzIqg3bBB8BzaxsFOv8HwKfUGL4k2gfAJ8c7bs9SB8BSNUOKZ2sGwCX1VkOmJwXAMfGzMMGMA8AjU27aVKEBwC4hWvuS2v6/DwQZ9WTz+b9lsKPjUaH0v8Yvs7GI9O2/YIF44Akr4r8GSRAz01rIvzJJEDPTWsg/aoF44Akr4j/QL7OxiPTtP2Cwo+NRofQ/FAQZ9WTz+T8qIVr7ktr+PyVTbtpUoQFAMPGzMMGMA0Am9VZDpicFQFE1Q4pnawZAKMc7bs9SB0Cn1Bi+JNoHQHNrGwU6/wdANDIqg3bBB0ACgQSi2CEHQLAaTN3xIgZAfTlCLtzIBEDwocsmKRkDQMntUgHLGgFAcTUKCPCr/T8MHYhaEaj4P2HhSWmiPvM/pNQx/NsL6z99J1KpFVbeP/ZIOy73Xbg/+n710zFA0r9fH/sFWiblv+6IZ1e+avC/uv7u/6/+9b846WcXCDj7v9vlDPWgAADAfJ5rTFMjAsDuAN8mT/sDwH0FEFr8gAXA076JxBWuBsDQsXkhw30HwMzMhf2s7AfAYgGEegr5B8AS1WCpqKIHwPwa7Vvr6gbADqEya8fUBcDaGuWJtmQEwGnwGNWkoALA/VEvb9iPAMDpx+cSp3X8v9a5rq9iVve/8C5K/vzW8b/bTMaCNhzov+rFA7RFTti/CoqeTDl52rw=\",\"dtype\":\"float64\",\"shape\":[100]}}},\"id\":\"617d823d-1a5c-43db-9ace-0dbdc7ab1a9d\",\"type\":\"ColumnDataSource\"},{\"attributes\":{},\"id\":\"7b807c7e-c8b5-465f-bf96-2eefc79e7844\",\"type\":\"BasicTicker\"},{\"attributes\":{\"formatter\":{\"id\":\"adc8b744-8742-4721-84aa-1d959e9e7569\",\"type\":\"BasicTickFormatter\"},\"plot\":{\"id\":\"d3c60eda-e810-4af2-b422-3ce361aea8aa\",\"subtype\":\"Figure\",\"type\":\"Plot\"},\"ticker\":{\"id\":\"7b807c7e-c8b5-465f-bf96-2eefc79e7844\",\"type\":\"BasicTicker\"}},\"id\":\"aa891510-ef08-4205-b6b8-82bb2dc896e1\",\"type\":\"LinearAxis\"},{\"attributes\":{\"callback\":null,\"column_names\":[\"x\",\"y\"],\"data\":{\"x\":{\"__ndarray__\":\"AAAAAAAAAACRGkt8Vz/AP5EaS3xXP9A/2qdwOgNf2D+RGkt8Vz/gPzXhXVstT+Q/2qdwOgNf6D9+boMZ2W7sP5EaS3xXP/A/433Ua0JH8j814V1bLU/0P4dE50oYV/Y/2qdwOgNf+D8sC/op7mb6P35ugxnZbvw/0NEMCcR2/j+RGkt8Vz8AQDrMD/RMQwFA433Ua0JHAkCML5njN0sDQDXhXVstTwRA3pIi0yJTBUCHROdKGFcGQDD2q8INWwdA2qdwOgNfCECDWTWy+GIJQCwL+inuZgpA1by+oeNqC0B+boMZ2W4MQCcgSJHOcg1A0NEMCcR2DkB5g9GAuXoPQJEaS3xXPxBAZnMtOFLBEEA6zA/0TEMRQA8l8q9HxRFA433Ua0JHEkC41rYnPckSQIwvmeM3SxNAYYh7nzLNE0A14V1bLU8UQAo6QBco0RRA3pIi0yJTFUCz6wSPHdUVQIdE50oYVxZAXJ3JBhPZFkAw9qvCDVsXQAVPjn4I3RdA2qdwOgNfGECuAFP2/eAYQINZNbL4YhlAV7IXbvPkGUAsC/op7mYaQABk3OXo6BpA1by+oeNqG0CpFaFd3uwbQH5ugxnZbhxAUsdl1dPwHEAnIEiRznIdQPt4Kk3J9B1A0NEMCcR2HkCkKu/EvvgeQHmD0YC5eh9ATdyzPLT8H0CRGkt8Vz8gQPtGPNpUgCBAZnMtOFLBIEDQnx6WTwIhQDrMD/RMQyFApPgAUkqEIUAPJfKvR8UhQHlR4w1FBiJA433Ua0JHIkBNqsXJP4giQLjWtic9ySJAIgOohToKI0CML5njN0sjQPZbikE1jCNAYYh7nzLNI0DLtGz9Lw4kQDXhXVstTyRAoA1PuSqQJEAKOkAXKNEkQHRmMXUlEiVA3pIi0yJTJUBJvxMxIJQlQLPrBI8d1SVAHRj27BoWJkCHROdKGFcmQPJw2KgVmCZAXJ3JBhPZJkDGybpkEBonQDD2q8INWydAmyKdIAucJ0AFT45+CN0nQG97f9wFHihA2qdwOgNfKEBE1GGYAKAoQK4AU/b94ChAGC1EVPshKUA=\",\"dtype\":\"float64\",\"shape\":[100]},\"y\":{\"__ndarray__\":\"AAAAAAAAAADwgwJ4LjTAP5qI2QHPEtA/+5MNU1HJ1z8ZTT7q2B3fP0aFmgwa+eI/ABg/lCAV5j+IQCEcMdboP3fOhmLzMOs/EyzujrQb7T/9Izwlj47uPxccgYyLg+8/g6xao7j27z9mZrL8O+bvP7+X94FZUu8/xVNiW3I97j9RB8Ai+6vsP5FWKYlppOo/oSg6uxkv6D/Sh2bxK1blPyZGRbpaJeI/8qg+VZVT3T/4C4p0qOPVP+UppLIiM8w/3FNHxZdVuD/J23zJpD6gv+3ENsZjOcS/wo12/ecH0r/dgWKM2KjZv2MTsJELcOC/83ixWvXH47+358MBZM7mv5eCD4nhdum/rExY6Hq267+TIxAn7YPtvwSssILL1+6/70I4BJ6s77/vOc8G+P7vvzTGy1KGze+/3176khQZ77/C8a4NiuTtvzGcHq/dNOy/l0FFlgER6r+EGZN4xoHnvx8WPFK3keS/Cli7+O1M4b+HQNqEwoHbv9kfIiFb+NO/gKyggGI5yL8EhrXMjDywvyGGtcyMPLA/jqyggGI5yD/gHyIhW/jTP4BA2oTCgds/DVi7+O1M4T8cFjxSt5HkP4cZk3jGgec/lUFFlgER6j8ynB6v3TTsP8Hxrg2K5O0/4F76khQZ7z80xstShs3vP+85zwb4/u8/8EI4BJ6s7z8DrLCCy9fuP5UjECftg+0/p0xY6Hq26z+Vgg+J4XbpP7fnwwFkzuY/9nixWvXH4z9dE7CRC3DgP9eBYozYqNk/w412/ecH0j/+xDbGYznEP0/bfMmkPqA/+FNHxZdVuL/UKaSyIjPMv+gLinSo49W/+Kg+VZVT3b8lRkW6WiXiv8+HZvErVuW/pig6uxkv6L+TVimJaaTqv1EHwCL7q+y/xFNiW3I97r/Al/eBWVLvv2Zmsvw75u+/g6xao7j2778YHIGMi4Pvv/sjPCWPju6/EyzujrQb7b94zoZi8zDrv4xAIRwx1ui//Bc/lCAV5r9GhZoMGvnivx5NPurYHd+/65MNU1HJ17+SiNkBzxLQv/GDAnguNMC/B1wUMyamwbw=\",\"dtype\":\"float64\",\"shape\":[100]}}},\"id\":\"901ac64f-a5df-436a-a930-4bff404a1796\",\"type\":\"ColumnDataSource\"},{\"attributes\":{\"line_color\":\"orange\",\"line_dash\":[4,4],\"line_width\":2,\"x\":{\"field\":\"x\"},\"y\":{\"field\":\"y\"}},\"id\":\"65eb2f04-78e0-455c-af63-87152640f847\",\"type\":\"Line\"},{\"attributes\":{\"callback\":null,\"column_names\":[\"x\",\"y\"],\"data\":{\"x\":{\"__ndarray__\":\"AAAAAAAAAACRGkt8Vz/AP5EaS3xXP9A/2qdwOgNf2D+RGkt8Vz/gPzXhXVstT+Q/2qdwOgNf6D9+boMZ2W7sP5EaS3xXP/A/433Ua0JH8j814V1bLU/0P4dE50oYV/Y/2qdwOgNf+D8sC/op7mb6P35ugxnZbvw/0NEMCcR2/j+RGkt8Vz8AQDrMD/RMQwFA433Ua0JHAkCML5njN0sDQDXhXVstTwRA3pIi0yJTBUCHROdKGFcGQDD2q8INWwdA2qdwOgNfCECDWTWy+GIJQCwL+inuZgpA1by+oeNqC0B+boMZ2W4MQCcgSJHOcg1A0NEMCcR2DkB5g9GAuXoPQJEaS3xXPxBAZnMtOFLBEEA6zA/0TEMRQA8l8q9HxRFA433Ua0JHEkC41rYnPckSQIwvmeM3SxNAYYh7nzLNE0A14V1bLU8UQAo6QBco0RRA3pIi0yJTFUCz6wSPHdUVQIdE50oYVxZAXJ3JBhPZFkAw9qvCDVsXQAVPjn4I3RdA2qdwOgNfGECuAFP2/eAYQINZNbL4YhlAV7IXbvPkGUAsC/op7mYaQABk3OXo6BpA1by+oeNqG0CpFaFd3uwbQH5ugxnZbhxAUsdl1dPwHEAnIEiRznIdQPt4Kk3J9B1A0NEMCcR2HkCkKu/EvvgeQHmD0YC5eh9ATdyzPLT8H0CRGkt8Vz8gQPtGPNpUgCBAZnMtOFLBIEDQnx6WTwIhQDrMD/RMQyFApPgAUkqEIUAPJfKvR8UhQHlR4w1FBiJA433Ua0JHIkBNqsXJP4giQLjWtic9ySJAIgOohToKI0CML5njN0sjQPZbikE1jCNAYYh7nzLNI0DLtGz9Lw4kQDXhXVstTyRAoA1PuSqQJEAKOkAXKNEkQHRmMXUlEiVA3pIi0yJTJUBJvxMxIJQlQLPrBI8d1SVAHRj27BoWJkCHROdKGFcmQPJw2KgVmCZAXJ3JBhPZJkDGybpkEBonQDD2q8INWydAmyKdIAucJ0AFT45+CN0nQG97f9wFHihA2qdwOgNfKEBE1GGYAKAoQK4AU/b94ChAGC1EVPshKUA=\",\"dtype\":\"float64\",\"shape\":[100]},\"y\":{\"__ndarray__\":\"AAAAAAAAAADwgwJ4LjTAP5qI2QHPEtA/+5MNU1HJ1z8ZTT7q2B3fP0aFmgwa+eI/ABg/lCAV5j+IQCEcMdboP3fOhmLzMOs/EyzujrQb7T/9Izwlj47uPxccgYyLg+8/g6xao7j27z9mZrL8O+bvP7+X94FZUu8/xVNiW3I97j9RB8Ai+6vsP5FWKYlppOo/oSg6uxkv6D/Sh2bxK1blPyZGRbpaJeI/8qg+VZVT3T/4C4p0qOPVP+UppLIiM8w/3FNHxZdVuD/J23zJpD6gv+3ENsZjOcS/wo12/ecH0r/dgWKM2KjZv2MTsJELcOC/83ixWvXH47+358MBZM7mv5eCD4nhdum/rExY6Hq267+TIxAn7YPtvwSssILL1+6/70I4BJ6s77/vOc8G+P7vvzTGy1KGze+/3176khQZ77/C8a4NiuTtvzGcHq/dNOy/l0FFlgER6r+EGZN4xoHnvx8WPFK3keS/Cli7+O1M4b+HQNqEwoHbv9kfIiFb+NO/gKyggGI5yL8EhrXMjDywvyGGtcyMPLA/jqyggGI5yD/gHyIhW/jTP4BA2oTCgds/DVi7+O1M4T8cFjxSt5HkP4cZk3jGgec/lUFFlgER6j8ynB6v3TTsP8Hxrg2K5O0/4F76khQZ7z80xstShs3vP+85zwb4/u8/8EI4BJ6s7z8DrLCCy9fuP5UjECftg+0/p0xY6Hq26z+Vgg+J4XbpP7fnwwFkzuY/9nixWvXH4z9dE7CRC3DgP9eBYozYqNk/w412/ecH0j/+xDbGYznEP0/bfMmkPqA/+FNHxZdVuL/UKaSyIjPMv+gLinSo49W/+Kg+VZVT3b8lRkW6WiXiv8+HZvErVuW/pig6uxkv6L+TVimJaaTqv1EHwCL7q+y/xFNiW3I97r/Al/eBWVLvv2Zmsvw75u+/g6xao7j2778YHIGMi4Pvv/sjPCWPju6/EyzujrQb7b94zoZi8zDrv4xAIRwx1ui//Bc/lCAV5r9GhZoMGvnivx5NPurYHd+/65MNU1HJ17+SiNkBzxLQv/GDAnguNMC/B1wUMyamwbw=\",\"dtype\":\"float64\",\"shape\":[100]}}},\"id\":\"e13479d5-76c4-4e63-8810-84bf1558e3b9\",\"type\":\"ColumnDataSource\"},{\"attributes\":{\"source\":{\"id\":\"901ac64f-a5df-436a-a930-4bff404a1796\",\"type\":\"ColumnDataSource\"}},\"id\":\"7bbcfd2e-4e9f-494b-912b-fbc4d03bb876\",\"type\":\"CDSView\"},{\"attributes\":{\"label\":{\"value\":\"2*sin(x)\"},\"renderers\":[{\"id\":\"197ce6f7-0330-49f6-b024-70a4047b777e\",\"type\":\"GlyphRenderer\"}]},\"id\":\"cdaf63d8-bcfb-4885-b932-ddb546833df3\",\"type\":\"LegendItem\"},{\"attributes\":{\"line_color\":\"#1f77b4\",\"x\":{\"field\":\"x\"},\"y\":{\"field\":\"y\"}},\"id\":\"a577b8c6-cc6d-4eab-8b42-260dce4628ee\",\"type\":\"Line\"},{\"attributes\":{\"overlay\":{\"id\":\"28d85ceb-ccab-4be6-9be7-003720ceda06\",\"type\":\"BoxAnnotation\"}},\"id\":\"d6df19ff-a98b-462b-9351-d8575dc6066a\",\"type\":\"BoxZoomTool\"},{\"attributes\":{\"plot\":{\"id\":\"d3c60eda-e810-4af2-b422-3ce361aea8aa\",\"subtype\":\"Figure\",\"type\":\"Plot\"},\"ticker\":{\"id\":\"7b807c7e-c8b5-465f-bf96-2eefc79e7844\",\"type\":\"BasicTicker\"}},\"id\":\"6674ba8a-38ac-415b-9726-ed2ba88d3225\",\"type\":\"Grid\"},{\"attributes\":{},\"id\":\"c35da687-0fec-47ce-a520-047fc108bb83\",\"type\":\"HelpTool\"},{\"attributes\":{\"line_alpha\":0.1,\"line_color\":\"#1f77b4\",\"x\":{\"field\":\"x\"},\"y\":{\"field\":\"y\"}},\"id\":\"25521f39-5d42-48b7-8f2c-b21cc5d9b68e\",\"type\":\"Line\"},{\"attributes\":{},\"id\":\"4211976a-624d-4d5e-a212-5e993fde7779\",\"type\":\"BasicTicker\"},{\"attributes\":{\"data_source\":{\"id\":\"f58c2964-cefd-4dd3-957c-73efce0baf87\",\"type\":\"ColumnDataSource\"},\"glyph\":{\"id\":\"d3c0a9b2-0a11-4d46-b2ff-28e9d358305e\",\"type\":\"Square\"},\"hover_glyph\":null,\"muted_glyph\":null,\"nonselection_glyph\":{\"id\":\"a858400b-876f-41b9-8588-aacd7d8312c4\",\"type\":\"Square\"},\"selection_glyph\":null,\"view\":{\"id\":\"180fd9cc-d861-4620-a858-c0bbb029ecb9\",\"type\":\"CDSView\"}},\"id\":\"51b6231f-3a70-48d7-b6a4-1c59609b5ae4\",\"type\":\"GlyphRenderer\"},{\"attributes\":{},\"id\":\"469d72e0-a10d-455d-bb27-30efc9d0e9fa\",\"type\":\"BasicTickFormatter\"},{\"attributes\":{},\"id\":\"da368710-b06d-4cb7-bc1e-d03d70f7eb5f\",\"type\":\"ResetTool\"},{\"attributes\":{\"callback\":null,\"column_names\":[\"x\",\"y\"],\"data\":{\"x\":{\"__ndarray__\":\"AAAAAAAAAACRGkt8Vz/AP5EaS3xXP9A/2qdwOgNf2D+RGkt8Vz/gPzXhXVstT+Q/2qdwOgNf6D9+boMZ2W7sP5EaS3xXP/A/433Ua0JH8j814V1bLU/0P4dE50oYV/Y/2qdwOgNf+D8sC/op7mb6P35ugxnZbvw/0NEMCcR2/j+RGkt8Vz8AQDrMD/RMQwFA433Ua0JHAkCML5njN0sDQDXhXVstTwRA3pIi0yJTBUCHROdKGFcGQDD2q8INWwdA2qdwOgNfCECDWTWy+GIJQCwL+inuZgpA1by+oeNqC0B+boMZ2W4MQCcgSJHOcg1A0NEMCcR2DkB5g9GAuXoPQJEaS3xXPxBAZnMtOFLBEEA6zA/0TEMRQA8l8q9HxRFA433Ua0JHEkC41rYnPckSQIwvmeM3SxNAYYh7nzLNE0A14V1bLU8UQAo6QBco0RRA3pIi0yJTFUCz6wSPHdUVQIdE50oYVxZAXJ3JBhPZFkAw9qvCDVsXQAVPjn4I3RdA2qdwOgNfGECuAFP2/eAYQINZNbL4YhlAV7IXbvPkGUAsC/op7mYaQABk3OXo6BpA1by+oeNqG0CpFaFd3uwbQH5ugxnZbhxAUsdl1dPwHEAnIEiRznIdQPt4Kk3J9B1A0NEMCcR2HkCkKu/EvvgeQHmD0YC5eh9ATdyzPLT8H0CRGkt8Vz8gQPtGPNpUgCBAZnMtOFLBIEDQnx6WTwIhQDrMD/RMQyFApPgAUkqEIUAPJfKvR8UhQHlR4w1FBiJA433Ua0JHIkBNqsXJP4giQLjWtic9ySJAIgOohToKI0CML5njN0sjQPZbikE1jCNAYYh7nzLNI0DLtGz9Lw4kQDXhXVstTyRAoA1PuSqQJEAKOkAXKNEkQHRmMXUlEiVA3pIi0yJTJUBJvxMxIJQlQLPrBI8d1SVAHRj27BoWJkCHROdKGFcmQPJw2KgVmCZAXJ3JBhPZJkDGybpkEBonQDD2q8INWydAmyKdIAucJ0AFT45+CN0nQG97f9wFHihA2qdwOgNfKEBE1GGYAKAoQK4AU/b94ChAGC1EVPshKUA=\",\"dtype\":\"float64\",\"shape\":[100]},\"y\":{\"__ndarray__\":\"AAAAAAAAAADoxQO0RU7YP+dMxoI2HOg//C5K/vzW8T/Tua6vYlb3P+nH5xKndfw/AFIvb9iPAEBm8BjVpKACQNka5Ym2ZARADqEya8fUBUD+Gu1b6+oGQBHVYKmoogdAYgGEegr5B0DMzIX9rOwHQM+xeSHDfQdA1L6JxBWuBkB9BRBa/IAFQO0A3yZP+wNAeZ5rTFMjAkDe5Qz1oAAAQDnpZxcIOPs/tv7u/6/+9T/6iGdXvmrwP2wf+wVaJuU/5X710zFA0j+uSTsu9124v2QnUqkVVt6/o9Qx/NsL679m4Ulpoj7zvxQdiFoRqPi/bDUKCPCr/b/J7VIByxoBwPGhyyYpGQPAgTlCLtzIBMCuGkzd8SIGwAOBBKLYIQfAMzIqg3bBB8BzaxsFOv8HwKfUGL4k2gfAJ8c7bs9SB8BSNUOKZ2sGwCX1VkOmJwXAMfGzMMGMA8AjU27aVKEBwC4hWvuS2v6/DwQZ9WTz+b9lsKPjUaH0v8Yvs7GI9O2/YIF44Akr4r8GSRAz01rIvzJJEDPTWsg/aoF44Akr4j/QL7OxiPTtP2Cwo+NRofQ/FAQZ9WTz+T8qIVr7ktr+PyVTbtpUoQFAMPGzMMGMA0Am9VZDpicFQFE1Q4pnawZAKMc7bs9SB0Cn1Bi+JNoHQHNrGwU6/wdANDIqg3bBB0ACgQSi2CEHQLAaTN3xIgZAfTlCLtzIBEDwocsmKRkDQMntUgHLGgFAcTUKCPCr/T8MHYhaEaj4P2HhSWmiPvM/pNQx/NsL6z99J1KpFVbeP/ZIOy73Xbg/+n710zFA0r9fH/sFWiblv+6IZ1e+avC/uv7u/6/+9b846WcXCDj7v9vlDPWgAADAfJ5rTFMjAsDuAN8mT/sDwH0FEFr8gAXA076JxBWuBsDQsXkhw30HwMzMhf2s7AfAYgGEegr5B8AS1WCpqKIHwPwa7Vvr6gbADqEya8fUBcDaGuWJtmQEwGnwGNWkoALA/VEvb9iPAMDpx+cSp3X8v9a5rq9iVve/8C5K/vzW8b/bTMaCNhzov+rFA7RFTti/CoqeTDl52rw=\",\"dtype\":\"float64\",\"shape\":[100]}}},\"id\":\"f58c2964-cefd-4dd3-957c-73efce0baf87\",\"type\":\"ColumnDataSource\"},{\"attributes\":{\"fill_alpha\":{\"value\":0.1},\"fill_color\":{\"value\":\"#1f77b4\"},\"line_alpha\":{\"value\":0.1},\"line_color\":{\"value\":\"#1f77b4\"},\"x\":{\"field\":\"x\"},\"y\":{\"field\":\"y\"}},\"id\":\"f184c2fc-8da4-4ee9-8b57-77d12fb281e0\",\"type\":\"Circle\"},{\"attributes\":{\"below\":[{\"id\":\"aa891510-ef08-4205-b6b8-82bb2dc896e1\",\"type\":\"LinearAxis\"}],\"left\":[{\"id\":\"dc229da2-843a-4556-b686-34156d4d81a7\",\"type\":\"LinearAxis\"}],\"renderers\":[{\"id\":\"aa891510-ef08-4205-b6b8-82bb2dc896e1\",\"type\":\"LinearAxis\"},{\"id\":\"6674ba8a-38ac-415b-9726-ed2ba88d3225\",\"type\":\"Grid\"},{\"id\":\"dc229da2-843a-4556-b686-34156d4d81a7\",\"type\":\"LinearAxis\"},{\"id\":\"78c83092-234b-42aa-9ec9-76a3e4a5379d\",\"type\":\"Grid\"},{\"id\":\"28d85ceb-ccab-4be6-9be7-003720ceda06\",\"type\":\"BoxAnnotation\"},{\"id\":\"20017e1b-b1ba-4177-a1c5-4c3919bd9187\",\"type\":\"Legend\"},{\"id\":\"745d5aed-24ab-42f2-b6ad-a21dc5e179f2\",\"type\":\"GlyphRenderer\"},{\"id\":\"fe44f225-2198-4335-9e9e-f7f34fcfe8e4\",\"type\":\"GlyphRenderer\"},{\"id\":\"197ce6f7-0330-49f6-b024-70a4047b777e\",\"type\":\"GlyphRenderer\"},{\"id\":\"51b6231f-3a70-48d7-b6a4-1c59609b5ae4\",\"type\":\"GlyphRenderer\"},{\"id\":\"c641c7aa-558e-4010-adcc-09a9db8ee7fd\",\"type\":\"GlyphRenderer\"}],\"title\":{\"id\":\"155a3956-7439-4e1c-ac71-e381a3bf22e1\",\"type\":\"Title\"},\"toolbar\":{\"id\":\"1b030168-f512-4c0a-8d04-01a9e8d6311d\",\"type\":\"Toolbar\"},\"x_range\":{\"id\":\"459a1ead-f010-4358-b2a4-56bcbafcb671\",\"type\":\"DataRange1d\"},\"x_scale\":{\"id\":\"ee939725-08dc-424d-9a33-0b3de6a6118c\",\"type\":\"LinearScale\"},\"y_range\":{\"id\":\"bf086305-b4c2-45ad-9700-204773949639\",\"type\":\"DataRange1d\"},\"y_scale\":{\"id\":\"9772149b-8439-4890-a9c9-f222cc981c85\",\"type\":\"LinearScale\"}},\"id\":\"d3c60eda-e810-4af2-b422-3ce361aea8aa\",\"subtype\":\"Figure\",\"type\":\"Plot\"},{\"attributes\":{\"dimension\":1,\"plot\":{\"id\":\"d3c60eda-e810-4af2-b422-3ce361aea8aa\",\"subtype\":\"Figure\",\"type\":\"Plot\"},\"ticker\":{\"id\":\"4211976a-624d-4d5e-a212-5e993fde7779\",\"type\":\"BasicTicker\"}},\"id\":\"78c83092-234b-42aa-9ec9-76a3e4a5379d\",\"type\":\"Grid\"},{\"attributes\":{},\"id\":\"ee939725-08dc-424d-9a33-0b3de6a6118c\",\"type\":\"LinearScale\"},{\"attributes\":{\"source\":{\"id\":\"e13479d5-76c4-4e63-8810-84bf1558e3b9\",\"type\":\"ColumnDataSource\"}},\"id\":\"db7317f6-7c6d-4105-8836-c00623c8ab96\",\"type\":\"CDSView\"},{\"attributes\":{\"source\":{\"id\":\"617d823d-1a5c-43db-9ace-0dbdc7ab1a9d\",\"type\":\"ColumnDataSource\"}},\"id\":\"a43114d9-3d77-442e-86fa-4016c9409f7a\",\"type\":\"CDSView\"},{\"attributes\":{\"label\":{\"value\":\"sin(x)\"},\"renderers\":[{\"id\":\"745d5aed-24ab-42f2-b6ad-a21dc5e179f2\",\"type\":\"GlyphRenderer\"},{\"id\":\"fe44f225-2198-4335-9e9e-f7f34fcfe8e4\",\"type\":\"GlyphRenderer\"}]},\"id\":\"fac2bd93-47f0-423f-9c8b-0724d6378547\",\"type\":\"LegendItem\"},{\"attributes\":{\"callback\":null},\"id\":\"bf086305-b4c2-45ad-9700-204773949639\",\"type\":\"DataRange1d\"},{\"attributes\":{\"label\":{\"value\":\"3*sin(x)\"},\"renderers\":[{\"id\":\"51b6231f-3a70-48d7-b6a4-1c59609b5ae4\",\"type\":\"GlyphRenderer\"},{\"id\":\"c641c7aa-558e-4010-adcc-09a9db8ee7fd\",\"type\":\"GlyphRenderer\"}]},\"id\":\"079a3fc6-5b9f-41c5-85fd-2b5892e43a79\",\"type\":\"LegendItem\"},{\"attributes\":{\"border_line_color\":{\"value\":\"navy\"},\"border_line_width\":{\"value\":3},\"items\":[{\"id\":\"fac2bd93-47f0-423f-9c8b-0724d6378547\",\"type\":\"LegendItem\"},{\"id\":\"cdaf63d8-bcfb-4885-b932-ddb546833df3\",\"type\":\"LegendItem\"},{\"id\":\"079a3fc6-5b9f-41c5-85fd-2b5892e43a79\",\"type\":\"LegendItem\"}],\"plot\":{\"id\":\"d3c60eda-e810-4af2-b422-3ce361aea8aa\",\"subtype\":\"Figure\",\"type\":\"Plot\"}},\"id\":\"20017e1b-b1ba-4177-a1c5-4c3919bd9187\",\"type\":\"Legend\"},{\"attributes\":{\"data_source\":{\"id\":\"617d823d-1a5c-43db-9ace-0dbdc7ab1a9d\",\"type\":\"ColumnDataSource\"},\"glyph\":{\"id\":\"5eab4253-1e1e-42aa-bd5b-5d0fd99611c2\",\"type\":\"Line\"},\"hover_glyph\":null,\"muted_glyph\":null,\"nonselection_glyph\":{\"id\":\"25521f39-5d42-48b7-8f2c-b21cc5d9b68e\",\"type\":\"Line\"},\"selection_glyph\":null,\"view\":{\"id\":\"a43114d9-3d77-442e-86fa-4016c9409f7a\",\"type\":\"CDSView\"}},\"id\":\"c641c7aa-558e-4010-adcc-09a9db8ee7fd\",\"type\":\"GlyphRenderer\"},{\"attributes\":{},\"id\":\"9772149b-8439-4890-a9c9-f222cc981c85\",\"type\":\"LinearScale\"},{\"attributes\":{\"data_source\":{\"id\":\"901ac64f-a5df-436a-a930-4bff404a1796\",\"type\":\"ColumnDataSource\"},\"glyph\":{\"id\":\"a577b8c6-cc6d-4eab-8b42-260dce4628ee\",\"type\":\"Line\"},\"hover_glyph\":null,\"muted_glyph\":null,\"nonselection_glyph\":{\"id\":\"2c4e0c02-bdb7-4881-94c7-9cc72c21664a\",\"type\":\"Line\"},\"selection_glyph\":null,\"view\":{\"id\":\"7bbcfd2e-4e9f-494b-912b-fbc4d03bb876\",\"type\":\"CDSView\"}},\"id\":\"fe44f225-2198-4335-9e9e-f7f34fcfe8e4\",\"type\":\"GlyphRenderer\"},{\"attributes\":{\"data_source\":{\"id\":\"d64db499-882d-4080-97a6-e56fb62474f0\",\"type\":\"ColumnDataSource\"},\"glyph\":{\"id\":\"65eb2f04-78e0-455c-af63-87152640f847\",\"type\":\"Line\"},\"hover_glyph\":null,\"muted_glyph\":null,\"nonselection_glyph\":{\"id\":\"42ea0ee3-e6a3-410b-a298-6ec81380eedb\",\"type\":\"Line\"},\"selection_glyph\":null,\"view\":{\"id\":\"659365ef-d1ce-4708-838e-91b3232952a1\",\"type\":\"CDSView\"}},\"id\":\"197ce6f7-0330-49f6-b024-70a4047b777e\",\"type\":\"GlyphRenderer\"},{\"attributes\":{\"formatter\":{\"id\":\"469d72e0-a10d-455d-bb27-30efc9d0e9fa\",\"type\":\"BasicTickFormatter\"},\"plot\":{\"id\":\"d3c60eda-e810-4af2-b422-3ce361aea8aa\",\"subtype\":\"Figure\",\"type\":\"Plot\"},\"ticker\":{\"id\":\"4211976a-624d-4d5e-a212-5e993fde7779\",\"type\":\"BasicTicker\"}},\"id\":\"dc229da2-843a-4556-b686-34156d4d81a7\",\"type\":\"LinearAxis\"},{\"attributes\":{\"line_color\":\"green\",\"x\":{\"field\":\"x\"},\"y\":{\"field\":\"y\"}},\"id\":\"5eab4253-1e1e-42aa-bd5b-5d0fd99611c2\",\"type\":\"Line\"},{\"attributes\":{\"bottom_units\":\"screen\",\"fill_alpha\":{\"value\":0.5},\"fill_color\":{\"value\":\"lightgrey\"},\"left_units\":\"screen\",\"level\":\"overlay\",\"line_alpha\":{\"value\":1.0},\"line_color\":{\"value\":\"black\"},\"line_dash\":[4,4],\"line_width\":{\"value\":2},\"plot\":null,\"render_mode\":\"css\",\"right_units\":\"screen\",\"top_units\":\"screen\"},\"id\":\"28d85ceb-ccab-4be6-9be7-003720ceda06\",\"type\":\"BoxAnnotation\"},{\"attributes\":{\"fill_color\":{\"value\":null},\"line_color\":{\"value\":\"green\"},\"x\":{\"field\":\"x\"},\"y\":{\"field\":\"y\"}},\"id\":\"d3c0a9b2-0a11-4d46-b2ff-28e9d358305e\",\"type\":\"Square\"},{\"attributes\":{},\"id\":\"aef8b66e-017f-4fc2-b925-bd62a4534e66\",\"type\":\"WheelZoomTool\"},{\"attributes\":{\"fill_alpha\":{\"value\":0.1},\"fill_color\":{\"value\":\"#1f77b4\"},\"line_alpha\":{\"value\":0.1},\"line_color\":{\"value\":\"#1f77b4\"},\"x\":{\"field\":\"x\"},\"y\":{\"field\":\"y\"}},\"id\":\"a858400b-876f-41b9-8588-aacd7d8312c4\",\"type\":\"Square\"},{\"attributes\":{\"callback\":null,\"column_names\":[\"x\",\"y\"],\"data\":{\"x\":{\"__ndarray__\":\"AAAAAAAAAACRGkt8Vz/AP5EaS3xXP9A/2qdwOgNf2D+RGkt8Vz/gPzXhXVstT+Q/2qdwOgNf6D9+boMZ2W7sP5EaS3xXP/A/433Ua0JH8j814V1bLU/0P4dE50oYV/Y/2qdwOgNf+D8sC/op7mb6P35ugxnZbvw/0NEMCcR2/j+RGkt8Vz8AQDrMD/RMQwFA433Ua0JHAkCML5njN0sDQDXhXVstTwRA3pIi0yJTBUCHROdKGFcGQDD2q8INWwdA2qdwOgNfCECDWTWy+GIJQCwL+inuZgpA1by+oeNqC0B+boMZ2W4MQCcgSJHOcg1A0NEMCcR2DkB5g9GAuXoPQJEaS3xXPxBAZnMtOFLBEEA6zA/0TEMRQA8l8q9HxRFA433Ua0JHEkC41rYnPckSQIwvmeM3SxNAYYh7nzLNE0A14V1bLU8UQAo6QBco0RRA3pIi0yJTFUCz6wSPHdUVQIdE50oYVxZAXJ3JBhPZFkAw9qvCDVsXQAVPjn4I3RdA2qdwOgNfGECuAFP2/eAYQINZNbL4YhlAV7IXbvPkGUAsC/op7mYaQABk3OXo6BpA1by+oeNqG0CpFaFd3uwbQH5ugxnZbhxAUsdl1dPwHEAnIEiRznIdQPt4Kk3J9B1A0NEMCcR2HkCkKu/EvvgeQHmD0YC5eh9ATdyzPLT8H0CRGkt8Vz8gQPtGPNpUgCBAZnMtOFLBIEDQnx6WTwIhQDrMD/RMQyFApPgAUkqEIUAPJfKvR8UhQHlR4w1FBiJA433Ua0JHIkBNqsXJP4giQLjWtic9ySJAIgOohToKI0CML5njN0sjQPZbikE1jCNAYYh7nzLNI0DLtGz9Lw4kQDXhXVstTyRAoA1PuSqQJEAKOkAXKNEkQHRmMXUlEiVA3pIi0yJTJUBJvxMxIJQlQLPrBI8d1SVAHRj27BoWJkCHROdKGFcmQPJw2KgVmCZAXJ3JBhPZJkDGybpkEBonQDD2q8INWydAmyKdIAucJ0AFT45+CN0nQG97f9wFHihA2qdwOgNfKEBE1GGYAKAoQK4AU/b94ChAGC1EVPshKUA=\",\"dtype\":\"float64\",\"shape\":[100]},\"y\":{\"__ndarray__\":\"AAAAAAAAAADwgwJ4LjTQP5qI2QHPEuA/+5MNU1HJ5z8ZTT7q2B3vP0aFmgwa+fI/ABg/lCAV9j+IQCEcMdb4P3fOhmLzMPs/EyzujrQb/T/9Izwlj47+PxccgYyLg/8/g6xao7j2/z9mZrL8O+b/P7+X94FZUv8/xVNiW3I9/j9RB8Ai+6v8P5FWKYlppPo/oSg6uxkv+D/Sh2bxK1b1PyZGRbpaJfI/8qg+VZVT7T/4C4p0qOPlP+UppLIiM9w/3FNHxZdVyD/J23zJpD6wv+3ENsZjOdS/wo12/ecH4r/dgWKM2Kjpv2MTsJELcPC/83ixWvXH87+358MBZM72v5eCD4nhdvm/rExY6Hq2+7+TIxAn7YP9vwSssILL1/6/70I4BJ6s/7/vOc8G+P7/vzTGy1KGzf+/3176khQZ/7/C8a4NiuT9vzGcHq/dNPy/l0FFlgER+r+EGZN4xoH3vx8WPFK3kfS/Cli7+O1M8b+HQNqEwoHrv9kfIiFb+OO/gKyggGI52L8EhrXMjDzAvyGGtcyMPMA/jqyggGI52D/gHyIhW/jjP4BA2oTCges/DVi7+O1M8T8cFjxSt5H0P4cZk3jGgfc/lUFFlgER+j8ynB6v3TT8P8Hxrg2K5P0/4F76khQZ/z80xstShs3/P+85zwb4/v8/8EI4BJ6s/z8DrLCCy9f+P5UjECftg/0/p0xY6Hq2+z+Vgg+J4Xb5P7fnwwFkzvY/9nixWvXH8z9dE7CRC3DwP9eBYozYqOk/w412/ecH4j/+xDbGYznUP0/bfMmkPrA/+FNHxZdVyL/UKaSyIjPcv+gLinSo4+W/+Kg+VZVT7b8lRkW6WiXyv8+HZvErVvW/pig6uxkv+L+TVimJaaT6v1EHwCL7q/y/xFNiW3I9/r/Al/eBWVL/v2Zmsvw75v+/g6xao7j2/78YHIGMi4P/v/sjPCWPjv6/EyzujrQb/b94zoZi8zD7v4xAIRwx1vi//Bc/lCAV9r9GhZoMGvnyvx5NPurYHe+/65MNU1HJ57+SiNkBzxLgv/GDAnguNNC/B1wUMyam0bw=\",\"dtype\":\"float64\",\"shape\":[100]}}},\"id\":\"d64db499-882d-4080-97a6-e56fb62474f0\",\"type\":\"ColumnDataSource\"},{\"attributes\":{\"source\":{\"id\":\"f58c2964-cefd-4dd3-957c-73efce0baf87\",\"type\":\"ColumnDataSource\"}},\"id\":\"180fd9cc-d861-4620-a858-c0bbb029ecb9\",\"type\":\"CDSView\"},{\"attributes\":{},\"id\":\"c2eb72fe-1129-4dbe-9849-d9156ef9ff06\",\"type\":\"SaveTool\"},{\"attributes\":{\"fill_color\":{\"value\":\"#1f77b4\"},\"line_color\":{\"value\":\"#1f77b4\"},\"x\":{\"field\":\"x\"},\"y\":{\"field\":\"y\"}},\"id\":\"0082469d-b78c-445a-8f4a-0f228028bd78\",\"type\":\"Circle\"},{\"attributes\":{\"source\":{\"id\":\"d64db499-882d-4080-97a6-e56fb62474f0\",\"type\":\"ColumnDataSource\"}},\"id\":\"659365ef-d1ce-4708-838e-91b3232952a1\",\"type\":\"CDSView\"},{\"attributes\":{},\"id\":\"bf06ec5b-63cf-41e9-bfc7-260f9ca1d1ad\",\"type\":\"PanTool\"},{\"attributes\":{\"callback\":null},\"id\":\"459a1ead-f010-4358-b2a4-56bcbafcb671\",\"type\":\"DataRange1d\"},{\"attributes\":{\"plot\":null,\"text\":\"\"},\"id\":\"155a3956-7439-4e1c-ac71-e381a3bf22e1\",\"type\":\"Title\"},{\"attributes\":{\"active_drag\":\"auto\",\"active_inspect\":\"auto\",\"active_scroll\":\"auto\",\"active_tap\":\"auto\",\"tools\":[{\"id\":\"bf06ec5b-63cf-41e9-bfc7-260f9ca1d1ad\",\"type\":\"PanTool\"},{\"id\":\"aef8b66e-017f-4fc2-b925-bd62a4534e66\",\"type\":\"WheelZoomTool\"},{\"id\":\"d6df19ff-a98b-462b-9351-d8575dc6066a\",\"type\":\"BoxZoomTool\"},{\"id\":\"c2eb72fe-1129-4dbe-9849-d9156ef9ff06\",\"type\":\"SaveTool\"},{\"id\":\"da368710-b06d-4cb7-bc1e-d03d70f7eb5f\",\"type\":\"ResetTool\"},{\"id\":\"c35da687-0fec-47ce-a520-047fc108bb83\",\"type\":\"HelpTool\"}]},\"id\":\"1b030168-f512-4c0a-8d04-01a9e8d6311d\",\"type\":\"Toolbar\"},{\"attributes\":{},\"id\":\"adc8b744-8742-4721-84aa-1d959e9e7569\",\"type\":\"BasicTickFormatter\"}],\"root_ids\":[\"d3c60eda-e810-4af2-b422-3ce361aea8aa\"]},\"title\":\"Bokeh Application\",\"version\":\"0.12.13\"}};\n",
       "  var render_items = [{\"docid\":\"680e0e90-17ee-4a90-9e93-d77a5492bad9\",\"elementid\":\"4b3b4721-e3b2-46a3-a5ea-f15bfa097a78\",\"modelid\":\"d3c60eda-e810-4af2-b422-3ce361aea8aa\"}];\n",
       "  root.Bokeh.embed.embed_items_notebook(docs_json, render_items);\n",
       "\n",
       "  }\n",
       "  if (root.Bokeh !== undefined) {\n",
       "    embed_document(root);\n",
       "  } else {\n",
       "    var attempts = 0;\n",
       "    var timer = setInterval(function(root) {\n",
       "      if (root.Bokeh !== undefined) {\n",
       "        embed_document(root);\n",
       "        clearInterval(timer);\n",
       "      }\n",
       "      attempts++;\n",
       "      if (attempts > 100) {\n",
       "        console.log(\"Bokeh: ERROR: Unable to run BokehJS code because BokehJS library is missing\")\n",
       "        clearInterval(timer);\n",
       "      }\n",
       "    }, 10, root)\n",
       "  }\n",
       "})(window);"
      ],
      "application/vnd.bokehjs_exec.v0+json": ""
     },
     "metadata": {
      "application/vnd.bokehjs_exec.v0+json": {
       "id": "d3c60eda-e810-4af2-b422-3ce361aea8aa"
      }
     },
     "output_type": "display_data"
    }
   ],
   "source": [
    "x = np.linspace(0, 4*np.pi, 100)\n",
    "y = np.sin(x)\n",
    "\n",
    "p = figure()\n",
    "\n",
    "p.circle(x, y, legend=\"sin(x)\")\n",
    "p.line(x, y, legend=\"sin(x)\")\n",
    "\n",
    "p.line(x, 2*y, legend=\"2*sin(x)\",\n",
    "       line_dash=[4, 4], line_color=\"orange\", line_width=2)\n",
    "\n",
    "p.square(x, 3*y, legend=\"3*sin(x)\", fill_color=None, line_color=\"green\")\n",
    "p.line(x, 3*y, legend=\"3*sin(x)\", line_color=\"green\")\n",
    "\n",
    "p.legend.border_line_width = 3\n",
    "p.legend.border_line_color = \"navy\"\n",
    "p.legend.border_line_alpha = 0.5\n",
    "\n",
    "show(p)"
   ]
  },
  {
   "cell_type": "markdown",
   "metadata": {},
   "source": [
    "### Background"
   ]
  },
  {
   "cell_type": "code",
   "execution_count": 63,
   "metadata": {},
   "outputs": [
    {
     "data": {
      "text/html": [
       "\n",
       "<div class=\"bk-root\">\n",
       "    <div class=\"bk-plotdiv\" id=\"fbfaa9a6-e564-4060-a200-df358ec36966\"></div>\n",
       "</div>"
      ]
     },
     "metadata": {},
     "output_type": "display_data"
    },
    {
     "data": {
      "application/javascript": [
       "(function(root) {\n",
       "  function embed_document(root) {\n",
       "    \n",
       "  var docs_json = {\"66a49c17-0cec-4f31-af1e-68fc5bd4bf0d\":{\"roots\":{\"references\":[{\"attributes\":{},\"id\":\"f3b08d23-a354-4a75-919b-14e61a87c152\",\"type\":\"LinearScale\"},{\"attributes\":{\"fill_alpha\":{\"value\":0.1},\"fill_color\":{\"value\":\"#1f77b4\"},\"line_alpha\":{\"value\":0.1},\"line_color\":{\"value\":\"#1f77b4\"},\"x\":{\"field\":\"x\"},\"y\":{\"field\":\"y\"}},\"id\":\"1494c0f3-f32f-4e0b-87b4-aeea2cb95bb4\",\"type\":\"Square\"},{\"attributes\":{\"line_alpha\":0.1,\"line_color\":\"#1f77b4\",\"x\":{\"field\":\"x\"},\"y\":{\"field\":\"y\"}},\"id\":\"977803d0-c9c3-4e1d-b392-7d2d2b9623c8\",\"type\":\"Line\"},{\"attributes\":{\"line_color\":\"green\",\"x\":{\"field\":\"x\"},\"y\":{\"field\":\"y\"}},\"id\":\"53d058ed-7a5a-4ef5-8494-6c491a856798\",\"type\":\"Line\"},{\"attributes\":{\"active_drag\":\"auto\",\"active_inspect\":\"auto\",\"active_scroll\":\"auto\",\"active_tap\":\"auto\",\"tools\":[{\"id\":\"74d73fd6-8dc9-4b0c-ad4d-ad61caae82a6\",\"type\":\"PanTool\"},{\"id\":\"599190fd-6dea-44bd-8bd6-45911b85da81\",\"type\":\"WheelZoomTool\"},{\"id\":\"276c617c-9e04-4a1f-bd3d-41d24fd0004d\",\"type\":\"BoxZoomTool\"},{\"id\":\"dad559fb-65b0-4e57-80ba-83c8c2bda8d1\",\"type\":\"SaveTool\"},{\"id\":\"67d6879e-0f9b-4e14-89c7-fd0d9d073b48\",\"type\":\"ResetTool\"},{\"id\":\"d238872c-c02d-43e4-b986-ec269b775161\",\"type\":\"HelpTool\"}]},\"id\":\"461ecf7f-ad5f-460b-a425-ef31ea36d39f\",\"type\":\"Toolbar\"},{\"attributes\":{\"label\":{\"value\":\"2*sin(x)\"},\"renderers\":[{\"id\":\"815988cd-90f4-4ee9-a587-791cfb2e0cde\",\"type\":\"GlyphRenderer\"}]},\"id\":\"4ae7e161-9340-4d75-9b21-6fbf98cba3b9\",\"type\":\"LegendItem\"},{\"attributes\":{\"data_source\":{\"id\":\"6b860c99-146d-4d2f-9c29-424037eeb4da\",\"type\":\"ColumnDataSource\"},\"glyph\":{\"id\":\"2807bddb-0aa1-4fd6-b193-4a4e7ac037b2\",\"type\":\"Circle\"},\"hover_glyph\":null,\"muted_glyph\":null,\"nonselection_glyph\":{\"id\":\"6ce32161-5030-410a-8d97-553baab182e7\",\"type\":\"Circle\"},\"selection_glyph\":null,\"view\":{\"id\":\"fbc77979-2c55-4b83-b2dd-ce07d8478010\",\"type\":\"CDSView\"}},\"id\":\"49da3f57-03c8-44b8-8e5d-dc1781e71c4f\",\"type\":\"GlyphRenderer\"},{\"attributes\":{\"line_alpha\":0.1,\"line_color\":\"#1f77b4\",\"line_dash\":[4,4],\"line_width\":2,\"x\":{\"field\":\"x\"},\"y\":{\"field\":\"y\"}},\"id\":\"1bc0d027-c546-4bcb-9751-88ae4521a3f9\",\"type\":\"Line\"},{\"attributes\":{\"data_source\":{\"id\":\"d4d39454-bbcf-4d68-a301-738d8156380a\",\"type\":\"ColumnDataSource\"},\"glyph\":{\"id\":\"53d058ed-7a5a-4ef5-8494-6c491a856798\",\"type\":\"Line\"},\"hover_glyph\":null,\"muted_glyph\":null,\"nonselection_glyph\":{\"id\":\"843011b2-b63f-4467-a359-f46e854a204c\",\"type\":\"Line\"},\"selection_glyph\":null,\"view\":{\"id\":\"08028782-8602-494d-b7c4-ab9771f85eda\",\"type\":\"CDSView\"}},\"id\":\"3924ce15-e193-40e2-8a3e-c48c99693ba8\",\"type\":\"GlyphRenderer\"},{\"attributes\":{},\"id\":\"74d73fd6-8dc9-4b0c-ad4d-ad61caae82a6\",\"type\":\"PanTool\"},{\"attributes\":{\"line_color\":\"#1f77b4\",\"x\":{\"field\":\"x\"},\"y\":{\"field\":\"y\"}},\"id\":\"b31b2f48-1579-4b50-a1e7-7468bb21dd00\",\"type\":\"Line\"},{\"attributes\":{\"callback\":null},\"id\":\"c5b93be8-c3fe-4c05-a86c-c96d4a0931ba\",\"type\":\"DataRange1d\"},{\"attributes\":{\"source\":{\"id\":\"d4d39454-bbcf-4d68-a301-738d8156380a\",\"type\":\"ColumnDataSource\"}},\"id\":\"08028782-8602-494d-b7c4-ab9771f85eda\",\"type\":\"CDSView\"},{\"attributes\":{\"callback\":null,\"column_names\":[\"x\",\"y\"],\"data\":{\"x\":{\"__ndarray__\":\"AAAAAAAAAACRGkt8Vz/AP5EaS3xXP9A/2qdwOgNf2D+RGkt8Vz/gPzXhXVstT+Q/2qdwOgNf6D9+boMZ2W7sP5EaS3xXP/A/433Ua0JH8j814V1bLU/0P4dE50oYV/Y/2qdwOgNf+D8sC/op7mb6P35ugxnZbvw/0NEMCcR2/j+RGkt8Vz8AQDrMD/RMQwFA433Ua0JHAkCML5njN0sDQDXhXVstTwRA3pIi0yJTBUCHROdKGFcGQDD2q8INWwdA2qdwOgNfCECDWTWy+GIJQCwL+inuZgpA1by+oeNqC0B+boMZ2W4MQCcgSJHOcg1A0NEMCcR2DkB5g9GAuXoPQJEaS3xXPxBAZnMtOFLBEEA6zA/0TEMRQA8l8q9HxRFA433Ua0JHEkC41rYnPckSQIwvmeM3SxNAYYh7nzLNE0A14V1bLU8UQAo6QBco0RRA3pIi0yJTFUCz6wSPHdUVQIdE50oYVxZAXJ3JBhPZFkAw9qvCDVsXQAVPjn4I3RdA2qdwOgNfGECuAFP2/eAYQINZNbL4YhlAV7IXbvPkGUAsC/op7mYaQABk3OXo6BpA1by+oeNqG0CpFaFd3uwbQH5ugxnZbhxAUsdl1dPwHEAnIEiRznIdQPt4Kk3J9B1A0NEMCcR2HkCkKu/EvvgeQHmD0YC5eh9ATdyzPLT8H0CRGkt8Vz8gQPtGPNpUgCBAZnMtOFLBIEDQnx6WTwIhQDrMD/RMQyFApPgAUkqEIUAPJfKvR8UhQHlR4w1FBiJA433Ua0JHIkBNqsXJP4giQLjWtic9ySJAIgOohToKI0CML5njN0sjQPZbikE1jCNAYYh7nzLNI0DLtGz9Lw4kQDXhXVstTyRAoA1PuSqQJEAKOkAXKNEkQHRmMXUlEiVA3pIi0yJTJUBJvxMxIJQlQLPrBI8d1SVAHRj27BoWJkCHROdKGFcmQPJw2KgVmCZAXJ3JBhPZJkDGybpkEBonQDD2q8INWydAmyKdIAucJ0AFT45+CN0nQG97f9wFHihA2qdwOgNfKEBE1GGYAKAoQK4AU/b94ChAGC1EVPshKUA=\",\"dtype\":\"float64\",\"shape\":[100]},\"y\":{\"__ndarray__\":\"AAAAAAAAAADoxQO0RU7YP+dMxoI2HOg//C5K/vzW8T/Tua6vYlb3P+nH5xKndfw/AFIvb9iPAEBm8BjVpKACQNka5Ym2ZARADqEya8fUBUD+Gu1b6+oGQBHVYKmoogdAYgGEegr5B0DMzIX9rOwHQM+xeSHDfQdA1L6JxBWuBkB9BRBa/IAFQO0A3yZP+wNAeZ5rTFMjAkDe5Qz1oAAAQDnpZxcIOPs/tv7u/6/+9T/6iGdXvmrwP2wf+wVaJuU/5X710zFA0j+uSTsu9124v2QnUqkVVt6/o9Qx/NsL679m4Ulpoj7zvxQdiFoRqPi/bDUKCPCr/b/J7VIByxoBwPGhyyYpGQPAgTlCLtzIBMCuGkzd8SIGwAOBBKLYIQfAMzIqg3bBB8BzaxsFOv8HwKfUGL4k2gfAJ8c7bs9SB8BSNUOKZ2sGwCX1VkOmJwXAMfGzMMGMA8AjU27aVKEBwC4hWvuS2v6/DwQZ9WTz+b9lsKPjUaH0v8Yvs7GI9O2/YIF44Akr4r8GSRAz01rIvzJJEDPTWsg/aoF44Akr4j/QL7OxiPTtP2Cwo+NRofQ/FAQZ9WTz+T8qIVr7ktr+PyVTbtpUoQFAMPGzMMGMA0Am9VZDpicFQFE1Q4pnawZAKMc7bs9SB0Cn1Bi+JNoHQHNrGwU6/wdANDIqg3bBB0ACgQSi2CEHQLAaTN3xIgZAfTlCLtzIBEDwocsmKRkDQMntUgHLGgFAcTUKCPCr/T8MHYhaEaj4P2HhSWmiPvM/pNQx/NsL6z99J1KpFVbeP/ZIOy73Xbg/+n710zFA0r9fH/sFWiblv+6IZ1e+avC/uv7u/6/+9b846WcXCDj7v9vlDPWgAADAfJ5rTFMjAsDuAN8mT/sDwH0FEFr8gAXA076JxBWuBsDQsXkhw30HwMzMhf2s7AfAYgGEegr5B8AS1WCpqKIHwPwa7Vvr6gbADqEya8fUBcDaGuWJtmQEwGnwGNWkoALA/VEvb9iPAMDpx+cSp3X8v9a5rq9iVve/8C5K/vzW8b/bTMaCNhzov+rFA7RFTti/CoqeTDl52rw=\",\"dtype\":\"float64\",\"shape\":[100]}}},\"id\":\"d4d39454-bbcf-4d68-a301-738d8156380a\",\"type\":\"ColumnDataSource\"},{\"attributes\":{\"data_source\":{\"id\":\"b82de73f-fc32-44a4-a46b-5386fa3accdd\",\"type\":\"ColumnDataSource\"},\"glyph\":{\"id\":\"2d7b030b-8417-4fe4-b83e-cfa4b2292946\",\"type\":\"Square\"},\"hover_glyph\":null,\"muted_glyph\":null,\"nonselection_glyph\":{\"id\":\"1494c0f3-f32f-4e0b-87b4-aeea2cb95bb4\",\"type\":\"Square\"},\"selection_glyph\":null,\"view\":{\"id\":\"b08407a6-708f-46d0-b2e0-ed134569d452\",\"type\":\"CDSView\"}},\"id\":\"04394ec0-39bf-4c38-98ae-6d00824be60c\",\"type\":\"GlyphRenderer\"},{\"attributes\":{\"callback\":null,\"column_names\":[\"x\",\"y\"],\"data\":{\"x\":{\"__ndarray__\":\"AAAAAAAAAACRGkt8Vz/AP5EaS3xXP9A/2qdwOgNf2D+RGkt8Vz/gPzXhXVstT+Q/2qdwOgNf6D9+boMZ2W7sP5EaS3xXP/A/433Ua0JH8j814V1bLU/0P4dE50oYV/Y/2qdwOgNf+D8sC/op7mb6P35ugxnZbvw/0NEMCcR2/j+RGkt8Vz8AQDrMD/RMQwFA433Ua0JHAkCML5njN0sDQDXhXVstTwRA3pIi0yJTBUCHROdKGFcGQDD2q8INWwdA2qdwOgNfCECDWTWy+GIJQCwL+inuZgpA1by+oeNqC0B+boMZ2W4MQCcgSJHOcg1A0NEMCcR2DkB5g9GAuXoPQJEaS3xXPxBAZnMtOFLBEEA6zA/0TEMRQA8l8q9HxRFA433Ua0JHEkC41rYnPckSQIwvmeM3SxNAYYh7nzLNE0A14V1bLU8UQAo6QBco0RRA3pIi0yJTFUCz6wSPHdUVQIdE50oYVxZAXJ3JBhPZFkAw9qvCDVsXQAVPjn4I3RdA2qdwOgNfGECuAFP2/eAYQINZNbL4YhlAV7IXbvPkGUAsC/op7mYaQABk3OXo6BpA1by+oeNqG0CpFaFd3uwbQH5ugxnZbhxAUsdl1dPwHEAnIEiRznIdQPt4Kk3J9B1A0NEMCcR2HkCkKu/EvvgeQHmD0YC5eh9ATdyzPLT8H0CRGkt8Vz8gQPtGPNpUgCBAZnMtOFLBIEDQnx6WTwIhQDrMD/RMQyFApPgAUkqEIUAPJfKvR8UhQHlR4w1FBiJA433Ua0JHIkBNqsXJP4giQLjWtic9ySJAIgOohToKI0CML5njN0sjQPZbikE1jCNAYYh7nzLNI0DLtGz9Lw4kQDXhXVstTyRAoA1PuSqQJEAKOkAXKNEkQHRmMXUlEiVA3pIi0yJTJUBJvxMxIJQlQLPrBI8d1SVAHRj27BoWJkCHROdKGFcmQPJw2KgVmCZAXJ3JBhPZJkDGybpkEBonQDD2q8INWydAmyKdIAucJ0AFT45+CN0nQG97f9wFHihA2qdwOgNfKEBE1GGYAKAoQK4AU/b94ChAGC1EVPshKUA=\",\"dtype\":\"float64\",\"shape\":[100]},\"y\":{\"__ndarray__\":\"AAAAAAAAAADwgwJ4LjTAP5qI2QHPEtA/+5MNU1HJ1z8ZTT7q2B3fP0aFmgwa+eI/ABg/lCAV5j+IQCEcMdboP3fOhmLzMOs/EyzujrQb7T/9Izwlj47uPxccgYyLg+8/g6xao7j27z9mZrL8O+bvP7+X94FZUu8/xVNiW3I97j9RB8Ai+6vsP5FWKYlppOo/oSg6uxkv6D/Sh2bxK1blPyZGRbpaJeI/8qg+VZVT3T/4C4p0qOPVP+UppLIiM8w/3FNHxZdVuD/J23zJpD6gv+3ENsZjOcS/wo12/ecH0r/dgWKM2KjZv2MTsJELcOC/83ixWvXH47+358MBZM7mv5eCD4nhdum/rExY6Hq267+TIxAn7YPtvwSssILL1+6/70I4BJ6s77/vOc8G+P7vvzTGy1KGze+/3176khQZ77/C8a4NiuTtvzGcHq/dNOy/l0FFlgER6r+EGZN4xoHnvx8WPFK3keS/Cli7+O1M4b+HQNqEwoHbv9kfIiFb+NO/gKyggGI5yL8EhrXMjDywvyGGtcyMPLA/jqyggGI5yD/gHyIhW/jTP4BA2oTCgds/DVi7+O1M4T8cFjxSt5HkP4cZk3jGgec/lUFFlgER6j8ynB6v3TTsP8Hxrg2K5O0/4F76khQZ7z80xstShs3vP+85zwb4/u8/8EI4BJ6s7z8DrLCCy9fuP5UjECftg+0/p0xY6Hq26z+Vgg+J4XbpP7fnwwFkzuY/9nixWvXH4z9dE7CRC3DgP9eBYozYqNk/w412/ecH0j/+xDbGYznEP0/bfMmkPqA/+FNHxZdVuL/UKaSyIjPMv+gLinSo49W/+Kg+VZVT3b8lRkW6WiXiv8+HZvErVuW/pig6uxkv6L+TVimJaaTqv1EHwCL7q+y/xFNiW3I97r/Al/eBWVLvv2Zmsvw75u+/g6xao7j2778YHIGMi4Pvv/sjPCWPju6/EyzujrQb7b94zoZi8zDrv4xAIRwx1ui//Bc/lCAV5r9GhZoMGvnivx5NPurYHd+/65MNU1HJ17+SiNkBzxLQv/GDAnguNMC/B1wUMyamwbw=\",\"dtype\":\"float64\",\"shape\":[100]}}},\"id\":\"6a1d9a72-cd17-4bb3-882d-9daf85f20b7c\",\"type\":\"ColumnDataSource\"},{\"attributes\":{\"formatter\":{\"id\":\"ae9ce20e-7825-4daa-9106-df5936a7104b\",\"type\":\"BasicTickFormatter\"},\"plot\":{\"id\":\"e203e956-cfcb-4189-824b-01b6f96f1634\",\"subtype\":\"Figure\",\"type\":\"Plot\"},\"ticker\":{\"id\":\"e464c161-bad5-4978-9fd6-06f10fd4e9eb\",\"type\":\"BasicTicker\"}},\"id\":\"10cd6266-1eeb-47b5-a0cc-f058f6d08201\",\"type\":\"LinearAxis\"},{\"attributes\":{\"label\":{\"value\":\"3*sin(x)\"},\"renderers\":[{\"id\":\"04394ec0-39bf-4c38-98ae-6d00824be60c\",\"type\":\"GlyphRenderer\"},{\"id\":\"3924ce15-e193-40e2-8a3e-c48c99693ba8\",\"type\":\"GlyphRenderer\"}]},\"id\":\"fb25dfb9-983e-43f4-9f08-7c45cd19e4f4\",\"type\":\"LegendItem\"},{\"attributes\":{\"plot\":{\"id\":\"e203e956-cfcb-4189-824b-01b6f96f1634\",\"subtype\":\"Figure\",\"type\":\"Plot\"},\"ticker\":{\"id\":\"6e6c6b49-2ee7-4c04-be1c-cf96a434fd8c\",\"type\":\"BasicTicker\"}},\"id\":\"a3158507-04e9-4531-b7c2-b379aafd27a1\",\"type\":\"Grid\"},{\"attributes\":{\"line_alpha\":0.1,\"line_color\":\"#1f77b4\",\"x\":{\"field\":\"x\"},\"y\":{\"field\":\"y\"}},\"id\":\"843011b2-b63f-4467-a359-f46e854a204c\",\"type\":\"Line\"},{\"attributes\":{\"data_source\":{\"id\":\"6a1d9a72-cd17-4bb3-882d-9daf85f20b7c\",\"type\":\"ColumnDataSource\"},\"glyph\":{\"id\":\"b31b2f48-1579-4b50-a1e7-7468bb21dd00\",\"type\":\"Line\"},\"hover_glyph\":null,\"muted_glyph\":null,\"nonselection_glyph\":{\"id\":\"977803d0-c9c3-4e1d-b392-7d2d2b9623c8\",\"type\":\"Line\"},\"selection_glyph\":null,\"view\":{\"id\":\"3b9ca3b6-1a1f-486b-a649-d975247ede18\",\"type\":\"CDSView\"}},\"id\":\"ee8727a0-0f43-4945-a92b-fe61aed4d352\",\"type\":\"GlyphRenderer\"},{\"attributes\":{\"fill_alpha\":{\"value\":0.1},\"fill_color\":{\"value\":\"#1f77b4\"},\"line_alpha\":{\"value\":0.1},\"line_color\":{\"value\":\"#1f77b4\"},\"x\":{\"field\":\"x\"},\"y\":{\"field\":\"y\"}},\"id\":\"6ce32161-5030-410a-8d97-553baab182e7\",\"type\":\"Circle\"},{\"attributes\":{\"formatter\":{\"id\":\"7d6a7770-1171-431a-a514-0707e1af891f\",\"type\":\"BasicTickFormatter\"},\"plot\":{\"id\":\"e203e956-cfcb-4189-824b-01b6f96f1634\",\"subtype\":\"Figure\",\"type\":\"Plot\"},\"ticker\":{\"id\":\"6e6c6b49-2ee7-4c04-be1c-cf96a434fd8c\",\"type\":\"BasicTicker\"}},\"id\":\"b8016b07-07a9-4d60-b428-d6cab768a828\",\"type\":\"LinearAxis\"},{\"attributes\":{\"fill_color\":{\"value\":\"#1f77b4\"},\"line_color\":{\"value\":\"#1f77b4\"},\"x\":{\"field\":\"x\"},\"y\":{\"field\":\"y\"}},\"id\":\"2807bddb-0aa1-4fd6-b193-4a4e7ac037b2\",\"type\":\"Circle\"},{\"attributes\":{\"fill_color\":{\"value\":null},\"line_color\":{\"value\":\"green\"},\"x\":{\"field\":\"x\"},\"y\":{\"field\":\"y\"}},\"id\":\"2d7b030b-8417-4fe4-b83e-cfa4b2292946\",\"type\":\"Square\"},{\"attributes\":{\"dimension\":1,\"plot\":{\"id\":\"e203e956-cfcb-4189-824b-01b6f96f1634\",\"subtype\":\"Figure\",\"type\":\"Plot\"},\"ticker\":{\"id\":\"e464c161-bad5-4978-9fd6-06f10fd4e9eb\",\"type\":\"BasicTicker\"}},\"id\":\"7eba63a9-5af1-4105-812d-3968517b1166\",\"type\":\"Grid\"},{\"attributes\":{\"line_color\":\"orange\",\"line_dash\":[4,4],\"line_width\":2,\"x\":{\"field\":\"x\"},\"y\":{\"field\":\"y\"}},\"id\":\"7c099cd8-7770-45da-9a42-a48f9357bd17\",\"type\":\"Line\"},{\"attributes\":{},\"id\":\"dad559fb-65b0-4e57-80ba-83c8c2bda8d1\",\"type\":\"SaveTool\"},{\"attributes\":{\"background_fill_alpha\":{\"value\":0.5},\"background_fill_color\":{\"value\":\"navy\"},\"items\":[{\"id\":\"dd8c65a4-0df7-49d3-abc9-0a5c8d15ed5c\",\"type\":\"LegendItem\"},{\"id\":\"4ae7e161-9340-4d75-9b21-6fbf98cba3b9\",\"type\":\"LegendItem\"},{\"id\":\"fb25dfb9-983e-43f4-9f08-7c45cd19e4f4\",\"type\":\"LegendItem\"}],\"location\":\"bottom_right\",\"plot\":{\"id\":\"e203e956-cfcb-4189-824b-01b6f96f1634\",\"subtype\":\"Figure\",\"type\":\"Plot\"}},\"id\":\"7405f2ef-bc3e-4c16-a290-d90b71b5136d\",\"type\":\"Legend\"},{\"attributes\":{},\"id\":\"ae9ce20e-7825-4daa-9106-df5936a7104b\",\"type\":\"BasicTickFormatter\"},{\"attributes\":{},\"id\":\"85c1fcef-1848-47e2-9d0a-fe5ca7685bfe\",\"type\":\"LinearScale\"},{\"attributes\":{\"callback\":null},\"id\":\"4bae9c1c-f277-49c8-b176-59afdba54e86\",\"type\":\"DataRange1d\"},{\"attributes\":{\"source\":{\"id\":\"ba38b0a7-4484-4705-8a48-b562cdc6357f\",\"type\":\"ColumnDataSource\"}},\"id\":\"0d06e02a-63d3-4d3b-88f0-13cc503ea22e\",\"type\":\"CDSView\"},{\"attributes\":{\"overlay\":{\"id\":\"d5792d9e-3d95-45cf-bcda-7ef6726e364e\",\"type\":\"BoxAnnotation\"}},\"id\":\"276c617c-9e04-4a1f-bd3d-41d24fd0004d\",\"type\":\"BoxZoomTool\"},{\"attributes\":{\"source\":{\"id\":\"6a1d9a72-cd17-4bb3-882d-9daf85f20b7c\",\"type\":\"ColumnDataSource\"}},\"id\":\"3b9ca3b6-1a1f-486b-a649-d975247ede18\",\"type\":\"CDSView\"},{\"attributes\":{\"plot\":null,\"text\":\"\"},\"id\":\"1b7295ed-b325-483c-837f-30017c210acc\",\"type\":\"Title\"},{\"attributes\":{},\"id\":\"6e6c6b49-2ee7-4c04-be1c-cf96a434fd8c\",\"type\":\"BasicTicker\"},{\"attributes\":{\"source\":{\"id\":\"6b860c99-146d-4d2f-9c29-424037eeb4da\",\"type\":\"ColumnDataSource\"}},\"id\":\"fbc77979-2c55-4b83-b2dd-ce07d8478010\",\"type\":\"CDSView\"},{\"attributes\":{\"below\":[{\"id\":\"b8016b07-07a9-4d60-b428-d6cab768a828\",\"type\":\"LinearAxis\"}],\"left\":[{\"id\":\"10cd6266-1eeb-47b5-a0cc-f058f6d08201\",\"type\":\"LinearAxis\"}],\"renderers\":[{\"id\":\"b8016b07-07a9-4d60-b428-d6cab768a828\",\"type\":\"LinearAxis\"},{\"id\":\"a3158507-04e9-4531-b7c2-b379aafd27a1\",\"type\":\"Grid\"},{\"id\":\"10cd6266-1eeb-47b5-a0cc-f058f6d08201\",\"type\":\"LinearAxis\"},{\"id\":\"7eba63a9-5af1-4105-812d-3968517b1166\",\"type\":\"Grid\"},{\"id\":\"d5792d9e-3d95-45cf-bcda-7ef6726e364e\",\"type\":\"BoxAnnotation\"},{\"id\":\"7405f2ef-bc3e-4c16-a290-d90b71b5136d\",\"type\":\"Legend\"},{\"id\":\"49da3f57-03c8-44b8-8e5d-dc1781e71c4f\",\"type\":\"GlyphRenderer\"},{\"id\":\"ee8727a0-0f43-4945-a92b-fe61aed4d352\",\"type\":\"GlyphRenderer\"},{\"id\":\"815988cd-90f4-4ee9-a587-791cfb2e0cde\",\"type\":\"GlyphRenderer\"},{\"id\":\"04394ec0-39bf-4c38-98ae-6d00824be60c\",\"type\":\"GlyphRenderer\"},{\"id\":\"3924ce15-e193-40e2-8a3e-c48c99693ba8\",\"type\":\"GlyphRenderer\"}],\"title\":{\"id\":\"1b7295ed-b325-483c-837f-30017c210acc\",\"type\":\"Title\"},\"toolbar\":{\"id\":\"461ecf7f-ad5f-460b-a425-ef31ea36d39f\",\"type\":\"Toolbar\"},\"x_range\":{\"id\":\"4bae9c1c-f277-49c8-b176-59afdba54e86\",\"type\":\"DataRange1d\"},\"x_scale\":{\"id\":\"f3b08d23-a354-4a75-919b-14e61a87c152\",\"type\":\"LinearScale\"},\"y_range\":{\"id\":\"c5b93be8-c3fe-4c05-a86c-c96d4a0931ba\",\"type\":\"DataRange1d\"},\"y_scale\":{\"id\":\"85c1fcef-1848-47e2-9d0a-fe5ca7685bfe\",\"type\":\"LinearScale\"}},\"id\":\"e203e956-cfcb-4189-824b-01b6f96f1634\",\"subtype\":\"Figure\",\"type\":\"Plot\"},{\"attributes\":{},\"id\":\"67d6879e-0f9b-4e14-89c7-fd0d9d073b48\",\"type\":\"ResetTool\"},{\"attributes\":{},\"id\":\"599190fd-6dea-44bd-8bd6-45911b85da81\",\"type\":\"WheelZoomTool\"},{\"attributes\":{},\"id\":\"7d6a7770-1171-431a-a514-0707e1af891f\",\"type\":\"BasicTickFormatter\"},{\"attributes\":{},\"id\":\"e464c161-bad5-4978-9fd6-06f10fd4e9eb\",\"type\":\"BasicTicker\"},{\"attributes\":{\"source\":{\"id\":\"b82de73f-fc32-44a4-a46b-5386fa3accdd\",\"type\":\"ColumnDataSource\"}},\"id\":\"b08407a6-708f-46d0-b2e0-ed134569d452\",\"type\":\"CDSView\"},{\"attributes\":{\"label\":{\"value\":\"sin(x)\"},\"renderers\":[{\"id\":\"49da3f57-03c8-44b8-8e5d-dc1781e71c4f\",\"type\":\"GlyphRenderer\"},{\"id\":\"ee8727a0-0f43-4945-a92b-fe61aed4d352\",\"type\":\"GlyphRenderer\"}]},\"id\":\"dd8c65a4-0df7-49d3-abc9-0a5c8d15ed5c\",\"type\":\"LegendItem\"},{\"attributes\":{},\"id\":\"d238872c-c02d-43e4-b986-ec269b775161\",\"type\":\"HelpTool\"},{\"attributes\":{\"callback\":null,\"column_names\":[\"x\",\"y\"],\"data\":{\"x\":{\"__ndarray__\":\"AAAAAAAAAACRGkt8Vz/AP5EaS3xXP9A/2qdwOgNf2D+RGkt8Vz/gPzXhXVstT+Q/2qdwOgNf6D9+boMZ2W7sP5EaS3xXP/A/433Ua0JH8j814V1bLU/0P4dE50oYV/Y/2qdwOgNf+D8sC/op7mb6P35ugxnZbvw/0NEMCcR2/j+RGkt8Vz8AQDrMD/RMQwFA433Ua0JHAkCML5njN0sDQDXhXVstTwRA3pIi0yJTBUCHROdKGFcGQDD2q8INWwdA2qdwOgNfCECDWTWy+GIJQCwL+inuZgpA1by+oeNqC0B+boMZ2W4MQCcgSJHOcg1A0NEMCcR2DkB5g9GAuXoPQJEaS3xXPxBAZnMtOFLBEEA6zA/0TEMRQA8l8q9HxRFA433Ua0JHEkC41rYnPckSQIwvmeM3SxNAYYh7nzLNE0A14V1bLU8UQAo6QBco0RRA3pIi0yJTFUCz6wSPHdUVQIdE50oYVxZAXJ3JBhPZFkAw9qvCDVsXQAVPjn4I3RdA2qdwOgNfGECuAFP2/eAYQINZNbL4YhlAV7IXbvPkGUAsC/op7mYaQABk3OXo6BpA1by+oeNqG0CpFaFd3uwbQH5ugxnZbhxAUsdl1dPwHEAnIEiRznIdQPt4Kk3J9B1A0NEMCcR2HkCkKu/EvvgeQHmD0YC5eh9ATdyzPLT8H0CRGkt8Vz8gQPtGPNpUgCBAZnMtOFLBIEDQnx6WTwIhQDrMD/RMQyFApPgAUkqEIUAPJfKvR8UhQHlR4w1FBiJA433Ua0JHIkBNqsXJP4giQLjWtic9ySJAIgOohToKI0CML5njN0sjQPZbikE1jCNAYYh7nzLNI0DLtGz9Lw4kQDXhXVstTyRAoA1PuSqQJEAKOkAXKNEkQHRmMXUlEiVA3pIi0yJTJUBJvxMxIJQlQLPrBI8d1SVAHRj27BoWJkCHROdKGFcmQPJw2KgVmCZAXJ3JBhPZJkDGybpkEBonQDD2q8INWydAmyKdIAucJ0AFT45+CN0nQG97f9wFHihA2qdwOgNfKEBE1GGYAKAoQK4AU/b94ChAGC1EVPshKUA=\",\"dtype\":\"float64\",\"shape\":[100]},\"y\":{\"__ndarray__\":\"AAAAAAAAAADwgwJ4LjTAP5qI2QHPEtA/+5MNU1HJ1z8ZTT7q2B3fP0aFmgwa+eI/ABg/lCAV5j+IQCEcMdboP3fOhmLzMOs/EyzujrQb7T/9Izwlj47uPxccgYyLg+8/g6xao7j27z9mZrL8O+bvP7+X94FZUu8/xVNiW3I97j9RB8Ai+6vsP5FWKYlppOo/oSg6uxkv6D/Sh2bxK1blPyZGRbpaJeI/8qg+VZVT3T/4C4p0qOPVP+UppLIiM8w/3FNHxZdVuD/J23zJpD6gv+3ENsZjOcS/wo12/ecH0r/dgWKM2KjZv2MTsJELcOC/83ixWvXH47+358MBZM7mv5eCD4nhdum/rExY6Hq267+TIxAn7YPtvwSssILL1+6/70I4BJ6s77/vOc8G+P7vvzTGy1KGze+/3176khQZ77/C8a4NiuTtvzGcHq/dNOy/l0FFlgER6r+EGZN4xoHnvx8WPFK3keS/Cli7+O1M4b+HQNqEwoHbv9kfIiFb+NO/gKyggGI5yL8EhrXMjDywvyGGtcyMPLA/jqyggGI5yD/gHyIhW/jTP4BA2oTCgds/DVi7+O1M4T8cFjxSt5HkP4cZk3jGgec/lUFFlgER6j8ynB6v3TTsP8Hxrg2K5O0/4F76khQZ7z80xstShs3vP+85zwb4/u8/8EI4BJ6s7z8DrLCCy9fuP5UjECftg+0/p0xY6Hq26z+Vgg+J4XbpP7fnwwFkzuY/9nixWvXH4z9dE7CRC3DgP9eBYozYqNk/w412/ecH0j/+xDbGYznEP0/bfMmkPqA/+FNHxZdVuL/UKaSyIjPMv+gLinSo49W/+Kg+VZVT3b8lRkW6WiXiv8+HZvErVuW/pig6uxkv6L+TVimJaaTqv1EHwCL7q+y/xFNiW3I97r/Al/eBWVLvv2Zmsvw75u+/g6xao7j2778YHIGMi4Pvv/sjPCWPju6/EyzujrQb7b94zoZi8zDrv4xAIRwx1ui//Bc/lCAV5r9GhZoMGvnivx5NPurYHd+/65MNU1HJ17+SiNkBzxLQv/GDAnguNMC/B1wUMyamwbw=\",\"dtype\":\"float64\",\"shape\":[100]}}},\"id\":\"6b860c99-146d-4d2f-9c29-424037eeb4da\",\"type\":\"ColumnDataSource\"},{\"attributes\":{\"bottom_units\":\"screen\",\"fill_alpha\":{\"value\":0.5},\"fill_color\":{\"value\":\"lightgrey\"},\"left_units\":\"screen\",\"level\":\"overlay\",\"line_alpha\":{\"value\":1.0},\"line_color\":{\"value\":\"black\"},\"line_dash\":[4,4],\"line_width\":{\"value\":2},\"plot\":null,\"render_mode\":\"css\",\"right_units\":\"screen\",\"top_units\":\"screen\"},\"id\":\"d5792d9e-3d95-45cf-bcda-7ef6726e364e\",\"type\":\"BoxAnnotation\"},{\"attributes\":{\"callback\":null,\"column_names\":[\"x\",\"y\"],\"data\":{\"x\":{\"__ndarray__\":\"AAAAAAAAAACRGkt8Vz/AP5EaS3xXP9A/2qdwOgNf2D+RGkt8Vz/gPzXhXVstT+Q/2qdwOgNf6D9+boMZ2W7sP5EaS3xXP/A/433Ua0JH8j814V1bLU/0P4dE50oYV/Y/2qdwOgNf+D8sC/op7mb6P35ugxnZbvw/0NEMCcR2/j+RGkt8Vz8AQDrMD/RMQwFA433Ua0JHAkCML5njN0sDQDXhXVstTwRA3pIi0yJTBUCHROdKGFcGQDD2q8INWwdA2qdwOgNfCECDWTWy+GIJQCwL+inuZgpA1by+oeNqC0B+boMZ2W4MQCcgSJHOcg1A0NEMCcR2DkB5g9GAuXoPQJEaS3xXPxBAZnMtOFLBEEA6zA/0TEMRQA8l8q9HxRFA433Ua0JHEkC41rYnPckSQIwvmeM3SxNAYYh7nzLNE0A14V1bLU8UQAo6QBco0RRA3pIi0yJTFUCz6wSPHdUVQIdE50oYVxZAXJ3JBhPZFkAw9qvCDVsXQAVPjn4I3RdA2qdwOgNfGECuAFP2/eAYQINZNbL4YhlAV7IXbvPkGUAsC/op7mYaQABk3OXo6BpA1by+oeNqG0CpFaFd3uwbQH5ugxnZbhxAUsdl1dPwHEAnIEiRznIdQPt4Kk3J9B1A0NEMCcR2HkCkKu/EvvgeQHmD0YC5eh9ATdyzPLT8H0CRGkt8Vz8gQPtGPNpUgCBAZnMtOFLBIEDQnx6WTwIhQDrMD/RMQyFApPgAUkqEIUAPJfKvR8UhQHlR4w1FBiJA433Ua0JHIkBNqsXJP4giQLjWtic9ySJAIgOohToKI0CML5njN0sjQPZbikE1jCNAYYh7nzLNI0DLtGz9Lw4kQDXhXVstTyRAoA1PuSqQJEAKOkAXKNEkQHRmMXUlEiVA3pIi0yJTJUBJvxMxIJQlQLPrBI8d1SVAHRj27BoWJkCHROdKGFcmQPJw2KgVmCZAXJ3JBhPZJkDGybpkEBonQDD2q8INWydAmyKdIAucJ0AFT45+CN0nQG97f9wFHihA2qdwOgNfKEBE1GGYAKAoQK4AU/b94ChAGC1EVPshKUA=\",\"dtype\":\"float64\",\"shape\":[100]},\"y\":{\"__ndarray__\":\"AAAAAAAAAADwgwJ4LjTQP5qI2QHPEuA/+5MNU1HJ5z8ZTT7q2B3vP0aFmgwa+fI/ABg/lCAV9j+IQCEcMdb4P3fOhmLzMPs/EyzujrQb/T/9Izwlj47+PxccgYyLg/8/g6xao7j2/z9mZrL8O+b/P7+X94FZUv8/xVNiW3I9/j9RB8Ai+6v8P5FWKYlppPo/oSg6uxkv+D/Sh2bxK1b1PyZGRbpaJfI/8qg+VZVT7T/4C4p0qOPlP+UppLIiM9w/3FNHxZdVyD/J23zJpD6wv+3ENsZjOdS/wo12/ecH4r/dgWKM2Kjpv2MTsJELcPC/83ixWvXH87+358MBZM72v5eCD4nhdvm/rExY6Hq2+7+TIxAn7YP9vwSssILL1/6/70I4BJ6s/7/vOc8G+P7/vzTGy1KGzf+/3176khQZ/7/C8a4NiuT9vzGcHq/dNPy/l0FFlgER+r+EGZN4xoH3vx8WPFK3kfS/Cli7+O1M8b+HQNqEwoHrv9kfIiFb+OO/gKyggGI52L8EhrXMjDzAvyGGtcyMPMA/jqyggGI52D/gHyIhW/jjP4BA2oTCges/DVi7+O1M8T8cFjxSt5H0P4cZk3jGgfc/lUFFlgER+j8ynB6v3TT8P8Hxrg2K5P0/4F76khQZ/z80xstShs3/P+85zwb4/v8/8EI4BJ6s/z8DrLCCy9f+P5UjECftg/0/p0xY6Hq2+z+Vgg+J4Xb5P7fnwwFkzvY/9nixWvXH8z9dE7CRC3DwP9eBYozYqOk/w412/ecH4j/+xDbGYznUP0/bfMmkPrA/+FNHxZdVyL/UKaSyIjPcv+gLinSo4+W/+Kg+VZVT7b8lRkW6WiXyv8+HZvErVvW/pig6uxkv+L+TVimJaaT6v1EHwCL7q/y/xFNiW3I9/r/Al/eBWVL/v2Zmsvw75v+/g6xao7j2/78YHIGMi4P/v/sjPCWPjv6/EyzujrQb/b94zoZi8zD7v4xAIRwx1vi//Bc/lCAV9r9GhZoMGvnyvx5NPurYHe+/65MNU1HJ57+SiNkBzxLgv/GDAnguNNC/B1wUMyam0bw=\",\"dtype\":\"float64\",\"shape\":[100]}}},\"id\":\"ba38b0a7-4484-4705-8a48-b562cdc6357f\",\"type\":\"ColumnDataSource\"},{\"attributes\":{\"callback\":null,\"column_names\":[\"x\",\"y\"],\"data\":{\"x\":{\"__ndarray__\":\"AAAAAAAAAACRGkt8Vz/AP5EaS3xXP9A/2qdwOgNf2D+RGkt8Vz/gPzXhXVstT+Q/2qdwOgNf6D9+boMZ2W7sP5EaS3xXP/A/433Ua0JH8j814V1bLU/0P4dE50oYV/Y/2qdwOgNf+D8sC/op7mb6P35ugxnZbvw/0NEMCcR2/j+RGkt8Vz8AQDrMD/RMQwFA433Ua0JHAkCML5njN0sDQDXhXVstTwRA3pIi0yJTBUCHROdKGFcGQDD2q8INWwdA2qdwOgNfCECDWTWy+GIJQCwL+inuZgpA1by+oeNqC0B+boMZ2W4MQCcgSJHOcg1A0NEMCcR2DkB5g9GAuXoPQJEaS3xXPxBAZnMtOFLBEEA6zA/0TEMRQA8l8q9HxRFA433Ua0JHEkC41rYnPckSQIwvmeM3SxNAYYh7nzLNE0A14V1bLU8UQAo6QBco0RRA3pIi0yJTFUCz6wSPHdUVQIdE50oYVxZAXJ3JBhPZFkAw9qvCDVsXQAVPjn4I3RdA2qdwOgNfGECuAFP2/eAYQINZNbL4YhlAV7IXbvPkGUAsC/op7mYaQABk3OXo6BpA1by+oeNqG0CpFaFd3uwbQH5ugxnZbhxAUsdl1dPwHEAnIEiRznIdQPt4Kk3J9B1A0NEMCcR2HkCkKu/EvvgeQHmD0YC5eh9ATdyzPLT8H0CRGkt8Vz8gQPtGPNpUgCBAZnMtOFLBIEDQnx6WTwIhQDrMD/RMQyFApPgAUkqEIUAPJfKvR8UhQHlR4w1FBiJA433Ua0JHIkBNqsXJP4giQLjWtic9ySJAIgOohToKI0CML5njN0sjQPZbikE1jCNAYYh7nzLNI0DLtGz9Lw4kQDXhXVstTyRAoA1PuSqQJEAKOkAXKNEkQHRmMXUlEiVA3pIi0yJTJUBJvxMxIJQlQLPrBI8d1SVAHRj27BoWJkCHROdKGFcmQPJw2KgVmCZAXJ3JBhPZJkDGybpkEBonQDD2q8INWydAmyKdIAucJ0AFT45+CN0nQG97f9wFHihA2qdwOgNfKEBE1GGYAKAoQK4AU/b94ChAGC1EVPshKUA=\",\"dtype\":\"float64\",\"shape\":[100]},\"y\":{\"__ndarray__\":\"AAAAAAAAAADoxQO0RU7YP+dMxoI2HOg//C5K/vzW8T/Tua6vYlb3P+nH5xKndfw/AFIvb9iPAEBm8BjVpKACQNka5Ym2ZARADqEya8fUBUD+Gu1b6+oGQBHVYKmoogdAYgGEegr5B0DMzIX9rOwHQM+xeSHDfQdA1L6JxBWuBkB9BRBa/IAFQO0A3yZP+wNAeZ5rTFMjAkDe5Qz1oAAAQDnpZxcIOPs/tv7u/6/+9T/6iGdXvmrwP2wf+wVaJuU/5X710zFA0j+uSTsu9124v2QnUqkVVt6/o9Qx/NsL679m4Ulpoj7zvxQdiFoRqPi/bDUKCPCr/b/J7VIByxoBwPGhyyYpGQPAgTlCLtzIBMCuGkzd8SIGwAOBBKLYIQfAMzIqg3bBB8BzaxsFOv8HwKfUGL4k2gfAJ8c7bs9SB8BSNUOKZ2sGwCX1VkOmJwXAMfGzMMGMA8AjU27aVKEBwC4hWvuS2v6/DwQZ9WTz+b9lsKPjUaH0v8Yvs7GI9O2/YIF44Akr4r8GSRAz01rIvzJJEDPTWsg/aoF44Akr4j/QL7OxiPTtP2Cwo+NRofQ/FAQZ9WTz+T8qIVr7ktr+PyVTbtpUoQFAMPGzMMGMA0Am9VZDpicFQFE1Q4pnawZAKMc7bs9SB0Cn1Bi+JNoHQHNrGwU6/wdANDIqg3bBB0ACgQSi2CEHQLAaTN3xIgZAfTlCLtzIBEDwocsmKRkDQMntUgHLGgFAcTUKCPCr/T8MHYhaEaj4P2HhSWmiPvM/pNQx/NsL6z99J1KpFVbeP/ZIOy73Xbg/+n710zFA0r9fH/sFWiblv+6IZ1e+avC/uv7u/6/+9b846WcXCDj7v9vlDPWgAADAfJ5rTFMjAsDuAN8mT/sDwH0FEFr8gAXA076JxBWuBsDQsXkhw30HwMzMhf2s7AfAYgGEegr5B8AS1WCpqKIHwPwa7Vvr6gbADqEya8fUBcDaGuWJtmQEwGnwGNWkoALA/VEvb9iPAMDpx+cSp3X8v9a5rq9iVve/8C5K/vzW8b/bTMaCNhzov+rFA7RFTti/CoqeTDl52rw=\",\"dtype\":\"float64\",\"shape\":[100]}}},\"id\":\"b82de73f-fc32-44a4-a46b-5386fa3accdd\",\"type\":\"ColumnDataSource\"},{\"attributes\":{\"data_source\":{\"id\":\"ba38b0a7-4484-4705-8a48-b562cdc6357f\",\"type\":\"ColumnDataSource\"},\"glyph\":{\"id\":\"7c099cd8-7770-45da-9a42-a48f9357bd17\",\"type\":\"Line\"},\"hover_glyph\":null,\"muted_glyph\":null,\"nonselection_glyph\":{\"id\":\"1bc0d027-c546-4bcb-9751-88ae4521a3f9\",\"type\":\"Line\"},\"selection_glyph\":null,\"view\":{\"id\":\"0d06e02a-63d3-4d3b-88f0-13cc503ea22e\",\"type\":\"CDSView\"}},\"id\":\"815988cd-90f4-4ee9-a587-791cfb2e0cde\",\"type\":\"GlyphRenderer\"}],\"root_ids\":[\"e203e956-cfcb-4189-824b-01b6f96f1634\"]},\"title\":\"Bokeh Application\",\"version\":\"0.12.13\"}};\n",
       "  var render_items = [{\"docid\":\"66a49c17-0cec-4f31-af1e-68fc5bd4bf0d\",\"elementid\":\"fbfaa9a6-e564-4060-a200-df358ec36966\",\"modelid\":\"e203e956-cfcb-4189-824b-01b6f96f1634\"}];\n",
       "  root.Bokeh.embed.embed_items_notebook(docs_json, render_items);\n",
       "\n",
       "  }\n",
       "  if (root.Bokeh !== undefined) {\n",
       "    embed_document(root);\n",
       "  } else {\n",
       "    var attempts = 0;\n",
       "    var timer = setInterval(function(root) {\n",
       "      if (root.Bokeh !== undefined) {\n",
       "        embed_document(root);\n",
       "        clearInterval(timer);\n",
       "      }\n",
       "      attempts++;\n",
       "      if (attempts > 100) {\n",
       "        console.log(\"Bokeh: ERROR: Unable to run BokehJS code because BokehJS library is missing\")\n",
       "        clearInterval(timer);\n",
       "      }\n",
       "    }, 10, root)\n",
       "  }\n",
       "})(window);"
      ],
      "application/vnd.bokehjs_exec.v0+json": ""
     },
     "metadata": {
      "application/vnd.bokehjs_exec.v0+json": {
       "id": "e203e956-cfcb-4189-824b-01b6f96f1634"
      }
     },
     "output_type": "display_data"
    }
   ],
   "source": [
    "x = np.linspace(0, 4*np.pi, 100)\n",
    "y = np.sin(x)\n",
    "p = figure()\n",
    "\n",
    "p.circle(x, y, legend=\"sin(x)\")\n",
    "p.line(x, y, legend=\"sin(x)\")\n",
    "\n",
    "p.line(x, 2*y, legend=\"2*sin(x)\",\n",
    "       line_dash=[4, 4], line_color=\"orange\", line_width=2)\n",
    "\n",
    "p.square(x, 3*y, legend=\"3*sin(x)\", fill_color=None, line_color=\"green\")\n",
    "p.line(x, 3*y, legend=\"3*sin(x)\", line_color=\"green\")\n",
    "\n",
    "#  3*sin(x) curve should be under this legend at initial viewing, so\n",
    "# we can see that the legend is transparent\n",
    "p.legend.location = \"bottom_right\"\n",
    "p.legend.background_fill_color = \"navy\"\n",
    "p.legend.background_fill_alpha = 0.5\n",
    "\n",
    "show(p)"
   ]
  },
  {
   "cell_type": "markdown",
   "metadata": {},
   "source": [
    "### Dimensions"
   ]
  },
  {
   "cell_type": "code",
   "execution_count": 64,
   "metadata": {},
   "outputs": [
    {
     "data": {
      "text/html": [
       "\n",
       "<div class=\"bk-root\">\n",
       "    <div class=\"bk-plotdiv\" id=\"f6d4743a-e757-4a21-afad-8c797e635757\"></div>\n",
       "</div>"
      ]
     },
     "metadata": {},
     "output_type": "display_data"
    },
    {
     "data": {
      "application/javascript": [
       "(function(root) {\n",
       "  function embed_document(root) {\n",
       "    \n",
       "  var docs_json = {\"de30a6ec-61a5-483d-9eaa-baf832bc71b3\":{\"roots\":{\"references\":[{\"attributes\":{\"callback\":null},\"id\":\"04ab52d5-d5b0-4a37-aea1-cf95086ef706\",\"type\":\"DataRange1d\"},{\"attributes\":{\"plot\":{\"id\":\"acea6275-b4a0-4b9c-8c7f-e5c0c76d1590\",\"subtype\":\"Figure\",\"type\":\"Plot\"},\"ticker\":{\"id\":\"7b1b71d7-104f-4fcd-83af-a40ae25e26b4\",\"type\":\"BasicTicker\"}},\"id\":\"ebcabc23-7dec-4dd6-a875-860430f43187\",\"type\":\"Grid\"},{\"attributes\":{\"active_drag\":\"auto\",\"active_inspect\":\"auto\",\"active_scroll\":\"auto\",\"active_tap\":\"auto\",\"tools\":[{\"id\":\"9a8a7b95-29c6-46ba-b4df-17fd5ff7d49b\",\"type\":\"PanTool\"},{\"id\":\"fe310a00-acc0-4bd9-8c5e-12672e4d7b19\",\"type\":\"WheelZoomTool\"},{\"id\":\"72027240-c350-4179-aa3d-b40ba262e325\",\"type\":\"BoxZoomTool\"},{\"id\":\"54185227-bb19-474e-8188-4a7f262018c9\",\"type\":\"SaveTool\"},{\"id\":\"09337217-4489-41e8-bcd7-a397668d0626\",\"type\":\"ResetTool\"},{\"id\":\"08873d30-a33f-4eeb-bd59-6f69b5e620f0\",\"type\":\"HelpTool\"}]},\"id\":\"c3748fbf-4073-410e-a2f2-1901c4e64076\",\"type\":\"Toolbar\"},{\"attributes\":{\"glyph_width\":50,\"items\":[{\"id\":\"654ceda4-bd9d-4744-8e19-e3a377964849\",\"type\":\"LegendItem\"},{\"id\":\"24660976-fb27-42b3-bfa9-163b1adef4b8\",\"type\":\"LegendItem\"},{\"id\":\"17d8cba3-199f-404e-849c-6a1e3637c470\",\"type\":\"LegendItem\"}],\"margin\":50,\"padding\":50,\"plot\":{\"id\":\"acea6275-b4a0-4b9c-8c7f-e5c0c76d1590\",\"subtype\":\"Figure\",\"type\":\"Plot\"},\"spacing\":10},\"id\":\"1e9bdc55-3cdd-42fe-ba4e-467ed092c499\",\"type\":\"Legend\"},{\"attributes\":{\"bottom_units\":\"screen\",\"fill_alpha\":{\"value\":0.5},\"fill_color\":{\"value\":\"lightgrey\"},\"left_units\":\"screen\",\"level\":\"overlay\",\"line_alpha\":{\"value\":1.0},\"line_color\":{\"value\":\"black\"},\"line_dash\":[4,4],\"line_width\":{\"value\":2},\"plot\":null,\"render_mode\":\"css\",\"right_units\":\"screen\",\"top_units\":\"screen\"},\"id\":\"5e6d1abf-e67e-48c9-b262-e775870a98f0\",\"type\":\"BoxAnnotation\"},{\"attributes\":{\"data_source\":{\"id\":\"4a4e17bc-8d65-43d8-8cb0-83e45690590c\",\"type\":\"ColumnDataSource\"},\"glyph\":{\"id\":\"d32be0e3-a69f-4ea4-910f-e52a5b91cf0c\",\"type\":\"Circle\"},\"hover_glyph\":null,\"muted_glyph\":null,\"nonselection_glyph\":{\"id\":\"33d3688e-3943-46b0-90fb-56c8506db9bb\",\"type\":\"Circle\"},\"selection_glyph\":null,\"view\":{\"id\":\"122e6e97-e3e3-44d9-9440-c41c0a02a81a\",\"type\":\"CDSView\"}},\"id\":\"4aca71dd-8227-4444-b4e9-ee5b987640c9\",\"type\":\"GlyphRenderer\"},{\"attributes\":{},\"id\":\"7b1b71d7-104f-4fcd-83af-a40ae25e26b4\",\"type\":\"BasicTicker\"},{\"attributes\":{\"data_source\":{\"id\":\"039583dc-9728-4b27-a8ee-33293a34c449\",\"type\":\"ColumnDataSource\"},\"glyph\":{\"id\":\"2f9d5493-f9b7-48da-8219-b5ef9adbacd8\",\"type\":\"Line\"},\"hover_glyph\":null,\"muted_glyph\":null,\"nonselection_glyph\":{\"id\":\"68b3dcaf-cc17-4434-89b8-4b4d2b16b991\",\"type\":\"Line\"},\"selection_glyph\":null,\"view\":{\"id\":\"ac88664e-b829-4421-91af-727ffa8a48bd\",\"type\":\"CDSView\"}},\"id\":\"9a65c547-801a-4829-a6e7-074d6e568202\",\"type\":\"GlyphRenderer\"},{\"attributes\":{\"below\":[{\"id\":\"11147339-6fc2-4d16-9be8-73f66c2a83be\",\"type\":\"LinearAxis\"}],\"left\":[{\"id\":\"799b101b-c0e3-4d78-bf2b-a073a160a1a7\",\"type\":\"LinearAxis\"}],\"renderers\":[{\"id\":\"11147339-6fc2-4d16-9be8-73f66c2a83be\",\"type\":\"LinearAxis\"},{\"id\":\"ebcabc23-7dec-4dd6-a875-860430f43187\",\"type\":\"Grid\"},{\"id\":\"799b101b-c0e3-4d78-bf2b-a073a160a1a7\",\"type\":\"LinearAxis\"},{\"id\":\"761c43c3-ef92-4019-97db-dea6cb2e82bb\",\"type\":\"Grid\"},{\"id\":\"5e6d1abf-e67e-48c9-b262-e775870a98f0\",\"type\":\"BoxAnnotation\"},{\"id\":\"1e9bdc55-3cdd-42fe-ba4e-467ed092c499\",\"type\":\"Legend\"},{\"id\":\"4aca71dd-8227-4444-b4e9-ee5b987640c9\",\"type\":\"GlyphRenderer\"},{\"id\":\"9a65c547-801a-4829-a6e7-074d6e568202\",\"type\":\"GlyphRenderer\"},{\"id\":\"4d76dd07-b937-4f04-a2a8-19b9a20a8717\",\"type\":\"GlyphRenderer\"},{\"id\":\"bba6fd9f-d1f7-4d6d-8587-c23ec9f383c5\",\"type\":\"GlyphRenderer\"},{\"id\":\"93610527-ccc9-4ed5-b0e2-ad756c77a6e6\",\"type\":\"GlyphRenderer\"}],\"title\":{\"id\":\"5d702a60-937c-4616-8306-ded583d7d130\",\"type\":\"Title\"},\"toolbar\":{\"id\":\"c3748fbf-4073-410e-a2f2-1901c4e64076\",\"type\":\"Toolbar\"},\"x_range\":{\"id\":\"04ab52d5-d5b0-4a37-aea1-cf95086ef706\",\"type\":\"DataRange1d\"},\"x_scale\":{\"id\":\"fc69fb5d-5ada-4bf6-8e60-f3480d0a503f\",\"type\":\"LinearScale\"},\"y_range\":{\"id\":\"4042c0d1-c343-4050-9567-83d1ee8ab0b2\",\"type\":\"DataRange1d\"},\"y_scale\":{\"id\":\"03b44df4-53ac-48a0-adce-ab63f2ca1c07\",\"type\":\"LinearScale\"}},\"id\":\"acea6275-b4a0-4b9c-8c7f-e5c0c76d1590\",\"subtype\":\"Figure\",\"type\":\"Plot\"},{\"attributes\":{},\"id\":\"03b44df4-53ac-48a0-adce-ab63f2ca1c07\",\"type\":\"LinearScale\"},{\"attributes\":{\"label\":{\"value\":\"3*sin(x)\"},\"renderers\":[{\"id\":\"bba6fd9f-d1f7-4d6d-8587-c23ec9f383c5\",\"type\":\"GlyphRenderer\"},{\"id\":\"93610527-ccc9-4ed5-b0e2-ad756c77a6e6\",\"type\":\"GlyphRenderer\"}]},\"id\":\"17d8cba3-199f-404e-849c-6a1e3637c470\",\"type\":\"LegendItem\"},{\"attributes\":{\"callback\":null,\"column_names\":[\"x\",\"y\"],\"data\":{\"x\":{\"__ndarray__\":\"AAAAAAAAAACRGkt8Vz/AP5EaS3xXP9A/2qdwOgNf2D+RGkt8Vz/gPzXhXVstT+Q/2qdwOgNf6D9+boMZ2W7sP5EaS3xXP/A/433Ua0JH8j814V1bLU/0P4dE50oYV/Y/2qdwOgNf+D8sC/op7mb6P35ugxnZbvw/0NEMCcR2/j+RGkt8Vz8AQDrMD/RMQwFA433Ua0JHAkCML5njN0sDQDXhXVstTwRA3pIi0yJTBUCHROdKGFcGQDD2q8INWwdA2qdwOgNfCECDWTWy+GIJQCwL+inuZgpA1by+oeNqC0B+boMZ2W4MQCcgSJHOcg1A0NEMCcR2DkB5g9GAuXoPQJEaS3xXPxBAZnMtOFLBEEA6zA/0TEMRQA8l8q9HxRFA433Ua0JHEkC41rYnPckSQIwvmeM3SxNAYYh7nzLNE0A14V1bLU8UQAo6QBco0RRA3pIi0yJTFUCz6wSPHdUVQIdE50oYVxZAXJ3JBhPZFkAw9qvCDVsXQAVPjn4I3RdA2qdwOgNfGECuAFP2/eAYQINZNbL4YhlAV7IXbvPkGUAsC/op7mYaQABk3OXo6BpA1by+oeNqG0CpFaFd3uwbQH5ugxnZbhxAUsdl1dPwHEAnIEiRznIdQPt4Kk3J9B1A0NEMCcR2HkCkKu/EvvgeQHmD0YC5eh9ATdyzPLT8H0CRGkt8Vz8gQPtGPNpUgCBAZnMtOFLBIEDQnx6WTwIhQDrMD/RMQyFApPgAUkqEIUAPJfKvR8UhQHlR4w1FBiJA433Ua0JHIkBNqsXJP4giQLjWtic9ySJAIgOohToKI0CML5njN0sjQPZbikE1jCNAYYh7nzLNI0DLtGz9Lw4kQDXhXVstTyRAoA1PuSqQJEAKOkAXKNEkQHRmMXUlEiVA3pIi0yJTJUBJvxMxIJQlQLPrBI8d1SVAHRj27BoWJkCHROdKGFcmQPJw2KgVmCZAXJ3JBhPZJkDGybpkEBonQDD2q8INWydAmyKdIAucJ0AFT45+CN0nQG97f9wFHihA2qdwOgNfKEBE1GGYAKAoQK4AU/b94ChAGC1EVPshKUA=\",\"dtype\":\"float64\",\"shape\":[100]},\"y\":{\"__ndarray__\":\"AAAAAAAAAADoxQO0RU7YP+dMxoI2HOg//C5K/vzW8T/Tua6vYlb3P+nH5xKndfw/AFIvb9iPAEBm8BjVpKACQNka5Ym2ZARADqEya8fUBUD+Gu1b6+oGQBHVYKmoogdAYgGEegr5B0DMzIX9rOwHQM+xeSHDfQdA1L6JxBWuBkB9BRBa/IAFQO0A3yZP+wNAeZ5rTFMjAkDe5Qz1oAAAQDnpZxcIOPs/tv7u/6/+9T/6iGdXvmrwP2wf+wVaJuU/5X710zFA0j+uSTsu9124v2QnUqkVVt6/o9Qx/NsL679m4Ulpoj7zvxQdiFoRqPi/bDUKCPCr/b/J7VIByxoBwPGhyyYpGQPAgTlCLtzIBMCuGkzd8SIGwAOBBKLYIQfAMzIqg3bBB8BzaxsFOv8HwKfUGL4k2gfAJ8c7bs9SB8BSNUOKZ2sGwCX1VkOmJwXAMfGzMMGMA8AjU27aVKEBwC4hWvuS2v6/DwQZ9WTz+b9lsKPjUaH0v8Yvs7GI9O2/YIF44Akr4r8GSRAz01rIvzJJEDPTWsg/aoF44Akr4j/QL7OxiPTtP2Cwo+NRofQ/FAQZ9WTz+T8qIVr7ktr+PyVTbtpUoQFAMPGzMMGMA0Am9VZDpicFQFE1Q4pnawZAKMc7bs9SB0Cn1Bi+JNoHQHNrGwU6/wdANDIqg3bBB0ACgQSi2CEHQLAaTN3xIgZAfTlCLtzIBEDwocsmKRkDQMntUgHLGgFAcTUKCPCr/T8MHYhaEaj4P2HhSWmiPvM/pNQx/NsL6z99J1KpFVbeP/ZIOy73Xbg/+n710zFA0r9fH/sFWiblv+6IZ1e+avC/uv7u/6/+9b846WcXCDj7v9vlDPWgAADAfJ5rTFMjAsDuAN8mT/sDwH0FEFr8gAXA076JxBWuBsDQsXkhw30HwMzMhf2s7AfAYgGEegr5B8AS1WCpqKIHwPwa7Vvr6gbADqEya8fUBcDaGuWJtmQEwGnwGNWkoALA/VEvb9iPAMDpx+cSp3X8v9a5rq9iVve/8C5K/vzW8b/bTMaCNhzov+rFA7RFTti/CoqeTDl52rw=\",\"dtype\":\"float64\",\"shape\":[100]}}},\"id\":\"117447f8-a0c0-4bbc-a55a-bce97c35b63d\",\"type\":\"ColumnDataSource\"},{\"attributes\":{\"line_alpha\":0.1,\"line_color\":\"#1f77b4\",\"x\":{\"field\":\"x\"},\"y\":{\"field\":\"y\"}},\"id\":\"46a4eb62-2172-4532-9b8c-78464b44299e\",\"type\":\"Line\"},{\"attributes\":{},\"id\":\"9a8a7b95-29c6-46ba-b4df-17fd5ff7d49b\",\"type\":\"PanTool\"},{\"attributes\":{\"line_alpha\":0.1,\"line_color\":\"#1f77b4\",\"line_dash\":[4,4],\"line_width\":2,\"x\":{\"field\":\"x\"},\"y\":{\"field\":\"y\"}},\"id\":\"a60af284-e878-4544-82a7-ff384f97cfbd\",\"type\":\"Line\"},{\"attributes\":{\"fill_color\":{\"value\":null},\"line_color\":{\"value\":\"green\"},\"x\":{\"field\":\"x\"},\"y\":{\"field\":\"y\"}},\"id\":\"082009f5-0b0e-4767-b7d4-e75a1cc9b95a\",\"type\":\"Square\"},{\"attributes\":{\"formatter\":{\"id\":\"d74ca9ef-6fa7-4cd4-8cea-1791a139d55f\",\"type\":\"BasicTickFormatter\"},\"plot\":{\"id\":\"acea6275-b4a0-4b9c-8c7f-e5c0c76d1590\",\"subtype\":\"Figure\",\"type\":\"Plot\"},\"ticker\":{\"id\":\"42f16500-5cf0-4544-8bd2-e357567b5760\",\"type\":\"BasicTicker\"}},\"id\":\"799b101b-c0e3-4d78-bf2b-a073a160a1a7\",\"type\":\"LinearAxis\"},{\"attributes\":{\"line_alpha\":0.1,\"line_color\":\"#1f77b4\",\"x\":{\"field\":\"x\"},\"y\":{\"field\":\"y\"}},\"id\":\"68b3dcaf-cc17-4434-89b8-4b4d2b16b991\",\"type\":\"Line\"},{\"attributes\":{\"callback\":null},\"id\":\"4042c0d1-c343-4050-9567-83d1ee8ab0b2\",\"type\":\"DataRange1d\"},{\"attributes\":{\"line_color\":\"orange\",\"line_dash\":[4,4],\"line_width\":2,\"x\":{\"field\":\"x\"},\"y\":{\"field\":\"y\"}},\"id\":\"95279c45-8f5c-4668-8f65-e936941969a0\",\"type\":\"Line\"},{\"attributes\":{\"line_color\":\"#1f77b4\",\"x\":{\"field\":\"x\"},\"y\":{\"field\":\"y\"}},\"id\":\"2f9d5493-f9b7-48da-8219-b5ef9adbacd8\",\"type\":\"Line\"},{\"attributes\":{\"fill_alpha\":{\"value\":0.1},\"fill_color\":{\"value\":\"#1f77b4\"},\"line_alpha\":{\"value\":0.1},\"line_color\":{\"value\":\"#1f77b4\"},\"x\":{\"field\":\"x\"},\"y\":{\"field\":\"y\"}},\"id\":\"6e031ce2-79bb-4817-986f-1876312e32c2\",\"type\":\"Square\"},{\"attributes\":{\"overlay\":{\"id\":\"5e6d1abf-e67e-48c9-b262-e775870a98f0\",\"type\":\"BoxAnnotation\"}},\"id\":\"72027240-c350-4179-aa3d-b40ba262e325\",\"type\":\"BoxZoomTool\"},{\"attributes\":{\"line_color\":\"green\",\"x\":{\"field\":\"x\"},\"y\":{\"field\":\"y\"}},\"id\":\"a65b8274-3bad-4fd9-b458-5d17f43356ab\",\"type\":\"Line\"},{\"attributes\":{\"callback\":null,\"column_names\":[\"x\",\"y\"],\"data\":{\"x\":{\"__ndarray__\":\"AAAAAAAAAACRGkt8Vz/AP5EaS3xXP9A/2qdwOgNf2D+RGkt8Vz/gPzXhXVstT+Q/2qdwOgNf6D9+boMZ2W7sP5EaS3xXP/A/433Ua0JH8j814V1bLU/0P4dE50oYV/Y/2qdwOgNf+D8sC/op7mb6P35ugxnZbvw/0NEMCcR2/j+RGkt8Vz8AQDrMD/RMQwFA433Ua0JHAkCML5njN0sDQDXhXVstTwRA3pIi0yJTBUCHROdKGFcGQDD2q8INWwdA2qdwOgNfCECDWTWy+GIJQCwL+inuZgpA1by+oeNqC0B+boMZ2W4MQCcgSJHOcg1A0NEMCcR2DkB5g9GAuXoPQJEaS3xXPxBAZnMtOFLBEEA6zA/0TEMRQA8l8q9HxRFA433Ua0JHEkC41rYnPckSQIwvmeM3SxNAYYh7nzLNE0A14V1bLU8UQAo6QBco0RRA3pIi0yJTFUCz6wSPHdUVQIdE50oYVxZAXJ3JBhPZFkAw9qvCDVsXQAVPjn4I3RdA2qdwOgNfGECuAFP2/eAYQINZNbL4YhlAV7IXbvPkGUAsC/op7mYaQABk3OXo6BpA1by+oeNqG0CpFaFd3uwbQH5ugxnZbhxAUsdl1dPwHEAnIEiRznIdQPt4Kk3J9B1A0NEMCcR2HkCkKu/EvvgeQHmD0YC5eh9ATdyzPLT8H0CRGkt8Vz8gQPtGPNpUgCBAZnMtOFLBIEDQnx6WTwIhQDrMD/RMQyFApPgAUkqEIUAPJfKvR8UhQHlR4w1FBiJA433Ua0JHIkBNqsXJP4giQLjWtic9ySJAIgOohToKI0CML5njN0sjQPZbikE1jCNAYYh7nzLNI0DLtGz9Lw4kQDXhXVstTyRAoA1PuSqQJEAKOkAXKNEkQHRmMXUlEiVA3pIi0yJTJUBJvxMxIJQlQLPrBI8d1SVAHRj27BoWJkCHROdKGFcmQPJw2KgVmCZAXJ3JBhPZJkDGybpkEBonQDD2q8INWydAmyKdIAucJ0AFT45+CN0nQG97f9wFHihA2qdwOgNfKEBE1GGYAKAoQK4AU/b94ChAGC1EVPshKUA=\",\"dtype\":\"float64\",\"shape\":[100]},\"y\":{\"__ndarray__\":\"AAAAAAAAAADwgwJ4LjTAP5qI2QHPEtA/+5MNU1HJ1z8ZTT7q2B3fP0aFmgwa+eI/ABg/lCAV5j+IQCEcMdboP3fOhmLzMOs/EyzujrQb7T/9Izwlj47uPxccgYyLg+8/g6xao7j27z9mZrL8O+bvP7+X94FZUu8/xVNiW3I97j9RB8Ai+6vsP5FWKYlppOo/oSg6uxkv6D/Sh2bxK1blPyZGRbpaJeI/8qg+VZVT3T/4C4p0qOPVP+UppLIiM8w/3FNHxZdVuD/J23zJpD6gv+3ENsZjOcS/wo12/ecH0r/dgWKM2KjZv2MTsJELcOC/83ixWvXH47+358MBZM7mv5eCD4nhdum/rExY6Hq267+TIxAn7YPtvwSssILL1+6/70I4BJ6s77/vOc8G+P7vvzTGy1KGze+/3176khQZ77/C8a4NiuTtvzGcHq/dNOy/l0FFlgER6r+EGZN4xoHnvx8WPFK3keS/Cli7+O1M4b+HQNqEwoHbv9kfIiFb+NO/gKyggGI5yL8EhrXMjDywvyGGtcyMPLA/jqyggGI5yD/gHyIhW/jTP4BA2oTCgds/DVi7+O1M4T8cFjxSt5HkP4cZk3jGgec/lUFFlgER6j8ynB6v3TTsP8Hxrg2K5O0/4F76khQZ7z80xstShs3vP+85zwb4/u8/8EI4BJ6s7z8DrLCCy9fuP5UjECftg+0/p0xY6Hq26z+Vgg+J4XbpP7fnwwFkzuY/9nixWvXH4z9dE7CRC3DgP9eBYozYqNk/w412/ecH0j/+xDbGYznEP0/bfMmkPqA/+FNHxZdVuL/UKaSyIjPMv+gLinSo49W/+Kg+VZVT3b8lRkW6WiXiv8+HZvErVuW/pig6uxkv6L+TVimJaaTqv1EHwCL7q+y/xFNiW3I97r/Al/eBWVLvv2Zmsvw75u+/g6xao7j2778YHIGMi4Pvv/sjPCWPju6/EyzujrQb7b94zoZi8zDrv4xAIRwx1ui//Bc/lCAV5r9GhZoMGvnivx5NPurYHd+/65MNU1HJ17+SiNkBzxLQv/GDAnguNMC/B1wUMyamwbw=\",\"dtype\":\"float64\",\"shape\":[100]}}},\"id\":\"4a4e17bc-8d65-43d8-8cb0-83e45690590c\",\"type\":\"ColumnDataSource\"},{\"attributes\":{},\"id\":\"42f16500-5cf0-4544-8bd2-e357567b5760\",\"type\":\"BasicTicker\"},{\"attributes\":{},\"id\":\"fe310a00-acc0-4bd9-8c5e-12672e4d7b19\",\"type\":\"WheelZoomTool\"},{\"attributes\":{\"fill_alpha\":{\"value\":0.1},\"fill_color\":{\"value\":\"#1f77b4\"},\"line_alpha\":{\"value\":0.1},\"line_color\":{\"value\":\"#1f77b4\"},\"x\":{\"field\":\"x\"},\"y\":{\"field\":\"y\"}},\"id\":\"33d3688e-3943-46b0-90fb-56c8506db9bb\",\"type\":\"Circle\"},{\"attributes\":{\"formatter\":{\"id\":\"f8d6a47f-d029-4959-b709-23923babc274\",\"type\":\"BasicTickFormatter\"},\"plot\":{\"id\":\"acea6275-b4a0-4b9c-8c7f-e5c0c76d1590\",\"subtype\":\"Figure\",\"type\":\"Plot\"},\"ticker\":{\"id\":\"7b1b71d7-104f-4fcd-83af-a40ae25e26b4\",\"type\":\"BasicTicker\"}},\"id\":\"11147339-6fc2-4d16-9be8-73f66c2a83be\",\"type\":\"LinearAxis\"},{\"attributes\":{\"plot\":null,\"text\":\"\"},\"id\":\"5d702a60-937c-4616-8306-ded583d7d130\",\"type\":\"Title\"},{\"attributes\":{\"callback\":null,\"column_names\":[\"x\",\"y\"],\"data\":{\"x\":{\"__ndarray__\":\"AAAAAAAAAACRGkt8Vz/AP5EaS3xXP9A/2qdwOgNf2D+RGkt8Vz/gPzXhXVstT+Q/2qdwOgNf6D9+boMZ2W7sP5EaS3xXP/A/433Ua0JH8j814V1bLU/0P4dE50oYV/Y/2qdwOgNf+D8sC/op7mb6P35ugxnZbvw/0NEMCcR2/j+RGkt8Vz8AQDrMD/RMQwFA433Ua0JHAkCML5njN0sDQDXhXVstTwRA3pIi0yJTBUCHROdKGFcGQDD2q8INWwdA2qdwOgNfCECDWTWy+GIJQCwL+inuZgpA1by+oeNqC0B+boMZ2W4MQCcgSJHOcg1A0NEMCcR2DkB5g9GAuXoPQJEaS3xXPxBAZnMtOFLBEEA6zA/0TEMRQA8l8q9HxRFA433Ua0JHEkC41rYnPckSQIwvmeM3SxNAYYh7nzLNE0A14V1bLU8UQAo6QBco0RRA3pIi0yJTFUCz6wSPHdUVQIdE50oYVxZAXJ3JBhPZFkAw9qvCDVsXQAVPjn4I3RdA2qdwOgNfGECuAFP2/eAYQINZNbL4YhlAV7IXbvPkGUAsC/op7mYaQABk3OXo6BpA1by+oeNqG0CpFaFd3uwbQH5ugxnZbhxAUsdl1dPwHEAnIEiRznIdQPt4Kk3J9B1A0NEMCcR2HkCkKu/EvvgeQHmD0YC5eh9ATdyzPLT8H0CRGkt8Vz8gQPtGPNpUgCBAZnMtOFLBIEDQnx6WTwIhQDrMD/RMQyFApPgAUkqEIUAPJfKvR8UhQHlR4w1FBiJA433Ua0JHIkBNqsXJP4giQLjWtic9ySJAIgOohToKI0CML5njN0sjQPZbikE1jCNAYYh7nzLNI0DLtGz9Lw4kQDXhXVstTyRAoA1PuSqQJEAKOkAXKNEkQHRmMXUlEiVA3pIi0yJTJUBJvxMxIJQlQLPrBI8d1SVAHRj27BoWJkCHROdKGFcmQPJw2KgVmCZAXJ3JBhPZJkDGybpkEBonQDD2q8INWydAmyKdIAucJ0AFT45+CN0nQG97f9wFHihA2qdwOgNfKEBE1GGYAKAoQK4AU/b94ChAGC1EVPshKUA=\",\"dtype\":\"float64\",\"shape\":[100]},\"y\":{\"__ndarray__\":\"AAAAAAAAAADwgwJ4LjTAP5qI2QHPEtA/+5MNU1HJ1z8ZTT7q2B3fP0aFmgwa+eI/ABg/lCAV5j+IQCEcMdboP3fOhmLzMOs/EyzujrQb7T/9Izwlj47uPxccgYyLg+8/g6xao7j27z9mZrL8O+bvP7+X94FZUu8/xVNiW3I97j9RB8Ai+6vsP5FWKYlppOo/oSg6uxkv6D/Sh2bxK1blPyZGRbpaJeI/8qg+VZVT3T/4C4p0qOPVP+UppLIiM8w/3FNHxZdVuD/J23zJpD6gv+3ENsZjOcS/wo12/ecH0r/dgWKM2KjZv2MTsJELcOC/83ixWvXH47+358MBZM7mv5eCD4nhdum/rExY6Hq267+TIxAn7YPtvwSssILL1+6/70I4BJ6s77/vOc8G+P7vvzTGy1KGze+/3176khQZ77/C8a4NiuTtvzGcHq/dNOy/l0FFlgER6r+EGZN4xoHnvx8WPFK3keS/Cli7+O1M4b+HQNqEwoHbv9kfIiFb+NO/gKyggGI5yL8EhrXMjDywvyGGtcyMPLA/jqyggGI5yD/gHyIhW/jTP4BA2oTCgds/DVi7+O1M4T8cFjxSt5HkP4cZk3jGgec/lUFFlgER6j8ynB6v3TTsP8Hxrg2K5O0/4F76khQZ7z80xstShs3vP+85zwb4/u8/8EI4BJ6s7z8DrLCCy9fuP5UjECftg+0/p0xY6Hq26z+Vgg+J4XbpP7fnwwFkzuY/9nixWvXH4z9dE7CRC3DgP9eBYozYqNk/w412/ecH0j/+xDbGYznEP0/bfMmkPqA/+FNHxZdVuL/UKaSyIjPMv+gLinSo49W/+Kg+VZVT3b8lRkW6WiXiv8+HZvErVuW/pig6uxkv6L+TVimJaaTqv1EHwCL7q+y/xFNiW3I97r/Al/eBWVLvv2Zmsvw75u+/g6xao7j2778YHIGMi4Pvv/sjPCWPju6/EyzujrQb7b94zoZi8zDrv4xAIRwx1ui//Bc/lCAV5r9GhZoMGvnivx5NPurYHd+/65MNU1HJ17+SiNkBzxLQv/GDAnguNMC/B1wUMyamwbw=\",\"dtype\":\"float64\",\"shape\":[100]}}},\"id\":\"039583dc-9728-4b27-a8ee-33293a34c449\",\"type\":\"ColumnDataSource\"},{\"attributes\":{\"source\":{\"id\":\"df83f543-5f31-4ede-8f89-b9cf1884bc20\",\"type\":\"ColumnDataSource\"}},\"id\":\"faf3b5a9-e246-474c-97b2-c5d23853d19e\",\"type\":\"CDSView\"},{\"attributes\":{\"label\":{\"value\":\"sin(x)\"},\"renderers\":[{\"id\":\"4aca71dd-8227-4444-b4e9-ee5b987640c9\",\"type\":\"GlyphRenderer\"},{\"id\":\"9a65c547-801a-4829-a6e7-074d6e568202\",\"type\":\"GlyphRenderer\"}]},\"id\":\"654ceda4-bd9d-4744-8e19-e3a377964849\",\"type\":\"LegendItem\"},{\"attributes\":{\"source\":{\"id\":\"039583dc-9728-4b27-a8ee-33293a34c449\",\"type\":\"ColumnDataSource\"}},\"id\":\"ac88664e-b829-4421-91af-727ffa8a48bd\",\"type\":\"CDSView\"},{\"attributes\":{\"data_source\":{\"id\":\"df83f543-5f31-4ede-8f89-b9cf1884bc20\",\"type\":\"ColumnDataSource\"},\"glyph\":{\"id\":\"a65b8274-3bad-4fd9-b458-5d17f43356ab\",\"type\":\"Line\"},\"hover_glyph\":null,\"muted_glyph\":null,\"nonselection_glyph\":{\"id\":\"46a4eb62-2172-4532-9b8c-78464b44299e\",\"type\":\"Line\"},\"selection_glyph\":null,\"view\":{\"id\":\"faf3b5a9-e246-474c-97b2-c5d23853d19e\",\"type\":\"CDSView\"}},\"id\":\"93610527-ccc9-4ed5-b0e2-ad756c77a6e6\",\"type\":\"GlyphRenderer\"},{\"attributes\":{\"dimension\":1,\"plot\":{\"id\":\"acea6275-b4a0-4b9c-8c7f-e5c0c76d1590\",\"subtype\":\"Figure\",\"type\":\"Plot\"},\"ticker\":{\"id\":\"42f16500-5cf0-4544-8bd2-e357567b5760\",\"type\":\"BasicTicker\"}},\"id\":\"761c43c3-ef92-4019-97db-dea6cb2e82bb\",\"type\":\"Grid\"},{\"attributes\":{},\"id\":\"54185227-bb19-474e-8188-4a7f262018c9\",\"type\":\"SaveTool\"},{\"attributes\":{\"label\":{\"value\":\"2*sin(x)\"},\"renderers\":[{\"id\":\"4d76dd07-b937-4f04-a2a8-19b9a20a8717\",\"type\":\"GlyphRenderer\"}]},\"id\":\"24660976-fb27-42b3-bfa9-163b1adef4b8\",\"type\":\"LegendItem\"},{\"attributes\":{\"callback\":null,\"column_names\":[\"x\",\"y\"],\"data\":{\"x\":{\"__ndarray__\":\"AAAAAAAAAACRGkt8Vz/AP5EaS3xXP9A/2qdwOgNf2D+RGkt8Vz/gPzXhXVstT+Q/2qdwOgNf6D9+boMZ2W7sP5EaS3xXP/A/433Ua0JH8j814V1bLU/0P4dE50oYV/Y/2qdwOgNf+D8sC/op7mb6P35ugxnZbvw/0NEMCcR2/j+RGkt8Vz8AQDrMD/RMQwFA433Ua0JHAkCML5njN0sDQDXhXVstTwRA3pIi0yJTBUCHROdKGFcGQDD2q8INWwdA2qdwOgNfCECDWTWy+GIJQCwL+inuZgpA1by+oeNqC0B+boMZ2W4MQCcgSJHOcg1A0NEMCcR2DkB5g9GAuXoPQJEaS3xXPxBAZnMtOFLBEEA6zA/0TEMRQA8l8q9HxRFA433Ua0JHEkC41rYnPckSQIwvmeM3SxNAYYh7nzLNE0A14V1bLU8UQAo6QBco0RRA3pIi0yJTFUCz6wSPHdUVQIdE50oYVxZAXJ3JBhPZFkAw9qvCDVsXQAVPjn4I3RdA2qdwOgNfGECuAFP2/eAYQINZNbL4YhlAV7IXbvPkGUAsC/op7mYaQABk3OXo6BpA1by+oeNqG0CpFaFd3uwbQH5ugxnZbhxAUsdl1dPwHEAnIEiRznIdQPt4Kk3J9B1A0NEMCcR2HkCkKu/EvvgeQHmD0YC5eh9ATdyzPLT8H0CRGkt8Vz8gQPtGPNpUgCBAZnMtOFLBIEDQnx6WTwIhQDrMD/RMQyFApPgAUkqEIUAPJfKvR8UhQHlR4w1FBiJA433Ua0JHIkBNqsXJP4giQLjWtic9ySJAIgOohToKI0CML5njN0sjQPZbikE1jCNAYYh7nzLNI0DLtGz9Lw4kQDXhXVstTyRAoA1PuSqQJEAKOkAXKNEkQHRmMXUlEiVA3pIi0yJTJUBJvxMxIJQlQLPrBI8d1SVAHRj27BoWJkCHROdKGFcmQPJw2KgVmCZAXJ3JBhPZJkDGybpkEBonQDD2q8INWydAmyKdIAucJ0AFT45+CN0nQG97f9wFHihA2qdwOgNfKEBE1GGYAKAoQK4AU/b94ChAGC1EVPshKUA=\",\"dtype\":\"float64\",\"shape\":[100]},\"y\":{\"__ndarray__\":\"AAAAAAAAAADoxQO0RU7YP+dMxoI2HOg//C5K/vzW8T/Tua6vYlb3P+nH5xKndfw/AFIvb9iPAEBm8BjVpKACQNka5Ym2ZARADqEya8fUBUD+Gu1b6+oGQBHVYKmoogdAYgGEegr5B0DMzIX9rOwHQM+xeSHDfQdA1L6JxBWuBkB9BRBa/IAFQO0A3yZP+wNAeZ5rTFMjAkDe5Qz1oAAAQDnpZxcIOPs/tv7u/6/+9T/6iGdXvmrwP2wf+wVaJuU/5X710zFA0j+uSTsu9124v2QnUqkVVt6/o9Qx/NsL679m4Ulpoj7zvxQdiFoRqPi/bDUKCPCr/b/J7VIByxoBwPGhyyYpGQPAgTlCLtzIBMCuGkzd8SIGwAOBBKLYIQfAMzIqg3bBB8BzaxsFOv8HwKfUGL4k2gfAJ8c7bs9SB8BSNUOKZ2sGwCX1VkOmJwXAMfGzMMGMA8AjU27aVKEBwC4hWvuS2v6/DwQZ9WTz+b9lsKPjUaH0v8Yvs7GI9O2/YIF44Akr4r8GSRAz01rIvzJJEDPTWsg/aoF44Akr4j/QL7OxiPTtP2Cwo+NRofQ/FAQZ9WTz+T8qIVr7ktr+PyVTbtpUoQFAMPGzMMGMA0Am9VZDpicFQFE1Q4pnawZAKMc7bs9SB0Cn1Bi+JNoHQHNrGwU6/wdANDIqg3bBB0ACgQSi2CEHQLAaTN3xIgZAfTlCLtzIBEDwocsmKRkDQMntUgHLGgFAcTUKCPCr/T8MHYhaEaj4P2HhSWmiPvM/pNQx/NsL6z99J1KpFVbeP/ZIOy73Xbg/+n710zFA0r9fH/sFWiblv+6IZ1e+avC/uv7u/6/+9b846WcXCDj7v9vlDPWgAADAfJ5rTFMjAsDuAN8mT/sDwH0FEFr8gAXA076JxBWuBsDQsXkhw30HwMzMhf2s7AfAYgGEegr5B8AS1WCpqKIHwPwa7Vvr6gbADqEya8fUBcDaGuWJtmQEwGnwGNWkoALA/VEvb9iPAMDpx+cSp3X8v9a5rq9iVve/8C5K/vzW8b/bTMaCNhzov+rFA7RFTti/CoqeTDl52rw=\",\"dtype\":\"float64\",\"shape\":[100]}}},\"id\":\"df83f543-5f31-4ede-8f89-b9cf1884bc20\",\"type\":\"ColumnDataSource\"},{\"attributes\":{},\"id\":\"08873d30-a33f-4eeb-bd59-6f69b5e620f0\",\"type\":\"HelpTool\"},{\"attributes\":{},\"id\":\"fc69fb5d-5ada-4bf6-8e60-f3480d0a503f\",\"type\":\"LinearScale\"},{\"attributes\":{\"source\":{\"id\":\"117447f8-a0c0-4bbc-a55a-bce97c35b63d\",\"type\":\"ColumnDataSource\"}},\"id\":\"5fc9a238-daca-4822-b9ff-17a95dda4cf5\",\"type\":\"CDSView\"},{\"attributes\":{},\"id\":\"f8d6a47f-d029-4959-b709-23923babc274\",\"type\":\"BasicTickFormatter\"},{\"attributes\":{\"data_source\":{\"id\":\"117447f8-a0c0-4bbc-a55a-bce97c35b63d\",\"type\":\"ColumnDataSource\"},\"glyph\":{\"id\":\"082009f5-0b0e-4767-b7d4-e75a1cc9b95a\",\"type\":\"Square\"},\"hover_glyph\":null,\"muted_glyph\":null,\"nonselection_glyph\":{\"id\":\"6e031ce2-79bb-4817-986f-1876312e32c2\",\"type\":\"Square\"},\"selection_glyph\":null,\"view\":{\"id\":\"5fc9a238-daca-4822-b9ff-17a95dda4cf5\",\"type\":\"CDSView\"}},\"id\":\"bba6fd9f-d1f7-4d6d-8587-c23ec9f383c5\",\"type\":\"GlyphRenderer\"},{\"attributes\":{},\"id\":\"d74ca9ef-6fa7-4cd4-8cea-1791a139d55f\",\"type\":\"BasicTickFormatter\"},{\"attributes\":{\"source\":{\"id\":\"e82927d6-97e2-4ce4-9357-776635a51869\",\"type\":\"ColumnDataSource\"}},\"id\":\"8844b9cf-a2d1-43eb-8d2f-f4af543f21fc\",\"type\":\"CDSView\"},{\"attributes\":{\"data_source\":{\"id\":\"e82927d6-97e2-4ce4-9357-776635a51869\",\"type\":\"ColumnDataSource\"},\"glyph\":{\"id\":\"95279c45-8f5c-4668-8f65-e936941969a0\",\"type\":\"Line\"},\"hover_glyph\":null,\"muted_glyph\":null,\"nonselection_glyph\":{\"id\":\"a60af284-e878-4544-82a7-ff384f97cfbd\",\"type\":\"Line\"},\"selection_glyph\":null,\"view\":{\"id\":\"8844b9cf-a2d1-43eb-8d2f-f4af543f21fc\",\"type\":\"CDSView\"}},\"id\":\"4d76dd07-b937-4f04-a2a8-19b9a20a8717\",\"type\":\"GlyphRenderer\"},{\"attributes\":{\"callback\":null,\"column_names\":[\"x\",\"y\"],\"data\":{\"x\":{\"__ndarray__\":\"AAAAAAAAAACRGkt8Vz/AP5EaS3xXP9A/2qdwOgNf2D+RGkt8Vz/gPzXhXVstT+Q/2qdwOgNf6D9+boMZ2W7sP5EaS3xXP/A/433Ua0JH8j814V1bLU/0P4dE50oYV/Y/2qdwOgNf+D8sC/op7mb6P35ugxnZbvw/0NEMCcR2/j+RGkt8Vz8AQDrMD/RMQwFA433Ua0JHAkCML5njN0sDQDXhXVstTwRA3pIi0yJTBUCHROdKGFcGQDD2q8INWwdA2qdwOgNfCECDWTWy+GIJQCwL+inuZgpA1by+oeNqC0B+boMZ2W4MQCcgSJHOcg1A0NEMCcR2DkB5g9GAuXoPQJEaS3xXPxBAZnMtOFLBEEA6zA/0TEMRQA8l8q9HxRFA433Ua0JHEkC41rYnPckSQIwvmeM3SxNAYYh7nzLNE0A14V1bLU8UQAo6QBco0RRA3pIi0yJTFUCz6wSPHdUVQIdE50oYVxZAXJ3JBhPZFkAw9qvCDVsXQAVPjn4I3RdA2qdwOgNfGECuAFP2/eAYQINZNbL4YhlAV7IXbvPkGUAsC/op7mYaQABk3OXo6BpA1by+oeNqG0CpFaFd3uwbQH5ugxnZbhxAUsdl1dPwHEAnIEiRznIdQPt4Kk3J9B1A0NEMCcR2HkCkKu/EvvgeQHmD0YC5eh9ATdyzPLT8H0CRGkt8Vz8gQPtGPNpUgCBAZnMtOFLBIEDQnx6WTwIhQDrMD/RMQyFApPgAUkqEIUAPJfKvR8UhQHlR4w1FBiJA433Ua0JHIkBNqsXJP4giQLjWtic9ySJAIgOohToKI0CML5njN0sjQPZbikE1jCNAYYh7nzLNI0DLtGz9Lw4kQDXhXVstTyRAoA1PuSqQJEAKOkAXKNEkQHRmMXUlEiVA3pIi0yJTJUBJvxMxIJQlQLPrBI8d1SVAHRj27BoWJkCHROdKGFcmQPJw2KgVmCZAXJ3JBhPZJkDGybpkEBonQDD2q8INWydAmyKdIAucJ0AFT45+CN0nQG97f9wFHihA2qdwOgNfKEBE1GGYAKAoQK4AU/b94ChAGC1EVPshKUA=\",\"dtype\":\"float64\",\"shape\":[100]},\"y\":{\"__ndarray__\":\"AAAAAAAAAADwgwJ4LjTQP5qI2QHPEuA/+5MNU1HJ5z8ZTT7q2B3vP0aFmgwa+fI/ABg/lCAV9j+IQCEcMdb4P3fOhmLzMPs/EyzujrQb/T/9Izwlj47+PxccgYyLg/8/g6xao7j2/z9mZrL8O+b/P7+X94FZUv8/xVNiW3I9/j9RB8Ai+6v8P5FWKYlppPo/oSg6uxkv+D/Sh2bxK1b1PyZGRbpaJfI/8qg+VZVT7T/4C4p0qOPlP+UppLIiM9w/3FNHxZdVyD/J23zJpD6wv+3ENsZjOdS/wo12/ecH4r/dgWKM2Kjpv2MTsJELcPC/83ixWvXH87+358MBZM72v5eCD4nhdvm/rExY6Hq2+7+TIxAn7YP9vwSssILL1/6/70I4BJ6s/7/vOc8G+P7/vzTGy1KGzf+/3176khQZ/7/C8a4NiuT9vzGcHq/dNPy/l0FFlgER+r+EGZN4xoH3vx8WPFK3kfS/Cli7+O1M8b+HQNqEwoHrv9kfIiFb+OO/gKyggGI52L8EhrXMjDzAvyGGtcyMPMA/jqyggGI52D/gHyIhW/jjP4BA2oTCges/DVi7+O1M8T8cFjxSt5H0P4cZk3jGgfc/lUFFlgER+j8ynB6v3TT8P8Hxrg2K5P0/4F76khQZ/z80xstShs3/P+85zwb4/v8/8EI4BJ6s/z8DrLCCy9f+P5UjECftg/0/p0xY6Hq2+z+Vgg+J4Xb5P7fnwwFkzvY/9nixWvXH8z9dE7CRC3DwP9eBYozYqOk/w412/ecH4j/+xDbGYznUP0/bfMmkPrA/+FNHxZdVyL/UKaSyIjPcv+gLinSo4+W/+Kg+VZVT7b8lRkW6WiXyv8+HZvErVvW/pig6uxkv+L+TVimJaaT6v1EHwCL7q/y/xFNiW3I9/r/Al/eBWVL/v2Zmsvw75v+/g6xao7j2/78YHIGMi4P/v/sjPCWPjv6/EyzujrQb/b94zoZi8zD7v4xAIRwx1vi//Bc/lCAV9r9GhZoMGvnyvx5NPurYHe+/65MNU1HJ57+SiNkBzxLgv/GDAnguNNC/B1wUMyam0bw=\",\"dtype\":\"float64\",\"shape\":[100]}}},\"id\":\"e82927d6-97e2-4ce4-9357-776635a51869\",\"type\":\"ColumnDataSource\"},{\"attributes\":{\"source\":{\"id\":\"4a4e17bc-8d65-43d8-8cb0-83e45690590c\",\"type\":\"ColumnDataSource\"}},\"id\":\"122e6e97-e3e3-44d9-9440-c41c0a02a81a\",\"type\":\"CDSView\"},{\"attributes\":{},\"id\":\"09337217-4489-41e8-bcd7-a397668d0626\",\"type\":\"ResetTool\"},{\"attributes\":{\"fill_color\":{\"value\":\"#1f77b4\"},\"line_color\":{\"value\":\"#1f77b4\"},\"x\":{\"field\":\"x\"},\"y\":{\"field\":\"y\"}},\"id\":\"d32be0e3-a69f-4ea4-910f-e52a5b91cf0c\",\"type\":\"Circle\"}],\"root_ids\":[\"acea6275-b4a0-4b9c-8c7f-e5c0c76d1590\"]},\"title\":\"Bokeh Application\",\"version\":\"0.12.13\"}};\n",
       "  var render_items = [{\"docid\":\"de30a6ec-61a5-483d-9eaa-baf832bc71b3\",\"elementid\":\"f6d4743a-e757-4a21-afad-8c797e635757\",\"modelid\":\"acea6275-b4a0-4b9c-8c7f-e5c0c76d1590\"}];\n",
       "  root.Bokeh.embed.embed_items_notebook(docs_json, render_items);\n",
       "\n",
       "  }\n",
       "  if (root.Bokeh !== undefined) {\n",
       "    embed_document(root);\n",
       "  } else {\n",
       "    var attempts = 0;\n",
       "    var timer = setInterval(function(root) {\n",
       "      if (root.Bokeh !== undefined) {\n",
       "        embed_document(root);\n",
       "        clearInterval(timer);\n",
       "      }\n",
       "      attempts++;\n",
       "      if (attempts > 100) {\n",
       "        console.log(\"Bokeh: ERROR: Unable to run BokehJS code because BokehJS library is missing\")\n",
       "        clearInterval(timer);\n",
       "      }\n",
       "    }, 10, root)\n",
       "  }\n",
       "})(window);"
      ],
      "application/vnd.bokehjs_exec.v0+json": ""
     },
     "metadata": {
      "application/vnd.bokehjs_exec.v0+json": {
       "id": "acea6275-b4a0-4b9c-8c7f-e5c0c76d1590"
      }
     },
     "output_type": "display_data"
    }
   ],
   "source": [
    "x = np.linspace(0, 4*np.pi, 100)\n",
    "y = np.sin(x)\n",
    "\n",
    "p = figure()\n",
    "\n",
    "p.circle(x, y, legend=\"sin(x)\")\n",
    "p.line(x, y, legend=\"sin(x)\")\n",
    "\n",
    "p.line(x, 2*y, legend=\"2*sin(x)\",\n",
    "       line_dash=[4, 4], line_color=\"orange\", line_width=2)\n",
    "\n",
    "p.square(x, 3*y, legend=\"3*sin(x)\", fill_color=None, line_color=\"green\")\n",
    "p.line(x, 3*y, legend=\"3*sin(x)\", line_color=\"green\")\n",
    "\n",
    "p.legend.label_standoff = 5\n",
    "p.legend.glyph_width = 50\n",
    "p.legend.spacing = 10\n",
    "p.legend.padding = 50\n",
    "p.legend.margin = 50\n",
    "\n",
    "show(p)"
   ]
  }
 ],
 "metadata": {
  "kernelspec": {
   "display_name": "Python 3",
   "language": "python",
   "name": "python3"
  },
  "language_info": {
   "codemirror_mode": {
    "name": "ipython",
    "version": 3
   },
   "file_extension": ".py",
   "mimetype": "text/x-python",
   "name": "python",
   "nbconvert_exporter": "python",
   "pygments_lexer": "ipython3",
   "version": "3.6.4"
  }
 },
 "nbformat": 4,
 "nbformat_minor": 2
}
