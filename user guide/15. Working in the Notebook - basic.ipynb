{
 "cells": [
  {
   "cell_type": "markdown",
   "metadata": {},
   "source": [
    "# Working in the Notebook - basic\n",
    "https://bokeh.pydata.org/en/latest/docs/user_guide/notebook.html\n",
    "https://github.com/bokeh/bokeh/blob/0.12.13/examples/howto/notebook_comms/Basic%20Usage.ipynb"
   ]
  },
  {
   "cell_type": "code",
   "execution_count": 1,
   "metadata": {},
   "outputs": [
    {
     "data": {
      "text/html": [
       "\n",
       "    <div class=\"bk-root\">\n",
       "        <a href=\"https://bokeh.pydata.org\" target=\"_blank\" class=\"bk-logo bk-logo-small bk-logo-notebook\"></a>\n",
       "        <span id=\"12bb177f-09fc-4ddb-884a-7bdb19b7b743\">Loading BokehJS ...</span>\n",
       "    </div>"
      ]
     },
     "metadata": {},
     "output_type": "display_data"
    },
    {
     "data": {
      "application/javascript": [
       "\n",
       "(function(root) {\n",
       "  function now() {\n",
       "    return new Date();\n",
       "  }\n",
       "\n",
       "  var force = true;\n",
       "\n",
       "  if (typeof (root._bokeh_onload_callbacks) === \"undefined\" || force === true) {\n",
       "    root._bokeh_onload_callbacks = [];\n",
       "    root._bokeh_is_loading = undefined;\n",
       "  }\n",
       "\n",
       "  var JS_MIME_TYPE = 'application/javascript';\n",
       "  var HTML_MIME_TYPE = 'text/html';\n",
       "  var EXEC_MIME_TYPE = 'application/vnd.bokehjs_exec.v0+json';\n",
       "  var CLASS_NAME = 'output_bokeh rendered_html';\n",
       "\n",
       "  /**\n",
       "   * Render data to the DOM node\n",
       "   */\n",
       "  function render(props, node) {\n",
       "    var script = document.createElement(\"script\");\n",
       "    node.appendChild(script);\n",
       "  }\n",
       "\n",
       "  /**\n",
       "   * Handle when an output is cleared or removed\n",
       "   */\n",
       "  function handleClearOutput(event, handle) {\n",
       "    var cell = handle.cell;\n",
       "\n",
       "    var id = cell.output_area._bokeh_element_id;\n",
       "    var server_id = cell.output_area._bokeh_server_id;\n",
       "    // Clean up Bokeh references\n",
       "    if (id !== undefined) {\n",
       "      Bokeh.index[id].model.document.clear();\n",
       "      delete Bokeh.index[id];\n",
       "    }\n",
       "\n",
       "    if (server_id !== undefined) {\n",
       "      // Clean up Bokeh references\n",
       "      var cmd = \"from bokeh.io.state import curstate; print(curstate().uuid_to_server['\" + server_id + \"'].get_sessions()[0].document.roots[0]._id)\";\n",
       "      cell.notebook.kernel.execute(cmd, {\n",
       "        iopub: {\n",
       "          output: function(msg) {\n",
       "            var element_id = msg.content.text.trim();\n",
       "            Bokeh.index[element_id].model.document.clear();\n",
       "            delete Bokeh.index[element_id];\n",
       "          }\n",
       "        }\n",
       "      });\n",
       "      // Destroy server and session\n",
       "      var cmd = \"import bokeh.io.notebook as ion; ion.destroy_server('\" + server_id + \"')\";\n",
       "      cell.notebook.kernel.execute(cmd);\n",
       "    }\n",
       "  }\n",
       "\n",
       "  /**\n",
       "   * Handle when a new output is added\n",
       "   */\n",
       "  function handleAddOutput(event, handle) {\n",
       "    var output_area = handle.output_area;\n",
       "    var output = handle.output;\n",
       "\n",
       "    // limit handleAddOutput to display_data with EXEC_MIME_TYPE content only\n",
       "    if ((output.output_type != \"display_data\") || (!output.data.hasOwnProperty(EXEC_MIME_TYPE))) {\n",
       "      return\n",
       "    }\n",
       "\n",
       "    var toinsert = output_area.element.find(\".\" + CLASS_NAME.split(' ')[0]);\n",
       "\n",
       "    if (output.metadata[EXEC_MIME_TYPE][\"id\"] !== undefined) {\n",
       "      toinsert[0].firstChild.textContent = output.data[JS_MIME_TYPE];\n",
       "      // store reference to embed id on output_area\n",
       "      output_area._bokeh_element_id = output.metadata[EXEC_MIME_TYPE][\"id\"];\n",
       "    }\n",
       "    if (output.metadata[EXEC_MIME_TYPE][\"server_id\"] !== undefined) {\n",
       "      var bk_div = document.createElement(\"div\");\n",
       "      bk_div.innerHTML = output.data[HTML_MIME_TYPE];\n",
       "      var script_attrs = bk_div.children[0].attributes;\n",
       "      for (var i = 0; i < script_attrs.length; i++) {\n",
       "        toinsert[0].firstChild.setAttribute(script_attrs[i].name, script_attrs[i].value);\n",
       "      }\n",
       "      // store reference to server id on output_area\n",
       "      output_area._bokeh_server_id = output.metadata[EXEC_MIME_TYPE][\"server_id\"];\n",
       "    }\n",
       "  }\n",
       "\n",
       "  function register_renderer(events, OutputArea) {\n",
       "\n",
       "    function append_mime(data, metadata, element) {\n",
       "      // create a DOM node to render to\n",
       "      var toinsert = this.create_output_subarea(\n",
       "        metadata,\n",
       "        CLASS_NAME,\n",
       "        EXEC_MIME_TYPE\n",
       "      );\n",
       "      this.keyboard_manager.register_events(toinsert);\n",
       "      // Render to node\n",
       "      var props = {data: data, metadata: metadata[EXEC_MIME_TYPE]};\n",
       "      render(props, toinsert[0]);\n",
       "      element.append(toinsert);\n",
       "      return toinsert\n",
       "    }\n",
       "\n",
       "    /* Handle when an output is cleared or removed */\n",
       "    events.on('clear_output.CodeCell', handleClearOutput);\n",
       "    events.on('delete.Cell', handleClearOutput);\n",
       "\n",
       "    /* Handle when a new output is added */\n",
       "    events.on('output_added.OutputArea', handleAddOutput);\n",
       "\n",
       "    /**\n",
       "     * Register the mime type and append_mime function with output_area\n",
       "     */\n",
       "    OutputArea.prototype.register_mime_type(EXEC_MIME_TYPE, append_mime, {\n",
       "      /* Is output safe? */\n",
       "      safe: true,\n",
       "      /* Index of renderer in `output_area.display_order` */\n",
       "      index: 0\n",
       "    });\n",
       "  }\n",
       "\n",
       "  // register the mime type if in Jupyter Notebook environment and previously unregistered\n",
       "  if (root.Jupyter !== undefined) {\n",
       "    var events = require('base/js/events');\n",
       "    var OutputArea = require('notebook/js/outputarea').OutputArea;\n",
       "\n",
       "    if (OutputArea.prototype.mime_types().indexOf(EXEC_MIME_TYPE) == -1) {\n",
       "      register_renderer(events, OutputArea);\n",
       "    }\n",
       "  }\n",
       "\n",
       "  \n",
       "  if (typeof (root._bokeh_timeout) === \"undefined\" || force === true) {\n",
       "    root._bokeh_timeout = Date.now() + 5000;\n",
       "    root._bokeh_failed_load = false;\n",
       "  }\n",
       "\n",
       "  var NB_LOAD_WARNING = {'data': {'text/html':\n",
       "     \"<div style='background-color: #fdd'>\\n\"+\n",
       "     \"<p>\\n\"+\n",
       "     \"BokehJS does not appear to have successfully loaded. If loading BokehJS from CDN, this \\n\"+\n",
       "     \"may be due to a slow or bad network connection. Possible fixes:\\n\"+\n",
       "     \"</p>\\n\"+\n",
       "     \"<ul>\\n\"+\n",
       "     \"<li>re-rerun `output_notebook()` to attempt to load from CDN again, or</li>\\n\"+\n",
       "     \"<li>use INLINE resources instead, as so:</li>\\n\"+\n",
       "     \"</ul>\\n\"+\n",
       "     \"<code>\\n\"+\n",
       "     \"from bokeh.resources import INLINE\\n\"+\n",
       "     \"output_notebook(resources=INLINE)\\n\"+\n",
       "     \"</code>\\n\"+\n",
       "     \"</div>\"}};\n",
       "\n",
       "  function display_loaded() {\n",
       "    var el = document.getElementById(\"12bb177f-09fc-4ddb-884a-7bdb19b7b743\");\n",
       "    if (el != null) {\n",
       "      el.textContent = \"BokehJS is loading...\";\n",
       "    }\n",
       "    if (root.Bokeh !== undefined) {\n",
       "      if (el != null) {\n",
       "        el.textContent = \"BokehJS \" + root.Bokeh.version + \" successfully loaded.\";\n",
       "      }\n",
       "    } else if (Date.now() < root._bokeh_timeout) {\n",
       "      setTimeout(display_loaded, 100)\n",
       "    }\n",
       "  }\n",
       "\n",
       "\n",
       "  function run_callbacks() {\n",
       "    try {\n",
       "      root._bokeh_onload_callbacks.forEach(function(callback) { callback() });\n",
       "    }\n",
       "    finally {\n",
       "      delete root._bokeh_onload_callbacks\n",
       "    }\n",
       "    console.info(\"Bokeh: all callbacks have finished\");\n",
       "  }\n",
       "\n",
       "  function load_libs(js_urls, callback) {\n",
       "    root._bokeh_onload_callbacks.push(callback);\n",
       "    if (root._bokeh_is_loading > 0) {\n",
       "      console.log(\"Bokeh: BokehJS is being loaded, scheduling callback at\", now());\n",
       "      return null;\n",
       "    }\n",
       "    if (js_urls == null || js_urls.length === 0) {\n",
       "      run_callbacks();\n",
       "      return null;\n",
       "    }\n",
       "    console.log(\"Bokeh: BokehJS not loaded, scheduling load and callback at\", now());\n",
       "    root._bokeh_is_loading = js_urls.length;\n",
       "    for (var i = 0; i < js_urls.length; i++) {\n",
       "      var url = js_urls[i];\n",
       "      var s = document.createElement('script');\n",
       "      s.src = url;\n",
       "      s.async = false;\n",
       "      s.onreadystatechange = s.onload = function() {\n",
       "        root._bokeh_is_loading--;\n",
       "        if (root._bokeh_is_loading === 0) {\n",
       "          console.log(\"Bokeh: all BokehJS libraries loaded\");\n",
       "          run_callbacks()\n",
       "        }\n",
       "      };\n",
       "      s.onerror = function() {\n",
       "        console.warn(\"failed to load library \" + url);\n",
       "      };\n",
       "      console.log(\"Bokeh: injecting script tag for BokehJS library: \", url);\n",
       "      document.getElementsByTagName(\"head\")[0].appendChild(s);\n",
       "    }\n",
       "  };var element = document.getElementById(\"12bb177f-09fc-4ddb-884a-7bdb19b7b743\");\n",
       "  if (element == null) {\n",
       "    console.log(\"Bokeh: ERROR: autoload.js configured with elementid '12bb177f-09fc-4ddb-884a-7bdb19b7b743' but no matching script tag was found. \")\n",
       "    return false;\n",
       "  }\n",
       "\n",
       "  var js_urls = [\"https://cdn.pydata.org/bokeh/release/bokeh-0.12.13.min.js\", \"https://cdn.pydata.org/bokeh/release/bokeh-widgets-0.12.13.min.js\", \"https://cdn.pydata.org/bokeh/release/bokeh-tables-0.12.13.min.js\", \"https://cdn.pydata.org/bokeh/release/bokeh-gl-0.12.13.min.js\"];\n",
       "\n",
       "  var inline_js = [\n",
       "    function(Bokeh) {\n",
       "      Bokeh.set_log_level(\"info\");\n",
       "    },\n",
       "    \n",
       "    function(Bokeh) {\n",
       "      \n",
       "    },\n",
       "    function(Bokeh) {\n",
       "      console.log(\"Bokeh: injecting CSS: https://cdn.pydata.org/bokeh/release/bokeh-0.12.13.min.css\");\n",
       "      Bokeh.embed.inject_css(\"https://cdn.pydata.org/bokeh/release/bokeh-0.12.13.min.css\");\n",
       "      console.log(\"Bokeh: injecting CSS: https://cdn.pydata.org/bokeh/release/bokeh-widgets-0.12.13.min.css\");\n",
       "      Bokeh.embed.inject_css(\"https://cdn.pydata.org/bokeh/release/bokeh-widgets-0.12.13.min.css\");\n",
       "      console.log(\"Bokeh: injecting CSS: https://cdn.pydata.org/bokeh/release/bokeh-tables-0.12.13.min.css\");\n",
       "      Bokeh.embed.inject_css(\"https://cdn.pydata.org/bokeh/release/bokeh-tables-0.12.13.min.css\");\n",
       "    }\n",
       "  ];\n",
       "\n",
       "  function run_inline_js() {\n",
       "    \n",
       "    if ((root.Bokeh !== undefined) || (force === true)) {\n",
       "      for (var i = 0; i < inline_js.length; i++) {\n",
       "        inline_js[i].call(root, root.Bokeh);\n",
       "      }if (force === true) {\n",
       "        display_loaded();\n",
       "      }} else if (Date.now() < root._bokeh_timeout) {\n",
       "      setTimeout(run_inline_js, 100);\n",
       "    } else if (!root._bokeh_failed_load) {\n",
       "      console.log(\"Bokeh: BokehJS failed to load within specified timeout.\");\n",
       "      root._bokeh_failed_load = true;\n",
       "    } else if (force !== true) {\n",
       "      var cell = $(document.getElementById(\"12bb177f-09fc-4ddb-884a-7bdb19b7b743\")).parents('.cell').data().cell;\n",
       "      cell.output_area.append_execute_result(NB_LOAD_WARNING)\n",
       "    }\n",
       "\n",
       "  }\n",
       "\n",
       "  if (root._bokeh_is_loading === 0) {\n",
       "    console.log(\"Bokeh: BokehJS loaded, going straight to plotting\");\n",
       "    run_inline_js();\n",
       "  } else {\n",
       "    load_libs(js_urls, function() {\n",
       "      console.log(\"Bokeh: BokehJS plotting callback run at\", now());\n",
       "      run_inline_js();\n",
       "    });\n",
       "  }\n",
       "}(window));"
      ],
      "application/vnd.bokehjs_load.v0+json": "\n(function(root) {\n  function now() {\n    return new Date();\n  }\n\n  var force = true;\n\n  if (typeof (root._bokeh_onload_callbacks) === \"undefined\" || force === true) {\n    root._bokeh_onload_callbacks = [];\n    root._bokeh_is_loading = undefined;\n  }\n\n  \n\n  \n  if (typeof (root._bokeh_timeout) === \"undefined\" || force === true) {\n    root._bokeh_timeout = Date.now() + 5000;\n    root._bokeh_failed_load = false;\n  }\n\n  var NB_LOAD_WARNING = {'data': {'text/html':\n     \"<div style='background-color: #fdd'>\\n\"+\n     \"<p>\\n\"+\n     \"BokehJS does not appear to have successfully loaded. If loading BokehJS from CDN, this \\n\"+\n     \"may be due to a slow or bad network connection. Possible fixes:\\n\"+\n     \"</p>\\n\"+\n     \"<ul>\\n\"+\n     \"<li>re-rerun `output_notebook()` to attempt to load from CDN again, or</li>\\n\"+\n     \"<li>use INLINE resources instead, as so:</li>\\n\"+\n     \"</ul>\\n\"+\n     \"<code>\\n\"+\n     \"from bokeh.resources import INLINE\\n\"+\n     \"output_notebook(resources=INLINE)\\n\"+\n     \"</code>\\n\"+\n     \"</div>\"}};\n\n  function display_loaded() {\n    var el = document.getElementById(\"12bb177f-09fc-4ddb-884a-7bdb19b7b743\");\n    if (el != null) {\n      el.textContent = \"BokehJS is loading...\";\n    }\n    if (root.Bokeh !== undefined) {\n      if (el != null) {\n        el.textContent = \"BokehJS \" + root.Bokeh.version + \" successfully loaded.\";\n      }\n    } else if (Date.now() < root._bokeh_timeout) {\n      setTimeout(display_loaded, 100)\n    }\n  }\n\n\n  function run_callbacks() {\n    try {\n      root._bokeh_onload_callbacks.forEach(function(callback) { callback() });\n    }\n    finally {\n      delete root._bokeh_onload_callbacks\n    }\n    console.info(\"Bokeh: all callbacks have finished\");\n  }\n\n  function load_libs(js_urls, callback) {\n    root._bokeh_onload_callbacks.push(callback);\n    if (root._bokeh_is_loading > 0) {\n      console.log(\"Bokeh: BokehJS is being loaded, scheduling callback at\", now());\n      return null;\n    }\n    if (js_urls == null || js_urls.length === 0) {\n      run_callbacks();\n      return null;\n    }\n    console.log(\"Bokeh: BokehJS not loaded, scheduling load and callback at\", now());\n    root._bokeh_is_loading = js_urls.length;\n    for (var i = 0; i < js_urls.length; i++) {\n      var url = js_urls[i];\n      var s = document.createElement('script');\n      s.src = url;\n      s.async = false;\n      s.onreadystatechange = s.onload = function() {\n        root._bokeh_is_loading--;\n        if (root._bokeh_is_loading === 0) {\n          console.log(\"Bokeh: all BokehJS libraries loaded\");\n          run_callbacks()\n        }\n      };\n      s.onerror = function() {\n        console.warn(\"failed to load library \" + url);\n      };\n      console.log(\"Bokeh: injecting script tag for BokehJS library: \", url);\n      document.getElementsByTagName(\"head\")[0].appendChild(s);\n    }\n  };var element = document.getElementById(\"12bb177f-09fc-4ddb-884a-7bdb19b7b743\");\n  if (element == null) {\n    console.log(\"Bokeh: ERROR: autoload.js configured with elementid '12bb177f-09fc-4ddb-884a-7bdb19b7b743' but no matching script tag was found. \")\n    return false;\n  }\n\n  var js_urls = [\"https://cdn.pydata.org/bokeh/release/bokeh-0.12.13.min.js\", \"https://cdn.pydata.org/bokeh/release/bokeh-widgets-0.12.13.min.js\", \"https://cdn.pydata.org/bokeh/release/bokeh-tables-0.12.13.min.js\", \"https://cdn.pydata.org/bokeh/release/bokeh-gl-0.12.13.min.js\"];\n\n  var inline_js = [\n    function(Bokeh) {\n      Bokeh.set_log_level(\"info\");\n    },\n    \n    function(Bokeh) {\n      \n    },\n    function(Bokeh) {\n      console.log(\"Bokeh: injecting CSS: https://cdn.pydata.org/bokeh/release/bokeh-0.12.13.min.css\");\n      Bokeh.embed.inject_css(\"https://cdn.pydata.org/bokeh/release/bokeh-0.12.13.min.css\");\n      console.log(\"Bokeh: injecting CSS: https://cdn.pydata.org/bokeh/release/bokeh-widgets-0.12.13.min.css\");\n      Bokeh.embed.inject_css(\"https://cdn.pydata.org/bokeh/release/bokeh-widgets-0.12.13.min.css\");\n      console.log(\"Bokeh: injecting CSS: https://cdn.pydata.org/bokeh/release/bokeh-tables-0.12.13.min.css\");\n      Bokeh.embed.inject_css(\"https://cdn.pydata.org/bokeh/release/bokeh-tables-0.12.13.min.css\");\n    }\n  ];\n\n  function run_inline_js() {\n    \n    if ((root.Bokeh !== undefined) || (force === true)) {\n      for (var i = 0; i < inline_js.length; i++) {\n        inline_js[i].call(root, root.Bokeh);\n      }if (force === true) {\n        display_loaded();\n      }} else if (Date.now() < root._bokeh_timeout) {\n      setTimeout(run_inline_js, 100);\n    } else if (!root._bokeh_failed_load) {\n      console.log(\"Bokeh: BokehJS failed to load within specified timeout.\");\n      root._bokeh_failed_load = true;\n    } else if (force !== true) {\n      var cell = $(document.getElementById(\"12bb177f-09fc-4ddb-884a-7bdb19b7b743\")).parents('.cell').data().cell;\n      cell.output_area.append_execute_result(NB_LOAD_WARNING)\n    }\n\n  }\n\n  if (root._bokeh_is_loading === 0) {\n    console.log(\"Bokeh: BokehJS loaded, going straight to plotting\");\n    run_inline_js();\n  } else {\n    load_libs(js_urls, function() {\n      console.log(\"Bokeh: BokehJS plotting callback run at\", now());\n      run_inline_js();\n    });\n  }\n}(window));"
     },
     "metadata": {},
     "output_type": "display_data"
    }
   ],
   "source": [
    "from bokeh.io import push_notebook, show, output_notebook\n",
    "from bokeh.layouts import row\n",
    "from bokeh.plotting import figure\n",
    "output_notebook()"
   ]
  },
  {
   "cell_type": "code",
   "execution_count": 2,
   "metadata": {},
   "outputs": [],
   "source": [
    "opts = dict(plot_width=250, plot_height=250, min_border=0)"
   ]
  },
  {
   "cell_type": "code",
   "execution_count": 3,
   "metadata": {},
   "outputs": [
    {
     "data": {
      "text/html": [
       "\n",
       "<div class=\"bk-root\">\n",
       "    <div class=\"bk-plotdiv\" id=\"de5389c3-536c-453c-b7cc-5b67d51b44b9\"></div>\n",
       "</div>"
      ]
     },
     "metadata": {},
     "output_type": "display_data"
    },
    {
     "data": {
      "application/javascript": [
       "(function(root) {\n",
       "  function embed_document(root) {\n",
       "    \n",
       "  var docs_json = {\"f381b81f-ae4d-4742-8b21-efb1366b07d7\":{\"roots\":{\"references\":[{\"attributes\":{\"plot\":null,\"text\":\"\"},\"id\":\"0c3f8697-5f45-46c2-baa0-ecd6fa9b0596\",\"type\":\"Title\"},{\"attributes\":{},\"id\":\"6c933781-4eb8-43e1-8438-b18c16f8fc3f\",\"type\":\"BasicTickFormatter\"},{\"attributes\":{\"fill_alpha\":{\"value\":0.1},\"fill_color\":{\"value\":\"#1f77b4\"},\"line_alpha\":{\"value\":0.1},\"line_color\":{\"value\":\"#1f77b4\"},\"size\":{\"units\":\"screen\",\"value\":20},\"x\":{\"field\":\"x\"},\"y\":{\"field\":\"y\"}},\"id\":\"b21b7ee9-a9c8-409d-bdcb-d01bdf737f36\",\"type\":\"Circle\"},{\"attributes\":{\"fill_color\":{\"value\":\"#1f77b4\"},\"line_color\":{\"value\":\"#1f77b4\"},\"size\":{\"units\":\"screen\",\"value\":20},\"x\":{\"field\":\"x\"},\"y\":{\"field\":\"y\"}},\"id\":\"7cf3ff10-5c32-4013-a154-e5c79b4b9599\",\"type\":\"Circle\"},{\"attributes\":{\"active_drag\":\"auto\",\"active_inspect\":\"auto\",\"active_scroll\":\"auto\",\"active_tap\":\"auto\",\"tools\":[{\"id\":\"0567edcf-352c-45f5-8ca5-273e5449f67f\",\"type\":\"PanTool\"},{\"id\":\"d7a2f506-f060-45b8-99ef-80b3189e72aa\",\"type\":\"WheelZoomTool\"},{\"id\":\"585c8ead-eb71-4197-b23c-11f10b79c5b8\",\"type\":\"BoxZoomTool\"},{\"id\":\"e5260547-7e64-4ece-8637-454eb814b19e\",\"type\":\"SaveTool\"},{\"id\":\"8f448019-91a4-48ba-9545-e81e943c6a10\",\"type\":\"ResetTool\"},{\"id\":\"ae29f836-e4ce-4ab5-a03d-346f95d4eb7c\",\"type\":\"HelpTool\"}]},\"id\":\"c6e8a66a-849a-455a-848a-9a64ddcf3a31\",\"type\":\"Toolbar\"},{\"attributes\":{\"source\":{\"id\":\"14ec0f58-5c1d-4cc4-9aa2-96f595e0e314\",\"type\":\"ColumnDataSource\"}},\"id\":\"d2cc9117-7f8c-47e1-b23c-35c31680384d\",\"type\":\"CDSView\"},{\"attributes\":{},\"id\":\"94ecaddb-0196-4c29-adda-179c3c6837a5\",\"type\":\"LinearScale\"},{\"attributes\":{\"callback\":null,\"column_names\":[\"x\",\"y\"],\"data\":{\"x\":[1,2,3],\"y\":[4,5,6]}},\"id\":\"14ec0f58-5c1d-4cc4-9aa2-96f595e0e314\",\"type\":\"ColumnDataSource\"},{\"attributes\":{\"callback\":null,\"column_names\":[\"x\",\"y\"],\"data\":{\"x\":[1,2,3],\"y\":[4,5,6]}},\"id\":\"b8132de6-41e2-4647-b204-be84a9a8fbec\",\"type\":\"ColumnDataSource\"},{\"attributes\":{\"below\":[{\"id\":\"7468c81f-a0a5-4c3d-b0a3-853221472cec\",\"type\":\"LinearAxis\"}],\"left\":[{\"id\":\"ef7d29b2-66f9-48bf-94ef-3304b908afae\",\"type\":\"LinearAxis\"}],\"min_border\":0,\"plot_height\":250,\"plot_width\":250,\"renderers\":[{\"id\":\"7468c81f-a0a5-4c3d-b0a3-853221472cec\",\"type\":\"LinearAxis\"},{\"id\":\"0fb0f556-a52c-45f6-9e5b-34941718c9f5\",\"type\":\"Grid\"},{\"id\":\"ef7d29b2-66f9-48bf-94ef-3304b908afae\",\"type\":\"LinearAxis\"},{\"id\":\"46e84955-8bc5-4849-aea1-1c32309ed622\",\"type\":\"Grid\"},{\"id\":\"36e8d126-778c-410b-a9c4-5e726a0a5836\",\"type\":\"BoxAnnotation\"},{\"id\":\"d5ea008b-5b58-4176-9395-3a6ff74c5099\",\"type\":\"GlyphRenderer\"}],\"title\":{\"id\":\"0c3f8697-5f45-46c2-baa0-ecd6fa9b0596\",\"type\":\"Title\"},\"toolbar\":{\"id\":\"2f13f9aa-0035-44f1-986e-ea2b7f25ff1f\",\"type\":\"Toolbar\"},\"x_range\":{\"id\":\"4546e742-e6f1-466b-b4d4-8b5ec88b8fc0\",\"type\":\"DataRange1d\"},\"x_scale\":{\"id\":\"90f0af7b-31df-4c1b-9190-c86f7d40d637\",\"type\":\"LinearScale\"},\"y_range\":{\"id\":\"8afe76ab-fcb8-4686-9919-61f6184a6b5f\",\"type\":\"DataRange1d\"},\"y_scale\":{\"id\":\"d6af7a99-e2f3-44ac-9a70-575731f332c9\",\"type\":\"LinearScale\"}},\"id\":\"45f647d4-7bb7-44d9-9310-1a7ec797830c\",\"subtype\":\"Figure\",\"type\":\"Plot\"},{\"attributes\":{\"data_source\":{\"id\":\"b8132de6-41e2-4647-b204-be84a9a8fbec\",\"type\":\"ColumnDataSource\"},\"glyph\":{\"id\":\"7cf3ff10-5c32-4013-a154-e5c79b4b9599\",\"type\":\"Circle\"},\"hover_glyph\":null,\"muted_glyph\":null,\"nonselection_glyph\":{\"id\":\"3cf5bbb0-de29-42ca-87d9-9360714d1132\",\"type\":\"Circle\"},\"selection_glyph\":null,\"view\":{\"id\":\"33aacc3b-6a47-497e-b4a2-7130dd5df2b3\",\"type\":\"CDSView\"}},\"id\":\"401ea507-d204-4776-ae20-d5dbffab687d\",\"type\":\"GlyphRenderer\"},{\"attributes\":{\"plot\":{\"id\":\"6cd1a57b-ed41-4d18-b70b-ae8ded072583\",\"subtype\":\"Figure\",\"type\":\"Plot\"},\"ticker\":{\"id\":\"a7366e7f-4890-49fa-92f3-70eb91f55a69\",\"type\":\"BasicTicker\"}},\"id\":\"8a3d9ff0-44a8-453f-bc93-0c17a52a3ca6\",\"type\":\"Grid\"},{\"attributes\":{\"data_source\":{\"id\":\"14ec0f58-5c1d-4cc4-9aa2-96f595e0e314\",\"type\":\"ColumnDataSource\"},\"glyph\":{\"id\":\"72b1068c-e34c-4b9e-a13b-7ea26cebd4d6\",\"type\":\"Circle\"},\"hover_glyph\":null,\"muted_glyph\":null,\"nonselection_glyph\":{\"id\":\"b21b7ee9-a9c8-409d-bdcb-d01bdf737f36\",\"type\":\"Circle\"},\"selection_glyph\":null,\"view\":{\"id\":\"d2cc9117-7f8c-47e1-b23c-35c31680384d\",\"type\":\"CDSView\"}},\"id\":\"d5ea008b-5b58-4176-9395-3a6ff74c5099\",\"type\":\"GlyphRenderer\"},{\"attributes\":{\"callback\":null},\"id\":\"54ac038a-b2af-41da-b850-cde398cf3233\",\"type\":\"DataRange1d\"},{\"attributes\":{\"active_drag\":\"auto\",\"active_inspect\":\"auto\",\"active_scroll\":\"auto\",\"active_tap\":\"auto\",\"tools\":[{\"id\":\"5646c940-7573-43b3-9915-9d4f9642a1b9\",\"type\":\"PanTool\"},{\"id\":\"4d6446a3-8a5c-4b49-8f08-f1403bc95c7d\",\"type\":\"WheelZoomTool\"},{\"id\":\"2addd507-1921-44bb-8731-ae1b0df0e088\",\"type\":\"BoxZoomTool\"},{\"id\":\"deaeabe2-5673-4ec0-a75d-f7ded6334fc2\",\"type\":\"SaveTool\"},{\"id\":\"b59669e1-24a7-4a50-8918-b0a5e5ec1036\",\"type\":\"ResetTool\"},{\"id\":\"79e25405-f8f8-42bb-ae62-49de53ec256e\",\"type\":\"HelpTool\"}]},\"id\":\"2f13f9aa-0035-44f1-986e-ea2b7f25ff1f\",\"type\":\"Toolbar\"},{\"attributes\":{\"callback\":null},\"id\":\"4546e742-e6f1-466b-b4d4-8b5ec88b8fc0\",\"type\":\"DataRange1d\"},{\"attributes\":{},\"id\":\"6370c4cf-efdc-49e9-8730-7c06d2902dfe\",\"type\":\"LinearScale\"},{\"attributes\":{\"formatter\":{\"id\":\"181f0d7c-4b11-4c6b-880d-70cfdd72d12a\",\"type\":\"BasicTickFormatter\"},\"plot\":{\"id\":\"6cd1a57b-ed41-4d18-b70b-ae8ded072583\",\"subtype\":\"Figure\",\"type\":\"Plot\"},\"ticker\":{\"id\":\"a7366e7f-4890-49fa-92f3-70eb91f55a69\",\"type\":\"BasicTicker\"}},\"id\":\"634915e6-6a16-49c0-a80e-2877f8b77e95\",\"type\":\"LinearAxis\"},{\"attributes\":{\"callback\":null},\"id\":\"8afe76ab-fcb8-4686-9919-61f6184a6b5f\",\"type\":\"DataRange1d\"},{\"attributes\":{},\"id\":\"a7366e7f-4890-49fa-92f3-70eb91f55a69\",\"type\":\"BasicTicker\"},{\"attributes\":{},\"id\":\"90f0af7b-31df-4c1b-9190-c86f7d40d637\",\"type\":\"LinearScale\"},{\"attributes\":{\"formatter\":{\"id\":\"b2ec8745-52fb-4ba6-8605-e3bb540748fd\",\"type\":\"BasicTickFormatter\"},\"plot\":{\"id\":\"6cd1a57b-ed41-4d18-b70b-ae8ded072583\",\"subtype\":\"Figure\",\"type\":\"Plot\"},\"ticker\":{\"id\":\"6acccef9-fd62-481e-ae72-abc957c8a2bc\",\"type\":\"BasicTicker\"}},\"id\":\"763c3677-d4fd-4439-bce2-12f311a0a6cd\",\"type\":\"LinearAxis\"},{\"attributes\":{},\"id\":\"d6af7a99-e2f3-44ac-9a70-575731f332c9\",\"type\":\"LinearScale\"},{\"attributes\":{},\"id\":\"6acccef9-fd62-481e-ae72-abc957c8a2bc\",\"type\":\"BasicTicker\"},{\"attributes\":{},\"id\":\"661a84f8-f31f-422a-afe4-d7236e7ad4a8\",\"type\":\"BasicTickFormatter\"},{\"attributes\":{\"dimension\":1,\"plot\":{\"id\":\"6cd1a57b-ed41-4d18-b70b-ae8ded072583\",\"subtype\":\"Figure\",\"type\":\"Plot\"},\"ticker\":{\"id\":\"6acccef9-fd62-481e-ae72-abc957c8a2bc\",\"type\":\"BasicTicker\"}},\"id\":\"6bccd2e7-bae9-445f-b9c1-052dfaf0d138\",\"type\":\"Grid\"},{\"attributes\":{\"formatter\":{\"id\":\"6c933781-4eb8-43e1-8438-b18c16f8fc3f\",\"type\":\"BasicTickFormatter\"},\"plot\":{\"id\":\"45f647d4-7bb7-44d9-9310-1a7ec797830c\",\"subtype\":\"Figure\",\"type\":\"Plot\"},\"ticker\":{\"id\":\"2888e0fa-2323-4593-a64c-f27f35fffba0\",\"type\":\"BasicTicker\"}},\"id\":\"7468c81f-a0a5-4c3d-b0a3-853221472cec\",\"type\":\"LinearAxis\"},{\"attributes\":{\"fill_alpha\":{\"value\":0.1},\"fill_color\":{\"value\":\"#1f77b4\"},\"line_alpha\":{\"value\":0.1},\"line_color\":{\"value\":\"#1f77b4\"},\"size\":{\"units\":\"screen\",\"value\":20},\"x\":{\"field\":\"x\"},\"y\":{\"field\":\"y\"}},\"id\":\"3cf5bbb0-de29-42ca-87d9-9360714d1132\",\"type\":\"Circle\"},{\"attributes\":{},\"id\":\"2888e0fa-2323-4593-a64c-f27f35fffba0\",\"type\":\"BasicTicker\"},{\"attributes\":{},\"id\":\"b2ec8745-52fb-4ba6-8605-e3bb540748fd\",\"type\":\"BasicTickFormatter\"},{\"attributes\":{\"plot\":{\"id\":\"45f647d4-7bb7-44d9-9310-1a7ec797830c\",\"subtype\":\"Figure\",\"type\":\"Plot\"},\"ticker\":{\"id\":\"2888e0fa-2323-4593-a64c-f27f35fffba0\",\"type\":\"BasicTicker\"}},\"id\":\"0fb0f556-a52c-45f6-9e5b-34941718c9f5\",\"type\":\"Grid\"},{\"attributes\":{\"children\":[{\"id\":\"45f647d4-7bb7-44d9-9310-1a7ec797830c\",\"subtype\":\"Figure\",\"type\":\"Plot\"},{\"id\":\"6cd1a57b-ed41-4d18-b70b-ae8ded072583\",\"subtype\":\"Figure\",\"type\":\"Plot\"}]},\"id\":\"2ec6ea0d-3f17-4c6b-bcf8-2894b199fc81\",\"type\":\"Row\"},{\"attributes\":{\"formatter\":{\"id\":\"661a84f8-f31f-422a-afe4-d7236e7ad4a8\",\"type\":\"BasicTickFormatter\"},\"plot\":{\"id\":\"45f647d4-7bb7-44d9-9310-1a7ec797830c\",\"subtype\":\"Figure\",\"type\":\"Plot\"},\"ticker\":{\"id\":\"20a484d2-21a3-405c-9049-414678d98d12\",\"type\":\"BasicTicker\"}},\"id\":\"ef7d29b2-66f9-48bf-94ef-3304b908afae\",\"type\":\"LinearAxis\"},{\"attributes\":{\"bottom_units\":\"screen\",\"fill_alpha\":{\"value\":0.5},\"fill_color\":{\"value\":\"lightgrey\"},\"left_units\":\"screen\",\"level\":\"overlay\",\"line_alpha\":{\"value\":1.0},\"line_color\":{\"value\":\"black\"},\"line_dash\":[4,4],\"line_width\":{\"value\":2},\"plot\":null,\"render_mode\":\"css\",\"right_units\":\"screen\",\"top_units\":\"screen\"},\"id\":\"046fcc03-c418-412c-9577-3cd677e6e7cd\",\"type\":\"BoxAnnotation\"},{\"attributes\":{},\"id\":\"20a484d2-21a3-405c-9049-414678d98d12\",\"type\":\"BasicTicker\"},{\"attributes\":{},\"id\":\"0567edcf-352c-45f5-8ca5-273e5449f67f\",\"type\":\"PanTool\"},{\"attributes\":{\"dimension\":1,\"plot\":{\"id\":\"45f647d4-7bb7-44d9-9310-1a7ec797830c\",\"subtype\":\"Figure\",\"type\":\"Plot\"},\"ticker\":{\"id\":\"20a484d2-21a3-405c-9049-414678d98d12\",\"type\":\"BasicTicker\"}},\"id\":\"46e84955-8bc5-4849-aea1-1c32309ed622\",\"type\":\"Grid\"},{\"attributes\":{\"source\":{\"id\":\"b8132de6-41e2-4647-b204-be84a9a8fbec\",\"type\":\"ColumnDataSource\"}},\"id\":\"33aacc3b-6a47-497e-b4a2-7130dd5df2b3\",\"type\":\"CDSView\"},{\"attributes\":{\"bottom_units\":\"screen\",\"fill_alpha\":{\"value\":0.5},\"fill_color\":{\"value\":\"lightgrey\"},\"left_units\":\"screen\",\"level\":\"overlay\",\"line_alpha\":{\"value\":1.0},\"line_color\":{\"value\":\"black\"},\"line_dash\":[4,4],\"line_width\":{\"value\":2},\"plot\":null,\"render_mode\":\"css\",\"right_units\":\"screen\",\"top_units\":\"screen\"},\"id\":\"36e8d126-778c-410b-a9c4-5e726a0a5836\",\"type\":\"BoxAnnotation\"},{\"attributes\":{},\"id\":\"d7a2f506-f060-45b8-99ef-80b3189e72aa\",\"type\":\"WheelZoomTool\"},{\"attributes\":{\"overlay\":{\"id\":\"046fcc03-c418-412c-9577-3cd677e6e7cd\",\"type\":\"BoxAnnotation\"}},\"id\":\"585c8ead-eb71-4197-b23c-11f10b79c5b8\",\"type\":\"BoxZoomTool\"},{\"attributes\":{\"fill_color\":{\"value\":\"#1f77b4\"},\"line_color\":{\"value\":\"#1f77b4\"},\"size\":{\"units\":\"screen\",\"value\":20},\"x\":{\"field\":\"x\"},\"y\":{\"field\":\"y\"}},\"id\":\"72b1068c-e34c-4b9e-a13b-7ea26cebd4d6\",\"type\":\"Circle\"},{\"attributes\":{},\"id\":\"e5260547-7e64-4ece-8637-454eb814b19e\",\"type\":\"SaveTool\"},{\"attributes\":{\"below\":[{\"id\":\"634915e6-6a16-49c0-a80e-2877f8b77e95\",\"type\":\"LinearAxis\"}],\"left\":[{\"id\":\"763c3677-d4fd-4439-bce2-12f311a0a6cd\",\"type\":\"LinearAxis\"}],\"min_border\":0,\"plot_height\":250,\"plot_width\":250,\"renderers\":[{\"id\":\"634915e6-6a16-49c0-a80e-2877f8b77e95\",\"type\":\"LinearAxis\"},{\"id\":\"8a3d9ff0-44a8-453f-bc93-0c17a52a3ca6\",\"type\":\"Grid\"},{\"id\":\"763c3677-d4fd-4439-bce2-12f311a0a6cd\",\"type\":\"LinearAxis\"},{\"id\":\"6bccd2e7-bae9-445f-b9c1-052dfaf0d138\",\"type\":\"Grid\"},{\"id\":\"046fcc03-c418-412c-9577-3cd677e6e7cd\",\"type\":\"BoxAnnotation\"},{\"id\":\"401ea507-d204-4776-ae20-d5dbffab687d\",\"type\":\"GlyphRenderer\"}],\"title\":{\"id\":\"73a4efcb-6fad-4e45-bca0-d88cfab6fad0\",\"type\":\"Title\"},\"toolbar\":{\"id\":\"c6e8a66a-849a-455a-848a-9a64ddcf3a31\",\"type\":\"Toolbar\"},\"x_range\":{\"id\":\"e9939049-9934-4084-a5ab-11d4493405c0\",\"type\":\"DataRange1d\"},\"x_scale\":{\"id\":\"6370c4cf-efdc-49e9-8730-7c06d2902dfe\",\"type\":\"LinearScale\"},\"y_range\":{\"id\":\"54ac038a-b2af-41da-b850-cde398cf3233\",\"type\":\"DataRange1d\"},\"y_scale\":{\"id\":\"94ecaddb-0196-4c29-adda-179c3c6837a5\",\"type\":\"LinearScale\"}},\"id\":\"6cd1a57b-ed41-4d18-b70b-ae8ded072583\",\"subtype\":\"Figure\",\"type\":\"Plot\"},{\"attributes\":{},\"id\":\"8f448019-91a4-48ba-9545-e81e943c6a10\",\"type\":\"ResetTool\"},{\"attributes\":{},\"id\":\"5646c940-7573-43b3-9915-9d4f9642a1b9\",\"type\":\"PanTool\"},{\"attributes\":{},\"id\":\"ae29f836-e4ce-4ab5-a03d-346f95d4eb7c\",\"type\":\"HelpTool\"},{\"attributes\":{},\"id\":\"4d6446a3-8a5c-4b49-8f08-f1403bc95c7d\",\"type\":\"WheelZoomTool\"},{\"attributes\":{},\"id\":\"181f0d7c-4b11-4c6b-880d-70cfdd72d12a\",\"type\":\"BasicTickFormatter\"},{\"attributes\":{\"overlay\":{\"id\":\"36e8d126-778c-410b-a9c4-5e726a0a5836\",\"type\":\"BoxAnnotation\"}},\"id\":\"2addd507-1921-44bb-8731-ae1b0df0e088\",\"type\":\"BoxZoomTool\"},{\"attributes\":{},\"id\":\"deaeabe2-5673-4ec0-a75d-f7ded6334fc2\",\"type\":\"SaveTool\"},{\"attributes\":{},\"id\":\"b59669e1-24a7-4a50-8918-b0a5e5ec1036\",\"type\":\"ResetTool\"},{\"attributes\":{},\"id\":\"79e25405-f8f8-42bb-ae62-49de53ec256e\",\"type\":\"HelpTool\"},{\"attributes\":{\"plot\":null,\"text\":\"\"},\"id\":\"73a4efcb-6fad-4e45-bca0-d88cfab6fad0\",\"type\":\"Title\"},{\"attributes\":{\"callback\":null},\"id\":\"e9939049-9934-4084-a5ab-11d4493405c0\",\"type\":\"DataRange1d\"}],\"root_ids\":[\"2ec6ea0d-3f17-4c6b-bcf8-2894b199fc81\"]},\"title\":\"Bokeh Application\",\"version\":\"0.12.13\"}};\n",
       "  var render_items = [{\"docid\":\"f381b81f-ae4d-4742-8b21-efb1366b07d7\",\"elementid\":\"de5389c3-536c-453c-b7cc-5b67d51b44b9\",\"modelid\":\"2ec6ea0d-3f17-4c6b-bcf8-2894b199fc81\",\"notebook_comms_target\":\"cd1d19b8-6b86-4793-8c3a-a8180aae9b4a\"}];\n",
       "  root.Bokeh.embed.embed_items_notebook(docs_json, render_items);\n",
       "\n",
       "  }\n",
       "  if (root.Bokeh !== undefined) {\n",
       "    embed_document(root);\n",
       "  } else {\n",
       "    var attempts = 0;\n",
       "    var timer = setInterval(function(root) {\n",
       "      if (root.Bokeh !== undefined) {\n",
       "        embed_document(root);\n",
       "        clearInterval(timer);\n",
       "      }\n",
       "      attempts++;\n",
       "      if (attempts > 100) {\n",
       "        console.log(\"Bokeh: ERROR: Unable to run BokehJS code because BokehJS library is missing\")\n",
       "        clearInterval(timer);\n",
       "      }\n",
       "    }, 10, root)\n",
       "  }\n",
       "})(window);"
      ],
      "application/vnd.bokehjs_exec.v0+json": ""
     },
     "metadata": {
      "application/vnd.bokehjs_exec.v0+json": {
       "id": "2ec6ea0d-3f17-4c6b-bcf8-2894b199fc81"
      }
     },
     "output_type": "display_data"
    }
   ],
   "source": [
    "p1 = figure(**opts)\n",
    "r1 = p1.circle([1,2,3], [4,5,6], size=20)\n",
    "\n",
    "p2 = figure(**opts)\n",
    "r2 = p2.circle([1,2,3], [4,5,6], size=20)\n",
    "\n",
    "# get a handle to update the shown cell with\n",
    "t = show(row(p1, p2), notebook_handle=True)"
   ]
  },
  {
   "cell_type": "code",
   "execution_count": 4,
   "metadata": {},
   "outputs": [
    {
     "data": {
      "text/html": [
       "<p><code>&lt;Bokeh Notebook handle for <strong>In[3]</strong>&gt;</code></p>"
      ],
      "text/plain": [
       "<bokeh.io.notebook.CommsHandle at 0x288164a5ef0>"
      ]
     },
     "execution_count": 4,
     "metadata": {},
     "output_type": "execute_result"
    }
   ],
   "source": [
    "# the comms handle repr show what cell it can be used to update\n",
    "t"
   ]
  },
  {
   "cell_type": "code",
   "execution_count": 5,
   "metadata": {},
   "outputs": [],
   "source": [
    "# this will update the left plot circle color with an explicit handle\n",
    "r1.glyph.fill_color = \"white\"\n",
    "push_notebook(handle=t)"
   ]
  },
  {
   "cell_type": "code",
   "execution_count": 6,
   "metadata": {},
   "outputs": [],
   "source": [
    "# and this will update the right plot circle color because it was in the last shown cell\n",
    "r2.glyph.fill_color = \"pink\"\n",
    "push_notebook()"
   ]
  },
  {
   "cell_type": "code",
   "execution_count": 7,
   "metadata": {},
   "outputs": [
    {
     "data": {
      "text/html": [
       "\n",
       "<div class=\"bk-root\">\n",
       "    <div class=\"bk-plotdiv\" id=\"368fe9a4-a0f9-42e8-94a6-dfa76d6f20ac\"></div>\n",
       "</div>"
      ]
     },
     "metadata": {},
     "output_type": "display_data"
    },
    {
     "data": {
      "application/javascript": [
       "(function(root) {\n",
       "  function embed_document(root) {\n",
       "    \n",
       "  var docs_json = {\"8e66ce6a-9b64-488a-8c8a-a0800a902176\":{\"roots\":{\"references\":[{\"attributes\":{\"plot\":{\"id\":\"0e046713-9a76-4604-abba-70593f5ff6a8\",\"subtype\":\"Figure\",\"type\":\"Plot\"},\"ticker\":{\"id\":\"6d3217ad-60e7-4d42-9327-7b5989f90d92\",\"type\":\"BasicTicker\"}},\"id\":\"2ba2dcd2-f71e-44cd-a793-1574bc5f2726\",\"type\":\"Grid\"},{\"attributes\":{\"callback\":null,\"column_names\":[\"x\",\"y\"],\"data\":{\"x\":[1,2,3],\"y\":[4,5,6]}},\"id\":\"6db92ecd-473d-4176-93a5-1eac20642640\",\"type\":\"ColumnDataSource\"},{\"attributes\":{\"source\":{\"id\":\"6db92ecd-473d-4176-93a5-1eac20642640\",\"type\":\"ColumnDataSource\"}},\"id\":\"cf86e220-0c54-4d97-8c40-076c2db993bb\",\"type\":\"CDSView\"},{\"attributes\":{\"formatter\":{\"id\":\"67419b25-3f5a-439e-9ae1-f5aafaac3aa6\",\"type\":\"BasicTickFormatter\"},\"plot\":{\"id\":\"0e046713-9a76-4604-abba-70593f5ff6a8\",\"subtype\":\"Figure\",\"type\":\"Plot\"},\"ticker\":{\"id\":\"ac02c282-1c50-4ba1-af93-c797e419f033\",\"type\":\"BasicTicker\"}},\"id\":\"1299912c-da0e-451b-8503-8541f9af0f0e\",\"type\":\"LinearAxis\"},{\"attributes\":{},\"id\":\"cdd60ed5-ed79-4f6a-8011-fdec59836948\",\"type\":\"BasicTickFormatter\"},{\"attributes\":{\"fill_alpha\":{\"value\":0.1},\"fill_color\":{\"value\":\"#1f77b4\"},\"line_alpha\":{\"value\":0.1},\"line_color\":{\"value\":\"#1f77b4\"},\"size\":{\"units\":\"screen\",\"value\":20},\"x\":{\"field\":\"x\"},\"y\":{\"field\":\"y\"}},\"id\":\"973c55ab-a4ff-40d2-bfad-69e13be40ca1\",\"type\":\"Circle\"},{\"attributes\":{},\"id\":\"50f2b26d-5730-4e42-aa64-53ca16313820\",\"type\":\"LinearScale\"},{\"attributes\":{\"plot\":null,\"text\":\"\"},\"id\":\"18b202bb-a0fd-40ac-b2cb-4c88c2527308\",\"type\":\"Title\"},{\"attributes\":{},\"id\":\"ac02c282-1c50-4ba1-af93-c797e419f033\",\"type\":\"BasicTicker\"},{\"attributes\":{\"dimension\":1,\"plot\":{\"id\":\"0e046713-9a76-4604-abba-70593f5ff6a8\",\"subtype\":\"Figure\",\"type\":\"Plot\"},\"ticker\":{\"id\":\"ac02c282-1c50-4ba1-af93-c797e419f033\",\"type\":\"BasicTicker\"}},\"id\":\"cd2bb8cc-ed5b-44cb-a5fd-036fe0cea80f\",\"type\":\"Grid\"},{\"attributes\":{\"data_source\":{\"id\":\"6db92ecd-473d-4176-93a5-1eac20642640\",\"type\":\"ColumnDataSource\"},\"glyph\":{\"id\":\"e19afa5f-927a-45ff-ae59-41eb0e5e55c5\",\"type\":\"Circle\"},\"hover_glyph\":null,\"muted_glyph\":null,\"nonselection_glyph\":{\"id\":\"973c55ab-a4ff-40d2-bfad-69e13be40ca1\",\"type\":\"Circle\"},\"selection_glyph\":null,\"view\":{\"id\":\"cf86e220-0c54-4d97-8c40-076c2db993bb\",\"type\":\"CDSView\"}},\"id\":\"7a30dd0a-7a59-461c-9399-69f62ae5e0ad\",\"type\":\"GlyphRenderer\"},{\"attributes\":{\"fill_color\":{\"value\":\"#1f77b4\"},\"line_color\":{\"value\":\"#1f77b4\"},\"size\":{\"units\":\"screen\",\"value\":20},\"x\":{\"field\":\"x\"},\"y\":{\"field\":\"y\"}},\"id\":\"e19afa5f-927a-45ff-ae59-41eb0e5e55c5\",\"type\":\"Circle\"},{\"attributes\":{},\"id\":\"67419b25-3f5a-439e-9ae1-f5aafaac3aa6\",\"type\":\"BasicTickFormatter\"},{\"attributes\":{\"bottom_units\":\"screen\",\"fill_alpha\":{\"value\":0.5},\"fill_color\":{\"value\":\"lightgrey\"},\"left_units\":\"screen\",\"level\":\"overlay\",\"line_alpha\":{\"value\":1.0},\"line_color\":{\"value\":\"black\"},\"line_dash\":[4,4],\"line_width\":{\"value\":2},\"plot\":null,\"render_mode\":\"css\",\"right_units\":\"screen\",\"top_units\":\"screen\"},\"id\":\"ca630483-c89e-44b2-9a3d-d2d42f14d32a\",\"type\":\"BoxAnnotation\"},{\"attributes\":{\"below\":[{\"id\":\"d9dd6ae8-632a-44d7-b24c-42c4c5f1da48\",\"type\":\"LinearAxis\"}],\"left\":[{\"id\":\"1299912c-da0e-451b-8503-8541f9af0f0e\",\"type\":\"LinearAxis\"}],\"min_border\":0,\"plot_height\":250,\"plot_width\":250,\"renderers\":[{\"id\":\"d9dd6ae8-632a-44d7-b24c-42c4c5f1da48\",\"type\":\"LinearAxis\"},{\"id\":\"2ba2dcd2-f71e-44cd-a793-1574bc5f2726\",\"type\":\"Grid\"},{\"id\":\"1299912c-da0e-451b-8503-8541f9af0f0e\",\"type\":\"LinearAxis\"},{\"id\":\"cd2bb8cc-ed5b-44cb-a5fd-036fe0cea80f\",\"type\":\"Grid\"},{\"id\":\"ca630483-c89e-44b2-9a3d-d2d42f14d32a\",\"type\":\"BoxAnnotation\"},{\"id\":\"7a30dd0a-7a59-461c-9399-69f62ae5e0ad\",\"type\":\"GlyphRenderer\"}],\"title\":{\"id\":\"18b202bb-a0fd-40ac-b2cb-4c88c2527308\",\"type\":\"Title\"},\"toolbar\":{\"id\":\"a3bc49cb-00a2-42c5-b89d-60fec6933138\",\"type\":\"Toolbar\"},\"x_range\":{\"id\":\"709c56f6-26d7-4d8b-96de-a567299f91dd\",\"type\":\"DataRange1d\"},\"x_scale\":{\"id\":\"1f0a90f7-77a1-4eb9-b041-842fa1ed59e4\",\"type\":\"LinearScale\"},\"y_range\":{\"id\":\"1b3aed9e-7ae1-4b08-9e77-75f7a8b91047\",\"type\":\"DataRange1d\"},\"y_scale\":{\"id\":\"50f2b26d-5730-4e42-aa64-53ca16313820\",\"type\":\"LinearScale\"}},\"id\":\"0e046713-9a76-4604-abba-70593f5ff6a8\",\"subtype\":\"Figure\",\"type\":\"Plot\"},{\"attributes\":{},\"id\":\"65435c74-06b0-48a9-b192-405c66e2ff75\",\"type\":\"PanTool\"},{\"attributes\":{\"active_drag\":\"auto\",\"active_inspect\":\"auto\",\"active_scroll\":\"auto\",\"active_tap\":\"auto\",\"tools\":[{\"id\":\"65435c74-06b0-48a9-b192-405c66e2ff75\",\"type\":\"PanTool\"},{\"id\":\"8481e3b1-52f0-43ec-96ec-a46e617f919f\",\"type\":\"WheelZoomTool\"},{\"id\":\"d5512ae6-635d-481d-9709-223d7d0fa662\",\"type\":\"BoxZoomTool\"},{\"id\":\"bc81c926-770f-44b7-890b-3bb78138e16f\",\"type\":\"SaveTool\"},{\"id\":\"bf8c8726-1c35-45e2-a566-ac0ddcfd9840\",\"type\":\"ResetTool\"},{\"id\":\"5e1061c5-f99d-4612-ba88-d7638f491d4e\",\"type\":\"HelpTool\"}]},\"id\":\"a3bc49cb-00a2-42c5-b89d-60fec6933138\",\"type\":\"Toolbar\"},{\"attributes\":{},\"id\":\"8481e3b1-52f0-43ec-96ec-a46e617f919f\",\"type\":\"WheelZoomTool\"},{\"attributes\":{\"callback\":null},\"id\":\"709c56f6-26d7-4d8b-96de-a567299f91dd\",\"type\":\"DataRange1d\"},{\"attributes\":{\"overlay\":{\"id\":\"ca630483-c89e-44b2-9a3d-d2d42f14d32a\",\"type\":\"BoxAnnotation\"}},\"id\":\"d5512ae6-635d-481d-9709-223d7d0fa662\",\"type\":\"BoxZoomTool\"},{\"attributes\":{},\"id\":\"6d3217ad-60e7-4d42-9327-7b5989f90d92\",\"type\":\"BasicTicker\"},{\"attributes\":{},\"id\":\"bc81c926-770f-44b7-890b-3bb78138e16f\",\"type\":\"SaveTool\"},{\"attributes\":{\"callback\":null},\"id\":\"1b3aed9e-7ae1-4b08-9e77-75f7a8b91047\",\"type\":\"DataRange1d\"},{\"attributes\":{},\"id\":\"bf8c8726-1c35-45e2-a566-ac0ddcfd9840\",\"type\":\"ResetTool\"},{\"attributes\":{},\"id\":\"1f0a90f7-77a1-4eb9-b041-842fa1ed59e4\",\"type\":\"LinearScale\"},{\"attributes\":{},\"id\":\"5e1061c5-f99d-4612-ba88-d7638f491d4e\",\"type\":\"HelpTool\"},{\"attributes\":{\"formatter\":{\"id\":\"cdd60ed5-ed79-4f6a-8011-fdec59836948\",\"type\":\"BasicTickFormatter\"},\"plot\":{\"id\":\"0e046713-9a76-4604-abba-70593f5ff6a8\",\"subtype\":\"Figure\",\"type\":\"Plot\"},\"ticker\":{\"id\":\"6d3217ad-60e7-4d42-9327-7b5989f90d92\",\"type\":\"BasicTicker\"}},\"id\":\"d9dd6ae8-632a-44d7-b24c-42c4c5f1da48\",\"type\":\"LinearAxis\"}],\"root_ids\":[\"0e046713-9a76-4604-abba-70593f5ff6a8\"]},\"title\":\"Bokeh Application\",\"version\":\"0.12.13\"}};\n",
       "  var render_items = [{\"docid\":\"8e66ce6a-9b64-488a-8c8a-a0800a902176\",\"elementid\":\"368fe9a4-a0f9-42e8-94a6-dfa76d6f20ac\",\"modelid\":\"0e046713-9a76-4604-abba-70593f5ff6a8\",\"notebook_comms_target\":\"7091d657-fe7f-4f6f-be5d-03c4333b0fc5\"}];\n",
       "  root.Bokeh.embed.embed_items_notebook(docs_json, render_items);\n",
       "\n",
       "  }\n",
       "  if (root.Bokeh !== undefined) {\n",
       "    embed_document(root);\n",
       "  } else {\n",
       "    var attempts = 0;\n",
       "    var timer = setInterval(function(root) {\n",
       "      if (root.Bokeh !== undefined) {\n",
       "        embed_document(root);\n",
       "        clearInterval(timer);\n",
       "      }\n",
       "      attempts++;\n",
       "      if (attempts > 100) {\n",
       "        console.log(\"Bokeh: ERROR: Unable to run BokehJS code because BokehJS library is missing\")\n",
       "        clearInterval(timer);\n",
       "      }\n",
       "    }, 10, root)\n",
       "  }\n",
       "})(window);"
      ],
      "application/vnd.bokehjs_exec.v0+json": ""
     },
     "metadata": {
      "application/vnd.bokehjs_exec.v0+json": {
       "id": "0e046713-9a76-4604-abba-70593f5ff6a8"
      }
     },
     "output_type": "display_data"
    }
   ],
   "source": [
    "p3 = figure(**opts)\n",
    "r3 = p3.circle([1,2,3], [4,5,6], size=20)\n",
    "\n",
    "# get a handle to update the shown cell with\n",
    "t2 = show(p3, notebook_handle=True) "
   ]
  },
  {
   "cell_type": "code",
   "execution_count": 8,
   "metadata": {},
   "outputs": [
    {
     "data": {
      "text/html": [
       "<p><code>&lt;Bokeh Notebook handle for <strong>In[7]</strong>&gt;</code></p>"
      ],
      "text/plain": [
       "<bokeh.io.notebook.CommsHandle at 0x288164fd550>"
      ]
     },
     "execution_count": 8,
     "metadata": {},
     "output_type": "execute_result"
    }
   ],
   "source": [
    "# show which cell t2 handles\n",
    "t2"
   ]
  },
  {
   "cell_type": "code",
   "execution_count": 9,
   "metadata": {},
   "outputs": [],
   "source": [
    "# this updates the immediately previous cell with an explicit handle\n",
    "r3.glyph.fill_color = \"orange\"\n",
    "push_notebook(handle=t2)"
   ]
  },
  {
   "cell_type": "code",
   "execution_count": 10,
   "metadata": {},
   "outputs": [],
   "source": [
    "# this updates the left plot at the top with an explicit handle\n",
    "r1.glyph.fill_color = \"orange\"\n",
    "push_notebook(handle=t)"
   ]
  },
  {
   "cell_type": "code",
   "execution_count": 11,
   "metadata": {},
   "outputs": [
    {
     "data": {
      "text/html": [
       "\n",
       "<div class=\"bk-root\">\n",
       "    <div class=\"bk-plotdiv\" id=\"3b511ac3-402e-437e-98ef-6eb1bb4d7388\"></div>\n",
       "</div>"
      ]
     },
     "metadata": {},
     "output_type": "display_data"
    },
    {
     "data": {
      "application/javascript": [
       "(function(root) {\n",
       "  function embed_document(root) {\n",
       "    \n",
       "  var docs_json = {\"2c4b5153-3258-4b7a-a5e2-ba1d1b417c0b\":{\"roots\":{\"references\":[{\"attributes\":{\"bottom_units\":\"screen\",\"fill_alpha\":{\"value\":0.5},\"fill_color\":{\"value\":\"lightgrey\"},\"left_units\":\"screen\",\"level\":\"overlay\",\"line_alpha\":{\"value\":1.0},\"line_color\":{\"value\":\"black\"},\"line_dash\":[4,4],\"line_width\":{\"value\":2},\"plot\":null,\"render_mode\":\"css\",\"right_units\":\"screen\",\"top_units\":\"screen\"},\"id\":\"046fcc03-c418-412c-9577-3cd677e6e7cd\",\"type\":\"BoxAnnotation\"},{\"attributes\":{},\"id\":\"0567edcf-352c-45f5-8ca5-273e5449f67f\",\"type\":\"PanTool\"},{\"attributes\":{\"source\":{\"id\":\"b8132de6-41e2-4647-b204-be84a9a8fbec\",\"type\":\"ColumnDataSource\"}},\"id\":\"33aacc3b-6a47-497e-b4a2-7130dd5df2b3\",\"type\":\"CDSView\"},{\"attributes\":{\"fill_color\":{\"value\":\"pink\"},\"line_color\":{\"value\":\"#1f77b4\"},\"size\":{\"units\":\"screen\",\"value\":20},\"x\":{\"field\":\"x\"},\"y\":{\"field\":\"y\"}},\"id\":\"7cf3ff10-5c32-4013-a154-e5c79b4b9599\",\"type\":\"Circle\"},{\"attributes\":{},\"id\":\"d7a2f506-f060-45b8-99ef-80b3189e72aa\",\"type\":\"WheelZoomTool\"},{\"attributes\":{\"active_drag\":\"auto\",\"active_inspect\":\"auto\",\"active_scroll\":\"auto\",\"active_tap\":\"auto\",\"tools\":[{\"id\":\"0567edcf-352c-45f5-8ca5-273e5449f67f\",\"type\":\"PanTool\"},{\"id\":\"d7a2f506-f060-45b8-99ef-80b3189e72aa\",\"type\":\"WheelZoomTool\"},{\"id\":\"585c8ead-eb71-4197-b23c-11f10b79c5b8\",\"type\":\"BoxZoomTool\"},{\"id\":\"e5260547-7e64-4ece-8637-454eb814b19e\",\"type\":\"SaveTool\"},{\"id\":\"8f448019-91a4-48ba-9545-e81e943c6a10\",\"type\":\"ResetTool\"},{\"id\":\"ae29f836-e4ce-4ab5-a03d-346f95d4eb7c\",\"type\":\"HelpTool\"}]},\"id\":\"c6e8a66a-849a-455a-848a-9a64ddcf3a31\",\"type\":\"Toolbar\"},{\"attributes\":{\"overlay\":{\"id\":\"046fcc03-c418-412c-9577-3cd677e6e7cd\",\"type\":\"BoxAnnotation\"}},\"id\":\"585c8ead-eb71-4197-b23c-11f10b79c5b8\",\"type\":\"BoxZoomTool\"},{\"attributes\":{},\"id\":\"94ecaddb-0196-4c29-adda-179c3c6837a5\",\"type\":\"LinearScale\"},{\"attributes\":{},\"id\":\"e5260547-7e64-4ece-8637-454eb814b19e\",\"type\":\"SaveTool\"},{\"attributes\":{\"callback\":null,\"column_names\":[\"x\",\"y\"],\"data\":{\"x\":[1,2,3],\"y\":[4,5,6]}},\"id\":\"b8132de6-41e2-4647-b204-be84a9a8fbec\",\"type\":\"ColumnDataSource\"},{\"attributes\":{\"below\":[{\"id\":\"634915e6-6a16-49c0-a80e-2877f8b77e95\",\"type\":\"LinearAxis\"}],\"left\":[{\"id\":\"763c3677-d4fd-4439-bce2-12f311a0a6cd\",\"type\":\"LinearAxis\"}],\"min_border\":0,\"plot_height\":250,\"plot_width\":250,\"renderers\":[{\"id\":\"634915e6-6a16-49c0-a80e-2877f8b77e95\",\"type\":\"LinearAxis\"},{\"id\":\"8a3d9ff0-44a8-453f-bc93-0c17a52a3ca6\",\"type\":\"Grid\"},{\"id\":\"763c3677-d4fd-4439-bce2-12f311a0a6cd\",\"type\":\"LinearAxis\"},{\"id\":\"6bccd2e7-bae9-445f-b9c1-052dfaf0d138\",\"type\":\"Grid\"},{\"id\":\"046fcc03-c418-412c-9577-3cd677e6e7cd\",\"type\":\"BoxAnnotation\"},{\"id\":\"401ea507-d204-4776-ae20-d5dbffab687d\",\"type\":\"GlyphRenderer\"}],\"title\":{\"id\":\"73a4efcb-6fad-4e45-bca0-d88cfab6fad0\",\"type\":\"Title\"},\"toolbar\":{\"id\":\"c6e8a66a-849a-455a-848a-9a64ddcf3a31\",\"type\":\"Toolbar\"},\"x_range\":{\"id\":\"e9939049-9934-4084-a5ab-11d4493405c0\",\"type\":\"DataRange1d\"},\"x_scale\":{\"id\":\"6370c4cf-efdc-49e9-8730-7c06d2902dfe\",\"type\":\"LinearScale\"},\"y_range\":{\"id\":\"54ac038a-b2af-41da-b850-cde398cf3233\",\"type\":\"DataRange1d\"},\"y_scale\":{\"id\":\"94ecaddb-0196-4c29-adda-179c3c6837a5\",\"type\":\"LinearScale\"}},\"id\":\"6cd1a57b-ed41-4d18-b70b-ae8ded072583\",\"subtype\":\"Figure\",\"type\":\"Plot\"},{\"attributes\":{},\"id\":\"8f448019-91a4-48ba-9545-e81e943c6a10\",\"type\":\"ResetTool\"},{\"attributes\":{\"data_source\":{\"id\":\"b8132de6-41e2-4647-b204-be84a9a8fbec\",\"type\":\"ColumnDataSource\"},\"glyph\":{\"id\":\"7cf3ff10-5c32-4013-a154-e5c79b4b9599\",\"type\":\"Circle\"},\"hover_glyph\":null,\"muted_glyph\":null,\"nonselection_glyph\":{\"id\":\"3cf5bbb0-de29-42ca-87d9-9360714d1132\",\"type\":\"Circle\"},\"selection_glyph\":null,\"view\":{\"id\":\"33aacc3b-6a47-497e-b4a2-7130dd5df2b3\",\"type\":\"CDSView\"}},\"id\":\"401ea507-d204-4776-ae20-d5dbffab687d\",\"type\":\"GlyphRenderer\"},{\"attributes\":{},\"id\":\"ae29f836-e4ce-4ab5-a03d-346f95d4eb7c\",\"type\":\"HelpTool\"},{\"attributes\":{\"plot\":{\"id\":\"6cd1a57b-ed41-4d18-b70b-ae8ded072583\",\"subtype\":\"Figure\",\"type\":\"Plot\"},\"ticker\":{\"id\":\"a7366e7f-4890-49fa-92f3-70eb91f55a69\",\"type\":\"BasicTicker\"}},\"id\":\"8a3d9ff0-44a8-453f-bc93-0c17a52a3ca6\",\"type\":\"Grid\"},{\"attributes\":{\"callback\":null},\"id\":\"54ac038a-b2af-41da-b850-cde398cf3233\",\"type\":\"DataRange1d\"},{\"attributes\":{},\"id\":\"181f0d7c-4b11-4c6b-880d-70cfdd72d12a\",\"type\":\"BasicTickFormatter\"},{\"attributes\":{},\"id\":\"6370c4cf-efdc-49e9-8730-7c06d2902dfe\",\"type\":\"LinearScale\"},{\"attributes\":{\"formatter\":{\"id\":\"181f0d7c-4b11-4c6b-880d-70cfdd72d12a\",\"type\":\"BasicTickFormatter\"},\"plot\":{\"id\":\"6cd1a57b-ed41-4d18-b70b-ae8ded072583\",\"subtype\":\"Figure\",\"type\":\"Plot\"},\"ticker\":{\"id\":\"a7366e7f-4890-49fa-92f3-70eb91f55a69\",\"type\":\"BasicTicker\"}},\"id\":\"634915e6-6a16-49c0-a80e-2877f8b77e95\",\"type\":\"LinearAxis\"},{\"attributes\":{},\"id\":\"a7366e7f-4890-49fa-92f3-70eb91f55a69\",\"type\":\"BasicTicker\"},{\"attributes\":{\"formatter\":{\"id\":\"b2ec8745-52fb-4ba6-8605-e3bb540748fd\",\"type\":\"BasicTickFormatter\"},\"plot\":{\"id\":\"6cd1a57b-ed41-4d18-b70b-ae8ded072583\",\"subtype\":\"Figure\",\"type\":\"Plot\"},\"ticker\":{\"id\":\"6acccef9-fd62-481e-ae72-abc957c8a2bc\",\"type\":\"BasicTicker\"}},\"id\":\"763c3677-d4fd-4439-bce2-12f311a0a6cd\",\"type\":\"LinearAxis\"},{\"attributes\":{},\"id\":\"6acccef9-fd62-481e-ae72-abc957c8a2bc\",\"type\":\"BasicTicker\"},{\"attributes\":{\"dimension\":1,\"plot\":{\"id\":\"6cd1a57b-ed41-4d18-b70b-ae8ded072583\",\"subtype\":\"Figure\",\"type\":\"Plot\"},\"ticker\":{\"id\":\"6acccef9-fd62-481e-ae72-abc957c8a2bc\",\"type\":\"BasicTicker\"}},\"id\":\"6bccd2e7-bae9-445f-b9c1-052dfaf0d138\",\"type\":\"Grid\"},{\"attributes\":{\"fill_alpha\":{\"value\":0.1},\"fill_color\":{\"value\":\"#1f77b4\"},\"line_alpha\":{\"value\":0.1},\"line_color\":{\"value\":\"#1f77b4\"},\"size\":{\"units\":\"screen\",\"value\":20},\"x\":{\"field\":\"x\"},\"y\":{\"field\":\"y\"}},\"id\":\"3cf5bbb0-de29-42ca-87d9-9360714d1132\",\"type\":\"Circle\"},{\"attributes\":{},\"id\":\"b2ec8745-52fb-4ba6-8605-e3bb540748fd\",\"type\":\"BasicTickFormatter\"},{\"attributes\":{\"plot\":null,\"text\":\"\"},\"id\":\"73a4efcb-6fad-4e45-bca0-d88cfab6fad0\",\"type\":\"Title\"},{\"attributes\":{\"callback\":null},\"id\":\"e9939049-9934-4084-a5ab-11d4493405c0\",\"type\":\"DataRange1d\"}],\"root_ids\":[\"6cd1a57b-ed41-4d18-b70b-ae8ded072583\"]},\"title\":\"Bokeh Application\",\"version\":\"0.12.13\"}};\n",
       "  var render_items = [{\"docid\":\"2c4b5153-3258-4b7a-a5e2-ba1d1b417c0b\",\"elementid\":\"3b511ac3-402e-437e-98ef-6eb1bb4d7388\",\"modelid\":\"6cd1a57b-ed41-4d18-b70b-ae8ded072583\",\"notebook_comms_target\":\"72ec2c6a-56a6-406a-88cd-135ded61ef3d\"}];\n",
       "  root.Bokeh.embed.embed_items_notebook(docs_json, render_items);\n",
       "\n",
       "  }\n",
       "  if (root.Bokeh !== undefined) {\n",
       "    embed_document(root);\n",
       "  } else {\n",
       "    var attempts = 0;\n",
       "    var timer = setInterval(function(root) {\n",
       "      if (root.Bokeh !== undefined) {\n",
       "        embed_document(root);\n",
       "        clearInterval(timer);\n",
       "      }\n",
       "      attempts++;\n",
       "      if (attempts > 100) {\n",
       "        console.log(\"Bokeh: ERROR: Unable to run BokehJS code because BokehJS library is missing\")\n",
       "        clearInterval(timer);\n",
       "      }\n",
       "    }, 10, root)\n",
       "  }\n",
       "})(window);"
      ],
      "application/vnd.bokehjs_exec.v0+json": ""
     },
     "metadata": {
      "application/vnd.bokehjs_exec.v0+json": {
       "id": "6cd1a57b-ed41-4d18-b70b-ae8ded072583"
      }
     },
     "output_type": "display_data"
    }
   ],
   "source": [
    "# get a handle to update the shown cell with\n",
    "t3 = show(p2, notebook_handle=True)"
   ]
  },
  {
   "cell_type": "code",
   "execution_count": 12,
   "metadata": {},
   "outputs": [],
   "source": [
    "# this will update the immediately previous plot circle color because it was in the last shown cell\n",
    "r2.glyph.fill_color = \"red\"\n",
    "push_notebook()"
   ]
  },
  {
   "cell_type": "code",
   "execution_count": 13,
   "metadata": {},
   "outputs": [],
   "source": [
    "# this will update the immediately previous plot circle color with an explicit handle\n",
    "r2.glyph.fill_color = \"blue\"\n",
    "push_notebook(handle=t3)"
   ]
  }
 ],
 "metadata": {
  "kernelspec": {
   "display_name": "Python 3",
   "language": "python",
   "name": "python3"
  },
  "language_info": {
   "codemirror_mode": {
    "name": "ipython",
    "version": 3
   },
   "file_extension": ".py",
   "mimetype": "text/x-python",
   "name": "python",
   "nbconvert_exporter": "python",
   "pygments_lexer": "ipython3",
   "version": "3.6.4"
  }
 },
 "nbformat": 4,
 "nbformat_minor": 1
}
